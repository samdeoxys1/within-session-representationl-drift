{
 "cells": [
  {
   "cell_type": "code",
   "execution_count": 1,
   "id": "41af9e17",
   "metadata": {},
   "outputs": [
    {
     "name": "stdout",
     "output_type": "stream",
     "text": [
      "67 sessions!\n",
      "67 sessions!\n"
     ]
    },
    {
     "name": "stderr",
     "output_type": "stream",
     "text": [
      "/mnt/home/szheng/ceph/envs/jax/lib/python3.9/site-packages/outdated/utils.py:14: OutdatedPackageWarning: The package pingouin is out of date. Your version is 0.5.2, the latest is 0.5.4.\n",
      "Set the environment variable OUTDATED_IGNORE=1 to disable these warnings.\n",
      "  return warn(\n"
     ]
    }
   ],
   "source": [
    "import numpy as np\n",
    "import scipy\n",
    "import sklearn\n",
    "from sklearn.decomposition import NMF\n",
    "from sklearn.cluster import KMeans\n",
    "from sklearn.mixture import GaussianMixture,BayesianGaussianMixture\n",
    "\n",
    "import pandas as pd\n",
    "\n",
    "import matplotlib.pyplot as plt\n",
    "import seaborn as sns\n",
    "import matplotlib as mpl\n",
    "mpl.rcParams['image.cmap'] = 'Greys'\n",
    "mpl.rcParams['axes.spines.right'] = False\n",
    "mpl.rcParams['axes.spines.top'] = False\n",
    "\n",
    "\n",
    "\n",
    "import sys,os,pdb,copy,pickle\n",
    "from importlib import reload\n",
    "# import pynapple as nap\n",
    "\n",
    "sys.path.append('/mnt/home/szheng/projects/seq_detection2/code')\n",
    "sys.path.append('/mnt/home/szheng/projects/util_code')\n",
    "sys.path.append('/mnt/home/szheng/projects/nmf_analysis')\n",
    "sys.path.append('/mnt/home/szheng/projects/nmf_analysis/scripts')\n",
    "sys.path.append('/mnt/home/szheng/projects/cluster_spikes')\n",
    "sys.path.append('/mnt/home/szheng/projects/place_variability/code')\n",
    "import data_prep_new as dpn\n",
    "import place_cell_analysis as pa\n",
    "import plot_helper as ph\n",
    "import preprocess as prep\n",
    "import nmf_analysis as na\n",
    "import nmf_plot as nmfp\n",
    "reload(na)\n",
    "\n",
    "import raster_new as rn\n",
    "import data_prep_pyn as dpp\n",
    "\n",
    "\n",
    "import change_point_analysis as cpa\n",
    "import change_point_plot as cpp\n",
    "\n",
    "import place_field_analysis as pf\n",
    "\n",
    "import switch_analysis_one_session as saos\n",
    "reload(saos)\n",
    "\n",
    "import process_central_arm as pca \n",
    "import change_point_analysis_central_arm_seperate as cpacas\n",
    "\n",
    "import misc\n",
    "reload(misc)\n",
    "from misc import get_nth_key, get_nth_val"
   ]
  },
  {
   "cell_type": "code",
   "execution_count": 2,
   "id": "7d6818f5",
   "metadata": {},
   "outputs": [],
   "source": [
    "import matplotlib.pyplot as plt\n",
    "\n",
    "# Set default figure size\n",
    "plt.rcParams['figure.figsize'] = (6, 4)  # width, height in inches\n",
    "\n",
    "# Set default font sizes\n",
    "plt.rcParams['font.size'] = 15  # Default font size\n",
    "plt.rcParams['axes.titlesize'] = 15  # Title font size\n",
    "plt.rcParams['axes.labelsize'] = 15  # Label font size\n",
    "plt.rcParams['xtick.labelsize'] = 15  # x-axis tick label font size\n",
    "plt.rcParams['ytick.labelsize'] = 15  # y-axis tick label font size\n",
    "plt.rcParams['legend.fontsize'] = 15  # Legend font size\n",
    "mpl.rcParams['image.cmap'] = 'Greys'\n",
    "mpl.rcParams['axes.spines.right'] = False\n",
    "mpl.rcParams['axes.spines.top'] = False"
   ]
  },
  {
   "cell_type": "code",
   "execution_count": 3,
   "id": "f306d36f",
   "metadata": {},
   "outputs": [],
   "source": [
    "import matplotlib\n",
    "matplotlib.rcParams['svg.fonttype'] = 'none'"
   ]
  },
  {
   "cell_type": "code",
   "execution_count": 4,
   "id": "6eb6cca3",
   "metadata": {},
   "outputs": [
    {
     "data": {
      "text/plain": [
       "'/mnt/home/szheng/ceph/place_variability/data/paper'"
      ]
     },
     "execution_count": 4,
     "metadata": {},
     "output_type": "execute_result"
    }
   ],
   "source": [
    "\n",
    "figdir = '/mnt/home/szheng/ceph/place_variability/fig/paper/suppfigure_continuous_vs_discrete_noavgpopdrift'\n",
    "misc.get_or_create_subdir(figdir)\n",
    "data_dir = '/mnt/home/szheng/ceph/place_variability/data/paper'\n",
    "misc.get_or_create_subdir(data_dir)\n"
   ]
  },
  {
   "cell_type": "code",
   "execution_count": 5,
   "id": "75cb352e",
   "metadata": {},
   "outputs": [],
   "source": [
    "import database\n",
    "db = database.db\n",
    "\n",
    "subdb = db.query('owner==\"roman\"').sort_values('n_pyr_putative',ascending=False)\n",
    "subdb = subdb.query('ntrials>=20&n_neurons>=50')\n",
    "to_exclude_sess = ['e16_3m2_211211']\n",
    "subdb=subdb.loc[~subdb['sess_name'].isin(to_exclude_sess)]\n",
    "\n",
    "\n",
    "import pf_recombine_central as pfrc\n",
    "import fr_map_one_session as fmos\n",
    "import switch_detection_one_session as sdos\n",
    "import get_all_switch_add_metrics as gasam\n",
    "\n",
    "import preprocess_one_session as prepos"
   ]
  },
  {
   "cell_type": "code",
   "execution_count": 6,
   "id": "e8a33800",
   "metadata": {},
   "outputs": [],
   "source": [
    "fn = 'prepped_data_agg.p'\n",
    "fn_full = os.path.join(data_dir,fn)\n",
    "prepped_data_agg = pickle.load(open(fn_full,'rb'))\n",
    "\n",
    "all_fields_recombined_all = prepped_data_agg['all_fields_recombined_all']\n",
    "pf_params_recombined_all=  prepped_data_agg['pf_params_recombined_all']\n",
    "fr_map_trial_df_all= prepped_data_agg['fr_map_trial_df_all']\n",
    "occu_map_all = prepped_data_agg['occu_map_all']\n",
    "fr_map_all = prepped_data_agg['fr_map_all']\n",
    "\n",
    "pval_all = prepped_data_agg['pval_all']\n",
    "X_pwc_all = prepped_data_agg['X_pwc_all']\n",
    "X_raw_all = prepped_data_agg['X_raw_all']\n",
    "changes_df_all = prepped_data_agg['changes_df_all']\n",
    "var_res_all_test = prepped_data_agg['var_res_all']\n",
    "# corr_all = prepped_data_agg['corr_all']\n",
    "all_sw_d_all = prepped_data_agg['all_sw_d_all']\n",
    "all_sw_with_metrics_d_all = prepped_data_agg['all_sw_with_metrics_d_all']\n",
    "best_n_all_test = prepped_data_agg['best_n_all']\n",
    "spk_beh_df_all = prepped_data_agg['spk_beh_df_all']\n",
    "\n",
    "# pf_params_all = prepped_data_agg['pf_params_all']\n",
    "# all_fields_all = prepped_data_agg['all_fields_all']\n",
    "\n",
    "ntrials_per_tt=fr_map_trial_df_all.groupby(level=(0,1,2,3)).apply(lambda x:x.dropna(axis=1,how='all').shape[1])\n",
    "ntrials_mask = ntrials_per_tt.groupby(level=(0,1,2)).apply(lambda x:(x>=7).all()) \n",
    "\n"
   ]
  },
  {
   "cell_type": "code",
   "execution_count": 7,
   "id": "4b03c4f3",
   "metadata": {},
   "outputs": [],
   "source": [
    "savefn_full = os.path.join(data_dir,'per_field_metrics_shtest_with_1cp.p')\n",
    "# pickle.dump(per_field_metrics_all,open(savefn_full,'wb'))\n",
    "per_field_metrics_all=pickle.load(open(savefn_full,'rb'))"
   ]
  },
  {
   "cell_type": "markdown",
   "id": "0ea37d1d",
   "metadata": {},
   "source": [
    "# try change point model on population and visualize"
   ]
  },
  {
   "cell_type": "code",
   "execution_count": 680,
   "id": "bb8eb6ca",
   "metadata": {},
   "outputs": [
    {
     "name": "stderr",
     "output_type": "stream",
     "text": [
      "/tmp/ipykernel_1395310/3138230266.py:5: PerformanceWarning: indexing past lexsort depth may impact performance.\n",
      "  fr_map_trial_df_onett=fr_map_trial_df_all.loc[(ani,sess)].loc[(ti,tt),:]\n"
     ]
    }
   ],
   "source": [
    "ani,sess=subdb.iloc[0][['animal_name.1','sess_name']]\n",
    "\n",
    "ti=0,\n",
    "tt=0\n",
    "fr_map_trial_df_onett=fr_map_trial_df_all.loc[(ani,sess)].loc[(ti,tt),:]"
   ]
  },
  {
   "cell_type": "code",
   "execution_count": 681,
   "id": "0d482659",
   "metadata": {},
   "outputs": [],
   "source": [
    "import ruptures as rpt\n",
    "from sklearn.decomposition import PCA"
   ]
  },
  {
   "cell_type": "code",
   "execution_count": 682,
   "id": "f2db4a43",
   "metadata": {},
   "outputs": [],
   "source": [
    "xx=fr_map_trial_df_onett.dropna(axis=1,how='all').droplevel((0,1))\n",
    "zscore_cell = True\n",
    "std_max=xx.groupby(level=0).apply(lambda x: np.std(x.values)).max()\n",
    "max_std_sc = 0.1 # adjusted such that more than 1/3 can achieve a var of 1, but others will be scaled\n",
    "zscore_func = lambda x:(x - np.mean(x.values)) / np.maximum(np.std(x.values),max_std_sc*std_max)\n",
    "if zscore_cell:\n",
    "    xx=xx.groupby(level=0).apply(lambda x:zscore_func(x))\n",
    "xx=xx.dropna(axis=0,how='all')"
   ]
  },
  {
   "cell_type": "code",
   "execution_count": 661,
   "id": "3c01d297",
   "metadata": {
    "scrolled": false
   },
   "outputs": [],
   "source": [
    "signal = xx.T.values\n",
    "n_components = signal.shape[0]-2\n",
    "pca = PCA(n_components=n_components)\n",
    "signal=pca.fit_transform(signal)"
   ]
  },
  {
   "cell_type": "code",
   "execution_count": 662,
   "id": "0f43c26a",
   "metadata": {},
   "outputs": [
    {
     "data": {
      "text/plain": [
       "(12, 10)"
      ]
     },
     "execution_count": 662,
     "metadata": {},
     "output_type": "execute_result"
    }
   ],
   "source": [
    "signal.shape"
   ]
  },
  {
   "cell_type": "code",
   "execution_count": 634,
   "id": "00ec2cc5",
   "metadata": {},
   "outputs": [
    {
     "data": {
      "text/plain": [
       "0.9562833189856111"
      ]
     },
     "execution_count": 634,
     "metadata": {},
     "output_type": "execute_result"
    }
   ],
   "source": [
    "pca.explained_variance_ratio_.sum()"
   ]
  },
  {
   "cell_type": "code",
   "execution_count": 616,
   "id": "735802c0",
   "metadata": {},
   "outputs": [],
   "source": [
    "# %%time\n",
    "# ncpts = 2#2000#3\n",
    "# model = rpt.Dynp(model='l2',jump=1,min_size=2)\n",
    "# # model = rpt.Dynp(model='l1',jump=1,min_size=2)\n",
    "# # model = rpt.Dynp(model='normal',jump=1,min_size=2)\n",
    "# # model = rpt.Dynp(model='cosine',jump=1,min_size=2)\n",
    "# # model = rpt.Pelt(model='normal',jump=1,min_size=2)\n",
    "# c=model.fit(signal)\n",
    "# cpts = model.predict(ncpts)"
   ]
  },
  {
   "cell_type": "code",
   "execution_count": 617,
   "id": "8576ff31",
   "metadata": {},
   "outputs": [],
   "source": [
    "# c=model.fit(signal)\n",
    "# cpts = model.predict(ncpts)\n",
    "# n_trial = signal.shape[0]\n",
    "# err=c.cost.sum_of_costs(list(cpts))\n",
    "# err_div_trial=err / n_trial\n",
    "# sum_of_var = np.var(signal,axis=0).sum()\n",
    "# r2=(sum_of_var - err_div_trial) / sum_of_var"
   ]
  },
  {
   "cell_type": "code",
   "execution_count": 618,
   "id": "0908f275",
   "metadata": {},
   "outputs": [],
   "source": [
    "def fit_cpd_get_r2_multi_d(signal,ncpts, model_type='dyn',cost='l2',min_size=2,jump=1):\n",
    "    '''\n",
    "    assuming l2\n",
    "    '''\n",
    "    if model_type=='dyn':\n",
    "        model = rpt.Dynp(model=cost,jump=jump,min_size=min_size)\n",
    "    c=model.fit(signal)\n",
    "    cpts = model.predict(ncpts)\n",
    "    n_trial = signal.shape[0]\n",
    "    err=c.cost.sum_of_costs(list(cpts))\n",
    "    err_div_trial=err / n_trial\n",
    "    sum_of_var = np.var(signal,axis=0).sum()\n",
    "    r2=(sum_of_var - err_div_trial) / sum_of_var\n",
    "\n",
    "    return cpts, r2\n"
   ]
  },
  {
   "cell_type": "code",
   "execution_count": 619,
   "id": "b404aa25",
   "metadata": {},
   "outputs": [],
   "source": [
    "# ncpts = 1\n",
    "# cpts, r2 = fit_cpd_get_r2_multi_d(signal,ncpts)"
   ]
  },
  {
   "cell_type": "code",
   "execution_count": 620,
   "id": "d6b491f0",
   "metadata": {},
   "outputs": [],
   "source": [
    "def shuffle_test_cpd_multi_d(signal,ncpts,n_shuffle=500, cpd_kws={}):\n",
    "\n",
    "    n_trial = signal.shape[0]\n",
    "    signal_shuffle = [signal[np.random.permutation(n_trial)] for i in range(n_shuffle)]\n",
    "    \n",
    "    cpts, r2 = fit_cpd_get_r2_multi_d(signal,ncpts)\n",
    "\n",
    "    ncpts=1\n",
    "    r2_sh_l = []\n",
    "    for signal_sh in signal_shuffle:\n",
    "        cpts_sh, r2_sh = fit_cpd_get_r2_multi_d(signal_sh,ncpts,**cpd_kws)\n",
    "        r2_sh_l.append(r2_sh)\n",
    "    r2_sh_l = np.array(r2_sh_l)\n",
    "    return r2,cpts, r2_sh_l\n"
   ]
  },
  {
   "cell_type": "code",
   "execution_count": 663,
   "id": "b3702465",
   "metadata": {},
   "outputs": [
    {
     "name": "stdout",
     "output_type": "stream",
     "text": [
      "0.28148183625477585\n",
      "[2, 8, 12]\n"
     ]
    },
    {
     "data": {
      "image/png": "[encoded data removed]",
      "text/plain": [
       "<Figure size 144x93.6 with 1 Axes>"
      ]
     },
     "metadata": {
      "needs_background": "light"
     },
     "output_type": "display_data"
    }
   ],
   "source": [
    "ncpts=2\n",
    "r2,cpts,r2_sh_l=shuffle_test_cpd_multi_d(signal,ncpts)\n",
    "ph.plot_shuffle_data_dist_with_thresh(r2_sh_l,r2)\n",
    "print(r2)\n",
    "print(cpts)\n"
   ]
  },
  {
   "cell_type": "code",
   "execution_count": 319,
   "id": "f07d1310",
   "metadata": {
    "collapsed": true
   },
   "outputs": [
    {
     "name": "stderr",
     "output_type": "stream",
     "text": [
      "/mnt/home/szheng/ceph/envs/jax/lib/python3.9/site-packages/umap/distances.py:1063: NumbaDeprecationWarning: \u001b[1mThe 'nopython' keyword argument was not supplied to the 'numba.jit' decorator. The implicit default value for this argument is currently False, but it will be changed to True in Numba 0.59.0. See https://numba.readthedocs.io/en/stable/reference/deprecation.html#deprecation-of-object-mode-fall-back-behaviour-when-using-jit for details.\u001b[0m\n",
      "  @numba.jit()\n",
      "/mnt/home/szheng/ceph/envs/jax/lib/python3.9/site-packages/umap/distances.py:1071: NumbaDeprecationWarning: \u001b[1mThe 'nopython' keyword argument was not supplied to the 'numba.jit' decorator. The implicit default value for this argument is currently False, but it will be changed to True in Numba 0.59.0. See https://numba.readthedocs.io/en/stable/reference/deprecation.html#deprecation-of-object-mode-fall-back-behaviour-when-using-jit for details.\u001b[0m\n",
      "  @numba.jit()\n",
      "/mnt/home/szheng/ceph/envs/jax/lib/python3.9/site-packages/umap/distances.py:1086: NumbaDeprecationWarning: \u001b[1mThe 'nopython' keyword argument was not supplied to the 'numba.jit' decorator. The implicit default value for this argument is currently False, but it will be changed to True in Numba 0.59.0. See https://numba.readthedocs.io/en/stable/reference/deprecation.html#deprecation-of-object-mode-fall-back-behaviour-when-using-jit for details.\u001b[0m\n",
      "  @numba.jit()\n",
      "/mnt/home/szheng/ceph/envs/jax/lib/python3.9/site-packages/umap/umap_.py:660: NumbaDeprecationWarning: \u001b[1mThe 'nopython' keyword argument was not supplied to the 'numba.jit' decorator. The implicit default value for this argument is currently False, but it will be changed to True in Numba 0.59.0. See https://numba.readthedocs.io/en/stable/reference/deprecation.html#deprecation-of-object-mode-fall-back-behaviour-when-using-jit for details.\u001b[0m\n",
      "  @numba.jit()\n"
     ]
    }
   ],
   "source": [
    "import umap"
   ]
  },
  {
   "cell_type": "code",
   "execution_count": 675,
   "id": "e04b70ed",
   "metadata": {},
   "outputs": [
    {
     "data": {
      "text/plain": [
       "(12, 2)"
      ]
     },
     "execution_count": 675,
     "metadata": {},
     "output_type": "execute_result"
    }
   ],
   "source": [
    "signal_reduced.shape"
   ]
  },
  {
   "cell_type": "code",
   "execution_count": 679,
   "id": "a53b4f02",
   "metadata": {},
   "outputs": [
    {
     "name": "stderr",
     "output_type": "stream",
     "text": [
      "/tmp/ipykernel_1395310/491837562.py:17: MatplotlibDeprecationWarning: Unable to determine Axes to steal space for Colorbar. Using gca(), but will raise in the future. Either provide the *cax* argument to use as the Axes for the Colorbar, provide the *ax* argument to steal space from it, or add *mappable* to an Axes.\n",
      "  plt.colorbar(cm, ticks=np.arange(0, n_trial+1, 2))\n"
     ]
    },
    {
     "data": {
      "text/plain": [
       "<matplotlib.colorbar.Colorbar at 0x1551aafb3e80>"
      ]
     },
     "execution_count": 679,
     "metadata": {},
     "output_type": "execute_result"
    },
    {
     "data": {
      "image/png": "[encoded data removed]",
      "text/plain": [
       "<Figure size 432x288 with 2 Axes>"
      ]
     },
     "metadata": {
      "needs_background": "light"
     },
     "output_type": "display_data"
    }
   ],
   "source": [
    "pca = PCA(n_components=2)\n",
    "# pca = umap.UMAP(n_components=2,n_neighbors=4)\n",
    "signal_reduced = pca.fit_transform(signal)\n",
    "n_trial =signal.shape[0]\n",
    "data =signal_reduced\n",
    "\n",
    "fig,ax=plt.subplots()\n",
    "cmap = plt.cm.Spectral\n",
    "norm = plt.Normalize(vmin=0, vmax=n_trial)\n",
    "\n",
    "for i in range(n_trial-1):\n",
    "    ax.plot(data[i:i+2, 0], data[i:i+2, 1], linestyle=':', marker='o', color=cmap(norm(i)))\n",
    "\n",
    "# Adding a colorbar\n",
    "cm = plt.cm.ScalarMappable(cmap=cmap, norm=norm)\n",
    "cm.set_array([])\n",
    "plt.colorbar(cm, ticks=np.arange(0, n_trial+1, 2))\n",
    "\n",
    "\n",
    "# ax.plot(signal_reduced[:,0],signal_reduced[:,1],marker='o',linestyle=':')"
   ]
  },
  {
   "cell_type": "code",
   "execution_count": 671,
   "id": "7637b265",
   "metadata": {
    "scrolled": true
   },
   "outputs": [
    {
     "data": {
      "text/plain": [
       "(pval                     0.005000\n",
       " exp_var_ratio            0.808031\n",
       " exp_var_ratio_sh_med     0.411609\n",
       " exp_var_ratio_sh_high    0.665432\n",
       " exp_var_ratio_sh_low     0.125593\n",
       " dtype: float64,\n",
       " array([6062.83382783, 4180.39394362, 5555.67166165, 6095.21349696,\n",
       "        3739.17691135, 3983.41211959, 5750.61961826, 5566.59395601,\n",
       "        3820.73772253, 5483.24336979, 7381.04389175, 3769.48211576,\n",
       "        4804.06434378, 5930.13672258, 3840.73798987, 5181.64428009,\n",
       "        3738.69904189, 4605.00435779, 4940.59955233, 5150.38838285,\n",
       "        6453.03736674, 4055.20407334, 5053.91054404, 5133.66572623,\n",
       "        2894.6317734 , 2889.8343155 , 5606.54934131, 5371.37540617,\n",
       "        7359.21954402, 4565.43828517, 3171.05645137, 5591.84118526,\n",
       "        3616.31147302, 4354.5162116 , 7163.82739167, 3987.76955823,\n",
       "        6860.13213626, 3285.18387452, 4698.54799207, 5403.48815747,\n",
       "        5005.55181477, 7326.35828459, 5589.30836107, 3594.17128258,\n",
       "        3405.92804783, 5192.779143  , 6878.99965039, 3645.08030963,\n",
       "        6689.14828213, 3836.68907001, 4879.58644029, 7326.35828459,\n",
       "        4418.32007707, 6107.21409823, 7088.91633535, 3624.98887145,\n",
       "        3276.85505632, 4980.78534384, 6100.43023   , 4117.07089065,\n",
       "        5830.71647495, 4576.36249976, 3245.90932647, 3959.74249667,\n",
       "        3805.30965367, 3775.59959245, 5105.93799057, 3852.69905356,\n",
       "        6523.05450561, 4981.3595518 , 6545.23383324, 6476.47463196,\n",
       "        6417.34846582, 5656.66472694, 5385.07250451, 3487.05822793,\n",
       "        3828.20331495, 3431.97237148, 3797.77542332, 4518.42116354,\n",
       "        5543.74620473, 6115.99336105, 7445.03057591, 5522.58829723,\n",
       "        6900.73011647, 3566.33889355, 6883.55890708, 4232.84136816,\n",
       "        5764.82940195, 5195.87261023, 5076.35462532, 4628.22873782,\n",
       "        3609.92626577, 3794.26222617, 4941.37986702, 2583.81223261,\n",
       "        4847.00320095, 5195.45299471, 5170.92329475, 3209.55217372,\n",
       "        4062.03280312, 4081.8005062 , 5605.85296985, 4872.35017934,\n",
       "        4307.12449047, 5679.65661635, 5650.89311993, 6226.42310841,\n",
       "        5679.09256773, 3878.20968742, 4242.17962454, 3671.48540063,\n",
       "        6210.25271927, 4777.81199357, 6885.09134707, 5201.86568167,\n",
       "        5677.74934637, 2664.19858473, 4771.65465423, 3737.01932125,\n",
       "        3848.78488939, 4101.95142934, 3516.02073969, 7054.40681059,\n",
       "        3540.49474886, 4199.57778933, 5758.56423396, 5283.43624563,\n",
       "        5776.18481784, 3433.44835733, 5364.53008744, 5379.40857693,\n",
       "        6215.28268607, 4233.85174124, 3524.98640537, 2688.19349742,\n",
       "        6586.41412757, 2722.34201956, 5821.08955204, 4668.41192736,\n",
       "        3631.58002447, 3677.27139694, 6945.60147615, 3264.04015667,\n",
       "        1145.3020318 , 5171.06643159, 5523.14674374, 3758.45188133,\n",
       "        4782.40354127, 5451.96131637, 3919.03036889, 4501.88349313,\n",
       "        4589.10559046, 4792.35551916, 3929.42428354, 5830.94005097,\n",
       "        3139.21248011, 3671.48540063, 7031.61193083, 3827.39643574,\n",
       "        6881.53827519, 5555.67166165, 6054.46466684, 5920.12071268,\n",
       "        7445.15620385, 5797.51546528, 4627.06296283, 5493.30987656,\n",
       "        2899.78408579, 6399.22358902, 3397.58935563, 5181.64428009,\n",
       "        6496.84236086, 4856.81946792, 4183.3651098 , 6359.64208424,\n",
       "        3624.98887145, 2844.02510046, 5606.09634278, 4941.28183272,\n",
       "        6335.93146843, 4214.81594127, 3658.81302323, 7423.59676428,\n",
       "        5725.74994233, 4671.07081973, 2811.95399935, 5414.79136514,\n",
       "        5131.10793511, 6106.50386546, 4470.32452258, 4057.84465414,\n",
       "        6287.17561404, 3387.66081844, 6318.97796195, 7342.89287617,\n",
       "        5364.81746078, 5775.69590336, 4142.5192256 , 6085.34790559]),\n",
       " array([[ -4.4597484 , -44.10890901, -11.0641765 , ...,  -1.59126326,\n",
       "         -13.12717537,  60.64275397],\n",
       "        [ -1.59126326, -39.12763801, -13.12717537, ..., -44.10890901,\n",
       "          12.24584699,  60.64275397],\n",
       "        [ -4.4597484 ,  60.64275397, -11.0641765 , ...,   4.16469114,\n",
       "           7.56566359, -44.10890901],\n",
       "        ...,\n",
       "        [-13.12717537,   7.56566359,  60.64275397, ...,  26.38338122,\n",
       "          -1.59126326,   2.47657366],\n",
       "        [-13.12717537,  -4.4597484 ,  -1.59126326, ...,   7.56566359,\n",
       "           2.47657366,  26.38338122],\n",
       "        [  7.56566359,  26.38338122,  -1.59126326, ...,  12.24584699,\n",
       "         -11.0641765 , -39.12763801]]))"
      ]
     },
     "execution_count": 671,
     "metadata": {},
     "output_type": "execute_result"
    }
   ],
   "source": [
    "dim = 2\n",
    "tcp.test_contiguity(signal[:,dim],n_shuffle=200,n_change_pts=2)"
   ]
  },
  {
   "cell_type": "code",
   "execution_count": 672,
   "id": "c2c1e9c2",
   "metadata": {
    "scrolled": true
   },
   "outputs": [
    {
     "name": "stdout",
     "output_type": "stream",
     "text": [
      "                            OLS Regression Results                            \n",
      "==============================================================================\n",
      "Dep. Variable:                      y   R-squared:                       0.153\n",
      "Model:                            OLS   Adj. R-squared:                 -0.035\n",
      "Method:                 Least Squares   F-statistic:                    0.8115\n",
      "Date:                Tue, 30 Jan 2024   Prob (F-statistic):              0.474\n",
      "Time:                        20:49:32   Log-Likelihood:                -55.338\n",
      "No. Observations:                  12   AIC:                             116.7\n",
      "Df Residuals:                       9   BIC:                             118.1\n",
      "Df Model:                           2                                         \n",
      "Covariance Type:            nonrobust                                         \n",
      "==============================================================================\n",
      "                 coef    std err          t      P>|t|      [0.025      0.975]\n",
      "------------------------------------------------------------------------------\n",
      "const          0.7666     20.789      0.037      0.971     -46.262      47.796\n",
      "x1            -5.3900      8.786     -0.613      0.555     -25.266      14.486\n",
      "x2             0.6849      0.770      0.890      0.397      -1.056       2.426\n",
      "==============================================================================\n",
      "Omnibus:                        1.208   Durbin-Watson:                   2.076\n",
      "Prob(Omnibus):                  0.547   Jarque-Bera (JB):                0.059\n",
      "Skew:                           0.076   Prob(JB):                        0.971\n",
      "Kurtosis:                       3.308   Cond. No.                         158.\n",
      "==============================================================================\n",
      "\n",
      "Notes:\n",
      "[1] Standard Errors assume that the covariance matrix of the errors is correctly specified.\n"
     ]
    },
    {
     "name": "stderr",
     "output_type": "stream",
     "text": [
      "/mnt/home/szheng/ceph/envs/jax/lib/python3.9/site-packages/scipy/stats/_stats_py.py:1736: UserWarning: kurtosistest only valid for n>=20 ... continuing anyway, n=12\n",
      "  warnings.warn(\"kurtosistest only valid for n>=20 ... continuing \"\n"
     ]
    },
    {
     "data": {
      "text/plain": [
       "(0.1527782493165153,\n",
       " array([ 0.76664515, -3.93851497, -7.27394407, -9.23964213, -9.83560917,\n",
       "        -9.06184518, -6.91835016, -3.40512411,  1.47783297,  7.73052108,\n",
       "        15.35294021, 24.34509038]))"
      ]
     },
     "execution_count": 672,
     "metadata": {},
     "output_type": "execute_result"
    }
   ],
   "source": [
    "import step_vs_gradual_analysis as svga\n",
    "svga.fit_poly_regress_get_r2(signal[:,dim],2)"
   ]
  },
  {
   "cell_type": "code",
   "execution_count": 673,
   "id": "2004a02d",
   "metadata": {
    "scrolled": false
   },
   "outputs": [
    {
     "data": {
      "text/plain": [
       "[<matplotlib.lines.Line2D at 0x1551ab409a30>]"
      ]
     },
     "execution_count": 673,
     "metadata": {},
     "output_type": "execute_result"
    },
    {
     "data": {
      "image/png": "[encoded data removed]",
      "text/plain": [
       "<Figure size 432x288 with 1 Axes>"
      ]
     },
     "metadata": {
      "needs_background": "light"
     },
     "output_type": "display_data"
    }
   ],
   "source": [
    "plt.plot(signal[:,dim])"
   ]
  },
  {
   "cell_type": "code",
   "execution_count": 653,
   "id": "7e958624",
   "metadata": {},
   "outputs": [],
   "source": [
    "import statsmodels.api as sm\n",
    "def fit_poly_regress_get_r2(xx,order=1,cost='l2',verbose=True):\n",
    "    if cost=='l2':\n",
    "        xs_l = []\n",
    "        for o in range(1,order+1):\n",
    "            xs = np.arange(len(xx)) ** o \n",
    "            xs_l.append(xs)\n",
    "        xs_l = np.array(xs_l).T\n",
    "#         pdb.set_trace()\n",
    "        xs_l = sm.add_constant(xs_l)\n",
    "        model = sm.OLS(xx,xs_l)\n",
    "        results = model.fit()\n",
    "        if verbose:\n",
    "            print(results.summary())\n",
    "        xx_pred=results.predict()\n",
    "        exp_var=np.var(xx_pred)\n",
    "        data_var = np.var(xx)\n",
    "        r2 = results.rsquared\n",
    "        return r2,xx_pred,exp_var,data_var\n",
    "            \n",
    "    else:\n",
    "        print('not implemented')\n",
    "        pass"
   ]
  },
  {
   "cell_type": "code",
   "execution_count": 668,
   "id": "844b04a0",
   "metadata": {},
   "outputs": [
    {
     "name": "stdout",
     "output_type": "stream",
     "text": [
      "0.28148183625477585\n",
      "[2, 8, 12]\n"
     ]
    },
    {
     "data": {
      "image/png": "[encoded data removed]",
      "text/plain": [
       "<Figure size 144x93.6 with 1 Axes>"
      ]
     },
     "metadata": {
      "needs_background": "light"
     },
     "output_type": "display_data"
    }
   ],
   "source": [
    "ncpts=2\n",
    "r2,cpts,r2_sh_l=shuffle_test_cpd_multi_d(signal,ncpts)\n",
    "ph.plot_shuffle_data_dist_with_thresh(r2_sh_l,r2)\n",
    "print(r2)\n",
    "print(cpts)\n"
   ]
  },
  {
   "cell_type": "code",
   "execution_count": 669,
   "id": "e6cb44b4",
   "metadata": {
    "scrolled": true
   },
   "outputs": [
    {
     "name": "stdout",
     "output_type": "stream",
     "text": [
      "                            OLS Regression Results                            \n",
      "==============================================================================\n",
      "Dep. Variable:                      y   R-squared:                       0.595\n",
      "Model:                            OLS   Adj. R-squared:                  0.505\n",
      "Method:                 Least Squares   F-statistic:                     6.617\n",
      "Date:                Tue, 30 Jan 2024   Prob (F-statistic):             0.0171\n",
      "Time:                        20:48:33   Log-Likelihood:                -55.669\n",
      "No. Observations:                  12   AIC:                             117.3\n",
      "Df Residuals:                       9   BIC:                             118.8\n",
      "Df Model:                           2                                         \n",
      "Covariance Type:            nonrobust                                         \n",
      "==============================================================================\n",
      "                 coef    std err          t      P>|t|      [0.025      0.975]\n",
      "------------------------------------------------------------------------------\n",
      "const         71.5656     21.372      3.349      0.009      23.218     119.913\n",
      "x1           -29.0195      9.033     -3.213      0.011     -49.453      -8.586\n",
      "x2             2.0879      0.791      2.639      0.027       0.298       3.878\n",
      "==============================================================================\n",
      "Omnibus:                        1.275   Durbin-Watson:                   1.497\n",
      "Prob(Omnibus):                  0.529   Jarque-Bera (JB):                0.433\n",
      "Skew:                           0.464   Prob(JB):                        0.805\n",
      "Kurtosis:                       2.949   Cond. No.                         158.\n",
      "==============================================================================\n",
      "\n",
      "Notes:\n",
      "[1] Standard Errors assume that the covariance matrix of the errors is correctly specified.\n",
      "                            OLS Regression Results                            \n",
      "==============================================================================\n",
      "Dep. Variable:                      y   R-squared:                       0.384\n",
      "Model:                            OLS   Adj. R-squared:                  0.247\n",
      "Method:                 Least Squares   F-statistic:                     2.809\n",
      "Date:                Tue, 30 Jan 2024   Prob (F-statistic):              0.113\n",
      "Time:                        20:48:33   Log-Likelihood:                -54.944\n",
      "No. Observations:                  12   AIC:                             115.9\n",
      "Df Residuals:                       9   BIC:                             117.3\n",
      "Df Model:                           2                                         \n",
      "Covariance Type:            nonrobust                                         \n",
      "==============================================================================\n",
      "                 coef    std err          t      P>|t|      [0.025      0.975]\n",
      "------------------------------------------------------------------------------\n",
      "const        -22.7702     20.118     -1.132      0.287     -68.281      22.741\n",
      "x1             1.4972      8.503      0.176      0.864     -17.737      20.732\n",
      "x2             0.3447      0.745      0.463      0.654      -1.340       2.030\n",
      "==============================================================================\n",
      "Omnibus:                        5.139   Durbin-Watson:                   1.426\n",
      "Prob(Omnibus):                  0.077   Jarque-Bera (JB):                2.522\n",
      "Skew:                           1.111   Prob(JB):                        0.283\n",
      "Kurtosis:                       3.329   Cond. No.                         158.\n",
      "==============================================================================\n",
      "\n",
      "Notes:\n",
      "[1] Standard Errors assume that the covariance matrix of the errors is correctly specified.\n",
      "                            OLS Regression Results                            \n",
      "==============================================================================\n",
      "Dep. Variable:                      y   R-squared:                       0.153\n",
      "Model:                            OLS   Adj. R-squared:                 -0.035\n",
      "Method:                 Least Squares   F-statistic:                    0.8115\n",
      "Date:                Tue, 30 Jan 2024   Prob (F-statistic):              0.474\n",
      "Time:                        20:48:33   Log-Likelihood:                -55.338\n",
      "No. Observations:                  12   AIC:                             116.7\n",
      "Df Residuals:                       9   BIC:                             118.1\n",
      "Df Model:                           2                                         \n",
      "Covariance Type:            nonrobust                                         \n",
      "==============================================================================\n",
      "                 coef    std err          t      P>|t|      [0.025      0.975]\n",
      "------------------------------------------------------------------------------\n",
      "const          0.7666     20.789      0.037      0.971     -46.262      47.796\n",
      "x1            -5.3900      8.786     -0.613      0.555     -25.266      14.486\n",
      "x2             0.6849      0.770      0.890      0.397      -1.056       2.426\n",
      "==============================================================================\n",
      "Omnibus:                        1.208   Durbin-Watson:                   2.076\n",
      "Prob(Omnibus):                  0.547   Jarque-Bera (JB):                0.059\n",
      "Skew:                           0.076   Prob(JB):                        0.971\n",
      "Kurtosis:                       3.308   Cond. No.                         158.\n",
      "==============================================================================\n",
      "\n",
      "Notes:\n",
      "[1] Standard Errors assume that the covariance matrix of the errors is correctly specified.\n",
      "                            OLS Regression Results                            \n",
      "==============================================================================\n",
      "Dep. Variable:                      y   R-squared:                       0.330\n",
      "Model:                            OLS   Adj. R-squared:                  0.182\n",
      "Method:                 Least Squares   F-statistic:                     2.221\n",
      "Date:                Tue, 30 Jan 2024   Prob (F-statistic):              0.164\n",
      "Time:                        20:48:33   Log-Likelihood:                -53.032\n",
      "No. Observations:                  12   AIC:                             112.1\n",
      "Df Residuals:                       9   BIC:                             113.5\n",
      "Df Model:                           2                                         \n",
      "Covariance Type:            nonrobust                                         \n",
      "==============================================================================\n",
      "                 coef    std err          t      P>|t|      [0.025      0.975]\n",
      "------------------------------------------------------------------------------\n",
      "const         -2.3339     17.155     -0.136      0.895     -41.142      36.474\n",
      "x1            -5.9614      7.250     -0.822      0.432     -22.363      10.440\n",
      "x2             0.8329      0.635      1.311      0.222      -0.604       2.270\n",
      "==============================================================================\n",
      "Omnibus:                        1.611   Durbin-Watson:                   1.752\n",
      "Prob(Omnibus):                  0.447   Jarque-Bera (JB):                0.253\n",
      "Skew:                           0.310   Prob(JB):                        0.881\n",
      "Kurtosis:                       3.349   Cond. No.                         158.\n",
      "==============================================================================\n",
      "\n",
      "Notes:\n",
      "[1] Standard Errors assume that the covariance matrix of the errors is correctly specified.\n",
      "                            OLS Regression Results                            \n",
      "==============================================================================\n",
      "Dep. Variable:                      y   R-squared:                       0.063\n",
      "Model:                            OLS   Adj. R-squared:                 -0.145\n",
      "Method:                 Least Squares   F-statistic:                    0.3035\n",
      "Date:                Tue, 30 Jan 2024   Prob (F-statistic):              0.746\n",
      "Time:                        20:48:33   Log-Likelihood:                -54.059\n",
      "No. Observations:                  12   AIC:                             114.1\n",
      "Df Residuals:                       9   BIC:                             115.6\n",
      "Df Model:                           2                                         \n",
      "Covariance Type:            nonrobust                                         \n",
      "==============================================================================\n",
      "                 coef    std err          t      P>|t|      [0.025      0.975]\n",
      "------------------------------------------------------------------------------\n",
      "const        -13.3294     18.688     -0.713      0.494     -55.604      28.945\n",
      "x1             5.7453      7.898      0.727      0.485     -12.121      23.612\n",
      "x2            -0.4333      0.692     -0.626      0.547      -1.998       1.132\n",
      "==============================================================================\n",
      "Omnibus:                        1.509   Durbin-Watson:                   2.653\n",
      "Prob(Omnibus):                  0.470   Jarque-Bera (JB):                0.256\n",
      "Skew:                           0.330   Prob(JB):                        0.880\n",
      "Kurtosis:                       3.278   Cond. No.                         158.\n",
      "==============================================================================\n",
      "\n",
      "Notes:\n",
      "[1] Standard Errors assume that the covariance matrix of the errors is correctly specified.\n",
      "                            OLS Regression Results                            \n",
      "==============================================================================\n",
      "Dep. Variable:                      y   R-squared:                       0.005\n",
      "Model:                            OLS   Adj. R-squared:                 -0.217\n",
      "Method:                 Least Squares   F-statistic:                   0.02058\n",
      "Date:                Tue, 30 Jan 2024   Prob (F-statistic):              0.980\n",
      "Time:                        20:48:33   Log-Likelihood:                -53.585\n",
      "No. Observations:                  12   AIC:                             113.2\n",
      "Df Residuals:                       9   BIC:                             114.6\n",
      "Df Model:                           2                                         \n",
      "Covariance Type:            nonrobust                                         \n",
      "==============================================================================\n",
      "                 coef    std err          t      P>|t|      [0.025      0.975]\n",
      "------------------------------------------------------------------------------\n",
      "const         -3.0269     17.965     -0.168      0.870     -43.665      37.612\n",
      "x1             0.9368      7.592      0.123      0.905     -16.238      18.112\n",
      "x2            -0.0504      0.665     -0.076      0.941      -1.555       1.454\n",
      "==============================================================================\n",
      "Omnibus:                        4.527   Durbin-Watson:                   3.383\n",
      "Prob(Omnibus):                  0.104   Jarque-Bera (JB):                1.641\n",
      "Skew:                           0.800   Prob(JB):                        0.440\n",
      "Kurtosis:                       3.848   Cond. No.                         158.\n",
      "==============================================================================\n",
      "\n",
      "Notes:\n",
      "[1] Standard Errors assume that the covariance matrix of the errors is correctly specified.\n",
      "                            OLS Regression Results                            \n",
      "==============================================================================\n",
      "Dep. Variable:                      y   R-squared:                       0.096\n",
      "Model:                            OLS   Adj. R-squared:                 -0.105\n",
      "Method:                 Least Squares   F-statistic:                    0.4781\n",
      "Date:                Tue, 30 Jan 2024   Prob (F-statistic):              0.635\n",
      "Time:                        20:48:33   Log-Likelihood:                -52.469\n",
      "No. Observations:                  12   AIC:                             110.9\n",
      "Df Residuals:                       9   BIC:                             112.4\n",
      "Df Model:                           2                                         \n",
      "Covariance Type:            nonrobust                                         \n",
      "==============================================================================\n",
      "                 coef    std err          t      P>|t|      [0.025      0.975]\n",
      "------------------------------------------------------------------------------\n",
      "const         -3.3071     16.369     -0.202      0.844     -40.337      33.723\n",
      "x1             4.3443      6.918      0.628      0.546     -11.306      19.994\n",
      "x2            -0.4882      0.606     -0.806      0.441      -1.859       0.883\n",
      "==============================================================================\n",
      "Omnibus:                        0.191   Durbin-Watson:                   2.445\n",
      "Prob(Omnibus):                  0.909   Jarque-Bera (JB):                0.382\n",
      "Skew:                           0.015   Prob(JB):                        0.826\n",
      "Kurtosis:                       2.126   Cond. No.                         158.\n",
      "==============================================================================\n",
      "\n",
      "Notes:\n",
      "[1] Standard Errors assume that the covariance matrix of the errors is correctly specified.\n",
      "                            OLS Regression Results                            \n",
      "==============================================================================\n",
      "Dep. Variable:                      y   R-squared:                       0.001\n",
      "Model:                            OLS   Adj. R-squared:                 -0.222\n",
      "Method:                 Least Squares   F-statistic:                  0.002494\n",
      "Date:                Tue, 30 Jan 2024   Prob (F-statistic):              0.998\n",
      "Time:                        20:48:33   Log-Likelihood:                -52.222\n",
      "No. Observations:                  12   AIC:                             110.4\n",
      "Df Residuals:                       9   BIC:                             111.9\n",
      "Df Model:                           2                                         \n",
      "Covariance Type:            nonrobust                                         \n",
      "==============================================================================\n",
      "                 coef    std err          t      P>|t|      [0.025      0.975]\n",
      "------------------------------------------------------------------------------\n",
      "const         -0.9570     16.035     -0.060      0.954     -37.231      35.317\n",
      "x1             0.4777      6.777      0.070      0.945     -14.853      15.809\n",
      "x2            -0.0396      0.594     -0.067      0.948      -1.382       1.303\n",
      "==============================================================================\n",
      "Omnibus:                        0.306   Durbin-Watson:                   2.150\n",
      "Prob(Omnibus):                  0.858   Jarque-Bera (JB):                0.269\n",
      "Skew:                          -0.277   Prob(JB):                        0.874\n",
      "Kurtosis:                       2.519   Cond. No.                         158.\n",
      "==============================================================================\n",
      "\n",
      "Notes:\n",
      "[1] Standard Errors assume that the covariance matrix of the errors is correctly specified.\n",
      "                            OLS Regression Results                            \n",
      "==============================================================================\n",
      "Dep. Variable:                      y   R-squared:                       0.330\n",
      "Model:                            OLS   Adj. R-squared:                  0.181\n",
      "Method:                 Least Squares   F-statistic:                     2.218\n",
      "Date:                Tue, 30 Jan 2024   Prob (F-statistic):              0.165\n",
      "Time:                        20:48:33   Log-Likelihood:                -49.558\n",
      "No. Observations:                  12   AIC:                             105.1\n",
      "Df Residuals:                       9   BIC:                             106.6\n",
      "Df Model:                           2                                         \n",
      "Covariance Type:            nonrobust                                         \n",
      "==============================================================================\n",
      "                 coef    std err          t      P>|t|      [0.025      0.975]\n",
      "------------------------------------------------------------------------------\n",
      "const        -18.8047     12.843     -1.464      0.177     -47.858      10.248\n",
      "x1            11.0931      5.428      2.044      0.071      -1.186      23.372\n",
      "x2            -1.0010      0.475     -2.105      0.065      -2.077       0.075\n",
      "==============================================================================\n",
      "Omnibus:                        2.319   Durbin-Watson:                   1.726\n",
      "Prob(Omnibus):                  0.314   Jarque-Bera (JB):                0.933\n",
      "Skew:                           0.019   Prob(JB):                        0.627\n",
      "Kurtosis:                       1.634   Cond. No.                         158.\n",
      "==============================================================================\n",
      "\n",
      "Notes:\n",
      "[1] Standard Errors assume that the covariance matrix of the errors is correctly specified.\n",
      "                            OLS Regression Results                            \n",
      "==============================================================================\n",
      "Dep. Variable:                      y   R-squared:                       0.004\n",
      "Model:                            OLS   Adj. R-squared:                 -0.218\n",
      "Method:                 Least Squares   F-statistic:                   0.01661\n",
      "Date:                Tue, 30 Jan 2024   Prob (F-statistic):              0.984\n",
      "Time:                        20:48:33   Log-Likelihood:                -50.870\n",
      "No. Observations:                  12   AIC:                             107.7\n",
      "Df Residuals:                       9   BIC:                             109.2\n",
      "Df Model:                           2                                         \n",
      "Covariance Type:            nonrobust                                         \n",
      "==============================================================================\n",
      "                 coef    std err          t      P>|t|      [0.025      0.975]\n",
      "------------------------------------------------------------------------------\n",
      "const          2.3891     14.327      0.167      0.871     -30.022      34.800\n",
      "x1            -0.9219      6.055     -0.152      0.882     -14.620      12.776\n",
      "x2             0.0636      0.530      0.120      0.907      -1.136       1.263\n",
      "==============================================================================\n",
      "Omnibus:                        5.349   Durbin-Watson:                   2.919\n",
      "Prob(Omnibus):                  0.069   Jarque-Bera (JB):                2.012\n",
      "Skew:                           0.822   Prob(JB):                        0.366\n",
      "Kurtosis:                       4.149   Cond. No.                         158.\n",
      "==============================================================================\n",
      "\n",
      "Notes:\n",
      "[1] Standard Errors assume that the covariance matrix of the errors is correctly specified.\n"
     ]
    },
    {
     "name": "stderr",
     "output_type": "stream",
     "text": [
      "/mnt/home/szheng/ceph/envs/jax/lib/python3.9/site-packages/scipy/stats/_stats_py.py:1736: UserWarning: kurtosistest only valid for n>=20 ... continuing anyway, n=12\n",
      "  warnings.warn(\"kurtosistest only valid for n>=20 ... continuing \"\n",
      "/mnt/home/szheng/ceph/envs/jax/lib/python3.9/site-packages/scipy/stats/_stats_py.py:1736: UserWarning: kurtosistest only valid for n>=20 ... continuing anyway, n=12\n",
      "  warnings.warn(\"kurtosistest only valid for n>=20 ... continuing \"\n",
      "/mnt/home/szheng/ceph/envs/jax/lib/python3.9/site-packages/scipy/stats/_stats_py.py:1736: UserWarning: kurtosistest only valid for n>=20 ... continuing anyway, n=12\n",
      "  warnings.warn(\"kurtosistest only valid for n>=20 ... continuing \"\n",
      "/mnt/home/szheng/ceph/envs/jax/lib/python3.9/site-packages/scipy/stats/_stats_py.py:1736: UserWarning: kurtosistest only valid for n>=20 ... continuing anyway, n=12\n",
      "  warnings.warn(\"kurtosistest only valid for n>=20 ... continuing \"\n",
      "/mnt/home/szheng/ceph/envs/jax/lib/python3.9/site-packages/scipy/stats/_stats_py.py:1736: UserWarning: kurtosistest only valid for n>=20 ... continuing anyway, n=12\n",
      "  warnings.warn(\"kurtosistest only valid for n>=20 ... continuing \"\n",
      "/mnt/home/szheng/ceph/envs/jax/lib/python3.9/site-packages/scipy/stats/_stats_py.py:1736: UserWarning: kurtosistest only valid for n>=20 ... continuing anyway, n=12\n",
      "  warnings.warn(\"kurtosistest only valid for n>=20 ... continuing \"\n",
      "/mnt/home/szheng/ceph/envs/jax/lib/python3.9/site-packages/scipy/stats/_stats_py.py:1736: UserWarning: kurtosistest only valid for n>=20 ... continuing anyway, n=12\n",
      "  warnings.warn(\"kurtosistest only valid for n>=20 ... continuing \"\n",
      "/mnt/home/szheng/ceph/envs/jax/lib/python3.9/site-packages/scipy/stats/_stats_py.py:1736: UserWarning: kurtosistest only valid for n>=20 ... continuing anyway, n=12\n",
      "  warnings.warn(\"kurtosistest only valid for n>=20 ... continuing \"\n",
      "/mnt/home/szheng/ceph/envs/jax/lib/python3.9/site-packages/scipy/stats/_stats_py.py:1736: UserWarning: kurtosistest only valid for n>=20 ... continuing anyway, n=12\n",
      "  warnings.warn(\"kurtosistest only valid for n>=20 ... continuing \"\n",
      "/mnt/home/szheng/ceph/envs/jax/lib/python3.9/site-packages/scipy/stats/_stats_py.py:1736: UserWarning: kurtosistest only valid for n>=20 ... continuing anyway, n=12\n",
      "  warnings.warn(\"kurtosistest only valid for n>=20 ... continuing \"\n"
     ]
    }
   ],
   "source": [
    "exp_var_all = []\n",
    "data_var_all = []\n",
    "order=ncpts\n",
    "for ii in range(signal.shape[1]):\n",
    "    r2,xx_pred,exp_var,data_var = fit_poly_regress_get_r2(signal[:,ii],order=order)\n",
    "    exp_var_all.append(exp_var)\n",
    "    data_var_all.append(data_var)"
   ]
  },
  {
   "cell_type": "code",
   "execution_count": 670,
   "id": "29423715",
   "metadata": {
    "scrolled": true
   },
   "outputs": [
    {
     "data": {
      "text/plain": [
       "0.28909346781655115"
      ]
     },
     "execution_count": 670,
     "metadata": {},
     "output_type": "execute_result"
    }
   ],
   "source": [
    "np.sum(exp_var_all) / np.sum(data_var_all)"
   ]
  },
  {
   "cell_type": "code",
   "execution_count": null,
   "id": "60b2282d",
   "metadata": {},
   "outputs": [],
   "source": []
  },
  {
   "cell_type": "code",
   "execution_count": null,
   "id": "8c08ac4a",
   "metadata": {},
   "outputs": [],
   "source": []
  },
  {
   "cell_type": "code",
   "execution_count": 459,
   "id": "71643b85",
   "metadata": {},
   "outputs": [],
   "source": [
    "import statsmodels.api as sm\n",
    "order=1\n",
    "xs_l = []\n",
    "n_trial = signal.shape[0]\n",
    "for o in range(1,order+1):\n",
    "    xs = np.arange(n_trial) ** o \n",
    "    xs_l.append(xs)\n",
    "xs_l = np.array(xs_l).T\n",
    "#         pdb.set_trace()\n",
    "# xs_l = sm.add_constant(xs_l)"
   ]
  },
  {
   "cell_type": "code",
   "execution_count": 458,
   "id": "b5de9bb2",
   "metadata": {},
   "outputs": [],
   "source": [
    "from sklearn.linear_model import LinearRegression"
   ]
  },
  {
   "cell_type": "code",
   "execution_count": 461,
   "id": "0314910b",
   "metadata": {},
   "outputs": [
    {
     "data": {
      "text/html": [
       "<style>#sk-container-id-2 {color: black;background-color: white;}#sk-container-id-2 pre{padding: 0;}#sk-container-id-2 div.sk-toggleable {background-color: white;}#sk-container-id-2 label.sk-toggleable__label {cursor: pointer;display: block;width: 100%;margin-bottom: 0;padding: 0.3em;box-sizing: border-box;text-align: center;}#sk-container-id-2 label.sk-toggleable__label-arrow:before {content: \"▸\";float: left;margin-right: 0.25em;color: #696969;}#sk-container-id-2 label.sk-toggleable__label-arrow:hover:before {color: black;}#sk-container-id-2 div.sk-estimator:hover label.sk-toggleable__label-arrow:before {color: black;}#sk-container-id-2 div.sk-toggleable__content {max-height: 0;max-width: 0;overflow: hidden;text-align: left;background-color: #f0f8ff;}#sk-container-id-2 div.sk-toggleable__content pre {margin: 0.2em;color: black;border-radius: 0.25em;background-color: #f0f8ff;}#sk-container-id-2 input.sk-toggleable__control:checked~div.sk-toggleable__content {max-height: 200px;max-width: 100%;overflow: auto;}#sk-container-id-2 input.sk-toggleable__control:checked~label.sk-toggleable__label-arrow:before {content: \"▾\";}#sk-container-id-2 div.sk-estimator input.sk-toggleable__control:checked~label.sk-toggleable__label {background-color: #d4ebff;}#sk-container-id-2 div.sk-label input.sk-toggleable__control:checked~label.sk-toggleable__label {background-color: #d4ebff;}#sk-container-id-2 input.sk-hidden--visually {border: 0;clip: rect(1px 1px 1px 1px);clip: rect(1px, 1px, 1px, 1px);height: 1px;margin: -1px;overflow: hidden;padding: 0;position: absolute;width: 1px;}#sk-container-id-2 div.sk-estimator {font-family: monospace;background-color: #f0f8ff;border: 1px dotted black;border-radius: 0.25em;box-sizing: border-box;margin-bottom: 0.5em;}#sk-container-id-2 div.sk-estimator:hover {background-color: #d4ebff;}#sk-container-id-2 div.sk-parallel-item::after {content: \"\";width: 100%;border-bottom: 1px solid gray;flex-grow: 1;}#sk-container-id-2 div.sk-label:hover label.sk-toggleable__label {background-color: #d4ebff;}#sk-container-id-2 div.sk-serial::before {content: \"\";position: absolute;border-left: 1px solid gray;box-sizing: border-box;top: 0;bottom: 0;left: 50%;z-index: 0;}#sk-container-id-2 div.sk-serial {display: flex;flex-direction: column;align-items: center;background-color: white;padding-right: 0.2em;padding-left: 0.2em;position: relative;}#sk-container-id-2 div.sk-item {position: relative;z-index: 1;}#sk-container-id-2 div.sk-parallel {display: flex;align-items: stretch;justify-content: center;background-color: white;position: relative;}#sk-container-id-2 div.sk-item::before, #sk-container-id-2 div.sk-parallel-item::before {content: \"\";position: absolute;border-left: 1px solid gray;box-sizing: border-box;top: 0;bottom: 0;left: 50%;z-index: -1;}#sk-container-id-2 div.sk-parallel-item {display: flex;flex-direction: column;z-index: 1;position: relative;background-color: white;}#sk-container-id-2 div.sk-parallel-item:first-child::after {align-self: flex-end;width: 50%;}#sk-container-id-2 div.sk-parallel-item:last-child::after {align-self: flex-start;width: 50%;}#sk-container-id-2 div.sk-parallel-item:only-child::after {width: 0;}#sk-container-id-2 div.sk-dashed-wrapped {border: 1px dashed gray;margin: 0 0.4em 0.5em 0.4em;box-sizing: border-box;padding-bottom: 0.4em;background-color: white;}#sk-container-id-2 div.sk-label label {font-family: monospace;font-weight: bold;display: inline-block;line-height: 1.2em;}#sk-container-id-2 div.sk-label-container {text-align: center;}#sk-container-id-2 div.sk-container {/* jupyter's `normalize.less` sets `[hidden] { display: none; }` but bootstrap.min.css set `[hidden] { display: none !important; }` so we also need the `!important` here to be able to override the default hidden behavior on the sphinx rendered scikit-learn.org. See: https://github.com/scikit-learn/scikit-learn/issues/21755 */display: inline-block !important;position: relative;}#sk-container-id-2 div.sk-text-repr-fallback {display: none;}</style><div id=\"sk-container-id-2\" class=\"sk-top-container\"><div class=\"sk-text-repr-fallback\"><pre>LinearRegression()</pre><b>In a Jupyter environment, please rerun this cell to show the HTML representation or trust the notebook. <br />On GitHub, the HTML representation is unable to render, please try loading this page with nbviewer.org.</b></div><div class=\"sk-container\" hidden><div class=\"sk-item\"><div class=\"sk-estimator sk-toggleable\"><input class=\"sk-toggleable__control sk-hidden--visually\" id=\"sk-estimator-id-2\" type=\"checkbox\" checked><label for=\"sk-estimator-id-2\" class=\"sk-toggleable__label sk-toggleable__label-arrow\">LinearRegression</label><div class=\"sk-toggleable__content\"><pre>LinearRegression()</pre></div></div></div></div></div>"
      ],
      "text/plain": [
       "LinearRegression()"
      ]
     },
     "execution_count": 461,
     "metadata": {},
     "output_type": "execute_result"
    }
   ],
   "source": [
    "reg_model=LinearRegression()\n",
    "reg_model.fit(xs_l,signal.T)"
   ]
  },
  {
   "cell_type": "code",
   "execution_count": 462,
   "id": "1c306e80",
   "metadata": {},
   "outputs": [
    {
     "data": {
      "text/plain": [
       "0.05508769586531785"
      ]
     },
     "execution_count": 462,
     "metadata": {},
     "output_type": "execute_result"
    }
   ],
   "source": [
    "reg_model.score(xs_l,signal.T)"
   ]
  },
  {
   "cell_type": "code",
   "execution_count": 457,
   "id": "746b1877",
   "metadata": {},
   "outputs": [
    {
     "data": {
      "text/plain": [
       "array([[ 1.,  0.],\n",
       "       [ 1.,  1.],\n",
       "       [ 1.,  2.],\n",
       "       [ 1.,  3.],\n",
       "       [ 1.,  4.],\n",
       "       [ 1.,  5.],\n",
       "       [ 1.,  6.],\n",
       "       [ 1.,  7.],\n",
       "       [ 1.,  8.],\n",
       "       [ 1.,  9.],\n",
       "       [ 1., 10.],\n",
       "       [ 1., 11.],\n",
       "       [ 1., 12.],\n",
       "       [ 1., 13.],\n",
       "       [ 1., 14.],\n",
       "       [ 1., 15.],\n",
       "       [ 1., 16.],\n",
       "       [ 1., 17.],\n",
       "       [ 1., 18.],\n",
       "       [ 1., 19.]])"
      ]
     },
     "execution_count": 457,
     "metadata": {},
     "output_type": "execute_result"
    }
   ],
   "source": [
    "xs_l"
   ]
  },
  {
   "cell_type": "code",
   "execution_count": 452,
   "id": "f2636114",
   "metadata": {},
   "outputs": [
    {
     "data": {
      "text/plain": [
       "(20, 20)"
      ]
     },
     "execution_count": 452,
     "metadata": {},
     "output_type": "execute_result"
    }
   ],
   "source": [
    "signal.T"
   ]
  },
  {
   "cell_type": "code",
   "execution_count": 451,
   "id": "a5b782b4",
   "metadata": {
    "scrolled": true
   },
   "outputs": [
    {
     "data": {
      "text/html": [
       "<div>\n",
       "<style scoped>\n",
       "    .dataframe tbody tr th:only-of-type {\n",
       "        vertical-align: middle;\n",
       "    }\n",
       "\n",
       "    .dataframe tbody tr th {\n",
       "        vertical-align: top;\n",
       "    }\n",
       "\n",
       "    .dataframe thead th {\n",
       "        text-align: right;\n",
       "    }\n",
       "</style>\n",
       "<table border=\"1\" class=\"dataframe\">\n",
       "  <thead>\n",
       "    <tr style=\"text-align: right;\">\n",
       "      <th></th>\n",
       "      <th>reg</th>\n",
       "      <th>step</th>\n",
       "      <th>step_minus_reg</th>\n",
       "    </tr>\n",
       "  </thead>\n",
       "  <tbody>\n",
       "    <tr>\n",
       "      <th>0</th>\n",
       "      <td>0.940064</td>\n",
       "      <td>0.863131</td>\n",
       "      <td>-0.076934</td>\n",
       "    </tr>\n",
       "    <tr>\n",
       "      <th>1</th>\n",
       "      <td>0.458501</td>\n",
       "      <td>0.547495</td>\n",
       "      <td>0.088994</td>\n",
       "    </tr>\n",
       "    <tr>\n",
       "      <th>2</th>\n",
       "      <td>0.429873</td>\n",
       "      <td>0.589746</td>\n",
       "      <td>0.159873</td>\n",
       "    </tr>\n",
       "    <tr>\n",
       "      <th>3</th>\n",
       "      <td>0.001838</td>\n",
       "      <td>0.345158</td>\n",
       "      <td>0.343320</td>\n",
       "    </tr>\n",
       "    <tr>\n",
       "      <th>4</th>\n",
       "      <td>0.063898</td>\n",
       "      <td>0.417329</td>\n",
       "      <td>0.353431</td>\n",
       "    </tr>\n",
       "    <tr>\n",
       "      <th>5</th>\n",
       "      <td>0.007955</td>\n",
       "      <td>0.290929</td>\n",
       "      <td>0.282974</td>\n",
       "    </tr>\n",
       "    <tr>\n",
       "      <th>6</th>\n",
       "      <td>0.002734</td>\n",
       "      <td>0.191963</td>\n",
       "      <td>0.189230</td>\n",
       "    </tr>\n",
       "    <tr>\n",
       "      <th>7</th>\n",
       "      <td>0.036908</td>\n",
       "      <td>0.604939</td>\n",
       "      <td>0.568031</td>\n",
       "    </tr>\n",
       "    <tr>\n",
       "      <th>8</th>\n",
       "      <td>0.000455</td>\n",
       "      <td>0.168003</td>\n",
       "      <td>0.167548</td>\n",
       "    </tr>\n",
       "    <tr>\n",
       "      <th>9</th>\n",
       "      <td>0.000311</td>\n",
       "      <td>0.398266</td>\n",
       "      <td>0.397954</td>\n",
       "    </tr>\n",
       "    <tr>\n",
       "      <th>10</th>\n",
       "      <td>0.002870</td>\n",
       "      <td>0.256250</td>\n",
       "      <td>0.253380</td>\n",
       "    </tr>\n",
       "    <tr>\n",
       "      <th>11</th>\n",
       "      <td>0.016165</td>\n",
       "      <td>0.217974</td>\n",
       "      <td>0.201809</td>\n",
       "    </tr>\n",
       "    <tr>\n",
       "      <th>12</th>\n",
       "      <td>0.004246</td>\n",
       "      <td>0.257437</td>\n",
       "      <td>0.253191</td>\n",
       "    </tr>\n",
       "    <tr>\n",
       "      <th>13</th>\n",
       "      <td>0.011941</td>\n",
       "      <td>0.131659</td>\n",
       "      <td>0.119717</td>\n",
       "    </tr>\n",
       "    <tr>\n",
       "      <th>14</th>\n",
       "      <td>0.001370</td>\n",
       "      <td>0.171247</td>\n",
       "      <td>0.169878</td>\n",
       "    </tr>\n",
       "    <tr>\n",
       "      <th>15</th>\n",
       "      <td>0.009390</td>\n",
       "      <td>0.204195</td>\n",
       "      <td>0.194804</td>\n",
       "    </tr>\n",
       "    <tr>\n",
       "      <th>16</th>\n",
       "      <td>0.005694</td>\n",
       "      <td>0.333305</td>\n",
       "      <td>0.327611</td>\n",
       "    </tr>\n",
       "    <tr>\n",
       "      <th>17</th>\n",
       "      <td>0.001259</td>\n",
       "      <td>0.279129</td>\n",
       "      <td>0.277869</td>\n",
       "    </tr>\n",
       "    <tr>\n",
       "      <th>18</th>\n",
       "      <td>0.004526</td>\n",
       "      <td>0.297302</td>\n",
       "      <td>0.292776</td>\n",
       "    </tr>\n",
       "    <tr>\n",
       "      <th>19</th>\n",
       "      <td>-125.044444</td>\n",
       "      <td>0.401111</td>\n",
       "      <td>125.445556</td>\n",
       "    </tr>\n",
       "  </tbody>\n",
       "</table>\n",
       "</div>"
      ],
      "text/plain": [
       "           reg      step  step_minus_reg\n",
       "0     0.940064  0.863131       -0.076934\n",
       "1     0.458501  0.547495        0.088994\n",
       "2     0.429873  0.589746        0.159873\n",
       "3     0.001838  0.345158        0.343320\n",
       "4     0.063898  0.417329        0.353431\n",
       "5     0.007955  0.290929        0.282974\n",
       "6     0.002734  0.191963        0.189230\n",
       "7     0.036908  0.604939        0.568031\n",
       "8     0.000455  0.168003        0.167548\n",
       "9     0.000311  0.398266        0.397954\n",
       "10    0.002870  0.256250        0.253380\n",
       "11    0.016165  0.217974        0.201809\n",
       "12    0.004246  0.257437        0.253191\n",
       "13    0.011941  0.131659        0.119717\n",
       "14    0.001370  0.171247        0.169878\n",
       "15    0.009390  0.204195        0.194804\n",
       "16    0.005694  0.333305        0.327611\n",
       "17    0.001259  0.279129        0.277869\n",
       "18    0.004526  0.297302        0.292776\n",
       "19 -125.044444  0.401111      125.445556"
      ]
     },
     "execution_count": 451,
     "metadata": {},
     "output_type": "execute_result"
    }
   ],
   "source": [
    "svga.fit_poly_regress_cpd_get_r2_all(pd.DataFrame(signal).T,2)"
   ]
  },
  {
   "cell_type": "code",
   "execution_count": null,
   "id": "f1e673eb",
   "metadata": {},
   "outputs": [],
   "source": []
  },
  {
   "cell_type": "markdown",
   "id": "f7a1c19f",
   "metadata": {},
   "source": [
    "# simulated examples comparing regression vs change point shuffle test"
   ]
  },
  {
   "cell_type": "code",
   "execution_count": 276,
   "id": "5ccc9df9",
   "metadata": {},
   "outputs": [],
   "source": [
    "test_signal=np.exp(np.arange(30)/30) + np.random.normal(size=30) * 0.5\n",
    "test_signal = test_signal[:,None]"
   ]
  },
  {
   "cell_type": "code",
   "execution_count": 277,
   "id": "f078c7f2",
   "metadata": {
    "scrolled": false
   },
   "outputs": [
    {
     "data": {
      "text/plain": [
       "([10, 30], 0.5220383736489846)"
      ]
     },
     "execution_count": 277,
     "metadata": {},
     "output_type": "execute_result"
    }
   ],
   "source": [
    "fit_cpd_get_r2_multi_d(test_signal,ncpts)"
   ]
  },
  {
   "cell_type": "code",
   "execution_count": 278,
   "id": "0c16dc55",
   "metadata": {},
   "outputs": [
    {
     "data": {
      "text/plain": [
       "[<matplotlib.lines.Line2D at 0x1554f43426d0>]"
      ]
     },
     "execution_count": 278,
     "metadata": {},
     "output_type": "execute_result"
    },
    {
     "data": {
      "image/png": "[encoded data removed]",
      "text/plain": [
       "<Figure size 432x288 with 1 Axes>"
      ]
     },
     "metadata": {
      "needs_background": "light"
     },
     "output_type": "display_data"
    }
   ],
   "source": [
    "plt.plot(test_signal[:,0])"
   ]
  },
  {
   "cell_type": "code",
   "execution_count": 279,
   "id": "9dfe8107",
   "metadata": {},
   "outputs": [
    {
     "data": {
      "text/plain": [
       "0.8786735917310461"
      ]
     },
     "execution_count": 279,
     "metadata": {},
     "output_type": "execute_result"
    }
   ],
   "source": [
    "import statsmodels.api as sm\n",
    "reg=sm.OLS(np.arange(30)[:,None],test_signal[:,0])\n",
    "reg_res=reg.fit()\n",
    "reg_res.rsquared"
   ]
  },
  {
   "cell_type": "code",
   "execution_count": null,
   "id": "a5256daa",
   "metadata": {},
   "outputs": [],
   "source": []
  },
  {
   "cell_type": "code",
   "execution_count": null,
   "id": "f2657ed6",
   "metadata": {},
   "outputs": [],
   "source": []
  }
 ],
 "metadata": {
  "kernelspec": {
   "display_name": "jax",
   "language": "python",
   "name": "jax"
  },
  "language_info": {
   "codemirror_mode": {
    "name": "ipython",
    "version": 3
   },
   "file_extension": ".py",
   "mimetype": "text/x-python",
   "name": "python",
   "nbconvert_exporter": "python",
   "pygments_lexer": "ipython3",
   "version": "3.9.16"
  }
 },
 "nbformat": 4,
 "nbformat_minor": 5
}
