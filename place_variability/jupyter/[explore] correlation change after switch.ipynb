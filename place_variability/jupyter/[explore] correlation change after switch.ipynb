{
 "cells": [
  {
   "cell_type": "code",
   "execution_count": 1,
   "id": "244a0e67",
   "metadata": {},
   "outputs": [
    {
     "name": "stdout",
     "output_type": "stream",
     "text": [
      "67 sessions!\n",
      "67 sessions!\n"
     ]
    },
    {
     "name": "stderr",
     "output_type": "stream",
     "text": [
      "/mnt/home/szheng/ceph/envs/jax/lib/python3.9/site-packages/outdated/utils.py:14: OutdatedPackageWarning: The package pingouin is out of date. Your version is 0.5.2, the latest is 0.5.3.\n",
      "Set the environment variable OUTDATED_IGNORE=1 to disable these warnings.\n",
      "  return warn(\n"
     ]
    }
   ],
   "source": [
    "import numpy as np\n",
    "import scipy\n",
    "import sklearn\n",
    "from sklearn.decomposition import NMF\n",
    "from sklearn.cluster import KMeans\n",
    "from sklearn.mixture import GaussianMixture,BayesianGaussianMixture\n",
    "\n",
    "import pandas as pd\n",
    "\n",
    "import matplotlib.pyplot as plt\n",
    "import seaborn as sns\n",
    "import matplotlib as mpl\n",
    "mpl.rcParams['image.cmap'] = 'Greys'\n",
    "mpl.rcParams['axes.spines.right'] = False\n",
    "mpl.rcParams['axes.spines.top'] = False\n",
    "\n",
    "\n",
    "\n",
    "import sys,os,pdb,copy,pickle\n",
    "from importlib import reload\n",
    "# import pynapple as nap\n",
    "\n",
    "sys.path.append('/mnt/home/szheng/projects/seq_detection2/code')\n",
    "sys.path.append('/mnt/home/szheng/projects/util_code')\n",
    "sys.path.append('/mnt/home/szheng/projects/nmf_analysis')\n",
    "sys.path.append('/mnt/home/szheng/projects/nmf_analysis/scripts')\n",
    "sys.path.append('/mnt/home/szheng/projects/cluster_spikes')\n",
    "sys.path.append('/mnt/home/szheng/projects/place_variability/code')\n",
    "import data_prep_new as dpn\n",
    "import place_cell_analysis as pa\n",
    "import plot_helper as ph\n",
    "import preprocess as prep\n",
    "import nmf_analysis as na\n",
    "import nmf_plot as nmfp\n",
    "reload(na)\n",
    "\n",
    "import raster_new as rn\n",
    "import data_prep_pyn as dpp\n",
    "\n",
    "\n",
    "import change_point_analysis as cpa\n",
    "import change_point_plot as cpp\n",
    "\n",
    "import place_field_analysis as pf\n",
    "\n",
    "import switch_analysis_one_session as saos\n",
    "reload(saos)\n",
    "\n",
    "import process_central_arm as pca \n",
    "import change_point_analysis_central_arm_seperate as cpacas\n",
    "\n",
    "import misc\n",
    "reload(misc)\n",
    "from misc import get_nth_key, get_nth_val"
   ]
  },
  {
   "cell_type": "code",
   "execution_count": 2,
   "id": "65e83f73",
   "metadata": {},
   "outputs": [],
   "source": [
    "import database\n",
    "db = database.db\n",
    "\n",
    "subdb = db.query('owner==\"roman\"').sort_values('n_pyr_putative',ascending=False)\n",
    "subdb = subdb.query('ntrials>=20&n_neurons>=50')\n",
    "to_exclude_sess = ['e16_3m2_211211']\n",
    "subdb=subdb.loc[~subdb['sess_name'].isin(to_exclude_sess)]\n",
    "\n",
    "\n",
    "import pf_recombine_central as pfrc\n",
    "import fr_map_one_session as fmos\n",
    "import switch_detection_one_session as sdos\n",
    "import get_all_switch_add_metrics as gasam\n",
    "\n",
    "import preprocess_one_session as prepos"
   ]
  },
  {
   "cell_type": "code",
   "execution_count": 3,
   "id": "899ff82f",
   "metadata": {},
   "outputs": [
    {
     "name": "stdout",
     "output_type": "stream",
     "text": [
      "e15_13f1_220118\n"
     ]
    }
   ],
   "source": [
    "db_sorted = db.query('owner==\"roman\"').sort_values('n_pyr_putative',ascending=False)\n",
    "ii=2\n",
    "data_dir_full = db_sorted['data_dir_full'][ii]\n",
    "ani = db_sorted.index[ii][0]#'e15_13f1'#'e13_26m1'\n",
    "sess=db_sorted['sess_name'][ii]#'e15_13f1_220117'#'e13_26m1_210913'\n",
    "print(sess)"
   ]
  },
  {
   "cell_type": "code",
   "execution_count": 11,
   "id": "48a96788",
   "metadata": {},
   "outputs": [
    {
     "name": "stderr",
     "output_type": "stream",
     "text": [
      "/tmp/ipykernel_626847/3496003563.py:5: PerformanceWarning: indexing past lexsort depth may impact performance.\n",
      "  per_field_metrics_one = per_field_metrics_all.loc[ani,sess]\n"
     ]
    }
   ],
   "source": [
    "data_dir = '/mnt/home/szheng/ceph/place_variability/data/paper'\n",
    "savefn_full = os.path.join(data_dir,'per_field_metrics_shtest_with_1cp.p')\n",
    "# pickle.dump(per_field_metrics_all,open(savefn_full,'wb'))\n",
    "per_field_metrics_all=pickle.load(open(savefn_full,'rb'))\n",
    "per_field_metrics_one = per_field_metrics_all.loc[ani,sess]"
   ]
  },
  {
   "cell_type": "code",
   "execution_count": 55,
   "id": "b565e5f5",
   "metadata": {},
   "outputs": [],
   "source": [
    "# load data\n",
    "mat_to_return=prep.load_stuff(data_dir_full)\n",
    "# sessionPulses=mat_to_return['sessionPulses']\n",
    "# filtered = mat_to_return['filtered']\n",
    "behavior=mat_to_return['behavior']\n",
    "ripples = mat_to_return['ripples']\n",
    "sleep_state_episodes = mat_to_return['SleepStateEpisodes']\n",
    "cell_metrics=mat_to_return['cell_metrics']\n",
    "mergepoints = mat_to_return['mergepoints']\n",
    "cell_type_mask = mat_to_return['cell_type_mask']\n",
    "res_all_epochs_d, ripple_time_ints_epochs_d = prep.get_spike_count_rate_participation_in_ripple_all(cell_metrics,\n",
    "                                                                                                    ripples,\n",
    "                                                                                                    mergepoints,\n",
    "                                                                                                   )\n",
    "\n",
    "\n",
    "prep_res = dpp.load_spk_beh_df(data_dir_full,force_reload=False,extra_load={})\n",
    "spk_beh_df=prep_res['spk_beh_df']\n",
    "_,spk_beh_df=dpp.group_into_trialtype(spk_beh_df)\n",
    "cell_cols_d = prep_res['cell_cols_d']\n",
    "# beh_df = prep_res['beh_df']\n",
    "# beh_df_d,beh_df=dpp.group_into_trialtype(beh_df)\n",
    "spike_trains = prep_res['spike_trains']"
   ]
  },
  {
   "cell_type": "code",
   "execution_count": 4,
   "id": "da797ab9",
   "metadata": {},
   "outputs": [
    {
     "name": "stdout",
     "output_type": "stream",
     "text": [
      "/mnt/home/szheng/ceph/ad/roman_data/e15/e15_13f1/e15_13f1_220118/py_data/place_field_afterheadscan_recombine.p exists; loading---\n",
      "/mnt/home/szheng/ceph/ad/roman_data/e15/e15_13f1/e15_13f1_220118/py_data/fr_map_with_int.p exists; loading---\n",
      "/mnt/home/szheng/ceph/ad/roman_data/e15/e15_13f1/e15_13f1_220118/py_data/sw_res_afterheadscan_fr_mean.p exists; loading---\n",
      "/mnt/home/szheng/ceph/ad/roman_data/e15/e15_13f1/e15_13f1_220118/py_data/switch_analysis/all_sw_info.p exists; loading---\n"
     ]
    }
   ],
   "source": [
    "res=dpp.load_spk_beh_df(data_dir_full,load_only=True)\n",
    "if res is not None:\n",
    "    spk_beh_df = res['spk_beh_df']\n",
    "    spk_beh_df,_ = dpp.add_lin_binned(spk_beh_df,bin_size=2.2,nbins=None)\n",
    "    trial_index_to_index_within_df = dpp.trial_index_to_index_within_trialtype(spk_beh_df)\n",
    "pf_res_recombine = pfrc.main(data_dir_full,force_reload=False,load_only=True)\n",
    "all_fields_recombined=pf_res_recombine['all_fields_recombined']\n",
    "pf_params_recombined = pf_res_recombine['params_recombined']\n",
    "fr_map_res = fmos.main(data_dir_full,force_reload=False,load_only=True)\n",
    "fr_map_trial_df = fr_map_res['fr_map_trial_df']\n",
    "sw_res = sdos.main(data_dir_full,force_reload=False,load_only=True)\n",
    "pval = sw_res['pval']\n",
    "\n",
    "best_n = sw_res['best_n']\n",
    "\n",
    "X_pwc = sw_res['X_pwc']\n",
    "\n",
    "X_raw = sw_res['X_raw']\n",
    "changes_df = sw_res['changes_df']\n",
    "\n",
    "sw_info_res=gasam.main(data_dir_full,force_reload=False,load_only=True)\n",
    "if sw_info_res is None:\n",
    "    sw_info_res=gasam.main(data_dir_full,force_reload=True,load_only=False)\n",
    "all_sw_d = sw_info_res['all_sw_d']\n",
    "all_sw_with_metrics_d = sw_info_res['all_sw_with_metrics_d']\n"
   ]
  },
  {
   "cell_type": "code",
   "execution_count": 23,
   "id": "dc407de8",
   "metadata": {},
   "outputs": [],
   "source": [
    "ti =0"
   ]
  },
  {
   "cell_type": "code",
   "execution_count": 24,
   "id": "d5cc397c",
   "metadata": {},
   "outputs": [],
   "source": [
    "all_sw_on = all_sw_d.loc[ti].query('switch==1')"
   ]
  },
  {
   "cell_type": "code",
   "execution_count": 199,
   "id": "e39305f4",
   "metadata": {},
   "outputs": [],
   "source": [
    "ii=2\n",
    "row=per_field_metrics_one.loc[ti].query('si>0.5&fit_var_ratio>0.4').iloc[ii]\n",
    "tt,uid,field_id=row.name\n"
   ]
  },
  {
   "cell_type": "code",
   "execution_count": 200,
   "id": "c15246b0",
   "metadata": {},
   "outputs": [
    {
     "name": "stderr",
     "output_type": "stream",
     "text": [
      "/tmp/ipykernel_626847/1310630697.py:1: PerformanceWarning: indexing past lexsort depth may impact performance.\n",
      "  all_sw_on.set_index(['trialtype','uid','field_index']).loc[(tt,uid,field_id),:]\n"
     ]
    },
    {
     "data": {
      "text/html": [
       "<div>\n",
       "<style scoped>\n",
       "    .dataframe tbody tr th:only-of-type {\n",
       "        vertical-align: middle;\n",
       "    }\n",
       "\n",
       "    .dataframe tbody tr th {\n",
       "        vertical-align: top;\n",
       "    }\n",
       "\n",
       "    .dataframe thead th {\n",
       "        text-align: right;\n",
       "    }\n",
       "</style>\n",
       "<table border=\"1\" class=\"dataframe\">\n",
       "  <thead>\n",
       "    <tr style=\"text-align: right;\">\n",
       "      <th></th>\n",
       "      <th></th>\n",
       "      <th></th>\n",
       "      <th>time</th>\n",
       "      <th>speed_gauss</th>\n",
       "      <th>field_pos</th>\n",
       "      <th>trial_index</th>\n",
       "      <th>switch</th>\n",
       "      <th>index_within</th>\n",
       "      <th>switch_trial</th>\n",
       "      <th>switch_trial_frac</th>\n",
       "      <th>pre_ntrials_in_segment</th>\n",
       "      <th>post_ntrials_in_segment</th>\n",
       "    </tr>\n",
       "    <tr>\n",
       "      <th>trialtype</th>\n",
       "      <th>uid</th>\n",
       "      <th>field_index</th>\n",
       "      <th></th>\n",
       "      <th></th>\n",
       "      <th></th>\n",
       "      <th></th>\n",
       "      <th></th>\n",
       "      <th></th>\n",
       "      <th></th>\n",
       "      <th></th>\n",
       "      <th></th>\n",
       "      <th></th>\n",
       "    </tr>\n",
       "  </thead>\n",
       "  <tbody>\n",
       "    <tr>\n",
       "      <th>0.0</th>\n",
       "      <th>58</th>\n",
       "      <th>0</th>\n",
       "      <td>7221.7616</td>\n",
       "      <td>23.051817</td>\n",
       "      <td>31.0</td>\n",
       "      <td>22</td>\n",
       "      <td>1.0</td>\n",
       "      <td>12</td>\n",
       "      <td>12.0</td>\n",
       "      <td>0.8</td>\n",
       "      <td>12</td>\n",
       "      <td>3</td>\n",
       "    </tr>\n",
       "  </tbody>\n",
       "</table>\n",
       "</div>"
      ],
      "text/plain": [
       "                                time  speed_gauss  field_pos  trial_index  \\\n",
       "trialtype uid field_index                                                   \n",
       "0.0       58  0            7221.7616    23.051817       31.0           22   \n",
       "\n",
       "                           switch  index_within  switch_trial  \\\n",
       "trialtype uid field_index                                       \n",
       "0.0       58  0               1.0            12          12.0   \n",
       "\n",
       "                           switch_trial_frac  pre_ntrials_in_segment  \\\n",
       "trialtype uid field_index                                              \n",
       "0.0       58  0                          0.8                      12   \n",
       "\n",
       "                           post_ntrials_in_segment  \n",
       "trialtype uid field_index                           \n",
       "0.0       58  0                                  3  "
      ]
     },
     "execution_count": 200,
     "metadata": {},
     "output_type": "execute_result"
    }
   ],
   "source": [
    "all_sw_on.set_index(['trialtype','uid','field_index']).loc[(tt,uid,field_id),:]"
   ]
  },
  {
   "cell_type": "code",
   "execution_count": 201,
   "id": "b6847617",
   "metadata": {
    "scrolled": true
   },
   "outputs": [
    {
     "data": {
      "text/plain": [
       "(<Figure size 432x288 with 2 Axes>, <Axes: xlabel='Position'>)"
      ]
     },
     "execution_count": 201,
     "metadata": {},
     "output_type": "execute_result"
    },
    {
     "data": {
      "image/png": "[encoded data removed]",
      "text/plain": [
       "<Figure size 432x288 with 2 Axes>"
      ]
     },
     "metadata": {
      "needs_background": "light"
     },
     "output_type": "display_data"
    }
   ],
   "source": [
    "frmapone=fr_map_trial_df.loc[(ti,tt,uid),:].dropna(axis=1,how='all')\n",
    "ph.heatmap(frmapone.T)"
   ]
  },
  {
   "cell_type": "code",
   "execution_count": 202,
   "id": "45b6f41a",
   "metadata": {},
   "outputs": [],
   "source": [
    "import pynapple as nap"
   ]
  },
  {
   "cell_type": "code",
   "execution_count": 203,
   "id": "61215299",
   "metadata": {},
   "outputs": [
    {
     "name": "stderr",
     "output_type": "stream",
     "text": [
      "/tmp/ipykernel_626847/1944806608.py:2: FutureWarning: Dropping of nuisance columns in rolling operations is deprecated; in a future version this will raise TypeError. Select only valid columns before calling the operation. Dropped columns were Index(['task', 'trial_type'], dtype='object')\n",
      "  spk_beh_df_sub=spk_beh_df_sub.rolling(3,axis=0).mean()[3::3]\n"
     ]
    }
   ],
   "source": [
    "spk_beh_df_sub = spk_beh_df.loc[spk_beh_df['trial_type']==(ti,tt)]\n",
    "spk_beh_df_sub=spk_beh_df_sub.rolling(3,axis=0).mean()[3::3]\n",
    "trial_ind = 22\n",
    "ma_d = {}\n",
    "ma_d['before']=spk_beh_df_sub['trial'] < trial_ind\n",
    "ma_d['after']=spk_beh_df_sub['trial'] >= trial_ind\n",
    "corrmat_d = {}\n",
    "for k,ma in ma_d.items():\n",
    "    corrmat = spk_beh_df_sub.loc[ma][cell_cols_d['all']].corr()\n",
    "    corrmat_d[k] = corrmat\n",
    "\n",
    "corrmat_d = pd.concat(corrmat_d,axis=0)\n",
    "\n",
    "corr_diff_onecell = corrmat_d[uid].unstack().diff().iloc[-1].sort_values().dropna()"
   ]
  },
  {
   "cell_type": "code",
   "execution_count": 204,
   "id": "feafac97",
   "metadata": {},
   "outputs": [],
   "source": [
    "# uid_to_include=np.concatenate([corr_diff_onecell.iloc[-3:].index, corr_diff_onecell.iloc[:3].index])\n",
    "uid_to_include=corrmat_d.loc['before',uid].sort_values(ascending=False).dropna().index[1:4]\n",
    "# uid_to_include=corrmat_d.loc['before',uid].sort_values(ascending=True).dropna().index[1:4]"
   ]
  },
  {
   "cell_type": "code",
   "execution_count": 205,
   "id": "d9545a73",
   "metadata": {},
   "outputs": [
    {
     "data": {
      "text/html": [
       "<div>\n",
       "<style scoped>\n",
       "    .dataframe tbody tr th:only-of-type {\n",
       "        vertical-align: middle;\n",
       "    }\n",
       "\n",
       "    .dataframe tbody tr th {\n",
       "        vertical-align: top;\n",
       "    }\n",
       "\n",
       "    .dataframe thead th {\n",
       "        text-align: right;\n",
       "    }\n",
       "</style>\n",
       "<table border=\"1\" class=\"dataframe\">\n",
       "  <thead>\n",
       "    <tr style=\"text-align: right;\">\n",
       "      <th></th>\n",
       "      <th></th>\n",
       "      <th>126</th>\n",
       "      <th>307</th>\n",
       "      <th>130</th>\n",
       "    </tr>\n",
       "  </thead>\n",
       "  <tbody>\n",
       "    <tr>\n",
       "      <th>before</th>\n",
       "      <th>58</th>\n",
       "      <td>0.189796</td>\n",
       "      <td>0.171541</td>\n",
       "      <td>0.137990</td>\n",
       "    </tr>\n",
       "    <tr>\n",
       "      <th>after</th>\n",
       "      <th>58</th>\n",
       "      <td>0.048688</td>\n",
       "      <td>0.027960</td>\n",
       "      <td>0.062684</td>\n",
       "    </tr>\n",
       "  </tbody>\n",
       "</table>\n",
       "</div>"
      ],
      "text/plain": [
       "                126       307       130\n",
       "before 58  0.189796  0.171541  0.137990\n",
       "after  58  0.048688  0.027960  0.062684"
      ]
     },
     "execution_count": 205,
     "metadata": {},
     "output_type": "execute_result"
    }
   ],
   "source": [
    "corrmat_d.loc[(slice(None),uid),uid_to_include]"
   ]
  },
  {
   "cell_type": "code",
   "execution_count": 206,
   "id": "27bb1287",
   "metadata": {},
   "outputs": [
    {
     "data": {
      "text/plain": [
       "126    0.189796\n",
       "307    0.171541\n",
       "130    0.137990\n",
       "359    0.127226\n",
       "155    0.122183\n",
       "90     0.110401\n",
       "170    0.099066\n",
       "82     0.097159\n",
       "296    0.095144\n",
       "Name: (before, 58), dtype: float64"
      ]
     },
     "execution_count": 206,
     "metadata": {},
     "output_type": "execute_result"
    }
   ],
   "source": [
    "corrmat_d.loc['before',uid].sort_values(ascending=False).dropna().iloc[1:10]"
   ]
  },
  {
   "cell_type": "code",
   "execution_count": 209,
   "id": "211d3b32",
   "metadata": {},
   "outputs": [
    {
     "data": {
      "text/plain": [
       "(<Figure size 432x288 with 2 Axes>, <Axes: xlabel='Position'>)"
      ]
     },
     "execution_count": 209,
     "metadata": {},
     "output_type": "execute_result"
    },
    {
     "data": {
      "image/png": "[encoded data removed]",
      "text/plain": [
       "<Figure size 432x288 with 2 Axes>"
      ]
     },
     "metadata": {
      "needs_background": "light"
     },
     "output_type": "display_data"
    }
   ],
   "source": [
    "frmapone=fr_map_trial_df.loc[(ti,tt,130),:].dropna(axis=1,how='all')\n",
    "ph.heatmap(frmapone.T)"
   ]
  },
  {
   "cell_type": "code",
   "execution_count": 172,
   "id": "9f9b27cf",
   "metadata": {},
   "outputs": [],
   "source": [
    "spk_selected=spk_beh_df_sub[[uid,*uid_to_include]].T"
   ]
  },
  {
   "cell_type": "code",
   "execution_count": 179,
   "id": "e9d77b4f",
   "metadata": {},
   "outputs": [
    {
     "data": {
      "text/plain": [
       "(4000.0, 5000.0)"
      ]
     },
     "execution_count": 179,
     "metadata": {},
     "output_type": "execute_result"
    },
    {
     "data": {
      "image/png": "[encoded data removed]",
      "text/plain": [
       "<Figure size 720x216 with 2 Axes>"
      ]
     },
     "metadata": {
      "needs_background": "light"
     },
     "output_type": "display_data"
    }
   ],
   "source": [
    "fig,axs=plt.subplots(2,1,figsize=(10,3),sharex=True)\n",
    "ax=axs[0]\n",
    "# ax.plot(spk_beh_df_sub['trial'].values)\n",
    "ax.plot(spk_beh_df_sub['lin'].values)\n",
    "ax=axs[1]\n",
    "# ph.heatmap(spk_selected,ax=ax,cbar=False,vmax=0.2)\n",
    "ax.imshow(spk_selected,vmax=0.2,aspect='auto',cmap='Greys',interpolation='none')\n",
    "plt.tight_layout()\n",
    "ax.set_xlim([4000,5000])"
   ]
  },
  {
   "cell_type": "code",
   "execution_count": 88,
   "id": "15d85a45",
   "metadata": {
    "scrolled": false
   },
   "outputs": [
    {
     "data": {
      "text/plain": [
       "<StemContainer object of 3 artists>"
      ]
     },
     "execution_count": 88,
     "metadata": {},
     "output_type": "execute_result"
    },
    {
     "data": {
      "image/png": "[encoded data removed]",
      "text/plain": [
       "<Figure size 432x288 with 1 Axes>"
      ]
     },
     "metadata": {
      "needs_background": "light"
     },
     "output_type": "display_data"
    }
   ],
   "source": [
    "plt.stem(corr_diff_onecell)"
   ]
  },
  {
   "cell_type": "code",
   "execution_count": 84,
   "id": "8dc4ca9a",
   "metadata": {
    "scrolled": true
   },
   "outputs": [
    {
     "data": {
      "text/plain": [
       "<StemContainer object of 3 artists>"
      ]
     },
     "execution_count": 84,
     "metadata": {},
     "output_type": "execute_result"
    },
    {
     "data": {
      "image/png": "[encoded data removed]",
      "text/plain": [
       "<Figure size 432x288 with 1 Axes>"
      ]
     },
     "metadata": {
      "needs_background": "light"
     },
     "output_type": "display_data"
    }
   ],
   "source": [
    "plt.stem(corr_diff_onecell)"
   ]
  },
  {
   "cell_type": "code",
   "execution_count": 90,
   "id": "f380b45f",
   "metadata": {},
   "outputs": [
    {
     "data": {
      "text/plain": [
       "<StemContainer object of 3 artists>"
      ]
     },
     "execution_count": 90,
     "metadata": {},
     "output_type": "execute_result"
    },
    {
     "data": {
      "image/png": "[encoded data removed]",
      "text/plain": [
       "<Figure size 432x288 with 1 Axes>"
      ]
     },
     "metadata": {
      "needs_background": "light"
     },
     "output_type": "display_data"
    }
   ],
   "source": [
    "plt.stem(corr_diff_onecell)"
   ]
  },
  {
   "cell_type": "code",
   "execution_count": 63,
   "id": "4040ce3b",
   "metadata": {},
   "outputs": [
    {
     "data": {
      "text/plain": [
       "[(0.0, 0.4)]"
      ]
     },
     "execution_count": 63,
     "metadata": {},
     "output_type": "execute_result"
    },
    {
     "data": {
      "image/png": "[encoded data removed]",
      "text/plain": [
       "<Figure size 432x288 with 1 Axes>"
      ]
     },
     "metadata": {
      "needs_background": "light"
     },
     "output_type": "display_data"
    }
   ],
   "source": [
    "ax=corrmat_d['before'].loc[uid].plot(marker='.',linestyle='none')\n",
    "ax=corrmat_d['after'].loc[uid].plot(ax=ax,marker='.',linestyle='none')\n",
    "ax.set(ylim=(0,0.4))\n"
   ]
  },
  {
   "cell_type": "code",
   "execution_count": 54,
   "id": "0fe60599",
   "metadata": {},
   "outputs": [
    {
     "data": {
      "text/html": [
       "<div>\n",
       "<style scoped>\n",
       "    .dataframe tbody tr th:only-of-type {\n",
       "        vertical-align: middle;\n",
       "    }\n",
       "\n",
       "    .dataframe tbody tr th {\n",
       "        vertical-align: top;\n",
       "    }\n",
       "\n",
       "    .dataframe thead th {\n",
       "        text-align: right;\n",
       "    }\n",
       "</style>\n",
       "<table border=\"1\" class=\"dataframe\">\n",
       "  <thead>\n",
       "    <tr style=\"text-align: right;\">\n",
       "      <th></th>\n",
       "      <th>1</th>\n",
       "      <th>2</th>\n",
       "      <th>3</th>\n",
       "      <th>4</th>\n",
       "      <th>5</th>\n",
       "      <th>6</th>\n",
       "      <th>7</th>\n",
       "      <th>8</th>\n",
       "      <th>9</th>\n",
       "      <th>10</th>\n",
       "      <th>...</th>\n",
       "      <th>trial_type</th>\n",
       "      <th>segment</th>\n",
       "      <th>dist_to_maze</th>\n",
       "      <th>off_track</th>\n",
       "      <th>on_track</th>\n",
       "      <th>off_track_event</th>\n",
       "      <th>pause_event</th>\n",
       "      <th>directed_locomotion</th>\n",
       "      <th>low_speed</th>\n",
       "      <th>lin_binned</th>\n",
       "    </tr>\n",
       "  </thead>\n",
       "  <tbody>\n",
       "    <tr>\n",
       "      <th>5025</th>\n",
       "      <td>0</td>\n",
       "      <td>0</td>\n",
       "      <td>0</td>\n",
       "      <td>0</td>\n",
       "      <td>1</td>\n",
       "      <td>1</td>\n",
       "      <td>4</td>\n",
       "      <td>2</td>\n",
       "      <td>0</td>\n",
       "      <td>2</td>\n",
       "      <td>...</td>\n",
       "      <td>(0, 0.0)</td>\n",
       "      <td>3.0</td>\n",
       "      <td>0.375855</td>\n",
       "      <td>False</td>\n",
       "      <td>True</td>\n",
       "      <td>False</td>\n",
       "      <td>False</td>\n",
       "      <td>True</td>\n",
       "      <td>False</td>\n",
       "      <td>0</td>\n",
       "    </tr>\n",
       "    <tr>\n",
       "      <th>5026</th>\n",
       "      <td>0</td>\n",
       "      <td>0</td>\n",
       "      <td>0</td>\n",
       "      <td>0</td>\n",
       "      <td>0</td>\n",
       "      <td>0</td>\n",
       "      <td>0</td>\n",
       "      <td>0</td>\n",
       "      <td>0</td>\n",
       "      <td>1</td>\n",
       "      <td>...</td>\n",
       "      <td>(0, 0.0)</td>\n",
       "      <td>3.0</td>\n",
       "      <td>0.389943</td>\n",
       "      <td>False</td>\n",
       "      <td>True</td>\n",
       "      <td>False</td>\n",
       "      <td>False</td>\n",
       "      <td>True</td>\n",
       "      <td>False</td>\n",
       "      <td>0</td>\n",
       "    </tr>\n",
       "    <tr>\n",
       "      <th>5027</th>\n",
       "      <td>0</td>\n",
       "      <td>1</td>\n",
       "      <td>0</td>\n",
       "      <td>0</td>\n",
       "      <td>2</td>\n",
       "      <td>2</td>\n",
       "      <td>2</td>\n",
       "      <td>4</td>\n",
       "      <td>3</td>\n",
       "      <td>1</td>\n",
       "      <td>...</td>\n",
       "      <td>(0, 0.0)</td>\n",
       "      <td>3.0</td>\n",
       "      <td>0.179165</td>\n",
       "      <td>False</td>\n",
       "      <td>True</td>\n",
       "      <td>False</td>\n",
       "      <td>False</td>\n",
       "      <td>True</td>\n",
       "      <td>False</td>\n",
       "      <td>0</td>\n",
       "    </tr>\n",
       "    <tr>\n",
       "      <th>5028</th>\n",
       "      <td>0</td>\n",
       "      <td>1</td>\n",
       "      <td>1</td>\n",
       "      <td>0</td>\n",
       "      <td>2</td>\n",
       "      <td>3</td>\n",
       "      <td>2</td>\n",
       "      <td>2</td>\n",
       "      <td>2</td>\n",
       "      <td>5</td>\n",
       "      <td>...</td>\n",
       "      <td>(0, 0.0)</td>\n",
       "      <td>3.0</td>\n",
       "      <td>0.059385</td>\n",
       "      <td>False</td>\n",
       "      <td>True</td>\n",
       "      <td>False</td>\n",
       "      <td>False</td>\n",
       "      <td>True</td>\n",
       "      <td>False</td>\n",
       "      <td>0</td>\n",
       "    </tr>\n",
       "    <tr>\n",
       "      <th>5029</th>\n",
       "      <td>0</td>\n",
       "      <td>0</td>\n",
       "      <td>3</td>\n",
       "      <td>2</td>\n",
       "      <td>1</td>\n",
       "      <td>3</td>\n",
       "      <td>3</td>\n",
       "      <td>3</td>\n",
       "      <td>1</td>\n",
       "      <td>3</td>\n",
       "      <td>...</td>\n",
       "      <td>(0, 0.0)</td>\n",
       "      <td>3.0</td>\n",
       "      <td>0.278633</td>\n",
       "      <td>False</td>\n",
       "      <td>True</td>\n",
       "      <td>False</td>\n",
       "      <td>False</td>\n",
       "      <td>True</td>\n",
       "      <td>False</td>\n",
       "      <td>0</td>\n",
       "    </tr>\n",
       "    <tr>\n",
       "      <th>...</th>\n",
       "      <td>...</td>\n",
       "      <td>...</td>\n",
       "      <td>...</td>\n",
       "      <td>...</td>\n",
       "      <td>...</td>\n",
       "      <td>...</td>\n",
       "      <td>...</td>\n",
       "      <td>...</td>\n",
       "      <td>...</td>\n",
       "      <td>...</td>\n",
       "      <td>...</td>\n",
       "      <td>...</td>\n",
       "      <td>...</td>\n",
       "      <td>...</td>\n",
       "      <td>...</td>\n",
       "      <td>...</td>\n",
       "      <td>...</td>\n",
       "      <td>...</td>\n",
       "      <td>...</td>\n",
       "      <td>...</td>\n",
       "      <td>...</td>\n",
       "    </tr>\n",
       "    <tr>\n",
       "      <th>60178</th>\n",
       "      <td>0</td>\n",
       "      <td>0</td>\n",
       "      <td>0</td>\n",
       "      <td>1</td>\n",
       "      <td>0</td>\n",
       "      <td>1</td>\n",
       "      <td>0</td>\n",
       "      <td>3</td>\n",
       "      <td>1</td>\n",
       "      <td>3</td>\n",
       "      <td>...</td>\n",
       "      <td>(0, 0.0)</td>\n",
       "      <td>3.0</td>\n",
       "      <td>0.371671</td>\n",
       "      <td>False</td>\n",
       "      <td>True</td>\n",
       "      <td>False</td>\n",
       "      <td>False</td>\n",
       "      <td>True</td>\n",
       "      <td>False</td>\n",
       "      <td>0</td>\n",
       "    </tr>\n",
       "    <tr>\n",
       "      <th>60179</th>\n",
       "      <td>0</td>\n",
       "      <td>0</td>\n",
       "      <td>1</td>\n",
       "      <td>0</td>\n",
       "      <td>1</td>\n",
       "      <td>1</td>\n",
       "      <td>0</td>\n",
       "      <td>1</td>\n",
       "      <td>0</td>\n",
       "      <td>3</td>\n",
       "      <td>...</td>\n",
       "      <td>(0, 0.0)</td>\n",
       "      <td>3.0</td>\n",
       "      <td>0.060107</td>\n",
       "      <td>False</td>\n",
       "      <td>True</td>\n",
       "      <td>False</td>\n",
       "      <td>False</td>\n",
       "      <td>True</td>\n",
       "      <td>False</td>\n",
       "      <td>0</td>\n",
       "    </tr>\n",
       "    <tr>\n",
       "      <th>60180</th>\n",
       "      <td>0</td>\n",
       "      <td>1</td>\n",
       "      <td>1</td>\n",
       "      <td>1</td>\n",
       "      <td>1</td>\n",
       "      <td>1</td>\n",
       "      <td>2</td>\n",
       "      <td>2</td>\n",
       "      <td>1</td>\n",
       "      <td>2</td>\n",
       "      <td>...</td>\n",
       "      <td>(0, 0.0)</td>\n",
       "      <td>3.0</td>\n",
       "      <td>0.262610</td>\n",
       "      <td>False</td>\n",
       "      <td>True</td>\n",
       "      <td>False</td>\n",
       "      <td>False</td>\n",
       "      <td>True</td>\n",
       "      <td>False</td>\n",
       "      <td>0</td>\n",
       "    </tr>\n",
       "    <tr>\n",
       "      <th>60181</th>\n",
       "      <td>0</td>\n",
       "      <td>0</td>\n",
       "      <td>0</td>\n",
       "      <td>0</td>\n",
       "      <td>0</td>\n",
       "      <td>0</td>\n",
       "      <td>0</td>\n",
       "      <td>1</td>\n",
       "      <td>0</td>\n",
       "      <td>2</td>\n",
       "      <td>...</td>\n",
       "      <td>(0, 0.0)</td>\n",
       "      <td>3.0</td>\n",
       "      <td>0.320093</td>\n",
       "      <td>False</td>\n",
       "      <td>True</td>\n",
       "      <td>False</td>\n",
       "      <td>False</td>\n",
       "      <td>True</td>\n",
       "      <td>False</td>\n",
       "      <td>0</td>\n",
       "    </tr>\n",
       "    <tr>\n",
       "      <th>60182</th>\n",
       "      <td>0</td>\n",
       "      <td>0</td>\n",
       "      <td>1</td>\n",
       "      <td>0</td>\n",
       "      <td>1</td>\n",
       "      <td>0</td>\n",
       "      <td>0</td>\n",
       "      <td>1</td>\n",
       "      <td>0</td>\n",
       "      <td>2</td>\n",
       "      <td>...</td>\n",
       "      <td>(0, 0.0)</td>\n",
       "      <td>3.0</td>\n",
       "      <td>0.117246</td>\n",
       "      <td>False</td>\n",
       "      <td>True</td>\n",
       "      <td>False</td>\n",
       "      <td>False</td>\n",
       "      <td>True</td>\n",
       "      <td>False</td>\n",
       "      <td>0</td>\n",
       "    </tr>\n",
       "  </tbody>\n",
       "</table>\n",
       "<p>38693 rows × 395 columns</p>\n",
       "</div>"
      ],
      "text/plain": [
       "       1  2  3  4  5  6  7  8  9  10  ...  trial_type  segment  dist_to_maze  \\\n",
       "5025   0  0  0  0  1  1  4  2  0   2  ...    (0, 0.0)      3.0      0.375855   \n",
       "5026   0  0  0  0  0  0  0  0  0   1  ...    (0, 0.0)      3.0      0.389943   \n",
       "5027   0  1  0  0  2  2  2  4  3   1  ...    (0, 0.0)      3.0      0.179165   \n",
       "5028   0  1  1  0  2  3  2  2  2   5  ...    (0, 0.0)      3.0      0.059385   \n",
       "5029   0  0  3  2  1  3  3  3  1   3  ...    (0, 0.0)      3.0      0.278633   \n",
       "...   .. .. .. .. .. .. .. .. ..  ..  ...         ...      ...           ...   \n",
       "60178  0  0  0  1  0  1  0  3  1   3  ...    (0, 0.0)      3.0      0.371671   \n",
       "60179  0  0  1  0  1  1  0  1  0   3  ...    (0, 0.0)      3.0      0.060107   \n",
       "60180  0  1  1  1  1  1  2  2  1   2  ...    (0, 0.0)      3.0      0.262610   \n",
       "60181  0  0  0  0  0  0  0  1  0   2  ...    (0, 0.0)      3.0      0.320093   \n",
       "60182  0  0  1  0  1  0  0  1  0   2  ...    (0, 0.0)      3.0      0.117246   \n",
       "\n",
       "       off_track  on_track  off_track_event  pause_event  directed_locomotion  \\\n",
       "5025       False      True            False        False                 True   \n",
       "5026       False      True            False        False                 True   \n",
       "5027       False      True            False        False                 True   \n",
       "5028       False      True            False        False                 True   \n",
       "5029       False      True            False        False                 True   \n",
       "...          ...       ...              ...          ...                  ...   \n",
       "60178      False      True            False        False                 True   \n",
       "60179      False      True            False        False                 True   \n",
       "60180      False      True            False        False                 True   \n",
       "60181      False      True            False        False                 True   \n",
       "60182      False      True            False        False                 True   \n",
       "\n",
       "       low_speed  lin_binned  \n",
       "5025       False           0  \n",
       "5026       False           0  \n",
       "5027       False           0  \n",
       "5028       False           0  \n",
       "5029       False           0  \n",
       "...          ...         ...  \n",
       "60178      False           0  \n",
       "60179      False           0  \n",
       "60180      False           0  \n",
       "60181      False           0  \n",
       "60182      False           0  \n",
       "\n",
       "[38693 rows x 395 columns]"
      ]
     },
     "execution_count": 54,
     "metadata": {},
     "output_type": "execute_result"
    }
   ],
   "source": [
    "spk_beh_df_sub.loc[ma]"
   ]
  },
  {
   "cell_type": "code",
   "execution_count": null,
   "id": "b8817301",
   "metadata": {},
   "outputs": [],
   "source": []
  }
 ],
 "metadata": {
  "kernelspec": {
   "display_name": "jax",
   "language": "python",
   "name": "jax"
  },
  "language_info": {
   "codemirror_mode": {
    "name": "ipython",
    "version": 3
   },
   "file_extension": ".py",
   "mimetype": "text/x-python",
   "name": "python",
   "nbconvert_exporter": "python",
   "pygments_lexer": "ipython3",
   "version": "3.9.16"
  }
 },
 "nbformat": 4,
 "nbformat_minor": 5
}
