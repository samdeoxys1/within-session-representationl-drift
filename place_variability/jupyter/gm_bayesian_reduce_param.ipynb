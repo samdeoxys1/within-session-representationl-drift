{
 "cells": [
  {
   "cell_type": "code",
   "execution_count": 1,
   "id": "d249350c",
   "metadata": {},
   "outputs": [
    {
     "data": {
      "text/plain": [
       "<module 'plot_mcmc' from '/mnt/home/szheng/projects/util_code/plot_mcmc.py'>"
      ]
     },
     "execution_count": 1,
     "metadata": {},
     "output_type": "execute_result"
    }
   ],
   "source": [
    "import jax\n",
    "import jax.numpy as np\n",
    "import jax.scipy.stats as stats\n",
    "import matplotlib.pyplot as plt\n",
    "import numpy,pickle\n",
    "from jax.tree_util import tree_map, tree_flatten\n",
    "from jax.flatten_util import ravel_pytree\n",
    "\n",
    "from jax import jit,vmap\n",
    "import pandas as pd\n",
    "import blackjax\n",
    "\n",
    "import sys,os,importlib,pdb\n",
    "sys.path.append('/mnt/home/szheng/projects/util_code')\n",
    "import gm\n",
    "\n",
    "import scipy\n",
    "from scipy.signal import find_peaks\n",
    "import data_prep_new as dpn\n",
    "import place_cell_analysis as pa\n",
    "import plot_helper as ph\n",
    "from importlib import reload\n",
    "\n",
    "import copy\n",
    "\n",
    "%matplotlib inline\n",
    "import gm_glm_bayesian as glm\n",
    "import gm_glm_bayesian_helper as glmh\n",
    "import math_functions as mf\n",
    "import plot_mcmc as pmc\n",
    "reload(pmc)"
   ]
  },
  {
   "cell_type": "code",
   "execution_count": 2,
   "id": "a0583545",
   "metadata": {},
   "outputs": [],
   "source": [
    "sess_name=\"e15_13f1_220117\"\n",
    "py_data_dir = \"/mnt/home/szheng/ceph/ad/roman_data/e15/e15_13f1/e15_13f1_220117/py_data\"\n",
    "fr_ = pickle.load(open(os.path.join(py_data_dir,'fr.p'),'rb'))\n",
    "pos_bins = fr_['pos_bins']['lin']\n",
    "bin_to_lin=numpy.concatenate([pos_bins[:-1,None],pos_bins[1:,None]],axis=1).mean(axis=1)\n",
    "\n",
    "fr = fr_['df']['pyr']\n",
    "fr_map_ = pickle.load(open(os.path.join(py_data_dir,'fr_map.p'),'rb'))['fr_map_trial']"
   ]
  },
  {
   "cell_type": "code",
   "execution_count": 3,
   "id": "d03d2175",
   "metadata": {},
   "outputs": [],
   "source": [
    "unit_int = 31\n",
    "unit_str = f'unit_{unit_int}'\n",
    "\n",
    "unit_ind_in_pyr = 0\n",
    "\n",
    "trial_ind_dict = dict(fr.groupby('visitedArm')['trial'].unique())\n",
    "fr_map_one_unit_both_trials_dict = {k:val[unit_ind_in_pyr] for k,val in fr_map_.items()}\n",
    "pars=gm.init_both_trial_types(fr_map_one_unit_both_trials_dict,trial_ind_dict,bin_to_lin=None)\n",
    "\n",
    "pars_rand=gm.init_both_trial_types(fr_map_one_unit_both_trials_dict,trial_ind_dict,bin_to_lin=None,random_init=True)\n",
    "\n",
    "\n",
    "regressors=glm.get_regressors(fr)\n",
    "target = fr[unit_str].values\n",
    "pars=gm.init_both_trial_types(fr_map_one_unit_both_trials_dict,trial_ind_dict,bin_to_lin=None,random_init=True)\n"
   ]
  },
  {
   "cell_type": "code",
   "execution_count": 4,
   "id": "c982afc2",
   "metadata": {},
   "outputs": [
    {
     "data": {
      "image/png": "[encoded data removed]",
      "text/plain": [
       "<Figure size 432x288 with 1 Axes>"
      ]
     },
     "metadata": {
      "needs_background": "light"
     },
     "output_type": "display_data"
    }
   ],
   "source": [
    "inds = slice(250,1200)\n",
    "regressors_sim = {'trial_inds_int':regressors['trial_inds_int'][inds],'position':regressors['position'][inds],'dt':regressors['dt']}\n",
    "plt.plot(regressors_sim['position'])\n",
    "trial_len = len(regressors_sim['position'])"
   ]
  },
  {
   "cell_type": "code",
   "execution_count": 11,
   "id": "c3d6938c",
   "metadata": {},
   "outputs": [
    {
     "data": {
      "text/plain": [
       "[<matplotlib.lines.Line2D at 0x154cda86dbe0>]"
      ]
     },
     "execution_count": 11,
     "metadata": {},
     "output_type": "execute_result"
    },
    {
     "data": {
      "image/png": "[encoded data removed]",
      "text/plain": [
       "<Figure size 432x288 with 1 Axes>"
      ]
     },
     "metadata": {
      "needs_background": "light"
     },
     "output_type": "display_data"
    }
   ],
   "source": [
    "reload(glmh)\n",
    "reload(glm)\n",
    "# generate multiple trials using the same param\n",
    "ntrials = 20#40#60#20\n",
    "# pars_sim = gm.init_all_trials(ntrials=1,random_init=True,sigma_default=10)\n",
    "# pars_sim = {'logws':np.array([[50.,90.]]),'mus':np.array([[70,90]]),'logb':np.array([1.]),'logsigmas':np.array([[20.,10.]])}\n",
    "# pars_sim = {'logws':np.array([[50.,90.]]),'mus':np.array([30,90]),'logb':np.array([1.]),'logsigmas':np.array([5.,5.])}\n",
    "# pars_sim = {'logws':np.array([[90.,90.]]),'mus':np.array([[40,150]]),'logb':np.array([[1.]]),'logsigmas':np.array([[5.,5.]])}\n",
    "pars_sim_trans = {'logws_bar':np.array([[90.,90.]]),'mus':np.array([[40,150]]),'logb_bar':np.array([[1.]]),'logsigmas':np.array([[5.,5.]]),'delta_ws':np.array([[0.,0.]]),'delta_b':np.array([[0.]])}\n",
    "# pars_sim = duplicate_dict(pars_sim,(ntrials,1))\n",
    "\n",
    "regressors_sim_dup=glmh.duplicate_dict(regressors_sim,N=ntrials,trial_len=trial_len)\n",
    "\n",
    "# target_rate = glm.forward(regressors_sim_dup,pars_sim)\n",
    "target_rate = glm.forward(regressors_sim_dup,pars_sim_trans)\n",
    "target_spk = numpy.random.poisson(target_rate)\n",
    "\n",
    "ys_l=glm.gm_func_by_trial(gm.get_regressor({'xs':np.arange(220)}),pars_sim_trans)\n",
    "\n",
    "plt.plot(np.squeeze(ys_l))\n"
   ]
  },
  {
   "cell_type": "code",
   "execution_count": 12,
   "id": "9f922345",
   "metadata": {},
   "outputs": [],
   "source": [
    "def construct_inv_mass(pars_,uncentered=True):\n",
    "    '''\n",
    "    scale_dict: rough range of variation each parameter can have\n",
    "    block diagonal matrix, \n",
    "    each block:  the same paramter across trials have covariance given by inverse modified laplacian times the scale / 2 * (sth related to ntrials), since single trial accumulates less gradient than the trial averaged params\n",
    "    otherwise, diagonal given by the scale\n",
    "    in the end, divide everything by the max of these scales\n",
    "    '''\n",
    "\n",
    "#     pars_ = pars_sim_init_one\n",
    "    if uncentered:\n",
    "        \n",
    "        nfields=pars_['mus'].shape[1]\n",
    "        ntrials =pars_['delta_ws'].shape[0]\n",
    "        scale_dict = {'logb_bar':2., 'delta_b':0.5, 'logsigmas':10., 'logws_bar':100.,'delta_ws':20., 'mus':200./nfields, 'ws_bar':100.}\n",
    "        \n",
    "    else:\n",
    "        \n",
    "        nfields=pars_['mus'].shape[1]\n",
    "        ntrials =pars_['logws'].shape[0]\n",
    "        scale_dict = {'b_bar':2., 'logb':2., 'logsigmas':10., 'logws':100., 'mus':200/nfields, 'ws_bar':100.}\n",
    "    cov_base = mf.get_modified_laplacian_matrix(ntrials,inv=True)\n",
    "\n",
    "    pars_flatten,treedef=tree_flatten(pars_)\n",
    "    par_keys = sorted(pars_.keys())\n",
    "    npars = len(ravel_pytree(pars_)[0])\n",
    "    inv_mass_l = []\n",
    "    for k,pf in zip(par_keys,pars_flatten):\n",
    "        scale = scale_dict[k]\n",
    "        if len(pf.shape)<=1:\n",
    "            sub_inv_mass_one = np.eye(1) * scale\n",
    "        else:\n",
    "            ntrials,nfields=pf.shape\n",
    "            nparleaf = ntrials * nfields\n",
    "            if ntrials > 1:\n",
    "#                 sub_inv_mass_one = np.zeros((nparleaf,nparleaf))\n",
    "#                 cov_across_trials = cov_base * scale / 2  # when loss is summed\n",
    "#                 for k in range(nfields):\n",
    "#                     sub_inv_mass_one=sub_inv_mass_one.at[k::nfields,k::nfields].set(cov_across_trials)\n",
    "                sub_inv_mass_one = np.eye(nparleaf) * scale\n",
    "            else:\n",
    "                sub_inv_mass_one = np.eye(nfields) * scale\n",
    "\n",
    "\n",
    "        inv_mass_l.append(sub_inv_mass_one)\n",
    "    inv_mass_matrix = scipy.linalg.block_diag(*inv_mass_l)\n",
    "    inv_mass_matrix = inv_mass_matrix / numpy.max(list(scale_dict.values()))\n",
    "\n",
    "    return inv_mass_matrix\n",
    "\n",
    "# inv_mass_matrix = construct_inv_mass(pars_)"
   ]
  },
  {
   "cell_type": "code",
   "execution_count": 101,
   "id": "91361cfb",
   "metadata": {},
   "outputs": [
    {
     "data": {
      "text/plain": [
       "<module 'gm_glm_bayesian' from '/mnt/home/szheng/projects/util_code/gm_glm_bayesian.py'>"
      ]
     },
     "execution_count": 101,
     "metadata": {},
     "output_type": "execute_result"
    }
   ],
   "source": [
    "reload(glm)"
   ]
  },
  {
   "cell_type": "code",
   "execution_count": 53,
   "id": "c85aa324-4c92-4fcc-a7d4-107387962129",
   "metadata": {},
   "outputs": [
    {
     "data": {
      "text/plain": [
       "DeviceArray([[[87.7147 , 49.53588]]], dtype=float32)"
      ]
     },
     "execution_count": 53,
     "metadata": {},
     "output_type": "execute_result"
    }
   ],
   "source": [
    "pars_sim_init_multi['logws_bar']"
   ]
  },
  {
   "cell_type": "code",
   "execution_count": 111,
   "id": "8c61fdb0",
   "metadata": {},
   "outputs": [
    {
     "name": "stdout",
     "output_type": "stream",
     "text": [
      "CPU times: user 1min 58s, sys: 17 s, total: 2min 15s\n",
      "Wall time: 2min 16s\n"
     ]
    }
   ],
   "source": [
    "%%time\n",
    "K = 2\n",
    "Nchains = 1#16\n",
    "Nsamples = 20000#2000\n",
    "regressors_ = regressors_sim_dup\n",
    "reg_pars = gm.get_reg_pars({'g_mu':0.1,'g_sigma':0.1,'g_w':10.,'g_b':10.,'g_sigma_thresh':100000.,'sigma_thresh':3,'g_sigma_shrinkage':10.})\n",
    "# reg_pars = gm.get_reg_pars({'g_mu':100,'g_sigma':100,'g_w':1000.,'g_b':1000.,'g_sigma_thresh':10.,'sigma_thresh':3,'g_sigma_shrinkage':0.01})\n",
    "\n",
    "key = jax.random.PRNGKey(0)\n",
    "key_l = jax.random.split(key,num=Nchains)\n",
    "pars_sim_init_multi=jax.vmap(glm.random_init_jax,in_axes=(0,None,None))(key_l,ntrials,K)\n",
    "\n",
    "pars_sim_init_multi['logws_bar']=pars_sim_init_multi['logws_bar'].at[0,0].set(np.array([1.,60.]))\n",
    "pars_sim_init_multi['mus']=pars_sim_init_multi['mus'].at[0,0].set(np.array([10.,180.]))\n",
    "\n",
    "pars_sim_init_one = glm.random_init_jax(key,ntrials,K)\n",
    "nparams = len(jax.flatten_util.ravel_pytree(pars_sim_init_one)[0])\n",
    "inv_mass_matrix = np.ones(nparams)\n",
    "# inv_mass_matrix = construct_inv_mass(pars_sim_init_one,uncentered=True)\n",
    "\n",
    "step_size = 1e-2#2e-3\n",
    "# sampler_func = blackjax.nuts\n",
    "# sampler_kw = {'step_size':step_size,'inv_mass_matrix':inv_mass_matrix}\n",
    "sampler_func = blackjax.hmc\n",
    "sampler_kw = {'step_size':step_size,'inv_mass_matrix':inv_mass_matrix,'num_integration_steps':60}\n",
    "\n",
    "# sampler_func = blackjax.mala\n",
    "# sampler_kw = {'step_size':step_size}\n",
    "\n",
    "\n",
    "states,infos = glm.fit_multichain(regressors_,pars_sim_init_multi,target_spk, reg_pars=reg_pars,reg_type='gaussian_logprior_laplacian' ,sampler_func=sampler_func,sampler_kw=sampler_kw,num_samples=Nsamples,rng_key_int=0)\n",
    "samples = states.position\n",
    "try:\n",
    "    logprob=states.logprob\n",
    "    logprob_grad =states.logprob_grad \n",
    "except:\n",
    "    logprob=-states.potential_energy\n",
    "    logprob_grad =states.potential_energy_grad"
   ]
  },
  {
   "cell_type": "code",
   "execution_count": 112,
   "id": "d0784753",
   "metadata": {},
   "outputs": [
    {
     "name": "stdout",
     "output_type": "stream",
     "text": [
      "acceptance rate:  0.99705\n"
     ]
    }
   ],
   "source": [
    "print('acceptance rate: ',infos.is_accepted.mean())"
   ]
  },
  {
   "cell_type": "code",
   "execution_count": 102,
   "id": "f35ed150",
   "metadata": {},
   "outputs": [
    {
     "data": {
      "text/plain": [
       "DeviceArray([[4.0672420e-04, 6.1522760e-06],\n",
       "             [3.8889921e-04, 6.8599984e-06],\n",
       "             [4.0590379e-04, 7.3759716e-06],\n",
       "             [3.9461593e-04, 6.2073559e-06],\n",
       "             [4.2137507e-04, 7.0728183e-06],\n",
       "             [4.1426235e-04, 6.3659654e-06],\n",
       "             [4.0543330e-04, 4.4222570e-06],\n",
       "             [4.0120745e-04, 7.5734788e-06],\n",
       "             [4.0511909e-04, 6.2372415e-06],\n",
       "             [4.1235128e-04, 4.5427114e-06],\n",
       "             [4.0158030e-04, 7.1791815e-06],\n",
       "             [4.1382419e-04, 7.4259742e-06],\n",
       "             [4.0584491e-04, 6.0144466e-06],\n",
       "             [3.8580009e-04, 7.6761635e-06],\n",
       "             [3.9254496e-04, 7.4187046e-06],\n",
       "             [3.8545113e-04, 5.4033981e-06],\n",
       "             [4.0466888e-04, 7.7177392e-06],\n",
       "             [3.9610523e-04, 6.3049793e-06],\n",
       "             [4.0496956e-04, 7.1187224e-06],\n",
       "             [3.9794549e-04, 6.2129561e-06]], dtype=float32)"
      ]
     },
     "execution_count": 102,
     "metadata": {},
     "output_type": "execute_result"
    }
   ],
   "source": [
    "jax.grad(glm.negative_logpdf_no_reg,argnums=1)(regressors_,pars_sim_init_one,target_spk)['delta_ws']"
   ]
  },
  {
   "cell_type": "code",
   "execution_count": 98,
   "id": "2b03c31e",
   "metadata": {},
   "outputs": [
    {
     "data": {
      "text/plain": [
       "DeviceArray([[7.727751  , 0.11689326],\n",
       "             [7.38908   , 0.13033997],\n",
       "             [7.7121625 , 0.14014344],\n",
       "             [7.497689  , 0.11793979],\n",
       "             [8.006117  , 0.13438353],\n",
       "             [7.870986  , 0.12095336],\n",
       "             [7.703222  , 0.08402288],\n",
       "             [7.622938  , 0.1438961 ],\n",
       "             [7.697255  , 0.11850759],\n",
       "             [7.834665  , 0.08631153],\n",
       "             [7.6300197 , 0.13640447],\n",
       "             [7.8626575 , 0.1410935 ],\n",
       "             [7.711055  , 0.11427451],\n",
       "             [7.330187  , 0.1458471 ],\n",
       "             [7.4583387 , 0.14095537],\n",
       "             [7.323565  , 0.10266458],\n",
       "             [7.6886835 , 0.14663704],\n",
       "             [7.525989  , 0.11979464],\n",
       "             [7.694427  , 0.13525574],\n",
       "             [7.560965  , 0.1180462 ]], dtype=float32)"
      ]
     },
     "execution_count": 98,
     "metadata": {},
     "output_type": "execute_result"
    }
   ],
   "source": [
    "jax.grad(glm.negative_logpdf_no_reg,argnums=1)(regressors_,pars_sim_init_one,target_spk)['delta_ws']"
   ]
  },
  {
   "cell_type": "code",
   "execution_count": 103,
   "id": "005b043e",
   "metadata": {},
   "outputs": [
    {
     "data": {
      "text/plain": [
       "DeviceArray([[4.5501222e-04, 4.4852510e-05],\n",
       "             [3.8508323e-04, 6.4485057e-06],\n",
       "             [4.0889770e-04, 7.7082395e-06],\n",
       "             [3.9214134e-04, 6.1775354e-06],\n",
       "             [4.2337060e-04, 7.2894741e-06],\n",
       "             [4.1277491e-04, 5.9466347e-06],\n",
       "             [4.0781390e-04, 5.5024484e-06],\n",
       "             [3.9784503e-04, 5.6204790e-06],\n",
       "             [4.0729734e-04, 7.2584885e-06],\n",
       "             [4.1176722e-04, 4.9260402e-06],\n",
       "             [4.0101071e-04, 6.9145517e-06],\n",
       "             [4.1605427e-04, 7.3704637e-06],\n",
       "             [4.0437601e-04, 6.6131283e-06],\n",
       "             [3.8526260e-04, 5.8281389e-06],\n",
       "             [3.9283588e-04, 9.8983182e-06],\n",
       "             [3.8480861e-04, 2.9376108e-06],\n",
       "             [4.0725048e-04, 9.7170932e-06],\n",
       "             [3.9429215e-04, 4.3398859e-06],\n",
       "             [4.0435485e-04, 8.2882680e-06],\n",
       "             [4.1543524e-04, 4.1322161e-05]], dtype=float32)"
      ]
     },
     "execution_count": 103,
     "metadata": {},
     "output_type": "execute_result"
    }
   ],
   "source": [
    "jax.grad(glm.negative_logpdf,argnums=1)(regressors_,pars_sim_init_one,target_spk,mask=None,loss_type=\"poisson\",reg_pars=reg_pars,reg_type='gaussian_logprior_laplacian')['delta_ws']\n"
   ]
  },
  {
   "cell_type": "code",
   "execution_count": 99,
   "id": "71355cb4",
   "metadata": {},
   "outputs": [
    {
     "data": {
      "text/plain": [
       "DeviceArray([[8.645225  , 0.8521977 ],\n",
       "             [7.3165746 , 0.1225216 ],\n",
       "             [7.769049  , 0.14645654],\n",
       "             [7.45067   , 0.1173732 ],\n",
       "             [8.044027  , 0.13849999],\n",
       "             [7.8427258 , 0.11298606],\n",
       "             [7.7484536 , 0.10454652],\n",
       "             [7.5590487 , 0.1067891 ],\n",
       "             [7.7386403 , 0.13791128],\n",
       "             [7.8235683 , 0.09359477],\n",
       "             [7.6191897 , 0.1313765 ],\n",
       "             [7.905023  , 0.14003877],\n",
       "             [7.683145  , 0.12564944],\n",
       "             [7.319979  , 0.11073461],\n",
       "             [7.463869  , 0.18806803],\n",
       "             [7.311352  , 0.05581461],\n",
       "             [7.737734  , 0.18462476],\n",
       "             [7.4915376 , 0.08245787],\n",
       "             [7.6827426 , 0.1574771 ],\n",
       "             [7.893272  , 0.78512114]], dtype=float32)"
      ]
     },
     "execution_count": 99,
     "metadata": {},
     "output_type": "execute_result"
    }
   ],
   "source": [
    "jax.grad(glm.negative_logpdf,argnums=1)(regressors_,pars_sim_init_one,target_spk,mask=None,loss_type=\"poisson\",reg_pars=reg_pars,reg_type='gaussian_logprior_laplacian')['delta_ws']\n"
   ]
  },
  {
   "cell_type": "code",
   "execution_count": 114,
   "id": "c6dc4bba",
   "metadata": {
    "scrolled": true
   },
   "outputs": [
    {
     "name": "stdout",
     "output_type": "stream",
     "text": [
      "{'delta_b': DeviceArray([[   8.012433 ],\n",
      "             [-183.85486  ],\n",
      "             [   1.6813195],\n",
      "             [  -2.752476 ],\n",
      "             [ -58.24476  ],\n",
      "             [ -32.153973 ],\n",
      "             [  77.00168  ],\n",
      "             [ -61.026463 ],\n",
      "             [  17.09106  ],\n",
      "             [   8.4110155],\n",
      "             [ -74.20467  ],\n",
      "             [ -74.49098  ],\n",
      "             [ -56.005016 ],\n",
      "             [  79.1076   ],\n",
      "             [  25.22562  ],\n",
      "             [   1.6144445],\n",
      "             [ -91.34531  ],\n",
      "             [ -87.78226  ],\n",
      "             [  74.98224  ],\n",
      "             [  22.445282 ]], dtype=float32), 'delta_ws': DeviceArray([[ 108.45649 ,   19.902514],\n",
      "             [ -36.85266 ,  -71.45939 ],\n",
      "             [ -24.979282,  -99.62993 ],\n",
      "             [ 181.58641 ,  -17.416193],\n",
      "             [-181.58325 ,  -22.881546],\n",
      "             [ 182.61278 ,   68.51845 ],\n",
      "             [ -99.890915,  -36.670418],\n",
      "             [  55.290638,   98.3486  ],\n",
      "             [-115.33896 ,  -26.450083],\n",
      "             [  12.443492,   63.256435],\n",
      "             [ -12.606361,   12.116623],\n",
      "             [  25.685562,   -5.097927],\n",
      "             [ 114.44819 ,  -68.663635],\n",
      "             [-148.53323 ,  -83.04489 ],\n",
      "             [ -24.340542,  -28.14234 ],\n",
      "             [  40.23007 ,   26.241737],\n",
      "             [  20.776342,   38.873226],\n",
      "             [-106.90221 ,   43.53056 ],\n",
      "             [  58.2352  ,  -11.636066],\n",
      "             [  21.011034,  238.48967 ]], dtype=float32), 'logb_bar': DeviceArray([[-69.67393]], dtype=float32), 'logsigmas': DeviceArray([[40.77285 , 21.448427]], dtype=float32), 'logws_bar': DeviceArray([[-46.85439,  40.58993]], dtype=float32), 'mus': DeviceArray([[-116.326454,  140.74162 ]], dtype=float32)}\n"
     ]
    },
    {
     "data": {
      "image/png": "[encoded data removed]",
      "text/plain": [
       "<Figure size 288x720 with 5 Axes>"
      ]
     },
     "metadata": {
      "needs_background": "light"
     },
     "output_type": "display_data"
    }
   ],
   "source": [
    "samples_ = samples\n",
    "nrows=5\n",
    "ncols=1\n",
    "fig = plt.figure(figsize=(ncols*4,nrows*2))\n",
    "\n",
    "ax = fig.add_subplot(nrows,ncols,1)\n",
    "ax.plot(logprob)\n",
    "ax = fig.add_subplot(nrows,ncols,2)\n",
    "fig,ax=pmc.plot_one_trial_one_par('mus',None,samples_,fig=fig,ax=ax)\n",
    "ax.set_title('mu')\n",
    "ax = fig.add_subplot(nrows,ncols,3)\n",
    "fig,ax=pmc.plot_one_trial_one_par('logsigmas',None,samples_,fig=fig,ax=ax)\n",
    "ax.set_title('logsigma')\n",
    "\n",
    "ax = fig.add_subplot(nrows,ncols,4)\n",
    "# fig,ax=pmc.plot_one_trial_one_par('logws',0,samples_,fig=fig,ax=ax)\n",
    "fig,ax=pmc.plot_one_trial_one_par('logws_bar',None,samples_,fig=fig,ax=ax)\n",
    "ax.set_title('logw')\n",
    "\n",
    "\n",
    "\n",
    "loss_args=[regressors_sim_dup,pars_sim_trans,target_spk]\n",
    "loss_kwargs={'reg_pars':reg_pars,'reg_type':'gaussian_logprior_laplacian'}\n",
    "sample_ind=-1\n",
    "pars_one = glmh.get_one_sample(sample_ind,samples_,chain_ind=0)\n",
    "print(pars_one)\n",
    "val_l = numpy.arange(0,220,10).astype(float)\n",
    "field_ind=0\n",
    "loss_l=pmc.loss_landscape_1d(pars_one,'mus',field_ind,val_l,par_arg_index=1,loss_func=glm.negative_logpdf_no_reg,loss_args=loss_args,loss_kwargs=loss_kwargs)\n",
    "ax = fig.add_subplot(nrows,ncols,5)\n",
    "ax.plot(val_l,loss_l)\n",
    "ax.set_title('loss landscape')\n",
    "plt.tight_layout()\n",
    "\n"
   ]
  },
  {
   "cell_type": "code",
   "execution_count": null,
   "id": "6b103df8",
   "metadata": {},
   "outputs": [],
   "source": [
    "logprior(pars,reg_pars,reg_type=reg_type,mask=mask)"
   ]
  },
  {
   "cell_type": "code",
   "execution_count": 35,
   "id": "edb06fa7",
   "metadata": {},
   "outputs": [
    {
     "data": {
      "text/plain": [
       "{'delta_b': DeviceArray([[[[ 0.04786946],\n",
       "                [ 0.6255096 ],\n",
       "                [ 0.85233986],\n",
       "                ...,\n",
       "                [ 0.33776623],\n",
       "                [ 1.3424404 ],\n",
       "                [ 1.8433076 ]]],\n",
       " \n",
       " \n",
       "              [[[-0.19252485],\n",
       "                [ 0.5550217 ],\n",
       "                [ 0.80519533],\n",
       "                ...,\n",
       "                [ 0.1892926 ],\n",
       "                [ 1.3923852 ],\n",
       "                [ 1.7746204 ]]],\n",
       " \n",
       " \n",
       "              [[[-0.2552991 ],\n",
       "                [ 0.3335975 ],\n",
       "                [ 0.90650386],\n",
       "                ...,\n",
       "                [ 0.33638772],\n",
       "                [ 1.5568354 ],\n",
       "                [ 2.007082  ]]],\n",
       " \n",
       " \n",
       "              ...,\n",
       " \n",
       " \n",
       "              [[[ 1.6662805 ],\n",
       "                [ 4.5044866 ],\n",
       "                [-1.7583921 ],\n",
       "                ...,\n",
       "                [-1.31478   ],\n",
       "                [ 8.004282  ],\n",
       "                [ 3.570845  ]]],\n",
       " \n",
       " \n",
       "              [[[ 1.5023463 ],\n",
       "                [ 4.4752183 ],\n",
       "                [-1.7357255 ],\n",
       "                ...,\n",
       "                [-1.5205314 ],\n",
       "                [ 8.1218605 ],\n",
       "                [ 3.5464597 ]]],\n",
       " \n",
       " \n",
       "              [[[ 1.4711502 ],\n",
       "                [ 4.3345704 ],\n",
       "                [-1.77635   ],\n",
       "                ...,\n",
       "                [-1.2356795 ],\n",
       "                [ 8.185406  ],\n",
       "                [ 3.4921145 ]]]], dtype=float32),\n",
       " 'delta_ws': DeviceArray([[[[15.360347  ,  5.128929  ],\n",
       "                [ 8.896365  ,  2.8129077 ],\n",
       "                [11.291122  ,  8.755234  ],\n",
       "                ...,\n",
       "                [ 4.8576455 , 11.363448  ],\n",
       "                [ 0.25357148,  1.081865  ],\n",
       "                [ 0.26363468,  9.126034  ]]],\n",
       " \n",
       " \n",
       "              [[[15.301305  ,  5.232037  ],\n",
       "                [ 8.958507  ,  2.7147317 ],\n",
       "                [11.131821  ,  8.872145  ],\n",
       "                ...,\n",
       "                [ 4.8051934 , 11.517752  ],\n",
       "                [ 0.3298653 ,  1.0062671 ],\n",
       "                [ 0.25805363,  9.151744  ]]],\n",
       " \n",
       " \n",
       "              [[[15.276993  ,  5.2639627 ],\n",
       "                [ 8.918437  ,  2.5171056 ],\n",
       "                [11.2054205 ,  8.77771   ],\n",
       "                ...,\n",
       "                [ 4.8276763 , 11.294562  ],\n",
       "                [ 0.10030016,  1.0793422 ],\n",
       "                [ 0.33593014,  9.158346  ]]],\n",
       " \n",
       " \n",
       "              ...,\n",
       " \n",
       " \n",
       "              [[[12.013379  ,  2.1749587 ],\n",
       "                [-1.0602295 ,  0.40601295],\n",
       "                [12.579518  ,  1.3999913 ],\n",
       "                ...,\n",
       "                [-3.7853355 , 10.492154  ],\n",
       "                [-1.4094887 ,  2.3496022 ],\n",
       "                [ 2.5115547 , 13.2912    ]]],\n",
       " \n",
       " \n",
       "              [[[11.867492  ,  2.3899972 ],\n",
       "                [-1.1224926 ,  0.1960884 ],\n",
       "                [12.345104  ,  1.3984525 ],\n",
       "                ...,\n",
       "                [-3.9442375 , 10.3868685 ],\n",
       "                [-1.5367945 ,  2.1839454 ],\n",
       "                [ 2.6213658 , 13.034169  ]]],\n",
       " \n",
       " \n",
       "              [[[11.917599  ,  2.2544718 ],\n",
       "                [-1.1604272 ,  0.2544566 ],\n",
       "                [12.417755  ,  1.4162043 ],\n",
       "                ...,\n",
       "                [-4.0096874 , 10.326386  ],\n",
       "                [-1.5721779 ,  2.2166939 ],\n",
       "                [ 2.5903409 , 13.006177  ]]]], dtype=float32),\n",
       " 'logb_bar': DeviceArray([[[[ 0.7581917 ]]],\n",
       " \n",
       " \n",
       "              [[[ 0.72240305]]],\n",
       " \n",
       " \n",
       "              [[[ 0.845874  ]]],\n",
       " \n",
       " \n",
       "              ...,\n",
       " \n",
       " \n",
       "              [[[-0.8820833 ]]],\n",
       " \n",
       " \n",
       "              [[[-0.7695562 ]]],\n",
       " \n",
       " \n",
       "              [[[-0.7608791 ]]]], dtype=float32),\n",
       " 'logsigmas': DeviceArray([[[[34.074055 , 44.332157 ]]],\n",
       " \n",
       " \n",
       "              [[[34.066906 , 44.079044 ]]],\n",
       " \n",
       " \n",
       "              [[[33.851673 , 43.74434  ]]],\n",
       " \n",
       " \n",
       "              ...,\n",
       " \n",
       " \n",
       "              [[[ 3.749383 ,  3.2197897]]],\n",
       " \n",
       " \n",
       "              [[[ 3.7461457,  3.25237  ]]],\n",
       " \n",
       " \n",
       "              [[[ 3.7297394,  3.366732 ]]]], dtype=float32),\n",
       " 'logws_bar': DeviceArray([[[[ 1.034775 , 59.873703 ]]],\n",
       " \n",
       " \n",
       "              [[[ 1.1575679, 59.924263 ]]],\n",
       " \n",
       " \n",
       "              [[[ 1.0281746, 59.958824 ]]],\n",
       " \n",
       " \n",
       "              ...,\n",
       " \n",
       " \n",
       "              [[[-3.228413 , 51.035934 ]]],\n",
       " \n",
       " \n",
       "              [[[-3.221307 , 51.060196 ]]],\n",
       " \n",
       " \n",
       "              [[[-3.148901 , 51.20851  ]]]], dtype=float32),\n",
       " 'mus': DeviceArray([[[[  9.936485 , 180.25085  ]]],\n",
       " \n",
       " \n",
       "              [[[  9.886532 , 180.40466  ]]],\n",
       " \n",
       " \n",
       "              [[[  9.911938 , 180.62897  ]]],\n",
       " \n",
       " \n",
       "              ...,\n",
       " \n",
       " \n",
       "              [[[ 13.602009 , 171.88507  ]]],\n",
       " \n",
       " \n",
       "              [[[ 13.7644005, 171.84387  ]]],\n",
       " \n",
       " \n",
       "              [[[ 13.616371 , 172.02148  ]]]], dtype=float32)}"
      ]
     },
     "execution_count": 35,
     "metadata": {},
     "output_type": "execute_result"
    }
   ],
   "source": [
    "samples"
   ]
  },
  {
   "cell_type": "code",
   "execution_count": 59,
   "id": "c802bd8b",
   "metadata": {},
   "outputs": [
    {
     "data": {
      "text/plain": [
       "[<matplotlib.lines.Line2D at 0x15542d3cca60>]"
      ]
     },
     "execution_count": 59,
     "metadata": {},
     "output_type": "execute_result"
    },
    {
     "data": {
      "image/png": "[encoded data removed]",
      "text/plain": [
       "<Figure size 432x288 with 1 Axes>"
      ]
     },
     "metadata": {
      "needs_background": "light"
     },
     "output_type": "display_data"
    }
   ],
   "source": [
    "trial_ind=8\n",
    "plt.plot(states.potential_energy_grad['logws_bar'][:,0,trial_ind,0])"
   ]
  },
  {
   "cell_type": "code",
   "execution_count": 60,
   "id": "038074ba",
   "metadata": {},
   "outputs": [],
   "source": [
    "df=glmh.get_df(regressors_sim_dup,nbins=220,target_spk=target_spk)"
   ]
  },
  {
   "cell_type": "code",
   "execution_count": 224,
   "id": "0b2fe7ca",
   "metadata": {},
   "outputs": [
    {
     "data": {
      "text/plain": [
       "<AxesSubplot:xlabel='position_bin'>"
      ]
     },
     "execution_count": 224,
     "metadata": {},
     "output_type": "execute_result"
    },
    {
     "data": {
      "image/png": "[encoded data removed]",
      "text/plain": [
       "<Figure size 432x288 with 1 Axes>"
      ]
     },
     "metadata": {
      "needs_background": "light"
     },
     "output_type": "display_data"
    }
   ],
   "source": [
    "df.query('trial_inds_int==0').groupby('position_bin')['target_spk'].mean().plot()"
   ]
  },
  {
   "cell_type": "code",
   "execution_count": 229,
   "id": "420254cd",
   "metadata": {},
   "outputs": [
    {
     "data": {
      "text/plain": [
       "DeviceArray([[4.428526 , 2.9495473]], dtype=float32)"
      ]
     },
     "execution_count": 229,
     "metadata": {},
     "output_type": "execute_result"
    }
   ],
   "source": [
    "pars_one['logsigmas']"
   ]
  },
  {
   "cell_type": "code",
   "execution_count": 234,
   "id": "4177bf8f",
   "metadata": {},
   "outputs": [
    {
     "data": {
      "text/plain": [
       "DeviceArray([[ 40.375145, 241.95139 ]], dtype=float32)"
      ]
     },
     "execution_count": 234,
     "metadata": {},
     "output_type": "execute_result"
    }
   ],
   "source": [
    "pars_one['mus']"
   ]
  },
  {
   "cell_type": "code",
   "execution_count": 239,
   "id": "11957fbf",
   "metadata": {},
   "outputs": [
    {
     "data": {
      "text/plain": [
       "DeviceArray(24546.703, dtype=float32)"
      ]
     },
     "execution_count": 239,
     "metadata": {},
     "output_type": "execute_result"
    }
   ],
   "source": [
    "pars_one = glmh.get_one_sample(-1,samples_,chain_ind=0)\n",
    "# glm.logpdf_no_reg(regressors_sim_dup,pars_one,target_spk)\n",
    "glm.negative_logpdf_no_reg(regressors_sim_dup,pars_one,target_spk)"
   ]
  },
  {
   "cell_type": "code",
   "execution_count": 240,
   "id": "a1fa65b1",
   "metadata": {},
   "outputs": [
    {
     "data": {
      "text/plain": [
       "DeviceArray(28616.408, dtype=float32)"
      ]
     },
     "execution_count": 240,
     "metadata": {},
     "output_type": "execute_result"
    }
   ],
   "source": [
    "pars_one_copy=copy.copy(pars_one)\n",
    "pars_one_copy['mus'] = pars_one['mus'].at[0,0].set(0)\n",
    "# glm.logpdf_no_reg(regressors_sim_dup,pars_one_copy,target_spk)\n",
    "glm.negative_logpdf_no_reg(regressors_sim_dup,pars_one_copy,target_spk)"
   ]
  },
  {
   "cell_type": "code",
   "execution_count": null,
   "id": "dc0fd159",
   "metadata": {},
   "outputs": [],
   "source": []
  }
 ],
 "metadata": {
  "kernelspec": {
   "display_name": "jax",
   "language": "python",
   "name": "jax"
  },
  "language_info": {
   "codemirror_mode": {
    "name": "ipython",
    "version": 3
   },
   "file_extension": ".py",
   "mimetype": "text/x-python",
   "name": "python",
   "nbconvert_exporter": "python",
   "pygments_lexer": "ipython3",
   "version": "3.9.13"
  }
 },
 "nbformat": 4,
 "nbformat_minor": 5
}
