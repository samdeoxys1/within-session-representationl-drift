{
 "cells": [
  {
   "cell_type": "code",
   "execution_count": 1,
   "id": "8a347779",
   "metadata": {},
   "outputs": [
    {
     "name": "stdout",
     "output_type": "stream",
     "text": [
      "67 sessions!\n",
      "67 sessions!\n"
     ]
    }
   ],
   "source": [
    "import numpy as np\n",
    "import scipy\n",
    "import sklearn\n",
    "from sklearn.decomposition import NMF\n",
    "from sklearn.cluster import KMeans\n",
    "from sklearn.mixture import GaussianMixture,BayesianGaussianMixture\n",
    "\n",
    "import pandas as pd\n",
    "\n",
    "import matplotlib.pyplot as plt\n",
    "import seaborn as sns\n",
    "import matplotlib as mpl\n",
    "mpl.rcParams['image.cmap'] = 'Greys'\n",
    "mpl.rcParams['axes.spines.right'] = False\n",
    "mpl.rcParams['axes.spines.top'] = False\n",
    "\n",
    "\n",
    "\n",
    "import sys,os,pdb,copy,pickle\n",
    "from importlib import reload\n",
    "# import pynapple as nap\n",
    "\n",
    "sys.path.append('/mnt/home/szheng/projects/seq_detection2/code')\n",
    "sys.path.append('/mnt/home/szheng/projects/util_code')\n",
    "sys.path.append('/mnt/home/szheng/projects/nmf_analysis')\n",
    "sys.path.append('/mnt/home/szheng/projects/nmf_analysis/scripts')\n",
    "sys.path.append('/mnt/home/szheng/projects/cluster_spikes')\n",
    "sys.path.append('/mnt/home/szheng/projects/place_variability/code')\n",
    "import data_prep_new as dpn\n",
    "import place_cell_analysis as pa\n",
    "import plot_helper as ph\n",
    "import preprocess as prep\n",
    "import nmf_analysis as na\n",
    "import nmf_plot as nmfp\n",
    "reload(na)\n",
    "\n",
    "import raster_new as rn\n",
    "import data_prep_pyn as dpp\n",
    "\n",
    "\n",
    "import change_point_analysis as cpa\n",
    "import change_point_plot as cpp\n",
    "\n",
    "import place_field_analysis as pf\n",
    "\n",
    "import switch_analysis_one_session as saos\n",
    "reload(saos)\n",
    "\n",
    "import process_central_arm as pca \n",
    "import change_point_analysis_central_arm_seperate as cpacas\n",
    "\n",
    "import misc\n",
    "reload(misc)\n",
    "from misc import get_nth_key, get_nth_val"
   ]
  },
  {
   "cell_type": "code",
   "execution_count": 2,
   "id": "e2a3673c",
   "metadata": {},
   "outputs": [],
   "source": [
    "import database\n",
    "reload(database)\n",
    "db = database.thomas_18_db"
   ]
  },
  {
   "cell_type": "code",
   "execution_count": 3,
   "id": "960f14b2",
   "metadata": {},
   "outputs": [],
   "source": [
    "figdir_root='/mnt/home/szheng/ceph/place_variability/fig/explore_imaging/'\n",
    "figdir = os.path.join(figdir_root,'pv_corr')\n",
    "figdir= misc.get_or_create_subdir(figdir)"
   ]
  },
  {
   "cell_type": "code",
   "execution_count": 4,
   "id": "26181feb",
   "metadata": {},
   "outputs": [],
   "source": [
    "sys.path.append('/mnt/home/szheng/projects/place_variability/code/thomas_18_data')"
   ]
  },
  {
   "cell_type": "code",
   "execution_count": 5,
   "id": "7814ea88",
   "metadata": {},
   "outputs": [
    {
     "name": "stderr",
     "output_type": "stream",
     "text": [
      "/mnt/home/szheng/ceph/envs/jax/lib/python3.9/site-packages/outdated/utils.py:14: OutdatedPackageWarning: The package pingouin is out of date. Your version is 0.5.2, the latest is 0.5.3.\n",
      "Set the environment variable OUTDATED_IGNORE=1 to disable these warnings.\n",
      "  return warn(\n"
     ]
    }
   ],
   "source": [
    "import fr_map_thomas_all_sess as fmtas\n",
    "reload(fmtas)\n",
    "import get_thomas_cell_metrics as gtcm\n",
    "reload(gtcm)\n",
    "import unimodal_nmf as unmf"
   ]
  },
  {
   "cell_type": "code",
   "execution_count": 6,
   "id": "e237b1c4",
   "metadata": {},
   "outputs": [
    {
     "name": "stdout",
     "output_type": "stream",
     "text": [
      "/mnt/home/szheng/ceph/ad/thomas_data/180301_DG_CA3_CA1/fr_map_all_mask_True.p exists; loading---\n",
      "CPU times: user 214 ms, sys: 1.9 s, total: 2.12 s\n",
      "Wall time: 22 s\n"
     ]
    }
   ],
   "source": [
    "%%time\n",
    "fr_map_all = fmtas.main(force_reload=False,load_only=True,dosave=True)\n",
    "fr_map_trial_df_all = fr_map_all['fr_map_trial_df_all']\n",
    "\n",
    "# occu_map = fr_map_all['occu_map_all']\n",
    "\n",
    "frmap = fr_map_all['fr_map_all']\n",
    "fr_map_trial_all = fr_map_all['fr_map_trial_all']\n",
    "occu_map = fr_map_all['occu_map_all']"
   ]
  },
  {
   "cell_type": "code",
   "execution_count": 7,
   "id": "e1672cb7",
   "metadata": {},
   "outputs": [],
   "source": [
    "# reshape fr_map_trial_df_all to make it easier to work with\n",
    "fr_map_trial_df_all_day =fr_map_trial_df_all.unstack(level=2).swaplevel(0,1,axis=1).sort_index(axis=1) # day in column\n",
    "fr_map_trial_df_all_per_uid=fr_map_trial_df_all.unstack(level=(2,3)).swaplevel(0,1,axis=1).swaplevel(1,2,axis=1).sort_index(axis=1).dropna(axis=1,how='all')\n",
    "frmap_all_day = frmap.unstack(level=2).swaplevel(0,1,axis=1).sort_index(level=0,axis=1)"
   ]
  },
  {
   "cell_type": "code",
   "execution_count": 8,
   "id": "34204fb9",
   "metadata": {},
   "outputs": [
    {
     "name": "stderr",
     "output_type": "stream",
     "text": [
      "/mnt/home/szheng/projects/util_code/place_cell_analysis.py:213: PerformanceWarning: indexing past lexsort depth may impact performance.\n",
      "  frmap_one=frmap.loc[kk].dropna(axis=1)\n",
      "/mnt/home/szheng/projects/util_code/place_cell_analysis.py:205: RuntimeWarning: invalid value encountered in true_divide\n",
      "  div = (fr_map_v / fr_mean[:,None])\n"
     ]
    }
   ],
   "source": [
    "reload(gtcm)\n",
    "reload(pa)\n",
    "per_cell_metrics=gtcm.get_variability_metrics(frmap,occu_map,fr_map_trial_df_all)"
   ]
  },
  {
   "cell_type": "code",
   "execution_count": 9,
   "id": "e0464f4a",
   "metadata": {},
   "outputs": [],
   "source": [
    "region,exp = db.iloc[0][['region','exp_ind']]\n",
    "isnovel =0"
   ]
  },
  {
   "cell_type": "code",
   "execution_count": 32,
   "id": "74165bc0",
   "metadata": {},
   "outputs": [
    {
     "name": "stderr",
     "output_type": "stream",
     "text": [
      "100%|██████████| 574/574 [00:06<00:00, 84.33it/s]\n"
     ]
    }
   ],
   "source": [
    "reload(gtcm)\n",
    "fr_map_trial_df_all_day_sub = fr_map_trial_df_all_day.loc[(region,exp,isnovel),:].dropna(axis=1,how='all')\n",
    "beg_end_corr_diff_df = gtcm.get_end_beg_diff_minus_beg_end_same_all(fr_map_trial_df_all_day_sub,cell_level=0,n_tr = 3)\n",
    "\n"
   ]
  },
  {
   "cell_type": "code",
   "execution_count": 67,
   "id": "16766a62",
   "metadata": {},
   "outputs": [
    {
     "data": {
      "text/html": [
       "<div>\n",
       "<style scoped>\n",
       "    .dataframe tbody tr th:only-of-type {\n",
       "        vertical-align: middle;\n",
       "    }\n",
       "\n",
       "    .dataframe tbody tr th {\n",
       "        vertical-align: top;\n",
       "    }\n",
       "\n",
       "    .dataframe thead th {\n",
       "        text-align: right;\n",
       "    }\n",
       "</style>\n",
       "<table border=\"1\" class=\"dataframe\">\n",
       "  <thead>\n",
       "    <tr style=\"text-align: right;\">\n",
       "      <th></th>\n",
       "      <th></th>\n",
       "      <th>end_beg_across</th>\n",
       "      <th>beg_end_same</th>\n",
       "      <th>diff</th>\n",
       "      <th>across_bigger</th>\n",
       "    </tr>\n",
       "  </thead>\n",
       "  <tbody>\n",
       "    <tr>\n",
       "      <th rowspan=\"3\" valign=\"top\">0</th>\n",
       "      <th>0</th>\n",
       "      <td>0.222299</td>\n",
       "      <td>-0.063602</td>\n",
       "      <td>0.285901</td>\n",
       "      <td>True</td>\n",
       "    </tr>\n",
       "    <tr>\n",
       "      <th>1</th>\n",
       "      <td>-0.385236</td>\n",
       "      <td>0.072249</td>\n",
       "      <td>-0.457484</td>\n",
       "      <td>False</td>\n",
       "    </tr>\n",
       "    <tr>\n",
       "      <th>2</th>\n",
       "      <td>0.346437</td>\n",
       "      <td>0.545101</td>\n",
       "      <td>-0.198665</td>\n",
       "      <td>False</td>\n",
       "    </tr>\n",
       "    <tr>\n",
       "      <th rowspan=\"2\" valign=\"top\">1</th>\n",
       "      <th>0</th>\n",
       "      <td>-0.150190</td>\n",
       "      <td>0.063347</td>\n",
       "      <td>-0.213537</td>\n",
       "      <td>False</td>\n",
       "    </tr>\n",
       "    <tr>\n",
       "      <th>1</th>\n",
       "      <td>-0.074937</td>\n",
       "      <td>0.125483</td>\n",
       "      <td>-0.200420</td>\n",
       "      <td>False</td>\n",
       "    </tr>\n",
       "    <tr>\n",
       "      <th>...</th>\n",
       "      <th>...</th>\n",
       "      <td>...</td>\n",
       "      <td>...</td>\n",
       "      <td>...</td>\n",
       "      <td>...</td>\n",
       "    </tr>\n",
       "    <tr>\n",
       "      <th rowspan=\"2\" valign=\"top\">572</th>\n",
       "      <th>1</th>\n",
       "      <td>-0.083965</td>\n",
       "      <td>0.159611</td>\n",
       "      <td>-0.243575</td>\n",
       "      <td>False</td>\n",
       "    </tr>\n",
       "    <tr>\n",
       "      <th>2</th>\n",
       "      <td>0.146789</td>\n",
       "      <td>0.409610</td>\n",
       "      <td>-0.262821</td>\n",
       "      <td>False</td>\n",
       "    </tr>\n",
       "    <tr>\n",
       "      <th rowspan=\"3\" valign=\"top\">573</th>\n",
       "      <th>0</th>\n",
       "      <td>0.139550</td>\n",
       "      <td>-0.106802</td>\n",
       "      <td>0.246352</td>\n",
       "      <td>True</td>\n",
       "    </tr>\n",
       "    <tr>\n",
       "      <th>1</th>\n",
       "      <td>-0.089680</td>\n",
       "      <td>-0.006637</td>\n",
       "      <td>-0.083044</td>\n",
       "      <td>False</td>\n",
       "    </tr>\n",
       "    <tr>\n",
       "      <th>2</th>\n",
       "      <td>-0.164041</td>\n",
       "      <td>0.114094</td>\n",
       "      <td>-0.278135</td>\n",
       "      <td>False</td>\n",
       "    </tr>\n",
       "  </tbody>\n",
       "</table>\n",
       "<p>1722 rows × 4 columns</p>\n",
       "</div>"
      ],
      "text/plain": [
       "       end_beg_across  beg_end_same      diff  across_bigger\n",
       "0   0        0.222299     -0.063602  0.285901           True\n",
       "    1       -0.385236      0.072249 -0.457484          False\n",
       "    2        0.346437      0.545101 -0.198665          False\n",
       "1   0       -0.150190      0.063347 -0.213537          False\n",
       "    1       -0.074937      0.125483 -0.200420          False\n",
       "...               ...           ...       ...            ...\n",
       "572 1       -0.083965      0.159611 -0.243575          False\n",
       "    2        0.146789      0.409610 -0.262821          False\n",
       "573 0        0.139550     -0.106802  0.246352           True\n",
       "    1       -0.089680     -0.006637 -0.083044          False\n",
       "    2       -0.164041      0.114094 -0.278135          False\n",
       "\n",
       "[1722 rows x 4 columns]"
      ]
     },
     "execution_count": 67,
     "metadata": {},
     "output_type": "execute_result"
    }
   ],
   "source": [
    "beg_end_corr_diff_df"
   ]
  },
  {
   "cell_type": "code",
   "execution_count": 113,
   "id": "f5840c6a",
   "metadata": {},
   "outputs": [],
   "source": [
    "sim = fr_map_trial_df_all_day_sub.corr()"
   ]
  },
  {
   "cell_type": "code",
   "execution_count": 134,
   "id": "61cf2273",
   "metadata": {},
   "outputs": [],
   "source": [
    "reload(gtcm)\n",
    "n_roll_min = 2\n",
    "nrepeats = 200\n",
    "n_tr = 3\n",
    "day_level = 0\n",
    "diff_l,end_beg_l,beg_end_mean_l = gtcm.get_end_beg_diff_minus_beg_end_same_direct(sim,n_tr=n_tr,day_level=day_level)\n",
    "pval,diff_l_sh_l = gtcm.shuffle_test_end_beg_diff_minus_beg_end_same(sim,n_tr=n_tr,n_roll_min=n_roll_min,nrepeats = nrepeats)\n"
   ]
  },
  {
   "cell_type": "code",
   "execution_count": 10,
   "id": "c316205a",
   "metadata": {},
   "outputs": [
    {
     "name": "stderr",
     "output_type": "stream",
     "text": [
      "100%|██████████| 62/62 [00:09<00:00,  6.57it/s]\n"
     ]
    }
   ],
   "source": [
    "# pv across_within_diff all sessions\n",
    "import tqdm\n",
    "gpb = fr_map_trial_df_all_day.groupby(level=(0,1,2))\n",
    "n_tr = 3\n",
    "diff_l_all = {}\n",
    "end_beg_l_all = {}\n",
    "beg_end_mean_l_all = {}\n",
    "for (region,exp,isnovel),val in tqdm.tqdm(gpb):\n",
    "    sim = val.dropna(axis=1,how='all').corr()\n",
    "    diff_l,end_beg_l,beg_end_mean_l = gtcm.get_end_beg_diff_minus_beg_end_same_direct(sim,n_tr=n_tr,day_level=0)\n",
    "    key=(region,exp,isnovel)\n",
    "    diff_l_all[key] = pd.Series(diff_l)\n",
    "    end_beg_l_all[key] = pd.Series(end_beg_l)\n",
    "    beg_end_mean_l_all[key]=pd.Series(beg_end_mean_l)\n",
    "diff_l_all = pd.concat(diff_l_all,axis=0)\n",
    "end_beg_l_all = pd.concat(end_beg_l_all,axis=0)\n",
    "beg_end_mean_l_all = pd.concat(beg_end_mean_l_all,axis=0)\n"
   ]
  },
  {
   "cell_type": "code",
   "execution_count": 15,
   "id": "5a366013",
   "metadata": {},
   "outputs": [],
   "source": [
    "diff_l_all_df = diff_l_all.reset_index().rename({'level_0':'region','level_1':'exp','level_2':'isnovel','level_3':'day',0:'diff'},axis=1)\n",
    "\n"
   ]
  },
  {
   "cell_type": "code",
   "execution_count": 35,
   "id": "ae24b432",
   "metadata": {},
   "outputs": [
    {
     "data": {
      "text/plain": [
       "WilcoxonResult(statistic=98.0, pvalue=0.0007033341098576784)"
      ]
     },
     "execution_count": 35,
     "metadata": {},
     "output_type": "execute_result"
    }
   ],
   "source": [
    "region='CA1'\n",
    "isnovel=0\n",
    "xx=diff_l_all.loc[region,slice(None),isnovel]\n",
    "scipy.stats.wilcoxon(xx)"
   ]
  },
  {
   "cell_type": "code",
   "execution_count": 32,
   "id": "bbfab313",
   "metadata": {},
   "outputs": [
    {
     "data": {
      "text/plain": [
       "<Axes: >"
      ]
     },
     "execution_count": 32,
     "metadata": {},
     "output_type": "execute_result"
    },
    {
     "data": {
      "image/png": "[encoded data removed]",
      "text/plain": [
       "<Figure size 432x288 with 1 Axes>"
      ]
     },
     "metadata": {
      "needs_background": "light"
     },
     "output_type": "display_data"
    }
   ],
   "source": [
    "diff_l_all.loc['CA1',slice(None),isnovel]"
   ]
  },
  {
   "cell_type": "code",
   "execution_count": null,
   "id": "0deaa48b",
   "metadata": {},
   "outputs": [],
   "source": []
  },
  {
   "cell_type": "code",
   "execution_count": 30,
   "id": "57be9b8f",
   "metadata": {},
   "outputs": [
    {
     "data": {
      "text/plain": [
       "<Axes: xlabel='region', ylabel='diff'>"
      ]
     },
     "execution_count": 30,
     "metadata": {},
     "output_type": "execute_result"
    },
    {
     "data": {
      "image/png": "[encoded data removed]",
      "text/plain": [
       "<Figure size 432x288 with 1 Axes>"
      ]
     },
     "metadata": {
      "needs_background": "light"
     },
     "output_type": "display_data"
    }
   ],
   "source": [
    "sns.boxplot(data=diff_l_all_df,x='region',y='diff',hue='isnovel')"
   ]
  },
  {
   "cell_type": "code",
   "execution_count": 193,
   "id": "0e80a945",
   "metadata": {},
   "outputs": [
    {
     "data": {
      "text/plain": [
       "{('CA1', 0, 0): array([0.12282393, 0.10149085, 0.03565654]),\n",
       " ('CA1', 0, 1): array([0.14328554, 0.07352385, 0.00761709]),\n",
       " ('CA1', 1, 0): array([0.08115545]),\n",
       " ('CA1', 1, 1): array([0.15030451]),\n",
       " ('CA1', 3, 0): array([0.09640787]),\n",
       " ('CA1', 3, 1): array([0.10987778]),\n",
       " ('CA1', 4, 0): array([0.08884261]),\n",
       " ('CA1', 4, 1): array([0.15461483]),\n",
       " ('CA1', 5, 0): array([0.05659347]),\n",
       " ('CA1', 5, 1): array([0.18999372]),\n",
       " ('CA1', 6, 0): array([0.06116997]),\n",
       " ('CA1', 6, 1): array([0.05446103]),\n",
       " ('CA1', 7, 0): array([0.04656908, 0.04366731]),\n",
       " ('CA1', 7, 1): array([0.04773897, 0.03878782]),\n",
       " ('CA1', 8, 0): array([0.02425234, 0.02587083]),\n",
       " ('CA1', 8, 1): array([0.0494076 , 0.04482961]),\n",
       " ('CA1', 9, 0): array([0.32079409]),\n",
       " ('CA1', 9, 1): array([0.17992202]),\n",
       " ('CA1', 10, 0): array([0.11603121, 0.14378369, 0.14271982, 0.12558894]),\n",
       " ('CA1', 10, 1): array([0.16568847, 0.26931315, 0.2174291 , 0.28370896]),\n",
       " ('CA1', 11, 0): array([0.06950324, 0.06380029, 0.04668274, 0.06198571]),\n",
       " ('CA1', 11, 1): array([0.11485318, 0.15238156, 0.19368962, 0.08606907]),\n",
       " ('CA1', 12, 0): array([0.02415604, 0.0436678 , 0.06529841, 0.0821927 ]),\n",
       " ('CA1', 12, 1): array([0.08079664, 0.036174  , 0.02845938, 0.15320609]),\n",
       " ('CA1', 13, 0): array([0.16728141, 0.12267602, 0.13753433, 0.38063094]),\n",
       " ('CA1', 13, 1): array([0.18821955, 0.07344821, 0.08738144, 0.39582611]),\n",
       " ('CA1', 14, 0): array([0.15293096, 0.35443263, 0.41049819, 0.36750373]),\n",
       " ('CA1', 14, 1): array([0.13185228, 0.40163515, 0.44727364, 0.42843363]),\n",
       " ('CA3', 0, 0): array([0.026616  , 0.04813953, 0.01092469, 0.04694571]),\n",
       " ('CA3', 0, 1): array([0.02573855, 0.04661646, 0.10282548, 0.08032901]),\n",
       " ('CA3', 1, 0): array([0.09196546]),\n",
       " ('CA3', 1, 1): array([0.08591521]),\n",
       " ('CA3', 3, 0): array([0.02607875]),\n",
       " ('CA3', 3, 1): array([0.05053964]),\n",
       " ('CA3', 4, 0): array([0.09684889]),\n",
       " ('CA3', 4, 1): array([0.02314293]),\n",
       " ('CA3', 5, 0): array([0.35647698]),\n",
       " ('CA3', 5, 1): array([0.16724714]),\n",
       " ('CA3', 6, 0): array([0.12763867]),\n",
       " ('CA3', 6, 1): array([0.2758243]),\n",
       " ('DG', 0, 0): array([0.12902681]),\n",
       " ('DG', 0, 1): array([0.02295216]),\n",
       " ('DG', 1, 0): array([0.13698197]),\n",
       " ('DG', 1, 1): array([0.0804776]),\n",
       " ('DG', 3, 0): array([0.21549657]),\n",
       " ('DG', 3, 1): array([0.08578278]),\n",
       " ('DG', 4, 0): array([0.03073581]),\n",
       " ('DG', 4, 1): array([0.01097622]),\n",
       " ('DG', 5, 0): array([0.00199473]),\n",
       " ('DG', 5, 1): array([0.01773023]),\n",
       " ('DG', 6, 0): array([0.03029296]),\n",
       " ('DG', 6, 1): array([0.03593201]),\n",
       " ('DG', 7, 0): array([0.19117791]),\n",
       " ('DG', 7, 1): array([0.08795675]),\n",
       " ('DG', 8, 0): array([0.34644768]),\n",
       " ('DG', 8, 1): array([0.05385819]),\n",
       " ('DG', 9, 0): array([0.22552409]),\n",
       " ('DG', 9, 1): array([0.13001652]),\n",
       " ('DG', 10, 0): array([0.07519609]),\n",
       " ('DG', 10, 1): array([0.10432349]),\n",
       " ('DG', 11, 0): array([0.20425282, 0.09616523, 0.14957276, 0.25796939]),\n",
       " ('DG', 11, 1): array([0.25424194, 0.10348538, 0.26651144, 0.24707596])}"
      ]
     },
     "execution_count": 193,
     "metadata": {},
     "output_type": "execute_result"
    }
   ],
   "source": [
    "end_beg_l_all"
   ]
  },
  {
   "cell_type": "code",
   "execution_count": 133,
   "id": "0ac7f350",
   "metadata": {
    "scrolled": true
   },
   "outputs": [
    {
     "data": {
      "text/html": [
       "<div>\n",
       "<style scoped>\n",
       "    .dataframe tbody tr th:only-of-type {\n",
       "        vertical-align: middle;\n",
       "    }\n",
       "\n",
       "    .dataframe tbody tr th {\n",
       "        vertical-align: top;\n",
       "    }\n",
       "\n",
       "    .dataframe thead tr th {\n",
       "        text-align: left;\n",
       "    }\n",
       "</style>\n",
       "<table border=\"1\" class=\"dataframe\">\n",
       "  <thead>\n",
       "    <tr>\n",
       "      <th></th>\n",
       "      <th></th>\n",
       "      <th colspan=\"10\" halign=\"left\">0</th>\n",
       "      <th>...</th>\n",
       "      <th colspan=\"10\" halign=\"left\">3</th>\n",
       "    </tr>\n",
       "    <tr>\n",
       "      <th></th>\n",
       "      <th></th>\n",
       "      <th>6</th>\n",
       "      <th>7</th>\n",
       "      <th>8</th>\n",
       "      <th>9</th>\n",
       "      <th>10</th>\n",
       "      <th>11</th>\n",
       "      <th>12</th>\n",
       "      <th>13</th>\n",
       "      <th>14</th>\n",
       "      <th>15</th>\n",
       "      <th>...</th>\n",
       "      <th>7</th>\n",
       "      <th>8</th>\n",
       "      <th>9</th>\n",
       "      <th>10</th>\n",
       "      <th>11</th>\n",
       "      <th>12</th>\n",
       "      <th>13</th>\n",
       "      <th>0</th>\n",
       "      <th>1</th>\n",
       "      <th>2</th>\n",
       "    </tr>\n",
       "  </thead>\n",
       "  <tbody>\n",
       "    <tr>\n",
       "      <th rowspan=\"5\" valign=\"top\">0</th>\n",
       "      <th>6</th>\n",
       "      <td>1.000000</td>\n",
       "      <td>0.390133</td>\n",
       "      <td>0.256704</td>\n",
       "      <td>0.336561</td>\n",
       "      <td>0.374095</td>\n",
       "      <td>0.296648</td>\n",
       "      <td>0.306788</td>\n",
       "      <td>0.302216</td>\n",
       "      <td>0.274212</td>\n",
       "      <td>0.160350</td>\n",
       "      <td>...</td>\n",
       "      <td>0.103930</td>\n",
       "      <td>0.100846</td>\n",
       "      <td>0.160278</td>\n",
       "      <td>0.134264</td>\n",
       "      <td>0.092356</td>\n",
       "      <td>0.134886</td>\n",
       "      <td>0.123681</td>\n",
       "      <td>0.166774</td>\n",
       "      <td>0.198036</td>\n",
       "      <td>0.096920</td>\n",
       "    </tr>\n",
       "    <tr>\n",
       "      <th>7</th>\n",
       "      <td>0.390133</td>\n",
       "      <td>1.000000</td>\n",
       "      <td>0.286113</td>\n",
       "      <td>0.368674</td>\n",
       "      <td>0.433869</td>\n",
       "      <td>0.372795</td>\n",
       "      <td>0.406078</td>\n",
       "      <td>0.364393</td>\n",
       "      <td>0.383692</td>\n",
       "      <td>0.329676</td>\n",
       "      <td>...</td>\n",
       "      <td>0.153518</td>\n",
       "      <td>0.117859</td>\n",
       "      <td>0.169863</td>\n",
       "      <td>0.158799</td>\n",
       "      <td>0.129980</td>\n",
       "      <td>0.225511</td>\n",
       "      <td>0.145851</td>\n",
       "      <td>0.195748</td>\n",
       "      <td>0.291413</td>\n",
       "      <td>0.188833</td>\n",
       "    </tr>\n",
       "    <tr>\n",
       "      <th>8</th>\n",
       "      <td>0.256704</td>\n",
       "      <td>0.286113</td>\n",
       "      <td>1.000000</td>\n",
       "      <td>0.215007</td>\n",
       "      <td>0.138078</td>\n",
       "      <td>0.190524</td>\n",
       "      <td>0.236995</td>\n",
       "      <td>0.136157</td>\n",
       "      <td>0.156514</td>\n",
       "      <td>0.285092</td>\n",
       "      <td>...</td>\n",
       "      <td>0.119099</td>\n",
       "      <td>0.094866</td>\n",
       "      <td>0.089051</td>\n",
       "      <td>0.083230</td>\n",
       "      <td>0.077228</td>\n",
       "      <td>0.112724</td>\n",
       "      <td>0.069813</td>\n",
       "      <td>0.127494</td>\n",
       "      <td>0.142808</td>\n",
       "      <td>0.131844</td>\n",
       "    </tr>\n",
       "    <tr>\n",
       "      <th>9</th>\n",
       "      <td>0.336561</td>\n",
       "      <td>0.368674</td>\n",
       "      <td>0.215007</td>\n",
       "      <td>1.000000</td>\n",
       "      <td>0.259645</td>\n",
       "      <td>0.314850</td>\n",
       "      <td>0.258111</td>\n",
       "      <td>0.270303</td>\n",
       "      <td>0.289699</td>\n",
       "      <td>0.208048</td>\n",
       "      <td>...</td>\n",
       "      <td>0.160616</td>\n",
       "      <td>0.137032</td>\n",
       "      <td>0.202287</td>\n",
       "      <td>0.202633</td>\n",
       "      <td>0.201220</td>\n",
       "      <td>0.260948</td>\n",
       "      <td>0.138853</td>\n",
       "      <td>0.184672</td>\n",
       "      <td>0.186008</td>\n",
       "      <td>0.125685</td>\n",
       "    </tr>\n",
       "    <tr>\n",
       "      <th>10</th>\n",
       "      <td>0.374095</td>\n",
       "      <td>0.433869</td>\n",
       "      <td>0.138078</td>\n",
       "      <td>0.259645</td>\n",
       "      <td>1.000000</td>\n",
       "      <td>0.381801</td>\n",
       "      <td>0.555147</td>\n",
       "      <td>0.507353</td>\n",
       "      <td>0.434599</td>\n",
       "      <td>0.199928</td>\n",
       "      <td>...</td>\n",
       "      <td>0.097466</td>\n",
       "      <td>0.101501</td>\n",
       "      <td>0.155770</td>\n",
       "      <td>0.161866</td>\n",
       "      <td>0.084174</td>\n",
       "      <td>0.202814</td>\n",
       "      <td>0.130883</td>\n",
       "      <td>0.078524</td>\n",
       "      <td>0.206405</td>\n",
       "      <td>0.117006</td>\n",
       "    </tr>\n",
       "    <tr>\n",
       "      <th>...</th>\n",
       "      <th>...</th>\n",
       "      <td>...</td>\n",
       "      <td>...</td>\n",
       "      <td>...</td>\n",
       "      <td>...</td>\n",
       "      <td>...</td>\n",
       "      <td>...</td>\n",
       "      <td>...</td>\n",
       "      <td>...</td>\n",
       "      <td>...</td>\n",
       "      <td>...</td>\n",
       "      <td>...</td>\n",
       "      <td>...</td>\n",
       "      <td>...</td>\n",
       "      <td>...</td>\n",
       "      <td>...</td>\n",
       "      <td>...</td>\n",
       "      <td>...</td>\n",
       "      <td>...</td>\n",
       "      <td>...</td>\n",
       "      <td>...</td>\n",
       "      <td>...</td>\n",
       "    </tr>\n",
       "    <tr>\n",
       "      <th rowspan=\"5\" valign=\"top\">3</th>\n",
       "      <th>12</th>\n",
       "      <td>0.134886</td>\n",
       "      <td>0.225511</td>\n",
       "      <td>0.112724</td>\n",
       "      <td>0.260948</td>\n",
       "      <td>0.202814</td>\n",
       "      <td>0.169063</td>\n",
       "      <td>0.154293</td>\n",
       "      <td>0.159622</td>\n",
       "      <td>0.206070</td>\n",
       "      <td>0.107180</td>\n",
       "      <td>...</td>\n",
       "      <td>0.394956</td>\n",
       "      <td>0.445662</td>\n",
       "      <td>0.528748</td>\n",
       "      <td>0.540784</td>\n",
       "      <td>0.537238</td>\n",
       "      <td>1.000000</td>\n",
       "      <td>0.448184</td>\n",
       "      <td>0.200355</td>\n",
       "      <td>0.257211</td>\n",
       "      <td>0.305816</td>\n",
       "    </tr>\n",
       "    <tr>\n",
       "      <th>13</th>\n",
       "      <td>0.123681</td>\n",
       "      <td>0.145851</td>\n",
       "      <td>0.069813</td>\n",
       "      <td>0.138853</td>\n",
       "      <td>0.130883</td>\n",
       "      <td>0.150585</td>\n",
       "      <td>0.095132</td>\n",
       "      <td>0.110343</td>\n",
       "      <td>0.120756</td>\n",
       "      <td>0.074680</td>\n",
       "      <td>...</td>\n",
       "      <td>0.238138</td>\n",
       "      <td>0.282060</td>\n",
       "      <td>0.496172</td>\n",
       "      <td>0.396919</td>\n",
       "      <td>0.435570</td>\n",
       "      <td>0.448184</td>\n",
       "      <td>1.000000</td>\n",
       "      <td>0.117697</td>\n",
       "      <td>0.249038</td>\n",
       "      <td>0.208590</td>\n",
       "    </tr>\n",
       "    <tr>\n",
       "      <th>0</th>\n",
       "      <td>0.166774</td>\n",
       "      <td>0.195748</td>\n",
       "      <td>0.127494</td>\n",
       "      <td>0.184672</td>\n",
       "      <td>0.078524</td>\n",
       "      <td>0.251960</td>\n",
       "      <td>0.158784</td>\n",
       "      <td>0.084845</td>\n",
       "      <td>0.215136</td>\n",
       "      <td>0.101834</td>\n",
       "      <td>...</td>\n",
       "      <td>0.235322</td>\n",
       "      <td>0.217759</td>\n",
       "      <td>0.177950</td>\n",
       "      <td>0.165373</td>\n",
       "      <td>0.159725</td>\n",
       "      <td>0.200355</td>\n",
       "      <td>0.117697</td>\n",
       "      <td>1.000000</td>\n",
       "      <td>0.539344</td>\n",
       "      <td>0.220106</td>\n",
       "    </tr>\n",
       "    <tr>\n",
       "      <th>1</th>\n",
       "      <td>0.198036</td>\n",
       "      <td>0.291413</td>\n",
       "      <td>0.142808</td>\n",
       "      <td>0.186008</td>\n",
       "      <td>0.206405</td>\n",
       "      <td>0.246604</td>\n",
       "      <td>0.235848</td>\n",
       "      <td>0.184308</td>\n",
       "      <td>0.169728</td>\n",
       "      <td>0.114958</td>\n",
       "      <td>...</td>\n",
       "      <td>0.293882</td>\n",
       "      <td>0.397970</td>\n",
       "      <td>0.254336</td>\n",
       "      <td>0.267123</td>\n",
       "      <td>0.203558</td>\n",
       "      <td>0.257211</td>\n",
       "      <td>0.249038</td>\n",
       "      <td>0.539344</td>\n",
       "      <td>1.000000</td>\n",
       "      <td>0.296313</td>\n",
       "    </tr>\n",
       "    <tr>\n",
       "      <th>2</th>\n",
       "      <td>0.096920</td>\n",
       "      <td>0.188833</td>\n",
       "      <td>0.131844</td>\n",
       "      <td>0.125685</td>\n",
       "      <td>0.117006</td>\n",
       "      <td>0.162327</td>\n",
       "      <td>0.132672</td>\n",
       "      <td>0.083498</td>\n",
       "      <td>0.145260</td>\n",
       "      <td>0.114173</td>\n",
       "      <td>...</td>\n",
       "      <td>0.339561</td>\n",
       "      <td>0.323539</td>\n",
       "      <td>0.310083</td>\n",
       "      <td>0.345604</td>\n",
       "      <td>0.311814</td>\n",
       "      <td>0.305816</td>\n",
       "      <td>0.208590</td>\n",
       "      <td>0.220106</td>\n",
       "      <td>0.296313</td>\n",
       "      <td>1.000000</td>\n",
       "    </tr>\n",
       "  </tbody>\n",
       "</table>\n",
       "<p>87 rows × 87 columns</p>\n",
       "</div>"
      ],
      "text/plain": [
       "             0                                                              \\\n",
       "            6         7         8         9         10        11        12   \n",
       "0 6   1.000000  0.390133  0.256704  0.336561  0.374095  0.296648  0.306788   \n",
       "  7   0.390133  1.000000  0.286113  0.368674  0.433869  0.372795  0.406078   \n",
       "  8   0.256704  0.286113  1.000000  0.215007  0.138078  0.190524  0.236995   \n",
       "  9   0.336561  0.368674  0.215007  1.000000  0.259645  0.314850  0.258111   \n",
       "  10  0.374095  0.433869  0.138078  0.259645  1.000000  0.381801  0.555147   \n",
       "...        ...       ...       ...       ...       ...       ...       ...   \n",
       "3 12  0.134886  0.225511  0.112724  0.260948  0.202814  0.169063  0.154293   \n",
       "  13  0.123681  0.145851  0.069813  0.138853  0.130883  0.150585  0.095132   \n",
       "  0   0.166774  0.195748  0.127494  0.184672  0.078524  0.251960  0.158784   \n",
       "  1   0.198036  0.291413  0.142808  0.186008  0.206405  0.246604  0.235848   \n",
       "  2   0.096920  0.188833  0.131844  0.125685  0.117006  0.162327  0.132672   \n",
       "\n",
       "                                    ...         3                      \\\n",
       "            13        14        15  ...        7         8         9    \n",
       "0 6   0.302216  0.274212  0.160350  ...  0.103930  0.100846  0.160278   \n",
       "  7   0.364393  0.383692  0.329676  ...  0.153518  0.117859  0.169863   \n",
       "  8   0.136157  0.156514  0.285092  ...  0.119099  0.094866  0.089051   \n",
       "  9   0.270303  0.289699  0.208048  ...  0.160616  0.137032  0.202287   \n",
       "  10  0.507353  0.434599  0.199928  ...  0.097466  0.101501  0.155770   \n",
       "...        ...       ...       ...  ...       ...       ...       ...   \n",
       "3 12  0.159622  0.206070  0.107180  ...  0.394956  0.445662  0.528748   \n",
       "  13  0.110343  0.120756  0.074680  ...  0.238138  0.282060  0.496172   \n",
       "  0   0.084845  0.215136  0.101834  ...  0.235322  0.217759  0.177950   \n",
       "  1   0.184308  0.169728  0.114958  ...  0.293882  0.397970  0.254336   \n",
       "  2   0.083498  0.145260  0.114173  ...  0.339561  0.323539  0.310083   \n",
       "\n",
       "                                                                            \n",
       "            10        11        12        13        0         1         2   \n",
       "0 6   0.134264  0.092356  0.134886  0.123681  0.166774  0.198036  0.096920  \n",
       "  7   0.158799  0.129980  0.225511  0.145851  0.195748  0.291413  0.188833  \n",
       "  8   0.083230  0.077228  0.112724  0.069813  0.127494  0.142808  0.131844  \n",
       "  9   0.202633  0.201220  0.260948  0.138853  0.184672  0.186008  0.125685  \n",
       "  10  0.161866  0.084174  0.202814  0.130883  0.078524  0.206405  0.117006  \n",
       "...        ...       ...       ...       ...       ...       ...       ...  \n",
       "3 12  0.540784  0.537238  1.000000  0.448184  0.200355  0.257211  0.305816  \n",
       "  13  0.396919  0.435570  0.448184  1.000000  0.117697  0.249038  0.208590  \n",
       "  0   0.165373  0.159725  0.200355  0.117697  1.000000  0.539344  0.220106  \n",
       "  1   0.267123  0.203558  0.257211  0.249038  0.539344  1.000000  0.296313  \n",
       "  2   0.345604  0.311814  0.305816  0.208590  0.220106  0.296313  1.000000  \n",
       "\n",
       "[87 rows x 87 columns]"
      ]
     },
     "execution_count": 133,
     "metadata": {},
     "output_type": "execute_result"
    }
   ],
   "source": [
    "sim_reind"
   ]
  },
  {
   "cell_type": "code",
   "execution_count": 149,
   "id": "ca40f42f",
   "metadata": {},
   "outputs": [
    {
     "data": {
      "text/plain": [
       "(array([17., 42., 85., 50., 73., 40., 37., 23.,  7.,  4.]),\n",
       " array([0.04209288, 0.09461451, 0.14713613, 0.19965775, 0.25217937,\n",
       "        0.304701  , 0.35722262, 0.40974424, 0.46226587, 0.51478749,\n",
       "        0.56730911]),\n",
       " <BarContainer object of 10 artists>)"
      ]
     },
     "execution_count": 149,
     "metadata": {},
     "output_type": "execute_result"
    },
    {
     "data": {
      "image/png": "[encoded data removed]",
      "text/plain": [
       "<Figure size 432x288 with 1 Axes>"
      ]
     },
     "metadata": {
      "needs_background": "light"
     },
     "output_type": "display_data"
    }
   ],
   "source": [
    "xx=sim.loc[(0,slice(None)),(0,slice(None))].values\n",
    "xx_triu=xx[np.triu_indices_from(xx,1)]\n",
    "plt.hist(xx_triu)"
   ]
  },
  {
   "cell_type": "code",
   "execution_count": 153,
   "id": "4523a83e",
   "metadata": {},
   "outputs": [
    {
     "data": {
      "text/plain": [
       "(array([ 8., 44., 64., 65., 76., 51., 35., 23.,  9.,  3.]),\n",
       " array([-0.02671893,  0.03325747,  0.09323387,  0.15321027,  0.21318667,\n",
       "         0.27316308,  0.33313948,  0.39311588,  0.45309228,  0.51306868,\n",
       "         0.57304509]),\n",
       " <BarContainer object of 10 artists>)"
      ]
     },
     "execution_count": 153,
     "metadata": {},
     "output_type": "execute_result"
    },
    {
     "data": {
      "image/png": "[encoded data removed]",
      "text/plain": [
       "<Figure size 432x288 with 1 Axes>"
      ]
     },
     "metadata": {
      "needs_background": "light"
     },
     "output_type": "display_data"
    }
   ],
   "source": [
    "xx=sim.loc[(1,slice(None)),(1,slice(None))].values\n",
    "xx_triu=xx[np.triu_indices_from(xx,1)]\n",
    "plt.hist(xx_triu)"
   ]
  },
  {
   "cell_type": "code",
   "execution_count": 170,
   "id": "02608e29",
   "metadata": {},
   "outputs": [
    {
     "data": {
      "text/html": [
       "<div>\n",
       "<style scoped>\n",
       "    .dataframe tbody tr th:only-of-type {\n",
       "        vertical-align: middle;\n",
       "    }\n",
       "\n",
       "    .dataframe tbody tr th {\n",
       "        vertical-align: top;\n",
       "    }\n",
       "\n",
       "    .dataframe thead th {\n",
       "        text-align: right;\n",
       "    }\n",
       "</style>\n",
       "<table border=\"1\" class=\"dataframe\">\n",
       "  <thead>\n",
       "    <tr style=\"text-align: right;\">\n",
       "      <th></th>\n",
       "      <th></th>\n",
       "      <th>0</th>\n",
       "      <th>1</th>\n",
       "      <th>2</th>\n",
       "      <th>3</th>\n",
       "      <th>4</th>\n",
       "      <th>5</th>\n",
       "      <th>6</th>\n",
       "      <th>7</th>\n",
       "      <th>8</th>\n",
       "      <th>9</th>\n",
       "      <th>...</th>\n",
       "      <th>18</th>\n",
       "      <th>19</th>\n",
       "      <th>20</th>\n",
       "      <th>21</th>\n",
       "      <th>22</th>\n",
       "      <th>23</th>\n",
       "      <th>24</th>\n",
       "      <th>25</th>\n",
       "      <th>26</th>\n",
       "      <th>27</th>\n",
       "    </tr>\n",
       "  </thead>\n",
       "  <tbody>\n",
       "    <tr>\n",
       "      <th rowspan=\"5\" valign=\"top\">0</th>\n",
       "      <th>0</th>\n",
       "      <td>0.060726</td>\n",
       "      <td>0.188656</td>\n",
       "      <td>0.004878</td>\n",
       "      <td>0.261468</td>\n",
       "      <td>0.031526</td>\n",
       "      <td>0.129807</td>\n",
       "      <td>0.288961</td>\n",
       "      <td>0.161038</td>\n",
       "      <td>0.116570</td>\n",
       "      <td>0.092725</td>\n",
       "      <td>...</td>\n",
       "      <td>0.002121</td>\n",
       "      <td>0.020014</td>\n",
       "      <td>0.066141</td>\n",
       "      <td>0.062798</td>\n",
       "      <td>0.079294</td>\n",
       "      <td>0.020313</td>\n",
       "      <td>0.000081</td>\n",
       "      <td>0.228987</td>\n",
       "      <td>0.008251</td>\n",
       "      <td>0.026740</td>\n",
       "    </tr>\n",
       "    <tr>\n",
       "      <th>1</th>\n",
       "      <td>0.069335</td>\n",
       "      <td>0.184911</td>\n",
       "      <td>0.013803</td>\n",
       "      <td>0.254768</td>\n",
       "      <td>0.025733</td>\n",
       "      <td>0.137196</td>\n",
       "      <td>0.327122</td>\n",
       "      <td>0.181863</td>\n",
       "      <td>0.125764</td>\n",
       "      <td>0.094522</td>\n",
       "      <td>...</td>\n",
       "      <td>0.003954</td>\n",
       "      <td>0.038427</td>\n",
       "      <td>0.067926</td>\n",
       "      <td>0.068359</td>\n",
       "      <td>0.074308</td>\n",
       "      <td>0.020183</td>\n",
       "      <td>0.008809</td>\n",
       "      <td>0.249658</td>\n",
       "      <td>0.005235</td>\n",
       "      <td>0.028990</td>\n",
       "    </tr>\n",
       "    <tr>\n",
       "      <th>2</th>\n",
       "      <td>0.085799</td>\n",
       "      <td>0.171355</td>\n",
       "      <td>0.023715</td>\n",
       "      <td>0.240149</td>\n",
       "      <td>0.016996</td>\n",
       "      <td>0.143388</td>\n",
       "      <td>0.379246</td>\n",
       "      <td>0.213644</td>\n",
       "      <td>0.135444</td>\n",
       "      <td>0.096098</td>\n",
       "      <td>...</td>\n",
       "      <td>0.006307</td>\n",
       "      <td>0.073667</td>\n",
       "      <td>0.068997</td>\n",
       "      <td>0.076835</td>\n",
       "      <td>0.065629</td>\n",
       "      <td>0.021101</td>\n",
       "      <td>0.023589</td>\n",
       "      <td>0.275462</td>\n",
       "      <td>0.000121</td>\n",
       "      <td>0.033636</td>\n",
       "    </tr>\n",
       "    <tr>\n",
       "      <th>3</th>\n",
       "      <td>0.110922</td>\n",
       "      <td>0.146501</td>\n",
       "      <td>0.032814</td>\n",
       "      <td>0.212043</td>\n",
       "      <td>0.009521</td>\n",
       "      <td>0.138512</td>\n",
       "      <td>0.408238</td>\n",
       "      <td>0.241122</td>\n",
       "      <td>0.137440</td>\n",
       "      <td>0.094697</td>\n",
       "      <td>...</td>\n",
       "      <td>0.008353</td>\n",
       "      <td>0.121149</td>\n",
       "      <td>0.066056</td>\n",
       "      <td>0.083493</td>\n",
       "      <td>0.055024</td>\n",
       "      <td>0.024649</td>\n",
       "      <td>0.039336</td>\n",
       "      <td>0.283611</td>\n",
       "      <td>0.000000</td>\n",
       "      <td>0.040479</td>\n",
       "    </tr>\n",
       "    <tr>\n",
       "      <th>4</th>\n",
       "      <td>0.145311</td>\n",
       "      <td>0.117062</td>\n",
       "      <td>0.040620</td>\n",
       "      <td>0.162179</td>\n",
       "      <td>0.005366</td>\n",
       "      <td>0.119364</td>\n",
       "      <td>0.389332</td>\n",
       "      <td>0.250962</td>\n",
       "      <td>0.129765</td>\n",
       "      <td>0.088831</td>\n",
       "      <td>...</td>\n",
       "      <td>0.010785</td>\n",
       "      <td>0.171798</td>\n",
       "      <td>0.057900</td>\n",
       "      <td>0.084424</td>\n",
       "      <td>0.044328</td>\n",
       "      <td>0.031338</td>\n",
       "      <td>0.050674</td>\n",
       "      <td>0.259187</td>\n",
       "      <td>0.000000</td>\n",
       "      <td>0.048630</td>\n",
       "    </tr>\n",
       "    <tr>\n",
       "      <th>...</th>\n",
       "      <th>...</th>\n",
       "      <td>...</td>\n",
       "      <td>...</td>\n",
       "      <td>...</td>\n",
       "      <td>...</td>\n",
       "      <td>...</td>\n",
       "      <td>...</td>\n",
       "      <td>...</td>\n",
       "      <td>...</td>\n",
       "      <td>...</td>\n",
       "      <td>...</td>\n",
       "      <td>...</td>\n",
       "      <td>...</td>\n",
       "      <td>...</td>\n",
       "      <td>...</td>\n",
       "      <td>...</td>\n",
       "      <td>...</td>\n",
       "      <td>...</td>\n",
       "      <td>...</td>\n",
       "      <td>...</td>\n",
       "      <td>...</td>\n",
       "      <td>...</td>\n",
       "    </tr>\n",
       "    <tr>\n",
       "      <th rowspan=\"5\" valign=\"top\">573</th>\n",
       "      <th>35</th>\n",
       "      <td>0.000000</td>\n",
       "      <td>0.008748</td>\n",
       "      <td>0.026642</td>\n",
       "      <td>0.022718</td>\n",
       "      <td>0.009228</td>\n",
       "      <td>0.024301</td>\n",
       "      <td>0.015523</td>\n",
       "      <td>0.068643</td>\n",
       "      <td>0.000000</td>\n",
       "      <td>0.054132</td>\n",
       "      <td>...</td>\n",
       "      <td>0.000000</td>\n",
       "      <td>0.057227</td>\n",
       "      <td>0.000000</td>\n",
       "      <td>0.013566</td>\n",
       "      <td>0.049494</td>\n",
       "      <td>0.035424</td>\n",
       "      <td>0.000000</td>\n",
       "      <td>0.010554</td>\n",
       "      <td>0.000000</td>\n",
       "      <td>0.021086</td>\n",
       "    </tr>\n",
       "    <tr>\n",
       "      <th>36</th>\n",
       "      <td>0.000000</td>\n",
       "      <td>0.010563</td>\n",
       "      <td>0.028897</td>\n",
       "      <td>0.000000</td>\n",
       "      <td>0.013247</td>\n",
       "      <td>0.013109</td>\n",
       "      <td>0.019064</td>\n",
       "      <td>0.073371</td>\n",
       "      <td>0.000000</td>\n",
       "      <td>0.050261</td>\n",
       "      <td>...</td>\n",
       "      <td>0.000000</td>\n",
       "      <td>0.056309</td>\n",
       "      <td>0.000000</td>\n",
       "      <td>0.001425</td>\n",
       "      <td>0.039524</td>\n",
       "      <td>0.025635</td>\n",
       "      <td>0.000000</td>\n",
       "      <td>0.000000</td>\n",
       "      <td>0.000000</td>\n",
       "      <td>0.015960</td>\n",
       "    </tr>\n",
       "    <tr>\n",
       "      <th>37</th>\n",
       "      <td>0.000000</td>\n",
       "      <td>0.012466</td>\n",
       "      <td>0.031365</td>\n",
       "      <td>0.000000</td>\n",
       "      <td>0.015466</td>\n",
       "      <td>0.004765</td>\n",
       "      <td>0.021084</td>\n",
       "      <td>0.073618</td>\n",
       "      <td>0.000000</td>\n",
       "      <td>0.041556</td>\n",
       "      <td>...</td>\n",
       "      <td>0.000000</td>\n",
       "      <td>0.054225</td>\n",
       "      <td>0.000000</td>\n",
       "      <td>0.000000</td>\n",
       "      <td>0.025307</td>\n",
       "      <td>0.016072</td>\n",
       "      <td>0.005360</td>\n",
       "      <td>0.000000</td>\n",
       "      <td>0.000000</td>\n",
       "      <td>0.012479</td>\n",
       "    </tr>\n",
       "    <tr>\n",
       "      <th>38</th>\n",
       "      <td>0.000000</td>\n",
       "      <td>0.014131</td>\n",
       "      <td>0.033685</td>\n",
       "      <td>0.000000</td>\n",
       "      <td>0.016276</td>\n",
       "      <td>0.000341</td>\n",
       "      <td>0.021631</td>\n",
       "      <td>0.071267</td>\n",
       "      <td>0.000000</td>\n",
       "      <td>0.031121</td>\n",
       "      <td>...</td>\n",
       "      <td>0.000000</td>\n",
       "      <td>0.052363</td>\n",
       "      <td>0.000000</td>\n",
       "      <td>0.000000</td>\n",
       "      <td>0.011142</td>\n",
       "      <td>0.008355</td>\n",
       "      <td>0.013749</td>\n",
       "      <td>0.000000</td>\n",
       "      <td>0.000000</td>\n",
       "      <td>0.010930</td>\n",
       "    </tr>\n",
       "    <tr>\n",
       "      <th>39</th>\n",
       "      <td>0.000000</td>\n",
       "      <td>0.015134</td>\n",
       "      <td>0.044027</td>\n",
       "      <td>0.000000</td>\n",
       "      <td>0.016421</td>\n",
       "      <td>0.000000</td>\n",
       "      <td>0.021519</td>\n",
       "      <td>0.069084</td>\n",
       "      <td>0.000000</td>\n",
       "      <td>0.023879</td>\n",
       "      <td>...</td>\n",
       "      <td>0.000000</td>\n",
       "      <td>0.051355</td>\n",
       "      <td>0.000000</td>\n",
       "      <td>0.000000</td>\n",
       "      <td>0.002328</td>\n",
       "      <td>0.003975</td>\n",
       "      <td>0.018760</td>\n",
       "      <td>0.000000</td>\n",
       "      <td>0.000000</td>\n",
       "      <td>0.010547</td>\n",
       "    </tr>\n",
       "  </tbody>\n",
       "</table>\n",
       "<p>22960 rows × 28 columns</p>\n",
       "</div>"
      ],
      "text/plain": [
       "              0         1         2         3         4         5         6   \\\n",
       "0   0   0.060726  0.188656  0.004878  0.261468  0.031526  0.129807  0.288961   \n",
       "    1   0.069335  0.184911  0.013803  0.254768  0.025733  0.137196  0.327122   \n",
       "    2   0.085799  0.171355  0.023715  0.240149  0.016996  0.143388  0.379246   \n",
       "    3   0.110922  0.146501  0.032814  0.212043  0.009521  0.138512  0.408238   \n",
       "    4   0.145311  0.117062  0.040620  0.162179  0.005366  0.119364  0.389332   \n",
       "...          ...       ...       ...       ...       ...       ...       ...   \n",
       "573 35  0.000000  0.008748  0.026642  0.022718  0.009228  0.024301  0.015523   \n",
       "    36  0.000000  0.010563  0.028897  0.000000  0.013247  0.013109  0.019064   \n",
       "    37  0.000000  0.012466  0.031365  0.000000  0.015466  0.004765  0.021084   \n",
       "    38  0.000000  0.014131  0.033685  0.000000  0.016276  0.000341  0.021631   \n",
       "    39  0.000000  0.015134  0.044027  0.000000  0.016421  0.000000  0.021519   \n",
       "\n",
       "              7         8         9   ...        18        19        20  \\\n",
       "0   0   0.161038  0.116570  0.092725  ...  0.002121  0.020014  0.066141   \n",
       "    1   0.181863  0.125764  0.094522  ...  0.003954  0.038427  0.067926   \n",
       "    2   0.213644  0.135444  0.096098  ...  0.006307  0.073667  0.068997   \n",
       "    3   0.241122  0.137440  0.094697  ...  0.008353  0.121149  0.066056   \n",
       "    4   0.250962  0.129765  0.088831  ...  0.010785  0.171798  0.057900   \n",
       "...          ...       ...       ...  ...       ...       ...       ...   \n",
       "573 35  0.068643  0.000000  0.054132  ...  0.000000  0.057227  0.000000   \n",
       "    36  0.073371  0.000000  0.050261  ...  0.000000  0.056309  0.000000   \n",
       "    37  0.073618  0.000000  0.041556  ...  0.000000  0.054225  0.000000   \n",
       "    38  0.071267  0.000000  0.031121  ...  0.000000  0.052363  0.000000   \n",
       "    39  0.069084  0.000000  0.023879  ...  0.000000  0.051355  0.000000   \n",
       "\n",
       "              21        22        23        24        25        26        27  \n",
       "0   0   0.062798  0.079294  0.020313  0.000081  0.228987  0.008251  0.026740  \n",
       "    1   0.068359  0.074308  0.020183  0.008809  0.249658  0.005235  0.028990  \n",
       "    2   0.076835  0.065629  0.021101  0.023589  0.275462  0.000121  0.033636  \n",
       "    3   0.083493  0.055024  0.024649  0.039336  0.283611  0.000000  0.040479  \n",
       "    4   0.084424  0.044328  0.031338  0.050674  0.259187  0.000000  0.048630  \n",
       "...          ...       ...       ...       ...       ...       ...       ...  \n",
       "573 35  0.013566  0.049494  0.035424  0.000000  0.010554  0.000000  0.021086  \n",
       "    36  0.001425  0.039524  0.025635  0.000000  0.000000  0.000000  0.015960  \n",
       "    37  0.000000  0.025307  0.016072  0.005360  0.000000  0.000000  0.012479  \n",
       "    38  0.000000  0.011142  0.008355  0.013749  0.000000  0.000000  0.010930  \n",
       "    39  0.000000  0.002328  0.003975  0.018760  0.000000  0.000000  0.010547  \n",
       "\n",
       "[22960 rows x 28 columns]"
      ]
     },
     "execution_count": 170,
     "metadata": {},
     "output_type": "execute_result"
    }
   ],
   "source": [
    "fr_map_trial_df_all_day_sub[0]"
   ]
  },
  {
   "cell_type": "code",
   "execution_count": 188,
   "id": "00d2834a",
   "metadata": {},
   "outputs": [
    {
     "data": {
      "text/plain": [
       "Text(0.5, 1.0, 'PV corr\\nCA1, exp0, isnovel0')"
      ]
     },
     "execution_count": 188,
     "metadata": {},
     "output_type": "execute_result"
    },
    {
     "data": {
      "image/png": "[encoded data removed]",
      "text/plain": [
       "<Figure size 432x288 with 1 Axes>"
      ]
     },
     "metadata": {
      "needs_background": "light"
     },
     "output_type": "display_data"
    }
   ],
   "source": [
    "day_trial_l = [(0,10),(1,27)]\n",
    "fig,ax=plt.subplots()\n",
    "for day,trial in day_trial_l:\n",
    "    ax=sim.loc[day,trial].plot(label=f'{day}-{trial}',ax=ax)\n",
    "    ph.plot_day_on_heatmap(sim,vline=True,hline=False,ax=ax)\n",
    "ax.legend()\n",
    "ax.set_title(f'PV corr\\n{region}, exp{exp}, isnovel{isnovel}')\n"
   ]
  },
  {
   "cell_type": "code",
   "execution_count": 152,
   "id": "fd1ddc22",
   "metadata": {
    "scrolled": true
   },
   "outputs": [
    {
     "data": {
      "text/plain": [
       "(array([ 31., 103., 190., 183., 147.,  79.,  37.,   8.,   4.,   2.]),\n",
       " array([0.00047516, 0.03647124, 0.07246732, 0.1084634 , 0.14445949,\n",
       "        0.18045557, 0.21645165, 0.25244773, 0.28844381, 0.32443989,\n",
       "        0.36043597]),\n",
       " <BarContainer object of 10 artists>)"
      ]
     },
     "execution_count": 152,
     "metadata": {},
     "output_type": "execute_result"
    },
    {
     "data": {
      "image/png": "[encoded data removed]",
      "text/plain": [
       "<Figure size 432x288 with 1 Axes>"
      ]
     },
     "metadata": {
      "needs_background": "light"
     },
     "output_type": "display_data"
    }
   ],
   "source": [
    "yy=sim.loc[(0,slice(None)),(1,slice(None))].values.flatten()\n",
    "plt.hist(yy)"
   ]
  },
  {
   "cell_type": "code",
   "execution_count": 136,
   "id": "a1703311",
   "metadata": {},
   "outputs": [
    {
     "data": {
      "text/plain": [
       "array([ 0.00580764,  0.00402985, -0.12977007])"
      ]
     },
     "execution_count": 136,
     "metadata": {},
     "output_type": "execute_result"
    }
   ],
   "source": [
    "diff_l"
   ]
  },
  {
   "cell_type": "code",
   "execution_count": 124,
   "id": "18e3a0d2",
   "metadata": {
    "scrolled": false
   },
   "outputs": [
    {
     "data": {
      "text/plain": [
       "array([-0.01523566, -0.03870189, -0.12543681])"
      ]
     },
     "execution_count": 124,
     "metadata": {},
     "output_type": "execute_result"
    }
   ],
   "source": [
    "diff_l"
   ]
  },
  {
   "cell_type": "code",
   "execution_count": 137,
   "id": "b089b837",
   "metadata": {},
   "outputs": [
    {
     "data": {
      "text/plain": [
       "array([0.12282393, 0.10149085, 0.03565654])"
      ]
     },
     "execution_count": 137,
     "metadata": {},
     "output_type": "execute_result"
    }
   ],
   "source": [
    "end_beg_l"
   ]
  },
  {
   "cell_type": "code",
   "execution_count": 138,
   "id": "5de321fb",
   "metadata": {},
   "outputs": [
    {
     "data": {
      "text/plain": [
       "array([0.11701629, 0.097461  , 0.1654266 ])"
      ]
     },
     "execution_count": 138,
     "metadata": {},
     "output_type": "execute_result"
    }
   ],
   "source": [
    "beg_end_mean_l"
   ]
  },
  {
   "cell_type": "code",
   "execution_count": 125,
   "id": "17abb269",
   "metadata": {},
   "outputs": [
    {
     "data": {
      "text/plain": [
       "array([0., 0., 0.])"
      ]
     },
     "execution_count": 125,
     "metadata": {},
     "output_type": "execute_result"
    }
   ],
   "source": [
    "pval"
   ]
  },
  {
   "cell_type": "code",
   "execution_count": 139,
   "id": "7c988d88",
   "metadata": {},
   "outputs": [
    {
     "data": {
      "text/plain": [
       "array([[-0.16350051, -0.17986367, -0.2224544 ],\n",
       "       [-0.09453854, -0.12767681, -0.22112393],\n",
       "       [-0.17210462, -0.14723522, -0.2461993 ],\n",
       "       [-0.20031881, -0.17540726, -0.23888486],\n",
       "       [-0.17207924, -0.13761295, -0.19892147],\n",
       "       [-0.17916538, -0.16462072, -0.25382071],\n",
       "       [-0.1603094 , -0.12121675, -0.17807175],\n",
       "       [-0.17237062, -0.19154143, -0.21370638],\n",
       "       [-0.17504357, -0.15264231, -0.23934039],\n",
       "       [-0.20882116, -0.20728063, -0.2206455 ],\n",
       "       [-0.1916055 , -0.12027195, -0.21235591],\n",
       "       [-0.17377062, -0.16665064, -0.21370638],\n",
       "       [-0.17013346, -0.1590734 , -0.21733373],\n",
       "       [-0.16177455, -0.08622568, -0.22589227],\n",
       "       [-0.20470302, -0.15459572, -0.26296427],\n",
       "       [-0.15668309, -0.13718736, -0.26513562],\n",
       "       [-0.18375371, -0.19030195, -0.21235591],\n",
       "       [-0.09575638, -0.10280846, -0.2206455 ],\n",
       "       [-0.11345224, -0.13349228, -0.23378632],\n",
       "       [-0.1559401 , -0.21061639, -0.23888486],\n",
       "       [-0.18290562, -0.18402464, -0.25691133],\n",
       "       [-0.15718516, -0.05825619, -0.22211111],\n",
       "       [-0.10285102, -0.07989197, -0.21820644],\n",
       "       [-0.13833177, -0.06889187, -0.1932246 ],\n",
       "       [-0.16295773, -0.10878348, -0.24301785],\n",
       "       [-0.20971945, -0.15108137, -0.1826487 ],\n",
       "       [-0.16159534, -0.13664656, -0.27920936],\n",
       "       [-0.18194404, -0.17508201, -0.2206455 ],\n",
       "       [-0.22975075, -0.17338515, -0.20959889],\n",
       "       [-0.12519272, -0.16448576, -0.2472561 ],\n",
       "       [-0.20513605, -0.14358569, -0.22112393],\n",
       "       [-0.22905609, -0.1318686 , -0.2338985 ],\n",
       "       [-0.18184598, -0.16379795, -0.22408246],\n",
       "       [-0.08035199, -0.14537553, -0.23805853],\n",
       "       [-0.15369955, -0.18402464, -0.27289552],\n",
       "       [-0.18327892, -0.14512661, -0.23908115],\n",
       "       [-0.18841419, -0.13718736, -0.22242491],\n",
       "       [-0.19828313, -0.1637113 , -0.21733373],\n",
       "       [-0.17006088, -0.19038958, -0.23908115],\n",
       "       [-0.20401954, -0.19436424, -0.15521327],\n",
       "       [-0.17276751, -0.17369045, -0.21235591],\n",
       "       [-0.1735038 , -0.07989197, -0.19892147],\n",
       "       [-0.17557843, -0.14525405, -0.23952736],\n",
       "       [-0.16835372, -0.16004586, -0.24741478],\n",
       "       [-0.18939215, -0.06302262, -0.1155447 ],\n",
       "       [-0.09405714, -0.08311109, -0.19866987],\n",
       "       [-0.1715535 , -0.15492807, -0.24181134],\n",
       "       [-0.14973035, -0.17994234, -0.2649951 ],\n",
       "       [-0.13740332, -0.10003573, -0.19892147],\n",
       "       [-0.1998205 , -0.18711819, -0.24689958],\n",
       "       [-0.1118707 , -0.12637613, -0.15434527],\n",
       "       [-0.16699368, -0.19202849, -0.2286466 ],\n",
       "       [-0.21563514, -0.16287262, -0.21370638],\n",
       "       [-0.06902403, -0.11138245, -0.21136925],\n",
       "       [-0.12773974, -0.15900616, -0.2224544 ],\n",
       "       [-0.12797955, -0.14680307, -0.26484113],\n",
       "       [-0.21592744, -0.18593141, -0.24689958],\n",
       "       [-0.15881094, -0.14274508, -0.23600874],\n",
       "       [-0.20693661, -0.20749872, -0.20959889],\n",
       "       [-0.21005314, -0.16661336, -0.23847243],\n",
       "       [-0.17557843, -0.07989197, -0.26296427],\n",
       "       [-0.1217515 , -0.1025943 , -0.22888814],\n",
       "       [-0.1537289 , -0.10280846, -0.24741478],\n",
       "       [-0.08035199, -0.14274508, -0.15434527],\n",
       "       [-0.16842429, -0.12138734, -0.21507923],\n",
       "       [-0.22548125, -0.16661336, -0.22640324],\n",
       "       [-0.2085937 , -0.07645581, -0.19421402],\n",
       "       [-0.17021326, -0.18969038, -0.2189686 ],\n",
       "       [-0.18939215, -0.11138245, -0.25883431],\n",
       "       [-0.11659664, -0.10483824, -0.23591555],\n",
       "       [-0.17048985, -0.13619293, -0.21855961],\n",
       "       [-0.19027724, -0.11379739, -0.2193371 ],\n",
       "       [-0.17339806, -0.17381619, -0.2206455 ],\n",
       "       [-0.13846862, -0.13474023, -0.23805853],\n",
       "       [-0.1811022 , -0.19278476, -0.24181134],\n",
       "       [-0.20971945, -0.16004586, -0.15667355],\n",
       "       [-0.17276751, -0.15367883, -0.22630267],\n",
       "       [-0.1227922 , -0.10280846, -0.21332792],\n",
       "       [-0.20368965, -0.17473686, -0.17807175],\n",
       "       [-0.1600557 , -0.15454738, -0.21136925],\n",
       "       [-0.18703959, -0.16983102, -0.22113419],\n",
       "       [-0.15228766, -0.15046936, -0.2461993 ],\n",
       "       [-0.22083289, -0.20732965, -0.27289552],\n",
       "       [-0.24161754, -0.19154143, -0.19309546],\n",
       "       [-0.20924949, -0.20215539, -0.26484113],\n",
       "       [-0.16546435, -0.21613953, -0.21979146],\n",
       "       [-0.14500585, -0.18207544, -0.26471176],\n",
       "       [-0.17483982, -0.16834427, -0.21478854],\n",
       "       [-0.11198945, -0.12287497, -0.25415541],\n",
       "       [-0.17587148, -0.12197997, -0.16819398],\n",
       "       [-0.2331121 , -0.20215539, -0.20939959],\n",
       "       [-0.1735038 , -0.14525405, -0.15521327],\n",
       "       [-0.14902327, -0.0992193 , -0.21507923],\n",
       "       [-0.18057954, -0.18019979, -0.2193371 ],\n",
       "       [-0.13438623, -0.18231341, -0.26895917],\n",
       "       [-0.1745098 , -0.15410685, -0.2274465 ],\n",
       "       [-0.19441869, -0.19616137, -0.20321176],\n",
       "       [-0.17557843, -0.11394519, -0.23487893],\n",
       "       [-0.20561183, -0.19870181, -0.22694459],\n",
       "       [-0.12983993, -0.10970551, -0.1932246 ],\n",
       "       [-0.10888744, -0.12392907, -0.23938933],\n",
       "       [-0.17210462, -0.19401722, -0.23888486],\n",
       "       [-0.21644673, -0.1376859 , -0.22112393],\n",
       "       [-0.22275206, -0.20245668, -0.22881873],\n",
       "       [-0.1064582 , -0.1513392 , -0.22737883],\n",
       "       [-0.1775275 , -0.12138734, -0.23934039],\n",
       "       [-0.18035373, -0.16665064, -0.19309546],\n",
       "       [-0.17167069, -0.1128945 , -0.24484609],\n",
       "       [-0.14133282, -0.12046309, -0.24229561],\n",
       "       [-0.21005314, -0.14896764, -0.16182749],\n",
       "       [-0.11474596, -0.06889187, -0.22211111],\n",
       "       [-0.17048985, -0.15392972, -0.23591555],\n",
       "       [-0.16908176, -0.17965548, -0.24741478],\n",
       "       [-0.18902487, -0.15255136, -0.21476757],\n",
       "       [-0.21480086, -0.06947373, -0.24301785],\n",
       "       [-0.20132211, -0.10468195, -0.13775471],\n",
       "       [-0.18573288, -0.19930704, -0.22144658],\n",
       "       [-0.15022793, -0.10637859, -0.23934039],\n",
       "       [-0.12353517, -0.10003573, -0.26296427],\n",
       "       [-0.17172048, -0.10483824, -0.23591555],\n",
       "       [-0.2014987 , -0.18702029, -0.22242491],\n",
       "       [-0.2049996 , -0.11275365, -0.15032786],\n",
       "       [-0.17677503, -0.13349228, -0.22242491],\n",
       "       [-0.17503097, -0.10197628, -0.16819398],\n",
       "       [-0.11198945, -0.12288881, -0.2224544 ],\n",
       "       [-0.16552765, -0.15492807, -0.2472561 ],\n",
       "       [-0.1460973 , -0.15367883, -0.16654808],\n",
       "       [-0.14268193, -0.12138734, -0.25818676],\n",
       "       [-0.18444817, -0.16280809, -0.09099192],\n",
       "       [-0.1277371 , -0.13066765, -0.21979146],\n",
       "       [-0.11968363, -0.06504587, -0.22589227],\n",
       "       [-0.20185083, -0.14680307, -0.21814366],\n",
       "       [-0.17015534, -0.15367883, -0.17857216],\n",
       "       [-0.16908176, -0.19519545, -0.20321176],\n",
       "       [-0.16637202, -0.19369494, -0.26895917],\n",
       "       [-0.14702013, -0.19930704, -0.15606397],\n",
       "       [-0.17172048, -0.08365126, -0.19509329],\n",
       "       [-0.19783279, -0.20215539, -0.20939959],\n",
       "       [-0.15373908, -0.17369045, -0.22040823],\n",
       "       [-0.14204252, -0.19119681, -0.24291422],\n",
       "       [-0.16313991, -0.16954961, -0.23410445],\n",
       "       [-0.18625536, -0.12893054, -0.29759554],\n",
       "       [-0.13927403, -0.18020242, -0.26471176],\n",
       "       [-0.22435069, -0.16926454, -0.21507923],\n",
       "       [-0.17370011, -0.17540726, -0.29759554],\n",
       "       [-0.18902487, -0.14829527, -0.2461993 ],\n",
       "       [-0.18385701, -0.16579292, -0.09099192],\n",
       "       [-0.22391991, -0.18325157, -0.20367059],\n",
       "       [-0.18904468, -0.17473686, -0.17807175],\n",
       "       [-0.22507584, -0.19369494, -0.13775471],\n",
       "       [-0.12203437, -0.10280846, -0.2206455 ],\n",
       "       [-0.16280891, -0.18448608, -0.17857216],\n",
       "       [-0.19473118, -0.16926454, -0.15197031],\n",
       "       [-0.17540565, -0.13230376, -0.23410445],\n",
       "       [-0.22507584, -0.18579389, -0.15434527],\n",
       "       [-0.1998205 , -0.18561491, -0.15197031],\n",
       "       [-0.17551589, -0.16926454, -0.20959889],\n",
       "       [-0.22580312, -0.17198009, -0.19309546],\n",
       "       [-0.16941734, -0.13920328, -0.19892147],\n",
       "       [-0.20185083, -0.13574956, -0.23378632],\n",
       "       [-0.18184598, -0.16379795, -0.26484113],\n",
       "       [-0.1384479 , -0.07645581, -0.21524764],\n",
       "       [-0.17442211, -0.10468195, -0.2193371 ],\n",
       "       [-0.1624578 , -0.14282848, -0.2274465 ],\n",
       "       [-0.15260803, -0.1440582 , -0.23805853],\n",
       "       [-0.16663736, -0.15730529, -0.220703  ],\n",
       "       [-0.16753079, -0.13474023, -0.27920936],\n",
       "       [-0.17754581, -0.11285818, -0.15521327],\n",
       "       [-0.13043565, -0.18402464, -0.23888486],\n",
       "       [-0.1616988 , -0.12121675, -0.22888814],\n",
       "       [-0.13438623, -0.18231341, -0.26895917],\n",
       "       [-0.18412984, -0.15459572, -0.19892147],\n",
       "       [-0.18644304, -0.13664656, -0.25382071],\n",
       "       [-0.11138048, -0.10624689, -0.25848066],\n",
       "       [-0.16041779, -0.16462072, -0.24689958],\n",
       "       [-0.2331121 , -0.18593141, -0.26337017],\n",
       "       [-0.19362209, -0.12138734, -0.15197031],\n",
       "       [-0.16769007, -0.19092294, -0.25691133],\n",
       "       [-0.14295076, -0.12534253, -0.24541032],\n",
       "       [-0.17276751, -0.1824852 , -0.23888486],\n",
       "       [-0.21470871, -0.16819069, -0.26296427],\n",
       "       [-0.18100845, -0.18811384, -0.30085169],\n",
       "       [-0.1775275 , -0.1122644 , -0.22964953],\n",
       "       [-0.11461765, -0.11567827, -0.21478854],\n",
       "       [-0.15369955, -0.16704396, -0.20939959],\n",
       "       [-0.18100845, -0.19868721, -0.21478854],\n",
       "       [-0.1624578 , -0.14537553, -0.17816603],\n",
       "       [-0.18819499, -0.14102955, -0.21507923],\n",
       "       [-0.13568069, -0.11138245, -0.14576191],\n",
       "       [-0.17754581, -0.12287497, -0.27920936],\n",
       "       [-0.17540565, -0.14159529, -0.23938933],\n",
       "       [-0.18057954, -0.17536576, -0.22964953],\n",
       "       [-0.10888744, -0.12046309, -0.24229561],\n",
       "       [-0.18899216, -0.13664656, -0.2649951 ],\n",
       "       [-0.15256543, -0.15367883, -0.1826487 ],\n",
       "       [-0.16159534, -0.11379739, -0.21733373],\n",
       "       [-0.2085937 , -0.13755423, -0.23952736],\n",
       "       [-0.14457185, -0.07989197, -0.21820644],\n",
       "       [-0.16653003, -0.17984718, -0.22630267],\n",
       "       [-0.14282334, -0.1086786 , -0.22947295]])"
      ]
     },
     "execution_count": 139,
     "metadata": {},
     "output_type": "execute_result"
    }
   ],
   "source": [
    "diff_l_sh_l"
   ]
  },
  {
   "cell_type": "code",
   "execution_count": 117,
   "id": "a4c49b74",
   "metadata": {
    "scrolled": true
   },
   "outputs": [
    {
     "data": {
      "text/plain": [
       "array([0.  , 0.  , 0.01])"
      ]
     },
     "execution_count": 117,
     "metadata": {},
     "output_type": "execute_result"
    }
   ],
   "source": [
    "pval"
   ]
  },
  {
   "cell_type": "code",
   "execution_count": null,
   "id": "034a36c7",
   "metadata": {},
   "outputs": [],
   "source": []
  },
  {
   "cell_type": "code",
   "execution_count": 46,
   "id": "4a927d0f",
   "metadata": {},
   "outputs": [
    {
     "data": {
      "text/plain": [
       "<module 'misc' from '/mnt/home/szheng/projects/util_code/misc.py'>"
      ]
     },
     "execution_count": 46,
     "metadata": {},
     "output_type": "execute_result"
    }
   ],
   "source": [
    "reload(misc)"
   ]
  },
  {
   "cell_type": "code",
   "execution_count": 51,
   "id": "a71246f1",
   "metadata": {},
   "outputs": [
    {
     "name": "stderr",
     "output_type": "stream",
     "text": [
      "/mnt/home/szheng/projects/place_variability/code/thomas_18_data/get_thomas_cell_metrics.py:184: UserWarning: The figure layout has changed to tight\n",
      "  plt.tight_layout()\n"
     ]
    },
    {
     "data": {
      "image/png": "[encoded data removed]",
      "text/plain": [
       "<Figure size 864x288 with 6 Axes>"
      ]
     },
     "metadata": {
      "needs_background": "light"
     },
     "output_type": "display_data"
    }
   ],
   "source": [
    "reload(gtcm)\n",
    "region = 'CA1'\n",
    "exp=0\n",
    "isnovel=0\n",
    "uid=0\n",
    "dosave = True\n",
    "gtcm.end_beg_diff_minus_beg_end_same_show_one_cell(fr_map_trial_df_all_day,frmap_all_day,vmax_quantile=0.99,region=region,exp=exp,isnovel=isnovel,uid=uid,\n",
    "                                                dosave=dosave,savedir='',savefn_func = lambda x:f'across_within_diff_{x[0]}_exp{x[1]}_isnovel{x[2]}_cell{x[3]}',\n",
    "                                                )\n"
   ]
  },
  {
   "cell_type": "code",
   "execution_count": 55,
   "id": "32f4f159",
   "metadata": {},
   "outputs": [
    {
     "data": {
      "image/png": "[encoded data removed]",
      "text/plain": [
       "<Figure size 1296x288 with 3 Axes>"
      ]
     },
     "metadata": {
      "needs_background": "light"
     },
     "output_type": "display_data"
    }
   ],
   "source": [
    "reload(gtcm)\n",
    "dosave = True\n",
    "gtcm.end_beg_diff_minus_beg_end_same_shuffle_show_one_cell(fr_map_trial_df_all_day,\n",
    "                                n_tr=3,day_level=0,region=region,exp=exp,isnovel=isnovel,uid=uid,\n",
    "                                dosave=dosave,savedir='',savefn_func = lambda x:f'across_within_diff_shuffle_{x[0]}_exp{x[1]}_isnovel{x[2]}_cell{x[3]}',\n",
    "                                n_roll_min = 2,nrepeats = 200)"
   ]
  },
  {
   "cell_type": "code",
   "execution_count": 92,
   "id": "ee0def49",
   "metadata": {},
   "outputs": [],
   "source": [
    "ddf_one = db.loc[(db['region']=='CA1')&(db['exp_ind']==0)]['data_dir_full'].iloc[0]"
   ]
  },
  {
   "cell_type": "code",
   "execution_count": 100,
   "id": "9f976d19",
   "metadata": {},
   "outputs": [
    {
     "data": {
      "text/plain": [
       "'/mnt/home/szheng/ceph/ad/thomas_data/180301_DG_CA3_CA1/CA1/exp_0'"
      ]
     },
     "execution_count": 100,
     "metadata": {},
     "output_type": "execute_result"
    }
   ],
   "source": [
    "os.path.dirname(ddf_one)"
   ]
  },
  {
   "cell_type": "code",
   "execution_count": 101,
   "id": "0a00a890",
   "metadata": {
    "scrolled": true
   },
   "outputs": [
    {
     "data": {
      "text/plain": [
       "(31,)"
      ]
     },
     "execution_count": 101,
     "metadata": {},
     "output_type": "execute_result"
    }
   ],
   "source": [
    "db.groupby(['region','exp_ind']).mean().index.shape"
   ]
  },
  {
   "cell_type": "code",
   "execution_count": 105,
   "id": "639ea68e",
   "metadata": {},
   "outputs": [
    {
     "name": "stderr",
     "output_type": "stream",
     "text": [
      "100%|██████████| 574/574 [00:06<00:00, 84.19it/s]\n",
      "  0%|          | 2/574 [00:10<51:11,  5.37s/it]\n"
     ]
    },
    {
     "name": "stdout",
     "output_type": "stream",
     "text": [
      "> \u001b[0;32m/mnt/home/szheng/projects/place_variability/code/thomas_18_data/get_thomas_cell_metrics.py\u001b[0m(161)\u001b[0;36mshuffle_test_end_beg_diff_minus_beg_end_same_all\u001b[0;34m()\u001b[0m\n",
      "\u001b[0;32m    159 \u001b[0;31m    \u001b[0mpval_d\u001b[0m \u001b[0;34m=\u001b[0m \u001b[0mpd\u001b[0m\u001b[0;34m.\u001b[0m\u001b[0mDataFrame\u001b[0m\u001b[0;34m(\u001b[0m\u001b[0mpval_d\u001b[0m\u001b[0;34m)\u001b[0m\u001b[0;34m.\u001b[0m\u001b[0mT\u001b[0m\u001b[0;34m\u001b[0m\u001b[0;34m\u001b[0m\u001b[0m\n",
      "\u001b[0m\u001b[0;32m    160 \u001b[0;31m    \u001b[0mpdb\u001b[0m\u001b[0;34m.\u001b[0m\u001b[0mset_trace\u001b[0m\u001b[0;34m(\u001b[0m\u001b[0;34m)\u001b[0m\u001b[0;34m\u001b[0m\u001b[0;34m\u001b[0m\u001b[0m\n",
      "\u001b[0m\u001b[0;32m--> 161 \u001b[0;31m    \u001b[0mdiff_l_sh_l_all\u001b[0m \u001b[0;34m=\u001b[0m \u001b[0mpd\u001b[0m\u001b[0;34m.\u001b[0m\u001b[0mconcat\u001b[0m\u001b[0;34m(\u001b[0m\u001b[0mdiff_l_sh_l_all\u001b[0m\u001b[0;34m,\u001b[0m\u001b[0maxis\u001b[0m\u001b[0;34m=\u001b[0m\u001b[0;36m0\u001b[0m\u001b[0;34m)\u001b[0m \u001b[0;31m# (cell x nshuffle) x nacrossday\u001b[0m\u001b[0;34m\u001b[0m\u001b[0;34m\u001b[0m\u001b[0m\n",
      "\u001b[0m\u001b[0;32m    162 \u001b[0;31m    \u001b[0;32mreturn\u001b[0m \u001b[0mpval_d\u001b[0m\u001b[0;34m,\u001b[0m \u001b[0mdiff_l_sh_l_all\u001b[0m\u001b[0;34m\u001b[0m\u001b[0;34m\u001b[0m\u001b[0m\n",
      "\u001b[0m\u001b[0;32m    163 \u001b[0;31m\u001b[0;34m\u001b[0m\u001b[0m\n",
      "\u001b[0m\n",
      "ipdb> c\n"
     ]
    },
    {
     "name": "stderr",
     "output_type": "stream",
     "text": [
      "100%|██████████| 574/574 [00:06<00:00, 89.06it/s]\n",
      "  0%|          | 2/574 [00:10<50:54,  5.34s/it]\n"
     ]
    },
    {
     "name": "stdout",
     "output_type": "stream",
     "text": [
      "> \u001b[0;32m/mnt/home/szheng/projects/place_variability/code/thomas_18_data/get_thomas_cell_metrics.py\u001b[0m(161)\u001b[0;36mshuffle_test_end_beg_diff_minus_beg_end_same_all\u001b[0;34m()\u001b[0m\n",
      "\u001b[0;32m    159 \u001b[0;31m    \u001b[0mpval_d\u001b[0m \u001b[0;34m=\u001b[0m \u001b[0mpd\u001b[0m\u001b[0;34m.\u001b[0m\u001b[0mDataFrame\u001b[0m\u001b[0;34m(\u001b[0m\u001b[0mpval_d\u001b[0m\u001b[0;34m)\u001b[0m\u001b[0;34m.\u001b[0m\u001b[0mT\u001b[0m\u001b[0;34m\u001b[0m\u001b[0;34m\u001b[0m\u001b[0m\n",
      "\u001b[0m\u001b[0;32m    160 \u001b[0;31m\u001b[0;34m\u001b[0m\u001b[0m\n",
      "\u001b[0m\u001b[0;32m--> 161 \u001b[0;31m    \u001b[0mdiff_l_sh_l_all\u001b[0m \u001b[0;34m=\u001b[0m \u001b[0mpd\u001b[0m\u001b[0;34m.\u001b[0m\u001b[0mconcat\u001b[0m\u001b[0;34m(\u001b[0m\u001b[0mdiff_l_sh_l_all\u001b[0m\u001b[0;34m,\u001b[0m\u001b[0maxis\u001b[0m\u001b[0;34m=\u001b[0m\u001b[0;36m0\u001b[0m\u001b[0;34m)\u001b[0m \u001b[0;31m# (cell x nshuffle) x nacrossday\u001b[0m\u001b[0;34m\u001b[0m\u001b[0;34m\u001b[0m\u001b[0m\n",
      "\u001b[0m\u001b[0;32m    162 \u001b[0;31m    \u001b[0;32mreturn\u001b[0m \u001b[0mpval_d\u001b[0m\u001b[0;34m,\u001b[0m \u001b[0mdiff_l_sh_l_all\u001b[0m\u001b[0;34m\u001b[0m\u001b[0;34m\u001b[0m\u001b[0m\n",
      "\u001b[0m\u001b[0;32m    163 \u001b[0;31m\u001b[0;34m\u001b[0m\u001b[0m\n",
      "\u001b[0m\n",
      "ipdb> c\n",
      "saved at /mnt/home/szheng/ceph/ad/thomas_data/180301_DG_CA3_CA1/CA1/exp_0/across_within_diff_per_cell_mask_True.p\n"
     ]
    },
    {
     "data": {
      "text/plain": [
       "{'beg_end_corr_diff':          end_beg_across  beg_end_same      diff  across_bigger\n",
       " 0 0   0        0.222299     -0.063602  0.285901           True\n",
       "       1       -0.385236      0.072249 -0.457484          False\n",
       "       2        0.346437      0.545101 -0.198665          False\n",
       "   1   0       -0.150190      0.063347 -0.213537          False\n",
       "       1       -0.074937      0.125483 -0.200420          False\n",
       " ...                 ...           ...       ...            ...\n",
       " 1 572 1       -0.271404      0.209585 -0.480989          False\n",
       "       2        0.096271      0.016993  0.079278           True\n",
       "   573 0       -0.083012      0.268407 -0.351418          False\n",
       "       1        0.624043      0.622410  0.001633           True\n",
       "       2        0.252737      0.776830 -0.524093          False\n",
       " \n",
       " [3444 rows x 4 columns],\n",
       " 'pval':         0      1     2\n",
       " 0 0  0.05  0.835  0.92\n",
       "   1  0.67  0.495  0.00\n",
       "   2  0.05  0.350  0.01\n",
       " 1 0  0.37  0.535  0.29\n",
       "   1  0.01  0.960  0.45\n",
       "   2  0.73  1.000  0.47,\n",
       " 'diff_shuffle':                 0         1         2\n",
       " 0 0 0   -0.054439  0.247570 -0.338005\n",
       "     1   -0.069866  0.013191  0.034251\n",
       "     2    0.023638  0.123414 -0.260174\n",
       "     3   -0.021453 -0.116492 -0.018091\n",
       "     4    0.024282 -0.122382  0.012626\n",
       " ...           ...       ...       ...\n",
       " 1 2 195 -0.043614 -0.066759 -0.345549\n",
       "     196 -0.172330 -0.255392 -0.377529\n",
       "     197 -0.178709 -0.999506 -0.498650\n",
       "     198 -0.231674 -0.913433 -0.453027\n",
       "     199 -0.180805 -0.281928 -0.664287\n",
       " \n",
       " [1200 rows x 3 columns]}"
      ]
     },
     "execution_count": 105,
     "metadata": {},
     "output_type": "execute_result"
    }
   ],
   "source": [
    "import across_within_diff_per_cell_one_sess as awdpcos\n",
    "reload(awdpcos)\n",
    "awdpcos.main(0,test_mode=True)"
   ]
  },
  {
   "cell_type": "code",
   "execution_count": 71,
   "id": "eb660bd9",
   "metadata": {
    "scrolled": true
   },
   "outputs": [
    {
     "data": {
      "text/plain": [
       "'/mnt/home/szheng/ceph/ad/thomas_data/180301_DG_CA3_CA1/CA1/exp_0/day_0'"
      ]
     },
     "execution_count": 71,
     "metadata": {},
     "output_type": "execute_result"
    }
   ],
   "source": [
    "db.iloc[0]['data_dir_full']"
   ]
  },
  {
   "cell_type": "code",
   "execution_count": 64,
   "id": "0903e676",
   "metadata": {},
   "outputs": [
    {
     "name": "stderr",
     "output_type": "stream",
     "text": [
      "  0%|          | 2/574 [00:10<50:52,  5.34s/it]\n"
     ]
    },
    {
     "name": "stdout",
     "output_type": "stream",
     "text": [
      "> \u001b[0;32m/mnt/home/szheng/projects/place_variability/code/thomas_18_data/get_thomas_cell_metrics.py\u001b[0m(161)\u001b[0;36mshuffle_test_end_beg_diff_minus_beg_end_same_all\u001b[0;34m()\u001b[0m\n",
      "\u001b[0;32m    159 \u001b[0;31m    \u001b[0mpval_d\u001b[0m \u001b[0;34m=\u001b[0m \u001b[0mpd\u001b[0m\u001b[0;34m.\u001b[0m\u001b[0mDataFrame\u001b[0m\u001b[0;34m(\u001b[0m\u001b[0mpval_d\u001b[0m\u001b[0;34m)\u001b[0m\u001b[0;34m.\u001b[0m\u001b[0mT\u001b[0m\u001b[0;34m\u001b[0m\u001b[0;34m\u001b[0m\u001b[0m\n",
      "\u001b[0m\u001b[0;32m    160 \u001b[0;31m    \u001b[0mpdb\u001b[0m\u001b[0;34m.\u001b[0m\u001b[0mset_trace\u001b[0m\u001b[0;34m(\u001b[0m\u001b[0;34m)\u001b[0m\u001b[0;34m\u001b[0m\u001b[0;34m\u001b[0m\u001b[0m\n",
      "\u001b[0m\u001b[0;32m--> 161 \u001b[0;31m    \u001b[0mdiff_l_sh_l_all\u001b[0m \u001b[0;34m=\u001b[0m \u001b[0mpd\u001b[0m\u001b[0;34m.\u001b[0m\u001b[0mconcat\u001b[0m\u001b[0;34m(\u001b[0m\u001b[0mdiff_l_sh_l_all\u001b[0m\u001b[0;34m,\u001b[0m\u001b[0maxis\u001b[0m\u001b[0;34m=\u001b[0m\u001b[0;36m0\u001b[0m\u001b[0;34m)\u001b[0m\u001b[0;34m\u001b[0m\u001b[0;34m\u001b[0m\u001b[0m\n",
      "\u001b[0m\u001b[0;32m    162 \u001b[0;31m    \u001b[0;32mreturn\u001b[0m \u001b[0mpval_d\u001b[0m\u001b[0;34m,\u001b[0m \u001b[0mdiff_l_sh_l_all\u001b[0m\u001b[0;34m\u001b[0m\u001b[0;34m\u001b[0m\u001b[0m\n",
      "\u001b[0m\u001b[0;32m    163 \u001b[0;31m\u001b[0;34m\u001b[0m\u001b[0m\n",
      "\u001b[0m\n",
      "ipdb> len(diff_l_sh_l_all)\n",
      "3\n",
      "ipdb> c\n"
     ]
    }
   ],
   "source": [
    "reload(gtcm)\n",
    "pval_d, diff_l_sh_l_all = gtcm.shuffle_test_end_beg_diff_minus_beg_end_same_all(fr_map_trial_df_all_day_sub,cell_level=0,n_roll_min=2,nrepeats=200,n_max=3)\n",
    "\n"
   ]
  },
  {
   "cell_type": "code",
   "execution_count": 65,
   "id": "ac47795a",
   "metadata": {},
   "outputs": [
    {
     "data": {
      "text/html": [
       "<div>\n",
       "<style scoped>\n",
       "    .dataframe tbody tr th:only-of-type {\n",
       "        vertical-align: middle;\n",
       "    }\n",
       "\n",
       "    .dataframe tbody tr th {\n",
       "        vertical-align: top;\n",
       "    }\n",
       "\n",
       "    .dataframe thead th {\n",
       "        text-align: right;\n",
       "    }\n",
       "</style>\n",
       "<table border=\"1\" class=\"dataframe\">\n",
       "  <thead>\n",
       "    <tr style=\"text-align: right;\">\n",
       "      <th></th>\n",
       "      <th></th>\n",
       "      <th>0</th>\n",
       "      <th>1</th>\n",
       "      <th>2</th>\n",
       "    </tr>\n",
       "  </thead>\n",
       "  <tbody>\n",
       "    <tr>\n",
       "      <th rowspan=\"5\" valign=\"top\">0</th>\n",
       "      <th>0</th>\n",
       "      <td>0.145824</td>\n",
       "      <td>-0.254495</td>\n",
       "      <td>-0.215707</td>\n",
       "    </tr>\n",
       "    <tr>\n",
       "      <th>1</th>\n",
       "      <td>-0.065445</td>\n",
       "      <td>-0.144034</td>\n",
       "      <td>-0.158035</td>\n",
       "    </tr>\n",
       "    <tr>\n",
       "      <th>2</th>\n",
       "      <td>0.127184</td>\n",
       "      <td>-0.043360</td>\n",
       "      <td>-0.011004</td>\n",
       "    </tr>\n",
       "    <tr>\n",
       "      <th>3</th>\n",
       "      <td>-0.097207</td>\n",
       "      <td>0.242413</td>\n",
       "      <td>-0.119215</td>\n",
       "    </tr>\n",
       "    <tr>\n",
       "      <th>4</th>\n",
       "      <td>-0.050619</td>\n",
       "      <td>0.191802</td>\n",
       "      <td>0.595319</td>\n",
       "    </tr>\n",
       "    <tr>\n",
       "      <th>...</th>\n",
       "      <th>...</th>\n",
       "      <td>...</td>\n",
       "      <td>...</td>\n",
       "      <td>...</td>\n",
       "    </tr>\n",
       "    <tr>\n",
       "      <th rowspan=\"5\" valign=\"top\">2</th>\n",
       "      <th>195</th>\n",
       "      <td>0.204193</td>\n",
       "      <td>0.352818</td>\n",
       "      <td>-0.214007</td>\n",
       "    </tr>\n",
       "    <tr>\n",
       "      <th>196</th>\n",
       "      <td>-0.135419</td>\n",
       "      <td>0.061506</td>\n",
       "      <td>-0.186859</td>\n",
       "    </tr>\n",
       "    <tr>\n",
       "      <th>197</th>\n",
       "      <td>0.406477</td>\n",
       "      <td>-0.082153</td>\n",
       "      <td>-0.051157</td>\n",
       "    </tr>\n",
       "    <tr>\n",
       "      <th>198</th>\n",
       "      <td>0.013153</td>\n",
       "      <td>0.146028</td>\n",
       "      <td>-0.198888</td>\n",
       "    </tr>\n",
       "    <tr>\n",
       "      <th>199</th>\n",
       "      <td>0.035024</td>\n",
       "      <td>-0.346453</td>\n",
       "      <td>-0.149060</td>\n",
       "    </tr>\n",
       "  </tbody>\n",
       "</table>\n",
       "<p>600 rows × 3 columns</p>\n",
       "</div>"
      ],
      "text/plain": [
       "              0         1         2\n",
       "0 0    0.145824 -0.254495 -0.215707\n",
       "  1   -0.065445 -0.144034 -0.158035\n",
       "  2    0.127184 -0.043360 -0.011004\n",
       "  3   -0.097207  0.242413 -0.119215\n",
       "  4   -0.050619  0.191802  0.595319\n",
       "...         ...       ...       ...\n",
       "2 195  0.204193  0.352818 -0.214007\n",
       "  196 -0.135419  0.061506 -0.186859\n",
       "  197  0.406477 -0.082153 -0.051157\n",
       "  198  0.013153  0.146028 -0.198888\n",
       "  199  0.035024 -0.346453 -0.149060\n",
       "\n",
       "[600 rows x 3 columns]"
      ]
     },
     "execution_count": 65,
     "metadata": {},
     "output_type": "execute_result"
    }
   ],
   "source": [
    "diff_l_sh_l_all"
   ]
  },
  {
   "cell_type": "code",
   "execution_count": 29,
   "id": "b4b45658",
   "metadata": {},
   "outputs": [
    {
     "name": "stderr",
     "output_type": "stream",
     "text": [
      "  1%|          | 3/574 [00:11<36:25,  3.83s/it]\n",
      "\n",
      "KeyboardInterrupt\n",
      "\n"
     ]
    }
   ],
   "source": [
    "fr_map_trial_df_all_day_sub = fr_map_trial_df_all_day.loc[(region,exp,isnovel),:].dropna(axis=1,how='all')\n",
    "\n",
    "n_tr = 3\n",
    "\n",
    "\n",
    "gpb = fr_map_trial_df_all_day_sub.groupby(level=0)\n",
    "pval_d = {}\n",
    "for uid,val in tqdm.tqdm(gpb):\n",
    "    sim = val.corr()\n",
    "    pval = gtcm.shuffle_test_end_beg_diff_minus_beg_end_same(sim,n_roll_min=2,nrepeats = 200)\n",
    "    pval_d[uid] = pval\n"
   ]
  },
  {
   "cell_type": "code",
   "execution_count": null,
   "id": "72ea3c17",
   "metadata": {},
   "outputs": [],
   "source": []
  }
 ],
 "metadata": {
  "kernelspec": {
   "display_name": "jax",
   "language": "python",
   "name": "jax"
  },
  "language_info": {
   "codemirror_mode": {
    "name": "ipython",
    "version": 3
   },
   "file_extension": ".py",
   "mimetype": "text/x-python",
   "name": "python",
   "nbconvert_exporter": "python",
   "pygments_lexer": "ipython3",
   "version": "3.9.16"
  }
 },
 "nbformat": 4,
 "nbformat_minor": 5
}
