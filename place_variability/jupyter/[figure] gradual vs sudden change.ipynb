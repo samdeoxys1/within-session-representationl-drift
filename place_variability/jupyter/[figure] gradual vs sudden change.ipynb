{
 "cells": [
  {
   "cell_type": "code",
   "execution_count": 1,
   "id": "fccf161a",
   "metadata": {},
   "outputs": [
    {
     "name": "stdout",
     "output_type": "stream",
     "text": [
      "67 sessions!\n",
      "67 sessions!\n"
     ]
    }
   ],
   "source": [
    "import numpy as np\n",
    "import scipy\n",
    "import sklearn\n",
    "from sklearn.decomposition import NMF\n",
    "from sklearn.cluster import KMeans\n",
    "from sklearn.mixture import GaussianMixture,BayesianGaussianMixture\n",
    "\n",
    "import pandas as pd\n",
    "\n",
    "import matplotlib.pyplot as plt\n",
    "import seaborn as sns\n",
    "import matplotlib as mpl\n",
    "mpl.rcParams['image.cmap'] = 'Greys'\n",
    "mpl.rcParams['axes.spines.right'] = False\n",
    "mpl.rcParams['axes.spines.top'] = False\n",
    "\n",
    "\n",
    "\n",
    "import sys,os,pdb,copy,pickle\n",
    "from importlib import reload\n",
    "# import pynapple as nap\n",
    "\n",
    "sys.path.append('/mnt/home/szheng/projects/seq_detection2/code')\n",
    "sys.path.append('/mnt/home/szheng/projects/util_code')\n",
    "sys.path.append('/mnt/home/szheng/projects/nmf_analysis')\n",
    "sys.path.append('/mnt/home/szheng/projects/nmf_analysis/scripts')\n",
    "sys.path.append('/mnt/home/szheng/projects/cluster_spikes')\n",
    "sys.path.append('/mnt/home/szheng/projects/place_variability/code')\n",
    "import data_prep_new as dpn\n",
    "import place_cell_analysis as pa\n",
    "import plot_helper as ph\n",
    "import preprocess as prep\n",
    "import nmf_analysis as na\n",
    "import nmf_plot as nmfp\n",
    "reload(na)\n",
    "\n",
    "import raster_new as rn\n",
    "import data_prep_pyn as dpp\n",
    "\n",
    "\n",
    "import change_point_analysis as cpa\n",
    "import change_point_plot as cpp\n",
    "\n",
    "import place_field_analysis as pf\n",
    "\n",
    "import switch_analysis_one_session as saos\n",
    "reload(saos)\n",
    "\n",
    "import process_central_arm as pca \n",
    "import change_point_analysis_central_arm_seperate as cpacas\n",
    "\n",
    "import misc\n",
    "reload(misc)\n",
    "from misc import get_nth_key, get_nth_val"
   ]
  },
  {
   "cell_type": "code",
   "execution_count": 201,
   "id": "68e099a3",
   "metadata": {},
   "outputs": [],
   "source": [
    "import matplotlib.pyplot as plt\n",
    "\n",
    "# Set default figure size\n",
    "plt.rcParams['figure.figsize'] = (6, 4)  # width, height in inches\n",
    "\n",
    "# Set default font sizes\n",
    "plt.rcParams['font.size'] = 10  # Default font size\n",
    "plt.rcParams['axes.titlesize'] = 10  # Title font size\n",
    "plt.rcParams['axes.labelsize'] = 10  # Label font size\n",
    "plt.rcParams['xtick.labelsize'] = 10  # x-axis tick label font size\n",
    "plt.rcParams['ytick.labelsize'] = 10  # y-axis tick label font size\n",
    "plt.rcParams['legend.fontsize'] = 10  # Legend font size\n",
    "mpl.rcParams['image.cmap'] = 'viridis'\n",
    "mpl.rcParams['axes.spines.right'] = False\n",
    "mpl.rcParams['axes.spines.top'] = False"
   ]
  },
  {
   "cell_type": "code",
   "execution_count": 202,
   "id": "07454757",
   "metadata": {},
   "outputs": [],
   "source": [
    "import matplotlib\n",
    "matplotlib.rcParams['svg.fonttype'] = 'none'"
   ]
  },
  {
   "cell_type": "code",
   "execution_count": 4,
   "id": "3f4e75eb",
   "metadata": {},
   "outputs": [
    {
     "data": {
      "text/plain": [
       "'/mnt/home/szheng/ceph/place_variability/data/paper'"
      ]
     },
     "execution_count": 4,
     "metadata": {},
     "output_type": "execute_result"
    }
   ],
   "source": [
    "\n",
    "figdir = '/mnt/home/szheng/ceph/place_variability/fig/paper/figure_continuous_vs_discrete'\n",
    "misc.get_or_create_subdir(figdir)\n",
    "data_dir = '/mnt/home/szheng/ceph/place_variability/data/paper'\n",
    "misc.get_or_create_subdir(data_dir)\n"
   ]
  },
  {
   "cell_type": "code",
   "execution_count": 5,
   "id": "0943aa5c",
   "metadata": {},
   "outputs": [
    {
     "name": "stderr",
     "output_type": "stream",
     "text": [
      "/mnt/home/szheng/ceph/envs/jax/lib/python3.9/site-packages/outdated/utils.py:14: OutdatedPackageWarning: The package pingouin is out of date. Your version is 0.5.2, the latest is 0.5.4.\n",
      "Set the environment variable OUTDATED_IGNORE=1 to disable these warnings.\n",
      "  return warn(\n"
     ]
    }
   ],
   "source": [
    "import database\n",
    "db = database.db\n",
    "\n",
    "subdb = db.query('owner==\"roman\"').sort_values('n_pyr_putative',ascending=False)\n",
    "subdb = subdb.query('ntrials>=20&n_neurons>=50')\n",
    "to_exclude_sess = ['e16_3m2_211211']\n",
    "subdb=subdb.loc[~subdb['sess_name'].isin(to_exclude_sess)]\n",
    "\n",
    "\n",
    "import pf_recombine_central as pfrc\n",
    "import fr_map_one_session as fmos\n",
    "import switch_detection_one_session as sdos\n",
    "import get_all_switch_add_metrics as gasam\n",
    "\n",
    "import preprocess_one_session as prepos"
   ]
  },
  {
   "cell_type": "code",
   "execution_count": 6,
   "id": "b6409efe",
   "metadata": {},
   "outputs": [],
   "source": [
    "fn = 'prepped_data_agg.p'\n",
    "fn_full = os.path.join(data_dir,fn)\n",
    "prepped_data_agg = pickle.load(open(fn_full,'rb'))\n",
    "\n",
    "all_fields_recombined_all = prepped_data_agg['all_fields_recombined_all']\n",
    "pf_params_recombined_all=  prepped_data_agg['pf_params_recombined_all']\n",
    "fr_map_trial_df_all= prepped_data_agg['fr_map_trial_df_all']\n",
    "occu_map_all = prepped_data_agg['occu_map_all']\n",
    "fr_map_all = prepped_data_agg['fr_map_all']\n",
    "\n",
    "pval_all = prepped_data_agg['pval_all']\n",
    "X_pwc_all = prepped_data_agg['X_pwc_all']\n",
    "X_raw_all = prepped_data_agg['X_raw_all']\n",
    "changes_df_all = prepped_data_agg['changes_df_all']\n",
    "var_res_all_test = prepped_data_agg['var_res_all']\n",
    "# corr_all = prepped_data_agg['corr_all']\n",
    "all_sw_d_all = prepped_data_agg['all_sw_d_all']\n",
    "all_sw_with_metrics_d_all = prepped_data_agg['all_sw_with_metrics_d_all']\n",
    "best_n_all_test = prepped_data_agg['best_n_all']\n",
    "spk_beh_df_all = prepped_data_agg['spk_beh_df_all']\n",
    "\n",
    "# pf_params_all = prepped_data_agg['pf_params_all']\n",
    "# all_fields_all = prepped_data_agg['all_fields_all']\n",
    "\n",
    "ntrials_per_tt=fr_map_trial_df_all.groupby(level=(0,1,2,3)).apply(lambda x:x.dropna(axis=1,how='all').shape[1])\n",
    "ntrials_mask = ntrials_per_tt.groupby(level=(0,1,2)).apply(lambda x:(x>=7).all()) \n",
    "\n"
   ]
  },
  {
   "cell_type": "code",
   "execution_count": 7,
   "id": "6ab877b7",
   "metadata": {},
   "outputs": [],
   "source": [
    "savefn_full = os.path.join(data_dir,'per_field_metrics_shtest_with_1cp.p')\n",
    "# pickle.dump(per_field_metrics_all,open(savefn_full,'wb'))\n",
    "per_field_metrics_all=pickle.load(open(savefn_full,'rb'))"
   ]
  },
  {
   "cell_type": "markdown",
   "id": "0e6d5063",
   "metadata": {},
   "source": [
    "# fit all sessions"
   ]
  },
  {
   "cell_type": "code",
   "execution_count": 8,
   "id": "051b1d67",
   "metadata": {},
   "outputs": [
    {
     "data": {
      "text/plain": [
       "<module 'step_vs_gradual_analysis' from '/mnt/home/szheng/projects/place_variability/code/step_vs_gradual_analysis.py'>"
      ]
     },
     "execution_count": 8,
     "metadata": {},
     "output_type": "execute_result"
    }
   ],
   "source": [
    "import step_vs_gradual_analysis as svga\n",
    "reload(svga)"
   ]
  },
  {
   "cell_type": "code",
   "execution_count": 21,
   "id": "cdbf63f8",
   "metadata": {},
   "outputs": [
    {
     "name": "stdout",
     "output_type": "stream",
     "text": [
      "CPU times: user 3min 40s, sys: 47.7 ms, total: 3min 40s\n",
      "Wall time: 3min 40s\n"
     ]
    }
   ],
   "source": [
    "%%time\n",
    "gpb = X_raw_all.groupby(level=(0,1,2,3),sort=False)\n",
    "r2_df_d_all = []\n",
    "for k,val in gpb:\n",
    "    r2_df_d = svga.fit_poly_regress_cpd_get_r2_all_multi_order(val,cost='l2',min_size=2,ncpt_max=5)\n",
    "#     r2_df_d_all[k] = r2_df_d\n",
    "    r2_df_d_all.append(r2_df_d) \n",
    "r2_df_d_all = pd.concat(r2_df_d_all,axis=0)"
   ]
  },
  {
   "cell_type": "code",
   "execution_count": 32,
   "id": "87d1e56a",
   "metadata": {},
   "outputs": [],
   "source": [
    "# r2_df_d_all=r2_df_d_all.droplevel((0,1,2,3))"
   ]
  },
  {
   "cell_type": "code",
   "execution_count": 10,
   "id": "19f3cb67",
   "metadata": {},
   "outputs": [],
   "source": [
    "fn_full = os.path.join(data_dir,'poly_regression_vs_step_r2_all.p')\n",
    "# pickle.dump(r2_df_d_all,open(fn_full,'wb'))\n",
    "r2_df_d_all = pickle.load(open(fn_full,'rb'))"
   ]
  },
  {
   "cell_type": "code",
   "execution_count": 71,
   "id": "af1c8c9d",
   "metadata": {},
   "outputs": [
    {
     "name": "stderr",
     "output_type": "stream",
     "text": [
      "/tmp/ipykernel_2060823/1321363207.py:14: UserWarning: FixedFormatter should only be used together with FixedLocator\n",
      "  ax.set_xticklabels(ax.get_xticklabels(),fontsize=8)\n",
      "/tmp/ipykernel_2060823/1321363207.py:15: UserWarning: FixedFormatter should only be used together with FixedLocator\n",
      "  ax.set_yticklabels(ax.get_xticklabels(),fontsize=8)\n"
     ]
    },
    {
     "data": {
      "image/png": "[encoded data removed]",
      "text/plain": [
       "<Figure size 86.4x86.4 with 1 Axes>"
      ]
     },
     "metadata": {
      "needs_background": "light"
     },
     "output_type": "display_data"
    },
    {
     "data": {
      "image/png": "[encoded data removed]",
      "text/plain": [
       "<Figure size 86.4x86.4 with 1 Axes>"
      ]
     },
     "metadata": {
      "needs_background": "light"
     },
     "output_type": "display_data"
    },
    {
     "data": {
      "image/png": "[encoded data removed]",
      "text/plain": [
       "<Figure size 86.4x86.4 with 1 Axes>"
      ]
     },
     "metadata": {
      "needs_background": "light"
     },
     "output_type": "display_data"
    },
    {
     "data": {
      "image/png": "[encoded data removed]",
      "text/plain": [
       "<Figure size 86.4x86.4 with 1 Axes>"
      ]
     },
     "metadata": {
      "needs_background": "light"
     },
     "output_type": "display_data"
    },
    {
     "data": {
      "image/png": "[encoded data removed]",
      "text/plain": [
       "<Figure size 86.4x86.4 with 1 Axes>"
      ]
     },
     "metadata": {
      "needs_background": "light"
     },
     "output_type": "display_data"
    }
   ],
   "source": [
    "# fig,axs=plt.subplots(5,1,figsize=(4,20))\n",
    "dosave = True\n",
    "for ii,order in enumerate(r2_df_d_all.columns.get_level_values(0).unique()):\n",
    "#     fig,ax=plt.subplots(figsize=(3,3))\n",
    "    fig,ax=plt.subplots(figsize=(1.2,1.2))\n",
    "    ax.set_aspect('equal')\n",
    "    ax.scatter(r2_df_d_all.loc[:,(order,'reg')],r2_df_d_all.loc[:,(order,'step')],s=0.1,marker='o')\n",
    "    frac_step_larger=(r2_df_d_all.loc[:,(order,'step_minus_reg')].dropna() > 0).mean()\n",
    "    ax.plot([0,1],[0,1],c='k')\n",
    "#     ax.set_title(f'Num. change point (polynomial order)={order}\\nFrac. CPM > regression={frac_step_larger:.2f}')\n",
    "    # to use the png version, get rid of as much text as possible\n",
    "#     ax.set_title(f'Frac. (CPM better)={frac_step_larger:.2f}',fontsize=10)\n",
    "    ax.set_title(f'{frac_step_larger:.2f}',fontsize=10)\n",
    "    ax.set_xticklabels(ax.get_xticklabels(),fontsize=8)\n",
    "    ax.set_yticklabels(ax.get_xticklabels(),fontsize=8)\n",
    "#     ax.set_xlabel('R2 polynomial regression')\n",
    "#     ax.set_ylabel('R2 change point model')\n",
    "    if dosave:\n",
    "        figfn = f'scatter_R2_cpd_vs_polyreg_order{order}'\n",
    "        ph.save_given_name(fig,figfn,figdir,dpi=900)\n"
   ]
  },
  {
   "cell_type": "markdown",
   "id": "849d3300",
   "metadata": {},
   "source": [
    "# look at one session"
   ]
  },
  {
   "cell_type": "code",
   "execution_count": 11,
   "id": "f70c20c0",
   "metadata": {},
   "outputs": [
    {
     "name": "stderr",
     "output_type": "stream",
     "text": [
      "/tmp/ipykernel_1153047/1072487391.py:4: PerformanceWarning: indexing past lexsort depth may impact performance.\n",
      "  X_raw_one = X_raw_all.loc[(ani,sess,ta,tt),:]\n",
      "/tmp/ipykernel_1153047/1072487391.py:6: PerformanceWarning: indexing past lexsort depth may impact performance.\n",
      "  changes_df_one=changes_df_all.loc[(ani,sess,ta,tt),:]\n"
     ]
    },
    {
     "ename": "NameError",
     "evalue": "name 'r2_df_d_all' is not defined",
     "output_type": "error",
     "traceback": [
      "\u001b[0;31m---------------------------------------------------------------------------\u001b[0m",
      "\u001b[0;31mNameError\u001b[0m                                 Traceback (most recent call last)",
      "Input \u001b[0;32mIn [11]\u001b[0m, in \u001b[0;36m<cell line: 12>\u001b[0;34m()\u001b[0m\n\u001b[1;32m      9\u001b[0m ii\u001b[38;5;241m=\u001b[39m\u001b[38;5;241m0\u001b[39m\n\u001b[1;32m     10\u001b[0m uid,field_id\u001b[38;5;241m=\u001b[39mchanges_df_one\u001b[38;5;241m.\u001b[39mloc[ma]\u001b[38;5;241m.\u001b[39mindex[ii]\n\u001b[0;32m---> 12\u001b[0m r2_df_d_one \u001b[38;5;241m=\u001b[39m \u001b[43mr2_df_d_all\u001b[49m\u001b[38;5;241m.\u001b[39mloc[(ani,sess,ta,tt),:]\n\u001b[1;32m     14\u001b[0m best_n_one \u001b[38;5;241m=\u001b[39m best_n_all_test\u001b[38;5;241m.\u001b[39mloc[ani,sess,ta,tt]\n\u001b[1;32m     15\u001b[0m fr_map_trial_df_one\u001b[38;5;241m=\u001b[39mfr_map_trial_df_all\u001b[38;5;241m.\u001b[39mloc[(ani,sess,ta,tt),:]\u001b[38;5;241m.\u001b[39mdropna(axis\u001b[38;5;241m=\u001b[39m\u001b[38;5;241m1\u001b[39m,how\u001b[38;5;241m=\u001b[39m\u001b[38;5;124m'\u001b[39m\u001b[38;5;124mall\u001b[39m\u001b[38;5;124m'\u001b[39m)\n",
      "\u001b[0;31mNameError\u001b[0m: name 'r2_df_d_all' is not defined"
     ]
    }
   ],
   "source": [
    "ani='e15_13f1'\n",
    "sess='e15_13f1_220117'\n",
    "ta,tt = 0,0\n",
    "X_raw_one = X_raw_all.loc[(ani,sess,ta,tt),:]\n",
    "X_pwc_one = X_pwc_all.loc[(ani,sess,ta,tt),:]\n",
    "\n",
    "changes_df_one=changes_df_all.loc[(ani,sess,ta,tt),:]\n",
    "\n",
    "ma=((changes_df_one==1).sum(axis=1)==1) & ((changes_df_one==-1).sum(axis=1)==1)\n",
    "ii=0\n",
    "uid,field_id=changes_df_one.loc[ma].index[ii]\n",
    "\n",
    "r2_df_d_one = r2_df_d_all.loc[(ani,sess,ta,tt),:]\n",
    "\n",
    "best_n_one = best_n_all_test.loc[ani,sess,ta,tt]\n",
    "fr_map_trial_df_one=fr_map_trial_df_all.loc[(ani,sess,ta,tt),:].dropna(axis=1,how='all')\n",
    "all_fields_one=all_fields_recombined_all.loc[(ani,sess,ta,tt),:]\n",
    "all_sw_d_one=all_sw_d_all.loc[(ani,sess,ta),:].set_index(['trialtype','uid','field_index']).loc[tt]"
   ]
  },
  {
   "cell_type": "code",
   "execution_count": 15,
   "id": "483642db",
   "metadata": {
    "scrolled": false
   },
   "outputs": [
    {
     "name": "stderr",
     "output_type": "stream",
     "text": [
      "/tmp/ipykernel_2060823/2076179227.py:4: PerformanceWarning: indexing past lexsort depth may impact performance.\n",
      "  si_l.append(per_field_metrics_all.loc[(i[0],i[1],i[2],row['trialtype'],row['uid']),:]['si'].mean())\n"
     ]
    }
   ],
   "source": [
    "# add si to all_sw\n",
    "si_l = []\n",
    "for i,row in all_sw_with_metrics_d_all.iterrows():\n",
    "    si_l.append(per_field_metrics_all.loc[(i[0],i[1],i[2],row['trialtype'],row['uid']),:]['si'].mean())\n",
    "si_l = np.array(si_l)\n",
    "all_sw_with_metrics_d_all['si'] = si_l"
   ]
  },
  {
   "cell_type": "code",
   "execution_count": 16,
   "id": "d824f793",
   "metadata": {},
   "outputs": [
    {
     "name": "stderr",
     "output_type": "stream",
     "text": [
      "/tmp/ipykernel_2060823/3875779715.py:2: PerformanceWarning: indexing past lexsort depth may impact performance.\n",
      "  all_sw_with_metrics_one=all_sw_with_metrics_d_all.loc[ani,sess,ta]\n"
     ]
    }
   ],
   "source": [
    "ta=0\n",
    "all_sw_with_metrics_one=all_sw_with_metrics_d_all.loc[ani,sess,ta]"
   ]
  },
  {
   "cell_type": "markdown",
   "id": "2132e77a",
   "metadata": {},
   "source": [
    "## select examples"
   ]
  },
  {
   "cell_type": "code",
   "execution_count": 17,
   "id": "38cb5fc0",
   "metadata": {},
   "outputs": [
    {
     "name": "stderr",
     "output_type": "stream",
     "text": [
      "/tmp/ipykernel_2060823/1711155876.py:7: PerformanceWarning: indexing past lexsort depth may impact performance.\n",
      "  best_n_one = best_n_all_test.loc[ani,sess,ta,tt]\n"
     ]
    }
   ],
   "source": [
    "# initialize the holder of example indices\n",
    "tt_uid_field_id_order_l = []\n",
    "\n",
    "# selecting one ON\n",
    "ta=0\n",
    "tt=0\n",
    "best_n_one = best_n_all_test.loc[ani,sess,ta,tt]\n",
    "ma=best_n_one==1\n",
    "ii=0\n",
    "uid,field_id = best_n_one.index[ma][ii]\n",
    "\n",
    "tt_uid_field_id_order_l.append((tt,uid,field_id,1))\n"
   ]
  },
  {
   "cell_type": "code",
   "execution_count": 18,
   "id": "48222351",
   "metadata": {},
   "outputs": [],
   "source": [
    "# selecting first on then off\n",
    "si_thresh = 0.5\n",
    "gpb=all_sw_with_metrics_one.groupby(['trialtype','uid','field_index'])\n",
    "uid_satisfying_cond = []\n",
    "for k,val in gpb:\n",
    "    cond = ((val['switch']==1).sum()==1) & ((val['switch']==-1).sum()==1) & (val['si'].mean() > si_thresh)\n",
    "    if cond:\n",
    "        if val.query('switch==1')['trial_index'].iloc[0] < val.query('switch==-1')['trial_index'].iloc[0]:\n",
    "#             uid_satisfying_cond[k] = val\n",
    "            uid_satisfying_cond.append(k)\n",
    "tt,uid,field_id = uid_satisfying_cond[5]\n",
    "tt_uid_field_id_order_l.append((tt,uid,field_id,2))\n"
   ]
  },
  {
   "cell_type": "code",
   "execution_count": 19,
   "id": "93be5b4e",
   "metadata": {},
   "outputs": [],
   "source": [
    "# selecting first off then on\n",
    "si_thresh = 0.5\n",
    "gpb=all_sw_with_metrics_one.groupby(['trialtype','uid','field_index'])\n",
    "uid_satisfying_cond = []\n",
    "for k,val in gpb:\n",
    "    cond = ((val['switch']==1).sum()==1) & ((val['switch']==-1).sum()==1) & (val['si'].mean() > si_thresh)\n",
    "    if cond:\n",
    "        if val.query('switch==1')['trial_index'].iloc[0] > val.query('switch==-1')['trial_index'].iloc[0]:\n",
    "#             uid_satisfying_cond[k] = val\n",
    "            uid_satisfying_cond.append(k)\n",
    "ii=2\n",
    "tt,uid,field_id = uid_satisfying_cond[ii]\n",
    "order=2\n",
    "tt_uid_field_id_order_l.append((tt,uid,field_id,order))\n"
   ]
  },
  {
   "cell_type": "code",
   "execution_count": 20,
   "id": "6b39d2a9",
   "metadata": {},
   "outputs": [],
   "source": [
    "# selecting 3 change points\n",
    "si_thresh = 0.5\n",
    "gpb=all_sw_with_metrics_one.groupby(['trialtype','uid','field_index'])\n",
    "uid_satisfying_cond = []\n",
    "for k,val in gpb:\n",
    "    cond = len(val)==3\n",
    "    if cond:\n",
    "        uid_satisfying_cond.append(k)\n",
    "ii=0\n",
    "tt,uid,field_id = uid_satisfying_cond[ii]\n",
    "order=3\n",
    "tt_uid_field_id_order_l.append((tt,uid,field_id,order))\n"
   ]
  },
  {
   "cell_type": "code",
   "execution_count": 68,
   "id": "c77c94ab",
   "metadata": {},
   "outputs": [
    {
     "data": {
      "text/plain": [
       "<module 'step_vs_gradual_analysis' from '/mnt/home/szheng/projects/place_variability/code/step_vs_gradual_analysis.py'>"
      ]
     },
     "execution_count": 68,
     "metadata": {},
     "output_type": "execute_result"
    }
   ],
   "source": [
    "reload(svga)"
   ]
  },
  {
   "cell_type": "code",
   "execution_count": 69,
   "id": "30edd487",
   "metadata": {
    "scrolled": false
   },
   "outputs": [
    {
     "name": "stderr",
     "output_type": "stream",
     "text": [
      "/tmp/ipykernel_2060823/3725456382.py:2: PerformanceWarning: indexing past lexsort depth may impact performance.\n",
      "  all_fields_recombined = all_fields_recombined_all.loc[ani,sess]\n",
      "/tmp/ipykernel_2060823/3725456382.py:5: PerformanceWarning: indexing past lexsort depth may impact performance.\n",
      "  fr_map_trial_df=fr_map_trial_df_all.loc[(ani,sess),:].dropna(axis=1,how='all')\n",
      "/tmp/ipykernel_2060823/3725456382.py:6: PerformanceWarning: indexing past lexsort depth may impact performance.\n",
      "  X_raw = X_raw_all.loc[(ani,sess),:]\n",
      "/tmp/ipykernel_2060823/3725456382.py:7: PerformanceWarning: indexing past lexsort depth may impact performance.\n",
      "  X_pwc=X_pwc_all.loc[(ani,sess),:]\n",
      "/tmp/ipykernel_2060823/3725456382.py:8: PerformanceWarning: indexing past lexsort depth may impact performance.\n",
      "  all_sw_d=all_sw_d_all.loc[(ani,sess),:]\n",
      "/tmp/ipykernel_2060823/3725456382.py:9: PerformanceWarning: indexing past lexsort depth may impact performance.\n",
      "  trial_index_to_index_within_df = dpp.trial_index_to_index_within_trialtype(spk_beh_df_all.loc[(ani,sess),:])\n",
      "/mnt/home/szheng/projects/util_code/plot_helper.py:574: UserWarning: FixedFormatter should only be used together with FixedLocator\n",
      "  ax.set_xticklabels(x_tick_labels, rotation=0)\n",
      "/mnt/home/szheng/projects/util_code/plot_helper.py:574: UserWarning: FixedFormatter should only be used together with FixedLocator\n",
      "  ax.set_xticklabels(x_tick_labels, rotation=0)\n",
      "/mnt/home/szheng/projects/util_code/plot_helper.py:574: UserWarning: FixedFormatter should only be used together with FixedLocator\n",
      "  ax.set_xticklabels(x_tick_labels, rotation=0)\n",
      "/mnt/home/szheng/projects/util_code/plot_helper.py:574: UserWarning: FixedFormatter should only be used together with FixedLocator\n",
      "  ax.set_xticklabels(x_tick_labels, rotation=0)\n"
     ]
    },
    {
     "data": {
      "image/png": "[encoded data removed]",
      "text/plain": [
       "<Figure size 288x216 with 3 Axes>"
      ]
     },
     "metadata": {
      "needs_background": "light"
     },
     "output_type": "display_data"
    },
    {
     "data": {
      "image/png": "[encoded data removed]",
      "text/plain": [
       "<Figure size 288x216 with 3 Axes>"
      ]
     },
     "metadata": {
      "needs_background": "light"
     },
     "output_type": "display_data"
    },
    {
     "data": {
      "image/png": "[encoded data removed]",
      "text/plain": [
       "<Figure size 288x216 with 3 Axes>"
      ]
     },
     "metadata": {
      "needs_background": "light"
     },
     "output_type": "display_data"
    },
    {
     "data": {
      "image/png": "[encoded data removed]",
      "text/plain": [
       "<Figure size 288x216 with 3 Axes>"
      ]
     },
     "metadata": {
      "needs_background": "light"
     },
     "output_type": "display_data"
    }
   ],
   "source": [
    "dosave = True\n",
    "all_fields_recombined = all_fields_recombined_all.loc[ani,sess]\n",
    "all_fields_row_one=all_fields_recombined.loc[ta,tt,uid,field_id]\n",
    "\n",
    "fr_map_trial_df=fr_map_trial_df_all.loc[(ani,sess),:].dropna(axis=1,how='all')\n",
    "X_raw = X_raw_all.loc[(ani,sess),:]\n",
    "X_pwc=X_pwc_all.loc[(ani,sess),:]\n",
    "all_sw_d=all_sw_d_all.loc[(ani,sess),:]\n",
    "trial_index_to_index_within_df = dpp.trial_index_to_index_within_trialtype(spk_beh_df_all.loc[(ani,sess),:])\n",
    "\n",
    "\n",
    "for (tt,uid,field_id,order) in tt_uid_field_id_order_l:\n",
    "    fig,axs=svga.fit_plot_step_vs_continuous_example(fr_map_trial_df,\n",
    "                                            X_raw,X_pwc,all_sw_d,trial_index_to_index_within_df,\n",
    "                                            all_fields_recombined,\n",
    "                                            best_n_one,\n",
    "                                            ncpts=order,ii=None,\n",
    "                                            ta=ta,tt=tt,min_size=2,\n",
    "                                                uid=uid,field_id=field_id,\n",
    "                                                     dosave=dosave,\n",
    "                                                     figdir=figdir,\n",
    "                                                     sess=sess,\n",
    "                                                     figsize=(4,3),\n",
    "                                                     do_legend=False,\n",
    "                                           )\n",
    "    \n",
    "#     axs[0].legend([]).remove()"
   ]
  },
  {
   "cell_type": "markdown",
   "id": "23473bb5",
   "metadata": {},
   "source": [
    "# step vs continuous for the pv correlation curve"
   ]
  },
  {
   "cell_type": "code",
   "execution_count": 73,
   "id": "d4284d04",
   "metadata": {},
   "outputs": [],
   "source": [
    "import pv_corr_analysis as pvca"
   ]
  },
  {
   "cell_type": "code",
   "execution_count": 74,
   "id": "68ae5628",
   "metadata": {},
   "outputs": [],
   "source": [
    "corr_all=fr_map_trial_df_all.groupby(level=(0,1,2,3)).corr()\n",
    "mean_corr_all=corr_all.groupby(level=(0,1,2,3)).apply(lambda x:pvca.get_val_per_lag(x).mean(axis=0))\n",
    "mean_corr_all = mean_corr_all.unstack(level=-1)"
   ]
  },
  {
   "cell_type": "code",
   "execution_count": 188,
   "id": "0ed4d2fa",
   "metadata": {
    "scrolled": true
   },
   "outputs": [
    {
     "data": {
      "text/plain": [
       "<module 'step_vs_gradual_analysis' from '/mnt/home/szheng/projects/place_variability/code/step_vs_gradual_analysis.py'>"
      ]
     },
     "execution_count": 188,
     "metadata": {},
     "output_type": "execute_result"
    }
   ],
   "source": [
    "reload(svga)"
   ]
  },
  {
   "cell_type": "code",
   "execution_count": 75,
   "id": "1f5aefe7",
   "metadata": {
    "scrolled": false
   },
   "outputs": [],
   "source": [
    "r2_df_pv = svga.fit_poly_regress_cpd_get_r2_all_multi_order(mean_corr_all,cost='l2',min_size=2,ncpt_max=5)"
   ]
  },
  {
   "cell_type": "code",
   "execution_count": 78,
   "id": "f152ebcf",
   "metadata": {},
   "outputs": [],
   "source": [
    "ani='e15_13f1'\n",
    "sess='e15_13f1_220117'"
   ]
  },
  {
   "cell_type": "code",
   "execution_count": 97,
   "id": "84c601ef",
   "metadata": {},
   "outputs": [],
   "source": [
    "ta,tt=0,0\n",
    "xx=mean_corr_all.loc[ani,sess].dropna(axis=1,how='all').loc[ta,tt].values"
   ]
  },
  {
   "cell_type": "code",
   "execution_count": 102,
   "id": "12c1707e",
   "metadata": {
    "scrolled": true
   },
   "outputs": [
    {
     "name": "stdout",
     "output_type": "stream",
     "text": [
      "                            OLS Regression Results                            \n",
      "==============================================================================\n",
      "Dep. Variable:                      y   R-squared:                       0.959\n",
      "Model:                            OLS   Adj. R-squared:                  0.957\n",
      "Method:                 Least Squares   F-statistic:                     402.3\n",
      "Date:                Tue, 19 Dec 2023   Prob (F-statistic):           2.86e-13\n",
      "Time:                        02:16:03   Log-Likelihood:                 49.344\n",
      "No. Observations:                  19   AIC:                            -94.69\n",
      "Df Residuals:                      17   BIC:                            -92.80\n",
      "Df Model:                           1                                         \n",
      "Covariance Type:            nonrobust                                         \n",
      "==============================================================================\n",
      "                 coef    std err          t      P>|t|      [0.025      0.975]\n",
      "------------------------------------------------------------------------------\n",
      "const          0.7512      0.008     89.331      0.000       0.733       0.769\n",
      "x1            -0.0160      0.001    -20.056      0.000      -0.018      -0.014\n",
      "==============================================================================\n",
      "Omnibus:                        8.720   Durbin-Watson:                   0.374\n",
      "Prob(Omnibus):                  0.013   Jarque-Bera (JB):                5.879\n",
      "Skew:                          -1.196   Prob(JB):                       0.0529\n",
      "Kurtosis:                       4.305   Cond. No.                         20.4\n",
      "==============================================================================\n",
      "\n",
      "Notes:\n",
      "[1] Standard Errors assume that the covariance matrix of the errors is correctly specified.\n"
     ]
    },
    {
     "name": "stderr",
     "output_type": "stream",
     "text": [
      "/mnt/home/szheng/ceph/envs/jax/lib/python3.9/site-packages/scipy/stats/_stats_py.py:1736: UserWarning: kurtosistest only valid for n>=20 ... continuing anyway, n=19\n",
      "  warnings.warn(\"kurtosistest only valid for n>=20 ... continuing \"\n"
     ]
    }
   ],
   "source": [
    "ncpts = 1\n",
    "r2_step,xx_hat_step=svga.fit_cpd_get_r2(xx,ncpts,cost='l2',min_size=2)\n",
    "r2_reg,xx_hat_reg=svga.fit_poly_regress_get_r2(xx,order=ncpts,cost='l2',verbose=True)"
   ]
  },
  {
   "cell_type": "code",
   "execution_count": 119,
   "id": "fa30e384",
   "metadata": {},
   "outputs": [
    {
     "data": {
      "image/png": "[encoded data removed]",
      "text/plain": [
       "<Figure size 144x216 with 1 Axes>"
      ]
     },
     "metadata": {
      "needs_background": "light"
     },
     "output_type": "display_data"
    }
   ],
   "source": [
    "fig,ax=plt.subplots(figsize=(2,3))\n",
    "ax.plot(xx,label='raw',marker='o',color='grey')\n",
    "ax.plot(xx_hat_step,label='fitted step',color='blue')\n",
    "ax.plot(xx_hat_reg, label='fitted cont.',color='orange')\n",
    "ax.legend(bbox_to_anchor=[1.05,1.],frameon=False)\n",
    "ax.set_xlabel('Trial lag')\n",
    "ax.set_ylabel('Pop. ratemap corr.')\n",
    "sns.despine()\n",
    "figfn = 'example_pvcorr_vs_triallag_with_step_and_continuous_fit'\n",
    "ph.save_given_name(fig,figfn,figdir)\n"
   ]
  },
  {
   "cell_type": "code",
   "execution_count": 76,
   "id": "77ce7943",
   "metadata": {},
   "outputs": [
    {
     "data": {
      "image/png": "[encoded data removed]",
      "text/plain": [
       "<Figure size 120x120 with 1 Axes>"
      ]
     },
     "metadata": {},
     "output_type": "display_data"
    },
    {
     "data": {
      "image/png": "[encoded data removed]",
      "text/plain": [
       "<Figure size 120x120 with 1 Axes>"
      ]
     },
     "metadata": {},
     "output_type": "display_data"
    },
    {
     "data": {
      "image/png": "[encoded data removed]",
      "text/plain": [
       "<Figure size 120x120 with 1 Axes>"
      ]
     },
     "metadata": {},
     "output_type": "display_data"
    },
    {
     "data": {
      "image/png": "[encoded data removed]",
      "text/plain": [
       "<Figure size 120x120 with 1 Axes>"
      ]
     },
     "metadata": {},
     "output_type": "display_data"
    },
    {
     "data": {
      "image/png": "[encoded data removed]",
      "text/plain": [
       "<Figure size 120x120 with 1 Axes>"
      ]
     },
     "metadata": {},
     "output_type": "display_data"
    }
   ],
   "source": [
    "# fig,axs=plt.subplots(5,1,figsize=(4,20))\n",
    "dosave = True\n",
    "for ii,order in enumerate(r2_df_pv.columns.get_level_values(0).unique()):\n",
    "    fig,ax=plt.subplots(figsize=(1.2,1.2))\n",
    "    ax.set_aspect('equal')\n",
    "    ax.scatter(r2_df_pv.loc[:,(order,'reg')],r2_df_pv.loc[:,(order,'step')],s=1)\n",
    "    ax.plot([0.6,1],[0.6,1],color='k')\n",
    "    ax.set_xlim([0.6,1.01])\n",
    "    ax.set_ylim([0.6,1.01])\n",
    "    ax.set_xticks([0.6,1])\n",
    "    ax.set_yticks([0.6,1])\n",
    "    \n",
    "    frac_step_larger = (r2_df_pv.loc[:,(order,'step_minus_reg')].dropna() > 0).mean()\n",
    "        \n",
    "#     ax.set_title(f'Num. change point (polynomial order)={order}\\nFrac. CPM > regression={frac:.2f}')\n",
    "#     ax.set_title(f'Frac. (CPM better)={frac_step_larger:.2f}',fontsize=10)\n",
    "    ax.set_title(f'{frac_step_larger:.2f}',fontsize=10)\n",
    "    ax.set_xticklabels(ax.get_xticklabels(),fontsize=8)\n",
    "    ax.set_yticklabels(ax.get_xticklabels(),fontsize=8)\n",
    "#     ax.set_xlabel('R2 polynomial regression')\n",
    "#     ax.set_ylabel('R2 change point model')\n",
    "    if dosave:\n",
    "        figfn = f'scatter_R2_cpd_vs_polyreg_order{order}_popveccorr'\n",
    "        ph.save_given_name(fig,figfn,figdir,dpi=900)\n"
   ]
  },
  {
   "cell_type": "markdown",
   "id": "2fb49221",
   "metadata": {},
   "source": [
    "# analysis of how many trials it take to switch"
   ]
  },
  {
   "cell_type": "markdown",
   "id": "3376e313",
   "metadata": {},
   "source": [
    "## get peri switch trials"
   ]
  },
  {
   "cell_type": "code",
   "execution_count": 77,
   "id": "ef9939d9",
   "metadata": {},
   "outputs": [
    {
     "data": {
      "text/plain": [
       "<module 'step_vs_gradual_analysis' from '/mnt/home/szheng/projects/place_variability/code/step_vs_gradual_analysis.py'>"
      ]
     },
     "execution_count": 77,
     "metadata": {},
     "output_type": "execute_result"
    }
   ],
   "source": [
    "reload(svga)"
   ]
  },
  {
   "cell_type": "markdown",
   "id": "7d6342e7",
   "metadata": {},
   "source": [
    "### idea: how many trials are lapsed from the valley pre switch and peak post switch"
   ]
  },
  {
   "cell_type": "code",
   "execution_count": 76,
   "id": "6650ebbe",
   "metadata": {
    "scrolled": true
   },
   "outputs": [
    {
     "name": "stdout",
     "output_type": "stream",
     "text": [
      "> \u001b[0;32m/mnt/home/szheng/projects/place_variability/code/step_vs_gradual_analysis.py\u001b[0m(215)\u001b[0;36mget_peri_switch_peak_valley_span\u001b[0;34m()\u001b[0m\n",
      "\u001b[0;32m    213 \u001b[0;31m\u001b[0;34m\u001b[0m\u001b[0m\n",
      "\u001b[0m\u001b[0;32m    214 \u001b[0;31m        \u001b[0mpdb\u001b[0m\u001b[0;34m.\u001b[0m\u001b[0mset_trace\u001b[0m\u001b[0;34m(\u001b[0m\u001b[0;34m)\u001b[0m\u001b[0;34m\u001b[0m\u001b[0;34m\u001b[0m\u001b[0m\n",
      "\u001b[0m\u001b[0;32m--> 215 \u001b[0;31m        \u001b[0mma_pre_nonzero\u001b[0m\u001b[0;34m=\u001b[0m\u001b[0mnp\u001b[0m\u001b[0;34m.\u001b[0m\u001b[0mnonzero\u001b[0m\u001b[0;34m(\u001b[0m\u001b[0mma_pre\u001b[0m\u001b[0;34m)\u001b[0m\u001b[0;34m[\u001b[0m\u001b[0;36m0\u001b[0m\u001b[0;34m]\u001b[0m\u001b[0;34m\u001b[0m\u001b[0;34m\u001b[0m\u001b[0m\n",
      "\u001b[0m\u001b[0;32m    216 \u001b[0;31m        \u001b[0mn_trial_between_sw_pre\u001b[0m \u001b[0;34m=\u001b[0m \u001b[0mswiw\u001b[0m \u001b[0;34m-\u001b[0m \u001b[0mma_pre_nonzero\u001b[0m\u001b[0;34m\u001b[0m\u001b[0;34m\u001b[0m\u001b[0m\n",
      "\u001b[0m\u001b[0;32m    217 \u001b[0;31m        \u001b[0mma_post_nonzero\u001b[0m\u001b[0;34m=\u001b[0m\u001b[0mnp\u001b[0m\u001b[0;34m.\u001b[0m\u001b[0mnonzero\u001b[0m\u001b[0;34m(\u001b[0m\u001b[0mma_post\u001b[0m\u001b[0;34m)\u001b[0m\u001b[0;34m[\u001b[0m\u001b[0;36m0\u001b[0m\u001b[0;34m]\u001b[0m\u001b[0;34m\u001b[0m\u001b[0;34m\u001b[0m\u001b[0m\n",
      "\u001b[0m\n",
      "ipdb> n\n",
      "> \u001b[0;32m/mnt/home/szheng/projects/place_variability/code/step_vs_gradual_analysis.py\u001b[0m(216)\u001b[0;36mget_peri_switch_peak_valley_span\u001b[0;34m()\u001b[0m\n",
      "\u001b[0;32m    214 \u001b[0;31m        \u001b[0mpdb\u001b[0m\u001b[0;34m.\u001b[0m\u001b[0mset_trace\u001b[0m\u001b[0;34m(\u001b[0m\u001b[0;34m)\u001b[0m\u001b[0;34m\u001b[0m\u001b[0;34m\u001b[0m\u001b[0m\n",
      "\u001b[0m\u001b[0;32m    215 \u001b[0;31m        \u001b[0mma_pre_nonzero\u001b[0m\u001b[0;34m=\u001b[0m\u001b[0mnp\u001b[0m\u001b[0;34m.\u001b[0m\u001b[0mnonzero\u001b[0m\u001b[0;34m(\u001b[0m\u001b[0mma_pre\u001b[0m\u001b[0;34m)\u001b[0m\u001b[0;34m[\u001b[0m\u001b[0;36m0\u001b[0m\u001b[0;34m]\u001b[0m\u001b[0;34m\u001b[0m\u001b[0;34m\u001b[0m\u001b[0m\n",
      "\u001b[0m\u001b[0;32m--> 216 \u001b[0;31m        \u001b[0mn_trial_between_sw_pre\u001b[0m \u001b[0;34m=\u001b[0m \u001b[0mswiw\u001b[0m \u001b[0;34m-\u001b[0m \u001b[0mma_pre_nonzero\u001b[0m\u001b[0;34m\u001b[0m\u001b[0;34m\u001b[0m\u001b[0m\n",
      "\u001b[0m\u001b[0;32m    217 \u001b[0;31m        \u001b[0mma_post_nonzero\u001b[0m\u001b[0;34m=\u001b[0m\u001b[0mnp\u001b[0m\u001b[0;34m.\u001b[0m\u001b[0mnonzero\u001b[0m\u001b[0;34m(\u001b[0m\u001b[0mma_post\u001b[0m\u001b[0;34m)\u001b[0m\u001b[0;34m[\u001b[0m\u001b[0;36m0\u001b[0m\u001b[0;34m]\u001b[0m\u001b[0;34m\u001b[0m\u001b[0;34m\u001b[0m\u001b[0m\n",
      "\u001b[0m\u001b[0;32m    218 \u001b[0;31m        \u001b[0mn_trial_between_sw_post\u001b[0m \u001b[0;34m=\u001b[0m  \u001b[0mma_post_nonzero\u001b[0m \u001b[0;34m-\u001b[0m \u001b[0mswiw\u001b[0m \u001b[0;34m+\u001b[0m \u001b[0;36m1\u001b[0m\u001b[0;34m\u001b[0m\u001b[0;34m\u001b[0m\u001b[0m\n",
      "\u001b[0m\n",
      "ipdb> n\n",
      "> \u001b[0;32m/mnt/home/szheng/projects/place_variability/code/step_vs_gradual_analysis.py\u001b[0m(217)\u001b[0;36mget_peri_switch_peak_valley_span\u001b[0;34m()\u001b[0m\n",
      "\u001b[0;32m    215 \u001b[0;31m        \u001b[0mma_pre_nonzero\u001b[0m\u001b[0;34m=\u001b[0m\u001b[0mnp\u001b[0m\u001b[0;34m.\u001b[0m\u001b[0mnonzero\u001b[0m\u001b[0;34m(\u001b[0m\u001b[0mma_pre\u001b[0m\u001b[0;34m)\u001b[0m\u001b[0;34m[\u001b[0m\u001b[0;36m0\u001b[0m\u001b[0;34m]\u001b[0m\u001b[0;34m\u001b[0m\u001b[0;34m\u001b[0m\u001b[0m\n",
      "\u001b[0m\u001b[0;32m    216 \u001b[0;31m        \u001b[0mn_trial_between_sw_pre\u001b[0m \u001b[0;34m=\u001b[0m \u001b[0mswiw\u001b[0m \u001b[0;34m-\u001b[0m \u001b[0mma_pre_nonzero\u001b[0m\u001b[0;34m\u001b[0m\u001b[0;34m\u001b[0m\u001b[0m\n",
      "\u001b[0m\u001b[0;32m--> 217 \u001b[0;31m        \u001b[0mma_post_nonzero\u001b[0m\u001b[0;34m=\u001b[0m\u001b[0mnp\u001b[0m\u001b[0;34m.\u001b[0m\u001b[0mnonzero\u001b[0m\u001b[0;34m(\u001b[0m\u001b[0mma_post\u001b[0m\u001b[0;34m)\u001b[0m\u001b[0;34m[\u001b[0m\u001b[0;36m0\u001b[0m\u001b[0;34m]\u001b[0m\u001b[0;34m\u001b[0m\u001b[0;34m\u001b[0m\u001b[0m\n",
      "\u001b[0m\u001b[0;32m    218 \u001b[0;31m        \u001b[0mn_trial_between_sw_post\u001b[0m \u001b[0;34m=\u001b[0m  \u001b[0mma_post_nonzero\u001b[0m \u001b[0;34m-\u001b[0m \u001b[0mswiw\u001b[0m \u001b[0;34m+\u001b[0m \u001b[0;36m1\u001b[0m\u001b[0;34m\u001b[0m\u001b[0;34m\u001b[0m\u001b[0m\n",
      "\u001b[0m\u001b[0;32m    219 \u001b[0;31m        \u001b[0;32mif\u001b[0m \u001b[0;34m(\u001b[0m\u001b[0mn_trial_between_sw_pre\u001b[0m\u001b[0;34m>\u001b[0m\u001b[0;36m0\u001b[0m\u001b[0;34m)\u001b[0m\u001b[0;34m.\u001b[0m\u001b[0msum\u001b[0m\u001b[0;34m(\u001b[0m\u001b[0;34m)\u001b[0m\u001b[0;34m>\u001b[0m\u001b[0;36m0\u001b[0m \u001b[0;32mand\u001b[0m \u001b[0;34m(\u001b[0m\u001b[0mn_trial_between_sw_post\u001b[0m\u001b[0;34m>\u001b[0m\u001b[0;36m0\u001b[0m\u001b[0;34m)\u001b[0m\u001b[0;34m.\u001b[0m\u001b[0msum\u001b[0m\u001b[0;34m(\u001b[0m\u001b[0;34m)\u001b[0m\u001b[0;34m>\u001b[0m\u001b[0;36m0\u001b[0m\u001b[0;34m:\u001b[0m \u001b[0;31m# drop weird cases\u001b[0m\u001b[0;34m\u001b[0m\u001b[0;34m\u001b[0m\u001b[0m\n",
      "\u001b[0m\n",
      "ipdb> n\n",
      "> \u001b[0;32m/mnt/home/szheng/projects/place_variability/code/step_vs_gradual_analysis.py\u001b[0m(218)\u001b[0;36mget_peri_switch_peak_valley_span\u001b[0;34m()\u001b[0m\n",
      "\u001b[0;32m    216 \u001b[0;31m        \u001b[0mn_trial_between_sw_pre\u001b[0m \u001b[0;34m=\u001b[0m \u001b[0mswiw\u001b[0m \u001b[0;34m-\u001b[0m \u001b[0mma_pre_nonzero\u001b[0m\u001b[0;34m\u001b[0m\u001b[0;34m\u001b[0m\u001b[0m\n",
      "\u001b[0m\u001b[0;32m    217 \u001b[0;31m        \u001b[0mma_post_nonzero\u001b[0m\u001b[0;34m=\u001b[0m\u001b[0mnp\u001b[0m\u001b[0;34m.\u001b[0m\u001b[0mnonzero\u001b[0m\u001b[0;34m(\u001b[0m\u001b[0mma_post\u001b[0m\u001b[0;34m)\u001b[0m\u001b[0;34m[\u001b[0m\u001b[0;36m0\u001b[0m\u001b[0;34m]\u001b[0m\u001b[0;34m\u001b[0m\u001b[0;34m\u001b[0m\u001b[0m\n",
      "\u001b[0m\u001b[0;32m--> 218 \u001b[0;31m        \u001b[0mn_trial_between_sw_post\u001b[0m \u001b[0;34m=\u001b[0m  \u001b[0mma_post_nonzero\u001b[0m \u001b[0;34m-\u001b[0m \u001b[0mswiw\u001b[0m \u001b[0;34m+\u001b[0m \u001b[0;36m1\u001b[0m\u001b[0;34m\u001b[0m\u001b[0;34m\u001b[0m\u001b[0m\n",
      "\u001b[0m\u001b[0;32m    219 \u001b[0;31m        \u001b[0;32mif\u001b[0m \u001b[0;34m(\u001b[0m\u001b[0mn_trial_between_sw_pre\u001b[0m\u001b[0;34m>\u001b[0m\u001b[0;36m0\u001b[0m\u001b[0;34m)\u001b[0m\u001b[0;34m.\u001b[0m\u001b[0msum\u001b[0m\u001b[0;34m(\u001b[0m\u001b[0;34m)\u001b[0m\u001b[0;34m>\u001b[0m\u001b[0;36m0\u001b[0m \u001b[0;32mand\u001b[0m \u001b[0;34m(\u001b[0m\u001b[0mn_trial_between_sw_post\u001b[0m\u001b[0;34m>\u001b[0m\u001b[0;36m0\u001b[0m\u001b[0;34m)\u001b[0m\u001b[0;34m.\u001b[0m\u001b[0msum\u001b[0m\u001b[0;34m(\u001b[0m\u001b[0;34m)\u001b[0m\u001b[0;34m>\u001b[0m\u001b[0;36m0\u001b[0m\u001b[0;34m:\u001b[0m \u001b[0;31m# drop weird cases\u001b[0m\u001b[0;34m\u001b[0m\u001b[0;34m\u001b[0m\u001b[0m\n",
      "\u001b[0m\u001b[0;32m    220 \u001b[0;31m\u001b[0;34m\u001b[0m\u001b[0m\n",
      "\u001b[0m\n",
      "ipdb> n\n",
      "> \u001b[0;32m/mnt/home/szheng/projects/place_variability/code/step_vs_gradual_analysis.py\u001b[0m(219)\u001b[0;36mget_peri_switch_peak_valley_span\u001b[0;34m()\u001b[0m\n",
      "\u001b[0;32m    217 \u001b[0;31m        \u001b[0mma_post_nonzero\u001b[0m\u001b[0;34m=\u001b[0m\u001b[0mnp\u001b[0m\u001b[0;34m.\u001b[0m\u001b[0mnonzero\u001b[0m\u001b[0;34m(\u001b[0m\u001b[0mma_post\u001b[0m\u001b[0;34m)\u001b[0m\u001b[0;34m[\u001b[0m\u001b[0;36m0\u001b[0m\u001b[0;34m]\u001b[0m\u001b[0;34m\u001b[0m\u001b[0;34m\u001b[0m\u001b[0m\n",
      "\u001b[0m\u001b[0;32m    218 \u001b[0;31m        \u001b[0mn_trial_between_sw_post\u001b[0m \u001b[0;34m=\u001b[0m  \u001b[0mma_post_nonzero\u001b[0m \u001b[0;34m-\u001b[0m \u001b[0mswiw\u001b[0m \u001b[0;34m+\u001b[0m \u001b[0;36m1\u001b[0m\u001b[0;34m\u001b[0m\u001b[0;34m\u001b[0m\u001b[0m\n",
      "\u001b[0m\u001b[0;32m--> 219 \u001b[0;31m        \u001b[0;32mif\u001b[0m \u001b[0;34m(\u001b[0m\u001b[0mn_trial_between_sw_pre\u001b[0m\u001b[0;34m>\u001b[0m\u001b[0;36m0\u001b[0m\u001b[0;34m)\u001b[0m\u001b[0;34m.\u001b[0m\u001b[0msum\u001b[0m\u001b[0;34m(\u001b[0m\u001b[0;34m)\u001b[0m\u001b[0;34m>\u001b[0m\u001b[0;36m0\u001b[0m \u001b[0;32mand\u001b[0m \u001b[0;34m(\u001b[0m\u001b[0mn_trial_between_sw_post\u001b[0m\u001b[0;34m>\u001b[0m\u001b[0;36m0\u001b[0m\u001b[0;34m)\u001b[0m\u001b[0;34m.\u001b[0m\u001b[0msum\u001b[0m\u001b[0;34m(\u001b[0m\u001b[0;34m)\u001b[0m\u001b[0;34m>\u001b[0m\u001b[0;36m0\u001b[0m\u001b[0;34m:\u001b[0m \u001b[0;31m# drop weird cases\u001b[0m\u001b[0;34m\u001b[0m\u001b[0;34m\u001b[0m\u001b[0m\n",
      "\u001b[0m\u001b[0;32m    220 \u001b[0;31m\u001b[0;34m\u001b[0m\u001b[0m\n",
      "\u001b[0m\u001b[0;32m    221 \u001b[0;31m            \u001b[0mpre_n_trial\u001b[0m \u001b[0;34m=\u001b[0m \u001b[0mnp\u001b[0m\u001b[0;34m.\u001b[0m\u001b[0mmin\u001b[0m\u001b[0;34m(\u001b[0m\u001b[0mn_trial_between_sw_pre\u001b[0m\u001b[0;34m[\u001b[0m\u001b[0mn_trial_between_sw_pre\u001b[0m\u001b[0;34m>\u001b[0m\u001b[0;36m0\u001b[0m\u001b[0;34m]\u001b[0m\u001b[0;34m)\u001b[0m \u001b[0;31m# only looking at trial before the switch, pre_n should >0; since swiw is always striclty > pre indices\u001b[0m\u001b[0;34m\u001b[0m\u001b[0;34m\u001b[0m\u001b[0m\n",
      "\u001b[0m\n",
      "ipdb> n\n",
      "> \u001b[0;32m/mnt/home/szheng/projects/place_variability/code/step_vs_gradual_analysis.py\u001b[0m(221)\u001b[0;36mget_peri_switch_peak_valley_span\u001b[0;34m()\u001b[0m\n",
      "\u001b[0;32m    219 \u001b[0;31m        \u001b[0;32mif\u001b[0m \u001b[0;34m(\u001b[0m\u001b[0mn_trial_between_sw_pre\u001b[0m\u001b[0;34m>\u001b[0m\u001b[0;36m0\u001b[0m\u001b[0;34m)\u001b[0m\u001b[0;34m.\u001b[0m\u001b[0msum\u001b[0m\u001b[0;34m(\u001b[0m\u001b[0;34m)\u001b[0m\u001b[0;34m>\u001b[0m\u001b[0;36m0\u001b[0m \u001b[0;32mand\u001b[0m \u001b[0;34m(\u001b[0m\u001b[0mn_trial_between_sw_post\u001b[0m\u001b[0;34m>\u001b[0m\u001b[0;36m0\u001b[0m\u001b[0;34m)\u001b[0m\u001b[0;34m.\u001b[0m\u001b[0msum\u001b[0m\u001b[0;34m(\u001b[0m\u001b[0;34m)\u001b[0m\u001b[0;34m>\u001b[0m\u001b[0;36m0\u001b[0m\u001b[0;34m:\u001b[0m \u001b[0;31m# drop weird cases\u001b[0m\u001b[0;34m\u001b[0m\u001b[0;34m\u001b[0m\u001b[0m\n",
      "\u001b[0m\u001b[0;32m    220 \u001b[0;31m\u001b[0;34m\u001b[0m\u001b[0m\n",
      "\u001b[0m\u001b[0;32m--> 221 \u001b[0;31m            \u001b[0mpre_n_trial\u001b[0m \u001b[0;34m=\u001b[0m \u001b[0mnp\u001b[0m\u001b[0;34m.\u001b[0m\u001b[0mmin\u001b[0m\u001b[0;34m(\u001b[0m\u001b[0mn_trial_between_sw_pre\u001b[0m\u001b[0;34m[\u001b[0m\u001b[0mn_trial_between_sw_pre\u001b[0m\u001b[0;34m>\u001b[0m\u001b[0;36m0\u001b[0m\u001b[0;34m]\u001b[0m\u001b[0;34m)\u001b[0m \u001b[0;31m# only looking at trial before the switch, pre_n should >0; since swiw is always striclty > pre indices\u001b[0m\u001b[0;34m\u001b[0m\u001b[0;34m\u001b[0m\u001b[0m\n",
      "\u001b[0m\u001b[0;32m    222 \u001b[0;31m            \u001b[0;31m# how many trial it takes; if right away then 1\u001b[0m\u001b[0;34m\u001b[0m\u001b[0;34m\u001b[0m\u001b[0m\n",
      "\u001b[0m\u001b[0;32m    223 \u001b[0;31m            \u001b[0;31m# swiw: the index when switch happen; max of nonzero ma should at most be swiw-1; when that happen pre_n_trial=1\u001b[0m\u001b[0;34m\u001b[0m\u001b[0;34m\u001b[0m\u001b[0m\n",
      "\u001b[0m\n",
      "ipdb> n\n",
      "> \u001b[0;32m/mnt/home/szheng/projects/place_variability/code/step_vs_gradual_analysis.py\u001b[0m(225)\u001b[0;36mget_peri_switch_peak_valley_span\u001b[0;34m()\u001b[0m\n",
      "\u001b[0;32m    223 \u001b[0;31m            \u001b[0;31m# swiw: the index when switch happen; max of nonzero ma should at most be swiw-1; when that happen pre_n_trial=1\u001b[0m\u001b[0;34m\u001b[0m\u001b[0;34m\u001b[0m\u001b[0m\n",
      "\u001b[0m\u001b[0;32m    224 \u001b[0;31m\u001b[0;34m\u001b[0m\u001b[0m\n",
      "\u001b[0m\u001b[0;32m--> 225 \u001b[0;31m            \u001b[0mpost_n_trial\u001b[0m \u001b[0;34m=\u001b[0m \u001b[0mnp\u001b[0m\u001b[0;34m.\u001b[0m\u001b[0mmin\u001b[0m\u001b[0;34m(\u001b[0m\u001b[0mn_trial_between_sw_post\u001b[0m\u001b[0;34m[\u001b[0m\u001b[0mn_trial_between_sw_post\u001b[0m\u001b[0;34m>\u001b[0m\u001b[0;36m0\u001b[0m\u001b[0;34m]\u001b[0m\u001b[0;34m)\u001b[0m \u001b[0;31m# only looking at trial after the switch, post_n should >0, since swiw is in the post, no more >=\u001b[0m\u001b[0;34m\u001b[0m\u001b[0;34m\u001b[0m\u001b[0m\n",
      "\u001b[0m\u001b[0;32m    226 \u001b[0;31m\u001b[0;34m\u001b[0m\u001b[0m\n",
      "\u001b[0m\u001b[0;32m    227 \u001b[0;31m            \u001b[0mspan\u001b[0m \u001b[0;34m=\u001b[0m \u001b[0mpre_n_trial\u001b[0m \u001b[0;34m+\u001b[0m \u001b[0mpost_n_trial\u001b[0m \u001b[0;34m-\u001b[0m \u001b[0;36m1\u001b[0m\u001b[0;34m\u001b[0m\u001b[0;34m\u001b[0m\u001b[0m\n",
      "\u001b[0m\n",
      "ipdb> pre_n_trial\n",
      "1\n",
      "ipdb> swiw\n",
      "9\n",
      "ipdb> exit\n"
     ]
    },
    {
     "ename": "BdbQuit",
     "evalue": "",
     "output_type": "error",
     "traceback": [
      "\u001b[0;31m---------------------------------------------------------------------------\u001b[0m",
      "\u001b[0;31mBdbQuit\u001b[0m                                   Traceback (most recent call last)",
      "Input \u001b[0;32mIn [76]\u001b[0m, in \u001b[0;36m<cell line: 5>\u001b[0;34m()\u001b[0m\n\u001b[1;32m      1\u001b[0m \u001b[38;5;66;03m# ii = 51\u001b[39;00m\n\u001b[1;32m      2\u001b[0m \u001b[38;5;66;03m# changes_df_row = changes_df_one.iloc[ii].dropna()\u001b[39;00m\n\u001b[1;32m      3\u001b[0m \u001b[38;5;66;03m# X_raw_row = X_raw_one.iloc[ii].dropna()\u001b[39;00m\n\u001b[1;32m      4\u001b[0m \u001b[38;5;66;03m# X_pwc_row = X_pwc_one.iloc[ii].dropna()\u001b[39;00m\n\u001b[0;32m----> 5\u001b[0m span_d \u001b[38;5;241m=\u001b[39m \u001b[43msvga\u001b[49m\u001b[38;5;241;43m.\u001b[39;49m\u001b[43mget_peri_switch_peak_valley_span\u001b[49m\u001b[43m(\u001b[49m\u001b[43mchanges_df_row\u001b[49m\u001b[43m,\u001b[49m\u001b[43mX_raw_row\u001b[49m\u001b[43m,\u001b[49m\u001b[43mX_pwc_row\u001b[49m\u001b[43m)\u001b[49m\n\u001b[1;32m      6\u001b[0m peri_sw_x_one\u001b[38;5;241m=\u001b[39msvga\u001b[38;5;241m.\u001b[39mget_peri_switch_x_raw(changes_df_row,X_raw_row,win\u001b[38;5;241m=\u001b[39m\u001b[38;5;241m10\u001b[39m)\n",
      "File \u001b[0;32m~/projects/place_variability/code/step_vs_gradual_analysis.py:225\u001b[0m, in \u001b[0;36mget_peri_switch_peak_valley_span\u001b[0;34m(changes_df_row, X_raw_row, X_pwc_row)\u001b[0m\n\u001b[1;32m    221\u001b[0m pre_n_trial \u001b[38;5;241m=\u001b[39m np\u001b[38;5;241m.\u001b[39mmin(n_trial_between_sw_pre[n_trial_between_sw_pre\u001b[38;5;241m>\u001b[39m\u001b[38;5;241m0\u001b[39m]) \u001b[38;5;66;03m# only looking at trial before the switch, pre_n should >0; since swiw is always striclty > pre indices \u001b[39;00m\n\u001b[1;32m    222\u001b[0m \u001b[38;5;66;03m# how many trial it takes; if right away then 1\u001b[39;00m\n\u001b[1;32m    223\u001b[0m \u001b[38;5;66;03m# swiw: the index when switch happen; max of nonzero ma should at most be swiw-1; when that happen pre_n_trial=1\u001b[39;00m\n\u001b[0;32m--> 225\u001b[0m post_n_trial \u001b[38;5;241m=\u001b[39m \u001b[43mnp\u001b[49m\u001b[38;5;241m.\u001b[39mmin(n_trial_between_sw_post[n_trial_between_sw_post\u001b[38;5;241m>\u001b[39m\u001b[38;5;241m0\u001b[39m]) \u001b[38;5;66;03m# only looking at trial after the switch, post_n should >0, since swiw is in the post, no more >=\u001b[39;00m\n\u001b[1;32m    227\u001b[0m span \u001b[38;5;241m=\u001b[39m pre_n_trial \u001b[38;5;241m+\u001b[39m post_n_trial \u001b[38;5;241m-\u001b[39m \u001b[38;5;241m1\u001b[39m\n\u001b[1;32m    228\u001b[0m onoff\u001b[38;5;241m=\u001b[39mrow[swiw]\n",
      "File \u001b[0;32m~/projects/place_variability/code/step_vs_gradual_analysis.py:225\u001b[0m, in \u001b[0;36mget_peri_switch_peak_valley_span\u001b[0;34m(changes_df_row, X_raw_row, X_pwc_row)\u001b[0m\n\u001b[1;32m    221\u001b[0m pre_n_trial \u001b[38;5;241m=\u001b[39m np\u001b[38;5;241m.\u001b[39mmin(n_trial_between_sw_pre[n_trial_between_sw_pre\u001b[38;5;241m>\u001b[39m\u001b[38;5;241m0\u001b[39m]) \u001b[38;5;66;03m# only looking at trial before the switch, pre_n should >0; since swiw is always striclty > pre indices \u001b[39;00m\n\u001b[1;32m    222\u001b[0m \u001b[38;5;66;03m# how many trial it takes; if right away then 1\u001b[39;00m\n\u001b[1;32m    223\u001b[0m \u001b[38;5;66;03m# swiw: the index when switch happen; max of nonzero ma should at most be swiw-1; when that happen pre_n_trial=1\u001b[39;00m\n\u001b[0;32m--> 225\u001b[0m post_n_trial \u001b[38;5;241m=\u001b[39m \u001b[43mnp\u001b[49m\u001b[38;5;241m.\u001b[39mmin(n_trial_between_sw_post[n_trial_between_sw_post\u001b[38;5;241m>\u001b[39m\u001b[38;5;241m0\u001b[39m]) \u001b[38;5;66;03m# only looking at trial after the switch, post_n should >0, since swiw is in the post, no more >=\u001b[39;00m\n\u001b[1;32m    227\u001b[0m span \u001b[38;5;241m=\u001b[39m pre_n_trial \u001b[38;5;241m+\u001b[39m post_n_trial \u001b[38;5;241m-\u001b[39m \u001b[38;5;241m1\u001b[39m\n\u001b[1;32m    228\u001b[0m onoff\u001b[38;5;241m=\u001b[39mrow[swiw]\n",
      "File \u001b[0;32m~/ceph/envs/jax/lib/python3.9/bdb.py:88\u001b[0m, in \u001b[0;36mBdb.trace_dispatch\u001b[0;34m(self, frame, event, arg)\u001b[0m\n\u001b[1;32m     86\u001b[0m     \u001b[38;5;28;01mreturn\u001b[39;00m \u001b[38;5;66;03m# None\u001b[39;00m\n\u001b[1;32m     87\u001b[0m \u001b[38;5;28;01mif\u001b[39;00m event \u001b[38;5;241m==\u001b[39m \u001b[38;5;124m'\u001b[39m\u001b[38;5;124mline\u001b[39m\u001b[38;5;124m'\u001b[39m:\n\u001b[0;32m---> 88\u001b[0m     \u001b[38;5;28;01mreturn\u001b[39;00m \u001b[38;5;28;43mself\u001b[39;49m\u001b[38;5;241;43m.\u001b[39;49m\u001b[43mdispatch_line\u001b[49m\u001b[43m(\u001b[49m\u001b[43mframe\u001b[49m\u001b[43m)\u001b[49m\n\u001b[1;32m     89\u001b[0m \u001b[38;5;28;01mif\u001b[39;00m event \u001b[38;5;241m==\u001b[39m \u001b[38;5;124m'\u001b[39m\u001b[38;5;124mcall\u001b[39m\u001b[38;5;124m'\u001b[39m:\n\u001b[1;32m     90\u001b[0m     \u001b[38;5;28;01mreturn\u001b[39;00m \u001b[38;5;28mself\u001b[39m\u001b[38;5;241m.\u001b[39mdispatch_call(frame, arg)\n",
      "File \u001b[0;32m~/ceph/envs/jax/lib/python3.9/bdb.py:113\u001b[0m, in \u001b[0;36mBdb.dispatch_line\u001b[0;34m(self, frame)\u001b[0m\n\u001b[1;32m    111\u001b[0m \u001b[38;5;28;01mif\u001b[39;00m \u001b[38;5;28mself\u001b[39m\u001b[38;5;241m.\u001b[39mstop_here(frame) \u001b[38;5;129;01mor\u001b[39;00m \u001b[38;5;28mself\u001b[39m\u001b[38;5;241m.\u001b[39mbreak_here(frame):\n\u001b[1;32m    112\u001b[0m     \u001b[38;5;28mself\u001b[39m\u001b[38;5;241m.\u001b[39muser_line(frame)\n\u001b[0;32m--> 113\u001b[0m     \u001b[38;5;28;01mif\u001b[39;00m \u001b[38;5;28mself\u001b[39m\u001b[38;5;241m.\u001b[39mquitting: \u001b[38;5;28;01mraise\u001b[39;00m BdbQuit\n\u001b[1;32m    114\u001b[0m \u001b[38;5;28;01mreturn\u001b[39;00m \u001b[38;5;28mself\u001b[39m\u001b[38;5;241m.\u001b[39mtrace_dispatch\n",
      "\u001b[0;31mBdbQuit\u001b[0m: "
     ]
    }
   ],
   "source": [
    "# ii = 51\n",
    "# changes_df_row = changes_df_one.iloc[ii].dropna()\n",
    "# X_raw_row = X_raw_one.iloc[ii].dropna()\n",
    "# X_pwc_row = X_pwc_one.iloc[ii].dropna()\n",
    "span_d = svga.get_peri_switch_peak_valley_span(changes_df_row,X_raw_row,X_pwc_row)\n",
    "peri_sw_x_one=svga.get_peri_switch_x_raw(changes_df_row,X_raw_row,win=10)"
   ]
  },
  {
   "cell_type": "code",
   "execution_count": 65,
   "id": "5460d188",
   "metadata": {
    "collapsed": true
   },
   "outputs": [
    {
     "data": {
      "text/plain": [
       "<Axes: >"
      ]
     },
     "execution_count": 65,
     "metadata": {},
     "output_type": "execute_result"
    },
    {
     "data": {
      "image/png": "[encoded data removed]",
      "text/plain": [
       "<Figure size 432x288 with 1 Axes>"
      ]
     },
     "metadata": {
      "needs_background": "light"
     },
     "output_type": "display_data"
    }
   ],
   "source": [
    "X_raw_row.plot(marker='o')\n",
    "X_pwc_row.plot()"
   ]
  },
  {
   "cell_type": "code",
   "execution_count": 48,
   "id": "f09f145f",
   "metadata": {
    "collapsed": true
   },
   "outputs": [
    {
     "data": {
      "text/plain": [
       "[<matplotlib.lines.Line2D at 0x1554f71a6610>]"
      ]
     },
     "execution_count": 48,
     "metadata": {},
     "output_type": "execute_result"
    },
    {
     "data": {
      "image/png": "[encoded data removed]",
      "text/plain": [
       "<Figure size 432x288 with 1 Axes>"
      ]
     },
     "metadata": {
      "needs_background": "light"
     },
     "output_type": "display_data"
    }
   ],
   "source": []
  },
  {
   "cell_type": "code",
   "execution_count": 78,
   "id": "674dea4e",
   "metadata": {
    "scrolled": true
   },
   "outputs": [],
   "source": [
    "span_d_one = {}\n",
    "for kk,X_raw_row in X_raw_all.iterrows():\n",
    "    changes_df_row = changes_df_all.loc[kk].dropna()\n",
    "    X_raw_row = X_raw_row.dropna()\n",
    "    if X_pwc_one is not None:\n",
    "        X_pwc_row = X_pwc_all.loc[kk].dropna()\n",
    "        span_d = svga.get_peri_switch_peak_valley_span(changes_df_row,X_raw_row,X_pwc_row)\n",
    "    else:\n",
    "        span_d = svga.get_peri_switch_peak_valley_span(changes_df_row,X_raw_row)\n",
    "    span_d_one[kk] = span_d\n",
    "#     span_d_one = pd.concat(span_d_one).stack().unstack(level=2) # uid,field_id, sw_id\n",
    "span_d_one = pd.concat(span_d_one).stack()\n",
    "span_d_one = span_d_one.unstack(level=-2) # turn onoff and trialspan into columns\n",
    "nlevels=span_d_one.index.nlevels\n",
    "span_d_one = span_d_one.set_index('onoff',append=True).reorder_levels((-1,*np.arange(nlevels))) # put the onoff level to first    "
   ]
  },
  {
   "cell_type": "code",
   "execution_count": 61,
   "id": "2eebb6b7",
   "metadata": {},
   "outputs": [
    {
     "data": {
      "text/plain": [
       "<Axes: >"
      ]
     },
     "execution_count": 61,
     "metadata": {},
     "output_type": "execute_result"
    },
    {
     "data": {
      "image/png": "[encoded data removed]",
      "text/plain": [
       "<Figure size 432x288 with 1 Axes>"
      ]
     },
     "metadata": {
      "needs_background": "light"
     },
     "output_type": "display_data"
    }
   ],
   "source": [
    "X_raw_row.plot()\n",
    "X_pwc_row.plot()"
   ]
  },
  {
   "cell_type": "code",
   "execution_count": 83,
   "id": "6458c40f",
   "metadata": {},
   "outputs": [],
   "source": [
    "span_d_all=span_d_one"
   ]
  },
  {
   "cell_type": "code",
   "execution_count": 226,
   "id": "1b457e42",
   "metadata": {},
   "outputs": [
    {
     "data": {
      "text/plain": [
       "<module 'step_vs_gradual_analysis' from '/mnt/home/szheng/projects/place_variability/code/step_vs_gradual_analysis.py'>"
      ]
     },
     "execution_count": 226,
     "metadata": {},
     "output_type": "execute_result"
    }
   ],
   "source": [
    "reload(svga)"
   ]
  },
  {
   "cell_type": "code",
   "execution_count": 227,
   "id": "065fae40",
   "metadata": {},
   "outputs": [
    {
     "name": "stdout",
     "output_type": "stream",
     "text": [
      "CPU times: user 16.1 s, sys: 23.7 ms, total: 16.2 s\n",
      "Wall time: 16.2 s\n"
     ]
    }
   ],
   "source": [
    "%%time\n",
    "span_d_all = svga.get_peri_switch_peak_valley_span_all(X_raw_all,changes_df_all,X_pwc_all)\n",
    "# data_fn=os.path.join(data_dir,'peri_switch_peak_valley_span.p')\n",
    "data_fn=os.path.join(data_dir,'peri_switch_peak_valley_span_thresholdcross.p')\n",
    "pickle.dump(span_d_all,open(data_fn,'wb'))"
   ]
  },
  {
   "cell_type": "code",
   "execution_count": 80,
   "id": "fdebf371",
   "metadata": {},
   "outputs": [],
   "source": [
    "# data_fn=os.path.join(data_dir,'peri_switch_peak_valley_span.p')\n",
    "# span_d_all=pickle.load(open(data_fn,'rb'))\n"
   ]
  },
  {
   "cell_type": "code",
   "execution_count": 253,
   "id": "a10b4b71",
   "metadata": {},
   "outputs": [
    {
     "name": "stdout",
     "output_type": "stream",
     "text": [
      "onoff 1, <=1: 0.5297252972529726\n",
      "onoff 1, <=2: 0.7720377203772038\n",
      "onoff 1, <=3: 0.8819188191881919\n",
      "onoff 1, <=4: 0.941369413694137\n",
      "onoff -1, <=1: 0.5337965887555275\n",
      "onoff -1, <=2: 0.7536323436512951\n",
      "onoff -1, <=3: 0.8768161718256475\n",
      "onoff -1, <=4: 0.9406190777005685\n"
     ]
    },
    {
     "data": {
      "image/png": "[encoded data removed]",
      "text/plain": [
       "<Figure size 216x50.4 with 2 Axes>"
      ]
     },
     "metadata": {
      "needs_background": "light"
     },
     "output_type": "display_data"
    }
   ],
   "source": [
    "nbin_max = 7\n",
    "xs=np.arange(0,nbin_max+1)\n",
    "nbpmf = scipy.stats.nbinom.pmf(k=xs,n=2,p=0.5)\n",
    "\n",
    "fig,axs=plt.subplots(1,2,figsize=(3,0.7),sharey=True)\n",
    "\n",
    "for ii,onoff in enumerate([1,-1]):\n",
    "#     fig=plt.figure(figsize=(3,1))\n",
    "#     ax=fig.add_subplot(1,2,ii+1)\n",
    "    ax=axs[ii]\n",
    "    bins = np.arange(0,9.2,0.2)\n",
    "    ax=sns.histplot(data=span_d_all.loc[onoff],x='trial span',bins=bins,ax=ax,stat='probability',label='data')\n",
    "    ax.bar(xs+0.5,nbpmf,width=0.2,label='negative\\nbinomial',color='grey')\n",
    "    sns.despine()\n",
    "    onoff_str = {1:'ON',-1:'OFF'}[onoff]\n",
    "    ax.set_title(onoff_str)\n",
    "    ax.set_xlabel('Switch duration\\n(num. trials)')\n",
    "#     ax.set_xlabel('First passage time\\n(num. trials)')\n",
    "    \n",
    "#     ax=fig.add_subplot(1,2,2)\n",
    "#     bins = np.arange(1,11,1)\n",
    "#     ax=sns.histplot(data=span_d_all.loc[onoff],x='trial span', bins=bins,ax=ax,cumulative=True,stat='probability',fill=False)\n",
    "    ax.set_xlim([-0.4,7.5])\n",
    "#     ax.set_xticks([1.5,3.5,5.5])\n",
    "    ax.set_xticks(xs)\n",
    "#     ax.set_xticklabels([1,3,5])\n",
    "#     sns.despine()\n",
    "#     ax.set_xlabel('Switch duration\\n(num. trials)')\n",
    "#     plt.tight_layout()\n",
    "\n",
    "    \n",
    "    for k in range(1,5):\n",
    "        p=(span_d_all.loc[onoff]['trial span'] <=k).mean()\n",
    "        print(f'onoff {onoff}, <={k}: {p}')\n",
    "ax.legend(bbox_to_anchor=[0.6,0.5])\n",
    "figfn = f'hist_switch_duration_{onoff}_withnull'\n",
    "ph.save_given_name(fig,figfn,figdir)\n"
   ]
  },
  {
   "cell_type": "code",
   "execution_count": 258,
   "id": "d5624719",
   "metadata": {},
   "outputs": [
    {
     "data": {
      "text/html": [
       "<div>\n",
       "<style scoped>\n",
       "    .dataframe tbody tr th:only-of-type {\n",
       "        vertical-align: middle;\n",
       "    }\n",
       "\n",
       "    .dataframe tbody tr th {\n",
       "        vertical-align: top;\n",
       "    }\n",
       "\n",
       "    .dataframe thead th {\n",
       "        text-align: right;\n",
       "    }\n",
       "</style>\n",
       "<table border=\"1\" class=\"dataframe\">\n",
       "  <thead>\n",
       "    <tr style=\"text-align: right;\">\n",
       "      <th></th>\n",
       "      <th></th>\n",
       "      <th></th>\n",
       "      <th></th>\n",
       "      <th></th>\n",
       "      <th></th>\n",
       "      <th></th>\n",
       "      <th></th>\n",
       "      <th>post_n_trial</th>\n",
       "      <th>pre_n_trial</th>\n",
       "      <th>trial span</th>\n",
       "    </tr>\n",
       "    <tr>\n",
       "      <th>onoff</th>\n",
       "      <th></th>\n",
       "      <th></th>\n",
       "      <th></th>\n",
       "      <th></th>\n",
       "      <th></th>\n",
       "      <th></th>\n",
       "      <th></th>\n",
       "      <th></th>\n",
       "      <th></th>\n",
       "      <th></th>\n",
       "    </tr>\n",
       "  </thead>\n",
       "  <tbody>\n",
       "    <tr>\n",
       "      <th rowspan=\"4\" valign=\"top\">1.0</th>\n",
       "      <th rowspan=\"4\" valign=\"top\">e13_16f1</th>\n",
       "      <th>e13_16f1_210302</th>\n",
       "      <th>0</th>\n",
       "      <th>0.0</th>\n",
       "      <th>11</th>\n",
       "      <th>0</th>\n",
       "      <th>0</th>\n",
       "      <td>1.0</td>\n",
       "      <td>5.0</td>\n",
       "      <td>6.0</td>\n",
       "    </tr>\n",
       "    <tr>\n",
       "      <th>e13_16f1_210317</th>\n",
       "      <th>0</th>\n",
       "      <th>1.0</th>\n",
       "      <th>83</th>\n",
       "      <th>0</th>\n",
       "      <th>0</th>\n",
       "      <td>1.0</td>\n",
       "      <td>5.0</td>\n",
       "      <td>6.0</td>\n",
       "    </tr>\n",
       "    <tr>\n",
       "      <th>e13_16f1_210319</th>\n",
       "      <th>0</th>\n",
       "      <th>both</th>\n",
       "      <th>38</th>\n",
       "      <th>0</th>\n",
       "      <th>0</th>\n",
       "      <td>6.0</td>\n",
       "      <td>1.0</td>\n",
       "      <td>7.0</td>\n",
       "    </tr>\n",
       "    <tr>\n",
       "      <th>e13_16f1_210322</th>\n",
       "      <th>0</th>\n",
       "      <th>both</th>\n",
       "      <th>97</th>\n",
       "      <th>0</th>\n",
       "      <th>0</th>\n",
       "      <td>5.0</td>\n",
       "      <td>1.0</td>\n",
       "      <td>6.0</td>\n",
       "    </tr>\n",
       "    <tr>\n",
       "      <th rowspan=\"3\" valign=\"top\">-1.0</th>\n",
       "      <th>e13_26m1</th>\n",
       "      <th>e13_26m1_210913</th>\n",
       "      <th>0</th>\n",
       "      <th>0.0</th>\n",
       "      <th>31</th>\n",
       "      <th>0</th>\n",
       "      <th>0</th>\n",
       "      <td>5.0</td>\n",
       "      <td>6.0</td>\n",
       "      <td>11.0</td>\n",
       "    </tr>\n",
       "    <tr>\n",
       "      <th>...</th>\n",
       "      <th>...</th>\n",
       "      <th>...</th>\n",
       "      <th>...</th>\n",
       "      <th>...</th>\n",
       "      <th>...</th>\n",
       "      <th>...</th>\n",
       "      <td>...</td>\n",
       "      <td>...</td>\n",
       "      <td>...</td>\n",
       "    </tr>\n",
       "    <tr>\n",
       "      <th>e16_3m2</th>\n",
       "      <th>e16_3m2_211213</th>\n",
       "      <th>0</th>\n",
       "      <th>1.0</th>\n",
       "      <th>59</th>\n",
       "      <th>3</th>\n",
       "      <th>0</th>\n",
       "      <td>5.0</td>\n",
       "      <td>2.0</td>\n",
       "      <td>7.0</td>\n",
       "    </tr>\n",
       "    <tr>\n",
       "      <th rowspan=\"2\" valign=\"top\">1.0</th>\n",
       "      <th rowspan=\"2\" valign=\"top\">e16_3m2</th>\n",
       "      <th rowspan=\"2\" valign=\"top\">e16_3m2_211213</th>\n",
       "      <th rowspan=\"2\" valign=\"top\">0</th>\n",
       "      <th>1.0</th>\n",
       "      <th>34</th>\n",
       "      <th>1</th>\n",
       "      <th>0</th>\n",
       "      <td>4.0</td>\n",
       "      <td>2.0</td>\n",
       "      <td>6.0</td>\n",
       "    </tr>\n",
       "    <tr>\n",
       "      <th>both</th>\n",
       "      <th>29</th>\n",
       "      <th>0</th>\n",
       "      <th>0</th>\n",
       "      <td>4.0</td>\n",
       "      <td>2.0</td>\n",
       "      <td>6.0</td>\n",
       "    </tr>\n",
       "    <tr>\n",
       "      <th>-1.0</th>\n",
       "      <th>e16_3m2</th>\n",
       "      <th>e16_3m2_211213</th>\n",
       "      <th>1</th>\n",
       "      <th>both</th>\n",
       "      <th>151</th>\n",
       "      <th>0</th>\n",
       "      <th>1</th>\n",
       "      <td>4.0</td>\n",
       "      <td>3.0</td>\n",
       "      <td>7.0</td>\n",
       "    </tr>\n",
       "    <tr>\n",
       "      <th>1.0</th>\n",
       "      <th>e16_3m2</th>\n",
       "      <th>e16_3m2_211213</th>\n",
       "      <th>1</th>\n",
       "      <th>both</th>\n",
       "      <th>16</th>\n",
       "      <th>0</th>\n",
       "      <th>0</th>\n",
       "      <td>6.0</td>\n",
       "      <td>1.0</td>\n",
       "      <td>7.0</td>\n",
       "    </tr>\n",
       "  </tbody>\n",
       "</table>\n",
       "<p>98 rows × 3 columns</p>\n",
       "</div>"
      ],
      "text/plain": [
       "                                               post_n_trial  pre_n_trial  \\\n",
       "onoff                                                                      \n",
       " 1.0  e13_16f1 e13_16f1_210302 0 0.0  11  0 0           1.0          5.0   \n",
       "               e13_16f1_210317 0 1.0  83  0 0           1.0          5.0   \n",
       "               e13_16f1_210319 0 both 38  0 0           6.0          1.0   \n",
       "               e13_16f1_210322 0 both 97  0 0           5.0          1.0   \n",
       "-1.0  e13_26m1 e13_26m1_210913 0 0.0  31  0 0           5.0          6.0   \n",
       "...                                                     ...          ...   \n",
       "      e16_3m2  e16_3m2_211213  0 1.0  59  3 0           5.0          2.0   \n",
       " 1.0  e16_3m2  e16_3m2_211213  0 1.0  34  1 0           4.0          2.0   \n",
       "                                 both 29  0 0           4.0          2.0   \n",
       "-1.0  e16_3m2  e16_3m2_211213  1 both 151 0 1           4.0          3.0   \n",
       " 1.0  e16_3m2  e16_3m2_211213  1 both 16  0 0           6.0          1.0   \n",
       "\n",
       "                                               trial span  \n",
       "onoff                                                      \n",
       " 1.0  e13_16f1 e13_16f1_210302 0 0.0  11  0 0         6.0  \n",
       "               e13_16f1_210317 0 1.0  83  0 0         6.0  \n",
       "               e13_16f1_210319 0 both 38  0 0         7.0  \n",
       "               e13_16f1_210322 0 both 97  0 0         6.0  \n",
       "-1.0  e13_26m1 e13_26m1_210913 0 0.0  31  0 0        11.0  \n",
       "...                                                   ...  \n",
       "      e16_3m2  e16_3m2_211213  0 1.0  59  3 0         7.0  \n",
       " 1.0  e16_3m2  e16_3m2_211213  0 1.0  34  1 0         6.0  \n",
       "                                 both 29  0 0         6.0  \n",
       "-1.0  e16_3m2  e16_3m2_211213  1 both 151 0 1         7.0  \n",
       " 1.0  e16_3m2  e16_3m2_211213  1 both 16  0 0         7.0  \n",
       "\n",
       "[98 rows x 3 columns]"
      ]
     },
     "execution_count": 258,
     "metadata": {},
     "output_type": "execute_result"
    }
   ],
   "source": [
    "span_d_all.loc[span_d_all['trial span'] > 5]"
   ]
  },
  {
   "cell_type": "code",
   "execution_count": 211,
   "id": "f563379d",
   "metadata": {
    "collapsed": true
   },
   "outputs": [
    {
     "name": "stdout",
     "output_type": "stream",
     "text": [
      "onoff 1, <=1: 0.1927019270192702\n",
      "onoff 1, <=2: 0.5297252972529726\n",
      "onoff 1, <=3: 0.7720377203772038\n",
      "onoff 1, <=4: 0.8819188191881919\n",
      "onoff -1, <=1: 0.23310170562223625\n",
      "onoff -1, <=2: 0.5337965887555275\n",
      "onoff -1, <=3: 0.7536323436512951\n",
      "onoff -1, <=4: 0.8768161718256475\n"
     ]
    },
    {
     "data": {
      "image/png": "[encoded data removed]",
      "text/plain": [
       "<Figure size 216x72 with 2 Axes>"
      ]
     },
     "metadata": {
      "needs_background": "light"
     },
     "output_type": "display_data"
    },
    {
     "data": {
      "image/png": "[encoded data removed]",
      "text/plain": [
       "<Figure size 216x72 with 2 Axes>"
      ]
     },
     "metadata": {
      "needs_background": "light"
     },
     "output_type": "display_data"
    }
   ],
   "source": [
    "\n",
    "# xs=np.arange(1,nbin_max+1)\n",
    "# nbpmf = scipy.stats.nbinom.pmf(n=xs,k=1,p=0.5)\n",
    "\n",
    "# for onoff in [1,-1]:\n",
    "#     fig=plt.figure(figsize=(3,1))\n",
    "    \n",
    "#     bins = np.arange(1,9.2,0.2)\n",
    "# #     ax=sns.histplot(data=span_d_all.loc[onoff],x='trial span',bins=bins,ax=ax,stat='probability',label='data')\n",
    "#     for ii,prepost in enumerate(['pre','post']):\n",
    "#         ax=fig.add_subplot(1,2,ii+1)\n",
    "#         ax=sns.histplot(data=span_d_all.loc[onoff],x=f'{prepost}_n_trial',bins=bins,ax=ax,stat='probability',label='data')\n",
    "#         ax.bar(xs+0.5,nbpmf,width=0.2,label='negative binom.',color='grey')\n",
    "#         sns.despine()\n",
    "#         onoff_str = {1:'ON',-1:'OFF'}[onoff]\n",
    "#         ax.set_title(prepost+' '+onoff_str)\n",
    "# #         ax.set_xlabel('Switch duration\\n(num. trials)')\n",
    "#         ax.set_xlabel('First passage time\\n(num. trials)')\n",
    "    \n",
    "# #     ax=fig.add_subplot(1,2,2)\n",
    "# #     bins = np.arange(1,11,1)\n",
    "# #     ax=sns.histplot(data=span_d_all.loc[onoff],x='trial span', bins=bins,ax=ax,cumulative=True,stat='probability',fill=False)\n",
    "# #     ax.set_xlim([0.9,6.1])\n",
    "# #     ax.set_xticks([1.5,3.5,5.5])\n",
    "# #     ax.set_xticklabels([1,3,5])\n",
    "# #     sns.despine()\n",
    "# #     ax.set_xlabel('Switch duration\\n(num. trials)')\n",
    "# #     plt.tight_layout()\n",
    "#     ax.legend(bbox_to_anchor=[0.6,1])\n",
    "    \n",
    "#     for k in range(1,5):\n",
    "#         p=(span_d_all.loc[onoff]['trial span'] <=k).mean()\n",
    "#         print(f'onoff {onoff}, <={k}: {p}')\n",
    "    \n",
    "#     figfn = f'hist_switch_duration_{onoff}'\n",
    "# #     ph.save_given_name(fig,figfn,figdir)\n"
   ]
  },
  {
   "cell_type": "code",
   "execution_count": 184,
   "id": "9455ec68",
   "metadata": {},
   "outputs": [],
   "source": [
    "nbin_max=40\n",
    "xs=np.arange(1,nbin_max+1)\n",
    "nbpmf = scipy.stats.nbinom.pmf(n=xs,k=1,p=0.5)\n",
    "xx=span_d_all.loc[onoff]['trial span']\n",
    "f_obs = np.histogram(xx,np.arange(1,nbin_max+2))[0]"
   ]
  },
  {
   "cell_type": "code",
   "execution_count": 185,
   "id": "fc0dab0b",
   "metadata": {},
   "outputs": [],
   "source": [
    "f_exp = nbpmf * np.sum(f_obs)"
   ]
  },
  {
   "cell_type": "code",
   "execution_count": 186,
   "id": "4b53b259",
   "metadata": {},
   "outputs": [
    {
     "data": {
      "text/plain": [
       "1582.9999999697661"
      ]
     },
     "execution_count": 186,
     "metadata": {},
     "output_type": "execute_result"
    }
   ],
   "source": [
    "f_exp.sum()"
   ]
  },
  {
   "cell_type": "code",
   "execution_count": 187,
   "id": "50d9be95",
   "metadata": {},
   "outputs": [
    {
     "data": {
      "text/plain": [
       "1583"
      ]
     },
     "execution_count": 187,
     "metadata": {},
     "output_type": "execute_result"
    }
   ],
   "source": [
    "f_obs.sum()"
   ]
  },
  {
   "cell_type": "code",
   "execution_count": 188,
   "id": "72d67ebb",
   "metadata": {
    "scrolled": true
   },
   "outputs": [
    {
     "data": {
      "text/plain": [
       "Power_divergenceResult(statistic=73.12585740705698, pvalue=0.0007592472338423346)"
      ]
     },
     "execution_count": 188,
     "metadata": {},
     "output_type": "execute_result"
    }
   ],
   "source": [
    "scipy.stats.chisquare(f_obs,f_exp=f_exp)"
   ]
  },
  {
   "cell_type": "code",
   "execution_count": 74,
   "id": "b8d3b70c",
   "metadata": {
    "scrolled": true
   },
   "outputs": [
    {
     "name": "stdout",
     "output_type": "stream",
     "text": [
      "onoff 1, <=1: 0.23586206896551723\n",
      "onoff 1, <=2: 0.5880459770114943\n",
      "onoff 1, <=3: 0.833103448275862\n",
      "onoff 1, <=4: 0.9429885057471264\n",
      "onoff -1, <=1: 0.31461538461538463\n",
      "onoff -1, <=2: 0.6484615384615384\n",
      "onoff -1, <=3: 0.8669230769230769\n",
      "onoff -1, <=4: 0.9607692307692308\n"
     ]
    },
    {
     "data": {
      "image/png": "[encoded data removed]",
      "text/plain": [
       "<Figure size 432x144 with 2 Axes>"
      ]
     },
     "metadata": {
      "needs_background": "light"
     },
     "output_type": "display_data"
    },
    {
     "data": {
      "image/png": "[encoded data removed]",
      "text/plain": [
       "<Figure size 432x144 with 2 Axes>"
      ]
     },
     "metadata": {
      "needs_background": "light"
     },
     "output_type": "display_data"
    }
   ],
   "source": [
    "\n",
    "# for onoff in [1,-1]:\n",
    "#     fig=plt.figure(figsize=(6,2))\n",
    "#     ax=fig.add_subplot(1,2,1)\n",
    "#     bins = np.arange(1,6.2,0.2)\n",
    "#     ax=sns.histplot(data=span_d_all.loc[onoff],x='trial span',bins=bins,ax=ax,stat='probability')\n",
    "#     sns.despine()\n",
    "#     onoff_str = {1:'ON',-1:'OFF'}[onoff]\n",
    "#     ax.set_title(onoff_str)\n",
    "#     ax.set_xlabel('Switch duration\\n(num. trials)')\n",
    "    \n",
    "#     ax=fig.add_subplot(1,2,2)\n",
    "#     bins = np.arange(1,11,1)\n",
    "#     ax=sns.histplot(data=span_d_all.loc[onoff],x='trial span', bins=bins,ax=ax,cumulative=True,stat='probability',fill=False)\n",
    "#     ax.set_xlim([0.9,6.1])\n",
    "#     ax.set_xticks([1.5,3.5,5.5])\n",
    "#     ax.set_xticklabels([1,3,5])\n",
    "#     sns.despine()\n",
    "#     ax.set_xlabel('Switch duration\\n(num. trials)')\n",
    "#     plt.tight_layout()\n",
    "    \n",
    "#     for k in range(1,5):\n",
    "#         p=(span_d_all.loc[onoff]['trial span'] <=k).mean()\n",
    "#         print(f'onoff {onoff}, <={k}: {p}')\n",
    "    \n",
    "#     figfn = f'hist_switch_duration_{onoff}'\n",
    "#     ph.save_given_name(fig,figfn,figdir)\n"
   ]
  },
  {
   "cell_type": "markdown",
   "id": "ffd8e3b4",
   "metadata": {},
   "source": [
    "# trial duration schematics"
   ]
  },
  {
   "cell_type": "code",
   "execution_count": 312,
   "id": "a9aaf393",
   "metadata": {},
   "outputs": [],
   "source": [
    "np.random.seed(0)\n",
    "X_d={}\n",
    "X_pwc_d = {}\n",
    "n_trials = 20\n",
    "X_ramp = np.zeros(n_trials)\n",
    "X_ramp[5:15] = np.arange(10)\n",
    "X_ramp[15:] = 10\n",
    "X_ramp = X_ramp + np.random.normal(size=n_trials)\n",
    "_,X_ramp_pwc = svga.fit_cpd_get_r2(X_ramp,1)\n",
    "X_d['ramp'] = X_ramp\n",
    "X_pwc_d['ramp'] = X_ramp_pwc\n",
    "\n",
    "X_step = np.zeros(n_trials)\n",
    "X_step[n_trials//2:] = 10\n",
    "X_step = X_step + np.random.normal(size=n_trials)\n",
    "_,X_step_pwc = svga.fit_cpd_get_r2(X_step,1)\n",
    "X_d['step'] = X_step\n",
    "X_pwc_d['step'] = X_step_pwc\n",
    "\n",
    "\n",
    "\n",
    "\n"
   ]
  },
  {
   "cell_type": "code",
   "execution_count": 314,
   "id": "84626583",
   "metadata": {},
   "outputs": [
    {
     "data": {
      "image/png": "[encoded data removed]",
      "text/plain": [
       "<Figure size 288x144 with 2 Axes>"
      ]
     },
     "metadata": {},
     "output_type": "display_data"
    }
   ],
   "source": [
    "fig,axs=plt.subplots(1,2,figsize=(4,2))\n",
    "for ii,k in enumerate(['ramp','step']):\n",
    "    ax=axs[ii]\n",
    "    ax.invert_yaxis()\n",
    "    trial_inds = np.arange(len(X_d[k]))\n",
    "    ax.plot(X_pwc_d[k],trial_inds,c='blue')\n",
    "    ax.plot(X_d[k],trial_inds,c='grey',marker='o',ms=3)\n",
    "    ax.set_title(f'\"{k}\"')\n",
    "    ax.set_xticks([])\n",
    "    ax.set_yticks([])\n",
    "    \n",
    "    ax.set_xlabel('FR')\n",
    "axs[0].set_ylabel('Trial')\n",
    "plt.tight_layout()\n",
    "figfn= 'switch_duration_schematics'\n",
    "ph.save_given_name(fig,figfn,figdir)\n"
   ]
  },
  {
   "cell_type": "code",
   "execution_count": 284,
   "id": "acd060ea",
   "metadata": {
    "scrolled": true
   },
   "outputs": [
    {
     "data": {
      "text/plain": [
       "[<matplotlib.lines.Line2D at 0x1554ee7d98b0>]"
      ]
     },
     "execution_count": 284,
     "metadata": {},
     "output_type": "execute_result"
    },
    {
     "data": {
      "image/png": "[encoded data removed]",
      "text/plain": [
       "<Figure size 432x288 with 1 Axes>"
      ]
     },
     "metadata": {
      "needs_background": "light"
     },
     "output_type": "display_data"
    }
   ],
   "source": [
    "plt.plot(X_step)"
   ]
  },
  {
   "cell_type": "code",
   "execution_count": null,
   "id": "0832d08f",
   "metadata": {},
   "outputs": [],
   "source": []
  },
  {
   "cell_type": "code",
   "execution_count": null,
   "id": "564650f3",
   "metadata": {},
   "outputs": [],
   "source": []
  },
  {
   "cell_type": "markdown",
   "id": "b362d3a1",
   "metadata": {},
   "source": [
    "## examples of trial span"
   ]
  },
  {
   "cell_type": "code",
   "execution_count": 77,
   "id": "4bd05556",
   "metadata": {},
   "outputs": [],
   "source": [
    "ani = 'e15_13f1'\n",
    "sess = 'e15_13f1_220117'"
   ]
  },
  {
   "cell_type": "code",
   "execution_count": 78,
   "id": "58afa6e1",
   "metadata": {},
   "outputs": [
    {
     "name": "stderr",
     "output_type": "stream",
     "text": [
      "/tmp/ipykernel_2060823/113494510.py:1: PerformanceWarning: indexing past lexsort depth may impact performance.\n",
      "  per_field_metrics_one=per_field_metrics_all.loc[ani,sess,ta]\n",
      "/tmp/ipykernel_2060823/113494510.py:2: PerformanceWarning: indexing past lexsort depth may impact performance.\n",
      "  fr_map_trial_df=fr_map_trial_df_all.loc[(ani,sess),:].dropna(axis=1,how='all')\n",
      "/tmp/ipykernel_2060823/113494510.py:3: PerformanceWarning: indexing past lexsort depth may impact performance.\n",
      "  X_raw = X_raw_all.loc[(ani,sess),:]\n",
      "/tmp/ipykernel_2060823/113494510.py:4: PerformanceWarning: indexing past lexsort depth may impact performance.\n",
      "  X_pwc=X_pwc_all.loc[(ani,sess),:]\n",
      "/tmp/ipykernel_2060823/113494510.py:5: PerformanceWarning: indexing past lexsort depth may impact performance.\n",
      "  all_sw_d=all_sw_d_all.loc[(ani,sess),:]\n",
      "/tmp/ipykernel_2060823/113494510.py:6: PerformanceWarning: indexing past lexsort depth may impact performance.\n",
      "  trial_index_to_index_within_df = dpp.trial_index_to_index_within_trialtype(spk_beh_df_all.loc[(ani,sess),:])\n"
     ]
    }
   ],
   "source": [
    "per_field_metrics_one=per_field_metrics_all.loc[ani,sess,ta]\n",
    "fr_map_trial_df=fr_map_trial_df_all.loc[(ani,sess),:].dropna(axis=1,how='all')\n",
    "X_raw = X_raw_all.loc[(ani,sess),:]\n",
    "X_pwc=X_pwc_all.loc[(ani,sess),:]\n",
    "all_sw_d=all_sw_d_all.loc[(ani,sess),:]\n",
    "trial_index_to_index_within_df = dpp.trial_index_to_index_within_trialtype(spk_beh_df_all.loc[(ani,sess),:])\n",
    "\n",
    "ind_given_si=per_field_metrics_one.query('si > 0.5').index\n",
    "ta=0"
   ]
  },
  {
   "cell_type": "code",
   "execution_count": 83,
   "id": "b8c50a07",
   "metadata": {},
   "outputs": [],
   "source": [
    "from matplotlib.ticker import MaxNLocator"
   ]
  },
  {
   "cell_type": "code",
   "execution_count": 107,
   "id": "edac8bf1",
   "metadata": {},
   "outputs": [
    {
     "name": "stderr",
     "output_type": "stream",
     "text": [
      "/tmp/ipykernel_2060823/2519829344.py:9: PerformanceWarning: indexing past lexsort depth may impact performance.\n",
      "  ma=span_d_all.loc[1,ani,sess,ta]['trial span']==ts\n",
      "/tmp/ipykernel_2060823/2519829344.py:17: PerformanceWarning: indexing past lexsort depth may impact performance.\n",
      "  all_fields_recombined = all_fields_recombined_all.loc[ani,sess]\n",
      "/mnt/home/szheng/projects/util_code/plot_helper.py:574: UserWarning: FixedFormatter should only be used together with FixedLocator\n",
      "  ax.set_xticklabels(x_tick_labels, rotation=0)\n",
      "/tmp/ipykernel_2060823/2519829344.py:34: UserWarning: Tight layout not applied. The bottom and top margins cannot be made large enough to accommodate all axes decorations.\n",
      "  plt.tight_layout()\n",
      "/tmp/ipykernel_2060823/2519829344.py:9: PerformanceWarning: indexing past lexsort depth may impact performance.\n",
      "  ma=span_d_all.loc[1,ani,sess,ta]['trial span']==ts\n",
      "/tmp/ipykernel_2060823/2519829344.py:17: PerformanceWarning: indexing past lexsort depth may impact performance.\n",
      "  all_fields_recombined = all_fields_recombined_all.loc[ani,sess]\n",
      "/mnt/home/szheng/projects/util_code/plot_helper.py:574: UserWarning: FixedFormatter should only be used together with FixedLocator\n",
      "  ax.set_xticklabels(x_tick_labels, rotation=0)\n",
      "/tmp/ipykernel_2060823/2519829344.py:34: UserWarning: Tight layout not applied. The bottom and top margins cannot be made large enough to accommodate all axes decorations.\n",
      "  plt.tight_layout()\n",
      "/tmp/ipykernel_2060823/2519829344.py:9: PerformanceWarning: indexing past lexsort depth may impact performance.\n",
      "  ma=span_d_all.loc[1,ani,sess,ta]['trial span']==ts\n",
      "/tmp/ipykernel_2060823/2519829344.py:17: PerformanceWarning: indexing past lexsort depth may impact performance.\n",
      "  all_fields_recombined = all_fields_recombined_all.loc[ani,sess]\n",
      "/mnt/home/szheng/projects/util_code/plot_helper.py:574: UserWarning: FixedFormatter should only be used together with FixedLocator\n",
      "  ax.set_xticklabels(x_tick_labels, rotation=0)\n",
      "/tmp/ipykernel_2060823/2519829344.py:34: UserWarning: Tight layout not applied. The bottom and top margins cannot be made large enough to accommodate all axes decorations.\n",
      "  plt.tight_layout()\n"
     ]
    },
    {
     "data": {
      "image/png": "[encoded data removed]",
      "text/plain": [
       "<Figure size 300x100 with 3 Axes>"
      ]
     },
     "metadata": {},
     "output_type": "display_data"
    },
    {
     "data": {
      "image/png": "[encoded data removed]",
      "text/plain": [
       "<Figure size 300x100 with 3 Axes>"
      ]
     },
     "metadata": {},
     "output_type": "display_data"
    },
    {
     "data": {
      "image/png": "[encoded data removed]",
      "text/plain": [
       "<Figure size 300x100 with 3 Axes>"
      ]
     },
     "metadata": {},
     "output_type": "display_data"
    }
   ],
   "source": [
    "import plot_all_fr_map_x_pwc_one_session as plotfm\n",
    "reload(plotfm)\n",
    "\n",
    "dosave=True\n",
    "\n",
    "ii_ts_l = [(2,1),(2,4),(0,5)] # which index, with a given trial span\n",
    "\n",
    "for (ii,ts) in ii_ts_l:\n",
    "    ma=span_d_all.loc[1,ani,sess,ta]['trial span']==ts\n",
    "    ind_given_trialspan=ma.reset_index(level=-1,drop=True).index[ma]\n",
    "\n",
    "\n",
    "    ind_left=ind_given_trialspan.intersection(ind_given_si)\n",
    "\n",
    "    tt,uid,field_id=ind_left[ii]\n",
    "\n",
    "    all_fields_recombined = all_fields_recombined_all.loc[ani,sess]\n",
    "    all_fields_row_one=all_fields_recombined.loc[ta,tt,uid,field_id]\n",
    "\n",
    "    fig,axs=plotfm.plot_ratemap_fr_one_field(all_fields_row_one,fr_map_trial_df,X_raw,X_pwc,all_sw_d,\n",
    "                                trial_index_to_index_within_df,\n",
    "                                save_fig_fn = None,\n",
    "                                close_fig = False,\n",
    "                                vmax_clip_quantile=0.99,\n",
    "                                vmax_relative_to_field=False,\n",
    "                                fig=None,axs=None,figsize=(3,1),do_legend=False,\n",
    "                                             plot_kws={'ms':3.,'pwc_linewidth':1}\n",
    "                                )\n",
    "    title=f'{sess}, {ta}, {int(tt)}, {uid}, {field_id}\\nspan={ts}'\n",
    "    axs[1].set_title(title)\n",
    "    axs[1].set_xticks([])\n",
    "    axs[0].yaxis.set_major_locator(MaxNLocator(nbins=4,integer=True))\n",
    "    axs[0].xaxis.set_major_locator(MaxNLocator(nbins=2,integer=True))\n",
    "    plt.tight_layout()\n",
    "    if dosave:\n",
    "        figfn=f'switch_duration_ex_span{ts}_{ii}'\n",
    "        ph.save_given_name(fig,figfn,figdir)\n",
    "\n"
   ]
  },
  {
   "cell_type": "code",
   "execution_count": 138,
   "id": "5cb6c5d2",
   "metadata": {
    "collapsed": true
   },
   "outputs": [
    {
     "name": "stderr",
     "output_type": "stream",
     "text": [
      "/tmp/ipykernel_858163/403635535.py:6: PerformanceWarning: indexing past lexsort depth may impact performance.\n",
      "  ma=span_d_all.loc[1,ani,sess,ta]['trial span']==ts\n",
      "/tmp/ipykernel_858163/403635535.py:14: PerformanceWarning: indexing past lexsort depth may impact performance.\n",
      "  all_fields_recombined = all_fields_recombined_all.loc[ani,sess]\n",
      "/tmp/ipykernel_858163/403635535.py:17: PerformanceWarning: indexing past lexsort depth may impact performance.\n",
      "  fr_map_trial_df=fr_map_trial_df_all.loc[(ani,sess),:].dropna(axis=1,how='all')\n",
      "/tmp/ipykernel_858163/403635535.py:18: PerformanceWarning: indexing past lexsort depth may impact performance.\n",
      "  X_raw = X_raw_all.loc[(ani,sess),:]\n",
      "/tmp/ipykernel_858163/403635535.py:19: PerformanceWarning: indexing past lexsort depth may impact performance.\n",
      "  X_pwc=X_pwc_all.loc[(ani,sess),:]\n",
      "/tmp/ipykernel_858163/403635535.py:20: PerformanceWarning: indexing past lexsort depth may impact performance.\n",
      "  all_sw_d=all_sw_d_all.loc[(ani,sess),:]\n",
      "/tmp/ipykernel_858163/403635535.py:21: PerformanceWarning: indexing past lexsort depth may impact performance.\n",
      "  trial_index_to_index_within_df = dpp.trial_index_to_index_within_trialtype(spk_beh_df_all.loc[(ani,sess),:])\n",
      "/mnt/home/szheng/projects/util_code/plot_helper.py:574: UserWarning: FixedFormatter should only be used together with FixedLocator\n",
      "  ax.set_xticklabels(x_tick_labels, rotation=0)\n"
     ]
    },
    {
     "data": {
      "image/png": "[encoded data removed]",
      "text/plain": [
       "<Figure size 561.6x345.6 with 4 Axes>"
      ]
     },
     "metadata": {
      "needs_background": "light"
     },
     "output_type": "display_data"
    }
   ],
   "source": [
    "# # one example\n",
    "# ii=9\n",
    "\n",
    "# ta=0\n",
    "# ts = 2\n",
    "\n",
    "# ma=span_d_all.loc[1,ani,sess,ta]['trial span']==ts\n",
    "# ind_given_trialspan=ma.reset_index(level=-1,drop=True).index[ma]\n",
    "# ind_given_si=per_field_metrics_one.query('si > 0.5').index\n",
    "\n",
    "# ind_left=ind_given_trialspan.intersection(ind_given_si)\n",
    "\n",
    "# tt,uid,field_id=ind_left[ii]\n",
    "\n",
    "# import plot_all_fr_map_x_pwc_one_session as plotfm\n",
    "# all_fields_row_one=all_fields_recombined.loc[ta,tt,uid,field_id]\n",
    "\n",
    "# fig,axs=plotfm.plot_ratemap_fr_one_field_avgfm(all_fields_row_one,fr_map_trial_df,X_raw,X_pwc,all_sw_d,\n",
    "#                             trial_index_to_index_within_df,\n",
    "#                             save_fig_fn = None,\n",
    "#                             close_fig = False,\n",
    "#                             vmax_clip_quantile=0.99,\n",
    "#                             vmax_relative_to_field=False,\n",
    "#                             fig=None,axs=None,figsize=(6*1.3,4*1.2)\n",
    "#                             )\n"
   ]
  },
  {
   "cell_type": "code",
   "execution_count": 64,
   "id": "8d650f3b",
   "metadata": {},
   "outputs": [],
   "source": [
    "dd = '/mnt/home/szheng/ceph/ad/roman_data/e15/e15_13f1/e15_13f1_220119/py_data'\n",
    "# dd = '/mnt/home/szheng/ceph/ad/roman_data/e15/e15_13f1/e15_13f1_220117/py_data'\n",
    "fn_test=os.path.join(dd,'sw_res_afterheadscan_fr_mean.p')\n",
    "res_test=pickle.load(open(fn_test,'rb'))"
   ]
  },
  {
   "cell_type": "code",
   "execution_count": 67,
   "id": "7fe9e309",
   "metadata": {},
   "outputs": [
    {
     "name": "stdout",
     "output_type": "stream",
     "text": [
      "/mnt/home/szheng/ceph/ad/roman_data/e15/e15_13f1/e15_13f1_220119/py_data/place_field_afterheadscan_recombine.p exists; loading---\n",
      "/mnt/home/szheng/ceph/ad/roman_data/e15/e15_13f1/e15_13f1_220119/py_data/sw_res_afterheadscan_fr_mean.p exists; loading---\n"
     ]
    },
    {
     "name": "stderr",
     "output_type": "stream",
     "text": [
      "/mnt/home/szheng/projects/nmf_analysis/switch_metrics.py:119: RuntimeWarning: invalid value encountered in long_scalars\n",
      "  N = N / segment_len\n",
      "/mnt/home/szheng/projects/nmf_analysis/switch_metrics.py:119: RuntimeWarning: invalid value encountered in long_scalars\n",
      "  N = N / segment_len\n",
      "/mnt/home/szheng/projects/nmf_analysis/switch_metrics.py:119: RuntimeWarning: invalid value encountered in long_scalars\n",
      "  N = N / segment_len\n",
      "/mnt/home/szheng/projects/nmf_analysis/switch_metrics.py:119: RuntimeWarning: invalid value encountered in long_scalars\n",
      "  N = N / segment_len\n",
      "/mnt/home/szheng/projects/nmf_analysis/switch_metrics.py:119: RuntimeWarning: invalid value encountered in long_scalars\n",
      "  N = N / segment_len\n"
     ]
    },
    {
     "name": "stdout",
     "output_type": "stream",
     "text": [
      "saved at /mnt/home/szheng/ceph/ad/roman_data/e15/e15_13f1/e15_13f1_220119/py_data/switch_analysis/all_sw_info.p\n"
     ]
    },
    {
     "data": {
      "text/plain": [
       "{'all_sw_d':       trialtype  uid  field_index          time  speed_gauss  field_pos  \\\n",
       " 0 0        both  305            0   6918.271296     2.533582   3.740768   \n",
       "   1        both   74            0   6970.094439    27.147425  20.859440   \n",
       "   2        both  128            0   6963.678153     7.642066   3.039415   \n",
       "   3         0.0   45            2   7097.330444    26.535218  95.875781   \n",
       "   4         0.0  266            2   7078.870151    13.119677  67.115868   \n",
       " ...         ...  ...          ...           ...          ...        ...   \n",
       " 1 217       1.0  319            3  22680.784099    22.570860  68.071959   \n",
       "   218      both   84            0  22642.060494     8.713831   4.224583   \n",
       "   219      both  276            0  22646.101542     3.707480   6.179972   \n",
       "   220      both  283            0  22643.124781     2.112865   4.958388   \n",
       "   221      both  312            0  22644.773936     1.997404   5.563925   \n",
       " \n",
       "        trial_index  switch  index_within  switch_trial  switch_trial_frac  \\\n",
       " 0 0              2     1.0             1           2.0           0.064516   \n",
       "   1              3     1.0             1           3.0           0.096774   \n",
       "   2              3    -1.0             1           3.0           0.096774   \n",
       "   3              4    -1.0             2           2.0           0.105263   \n",
       "   4              4     1.0             2           2.0           0.105263   \n",
       " ...            ...     ...           ...           ...                ...   \n",
       " 1 217           31    -1.0            12          12.0           0.923077   \n",
       "   218           31    -1.0            12          31.0           0.968750   \n",
       "   219           31    -1.0            12          31.0           0.968750   \n",
       "   220           31    -1.0            12          31.0           0.968750   \n",
       "   221           31     1.0            12          31.0           0.968750   \n",
       " \n",
       "        pre_ntrials_in_segment  post_ntrials_in_segment  \n",
       " 0 0                         2                       27  \n",
       "   1                         3                       26  \n",
       "   2                         3                       26  \n",
       "   3                         2                       17  \n",
       "   4                         2                       17  \n",
       " ...                       ...                      ...  \n",
       " 1 217                       3                        1  \n",
       "   218                       5                        1  \n",
       "   219                      19                        1  \n",
       "   220                       9                        1  \n",
       "   221                      10                        1  \n",
       " \n",
       " [404 rows x 13 columns],\n",
       " 'all_sw_with_metrics_d':       trialtype  uid  field_index          time  speed_gauss  field_pos  \\\n",
       " 0 0        both  305            0   6918.271296     2.533582   3.740768   \n",
       "   1        both   74            0   6970.094439    27.147425  20.859440   \n",
       "   2        both  128            0   6963.678153     7.642066   3.039415   \n",
       "   3         0.0   45            2   7097.330444    26.535218  95.875781   \n",
       "   4         0.0  266            2   7078.870151    13.119677  67.115868   \n",
       " ...         ...  ...          ...           ...          ...        ...   \n",
       " 1 217       1.0  319            3  22680.784099    22.570860  68.071959   \n",
       "   218      both   84            0  22642.060494     8.713831   4.224583   \n",
       "   219      both  276            0  22646.101542     3.707480   6.179972   \n",
       "   220      both  283            0  22643.124781     2.112865   4.958388   \n",
       "   221      both  312            0  22644.773936     1.997404   5.563925   \n",
       " \n",
       "        trial_index  switch  index_within  switch_trial  ...  \\\n",
       " 0 0              2     1.0             1           2.0  ...   \n",
       "   1              3     1.0             1           3.0  ...   \n",
       "   2              3    -1.0             1           3.0  ...   \n",
       "   3              4    -1.0             2           2.0  ...   \n",
       "   4              4     1.0             2           2.0  ...   \n",
       " ...            ...     ...           ...           ...  ...   \n",
       " 1 217           31    -1.0            12          12.0  ...   \n",
       "   218           31    -1.0            12          31.0  ...   \n",
       "   219           31    -1.0            12          31.0  ...   \n",
       "   220           31    -1.0            12          31.0  ...   \n",
       "   221           31     1.0            12          31.0  ...   \n",
       " \n",
       "        post_ntrial_le_10_perc_frac_total  post_ntrial_le_30_perc_frac_total  \\\n",
       " 0 0                             0.034483                           0.241379   \n",
       "   1                             0.000000                           0.068966   \n",
       "   2                             0.448276                           0.620690   \n",
       "   3                             0.105263                           0.421053   \n",
       "   4                             0.000000                           0.000000   \n",
       " ...                                  ...                                ...   \n",
       " 1 217                           0.000000                           0.000000   \n",
       "   218                           0.000000                           0.000000   \n",
       "   219                           0.000000                           0.000000   \n",
       "   220                           0.000000                           0.031250   \n",
       "   221                           0.000000                           0.031250   \n",
       " \n",
       "        post_ntrial_le_50_perc_frac_total  post_ntrial_le_70_perc_frac_total  \\\n",
       " 0 0                             0.655172                           0.793103   \n",
       "   1                             0.448276                           0.862069   \n",
       "   2                             0.827586                           0.862069   \n",
       "   3                             0.736842                           0.894737   \n",
       "   4                             0.105263                           0.368421   \n",
       " ...                                  ...                                ...   \n",
       " 1 217                           0.000000                           0.076923   \n",
       "   218                           0.000000                           0.031250   \n",
       "   219                           0.031250                           0.031250   \n",
       "   220                           0.031250                           0.031250   \n",
       "   221                           0.031250                           0.031250   \n",
       " \n",
       "        post_ntrial_le_90_perc_frac_total  post_ntrial_ge_10_perc_frac_total  \\\n",
       " 0 0                             0.896552                           0.896552   \n",
       "   1                             0.862069                           0.896552   \n",
       "   2                             0.896552                           0.448276   \n",
       "   3                             0.894737                           0.789474   \n",
       "   4                             0.684211                           0.894737   \n",
       " ...                                  ...                                ...   \n",
       " 1 217                           0.076923                           0.076923   \n",
       "   218                           0.031250                           0.031250   \n",
       "   219                           0.031250                           0.031250   \n",
       "   220                           0.031250                           0.031250   \n",
       "   221                           0.031250                           0.031250   \n",
       " \n",
       "        post_ntrial_ge_30_perc_frac_total  post_ntrial_ge_50_perc_frac_total  \\\n",
       " 0 0                             0.689655                           0.275862   \n",
       "   1                             0.827586                           0.448276   \n",
       "   2                             0.275862                           0.068966   \n",
       "   3                             0.473684                           0.157895   \n",
       "   4                             0.894737                           0.789474   \n",
       " ...                                  ...                                ...   \n",
       " 1 217                           0.076923                           0.076923   \n",
       "   218                           0.031250                           0.031250   \n",
       "   219                           0.031250                           0.000000   \n",
       "   220                           0.000000                           0.000000   \n",
       "   221                           0.000000                           0.000000   \n",
       " \n",
       "        post_ntrial_ge_70_perc_frac_total  post_ntrial_ge_90_perc_frac_total  \n",
       " 0 0                             0.137931                           0.034483  \n",
       "   1                             0.034483                           0.034483  \n",
       "   2                             0.034483                           0.000000  \n",
       "   3                             0.000000                           0.000000  \n",
       "   4                             0.526316                           0.210526  \n",
       " ...                                  ...                                ...  \n",
       " 1 217                           0.000000                           0.000000  \n",
       "   218                           0.000000                           0.000000  \n",
       "   219                           0.000000                           0.000000  \n",
       "   220                           0.000000                           0.000000  \n",
       "   221                           0.000000                           0.000000  \n",
       " \n",
       " [404 rows x 89 columns]}"
      ]
     },
     "execution_count": 67,
     "metadata": {},
     "output_type": "execute_result"
    }
   ],
   "source": [
    "gasam.main('/mnt/home/szheng/ceph/ad/roman_data/e15/e15_13f1/e15_13f1_220119/',force_reload=True,load_only=False,dosave=True)\n"
   ]
  },
  {
   "cell_type": "code",
   "execution_count": 204,
   "id": "7e068ff0",
   "metadata": {
    "scrolled": true
   },
   "outputs": [
    {
     "name": "stdout",
     "output_type": "stream",
     "text": [
      "/mnt/home/szheng/ceph/ad/roman_data/e13/e13_26m1/e13_26m1_210913/py_data/place_field_afterheadscan_recombine.p exists; loading---\n",
      "/mnt/home/szheng/ceph/ad/roman_data/e15/e15_13f1/e15_13f1_220117/py_data/place_field_afterheadscan_recombine.p exists; loading---\n",
      "/mnt/home/szheng/ceph/ad/roman_data/e15/e15_13f1/e15_13f1_220118/py_data/place_field_afterheadscan_recombine.p exists; loading---\n",
      "/mnt/home/szheng/ceph/ad/roman_data/e15/e15_13f1/e15_13f1_220119/py_data/place_field_afterheadscan_recombine.p exists; loading---\n",
      "/mnt/home/szheng/ceph/ad/roman_data/e15/e15_13f1/e15_13f1_220120/py_data/place_field_afterheadscan_recombine.p exists; loading---\n",
      "/mnt/home/szheng/ceph/ad/roman_data/e13/e13_26m1/e13_26m1_211019/py_data/place_field_afterheadscan_recombine.p exists; loading---\n",
      "/mnt/home/szheng/ceph/ad/roman_data/e13/e13_16f1/e13_16f1_210328/py_data/place_field_afterheadscan_recombine.p exists; loading---\n",
      "/mnt/home/szheng/ceph/ad/roman_data/e13/e13_26m1/e13_26m1_211116/py_data/place_field_afterheadscan_recombine.p exists; loading---\n",
      "/mnt/home/szheng/ceph/ad/roman_data/e16/e16_3m2/e16_3m2_211213/py_data/place_field_afterheadscan_recombine.p exists; loading---\n",
      "/mnt/home/szheng/ceph/ad/roman_data/e16/e16_3m2/e16_3m2_211212/py_data/place_field_afterheadscan_recombine.p exists; loading---\n",
      "/mnt/home/szheng/ceph/ad/roman_data/e16/e16_3m1/e16_3m1_210203/py_data/place_field_afterheadscan_recombine.p exists; loading---\n",
      "/mnt/home/szheng/ceph/ad/roman_data/e16/e16_3m2/e16_3m2_211210/py_data/place_field_afterheadscan_recombine.p exists; loading---\n",
      "/mnt/home/szheng/ceph/ad/roman_data/e13/e13_26m1/e13_26m1_211119/py_data/place_field_afterheadscan_recombine.p exists; loading---\n",
      "/mnt/home/szheng/ceph/ad/roman_data/e13/e13_26m1/e13_26m1_211124/py_data/place_field_afterheadscan_recombine.p exists; loading---\n",
      "/mnt/home/szheng/ceph/ad/roman_data/e16/e16_3m1/e16_3m1_210201/py_data/place_field_afterheadscan_recombine.p exists; loading---\n",
      "/mnt/home/szheng/ceph/ad/roman_data/e13/e13_16f1/e13_16f1_210331/py_data/place_field_afterheadscan_recombine.p exists; loading---\n",
      "/mnt/home/szheng/ceph/ad/roman_data/e16/e16_3m1/e16_3m1_210119/py_data/place_field_afterheadscan_recombine.p exists; loading---\n",
      "/mnt/home/szheng/ceph/ad/roman_data/e13/e13_16f1/e13_16f1_210302/py_data/place_field_afterheadscan_recombine.p exists; loading---\n",
      "/mnt/home/szheng/ceph/ad/roman_data/e13/e13_16f1/e13_16f1_210317/py_data/place_field_afterheadscan_recombine.p exists; loading---\n",
      "/mnt/home/szheng/ceph/ad/roman_data/e13/e13_16f1/e13_16f1_210312/py_data/place_field_afterheadscan_recombine.p exists; loading---\n",
      "/mnt/home/szheng/ceph/ad/roman_data/e15/e15_10m1/e15_10m1_200809/py_data/place_field_afterheadscan_recombine.p exists; loading---\n",
      "/mnt/home/szheng/ceph/ad/roman_data/e15/e15_10m1/e15_10m1_200812/py_data/place_field_afterheadscan_recombine.p exists; loading---\n",
      "/mnt/home/szheng/ceph/ad/roman_data/e13/e13_16f1/e13_16f1_210314/py_data/place_field_afterheadscan_recombine.p exists; loading---\n",
      "/mnt/home/szheng/ceph/ad/roman_data/e15/e15_9f1/e15_9f1_200729/py_data/place_field_afterheadscan_recombine.p exists; loading---\n",
      "/mnt/home/szheng/ceph/ad/roman_data/e14/e14_2m2/e14_2m2_201019/py_data/place_field_afterheadscan_recombine.p exists; loading---\n",
      "/mnt/home/szheng/ceph/ad/roman_data/e13/e13_16f1/e13_16f1_210319/py_data/place_field_afterheadscan_recombine.p exists; loading---\n",
      "/mnt/home/szheng/ceph/ad/roman_data/e13/e13_16f1/e13_16f1_210322/py_data/place_field_afterheadscan_recombine.p exists; loading---\n",
      "/mnt/home/szheng/ceph/ad/roman_data/e15/e15_10m1/e15_10m1_200727/py_data/place_field_afterheadscan_recombine.p exists; loading---\n",
      "/mnt/home/szheng/ceph/ad/roman_data/e14/e14_2m2/e14_2m2_201017/py_data/place_field_afterheadscan_recombine.p exists; loading---\n",
      "/mnt/home/szheng/ceph/ad/roman_data/e16/e16_1f1/e16_1f1_201004/py_data/place_field_afterheadscan_recombine.p exists; loading---\n",
      "/mnt/home/szheng/ceph/ad/roman_data/e16/e16_1f1/e16_1f1_200920/py_data/place_field_afterheadscan_recombine.p exists; loading---\n",
      "/mnt/home/szheng/ceph/ad/roman_data/e15/e15_9f1/e15_9f1_200723/py_data/place_field_afterheadscan_recombine.p exists; loading---\n",
      "/mnt/home/szheng/ceph/ad/roman_data/e14/e14_2m3/e14_2m3_201129/py_data/place_field_afterheadscan_recombine.p exists; loading---\n",
      "/mnt/home/szheng/ceph/ad/roman_data/e14/e14_2m3/e14_2m3_201125/py_data/place_field_afterheadscan_recombine.p exists; loading---\n",
      "/mnt/home/szheng/ceph/ad/roman_data/e16/e16_1f1/e16_1f1_200918/py_data/place_field_afterheadscan_recombine.p exists; loading---\n",
      "/mnt/home/szheng/ceph/ad/roman_data/e16/e16_1f1/e16_1f1_200919/py_data/place_field_afterheadscan_recombine.p exists; loading---\n",
      "/mnt/home/szheng/ceph/ad/roman_data/e14/e14_2m3/e14_2m3_201208/py_data/place_field_afterheadscan_recombine.p exists; loading---\n",
      "/mnt/home/szheng/ceph/ad/roman_data/e14/e14_2m3/e14_2m3_201206/py_data/place_field_afterheadscan_recombine.p exists; loading---\n",
      "/mnt/home/szheng/ceph/ad/roman_data/e15/e15_9f1/e15_9f1_200802/py_data/place_field_afterheadscan_recombine.p exists; loading---\n",
      "/mnt/home/szheng/ceph/ad/roman_data/e16/e16_1f1/e16_1f1_200923/py_data/place_field_afterheadscan_recombine.p exists; loading---\n",
      "/mnt/home/szheng/ceph/ad/roman_data/e15/e15_9f1/e15_9f1_200720/py_data/place_field_afterheadscan_recombine.p exists; loading---\n",
      "/mnt/home/szheng/ceph/ad/roman_data/e16/e16_2m1/e16_2m1_201121/py_data/place_field_afterheadscan_recombine.p exists; loading---\n",
      "/mnt/home/szheng/ceph/ad/roman_data/e15/e15_10m1/e15_10m1_200803/py_data/place_field_afterheadscan_recombine.p exists; loading---\n",
      "/mnt/home/szheng/ceph/ad/roman_data/e15/e15_9f1/e15_9f1_200715/py_data/place_field_afterheadscan_recombine.p exists; loading---\n",
      "/mnt/home/szheng/ceph/ad/roman_data/e14/e14_2m3/e14_2m3_201121/py_data/place_field_afterheadscan_recombine.p exists; loading---\n",
      "/mnt/home/szheng/ceph/ad/roman_data/e14/e14_2m3/e14_2m3_201118/py_data/place_field_afterheadscan_recombine.p exists; loading---\n"
     ]
    }
   ],
   "source": [
    "bad_sess=[]\n",
    "for ddf in subdb['data_dir_full']:\n",
    "    pfres_test=pfrc.main(ddf,dosave=False,force_reload=False,load_only=True)\n",
    "    fr_mean=pfres_test['params_recombined'].loc['fr_mean']\n",
    "    if not np.all(fr_mean.columns==fr_mean.sort_index(axis=1).columns):\n",
    "        bad_sess.append(ddf)"
   ]
  },
  {
   "cell_type": "code",
   "execution_count": 134,
   "id": "42954a8b",
   "metadata": {
    "scrolled": true
   },
   "outputs": [
    {
     "data": {
      "text/plain": [
       "<Axes: >"
      ]
     },
     "execution_count": 134,
     "metadata": {},
     "output_type": "execute_result"
    },
    {
     "data": {
      "image/png": "[encoded data removed]",
      "text/plain": [
       "<Figure size 432x288 with 1 Axes>"
      ]
     },
     "metadata": {
      "needs_background": "light"
     },
     "output_type": "display_data"
    }
   ],
   "source": [
    "X_raw_all.loc[ani,sess,ta,tt,uid,field_id].dropna().plot(marker='o')\n",
    "X_pwc_all.loc[ani,sess,ta,tt,uid,field_id].dropna().plot(marker='o')"
   ]
  },
  {
   "cell_type": "markdown",
   "id": "ae337309",
   "metadata": {},
   "source": [
    "## measure expected number of trial span\n",
    "pre post difference (peri-switch valley peak FR difference) / sqrt(mean residual squared)\n",
    "\n"
   ]
  },
  {
   "cell_type": "code",
   "execution_count": 85,
   "id": "647184c3",
   "metadata": {},
   "outputs": [],
   "source": [
    "per_field_metrics_all['resid2_mean_sqrt'] = np.sqrt(per_field_metrics_all['resid2_mean'])"
   ]
  },
  {
   "cell_type": "code",
   "execution_count": 86,
   "id": "edf4feed",
   "metadata": {},
   "outputs": [],
   "source": [
    "span_d_all_with_resid2 = span_d_all.reset_index(level=(0,-1)).join(per_field_metrics_all['resid2_mean_sqrt']).set_index(['onoff','level_7'],append=True).reorder_levels((-2,0,1,2,3,4,5,7))\n",
    "\n"
   ]
  },
  {
   "cell_type": "code",
   "execution_count": 94,
   "id": "24264599",
   "metadata": {},
   "outputs": [],
   "source": [
    "expected_span = np.abs(span_d_all_with_resid2['post_minus_pre'] / (span_d_all_with_resid2['resid2_mean_sqrt'] *2)) \n",
    "span_d_all_with_resid2['expected_span'] = expected_span"
   ]
  },
  {
   "cell_type": "code",
   "execution_count": 105,
   "id": "98a1c15f",
   "metadata": {},
   "outputs": [
    {
     "data": {
      "text/plain": [
       "[<matplotlib.lines.Line2D at 0x155206470370>]"
      ]
     },
     "execution_count": 105,
     "metadata": {},
     "output_type": "execute_result"
    },
    {
     "data": {
      "image/png": "[encoded data removed]",
      "text/plain": [
       "<Figure size 432x288 with 1 Axes>"
      ]
     },
     "metadata": {
      "needs_background": "light"
     },
     "output_type": "display_data"
    }
   ],
   "source": [
    "# ax=sns.scatterplot(data=span_d_all_with_resid2,x='expected_span',y='trial span',s=1)\n",
    "ax=sns.histplot(data=span_d_all_with_resid2,x='expected_span',y='trial span')\n",
    "ax.set_ylim([0,10])\n",
    "ax.set_xlim([0,10])\n",
    "ax.plot([0,1],[0,1],transform=ax.transAxes)"
   ]
  },
  {
   "cell_type": "code",
   "execution_count": 115,
   "id": "6b27a8fc",
   "metadata": {},
   "outputs": [
    {
     "data": {
      "text/plain": [
       "<Axes: >"
      ]
     },
     "execution_count": 115,
     "metadata": {},
     "output_type": "execute_result"
    },
    {
     "data": {
      "image/png": "[encoded data removed]",
      "text/plain": [
       "<Figure size 432x288 with 1 Axes>"
      ]
     },
     "metadata": {
      "needs_background": "light"
     },
     "output_type": "display_data"
    }
   ],
   "source": [
    "diff=span_d_all_with_resid2['trial span'] - span_d_all_with_resid2['expected_span']\n",
    "bins=[-10,-5,0,5,10]\n",
    "bins=np.arange(-10,10+2,1)\n",
    "diff.hist(bins=bins)"
   ]
  },
  {
   "cell_type": "code",
   "execution_count": 117,
   "id": "0c0df30d",
   "metadata": {},
   "outputs": [
    {
     "data": {
      "text/plain": [
       "-0.2530544804668924"
      ]
     },
     "execution_count": 117,
     "metadata": {},
     "output_type": "execute_result"
    }
   ],
   "source": [
    "diff.mean()/diff.std()"
   ]
  },
  {
   "cell_type": "code",
   "execution_count": null,
   "id": "38e564f4",
   "metadata": {},
   "outputs": [],
   "source": []
  },
  {
   "cell_type": "code",
   "execution_count": 367,
   "id": "60e79d23",
   "metadata": {},
   "outputs": [
    {
     "data": {
      "text/plain": [
       "<Axes: >"
      ]
     },
     "execution_count": 367,
     "metadata": {},
     "output_type": "execute_result"
    },
    {
     "data": {
      "image/png": "[encoded data removed]",
      "text/plain": [
       "<Figure size 432x288 with 1 Axes>"
      ]
     },
     "metadata": {
      "needs_background": "light"
     },
     "output_type": "display_data"
    }
   ],
   "source": [
    "span_d_one.query('onoff==1')['trial span'].hist()"
   ]
  },
  {
   "cell_type": "code",
   "execution_count": 368,
   "id": "72b4a024",
   "metadata": {},
   "outputs": [
    {
     "data": {
      "text/plain": [
       "<Axes: >"
      ]
     },
     "execution_count": 368,
     "metadata": {},
     "output_type": "execute_result"
    },
    {
     "data": {
      "image/png": "[encoded data removed]",
      "text/plain": [
       "<Figure size 432x288 with 1 Axes>"
      ]
     },
     "metadata": {
      "needs_background": "light"
     },
     "output_type": "display_data"
    }
   ],
   "source": [
    "span_d_one.query('onoff==-1')['trial span'].hist()"
   ]
  },
  {
   "cell_type": "code",
   "execution_count": null,
   "id": "ca736b6c",
   "metadata": {},
   "outputs": [],
   "source": []
  },
  {
   "cell_type": "code",
   "execution_count": 327,
   "id": "d8bd3476",
   "metadata": {},
   "outputs": [
    {
     "name": "stdout",
     "output_type": "stream",
     "text": [
      "Fitted parameters: L = 0.9934245468990771, x0 = 3.9845182675472732, k = 1.2706321891719363\n"
     ]
    }
   ],
   "source": [
    "import numpy as np\n",
    "from scipy.optimize import curve_fit\n",
    "\n",
    "def sigmoid(x, L ,x0, k):\n",
    "    y = L / (1 + np.exp(-k*(x-x0)))\n",
    "    return y\n",
    "\n",
    "def fit_sigmoid(xdata, ydata):\n",
    "    # Initial guess for the parameters\n",
    "    initial_guess = [max(ydata), np.median(xdata), 1]\n",
    "\n",
    "    # Curve fitting\n",
    "    params, pcov = curve_fit(sigmoid, xdata, ydata, p0=initial_guess, method='dogbox')\n",
    "    \n",
    "    return params,pcov\n",
    "\n",
    "# Example usage\n",
    "xdata = np.array([0, 1, 2, 3, 4, 5, 6, 7, 8, 9])\n",
    "ydata = np.array([0.01, 0.03, 0.1, 0.2, 0.5, 0.8, 0.9, 0.97, 0.99, 0.999])\n",
    "\n",
    "params,pcov = fit_sigmoid(xdata, ydata)\n",
    "print(\"Fitted parameters: L = {}, x0 = {}, k = {}\".format(*params))\n"
   ]
  },
  {
   "cell_type": "code",
   "execution_count": 332,
   "id": "c1d96aff",
   "metadata": {},
   "outputs": [
    {
     "name": "stdout",
     "output_type": "stream",
     "text": [
      "[13.80321874  8.60388498  1.47781184]\n"
     ]
    },
    {
     "data": {
      "image/png": "[encoded data removed]",
      "text/plain": [
       "<Figure size 432x288 with 1 Axes>"
      ]
     },
     "metadata": {
      "needs_background": "light"
     },
     "output_type": "display_data"
    }
   ],
   "source": [
    "ydata=peri_sw_x_one.iloc[0]\n",
    "\n",
    "xs=np.arange(len(ydata))\n",
    "params,pcov=fit_sigmoid(xs,ydata.values)\n",
    "y_hat=sigmoid(xs,*params)\n",
    "plt.plot(xs,ydata)\n",
    "plt.plot(xs,y_hat)\n",
    "print(params)"
   ]
  },
  {
   "cell_type": "code",
   "execution_count": 335,
   "id": "36877e5a",
   "metadata": {},
   "outputs": [
    {
     "data": {
      "text/plain": [
       "[<matplotlib.lines.Line2D at 0x1554d0a18070>]"
      ]
     },
     "execution_count": 335,
     "metadata": {},
     "output_type": "execute_result"
    },
    {
     "data": {
      "image/png": "[encoded data removed]",
      "text/plain": [
       "<Figure size 432x288 with 1 Axes>"
      ]
     },
     "metadata": {
      "needs_background": "light"
     },
     "output_type": "display_data"
    }
   ],
   "source": [
    "y_hat=sigmoid(xs,params[0],params[1],params[2]*0.1)\n",
    "\n",
    "plt.plot(xs,y_hat)\n"
   ]
  },
  {
   "cell_type": "code",
   "execution_count": 280,
   "id": "2f927b8c",
   "metadata": {
    "scrolled": true
   },
   "outputs": [
    {
     "data": {
      "text/html": [
       "<div>\n",
       "<style scoped>\n",
       "    .dataframe tbody tr th:only-of-type {\n",
       "        vertical-align: middle;\n",
       "    }\n",
       "\n",
       "    .dataframe tbody tr th {\n",
       "        vertical-align: top;\n",
       "    }\n",
       "\n",
       "    .dataframe thead th {\n",
       "        text-align: right;\n",
       "    }\n",
       "</style>\n",
       "<table border=\"1\" class=\"dataframe\">\n",
       "  <thead>\n",
       "    <tr style=\"text-align: right;\">\n",
       "      <th></th>\n",
       "      <th>13</th>\n",
       "      <th>15</th>\n",
       "      <th>17</th>\n",
       "      <th>18</th>\n",
       "      <th>20</th>\n",
       "      <th>21</th>\n",
       "      <th>23</th>\n",
       "      <th>24</th>\n",
       "      <th>26</th>\n",
       "      <th>27</th>\n",
       "    </tr>\n",
       "  </thead>\n",
       "  <tbody>\n",
       "    <tr>\n",
       "      <th>0</th>\n",
       "      <td>0.01155</td>\n",
       "      <td>0.0</td>\n",
       "      <td>0.0</td>\n",
       "      <td>9.564084</td>\n",
       "      <td>2.748094</td>\n",
       "      <td>14.884641</td>\n",
       "      <td>13.415141</td>\n",
       "      <td>11.795851</td>\n",
       "      <td>7.455039</td>\n",
       "      <td>13.696731</td>\n",
       "    </tr>\n",
       "  </tbody>\n",
       "</table>\n",
       "</div>"
      ],
      "text/plain": [
       "        13   15   17        18        20         21         23         24  \\\n",
       "0  0.01155  0.0  0.0  9.564084  2.748094  14.884641  13.415141  11.795851   \n",
       "\n",
       "         26         27  \n",
       "0  7.455039  13.696731  "
      ]
     },
     "execution_count": 280,
     "metadata": {},
     "output_type": "execute_result"
    }
   ],
   "source": [
    "peri_sw_x_one"
   ]
  },
  {
   "cell_type": "code",
   "execution_count": 279,
   "id": "ad9c39a3",
   "metadata": {
    "scrolled": true
   },
   "outputs": [
    {
     "data": {
      "text/plain": [
       "0     0.0\n",
       "2     0.0\n",
       "4     0.0\n",
       "6     0.0\n",
       "11    0.0\n",
       "12    0.0\n",
       "13    0.0\n",
       "15    0.0\n",
       "17    0.0\n",
       "18    0.0\n",
       "20    0.0\n",
       "21    1.0\n",
       "23    0.0\n",
       "24    0.0\n",
       "26    0.0\n",
       "27    0.0\n",
       "28    0.0\n",
       "29    0.0\n",
       "30    0.0\n",
       "31    0.0\n",
       "Name: (32, 1), dtype: float64"
      ]
     },
     "execution_count": 279,
     "metadata": {},
     "output_type": "execute_result"
    }
   ],
   "source": [
    "changes_df_row"
   ]
  },
  {
   "cell_type": "code",
   "execution_count": 271,
   "id": "cd36d8ab",
   "metadata": {},
   "outputs": [
    {
     "name": "stdout",
     "output_type": "stream",
     "text": [
      "[11.93902662  3.24395274  1.2759813 ]\n"
     ]
    },
    {
     "data": {
      "image/png": "[encoded data removed]",
      "text/plain": [
       "<Figure size 432x288 with 1 Axes>"
      ]
     },
     "metadata": {
      "needs_background": "light"
     },
     "output_type": "display_data"
    }
   ],
   "source": [
    "ydata=peri_sw_x_one.iloc[0][1:-1]\n",
    "\n",
    "xs=np.arange(len(ydata))\n",
    "params=fit_sigmoid(xs,peri_sw_x_one.iloc[0].values)\n",
    "y_hat=sigmoid(xs,*params)\n",
    "plt.plot(xs,ydata)\n",
    "plt.plot(xs,y_hat)\n",
    "print(params)"
   ]
  },
  {
   "cell_type": "code",
   "execution_count": null,
   "id": "d9d06a57",
   "metadata": {},
   "outputs": [],
   "source": []
  },
  {
   "cell_type": "code",
   "execution_count": 244,
   "id": "3d40906e",
   "metadata": {},
   "outputs": [
    {
     "data": {
      "text/plain": [
       "20"
      ]
     },
     "execution_count": 244,
     "metadata": {},
     "output_type": "execute_result"
    }
   ],
   "source": [
    "next_sw"
   ]
  },
  {
   "cell_type": "code",
   "execution_count": 250,
   "id": "4f66b4ba",
   "metadata": {
    "scrolled": false
   },
   "outputs": [
    {
     "data": {
      "text/html": [
       "<div>\n",
       "<style scoped>\n",
       "    .dataframe tbody tr th:only-of-type {\n",
       "        vertical-align: middle;\n",
       "    }\n",
       "\n",
       "    .dataframe tbody tr th {\n",
       "        vertical-align: top;\n",
       "    }\n",
       "\n",
       "    .dataframe thead th {\n",
       "        text-align: right;\n",
       "    }\n",
       "</style>\n",
       "<table border=\"1\" class=\"dataframe\">\n",
       "  <thead>\n",
       "    <tr style=\"text-align: right;\">\n",
       "      <th></th>\n",
       "      <th>13</th>\n",
       "      <th>15</th>\n",
       "      <th>17</th>\n",
       "      <th>18</th>\n",
       "      <th>20</th>\n",
       "      <th>21</th>\n",
       "      <th>23</th>\n",
       "      <th>24</th>\n",
       "      <th>26</th>\n",
       "      <th>27</th>\n",
       "    </tr>\n",
       "  </thead>\n",
       "  <tbody>\n",
       "    <tr>\n",
       "      <th>0</th>\n",
       "      <td>0.01155</td>\n",
       "      <td>0.0</td>\n",
       "      <td>0.0</td>\n",
       "      <td>9.564084</td>\n",
       "      <td>2.748094</td>\n",
       "      <td>14.884641</td>\n",
       "      <td>13.415141</td>\n",
       "      <td>11.795851</td>\n",
       "      <td>7.455039</td>\n",
       "      <td>13.696731</td>\n",
       "    </tr>\n",
       "  </tbody>\n",
       "</table>\n",
       "</div>"
      ],
      "text/plain": [
       "        13   15   17        18        20         21         23         24  \\\n",
       "0  0.01155  0.0  0.0  9.564084  2.748094  14.884641  13.415141  11.795851   \n",
       "\n",
       "         26         27  \n",
       "0  7.455039  13.696731  "
      ]
     },
     "execution_count": 250,
     "metadata": {},
     "output_type": "execute_result"
    }
   ],
   "source": [
    "peri_sw_x"
   ]
  },
  {
   "cell_type": "code",
   "execution_count": null,
   "id": "59866dc2",
   "metadata": {},
   "outputs": [],
   "source": []
  },
  {
   "cell_type": "code",
   "execution_count": 222,
   "id": "c826b832",
   "metadata": {},
   "outputs": [
    {
     "data": {
      "text/plain": [
       "array([11])"
      ]
     },
     "execution_count": 222,
     "metadata": {},
     "output_type": "execute_result"
    }
   ],
   "source": [
    "sw_trials"
   ]
  },
  {
   "cell_type": "code",
   "execution_count": 210,
   "id": "f435ea3e",
   "metadata": {},
   "outputs": [
    {
     "data": {
      "text/html": [
       "<div>\n",
       "<style scoped>\n",
       "    .dataframe tbody tr th:only-of-type {\n",
       "        vertical-align: middle;\n",
       "    }\n",
       "\n",
       "    .dataframe tbody tr th {\n",
       "        vertical-align: top;\n",
       "    }\n",
       "\n",
       "    .dataframe thead th {\n",
       "        text-align: right;\n",
       "    }\n",
       "</style>\n",
       "<table border=\"1\" class=\"dataframe\">\n",
       "  <thead>\n",
       "    <tr style=\"text-align: right;\">\n",
       "      <th></th>\n",
       "      <th></th>\n",
       "      <th></th>\n",
       "      <th></th>\n",
       "      <th>0</th>\n",
       "      <th>1</th>\n",
       "      <th>2</th>\n",
       "      <th>3</th>\n",
       "      <th>4</th>\n",
       "      <th>5</th>\n",
       "      <th>6</th>\n",
       "      <th>7</th>\n",
       "      <th>8</th>\n",
       "      <th>9</th>\n",
       "      <th>...</th>\n",
       "      <th>60</th>\n",
       "      <th>61</th>\n",
       "      <th>62</th>\n",
       "      <th>63</th>\n",
       "      <th>64</th>\n",
       "      <th>65</th>\n",
       "      <th>66</th>\n",
       "      <th>67</th>\n",
       "      <th>68</th>\n",
       "      <th>69</th>\n",
       "    </tr>\n",
       "  </thead>\n",
       "  <tbody>\n",
       "    <tr>\n",
       "      <th rowspan=\"11\" valign=\"top\">0</th>\n",
       "      <th rowspan=\"5\" valign=\"top\">0.0</th>\n",
       "      <th>31</th>\n",
       "      <th>1</th>\n",
       "      <td>11.860302</td>\n",
       "      <td>NaN</td>\n",
       "      <td>11.860302</td>\n",
       "      <td>NaN</td>\n",
       "      <td>11.860302</td>\n",
       "      <td>NaN</td>\n",
       "      <td>11.860302</td>\n",
       "      <td>NaN</td>\n",
       "      <td>NaN</td>\n",
       "      <td>NaN</td>\n",
       "      <td>...</td>\n",
       "      <td>NaN</td>\n",
       "      <td>NaN</td>\n",
       "      <td>NaN</td>\n",
       "      <td>NaN</td>\n",
       "      <td>NaN</td>\n",
       "      <td>NaN</td>\n",
       "      <td>NaN</td>\n",
       "      <td>NaN</td>\n",
       "      <td>NaN</td>\n",
       "      <td>NaN</td>\n",
       "    </tr>\n",
       "    <tr>\n",
       "      <th>32</th>\n",
       "      <th>1</th>\n",
       "      <td>1.434035</td>\n",
       "      <td>NaN</td>\n",
       "      <td>1.434035</td>\n",
       "      <td>NaN</td>\n",
       "      <td>1.434035</td>\n",
       "      <td>NaN</td>\n",
       "      <td>1.434035</td>\n",
       "      <td>NaN</td>\n",
       "      <td>NaN</td>\n",
       "      <td>NaN</td>\n",
       "      <td>...</td>\n",
       "      <td>NaN</td>\n",
       "      <td>NaN</td>\n",
       "      <td>NaN</td>\n",
       "      <td>NaN</td>\n",
       "      <td>NaN</td>\n",
       "      <td>NaN</td>\n",
       "      <td>NaN</td>\n",
       "      <td>NaN</td>\n",
       "      <td>NaN</td>\n",
       "      <td>NaN</td>\n",
       "    </tr>\n",
       "    <tr>\n",
       "      <th>34</th>\n",
       "      <th>0</th>\n",
       "      <td>4.093238</td>\n",
       "      <td>NaN</td>\n",
       "      <td>4.093238</td>\n",
       "      <td>NaN</td>\n",
       "      <td>4.093238</td>\n",
       "      <td>NaN</td>\n",
       "      <td>4.093238</td>\n",
       "      <td>NaN</td>\n",
       "      <td>NaN</td>\n",
       "      <td>NaN</td>\n",
       "      <td>...</td>\n",
       "      <td>NaN</td>\n",
       "      <td>NaN</td>\n",
       "      <td>NaN</td>\n",
       "      <td>NaN</td>\n",
       "      <td>NaN</td>\n",
       "      <td>NaN</td>\n",
       "      <td>NaN</td>\n",
       "      <td>NaN</td>\n",
       "      <td>NaN</td>\n",
       "      <td>NaN</td>\n",
       "    </tr>\n",
       "    <tr>\n",
       "      <th>35</th>\n",
       "      <th>1</th>\n",
       "      <td>3.495219</td>\n",
       "      <td>NaN</td>\n",
       "      <td>3.495219</td>\n",
       "      <td>NaN</td>\n",
       "      <td>3.495219</td>\n",
       "      <td>NaN</td>\n",
       "      <td>3.495219</td>\n",
       "      <td>NaN</td>\n",
       "      <td>NaN</td>\n",
       "      <td>NaN</td>\n",
       "      <td>...</td>\n",
       "      <td>NaN</td>\n",
       "      <td>NaN</td>\n",
       "      <td>NaN</td>\n",
       "      <td>NaN</td>\n",
       "      <td>NaN</td>\n",
       "      <td>NaN</td>\n",
       "      <td>NaN</td>\n",
       "      <td>NaN</td>\n",
       "      <td>NaN</td>\n",
       "      <td>NaN</td>\n",
       "    </tr>\n",
       "    <tr>\n",
       "      <th>36</th>\n",
       "      <th>0</th>\n",
       "      <td>8.683220</td>\n",
       "      <td>NaN</td>\n",
       "      <td>8.683220</td>\n",
       "      <td>NaN</td>\n",
       "      <td>8.683220</td>\n",
       "      <td>NaN</td>\n",
       "      <td>8.683220</td>\n",
       "      <td>NaN</td>\n",
       "      <td>NaN</td>\n",
       "      <td>NaN</td>\n",
       "      <td>...</td>\n",
       "      <td>NaN</td>\n",
       "      <td>NaN</td>\n",
       "      <td>NaN</td>\n",
       "      <td>NaN</td>\n",
       "      <td>NaN</td>\n",
       "      <td>NaN</td>\n",
       "      <td>NaN</td>\n",
       "      <td>NaN</td>\n",
       "      <td>NaN</td>\n",
       "      <td>NaN</td>\n",
       "    </tr>\n",
       "    <tr>\n",
       "      <th>...</th>\n",
       "      <th>...</th>\n",
       "      <th>...</th>\n",
       "      <td>...</td>\n",
       "      <td>...</td>\n",
       "      <td>...</td>\n",
       "      <td>...</td>\n",
       "      <td>...</td>\n",
       "      <td>...</td>\n",
       "      <td>...</td>\n",
       "      <td>...</td>\n",
       "      <td>...</td>\n",
       "      <td>...</td>\n",
       "      <td>...</td>\n",
       "      <td>...</td>\n",
       "      <td>...</td>\n",
       "      <td>...</td>\n",
       "      <td>...</td>\n",
       "      <td>...</td>\n",
       "      <td>...</td>\n",
       "      <td>...</td>\n",
       "      <td>...</td>\n",
       "      <td>...</td>\n",
       "      <td>...</td>\n",
       "    </tr>\n",
       "    <tr>\n",
       "      <th rowspan=\"5\" valign=\"top\">both</th>\n",
       "      <th>363</th>\n",
       "      <th>0</th>\n",
       "      <td>7.453740</td>\n",
       "      <td>7.453740</td>\n",
       "      <td>7.453740</td>\n",
       "      <td>7.453740</td>\n",
       "      <td>7.453740</td>\n",
       "      <td>7.453740</td>\n",
       "      <td>7.453740</td>\n",
       "      <td>7.453740</td>\n",
       "      <td>7.453740</td>\n",
       "      <td>7.453740</td>\n",
       "      <td>...</td>\n",
       "      <td>NaN</td>\n",
       "      <td>NaN</td>\n",
       "      <td>NaN</td>\n",
       "      <td>NaN</td>\n",
       "      <td>NaN</td>\n",
       "      <td>NaN</td>\n",
       "      <td>NaN</td>\n",
       "      <td>NaN</td>\n",
       "      <td>NaN</td>\n",
       "      <td>NaN</td>\n",
       "    </tr>\n",
       "    <tr>\n",
       "      <th>368</th>\n",
       "      <th>0</th>\n",
       "      <td>4.221207</td>\n",
       "      <td>4.221207</td>\n",
       "      <td>4.221207</td>\n",
       "      <td>4.221207</td>\n",
       "      <td>4.221207</td>\n",
       "      <td>4.221207</td>\n",
       "      <td>4.221207</td>\n",
       "      <td>4.221207</td>\n",
       "      <td>4.221207</td>\n",
       "      <td>4.221207</td>\n",
       "      <td>...</td>\n",
       "      <td>NaN</td>\n",
       "      <td>NaN</td>\n",
       "      <td>NaN</td>\n",
       "      <td>NaN</td>\n",
       "      <td>NaN</td>\n",
       "      <td>NaN</td>\n",
       "      <td>NaN</td>\n",
       "      <td>NaN</td>\n",
       "      <td>NaN</td>\n",
       "      <td>NaN</td>\n",
       "    </tr>\n",
       "    <tr>\n",
       "      <th>370</th>\n",
       "      <th>0</th>\n",
       "      <td>1.875981</td>\n",
       "      <td>1.875981</td>\n",
       "      <td>1.875981</td>\n",
       "      <td>1.875981</td>\n",
       "      <td>1.875981</td>\n",
       "      <td>1.875981</td>\n",
       "      <td>1.875981</td>\n",
       "      <td>1.875981</td>\n",
       "      <td>1.875981</td>\n",
       "      <td>1.875981</td>\n",
       "      <td>...</td>\n",
       "      <td>NaN</td>\n",
       "      <td>NaN</td>\n",
       "      <td>NaN</td>\n",
       "      <td>NaN</td>\n",
       "      <td>NaN</td>\n",
       "      <td>NaN</td>\n",
       "      <td>NaN</td>\n",
       "      <td>NaN</td>\n",
       "      <td>NaN</td>\n",
       "      <td>NaN</td>\n",
       "    </tr>\n",
       "    <tr>\n",
       "      <th>374</th>\n",
       "      <th>0</th>\n",
       "      <td>15.428028</td>\n",
       "      <td>15.428028</td>\n",
       "      <td>15.428028</td>\n",
       "      <td>15.428028</td>\n",
       "      <td>15.428028</td>\n",
       "      <td>15.428028</td>\n",
       "      <td>15.428028</td>\n",
       "      <td>15.428028</td>\n",
       "      <td>15.428028</td>\n",
       "      <td>15.428028</td>\n",
       "      <td>...</td>\n",
       "      <td>NaN</td>\n",
       "      <td>NaN</td>\n",
       "      <td>NaN</td>\n",
       "      <td>NaN</td>\n",
       "      <td>NaN</td>\n",
       "      <td>NaN</td>\n",
       "      <td>NaN</td>\n",
       "      <td>NaN</td>\n",
       "      <td>NaN</td>\n",
       "      <td>NaN</td>\n",
       "    </tr>\n",
       "    <tr>\n",
       "      <th>376</th>\n",
       "      <th>0</th>\n",
       "      <td>16.181012</td>\n",
       "      <td>16.181012</td>\n",
       "      <td>16.181012</td>\n",
       "      <td>16.181012</td>\n",
       "      <td>16.181012</td>\n",
       "      <td>16.181012</td>\n",
       "      <td>16.181012</td>\n",
       "      <td>16.181012</td>\n",
       "      <td>16.181012</td>\n",
       "      <td>4.735479</td>\n",
       "      <td>...</td>\n",
       "      <td>NaN</td>\n",
       "      <td>NaN</td>\n",
       "      <td>NaN</td>\n",
       "      <td>NaN</td>\n",
       "      <td>NaN</td>\n",
       "      <td>NaN</td>\n",
       "      <td>NaN</td>\n",
       "      <td>NaN</td>\n",
       "      <td>NaN</td>\n",
       "      <td>NaN</td>\n",
       "    </tr>\n",
       "  </tbody>\n",
       "</table>\n",
       "<p>682 rows × 70 columns</p>\n",
       "</div>"
      ],
      "text/plain": [
       "                     0          1          2          3          4   \\\n",
       "0 0.0  31  1  11.860302        NaN  11.860302        NaN  11.860302   \n",
       "       32  1   1.434035        NaN   1.434035        NaN   1.434035   \n",
       "       34  0   4.093238        NaN   4.093238        NaN   4.093238   \n",
       "       35  1   3.495219        NaN   3.495219        NaN   3.495219   \n",
       "       36  0   8.683220        NaN   8.683220        NaN   8.683220   \n",
       "...                 ...        ...        ...        ...        ...   \n",
       "  both 363 0   7.453740   7.453740   7.453740   7.453740   7.453740   \n",
       "       368 0   4.221207   4.221207   4.221207   4.221207   4.221207   \n",
       "       370 0   1.875981   1.875981   1.875981   1.875981   1.875981   \n",
       "       374 0  15.428028  15.428028  15.428028  15.428028  15.428028   \n",
       "       376 0  16.181012  16.181012  16.181012  16.181012  16.181012   \n",
       "\n",
       "                     5          6          7          8          9   ...  60  \\\n",
       "0 0.0  31  1        NaN  11.860302        NaN        NaN        NaN  ... NaN   \n",
       "       32  1        NaN   1.434035        NaN        NaN        NaN  ... NaN   \n",
       "       34  0        NaN   4.093238        NaN        NaN        NaN  ... NaN   \n",
       "       35  1        NaN   3.495219        NaN        NaN        NaN  ... NaN   \n",
       "       36  0        NaN   8.683220        NaN        NaN        NaN  ... NaN   \n",
       "...                 ...        ...        ...        ...        ...  ...  ..   \n",
       "  both 363 0   7.453740   7.453740   7.453740   7.453740   7.453740  ... NaN   \n",
       "       368 0   4.221207   4.221207   4.221207   4.221207   4.221207  ... NaN   \n",
       "       370 0   1.875981   1.875981   1.875981   1.875981   1.875981  ... NaN   \n",
       "       374 0  15.428028  15.428028  15.428028  15.428028  15.428028  ... NaN   \n",
       "       376 0  16.181012  16.181012  16.181012  16.181012   4.735479  ... NaN   \n",
       "\n",
       "              61  62  63  64  65  66  67  68  69  \n",
       "0 0.0  31  1 NaN NaN NaN NaN NaN NaN NaN NaN NaN  \n",
       "       32  1 NaN NaN NaN NaN NaN NaN NaN NaN NaN  \n",
       "       34  0 NaN NaN NaN NaN NaN NaN NaN NaN NaN  \n",
       "       35  1 NaN NaN NaN NaN NaN NaN NaN NaN NaN  \n",
       "       36  0 NaN NaN NaN NaN NaN NaN NaN NaN NaN  \n",
       "...           ..  ..  ..  ..  ..  ..  ..  ..  ..  \n",
       "  both 363 0 NaN NaN NaN NaN NaN NaN NaN NaN NaN  \n",
       "       368 0 NaN NaN NaN NaN NaN NaN NaN NaN NaN  \n",
       "       370 0 NaN NaN NaN NaN NaN NaN NaN NaN NaN  \n",
       "       374 0 NaN NaN NaN NaN NaN NaN NaN NaN NaN  \n",
       "       376 0 NaN NaN NaN NaN NaN NaN NaN NaN NaN  \n",
       "\n",
       "[682 rows x 70 columns]"
      ]
     },
     "execution_count": 210,
     "metadata": {},
     "output_type": "execute_result"
    }
   ],
   "source": [
    "X_pwc"
   ]
  },
  {
   "cell_type": "code",
   "execution_count": 209,
   "id": "5e712cd6",
   "metadata": {},
   "outputs": [
    {
     "data": {
      "text/html": [
       "<div>\n",
       "<style scoped>\n",
       "    .dataframe tbody tr th:only-of-type {\n",
       "        vertical-align: middle;\n",
       "    }\n",
       "\n",
       "    .dataframe tbody tr th {\n",
       "        vertical-align: top;\n",
       "    }\n",
       "\n",
       "    .dataframe thead th {\n",
       "        text-align: right;\n",
       "    }\n",
       "</style>\n",
       "<table border=\"1\" class=\"dataframe\">\n",
       "  <thead>\n",
       "    <tr style=\"text-align: right;\">\n",
       "      <th></th>\n",
       "      <th></th>\n",
       "      <th></th>\n",
       "      <th></th>\n",
       "      <th></th>\n",
       "      <th></th>\n",
       "      <th>0</th>\n",
       "      <th>1</th>\n",
       "      <th>2</th>\n",
       "      <th>3</th>\n",
       "      <th>4</th>\n",
       "      <th>5</th>\n",
       "      <th>6</th>\n",
       "      <th>7</th>\n",
       "      <th>8</th>\n",
       "      <th>9</th>\n",
       "      <th>...</th>\n",
       "      <th>60</th>\n",
       "      <th>61</th>\n",
       "      <th>62</th>\n",
       "      <th>63</th>\n",
       "      <th>64</th>\n",
       "      <th>65</th>\n",
       "      <th>66</th>\n",
       "      <th>67</th>\n",
       "      <th>68</th>\n",
       "      <th>69</th>\n",
       "    </tr>\n",
       "  </thead>\n",
       "  <tbody>\n",
       "    <tr>\n",
       "      <th rowspan=\"5\" valign=\"top\">e13_26m1</th>\n",
       "      <th rowspan=\"5\" valign=\"top\">e13_26m1_210913</th>\n",
       "      <th rowspan=\"5\" valign=\"top\">0</th>\n",
       "      <th rowspan=\"5\" valign=\"top\">0.0</th>\n",
       "      <th>3</th>\n",
       "      <th>0</th>\n",
       "      <td>NaN</td>\n",
       "      <td>1.389282</td>\n",
       "      <td>NaN</td>\n",
       "      <td>1.389282</td>\n",
       "      <td>NaN</td>\n",
       "      <td>NaN</td>\n",
       "      <td>1.389282</td>\n",
       "      <td>NaN</td>\n",
       "      <td>1.389282</td>\n",
       "      <td>NaN</td>\n",
       "      <td>...</td>\n",
       "      <td>NaN</td>\n",
       "      <td>4.305191</td>\n",
       "      <td>NaN</td>\n",
       "      <td>4.305191</td>\n",
       "      <td>NaN</td>\n",
       "      <td>4.305191</td>\n",
       "      <td>NaN</td>\n",
       "      <td>NaN</td>\n",
       "      <td>4.305191</td>\n",
       "      <td>NaN</td>\n",
       "    </tr>\n",
       "    <tr>\n",
       "      <th>27</th>\n",
       "      <th>0</th>\n",
       "      <td>NaN</td>\n",
       "      <td>33.067719</td>\n",
       "      <td>NaN</td>\n",
       "      <td>33.067719</td>\n",
       "      <td>NaN</td>\n",
       "      <td>NaN</td>\n",
       "      <td>33.067719</td>\n",
       "      <td>NaN</td>\n",
       "      <td>33.067719</td>\n",
       "      <td>NaN</td>\n",
       "      <td>...</td>\n",
       "      <td>NaN</td>\n",
       "      <td>33.067719</td>\n",
       "      <td>NaN</td>\n",
       "      <td>33.067719</td>\n",
       "      <td>NaN</td>\n",
       "      <td>33.067719</td>\n",
       "      <td>NaN</td>\n",
       "      <td>NaN</td>\n",
       "      <td>33.067719</td>\n",
       "      <td>NaN</td>\n",
       "    </tr>\n",
       "    <tr>\n",
       "      <th rowspan=\"3\" valign=\"top\">29</th>\n",
       "      <th>0</th>\n",
       "      <td>NaN</td>\n",
       "      <td>10.396074</td>\n",
       "      <td>NaN</td>\n",
       "      <td>10.396074</td>\n",
       "      <td>NaN</td>\n",
       "      <td>NaN</td>\n",
       "      <td>10.396074</td>\n",
       "      <td>NaN</td>\n",
       "      <td>10.396074</td>\n",
       "      <td>NaN</td>\n",
       "      <td>...</td>\n",
       "      <td>NaN</td>\n",
       "      <td>2.777060</td>\n",
       "      <td>NaN</td>\n",
       "      <td>2.777060</td>\n",
       "      <td>NaN</td>\n",
       "      <td>2.777060</td>\n",
       "      <td>NaN</td>\n",
       "      <td>NaN</td>\n",
       "      <td>2.777060</td>\n",
       "      <td>NaN</td>\n",
       "    </tr>\n",
       "    <tr>\n",
       "      <th>1</th>\n",
       "      <td>NaN</td>\n",
       "      <td>26.288630</td>\n",
       "      <td>NaN</td>\n",
       "      <td>26.288630</td>\n",
       "      <td>NaN</td>\n",
       "      <td>NaN</td>\n",
       "      <td>26.288630</td>\n",
       "      <td>NaN</td>\n",
       "      <td>26.288630</td>\n",
       "      <td>NaN</td>\n",
       "      <td>...</td>\n",
       "      <td>NaN</td>\n",
       "      <td>26.288630</td>\n",
       "      <td>NaN</td>\n",
       "      <td>26.288630</td>\n",
       "      <td>NaN</td>\n",
       "      <td>26.288630</td>\n",
       "      <td>NaN</td>\n",
       "      <td>NaN</td>\n",
       "      <td>26.288630</td>\n",
       "      <td>NaN</td>\n",
       "    </tr>\n",
       "    <tr>\n",
       "      <th>2</th>\n",
       "      <td>NaN</td>\n",
       "      <td>17.481232</td>\n",
       "      <td>NaN</td>\n",
       "      <td>17.481232</td>\n",
       "      <td>NaN</td>\n",
       "      <td>NaN</td>\n",
       "      <td>17.481232</td>\n",
       "      <td>NaN</td>\n",
       "      <td>17.481232</td>\n",
       "      <td>NaN</td>\n",
       "      <td>...</td>\n",
       "      <td>NaN</td>\n",
       "      <td>17.481232</td>\n",
       "      <td>NaN</td>\n",
       "      <td>17.481232</td>\n",
       "      <td>NaN</td>\n",
       "      <td>17.481232</td>\n",
       "      <td>NaN</td>\n",
       "      <td>NaN</td>\n",
       "      <td>17.481232</td>\n",
       "      <td>NaN</td>\n",
       "    </tr>\n",
       "    <tr>\n",
       "      <th>...</th>\n",
       "      <th>...</th>\n",
       "      <th>...</th>\n",
       "      <th>...</th>\n",
       "      <th>...</th>\n",
       "      <th>...</th>\n",
       "      <td>...</td>\n",
       "      <td>...</td>\n",
       "      <td>...</td>\n",
       "      <td>...</td>\n",
       "      <td>...</td>\n",
       "      <td>...</td>\n",
       "      <td>...</td>\n",
       "      <td>...</td>\n",
       "      <td>...</td>\n",
       "      <td>...</td>\n",
       "      <td>...</td>\n",
       "      <td>...</td>\n",
       "      <td>...</td>\n",
       "      <td>...</td>\n",
       "      <td>...</td>\n",
       "      <td>...</td>\n",
       "      <td>...</td>\n",
       "      <td>...</td>\n",
       "      <td>...</td>\n",
       "      <td>...</td>\n",
       "      <td>...</td>\n",
       "    </tr>\n",
       "    <tr>\n",
       "      <th rowspan=\"5\" valign=\"top\">e14_2m3</th>\n",
       "      <th rowspan=\"5\" valign=\"top\">e14_2m3_201118</th>\n",
       "      <th rowspan=\"5\" valign=\"top\">0</th>\n",
       "      <th rowspan=\"5\" valign=\"top\">both</th>\n",
       "      <th>30</th>\n",
       "      <th>0</th>\n",
       "      <td>8.682727</td>\n",
       "      <td>8.682727</td>\n",
       "      <td>8.682727</td>\n",
       "      <td>8.682727</td>\n",
       "      <td>8.682727</td>\n",
       "      <td>8.682727</td>\n",
       "      <td>8.682727</td>\n",
       "      <td>8.682727</td>\n",
       "      <td>8.682727</td>\n",
       "      <td>8.682727</td>\n",
       "      <td>...</td>\n",
       "      <td>NaN</td>\n",
       "      <td>NaN</td>\n",
       "      <td>NaN</td>\n",
       "      <td>NaN</td>\n",
       "      <td>NaN</td>\n",
       "      <td>NaN</td>\n",
       "      <td>NaN</td>\n",
       "      <td>NaN</td>\n",
       "      <td>NaN</td>\n",
       "      <td>NaN</td>\n",
       "    </tr>\n",
       "    <tr>\n",
       "      <th>32</th>\n",
       "      <th>0</th>\n",
       "      <td>11.835044</td>\n",
       "      <td>11.835044</td>\n",
       "      <td>11.835044</td>\n",
       "      <td>11.835044</td>\n",
       "      <td>11.835044</td>\n",
       "      <td>11.835044</td>\n",
       "      <td>11.835044</td>\n",
       "      <td>11.835044</td>\n",
       "      <td>11.835044</td>\n",
       "      <td>11.835044</td>\n",
       "      <td>...</td>\n",
       "      <td>NaN</td>\n",
       "      <td>NaN</td>\n",
       "      <td>NaN</td>\n",
       "      <td>NaN</td>\n",
       "      <td>NaN</td>\n",
       "      <td>NaN</td>\n",
       "      <td>NaN</td>\n",
       "      <td>NaN</td>\n",
       "      <td>NaN</td>\n",
       "      <td>NaN</td>\n",
       "    </tr>\n",
       "    <tr>\n",
       "      <th>38</th>\n",
       "      <th>0</th>\n",
       "      <td>9.374712</td>\n",
       "      <td>9.374712</td>\n",
       "      <td>9.374712</td>\n",
       "      <td>9.374712</td>\n",
       "      <td>9.374712</td>\n",
       "      <td>9.374712</td>\n",
       "      <td>9.374712</td>\n",
       "      <td>9.374712</td>\n",
       "      <td>9.374712</td>\n",
       "      <td>9.374712</td>\n",
       "      <td>...</td>\n",
       "      <td>NaN</td>\n",
       "      <td>NaN</td>\n",
       "      <td>NaN</td>\n",
       "      <td>NaN</td>\n",
       "      <td>NaN</td>\n",
       "      <td>NaN</td>\n",
       "      <td>NaN</td>\n",
       "      <td>NaN</td>\n",
       "      <td>NaN</td>\n",
       "      <td>NaN</td>\n",
       "    </tr>\n",
       "    <tr>\n",
       "      <th>47</th>\n",
       "      <th>0</th>\n",
       "      <td>6.453665</td>\n",
       "      <td>6.453665</td>\n",
       "      <td>6.453665</td>\n",
       "      <td>6.453665</td>\n",
       "      <td>6.453665</td>\n",
       "      <td>6.453665</td>\n",
       "      <td>6.453665</td>\n",
       "      <td>6.453665</td>\n",
       "      <td>6.453665</td>\n",
       "      <td>6.453665</td>\n",
       "      <td>...</td>\n",
       "      <td>NaN</td>\n",
       "      <td>NaN</td>\n",
       "      <td>NaN</td>\n",
       "      <td>NaN</td>\n",
       "      <td>NaN</td>\n",
       "      <td>NaN</td>\n",
       "      <td>NaN</td>\n",
       "      <td>NaN</td>\n",
       "      <td>NaN</td>\n",
       "      <td>NaN</td>\n",
       "    </tr>\n",
       "    <tr>\n",
       "      <th>53</th>\n",
       "      <th>0</th>\n",
       "      <td>3.517027</td>\n",
       "      <td>3.517027</td>\n",
       "      <td>3.517027</td>\n",
       "      <td>3.517027</td>\n",
       "      <td>3.517027</td>\n",
       "      <td>3.517027</td>\n",
       "      <td>3.517027</td>\n",
       "      <td>3.517027</td>\n",
       "      <td>3.517027</td>\n",
       "      <td>3.517027</td>\n",
       "      <td>...</td>\n",
       "      <td>NaN</td>\n",
       "      <td>NaN</td>\n",
       "      <td>NaN</td>\n",
       "      <td>NaN</td>\n",
       "      <td>NaN</td>\n",
       "      <td>NaN</td>\n",
       "      <td>NaN</td>\n",
       "      <td>NaN</td>\n",
       "      <td>NaN</td>\n",
       "      <td>NaN</td>\n",
       "    </tr>\n",
       "  </tbody>\n",
       "</table>\n",
       "<p>14438 rows × 70 columns</p>\n",
       "</div>"
      ],
      "text/plain": [
       "                                             0          1          2   \\\n",
       "e13_26m1 e13_26m1_210913 0 0.0  3  0        NaN   1.389282        NaN   \n",
       "                                27 0        NaN  33.067719        NaN   \n",
       "                                29 0        NaN  10.396074        NaN   \n",
       "                                   1        NaN  26.288630        NaN   \n",
       "                                   2        NaN  17.481232        NaN   \n",
       "...                                         ...        ...        ...   \n",
       "e14_2m3  e14_2m3_201118  0 both 30 0   8.682727   8.682727   8.682727   \n",
       "                                32 0  11.835044  11.835044  11.835044   \n",
       "                                38 0   9.374712   9.374712   9.374712   \n",
       "                                47 0   6.453665   6.453665   6.453665   \n",
       "                                53 0   3.517027   3.517027   3.517027   \n",
       "\n",
       "                                             3          4          5   \\\n",
       "e13_26m1 e13_26m1_210913 0 0.0  3  0   1.389282        NaN        NaN   \n",
       "                                27 0  33.067719        NaN        NaN   \n",
       "                                29 0  10.396074        NaN        NaN   \n",
       "                                   1  26.288630        NaN        NaN   \n",
       "                                   2  17.481232        NaN        NaN   \n",
       "...                                         ...        ...        ...   \n",
       "e14_2m3  e14_2m3_201118  0 both 30 0   8.682727   8.682727   8.682727   \n",
       "                                32 0  11.835044  11.835044  11.835044   \n",
       "                                38 0   9.374712   9.374712   9.374712   \n",
       "                                47 0   6.453665   6.453665   6.453665   \n",
       "                                53 0   3.517027   3.517027   3.517027   \n",
       "\n",
       "                                             6          7          8   \\\n",
       "e13_26m1 e13_26m1_210913 0 0.0  3  0   1.389282        NaN   1.389282   \n",
       "                                27 0  33.067719        NaN  33.067719   \n",
       "                                29 0  10.396074        NaN  10.396074   \n",
       "                                   1  26.288630        NaN  26.288630   \n",
       "                                   2  17.481232        NaN  17.481232   \n",
       "...                                         ...        ...        ...   \n",
       "e14_2m3  e14_2m3_201118  0 both 30 0   8.682727   8.682727   8.682727   \n",
       "                                32 0  11.835044  11.835044  11.835044   \n",
       "                                38 0   9.374712   9.374712   9.374712   \n",
       "                                47 0   6.453665   6.453665   6.453665   \n",
       "                                53 0   3.517027   3.517027   3.517027   \n",
       "\n",
       "                                             9   ...  60         61  62  \\\n",
       "e13_26m1 e13_26m1_210913 0 0.0  3  0        NaN  ... NaN   4.305191 NaN   \n",
       "                                27 0        NaN  ... NaN  33.067719 NaN   \n",
       "                                29 0        NaN  ... NaN   2.777060 NaN   \n",
       "                                   1        NaN  ... NaN  26.288630 NaN   \n",
       "                                   2        NaN  ... NaN  17.481232 NaN   \n",
       "...                                         ...  ...  ..        ...  ..   \n",
       "e14_2m3  e14_2m3_201118  0 both 30 0   8.682727  ... NaN        NaN NaN   \n",
       "                                32 0  11.835044  ... NaN        NaN NaN   \n",
       "                                38 0   9.374712  ... NaN        NaN NaN   \n",
       "                                47 0   6.453665  ... NaN        NaN NaN   \n",
       "                                53 0   3.517027  ... NaN        NaN NaN   \n",
       "\n",
       "                                             63  64         65  66  67  \\\n",
       "e13_26m1 e13_26m1_210913 0 0.0  3  0   4.305191 NaN   4.305191 NaN NaN   \n",
       "                                27 0  33.067719 NaN  33.067719 NaN NaN   \n",
       "                                29 0   2.777060 NaN   2.777060 NaN NaN   \n",
       "                                   1  26.288630 NaN  26.288630 NaN NaN   \n",
       "                                   2  17.481232 NaN  17.481232 NaN NaN   \n",
       "...                                         ...  ..        ...  ..  ..   \n",
       "e14_2m3  e14_2m3_201118  0 both 30 0        NaN NaN        NaN NaN NaN   \n",
       "                                32 0        NaN NaN        NaN NaN NaN   \n",
       "                                38 0        NaN NaN        NaN NaN NaN   \n",
       "                                47 0        NaN NaN        NaN NaN NaN   \n",
       "                                53 0        NaN NaN        NaN NaN NaN   \n",
       "\n",
       "                                             68  69  \n",
       "e13_26m1 e13_26m1_210913 0 0.0  3  0   4.305191 NaN  \n",
       "                                27 0  33.067719 NaN  \n",
       "                                29 0   2.777060 NaN  \n",
       "                                   1  26.288630 NaN  \n",
       "                                   2  17.481232 NaN  \n",
       "...                                         ...  ..  \n",
       "e14_2m3  e14_2m3_201118  0 both 30 0        NaN NaN  \n",
       "                                32 0        NaN NaN  \n",
       "                                38 0        NaN NaN  \n",
       "                                47 0        NaN NaN  \n",
       "                                53 0        NaN NaN  \n",
       "\n",
       "[14438 rows x 70 columns]"
      ]
     },
     "execution_count": 209,
     "metadata": {},
     "output_type": "execute_result"
    }
   ],
   "source": [
    "X_pwc_all"
   ]
  },
  {
   "cell_type": "code",
   "execution_count": null,
   "id": "aabeadb2",
   "metadata": {},
   "outputs": [],
   "source": []
  }
 ],
 "metadata": {
  "kernelspec": {
   "display_name": "jax",
   "language": "python",
   "name": "jax"
  },
  "language_info": {
   "codemirror_mode": {
    "name": "ipython",
    "version": 3
   },
   "file_extension": ".py",
   "mimetype": "text/x-python",
   "name": "python",
   "nbconvert_exporter": "python",
   "pygments_lexer": "ipython3",
   "version": "3.9.16"
  }
 },
 "nbformat": 4,
 "nbformat_minor": 5
}
