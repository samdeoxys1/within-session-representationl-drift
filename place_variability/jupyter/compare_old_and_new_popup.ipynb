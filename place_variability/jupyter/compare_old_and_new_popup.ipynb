{
 "cells": [
  {
   "cell_type": "code",
   "execution_count": 1,
   "id": "180d595c",
   "metadata": {},
   "outputs": [
    {
     "name": "stdout",
     "output_type": "stream",
     "text": [
      "67 sessions!\n",
      "67 sessions!\n"
     ]
    }
   ],
   "source": [
    "import numpy as np\n",
    "import scipy\n",
    "import sklearn\n",
    "from sklearn.decomposition import NMF\n",
    "from sklearn.cluster import KMeans\n",
    "from sklearn.mixture import GaussianMixture,BayesianGaussianMixture\n",
    "\n",
    "import pandas as pd\n",
    "\n",
    "import matplotlib.pyplot as plt\n",
    "import matplotlib as mpl\n",
    "mpl.rcParams['image.cmap'] = 'Greys'\n",
    "\n",
    "import seaborn as sns\n",
    "\n",
    "import sys,os,pdb,copy,pickle\n",
    "from importlib import reload\n",
    "# import pynapple as nap\n",
    "\n",
    "sys.path.append('/mnt/home/szheng/projects/seq_detection2/code')\n",
    "sys.path.append('/mnt/home/szheng/projects/util_code')\n",
    "sys.path.append('/mnt/home/szheng/projects/nmf_analysis')\n",
    "sys.path.append('/mnt/home/szheng/projects/nmf_analysis/scripts')\n",
    "sys.path.append('/mnt/home/szheng/projects/cluster_spikes')\n",
    "sys.path.append('/mnt/home/szheng/projects/place_variability/code')\n",
    "import data_prep_new as dpn\n",
    "import place_cell_analysis as pa\n",
    "import plot_helper as ph\n",
    "import preprocess as prep\n",
    "import nmf_analysis as na\n",
    "import nmf_plot as nmfp\n",
    "reload(na)\n",
    "\n",
    "import raster_new as rn\n",
    "import data_prep_pyn as dpp\n",
    "\n",
    "\n",
    "import change_point_analysis as cpa\n",
    "import change_point_plot as cpp\n",
    "\n",
    "import place_field_analysis as pf\n",
    "\n",
    "import switch_analysis_one_session as saos\n",
    "reload(saos)\n",
    "\n",
    "import process_central_arm as pca \n",
    "import change_point_analysis_central_arm_seperate as cpacas\n",
    "\n",
    "import misc\n",
    "reload(misc)\n",
    "from misc import get_nth_key, get_nth_val"
   ]
  },
  {
   "cell_type": "code",
   "execution_count": 2,
   "id": "4a8b8640",
   "metadata": {},
   "outputs": [],
   "source": [
    "import database\n",
    "db = database.db"
   ]
  },
  {
   "cell_type": "code",
   "execution_count": 3,
   "id": "b044c83d",
   "metadata": {},
   "outputs": [],
   "source": [
    "subdb = db.query('owner==\"roman\"').sort_values('n_pyr_putative',ascending=False)\n",
    "subdb = subdb.query('ntrials>=20&n_neurons>=50')"
   ]
  },
  {
   "cell_type": "code",
   "execution_count": 4,
   "id": "b46c370b",
   "metadata": {},
   "outputs": [],
   "source": [
    "import pf_recombine_central as pfrc\n",
    "import fr_map_one_session as fmos\n",
    "import switch_detection_one_session as sdos\n",
    "import get_all_switch_add_metrics as gasam"
   ]
  },
  {
   "cell_type": "code",
   "execution_count": 5,
   "id": "a5c45198",
   "metadata": {},
   "outputs": [],
   "source": [
    "import preprocess_one_session as prepos"
   ]
  },
  {
   "cell_type": "code",
   "execution_count": 6,
   "id": "9daa2fec",
   "metadata": {},
   "outputs": [
    {
     "name": "stderr",
     "output_type": "stream",
     "text": [
      "/mnt/home/szheng/ceph/envs/jax/lib/python3.9/site-packages/outdated/utils.py:14: OutdatedPackageWarning: The package pingouin is out of date. Your version is 0.5.2, the latest is 0.5.3.\n",
      "Set the environment variable OUTDATED_IGNORE=1 to disable these warnings.\n",
      "  return warn(\n"
     ]
    }
   ],
   "source": [
    "subdb = db.loc[db['sess_name']=='e15_13f1_220117']"
   ]
  },
  {
   "cell_type": "code",
   "execution_count": 7,
   "id": "2bf17670",
   "metadata": {},
   "outputs": [
    {
     "name": "stdout",
     "output_type": "stream",
     "text": [
      "/mnt/home/szheng/ceph/ad/roman_data/e15/e15_13f1/e15_13f1_220117/py_data/place_field_afterheadscan_recombine.p exists; loading---\n",
      "/mnt/home/szheng/ceph/ad/roman_data/e15/e15_13f1/e15_13f1_220117/py_data/fr_map.p exists; loading---\n",
      "/mnt/home/szheng/ceph/ad/roman_data/e15/e15_13f1/e15_13f1_220117/py_data/sw_res_afterheadscan.p exists; loading---\n",
      "/mnt/home/szheng/ceph/ad/roman_data/e15/e15_13f1/e15_13f1_220117/py_data/switch_analysis/all_sw_info.p exists; loading---\n",
      "CPU times: user 405 ms, sys: 422 ms, total: 827 ms\n",
      "Wall time: 1.13 s\n"
     ]
    }
   ],
   "source": [
    "%%time\n",
    "all_fields_recombined_all = {}\n",
    "pf_params_recombined_all = {}\n",
    "fr_map_trial_df_all = {}\n",
    "pval_all = {}\n",
    "best_n_all = {}\n",
    "X_pwc_all = {}\n",
    "X_raw_all = {}\n",
    "changes_df_all = {}\n",
    "var_res_all = {}\n",
    "corr_all = {}\n",
    "all_sw_d_all = {}\n",
    "all_sw_with_metrics_d_all = {}\n",
    "trial_index_to_index_within_df_all = {}\n",
    "\n",
    "spk_beh_df_all = {}\n",
    "\n",
    "for ind,row in subdb.iterrows():\n",
    "    data_dir_full = row['data_dir_full']\n",
    "    ani = ind[0]\n",
    "    sess = row['sess_name']\n",
    "    \n",
    "    res=dpp.load_spk_beh_df(data_dir_full,load_only=True)\n",
    "    if res is not None:\n",
    "        spk_beh_df = res['spk_beh_df']\n",
    "        spk_beh_df,_ = dpp.add_lin_binned(spk_beh_df,bin_size=2.2,nbins=None)\n",
    "        spk_beh_df_all[ani,sess] = spk_beh_df\n",
    "        trial_index_to_index_within_df = dpp.trial_index_to_index_within_trialtype(spk_beh_df)\n",
    "        trial_index_to_index_within_df_all[ani,sess] = trial_index_to_index_within_df\n",
    "        \n",
    "\n",
    "    pf_res_recombine = pfrc.main(data_dir_full,force_reload=False,load_only=True)\n",
    "\n",
    "    all_fields_recombined=pf_res_recombine['all_fields_recombined']\n",
    "    all_fields_recombined_all[ani,sess] = all_fields_recombined\n",
    "    pf_params_recombined = pf_res_recombine['params_recombined']\n",
    "    pf_params_recombined_all[ani,sess] = pf_params_recombined\n",
    "\n",
    "    fr_map_all = fmos.main(data_dir_full,force_reload=False,load_only=True)\n",
    "    fr_map_trial_df = fr_map_all['fr_map_trial_df']\n",
    "    fr_map_trial_df_all[ani,sess] = fr_map_trial_df\n",
    "\n",
    "\n",
    "\n",
    "    sw_res = sdos.main(data_dir_full,force_reload=False,load_only=True)\n",
    "    pval = sw_res['pval']\n",
    "    pval_all[ani,sess]=pval\n",
    "    best_n = sw_res['best_n']\n",
    "    best_n_all[ani,sess] = best_n\n",
    "    X_pwc = sw_res['X_pwc']\n",
    "    X_pwc_all[ani,sess] = X_pwc\n",
    "    X_raw = sw_res['X_raw']\n",
    "    X_raw_all[ani,sess]=X_raw\n",
    "    changes_df = sw_res['changes_df']\n",
    "    changes_df_all[ani,sess] = changes_df\n",
    "    var_res = sw_res['var_res']\n",
    "    var_res_all[ani,sess]=var_res\n",
    "    corr = sw_res['corr']\n",
    "    corr_all[ani,sess] = corr\n",
    "\n",
    "    sw_info_res=gasam.main(data_dir_full,force_reload=False,load_only=True)\n",
    "    if sw_info_res is None:\n",
    "        sw_info_res=gasam.main(data_dir_full,force_reload=True,load_only=False)\n",
    "    all_sw_d = sw_info_res['all_sw_d']\n",
    "    all_sw_d_all[ani,sess] = all_sw_d\n",
    "    all_sw_with_metrics_d = sw_info_res['all_sw_with_metrics_d']\n",
    "    all_sw_with_metrics_d_all[ani,sess] = all_sw_with_metrics_d\n",
    "\n",
    "all_fields_recombined_all = pd.concat(all_fields_recombined_all,axis=0)\n",
    "pf_params_recombined_all = pd.concat(pf_params_recombined_all,axis=0)\n",
    "fr_map_trial_df_all = pd.concat(fr_map_trial_df_all,axis=0)\n",
    "pval_all = pd.concat(pval_all,axis=0)\n",
    "X_pwc_all = pd.concat(X_pwc_all,axis=0)\n",
    "X_raw_all = pd.concat(X_raw_all,axis=0)\n",
    "changes_df_all = pd.concat(changes_df_all,axis=0)\n",
    "var_res_all = pd.concat(var_res_all,axis=0)\n",
    "corr_all = pd.concat(corr_all,axis=0)\n",
    "all_sw_d_all = pd.concat(all_sw_d_all,axis=0)\n",
    "all_sw_with_metrics_d_all = pd.concat(all_sw_with_metrics_d_all,axis=0)\n",
    "best_n_all = pd.concat(best_n_all,axis=0)\n",
    "\n",
    "spk_beh_df_all = pd.concat(spk_beh_df_all,axis=0)\n"
   ]
  },
  {
   "cell_type": "code",
   "execution_count": 8,
   "id": "b3431017",
   "metadata": {},
   "outputs": [],
   "source": [
    "fn ='frmap_null_afterheadscan.p'\n",
    "folder='/mnt/home/szheng/ceph/ad/roman_data/e15/e15_13f1/e15_13f1_220117/py_data'\n",
    "fn_full=os.path.join(folder,fn)\n",
    "fr_map_null_new = pickle.load(open(fn_full,'rb'))\n",
    "fn='fr_map_null_trialtype_vthresh.p'\n",
    "fn_full=os.path.join(folder,fn)\n",
    "fr_map_null_old = pickle.load(open(fn_full,'rb'))\n",
    "fn='place_field_afterheadscan.p'\n",
    "fn_full=os.path.join(folder,fn)\n",
    "pf_res_new_before_recombine = pickle.load(open(fn_full,'rb'))\n"
   ]
  },
  {
   "cell_type": "code",
   "execution_count": 9,
   "id": "f03093c3",
   "metadata": {},
   "outputs": [],
   "source": [
    "fn = 'all_switch_info.p'\n",
    "fn_full = os.path.join(data_dir_full,'py_data','switch_analysis',fn)\n",
    "old_res = pickle.load(open(fn_full,'rb'))"
   ]
  },
  {
   "cell_type": "code",
   "execution_count": 10,
   "id": "3e552b8a",
   "metadata": {},
   "outputs": [],
   "source": [
    "fn = 'place_field_avg_and_trial_vthresh.p'\n",
    "fn_full = os.path.join(data_dir_full,'py_data',fn)\n",
    "old_pf = pickle.load(open(fn_full,'rb'))"
   ]
  },
  {
   "cell_type": "code",
   "execution_count": 11,
   "id": "b75af22f",
   "metadata": {},
   "outputs": [
    {
     "data": {
      "text/html": [
       "<div>\n",
       "<style scoped>\n",
       "    .dataframe tbody tr th:only-of-type {\n",
       "        vertical-align: middle;\n",
       "    }\n",
       "\n",
       "    .dataframe tbody tr th {\n",
       "        vertical-align: top;\n",
       "    }\n",
       "\n",
       "    .dataframe thead th {\n",
       "        text-align: right;\n",
       "    }\n",
       "</style>\n",
       "<table border=\"1\" class=\"dataframe\">\n",
       "  <thead>\n",
       "    <tr style=\"text-align: right;\">\n",
       "      <th></th>\n",
       "      <th></th>\n",
       "      <th></th>\n",
       "      <th>start</th>\n",
       "      <th>end</th>\n",
       "      <th>com</th>\n",
       "      <th>peak</th>\n",
       "      <th>fr_peak</th>\n",
       "      <th>fr_mean</th>\n",
       "    </tr>\n",
       "    <tr>\n",
       "      <th></th>\n",
       "      <th></th>\n",
       "      <th>field_index</th>\n",
       "      <th></th>\n",
       "      <th></th>\n",
       "      <th></th>\n",
       "      <th></th>\n",
       "      <th></th>\n",
       "      <th></th>\n",
       "    </tr>\n",
       "  </thead>\n",
       "  <tbody>\n",
       "    <tr>\n",
       "      <th rowspan=\"5\" valign=\"top\">0</th>\n",
       "      <th rowspan=\"2\" valign=\"top\">31</th>\n",
       "      <th>0</th>\n",
       "      <td>2</td>\n",
       "      <td>13</td>\n",
       "      <td>7</td>\n",
       "      <td>10</td>\n",
       "      <td>7.06924</td>\n",
       "      <td>5.433991</td>\n",
       "    </tr>\n",
       "    <tr>\n",
       "      <th>1</th>\n",
       "      <td>66</td>\n",
       "      <td>81</td>\n",
       "      <td>73</td>\n",
       "      <td>75</td>\n",
       "      <td>9.166158</td>\n",
       "      <td>6.626543</td>\n",
       "    </tr>\n",
       "    <tr>\n",
       "      <th>32</th>\n",
       "      <th>1</th>\n",
       "      <td>43</td>\n",
       "      <td>48</td>\n",
       "      <td>45</td>\n",
       "      <td>45</td>\n",
       "      <td>5.351963</td>\n",
       "      <td>4.199355</td>\n",
       "    </tr>\n",
       "    <tr>\n",
       "      <th>33</th>\n",
       "      <th>0</th>\n",
       "      <td>79</td>\n",
       "      <td>86</td>\n",
       "      <td>82</td>\n",
       "      <td>82</td>\n",
       "      <td>6.677062</td>\n",
       "      <td>5.30254</td>\n",
       "    </tr>\n",
       "    <tr>\n",
       "      <th>34</th>\n",
       "      <th>0</th>\n",
       "      <td>48</td>\n",
       "      <td>54</td>\n",
       "      <td>50</td>\n",
       "      <td>51</td>\n",
       "      <td>3.398153</td>\n",
       "      <td>3.22187</td>\n",
       "    </tr>\n",
       "    <tr>\n",
       "      <th>...</th>\n",
       "      <th>...</th>\n",
       "      <th>...</th>\n",
       "      <td>...</td>\n",
       "      <td>...</td>\n",
       "      <td>...</td>\n",
       "      <td>...</td>\n",
       "      <td>...</td>\n",
       "      <td>...</td>\n",
       "    </tr>\n",
       "    <tr>\n",
       "      <th rowspan=\"5\" valign=\"top\">both</th>\n",
       "      <th>361</th>\n",
       "      <th>0</th>\n",
       "      <td>2</td>\n",
       "      <td>17</td>\n",
       "      <td>9</td>\n",
       "      <td>10</td>\n",
       "      <td>8.306651</td>\n",
       "      <td>5.29541</td>\n",
       "    </tr>\n",
       "    <tr>\n",
       "      <th>363</th>\n",
       "      <th>0</th>\n",
       "      <td>11</td>\n",
       "      <td>30</td>\n",
       "      <td>18</td>\n",
       "      <td>16</td>\n",
       "      <td>4.887873</td>\n",
       "      <td>2.781876</td>\n",
       "    </tr>\n",
       "    <tr>\n",
       "      <th>368</th>\n",
       "      <th>0</th>\n",
       "      <td>3</td>\n",
       "      <td>10</td>\n",
       "      <td>6</td>\n",
       "      <td>7</td>\n",
       "      <td>3.370542</td>\n",
       "      <td>2.879066</td>\n",
       "    </tr>\n",
       "    <tr>\n",
       "      <th>374</th>\n",
       "      <th>0</th>\n",
       "      <td>2</td>\n",
       "      <td>16</td>\n",
       "      <td>9</td>\n",
       "      <td>10</td>\n",
       "      <td>12.799865</td>\n",
       "      <td>6.790906</td>\n",
       "    </tr>\n",
       "    <tr>\n",
       "      <th>376</th>\n",
       "      <th>0</th>\n",
       "      <td>2</td>\n",
       "      <td>9</td>\n",
       "      <td>4</td>\n",
       "      <td>2</td>\n",
       "      <td>3.905575</td>\n",
       "      <td>2.900824</td>\n",
       "    </tr>\n",
       "  </tbody>\n",
       "</table>\n",
       "<p>574 rows × 6 columns</p>\n",
       "</div>"
      ],
      "text/plain": [
       "                     start end com peak    fr_peak   fr_mean\n",
       "         field_index                                        \n",
       "0    31  0               2  13   7   10    7.06924  5.433991\n",
       "         1              66  81  73   75   9.166158  6.626543\n",
       "     32  1              43  48  45   45   5.351963  4.199355\n",
       "     33  0              79  86  82   82   6.677062   5.30254\n",
       "     34  0              48  54  50   51   3.398153   3.22187\n",
       "...                    ...  ..  ..  ...        ...       ...\n",
       "both 361 0               2  17   9   10   8.306651   5.29541\n",
       "     363 0              11  30  18   16   4.887873  2.781876\n",
       "     368 0               3  10   6    7   3.370542  2.879066\n",
       "     374 0               2  16   9   10  12.799865  6.790906\n",
       "     376 0               2   9   4    2   3.905575  2.900824\n",
       "\n",
       "[574 rows x 6 columns]"
      ]
     },
     "execution_count": 11,
     "metadata": {},
     "output_type": "execute_result"
    }
   ],
   "source": [
    "old_res['pf_all_field_combined']"
   ]
  },
  {
   "cell_type": "code",
   "execution_count": 12,
   "id": "e8e6652a",
   "metadata": {},
   "outputs": [],
   "source": [
    "old_all_sw=old_res['all_sw_info']\n",
    "old_all_sw.query('switch==1')\n",
    "old_all_field=old_res['pf_all_field_combined']"
   ]
  },
  {
   "cell_type": "code",
   "execution_count": 13,
   "id": "ed8f0d58",
   "metadata": {},
   "outputs": [],
   "source": [
    "import switch_metrics as sm"
   ]
  },
  {
   "cell_type": "code",
   "execution_count": 14,
   "id": "3f8888a0",
   "metadata": {},
   "outputs": [
    {
     "data": {
      "text/plain": [
       "({1: array([27, 31, 27, 29, 35, 37, 53, 43]),\n",
       "  -1: array([21, 25, 28, 23, 24, 18, 34, 23])},\n",
       " array([39, 46, 83, 62, 86, 87, 92, 79]),\n",
       " {1: array([0.69230769, 0.67391304, 0.3253012 , 0.46774194, 0.40697674,\n",
       "         0.42528736, 0.57608696, 0.5443038 ]),\n",
       "  -1: array([0.53846154, 0.54347826, 0.3373494 , 0.37096774, 0.27906977,\n",
       "         0.20689655, 0.36956522, 0.29113924])},\n",
       " array([  0. ,   6.8,  20. ,  33.6,  42. ,  50.5,  67. ,  84. , 100. ]),\n",
       " <Figure size 1440x432 with 4 Axes>,\n",
       " array([<AxesSubplot:title={'center':'1'}, ylabel='num. switch / num. place fields'>,\n",
       "        <AxesSubplot:title={'center':'-1'}, ylabel='num. switch / num. place fields'>],\n",
       "       dtype=object))"
      ]
     },
     "execution_count": 14,
     "metadata": {},
     "output_type": "execute_result"
    },
    {
     "data": {
      "image/png": "[encoded data removed]",
      "text/plain": [
       "<Figure size 1440x432 with 4 Axes>"
      ]
     },
     "metadata": {
      "needs_background": "light"
     },
     "output_type": "display_data"
    }
   ],
   "source": [
    "%matplotlib inline\n",
    "sm.plot_switch_field_ratio(old_all_sw,old_all_field,doplot=True)"
   ]
  },
  {
   "cell_type": "code",
   "execution_count": 15,
   "id": "3016d0ca",
   "metadata": {
    "scrolled": false
   },
   "outputs": [
    {
     "data": {
      "text/plain": [
       "({1: array([10, 17, 15, 15, 20, 20, 17, 25]),\n",
       "  -1: array([ 7,  7,  5, 11, 12,  6,  7, 12])},\n",
       " array([ 52,  42,  86,  62,  85,  86,  96, 173]),\n",
       " {1: array([0.19230769, 0.4047619 , 0.1744186 , 0.24193548, 0.23529412,\n",
       "         0.23255814, 0.17708333, 0.14450867]),\n",
       "  -1: array([0.13461538, 0.16666667, 0.05813953, 0.17741935, 0.14117647,\n",
       "         0.06976744, 0.07291667, 0.06936416])},\n",
       " array([  0. ,   6.8,  20. ,  33.6,  42. ,  50.5,  67. ,  84. , 100. ]),\n",
       " <Figure size 1440x432 with 4 Axes>,\n",
       " array([<AxesSubplot:title={'center':'1'}, ylabel='num. switch / num. place fields'>,\n",
       "        <AxesSubplot:title={'center':'-1'}, ylabel='num. switch / num. place fields'>],\n",
       "       dtype=object))"
      ]
     },
     "execution_count": 15,
     "metadata": {},
     "output_type": "execute_result"
    },
    {
     "data": {
      "image/png": "[encoded data removed]",
      "text/plain": [
       "<Figure size 1440x432 with 4 Axes>"
      ]
     },
     "metadata": {
      "needs_background": "light"
     },
     "output_type": "display_data"
    }
   ],
   "source": [
    "new_all_sw=sw_info_res['all_sw_d'].loc[0]\n",
    "new_all_field=all_fields_recombined.loc[0]\n",
    "sm.plot_switch_field_ratio(new_all_sw,new_all_field,doplot=True)"
   ]
  },
  {
   "cell_type": "code",
   "execution_count": 16,
   "id": "2201861b",
   "metadata": {},
   "outputs": [
    {
     "name": "stdout",
     "output_type": "stream",
     "text": [
      "cant format into a dataframe\n",
      "cant format into a dataframe\n"
     ]
    }
   ],
   "source": [
    "reload(fmos)\n",
    "fr_map_res_no_filter=fmos.main(data_dir_full,force_reload=True,dosave=False,analysis_kwargs={'speed_key':'speed_gauss','speed_thresh':-1})\n",
    "\n",
    "fr_map_trial_df_no_filter=fr_map_res_no_filter['fr_map_trial_df'].loc[0]"
   ]
  },
  {
   "cell_type": "code",
   "execution_count": 17,
   "id": "6a57331c",
   "metadata": {},
   "outputs": [],
   "source": [
    "old_all_sw_setind=old_all_sw.set_index(['trialtype','uid','field_index'])\n",
    "new_all_sw_setind=new_all_sw.set_index(['trialtype','uid','field_index'])\n",
    "# ind_diff=old_all_sw_setind.index.difference(new_all_sw_setind.index)\n",
    "ind_diff=old_all_sw_setind.query('field_pos<=8').index.difference(new_all_sw_setind.index)"
   ]
  },
  {
   "cell_type": "code",
   "execution_count": 96,
   "id": "8b65fb60",
   "metadata": {},
   "outputs": [
    {
     "name": "stderr",
     "output_type": "stream",
     "text": [
      "/tmp/ipykernel_1514560/2039956365.py:16: PerformanceWarning: indexing past lexsort depth may impact performance.\n",
      "  old_all_sw_setind.loc[ind_one]\n"
     ]
    },
    {
     "data": {
      "text/html": [
       "<div>\n",
       "<style scoped>\n",
       "    .dataframe tbody tr th:only-of-type {\n",
       "        vertical-align: middle;\n",
       "    }\n",
       "\n",
       "    .dataframe tbody tr th {\n",
       "        vertical-align: top;\n",
       "    }\n",
       "\n",
       "    .dataframe thead th {\n",
       "        text-align: right;\n",
       "    }\n",
       "</style>\n",
       "<table border=\"1\" class=\"dataframe\">\n",
       "  <thead>\n",
       "    <tr style=\"text-align: right;\">\n",
       "      <th></th>\n",
       "      <th></th>\n",
       "      <th></th>\n",
       "      <th>time</th>\n",
       "      <th>v</th>\n",
       "      <th>field_pos</th>\n",
       "      <th>trial_index</th>\n",
       "      <th>switch</th>\n",
       "      <th>index_within</th>\n",
       "      <th>switch_trial</th>\n",
       "      <th>switch_trial_frac</th>\n",
       "      <th>pre_mean_fr_1</th>\n",
       "      <th>pre_mean_fr_2</th>\n",
       "      <th>...</th>\n",
       "      <th>post_ntrial_le_10_perc_frac_total</th>\n",
       "      <th>post_ntrial_le_30_perc_frac_total</th>\n",
       "      <th>post_ntrial_le_50_perc_frac_total</th>\n",
       "      <th>post_ntrial_le_70_perc_frac_total</th>\n",
       "      <th>post_ntrial_le_90_perc_frac_total</th>\n",
       "      <th>post_ntrial_ge_10_perc_frac_total</th>\n",
       "      <th>post_ntrial_ge_30_perc_frac_total</th>\n",
       "      <th>post_ntrial_ge_50_perc_frac_total</th>\n",
       "      <th>post_ntrial_ge_70_perc_frac_total</th>\n",
       "      <th>post_ntrial_ge_90_perc_frac_total</th>\n",
       "    </tr>\n",
       "    <tr>\n",
       "      <th>trialtype</th>\n",
       "      <th>uid</th>\n",
       "      <th>field_index</th>\n",
       "      <th></th>\n",
       "      <th></th>\n",
       "      <th></th>\n",
       "      <th></th>\n",
       "      <th></th>\n",
       "      <th></th>\n",
       "      <th></th>\n",
       "      <th></th>\n",
       "      <th></th>\n",
       "      <th></th>\n",
       "      <th></th>\n",
       "      <th></th>\n",
       "      <th></th>\n",
       "      <th></th>\n",
       "      <th></th>\n",
       "      <th></th>\n",
       "      <th></th>\n",
       "      <th></th>\n",
       "      <th></th>\n",
       "      <th></th>\n",
       "      <th></th>\n",
       "    </tr>\n",
       "  </thead>\n",
       "  <tbody>\n",
       "    <tr>\n",
       "      <th rowspan=\"3\" valign=\"top\">0</th>\n",
       "      <th rowspan=\"3\" valign=\"top\">161</th>\n",
       "      <th>0</th>\n",
       "      <td>6767.689983</td>\n",
       "      <td>0.319029</td>\n",
       "      <td>2.0</td>\n",
       "      <td>4</td>\n",
       "      <td>1.0</td>\n",
       "      <td>2</td>\n",
       "      <td>2.0</td>\n",
       "      <td>0.10</td>\n",
       "      <td>0.000000</td>\n",
       "      <td>0.242556</td>\n",
       "      <td>...</td>\n",
       "      <td>0.3</td>\n",
       "      <td>0.50</td>\n",
       "      <td>0.7</td>\n",
       "      <td>0.75</td>\n",
       "      <td>0.75</td>\n",
       "      <td>0.50</td>\n",
       "      <td>0.3</td>\n",
       "      <td>0.10</td>\n",
       "      <td>0.05</td>\n",
       "      <td>0.05</td>\n",
       "    </tr>\n",
       "    <tr>\n",
       "      <th>0</th>\n",
       "      <td>7480.520800</td>\n",
       "      <td>0.373688</td>\n",
       "      <td>2.0</td>\n",
       "      <td>17</td>\n",
       "      <td>-1.0</td>\n",
       "      <td>8</td>\n",
       "      <td>8.0</td>\n",
       "      <td>0.40</td>\n",
       "      <td>5.711851</td>\n",
       "      <td>4.249219</td>\n",
       "      <td>...</td>\n",
       "      <td>0.0</td>\n",
       "      <td>0.05</td>\n",
       "      <td>0.1</td>\n",
       "      <td>0.15</td>\n",
       "      <td>0.15</td>\n",
       "      <td>0.15</td>\n",
       "      <td>0.1</td>\n",
       "      <td>0.05</td>\n",
       "      <td>0.00</td>\n",
       "      <td>0.00</td>\n",
       "    </tr>\n",
       "    <tr>\n",
       "      <th>0</th>\n",
       "      <td>8173.079833</td>\n",
       "      <td>0.467564</td>\n",
       "      <td>2.0</td>\n",
       "      <td>29</td>\n",
       "      <td>1.0</td>\n",
       "      <td>17</td>\n",
       "      <td>17.0</td>\n",
       "      <td>0.85</td>\n",
       "      <td>0.002050</td>\n",
       "      <td>0.766410</td>\n",
       "      <td>...</td>\n",
       "      <td>0.0</td>\n",
       "      <td>0.00</td>\n",
       "      <td>0.0</td>\n",
       "      <td>0.00</td>\n",
       "      <td>0.00</td>\n",
       "      <td>0.00</td>\n",
       "      <td>0.0</td>\n",
       "      <td>0.00</td>\n",
       "      <td>0.00</td>\n",
       "      <td>0.00</td>\n",
       "    </tr>\n",
       "  </tbody>\n",
       "</table>\n",
       "<p>3 rows × 84 columns</p>\n",
       "</div>"
      ],
      "text/plain": [
       "                                  time         v  field_pos  trial_index  \\\n",
       "trialtype uid field_index                                                  \n",
       "0         161 0            6767.689983  0.319029        2.0            4   \n",
       "              0            7480.520800  0.373688        2.0           17   \n",
       "              0            8173.079833  0.467564        2.0           29   \n",
       "\n",
       "                           switch  index_within  switch_trial  \\\n",
       "trialtype uid field_index                                       \n",
       "0         161 0               1.0             2           2.0   \n",
       "              0              -1.0             8           8.0   \n",
       "              0               1.0            17          17.0   \n",
       "\n",
       "                           switch_trial_frac  pre_mean_fr_1  pre_mean_fr_2  \\\n",
       "trialtype uid field_index                                                    \n",
       "0         161 0                         0.10       0.000000       0.242556   \n",
       "              0                         0.40       5.711851       4.249219   \n",
       "              0                         0.85       0.002050       0.766410   \n",
       "\n",
       "                           ...  post_ntrial_le_10_perc_frac_total  \\\n",
       "trialtype uid field_index  ...                                      \n",
       "0         161 0            ...                                0.3   \n",
       "              0            ...                                0.0   \n",
       "              0            ...                                0.0   \n",
       "\n",
       "                           post_ntrial_le_30_perc_frac_total  \\\n",
       "trialtype uid field_index                                      \n",
       "0         161 0                                         0.50   \n",
       "              0                                         0.05   \n",
       "              0                                         0.00   \n",
       "\n",
       "                           post_ntrial_le_50_perc_frac_total  \\\n",
       "trialtype uid field_index                                      \n",
       "0         161 0                                          0.7   \n",
       "              0                                          0.1   \n",
       "              0                                          0.0   \n",
       "\n",
       "                           post_ntrial_le_70_perc_frac_total  \\\n",
       "trialtype uid field_index                                      \n",
       "0         161 0                                         0.75   \n",
       "              0                                         0.15   \n",
       "              0                                         0.00   \n",
       "\n",
       "                           post_ntrial_le_90_perc_frac_total  \\\n",
       "trialtype uid field_index                                      \n",
       "0         161 0                                         0.75   \n",
       "              0                                         0.15   \n",
       "              0                                         0.00   \n",
       "\n",
       "                           post_ntrial_ge_10_perc_frac_total  \\\n",
       "trialtype uid field_index                                      \n",
       "0         161 0                                         0.50   \n",
       "              0                                         0.15   \n",
       "              0                                         0.00   \n",
       "\n",
       "                           post_ntrial_ge_30_perc_frac_total  \\\n",
       "trialtype uid field_index                                      \n",
       "0         161 0                                          0.3   \n",
       "              0                                          0.1   \n",
       "              0                                          0.0   \n",
       "\n",
       "                           post_ntrial_ge_50_perc_frac_total  \\\n",
       "trialtype uid field_index                                      \n",
       "0         161 0                                         0.10   \n",
       "              0                                         0.05   \n",
       "              0                                         0.00   \n",
       "\n",
       "                           post_ntrial_ge_70_perc_frac_total  \\\n",
       "trialtype uid field_index                                      \n",
       "0         161 0                                         0.05   \n",
       "              0                                         0.00   \n",
       "              0                                         0.00   \n",
       "\n",
       "                           post_ntrial_ge_90_perc_frac_total  \n",
       "trialtype uid field_index                                     \n",
       "0         161 0                                         0.05  \n",
       "              0                                         0.00  \n",
       "              0                                         0.00  \n",
       "\n",
       "[3 rows x 84 columns]"
      ]
     },
     "execution_count": 96,
     "metadata": {},
     "output_type": "execute_result"
    },
    {
     "data": {
      "image/png": "[encoded data removed]",
      "text/plain": [
       "<Figure size 432x288 with 4 Axes>"
      ]
     },
     "metadata": {
      "needs_background": "light"
     },
     "output_type": "display_data"
    }
   ],
   "source": [
    "fr_map_trial_df=fr_map_trial_df_all.loc[ani,sess,0]\n",
    "\n",
    "ind_one = ind_diff[3]\n",
    "if ind_one[0]=='both':\n",
    "    tt = 0\n",
    "else:\n",
    "    tt = ind_one[0]\n",
    "fig,axs=plt.subplots(1,2)\n",
    "ax=axs[0]\n",
    "sns.heatmap(data=fr_map_trial_df.loc[tt,ind_one[1]].T,ax=ax)\n",
    "\n",
    "\n",
    "ax=axs[1]\n",
    "sns.heatmap(data=fr_map_trial_df_no_filter.loc[tt,ind_one[1]].T,ax=ax)\n",
    "# print(all_fields_recombined.loc[0].loc[ind_one])\n",
    "old_all_sw_setind.loc[ind_one]"
   ]
  },
  {
   "cell_type": "code",
   "execution_count": 97,
   "id": "180a81df",
   "metadata": {
    "scrolled": true
   },
   "outputs": [
    {
     "data": {
      "text/html": [
       "<div>\n",
       "<style scoped>\n",
       "    .dataframe tbody tr th:only-of-type {\n",
       "        vertical-align: middle;\n",
       "    }\n",
       "\n",
       "    .dataframe tbody tr th {\n",
       "        vertical-align: top;\n",
       "    }\n",
       "\n",
       "    .dataframe thead tr th {\n",
       "        text-align: left;\n",
       "    }\n",
       "</style>\n",
       "<table border=\"1\" class=\"dataframe\">\n",
       "  <thead>\n",
       "    <tr>\n",
       "      <th></th>\n",
       "      <th colspan=\"5\" halign=\"left\">1</th>\n",
       "      <th colspan=\"5\" halign=\"left\">2</th>\n",
       "      <th>...</th>\n",
       "      <th colspan=\"5\" halign=\"left\">4</th>\n",
       "      <th colspan=\"5\" halign=\"left\">5</th>\n",
       "    </tr>\n",
       "    <tr>\n",
       "      <th></th>\n",
       "      <th>pval</th>\n",
       "      <th>exp_var_ratio</th>\n",
       "      <th>exp_var_ratio_sh_med</th>\n",
       "      <th>exp_var_ratio_sh_high</th>\n",
       "      <th>exp_var_ratio_sh_low</th>\n",
       "      <th>pval</th>\n",
       "      <th>exp_var_ratio</th>\n",
       "      <th>exp_var_ratio_sh_med</th>\n",
       "      <th>exp_var_ratio_sh_high</th>\n",
       "      <th>exp_var_ratio_sh_low</th>\n",
       "      <th>...</th>\n",
       "      <th>pval</th>\n",
       "      <th>exp_var_ratio</th>\n",
       "      <th>exp_var_ratio_sh_med</th>\n",
       "      <th>exp_var_ratio_sh_high</th>\n",
       "      <th>exp_var_ratio_sh_low</th>\n",
       "      <th>pval</th>\n",
       "      <th>exp_var_ratio</th>\n",
       "      <th>exp_var_ratio_sh_med</th>\n",
       "      <th>exp_var_ratio_sh_high</th>\n",
       "      <th>exp_var_ratio_sh_low</th>\n",
       "    </tr>\n",
       "  </thead>\n",
       "  <tbody>\n",
       "    <tr>\n",
       "      <th>0</th>\n",
       "      <td>0.530</td>\n",
       "      <td>0.147170</td>\n",
       "      <td>0.151851</td>\n",
       "      <td>0.393358</td>\n",
       "      <td>0.047688</td>\n",
       "      <td>0.453</td>\n",
       "      <td>0.312850</td>\n",
       "      <td>0.303485</td>\n",
       "      <td>0.577923</td>\n",
       "      <td>0.144788</td>\n",
       "      <td>...</td>\n",
       "      <td>0.436</td>\n",
       "      <td>0.518279</td>\n",
       "      <td>0.499037</td>\n",
       "      <td>0.747155</td>\n",
       "      <td>0.256837</td>\n",
       "      <td>0.449</td>\n",
       "      <td>0.569374</td>\n",
       "      <td>0.554552</td>\n",
       "      <td>0.790695</td>\n",
       "      <td>0.295031</td>\n",
       "    </tr>\n",
       "    <tr>\n",
       "      <th>1</th>\n",
       "      <td>0.112</td>\n",
       "      <td>0.299915</td>\n",
       "      <td>0.142554</td>\n",
       "      <td>0.467095</td>\n",
       "      <td>0.051990</td>\n",
       "      <td>0.099</td>\n",
       "      <td>0.673975</td>\n",
       "      <td>0.343498</td>\n",
       "      <td>0.720352</td>\n",
       "      <td>0.192237</td>\n",
       "      <td>...</td>\n",
       "      <td>0.020</td>\n",
       "      <td>0.814125</td>\n",
       "      <td>0.493118</td>\n",
       "      <td>0.808751</td>\n",
       "      <td>0.293063</td>\n",
       "      <td>0.023</td>\n",
       "      <td>0.832372</td>\n",
       "      <td>0.520346</td>\n",
       "      <td>0.831043</td>\n",
       "      <td>0.324622</td>\n",
       "    </tr>\n",
       "  </tbody>\n",
       "</table>\n",
       "<p>2 rows × 25 columns</p>\n",
       "</div>"
      ],
      "text/plain": [
       "       1                                                           \\\n",
       "    pval exp_var_ratio exp_var_ratio_sh_med exp_var_ratio_sh_high   \n",
       "0  0.530      0.147170             0.151851              0.393358   \n",
       "1  0.112      0.299915             0.142554              0.467095   \n",
       "\n",
       "                            2                                     \\\n",
       "  exp_var_ratio_sh_low   pval exp_var_ratio exp_var_ratio_sh_med   \n",
       "0             0.047688  0.453      0.312850             0.303485   \n",
       "1             0.051990  0.099      0.673975             0.343498   \n",
       "\n",
       "                                              ...      4                \\\n",
       "  exp_var_ratio_sh_high exp_var_ratio_sh_low  ...   pval exp_var_ratio   \n",
       "0              0.577923             0.144788  ...  0.436      0.518279   \n",
       "1              0.720352             0.192237  ...  0.020      0.814125   \n",
       "\n",
       "                                                                       5  \\\n",
       "  exp_var_ratio_sh_med exp_var_ratio_sh_high exp_var_ratio_sh_low   pval   \n",
       "0             0.499037              0.747155             0.256837  0.449   \n",
       "1             0.493118              0.808751             0.293063  0.023   \n",
       "\n",
       "                                                            \\\n",
       "  exp_var_ratio exp_var_ratio_sh_med exp_var_ratio_sh_high   \n",
       "0      0.569374             0.554552              0.790695   \n",
       "1      0.832372             0.520346              0.831043   \n",
       "\n",
       "                        \n",
       "  exp_var_ratio_sh_low  \n",
       "0             0.295031  \n",
       "1             0.324622  \n",
       "\n",
       "[2 rows x 25 columns]"
      ]
     },
     "execution_count": 97,
     "metadata": {},
     "output_type": "execute_result"
    }
   ],
   "source": [
    "pval.loc[0,ind_one[0]].loc[ind_one[1]]\n",
    "# pval.loc[0,0].loc[ind_one[1]]"
   ]
  },
  {
   "cell_type": "code",
   "execution_count": 98,
   "id": "092c4bdc",
   "metadata": {
    "scrolled": true
   },
   "outputs": [
    {
     "data": {
      "text/plain": [
       "<AxesSubplot:>"
      ]
     },
     "execution_count": 98,
     "metadata": {},
     "output_type": "execute_result"
    },
    {
     "data": {
      "image/png": "[encoded data removed]",
      "text/plain": [
       "<Figure size 432x288 with 1 Axes>"
      ]
     },
     "metadata": {
      "needs_background": "light"
     },
     "output_type": "display_data"
    }
   ],
   "source": [
    "uid = ind_one[1]\n",
    "# ind_one = ('both',uid,0)\n",
    "pf_params_recombined.loc['fr_peak'].loc[0].loc[ind_one].dropna().plot()\n",
    "pf_params_recombined.loc['fr_mean'].loc[0].loc[ind_one].dropna().plot()"
   ]
  },
  {
   "cell_type": "code",
   "execution_count": null,
   "id": "3c838e28",
   "metadata": {},
   "outputs": [],
   "source": [
    "fr_map_all['fr_map'].loc[0,tt].loc[ind_one[1]].plot(marker='o')\n",
    "fr_map_null_new[0,tt].loc[(slice(None),ind_one[1]),:].quantile(0.99).plot()\n",
    "fr_map_null_old[0,tt].loc[(slice(None),ind_one[1]),:].quantile(0.99).plot()\n"
   ]
  },
  {
   "cell_type": "code",
   "execution_count": null,
   "id": "1ed024e1",
   "metadata": {},
   "outputs": [],
   "source": []
  },
  {
   "cell_type": "code",
   "execution_count": null,
   "id": "fed1f8c6",
   "metadata": {},
   "outputs": [],
   "source": [
    "field_params_trial_avgmap_d, all_fields_d, sig_thresh_map_d = pf.field_detection_from_avg(fr_map_d,fr_map_trial_d,fr_map_null)\n",
    "\n",
    "\n"
   ]
  },
  {
   "cell_type": "code",
   "execution_count": null,
   "id": "593b85a2",
   "metadata": {},
   "outputs": [],
   "source": [
    "spk_beh_df.query('directed_locomotion').groupby('lin_binned')[176].mean().plot()"
   ]
  },
  {
   "cell_type": "code",
   "execution_count": null,
   "id": "6da2e2bd",
   "metadata": {},
   "outputs": [],
   "source": [
    "pd.DataFrame([spk_beh_df.query('directed_locomotion')['lin_binned'],\n",
    "spk_beh_df.query('directed_locomotion')[176].shift(4500)]).T.groupby('lin_binned')[176].mean().plot()"
   ]
  },
  {
   "cell_type": "code",
   "execution_count": null,
   "id": "d1343bd0",
   "metadata": {},
   "outputs": [],
   "source": [
    "shuffle_res_test=pf.get_fr_map_shuffle_wrapper(data_dir_full,nrepeats=100, dosave=False,force_reload=True,bin_size=2.2,nbins = 100, save_fn='test.p',speed_thresh=0.5,speed_key='directed_locomotion')\n",
    "\n",
    "\n"
   ]
  },
  {
   "cell_type": "code",
   "execution_count": null,
   "id": "fbfdede4",
   "metadata": {},
   "outputs": [],
   "source": [
    "shuffle_res_test[0,0].loc[(slice(None),176),:].quantile(0.99).plot()"
   ]
  },
  {
   "cell_type": "code",
   "execution_count": null,
   "id": "9e42c262",
   "metadata": {},
   "outputs": [],
   "source": []
  },
  {
   "cell_type": "code",
   "execution_count": null,
   "id": "498cb5c8",
   "metadata": {
    "scrolled": true
   },
   "outputs": [],
   "source": [
    "fr_map_null_old"
   ]
  },
  {
   "cell_type": "code",
   "execution_count": null,
   "id": "19e5dbf0",
   "metadata": {},
   "outputs": [],
   "source": [
    "old_res['all_sw_d']"
   ]
  },
  {
   "cell_type": "code",
   "execution_count": 28,
   "id": "04f855fd",
   "metadata": {},
   "outputs": [],
   "source": [
    "xx=X_raw.loc[0].loc[ind_one].dropna().values"
   ]
  },
  {
   "cell_type": "code",
   "execution_count": 66,
   "id": "0bfbdacf",
   "metadata": {},
   "outputs": [],
   "source": [
    "nrepeats = 1000\n",
    "xx_sqrt = np.sqrt(xx)\n",
    "xx_shuffle_sqrt = xx_sqrt.mean() + np.random.normal(size=(nrepeats,xx.shape[0])) *xx_sqrt.std()\n",
    "xx_shuffle = xx_shuffle_sqrt ** 2\n",
    "# xx_shuffle = xx.mean() + np.random.normal(size=(nrepeats,xx.shape[0])) * xx.std()"
   ]
  },
  {
   "cell_type": "code",
   "execution_count": 72,
   "id": "ce12e1a4",
   "metadata": {},
   "outputs": [
    {
     "data": {
      "text/plain": [
       "array([2.01096047, 1.92824083, 2.01010529, 1.9275434 , 1.94903495,\n",
       "       1.77517238, 2.03183166, 1.93959524, 1.83823638, 1.97977656,\n",
       "       1.96567994, 2.00914141])"
      ]
     },
     "execution_count": 72,
     "metadata": {},
     "output_type": "execute_result"
    }
   ],
   "source": [
    "xx_shuffle.std(axis=0)"
   ]
  },
  {
   "cell_type": "code",
   "execution_count": 81,
   "id": "87475829",
   "metadata": {},
   "outputs": [
    {
     "data": {
      "text/plain": [
       "[<matplotlib.lines.Line2D at 0x155485592160>]"
      ]
     },
     "execution_count": 81,
     "metadata": {},
     "output_type": "execute_result"
    },
    {
     "data": {
      "image/png": "[encoded data removed]",
      "text/plain": [
       "<Figure size 432x288 with 1 Axes>"
      ]
     },
     "metadata": {
      "needs_background": "light"
     },
     "output_type": "display_data"
    }
   ],
   "source": [
    "plt.plot(xx_shuffle[7])"
   ]
  },
  {
   "cell_type": "code",
   "execution_count": 60,
   "id": "22b0c7ff",
   "metadata": {
    "scrolled": true
   },
   "outputs": [
    {
     "data": {
      "text/plain": [
       "array([2.65018749e+00, 1.49877196e+00, 3.53680708e-01, 3.98442239e-01,\n",
       "       3.52278183e-01, 6.76256374e-01, 3.55320287e-03, 3.20652360e+00,\n",
       "       4.96106437e+00, 1.31669857e+00, 3.32770071e+00, 6.30454231e+00])"
      ]
     },
     "execution_count": 60,
     "metadata": {},
     "output_type": "execute_result"
    }
   ],
   "source": [
    "xx"
   ]
  },
  {
   "cell_type": "code",
   "execution_count": 84,
   "id": "3cda2668",
   "metadata": {},
   "outputs": [],
   "source": [
    "import test_change_point as tcp\n",
    "reload(tcp)\n",
    "cp_test_res_one=tcp.test_contiguity(xx,n_shuffle=200,sig_thresh=0.05,n_change_pts=1,min_size=2,signal_shuffle=xx_shuffle)\n",
    "# cp_test_res_one=tcp.test_contiguity(xx,n_shuffle=1000,sig_thresh=0.05,n_change_pts=1,min_size=2,signal_shuffle=None)"
   ]
  },
  {
   "cell_type": "code",
   "execution_count": 85,
   "id": "c96d1f33",
   "metadata": {},
   "outputs": [
    {
     "data": {
      "text/plain": [
       "pval                     0.318000\n",
       "exp_var_ratio            0.570213\n",
       "exp_var_ratio_sh_med     0.213311\n",
       "exp_var_ratio_sh_high    0.621939\n",
       "exp_var_ratio_sh_low     0.065961\n",
       "dtype: float64"
      ]
     },
     "execution_count": 85,
     "metadata": {},
     "output_type": "execute_result"
    }
   ],
   "source": [
    "cp_test_res_one"
   ]
  },
  {
   "cell_type": "code",
   "execution_count": null,
   "id": "4c3f44d8",
   "metadata": {},
   "outputs": [],
   "source": []
  }
 ],
 "metadata": {
  "kernelspec": {
   "display_name": "jax",
   "language": "python",
   "name": "jax"
  },
  "language_info": {
   "codemirror_mode": {
    "name": "ipython",
    "version": 3
   },
   "file_extension": ".py",
   "mimetype": "text/x-python",
   "name": "python",
   "nbconvert_exporter": "python",
   "pygments_lexer": "ipython3",
   "version": "3.9.16"
  }
 },
 "nbformat": 4,
 "nbformat_minor": 5
}
