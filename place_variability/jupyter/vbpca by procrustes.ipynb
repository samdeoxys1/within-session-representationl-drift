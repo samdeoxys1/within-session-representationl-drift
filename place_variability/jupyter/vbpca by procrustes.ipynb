{
 "cells": [
  {
   "cell_type": "code",
   "execution_count": 1,
   "id": "a8ccca31",
   "metadata": {},
   "outputs": [],
   "source": [
    "import numpy as np\n",
    "import scipy\n",
    "import sklearn\n",
    "from sklearn.decomposition import PCA\n",
    "from scipy.ndimage import gaussian_filter1d\n",
    "import matplotlib.pyplot as plt"
   ]
  },
  {
   "cell_type": "code",
   "execution_count": 2,
   "id": "5d665f68",
   "metadata": {},
   "outputs": [],
   "source": [
    "import jax\n",
    "import torch"
   ]
  },
  {
   "cell_type": "code",
   "execution_count": 140,
   "id": "9d4e3dd5",
   "metadata": {},
   "outputs": [],
   "source": [
    "import sys\n",
    "sys.path.append('/mnt/home/szheng/projects/nmf_analysis/')\n",
    "sys.path.append('/mnt/home/szheng/projects/util_code/')\n",
    "sys.path.append('/mnt/home/szheng/projects/place_variability/code/')\n",
    "import pca_analysis as pcaa"
   ]
  },
  {
   "cell_type": "code",
   "execution_count": 2,
   "id": "5836da23",
   "metadata": {},
   "outputs": [],
   "source": [
    "# create data\n",
    "n_neurons_base = 10\n",
    "n_neurons_repeat = 3\n",
    "sep = 5\n",
    "\n",
    "std = 5\n",
    "n_pos = n_neurons_base * (sep )\n",
    "mean_activity_base = np.zeros((n_neurons_base,n_pos))\n",
    "for n in range(n_neurons_base):\n",
    "    mean_activity_base[n,n*sep] = 1.\n",
    "mean_activity_base_smooth = gaussian_filter1d(mean_activity_base,std,axis=1)\n",
    "mean_activity_smooth = np.repeat(mean_activity_base_smooth,n_neurons_repeat,axis=0)"
   ]
  },
  {
   "cell_type": "code",
   "execution_count": 5,
   "id": "657ea2e1",
   "metadata": {},
   "outputs": [
    {
     "data": {
      "text/plain": [
       "<matplotlib.image.AxesImage at 0x1554fb5f7820>"
      ]
     },
     "execution_count": 5,
     "metadata": {},
     "output_type": "execute_result"
    },
    {
     "data": {
      "image/png": "[encoded data removed]",
      "text/plain": [
       "<Figure size 432x288 with 1 Axes>"
      ]
     },
     "metadata": {
      "needs_background": "light"
     },
     "output_type": "display_data"
    }
   ],
   "source": [
    "plt.imshow(mean_activity_smooth)"
   ]
  },
  {
   "cell_type": "code",
   "execution_count": 64,
   "id": "aaa81604",
   "metadata": {},
   "outputs": [],
   "source": [
    "def get_tangent(X):\n",
    "    X_diff = np.diff(X,axis=1)\n",
    "    X_norm = X[:,:-1] / np.linalg.norm(X[:,:-1],axis=0,keepdims=True) # careful axis=0\n",
    "    X_diff_proj_x = np.einsum('nt,nt->t',X_diff,X_norm)\n",
    "    X_diff_proj_x_vec = X_diff_proj_x * X_norm\n",
    "    tangent = X_diff - X_diff_proj_x_vec\n",
    "    tangent = tangent / np.linalg.norm(tangent,axis=0,keepdims=True)\n",
    "    # repeat last\n",
    "    tangent = np.concatenate([tangent,tangent[:,[-1]]],axis=1)\n",
    "    return tangent\n",
    "\n",
    "def select_out_plane(x_in,additional_orthogonal_vec=None,n=1):\n",
    "    n_neuron,n_cols = x_in.shape\n",
    "    ns_vec_all = []\n",
    "    for c in range(n_cols):\n",
    "        x_in_one = x_in[:,[c]]\n",
    "        if additional_orthogonal_vec is not None:\n",
    "            additiona_one= additional_orthogonal_vec[:,[c]]\n",
    "            x_in_one = np.concatenate([x_in_one,additiona_one],axis=1)\n",
    "#         x_in = np.concatenate([x_in,additional_orthogonal_vec],axis=1)\n",
    "        null_space = scipy.linalg.null_space(x_in_one.T,rcond=1e-25)\n",
    "        n_null = null_space.shape[1]\n",
    "        inds = np.random.choice(np.arange(n_null),n)\n",
    "        ns_vec = null_space[:,inds].T # n x n_neurons\n",
    "        ns_vec_all.append(ns_vec) \n",
    "    ns_vec_all = np.stack(ns_vec_all,axis=-1)\n",
    "        \n",
    "    return ns_vec_all # n x n_neurons x n_pos\n",
    "\n"
   ]
  },
  {
   "cell_type": "code",
   "execution_count": 29,
   "id": "7e9421fd",
   "metadata": {},
   "outputs": [
    {
     "data": {
      "text/plain": [
       "(30, 50)"
      ]
     },
     "execution_count": 29,
     "metadata": {},
     "output_type": "execute_result"
    }
   ],
   "source": [
    "mean_activity_smooth.shape"
   ]
  },
  {
   "cell_type": "code",
   "execution_count": 30,
   "id": "fea556f3",
   "metadata": {},
   "outputs": [
    {
     "data": {
      "text/plain": [
       "(30, 50)"
      ]
     },
     "execution_count": 30,
     "metadata": {},
     "output_type": "execute_result"
    }
   ],
   "source": [
    "tangent.shape"
   ]
  },
  {
   "cell_type": "markdown",
   "id": "7a68ec77",
   "metadata": {},
   "source": [
    "# get all directions"
   ]
  },
  {
   "cell_type": "code",
   "execution_count": 73,
   "id": "f46c4439",
   "metadata": {},
   "outputs": [],
   "source": [
    "n_ortho = 1\n",
    "tangent = get_tangent(mean_activity_smooth)\n",
    "tangent_direction = tangent[None,:,:]\n",
    "ns_vec_all = select_out_plane(mean_activity_smooth,additional_orthogonal_vec=tangent,n=n_ortho)\n",
    "mean_direction = mean_activity_smooth / np.linalg.norm(mean_activity_smooth,axis=0,keepdims=True)\n",
    "mean_direction = mean_direction[None,:,:]\n",
    "directions = np.concatenate([mean_direction,tangent_direction,ns_vec_all],axis=0)"
   ]
  },
  {
   "cell_type": "code",
   "execution_count": 75,
   "id": "9bbc21eb",
   "metadata": {},
   "outputs": [
    {
     "data": {
      "text/plain": [
       "(3, 30, 50)"
      ]
     },
     "execution_count": 75,
     "metadata": {},
     "output_type": "execute_result"
    }
   ],
   "source": [
    "directions.shape"
   ]
  },
  {
   "cell_type": "markdown",
   "id": "8b624a00",
   "metadata": {},
   "source": [
    "# combine to create trial to trial variability"
   ]
  },
  {
   "cell_type": "markdown",
   "id": "248550f3",
   "metadata": {},
   "source": [
    "### generate weights"
   ]
  },
  {
   "cell_type": "code",
   "execution_count": 176,
   "id": "19af67c8",
   "metadata": {},
   "outputs": [],
   "source": [
    "n_trials = 100\n",
    "noise_scale = 1\n",
    "n_directions = directions.shape[0]\n",
    "noise_amp_across_pos_trial = np.random.normal(size=(n_directions,n_pos,n_trials)) * noise_scale\n",
    "w_tangent = np.ones((1,n_pos)) * 1\n",
    "w_mean = np.ones((1,n_pos)) * 0\n",
    "w_ortho = np.ones((n_ortho,n_pos)) * 0\n",
    "w = np.concatenate([w_mean,w_tangent,w_ortho],axis=0) # n_directions x n_pos\n",
    "w = w / np.sum(w,axis=0,keepdims=True) * noise_scale"
   ]
  },
  {
   "cell_type": "markdown",
   "id": "9554164c",
   "metadata": {},
   "source": [
    "### combine weights and directions and signal mean"
   ]
  },
  {
   "cell_type": "code",
   "execution_count": 177,
   "id": "64876698",
   "metadata": {},
   "outputs": [],
   "source": [
    "noise_times_dir=np.einsum('dpt,dnp->dnpt',noise_amp_across_pos_trial,directions) # d-direction,p-position,t-trial,n-neuron\n",
    "final_noise=np.einsum('dp,dnpt->npt',w,noise_times_dir)"
   ]
  },
  {
   "cell_type": "code",
   "execution_count": 179,
   "id": "884f6f10",
   "metadata": {},
   "outputs": [],
   "source": [
    "X = mean_activity_smooth[:,:,None] + final_noise"
   ]
  },
  {
   "cell_type": "code",
   "execution_count": 160,
   "id": "0dc992cb",
   "metadata": {},
   "outputs": [],
   "source": [
    "from sklearn.decomposition import PCA"
   ]
  },
  {
   "cell_type": "code",
   "execution_count": 189,
   "id": "23bc621e",
   "metadata": {},
   "outputs": [],
   "source": [
    "pca=PCA(n_components=2)\n",
    "# X_mean = mean_activity_smooth\n",
    "X_mean = X.mean(axis=-1)\n",
    "loadings=pca.fit_transform(X_mean.T)"
   ]
  },
  {
   "cell_type": "code",
   "execution_count": 190,
   "id": "91e2e385",
   "metadata": {},
   "outputs": [
    {
     "data": {
      "text/plain": [
       "<matplotlib.collections.PathCollection at 0x1554e3852cd0>"
      ]
     },
     "execution_count": 190,
     "metadata": {},
     "output_type": "execute_result"
    },
    {
     "data": {
      "image/png": "[encoded data removed]",
      "text/plain": [
       "<Figure size 640x480 with 1 Axes>"
      ]
     },
     "metadata": {},
     "output_type": "display_data"
    }
   ],
   "source": [
    "plt.scatter(loadings[:,0],loadings[:,1])"
   ]
  },
  {
   "cell_type": "code",
   "execution_count": 191,
   "id": "c3293cb5",
   "metadata": {},
   "outputs": [],
   "source": [
    "X_flat=X.swapaxes(0,2).reshape(-1,X.shape[0]).T"
   ]
  },
  {
   "cell_type": "code",
   "execution_count": 192,
   "id": "0d6f2e84",
   "metadata": {},
   "outputs": [
    {
     "data": {
      "text/plain": [
       "<matplotlib.collections.PathCollection at 0x1554e383db20>"
      ]
     },
     "execution_count": 192,
     "metadata": {},
     "output_type": "execute_result"
    },
    {
     "data": {
      "image/png": "[encoded data removed]",
      "text/plain": [
       "<Figure size 640x480 with 1 Axes>"
      ]
     },
     "metadata": {},
     "output_type": "display_data"
    }
   ],
   "source": [
    "pca=PCA(n_components=2)\n",
    "loadings=pca.fit_transform(X_flat.T)\n",
    "plt.scatter(loadings[:,0],loadings[:,1])"
   ]
  },
  {
   "cell_type": "code",
   "execution_count": 167,
   "id": "01ec85a7",
   "metadata": {},
   "outputs": [
    {
     "data": {
      "text/plain": [
       "(100, 30, 50)"
      ]
     },
     "execution_count": 167,
     "metadata": {},
     "output_type": "execute_result"
    }
   ],
   "source": [
    "X_flat = X.swapaxes(1,2).swapaxes(0,1).shape\n",
    "X_flat = np.reshape()"
   ]
  },
  {
   "cell_type": "code",
   "execution_count": 136,
   "id": "3f9a82e4",
   "metadata": {
    "scrolled": true
   },
   "outputs": [
    {
     "data": {
      "text/plain": [
       "<matplotlib.image.AxesImage at 0x1554f40400d0>"
      ]
     },
     "execution_count": 136,
     "metadata": {},
     "output_type": "execute_result"
    },
    {
     "data": {
      "image/png": "[encoded data removed]",
      "text/plain": [
       "<Figure size 432x288 with 1 Axes>"
      ]
     },
     "metadata": {
      "needs_background": "light"
     },
     "output_type": "display_data"
    }
   ],
   "source": [
    "plt.imshow(X[:,:,0])"
   ]
  },
  {
   "cell_type": "code",
   "execution_count": 129,
   "id": "af7558c0",
   "metadata": {},
   "outputs": [
    {
     "data": {
      "text/plain": [
       "<matplotlib.image.AxesImage at 0x1554f42d7790>"
      ]
     },
     "execution_count": 129,
     "metadata": {},
     "output_type": "execute_result"
    },
    {
     "data": {
      "image/png": "[encoded data removed]",
      "text/plain": [
       "<Figure size 432x288 with 1 Axes>"
      ]
     },
     "metadata": {
      "needs_background": "light"
     },
     "output_type": "display_data"
    }
   ],
   "source": [
    "plt.imshow(X.mean(axis=-1))"
   ]
  },
  {
   "cell_type": "code",
   "execution_count": null,
   "id": "a4fb632c",
   "metadata": {},
   "outputs": [],
   "source": []
  },
  {
   "cell_type": "code",
   "execution_count": 93,
   "id": "738f4490",
   "metadata": {},
   "outputs": [
    {
     "data": {
      "text/plain": [
       "(30, 50, 10)"
      ]
     },
     "execution_count": 93,
     "metadata": {},
     "output_type": "execute_result"
    }
   ],
   "source": [
    "final_noise.shape"
   ]
  },
  {
   "cell_type": "code",
   "execution_count": 79,
   "id": "b42ae444",
   "metadata": {},
   "outputs": [
    {
     "data": {
      "text/plain": [
       "(3, 50)"
      ]
     },
     "execution_count": 79,
     "metadata": {},
     "output_type": "execute_result"
    }
   ],
   "source": [
    "w.shape"
   ]
  },
  {
   "cell_type": "code",
   "execution_count": 67,
   "id": "cc781d88",
   "metadata": {},
   "outputs": [
    {
     "data": {
      "text/plain": [
       "(1, 30, 50)"
      ]
     },
     "execution_count": 67,
     "metadata": {},
     "output_type": "execute_result"
    }
   ],
   "source": [
    "ns_vec_all.shape"
   ]
  },
  {
   "cell_type": "code",
   "execution_count": 62,
   "id": "d07fdcc9",
   "metadata": {},
   "outputs": [
    {
     "data": {
      "text/plain": [
       "(30, 1, 50)"
      ]
     },
     "execution_count": 62,
     "metadata": {},
     "output_type": "execute_result"
    }
   ],
   "source": [
    "ns_vec_all.shape"
   ]
  },
  {
   "cell_type": "code",
   "execution_count": 61,
   "id": "ec705cca",
   "metadata": {},
   "outputs": [
    {
     "data": {
      "text/plain": [
       "(30, 50)"
      ]
     },
     "execution_count": 61,
     "metadata": {},
     "output_type": "execute_result"
    }
   ],
   "source": [
    "tangent.shape"
   ]
  },
  {
   "cell_type": "code",
   "execution_count": null,
   "id": "9d63e2b6",
   "metadata": {},
   "outputs": [],
   "source": []
  },
  {
   "cell_type": "code",
   "execution_count": 53,
   "id": "c4b58dd4",
   "metadata": {},
   "outputs": [
    {
     "data": {
      "text/plain": [
       "array([1., 1., 1., 1., 1., 1., 1., 1., 1., 1., 1., 1., 1., 1., 1., 1., 1.,\n",
       "       1., 1., 1., 1., 1., 1., 1., 1., 1., 1., 1., 1., 1., 1., 1., 1., 1.,\n",
       "       1., 1., 1., 1., 1., 1., 1., 1., 1., 1., 1., 1., 1., 1., 1., 1.])"
      ]
     },
     "execution_count": 53,
     "metadata": {},
     "output_type": "execute_result"
    }
   ],
   "source": [
    "np.linalg.norm(mean_direction,axis=0)"
   ]
  },
  {
   "cell_type": "code",
   "execution_count": 49,
   "id": "559af5de",
   "metadata": {},
   "outputs": [
    {
     "data": {
      "text/plain": [
       "array([0.31415134, 0.30595336, 0.29088548, 0.27131839, 0.25015618,\n",
       "       0.23020777, 0.21358929, 0.20130918, 0.19324964, 0.18853024,\n",
       "       0.1860245 , 0.18483228, 0.18430481, 0.18409867, 0.1840339 ,\n",
       "       0.18401307, 0.18400016, 0.18398773, 0.18398726, 0.18399778,\n",
       "       0.18400433, 0.18399775, 0.18398711, 0.18398711, 0.18399775,\n",
       "       0.18400433, 0.18399775, 0.18398711, 0.18398711, 0.18399775,\n",
       "       0.18400432, 0.18399772, 0.18398699, 0.18398662, 0.183999  ,\n",
       "       0.18400823, 0.18400892, 0.18401646, 0.18405773, 0.18418726,\n",
       "       0.18439251, 0.18472594, 0.18523755, 0.18595303, 0.18683808,\n",
       "       0.18777033, 0.18861614, 0.18927161, 0.1896965 , 0.1898994 ])"
      ]
     },
     "execution_count": 49,
     "metadata": {},
     "output_type": "execute_result"
    }
   ],
   "source": [
    "np.linalg.norm(mean_activity_smooth,axis=0)"
   ]
  },
  {
   "cell_type": "code",
   "execution_count": 43,
   "id": "b39e73eb",
   "metadata": {},
   "outputs": [
    {
     "data": {
      "text/plain": [
       "array([-1.43878822e-04,  1.03596967e-03,  1.76601159e-04, -2.00819618e-04,\n",
       "       -2.00819618e-04, -2.00819618e-04, -4.23116878e-04, -4.23116878e-04,\n",
       "       -4.23116878e-04, -1.71438656e-04, -1.71438656e-04, -1.71438656e-04,\n",
       "       -2.16967496e-05, -2.16967496e-05, -2.16967496e-05, -9.36389999e-07,\n",
       "       -9.36389999e-07,  9.99999064e-01,  0.00000000e+00,  0.00000000e+00,\n",
       "        0.00000000e+00,  0.00000000e+00,  0.00000000e+00,  0.00000000e+00,\n",
       "        0.00000000e+00,  0.00000000e+00,  0.00000000e+00,  0.00000000e+00,\n",
       "        0.00000000e+00,  0.00000000e+00])"
      ]
     },
     "execution_count": 43,
     "metadata": {},
     "output_type": "execute_result"
    }
   ],
   "source": [
    "ns_vec_all[:,0,5]"
   ]
  },
  {
   "cell_type": "code",
   "execution_count": 179,
   "id": "4017ad15",
   "metadata": {},
   "outputs": [
    {
     "data": {
      "text/plain": [
       "array([[-0.24716963, -0.25512664, -0.27181975, ...,  0.        ,\n",
       "         0.        ,  0.        ],\n",
       "       [-0.24716963, -0.25512664, -0.27181975, ...,  0.        ,\n",
       "         0.        ,  0.        ],\n",
       "       [-0.24716963, -0.25512664, -0.27181975, ...,  0.        ,\n",
       "         0.        ,  0.        ],\n",
       "       ...,\n",
       "       [ 0.        ,  0.        ,  0.        , ...,  0.22104788,\n",
       "         0.18166706,  0.15357873],\n",
       "       [ 0.        ,  0.        ,  0.        , ...,  0.22104788,\n",
       "         0.18166706,  0.15357873],\n",
       "       [ 0.        ,  0.        ,  0.        , ...,  0.22104788,\n",
       "         0.18166706,  0.15357873]])"
      ]
     },
     "execution_count": 179,
     "metadata": {},
     "output_type": "execute_result"
    }
   ],
   "source": [
    "tangent"
   ]
  },
  {
   "cell_type": "code",
   "execution_count": 11,
   "id": "f98a7d07",
   "metadata": {},
   "outputs": [
    {
     "data": {
      "text/plain": [
       "(30, 100)"
      ]
     },
     "execution_count": 11,
     "metadata": {},
     "output_type": "execute_result"
    }
   ],
   "source": [
    "x_in.shape"
   ]
  },
  {
   "cell_type": "code",
   "execution_count": 31,
   "id": "4fc2079c",
   "metadata": {},
   "outputs": [],
   "source": [
    "x_in = mean_activity_smooth\n",
    "additional_orthogonal_vec = tangent\n",
    "n_neuron,n_cols = x_in.shape\n",
    "ns_vec_all = []\n",
    "for c in range(n_cols):\n",
    "    x_in_one = x_in[:,[c]]\n",
    "    if additional_orthogonal_vec is not None:\n",
    "        additiona_one= additional_orthogonal_vec[:,[c]]\n",
    "        x_in_one = np.concatenate([x_in_one,additiona_one],axis=1)\n",
    "#         x_in = np.concatenate([x_in,additional_orthogonal_vec],axis=1)\n",
    "    null_space = scipy.linalg.null_space(x_in_one.T,rcond=1e-25)\n",
    "    n_null = null_space.shape[1]\n",
    "    inds = np.random.choice(np.arange(n_null),n)\n",
    "    ns_vec = null_space[:,inds] # n_neurons x n\n",
    "    ns_vec_all.append(ns_vec) \n",
    "ns_vec_all = np.stack(ns_vec_all,axis=-1)"
   ]
  },
  {
   "cell_type": "code",
   "execution_count": 33,
   "id": "5746922c",
   "metadata": {},
   "outputs": [
    {
     "data": {
      "text/plain": [
       "(30, 9, 50)"
      ]
     },
     "execution_count": 33,
     "metadata": {},
     "output_type": "execute_result"
    }
   ],
   "source": [
    "ns_vec_all.shape"
   ]
  },
  {
   "cell_type": "code",
   "execution_count": 12,
   "id": "25b96003",
   "metadata": {},
   "outputs": [],
   "source": [
    "x_in = mean_activity_smooth[:,[0]]\n",
    "# x_in = mean_activity_smooth\n",
    "additional_orthogonal_vec = tangent[:,[0]]\n",
    "# additional_orthogonal_vec = tangent\n",
    "n_neuron,n_cols = x_in.shape\n",
    "if additional_orthogonal_vec is not None:\n",
    "    x_in = np.concatenate([x_in,additional_orthogonal_vec],axis=1)\n",
    "null_space = scipy.linalg.null_space(x_in.T,rcond=1e-25)\n",
    "n_null = null_space.shape[1]\n",
    "inds = np.random.choice(np.arange(n_null),n)\n",
    "ns_vec = null_space[:,inds]"
   ]
  },
  {
   "cell_type": "code",
   "execution_count": 15,
   "id": "91b55b27",
   "metadata": {},
   "outputs": [
    {
     "data": {
      "text/plain": [
       "(30, 9)"
      ]
     },
     "execution_count": 15,
     "metadata": {},
     "output_type": "execute_result"
    }
   ],
   "source": [
    "ns_vec.shape"
   ]
  },
  {
   "cell_type": "code",
   "execution_count": 175,
   "id": "703f735f",
   "metadata": {},
   "outputs": [
    {
     "data": {
      "text/plain": [
       "array([ 4.03251872e-18, -1.89799755e-16])"
      ]
     },
     "execution_count": 175,
     "metadata": {},
     "output_type": "execute_result"
    }
   ],
   "source": [
    "ns_vec[:,2].dot(x_in)"
   ]
  },
  {
   "cell_type": "code",
   "execution_count": 169,
   "id": "04980224",
   "metadata": {},
   "outputs": [
    {
     "data": {
      "text/plain": [
       "(30, 9)"
      ]
     },
     "execution_count": 169,
     "metadata": {},
     "output_type": "execute_result"
    }
   ],
   "source": [
    "ns_vec.shape"
   ]
  },
  {
   "cell_type": "code",
   "execution_count": 161,
   "id": "6a4e16be",
   "metadata": {},
   "outputs": [
    {
     "data": {
      "text/plain": [
       "array([], shape=(2, 0), dtype=float64)"
      ]
     },
     "execution_count": 161,
     "metadata": {},
     "output_type": "execute_result"
    }
   ],
   "source": [
    "null_space"
   ]
  },
  {
   "cell_type": "code",
   "execution_count": 154,
   "id": "2b0b5662",
   "metadata": {},
   "outputs": [
    {
     "data": {
      "text/plain": [
       "(99, 9)"
      ]
     },
     "execution_count": 154,
     "metadata": {},
     "output_type": "execute_result"
    }
   ],
   "source": [
    "ns_vec.shape"
   ]
  },
  {
   "cell_type": "code",
   "execution_count": 144,
   "id": "25c3c020",
   "metadata": {
    "scrolled": true
   },
   "outputs": [
    {
     "ename": "ValueError",
     "evalue": "shapes (30,49) and (50,1) not aligned: 49 (dim 1) != 50 (dim 0)",
     "output_type": "error",
     "traceback": [
      "\u001b[0;31m---------------------------------------------------------------------------\u001b[0m",
      "\u001b[0;31mValueError\u001b[0m                                Traceback (most recent call last)",
      "Input \u001b[0;32mIn [144]\u001b[0m, in \u001b[0;36m<module>\u001b[0;34m\u001b[0m\n\u001b[0;32m----> 1\u001b[0m \u001b[43mtangent\u001b[49m\u001b[38;5;241;43m.\u001b[39;49m\u001b[43mdot\u001b[49m\u001b[43m(\u001b[49m\u001b[43mns_vec\u001b[49m\u001b[43m)\u001b[49m\n",
      "\u001b[0;31mValueError\u001b[0m: shapes (30,49) and (50,1) not aligned: 49 (dim 1) != 50 (dim 0)"
     ]
    }
   ],
   "source": [
    "tangent.dot(ns_vec)"
   ]
  },
  {
   "cell_type": "code",
   "execution_count": 98,
   "id": "bb2e38b4",
   "metadata": {},
   "outputs": [],
   "source": [
    "X_diff = np.diff(X,axis=1)\n",
    "X_norm = X[:,:-1] / np.linalg.norm(X[:,:-1],axis=0,keepdims=True)\n",
    "X_diff_proj_x = np.einsum('nt,nt->t',X_diff,X_norm)\n",
    "X_diff_proj_x_vec = X_diff_proj_x * X_norm\n",
    "tangent = X_diff - X_diff_proj_x_vec\n",
    "tangent = tangent / np.linalg.norm(tangent,axis=0,keepdims=True)"
   ]
  },
  {
   "cell_type": "code",
   "execution_count": 83,
   "id": "e8c1d0f6",
   "metadata": {},
   "outputs": [
    {
     "data": {
      "text/plain": [
       "array([-3.53891702e-03, -3.53891702e-03, -3.53891702e-03, -2.41911680e-03,\n",
       "       -2.41911680e-03, -2.41911680e-03, -5.61988849e-04, -5.61988849e-04,\n",
       "       -5.61988849e-04, -4.30721724e-05, -4.30721724e-05, -4.30721724e-05,\n",
       "       -8.45741680e-07, -8.45741680e-07, -8.45741680e-07, -0.00000000e+00,\n",
       "       -0.00000000e+00, -0.00000000e+00, -0.00000000e+00, -0.00000000e+00,\n",
       "       -0.00000000e+00, -0.00000000e+00, -0.00000000e+00, -0.00000000e+00,\n",
       "       -0.00000000e+00, -0.00000000e+00, -0.00000000e+00, -0.00000000e+00,\n",
       "       -0.00000000e+00, -0.00000000e+00])"
      ]
     },
     "execution_count": 83,
     "metadata": {},
     "output_type": "execute_result"
    }
   ],
   "source": [
    "X_diff_proj_x_vec[:,0]"
   ]
  },
  {
   "cell_type": "code",
   "execution_count": 94,
   "id": "d1a69221",
   "metadata": {},
   "outputs": [
    {
     "data": {
      "text/plain": [
       "array([5.02952917e-01, 5.02952917e-01, 5.02952917e-01, 2.77684174e-01,\n",
       "       2.77684174e-01, 2.77684174e-01, 5.69592657e-02, 5.69592657e-02,\n",
       "       5.69592657e-02, 4.33944355e-03, 4.33944355e-03, 4.33944355e-03,\n",
       "       8.52045351e-05, 8.52045351e-05, 8.52045351e-05, 0.00000000e+00,\n",
       "       0.00000000e+00, 0.00000000e+00, 0.00000000e+00, 0.00000000e+00,\n",
       "       0.00000000e+00, 0.00000000e+00, 0.00000000e+00, 0.00000000e+00,\n",
       "       0.00000000e+00, 0.00000000e+00, 0.00000000e+00, 0.00000000e+00,\n",
       "       0.00000000e+00, 0.00000000e+00])"
      ]
     },
     "execution_count": 94,
     "metadata": {},
     "output_type": "execute_result"
    }
   ],
   "source": [
    "a"
   ]
  },
  {
   "cell_type": "code",
   "execution_count": 95,
   "id": "25bc4250",
   "metadata": {},
   "outputs": [
    {
     "data": {
      "text/plain": [
       "array([4.71524563e-01, 4.71524563e-01, 4.71524563e-01, 3.22322616e-01,\n",
       "       3.22322616e-01, 3.22322616e-01, 7.48792765e-02, 7.48792765e-02,\n",
       "       7.48792765e-02, 5.73892723e-03, 5.73892723e-03, 5.73892723e-03,\n",
       "       1.12686444e-04, 1.12686444e-04, 1.12686444e-04, 0.00000000e+00,\n",
       "       0.00000000e+00, 0.00000000e+00, 0.00000000e+00, 0.00000000e+00,\n",
       "       0.00000000e+00, 0.00000000e+00, 0.00000000e+00, 0.00000000e+00,\n",
       "       0.00000000e+00, 0.00000000e+00, 0.00000000e+00, 0.00000000e+00,\n",
       "       0.00000000e+00, 0.00000000e+00])"
      ]
     },
     "execution_count": 95,
     "metadata": {},
     "output_type": "execute_result"
    }
   ],
   "source": [
    "X_norm[:,0]"
   ]
  },
  {
   "cell_type": "code",
   "execution_count": 93,
   "id": "33fcdaac",
   "metadata": {},
   "outputs": [
    {
     "data": {
      "text/plain": [
       "-0.007505265470847119"
      ]
     },
     "execution_count": 93,
     "metadata": {},
     "output_type": "execute_result"
    }
   ],
   "source": [
    "X_diff[:,0].dot(X_norm[:,0])"
   ]
  },
  {
   "cell_type": "code",
   "execution_count": 91,
   "id": "e89b6579",
   "metadata": {},
   "outputs": [
    {
     "data": {
      "text/plain": [
       "-0.007505265470847121"
      ]
     },
     "execution_count": 91,
     "metadata": {},
     "output_type": "execute_result"
    }
   ],
   "source": [
    "X_diff_proj_x[0]"
   ]
  },
  {
   "cell_type": "code",
   "execution_count": 86,
   "id": "642330b2",
   "metadata": {
    "scrolled": true
   },
   "outputs": [
    {
     "data": {
      "text/plain": [
       "-0.008300740093155295"
      ]
     },
     "execution_count": 86,
     "metadata": {},
     "output_type": "execute_result"
    }
   ],
   "source": [
    "diff.dot(a)"
   ]
  },
  {
   "cell_type": "code",
   "execution_count": 81,
   "id": "8438d4ef",
   "metadata": {},
   "outputs": [
    {
     "data": {
      "text/plain": [
       "array([-4.17488145e-03, -4.17488145e-03, -4.17488145e-03, -2.30498415e-03,\n",
       "       -2.30498415e-03, -2.30498415e-03, -4.72804061e-04, -4.72804061e-04,\n",
       "       -4.72804061e-04, -3.60205931e-05, -3.60205931e-05, -3.60205931e-05,\n",
       "       -7.07260701e-07, -7.07260701e-07, -7.07260701e-07, -0.00000000e+00,\n",
       "       -0.00000000e+00, -0.00000000e+00, -0.00000000e+00, -0.00000000e+00,\n",
       "       -0.00000000e+00, -0.00000000e+00, -0.00000000e+00, -0.00000000e+00,\n",
       "       -0.00000000e+00, -0.00000000e+00, -0.00000000e+00, -0.00000000e+00,\n",
       "       -0.00000000e+00, -0.00000000e+00])"
      ]
     },
     "execution_count": 81,
     "metadata": {},
     "output_type": "execute_result"
    }
   ],
   "source": [
    "diff.dot(a) * a"
   ]
  },
  {
   "cell_type": "code",
   "execution_count": 73,
   "id": "12e63233",
   "metadata": {},
   "outputs": [],
   "source": [
    "a = X[:,0]"
   ]
  },
  {
   "cell_type": "code",
   "execution_count": 75,
   "id": "2e4a0c43",
   "metadata": {},
   "outputs": [],
   "source": [
    "a = a / np.linalg.norm(a)"
   ]
  },
  {
   "cell_type": "code",
   "execution_count": 77,
   "id": "d699a109",
   "metadata": {},
   "outputs": [],
   "source": [
    "diff=X_diff[:,0]"
   ]
  },
  {
   "cell_type": "code",
   "execution_count": 78,
   "id": "6f14d15e",
   "metadata": {},
   "outputs": [
    {
     "data": {
      "text/plain": [
       "-2.2768245622195593e-18"
      ]
     },
     "execution_count": 78,
     "metadata": {},
     "output_type": "execute_result"
    }
   ],
   "source": [
    "(diff - diff.dot(a) * a).dot(a)"
   ]
  },
  {
   "cell_type": "code",
   "execution_count": 48,
   "id": "b816eff6",
   "metadata": {},
   "outputs": [
    {
     "data": {
      "text/plain": [
       "array([-2.35033306e-03, -4.28922938e-03, -5.43891651e-03, -5.67743633e-03,\n",
       "       -5.14774486e-03, -4.16003793e-03, -3.05128634e-03, -2.07000541e-03,\n",
       "       -1.33582009e-03, -8.61038053e-04, -5.82304525e-04, -4.40564899e-04,\n",
       "       -3.71779663e-04, -3.40717763e-04, -3.30111844e-04, -3.27596310e-04,\n",
       "       -3.27954453e-04, -3.26175761e-04, -3.23776212e-04, -3.23794634e-04,\n",
       "       -3.26123119e-04, -3.27530086e-04, -3.26063413e-04, -3.23748829e-04,\n",
       "       -3.23785577e-04, -3.26123119e-04, -3.27530086e-04, -3.26063413e-04,\n",
       "       -3.23748829e-04, -3.23785577e-04, -3.26125573e-04, -3.27540920e-04,\n",
       "       -3.26107439e-04, -3.23565959e-04, -3.23411345e-04, -3.25056522e-04,\n",
       "       -3.24750359e-04, -3.19458139e-04, -3.03748395e-04, -2.88418835e-04,\n",
       "       -2.61575754e-04, -2.20380325e-04, -1.64325214e-04, -9.97766614e-05,\n",
       "       -4.36560371e-05, -2.07822695e-06,  2.19673710e-05,  3.07896293e-05,\n",
       "        2.48493196e-05])"
      ]
     },
     "execution_count": 48,
     "metadata": {},
     "output_type": "execute_result"
    }
   ],
   "source": [
    "np.einsum('nt,nt->t',(X_diff - X_diff_proj_x_vec) , X[:,:-1])"
   ]
  },
  {
   "cell_type": "code",
   "execution_count": 40,
   "id": "d0ced795",
   "metadata": {},
   "outputs": [
    {
     "data": {
      "text/plain": [
       "array([ True,  True,  True,  True,  True,  True,  True,  True,  True,\n",
       "        True,  True,  True,  True,  True,  True,  True,  True,  True,\n",
       "        True,  True,  True,  True,  True,  True,  True,  True,  True,\n",
       "        True,  True,  True])"
      ]
     },
     "execution_count": 40,
     "metadata": {},
     "output_type": "execute_result"
    }
   ],
   "source": [
    "X_diff[:,0] == (X[:,1] - X[:,0])"
   ]
  },
  {
   "cell_type": "code",
   "execution_count": 101,
   "id": "a41838d8",
   "metadata": {},
   "outputs": [
    {
     "data": {
      "text/plain": [
       "-9.71445146547012e-17"
      ]
     },
     "execution_count": 101,
     "metadata": {},
     "output_type": "execute_result"
    }
   ],
   "source": [
    "tangent[:,0].dot(mean_activity_smooth[:,0])"
   ]
  },
  {
   "cell_type": "code",
   "execution_count": null,
   "id": "46431e63",
   "metadata": {},
   "outputs": [],
   "source": [
    "noise_direction_signal = mean_activity_smooth / np.linalg.norm(mean_activity_smooth,axis=1,keepdims=True)\n",
    "noise_direction_tangent = np.diff(mean_activity_smooth,axis=1) \n",
    "noise_direction_tangent = "
   ]
  },
  {
   "cell_type": "code",
   "execution_count": 13,
   "id": "271715f9",
   "metadata": {
    "scrolled": false
   },
   "outputs": [
    {
     "data": {
      "text/plain": [
       "(30, 50)"
      ]
     },
     "execution_count": 13,
     "metadata": {},
     "output_type": "execute_result"
    }
   ],
   "source": [
    "mean_activity_smooth.shape"
   ]
  },
  {
   "cell_type": "code",
   "execution_count": 12,
   "id": "66ff6ee8",
   "metadata": {},
   "outputs": [
    {
     "ename": "NameError",
     "evalue": "name 'noise_per_trial' is not defined",
     "output_type": "error",
     "traceback": [
      "\u001b[0;31m---------------------------------------------------------------------------\u001b[0m",
      "\u001b[0;31mNameError\u001b[0m                                 Traceback (most recent call last)",
      "Input \u001b[0;32mIn [12]\u001b[0m, in \u001b[0;36m<module>\u001b[0;34m\u001b[0m\n\u001b[0;32m----> 1\u001b[0m \u001b[43mnoise_per_trial\u001b[49m\n",
      "\u001b[0;31mNameError\u001b[0m: name 'noise_per_trial' is not defined"
     ]
    }
   ],
   "source": [
    "noise_per_trial = np."
   ]
  },
  {
   "cell_type": "code",
   "execution_count": 10,
   "id": "a07b3b40",
   "metadata": {},
   "outputs": [
    {
     "data": {
      "text/plain": [
       "<matplotlib.image.AxesImage at 0x1553b07e2410>"
      ]
     },
     "execution_count": 10,
     "metadata": {},
     "output_type": "execute_result"
    },
    {
     "data": {
      "image/png": "[encoded data removed]",
      "text/plain": [
       "<Figure size 432x288 with 1 Axes>"
      ]
     },
     "metadata": {
      "needs_background": "light"
     },
     "output_type": "display_data"
    }
   ],
   "source": [
    "%matplotlib inline\n",
    "plt.imshow(mean_activity_smooth,aspect='auto')"
   ]
  },
  {
   "cell_type": "code",
   "execution_count": null,
   "id": "d1de4f48",
   "metadata": {},
   "outputs": [],
   "source": []
  }
 ],
 "metadata": {
  "kernelspec": {
   "display_name": "jaxgpu",
   "language": "python",
   "name": "jaxgpu"
  },
  "language_info": {
   "codemirror_mode": {
    "name": "ipython",
    "version": 3
   },
   "file_extension": ".py",
   "mimetype": "text/x-python",
   "name": "python",
   "nbconvert_exporter": "python",
   "pygments_lexer": "ipython3",
   "version": "3.9.16"
  }
 },
 "nbformat": 4,
 "nbformat_minor": 5
}
