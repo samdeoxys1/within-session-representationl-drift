{
 "cells": [
  {
   "cell_type": "code",
   "execution_count": 1,
   "id": "08fec361",
   "metadata": {},
   "outputs": [
    {
     "name": "stdout",
     "output_type": "stream",
     "text": [
      "67 sessions!\n",
      "67 sessions!\n"
     ]
    }
   ],
   "source": [
    "import numpy as np\n",
    "import scipy\n",
    "import sklearn\n",
    "from sklearn.decomposition import NMF\n",
    "from sklearn.cluster import KMeans\n",
    "from sklearn.mixture import GaussianMixture,BayesianGaussianMixture\n",
    "\n",
    "import pandas as pd\n",
    "\n",
    "import matplotlib.pyplot as plt\n",
    "import matplotlib as mpl\n",
    "mpl.rcParams['image.cmap'] = 'Greys'\n",
    "\n",
    "import seaborn as sns\n",
    "\n",
    "import sys,os,pdb,copy,pickle\n",
    "from importlib import reload\n",
    "# import pynapple as nap\n",
    "\n",
    "sys.path.append('/mnt/home/szheng/projects/seq_detection2/code')\n",
    "sys.path.append('/mnt/home/szheng/projects/util_code')\n",
    "sys.path.append('/mnt/home/szheng/projects/nmf_analysis')\n",
    "sys.path.append('/mnt/home/szheng/projects/nmf_analysis/scripts')\n",
    "sys.path.append('/mnt/home/szheng/projects/cluster_spikes')\n",
    "sys.path.append('/mnt/home/szheng/projects/place_variability/code')\n",
    "import data_prep_new as dpn\n",
    "import place_cell_analysis as pa\n",
    "import plot_helper as ph\n",
    "import preprocess as prep\n",
    "import nmf_analysis as na\n",
    "import nmf_plot as nmfp\n",
    "reload(na)\n",
    "\n",
    "import raster_new as rn\n",
    "import data_prep_pyn as dpp\n",
    "\n",
    "\n",
    "import change_point_analysis as cpa\n",
    "import change_point_plot as cpp\n",
    "\n",
    "import place_field_analysis as pf\n",
    "\n",
    "import switch_analysis_one_session as saos\n",
    "reload(saos)\n",
    "\n",
    "import process_central_arm as pca \n",
    "import change_point_analysis_central_arm_seperate as cpacas\n",
    "\n",
    "import misc\n",
    "reload(misc)\n",
    "from misc import get_nth_key, get_nth_val"
   ]
  },
  {
   "cell_type": "code",
   "execution_count": 2,
   "id": "fe452844",
   "metadata": {},
   "outputs": [],
   "source": [
    "figdir = '/mnt/home/szheng/ceph/place_variability/fig/paper/figure2'"
   ]
  },
  {
   "cell_type": "code",
   "execution_count": 3,
   "id": "a7be2784",
   "metadata": {},
   "outputs": [],
   "source": [
    "import database\n",
    "db = database.db"
   ]
  },
  {
   "cell_type": "code",
   "execution_count": 4,
   "id": "5c1d7edf",
   "metadata": {
    "scrolled": true
   },
   "outputs": [],
   "source": [
    "subdb = db.query('owner==\"roman\"').sort_values('n_pyr_putative',ascending=False)\n",
    "subdb = subdb.query('ntrials>=20&n_neurons>=50')"
   ]
  },
  {
   "cell_type": "code",
   "execution_count": 5,
   "id": "04027033",
   "metadata": {},
   "outputs": [],
   "source": [
    "import pf_recombine_central as pfrc\n",
    "import fr_map_one_session as fmos\n",
    "import switch_detection_one_session as sdos\n",
    "import get_all_switch_add_metrics as gasam"
   ]
  },
  {
   "cell_type": "code",
   "execution_count": 6,
   "id": "739339cf",
   "metadata": {},
   "outputs": [],
   "source": [
    "import preprocess_one_session as prepos"
   ]
  },
  {
   "cell_type": "code",
   "execution_count": 7,
   "id": "a4ca2d25",
   "metadata": {
    "scrolled": true
   },
   "outputs": [
    {
     "name": "stderr",
     "output_type": "stream",
     "text": [
      "/mnt/home/szheng/ceph/envs/jax/lib/python3.9/site-packages/outdated/utils.py:14: OutdatedPackageWarning: The package pingouin is out of date. Your version is 0.5.2, the latest is 0.5.3.\n",
      "Set the environment variable OUTDATED_IGNORE=1 to disable these warnings.\n",
      "  return warn(\n"
     ]
    },
    {
     "name": "stdout",
     "output_type": "stream",
     "text": [
      "/mnt/home/szheng/ceph/ad/roman_data/e13/e13_26m1/e13_26m1_210913/py_data/place_field_afterheadscan_recombine.p exists; loading---\n",
      "/mnt/home/szheng/ceph/ad/roman_data/e13/e13_26m1/e13_26m1_210913/py_data/fr_map.p exists; loading---\n",
      "/mnt/home/szheng/ceph/ad/roman_data/e13/e13_26m1/e13_26m1_210913/py_data/sw_res_afterheadscan.p exists; loading---\n",
      "/mnt/home/szheng/ceph/ad/roman_data/e13/e13_26m1/e13_26m1_210913/py_data/switch_analysis/all_sw_info.p exists; loading---\n",
      "/mnt/home/szheng/ceph/ad/roman_data/e15/e15_13f1/e15_13f1_220117/py_data/place_field_afterheadscan_recombine.p exists; loading---\n",
      "/mnt/home/szheng/ceph/ad/roman_data/e15/e15_13f1/e15_13f1_220117/py_data/fr_map.p exists; loading---\n",
      "/mnt/home/szheng/ceph/ad/roman_data/e15/e15_13f1/e15_13f1_220117/py_data/sw_res_afterheadscan.p exists; loading---\n",
      "/mnt/home/szheng/ceph/ad/roman_data/e15/e15_13f1/e15_13f1_220117/py_data/switch_analysis/all_sw_info.p exists; loading---\n",
      "/mnt/home/szheng/ceph/ad/roman_data/e15/e15_13f1/e15_13f1_220118/py_data/place_field_afterheadscan_recombine.p exists; loading---\n",
      "/mnt/home/szheng/ceph/ad/roman_data/e15/e15_13f1/e15_13f1_220118/py_data/fr_map.p exists; loading---\n",
      "/mnt/home/szheng/ceph/ad/roman_data/e15/e15_13f1/e15_13f1_220118/py_data/sw_res_afterheadscan.p exists; loading---\n",
      "/mnt/home/szheng/ceph/ad/roman_data/e15/e15_13f1/e15_13f1_220118/py_data/switch_analysis/all_sw_info.p exists; loading---\n",
      "/mnt/home/szheng/ceph/ad/roman_data/e15/e15_13f1/e15_13f1_220119/py_data/place_field_afterheadscan_recombine.p exists; loading---\n",
      "/mnt/home/szheng/ceph/ad/roman_data/e15/e15_13f1/e15_13f1_220119/py_data/fr_map.p exists; loading---\n",
      "/mnt/home/szheng/ceph/ad/roman_data/e15/e15_13f1/e15_13f1_220119/py_data/sw_res_afterheadscan.p exists; loading---\n",
      "/mnt/home/szheng/ceph/ad/roman_data/e15/e15_13f1/e15_13f1_220119/py_data/switch_analysis/all_sw_info.p exists; loading---\n",
      "/mnt/home/szheng/ceph/ad/roman_data/e15/e15_13f1/e15_13f1_220120/py_data/place_field_afterheadscan_recombine.p exists; loading---\n",
      "/mnt/home/szheng/ceph/ad/roman_data/e15/e15_13f1/e15_13f1_220120/py_data/fr_map.p exists; loading---\n",
      "/mnt/home/szheng/ceph/ad/roman_data/e15/e15_13f1/e15_13f1_220120/py_data/sw_res_afterheadscan.p exists; loading---\n",
      "/mnt/home/szheng/ceph/ad/roman_data/e15/e15_13f1/e15_13f1_220120/py_data/switch_analysis/all_sw_info.p exists; loading---\n",
      "/mnt/home/szheng/ceph/ad/roman_data/e13/e13_26m1/e13_26m1_211019/py_data/place_field_afterheadscan_recombine.p exists; loading---\n",
      "/mnt/home/szheng/ceph/ad/roman_data/e13/e13_26m1/e13_26m1_211019/py_data/fr_map.p exists; loading---\n",
      "/mnt/home/szheng/ceph/ad/roman_data/e13/e13_26m1/e13_26m1_211019/py_data/sw_res_afterheadscan.p exists; loading---\n",
      "/mnt/home/szheng/ceph/ad/roman_data/e13/e13_26m1/e13_26m1_211019/py_data/switch_analysis/all_sw_info.p exists; loading---\n",
      "/mnt/home/szheng/ceph/ad/roman_data/e13/e13_16f1/e13_16f1_210328/py_data/place_field_afterheadscan_recombine.p exists; loading---\n",
      "/mnt/home/szheng/ceph/ad/roman_data/e13/e13_16f1/e13_16f1_210328/py_data/fr_map.p exists; loading---\n",
      "/mnt/home/szheng/ceph/ad/roman_data/e13/e13_16f1/e13_16f1_210328/py_data/sw_res_afterheadscan.p exists; loading---\n",
      "/mnt/home/szheng/ceph/ad/roman_data/e13/e13_16f1/e13_16f1_210328/py_data/switch_analysis/all_sw_info.p exists; loading---\n",
      "/mnt/home/szheng/ceph/ad/roman_data/e13/e13_26m1/e13_26m1_211116/py_data/place_field_afterheadscan_recombine.p exists; loading---\n",
      "/mnt/home/szheng/ceph/ad/roman_data/e13/e13_26m1/e13_26m1_211116/py_data/fr_map.p exists; loading---\n",
      "/mnt/home/szheng/ceph/ad/roman_data/e13/e13_26m1/e13_26m1_211116/py_data/sw_res_afterheadscan.p exists; loading---\n",
      "/mnt/home/szheng/ceph/ad/roman_data/e13/e13_26m1/e13_26m1_211116/py_data/switch_analysis/all_sw_info.p exists; loading---\n",
      "/mnt/home/szheng/ceph/ad/roman_data/e16/e16_3m2/e16_3m2_211213/py_data/place_field_afterheadscan_recombine.p exists; loading---\n",
      "/mnt/home/szheng/ceph/ad/roman_data/e16/e16_3m2/e16_3m2_211213/py_data/fr_map.p exists; loading---\n",
      "/mnt/home/szheng/ceph/ad/roman_data/e16/e16_3m2/e16_3m2_211213/py_data/sw_res_afterheadscan.p exists; loading---\n",
      "/mnt/home/szheng/ceph/ad/roman_data/e16/e16_3m2/e16_3m2_211213/py_data/switch_analysis/all_sw_info.p exists; loading---\n",
      "/mnt/home/szheng/ceph/ad/roman_data/e16/e16_3m2/e16_3m2_211212/py_data/place_field_afterheadscan_recombine.p exists; loading---\n",
      "/mnt/home/szheng/ceph/ad/roman_data/e16/e16_3m2/e16_3m2_211212/py_data/fr_map.p exists; loading---\n",
      "/mnt/home/szheng/ceph/ad/roman_data/e16/e16_3m2/e16_3m2_211212/py_data/sw_res_afterheadscan.p exists; loading---\n",
      "/mnt/home/szheng/ceph/ad/roman_data/e16/e16_3m2/e16_3m2_211212/py_data/switch_analysis/all_sw_info.p exists; loading---\n",
      "/mnt/home/szheng/ceph/ad/roman_data/e16/e16_3m2/e16_3m2_211211/py_data/place_field_afterheadscan_recombine.p exists; loading---\n",
      "/mnt/home/szheng/ceph/ad/roman_data/e16/e16_3m2/e16_3m2_211211/py_data/fr_map.p exists; loading---\n",
      "/mnt/home/szheng/ceph/ad/roman_data/e16/e16_3m2/e16_3m2_211211/py_data/sw_res_afterheadscan.p exists; loading---\n",
      "/mnt/home/szheng/ceph/ad/roman_data/e16/e16_3m2/e16_3m2_211211/py_data/switch_analysis/all_sw_info.p exists; loading---\n",
      "/mnt/home/szheng/ceph/ad/roman_data/e16/e16_3m1/e16_3m1_210203/py_data/place_field_afterheadscan_recombine.p exists; loading---\n",
      "/mnt/home/szheng/ceph/ad/roman_data/e16/e16_3m1/e16_3m1_210203/py_data/fr_map.p exists; loading---\n",
      "/mnt/home/szheng/ceph/ad/roman_data/e16/e16_3m1/e16_3m1_210203/py_data/sw_res_afterheadscan.p exists; loading---\n",
      "/mnt/home/szheng/ceph/ad/roman_data/e16/e16_3m1/e16_3m1_210203/py_data/switch_analysis/all_sw_info.p exists; loading---\n",
      "/mnt/home/szheng/ceph/ad/roman_data/e16/e16_3m2/e16_3m2_211210/py_data/place_field_afterheadscan_recombine.p exists; loading---\n",
      "/mnt/home/szheng/ceph/ad/roman_data/e16/e16_3m2/e16_3m2_211210/py_data/fr_map.p exists; loading---\n",
      "/mnt/home/szheng/ceph/ad/roman_data/e16/e16_3m2/e16_3m2_211210/py_data/sw_res_afterheadscan.p exists; loading---\n",
      "/mnt/home/szheng/ceph/ad/roman_data/e16/e16_3m2/e16_3m2_211210/py_data/switch_analysis/all_sw_info.p exists; loading---\n",
      "/mnt/home/szheng/ceph/ad/roman_data/e13/e13_26m1/e13_26m1_211119/py_data/place_field_afterheadscan_recombine.p exists; loading---\n",
      "/mnt/home/szheng/ceph/ad/roman_data/e13/e13_26m1/e13_26m1_211119/py_data/fr_map.p exists; loading---\n",
      "/mnt/home/szheng/ceph/ad/roman_data/e13/e13_26m1/e13_26m1_211119/py_data/sw_res_afterheadscan.p exists; loading---\n",
      "/mnt/home/szheng/ceph/ad/roman_data/e13/e13_26m1/e13_26m1_211119/py_data/switch_analysis/all_sw_info.p exists; loading---\n",
      "/mnt/home/szheng/ceph/ad/roman_data/e13/e13_26m1/e13_26m1_211124/py_data/place_field_afterheadscan_recombine.p exists; loading---\n",
      "/mnt/home/szheng/ceph/ad/roman_data/e13/e13_26m1/e13_26m1_211124/py_data/fr_map.p exists; loading---\n",
      "/mnt/home/szheng/ceph/ad/roman_data/e13/e13_26m1/e13_26m1_211124/py_data/sw_res_afterheadscan.p exists; loading---\n",
      "/mnt/home/szheng/ceph/ad/roman_data/e13/e13_26m1/e13_26m1_211124/py_data/switch_analysis/all_sw_info.p exists; loading---\n",
      "/mnt/home/szheng/ceph/ad/roman_data/e16/e16_3m1/e16_3m1_210201/py_data/place_field_afterheadscan_recombine.p exists; loading---\n",
      "/mnt/home/szheng/ceph/ad/roman_data/e16/e16_3m1/e16_3m1_210201/py_data/fr_map.p exists; loading---\n",
      "/mnt/home/szheng/ceph/ad/roman_data/e16/e16_3m1/e16_3m1_210201/py_data/sw_res_afterheadscan.p exists; loading---\n",
      "/mnt/home/szheng/ceph/ad/roman_data/e16/e16_3m1/e16_3m1_210201/py_data/switch_analysis/all_sw_info.p exists; loading---\n",
      "/mnt/home/szheng/ceph/ad/roman_data/e13/e13_16f1/e13_16f1_210331/py_data/place_field_afterheadscan_recombine.p exists; loading---\n",
      "/mnt/home/szheng/ceph/ad/roman_data/e13/e13_16f1/e13_16f1_210331/py_data/fr_map.p exists; loading---\n",
      "/mnt/home/szheng/ceph/ad/roman_data/e13/e13_16f1/e13_16f1_210331/py_data/sw_res_afterheadscan.p exists; loading---\n",
      "/mnt/home/szheng/ceph/ad/roman_data/e13/e13_16f1/e13_16f1_210331/py_data/switch_analysis/all_sw_info.p exists; loading---\n",
      "/mnt/home/szheng/ceph/ad/roman_data/e16/e16_3m1/e16_3m1_210119/py_data/place_field_afterheadscan_recombine.p exists; loading---\n",
      "/mnt/home/szheng/ceph/ad/roman_data/e16/e16_3m1/e16_3m1_210119/py_data/fr_map.p exists; loading---\n",
      "/mnt/home/szheng/ceph/ad/roman_data/e16/e16_3m1/e16_3m1_210119/py_data/sw_res_afterheadscan.p exists; loading---\n",
      "/mnt/home/szheng/ceph/ad/roman_data/e16/e16_3m1/e16_3m1_210119/py_data/switch_analysis/all_sw_info.p exists; loading---\n"
     ]
    },
    {
     "name": "stdout",
     "output_type": "stream",
     "text": [
      "/mnt/home/szheng/ceph/ad/roman_data/e13/e13_16f1/e13_16f1_210302/py_data/place_field_afterheadscan_recombine.p exists; loading---\n",
      "/mnt/home/szheng/ceph/ad/roman_data/e13/e13_16f1/e13_16f1_210302/py_data/fr_map.p exists; loading---\n",
      "/mnt/home/szheng/ceph/ad/roman_data/e13/e13_16f1/e13_16f1_210302/py_data/sw_res_afterheadscan.p exists; loading---\n",
      "/mnt/home/szheng/ceph/ad/roman_data/e13/e13_16f1/e13_16f1_210302/py_data/switch_analysis/all_sw_info.p exists; loading---\n",
      "/mnt/home/szheng/ceph/ad/roman_data/e13/e13_16f1/e13_16f1_210317/py_data/place_field_afterheadscan_recombine.p exists; loading---\n",
      "/mnt/home/szheng/ceph/ad/roman_data/e13/e13_16f1/e13_16f1_210317/py_data/fr_map.p exists; loading---\n",
      "/mnt/home/szheng/ceph/ad/roman_data/e13/e13_16f1/e13_16f1_210317/py_data/sw_res_afterheadscan.p exists; loading---\n",
      "/mnt/home/szheng/ceph/ad/roman_data/e13/e13_16f1/e13_16f1_210317/py_data/switch_analysis/all_sw_info.p exists; loading---\n",
      "/mnt/home/szheng/ceph/ad/roman_data/e13/e13_16f1/e13_16f1_210312/py_data/place_field_afterheadscan_recombine.p exists; loading---\n",
      "/mnt/home/szheng/ceph/ad/roman_data/e13/e13_16f1/e13_16f1_210312/py_data/fr_map.p exists; loading---\n",
      "/mnt/home/szheng/ceph/ad/roman_data/e13/e13_16f1/e13_16f1_210312/py_data/sw_res_afterheadscan.p exists; loading---\n",
      "/mnt/home/szheng/ceph/ad/roman_data/e13/e13_16f1/e13_16f1_210312/py_data/switch_analysis/all_sw_info.p exists; loading---\n",
      "/mnt/home/szheng/ceph/ad/roman_data/e15/e15_10m1/e15_10m1_200809/py_data/place_field_afterheadscan_recombine.p exists; loading---\n",
      "/mnt/home/szheng/ceph/ad/roman_data/e15/e15_10m1/e15_10m1_200809/py_data/fr_map.p exists; loading---\n",
      "/mnt/home/szheng/ceph/ad/roman_data/e15/e15_10m1/e15_10m1_200809/py_data/sw_res_afterheadscan.p exists; loading---\n",
      "/mnt/home/szheng/ceph/ad/roman_data/e15/e15_10m1/e15_10m1_200809/py_data/switch_analysis/all_sw_info.p exists; loading---\n",
      "/mnt/home/szheng/ceph/ad/roman_data/e15/e15_10m1/e15_10m1_200812/py_data/place_field_afterheadscan_recombine.p exists; loading---\n",
      "/mnt/home/szheng/ceph/ad/roman_data/e15/e15_10m1/e15_10m1_200812/py_data/fr_map.p exists; loading---\n",
      "/mnt/home/szheng/ceph/ad/roman_data/e15/e15_10m1/e15_10m1_200812/py_data/sw_res_afterheadscan.p exists; loading---\n",
      "/mnt/home/szheng/ceph/ad/roman_data/e15/e15_10m1/e15_10m1_200812/py_data/switch_analysis/all_sw_info.p exists; loading---\n",
      "/mnt/home/szheng/ceph/ad/roman_data/e13/e13_16f1/e13_16f1_210314/py_data/place_field_afterheadscan_recombine.p exists; loading---\n",
      "/mnt/home/szheng/ceph/ad/roman_data/e13/e13_16f1/e13_16f1_210314/py_data/fr_map.p exists; loading---\n",
      "/mnt/home/szheng/ceph/ad/roman_data/e13/e13_16f1/e13_16f1_210314/py_data/sw_res_afterheadscan.p exists; loading---\n",
      "/mnt/home/szheng/ceph/ad/roman_data/e13/e13_16f1/e13_16f1_210314/py_data/switch_analysis/all_sw_info.p exists; loading---\n",
      "/mnt/home/szheng/ceph/ad/roman_data/e15/e15_9f1/e15_9f1_200729/py_data/place_field_afterheadscan_recombine.p exists; loading---\n",
      "/mnt/home/szheng/ceph/ad/roman_data/e15/e15_9f1/e15_9f1_200729/py_data/fr_map.p exists; loading---\n",
      "/mnt/home/szheng/ceph/ad/roman_data/e15/e15_9f1/e15_9f1_200729/py_data/sw_res_afterheadscan.p exists; loading---\n",
      "/mnt/home/szheng/ceph/ad/roman_data/e15/e15_9f1/e15_9f1_200729/py_data/switch_analysis/all_sw_info.p exists; loading---\n",
      "/mnt/home/szheng/ceph/ad/roman_data/e14/e14_2m2/e14_2m2_201019/py_data/place_field_afterheadscan_recombine.p exists; loading---\n",
      "/mnt/home/szheng/ceph/ad/roman_data/e14/e14_2m2/e14_2m2_201019/py_data/fr_map.p exists; loading---\n",
      "/mnt/home/szheng/ceph/ad/roman_data/e14/e14_2m2/e14_2m2_201019/py_data/sw_res_afterheadscan.p exists; loading---\n",
      "/mnt/home/szheng/ceph/ad/roman_data/e14/e14_2m2/e14_2m2_201019/py_data/switch_analysis/all_sw_info.p exists; loading---\n",
      "/mnt/home/szheng/ceph/ad/roman_data/e13/e13_16f1/e13_16f1_210319/py_data/place_field_afterheadscan_recombine.p exists; loading---\n",
      "/mnt/home/szheng/ceph/ad/roman_data/e13/e13_16f1/e13_16f1_210319/py_data/fr_map.p exists; loading---\n",
      "/mnt/home/szheng/ceph/ad/roman_data/e13/e13_16f1/e13_16f1_210319/py_data/sw_res_afterheadscan.p exists; loading---\n",
      "/mnt/home/szheng/ceph/ad/roman_data/e13/e13_16f1/e13_16f1_210319/py_data/switch_analysis/all_sw_info.p exists; loading---\n",
      "/mnt/home/szheng/ceph/ad/roman_data/e13/e13_16f1/e13_16f1_210322/py_data/place_field_afterheadscan_recombine.p exists; loading---\n",
      "/mnt/home/szheng/ceph/ad/roman_data/e13/e13_16f1/e13_16f1_210322/py_data/fr_map.p exists; loading---\n",
      "/mnt/home/szheng/ceph/ad/roman_data/e13/e13_16f1/e13_16f1_210322/py_data/sw_res_afterheadscan.p exists; loading---\n",
      "/mnt/home/szheng/ceph/ad/roman_data/e13/e13_16f1/e13_16f1_210322/py_data/switch_analysis/all_sw_info.p exists; loading---\n",
      "/mnt/home/szheng/ceph/ad/roman_data/e15/e15_10m1/e15_10m1_200727/py_data/place_field_afterheadscan_recombine.p exists; loading---\n",
      "/mnt/home/szheng/ceph/ad/roman_data/e15/e15_10m1/e15_10m1_200727/py_data/fr_map.p exists; loading---\n",
      "/mnt/home/szheng/ceph/ad/roman_data/e15/e15_10m1/e15_10m1_200727/py_data/sw_res_afterheadscan.p exists; loading---\n",
      "/mnt/home/szheng/ceph/ad/roman_data/e15/e15_10m1/e15_10m1_200727/py_data/switch_analysis/all_sw_info.p exists; loading---\n",
      "/mnt/home/szheng/ceph/ad/roman_data/e14/e14_2m2/e14_2m2_201017/py_data/place_field_afterheadscan_recombine.p exists; loading---\n",
      "/mnt/home/szheng/ceph/ad/roman_data/e14/e14_2m2/e14_2m2_201017/py_data/fr_map.p exists; loading---\n",
      "/mnt/home/szheng/ceph/ad/roman_data/e14/e14_2m2/e14_2m2_201017/py_data/sw_res_afterheadscan.p exists; loading---\n",
      "/mnt/home/szheng/ceph/ad/roman_data/e14/e14_2m2/e14_2m2_201017/py_data/switch_analysis/all_sw_info.p exists; loading---\n",
      "/mnt/home/szheng/ceph/ad/roman_data/e16/e16_1f1/e16_1f1_201004/py_data/place_field_afterheadscan_recombine.p exists; loading---\n",
      "/mnt/home/szheng/ceph/ad/roman_data/e16/e16_1f1/e16_1f1_201004/py_data/fr_map.p exists; loading---\n",
      "/mnt/home/szheng/ceph/ad/roman_data/e16/e16_1f1/e16_1f1_201004/py_data/sw_res_afterheadscan.p exists; loading---\n",
      "/mnt/home/szheng/ceph/ad/roman_data/e16/e16_1f1/e16_1f1_201004/py_data/switch_analysis/all_sw_info.p exists; loading---\n",
      "/mnt/home/szheng/ceph/ad/roman_data/e16/e16_1f1/e16_1f1_200920/py_data/place_field_afterheadscan_recombine.p exists; loading---\n",
      "/mnt/home/szheng/ceph/ad/roman_data/e16/e16_1f1/e16_1f1_200920/py_data/fr_map.p exists; loading---\n",
      "/mnt/home/szheng/ceph/ad/roman_data/e16/e16_1f1/e16_1f1_200920/py_data/sw_res_afterheadscan.p exists; loading---\n",
      "/mnt/home/szheng/ceph/ad/roman_data/e16/e16_1f1/e16_1f1_200920/py_data/switch_analysis/all_sw_info.p exists; loading---\n",
      "/mnt/home/szheng/ceph/ad/roman_data/e15/e15_9f1/e15_9f1_200723/py_data/place_field_afterheadscan_recombine.p exists; loading---\n",
      "/mnt/home/szheng/ceph/ad/roman_data/e15/e15_9f1/e15_9f1_200723/py_data/fr_map.p exists; loading---\n",
      "/mnt/home/szheng/ceph/ad/roman_data/e15/e15_9f1/e15_9f1_200723/py_data/sw_res_afterheadscan.p exists; loading---\n",
      "/mnt/home/szheng/ceph/ad/roman_data/e15/e15_9f1/e15_9f1_200723/py_data/switch_analysis/all_sw_info.p exists; loading---\n",
      "/mnt/home/szheng/ceph/ad/roman_data/e14/e14_2m3/e14_2m3_201129/py_data/place_field_afterheadscan_recombine.p exists; loading---\n",
      "/mnt/home/szheng/ceph/ad/roman_data/e14/e14_2m3/e14_2m3_201129/py_data/fr_map.p exists; loading---\n",
      "/mnt/home/szheng/ceph/ad/roman_data/e14/e14_2m3/e14_2m3_201129/py_data/sw_res_afterheadscan.p exists; loading---\n",
      "/mnt/home/szheng/ceph/ad/roman_data/e14/e14_2m3/e14_2m3_201129/py_data/switch_analysis/all_sw_info.p exists; loading---\n",
      "/mnt/home/szheng/ceph/ad/roman_data/e14/e14_2m3/e14_2m3_201125/py_data/place_field_afterheadscan_recombine.p exists; loading---\n",
      "/mnt/home/szheng/ceph/ad/roman_data/e14/e14_2m3/e14_2m3_201125/py_data/fr_map.p exists; loading---\n",
      "/mnt/home/szheng/ceph/ad/roman_data/e14/e14_2m3/e14_2m3_201125/py_data/sw_res_afterheadscan.p exists; loading---\n",
      "/mnt/home/szheng/ceph/ad/roman_data/e14/e14_2m3/e14_2m3_201125/py_data/switch_analysis/all_sw_info.p exists; loading---\n",
      "/mnt/home/szheng/ceph/ad/roman_data/e16/e16_1f1/e16_1f1_200918/py_data/place_field_afterheadscan_recombine.p exists; loading---\n",
      "/mnt/home/szheng/ceph/ad/roman_data/e16/e16_1f1/e16_1f1_200918/py_data/fr_map.p exists; loading---\n",
      "/mnt/home/szheng/ceph/ad/roman_data/e16/e16_1f1/e16_1f1_200918/py_data/sw_res_afterheadscan.p exists; loading---\n",
      "/mnt/home/szheng/ceph/ad/roman_data/e16/e16_1f1/e16_1f1_200918/py_data/switch_analysis/all_sw_info.p exists; loading---\n"
     ]
    },
    {
     "name": "stdout",
     "output_type": "stream",
     "text": [
      "/mnt/home/szheng/ceph/ad/roman_data/e16/e16_1f1/e16_1f1_200919/py_data/place_field_afterheadscan_recombine.p exists; loading---\n",
      "/mnt/home/szheng/ceph/ad/roman_data/e16/e16_1f1/e16_1f1_200919/py_data/fr_map.p exists; loading---\n",
      "/mnt/home/szheng/ceph/ad/roman_data/e16/e16_1f1/e16_1f1_200919/py_data/sw_res_afterheadscan.p exists; loading---\n",
      "/mnt/home/szheng/ceph/ad/roman_data/e16/e16_1f1/e16_1f1_200919/py_data/switch_analysis/all_sw_info.p exists; loading---\n",
      "/mnt/home/szheng/ceph/ad/roman_data/e14/e14_2m3/e14_2m3_201208/py_data/place_field_afterheadscan_recombine.p exists; loading---\n",
      "/mnt/home/szheng/ceph/ad/roman_data/e14/e14_2m3/e14_2m3_201208/py_data/fr_map.p exists; loading---\n",
      "/mnt/home/szheng/ceph/ad/roman_data/e14/e14_2m3/e14_2m3_201208/py_data/sw_res_afterheadscan.p exists; loading---\n",
      "/mnt/home/szheng/ceph/ad/roman_data/e14/e14_2m3/e14_2m3_201208/py_data/switch_analysis/all_sw_info.p exists; loading---\n",
      "/mnt/home/szheng/ceph/ad/roman_data/e14/e14_2m3/e14_2m3_201206/py_data/place_field_afterheadscan_recombine.p exists; loading---\n",
      "/mnt/home/szheng/ceph/ad/roman_data/e14/e14_2m3/e14_2m3_201206/py_data/fr_map.p exists; loading---\n",
      "/mnt/home/szheng/ceph/ad/roman_data/e14/e14_2m3/e14_2m3_201206/py_data/sw_res_afterheadscan.p exists; loading---\n",
      "/mnt/home/szheng/ceph/ad/roman_data/e14/e14_2m3/e14_2m3_201206/py_data/switch_analysis/all_sw_info.p exists; loading---\n",
      "/mnt/home/szheng/ceph/ad/roman_data/e15/e15_9f1/e15_9f1_200802/py_data/place_field_afterheadscan_recombine.p exists; loading---\n",
      "/mnt/home/szheng/ceph/ad/roman_data/e15/e15_9f1/e15_9f1_200802/py_data/fr_map.p exists; loading---\n",
      "/mnt/home/szheng/ceph/ad/roman_data/e15/e15_9f1/e15_9f1_200802/py_data/sw_res_afterheadscan.p exists; loading---\n",
      "/mnt/home/szheng/ceph/ad/roman_data/e15/e15_9f1/e15_9f1_200802/py_data/switch_analysis/all_sw_info.p exists; loading---\n",
      "/mnt/home/szheng/ceph/ad/roman_data/e16/e16_1f1/e16_1f1_200923/py_data/place_field_afterheadscan_recombine.p exists; loading---\n",
      "/mnt/home/szheng/ceph/ad/roman_data/e16/e16_1f1/e16_1f1_200923/py_data/fr_map.p exists; loading---\n",
      "/mnt/home/szheng/ceph/ad/roman_data/e16/e16_1f1/e16_1f1_200923/py_data/sw_res_afterheadscan.p exists; loading---\n",
      "/mnt/home/szheng/ceph/ad/roman_data/e16/e16_1f1/e16_1f1_200923/py_data/switch_analysis/all_sw_info.p exists; loading---\n",
      "/mnt/home/szheng/ceph/ad/roman_data/e15/e15_9f1/e15_9f1_200720/py_data/place_field_afterheadscan_recombine.p exists; loading---\n",
      "/mnt/home/szheng/ceph/ad/roman_data/e15/e15_9f1/e15_9f1_200720/py_data/fr_map.p exists; loading---\n",
      "/mnt/home/szheng/ceph/ad/roman_data/e15/e15_9f1/e15_9f1_200720/py_data/sw_res_afterheadscan.p exists; loading---\n",
      "/mnt/home/szheng/ceph/ad/roman_data/e15/e15_9f1/e15_9f1_200720/py_data/switch_analysis/all_sw_info.p exists; loading---\n",
      "/mnt/home/szheng/ceph/ad/roman_data/e16/e16_2m1/e16_2m1_201121/py_data/place_field_afterheadscan_recombine.p exists; loading---\n",
      "/mnt/home/szheng/ceph/ad/roman_data/e16/e16_2m1/e16_2m1_201121/py_data/fr_map.p exists; loading---\n",
      "/mnt/home/szheng/ceph/ad/roman_data/e16/e16_2m1/e16_2m1_201121/py_data/sw_res_afterheadscan.p exists; loading---\n",
      "/mnt/home/szheng/ceph/ad/roman_data/e16/e16_2m1/e16_2m1_201121/py_data/switch_analysis/all_sw_info.p exists; loading---\n",
      "/mnt/home/szheng/ceph/ad/roman_data/e15/e15_10m1/e15_10m1_200803/py_data/place_field_afterheadscan_recombine.p exists; loading---\n",
      "/mnt/home/szheng/ceph/ad/roman_data/e15/e15_10m1/e15_10m1_200803/py_data/fr_map.p exists; loading---\n",
      "/mnt/home/szheng/ceph/ad/roman_data/e15/e15_10m1/e15_10m1_200803/py_data/sw_res_afterheadscan.p exists; loading---\n",
      "/mnt/home/szheng/ceph/ad/roman_data/e15/e15_10m1/e15_10m1_200803/py_data/switch_analysis/all_sw_info.p exists; loading---\n",
      "/mnt/home/szheng/ceph/ad/roman_data/e15/e15_9f1/e15_9f1_200715/py_data/place_field_afterheadscan_recombine.p exists; loading---\n",
      "/mnt/home/szheng/ceph/ad/roman_data/e15/e15_9f1/e15_9f1_200715/py_data/fr_map.p exists; loading---\n",
      "/mnt/home/szheng/ceph/ad/roman_data/e15/e15_9f1/e15_9f1_200715/py_data/sw_res_afterheadscan.p exists; loading---\n",
      "/mnt/home/szheng/ceph/ad/roman_data/e15/e15_9f1/e15_9f1_200715/py_data/switch_analysis/all_sw_info.p exists; loading---\n",
      "/mnt/home/szheng/ceph/ad/roman_data/e14/e14_2m3/e14_2m3_201121/py_data/place_field_afterheadscan_recombine.p exists; loading---\n",
      "/mnt/home/szheng/ceph/ad/roman_data/e14/e14_2m3/e14_2m3_201121/py_data/fr_map.p exists; loading---\n",
      "/mnt/home/szheng/ceph/ad/roman_data/e14/e14_2m3/e14_2m3_201121/py_data/sw_res_afterheadscan.p exists; loading---\n",
      "/mnt/home/szheng/ceph/ad/roman_data/e14/e14_2m3/e14_2m3_201121/py_data/switch_analysis/all_sw_info.p exists; loading---\n",
      "/mnt/home/szheng/ceph/ad/roman_data/e14/e14_2m3/e14_2m3_201118/py_data/place_field_afterheadscan_recombine.p exists; loading---\n",
      "/mnt/home/szheng/ceph/ad/roman_data/e14/e14_2m3/e14_2m3_201118/py_data/fr_map.p exists; loading---\n",
      "/mnt/home/szheng/ceph/ad/roman_data/e14/e14_2m3/e14_2m3_201118/py_data/sw_res_afterheadscan.p exists; loading---\n",
      "/mnt/home/szheng/ceph/ad/roman_data/e14/e14_2m3/e14_2m3_201118/py_data/switch_analysis/all_sw_info.p exists; loading---\n",
      "CPU times: user 16.3 s, sys: 12.6 s, total: 28.9 s\n",
      "Wall time: 1min 40s\n"
     ]
    }
   ],
   "source": [
    "%%time\n",
    "all_fields_recombined_all = {}\n",
    "pf_params_recombined_all = {}\n",
    "fr_map_trial_df_all = {}\n",
    "pval_all = {}\n",
    "best_n_all = {}\n",
    "X_pwc_all = {}\n",
    "X_raw_all = {}\n",
    "changes_df_all = {}\n",
    "var_res_all = {}\n",
    "corr_all = {}\n",
    "all_sw_d_all = {}\n",
    "all_sw_with_metrics_d_all = {}\n",
    "trial_index_to_index_within_df_all = {}\n",
    "\n",
    "spk_beh_df_all = {}\n",
    "\n",
    "for ind,row in subdb.iterrows():\n",
    "    data_dir_full = row['data_dir_full']\n",
    "    ani = ind[0]\n",
    "    sess = row['sess_name']\n",
    "    \n",
    "    res=dpp.load_spk_beh_df(data_dir_full,load_only=True)\n",
    "    if res is not None:\n",
    "        spk_beh_df = res['spk_beh_df']\n",
    "        spk_beh_df,_ = dpp.add_lin_binned(spk_beh_df,bin_size=2.2,nbins=None)\n",
    "        spk_beh_df_all[ani,sess] = spk_beh_df\n",
    "        trial_index_to_index_within_df = dpp.trial_index_to_index_within_trialtype(spk_beh_df)\n",
    "        trial_index_to_index_within_df_all[ani,sess] = trial_index_to_index_within_df\n",
    "        \n",
    "\n",
    "    pf_res_recombine = pfrc.main(data_dir_full,force_reload=False,load_only=True)\n",
    "\n",
    "    all_fields_recombined=pf_res_recombine['all_fields_recombined']\n",
    "    all_fields_recombined_all[ani,sess] = all_fields_recombined\n",
    "    pf_params_recombined = pf_res_recombine['params_recombined']\n",
    "    pf_params_recombined_all[ani,sess] = pf_params_recombined\n",
    "\n",
    "    fr_map_all = fmos.main(data_dir_full,force_reload=False,load_only=True)\n",
    "    fr_map_trial_df = fr_map_all['fr_map_trial_df']\n",
    "    fr_map_trial_df_all[ani,sess] = fr_map_trial_df\n",
    "\n",
    "\n",
    "\n",
    "    sw_res = sdos.main(data_dir_full,force_reload=False,load_only=True)\n",
    "    pval = sw_res['pval']\n",
    "    pval_all[ani,sess]=pval\n",
    "    best_n = sw_res['best_n']\n",
    "    best_n_all[ani,sess] = best_n\n",
    "    X_pwc = sw_res['X_pwc']\n",
    "    X_pwc_all[ani,sess] = X_pwc\n",
    "    X_raw = sw_res['X_raw']\n",
    "    X_raw_all[ani,sess]=X_raw\n",
    "    changes_df = sw_res['changes_df']\n",
    "    changes_df_all[ani,sess] = changes_df\n",
    "    var_res = sw_res['var_res']\n",
    "    var_res_all[ani,sess]=var_res\n",
    "    corr = sw_res['corr']\n",
    "    corr_all[ani,sess] = corr\n",
    "\n",
    "    sw_info_res=gasam.main(data_dir_full,force_reload=False,load_only=True)\n",
    "    if sw_info_res is None:\n",
    "        sw_info_res=gasam.main(data_dir_full,force_reload=True,load_only=False)\n",
    "    all_sw_d = sw_info_res['all_sw_d']\n",
    "    all_sw_d_all[ani,sess] = all_sw_d\n",
    "    all_sw_with_metrics_d = sw_info_res['all_sw_with_metrics_d']\n",
    "    all_sw_with_metrics_d_all[ani,sess] = all_sw_with_metrics_d\n",
    "\n",
    "all_fields_recombined_all = pd.concat(all_fields_recombined_all,axis=0)\n",
    "pf_params_recombined_all = pd.concat(pf_params_recombined_all,axis=0)\n",
    "fr_map_trial_df_all = pd.concat(fr_map_trial_df_all,axis=0)\n",
    "pval_all = pd.concat(pval_all,axis=0)\n",
    "X_pwc_all = pd.concat(X_pwc_all,axis=0)\n",
    "X_raw_all = pd.concat(X_raw_all,axis=0)\n",
    "changes_df_all = pd.concat(changes_df_all,axis=0)\n",
    "var_res_all = pd.concat(var_res_all,axis=0)\n",
    "corr_all = pd.concat(corr_all,axis=0)\n",
    "all_sw_d_all = pd.concat(all_sw_d_all,axis=0)\n",
    "all_sw_with_metrics_d_all = pd.concat(all_sw_with_metrics_d_all,axis=0)\n",
    "best_n_all = pd.concat(best_n_all,axis=0)\n",
    "\n",
    "spk_beh_df_all = pd.concat(spk_beh_df_all,axis=0)\n"
   ]
  },
  {
   "cell_type": "code",
   "execution_count": 8,
   "id": "cac058f2",
   "metadata": {},
   "outputs": [],
   "source": [
    "import statannotations"
   ]
  },
  {
   "cell_type": "markdown",
   "id": "e067f315",
   "metadata": {},
   "source": [
    "# prep for regression"
   ]
  },
  {
   "cell_type": "markdown",
   "id": "b39d3387",
   "metadata": {},
   "source": [
    "first try: categorical vars for pos, trial, speed & locomotion, \n",
    "off_track_event, off_track_event previous trial same location\n",
    "pause_event, pause_event previous trial same location\n",
    "current_trial correct\n",
    "previous_trial correct"
   ]
  },
  {
   "cell_type": "code",
   "execution_count": 9,
   "id": "3582f318",
   "metadata": {},
   "outputs": [],
   "source": [
    "beh_var_l = ['task_index','trial_type','trial','time','lin','lin_binned','speed_gauss','v_gauss','off_track_event','pause_event','directed_locomotion']\n",
    "\n",
    "beh_df_all = spk_beh_df_all[beh_var_l]\n",
    "\n",
    "beh_df_all_fam = beh_df_all.query('task_index==0')\n",
    "\n",
    "def get_categorical_var(df,var_bin_d):\n",
    "    for k,val in var_bin_d.items():\n",
    "        k_cat = k+'_cat'\n",
    "        df[k_cat] = pd.cut(df[k],val,retbins=False,labels=False,include_lowest=True)\n",
    "    return df\n",
    "\n",
    "var_bin_d = {'speed_gauss':[0,1,5,10,20],'lin':[0,15,44.5,74,92.5,111,148,185,202,222]}\n",
    "beh_df_all_fam = get_categorical_var(beh_df_all_fam,var_bin_d)\n",
    "\n",
    "# not moving part, all asign to category 0\n",
    "beh_df_all_fam.loc[~beh_df_all_fam['directed_locomotion'].astype(bool),'speed_gauss_cat'] = 0\n",
    "\n",
    "# only keep the running\n",
    "beh_df_all_fam = beh_df_all_fam.loc[beh_df_all_fam['directed_locomotion'].astype(bool)]"
   ]
  },
  {
   "cell_type": "markdown",
   "id": "68107564",
   "metadata": {},
   "source": [
    "## independent var"
   ]
  },
  {
   "cell_type": "code",
   "execution_count": 16,
   "id": "0d684ec5",
   "metadata": {},
   "outputs": [],
   "source": [
    "ind_var_per_trial_pos_all=beh_df_all_fam.groupby(level=(0,1)).apply(lambda x:x.groupby(['task_index','trial','lin_binned'])[['lin','trial','speed_gauss']].mean())\n",
    "\n",
    "\n"
   ]
  },
  {
   "cell_type": "code",
   "execution_count": 17,
   "id": "fdf8d3d5",
   "metadata": {},
   "outputs": [],
   "source": [
    "# get time bin and time per trial and pos!!!!\n",
    "n_timebin_per_trial_pos_all = beh_df_all_fam.groupby(level=(0,1)).apply(lambda x:x.groupby(['task_index','trial','lin_binned']).count().iloc[:,0])\n",
    "dt_per_ani_sess_task =beh_df_all.set_index('task_index',append=True).groupby(level=(0,1,3)).apply(lambda x:np.median(np.diff(x['time'])))\n",
    "time_per_trial_pos_all = n_timebin_per_trial_pos_all.groupby(level=(0,1,2)).apply(lambda x:x * dt_per_ani_sess_task.loc[x.name])"
   ]
  },
  {
   "cell_type": "code",
   "execution_count": 18,
   "id": "ed90d4b9",
   "metadata": {},
   "outputs": [],
   "source": [
    "# get n fields per pos!!!\n",
    "pos_key = 'peak'\n",
    "n_field_per_ani_sess_task_pos = all_fields_recombined_all.groupby(level=(0,1,2)).apply(lambda x:x[pos_key].astype(int).value_counts(sort=False).sort_index(level=3)) # assuming pos_key column is int\n",
    "\n",
    "\n",
    "n_field_per_ani_sess_task_pos = pd.DataFrame(n_field_per_ani_sess_task_pos.values,index=n_field_per_ani_sess_task_pos.index,columns=['n_field'])\n"
   ]
  },
  {
   "cell_type": "code",
   "execution_count": 19,
   "id": "3c2f2697",
   "metadata": {},
   "outputs": [],
   "source": [
    "# categorize vars\n",
    "var_bin_d = {'speed_gauss':[0,1,5,10,20,np.inf],'lin':[0,15,44.5,74,92.5,111,148,185,202,222],'trial':np.arange(0,60,4)}\n",
    "ind_var_per_trial_pos_all = get_categorical_var(ind_var_per_trial_pos_all,var_bin_d)"
   ]
  },
  {
   "cell_type": "code",
   "execution_count": 20,
   "id": "3e2dec77",
   "metadata": {
    "scrolled": true
   },
   "outputs": [
    {
     "data": {
      "text/html": [
       "<div>\n",
       "<style scoped>\n",
       "    .dataframe tbody tr th:only-of-type {\n",
       "        vertical-align: middle;\n",
       "    }\n",
       "\n",
       "    .dataframe tbody tr th {\n",
       "        vertical-align: top;\n",
       "    }\n",
       "\n",
       "    .dataframe thead th {\n",
       "        text-align: right;\n",
       "    }\n",
       "</style>\n",
       "<table border=\"1\" class=\"dataframe\">\n",
       "  <thead>\n",
       "    <tr style=\"text-align: right;\">\n",
       "      <th></th>\n",
       "      <th></th>\n",
       "      <th></th>\n",
       "      <th></th>\n",
       "      <th></th>\n",
       "      <th>lin</th>\n",
       "      <th>trial</th>\n",
       "      <th>speed_gauss</th>\n",
       "      <th>speed_gauss_cat</th>\n",
       "      <th>lin_cat</th>\n",
       "      <th>trial_cat</th>\n",
       "    </tr>\n",
       "    <tr>\n",
       "      <th></th>\n",
       "      <th></th>\n",
       "      <th>task_index</th>\n",
       "      <th>trial</th>\n",
       "      <th>lin_binned</th>\n",
       "      <th></th>\n",
       "      <th></th>\n",
       "      <th></th>\n",
       "      <th></th>\n",
       "      <th></th>\n",
       "      <th></th>\n",
       "    </tr>\n",
       "  </thead>\n",
       "  <tbody>\n",
       "    <tr>\n",
       "      <th rowspan=\"5\" valign=\"top\">e13_16f1</th>\n",
       "      <th rowspan=\"5\" valign=\"top\">e13_16f1_210302</th>\n",
       "      <th rowspan=\"5\" valign=\"top\">0</th>\n",
       "      <th rowspan=\"5\" valign=\"top\">0.0</th>\n",
       "      <th>1</th>\n",
       "      <td>3.873202</td>\n",
       "      <td>0.0</td>\n",
       "      <td>3.978349</td>\n",
       "      <td>1</td>\n",
       "      <td>0</td>\n",
       "      <td>0.0</td>\n",
       "    </tr>\n",
       "    <tr>\n",
       "      <th>2</th>\n",
       "      <td>5.415040</td>\n",
       "      <td>0.0</td>\n",
       "      <td>5.236367</td>\n",
       "      <td>2</td>\n",
       "      <td>0</td>\n",
       "      <td>0.0</td>\n",
       "    </tr>\n",
       "    <tr>\n",
       "      <th>3</th>\n",
       "      <td>7.643223</td>\n",
       "      <td>0.0</td>\n",
       "      <td>6.843263</td>\n",
       "      <td>2</td>\n",
       "      <td>0</td>\n",
       "      <td>0.0</td>\n",
       "    </tr>\n",
       "    <tr>\n",
       "      <th>4</th>\n",
       "      <td>10.135578</td>\n",
       "      <td>0.0</td>\n",
       "      <td>6.743249</td>\n",
       "      <td>2</td>\n",
       "      <td>0</td>\n",
       "      <td>0.0</td>\n",
       "    </tr>\n",
       "    <tr>\n",
       "      <th>5</th>\n",
       "      <td>12.247501</td>\n",
       "      <td>0.0</td>\n",
       "      <td>5.019438</td>\n",
       "      <td>2</td>\n",
       "      <td>0</td>\n",
       "      <td>0.0</td>\n",
       "    </tr>\n",
       "    <tr>\n",
       "      <th>...</th>\n",
       "      <th>...</th>\n",
       "      <th>...</th>\n",
       "      <th>...</th>\n",
       "      <th>...</th>\n",
       "      <td>...</td>\n",
       "      <td>...</td>\n",
       "      <td>...</td>\n",
       "      <td>...</td>\n",
       "      <td>...</td>\n",
       "      <td>...</td>\n",
       "    </tr>\n",
       "    <tr>\n",
       "      <th rowspan=\"5\" valign=\"top\">e16_3m2</th>\n",
       "      <th rowspan=\"5\" valign=\"top\">e16_3m2_211213</th>\n",
       "      <th rowspan=\"5\" valign=\"top\">0</th>\n",
       "      <th rowspan=\"5\" valign=\"top\">26.0</th>\n",
       "      <th>95</th>\n",
       "      <td>211.681222</td>\n",
       "      <td>26.0</td>\n",
       "      <td>5.904896</td>\n",
       "      <td>2</td>\n",
       "      <td>8</td>\n",
       "      <td>6.0</td>\n",
       "    </tr>\n",
       "    <tr>\n",
       "      <th>96</th>\n",
       "      <td>214.024837</td>\n",
       "      <td>26.0</td>\n",
       "      <td>6.144764</td>\n",
       "      <td>2</td>\n",
       "      <td>8</td>\n",
       "      <td>6.0</td>\n",
       "    </tr>\n",
       "    <tr>\n",
       "      <th>97</th>\n",
       "      <td>216.380268</td>\n",
       "      <td>26.0</td>\n",
       "      <td>8.674608</td>\n",
       "      <td>2</td>\n",
       "      <td>8</td>\n",
       "      <td>6.0</td>\n",
       "    </tr>\n",
       "    <tr>\n",
       "      <th>98</th>\n",
       "      <td>218.581673</td>\n",
       "      <td>26.0</td>\n",
       "      <td>3.429937</td>\n",
       "      <td>1</td>\n",
       "      <td>8</td>\n",
       "      <td>6.0</td>\n",
       "    </tr>\n",
       "    <tr>\n",
       "      <th>99</th>\n",
       "      <td>220.890973</td>\n",
       "      <td>26.0</td>\n",
       "      <td>6.439045</td>\n",
       "      <td>2</td>\n",
       "      <td>8</td>\n",
       "      <td>6.0</td>\n",
       "    </tr>\n",
       "  </tbody>\n",
       "</table>\n",
       "<p>123755 rows × 6 columns</p>\n",
       "</div>"
      ],
      "text/plain": [
       "                                                             lin  trial  \\\n",
       "                         task_index trial lin_binned                      \n",
       "e13_16f1 e13_16f1_210302 0          0.0   1             3.873202    0.0   \n",
       "                                          2             5.415040    0.0   \n",
       "                                          3             7.643223    0.0   \n",
       "                                          4            10.135578    0.0   \n",
       "                                          5            12.247501    0.0   \n",
       "...                                                          ...    ...   \n",
       "e16_3m2  e16_3m2_211213  0          26.0  95          211.681222   26.0   \n",
       "                                          96          214.024837   26.0   \n",
       "                                          97          216.380268   26.0   \n",
       "                                          98          218.581673   26.0   \n",
       "                                          99          220.890973   26.0   \n",
       "\n",
       "                                                      speed_gauss  \\\n",
       "                         task_index trial lin_binned                \n",
       "e13_16f1 e13_16f1_210302 0          0.0   1              3.978349   \n",
       "                                          2              5.236367   \n",
       "                                          3              6.843263   \n",
       "                                          4              6.743249   \n",
       "                                          5              5.019438   \n",
       "...                                                           ...   \n",
       "e16_3m2  e16_3m2_211213  0          26.0  95             5.904896   \n",
       "                                          96             6.144764   \n",
       "                                          97             8.674608   \n",
       "                                          98             3.429937   \n",
       "                                          99             6.439045   \n",
       "\n",
       "                                                      speed_gauss_cat  \\\n",
       "                         task_index trial lin_binned                    \n",
       "e13_16f1 e13_16f1_210302 0          0.0   1                         1   \n",
       "                                          2                         2   \n",
       "                                          3                         2   \n",
       "                                          4                         2   \n",
       "                                          5                         2   \n",
       "...                                                               ...   \n",
       "e16_3m2  e16_3m2_211213  0          26.0  95                        2   \n",
       "                                          96                        2   \n",
       "                                          97                        2   \n",
       "                                          98                        1   \n",
       "                                          99                        2   \n",
       "\n",
       "                                                      lin_cat  trial_cat  \n",
       "                         task_index trial lin_binned                      \n",
       "e13_16f1 e13_16f1_210302 0          0.0   1                 0        0.0  \n",
       "                                          2                 0        0.0  \n",
       "                                          3                 0        0.0  \n",
       "                                          4                 0        0.0  \n",
       "                                          5                 0        0.0  \n",
       "...                                                       ...        ...  \n",
       "e16_3m2  e16_3m2_211213  0          26.0  95                8        6.0  \n",
       "                                          96                8        6.0  \n",
       "                                          97                8        6.0  \n",
       "                                          98                8        6.0  \n",
       "                                          99                8        6.0  \n",
       "\n",
       "[123755 rows x 6 columns]"
      ]
     },
     "execution_count": 20,
     "metadata": {},
     "output_type": "execute_result"
    }
   ],
   "source": [
    "ind_var_per_trial_pos_all"
   ]
  },
  {
   "cell_type": "code",
   "execution_count": 21,
   "id": "b55c88fe",
   "metadata": {},
   "outputs": [],
   "source": [
    "ind=ind_var_per_trial_pos_all.index\n",
    "ind=ind.set_names(['animal','session','task_index','trial','lin_binned'])\n",
    "ind_var_per_trial_pos_all.index = ind\n",
    "\n",
    "ind = n_field_per_ani_sess_task_pos.index\n",
    "ind = ind.set_names(['animal','session','task_index','lin_binned'])\n",
    "n_field_per_ani_sess_task_pos.index=ind"
   ]
  },
  {
   "cell_type": "code",
   "execution_count": 22,
   "id": "339ae708",
   "metadata": {
    "scrolled": true
   },
   "outputs": [],
   "source": [
    "# add n fields to design matrix\n",
    "# ind_var_per_trial_pos_all = ind_var_per_trial_pos_all.groupby(level=(2,3),group_keys=False).apply(lambda x:x.assign(n_field=n_field_per_ani_sess_task_pos))\n",
    "\n",
    "if 'n_field' in ind_var_per_trial_pos_all.columns:\n",
    "    ind_var_per_trial_pos_all= ind_var_per_trial_pos_all.drop('n_field',axis=1)\n",
    "gpb = ind_var_per_trial_pos_all.groupby(level=(3),group_keys=False)\n",
    "ind_var_per_trial_pos_all_l = {}\n",
    "for k,val in gpb:\n",
    "    val_joined=val.reset_index(level=3,drop=True).join(n_field_per_ani_sess_task_pos,how='left')\n",
    "    ind_var_per_trial_pos_all_l[k]=val_joined\n",
    "ind_var_per_trial_pos_all_l =  pd.concat(ind_var_per_trial_pos_all_l,axis=0)\n",
    "\n",
    "ind_var_per_trial_pos_all = ind_var_per_trial_pos_all_l.swaplevel(0,1).swaplevel(1,2).swaplevel(2,3)\n",
    "\n"
   ]
  },
  {
   "cell_type": "code",
   "execution_count": 23,
   "id": "7c3964a3",
   "metadata": {},
   "outputs": [],
   "source": [
    "# add duration to design matrix\n",
    "ind_var_per_trial_pos_all.loc[time_per_trial_pos_all.index,'duration'] = time_per_trial_pos_all"
   ]
  },
  {
   "cell_type": "markdown",
   "id": "7c4ef353",
   "metadata": {},
   "source": [
    "## prep dependent var"
   ]
  },
  {
   "cell_type": "code",
   "execution_count": 24,
   "id": "e4d69c3b",
   "metadata": {},
   "outputs": [],
   "source": [
    "# ani,sess = 'e13_26m1','e13_26m1_210913'\n",
    "# all_sw_d_all_one = all_sw_d_all.loc[ani,sess]\n",
    "get_sw_per_trial_pos_func = lambda x:x.groupby(['switch','trial_index','field_pos']).count().iloc[:,0]\n",
    "sw_per_trial_pos_all = all_sw_d_all.groupby(level=(0,1,2)).apply(get_sw_per_trial_pos_func)\n",
    "\n",
    "onoff_str_d={1:'on',-1:'off'}\n",
    "for onoff in [1,-1]:\n",
    "    sw_per_trial_pos_all_onoff=sw_per_trial_pos_all.loc[(slice(None),slice(None),slice(None),onoff)]\n",
    "    onoff_str = onoff_str_d[onoff]\n",
    "    ind_var_per_trial_pos_all[f'sw_{onoff_str}'] = sw_per_trial_pos_all_onoff\n",
    "    ind_var_per_trial_pos_all[f'sw_{onoff_str}'] = ind_var_per_trial_pos_all[f'sw_{onoff_str}'].fillna(0)\n",
    "var_per_trial_pos_all = ind_var_per_trial_pos_all"
   ]
  },
  {
   "cell_type": "markdown",
   "id": "04dcff71",
   "metadata": {},
   "source": [
    "# uni var tests"
   ]
  },
  {
   "cell_type": "code",
   "execution_count": 26,
   "id": "19a86ca0",
   "metadata": {},
   "outputs": [],
   "source": [
    "# var_per_trial_pos_all=var_per_trial_pos_all.reset_index('trial',drop=True)"
   ]
  },
  {
   "cell_type": "code",
   "execution_count": 27,
   "id": "24ac6c5d",
   "metadata": {},
   "outputs": [],
   "source": [
    "for onoff_str in onoff_str_d.values():\n",
    "    var_per_trial_pos_all[f'sw_{onoff_str}_div_n_field_duration'] = var_per_trial_pos_all[f'sw_{onoff_str}'] / (var_per_trial_pos_all['n_field'] * var_per_trial_pos_all['duration'] + 1e-10)\n",
    "\n",
    "for onoff_str in onoff_str_d.values():\n",
    "    var_per_trial_pos_all[f'sw_{onoff_str}_div_n_field'] = var_per_trial_pos_all[f'sw_{onoff_str}'] / (var_per_trial_pos_all['n_field']+1e-10)\n"
   ]
  },
  {
   "cell_type": "code",
   "execution_count": 28,
   "id": "296ab782",
   "metadata": {},
   "outputs": [],
   "source": [
    "# sw_on_tr_pos_mean = var_per_trial_pos_all.groupby(level=(-2,-1))['sw_on_div_n_field_duration'].mean().unstack()\n",
    "sw_on_tr_pos_mean = var_per_trial_pos_all.groupby(['trial_cat','lin_cat'])['sw_on_div_n_field_duration'].mean().unstack()"
   ]
  },
  {
   "cell_type": "markdown",
   "id": "5764df83",
   "metadata": {},
   "source": [
    "## shuffle f-test"
   ]
  },
  {
   "cell_type": "code",
   "execution_count": 29,
   "id": "6751b376",
   "metadata": {},
   "outputs": [],
   "source": [
    "# key = 'sw_on_div_n_field_duration'\n",
    "# gpb = var_per_trial_pos_all.groupby('lin_cat')[key]\n",
    "# f_data,p_data=scipy.stats.f_oneway(*[x.dropna(axis=0) for x in dict(list(gpb)).values()])\n"
   ]
  },
  {
   "cell_type": "code",
   "execution_count": 30,
   "id": "2f9eb818",
   "metadata": {},
   "outputs": [
    {
     "data": {
      "text/plain": [
       "<module 'behavior_and_switching' from '/mnt/home/szheng/projects/place_variability/code/behavior_and_switching.py'>"
      ]
     },
     "execution_count": 30,
     "metadata": {},
     "output_type": "execute_result"
    }
   ],
   "source": [
    "import behavior_and_switching as bas\n",
    "reload(bas)"
   ]
  },
  {
   "cell_type": "code",
   "execution_count": 31,
   "id": "54ae828b",
   "metadata": {},
   "outputs": [],
   "source": [
    "data = var_per_trial_pos_all\n",
    "val_key='sw_on_div_n_field_duration' #'sw_on_div_n_field'#\n",
    "group_key = 'lin_cat'\n",
    "shuffle_f_test_res = bas.shuffle_f_test_with_posthoc(data,shuffle_groupby_level='session',group_key=group_key,val_key = val_key,\n",
    "                                                     div_by=None,\n",
    "                                                     n_repeats = 200)\n",
    "\n"
   ]
  },
  {
   "cell_type": "code",
   "execution_count": 32,
   "id": "bddfc764",
   "metadata": {},
   "outputs": [],
   "source": [
    "reload(bas)\n",
    "mean_per_group_diff_data = shuffle_f_test_res['mean_per_group_diff_data']\n",
    "mean_per_group_diff_shuffle = shuffle_f_test_res['mean_per_group_diff_shuffle']\n",
    "sig, pval, sig_inds, pval_selected = bas.post_hoc_test(mean_per_group_diff_data,mean_per_group_diff_shuffle,alpha=0.05,do_bonf=True)"
   ]
  },
  {
   "cell_type": "code",
   "execution_count": 33,
   "id": "3e8e506d",
   "metadata": {},
   "outputs": [],
   "source": [
    "import statannotations \n",
    "from statannotations.Annotator import Annotator"
   ]
  },
  {
   "cell_type": "code",
   "execution_count": 34,
   "id": "ae40033f",
   "metadata": {},
   "outputs": [],
   "source": [
    "sw_on_div_n_field_sum_trial= data.groupby(level=(0,1,2,4))['sw_on'].sum() / data.groupby(level=(0,1,2,4))['n_field'].mean()"
   ]
  },
  {
   "cell_type": "code",
   "execution_count": 35,
   "id": "589f4537",
   "metadata": {},
   "outputs": [
    {
     "data": {
      "text/plain": [
       "animal    session          task_index  lin_binned\n",
       "e13_16f1  e13_16f1_210302  0           0             0.0\n",
       "                                       1             0.0\n",
       "                                       2             0.0\n",
       "                                       3             0.0\n",
       "                                       4             0.0\n",
       "                                                    ... \n",
       "e16_3m2   e16_3m2_211213   0           95            8.0\n",
       "                                       96            8.0\n",
       "                                       97            8.0\n",
       "                                       98            8.0\n",
       "                                       99            8.0\n",
       "Name: lin_cat, Length: 4698, dtype: float64"
      ]
     },
     "execution_count": 35,
     "metadata": {},
     "output_type": "execute_result"
    }
   ],
   "source": [
    "data.groupby(level=(0,1,2,4))['lin_cat'].mean()"
   ]
  },
  {
   "cell_type": "code",
   "execution_count": 36,
   "id": "485ec895",
   "metadata": {},
   "outputs": [],
   "source": [
    "sw_on_div_n_field_sum_trial = pd.DataFrame(sw_on_div_n_field_sum_trial,columns=['sw_on_div_n_field_sum_trial'])\n",
    "sw_on_div_n_field_sum_trial['lin_cat'] = var_per_trial_pos_all.groupby(level=(0,1,2,4))['lin_cat'].mean().astype(int)"
   ]
  },
  {
   "cell_type": "code",
   "execution_count": 37,
   "id": "df60610f",
   "metadata": {},
   "outputs": [
    {
     "name": "stdout",
     "output_type": "stream",
     "text": [
      "p-value annotation legend:\n",
      "      ns: p <= 1.00e+00\n",
      "       *: 1.00e-02 < p <= 5.00e-02\n",
      "      **: 1.00e-03 < p <= 1.00e-02\n",
      "     ***: 1.00e-04 < p <= 1.00e-03\n",
      "    ****: p <= 1.00e-04\n",
      "\n",
      "0 vs. 1: Custom statistical test, P_val:0.000e+00\n",
      "1 vs. 2: Custom statistical test, P_val:5.000e-03\n",
      "2 vs. 3: Custom statistical test, P_val:0.000e+00\n",
      "5 vs. 6: Custom statistical test, P_val:0.000e+00\n",
      "0 vs. 2: Custom statistical test, P_val:0.000e+00\n",
      "1 vs. 3: Custom statistical test, P_val:0.000e+00\n",
      "2 vs. 4: Custom statistical test, P_val:0.000e+00\n",
      "1 vs. 4: Custom statistical test, P_val:0.000e+00\n",
      "2 vs. 5: Custom statistical test, P_val:0.000e+00\n",
      "5 vs. 8: Custom statistical test, P_val:0.000e+00\n",
      "1 vs. 5: Custom statistical test, P_val:0.000e+00\n",
      "1 vs. 6: Custom statistical test, P_val:0.000e+00\n",
      "1 vs. 7: Custom statistical test, P_val:0.000e+00\n",
      "1 vs. 8: Custom statistical test, P_val:0.000e+00\n"
     ]
    },
    {
     "data": {
      "text/plain": [
       "(<AxesSubplot:xlabel='lin_cat', ylabel='sw_on_div_n_field_sum_trial'>,\n",
       " [<statannotations.Annotation.Annotation at 0x1554fc5afc70>,\n",
       "  <statannotations.Annotation.Annotation at 0x1554fc4688b0>,\n",
       "  <statannotations.Annotation.Annotation at 0x1554fc4686d0>,\n",
       "  <statannotations.Annotation.Annotation at 0x1554fc103d00>,\n",
       "  <statannotations.Annotation.Annotation at 0x1554fc1033a0>,\n",
       "  <statannotations.Annotation.Annotation at 0x1554fc12ae80>,\n",
       "  <statannotations.Annotation.Annotation at 0x1554fc12adc0>,\n",
       "  <statannotations.Annotation.Annotation at 0x1554fc12ac40>,\n",
       "  <statannotations.Annotation.Annotation at 0x1554fc12a8b0>,\n",
       "  <statannotations.Annotation.Annotation at 0x1554fc12a850>,\n",
       "  <statannotations.Annotation.Annotation at 0x1554fc544be0>,\n",
       "  <statannotations.Annotation.Annotation at 0x1554fc544ac0>,\n",
       "  <statannotations.Annotation.Annotation at 0x1554fc544880>,\n",
       "  <statannotations.Annotation.Annotation at 0x1554fc5440a0>])"
      ]
     },
     "execution_count": 37,
     "metadata": {},
     "output_type": "execute_result"
    },
    {
     "data": {
      "image/png": "[encoded data removed]",
      "text/plain": [
       "<Figure size 432x288 with 1 Axes>"
      ]
     },
     "metadata": {
      "needs_background": "light"
     },
     "output_type": "display_data"
    }
   ],
   "source": [
    "x=group_key\n",
    "y='sw_on_div_n_field_sum_trial'\n",
    "data=sw_on_div_n_field_sum_trial\n",
    "ax=sns.stripplot(data=data,x=x,y=y)\n",
    "annot = Annotator(ax, sig_inds, data=data, x=x, y=y)\n",
    "\n",
    "annot.new_plot(ax=ax, pairs=sig_inds,\n",
    "               data=data, x=x, y=y)\n",
    "(annot\n",
    " .configure(test=None, test_short_name='')\n",
    " .set_pvalues(pvalues=pval_selected)\n",
    " .annotate())"
   ]
  },
  {
   "cell_type": "code",
   "execution_count": 38,
   "id": "4a8d22bb",
   "metadata": {},
   "outputs": [],
   "source": [
    "# data = var_per_trial_pos_all\n",
    "# shuffle_groupby_level='session'\n",
    "# group_key='lin_cat'\n",
    "# # val_key = 'sw_on'\n",
    "# # div_by=['n_field','duration']\n",
    "# val_key = 'sw_on_div_n_field_duration'\n",
    "# div_by=None\n",
    "# n_repeats = 200\n",
    "# if div_by is not None:\n",
    "#     val_key_div = val_key + '_div_' + '_'.join(div_by)\n",
    "#     div_by_prod = data[div_by].prod(axis=1).values \n",
    "#     data[val_key_div] = data[val_key] / div_by_prod\n",
    "# else:\n",
    "#     val_key_div=val_key\n",
    "\n",
    "# gpb = data.groupby(group_key)[val_key_div]\n",
    "# mean_per_group = gpb.mean()\n",
    "# mean_per_group_diff = mean_per_group.values[:,None] - mean_per_group.values[None,:]\n",
    "# f_data,p_data=scipy.stats.f_oneway(*[x.dropna(axis=0) for x in dict(list(gpb)).values()])\n",
    "\n",
    "# # key = 'sw_on_div_n_field_duration'\n",
    "# # label = 'lin_cat'\n",
    "\n",
    "# val_sh_l = []\n",
    "# for i in range(n_repeats):\n",
    "#     val_sh= data.groupby(level=shuffle_groupby_level)[val_key].sample(frac=1,replace=False).values\n",
    "#     if div_by is not None:\n",
    "#         val_sh = val_sh / div_by_prod\n",
    "#     val_sh_l.append(val_sh)\n",
    "    \n",
    "# val_sh_l_df = pd.DataFrame(np.array(val_sh_l).T)\n",
    "# val_sh_l_df[group_key] = data[group_key].values\n",
    "# mean_per_group_sh = val_sh_l_df.groupby(group_key).mean()\n",
    "# sh_cols = np.arange(n_repeats)\n",
    "\n",
    "# gpb = val_sh_l_df.groupby(group_key)\n",
    "# n_groups = len(gpb)\n",
    "# n_within_group = gpb.count()\n",
    "# MSB = np.sum(n_within_group*(mean_per_group_sh - val_sh_l_df[sh_cols].mean(axis=0))**2,axis=0) / (n_groups-1)\n",
    "# MSW = gpb[sh_cols].apply(lambda x:np.sum((x.dropna() - x.dropna().mean(axis=0).values[None,:])**2,axis=0)).sum(axis=0) / (val_sh_l_df[0].dropna().shape[0] - n_groups)\n",
    "# f_sh = MSB / MSW\n",
    "# mean_per_group_diff_sh = np.stack(mean_per_group_sh.T.apply(lambda x:x.values[:,None]-x.values[None,:],axis=1).values)\n",
    "\n",
    "\n",
    "# shuffle_f_test_res = {'f_data':f_data,'p_data':p_data,'f_shuffle':f_sh,\n",
    "#                       'mean_per_group_data':mean_per_group,'mean_per_group_diff_data':mean_per_group_diff,\n",
    "#                       'mean_per_group_shuffle':mean_per_group_sh,\n",
    "#                       'mean_per_group_diff_shuffle':mean_per_group_diff_sh,\n",
    "#                      }"
   ]
  },
  {
   "cell_type": "code",
   "execution_count": 39,
   "id": "0ec912a9",
   "metadata": {
    "scrolled": true
   },
   "outputs": [
    {
     "ename": "ValueError",
     "evalue": "Could not interpret value `sw_on` for parameter `y`",
     "output_type": "error",
     "traceback": [
      "\u001b[0;31m---------------------------------------------------------------------------\u001b[0m",
      "\u001b[0;31mValueError\u001b[0m                                Traceback (most recent call last)",
      "Input \u001b[0;32mIn [39]\u001b[0m, in \u001b[0;36m<cell line: 1>\u001b[0;34m()\u001b[0m\n\u001b[0;32m----> 1\u001b[0m \u001b[43msns\u001b[49m\u001b[38;5;241;43m.\u001b[39;49m\u001b[43mlineplot\u001b[49m\u001b[43m(\u001b[49m\u001b[43mdata\u001b[49m\u001b[38;5;241;43m=\u001b[39;49m\u001b[43mdata\u001b[49m\u001b[43m,\u001b[49m\u001b[43mx\u001b[49m\u001b[38;5;241;43m=\u001b[39;49m\u001b[38;5;124;43m'\u001b[39;49m\u001b[38;5;124;43mlin_cat\u001b[39;49m\u001b[38;5;124;43m'\u001b[39;49m\u001b[43m,\u001b[49m\u001b[43my\u001b[49m\u001b[38;5;241;43m=\u001b[39;49m\u001b[38;5;124;43m'\u001b[39;49m\u001b[38;5;124;43msw_on\u001b[39;49m\u001b[38;5;124;43m'\u001b[39;49m\u001b[43m)\u001b[49m\n",
      "File \u001b[0;32m~/ceph/envs/jax/lib/python3.9/site-packages/seaborn/_decorators.py:46\u001b[0m, in \u001b[0;36m_deprecate_positional_args.<locals>.inner_f\u001b[0;34m(*args, **kwargs)\u001b[0m\n\u001b[1;32m     36\u001b[0m     warnings\u001b[38;5;241m.\u001b[39mwarn(\n\u001b[1;32m     37\u001b[0m         \u001b[38;5;124m\"\u001b[39m\u001b[38;5;124mPass the following variable\u001b[39m\u001b[38;5;132;01m{}\u001b[39;00m\u001b[38;5;124m as \u001b[39m\u001b[38;5;132;01m{}\u001b[39;00m\u001b[38;5;124mkeyword arg\u001b[39m\u001b[38;5;132;01m{}\u001b[39;00m\u001b[38;5;124m: \u001b[39m\u001b[38;5;132;01m{}\u001b[39;00m\u001b[38;5;124m. \u001b[39m\u001b[38;5;124m\"\u001b[39m\n\u001b[1;32m     38\u001b[0m         \u001b[38;5;124m\"\u001b[39m\u001b[38;5;124mFrom version 0.12, the only valid positional argument \u001b[39m\u001b[38;5;124m\"\u001b[39m\n\u001b[0;32m   (...)\u001b[0m\n\u001b[1;32m     43\u001b[0m         \u001b[38;5;167;01mFutureWarning\u001b[39;00m\n\u001b[1;32m     44\u001b[0m     )\n\u001b[1;32m     45\u001b[0m kwargs\u001b[38;5;241m.\u001b[39mupdate({k: arg \u001b[38;5;28;01mfor\u001b[39;00m k, arg \u001b[38;5;129;01min\u001b[39;00m \u001b[38;5;28mzip\u001b[39m(sig\u001b[38;5;241m.\u001b[39mparameters, args)})\n\u001b[0;32m---> 46\u001b[0m \u001b[38;5;28;01mreturn\u001b[39;00m \u001b[43mf\u001b[49m\u001b[43m(\u001b[49m\u001b[38;5;241;43m*\u001b[39;49m\u001b[38;5;241;43m*\u001b[39;49m\u001b[43mkwargs\u001b[49m\u001b[43m)\u001b[49m\n",
      "File \u001b[0;32m~/ceph/envs/jax/lib/python3.9/site-packages/seaborn/relational.py:692\u001b[0m, in \u001b[0;36mlineplot\u001b[0;34m(x, y, hue, size, style, data, palette, hue_order, hue_norm, sizes, size_order, size_norm, dashes, markers, style_order, units, estimator, ci, n_boot, seed, sort, err_style, err_kws, legend, ax, **kwargs)\u001b[0m\n\u001b[1;32m    677\u001b[0m \u001b[38;5;129m@_deprecate_positional_args\u001b[39m\n\u001b[1;32m    678\u001b[0m \u001b[38;5;28;01mdef\u001b[39;00m \u001b[38;5;21mlineplot\u001b[39m(\n\u001b[1;32m    679\u001b[0m     \u001b[38;5;241m*\u001b[39m,\n\u001b[0;32m   (...)\u001b[0m\n\u001b[1;32m    688\u001b[0m     legend\u001b[38;5;241m=\u001b[39m\u001b[38;5;124m\"\u001b[39m\u001b[38;5;124mauto\u001b[39m\u001b[38;5;124m\"\u001b[39m, ax\u001b[38;5;241m=\u001b[39m\u001b[38;5;28;01mNone\u001b[39;00m, \u001b[38;5;241m*\u001b[39m\u001b[38;5;241m*\u001b[39mkwargs\n\u001b[1;32m    689\u001b[0m ):\n\u001b[1;32m    691\u001b[0m     variables \u001b[38;5;241m=\u001b[39m _LinePlotter\u001b[38;5;241m.\u001b[39mget_semantics(\u001b[38;5;28mlocals\u001b[39m())\n\u001b[0;32m--> 692\u001b[0m     p \u001b[38;5;241m=\u001b[39m \u001b[43m_LinePlotter\u001b[49m\u001b[43m(\u001b[49m\n\u001b[1;32m    693\u001b[0m \u001b[43m        \u001b[49m\u001b[43mdata\u001b[49m\u001b[38;5;241;43m=\u001b[39;49m\u001b[43mdata\u001b[49m\u001b[43m,\u001b[49m\u001b[43m \u001b[49m\u001b[43mvariables\u001b[49m\u001b[38;5;241;43m=\u001b[39;49m\u001b[43mvariables\u001b[49m\u001b[43m,\u001b[49m\n\u001b[1;32m    694\u001b[0m \u001b[43m        \u001b[49m\u001b[43mestimator\u001b[49m\u001b[38;5;241;43m=\u001b[39;49m\u001b[43mestimator\u001b[49m\u001b[43m,\u001b[49m\u001b[43m \u001b[49m\u001b[43mci\u001b[49m\u001b[38;5;241;43m=\u001b[39;49m\u001b[43mci\u001b[49m\u001b[43m,\u001b[49m\u001b[43m \u001b[49m\u001b[43mn_boot\u001b[49m\u001b[38;5;241;43m=\u001b[39;49m\u001b[43mn_boot\u001b[49m\u001b[43m,\u001b[49m\u001b[43m \u001b[49m\u001b[43mseed\u001b[49m\u001b[38;5;241;43m=\u001b[39;49m\u001b[43mseed\u001b[49m\u001b[43m,\u001b[49m\n\u001b[1;32m    695\u001b[0m \u001b[43m        \u001b[49m\u001b[43msort\u001b[49m\u001b[38;5;241;43m=\u001b[39;49m\u001b[43msort\u001b[49m\u001b[43m,\u001b[49m\u001b[43m \u001b[49m\u001b[43merr_style\u001b[49m\u001b[38;5;241;43m=\u001b[39;49m\u001b[43merr_style\u001b[49m\u001b[43m,\u001b[49m\u001b[43m \u001b[49m\u001b[43merr_kws\u001b[49m\u001b[38;5;241;43m=\u001b[39;49m\u001b[43merr_kws\u001b[49m\u001b[43m,\u001b[49m\u001b[43m \u001b[49m\u001b[43mlegend\u001b[49m\u001b[38;5;241;43m=\u001b[39;49m\u001b[43mlegend\u001b[49m\u001b[43m,\u001b[49m\n\u001b[1;32m    696\u001b[0m \u001b[43m    \u001b[49m\u001b[43m)\u001b[49m\n\u001b[1;32m    698\u001b[0m     p\u001b[38;5;241m.\u001b[39mmap_hue(palette\u001b[38;5;241m=\u001b[39mpalette, order\u001b[38;5;241m=\u001b[39mhue_order, norm\u001b[38;5;241m=\u001b[39mhue_norm)\n\u001b[1;32m    699\u001b[0m     p\u001b[38;5;241m.\u001b[39mmap_size(sizes\u001b[38;5;241m=\u001b[39msizes, order\u001b[38;5;241m=\u001b[39msize_order, norm\u001b[38;5;241m=\u001b[39msize_norm)\n",
      "File \u001b[0;32m~/ceph/envs/jax/lib/python3.9/site-packages/seaborn/relational.py:367\u001b[0m, in \u001b[0;36m_LinePlotter.__init__\u001b[0;34m(self, data, variables, estimator, ci, n_boot, seed, sort, err_style, err_kws, legend)\u001b[0m\n\u001b[1;32m    353\u001b[0m \u001b[38;5;28;01mdef\u001b[39;00m \u001b[38;5;21m__init__\u001b[39m(\n\u001b[1;32m    354\u001b[0m     \u001b[38;5;28mself\u001b[39m, \u001b[38;5;241m*\u001b[39m,\n\u001b[1;32m    355\u001b[0m     data\u001b[38;5;241m=\u001b[39m\u001b[38;5;28;01mNone\u001b[39;00m, variables\u001b[38;5;241m=\u001b[39m{},\n\u001b[0;32m   (...)\u001b[0m\n\u001b[1;32m    361\u001b[0m     \u001b[38;5;66;03m# the kind of plot to draw, but for the time being we need to set\u001b[39;00m\n\u001b[1;32m    362\u001b[0m     \u001b[38;5;66;03m# this information so the SizeMapping can use it\u001b[39;00m\n\u001b[1;32m    363\u001b[0m     \u001b[38;5;28mself\u001b[39m\u001b[38;5;241m.\u001b[39m_default_size_range \u001b[38;5;241m=\u001b[39m (\n\u001b[1;32m    364\u001b[0m         np\u001b[38;5;241m.\u001b[39mr_[\u001b[38;5;241m.5\u001b[39m, \u001b[38;5;241m2\u001b[39m] \u001b[38;5;241m*\u001b[39m mpl\u001b[38;5;241m.\u001b[39mrcParams[\u001b[38;5;124m\"\u001b[39m\u001b[38;5;124mlines.linewidth\u001b[39m\u001b[38;5;124m\"\u001b[39m]\n\u001b[1;32m    365\u001b[0m     )\n\u001b[0;32m--> 367\u001b[0m     \u001b[38;5;28;43msuper\u001b[39;49m\u001b[43m(\u001b[49m\u001b[43m)\u001b[49m\u001b[38;5;241;43m.\u001b[39;49m\u001b[38;5;21;43m__init__\u001b[39;49m\u001b[43m(\u001b[49m\u001b[43mdata\u001b[49m\u001b[38;5;241;43m=\u001b[39;49m\u001b[43mdata\u001b[49m\u001b[43m,\u001b[49m\u001b[43m \u001b[49m\u001b[43mvariables\u001b[49m\u001b[38;5;241;43m=\u001b[39;49m\u001b[43mvariables\u001b[49m\u001b[43m)\u001b[49m\n\u001b[1;32m    369\u001b[0m     \u001b[38;5;28mself\u001b[39m\u001b[38;5;241m.\u001b[39mestimator \u001b[38;5;241m=\u001b[39m estimator\n\u001b[1;32m    370\u001b[0m     \u001b[38;5;28mself\u001b[39m\u001b[38;5;241m.\u001b[39mci \u001b[38;5;241m=\u001b[39m ci\n",
      "File \u001b[0;32m~/ceph/envs/jax/lib/python3.9/site-packages/seaborn/_core.py:605\u001b[0m, in \u001b[0;36mVectorPlotter.__init__\u001b[0;34m(self, data, variables)\u001b[0m\n\u001b[1;32m    603\u001b[0m \u001b[38;5;28;01mdef\u001b[39;00m \u001b[38;5;21m__init__\u001b[39m(\u001b[38;5;28mself\u001b[39m, data\u001b[38;5;241m=\u001b[39m\u001b[38;5;28;01mNone\u001b[39;00m, variables\u001b[38;5;241m=\u001b[39m{}):\n\u001b[0;32m--> 605\u001b[0m     \u001b[38;5;28;43mself\u001b[39;49m\u001b[38;5;241;43m.\u001b[39;49m\u001b[43massign_variables\u001b[49m\u001b[43m(\u001b[49m\u001b[43mdata\u001b[49m\u001b[43m,\u001b[49m\u001b[43m \u001b[49m\u001b[43mvariables\u001b[49m\u001b[43m)\u001b[49m\n\u001b[1;32m    607\u001b[0m     \u001b[38;5;28;01mfor\u001b[39;00m var, \u001b[38;5;28mcls\u001b[39m \u001b[38;5;129;01min\u001b[39;00m \u001b[38;5;28mself\u001b[39m\u001b[38;5;241m.\u001b[39m_semantic_mappings\u001b[38;5;241m.\u001b[39mitems():\n\u001b[1;32m    608\u001b[0m \n\u001b[1;32m    609\u001b[0m         \u001b[38;5;66;03m# Create the mapping function\u001b[39;00m\n\u001b[1;32m    610\u001b[0m         map_func \u001b[38;5;241m=\u001b[39m partial(\u001b[38;5;28mcls\u001b[39m\u001b[38;5;241m.\u001b[39mmap, plotter\u001b[38;5;241m=\u001b[39m\u001b[38;5;28mself\u001b[39m)\n",
      "File \u001b[0;32m~/ceph/envs/jax/lib/python3.9/site-packages/seaborn/_core.py:668\u001b[0m, in \u001b[0;36mVectorPlotter.assign_variables\u001b[0;34m(self, data, variables)\u001b[0m\n\u001b[1;32m    666\u001b[0m \u001b[38;5;28;01melse\u001b[39;00m:\n\u001b[1;32m    667\u001b[0m     \u001b[38;5;28mself\u001b[39m\u001b[38;5;241m.\u001b[39minput_format \u001b[38;5;241m=\u001b[39m \u001b[38;5;124m\"\u001b[39m\u001b[38;5;124mlong\u001b[39m\u001b[38;5;124m\"\u001b[39m\n\u001b[0;32m--> 668\u001b[0m     plot_data, variables \u001b[38;5;241m=\u001b[39m \u001b[38;5;28;43mself\u001b[39;49m\u001b[38;5;241;43m.\u001b[39;49m\u001b[43m_assign_variables_longform\u001b[49m\u001b[43m(\u001b[49m\n\u001b[1;32m    669\u001b[0m \u001b[43m        \u001b[49m\u001b[43mdata\u001b[49m\u001b[43m,\u001b[49m\u001b[43m \u001b[49m\u001b[38;5;241;43m*\u001b[39;49m\u001b[38;5;241;43m*\u001b[39;49m\u001b[43mvariables\u001b[49m\u001b[43m,\u001b[49m\n\u001b[1;32m    670\u001b[0m \u001b[43m    \u001b[49m\u001b[43m)\u001b[49m\n\u001b[1;32m    672\u001b[0m \u001b[38;5;28mself\u001b[39m\u001b[38;5;241m.\u001b[39mplot_data \u001b[38;5;241m=\u001b[39m plot_data\n\u001b[1;32m    673\u001b[0m \u001b[38;5;28mself\u001b[39m\u001b[38;5;241m.\u001b[39mvariables \u001b[38;5;241m=\u001b[39m variables\n",
      "File \u001b[0;32m~/ceph/envs/jax/lib/python3.9/site-packages/seaborn/_core.py:903\u001b[0m, in \u001b[0;36mVectorPlotter._assign_variables_longform\u001b[0;34m(self, data, **kwargs)\u001b[0m\n\u001b[1;32m    898\u001b[0m \u001b[38;5;28;01melif\u001b[39;00m \u001b[38;5;28misinstance\u001b[39m(val, (\u001b[38;5;28mstr\u001b[39m, \u001b[38;5;28mbytes\u001b[39m)):\n\u001b[1;32m    899\u001b[0m \n\u001b[1;32m    900\u001b[0m     \u001b[38;5;66;03m# This looks like a column name but we don't know what it means!\u001b[39;00m\n\u001b[1;32m    902\u001b[0m     err \u001b[38;5;241m=\u001b[39m \u001b[38;5;124mf\u001b[39m\u001b[38;5;124m\"\u001b[39m\u001b[38;5;124mCould not interpret value `\u001b[39m\u001b[38;5;132;01m{\u001b[39;00mval\u001b[38;5;132;01m}\u001b[39;00m\u001b[38;5;124m` for parameter `\u001b[39m\u001b[38;5;132;01m{\u001b[39;00mkey\u001b[38;5;132;01m}\u001b[39;00m\u001b[38;5;124m`\u001b[39m\u001b[38;5;124m\"\u001b[39m\n\u001b[0;32m--> 903\u001b[0m     \u001b[38;5;28;01mraise\u001b[39;00m \u001b[38;5;167;01mValueError\u001b[39;00m(err)\n\u001b[1;32m    905\u001b[0m \u001b[38;5;28;01melse\u001b[39;00m:\n\u001b[1;32m    906\u001b[0m \n\u001b[1;32m    907\u001b[0m     \u001b[38;5;66;03m# Otherwise, assume the value is itself data\u001b[39;00m\n\u001b[1;32m    908\u001b[0m \n\u001b[1;32m    909\u001b[0m     \u001b[38;5;66;03m# Raise when data object is present and a vector can't matched\u001b[39;00m\n\u001b[1;32m    910\u001b[0m     \u001b[38;5;28;01mif\u001b[39;00m \u001b[38;5;28misinstance\u001b[39m(data, pd\u001b[38;5;241m.\u001b[39mDataFrame) \u001b[38;5;129;01mand\u001b[39;00m \u001b[38;5;129;01mnot\u001b[39;00m \u001b[38;5;28misinstance\u001b[39m(val, pd\u001b[38;5;241m.\u001b[39mSeries):\n",
      "\u001b[0;31mValueError\u001b[0m: Could not interpret value `sw_on` for parameter `y`"
     ]
    }
   ],
   "source": [
    "sns.lineplot(data=data,x='lin_cat',y='sw_on')"
   ]
  },
  {
   "cell_type": "code",
   "execution_count": null,
   "id": "6f91a5eb",
   "metadata": {},
   "outputs": [],
   "source": [
    "sns.lineplot(data=data,x='lin_cat',y='n_field')"
   ]
  },
  {
   "cell_type": "code",
   "execution_count": null,
   "id": "52dcdbd1",
   "metadata": {},
   "outputs": [],
   "source": [
    "sns.regplot(data=data,x='duration',y='sw_on')"
   ]
  },
  {
   "cell_type": "code",
   "execution_count": null,
   "id": "c312dc79",
   "metadata": {},
   "outputs": [],
   "source": [
    "sns.lineplot(data=val_sh_label_df,x='lin_cat',y=val_key)"
   ]
  },
  {
   "cell_type": "code",
   "execution_count": null,
   "id": "088a76b0",
   "metadata": {},
   "outputs": [],
   "source": [
    "f_sh_l=shuffle_f_test_res['f_shuffle']\n",
    "f_data=shuffle_f_test_res['f_data']\n",
    "ph.plot_shuffle_data_dist_with_thresh(f_sh_l,f_data)"
   ]
  },
  {
   "cell_type": "code",
   "execution_count": null,
   "id": "14b72127",
   "metadata": {},
   "outputs": [],
   "source": [
    "key = 'sw_on_div_n_field_duration'\n",
    "# data = var_per_trial_pos_all.loc['e16_3m2']\n",
    "data = var_per_trial_pos_all\n",
    "groups = [val[key].dropna().values for k,val in data.groupby(['lin_cat'])]\n"
   ]
  },
  {
   "cell_type": "code",
   "execution_count": null,
   "id": "6a715b5d",
   "metadata": {},
   "outputs": [],
   "source": [
    "# scipy.stats.kruskal(*groups)\n",
    "scipy.stats.f_oneway(*groups)"
   ]
  },
  {
   "cell_type": "code",
   "execution_count": null,
   "id": "4b6b9db0",
   "metadata": {},
   "outputs": [],
   "source": [
    "# import scikit_posthocs as sp\n",
    "# # data = copy.copy(var_per_trial_pos_all.loc['e13_26m1'])\n",
    "\n",
    "# # var_bin_d = {'lin':[0,15,74,111,185,222]}\n",
    "# # data = get_categorical_var(data,var_bin_d)\n",
    "\n",
    "# posthoc_results = sp.posthoc_conover(data.dropna(axis=0), val_col=key, group_col='lin_cat', p_adjust='holm')\n",
    "# # posthoc_results = sp.posthoc_conover(data.dropna(axis=0), val_col=key, group_col='lin_cat', p_adjust=None)\n"
   ]
  },
  {
   "cell_type": "code",
   "execution_count": null,
   "id": "818d7e31",
   "metadata": {},
   "outputs": [],
   "source": [
    "key = 'sw_on_div_n_field_duration'\n",
    "ani_l = ['e13_26m1','e15_13f1']\n",
    "# data = var_per_trial_pos_all.loc[ani_l]\n",
    "data = var_per_trial_pos_all\n",
    "sns.lineplot(data=data.reset_index(drop=True),x='lin_cat',y=key)"
   ]
  },
  {
   "cell_type": "code",
   "execution_count": null,
   "id": "3d03f435",
   "metadata": {},
   "outputs": [],
   "source": [
    "key = 'sw_on_div_n_field_duration'\n",
    "ani_l = ['e13_26m1','e15_13f1']\n",
    "data = var_per_trial_pos_all.loc[ani_l]\n",
    "sns.lineplot(data=data.reset_index(drop=True),x='lin_cat',y=key)"
   ]
  },
  {
   "cell_type": "code",
   "execution_count": null,
   "id": "6655c2e4",
   "metadata": {},
   "outputs": [],
   "source": [
    "ax=var_per_trial_pos_all.groupby('lin_cat')['sw_on_div_n_field_duration'].mean().plot()"
   ]
  },
  {
   "cell_type": "code",
   "execution_count": null,
   "id": "41aed1e4",
   "metadata": {},
   "outputs": [],
   "source": [
    "ax=var_per_trial_pos_all.groupby('lin_cat')['sw_on'].mean().plot()"
   ]
  },
  {
   "cell_type": "code",
   "execution_count": null,
   "id": "8959b4e0",
   "metadata": {
    "scrolled": true
   },
   "outputs": [],
   "source": [
    "var_per_trial_pos_all.groupby('trial')['sw_on_div_n_field_duration'].mean().reset_index().rcorr()"
   ]
  },
  {
   "cell_type": "code",
   "execution_count": null,
   "id": "cc9c87d6",
   "metadata": {},
   "outputs": [],
   "source": []
  },
  {
   "cell_type": "markdown",
   "id": "62ac9575",
   "metadata": {},
   "source": [
    "# speed correlation within a segment"
   ]
  },
  {
   "cell_type": "code",
   "execution_count": null,
   "id": "cb7f0555",
   "metadata": {},
   "outputs": [],
   "source": [
    "# zscore speed, within session\n",
    "var_per_trial_pos_all = var_per_trial_pos_all.groupby('session').apply(lambda x:x.assign(speed_z=scipy.stats.zscore(x['speed_gauss'])))\n",
    "# zscore trial, within session\n",
    "# var_per_trial_pos_all = var_per_trial_pos_all.groupby('session').apply(lambda x:x.assign(trial_z=scipy.stats.zscore(x['trial'])))\n",
    "var_per_trial_pos_all = var_per_trial_pos_all.groupby('session').apply(lambda x:x.assign(trial_z=sklearn.preprocessing.quantile_transform(x[['trial']].values)[:,0]))\n",
    "\n",
    "\n"
   ]
  },
  {
   "cell_type": "code",
   "execution_count": null,
   "id": "cd66f153",
   "metadata": {
    "scrolled": true
   },
   "outputs": [],
   "source": [
    "# # seperate pos, trial, ani, sess, lots of data points and values very sparse\n",
    "# var_per_trial_pos_all.groupby('lin_cat').apply(lambda x: x[['speed_z','sw_on_div_n_field_duration']].rcorr())"
   ]
  },
  {
   "cell_type": "code",
   "execution_count": null,
   "id": "f47250e6",
   "metadata": {
    "scrolled": true
   },
   "outputs": [],
   "source": [
    "# aggregate pos within lin_cat, seperate trial, ani, sess\n",
    "val_key = 'sw_on_div_n_field'#'sw_on_div_n_field_duration'\n",
    "val_key_l = ['sw_on_div_n_field_duration','sw_on','sw_on_div_n_field']\n",
    "var_per_trial_lincat = var_per_trial_pos_all.set_index('lin_cat',append=True).groupby(level=(0,1,2,3,5))[[*val_key_l,'speed_z','trial_z']].mean()\n",
    "var_per_trial_lincat = var_per_trial_lincat.dropna(axis=0)\n",
    "\n",
    "var_per_trial_lincat_resetind=var_per_trial_lincat.reset_index(level=(3,4)).rename({'level_3':'trial'},axis=1)\n",
    "\n",
    "var_per_trial_lincat.groupby('lin_cat').apply(lambda x:x.rcorr())\n",
    "\n"
   ]
  },
  {
   "cell_type": "code",
   "execution_count": null,
   "id": "76ca218a",
   "metadata": {},
   "outputs": [],
   "source": [
    "# # aggregate pos within lin_cat, seperate trial, ani, sess\n",
    "# sns.color_palette(\"Spectral\", as_cmap=True)\n",
    "# toplot = var_per_trial_lincat.loc[(slice(None),slice(None),slice(None),slice(None),8)]\n",
    "# # toplot['lin_cat']=toplot['lin_cat'].astype('str')\n",
    "# sns.regplot(data=toplot,x='speed_z',y=val_key,scatter_kws=dict(s=1.))\n"
   ]
  },
  {
   "cell_type": "code",
   "execution_count": null,
   "id": "3528b100",
   "metadata": {},
   "outputs": [],
   "source": [
    "\n",
    "import statsmodels\n",
    "import statsmodels.formula.api as smf"
   ]
  },
  {
   "cell_type": "code",
   "execution_count": null,
   "id": "96da3249",
   "metadata": {
    "scrolled": true
   },
   "outputs": [],
   "source": [
    "# formula = f\"{val_key} ~ trial + C(lin_cat)\"\n",
    "formula = f\"{val_key} ~ trial_z + C(lin_cat)\"\n",
    "# ani_l=['e13_26m1','e15_13f1','e16_3m2','e15_9f1']\n",
    "# data = var_per_trial_lincat_resetind.loc[ani_l]\n",
    "# data = data.loc[(data['trial'] >5)&(data['trial'] <20)]\n",
    "model=smf.ols(formula,data=data)\n",
    "res = model.fit()\n",
    "print(res.summary())"
   ]
  },
  {
   "cell_type": "code",
   "execution_count": null,
   "id": "ca4e8b72",
   "metadata": {},
   "outputs": [],
   "source": [
    "from sklearn.linear_model import LassoCV"
   ]
  },
  {
   "cell_type": "code",
   "execution_count": null,
   "id": "38c1885f",
   "metadata": {},
   "outputs": [],
   "source": [
    "formula = f\"{val_key} ~ trial_z + C(lin_cat) + speed_z\"\n",
    "# ani_l=['e13_26m1','e15_13f1','e16_3m2','e15_9f1']\n",
    "ani_l=['e15_13f1']\n",
    "data = var_per_trial_lincat_resetind.loc[ani_l]\n",
    "# data = var_per_trial_lincat_resetind\n",
    "data=data.loc[data['trial']>=5]\n",
    "data = copy.copy(data)\n",
    "to_zscore_l = [val_key,'speed_z','trial_z']\n",
    "data[to_zscore_l] = scipy.stats.zscore(data[to_zscore_l],axis=0)\n",
    "\n",
    "\n",
    "import patsy\n",
    "from patsy import dmatrix,dmatrices\n",
    "y,X=dmatrices(formula,data=data)\n",
    "y = np.squeeze(y)\n",
    "reg = LassoCV(cv=5, random_state=0,alphas=[0.008,0.009,0.01,0.012,0.015,0.02,0.25,0.3]).fit(X, y)\n",
    "print(reg.alpha_)\n",
    "\n",
    "\n",
    "model=smf.ols(formula,data=data)\n",
    "alpha = reg.alpha_\n",
    "res = model.fit_regularized(method='elastic_net',alpha=alpha)\n",
    "res"
   ]
  },
  {
   "cell_type": "code",
   "execution_count": null,
   "id": "4c8b8fd5",
   "metadata": {},
   "outputs": [],
   "source": [
    "res.params"
   ]
  },
  {
   "cell_type": "code",
   "execution_count": null,
   "id": "09174575",
   "metadata": {},
   "outputs": [],
   "source": [
    "# try regress out speed, then anova on space\n",
    "formula = f\"{val_key}~speed_z\"\n",
    "model=smf.ols(formula,data=var_per_trial_lincat_resetind)\n",
    "res=model.fit()\n",
    "var_per_trial_lincat_resetind['resid_after_speed'] = res.resid.values\n",
    "\n"
   ]
  },
  {
   "cell_type": "code",
   "execution_count": null,
   "id": "cd5aa2a0",
   "metadata": {},
   "outputs": [],
   "source": [
    "data=data#var_per_trial_lincat_resetind\n",
    "# resid_f_test_res=bas.shuffle_f_test_with_posthoc(data,shuffle_groupby_level='session',group_key='lin_cat',val_key = 'resid_after_speed',div_by=None,n_repeats = 200)\n",
    "resid_f_test_res=bas.shuffle_f_test_with_posthoc(data,shuffle_groupby_level='session',group_key='lin_cat',val_key = val_key,div_by=None,n_repeats = 200)\n",
    "\n",
    "\n"
   ]
  },
  {
   "cell_type": "code",
   "execution_count": null,
   "id": "89709d87",
   "metadata": {
    "scrolled": false
   },
   "outputs": [],
   "source": [
    "fig,axs=plt.subplots(2,2,figsize=(10,6))\n",
    "toplot=data#var_per_trial_lincat_resetind\n",
    "# sns.regplot(data=toplot,x='trial_z',y='resid_after_speed')\n",
    "ax=axs[0,0]\n",
    "sns.scatterplot(data=toplot,x='lin_cat',y=val_key,ax=ax)\n",
    "# ax.set_ylim([0,1])\n",
    "ax=axs[0,1]\n",
    "# ax.set_ylim([0,1])\n",
    "sns.scatterplot(data=toplot,x='lin_cat',y='resid_after_speed',ax=ax)\n",
    "\n",
    "ax=axs[1,0]\n",
    "sns.lineplot(data=toplot.reset_index(),x='lin_cat',y=val_key,ax=ax)\n",
    "ax=axs[1,1]\n",
    "sns.lineplot(data=toplot.reset_index(),x='lin_cat',y='resid_after_speed',ax=ax)\n",
    "plt.tight_layout()"
   ]
  },
  {
   "cell_type": "code",
   "execution_count": null,
   "id": "7e468b2a",
   "metadata": {
    "scrolled": true
   },
   "outputs": [],
   "source": [
    "n_field_per_ani_sess_task_pos"
   ]
  },
  {
   "cell_type": "code",
   "execution_count": null,
   "id": "d5ec36f7",
   "metadata": {},
   "outputs": [],
   "source": [
    "all_sw_d_all.loc[all_sw_d_all['switch']==1]"
   ]
  },
  {
   "cell_type": "code",
   "execution_count": null,
   "id": "9eacfa90",
   "metadata": {
    "scrolled": true
   },
   "outputs": [],
   "source": [
    "all_sw_d_all"
   ]
  },
  {
   "cell_type": "code",
   "execution_count": null,
   "id": "e4220a6b",
   "metadata": {},
   "outputs": [],
   "source": [
    "n_field_per_ani_sess_task_pos"
   ]
  },
  {
   "cell_type": "code",
   "execution_count": null,
   "id": "b0255ec6",
   "metadata": {},
   "outputs": [],
   "source": [
    "all_fields_recombined_all"
   ]
  },
  {
   "cell_type": "code",
   "execution_count": null,
   "id": "63024a8a",
   "metadata": {},
   "outputs": [],
   "source": [
    "pos_key = 'peak'\n",
    "n_field_per_ani_sess_task_pos = all_fields_recombined_all.groupby(level=(0,1,2)).apply(lambda x:x[pos_key].astype(int).value_counts(sort=False).sort_index(level=3)) # assuming pos_key column is int\n",
    "n_field_per_ani_sess_task_pos = pd.DataFrame(n_field_per_ani_sess_task_pos.values,index=n_field_per_ani_sess_task_pos.index,columns=['n_field'])\n"
   ]
  },
  {
   "cell_type": "code",
   "execution_count": null,
   "id": "b4fdabab",
   "metadata": {},
   "outputs": [],
   "source": [
    "var_bin_d['lin_binned'] = np.array(var_bin_d['lin']) / 2.2\n",
    "sw_on_count_per_sess = all_sw_d_all.loc[all_sw_d_all['switch']==1].groupby(level=(0,1,2),group_keys=False).apply(lambda x:np.histogram(x['field_pos'],var_bin_d['lin_binned'])[0])\n",
    "sw_on_count_per_sess=pd.DataFrame(np.stack(sw_on_count_per_sess.values,axis=0),index=sw_on_count_per_sess.index)\n",
    "\n",
    "loc_key='peak'\n",
    "n_field_lincat_count_per_sess=all_fields_recombined_all.groupby(level=(0,1,2),group_keys=False).apply(lambda x:np.histogram(x[loc_key],var_bin_d['lin_binned'])[0])\n",
    "n_field_lincat_count_per_sess=pd.DataFrame(np.stack(n_field_lincat_count_per_sess.values,axis=0),index=n_field_lincat_count_per_sess.index)\n",
    "\n"
   ]
  },
  {
   "cell_type": "code",
   "execution_count": null,
   "id": "6ab168d6",
   "metadata": {},
   "outputs": [],
   "source": [
    "sw_on_n_field_ratio_per_sess=sw_on_count_per_sess / n_field_lincat_count_per_sess"
   ]
  },
  {
   "cell_type": "code",
   "execution_count": null,
   "id": "1eb6f431",
   "metadata": {},
   "outputs": [],
   "source": [
    "ani_order=sw_on_count_per_sess.sum(axis=1).groupby(level=0).mean().sort_values(ascending=False).index"
   ]
  },
  {
   "cell_type": "code",
   "execution_count": null,
   "id": "62b77b6d",
   "metadata": {
    "scrolled": false
   },
   "outputs": [],
   "source": [
    "ani_order=sw_on_count_per_sess.sum(axis=1).groupby(level=0).mean().sort_values(ascending=False).index\n",
    "toplot = sw_on_n_field_ratio_per_sess.groupby(level=(0,2)).mean().loc[(slice(None),0),:]\n",
    "nplots = toplot.shape[0]\n",
    "fig,axs=ph.subplots_wrapper(nplots)\n",
    "for ii,(ani,row) in enumerate(toplot.loc[ani_order].iterrows()):\n",
    "    ax=axs.ravel()[ii]\n",
    "    ax.plot(row)\n",
    "    ax.set_title(ani)\n"
   ]
  },
  {
   "cell_type": "code",
   "execution_count": null,
   "id": "b7a60c4a",
   "metadata": {},
   "outputs": [],
   "source": [
    "sw_on_count_per_ani=sw_on_count_per_sess.groupby(level=(0,2)).sum().loc[(slice(None),0),:]\n",
    "n_field_lincat_count_per_ani = n_field_lincat_count_per_sess.groupby(level=(0,2)).sum().loc[(slice(None),0),:]\n",
    "ratio_per_ani=sw_on_count_per_ani / n_field_lincat_count_per_ani\n",
    "\n",
    "toplot = ratio_per_ani\n",
    "nplots = toplot.shape[0]\n",
    "fig,axs=ph.subplots_wrapper(nplots)\n",
    "for ii,(ani,row) in enumerate(toplot.iterrows()):\n",
    "    ax=axs.ravel()[ii]\n",
    "    ax.plot(row)\n",
    "    ax.set_title(ani)\n"
   ]
  },
  {
   "cell_type": "code",
   "execution_count": null,
   "id": "72249046",
   "metadata": {},
   "outputs": [],
   "source": [
    "n_field_lincat_count_per_sess"
   ]
  },
  {
   "cell_type": "code",
   "execution_count": null,
   "id": "6ab61cf8",
   "metadata": {},
   "outputs": [],
   "source": [
    "sw_on_count_per_sess.stack()"
   ]
  },
  {
   "cell_type": "code",
   "execution_count": null,
   "id": "f0cc507a",
   "metadata": {},
   "outputs": [],
   "source": [
    "pd.cut(df[k],val,retbins=False,labels=False,include_lowest=True)"
   ]
  },
  {
   "cell_type": "code",
   "execution_count": null,
   "id": "0da1da83",
   "metadata": {},
   "outputs": [],
   "source": [
    "toplot.groupby('lin_cat').mean()"
   ]
  },
  {
   "cell_type": "code",
   "execution_count": null,
   "id": "2ec73d42",
   "metadata": {},
   "outputs": [],
   "source": [
    "toplot=var_per_trial_lincat_resetind[[val_key,'resid_after_speed']]\n",
    "ax=sns.regplot(data=toplot,x=val_key,y='resid_after_speed')\n",
    "ax.set_xlim([0,1])\n",
    "ax.set_ylim([0,1])"
   ]
  },
  {
   "cell_type": "code",
   "execution_count": null,
   "id": "1fc45faf",
   "metadata": {},
   "outputs": [],
   "source": [
    "fig,axs=plt.subplots(3,1,figsize=(6,6))\n",
    "toplot=var_per_trial_lincat_resetind\n",
    "ax=axs[0]\n",
    "sns.regplot(data=toplot,x='trial_z',y=val_key,ax=ax)\n",
    "ax=axs[1]\n",
    "sns.regplot(data=toplot,x='trial_z',y='sw_on',ax=ax)\n",
    "ax=axs[2]\n",
    "sns.regplot(data=toplot,x='trial_z',y='sw_on_div_n_field',ax=ax)\n",
    "plt.tight_layout()"
   ]
  },
  {
   "cell_type": "code",
   "execution_count": null,
   "id": "08081ecc",
   "metadata": {},
   "outputs": [],
   "source": [
    "var_per_trial_pos_all.groupby('trial_cat')['sw_on_div_n_field'].mean().plot()"
   ]
  },
  {
   "cell_type": "code",
   "execution_count": null,
   "id": "c0e7bc82",
   "metadata": {},
   "outputs": [],
   "source": [
    "# old way of doing frac switch over trials\n",
    "nan_mask = changes_df_all.isna()\n",
    "fig,axs=plt.subplots(3,1,sharex=True)\n",
    "ax=axs[0]\n",
    "(changes_df_all==1).where(~nan_mask,changes_df_all).loc[(slice(None),slice(None),slice(None),'both'),0:40].mean(axis=0).plot(ax=ax,marker='o')\n",
    "ax=axs[1]\n",
    "(changes_df_all==1).where(~nan_mask,changes_df_all).loc[(slice(None),slice(None),slice(None),0),0:40].mean(axis=0).plot(ax=ax,marker='o')\n",
    "ax=axs[2]\n",
    "(changes_df_all==1).where(~nan_mask,changes_df_all).loc[(slice(None),slice(None),slice(None),1),0:40].mean(axis=0).plot(ax=ax,marker='o')\n",
    "ax = ax.set_xlim([5,40])"
   ]
  },
  {
   "cell_type": "code",
   "execution_count": null,
   "id": "649a3a06",
   "metadata": {},
   "outputs": [],
   "source": []
  },
  {
   "cell_type": "code",
   "execution_count": null,
   "id": "46238abd",
   "metadata": {},
   "outputs": [],
   "source": []
  },
  {
   "cell_type": "code",
   "execution_count": null,
   "id": "a7dcfb7a",
   "metadata": {},
   "outputs": [],
   "source": [
    "# if filter only early trials\n",
    "# aggregate pos within lin_cat, seperate trial, ani, sess\n",
    "val_key = 'sw_on_div_n_field_duration'\n",
    "ma = var_per_trial_pos_all['trial'] <=19\n",
    "\n",
    "var_per_trial_lincat = var_per_trial_pos_all.loc[ma].set_index('lin_cat',append=True).groupby(level=(0,1,2,3,5))[[val_key,'speed_z']].mean()\n",
    "var_per_trial_lincat.groupby('lin_cat').apply(lambda x:x.rcorr())\n",
    "\n"
   ]
  },
  {
   "cell_type": "code",
   "execution_count": null,
   "id": "3c3f535e",
   "metadata": {},
   "outputs": [],
   "source": []
  },
  {
   "cell_type": "code",
   "execution_count": null,
   "id": "da1adb78",
   "metadata": {},
   "outputs": [],
   "source": []
  },
  {
   "cell_type": "code",
   "execution_count": null,
   "id": "6f0f4930",
   "metadata": {},
   "outputs": [],
   "source": [
    "# aggregate across trials, seperate ani, sess\n",
    "val_key = 'sw_on_div_n_field_duration'\n",
    "var_per_pos = var_per_trial_pos_all.groupby(level=(0,1,2)).apply(lambda x:x.groupby('lin_cat')[[val_key,'speed_z']].mean())\n",
    "var_per_pos.groupby(level='lin_cat').apply(lambda x:x.rcorr())"
   ]
  },
  {
   "cell_type": "code",
   "execution_count": null,
   "id": "7cf8cd08",
   "metadata": {},
   "outputs": [],
   "source": []
  },
  {
   "cell_type": "markdown",
   "id": "79f78efd",
   "metadata": {},
   "source": [
    "# try statsmodels a bit"
   ]
  },
  {
   "cell_type": "code",
   "execution_count": null,
   "id": "fdca240d",
   "metadata": {},
   "outputs": [],
   "source": [
    "import statsmodels\n",
    "import statsmodels.api as sm\n",
    "import statsmodels.formula.api as smf"
   ]
  },
  {
   "cell_type": "code",
   "execution_count": null,
   "id": "9f5dadc9",
   "metadata": {},
   "outputs": [],
   "source": [
    "formula = \"sw_on~C(lin_cat)+C(speed_gauss_cat)\"\n",
    "dta=ind_var_per_trial_pos_all\n",
    "# mod1 = smf.glm(formula=formula, data=dta, family=sm.families.Poisson()).fit()\n",
    "mod1 = smf.glm(formula=formula, data=dta, family=sm.families.NegativeBinomial()).fit()\n",
    "print(mod1.summary())"
   ]
  },
  {
   "cell_type": "code",
   "execution_count": null,
   "id": "21343231",
   "metadata": {
    "scrolled": true
   },
   "outputs": [],
   "source": [
    "mod1 = smf.glm(formula=formula, data=dta, family=sm.families.NegativeBinomial()).fit()\n",
    "print(mod1.summary())"
   ]
  },
  {
   "cell_type": "code",
   "execution_count": null,
   "id": "c9452403",
   "metadata": {},
   "outputs": [],
   "source": [
    "from statsmodels.gam.api import GLMGam, BSplines"
   ]
  },
  {
   "cell_type": "code",
   "execution_count": null,
   "id": "251bef85",
   "metadata": {
    "scrolled": true
   },
   "outputs": [],
   "source": [
    "x_spline = dta[['lin', 'speed_gauss']]\n",
    "\n",
    "bs = BSplines(x_spline, df=[7, 7], degree=[3, 3])\n",
    "\n",
    "# penalization weight\n",
    "alpha = np.array([0., 0.])\n",
    "\n",
    "gam_bs = GLMGam.from_formula('sw_on ~ lin + speed_gauss', data=dta,\n",
    "smoother=bs, alpha=alpha,family=sm.families.Poisson())\n",
    "\n",
    "res_bs = gam_bs.fit()\n",
    "\n",
    "print(res_bs.summary())"
   ]
  },
  {
   "cell_type": "code",
   "execution_count": null,
   "id": "2d26b692",
   "metadata": {},
   "outputs": [],
   "source": []
  },
  {
   "cell_type": "code",
   "execution_count": null,
   "id": "a7ce746c",
   "metadata": {},
   "outputs": [],
   "source": [
    "fig=res_bs.plot_partial(0, cpr=True)\n",
    "# fig.gca().set_ylim([-15,15])"
   ]
  },
  {
   "cell_type": "code",
   "execution_count": null,
   "id": "5496a3f9",
   "metadata": {},
   "outputs": [],
   "source": [
    "# import patsy\n",
    "# from patsy import dmatrix\n",
    "\n",
    "# from statsmodels.discrete.count_model import ZeroInflatedPoisson\n",
    "# endog = dta['sw_on']\n",
    "# exog = dmatrix(\"C(lin_cat)+C(speed_gauss_cat)\",dta)\n",
    "# zip_model = ZeroInflatedPoisson(endog,exog)\n",
    "# zip_res=zip_model.fit()\n",
    "# print(zip_res.summary())\n"
   ]
  },
  {
   "cell_type": "code",
   "execution_count": null,
   "id": "f3394f4c",
   "metadata": {},
   "outputs": [],
   "source": []
  }
 ],
 "metadata": {
  "kernelspec": {
   "display_name": "jax",
   "language": "python",
   "name": "jax"
  },
  "language_info": {
   "codemirror_mode": {
    "name": "ipython",
    "version": 3
   },
   "file_extension": ".py",
   "mimetype": "text/x-python",
   "name": "python",
   "nbconvert_exporter": "python",
   "pygments_lexer": "ipython3",
   "version": "3.9.16"
  }
 },
 "nbformat": 4,
 "nbformat_minor": 5
}
