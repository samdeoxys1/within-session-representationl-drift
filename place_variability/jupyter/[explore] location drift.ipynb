{
 "cells": [
  {
   "cell_type": "code",
   "execution_count": 1,
   "id": "8990ccbc",
   "metadata": {},
   "outputs": [
    {
     "name": "stdout",
     "output_type": "stream",
     "text": [
      "67 sessions!\n",
      "67 sessions!\n"
     ]
    },
    {
     "name": "stderr",
     "output_type": "stream",
     "text": [
      "/mnt/home/szheng/ceph/envs/jax/lib/python3.9/site-packages/outdated/utils.py:14: OutdatedCacheFailedWarning: Failed to use cache while checking for outdated package.\n",
      "Set the environment variable OUTDATED_RAISE_EXCEPTION=1 for a full traceback.\n",
      "Set the environment variable OUTDATED_IGNORE=1 to disable these warnings.\n",
      "  return warn(\n"
     ]
    }
   ],
   "source": [
    "import numpy as np\n",
    "import scipy\n",
    "import sklearn\n",
    "from sklearn.decomposition import NMF\n",
    "from sklearn.cluster import KMeans\n",
    "from sklearn.mixture import GaussianMixture,BayesianGaussianMixture\n",
    "\n",
    "import pandas as pd\n",
    "\n",
    "import matplotlib.pyplot as plt\n",
    "import seaborn as sns\n",
    "import matplotlib as mpl\n",
    "mpl.rcParams['image.cmap'] = 'Greys'\n",
    "mpl.rcParams['axes.spines.right'] = False\n",
    "mpl.rcParams['axes.spines.top'] = False\n",
    "\n",
    "\n",
    "\n",
    "import sys,os,pdb,copy,pickle\n",
    "from importlib import reload\n",
    "# import pynapple as nap\n",
    "\n",
    "sys.path.append('/mnt/home/szheng/projects/seq_detection2/code')\n",
    "sys.path.append('/mnt/home/szheng/projects/util_code')\n",
    "sys.path.append('/mnt/home/szheng/projects/nmf_analysis')\n",
    "sys.path.append('/mnt/home/szheng/projects/nmf_analysis/scripts')\n",
    "sys.path.append('/mnt/home/szheng/projects/cluster_spikes')\n",
    "sys.path.append('/mnt/home/szheng/projects/place_variability/code')\n",
    "import data_prep_new as dpn\n",
    "import place_cell_analysis as pa\n",
    "import plot_helper as ph\n",
    "import preprocess as prep\n",
    "import nmf_analysis as na\n",
    "import nmf_plot as nmfp\n",
    "reload(na)\n",
    "\n",
    "import raster_new as rn\n",
    "import data_prep_pyn as dpp\n",
    "\n",
    "\n",
    "import change_point_analysis as cpa\n",
    "import change_point_plot as cpp\n",
    "\n",
    "import place_field_analysis as pf\n",
    "\n",
    "import switch_analysis_one_session as saos\n",
    "reload(saos)\n",
    "\n",
    "import process_central_arm as pca \n",
    "import change_point_analysis_central_arm_seperate as cpacas\n",
    "\n",
    "import misc\n",
    "reload(misc)\n",
    "from misc import get_nth_key, get_nth_val"
   ]
  },
  {
   "cell_type": "code",
   "execution_count": 2,
   "id": "6c7a98d1",
   "metadata": {},
   "outputs": [],
   "source": [
    "import matplotlib\n",
    "matplotlib.rcParams['svg.fonttype'] = 'none'\n"
   ]
  },
  {
   "cell_type": "code",
   "execution_count": 3,
   "id": "dfd7f050",
   "metadata": {},
   "outputs": [
    {
     "data": {
      "text/plain": [
       "'/mnt/home/szheng/ceph/place_variability/data/paper'"
      ]
     },
     "execution_count": 3,
     "metadata": {},
     "output_type": "execute_result"
    }
   ],
   "source": [
    "figdir = '/mnt/home/szheng/ceph/place_variability/fig/paper/figure_location_drift'\n",
    "misc.get_or_create_subdir(figdir)\n",
    "suppfigdir = '/mnt/home/szheng/ceph/place_variability/fig/paper/figure_location_drift/supp'\n",
    "misc.get_or_create_subdir(suppfigdir)\n",
    "data_dir = '/mnt/home/szheng/ceph/place_variability/data/paper'\n",
    "misc.get_or_create_subdir(data_dir)"
   ]
  },
  {
   "cell_type": "code",
   "execution_count": 4,
   "id": "e161ad97",
   "metadata": {},
   "outputs": [
    {
     "name": "stderr",
     "output_type": "stream",
     "text": [
      "/mnt/home/szheng/ceph/envs/jax/lib/python3.9/site-packages/outdated/utils.py:14: OutdatedPackageWarning: The package pingouin is out of date. Your version is 0.5.2, the latest is 0.5.4.\n",
      "Set the environment variable OUTDATED_IGNORE=1 to disable these warnings.\n",
      "  return warn(\n"
     ]
    }
   ],
   "source": [
    "import database\n",
    "db = database.db\n",
    "\n",
    "subdb = db.query('owner==\"roman\"').sort_values('n_pyr_putative',ascending=False)\n",
    "subdb = subdb.query('ntrials>=20&n_neurons>=50')\n",
    "to_exclude_sess = ['e16_3m2_211211']\n",
    "subdb=subdb.loc[~subdb['sess_name'].isin(to_exclude_sess)]\n",
    "\n",
    "\n",
    "import pf_recombine_central as pfrc\n",
    "import fr_map_one_session as fmos\n",
    "import switch_detection_one_session as sdos\n",
    "import get_all_switch_add_metrics as gasam\n",
    "\n",
    "import preprocess_one_session as prepos"
   ]
  },
  {
   "cell_type": "code",
   "execution_count": 6,
   "id": "2c290c5c",
   "metadata": {},
   "outputs": [],
   "source": [
    "fn = 'prepped_data_agg.p'\n",
    "fn_full = os.path.join(data_dir,fn)\n",
    "prepped_data_agg = pickle.load(open(fn_full,'rb'))\n",
    "\n",
    "all_fields_recombined_all = prepped_data_agg['all_fields_recombined_all']\n",
    "pf_params_recombined_all=  prepped_data_agg['pf_params_recombined_all']\n",
    "fr_map_trial_df_all= prepped_data_agg['fr_map_trial_df_all']\n",
    "pval_all = prepped_data_agg['pval_all']\n",
    "X_pwc_all = prepped_data_agg['X_pwc_all']\n",
    "X_raw_all = prepped_data_agg['X_raw_all']\n",
    "changes_df_all = prepped_data_agg['changes_df_all']\n",
    "var_res_all = prepped_data_agg['var_res_all']\n",
    "corr_all = prepped_data_agg['corr_all']\n",
    "all_sw_d_all = prepped_data_agg['all_sw_d_all']\n",
    "all_sw_with_metrics_d_all = prepped_data_agg['all_sw_with_metrics_d_all']\n",
    "best_n_all = prepped_data_agg['best_n_all']\n",
    "spk_beh_df_all = prepped_data_agg['spk_beh_df_all']\n",
    "\n",
    "\n",
    "\n",
    "ntrials_per_tt=fr_map_trial_df_all.groupby(level=(0,1,2,3)).apply(lambda x:x.dropna(axis=1,how='all').shape[1])\n",
    "\n",
    "ntrials_mask = ntrials_per_tt.groupby(level=(0,1,2)).apply(lambda x:(x>=7).all()) "
   ]
  },
  {
   "cell_type": "code",
   "execution_count": 7,
   "id": "3ba849d8",
   "metadata": {},
   "outputs": [],
   "source": [
    "fr_map_all=prepped_data_agg['fr_map_all']"
   ]
  },
  {
   "cell_type": "code",
   "execution_count": 8,
   "id": "28702f9f",
   "metadata": {},
   "outputs": [],
   "source": [
    "# load metrics\n",
    "import pickle\n",
    "savefn_full = os.path.join(data_dir,'per_field_metrics_shtest_with_1cp.p')\n",
    "# pickle.dump(per_field_metrics_all,open(savefn_full,'wb'))\n",
    "per_field_metrics_all=pickle.load(open(savefn_full,'rb'))"
   ]
  },
  {
   "cell_type": "code",
   "execution_count": 9,
   "id": "6fabe5d3",
   "metadata": {},
   "outputs": [
    {
     "data": {
      "text/plain": [
       "<module 'stability_analysis' from '/mnt/home/szheng/projects/place_variability/code/stability_analysis.py'>"
      ]
     },
     "execution_count": 9,
     "metadata": {},
     "output_type": "execute_result"
    }
   ],
   "source": [
    "import stability_analysis as sa\n",
    "reload(sa)"
   ]
  },
  {
   "cell_type": "code",
   "execution_count": 10,
   "id": "2d4eb4ae",
   "metadata": {},
   "outputs": [],
   "source": [
    "all_fields_all=prepped_data_agg['all_fields_all']"
   ]
  },
  {
   "cell_type": "markdown",
   "id": "4182ed5c",
   "metadata": {},
   "source": [
    "# simulate some data"
   ]
  },
  {
   "cell_type": "code",
   "execution_count": 168,
   "id": "0580de74",
   "metadata": {},
   "outputs": [],
   "source": [
    "n_neuron = 200\n",
    "n_pos = 100\n",
    "n_trial = 10\n",
    "rate_start = np.exp(np.random.normal(size=n_neuron))\n",
    "# rate_step = 0.5 * rate_start\n",
    "rate_step_sc = 0.5\n",
    "rate_step = rate_step_sc * rate_start\n",
    "rate_per_trial = [rate_start]\n",
    "\n",
    "loc_start = np.linspace(0,n_pos-1,n_neuron)\n",
    "loc_per_trial = [loc_start]\n",
    "loc_step = 1\n",
    "\n",
    "for n in range(1,n_trial):\n",
    "    rate_next = rate_per_trial[n-1] + rate_step * np.random.normal(size=n_neuron) \n",
    "    rate_next[rate_next<0] = 0\n",
    "    rate_per_trial.append(rate_next)\n",
    "    \n",
    "    loc_next = loc_per_trial[n-1] + loc_step * np.random.normal(size=n_neuron)\n",
    "    loc_next[loc_next<0] = 0\n",
    "    loc_next[loc_next>n_pos-1] = n_pos-1\n",
    "    loc_per_trial.append(loc_next)\n",
    "    \n",
    "\n",
    "loc_per_trial = np.array(loc_per_trial).T\n",
    "rate_per_trial = np.array(rate_per_trial).T\n",
    "\n",
    "ratemap_allp=gen_ratemap_one(loc_per_trial,rate_per_trial,width,n_pos)\n",
    "\n",
    "ratemap_allreshape=ratemap_allp.reshape(-1,n_trial)\n",
    "ratemap_allreshape=pd.DataFrame(ratemap_allreshape)\n",
    "ind = pd.MultiIndex.from_product([np.arange(n_neuron),np.arange(n_pos)])\n",
    "ratemap_allreshape.index=ind\n",
    "ratemap_df =ratemap_allreshape\n"
   ]
  },
  {
   "cell_type": "code",
   "execution_count": 195,
   "id": "3ac61f35",
   "metadata": {},
   "outputs": [],
   "source": [
    "def gen_sim(n_neuron = 200,\n",
    "            n_pos = 100,\n",
    "            n_trial = 20,\n",
    "            rate_step_sc = 0.5,\n",
    "            loc_step = 1\n",
    "           ):\n",
    "    \n",
    "    rate_start = np.exp(np.random.normal(size=n_neuron))\n",
    "    # rate_step = 0.5 * rate_start\n",
    "\n",
    "    rate_step = rate_step_sc * rate_start\n",
    "    rate_per_trial = [rate_start]\n",
    "\n",
    "    loc_start = np.linspace(0,n_pos-1,n_neuron)\n",
    "    loc_per_trial = [loc_start]\n",
    "\n",
    "\n",
    "    for n in range(1,n_trial):\n",
    "        rate_next = rate_per_trial[n-1] +  rate_step * np.random.normal(size=n_neuron) \n",
    "        rate_next[rate_next<0] = 0\n",
    "        rate_per_trial.append(rate_next)\n",
    "\n",
    "        loc_next = loc_per_trial[n-1] + loc_step * np.random.normal(size=n_neuron)\n",
    "        loc_next[loc_next<0] = 0\n",
    "        loc_next[loc_next>n_pos-1] = n_pos-1\n",
    "        loc_per_trial.append(loc_next)\n",
    "\n",
    "\n",
    "    loc_per_trial = np.array(loc_per_trial).T\n",
    "    rate_per_trial = np.array(rate_per_trial).T\n",
    "\n",
    "    ratemap_allp=gen_ratemap_one(loc_per_trial,rate_per_trial,width,n_pos)\n",
    "\n",
    "    ratemap_allreshape=ratemap_allp.reshape(-1,n_trial)\n",
    "    ratemap_allreshape=pd.DataFrame(ratemap_allreshape)\n",
    "    ind = pd.MultiIndex.from_product([np.arange(n_neuron),np.arange(n_pos)])\n",
    "    ratemap_allreshape.index=ind\n",
    "    ratemap_df =ratemap_allreshape\n",
    "    \n",
    "    return ratemap_df, rate_per_trial, loc_per_trial\n",
    "    \n",
    "    \n",
    "\n",
    "\n"
   ]
  },
  {
   "cell_type": "code",
   "execution_count": 208,
   "id": "8cb3a928",
   "metadata": {},
   "outputs": [],
   "source": [
    "n_repeat = 10\n",
    "slope_all = {}\n",
    "sweep_key = 'loc_step'#'rate_step_sc'\n",
    "sweep_vals = [0,0.5,1,1.5,2,2.5,5]\n",
    "for sv in sweep_vals:\n",
    "    for r in range(n_repeat):\n",
    "        ratemap_df, rate_per_trial, loc_per_trial = gen_sim(**{sweep_key:sv})\n",
    "        corr_per_lag =pvca.get_val_per_lag(ratemap_df.corr())\n",
    "        slope_one = pvca.get_decay_slope_linregress(corr_per_lag)\n",
    "        slope_all[(sv,r)] = slope_one\n",
    "slope_all = pd.Series(slope_all).unstack(level=-1)"
   ]
  },
  {
   "cell_type": "code",
   "execution_count": 203,
   "id": "dc157cee",
   "metadata": {},
   "outputs": [
    {
     "data": {
      "text/html": [
       "<div>\n",
       "<style scoped>\n",
       "    .dataframe tbody tr th:only-of-type {\n",
       "        vertical-align: middle;\n",
       "    }\n",
       "\n",
       "    .dataframe tbody tr th {\n",
       "        vertical-align: top;\n",
       "    }\n",
       "\n",
       "    .dataframe thead th {\n",
       "        text-align: right;\n",
       "    }\n",
       "</style>\n",
       "<table border=\"1\" class=\"dataframe\">\n",
       "  <thead>\n",
       "    <tr style=\"text-align: right;\">\n",
       "      <th></th>\n",
       "      <th>0</th>\n",
       "      <th>1</th>\n",
       "      <th>2</th>\n",
       "      <th>3</th>\n",
       "      <th>4</th>\n",
       "      <th>5</th>\n",
       "      <th>6</th>\n",
       "      <th>7</th>\n",
       "      <th>8</th>\n",
       "      <th>9</th>\n",
       "      <th>10</th>\n",
       "      <th>11</th>\n",
       "      <th>12</th>\n",
       "      <th>13</th>\n",
       "      <th>14</th>\n",
       "      <th>15</th>\n",
       "      <th>16</th>\n",
       "      <th>17</th>\n",
       "      <th>18</th>\n",
       "      <th>19</th>\n",
       "    </tr>\n",
       "  </thead>\n",
       "  <tbody>\n",
       "    <tr>\n",
       "      <th>5</th>\n",
       "      <td>-0.034958</td>\n",
       "      <td>-0.047983</td>\n",
       "      <td>-0.031319</td>\n",
       "      <td>-0.028782</td>\n",
       "      <td>-0.024812</td>\n",
       "      <td>-0.037931</td>\n",
       "      <td>-0.027873</td>\n",
       "      <td>-0.036355</td>\n",
       "      <td>-0.03483</td>\n",
       "      <td>-0.036441</td>\n",
       "      <td>-0.032386</td>\n",
       "      <td>-0.027677</td>\n",
       "      <td>-0.027818</td>\n",
       "      <td>-0.041011</td>\n",
       "      <td>-0.028032</td>\n",
       "      <td>-0.037584</td>\n",
       "      <td>-0.026572</td>\n",
       "      <td>-0.029133</td>\n",
       "      <td>-0.036077</td>\n",
       "      <td>-0.030464</td>\n",
       "    </tr>\n",
       "  </tbody>\n",
       "</table>\n",
       "</div>"
      ],
      "text/plain": [
       "         0         1         2         3         4         5         6   \\\n",
       "5 -0.034958 -0.047983 -0.031319 -0.028782 -0.024812 -0.037931 -0.027873   \n",
       "\n",
       "         7        8         9         10        11        12        13  \\\n",
       "5 -0.036355 -0.03483 -0.036441 -0.032386 -0.027677 -0.027818 -0.041011   \n",
       "\n",
       "         14        15        16        17        18        19  \n",
       "5 -0.028032 -0.037584 -0.026572 -0.029133 -0.036077 -0.030464  "
      ]
     },
     "execution_count": 203,
     "metadata": {},
     "output_type": "execute_result"
    }
   ],
   "source": [
    "slope_all"
   ]
  },
  {
   "cell_type": "code",
   "execution_count": 209,
   "id": "4a40bcdf",
   "metadata": {},
   "outputs": [
    {
     "data": {
      "text/plain": [
       "Text(0, 0.5, 'PV decorr slope')"
      ]
     },
     "execution_count": 209,
     "metadata": {},
     "output_type": "execute_result"
    },
    {
     "data": {
      "image/png": "[encoded data removed]",
      "text/plain": [
       "<Figure size 640x480 with 1 Axes>"
      ]
     },
     "metadata": {},
     "output_type": "display_data"
    }
   ],
   "source": [
    "fig,ax=ph.mean_across_row_vs_col_with_err(slope_all.T)\n",
    "ax.set_xticks(np.arange(len(slope_all.index)))\n",
    "ax.set_xticklabels(slope_all.index)\n",
    "ax.set_xlabel(f'{sweep_key}')\n",
    "ax.set_ylabel('PV decorr slope')"
   ]
  },
  {
   "cell_type": "code",
   "execution_count": 210,
   "id": "281ee264",
   "metadata": {},
   "outputs": [],
   "source": [
    "n_repeat = 10\n",
    "slope_all = {}\n",
    "sweep_key = 'rate_step_sc'\n",
    "sweep_vals = [0,0.5,1,1.5,2,2.5,5]\n",
    "for sv in sweep_vals:\n",
    "    for r in range(n_repeat):\n",
    "        ratemap_df, rate_per_trial, loc_per_trial = gen_sim(**{sweep_key:sv})\n",
    "        corr_per_lag =pvca.get_val_per_lag(ratemap_df.corr())\n",
    "        slope_one = pvca.get_decay_slope_linregress(corr_per_lag)\n",
    "        slope_all[(sv,r)] = slope_one\n",
    "slope_all = pd.Series(slope_all).unstack(level=-1)"
   ]
  },
  {
   "cell_type": "code",
   "execution_count": 221,
   "id": "48aa49cc",
   "metadata": {},
   "outputs": [],
   "source": [
    "def gen_sim_plot(**kwargs):\n",
    "    ratemap_df, rate_per_trial, loc_per_trial = gen_sim(**kwargs)\n",
    "    corr_per_lag =pvca.get_val_per_lag(ratemap_df.corr())\n",
    "    \n",
    "    rate_corr=pd.DataFrame(rate_per_trial).corr()\n",
    "    rate_corr_per_lag = pvca.get_val_per_lag(rate_corr)\n",
    "    \n",
    "    loc_corr=pd.DataFrame(loc_per_trial).corr()\n",
    "    loc_corr_per_lag = pvca.get_val_per_lag(loc_corr)\n",
    "    \n",
    "    fig,axs=plt.subplots(1,3,sharey=True)\n",
    "    ax=axs[0]\n",
    "    fig,ax=ph.mean_across_row_vs_col_with_err(corr_per_lag,ax=ax)\n",
    "    ax.set_xlabel('Trial lag')\n",
    "    ax.set_ylabel('PV corr')\n",
    "    \n",
    "    ax=axs[1]\n",
    "    fig,ax=ph.mean_across_row_vs_col_with_err(loc_corr_per_lag,ax=ax)\n",
    "    ax.set_xlabel('Trial lag')\n",
    "    ax.set_ylabel('Loc corr')\n",
    "    \n",
    "    ax=axs[2]\n",
    "    fig,ax=ph.mean_across_row_vs_col_with_err(rate_corr_per_lag,ax=ax)\n",
    "    ax.set_xlabel('Trial lag')\n",
    "    ax.set_ylabel('Rate corr')\n",
    "    plt.tight_layout()\n",
    "    \n",
    "    return corr_per_lag, rate_corr_per_lag, loc_corr_per_lag"
   ]
  },
  {
   "cell_type": "code",
   "execution_count": 223,
   "id": "c2cea280",
   "metadata": {},
   "outputs": [
    {
     "data": {
      "image/png": "[encoded data removed]",
      "text/plain": [
       "<Figure size 640x480 with 3 Axes>"
      ]
     },
     "metadata": {},
     "output_type": "display_data"
    }
   ],
   "source": [
    "corr_per_lag, rate_corr_per_lag, loc_corr_per_lag = gen_sim_plot(n_trial=30)"
   ]
  },
  {
   "cell_type": "code",
   "execution_count": null,
   "id": "697a0e2a",
   "metadata": {},
   "outputs": [],
   "source": []
  },
  {
   "cell_type": "code",
   "execution_count": 211,
   "id": "13db9f6f",
   "metadata": {},
   "outputs": [
    {
     "data": {
      "text/plain": [
       "Text(0, 0.5, 'PV decorr slope')"
      ]
     },
     "execution_count": 211,
     "metadata": {},
     "output_type": "execute_result"
    },
    {
     "data": {
      "image/png": "[encoded data removed]",
      "text/plain": [
       "<Figure size 640x480 with 1 Axes>"
      ]
     },
     "metadata": {},
     "output_type": "display_data"
    }
   ],
   "source": [
    "fig,ax=ph.mean_across_row_vs_col_with_err(slope_all.T)\n",
    "ax.set_xticks(np.arange(len(slope_all.index)))\n",
    "ax.set_xticklabels(slope_all.index)\n",
    "ax.set_xlabel(f'{sweep_key}')\n",
    "ax.set_ylabel('PV decorr slope')"
   ]
  },
  {
   "cell_type": "code",
   "execution_count": null,
   "id": "edaf706f",
   "metadata": {},
   "outputs": [],
   "source": []
  },
  {
   "cell_type": "code",
   "execution_count": 170,
   "id": "638c8d1e",
   "metadata": {},
   "outputs": [],
   "source": [
    "width = 10\n",
    "def gen_ratemap_one(loc,rate,width,n_pos=100):\n",
    "    ratemap_allp = []\n",
    "    for p in range(n_pos):\n",
    "        ratemap=scipy.stats.norm.pdf(p,loc=loc,scale=width)*rate\n",
    "        ratemap_allp.append(ratemap)\n",
    "    ratemap_allp = np.stack(ratemap_allp,axis=1)\n",
    "    return ratemap_allp\n",
    "    \n",
    "    "
   ]
  },
  {
   "cell_type": "code",
   "execution_count": 171,
   "id": "a10fa20e",
   "metadata": {},
   "outputs": [],
   "source": []
  },
  {
   "cell_type": "code",
   "execution_count": 173,
   "id": "7647a217",
   "metadata": {},
   "outputs": [
    {
     "data": {
      "text/plain": [
       "(<Figure size 640x480 with 1 Axes>, <Axes: xlabel='Trial', ylabel='value'>)"
      ]
     },
     "execution_count": 173,
     "metadata": {},
     "output_type": "execute_result"
    },
    {
     "data": {
      "image/png": "[encoded data removed]",
      "text/plain": [
       "<Figure size 640x480 with 1 Axes>"
      ]
     },
     "metadata": {},
     "output_type": "display_data"
    }
   ],
   "source": [
    "import pv_corr_analysis as pvca\n",
    "corr_per_lag =pvca.get_val_per_lag(ratemap_df.corr())\n",
    "ph.mean_across_row_vs_col_with_err(corr_per_lag)"
   ]
  },
  {
   "cell_type": "code",
   "execution_count": 175,
   "id": "f0e3ff65",
   "metadata": {},
   "outputs": [],
   "source": [
    "slope_one = pvca.get_decay_slope_linregress(corr_per_lag)"
   ]
  },
  {
   "cell_type": "code",
   "execution_count": 176,
   "id": "3cdc70b1",
   "metadata": {},
   "outputs": [
    {
     "data": {
      "text/plain": [
       "-0.03167830107055786"
      ]
     },
     "execution_count": 176,
     "metadata": {},
     "output_type": "execute_result"
    }
   ],
   "source": [
    "slope_one"
   ]
  },
  {
   "cell_type": "code",
   "execution_count": 174,
   "id": "51c8b28f",
   "metadata": {},
   "outputs": [
    {
     "data": {
      "text/html": [
       "<div>\n",
       "<style scoped>\n",
       "    .dataframe tbody tr th:only-of-type {\n",
       "        vertical-align: middle;\n",
       "    }\n",
       "\n",
       "    .dataframe tbody tr th {\n",
       "        vertical-align: top;\n",
       "    }\n",
       "\n",
       "    .dataframe thead th {\n",
       "        text-align: right;\n",
       "    }\n",
       "</style>\n",
       "<table border=\"1\" class=\"dataframe\">\n",
       "  <thead>\n",
       "    <tr style=\"text-align: right;\">\n",
       "      <th></th>\n",
       "      <th>1</th>\n",
       "      <th>2</th>\n",
       "      <th>3</th>\n",
       "      <th>4</th>\n",
       "      <th>5</th>\n",
       "      <th>6</th>\n",
       "      <th>7</th>\n",
       "      <th>8</th>\n",
       "    </tr>\n",
       "  </thead>\n",
       "  <tbody>\n",
       "    <tr>\n",
       "      <th>0</th>\n",
       "      <td>0.855112</td>\n",
       "      <td>0.820306</td>\n",
       "      <td>0.738875</td>\n",
       "      <td>0.727799</td>\n",
       "      <td>0.697199</td>\n",
       "      <td>0.707121</td>\n",
       "      <td>0.776669</td>\n",
       "      <td>0.669998</td>\n",
       "    </tr>\n",
       "    <tr>\n",
       "      <th>1</th>\n",
       "      <td>0.868895</td>\n",
       "      <td>0.828452</td>\n",
       "      <td>0.772664</td>\n",
       "      <td>0.833896</td>\n",
       "      <td>0.826998</td>\n",
       "      <td>0.821219</td>\n",
       "      <td>0.791067</td>\n",
       "      <td>0.749499</td>\n",
       "    </tr>\n",
       "    <tr>\n",
       "      <th>2</th>\n",
       "      <td>0.917388</td>\n",
       "      <td>0.903867</td>\n",
       "      <td>0.828004</td>\n",
       "      <td>0.825036</td>\n",
       "      <td>0.820677</td>\n",
       "      <td>0.704938</td>\n",
       "      <td>0.637477</td>\n",
       "      <td>NaN</td>\n",
       "    </tr>\n",
       "    <tr>\n",
       "      <th>3</th>\n",
       "      <td>0.936487</td>\n",
       "      <td>0.902301</td>\n",
       "      <td>0.914198</td>\n",
       "      <td>0.875957</td>\n",
       "      <td>0.826980</td>\n",
       "      <td>0.779018</td>\n",
       "      <td>NaN</td>\n",
       "      <td>NaN</td>\n",
       "    </tr>\n",
       "    <tr>\n",
       "      <th>4</th>\n",
       "      <td>0.904547</td>\n",
       "      <td>0.899157</td>\n",
       "      <td>0.868150</td>\n",
       "      <td>0.772706</td>\n",
       "      <td>0.716758</td>\n",
       "      <td>NaN</td>\n",
       "      <td>NaN</td>\n",
       "      <td>NaN</td>\n",
       "    </tr>\n",
       "    <tr>\n",
       "      <th>5</th>\n",
       "      <td>0.961810</td>\n",
       "      <td>0.912189</td>\n",
       "      <td>0.897263</td>\n",
       "      <td>0.875585</td>\n",
       "      <td>NaN</td>\n",
       "      <td>NaN</td>\n",
       "      <td>NaN</td>\n",
       "      <td>NaN</td>\n",
       "    </tr>\n",
       "    <tr>\n",
       "      <th>6</th>\n",
       "      <td>0.939818</td>\n",
       "      <td>0.919587</td>\n",
       "      <td>0.881245</td>\n",
       "      <td>NaN</td>\n",
       "      <td>NaN</td>\n",
       "      <td>NaN</td>\n",
       "      <td>NaN</td>\n",
       "      <td>NaN</td>\n",
       "    </tr>\n",
       "    <tr>\n",
       "      <th>7</th>\n",
       "      <td>0.932413</td>\n",
       "      <td>0.899315</td>\n",
       "      <td>NaN</td>\n",
       "      <td>NaN</td>\n",
       "      <td>NaN</td>\n",
       "      <td>NaN</td>\n",
       "      <td>NaN</td>\n",
       "      <td>NaN</td>\n",
       "    </tr>\n",
       "    <tr>\n",
       "      <th>8</th>\n",
       "      <td>0.973965</td>\n",
       "      <td>NaN</td>\n",
       "      <td>NaN</td>\n",
       "      <td>NaN</td>\n",
       "      <td>NaN</td>\n",
       "      <td>NaN</td>\n",
       "      <td>NaN</td>\n",
       "      <td>NaN</td>\n",
       "    </tr>\n",
       "  </tbody>\n",
       "</table>\n",
       "</div>"
      ],
      "text/plain": [
       "          1         2         3         4         5         6         7  \\\n",
       "0  0.855112  0.820306  0.738875  0.727799  0.697199  0.707121  0.776669   \n",
       "1  0.868895  0.828452  0.772664  0.833896  0.826998  0.821219  0.791067   \n",
       "2  0.917388  0.903867  0.828004  0.825036  0.820677  0.704938  0.637477   \n",
       "3  0.936487  0.902301  0.914198  0.875957  0.826980  0.779018       NaN   \n",
       "4  0.904547  0.899157  0.868150  0.772706  0.716758       NaN       NaN   \n",
       "5  0.961810  0.912189  0.897263  0.875585       NaN       NaN       NaN   \n",
       "6  0.939818  0.919587  0.881245       NaN       NaN       NaN       NaN   \n",
       "7  0.932413  0.899315       NaN       NaN       NaN       NaN       NaN   \n",
       "8  0.973965       NaN       NaN       NaN       NaN       NaN       NaN   \n",
       "\n",
       "          8  \n",
       "0  0.669998  \n",
       "1  0.749499  \n",
       "2       NaN  \n",
       "3       NaN  \n",
       "4       NaN  \n",
       "5       NaN  \n",
       "6       NaN  \n",
       "7       NaN  \n",
       "8       NaN  "
      ]
     },
     "execution_count": 174,
     "metadata": {},
     "output_type": "execute_result"
    }
   ],
   "source": [
    "corr_per_lag"
   ]
  },
  {
   "cell_type": "code",
   "execution_count": null,
   "id": "15a7daf9",
   "metadata": {
    "scrolled": true
   },
   "outputs": [],
   "source": []
  },
  {
   "cell_type": "code",
   "execution_count": 45,
   "id": "137b401c",
   "metadata": {},
   "outputs": [
    {
     "data": {
      "text/plain": [
       "(200, 100, 10)"
      ]
     },
     "execution_count": 45,
     "metadata": {},
     "output_type": "execute_result"
    }
   ],
   "source": [
    "ratemap_allp.shape"
   ]
  },
  {
   "cell_type": "code",
   "execution_count": 25,
   "id": "4695919f",
   "metadata": {},
   "outputs": [
    {
     "data": {
      "text/plain": [
       "array([0.        , 0.03335109, 0.08406125, 0.31389103, 0.44018947,\n",
       "       0.3032572 , 0.26681841, 0.31252028, 0.48986701, 0.46002002])"
      ]
     },
     "execution_count": 25,
     "metadata": {},
     "output_type": "execute_result"
    }
   ],
   "source": [
    "loc_per_trial[0]"
   ]
  },
  {
   "cell_type": "code",
   "execution_count": null,
   "id": "034e4534",
   "metadata": {},
   "outputs": [],
   "source": []
  },
  {
   "cell_type": "markdown",
   "id": "3cc28601",
   "metadata": {},
   "source": [
    "# can we classify the degree of location drift?"
   ]
  },
  {
   "cell_type": "code",
   "execution_count": 211,
   "id": "86220618",
   "metadata": {
    "scrolled": true
   },
   "outputs": [
    {
     "name": "stderr",
     "output_type": "stream",
     "text": [
      "/mnt/home/szheng/ceph/envs/jax/lib/python3.9/site-packages/scipy/stats/_stats_py.py:4424: ConstantInputWarning: An input array is constant; the correlation coefficient is not defined.\n",
      "  warnings.warn(stats.ConstantInputWarning(msg))\n",
      "/mnt/home/szheng/ceph/envs/jax/lib/python3.9/site-packages/scipy/stats/_stats_py.py:4424: ConstantInputWarning: An input array is constant; the correlation coefficient is not defined.\n",
      "  warnings.warn(stats.ConstantInputWarning(msg))\n",
      "/mnt/home/szheng/ceph/envs/jax/lib/python3.9/site-packages/scipy/stats/_stats_py.py:4424: ConstantInputWarning: An input array is constant; the correlation coefficient is not defined.\n",
      "  warnings.warn(stats.ConstantInputWarning(msg))\n",
      "/mnt/home/szheng/ceph/envs/jax/lib/python3.9/site-packages/scipy/stats/_stats_py.py:4424: ConstantInputWarning: An input array is constant; the correlation coefficient is not defined.\n",
      "  warnings.warn(stats.ConstantInputWarning(msg))\n",
      "/mnt/home/szheng/ceph/envs/jax/lib/python3.9/site-packages/scipy/stats/_stats_py.py:4424: ConstantInputWarning: An input array is constant; the correlation coefficient is not defined.\n",
      "  warnings.warn(stats.ConstantInputWarning(msg))\n",
      "/mnt/home/szheng/ceph/envs/jax/lib/python3.9/site-packages/scipy/stats/_stats_py.py:4424: ConstantInputWarning: An input array is constant; the correlation coefficient is not defined.\n",
      "  warnings.warn(stats.ConstantInputWarning(msg))\n",
      "/mnt/home/szheng/ceph/envs/jax/lib/python3.9/site-packages/scipy/stats/_stats_py.py:4424: ConstantInputWarning: An input array is constant; the correlation coefficient is not defined.\n",
      "  warnings.warn(stats.ConstantInputWarning(msg))\n",
      "/mnt/home/szheng/ceph/envs/jax/lib/python3.9/site-packages/scipy/stats/_stats_py.py:4424: ConstantInputWarning: An input array is constant; the correlation coefficient is not defined.\n",
      "  warnings.warn(stats.ConstantInputWarning(msg))\n",
      "/mnt/home/szheng/ceph/envs/jax/lib/python3.9/site-packages/scipy/stats/_stats_py.py:4424: ConstantInputWarning: An input array is constant; the correlation coefficient is not defined.\n",
      "  warnings.warn(stats.ConstantInputWarning(msg))\n",
      "/mnt/home/szheng/ceph/envs/jax/lib/python3.9/site-packages/scipy/stats/_stats_py.py:4424: ConstantInputWarning: An input array is constant; the correlation coefficient is not defined.\n",
      "  warnings.warn(stats.ConstantInputWarning(msg))\n",
      "/mnt/home/szheng/ceph/envs/jax/lib/python3.9/site-packages/scipy/stats/_stats_py.py:4424: ConstantInputWarning: An input array is constant; the correlation coefficient is not defined.\n",
      "  warnings.warn(stats.ConstantInputWarning(msg))\n",
      "/mnt/home/szheng/ceph/envs/jax/lib/python3.9/site-packages/scipy/stats/_stats_py.py:4424: ConstantInputWarning: An input array is constant; the correlation coefficient is not defined.\n",
      "  warnings.warn(stats.ConstantInputWarning(msg))\n",
      "/mnt/home/szheng/ceph/envs/jax/lib/python3.9/site-packages/scipy/stats/_stats_py.py:4424: ConstantInputWarning: An input array is constant; the correlation coefficient is not defined.\n",
      "  warnings.warn(stats.ConstantInputWarning(msg))\n",
      "/mnt/home/szheng/ceph/envs/jax/lib/python3.9/site-packages/scipy/stats/_stats_py.py:4424: ConstantInputWarning: An input array is constant; the correlation coefficient is not defined.\n",
      "  warnings.warn(stats.ConstantInputWarning(msg))\n",
      "/mnt/home/szheng/ceph/envs/jax/lib/python3.9/site-packages/scipy/stats/_stats_py.py:4424: ConstantInputWarning: An input array is constant; the correlation coefficient is not defined.\n",
      "  warnings.warn(stats.ConstantInputWarning(msg))\n",
      "/mnt/home/szheng/ceph/envs/jax/lib/python3.9/site-packages/scipy/stats/_stats_py.py:4424: ConstantInputWarning: An input array is constant; the correlation coefficient is not defined.\n",
      "  warnings.warn(stats.ConstantInputWarning(msg))\n",
      "/mnt/home/szheng/ceph/envs/jax/lib/python3.9/site-packages/scipy/stats/_stats_py.py:4424: ConstantInputWarning: An input array is constant; the correlation coefficient is not defined.\n",
      "  warnings.warn(stats.ConstantInputWarning(msg))\n",
      "/mnt/home/szheng/ceph/envs/jax/lib/python3.9/site-packages/scipy/stats/_stats_py.py:4424: ConstantInputWarning: An input array is constant; the correlation coefficient is not defined.\n",
      "  warnings.warn(stats.ConstantInputWarning(msg))\n",
      "/mnt/home/szheng/ceph/envs/jax/lib/python3.9/site-packages/scipy/stats/_stats_py.py:4424: ConstantInputWarning: An input array is constant; the correlation coefficient is not defined.\n",
      "  warnings.warn(stats.ConstantInputWarning(msg))\n",
      "/mnt/home/szheng/ceph/envs/jax/lib/python3.9/site-packages/scipy/stats/_stats_py.py:4424: ConstantInputWarning: An input array is constant; the correlation coefficient is not defined.\n",
      "  warnings.warn(stats.ConstantInputWarning(msg))\n",
      "/mnt/home/szheng/ceph/envs/jax/lib/python3.9/site-packages/scipy/stats/_stats_py.py:4424: ConstantInputWarning: An input array is constant; the correlation coefficient is not defined.\n",
      "  warnings.warn(stats.ConstantInputWarning(msg))\n",
      "/mnt/home/szheng/ceph/envs/jax/lib/python3.9/site-packages/scipy/stats/_stats_py.py:4424: ConstantInputWarning: An input array is constant; the correlation coefficient is not defined.\n",
      "  warnings.warn(stats.ConstantInputWarning(msg))\n",
      "/mnt/home/szheng/ceph/envs/jax/lib/python3.9/site-packages/scipy/stats/_stats_py.py:4424: ConstantInputWarning: An input array is constant; the correlation coefficient is not defined.\n",
      "  warnings.warn(stats.ConstantInputWarning(msg))\n",
      "/mnt/home/szheng/ceph/envs/jax/lib/python3.9/site-packages/scipy/stats/_stats_py.py:4424: ConstantInputWarning: An input array is constant; the correlation coefficient is not defined.\n",
      "  warnings.warn(stats.ConstantInputWarning(msg))\n",
      "/mnt/home/szheng/ceph/envs/jax/lib/python3.9/site-packages/scipy/stats/_stats_py.py:4424: ConstantInputWarning: An input array is constant; the correlation coefficient is not defined.\n",
      "  warnings.warn(stats.ConstantInputWarning(msg))\n",
      "/mnt/home/szheng/ceph/envs/jax/lib/python3.9/site-packages/scipy/stats/_stats_py.py:4424: ConstantInputWarning: An input array is constant; the correlation coefficient is not defined.\n",
      "  warnings.warn(stats.ConstantInputWarning(msg))\n",
      "/mnt/home/szheng/ceph/envs/jax/lib/python3.9/site-packages/scipy/stats/_stats_py.py:4424: ConstantInputWarning: An input array is constant; the correlation coefficient is not defined.\n",
      "  warnings.warn(stats.ConstantInputWarning(msg))\n",
      "/mnt/home/szheng/ceph/envs/jax/lib/python3.9/site-packages/scipy/stats/_stats_py.py:4424: ConstantInputWarning: An input array is constant; the correlation coefficient is not defined.\n",
      "  warnings.warn(stats.ConstantInputWarning(msg))\n",
      "/mnt/home/szheng/ceph/envs/jax/lib/python3.9/site-packages/scipy/stats/_stats_py.py:4424: ConstantInputWarning: An input array is constant; the correlation coefficient is not defined.\n",
      "  warnings.warn(stats.ConstantInputWarning(msg))\n",
      "/mnt/home/szheng/ceph/envs/jax/lib/python3.9/site-packages/scipy/stats/_stats_py.py:4424: ConstantInputWarning: An input array is constant; the correlation coefficient is not defined.\n",
      "  warnings.warn(stats.ConstantInputWarning(msg))\n",
      "/mnt/home/szheng/ceph/envs/jax/lib/python3.9/site-packages/scipy/stats/_stats_py.py:4424: ConstantInputWarning: An input array is constant; the correlation coefficient is not defined.\n",
      "  warnings.warn(stats.ConstantInputWarning(msg))\n",
      "/mnt/home/szheng/ceph/envs/jax/lib/python3.9/site-packages/scipy/stats/_stats_py.py:4424: ConstantInputWarning: An input array is constant; the correlation coefficient is not defined.\n",
      "  warnings.warn(stats.ConstantInputWarning(msg))\n",
      "/mnt/home/szheng/ceph/envs/jax/lib/python3.9/site-packages/scipy/stats/_stats_py.py:4424: ConstantInputWarning: An input array is constant; the correlation coefficient is not defined.\n",
      "  warnings.warn(stats.ConstantInputWarning(msg))\n",
      "/mnt/home/szheng/ceph/envs/jax/lib/python3.9/site-packages/scipy/stats/_stats_py.py:4424: ConstantInputWarning: An input array is constant; the correlation coefficient is not defined.\n",
      "  warnings.warn(stats.ConstantInputWarning(msg))\n",
      "/mnt/home/szheng/ceph/envs/jax/lib/python3.9/site-packages/scipy/stats/_stats_py.py:4424: ConstantInputWarning: An input array is constant; the correlation coefficient is not defined.\n",
      "  warnings.warn(stats.ConstantInputWarning(msg))\n",
      "/mnt/home/szheng/ceph/envs/jax/lib/python3.9/site-packages/scipy/stats/_stats_py.py:4424: ConstantInputWarning: An input array is constant; the correlation coefficient is not defined.\n",
      "  warnings.warn(stats.ConstantInputWarning(msg))\n"
     ]
    },
    {
     "name": "stderr",
     "output_type": "stream",
     "text": [
      "/mnt/home/szheng/ceph/envs/jax/lib/python3.9/site-packages/scipy/stats/_stats_py.py:4424: ConstantInputWarning: An input array is constant; the correlation coefficient is not defined.\n",
      "  warnings.warn(stats.ConstantInputWarning(msg))\n",
      "/mnt/home/szheng/ceph/envs/jax/lib/python3.9/site-packages/scipy/stats/_stats_py.py:4424: ConstantInputWarning: An input array is constant; the correlation coefficient is not defined.\n",
      "  warnings.warn(stats.ConstantInputWarning(msg))\n",
      "/mnt/home/szheng/ceph/envs/jax/lib/python3.9/site-packages/scipy/stats/_stats_py.py:4424: ConstantInputWarning: An input array is constant; the correlation coefficient is not defined.\n",
      "  warnings.warn(stats.ConstantInputWarning(msg))\n",
      "/mnt/home/szheng/ceph/envs/jax/lib/python3.9/site-packages/scipy/stats/_stats_py.py:4424: ConstantInputWarning: An input array is constant; the correlation coefficient is not defined.\n",
      "  warnings.warn(stats.ConstantInputWarning(msg))\n",
      "/mnt/home/szheng/ceph/envs/jax/lib/python3.9/site-packages/scipy/stats/_stats_py.py:4424: ConstantInputWarning: An input array is constant; the correlation coefficient is not defined.\n",
      "  warnings.warn(stats.ConstantInputWarning(msg))\n",
      "/mnt/home/szheng/ceph/envs/jax/lib/python3.9/site-packages/scipy/stats/_stats_py.py:4424: ConstantInputWarning: An input array is constant; the correlation coefficient is not defined.\n",
      "  warnings.warn(stats.ConstantInputWarning(msg))\n",
      "/mnt/home/szheng/ceph/envs/jax/lib/python3.9/site-packages/scipy/stats/_stats_py.py:4424: ConstantInputWarning: An input array is constant; the correlation coefficient is not defined.\n",
      "  warnings.warn(stats.ConstantInputWarning(msg))\n",
      "/mnt/home/szheng/ceph/envs/jax/lib/python3.9/site-packages/scipy/stats/_stats_py.py:4424: ConstantInputWarning: An input array is constant; the correlation coefficient is not defined.\n",
      "  warnings.warn(stats.ConstantInputWarning(msg))\n",
      "/mnt/home/szheng/ceph/envs/jax/lib/python3.9/site-packages/scipy/stats/_stats_py.py:4424: ConstantInputWarning: An input array is constant; the correlation coefficient is not defined.\n",
      "  warnings.warn(stats.ConstantInputWarning(msg))\n",
      "/mnt/home/szheng/ceph/envs/jax/lib/python3.9/site-packages/scipy/stats/_stats_py.py:4424: ConstantInputWarning: An input array is constant; the correlation coefficient is not defined.\n",
      "  warnings.warn(stats.ConstantInputWarning(msg))\n",
      "/mnt/home/szheng/ceph/envs/jax/lib/python3.9/site-packages/scipy/stats/_stats_py.py:4424: ConstantInputWarning: An input array is constant; the correlation coefficient is not defined.\n",
      "  warnings.warn(stats.ConstantInputWarning(msg))\n",
      "/mnt/home/szheng/ceph/envs/jax/lib/python3.9/site-packages/scipy/stats/_stats_py.py:4424: ConstantInputWarning: An input array is constant; the correlation coefficient is not defined.\n",
      "  warnings.warn(stats.ConstantInputWarning(msg))\n",
      "/mnt/home/szheng/ceph/envs/jax/lib/python3.9/site-packages/scipy/stats/_stats_py.py:4424: ConstantInputWarning: An input array is constant; the correlation coefficient is not defined.\n",
      "  warnings.warn(stats.ConstantInputWarning(msg))\n",
      "/mnt/home/szheng/ceph/envs/jax/lib/python3.9/site-packages/scipy/stats/_stats_py.py:4424: ConstantInputWarning: An input array is constant; the correlation coefficient is not defined.\n",
      "  warnings.warn(stats.ConstantInputWarning(msg))\n",
      "/mnt/home/szheng/ceph/envs/jax/lib/python3.9/site-packages/scipy/stats/_stats_py.py:4424: ConstantInputWarning: An input array is constant; the correlation coefficient is not defined.\n",
      "  warnings.warn(stats.ConstantInputWarning(msg))\n",
      "/mnt/home/szheng/ceph/envs/jax/lib/python3.9/site-packages/scipy/stats/_stats_py.py:4424: ConstantInputWarning: An input array is constant; the correlation coefficient is not defined.\n",
      "  warnings.warn(stats.ConstantInputWarning(msg))\n",
      "/mnt/home/szheng/ceph/envs/jax/lib/python3.9/site-packages/scipy/stats/_stats_py.py:4424: ConstantInputWarning: An input array is constant; the correlation coefficient is not defined.\n",
      "  warnings.warn(stats.ConstantInputWarning(msg))\n",
      "/mnt/home/szheng/ceph/envs/jax/lib/python3.9/site-packages/scipy/stats/_stats_py.py:4424: ConstantInputWarning: An input array is constant; the correlation coefficient is not defined.\n",
      "  warnings.warn(stats.ConstantInputWarning(msg))\n",
      "/mnt/home/szheng/ceph/envs/jax/lib/python3.9/site-packages/scipy/stats/_stats_py.py:4424: ConstantInputWarning: An input array is constant; the correlation coefficient is not defined.\n",
      "  warnings.warn(stats.ConstantInputWarning(msg))\n",
      "/mnt/home/szheng/ceph/envs/jax/lib/python3.9/site-packages/scipy/stats/_stats_py.py:4424: ConstantInputWarning: An input array is constant; the correlation coefficient is not defined.\n",
      "  warnings.warn(stats.ConstantInputWarning(msg))\n",
      "/mnt/home/szheng/ceph/envs/jax/lib/python3.9/site-packages/scipy/stats/_stats_py.py:4424: ConstantInputWarning: An input array is constant; the correlation coefficient is not defined.\n",
      "  warnings.warn(stats.ConstantInputWarning(msg))\n",
      "/mnt/home/szheng/ceph/envs/jax/lib/python3.9/site-packages/scipy/stats/_stats_py.py:4424: ConstantInputWarning: An input array is constant; the correlation coefficient is not defined.\n",
      "  warnings.warn(stats.ConstantInputWarning(msg))\n",
      "/mnt/home/szheng/ceph/envs/jax/lib/python3.9/site-packages/scipy/stats/_stats_py.py:4424: ConstantInputWarning: An input array is constant; the correlation coefficient is not defined.\n",
      "  warnings.warn(stats.ConstantInputWarning(msg))\n",
      "/mnt/home/szheng/ceph/envs/jax/lib/python3.9/site-packages/scipy/stats/_stats_py.py:4424: ConstantInputWarning: An input array is constant; the correlation coefficient is not defined.\n",
      "  warnings.warn(stats.ConstantInputWarning(msg))\n",
      "/mnt/home/szheng/ceph/envs/jax/lib/python3.9/site-packages/scipy/stats/_stats_py.py:4424: ConstantInputWarning: An input array is constant; the correlation coefficient is not defined.\n",
      "  warnings.warn(stats.ConstantInputWarning(msg))\n",
      "/mnt/home/szheng/ceph/envs/jax/lib/python3.9/site-packages/scipy/stats/_stats_py.py:4424: ConstantInputWarning: An input array is constant; the correlation coefficient is not defined.\n",
      "  warnings.warn(stats.ConstantInputWarning(msg))\n",
      "/mnt/home/szheng/ceph/envs/jax/lib/python3.9/site-packages/scipy/stats/_stats_py.py:4424: ConstantInputWarning: An input array is constant; the correlation coefficient is not defined.\n",
      "  warnings.warn(stats.ConstantInputWarning(msg))\n",
      "/mnt/home/szheng/ceph/envs/jax/lib/python3.9/site-packages/scipy/stats/_stats_py.py:4424: ConstantInputWarning: An input array is constant; the correlation coefficient is not defined.\n",
      "  warnings.warn(stats.ConstantInputWarning(msg))\n",
      "/mnt/home/szheng/ceph/envs/jax/lib/python3.9/site-packages/scipy/stats/_stats_py.py:4424: ConstantInputWarning: An input array is constant; the correlation coefficient is not defined.\n",
      "  warnings.warn(stats.ConstantInputWarning(msg))\n",
      "/mnt/home/szheng/ceph/envs/jax/lib/python3.9/site-packages/scipy/stats/_stats_py.py:4424: ConstantInputWarning: An input array is constant; the correlation coefficient is not defined.\n",
      "  warnings.warn(stats.ConstantInputWarning(msg))\n",
      "/mnt/home/szheng/ceph/envs/jax/lib/python3.9/site-packages/scipy/stats/_stats_py.py:4424: ConstantInputWarning: An input array is constant; the correlation coefficient is not defined.\n",
      "  warnings.warn(stats.ConstantInputWarning(msg))\n",
      "/mnt/home/szheng/ceph/envs/jax/lib/python3.9/site-packages/scipy/stats/_stats_py.py:4424: ConstantInputWarning: An input array is constant; the correlation coefficient is not defined.\n",
      "  warnings.warn(stats.ConstantInputWarning(msg))\n",
      "/mnt/home/szheng/ceph/envs/jax/lib/python3.9/site-packages/scipy/stats/_stats_py.py:4424: ConstantInputWarning: An input array is constant; the correlation coefficient is not defined.\n",
      "  warnings.warn(stats.ConstantInputWarning(msg))\n",
      "/mnt/home/szheng/ceph/envs/jax/lib/python3.9/site-packages/scipy/stats/_stats_py.py:4424: ConstantInputWarning: An input array is constant; the correlation coefficient is not defined.\n",
      "  warnings.warn(stats.ConstantInputWarning(msg))\n",
      "/mnt/home/szheng/ceph/envs/jax/lib/python3.9/site-packages/scipy/stats/_stats_py.py:4424: ConstantInputWarning: An input array is constant; the correlation coefficient is not defined.\n",
      "  warnings.warn(stats.ConstantInputWarning(msg))\n",
      "/mnt/home/szheng/ceph/envs/jax/lib/python3.9/site-packages/scipy/stats/_stats_py.py:4424: ConstantInputWarning: An input array is constant; the correlation coefficient is not defined.\n",
      "  warnings.warn(stats.ConstantInputWarning(msg))\n"
     ]
    },
    {
     "name": "stderr",
     "output_type": "stream",
     "text": [
      "/mnt/home/szheng/ceph/envs/jax/lib/python3.9/site-packages/scipy/stats/_stats_py.py:4424: ConstantInputWarning: An input array is constant; the correlation coefficient is not defined.\n",
      "  warnings.warn(stats.ConstantInputWarning(msg))\n",
      "/mnt/home/szheng/ceph/envs/jax/lib/python3.9/site-packages/scipy/stats/_stats_py.py:4424: ConstantInputWarning: An input array is constant; the correlation coefficient is not defined.\n",
      "  warnings.warn(stats.ConstantInputWarning(msg))\n"
     ]
    }
   ],
   "source": [
    "loc_all = pf_params_all.loc[(slice(None),slice(None),slice(None),slice(None),'peak')]\n",
    "for i,row in loc_all.iterrows():\n",
    "    row = row.dropna()\n",
    "    row.reset_index().rcorr()"
   ]
  },
  {
   "cell_type": "code",
   "execution_count": 251,
   "id": "c1a060db",
   "metadata": {},
   "outputs": [
    {
     "data": {
      "text/plain": [
       "('e14_2m2', 'e14_2m2_201019', 0, 1.0, 89, 1)"
      ]
     },
     "execution_count": 251,
     "metadata": {},
     "output_type": "execute_result"
    }
   ],
   "source": [
    "row.name"
   ]
  },
  {
   "cell_type": "code",
   "execution_count": 252,
   "id": "ff827ef0",
   "metadata": {
    "scrolled": true
   },
   "outputs": [
    {
     "name": "stderr",
     "output_type": "stream",
     "text": [
      "/tmp/ipykernel_702312/245412402.py:4: PerformanceWarning: indexing past lexsort depth may impact performance.\n",
      "  rm = fr_map_trial_df_pyr_combined_all.loc[(ani,sess,ti,tt,uid),:].dropna(axis=1).T\n",
      "/mnt/home/szheng/projects/util_code/plot_helper.py:578: UserWarning: FixedFormatter should only be used together with FixedLocator\n",
      "  ax.set_xticklabels(x_tick_labels, rotation=0)\n"
     ]
    },
    {
     "data": {
      "text/plain": [
       "(<Figure size 216x144 with 2 Axes>, <Axes: xlabel='Position'>)"
      ]
     },
     "execution_count": 252,
     "metadata": {},
     "output_type": "execute_result"
    },
    {
     "data": {
      "image/png": "[encoded data removed]",
      "text/plain": [
       "<Figure size 432x288 with 1 Axes>"
      ]
     },
     "metadata": {
      "needs_background": "light"
     },
     "output_type": "display_data"
    },
    {
     "data": {
      "image/png": "[encoded data removed]",
      "text/plain": [
       "<Figure size 216x144 with 2 Axes>"
      ]
     },
     "metadata": {
      "needs_background": "light"
     },
     "output_type": "display_data"
    }
   ],
   "source": [
    "row=loc_all.sample(1).iloc[0].dropna()\n",
    "ani,sess,ti,tt,uid,field_id = row.name\n",
    "row.plot(marker='o')\n",
    "rm = fr_map_trial_df_pyr_combined_all.loc[(ani,sess,ti,tt,uid),:].dropna(axis=1).T\n",
    "ph.ratemap_one_raw(rm)"
   ]
  },
  {
   "cell_type": "code",
   "execution_count": 257,
   "id": "d1b63544",
   "metadata": {},
   "outputs": [],
   "source": [
    "import pv_corr_analysis as pvca"
   ]
  },
  {
   "cell_type": "code",
   "execution_count": 350,
   "id": "7c743b0f",
   "metadata": {},
   "outputs": [],
   "source": [
    "key_l =['fr_peak','peak']\n",
    "fr_peak_peak_all_unstack = pf_params_all.loc[(slice(None),slice(None),slice(None),slice(None),key_l)].unstack(level=-3)\n",
    "sub=fr_peak_peak_all_unstack.sample(1).iloc[0]\n",
    "ani,sess,ti,tt,uid,field_id = sub.name\n",
    "sub=sub.unstack(-1).T.dropna(axis=1)"
   ]
  },
  {
   "cell_type": "code",
   "execution_count": 351,
   "id": "ed76453f",
   "metadata": {},
   "outputs": [
    {
     "name": "stderr",
     "output_type": "stream",
     "text": [
      "/tmp/ipykernel_702312/1431371813.py:15: PerformanceWarning: indexing past lexsort depth may impact performance.\n",
      "  rm = fr_map_trial_df_all.loc[(ani,sess,ti,tt,uid),:].dropna(axis=1).T\n",
      "/mnt/home/szheng/projects/util_code/plot_helper.py:578: UserWarning: FixedFormatter should only be used together with FixedLocator\n",
      "  ax.set_xticklabels(x_tick_labels, rotation=0)\n"
     ]
    },
    {
     "data": {
      "text/plain": [
       "(<Figure size 300x200 with 2 Axes>, <Axes: xlabel='Position'>)"
      ]
     },
     "execution_count": 351,
     "metadata": {},
     "output_type": "execute_result"
    },
    {
     "data": {
      "image/png": "[encoded data removed]",
      "text/plain": [
       "<Figure size 200x400 with 2 Axes>"
      ]
     },
     "metadata": {},
     "output_type": "display_data"
    },
    {
     "data": {
      "image/png": "[encoded data removed]",
      "text/plain": [
       "<Figure size 300x200 with 2 Axes>"
      ]
     },
     "metadata": {},
     "output_type": "display_data"
    }
   ],
   "source": [
    "fig,axs=plt.subplots(2,1,figsize=(2,4))\n",
    "for ii,key in enumerate(key_l):\n",
    "    ax=axs[ii]\n",
    "    row = sub.loc[key]\n",
    "    diff_mat = pd.DataFrame(row.values[None,:] - row.values[:,None],index=row.index,columns=row.index)\n",
    "    diff_mat_abs= np.abs(diff_mat)\n",
    "    diff_abs_per_lag = pvca.get_val_per_lag(diff_mat_abs)\n",
    "#     ph.mean_error_plot(diff_abs_per_lag,ax=ax,fig=fig)\n",
    "    \n",
    "    row.plot(ax=ax,marker='o')\n",
    "    \n",
    "    ax.set_title(key)\n",
    "    sns.despine()\n",
    "plt.tight_layout()\n",
    "rm = fr_map_trial_df_all.loc[(ani,sess,ti,tt,uid),:].dropna(axis=1).T\n",
    "\n",
    "st,ed = all_fields_all.loc[ani,sess,ti,tt,uid,field_id][['start','end']]\n",
    "\n",
    "ph.ratemap_one_raw(rm,field_bound=(st,ed))\n"
   ]
  },
  {
   "cell_type": "code",
   "execution_count": 261,
   "id": "f794167a",
   "metadata": {},
   "outputs": [
    {
     "data": {
      "text/plain": [
       "(<Figure size 640x480 with 1 Axes>, <Axes: >)"
      ]
     },
     "execution_count": 261,
     "metadata": {},
     "output_type": "execute_result"
    },
    {
     "data": {
      "image/png": "[encoded data removed]",
      "text/plain": [
       "<Figure size 640x480 with 1 Axes>"
      ]
     },
     "metadata": {},
     "output_type": "display_data"
    }
   ],
   "source": [
    "ph.mean_error_plot(diff_abs_per_lag)"
   ]
  },
  {
   "cell_type": "code",
   "execution_count": null,
   "id": "be0cffba",
   "metadata": {
    "scrolled": false
   },
   "outputs": [],
   "source": [
    "row.plot()"
   ]
  },
  {
   "cell_type": "code",
   "execution_count": null,
   "id": "150a15bb",
   "metadata": {},
   "outputs": [],
   "source": []
  },
  {
   "cell_type": "markdown",
   "id": "ef3ff4ae",
   "metadata": {},
   "source": [
    "# does field within a neuron drift together [keep for sup]"
   ]
  },
  {
   "cell_type": "code",
   "execution_count": 107,
   "id": "bda883d2",
   "metadata": {},
   "outputs": [],
   "source": [
    "pf_params_all = prepped_data_agg['pf_params_all']"
   ]
  },
  {
   "cell_type": "code",
   "execution_count": 152,
   "id": "5f6edde9",
   "metadata": {},
   "outputs": [],
   "source": [
    "si_per_cell_ma = (per_field_metrics_all['si'] > 1).groupby(level=(0,1,2,4)).any()"
   ]
  },
  {
   "cell_type": "code",
   "execution_count": 163,
   "id": "b1bfed22",
   "metadata": {},
   "outputs": [],
   "source": [
    "key_corr_all = {}\n",
    "do_ma = False#True# # masking doesn't matter in the end use no mask\n",
    "si_per_cell_ma = (per_field_metrics_all['si'] > 1).groupby(level=(0,1,2,4)).any()\n",
    "for fr_loc_key in ['peak','fr_peak']:\n",
    "\n",
    "    loc_key = fr_loc_key#'peak'\n",
    "    # loc_all = pf_params_recombined_all.loc[(slice(None),slice(None),loc_key),:].droplevel(2)\n",
    "    loc_all = pf_params_all.loc[(slice(None),slice(None),slice(None),slice(None),loc_key),:].droplevel(4)\n",
    "    \n",
    "    if do_ma:\n",
    "        loc_all = loc_all.reset_index(level=(3,5)).loc[si_per_cell_ma].set_index(['level_3','level_5'],append=True).swaplevel(-2,-3)\n",
    "\n",
    "\n",
    "    gpb = loc_all.groupby(level=(0,1,2,3,4),sort=False)\n",
    "    loc_corr_all = {}\n",
    "    for k,val in gpb:\n",
    "        ani,sess,ti,tt,uid=k\n",
    "        if val.shape[0]>1:\n",
    "            corr_mat = val.T.corr()\n",
    "            avg = corr_mat.values[np.triu_indices_from(corr_mat,k=1)]\n",
    "            avg = np.mean(avg)\n",
    "            loc_corr_all[k] = avg\n",
    "    loc_corr_all = pd.Series(loc_corr_all)\n",
    "    key_corr_all[fr_loc_key] =loc_corr_all\n",
    "key_corr_all = pd.concat(key_corr_all,axis=1)"
   ]
  },
  {
   "cell_type": "code",
   "execution_count": 164,
   "id": "3073a575",
   "metadata": {
    "scrolled": true
   },
   "outputs": [
    {
     "data": {
      "image/png": "[encoded data removed]",
      "text/plain": [
       "<Figure size 216x216 with 2 Axes>"
      ]
     },
     "metadata": {
      "needs_background": "light"
     },
     "output_type": "display_data"
    }
   ],
   "source": [
    "fig,axs=plt.subplots(2,1,figsize=(3,3),sharex=True)\n",
    "for ii,key in enumerate(key_corr_all.columns):\n",
    "    ax=axs[ii]\n",
    "    ax.hist(key_corr_all[key])\n",
    "    ax.set_title(key)\n",
    "    sns.despine()\n",
    "fig.supylabel('N neurons')\n",
    "plt.tight_layout()\n",
    "ax.set_xlabel('Mean corr. btw pairs of fields\\nwithin a neuron')\n",
    "\n",
    "figfn = 'mean_corr_between_pairs_of_fields_within_a_neuron_all'\n",
    "ph.save_given_name(fig,figfn,suppfigdir)"
   ]
  },
  {
   "cell_type": "code",
   "execution_count": null,
   "id": "d4c2bde4",
   "metadata": {},
   "outputs": [],
   "source": []
  },
  {
   "cell_type": "code",
   "execution_count": null,
   "id": "f4205e57",
   "metadata": {},
   "outputs": [],
   "source": []
  },
  {
   "cell_type": "markdown",
   "id": "a699430a",
   "metadata": {},
   "source": [
    "# create fake data one"
   ]
  },
  {
   "cell_type": "code",
   "execution_count": 14,
   "id": "e2d54531",
   "metadata": {},
   "outputs": [],
   "source": [
    "sess='e15_13f1_220117'\n",
    "ani = 'e15_13f1'"
   ]
  },
  {
   "cell_type": "code",
   "execution_count": 17,
   "id": "bb8cc2d9",
   "metadata": {},
   "outputs": [],
   "source": [
    "gpb = fr_map_trial_df_all.groupby(level=(0,1,2,3,4),sort=False)\n",
    "for k,val in gpb:\n",
    "    ani,sess,ti,tt,uid = k"
   ]
  },
  {
   "cell_type": "code",
   "execution_count": 204,
   "id": "e2332e8d",
   "metadata": {},
   "outputs": [],
   "source": [
    "row=per_field_metrics_all.query('si>1').sample(1).iloc[0]\n",
    "ani,sess,ti,tt,uid,field_id = row.name"
   ]
  },
  {
   "cell_type": "code",
   "execution_count": 205,
   "id": "334b763e",
   "metadata": {},
   "outputs": [],
   "source": [
    "pf_params_one_cell=pf_params_all.loc[(ani,sess,ti,tt,slice(None),uid),:].droplevel((0,1,2,3,5)).dropna(axis=1,how='all')\n",
    "pf_params_one_field = pf_params_one_cell.loc[(slice(None),0),:].droplevel(1)\n"
   ]
  },
  {
   "cell_type": "code",
   "execution_count": 207,
   "id": "dcd8fd04",
   "metadata": {},
   "outputs": [
    {
     "name": "stderr",
     "output_type": "stream",
     "text": [
      "/tmp/ipykernel_702312/4275043696.py:1: PerformanceWarning: indexing past lexsort depth may impact performance.\n",
      "  rm = fr_map_trial_df_pyr_combined_all.loc[(ani,sess,ti,tt,uid),:].dropna(axis=1).T\n",
      "/mnt/home/szheng/projects/util_code/plot_helper.py:578: UserWarning: FixedFormatter should only be used together with FixedLocator\n",
      "  ax.set_xticklabels(x_tick_labels, rotation=0)\n"
     ]
    },
    {
     "data": {
      "text/plain": [
       "(<Figure size 216x144 with 2 Axes>, <Axes: xlabel='Position'>)"
      ]
     },
     "execution_count": 207,
     "metadata": {},
     "output_type": "execute_result"
    },
    {
     "data": {
      "image/png": "[encoded data removed]",
      "text/plain": [
       "<Figure size 216x144 with 2 Axes>"
      ]
     },
     "metadata": {
      "needs_background": "light"
     },
     "output_type": "display_data"
    }
   ],
   "source": [
    "rm = fr_map_trial_df_pyr_combined_all.loc[(ani,sess,ti,tt,uid),:].dropna(axis=1).T\n",
    "ph.ratemap_one_raw(rm)"
   ]
  },
  {
   "cell_type": "code",
   "execution_count": 206,
   "id": "65bf6191",
   "metadata": {
    "scrolled": true
   },
   "outputs": [
    {
     "data": {
      "text/plain": [
       "<matplotlib.collections.PathCollection at 0x1554e9e892e0>"
      ]
     },
     "execution_count": 206,
     "metadata": {},
     "output_type": "execute_result"
    },
    {
     "data": {
      "image/png": "[encoded data removed]",
      "text/plain": [
       "<Figure size 432x288 with 1 Axes>"
      ]
     },
     "metadata": {
      "needs_background": "light"
     },
     "output_type": "display_data"
    }
   ],
   "source": [
    "fig,ax=plt.subplots()\n",
    "ax.scatter(pf_params_one_field.loc['fr_peak'],pf_params_one_field.loc['peak'])"
   ]
  },
  {
   "cell_type": "code",
   "execution_count": null,
   "id": "ad3cf04e",
   "metadata": {},
   "outputs": [],
   "source": []
  },
  {
   "cell_type": "code",
   "execution_count": null,
   "id": "0a2aed9f",
   "metadata": {},
   "outputs": [],
   "source": []
  },
  {
   "cell_type": "code",
   "execution_count": null,
   "id": "8b03be95",
   "metadata": {},
   "outputs": [],
   "source": []
  },
  {
   "cell_type": "code",
   "execution_count": 75,
   "id": "52941493",
   "metadata": {},
   "outputs": [],
   "source": [
    "def gen_ratemap_one_field(fr_peak=None,peak=None,std=None,pos_l=None,**kwargs):\n",
    "    if pos_l is None:\n",
    "        pos_l = np.arange(99)\n",
    "    pdf = scipy.stats.norm(loc=peak,scale=std).pdf(pos_l)\n",
    "    rate_one = pdf * fr_peak / pdf.max()\n",
    "    return rate_one\n",
    "\n",
    "def gen_ratemap_one_neuron_all_trial(fr_peak_l, peak_l, std_l,pos_l=None,**kwargs):\n",
    "    \n",
    "    \n",
    "    "
   ]
  },
  {
   "cell_type": "code",
   "execution_count": null,
   "id": "253d5ae8",
   "metadata": {},
   "outputs": [],
   "source": [
    "scipy.stats.norm(loc=)"
   ]
  },
  {
   "cell_type": "code",
   "execution_count": 66,
   "id": "d6279f37",
   "metadata": {},
   "outputs": [],
   "source": [
    "fr_map_trial_df_pyr_combined_all=prepped_data_agg['fr_map_trial_df_pyr_combined_all']"
   ]
  },
  {
   "cell_type": "code",
   "execution_count": 69,
   "id": "26802aa6",
   "metadata": {},
   "outputs": [
    {
     "data": {
      "text/plain": [
       "com        82.601756\n",
       "fr_mean     0.352228\n",
       "fr_peak     1.471818\n",
       "peak       81.000000\n",
       "std         1.633189\n",
       "Name: 1, dtype: float64"
      ]
     },
     "execution_count": 69,
     "metadata": {},
     "output_type": "execute_result"
    }
   ],
   "source": [
    "info_trial"
   ]
  },
  {
   "cell_type": "code",
   "execution_count": 76,
   "id": "7ca632e3",
   "metadata": {},
   "outputs": [
    {
     "name": "stderr",
     "output_type": "stream",
     "text": [
      "/tmp/ipykernel_702312/1128643532.py:1: PerformanceWarning: indexing past lexsort depth may impact performance.\n",
      "  ph.heatmap(fr_map_trial_df_pyr_combined_all.loc[(ani,sess,ti,tt,uid),:].dropna(axis=1).T)\n",
      "/mnt/home/szheng/projects/util_code/plot_helper.py:578: UserWarning: FixedFormatter should only be used together with FixedLocator\n",
      "  ax.set_xticklabels(x_tick_labels, rotation=0)\n"
     ]
    },
    {
     "data": {
      "text/plain": [
       "(<Figure size 432x288 with 2 Axes>, <Axes: xlabel='Position'>)"
      ]
     },
     "execution_count": 76,
     "metadata": {},
     "output_type": "execute_result"
    },
    {
     "data": {
      "image/png": "[encoded data removed]",
      "text/plain": [
       "<Figure size 432x288 with 2 Axes>"
      ]
     },
     "metadata": {
      "needs_background": "light"
     },
     "output_type": "display_data"
    }
   ],
   "source": [
    "ph.heatmap(fr_map_trial_df_pyr_combined_all.loc[(ani,sess,ti,tt,uid),:].dropna(axis=1).T)"
   ]
  },
  {
   "cell_type": "code",
   "execution_count": null,
   "id": "af7bbe0a",
   "metadata": {},
   "outputs": [],
   "source": [
    "row=all_fields_recombined_all.loc[ani,sess].iloc[4]\n",
    "ti,tt,uid,field_id = row.name\n",
    "print(row)\n",
    "\n"
   ]
  },
  {
   "cell_type": "code",
   "execution_count": 172,
   "id": "206d865e",
   "metadata": {},
   "outputs": [
    {
     "data": {
      "text/html": [
       "<div>\n",
       "<style scoped>\n",
       "    .dataframe tbody tr th:only-of-type {\n",
       "        vertical-align: middle;\n",
       "    }\n",
       "\n",
       "    .dataframe tbody tr th {\n",
       "        vertical-align: top;\n",
       "    }\n",
       "\n",
       "    .dataframe thead th {\n",
       "        text-align: right;\n",
       "    }\n",
       "</style>\n",
       "<table border=\"1\" class=\"dataframe\">\n",
       "  <thead>\n",
       "    <tr style=\"text-align: right;\">\n",
       "      <th></th>\n",
       "      <th></th>\n",
       "      <th>0</th>\n",
       "      <th>1</th>\n",
       "      <th>2</th>\n",
       "      <th>3</th>\n",
       "      <th>4</th>\n",
       "      <th>5</th>\n",
       "      <th>6</th>\n",
       "      <th>7</th>\n",
       "      <th>8</th>\n",
       "      <th>9</th>\n",
       "      <th>...</th>\n",
       "      <th>27</th>\n",
       "      <th>28</th>\n",
       "      <th>29</th>\n",
       "      <th>30</th>\n",
       "      <th>31</th>\n",
       "      <th>32</th>\n",
       "      <th>33</th>\n",
       "      <th>34</th>\n",
       "      <th>35</th>\n",
       "      <th>36</th>\n",
       "    </tr>\n",
       "  </thead>\n",
       "  <tbody>\n",
       "    <tr>\n",
       "      <th>fr_mean</th>\n",
       "      <th>0</th>\n",
       "      <td>3.338543</td>\n",
       "      <td>0.011674</td>\n",
       "      <td>4.984835</td>\n",
       "      <td>0.0</td>\n",
       "      <td>1.765900</td>\n",
       "      <td>6.571861</td>\n",
       "      <td>1.684778</td>\n",
       "      <td>1.970583</td>\n",
       "      <td>2.983026</td>\n",
       "      <td>1.825949</td>\n",
       "      <td>...</td>\n",
       "      <td>NaN</td>\n",
       "      <td>NaN</td>\n",
       "      <td>NaN</td>\n",
       "      <td>NaN</td>\n",
       "      <td>NaN</td>\n",
       "      <td>NaN</td>\n",
       "      <td>NaN</td>\n",
       "      <td>NaN</td>\n",
       "      <td>NaN</td>\n",
       "      <td>NaN</td>\n",
       "    </tr>\n",
       "    <tr>\n",
       "      <th>fr_peak</th>\n",
       "      <th>0</th>\n",
       "      <td>3.758584</td>\n",
       "      <td>0.042268</td>\n",
       "      <td>5.453244</td>\n",
       "      <td>0.0</td>\n",
       "      <td>2.114562</td>\n",
       "      <td>7.897043</td>\n",
       "      <td>2.288013</td>\n",
       "      <td>2.200551</td>\n",
       "      <td>3.900701</td>\n",
       "      <td>2.121031</td>\n",
       "      <td>...</td>\n",
       "      <td>NaN</td>\n",
       "      <td>NaN</td>\n",
       "      <td>NaN</td>\n",
       "      <td>NaN</td>\n",
       "      <td>NaN</td>\n",
       "      <td>NaN</td>\n",
       "      <td>NaN</td>\n",
       "      <td>NaN</td>\n",
       "      <td>NaN</td>\n",
       "      <td>NaN</td>\n",
       "    </tr>\n",
       "    <tr>\n",
       "      <th>peak</th>\n",
       "      <th>0</th>\n",
       "      <td>4.000000</td>\n",
       "      <td>4.000000</td>\n",
       "      <td>1.000000</td>\n",
       "      <td>0.0</td>\n",
       "      <td>4.000000</td>\n",
       "      <td>0.000000</td>\n",
       "      <td>4.000000</td>\n",
       "      <td>0.000000</td>\n",
       "      <td>4.000000</td>\n",
       "      <td>0.000000</td>\n",
       "      <td>...</td>\n",
       "      <td>NaN</td>\n",
       "      <td>NaN</td>\n",
       "      <td>NaN</td>\n",
       "      <td>NaN</td>\n",
       "      <td>NaN</td>\n",
       "      <td>NaN</td>\n",
       "      <td>NaN</td>\n",
       "      <td>NaN</td>\n",
       "      <td>NaN</td>\n",
       "      <td>NaN</td>\n",
       "    </tr>\n",
       "    <tr>\n",
       "      <th>com</th>\n",
       "      <th>0</th>\n",
       "      <td>2.096467</td>\n",
       "      <td>3.647449</td>\n",
       "      <td>1.855185</td>\n",
       "      <td>NaN</td>\n",
       "      <td>2.198308</td>\n",
       "      <td>1.758925</td>\n",
       "      <td>2.311005</td>\n",
       "      <td>1.840084</td>\n",
       "      <td>2.245855</td>\n",
       "      <td>1.776647</td>\n",
       "      <td>...</td>\n",
       "      <td>NaN</td>\n",
       "      <td>NaN</td>\n",
       "      <td>NaN</td>\n",
       "      <td>NaN</td>\n",
       "      <td>NaN</td>\n",
       "      <td>NaN</td>\n",
       "      <td>NaN</td>\n",
       "      <td>NaN</td>\n",
       "      <td>NaN</td>\n",
       "      <td>NaN</td>\n",
       "    </tr>\n",
       "    <tr>\n",
       "      <th>std</th>\n",
       "      <th>0</th>\n",
       "      <td>1.424163</td>\n",
       "      <td>0.636342</td>\n",
       "      <td>1.366395</td>\n",
       "      <td>NaN</td>\n",
       "      <td>1.401739</td>\n",
       "      <td>1.375531</td>\n",
       "      <td>1.404823</td>\n",
       "      <td>1.382061</td>\n",
       "      <td>1.422640</td>\n",
       "      <td>1.364198</td>\n",
       "      <td>...</td>\n",
       "      <td>NaN</td>\n",
       "      <td>NaN</td>\n",
       "      <td>NaN</td>\n",
       "      <td>NaN</td>\n",
       "      <td>NaN</td>\n",
       "      <td>NaN</td>\n",
       "      <td>NaN</td>\n",
       "      <td>NaN</td>\n",
       "      <td>NaN</td>\n",
       "      <td>NaN</td>\n",
       "    </tr>\n",
       "  </tbody>\n",
       "</table>\n",
       "<p>5 rows × 37 columns</p>\n",
       "</div>"
      ],
      "text/plain": [
       "                 0         1         2    3         4         5         6   \\\n",
       "fr_mean 0  3.338543  0.011674  4.984835  0.0  1.765900  6.571861  1.684778   \n",
       "fr_peak 0  3.758584  0.042268  5.453244  0.0  2.114562  7.897043  2.288013   \n",
       "peak    0  4.000000  4.000000  1.000000  0.0  4.000000  0.000000  4.000000   \n",
       "com     0  2.096467  3.647449  1.855185  NaN  2.198308  1.758925  2.311005   \n",
       "std     0  1.424163  0.636342  1.366395  NaN  1.401739  1.375531  1.404823   \n",
       "\n",
       "                 7         8         9   ...  27  28  29  30  31  32  33  34  \\\n",
       "fr_mean 0  1.970583  2.983026  1.825949  ... NaN NaN NaN NaN NaN NaN NaN NaN   \n",
       "fr_peak 0  2.200551  3.900701  2.121031  ... NaN NaN NaN NaN NaN NaN NaN NaN   \n",
       "peak    0  0.000000  4.000000  0.000000  ... NaN NaN NaN NaN NaN NaN NaN NaN   \n",
       "com     0  1.840084  2.245855  1.776647  ... NaN NaN NaN NaN NaN NaN NaN NaN   \n",
       "std     0  1.382061  1.422640  1.364198  ... NaN NaN NaN NaN NaN NaN NaN NaN   \n",
       "\n",
       "           35  36  \n",
       "fr_mean 0 NaN NaN  \n",
       "fr_peak 0 NaN NaN  \n",
       "peak    0 NaN NaN  \n",
       "com     0 NaN NaN  \n",
       "std     0 NaN NaN  \n",
       "\n",
       "[5 rows x 37 columns]"
      ]
     },
     "execution_count": 172,
     "metadata": {},
     "output_type": "execute_result"
    }
   ],
   "source": []
  },
  {
   "cell_type": "code",
   "execution_count": 90,
   "id": "5aa7028c",
   "metadata": {
    "scrolled": true
   },
   "outputs": [
    {
     "name": "stdout",
     "output_type": "stream",
     "text": [
      "start                      81\n",
      "end                        93\n",
      "com                        86\n",
      "peak                       86\n",
      "fr_peak              3.306318\n",
      "fr_mean              2.447959\n",
      "other_field_index         NaN\n",
      "Name: (0, 0.0, 4, 0), dtype: object\n"
     ]
    },
    {
     "name": "stderr",
     "output_type": "stream",
     "text": [
      "/tmp/ipykernel_702312/2621759181.py:3: PerformanceWarning: indexing past lexsort depth may impact performance.\n",
      "  row=all_fields_recombined_all.loc[ani,sess].iloc[4]\n",
      "/tmp/ipykernel_702312/2621759181.py:16: PerformanceWarning: indexing past lexsort depth may impact performance.\n",
      "  rm_one = fr_map_trial_df_pyr_combined_all.loc[(ani,sess,ti,tt,uid),trial_index].dropna()\n"
     ]
    },
    {
     "data": {
      "text/plain": [
       "<Axes: >"
      ]
     },
     "execution_count": 90,
     "metadata": {},
     "output_type": "execute_result"
    },
    {
     "data": {
      "image/png": "[encoded data removed]",
      "text/plain": [
       "<Figure size 432x288 with 1 Axes>"
      ]
     },
     "metadata": {
      "needs_background": "light"
     },
     "output_type": "display_data"
    }
   ],
   "source": [
    "# information, at a trial\n",
    "\n",
    "row=all_fields_recombined_all.loc[ani,sess].iloc[4]\n",
    "ti,tt,uid,field_id = row.name\n",
    "print(row)\n",
    "\n",
    "\n",
    "trial_index = 15\n",
    "\n",
    "info_trial = pf_params_recombined_all.loc[(ani,sess,slice(None),ti,tt,uid,field_id),trial_index].droplevel((0,1,3,4,5,6))\n",
    "\n",
    "info_trial\n",
    "plt.plot(gen_ratemap_one_field(**info_trial))\n",
    "\n",
    "\n",
    "rm_one = fr_map_trial_df_pyr_combined_all.loc[(ani,sess,ti,tt,uid),trial_index].dropna()\n",
    "rm_one.plot()\n"
   ]
  },
  {
   "cell_type": "code",
   "execution_count": 52,
   "id": "05b4540a",
   "metadata": {
    "scrolled": true
   },
   "outputs": [
    {
     "name": "stdout",
     "output_type": "stream",
     "text": [
      "start                      81\n",
      "end                        93\n",
      "com                        86\n",
      "peak                       86\n",
      "fr_peak              3.306318\n",
      "fr_mean              2.447959\n",
      "other_field_index         NaN\n",
      "Name: (0, 0.0, 4, 0), dtype: object\n"
     ]
    },
    {
     "name": "stderr",
     "output_type": "stream",
     "text": [
      "/tmp/ipykernel_702312/2591051452.py:1: PerformanceWarning: indexing past lexsort depth may impact performance.\n",
      "  row=all_fields_recombined_all.loc[ani,sess].iloc[4]\n",
      "/tmp/ipykernel_702312/2591051452.py:6: PerformanceWarning: indexing past lexsort depth may impact performance.\n",
      "  rm_one = fr_map_trial_df_all.loc[(ani,sess,ti,tt,uid),tr].dropna()\n"
     ]
    },
    {
     "data": {
      "text/plain": [
       "<Axes: >"
      ]
     },
     "execution_count": 52,
     "metadata": {},
     "output_type": "execute_result"
    },
    {
     "data": {
      "image/png": "[encoded data removed]",
      "text/plain": [
       "<Figure size 432x288 with 1 Axes>"
      ]
     },
     "metadata": {
      "needs_background": "light"
     },
     "output_type": "display_data"
    }
   ],
   "source": [
    "row=all_fields_recombined_all.loc[ani,sess].iloc[4]\n",
    "ti,tt,uid,field_id = row.name\n",
    "print(row)\n",
    "# rm_one = fr_map_all.loc[(ani,sess,ti,tt,uid),:].dropna().T\n",
    "tr = 0\n",
    "rm_one = fr_map_trial_df_all.loc[(ani,sess,ti,tt,uid),tr].dropna()\n",
    "rm_one.plot()\n"
   ]
  },
  {
   "cell_type": "code",
   "execution_count": null,
   "id": "f9e6cf6a",
   "metadata": {},
   "outputs": [],
   "source": []
  },
  {
   "cell_type": "code",
   "execution_count": null,
   "id": "d5bdcc5c",
   "metadata": {},
   "outputs": [],
   "source": []
  },
  {
   "cell_type": "code",
   "execution_count": null,
   "id": "e7785c25",
   "metadata": {},
   "outputs": [],
   "source": []
  },
  {
   "cell_type": "code",
   "execution_count": 38,
   "id": "ce3eb465",
   "metadata": {
    "scrolled": true
   },
   "outputs": [
    {
     "data": {
      "text/plain": [
       "lin_binned\n",
       "0     6.322970\n",
       "1     5.910555\n",
       "2     5.214528\n",
       "3     4.414810\n",
       "4     3.660294\n",
       "        ...   \n",
       "94    7.104816\n",
       "95    7.049343\n",
       "96    7.273427\n",
       "97    7.583415\n",
       "98    7.783169\n",
       "Name: (e14_2m3, e14_2m3_201118, 0, 0.0, 2.0), Length: 99, dtype: float64"
      ]
     },
     "execution_count": 38,
     "metadata": {},
     "output_type": "execute_result"
    }
   ],
   "source": [
    "rm_one"
   ]
  },
  {
   "cell_type": "code",
   "execution_count": 24,
   "id": "669424d9",
   "metadata": {},
   "outputs": [
    {
     "data": {
      "text/plain": [
       "[<matplotlib.lines.Line2D at 0x1554ef858dc0>]"
      ]
     },
     "execution_count": 24,
     "metadata": {},
     "output_type": "execute_result"
    },
    {
     "data": {
      "image/png": "[encoded data removed]",
      "text/plain": [
       "<Figure size 432x288 with 1 Axes>"
      ]
     },
     "metadata": {
      "needs_background": "light"
     },
     "output_type": "display_data"
    }
   ],
   "source": [
    "plt.plot(gen_ratemap_one_field(a,5,2))"
   ]
  },
  {
   "cell_type": "code",
   "execution_count": 46,
   "id": "04a2fde1",
   "metadata": {
    "scrolled": false
   },
   "outputs": [
    {
     "data": {
      "text/plain": [
       "0     1.967735\n",
       "1     1.633189\n",
       "2     1.188385\n",
       "3          NaN\n",
       "4     2.875572\n",
       "        ...   \n",
       "65         NaN\n",
       "66         NaN\n",
       "67         NaN\n",
       "68         NaN\n",
       "69         NaN\n",
       "Name: (e14_2m3, e14_2m3_201118, std, 0, 0.0, 4, 0), Length: 70, dtype: float64"
      ]
     },
     "execution_count": 46,
     "metadata": {},
     "output_type": "execute_result"
    }
   ],
   "source": [
    "pf_params_recombined_all.loc[(ani,sess,'std',ti,tt,uid,field_id),:]"
   ]
  },
  {
   "cell_type": "code",
   "execution_count": null,
   "id": "6da77ac4",
   "metadata": {},
   "outputs": [],
   "source": []
  }
 ],
 "metadata": {
  "kernelspec": {
   "display_name": "jax",
   "language": "python",
   "name": "jax"
  },
  "language_info": {
   "codemirror_mode": {
    "name": "ipython",
    "version": 3
   },
   "file_extension": ".py",
   "mimetype": "text/x-python",
   "name": "python",
   "nbconvert_exporter": "python",
   "pygments_lexer": "ipython3",
   "version": "3.9.16"
  }
 },
 "nbformat": 4,
 "nbformat_minor": 5
}
