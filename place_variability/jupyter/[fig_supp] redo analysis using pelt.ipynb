{
 "cells": [
  {
   "cell_type": "code",
   "execution_count": 1,
   "id": "0a0a0f92",
   "metadata": {},
   "outputs": [
    {
     "name": "stdout",
     "output_type": "stream",
     "text": [
      "67 sessions!\n",
      "67 sessions!\n"
     ]
    },
    {
     "name": "stderr",
     "output_type": "stream",
     "text": [
      "/mnt/home/szheng/ceph/envs/jax/lib/python3.9/site-packages/outdated/utils.py:14: OutdatedPackageWarning: The package pingouin is out of date. Your version is 0.5.2, the latest is 0.5.3.\n",
      "Set the environment variable OUTDATED_IGNORE=1 to disable these warnings.\n",
      "  return warn(\n"
     ]
    }
   ],
   "source": [
    "import numpy as np\n",
    "import scipy\n",
    "import sklearn\n",
    "from sklearn.decomposition import NMF\n",
    "from sklearn.cluster import KMeans\n",
    "from sklearn.mixture import GaussianMixture,BayesianGaussianMixture\n",
    "\n",
    "import pandas as pd\n",
    "\n",
    "import matplotlib.pyplot as plt\n",
    "import seaborn as sns\n",
    "import matplotlib as mpl\n",
    "mpl.rcParams['image.cmap'] = 'Greys'\n",
    "mpl.rcParams['axes.spines.right'] = False\n",
    "mpl.rcParams['axes.spines.top'] = False\n",
    "\n",
    "\n",
    "\n",
    "import sys,os,pdb,copy,pickle\n",
    "from importlib import reload\n",
    "# import pynapple as nap\n",
    "\n",
    "sys.path.append('/mnt/home/szheng/projects/seq_detection2/code')\n",
    "sys.path.append('/mnt/home/szheng/projects/util_code')\n",
    "sys.path.append('/mnt/home/szheng/projects/nmf_analysis')\n",
    "sys.path.append('/mnt/home/szheng/projects/nmf_analysis/scripts')\n",
    "sys.path.append('/mnt/home/szheng/projects/cluster_spikes')\n",
    "sys.path.append('/mnt/home/szheng/projects/place_variability/code')\n",
    "import data_prep_new as dpn\n",
    "import place_cell_analysis as pa\n",
    "import plot_helper as ph\n",
    "import preprocess as prep\n",
    "import nmf_analysis as na\n",
    "import nmf_plot as nmfp\n",
    "reload(na)\n",
    "\n",
    "import raster_new as rn\n",
    "import data_prep_pyn as dpp\n",
    "\n",
    "\n",
    "import change_point_analysis as cpa\n",
    "import change_point_plot as cpp\n",
    "\n",
    "import place_field_analysis as pf\n",
    "\n",
    "import switch_analysis_one_session as saos\n",
    "reload(saos)\n",
    "\n",
    "import process_central_arm as pca \n",
    "import change_point_analysis_central_arm_seperate as cpacas\n",
    "\n",
    "import misc\n",
    "reload(misc)\n",
    "from misc import get_nth_key, get_nth_val"
   ]
  },
  {
   "cell_type": "markdown",
   "id": "b3c7b155",
   "metadata": {},
   "source": [
    "# does pop up in familiar also novel"
   ]
  },
  {
   "cell_type": "code",
   "execution_count": 2,
   "id": "71f454a8",
   "metadata": {},
   "outputs": [
    {
     "data": {
      "text/plain": [
       "'/mnt/home/szheng/ceph/place_variability/data/paper'"
      ]
     },
     "execution_count": 2,
     "metadata": {},
     "output_type": "execute_result"
    }
   ],
   "source": [
    "figdir = '/mnt/home/szheng/ceph/place_variability/fig/paper/figure_fam_also_nov_pelt'\n",
    "misc.get_or_create_subdir(figdir)\n",
    "data_dir = '/mnt/home/szheng/ceph/place_variability/data/paper'\n",
    "misc.get_or_create_subdir(data_dir)"
   ]
  },
  {
   "cell_type": "code",
   "execution_count": 3,
   "id": "bc8b8420",
   "metadata": {},
   "outputs": [],
   "source": [
    "import database\n",
    "db = database.db\n",
    "\n",
    "subdb = db.query('owner==\"roman\"').sort_values('n_pyr_putative',ascending=False)\n",
    "subdb = subdb.query('ntrials>=20&n_neurons>=50')\n",
    "to_exclude_sess = ['e16_3m2_211211']\n",
    "subdb=subdb.loc[~subdb['sess_name'].isin(to_exclude_sess)]\n",
    "\n",
    "\n",
    "import pf_recombine_central as pfrc\n",
    "import fr_map_one_session as fmos\n",
    "import switch_detection_one_session as sdos\n",
    "import get_all_switch_add_metrics as gasam\n",
    "\n",
    "import preprocess_one_session as prepos"
   ]
  },
  {
   "cell_type": "code",
   "execution_count": 6,
   "id": "99894b5a",
   "metadata": {},
   "outputs": [
    {
     "ename": "NameError",
     "evalue": "name 'fr_map_trial_df_all' is not defined",
     "output_type": "error",
     "traceback": [
      "\u001b[0;31m---------------------------------------------------------------------------\u001b[0m",
      "\u001b[0;31mNameError\u001b[0m                                 Traceback (most recent call last)",
      "Input \u001b[0;32mIn [6]\u001b[0m, in \u001b[0;36m<cell line: 19>\u001b[0;34m()\u001b[0m\n\u001b[1;32m      5\u001b[0m all_fields_recombined_all \u001b[38;5;241m=\u001b[39m prepped_data_agg[\u001b[38;5;124m'\u001b[39m\u001b[38;5;124mall_fields_recombined_all\u001b[39m\u001b[38;5;124m'\u001b[39m]\n\u001b[1;32m      6\u001b[0m \u001b[38;5;66;03m# pf_params_recombined_all=  prepped_data_agg['pf_params_recombined_all']\u001b[39;00m\n\u001b[1;32m      7\u001b[0m \u001b[38;5;66;03m# fr_map_trial_df_all= prepped_data_agg['fr_map_trial_df_all']\u001b[39;00m\n\u001b[1;32m      8\u001b[0m \u001b[38;5;66;03m# pval_all = prepped_data_agg['pval_all']\u001b[39;00m\n\u001b[0;32m   (...)\u001b[0m\n\u001b[1;32m     16\u001b[0m \u001b[38;5;66;03m# best_n_all = prepped_data_agg['best_n_all']\u001b[39;00m\n\u001b[1;32m     17\u001b[0m \u001b[38;5;66;03m# spk_beh_df_all = prepped_data_agg['spk_beh_df_all']\u001b[39;00m\n\u001b[0;32m---> 19\u001b[0m ntrials_per_tt\u001b[38;5;241m=\u001b[39m\u001b[43mfr_map_trial_df_all\u001b[49m\u001b[38;5;241m.\u001b[39mgroupby(level\u001b[38;5;241m=\u001b[39m(\u001b[38;5;241m0\u001b[39m,\u001b[38;5;241m1\u001b[39m,\u001b[38;5;241m2\u001b[39m,\u001b[38;5;241m3\u001b[39m))\u001b[38;5;241m.\u001b[39mapply(\u001b[38;5;28;01mlambda\u001b[39;00m x:x\u001b[38;5;241m.\u001b[39mdropna(axis\u001b[38;5;241m=\u001b[39m\u001b[38;5;241m1\u001b[39m,how\u001b[38;5;241m=\u001b[39m\u001b[38;5;124m'\u001b[39m\u001b[38;5;124mall\u001b[39m\u001b[38;5;124m'\u001b[39m)\u001b[38;5;241m.\u001b[39mshape[\u001b[38;5;241m1\u001b[39m])\n\u001b[1;32m     20\u001b[0m ntrials_mask \u001b[38;5;241m=\u001b[39m ntrials_per_tt\u001b[38;5;241m.\u001b[39mgroupby(level\u001b[38;5;241m=\u001b[39m(\u001b[38;5;241m0\u001b[39m,\u001b[38;5;241m1\u001b[39m,\u001b[38;5;241m2\u001b[39m))\u001b[38;5;241m.\u001b[39mapply(\u001b[38;5;28;01mlambda\u001b[39;00m x:(x\u001b[38;5;241m>\u001b[39m\u001b[38;5;241m=\u001b[39m\u001b[38;5;241m7\u001b[39m)\u001b[38;5;241m.\u001b[39mall())\n",
      "\u001b[0;31mNameError\u001b[0m: name 'fr_map_trial_df_all' is not defined"
     ]
    }
   ],
   "source": [
    "fn = 'prepped_data_agg.p'\n",
    "fn_full = os.path.join(data_dir,fn)\n",
    "prepped_data_agg = pickle.load(open(fn_full,'rb'))\n",
    "\n",
    "all_fields_recombined_all = prepped_data_agg['all_fields_recombined_all']\n",
    "# pf_params_recombined_all=  prepped_data_agg['pf_params_recombined_all']\n",
    "# fr_map_trial_df_all= prepped_data_agg['fr_map_trial_df_all']\n",
    "# pval_all = prepped_data_agg['pval_all']\n",
    "# X_pwc_all = prepped_data_agg['X_pwc_all']\n",
    "# X_raw_all = prepped_data_agg['X_raw_all']\n",
    "# changes_df_all = prepped_data_agg['changes_df_all']\n",
    "# var_res_all = prepped_data_agg['var_res_all']\n",
    "# corr_all = prepped_data_agg['corr_all']\n",
    "# all_sw_d_all = prepped_data_agg['all_sw_d_all']\n",
    "# all_sw_with_metrics_d_all = prepped_data_agg['all_sw_with_metrics_d_all']\n",
    "# best_n_all = prepped_data_agg['best_n_all']\n",
    "# spk_beh_df_all = prepped_data_agg['spk_beh_df_all']\n",
    "\n",
    "# ntrials_per_tt=fr_map_trial_df_all.groupby(level=(0,1,2,3)).apply(lambda x:x.dropna(axis=1,how='all').shape[1])\n",
    "# ntrials_mask = ntrials_per_tt.groupby(level=(0,1,2)).apply(lambda x:(x>=7).all()) \n"
   ]
  },
  {
   "cell_type": "code",
   "execution_count": 4,
   "id": "e8f10906",
   "metadata": {
    "scrolled": true
   },
   "outputs": [
    {
     "name": "stdout",
     "output_type": "stream",
     "text": [
      "/mnt/home/szheng/ceph/ad/roman_data/e13/e13_26m1/e13_26m1_210913/py_data/penalty_sw_res_afterheadscan_fr_peak.p exists; loading---\n",
      "/mnt/home/szheng/ceph/ad/roman_data/e15/e15_13f1/e15_13f1_220117/py_data/penalty_sw_res_afterheadscan_fr_peak.p exists; loading---\n",
      "/mnt/home/szheng/ceph/ad/roman_data/e15/e15_13f1/e15_13f1_220118/py_data/penalty_sw_res_afterheadscan_fr_peak.p exists; loading---\n",
      "/mnt/home/szheng/ceph/ad/roman_data/e15/e15_13f1/e15_13f1_220119/py_data/penalty_sw_res_afterheadscan_fr_peak.p exists; loading---\n",
      "/mnt/home/szheng/ceph/ad/roman_data/e15/e15_13f1/e15_13f1_220120/py_data/penalty_sw_res_afterheadscan_fr_peak.p exists; loading---\n",
      "/mnt/home/szheng/ceph/ad/roman_data/e13/e13_26m1/e13_26m1_211019/py_data/penalty_sw_res_afterheadscan_fr_peak.p exists; loading---\n",
      "/mnt/home/szheng/ceph/ad/roman_data/e13/e13_16f1/e13_16f1_210328/py_data/penalty_sw_res_afterheadscan_fr_peak.p exists; loading---\n",
      "/mnt/home/szheng/ceph/ad/roman_data/e13/e13_26m1/e13_26m1_211116/py_data/penalty_sw_res_afterheadscan_fr_peak.p exists; loading---\n",
      "/mnt/home/szheng/ceph/ad/roman_data/e16/e16_3m2/e16_3m2_211213/py_data/penalty_sw_res_afterheadscan_fr_peak.p exists; loading---\n",
      "/mnt/home/szheng/ceph/ad/roman_data/e16/e16_3m2/e16_3m2_211212/py_data/penalty_sw_res_afterheadscan_fr_peak.p exists; loading---\n",
      "/mnt/home/szheng/ceph/ad/roman_data/e16/e16_3m1/e16_3m1_210203/py_data/penalty_sw_res_afterheadscan_fr_peak.p exists; loading---\n",
      "/mnt/home/szheng/ceph/ad/roman_data/e16/e16_3m2/e16_3m2_211210/py_data/penalty_sw_res_afterheadscan_fr_peak.p exists; loading---\n",
      "/mnt/home/szheng/ceph/ad/roman_data/e13/e13_26m1/e13_26m1_211119/py_data/penalty_sw_res_afterheadscan_fr_peak.p exists; loading---\n",
      "/mnt/home/szheng/ceph/ad/roman_data/e13/e13_26m1/e13_26m1_211124/py_data/penalty_sw_res_afterheadscan_fr_peak.p exists; loading---\n",
      "/mnt/home/szheng/ceph/ad/roman_data/e16/e16_3m1/e16_3m1_210201/py_data/penalty_sw_res_afterheadscan_fr_peak.p exists; loading---\n",
      "/mnt/home/szheng/ceph/ad/roman_data/e13/e13_16f1/e13_16f1_210331/py_data/penalty_sw_res_afterheadscan_fr_peak.p exists; loading---\n",
      "/mnt/home/szheng/ceph/ad/roman_data/e16/e16_3m1/e16_3m1_210119/py_data/penalty_sw_res_afterheadscan_fr_peak.p exists; loading---\n",
      "/mnt/home/szheng/ceph/ad/roman_data/e13/e13_16f1/e13_16f1_210302/py_data/penalty_sw_res_afterheadscan_fr_peak.p exists; loading---\n",
      "/mnt/home/szheng/ceph/ad/roman_data/e13/e13_16f1/e13_16f1_210317/py_data/penalty_sw_res_afterheadscan_fr_peak.p exists; loading---\n",
      "/mnt/home/szheng/ceph/ad/roman_data/e13/e13_16f1/e13_16f1_210312/py_data/penalty_sw_res_afterheadscan_fr_peak.p exists; loading---\n",
      "/mnt/home/szheng/ceph/ad/roman_data/e15/e15_10m1/e15_10m1_200809/py_data/penalty_sw_res_afterheadscan_fr_peak.p exists; loading---\n",
      "/mnt/home/szheng/ceph/ad/roman_data/e15/e15_10m1/e15_10m1_200812/py_data/penalty_sw_res_afterheadscan_fr_peak.p exists; loading---\n",
      "/mnt/home/szheng/ceph/ad/roman_data/e13/e13_16f1/e13_16f1_210314/py_data/penalty_sw_res_afterheadscan_fr_peak.p exists; loading---\n",
      "/mnt/home/szheng/ceph/ad/roman_data/e15/e15_9f1/e15_9f1_200729/py_data/penalty_sw_res_afterheadscan_fr_peak.p exists; loading---\n",
      "/mnt/home/szheng/ceph/ad/roman_data/e14/e14_2m2/e14_2m2_201019/py_data/penalty_sw_res_afterheadscan_fr_peak.p exists; loading---\n",
      "/mnt/home/szheng/ceph/ad/roman_data/e13/e13_16f1/e13_16f1_210319/py_data/penalty_sw_res_afterheadscan_fr_peak.p exists; loading---\n",
      "/mnt/home/szheng/ceph/ad/roman_data/e13/e13_16f1/e13_16f1_210322/py_data/penalty_sw_res_afterheadscan_fr_peak.p exists; loading---\n",
      "/mnt/home/szheng/ceph/ad/roman_data/e15/e15_10m1/e15_10m1_200727/py_data/penalty_sw_res_afterheadscan_fr_peak.p exists; loading---\n",
      "/mnt/home/szheng/ceph/ad/roman_data/e14/e14_2m2/e14_2m2_201017/py_data/penalty_sw_res_afterheadscan_fr_peak.p exists; loading---\n",
      "/mnt/home/szheng/ceph/ad/roman_data/e16/e16_1f1/e16_1f1_201004/py_data/penalty_sw_res_afterheadscan_fr_peak.p exists; loading---\n",
      "/mnt/home/szheng/ceph/ad/roman_data/e16/e16_1f1/e16_1f1_200920/py_data/penalty_sw_res_afterheadscan_fr_peak.p exists; loading---\n",
      "/mnt/home/szheng/ceph/ad/roman_data/e15/e15_9f1/e15_9f1_200723/py_data/penalty_sw_res_afterheadscan_fr_peak.p exists; loading---\n",
      "/mnt/home/szheng/ceph/ad/roman_data/e14/e14_2m3/e14_2m3_201129/py_data/penalty_sw_res_afterheadscan_fr_peak.p exists; loading---\n",
      "/mnt/home/szheng/ceph/ad/roman_data/e14/e14_2m3/e14_2m3_201125/py_data/penalty_sw_res_afterheadscan_fr_peak.p exists; loading---\n",
      "/mnt/home/szheng/ceph/ad/roman_data/e16/e16_1f1/e16_1f1_200918/py_data/penalty_sw_res_afterheadscan_fr_peak.p exists; loading---\n",
      "/mnt/home/szheng/ceph/ad/roman_data/e16/e16_1f1/e16_1f1_200919/py_data/penalty_sw_res_afterheadscan_fr_peak.p exists; loading---\n",
      "/mnt/home/szheng/ceph/ad/roman_data/e14/e14_2m3/e14_2m3_201208/py_data/penalty_sw_res_afterheadscan_fr_peak.p exists; loading---\n",
      "/mnt/home/szheng/ceph/ad/roman_data/e14/e14_2m3/e14_2m3_201206/py_data/penalty_sw_res_afterheadscan_fr_peak.p exists; loading---\n",
      "/mnt/home/szheng/ceph/ad/roman_data/e15/e15_9f1/e15_9f1_200802/py_data/penalty_sw_res_afterheadscan_fr_peak.p exists; loading---\n",
      "/mnt/home/szheng/ceph/ad/roman_data/e16/e16_1f1/e16_1f1_200923/py_data/penalty_sw_res_afterheadscan_fr_peak.p exists; loading---\n",
      "/mnt/home/szheng/ceph/ad/roman_data/e15/e15_9f1/e15_9f1_200720/py_data/penalty_sw_res_afterheadscan_fr_peak.p exists; loading---\n",
      "/mnt/home/szheng/ceph/ad/roman_data/e16/e16_2m1/e16_2m1_201121/py_data/penalty_sw_res_afterheadscan_fr_peak.p exists; loading---\n",
      "/mnt/home/szheng/ceph/ad/roman_data/e15/e15_10m1/e15_10m1_200803/py_data/penalty_sw_res_afterheadscan_fr_peak.p exists; loading---\n",
      "/mnt/home/szheng/ceph/ad/roman_data/e15/e15_9f1/e15_9f1_200715/py_data/penalty_sw_res_afterheadscan_fr_peak.p exists; loading---\n",
      "/mnt/home/szheng/ceph/ad/roman_data/e14/e14_2m3/e14_2m3_201121/py_data/penalty_sw_res_afterheadscan_fr_peak.p exists; loading---\n",
      "/mnt/home/szheng/ceph/ad/roman_data/e14/e14_2m3/e14_2m3_201118/py_data/penalty_sw_res_afterheadscan_fr_peak.p exists; loading---\n"
     ]
    }
   ],
   "source": [
    "import switch_detection_sweep_penalty_one_session as sdspos\n",
    "pen=0.4#0.5\n",
    "\n",
    "best_n_all = {}\n",
    "X_pwc_all={}\n",
    "changes_df_all={}\n",
    "var_res_all={}\n",
    "corr_all = {}\n",
    "p_corr_all = {}\n",
    "\n",
    "for ind,row in subdb.iterrows():\n",
    "    data_dir_full = row['data_dir_full']\n",
    "    ani = ind[0]\n",
    "    sess = row['sess_name']\n",
    "    sw_res_pelt = sdspos.main(data_dir_full,force_reload=False,dosave=False,load_only=True)\n",
    "    sw_res_pelt = sw_res_pelt[pen]\n",
    "    \n",
    "    best_n_all[ani,sess]=sw_res_pelt['best_n']\n",
    "    X_pwc_all[ani,sess]=sw_res_pelt['X_pwc']\n",
    "    changes_df_all[ani,sess]=sw_res_pelt['changes_df']\n",
    "    var_res_all[ani,sess]=sw_res_pelt['var_res']\n",
    "    corr_all[ani,sess]=sw_res_pelt['corr']\n",
    "    p_corr_all[ani,sess]=sw_res_pelt['p_corr']\n",
    "    \n",
    "best_n_all = pd.concat(best_n_all,axis=0)\n",
    "X_pwc_all = pd.concat(X_pwc_all,axis=0)\n",
    "changes_df_all = pd.concat(changes_df_all,axis=0)\n",
    "var_res_all = pd.concat(var_res_all,axis=0)\n",
    "corr_all = pd.concat(corr_all,axis=0)\n",
    "p_corr_all = pd.concat(p_corr_all,axis=0)"
   ]
  },
  {
   "cell_type": "markdown",
   "id": "906dc2a8",
   "metadata": {},
   "source": [
    "# pop up in fam also novel?"
   ]
  },
  {
   "cell_type": "code",
   "execution_count": 161,
   "id": "7717c3c4",
   "metadata": {},
   "outputs": [],
   "source": [
    "subdb_two_tasks = subdb.loc[[x.startswith('[') for x in subdb['behavior']]]\n",
    "sess_two_tasks = subdb_two_tasks['sess_name']\n",
    "best_n_all_sess_two_tasks = best_n_all.loc[(slice(None),sess_two_tasks)]\n",
    "\n",
    "ntrial_to_include_sess=ntrials_mask.loc[ntrials_mask].index.get_level_values(1)\n",
    "ma=best_n_all_sess_two_tasks.index.get_level_values(1).isin(ntrial_to_include_sess)\n",
    "best_n_all_sess_two_tasks=best_n_all_sess_two_tasks.loc[ma]\n",
    "\n",
    "best_n_per_uid_vs_novel_all = best_n_all_sess_two_tasks.groupby(level=(0,1,2,4)).max().unstack(level=2)\n",
    "best_n_per_uid_vs_novel_all = best_n_per_uid_vs_novel_all.dropna(axis=0,how='any')\n",
    "has_sw_per_uid_vs_novel_all = best_n_per_uid_vs_novel_all > 0"
   ]
  },
  {
   "cell_type": "code",
   "execution_count": 97,
   "id": "85b6612c",
   "metadata": {},
   "outputs": [
    {
     "name": "stdout",
     "output_type": "stream",
     "text": [
      "Chi2ContingencyResult(statistic=7.540259411137698, pvalue=0.006033535527538118, dof=1, expected_freq=array([[233.36698212, 218.63301788],\n",
      "       [257.63301788, 241.36698212]]))\n"
     ]
    },
    {
     "data": {
      "image/png": "[encoded data removed]",
      "text/plain": [
       "<Figure size 432x288 with 2 Axes>"
      ]
     },
     "metadata": {
      "needs_background": "light"
     },
     "output_type": "display_data"
    }
   ],
   "source": [
    "from sklearn.metrics import confusion_matrix,ConfusionMatrixDisplay\n",
    "\n",
    "conf_mat=confusion_matrix(has_sw_per_uid_vs_novel_all[1],has_sw_per_uid_vs_novel_all[0])\n",
    "conf_mat_norm=confusion_matrix(has_sw_per_uid_vs_novel_all[1],has_sw_per_uid_vs_novel_all[0],normalize='all')\n",
    "disp=ConfusionMatrixDisplay(conf_mat_norm)\n",
    "disp=disp.plot()\n",
    "ax=disp.ax_\n",
    "disp.im_.set_clim([0,1])\n",
    "[x.set_color('white') for x in disp.text_.ravel()]\n",
    "\n",
    "ax.spines[['left','bottom']].set_visible(False)\n",
    "ax.set(xlabel='Familiar',ylabel='Novel')\n",
    "ticks = [0,1]\n",
    "ticklabels=['no switch','has switch']\n",
    "ax.set(xticks=ticks,yticks=ticks,xticklabels=ticklabels,yticklabels=ticklabels)\n",
    "fig=ax.figure\n",
    "\n",
    "print(scipy.stats.chi2_contingency(conf_mat))\n",
    "\n",
    "fig_fn = f'has_switch_novel_vs_familiar_contingency_{pen:.0e}.png'\n",
    "fig_fn = os.path.join(figdir,fig_fn)\n",
    "fig.savefig(fig_fn,bbox_inches='tight')\n"
   ]
  },
  {
   "cell_type": "code",
   "execution_count": 171,
   "id": "cdf667de",
   "metadata": {},
   "outputs": [
    {
     "name": "stderr",
     "output_type": "stream",
     "text": [
      "/tmp/ipykernel_518170/1164139832.py:3: PerformanceWarning: indexing past lexsort depth may impact performance.\n",
      "  fr_map_trial_df=fr_map_trial_df_all.loc[ani,sess]\n",
      "/tmp/ipykernel_518170/1164139832.py:4: PerformanceWarning: indexing past lexsort depth may impact performance.\n",
      "  all_fields = all_fields_recombined_all.loc[ani,sess]\n",
      "/tmp/ipykernel_518170/1164139832.py:5: PerformanceWarning: indexing past lexsort depth may impact performance.\n",
      "  changes_df = changes_df_all.loc[ani,sess]\n",
      "/tmp/ipykernel_518170/1164139832.py:6: PerformanceWarning: indexing past lexsort depth may impact performance.\n",
      "  spk_beh_df = spk_beh_df_all.loc[ani,sess]\n"
     ]
    }
   ],
   "source": [
    "ani,sess,uid=has_sw_per_uid_vs_novel_all[has_sw_per_uid_vs_novel_all[0]&has_sw_per_uid_vs_novel_all[1]].sample(1).index[0]\n",
    "\n",
    "fr_map_trial_df=fr_map_trial_df_all.loc[ani,sess]\n",
    "all_fields = all_fields_recombined_all.loc[ani,sess]\n",
    "changes_df = changes_df_all.loc[ani,sess]\n",
    "spk_beh_df = spk_beh_df_all.loc[ani,sess]\n",
    "index_within_to_trial_index_df=dpp.index_within_to_trial_index(spk_beh_df)\n",
    "\n"
   ]
  },
  {
   "cell_type": "code",
   "execution_count": 174,
   "id": "3a2de405",
   "metadata": {},
   "outputs": [
    {
     "data": {
      "text/plain": [
       "(<Figure size 432x288 with 2 Axes>,\n",
       " <Axes: xlabel='Pos. bin', ylabel='Trial (within trial type'>)"
      ]
     },
     "execution_count": 174,
     "metadata": {},
     "output_type": "execute_result"
    },
    {
     "data": {
      "image/png": "[encoded data removed]",
      "text/plain": [
       "<Figure size 432x288 with 2 Axes>"
      ]
     },
     "metadata": {
      "needs_background": "light"
     },
     "output_type": "display_data"
    }
   ],
   "source": [
    "import plot_all_fr_map_x_pwc_one_session as plot_fm\n",
    "reload(plot_fm)\n",
    "task_ind = 0\n",
    "tt=1\n",
    "uid=uid\n",
    "plot_fm.plot_ratemap_one_neuron_all_fields_using_changes_df(fr_map_trial_df,all_fields,changes_df,index_within_to_trial_index_df,\n",
    "                                       task_ind,tt,uid,flipy=True,\n",
    "                                       fig=None,ax=None\n",
    "                                      )\n",
    "\n"
   ]
  },
  {
   "cell_type": "code",
   "execution_count": 136,
   "id": "5257426f",
   "metadata": {
    "collapsed": true
   },
   "outputs": [
    {
     "data": {
      "text/plain": [
       "array([ True,  True,  True,  True,  True,  True,  True,  True,  True,\n",
       "        True,  True,  True,  True,  True,  True,  True,  True,  True,\n",
       "        True,  True,  True,  True,  True,  True,  True,  True,  True,\n",
       "        True,  True,  True,  True,  True,  True,  True,  True,  True,\n",
       "        True,  True,  True,  True,  True,  True,  True,  True,  True,\n",
       "        True,  True,  True,  True,  True,  True,  True,  True,  True,\n",
       "        True,  True,  True,  True,  True,  True,  True,  True,  True,\n",
       "        True,  True,  True,  True,  True,  True,  True,  True,  True,\n",
       "        True,  True,  True,  True,  True,  True,  True,  True,  True,\n",
       "        True,  True,  True,  True,  True,  True,  True,  True,  True,\n",
       "        True,  True,  True,  True,  True,  True,  True,  True,  True,\n",
       "        True,  True,  True,  True,  True,  True,  True,  True,  True,\n",
       "        True,  True,  True,  True,  True,  True,  True,  True,  True,\n",
       "        True,  True,  True,  True,  True,  True,  True,  True,  True,\n",
       "        True,  True,  True,  True,  True,  True,  True,  True,  True,\n",
       "        True,  True,  True,  True,  True,  True,  True,  True,  True,\n",
       "        True,  True,  True,  True,  True,  True,  True,  True,  True,\n",
       "        True,  True,  True,  True,  True,  True,  True,  True,  True,\n",
       "        True,  True,  True,  True,  True,  True,  True,  True,  True,\n",
       "        True,  True,  True,  True,  True,  True,  True,  True,  True,\n",
       "        True,  True,  True,  True,  True,  True,  True,  True,  True,\n",
       "        True,  True,  True,  True,  True,  True,  True,  True,  True,\n",
       "        True,  True,  True,  True,  True,  True,  True,  True,  True,\n",
       "        True,  True,  True,  True,  True,  True,  True,  True,  True,\n",
       "        True,  True,  True,  True,  True,  True,  True,  True,  True,\n",
       "        True,  True,  True,  True,  True,  True,  True,  True,  True,\n",
       "        True,  True,  True,  True,  True,  True,  True,  True,  True,\n",
       "        True,  True,  True,  True,  True,  True,  True,  True,  True,\n",
       "        True,  True,  True,  True,  True,  True,  True,  True,  True,\n",
       "        True,  True,  True,  True,  True,  True,  True,  True,  True,\n",
       "        True,  True,  True,  True,  True,  True,  True,  True,  True,\n",
       "        True,  True,  True,  True,  True,  True,  True,  True,  True,\n",
       "        True,  True,  True,  True,  True,  True,  True,  True,  True,\n",
       "        True,  True,  True,  True,  True,  True,  True,  True,  True,\n",
       "        True,  True,  True,  True,  True,  True,  True,  True,  True,\n",
       "        True,  True,  True,  True,  True,  True,  True,  True,  True,\n",
       "        True,  True,  True,  True,  True,  True,  True,  True, False,\n",
       "       False, False, False, False, False, False, False, False, False,\n",
       "       False, False, False, False, False, False, False, False, False,\n",
       "       False, False, False, False, False, False, False, False, False,\n",
       "       False, False, False, False, False, False, False, False, False,\n",
       "       False, False, False, False, False, False, False, False, False,\n",
       "       False, False, False, False, False, False, False, False, False,\n",
       "       False, False, False, False, False, False, False, False, False,\n",
       "       False, False, False, False, False, False, False, False, False,\n",
       "       False, False, False, False, False, False, False, False, False,\n",
       "       False, False, False, False, False, False, False, False, False,\n",
       "       False, False, False, False, False, False, False, False, False,\n",
       "       False, False, False, False, False, False, False, False, False,\n",
       "       False, False, False, False, False, False, False, False, False,\n",
       "       False, False, False, False, False, False, False, False, False,\n",
       "       False, False, False, False, False, False, False, False, False,\n",
       "       False, False, False, False, False, False, False, False, False,\n",
       "       False, False, False, False, False, False, False, False, False,\n",
       "       False, False, False, False, False, False, False, False, False,\n",
       "       False, False, False, False, False, False, False, False, False,\n",
       "       False, False, False, False, False, False, False, False, False,\n",
       "       False, False, False, False, False, False, False, False, False,\n",
       "       False, False, False, False, False, False, False, False, False,\n",
       "       False, False, False, False, False, False, False, False, False,\n",
       "       False, False, False, False, False, False, False, False, False,\n",
       "       False, False, False, False, False, False, False, False, False,\n",
       "       False, False, False, False, False, False, False, False, False,\n",
       "       False, False, False, False, False, False, False, False, False,\n",
       "       False, False, False, False, False, False, False, False, False,\n",
       "       False, False, False, False, False, False, False, False, False,\n",
       "       False, False, False, False, False, False, False, False, False,\n",
       "       False, False, False, False, False, False,  True,  True,  True,\n",
       "        True,  True,  True,  True,  True,  True,  True,  True,  True,\n",
       "        True,  True,  True,  True,  True,  True,  True,  True,  True,\n",
       "        True,  True,  True,  True,  True,  True,  True,  True,  True,\n",
       "        True,  True,  True,  True,  True,  True,  True,  True,  True,\n",
       "        True,  True,  True,  True,  True,  True,  True,  True,  True,\n",
       "        True,  True,  True,  True,  True,  True,  True,  True,  True,\n",
       "        True,  True,  True,  True,  True,  True,  True,  True,  True,\n",
       "        True,  True,  True,  True,  True,  True,  True])"
      ]
     },
     "execution_count": 136,
     "metadata": {},
     "output_type": "execute_result"
    }
   ],
   "source": [
    "changes_df_pen.index.get_level_values(1).isin([0,'both'])"
   ]
  },
  {
   "cell_type": "code",
   "execution_count": 103,
   "id": "85c24077",
   "metadata": {
    "scrolled": false
   },
   "outputs": [
    {
     "data": {
      "text/plain": [
       "959"
      ]
     },
     "execution_count": 103,
     "metadata": {},
     "output_type": "execute_result"
    }
   ],
   "source": [
    "has_sw_per_uid_vs_novel_all.sum().sum()"
   ]
  },
  {
   "cell_type": "markdown",
   "id": "cacf967b",
   "metadata": {},
   "source": [
    "# stability after pop up"
   ]
  },
  {
   "cell_type": "code",
   "execution_count": 54,
   "id": "56ed75ef",
   "metadata": {},
   "outputs": [],
   "source": [
    "import stability_analysis as sa"
   ]
  },
  {
   "cell_type": "code",
   "execution_count": 86,
   "id": "ada0a92b",
   "metadata": {},
   "outputs": [],
   "source": [
    "peak_both_sw_fam_nov = sa.get_sw_no_sw_pf_par_var(changes_df_all,pf_params_recombined_all,par_key='peak',min_size=2,half_nosw_trials=True)\n",
    "fr_peak_both_sw_fam_nov = sa.get_sw_no_sw_pf_par_var(changes_df_all,pf_params_recombined_all,par_key='fr_peak',min_size=2,half_nosw_trials=True)\n",
    "\n",
    "\n",
    "par_all_both_sw_fam_nov = {'fr_peak':fr_peak_both_sw_fam_nov,'peak':peak_both_sw_fam_nov}"
   ]
  },
  {
   "cell_type": "code",
   "execution_count": 87,
   "id": "5d8eeb49",
   "metadata": {},
   "outputs": [
    {
     "name": "stdout",
     "output_type": "stream",
     "text": [
      "p-value annotation legend:\n",
      "      ns: p <= 1.00e+00\n",
      "       *: 1.00e-02 < p <= 5.00e-02\n",
      "      **: 1.00e-03 < p <= 1.00e-02\n",
      "     ***: 1.00e-04 < p <= 1.00e-03\n",
      "    ****: p <= 1.00e-04\n",
      "\n",
      "sw_0 vs. sw_1: Wilcoxon test (paired samples), P_val:2.497e-07 Stat=1.323e+03\n",
      "nosw_0 vs. nosw_1: Wilcoxon test (paired samples), P_val:3.458e-08 Stat=3.551e+04\n",
      "p-value annotation legend:\n",
      "      ns: p <= 1.00e+00\n",
      "       *: 1.00e-02 < p <= 5.00e-02\n",
      "      **: 1.00e-03 < p <= 1.00e-02\n",
      "     ***: 1.00e-04 < p <= 1.00e-03\n",
      "    ****: p <= 1.00e-04\n",
      "\n",
      "nosw_0 vs. sw_0: Mann-Whitney-Wilcoxon test two-sided, P_val:2.797e-17 U_stat=3.777e+04\n",
      "nosw_1 vs. sw_1: Mann-Whitney-Wilcoxon test two-sided, P_val:1.628e-09 U_stat=3.407e+04\n"
     ]
    },
    {
     "data": {
      "text/plain": [
       "(<Axes: ylabel='Var. in field location'>,\n",
       " [<statannotations.Annotation.Annotation at 0x1554e5f8e7c0>,\n",
       "  <statannotations.Annotation.Annotation at 0x1554e58e19a0>])"
      ]
     },
     "execution_count": 87,
     "metadata": {},
     "output_type": "execute_result"
    },
    {
     "data": {
      "image/png": "[encoded data removed]",
      "text/plain": [
       "<Figure size 432x288 with 1 Axes>"
      ]
     },
     "metadata": {
      "needs_background": "light"
     },
     "output_type": "display_data"
    }
   ],
   "source": [
    "\n",
    "palette = {0: 'C0', 1: 'C1'}\n",
    "par_key = 'peak'#'fr_peak'#\n",
    "data=par_all_both_sw_fam_nov[par_key]\n",
    "pf_par_both_sw_fam_nov_melt=data.melt()\n",
    "\n",
    "\n",
    "var_0_to_coord={'nosw':0,'sw':1}\n",
    "var_1_to_coord={0:-0.5,1:0.5}\n",
    "coord=np.array([var_0_to_coord[x] for x in pf_par_both_sw_fam_nov_melt['variable_0'].values])\n",
    "coord=coord+np.array([var_1_to_coord[x] for x in pf_par_both_sw_fam_nov_melt['variable_1'].values])\n",
    "pf_par_both_sw_fam_nov_melt['x_coord'] = coord\n",
    "\n",
    "ax=sns.boxplot(data=pf_par_both_sw_fam_nov_melt,x='variable_0',y='value',palette=palette,hue='variable_1')\n",
    "\n",
    "# sns.stripplot(x='variable_0', y='value',hue='variable_1', data=pf_par_both_sw_fam_nov_melt,dodge=True,\n",
    "#               jitter=False\n",
    "#              )\n",
    "# , \n",
    "#               markers=[\"o\", \"o\"], linestyles=[\"-\", \"--\"])\n",
    "\n",
    "for _,row in data['nosw'].iterrows():\n",
    "    ax.plot([-0.2,0.2],row.values,c='grey',alpha=0.1)\n",
    "\n",
    "for _,row in data['sw'].iterrows():\n",
    "    ax.plot([1-0.2,1+0.2],row.values,c='grey',alpha=0.1)\n",
    "\n",
    "sns.despine()\n",
    "rename_d={'peak':'Var. in field location','fr_peak':'Fano in FR'}\n",
    "ax.set(xlabel=\"\",xticklabels=['No switch','Has switch-ON'],ylabel=f'{rename_d[par_key]}')\n",
    "\n",
    "handles,labels=ax.get_legend_handles_labels()\n",
    "new_labels=['Familiar','Novel']\n",
    "ax.legend(handles, new_labels)\n",
    "\n",
    "\n",
    "## add test\n",
    "from statannotations.Annotator import Annotator\n",
    "\n",
    "# pairs = [(0,2),(1,2),(0,1)]\n",
    "pairs = [\n",
    "    (('nosw',0),('nosw',1)),\n",
    "    (('sw',0),('sw',1)),\n",
    "]\n",
    "data=pf_par_both_sw_fam_nov_melt\n",
    "annotator = Annotator(ax, pairs, data=data, x='variable_0',hue='variable_1', y='value')\n",
    "annotator.configure(test='Wilcoxon', text_format='star', loc='inside')\n",
    "annotator.apply_and_annotate()\n",
    "\n",
    "pairs=[(('nosw',0),('sw',0)),\n",
    "    (('nosw',1),('sw',1))]\n",
    "annotator = Annotator(ax, pairs, data=data, x='variable_0',hue='variable_1', y='value')\n",
    "annotator.configure(test='Mann-Whitney', text_format='star', loc='outside')\n",
    "annotator.apply_and_annotate()\n"
   ]
  },
  {
   "cell_type": "code",
   "execution_count": 88,
   "id": "21c77ce0",
   "metadata": {},
   "outputs": [],
   "source": [
    "for fmt in ['png','svg']:\n",
    "#     fig_fn = f'var_{par_key}_vs_sw_fam_nov.{fmt}'\n",
    "#     fig_fn = f'var_{par_key}_vs_sw_fam_nov_nohalftrials.{fmt}'\n",
    "    fig_fn = f'var_{par_key}_vs_sw_fam_nov_nohalftrials_pen{pen:.0e}.{fmt}'\n",
    "    fig_fn_full = os.path.join(figdir,fig_fn)\n",
    "    fig.savefig(fig_fn_full,bbox_inches='tight')\n"
   ]
  },
  {
   "cell_type": "markdown",
   "id": "4bfa81af",
   "metadata": {},
   "source": [
    "# cosw"
   ]
  },
  {
   "cell_type": "code",
   "execution_count": 8,
   "id": "e0fc7755",
   "metadata": {},
   "outputs": [],
   "source": [
    "import test_co_switch as tcs"
   ]
  },
  {
   "cell_type": "code",
   "execution_count": 12,
   "id": "165c595a",
   "metadata": {},
   "outputs": [
    {
     "name": "stderr",
     "output_type": "stream",
     "text": [
      "/tmp/ipykernel_695603/3332012181.py:3: PerformanceWarning: indexing past lexsort depth may impact performance.\n",
      "  changes_df_pen = changes_df_all.loc[ani,sess]\n"
     ]
    }
   ],
   "source": [
    "ani='e13_26m1'#'e15_13f1'\n",
    "sess='e13_26m1_211116'#'e15_13f1_220117'\n",
    "changes_df_pen = changes_df_all.loc[ani,sess]"
   ]
  },
  {
   "cell_type": "code",
   "execution_count": 114,
   "id": "c90695ce",
   "metadata": {},
   "outputs": [],
   "source": [
    "import test_co_switch as tcs\n",
    "# changes_df_shuffle = tcs.gen_circular_shuffle_trialtype_seperated(changes_df_pen,nrepeats=200,min_cpd_win=2)\n",
    "changes_df_shuffle = tcs.gen_circular_shuffle_trialtype_seperated(changes_df_pen,nrepeats=400,min_cpd_win=2)\n",
    "cosw_pval_pen, n_pair_all_n_co_pen, n_pair_all_n_co_shuffle_pen=\\\n",
    "tcs.test_co_switch_all_task(changes_df_pen,changes_df_shuffle_all_task=changes_df_shuffle,window_l=[0,1],n_co_l=[2,3],shuffle_kwargs={})\n"
   ]
  },
  {
   "cell_type": "code",
   "execution_count": 115,
   "id": "1bfed6f7",
   "metadata": {},
   "outputs": [
    {
     "data": {
      "text/plain": [
       "   onoff  n_trial_lag  n_in_tuple\n",
       "0   1     0            2             0.3375\n",
       "                       3             0.2825\n",
       "                       4             0.2600\n",
       "          1            2             0.1675\n",
       "                       3             0.1400\n",
       "                       4             0.1125\n",
       "          2            2             0.0950\n",
       "                       3             0.0750\n",
       "                       4             0.0800\n",
       "   -1     0            2             0.0350\n",
       "                       3             0.0425\n",
       "                       4             0.0575\n",
       "          1            2             0.0200\n",
       "                       3             0.0325\n",
       "                       4             0.0500\n",
       "          2            2             0.0100\n",
       "                       3             0.0200\n",
       "                       4             0.0375\n",
       "dtype: float64"
      ]
     },
     "execution_count": 115,
     "metadata": {},
     "output_type": "execute_result"
    }
   ],
   "source": [
    "cosw_pval_pen"
   ]
  },
  {
   "cell_type": "code",
   "execution_count": 13,
   "id": "f0d48788",
   "metadata": {},
   "outputs": [],
   "source": [
    "# coswtest_res,share_shuffle=tcs.shuffle_test_pair_share_onoff(changes_df_pen.loc[(slice(None),['both',0]),:],nrepeats=400,alpha=0.025,min_cpd_win=2)\n",
    "coswtest_res,share_shuffle=tcs.shuffle_test_pair_share_onoff(changes_df_pen,nrepeats=400,alpha=0.025,min_cpd_win=2)\n",
    "\n"
   ]
  },
  {
   "cell_type": "code",
   "execution_count": 14,
   "id": "a8d26803",
   "metadata": {},
   "outputs": [
    {
     "data": {
      "text/plain": [
       "count  onoff                0.0\n",
       "       on                  97.0\n",
       "       off                 91.0\n",
       "       onoff_ratio_on       0.0\n",
       "cdf    onoff                0.0\n",
       "       on                0.7725\n",
       "       off                 0.77\n",
       "       onoff_ratio_on       0.0\n",
       "issig  onoff              False\n",
       "       on                 False\n",
       "       off                False\n",
       "       onoff_ratio_on     False\n",
       "dtype: object"
      ]
     },
     "execution_count": 14,
     "metadata": {},
     "output_type": "execute_result"
    }
   ],
   "source": [
    "coswtest_res"
   ]
  },
  {
   "cell_type": "markdown",
   "id": "bc5375ee",
   "metadata": {},
   "source": [
    "### switch one field predict another?"
   ]
  },
  {
   "cell_type": "code",
   "execution_count": 7,
   "id": "6d1d6174",
   "metadata": {},
   "outputs": [
    {
     "name": "stderr",
     "output_type": "stream",
     "text": [
      "/mnt/home/szheng/projects/place_variability/code/multi_field_analysis.py:90: SettingWithCopyWarning: \n",
      "A value is trying to be set on a copy of a slice from a DataFrame.\n",
      "Try using .loc[row_indexer,col_indexer] = value instead\n",
      "\n",
      "See the caveats in the documentation: https://pandas.pydata.org/pandas-docs/stable/user_guide/indexing.html#returning-a-view-versus-a-copy\n",
      "  df_both_part['other_field_index']=field_index_for_both_from_another_tt\n"
     ]
    },
    {
     "name": "stdout",
     "output_type": "stream",
     "text": [
      "INFO: Pandarallel will run on 40 workers.\n",
      "INFO: Pandarallel will use Memory file system to transfer data between the main process and workers.\n",
      "CPU times: user 8 s, sys: 1.03 s, total: 9.02 s\n",
      "Wall time: 17.9 s\n"
     ]
    }
   ],
   "source": [
    "%%time\n",
    "import multi_field_analysis as mfa\n",
    "reload(mfa)\n",
    "has_sw_df = mfa.get_sw_multifield_info(changes_df_all,all_fields_recombined_all,level=(0,1,2,3,4))"
   ]
  },
  {
   "cell_type": "code",
   "execution_count": 9,
   "id": "a551a694",
   "metadata": {},
   "outputs": [],
   "source": [
    "from statannotations.Annotator import Annotator"
   ]
  },
  {
   "cell_type": "code",
   "execution_count": 10,
   "id": "c5349066",
   "metadata": {},
   "outputs": [
    {
     "name": "stdout",
     "output_type": "stream",
     "text": [
      "p-value annotation legend:\n",
      "      ns: p <= 1.00e+00\n",
      "       *: 1.00e-02 < p <= 5.00e-02\n",
      "      **: 1.00e-03 < p <= 1.00e-02\n",
      "     ***: 1.00e-04 < p <= 1.00e-03\n",
      "    ****: p <= 1.00e-04\n",
      "\n",
      "True_False vs. True_True: Mann-Whitney-Wilcoxon test two-sided, P_val:2.468e-20 U_stat=9.923e+06\n",
      "False_False vs. True_False: Mann-Whitney-Wilcoxon test two-sided, P_val:3.803e-35 U_stat=2.191e+07\n",
      "p-value annotation legend:\n",
      "      ns: p <= 1.00e+00\n",
      "       *: 1.00e-02 < p <= 5.00e-02\n",
      "      **: 1.00e-03 < p <= 1.00e-02\n",
      "     ***: 1.00e-04 < p <= 1.00e-03\n",
      "    ****: p <= 1.00e-04\n",
      "\n",
      "True_False vs. True_True: Mann-Whitney-Wilcoxon test two-sided, P_val:2.652e-07 U_stat=7.300e+06\n",
      "False_False vs. True_False: Mann-Whitney-Wilcoxon test two-sided, P_val:2.448e-27 U_stat=2.450e+07\n",
      "p-value annotation legend:\n",
      "      ns: p <= 1.00e+00\n",
      "       *: 1.00e-02 < p <= 5.00e-02\n",
      "      **: 1.00e-03 < p <= 1.00e-02\n",
      "     ***: 1.00e-04 < p <= 1.00e-03\n",
      "    ****: p <= 1.00e-04\n",
      "\n",
      "True_False vs. True_True: Mann-Whitney-Wilcoxon test two-sided, P_val:6.892e-07 U_stat=1.042e+07\n",
      "False_False vs. True_False: Mann-Whitney-Wilcoxon test two-sided, P_val:1.497e-25 U_stat=2.139e+07\n",
      "p-value annotation legend:\n",
      "      ns: p <= 1.00e+00\n",
      "       *: 1.00e-02 < p <= 5.00e-02\n",
      "      **: 1.00e-03 < p <= 1.00e-02\n",
      "     ***: 1.00e-04 < p <= 1.00e-03\n",
      "    ****: p <= 1.00e-04\n",
      "\n",
      "True_False vs. True_True: Mann-Whitney-Wilcoxon test two-sided, P_val:1.649e-16 U_stat=7.165e+06\n",
      "False_False vs. True_False: Mann-Whitney-Wilcoxon test two-sided, P_val:4.819e-29 U_stat=2.425e+07\n"
     ]
    },
    {
     "data": {
      "image/png": "[encoded data removed]",
      "text/plain": [
       "<Figure size 432x288 with 1 Axes>"
      ]
     },
     "metadata": {
      "needs_background": "light"
     },
     "output_type": "display_data"
    },
    {
     "data": {
      "image/png": "[encoded data removed]",
      "text/plain": [
       "<Figure size 432x288 with 1 Axes>"
      ]
     },
     "metadata": {
      "needs_background": "light"
     },
     "output_type": "display_data"
    },
    {
     "data": {
      "image/png": "[encoded data removed]",
      "text/plain": [
       "<Figure size 432x288 with 1 Axes>"
      ]
     },
     "metadata": {
      "needs_background": "light"
     },
     "output_type": "display_data"
    },
    {
     "data": {
      "image/png": "[encoded data removed]",
      "text/plain": [
       "<Figure size 432x288 with 1 Axes>"
      ]
     },
     "metadata": {
      "needs_background": "light"
     },
     "output_type": "display_data"
    }
   ],
   "source": [
    "data=has_sw_df\n",
    "x = 'multiple_field'\n",
    "palette = {0:'C4',1:'C5'}\n",
    "for onoff_str in ['on','off']:\n",
    "    for other_onoff_str in ['on','off']:\n",
    "        other_onoff_str_plot=f'another field switch {other_onoff_str.upper()}'\n",
    "        other_onoff_key = f'other_{other_onoff_str}'\n",
    "        data[other_onoff_key] = data[other_onoff_key].astype(bool)\n",
    "        fig,ax=plt.subplots()\n",
    "        ax=sns.barplot(data=data,x=x,y=onoff_str,hue=other_onoff_key,ax=ax,order=[0,1],palette=palette)\n",
    "        sns.despine()\n",
    "        ax.set_xticklabels(['single field','multiple fields'],fontsize=20)\n",
    "        ax.set(xlabel=\"\",ylabel=f'Frac. switch {onoff_str.upper()}')\n",
    "        l=ax.get_legend()\n",
    "        l.set_title(other_onoff_str_plot)\n",
    "        plt.setp(l.get_title(),fontsize=15)\n",
    "        l.set(bbox_to_anchor=[1,1.05])\n",
    "        \n",
    "        \n",
    "\n",
    "        # pairs = [(0,2),(1,2),(0,1)]\n",
    "        pairs = [\n",
    "            ((0,False),(1,False)),\n",
    "            ((1,False),(1,True)),\n",
    "        ]\n",
    "        annotator = Annotator(ax, pairs, data=data, x=x,hue=other_onoff_key, y=onoff_str)\n",
    "        annotator.configure(test='Mann-Whitney', text_format='star', loc='inside')\n",
    "        annotator.apply_and_annotate()\n",
    "\n",
    "        \n",
    "#         for fmt in ['png','svg']:\n",
    "#             fn_full=os.path.join(figdir,f'frac_sw_{onoff_str}_vs_multiple_field_hue_{other_onoff_key}.{fmt}')\n",
    "#             fig.savefig(fn_full,bbox_inches='tight')\n",
    "\n",
    "        "
   ]
  },
  {
   "cell_type": "code",
   "execution_count": null,
   "id": "08b4c1f4",
   "metadata": {},
   "outputs": [],
   "source": []
  }
 ],
 "metadata": {
  "kernelspec": {
   "display_name": "jax",
   "language": "python",
   "name": "jax"
  },
  "language_info": {
   "codemirror_mode": {
    "name": "ipython",
    "version": 3
   },
   "file_extension": ".py",
   "mimetype": "text/x-python",
   "name": "python",
   "nbconvert_exporter": "python",
   "pygments_lexer": "ipython3",
   "version": "3.9.16"
  }
 },
 "nbformat": 4,
 "nbformat_minor": 5
}
