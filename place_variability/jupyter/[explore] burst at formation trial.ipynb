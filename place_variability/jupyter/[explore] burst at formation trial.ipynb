{
 "cells": [
  {
   "cell_type": "code",
   "execution_count": 2,
   "id": "7aa0ccc4",
   "metadata": {
    "scrolled": true
   },
   "outputs": [
    {
     "name": "stdout",
     "output_type": "stream",
     "text": [
      "67 sessions!\n",
      "67 sessions!\n"
     ]
    }
   ],
   "source": [
    "import numpy as np\n",
    "import scipy\n",
    "import sklearn\n",
    "from sklearn.decomposition import NMF\n",
    "from sklearn.cluster import KMeans\n",
    "from sklearn.mixture import GaussianMixture,BayesianGaussianMixture\n",
    "\n",
    "import pandas as pd\n",
    "\n",
    "import matplotlib.pyplot as plt\n",
    "import seaborn as sns\n",
    "import matplotlib as mpl\n",
    "mpl.rcParams['image.cmap'] = 'Greys'\n",
    "mpl.rcParams['axes.spines.right'] = False\n",
    "mpl.rcParams['axes.spines.top'] = False\n",
    "\n",
    "\n",
    "\n",
    "import sys,os,pdb,copy,pickle\n",
    "from importlib import reload\n",
    "# import pynapple as nap\n",
    "\n",
    "sys.path.append('/mnt/home/szheng/projects/seq_detection2/code')\n",
    "sys.path.append('/mnt/home/szheng/projects/util_code')\n",
    "sys.path.append('/mnt/home/szheng/projects/nmf_analysis')\n",
    "sys.path.append('/mnt/home/szheng/projects/nmf_analysis/scripts')\n",
    "sys.path.append('/mnt/home/szheng/projects/cluster_spikes')\n",
    "sys.path.append('/mnt/home/szheng/projects/place_variability/code')\n",
    "import data_prep_new as dpn\n",
    "import place_cell_analysis as pa\n",
    "import plot_helper as ph\n",
    "import preprocess as prep\n",
    "import nmf_analysis as na\n",
    "import nmf_plot as nmfp\n",
    "reload(na)\n",
    "\n",
    "import raster_new as rn\n",
    "import data_prep_pyn as dpp\n",
    "\n",
    "\n",
    "import change_point_analysis as cpa\n",
    "import change_point_plot as cpp\n",
    "\n",
    "import place_field_analysis as pf\n",
    "\n",
    "import switch_analysis_one_session as saos\n",
    "reload(saos)\n",
    "\n",
    "import process_central_arm as pca \n",
    "import change_point_analysis_central_arm_seperate as cpacas\n",
    "\n",
    "import misc\n",
    "reload(misc)\n",
    "from misc import get_nth_key, get_nth_val"
   ]
  },
  {
   "cell_type": "code",
   "execution_count": 3,
   "id": "109e20ee",
   "metadata": {},
   "outputs": [],
   "source": [
    "import pynapple as nap"
   ]
  },
  {
   "cell_type": "code",
   "execution_count": 4,
   "id": "a436cee8",
   "metadata": {},
   "outputs": [],
   "source": [
    "import matplotlib\n",
    "matplotlib.rcParams['svg.fonttype'] = 'none'"
   ]
  },
  {
   "cell_type": "code",
   "execution_count": 5,
   "id": "05196b5b",
   "metadata": {},
   "outputs": [
    {
     "name": "stdout",
     "output_type": "stream",
     "text": [
      "/mnt/home/szheng/ceph/place_variability/fig/paper/suppfigure_btsp_burst\n",
      "/mnt/home/szheng/ceph/place_variability/fig/paper/suppfigure_btsp_burst/supp\n",
      "/mnt/home/szheng/ceph/place_variability/data/paper\n"
     ]
    },
    {
     "data": {
      "text/plain": [
       "'/mnt/home/szheng/ceph/place_variability/data/paper'"
      ]
     },
     "execution_count": 5,
     "metadata": {},
     "output_type": "execute_result"
    }
   ],
   "source": [
    "\n",
    "figdir = '/mnt/home/szheng/ceph/place_variability/fig/paper/suppfigure_btsp_burst'\n",
    "misc.get_or_create_subdir(figdir)\n",
    "suppfigdir =misc.get_or_create_subdir(figdir,'supp')\n",
    "data_dir = '/mnt/home/szheng/ceph/place_variability/data/paper'\n",
    "misc.get_or_create_subdir(data_dir)\n"
   ]
  },
  {
   "cell_type": "code",
   "execution_count": 6,
   "id": "310635b7",
   "metadata": {},
   "outputs": [
    {
     "name": "stderr",
     "output_type": "stream",
     "text": [
      "/mnt/home/szheng/ceph/envs/jax/lib/python3.9/site-packages/outdated/utils.py:14: OutdatedPackageWarning: The package pingouin is out of date. Your version is 0.5.2, the latest is 0.5.4.\n",
      "Set the environment variable OUTDATED_IGNORE=1 to disable these warnings.\n",
      "  return warn(\n"
     ]
    }
   ],
   "source": [
    "import database\n",
    "db = database.db\n",
    "\n",
    "subdb = db.query('owner==\"roman\"').sort_values('n_pyr_putative',ascending=False)\n",
    "subdb = subdb.query('ntrials>=20&n_neurons>=50')\n",
    "to_exclude_sess = ['e16_3m2_211211']\n",
    "subdb=subdb.loc[~subdb['sess_name'].isin(to_exclude_sess)]\n",
    "\n",
    "\n",
    "import pf_recombine_central as pfrc\n",
    "import fr_map_one_session as fmos\n",
    "import switch_detection_one_session as sdos\n",
    "import get_all_switch_add_metrics as gasam\n",
    "\n",
    "import preprocess_one_session as prepos"
   ]
  },
  {
   "cell_type": "code",
   "execution_count": 7,
   "id": "cdeac18a",
   "metadata": {},
   "outputs": [],
   "source": [
    "fn = 'prepped_data_agg.p'\n",
    "fn_full = os.path.join(data_dir,fn)\n",
    "prepped_data_agg = pickle.load(open(fn_full,'rb'))\n",
    "\n",
    "all_fields_recombined_all = prepped_data_agg['all_fields_recombined_all']\n",
    "pf_params_recombined_all=  prepped_data_agg['pf_params_recombined_all']\n",
    "fr_map_trial_df_all= prepped_data_agg['fr_map_trial_df_all']\n",
    "fr_map_trial_df_pyr_combined_all = prepped_data_agg['fr_map_trial_df_pyr_combined_all']\n",
    "occu_map_all = prepped_data_agg['occu_map_all']\n",
    "fr_map_all = prepped_data_agg['fr_map_all']\n",
    "\n",
    "pval_all = prepped_data_agg['pval_all']\n",
    "X_pwc_all = prepped_data_agg['X_pwc_all']\n",
    "X_raw_all = prepped_data_agg['X_raw_all']\n",
    "changes_df_all = prepped_data_agg['changes_df_all']\n",
    "var_res_all_test = prepped_data_agg['var_res_all']\n",
    "# corr_all = prepped_data_agg['corr_all']\n",
    "all_sw_d_all = prepped_data_agg['all_sw_d_all']\n",
    "all_sw_with_metrics_d_all = prepped_data_agg['all_sw_with_metrics_d_all']\n",
    "best_n_all_test = prepped_data_agg['best_n_all']\n",
    "spk_beh_df_all = prepped_data_agg['spk_beh_df_all']\n",
    "\n",
    "pf_params_all = prepped_data_agg['pf_params_all']\n",
    "all_fields_all = prepped_data_agg['all_fields_all']\n",
    "\n",
    "ntrials_per_tt=fr_map_trial_df_all.groupby(level=(0,1,2,3)).apply(lambda x:x.dropna(axis=1,how='all').shape[1])\n",
    "ntrials_mask = ntrials_per_tt.groupby(level=(0,1,2)).apply(lambda x:(x>=7).all()) \n",
    "\n"
   ]
  },
  {
   "cell_type": "code",
   "execution_count": 8,
   "id": "1faabee8",
   "metadata": {},
   "outputs": [],
   "source": [
    "trial_index_to_index_within_df_all=prepped_data_agg['trial_index_to_index_within_df_all']\n",
    "index_within_to_trial_index_df_all=prepped_data_agg['index_within_to_trial_index_df_all'] "
   ]
  },
  {
   "cell_type": "code",
   "execution_count": 9,
   "id": "46f2937d",
   "metadata": {},
   "outputs": [],
   "source": [
    "savefn_full = os.path.join(data_dir,'per_field_metrics_shtest_with_1cp.p')\n",
    "# pickle.dump(per_field_metrics_all,open(savefn_full,'wb'))\n",
    "per_field_metrics_all=pickle.load(open(savefn_full,'rb'))"
   ]
  },
  {
   "cell_type": "markdown",
   "id": "8943dc70",
   "metadata": {},
   "source": [
    "# test whether formation trial FR is higher than after"
   ]
  },
  {
   "cell_type": "code",
   "execution_count": 10,
   "id": "717e260b",
   "metadata": {},
   "outputs": [],
   "source": [
    "X_raw_all_norm = X_raw_all / X_raw_all.max(axis=1).values[:,None]"
   ]
  },
  {
   "cell_type": "code",
   "execution_count": 11,
   "id": "783a57e2",
   "metadata": {},
   "outputs": [
    {
     "name": "stderr",
     "output_type": "stream",
     "text": [
      "/tmp/ipykernel_1089601/107663690.py:30: FutureWarning: The default dtype for empty Series will be 'object' instead of 'float64' in a future version. Specify a dtype explicitly to silence this warning.\n",
      "  is_backward_all = pd.Series(is_backward_all)\n"
     ]
    }
   ],
   "source": [
    "peri_sw_fr_all = {}\n",
    "trial_win = 3\n",
    "is_backward_all = {}\n",
    "for sw in [1,-1]:\n",
    "    all_sw_with_metrics_d_all_onoff=all_sw_with_metrics_d_all.query(f'switch==@sw')\n",
    "    peri_sw_fr_all_onoff = {}\n",
    "    for ind,row in all_sw_with_metrics_d_all_onoff.iterrows():\n",
    "        ani,sess,ti,sw_ind=ind\n",
    "        tt,uid,field_index,sw_tr,trial_ind = row['trialtype'],row['uid'],row['field_index'],row['switch_trial'],row['trial_index']\n",
    "        sw_tr = int(sw_tr)\n",
    "    #     fr_sel = X_raw_all_norm.loc[(ani,sess,ti,tt,uid,field_index),trial_index-2:trial_index+2]\n",
    "    #     if len(fr_sel)==2*2+1:\n",
    "    #         fr_sel.index = np.arange(-2,3)\n",
    "    #         peri_sw_fr_all[(ani,sess,ti,tt,uid,field_index,sw_ind)] = fr_sel\n",
    "\n",
    "        X_raw_onefield=X_raw_all_norm.loc[(ani,sess,ti,tt,uid,field_index)].dropna().values\n",
    "    #     X_raw_onefield=X_raw_all_norm.loc[(ani,sess,ti,tt,uid,field_index)].values\n",
    "        X_raw_onefield_padded=np.concatenate([[np.nan] * trial_win,X_raw_onefield,[np.nan] * trial_win])\n",
    "        fr_sel = pd.Series(X_raw_onefield_padded[sw_tr:sw_tr+trial_win*2+1])\n",
    "        peri_sw_fr_all_onoff[(ani,sess,ti,tt,uid,field_index,sw_ind)] = fr_sel\n",
    "        \n",
    "        \n",
    "    peri_sw_fr_all_onoff = pd.concat(peri_sw_fr_all_onoff,axis=0).unstack() # ani,sess,ti,tt,uid,field_id,switch_ind\n",
    "    peri_sw_fr_all[sw] = peri_sw_fr_all_onoff\n",
    "peri_sw_fr_all = pd.concat(peri_sw_fr_all,axis=0)\n",
    "\n",
    "cols_ind = np.arange(-trial_win,trial_win+1)\n",
    "peri_sw_fr_all.columns = cols_ind\n",
    "\n",
    "is_backward_all = pd.Series(is_backward_all)\n",
    "\n",
    "    #     row"
   ]
  },
  {
   "cell_type": "code",
   "execution_count": 31,
   "id": "2fe33581",
   "metadata": {},
   "outputs": [
    {
     "data": {
      "image/png": "[encoded data removed]",
      "text/plain": [
       "<Figure size 144x93.6 with 1 Axes>"
      ]
     },
     "metadata": {
      "needs_background": "light"
     },
     "output_type": "display_data"
    }
   ],
   "source": [
    "from matplotlib.ticker import MaxNLocator\n",
    "fig,ax=plt.subplots(figsize=(2,1.3))\n",
    "toplot=peri_sw_fr_all.loc[(1,slice(None),slice(None),0,slice(None)),:]\n",
    "# diff=toplot[5]-toplot[4]\n",
    "# print(scipy.stats.wilcoxon(diff.dropna()))\n",
    "fig,ax=ph.mean_error_plot(toplot,fig=fig,ax=ax)\n",
    "ax.xaxis.set_major_locator(MaxNLocator(integer=True))\n",
    "sns.despine()\n",
    "ax.set_ylabel('FR (normalized)')\n",
    "ax.set_xlabel('Trial (relative to switch)')\n",
    "\n",
    "figfn = 'peri_sw_on_fr_peak_vs_trial'\n",
    "ph.save_given_name(fig,figfn,figdir=figdir)"
   ]
  },
  {
   "cell_type": "code",
   "execution_count": 19,
   "id": "4c27642c",
   "metadata": {},
   "outputs": [],
   "source": [
    "def consecutive_wilcoxon_test(df):\n",
    "    cols = df.columns\n",
    "    res_all = {}\n",
    "    for i in range(1,len(cols)):\n",
    "        diff = df[cols[i]] - df[cols[i-1]]\n",
    "        res=scipy.stats.wilcoxon(diff.dropna(axis=0))\n",
    "        res_all[(cols[i-1],cols[i])] = res\n",
    "    return res_all"
   ]
  },
  {
   "cell_type": "code",
   "execution_count": 34,
   "id": "a3d6af00",
   "metadata": {},
   "outputs": [
    {
     "data": {
      "text/plain": [
       "(1852, 7)"
      ]
     },
     "execution_count": 34,
     "metadata": {},
     "output_type": "execute_result"
    }
   ],
   "source": [
    "df.shape"
   ]
  },
  {
   "cell_type": "code",
   "execution_count": 32,
   "id": "52bf78c6",
   "metadata": {},
   "outputs": [
    {
     "data": {
      "text/plain": [
       "{(-3, -2): WilcoxonResult(statistic=579676.0, pvalue=0.004513240526951757),\n",
       " (-2, -1): WilcoxonResult(statistic=570333.0, pvalue=1.1143215284362657e-20),\n",
       " (-1, 0): WilcoxonResult(statistic=11219.0, pvalue=3.0289205805465555e-294),\n",
       " (0, 1): WilcoxonResult(statistic=823282.5, pvalue=0.20379788675700994),\n",
       " (1, 2): WilcoxonResult(statistic=529935.0, pvalue=1.0338082861638737e-14),\n",
       " (2, 3): WilcoxonResult(statistic=491678.0, pvalue=1.8886486398671919e-06)}"
      ]
     },
     "execution_count": 32,
     "metadata": {},
     "output_type": "execute_result"
    }
   ],
   "source": [
    "df = toplot\n",
    "res_all = consecutive_wilcoxon_test(df)\n",
    "res_all"
   ]
  },
  {
   "cell_type": "code",
   "execution_count": 29,
   "id": "15bbd36c",
   "metadata": {},
   "outputs": [
    {
     "data": {
      "text/plain": [
       "Text(0.5, 0, 'Trial (relative to switch)')"
      ]
     },
     "execution_count": 29,
     "metadata": {},
     "output_type": "execute_result"
    },
    {
     "data": {
      "image/png": "[encoded data removed]",
      "text/plain": [
       "<Figure size 144x93.6 with 1 Axes>"
      ]
     },
     "metadata": {
      "needs_background": "light"
     },
     "output_type": "display_data"
    }
   ],
   "source": [
    "from matplotlib.ticker import MaxNLocator\n",
    "fig,ax=plt.subplots(figsize=(2,1.3))\n",
    "toplot=peri_sw_fr_all.loc[(-1,slice(None),slice(None),0,slice(None)),:]\n",
    "# diff=toplot[5]-toplot[4]\n",
    "# print(scipy.stats.wilcoxon(diff.dropna()))\n",
    "fig,ax=ph.mean_error_plot(toplot,fig=fig,ax=ax)\n",
    "ax.xaxis.set_major_locator(MaxNLocator(integer=True))\n",
    "sns.despine()\n",
    "ax.set_ylabel('FR (normalized)')\n",
    "ax.set_xlabel('Trial (relative to switch)')\n",
    "\n",
    "# figfn = 'peri_sw_off_fr_peak_vs_trial'\n",
    "# ph.save_given_name(fig,figfn,figdir=figdir)"
   ]
  },
  {
   "cell_type": "code",
   "execution_count": 30,
   "id": "3a1a8aef",
   "metadata": {},
   "outputs": [
    {
     "data": {
      "text/plain": [
       "{(-3, -2): WilcoxonResult(statistic=182405.0, pvalue=6.264310955171313e-11),\n",
       " (-2, -1): WilcoxonResult(statistic=339975.0, pvalue=0.5031225421036676),\n",
       " (-1, 0): WilcoxonResult(statistic=2822.0, pvalue=8.576310366812173e-190),\n",
       " (0, 1): WilcoxonResult(statistic=297053.0, pvalue=0.03204757913810585),\n",
       " (1, 2): WilcoxonResult(statistic=257544.0, pvalue=0.0866143717882679),\n",
       " (2, 3): WilcoxonResult(statistic=231575.0, pvalue=0.4078893620280839)}"
      ]
     },
     "execution_count": 30,
     "metadata": {},
     "output_type": "execute_result"
    }
   ],
   "source": [
    "df = toplot\n",
    "res_all = consecutive_wilcoxon_test(df)\n",
    "res_all"
   ]
  },
  {
   "cell_type": "code",
   "execution_count": null,
   "id": "ad95a25c",
   "metadata": {},
   "outputs": [],
   "source": []
  },
  {
   "cell_type": "code",
   "execution_count": 82,
   "id": "b36ded99",
   "metadata": {},
   "outputs": [
    {
     "data": {
      "text/plain": [
       "(<Figure size 432x288 with 1 Axes>, <Axes: >)"
      ]
     },
     "execution_count": 82,
     "metadata": {},
     "output_type": "execute_result"
    },
    {
     "data": {
      "image/png": "[encoded data removed]",
      "text/plain": [
       "<Figure size 432x288 with 1 Axes>"
      ]
     },
     "metadata": {
      "needs_background": "light"
     },
     "output_type": "display_data"
    }
   ],
   "source": [
    "ph.mean_error_plot(peri_sw_fr_all.loc[-1])"
   ]
  },
  {
   "cell_type": "code",
   "execution_count": 60,
   "id": "17e8aff5",
   "metadata": {},
   "outputs": [
    {
     "data": {
      "text/plain": [
       "(<Figure size 432x288 with 1 Axes>, <Axes: >)"
      ]
     },
     "execution_count": 60,
     "metadata": {},
     "output_type": "execute_result"
    },
    {
     "data": {
      "image/png": "[encoded data removed]",
      "text/plain": [
       "<Figure size 432x288 with 1 Axes>"
      ]
     },
     "metadata": {
      "needs_background": "light"
     },
     "output_type": "display_data"
    }
   ],
   "source": [
    "ph.mean_error_plot(peri_sw_fr_all)"
   ]
  },
  {
   "cell_type": "code",
   "execution_count": 28,
   "id": "9cd2681f",
   "metadata": {},
   "outputs": [
    {
     "data": {
      "text/plain": [
       "array([-2, -1,  0,  1,  2])"
      ]
     },
     "execution_count": 28,
     "metadata": {},
     "output_type": "execute_result"
    }
   ],
   "source": [
    "np.arange(-2,3)"
   ]
  },
  {
   "cell_type": "code",
   "execution_count": 26,
   "id": "b9627959",
   "metadata": {},
   "outputs": [
    {
     "data": {
      "text/plain": [
       "20    0.0\n",
       "21    NaN\n",
       "22    0.0\n",
       "23    5.0\n",
       "24    NaN\n",
       "Name: (e14_2m3, e14_2m3_201118, peak, 0, 1.0, 2, 0), dtype: float64"
      ]
     },
     "execution_count": 26,
     "metadata": {},
     "output_type": "execute_result"
    }
   ],
   "source": [
    "pf_params_recombined_all.loc[(ani,sess,'peak',ti,tt,uid,field_index),trial_index-2:trial_index+2]"
   ]
  },
  {
   "cell_type": "code",
   "execution_count": 23,
   "id": "214045ee",
   "metadata": {},
   "outputs": [
    {
     "data": {
      "text/plain": [
       "0"
      ]
     },
     "execution_count": 23,
     "metadata": {},
     "output_type": "execute_result"
    }
   ],
   "source": [
    "field_index"
   ]
  },
  {
   "cell_type": "code",
   "execution_count": 18,
   "id": "b899a5bc",
   "metadata": {},
   "outputs": [
    {
     "data": {
      "text/plain": [
       "('e14_2m3', 'e14_2m3_201118', 0, 24)"
      ]
     },
     "execution_count": 18,
     "metadata": {},
     "output_type": "execute_result"
    }
   ],
   "source": [
    "ind"
   ]
  },
  {
   "cell_type": "code",
   "execution_count": 20,
   "id": "17de2424",
   "metadata": {},
   "outputs": [
    {
     "data": {
      "text/plain": [
       "22"
      ]
     },
     "execution_count": 20,
     "metadata": {},
     "output_type": "execute_result"
    }
   ],
   "source": [
    "row['trial_index']"
   ]
  },
  {
   "cell_type": "code",
   "execution_count": null,
   "id": "c420799b",
   "metadata": {},
   "outputs": [],
   "source": [
    "pf_params_recombined_all"
   ]
  },
  {
   "cell_type": "code",
   "execution_count": null,
   "id": "4cbaa2c1",
   "metadata": {},
   "outputs": [],
   "source": []
  },
  {
   "cell_type": "code",
   "execution_count": null,
   "id": "2edb0057",
   "metadata": {},
   "outputs": [],
   "source": []
  },
  {
   "cell_type": "code",
   "execution_count": null,
   "id": "b134ffac",
   "metadata": {},
   "outputs": [],
   "source": []
  },
  {
   "cell_type": "code",
   "execution_count": 11,
   "id": "2845a4d1",
   "metadata": {},
   "outputs": [
    {
     "name": "stderr",
     "output_type": "stream",
     "text": [
      "/tmp/ipykernel_3127482/3757278894.py:6: PerformanceWarning: indexing past lexsort depth may impact performance.\n",
      "  all_sw_onesess=all_sw_with_metrics_d_all.loc[ani,sess,ti]\n"
     ]
    }
   ],
   "source": [
    "row = subdb.iloc[0]\n",
    "data_dir_full = row['data_dir_full']\n",
    "sess_name=row['sess_name']\n",
    "\n",
    "ani,sess,ti = row['animal_name.1'],row['sess_name'],0\n",
    "all_sw_onesess=all_sw_with_metrics_d_all.loc[ani,sess,ti]"
   ]
  },
  {
   "cell_type": "code",
   "execution_count": 12,
   "id": "40110f34",
   "metadata": {},
   "outputs": [],
   "source": [
    "prep_res = dpp.load_spk_beh_df(data_dir_full,force_reload=False,extra_load={})\n",
    "# prep_res = dpp.load_spk_beh_df(data_dir_full,force_reload=True,extra_load=dict(sessionPulses='*SessionPulses.Events.mat',filtered='*thetaFiltered.lfp.mat'))\n",
    "spk_beh_df=prep_res['spk_beh_df']\n",
    "_,spk_beh_df = dpp.group_into_trialtype(spk_beh_df)\n",
    "# spk_beh_df,_=dpp.add_lin_binned(spk_beh_df,nbins=100)\n",
    "spk_beh_df,_=dpp.add_lin_binned(spk_beh_df,bin_size=2.2,nbins=None)\n",
    "cell_cols_d = prep_res['cell_cols_d']\n",
    "beh_df = prep_res['beh_df']\n",
    "beh_df_d,beh_df=dpp.group_into_trialtype(beh_df)\n",
    "spike_trains = prep_res['spike_trains']\n"
   ]
  },
  {
   "cell_type": "code",
   "execution_count": 94,
   "id": "eb6f06e9",
   "metadata": {},
   "outputs": [],
   "source": [
    "# one example ratemap\n",
    "# sub=all_sw_onesess.query('switch==1&pre_mean_fr_all_norm<0.3&uid==150')\n",
    "sub=all_sw_onesess.query('switch==1&pre_mean_fr_all_norm<0.3')\n",
    "# row=sub.iloc[2]\n",
    "row=sub.iloc[3]\n",
    "sw_id=row.name\n",
    "tt,uid,field_index,index_within,trial_index=row['trialtype'],row['uid'],row['field_index'],row['index_within'],row['trial_index']"
   ]
  },
  {
   "cell_type": "code",
   "execution_count": 95,
   "id": "b77ae9cb",
   "metadata": {},
   "outputs": [
    {
     "name": "stderr",
     "output_type": "stream",
     "text": [
      "/tmp/ipykernel_3127482/662056429.py:5: PerformanceWarning: indexing past lexsort depth may impact performance.\n",
      "  frmap_one=fr_map_trial_df_pyr_combined_all.loc[(ani,sess,0,tt_plot,uid),:].dropna(axis=1)\n",
      "/mnt/home/szheng/projects/util_code/plot_helper.py:626: UserWarning: FixedFormatter should only be used together with FixedLocator\n",
      "  ax.set_xticklabels(x_tick_labels, rotation=0)\n"
     ]
    },
    {
     "data": {
      "text/plain": [
       "Text(0.5, 1.0, 'e13_26m1_210913\\nNeuron 455, Turn 1')"
      ]
     },
     "execution_count": 95,
     "metadata": {},
     "output_type": "execute_result"
    },
    {
     "data": {
      "image/png": "[encoded data removed]",
      "text/plain": [
       "<Figure size 144x96 with 2 Axes>"
      ]
     },
     "metadata": {
      "needs_background": "light"
     },
     "output_type": "display_data"
    }
   ],
   "source": [
    "trial_index_to_index_within_df_one=trial_index_to_index_within_df_all[ani,sess].loc[ti]\n",
    "row=trial_index_to_index_within_df_one.loc[trial_index_to_index_within_df_one.index.get_level_values(1)==trial_index]\n",
    "tt_plot=row.index[0][0]\n",
    "\n",
    "frmap_one=fr_map_trial_df_pyr_combined_all.loc[(ani,sess,0,tt_plot,uid),:].dropna(axis=1)\n",
    "\n",
    "st,ed=all_fields_recombined_all.loc[(ani,sess,ti,tt,uid,field_index),['start','end']]\n",
    "\n",
    "### ratemap example\n",
    "fig,ax=plt.subplots(figsize=(2,4/3))\n",
    "fig,ax=ph.ratemap_one_raw(frmap_one.T,trial=index_within,field_bound=(st,ed),fig=fig,ax=ax)\n",
    "ax.set_xticks([])\n",
    "ax.set_ylabel('Trial')\n",
    "ax.set_title(f'{sess}\\nNeuron {uid}, Turn {int(tt_plot)}')\n",
    "# figfn = f'ratemap_ex_{sess}_{int(ti)}_{int(tt_plot)}_{int(uid)}_{int(field_index)}_swind{int(sw_id)}'\n",
    "# ph.save_given_name(fig,figfn,figdir=figdir)"
   ]
  },
  {
   "cell_type": "code",
   "execution_count": 96,
   "id": "f83491cd",
   "metadata": {},
   "outputs": [],
   "source": [
    "\n",
    "intvl=nap.IntervalSet(start=spk_beh_df['time'].iloc[0],end=spk_beh_df['time'].iloc[-1])\n"
   ]
  },
  {
   "cell_type": "code",
   "execution_count": 97,
   "id": "02a910a8",
   "metadata": {},
   "outputs": [
    {
     "data": {
      "image/png": "[encoded data removed]",
      "text/plain": [
       "<Figure size 432x288 with 1 Axes>"
      ]
     },
     "metadata": {
      "needs_background": "light"
     },
     "output_type": "display_data"
    }
   ],
   "source": [
    "spktrain_one=spike_trains[uid].restrict(intvl)\n",
    "isi_one=np.diff(spktrain_one.index)\n",
    "logbin = np.logspace(np.log10(1e-3),np.log10(100),40)\n",
    "plt.hist(isi_one,logbin)\n",
    "plt.xscale('log')"
   ]
  },
  {
   "cell_type": "code",
   "execution_count": 98,
   "id": "f2081385",
   "metadata": {},
   "outputs": [],
   "source": [
    "def get_intvl_given_trial_space(spk_beh_df,tr,field_st=None,field_ed=None,ti=0):\n",
    "    ma_str='task_index==@ti&trial==@tr'\n",
    "    if field_ed is not None:\n",
    "        ma_str+='&lin_binned<=@field_ed'\n",
    "    if field_st is not None:\n",
    "        ma_str+='&lin_binned>=@field_st'\n",
    "    time_sel = spk_beh_df.query(ma_str)['time']\n",
    "    time_st,time_ed=time_sel.iloc[0],time_sel.iloc[-1]\n",
    "    intvl=nap.IntervalSet(start=time_st,end=time_ed)\n",
    "    return intvl"
   ]
  },
  {
   "cell_type": "code",
   "execution_count": 99,
   "id": "7a8ca39f",
   "metadata": {},
   "outputs": [],
   "source": [
    "f_st,f_ed=all_fields_recombined_all.loc[ani,sess,ti,tt,uid,field_index][['start','end']]"
   ]
  },
  {
   "cell_type": "code",
   "execution_count": 100,
   "id": "72077a51",
   "metadata": {
    "scrolled": true
   },
   "outputs": [],
   "source": [
    "intvl = get_intvl_given_trial_space(spk_beh_df,tr=trial_index,field_st=f_st,field_ed=f_ed)"
   ]
  },
  {
   "cell_type": "code",
   "execution_count": 101,
   "id": "b670629c",
   "metadata": {},
   "outputs": [],
   "source": [
    "intvl = get_intvl_given_trial_space(spk_beh_df,tr=trial_index+1,field_st=f_st,field_ed=f_ed)"
   ]
  },
  {
   "cell_type": "code",
   "execution_count": 118,
   "id": "d78bc99a",
   "metadata": {},
   "outputs": [],
   "source": [
    "tr_l=index_within_to_trial_index_df_all[ani,sess].loc[ti,tt].values"
   ]
  },
  {
   "cell_type": "code",
   "execution_count": 120,
   "id": "f6f89e46",
   "metadata": {},
   "outputs": [
    {
     "data": {
      "text/plain": [
       "array([ 0,  2,  4,  5,  7,  9, 11, 13, 15, 17, 19, 21, 22, 24, 26, 28, 30,\n",
       "       32, 34, 36, 38, 40, 42, 44, 46, 48, 50, 52, 54, 56, 58, 60, 62, 64,\n",
       "       66, 67, 69])"
      ]
     },
     "execution_count": 120,
     "metadata": {},
     "output_type": "execute_result"
    }
   ],
   "source": [
    "tr_l"
   ]
  },
  {
   "cell_type": "code",
   "execution_count": 121,
   "id": "62bc616a",
   "metadata": {
    "scrolled": true
   },
   "outputs": [],
   "source": [
    "tr_l=tr_l[tr_l>trial_index]"
   ]
  },
  {
   "cell_type": "code",
   "execution_count": 103,
   "id": "139eb60b",
   "metadata": {},
   "outputs": [
    {
     "data": {
      "image/png": "[encoded data removed]",
      "text/plain": [
       "<Figure size 432x288 with 1 Axes>"
      ]
     },
     "metadata": {
      "needs_background": "light"
     },
     "output_type": "display_data"
    }
   ],
   "source": [
    "intvl = get_intvl_given_trial_space(spk_beh_df,tr=trial_index,field_st=f_st,field_ed=f_ed)\n",
    "isi_formation_trial=np.diff(spktrain_one.restrict(intvl).index)\n",
    "logbin = np.logspace(np.log10(1e-3),np.log10(100),40)\n",
    "plt.hist(isi_formation_trial,logbin)\n",
    "plt.xscale('log')"
   ]
  },
  {
   "cell_type": "code",
   "execution_count": 104,
   "id": "8bbe0123",
   "metadata": {},
   "outputs": [
    {
     "data": {
      "text/plain": [
       "array([0.10153333, 0.0106    , 0.0767    , 0.01056667, 0.4492    ])"
      ]
     },
     "execution_count": 104,
     "metadata": {},
     "output_type": "execute_result"
    }
   ],
   "source": [
    "isi_formation_trial"
   ]
  },
  {
   "cell_type": "code",
   "execution_count": 122,
   "id": "3c8319e5",
   "metadata": {},
   "outputs": [
    {
     "data": {
      "image/png": "[encoded data removed]",
      "text/plain": [
       "<Figure size 432x288 with 1 Axes>"
      ]
     },
     "metadata": {
      "needs_background": "light"
     },
     "output_type": "display_data"
    }
   ],
   "source": [
    "isi_another_trial_l = []\n",
    "for tr in tr_l:\n",
    "    intvl = get_intvl_given_trial_space(spk_beh_df,tr=tr,field_st=f_st,field_ed=f_ed)\n",
    "    isi_another_trial=np.diff(spktrain_one.restrict(intvl).index)\n",
    "    isi_another_trial_l.append(isi_another_trial)\n",
    "isi_another_trial_l = np.concatenate(isi_another_trial_l)\n",
    "logbin = np.logspace(np.log10(1e-3),np.log10(100),40)\n",
    "plt.hist(isi_another_trial_l,logbin)\n",
    "plt.xscale('log')"
   ]
  },
  {
   "cell_type": "code",
   "execution_count": null,
   "id": "09f22f0e",
   "metadata": {},
   "outputs": [],
   "source": []
  }
 ],
 "metadata": {
  "kernelspec": {
   "display_name": "jax",
   "language": "python",
   "name": "jax"
  },
  "language_info": {
   "codemirror_mode": {
    "name": "ipython",
    "version": 3
   },
   "file_extension": ".py",
   "mimetype": "text/x-python",
   "name": "python",
   "nbconvert_exporter": "python",
   "pygments_lexer": "ipython3",
   "version": "3.9.16"
  }
 },
 "nbformat": 4,
 "nbformat_minor": 5
}
