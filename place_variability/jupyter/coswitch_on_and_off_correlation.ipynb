{
 "cells": [
  {
   "cell_type": "code",
   "execution_count": 1,
   "id": "f91baf5e",
   "metadata": {},
   "outputs": [
    {
     "name": "stdout",
     "output_type": "stream",
     "text": [
      "67 sessions!\n",
      "67 sessions!\n",
      "<module 'sys' (built-in)>\n"
     ]
    }
   ],
   "source": [
    "import numpy as np\n",
    "import scipy\n",
    "from scipy.ndimage import gaussian_filter1d\n",
    "import sklearn\n",
    "from sklearn.decomposition import NMF\n",
    "from sklearn.cluster import KMeans\n",
    "from sklearn.mixture import GaussianMixture,BayesianGaussianMixture\n",
    "\n",
    "import pandas as pd\n",
    "\n",
    "import matplotlib.pyplot as plt\n",
    "import matplotlib as mpl\n",
    "\n",
    "import seaborn as sns\n",
    "\n",
    "import sys,os,pdb,copy,pickle\n",
    "from importlib import reload\n",
    "import pynapple as nap\n",
    "\n",
    "sys.path.append('/mnt/home/szheng/projects/seq_detection2/code')\n",
    "sys.path.append('/mnt/home/szheng/projects/util_code')\n",
    "sys.path.append('/mnt/home/szheng/projects/nmf_analysis')\n",
    "sys.path.append('/mnt/home/szheng/projects/nmf_analysis/scripts')\n",
    "sys.path.append('/mnt/home/szheng/projects/cluster_spikes')\n",
    "import data_prep_new as dpn\n",
    "import place_cell_analysis as pa\n",
    "import plot_helper as ph\n",
    "import preprocess as prep\n",
    "import nmf_analysis as na\n",
    "import nmf_plot as nmfp\n",
    "reload(na)\n",
    "\n",
    "import raster_new as rn\n",
    "import data_prep_pyn as dpp\n",
    "import database\n",
    "db = database.db\n",
    "\n",
    "import change_point_analysis as cpa\n",
    "import change_point_plot as cpp\n",
    "import change_point_post_analysis as cppa\n",
    "import place_field_analysis as pf\n",
    "import pingouin as pg\n",
    "import trial_correlates as tc\n",
    "import tqdm\n",
    "import misc\n",
    "\n",
    "import switch_analysis_one_session as saos\n",
    "reload(saos)\n",
    "\n",
    "reload(misc)\n",
    "import nmf_sweep_error as nse\n",
    "from collections import OrderedDict"
   ]
  },
  {
   "cell_type": "code",
   "execution_count": 2,
   "id": "e7af85d3",
   "metadata": {},
   "outputs": [],
   "source": [
    "figdir = '/mnt/home/szheng/ceph/place_variability/fig/cosyne'\n",
    "\n",
    "db_sorted = db.query('owner==\"roman\"').sort_values('n_pyr_putative',ascending=False)\n",
    "data_dir_full = db_sorted['data_dir_full'][0]"
   ]
  },
  {
   "cell_type": "code",
   "execution_count": 254,
   "id": "c6decb44",
   "metadata": {},
   "outputs": [
    {
     "data": {
      "text/plain": [
       "4.0"
      ]
     },
     "execution_count": 254,
     "metadata": {},
     "output_type": "execute_result"
    }
   ],
   "source": [
    "sess_selected.groupby(level=0).count().median()"
   ]
  },
  {
   "cell_type": "code",
   "execution_count": 3,
   "id": "1e3dd34e",
   "metadata": {},
   "outputs": [
    {
     "name": "stderr",
     "output_type": "stream",
     "text": [
      "/mnt/home/szheng/projects/nmf_analysis/change_point_post_analysis.py:37: FutureWarning: The behavior of indexing on a MultiIndex with a nested sequence of labels is deprecated and will change in a future version. `series.loc[label, sequence]` will raise if any members of 'sequence' or not present in the index's second level. To retain the old behavior, use `series.index.isin(sequence, level=1)`\n",
      "  switch_detection_res_allsess[detection][key] = switch_detection_res_allsess[detection][key].loc[(slice(None),sess_selected.values),:]\n",
      "/mnt/home/szheng/projects/nmf_analysis/change_point_post_analysis.py:37: FutureWarning: The behavior of indexing on a MultiIndex with a nested sequence of labels is deprecated and will change in a future version. `series.loc[label, sequence]` will raise if any members of 'sequence' or not present in the index's second level. To retain the old behavior, use `series.index.isin(sequence, level=1)`\n",
      "  switch_detection_res_allsess[detection][key] = switch_detection_res_allsess[detection][key].loc[(slice(None),sess_selected.values),:]\n",
      "/mnt/home/szheng/projects/nmf_analysis/change_point_post_analysis.py:37: FutureWarning: The behavior of indexing on a MultiIndex with a nested sequence of labels is deprecated and will change in a future version. `series.loc[label, sequence]` will raise if any members of 'sequence' or not present in the index's second level. To retain the old behavior, use `series.index.isin(sequence, level=1)`\n",
      "  switch_detection_res_allsess[detection][key] = switch_detection_res_allsess[detection][key].loc[(slice(None),sess_selected.values),:]\n",
      "/mnt/home/szheng/projects/nmf_analysis/change_point_post_analysis.py:37: FutureWarning: The behavior of indexing on a MultiIndex with a nested sequence of labels is deprecated and will change in a future version. `series.loc[label, sequence]` will raise if any members of 'sequence' or not present in the index's second level. To retain the old behavior, use `series.index.isin(sequence, level=1)`\n",
      "  switch_detection_res_allsess[detection][key] = switch_detection_res_allsess[detection][key].loc[(slice(None),sess_selected.values),:]\n",
      "/mnt/home/szheng/projects/nmf_analysis/change_point_post_analysis.py:37: FutureWarning: The behavior of indexing on a MultiIndex with a nested sequence of labels is deprecated and will change in a future version. `series.loc[label, sequence]` will raise if any members of 'sequence' or not present in the index's second level. To retain the old behavior, use `series.index.isin(sequence, level=1)`\n",
      "  switch_detection_res_allsess[detection][key] = switch_detection_res_allsess[detection][key].loc[(slice(None),sess_selected.values),:]\n",
      "/mnt/home/szheng/projects/nmf_analysis/change_point_post_analysis.py:37: FutureWarning: The behavior of indexing on a MultiIndex with a nested sequence of labels is deprecated and will change in a future version. `series.loc[label, sequence]` will raise if any members of 'sequence' or not present in the index's second level. To retain the old behavior, use `series.index.isin(sequence, level=1)`\n",
      "  switch_detection_res_allsess[detection][key] = switch_detection_res_allsess[detection][key].loc[(slice(None),sess_selected.values),:]\n"
     ]
    }
   ],
   "source": [
    "res_to_save_data_detection_l=pickle.load(open(os.path.join('/mnt/home/szheng/ceph/place_variability/data','switch_res_allromsess_highrepeats_swmag0dot4.p'),'rb'))\n",
    "plt.close('all')\n",
    "sess_selected = db_sorted.loc[db_sorted['n_pyr_putative'] >= 50,'sess_name']\n",
    "switch_detection_res_allsess = cppa.reshape_switch_detection_result_all_sess(res_to_save_data_detection_l,sess_selected)\n",
    "\n",
    "# switch_detection_res_allsess = saos.load_switch_analysis_res_allsess(save_fn_one='shuffle_detection_vthresh_switch_res_switch_magnitude_only_fr_mean_highrepeats.p'\n",
    "#     ,force_reload=False,dosave=True,load_only=False,n_pyr_thresh=50)\n",
    "\n",
    "\n",
    "\n"
   ]
  },
  {
   "cell_type": "code",
   "execution_count": 218,
   "id": "229e483f",
   "metadata": {},
   "outputs": [
    {
     "data": {
      "text/html": [
       "<div>\n",
       "<style scoped>\n",
       "    .dataframe tbody tr th:only-of-type {\n",
       "        vertical-align: middle;\n",
       "    }\n",
       "\n",
       "    .dataframe tbody tr th {\n",
       "        vertical-align: top;\n",
       "    }\n",
       "\n",
       "    .dataframe thead th {\n",
       "        text-align: right;\n",
       "    }\n",
       "</style>\n",
       "<table border=\"1\" class=\"dataframe\">\n",
       "  <thead>\n",
       "    <tr style=\"text-align: right;\">\n",
       "      <th></th>\n",
       "      <th></th>\n",
       "      <th></th>\n",
       "      <th></th>\n",
       "      <th></th>\n",
       "      <th></th>\n",
       "      <th></th>\n",
       "      <th>0</th>\n",
       "      <th>1</th>\n",
       "      <th>2</th>\n",
       "      <th>3</th>\n",
       "      <th>4</th>\n",
       "      <th>5</th>\n",
       "      <th>6</th>\n",
       "      <th>7</th>\n",
       "      <th>8</th>\n",
       "      <th>9</th>\n",
       "      <th>...</th>\n",
       "      <th>27</th>\n",
       "      <th>28</th>\n",
       "      <th>29</th>\n",
       "      <th>30</th>\n",
       "      <th>31</th>\n",
       "      <th>32</th>\n",
       "      <th>33</th>\n",
       "      <th>34</th>\n",
       "      <th>35</th>\n",
       "      <th>36</th>\n",
       "    </tr>\n",
       "  </thead>\n",
       "  <tbody>\n",
       "    <tr>\n",
       "      <th rowspan=\"11\" valign=\"top\">0</th>\n",
       "      <th rowspan=\"5\" valign=\"top\">0</th>\n",
       "      <th rowspan=\"5\" valign=\"top\">raw</th>\n",
       "      <th rowspan=\"5\" valign=\"top\">switch_magnitude</th>\n",
       "      <th rowspan=\"5\" valign=\"top\">0.4</th>\n",
       "      <th>3</th>\n",
       "      <th>0</th>\n",
       "      <td>0</td>\n",
       "      <td>1</td>\n",
       "      <td>0</td>\n",
       "      <td>0</td>\n",
       "      <td>0</td>\n",
       "      <td>0</td>\n",
       "      <td>0</td>\n",
       "      <td>0</td>\n",
       "      <td>0</td>\n",
       "      <td>0</td>\n",
       "      <td>...</td>\n",
       "      <td>0</td>\n",
       "      <td>0</td>\n",
       "      <td>0</td>\n",
       "      <td>0</td>\n",
       "      <td>0</td>\n",
       "      <td>0</td>\n",
       "      <td>NaN</td>\n",
       "      <td>NaN</td>\n",
       "      <td>NaN</td>\n",
       "      <td>NaN</td>\n",
       "    </tr>\n",
       "    <tr>\n",
       "      <th>27</th>\n",
       "      <th>0</th>\n",
       "      <td>0</td>\n",
       "      <td>0</td>\n",
       "      <td>0</td>\n",
       "      <td>0</td>\n",
       "      <td>0</td>\n",
       "      <td>0</td>\n",
       "      <td>0</td>\n",
       "      <td>0</td>\n",
       "      <td>0</td>\n",
       "      <td>0</td>\n",
       "      <td>...</td>\n",
       "      <td>0</td>\n",
       "      <td>0</td>\n",
       "      <td>0</td>\n",
       "      <td>0</td>\n",
       "      <td>0</td>\n",
       "      <td>0</td>\n",
       "      <td>NaN</td>\n",
       "      <td>NaN</td>\n",
       "      <td>NaN</td>\n",
       "      <td>NaN</td>\n",
       "    </tr>\n",
       "    <tr>\n",
       "      <th rowspan=\"3\" valign=\"top\">29</th>\n",
       "      <th>0</th>\n",
       "      <td>0</td>\n",
       "      <td>0</td>\n",
       "      <td>0</td>\n",
       "      <td>0</td>\n",
       "      <td>0</td>\n",
       "      <td>1</td>\n",
       "      <td>0</td>\n",
       "      <td>0</td>\n",
       "      <td>0</td>\n",
       "      <td>0</td>\n",
       "      <td>...</td>\n",
       "      <td>0</td>\n",
       "      <td>0</td>\n",
       "      <td>0</td>\n",
       "      <td>0</td>\n",
       "      <td>0</td>\n",
       "      <td>0</td>\n",
       "      <td>NaN</td>\n",
       "      <td>NaN</td>\n",
       "      <td>NaN</td>\n",
       "      <td>NaN</td>\n",
       "    </tr>\n",
       "    <tr>\n",
       "      <th>1</th>\n",
       "      <td>0</td>\n",
       "      <td>0</td>\n",
       "      <td>1</td>\n",
       "      <td>0</td>\n",
       "      <td>-1</td>\n",
       "      <td>0</td>\n",
       "      <td>0</td>\n",
       "      <td>0</td>\n",
       "      <td>0</td>\n",
       "      <td>0</td>\n",
       "      <td>...</td>\n",
       "      <td>0</td>\n",
       "      <td>0</td>\n",
       "      <td>0</td>\n",
       "      <td>0</td>\n",
       "      <td>0</td>\n",
       "      <td>0</td>\n",
       "      <td>NaN</td>\n",
       "      <td>NaN</td>\n",
       "      <td>NaN</td>\n",
       "      <td>NaN</td>\n",
       "    </tr>\n",
       "    <tr>\n",
       "      <th>2</th>\n",
       "      <td>0</td>\n",
       "      <td>1</td>\n",
       "      <td>0</td>\n",
       "      <td>0</td>\n",
       "      <td>0</td>\n",
       "      <td>0</td>\n",
       "      <td>0</td>\n",
       "      <td>0</td>\n",
       "      <td>0</td>\n",
       "      <td>0</td>\n",
       "      <td>...</td>\n",
       "      <td>0</td>\n",
       "      <td>0</td>\n",
       "      <td>0</td>\n",
       "      <td>0</td>\n",
       "      <td>0</td>\n",
       "      <td>0</td>\n",
       "      <td>NaN</td>\n",
       "      <td>NaN</td>\n",
       "      <td>NaN</td>\n",
       "      <td>NaN</td>\n",
       "    </tr>\n",
       "    <tr>\n",
       "      <th>...</th>\n",
       "      <th>...</th>\n",
       "      <th>...</th>\n",
       "      <th>...</th>\n",
       "      <th>...</th>\n",
       "      <th>...</th>\n",
       "      <td>...</td>\n",
       "      <td>...</td>\n",
       "      <td>...</td>\n",
       "      <td>...</td>\n",
       "      <td>...</td>\n",
       "      <td>...</td>\n",
       "      <td>...</td>\n",
       "      <td>...</td>\n",
       "      <td>...</td>\n",
       "      <td>...</td>\n",
       "      <td>...</td>\n",
       "      <td>...</td>\n",
       "      <td>...</td>\n",
       "      <td>...</td>\n",
       "      <td>...</td>\n",
       "      <td>...</td>\n",
       "      <td>...</td>\n",
       "      <td>...</td>\n",
       "      <td>...</td>\n",
       "      <td>...</td>\n",
       "      <td>...</td>\n",
       "    </tr>\n",
       "    <tr>\n",
       "      <th rowspan=\"5\" valign=\"top\">1</th>\n",
       "      <th rowspan=\"5\" valign=\"top\">0.3</th>\n",
       "      <th rowspan=\"5\" valign=\"top\">switch_magnitude</th>\n",
       "      <th rowspan=\"5\" valign=\"top\">0.4</th>\n",
       "      <th>468</th>\n",
       "      <th>0</th>\n",
       "      <td>0</td>\n",
       "      <td>0</td>\n",
       "      <td>0</td>\n",
       "      <td>0</td>\n",
       "      <td>0</td>\n",
       "      <td>0</td>\n",
       "      <td>0</td>\n",
       "      <td>1</td>\n",
       "      <td>0</td>\n",
       "      <td>-1</td>\n",
       "      <td>...</td>\n",
       "      <td>0</td>\n",
       "      <td>0</td>\n",
       "      <td>0</td>\n",
       "      <td>0</td>\n",
       "      <td>0</td>\n",
       "      <td>0</td>\n",
       "      <td>0.0</td>\n",
       "      <td>0.0</td>\n",
       "      <td>0.0</td>\n",
       "      <td>0.0</td>\n",
       "    </tr>\n",
       "    <tr>\n",
       "      <th rowspan=\"2\" valign=\"top\">474</th>\n",
       "      <th>0</th>\n",
       "      <td>0</td>\n",
       "      <td>0</td>\n",
       "      <td>0</td>\n",
       "      <td>0</td>\n",
       "      <td>0</td>\n",
       "      <td>0</td>\n",
       "      <td>0</td>\n",
       "      <td>0</td>\n",
       "      <td>0</td>\n",
       "      <td>0</td>\n",
       "      <td>...</td>\n",
       "      <td>0</td>\n",
       "      <td>0</td>\n",
       "      <td>0</td>\n",
       "      <td>0</td>\n",
       "      <td>0</td>\n",
       "      <td>0</td>\n",
       "      <td>0.0</td>\n",
       "      <td>0.0</td>\n",
       "      <td>0.0</td>\n",
       "      <td>0.0</td>\n",
       "    </tr>\n",
       "    <tr>\n",
       "      <th>1</th>\n",
       "      <td>0</td>\n",
       "      <td>0</td>\n",
       "      <td>0</td>\n",
       "      <td>0</td>\n",
       "      <td>0</td>\n",
       "      <td>0</td>\n",
       "      <td>0</td>\n",
       "      <td>0</td>\n",
       "      <td>0</td>\n",
       "      <td>0</td>\n",
       "      <td>...</td>\n",
       "      <td>0</td>\n",
       "      <td>0</td>\n",
       "      <td>0</td>\n",
       "      <td>0</td>\n",
       "      <td>0</td>\n",
       "      <td>0</td>\n",
       "      <td>0.0</td>\n",
       "      <td>0.0</td>\n",
       "      <td>0.0</td>\n",
       "      <td>0.0</td>\n",
       "    </tr>\n",
       "    <tr>\n",
       "      <th>475</th>\n",
       "      <th>0</th>\n",
       "      <td>0</td>\n",
       "      <td>0</td>\n",
       "      <td>0</td>\n",
       "      <td>0</td>\n",
       "      <td>0</td>\n",
       "      <td>0</td>\n",
       "      <td>0</td>\n",
       "      <td>0</td>\n",
       "      <td>0</td>\n",
       "      <td>0</td>\n",
       "      <td>...</td>\n",
       "      <td>0</td>\n",
       "      <td>0</td>\n",
       "      <td>0</td>\n",
       "      <td>0</td>\n",
       "      <td>0</td>\n",
       "      <td>0</td>\n",
       "      <td>0.0</td>\n",
       "      <td>0.0</td>\n",
       "      <td>0.0</td>\n",
       "      <td>0.0</td>\n",
       "    </tr>\n",
       "    <tr>\n",
       "      <th>476</th>\n",
       "      <th>0</th>\n",
       "      <td>0</td>\n",
       "      <td>0</td>\n",
       "      <td>0</td>\n",
       "      <td>-1</td>\n",
       "      <td>0</td>\n",
       "      <td>0</td>\n",
       "      <td>0</td>\n",
       "      <td>0</td>\n",
       "      <td>0</td>\n",
       "      <td>0</td>\n",
       "      <td>...</td>\n",
       "      <td>0</td>\n",
       "      <td>0</td>\n",
       "      <td>0</td>\n",
       "      <td>0</td>\n",
       "      <td>0</td>\n",
       "      <td>0</td>\n",
       "      <td>0.0</td>\n",
       "      <td>0.0</td>\n",
       "      <td>0.0</td>\n",
       "      <td>0.0</td>\n",
       "    </tr>\n",
       "  </tbody>\n",
       "</table>\n",
       "<p>1524 rows × 37 columns</p>\n",
       "</div>"
      ],
      "text/plain": [
       "                                    0   1   2   3   4   5   6   7   8   9   \\\n",
       "0 0 raw switch_magnitude 0.4 3   0   0   1   0   0   0   0   0   0   0   0   \n",
       "                             27  0   0   0   0   0   0   0   0   0   0   0   \n",
       "                             29  0   0   0   0   0   0   1   0   0   0   0   \n",
       "                                 1   0   0   1   0  -1   0   0   0   0   0   \n",
       "                                 2   0   1   0   0   0   0   0   0   0   0   \n",
       "...                                 ..  ..  ..  ..  ..  ..  ..  ..  ..  ..   \n",
       "  1 0.3 switch_magnitude 0.4 468 0   0   0   0   0   0   0   0   1   0  -1   \n",
       "                             474 0   0   0   0   0   0   0   0   0   0   0   \n",
       "                                 1   0   0   0   0   0   0   0   0   0   0   \n",
       "                             475 0   0   0   0   0   0   0   0   0   0   0   \n",
       "                             476 0   0   0   0  -1   0   0   0   0   0   0   \n",
       "\n",
       "                                    ...  27  28  29  30  31  32   33   34  \\\n",
       "0 0 raw switch_magnitude 0.4 3   0  ...   0   0   0   0   0   0  NaN  NaN   \n",
       "                             27  0  ...   0   0   0   0   0   0  NaN  NaN   \n",
       "                             29  0  ...   0   0   0   0   0   0  NaN  NaN   \n",
       "                                 1  ...   0   0   0   0   0   0  NaN  NaN   \n",
       "                                 2  ...   0   0   0   0   0   0  NaN  NaN   \n",
       "...                                 ...  ..  ..  ..  ..  ..  ..  ...  ...   \n",
       "  1 0.3 switch_magnitude 0.4 468 0  ...   0   0   0   0   0   0  0.0  0.0   \n",
       "                             474 0  ...   0   0   0   0   0   0  0.0  0.0   \n",
       "                                 1  ...   0   0   0   0   0   0  0.0  0.0   \n",
       "                             475 0  ...   0   0   0   0   0   0  0.0  0.0   \n",
       "                             476 0  ...   0   0   0   0   0   0  0.0  0.0   \n",
       "\n",
       "                                     35   36  \n",
       "0 0 raw switch_magnitude 0.4 3   0  NaN  NaN  \n",
       "                             27  0  NaN  NaN  \n",
       "                             29  0  NaN  NaN  \n",
       "                                 1  NaN  NaN  \n",
       "                                 2  NaN  NaN  \n",
       "...                                 ...  ...  \n",
       "  1 0.3 switch_magnitude 0.4 468 0  0.0  0.0  \n",
       "                             474 0  0.0  0.0  \n",
       "                                 1  0.0  0.0  \n",
       "                             475 0  0.0  0.0  \n",
       "                             476 0  0.0  0.0  \n",
       "\n",
       "[1524 rows x 37 columns]"
      ]
     },
     "execution_count": 218,
     "metadata": {},
     "output_type": "execute_result"
    }
   ],
   "source": [
    "sw_res_one['avg']['changes_df']"
   ]
  },
  {
   "cell_type": "code",
   "execution_count": 4,
   "id": "1b2ac974",
   "metadata": {},
   "outputs": [
    {
     "name": "stderr",
     "output_type": "stream",
     "text": [
      "  1%|▏         | 1/67 [00:00<00:20,  3.17it/s]"
     ]
    },
    {
     "name": "stdout",
     "output_type": "stream",
     "text": [
      "/mnt/home/szheng/ceph/ad/roman_data/e13/e13_26m1/e13_26m1_210913/py_data/place_field_avg_and_trial_vthresh.p exists; loading---\n",
      "/mnt/home/szheng/ceph/ad/roman_data/e15/e15_13f1/e15_13f1_220117/py_data/place_field_avg_and_trial_vthresh.p exists; loading---\n"
     ]
    },
    {
     "name": "stderr",
     "output_type": "stream",
     "text": [
      "  6%|▌         | 4/67 [00:00<00:10,  5.73it/s]"
     ]
    },
    {
     "name": "stdout",
     "output_type": "stream",
     "text": [
      "/mnt/home/szheng/ceph/ad/roman_data/e15/e15_13f1/e15_13f1_220118/py_data/place_field_avg_and_trial_vthresh.p exists; loading---\n",
      "/mnt/home/szheng/ceph/ad/roman_data/e15/e15_13f1/e15_13f1_220119/py_data/place_field_avg_and_trial_vthresh.p exists; loading---\n"
     ]
    },
    {
     "name": "stderr",
     "output_type": "stream",
     "text": [
      "  9%|▉         | 6/67 [00:00<00:08,  7.00it/s]"
     ]
    },
    {
     "name": "stdout",
     "output_type": "stream",
     "text": [
      "/mnt/home/szheng/ceph/ad/roman_data/e15/e15_13f1/e15_13f1_220120/py_data/place_field_avg_and_trial_vthresh.p exists; loading---\n",
      "/mnt/home/szheng/ceph/ad/roman_data/e13/e13_26m1/e13_26m1_211019/py_data/place_field_avg_and_trial_vthresh.p exists; loading---\n",
      "/mnt/home/szheng/ceph/ad/roman_data/e13/e13_16f1/e13_16f1_210328/py_data/place_field_avg_and_trial_vthresh.p exists; loading---\n"
     ]
    },
    {
     "name": "stderr",
     "output_type": "stream",
     "text": [
      "\r",
      " 12%|█▏        | 8/67 [00:01<00:06,  9.43it/s]"
     ]
    },
    {
     "name": "stdout",
     "output_type": "stream",
     "text": [
      "/mnt/home/szheng/ceph/ad/roman_data/e13/e13_26m1/e13_26m1_211116/py_data/place_field_avg_and_trial_vthresh.p exists; loading---\n"
     ]
    },
    {
     "name": "stderr",
     "output_type": "stream",
     "text": [
      " 16%|█▋        | 11/67 [00:01<00:08,  6.68it/s]"
     ]
    },
    {
     "name": "stdout",
     "output_type": "stream",
     "text": [
      "/mnt/home/szheng/ceph/ad/roman_data/e16/e16_3m2/e16_3m2_211213/py_data/place_field_avg_and_trial_vthresh.p exists; loading---\n",
      "/mnt/home/szheng/ceph/ad/roman_data/e16/e16_3m1/e16_3m1_210111/py_data/place_field_avg_and_trial_vthresh.p exists; loading---\n",
      "/mnt/home/szheng/ceph/ad/roman_data/e16/e16_3m2/e16_3m2_211212/py_data/place_field_avg_and_trial_vthresh.p exists; loading---\n"
     ]
    },
    {
     "name": "stderr",
     "output_type": "stream",
     "text": [
      " 22%|██▏       | 15/67 [00:01<00:04, 11.13it/s]"
     ]
    },
    {
     "name": "stdout",
     "output_type": "stream",
     "text": [
      "/mnt/home/szheng/ceph/ad/roman_data/e16/e16_3m2/e16_3m2_211211/py_data/place_field_avg_and_trial_vthresh.p exists; loading---\n",
      "/mnt/home/szheng/ceph/ad/roman_data/e16/e16_3m1/e16_3m1_210203/py_data/place_field_avg_and_trial_vthresh.p exists; loading---\n",
      "/mnt/home/szheng/ceph/ad/roman_data/e16/e16_3m2/e16_3m2_211210/py_data/place_field_avg_and_trial_vthresh.p exists; loading---\n"
     ]
    },
    {
     "name": "stderr",
     "output_type": "stream",
     "text": [
      "\r",
      " 25%|██▌       | 17/67 [00:02<00:04, 10.77it/s]"
     ]
    },
    {
     "name": "stdout",
     "output_type": "stream",
     "text": [
      "/mnt/home/szheng/ceph/ad/roman_data/e13/e13_26m1/e13_26m1_211119/py_data/place_field_avg_and_trial_vthresh.p exists; loading---\n",
      "/mnt/home/szheng/ceph/ad/roman_data/e13/e13_26m1/e13_26m1_211124/py_data/place_field_avg_and_trial_vthresh.p exists; loading---\n",
      "/mnt/home/szheng/ceph/ad/roman_data/e16/e16_3m1/e16_3m1_210201/py_data/place_field_avg_and_trial_vthresh.p exists; loading---\n"
     ]
    },
    {
     "name": "stderr",
     "output_type": "stream",
     "text": [
      " 33%|███▎      | 22/67 [00:02<00:03, 14.53it/s]"
     ]
    },
    {
     "name": "stdout",
     "output_type": "stream",
     "text": [
      "/mnt/home/szheng/ceph/ad/roman_data/e13/e13_16f1/e13_16f1_210331/py_data/place_field_avg_and_trial_vthresh.p exists; loading---\n",
      "/mnt/home/szheng/ceph/ad/roman_data/e16/e16_3m1/e16_3m1_210119/py_data/place_field_avg_and_trial_vthresh.p exists; loading---\n",
      "/mnt/home/szheng/ceph/ad/roman_data/e13/e13_16f1/e13_16f1_210302/py_data/place_field_avg_and_trial_vthresh.p exists; loading---\n"
     ]
    },
    {
     "name": "stderr",
     "output_type": "stream",
     "text": [
      " 39%|███▉      | 26/67 [00:02<00:03, 10.59it/s]"
     ]
    },
    {
     "name": "stdout",
     "output_type": "stream",
     "text": [
      "/mnt/home/szheng/ceph/ad/roman_data/e13/e13_16f1/e13_16f1_210317/py_data/place_field_avg_and_trial_vthresh.p exists; loading---\n",
      "/mnt/home/szheng/ceph/ad/roman_data/e13/e13_16f1/e13_16f1_210312/py_data/place_field_avg_and_trial_vthresh.p exists; loading---\n",
      "/mnt/home/szheng/ceph/ad/roman_data/e15/e15_9f1/e15_9f1_200809/py_data/place_field_avg_and_trial_vthresh.p exists; loading---\n",
      "/mnt/home/szheng/ceph/ad/roman_data/e15/e15_10m1/e15_10m1_200809/py_data/place_field_avg_and_trial_vthresh.p exists; loading---\n"
     ]
    },
    {
     "name": "stderr",
     "output_type": "stream",
     "text": [
      "\r",
      " 43%|████▎     | 29/67 [00:03<00:02, 12.76it/s]"
     ]
    },
    {
     "name": "stdout",
     "output_type": "stream",
     "text": [
      "/mnt/home/szheng/ceph/ad/roman_data/e15/e15_10m1/e15_10m1_200812/py_data/place_field_avg_and_trial_vthresh.p exists; loading---\n",
      "/mnt/home/szheng/ceph/ad/roman_data/e13/e13_16f1/e13_16f1_210314/py_data/place_field_avg_and_trial_vthresh.p exists; loading---\n",
      "/mnt/home/szheng/ceph/ad/roman_data/e15/e15_9f1/e15_9f1_200729/py_data/place_field_avg_and_trial_vthresh.p exists; loading---\n"
     ]
    },
    {
     "name": "stderr",
     "output_type": "stream",
     "text": [
      " 51%|█████     | 34/67 [00:03<00:02, 15.20it/s]"
     ]
    },
    {
     "name": "stdout",
     "output_type": "stream",
     "text": [
      "/mnt/home/szheng/ceph/ad/roman_data/e13/e13_16f1/e13_16f1_210319/py_data/place_field_avg_and_trial_vthresh.p exists; loading---\n",
      "/mnt/home/szheng/ceph/ad/roman_data/e13/e13_16f1/e13_16f1_210315/py_data/place_field_avg_and_trial_vthresh.p exists; loading---\n",
      "/mnt/home/szheng/ceph/ad/roman_data/e13/e13_16f1/e13_16f1_210322/py_data/place_field_avg_and_trial_vthresh.p exists; loading---\n",
      "/mnt/home/szheng/ceph/ad/roman_data/e16/e16_1f1/e16_1f1_201002/py_data/place_field_avg_and_trial_vthresh.p exists; loading---\n"
     ]
    },
    {
     "name": "stderr",
     "output_type": "stream",
     "text": [
      "\r",
      " 57%|█████▋    | 38/67 [00:03<00:01, 19.97it/s]"
     ]
    },
    {
     "name": "stdout",
     "output_type": "stream",
     "text": [
      "/mnt/home/szheng/ceph/ad/roman_data/e15/e15_10m1/e15_10m1_200723/py_data/place_field_avg_and_trial_vthresh.p exists; loading---\n",
      "/mnt/home/szheng/ceph/ad/roman_data/e16/e16_1f1/e16_1f1_201004/py_data/place_field_avg_and_trial_vthresh.p exists; loading---\n",
      "/mnt/home/szheng/ceph/ad/roman_data/e15/e15_10m1/e15_10m1_200716/py_data/place_field_avg_and_trial_vthresh.p exists; loading---\n"
     ]
    },
    {
     "name": "stderr",
     "output_type": "stream",
     "text": [
      "\r",
      " 61%|██████    | 41/67 [00:03<00:01, 18.03it/s]"
     ]
    },
    {
     "name": "stdout",
     "output_type": "stream",
     "text": [
      "/mnt/home/szheng/ceph/ad/roman_data/e16/e16_1f1/e16_1f1_200920/py_data/place_field_avg_and_trial_vthresh.p exists; loading---\n",
      "/mnt/home/szheng/ceph/ad/roman_data/e15/e15_9f1/e15_9f1_200723/py_data/place_field_avg_and_trial_vthresh.p exists; loading---\n",
      "/mnt/home/szheng/ceph/ad/roman_data/e14/e14_2m3/e14_2m3_201129/py_data/place_field_avg_and_trial_vthresh.p exists; loading---\n"
     ]
    },
    {
     "name": "stderr",
     "output_type": "stream",
     "text": [
      "\r",
      " 66%|██████▌   | 44/67 [00:04<00:02,  9.92it/s]"
     ]
    },
    {
     "name": "stdout",
     "output_type": "stream",
     "text": [
      "/mnt/home/szheng/ceph/ad/roman_data/e14/e14_2m3/e14_2m3_201125/py_data/place_field_avg_and_trial_vthresh.p exists; loading---\n",
      "/mnt/home/szheng/ceph/ad/roman_data/e16/e16_2m1/e16_2m1_201129/py_data/place_field_avg_and_trial_vthresh.p exists; loading---\n",
      "/mnt/home/szheng/ceph/ad/roman_data/e16/e16_2m1/e16_2m1_201206/py_data/place_field_avg_and_trial_vthresh.p exists; loading---\n",
      "/mnt/home/szheng/ceph/ad/roman_data/e16/e16_1f1/e16_1f1_200917/py_data/place_field_avg_and_trial_vthresh.p exists; loading---\n"
     ]
    },
    {
     "name": "stderr",
     "output_type": "stream",
     "text": [
      " 75%|███████▍  | 50/67 [00:04<00:01, 12.42it/s]"
     ]
    },
    {
     "name": "stdout",
     "output_type": "stream",
     "text": [
      "/mnt/home/szheng/ceph/ad/roman_data/e16/e16_1f1/e16_1f1_200918/py_data/place_field_avg_and_trial_vthresh.p exists; loading---\n",
      "/mnt/home/szheng/ceph/ad/roman_data/e16/e16_1f1/e16_1f1_200919/py_data/place_field_avg_and_trial_vthresh.p exists; loading---\n",
      "/mnt/home/szheng/ceph/ad/roman_data/e15/e15_10m1/e15_10m1_200719/py_data/place_field_avg_and_trial_vthresh.p exists; loading---\n",
      "/mnt/home/szheng/ceph/ad/roman_data/e14/e14_2m3/e14_2m3_201208/py_data/place_field_avg_and_trial_vthresh.p exists; loading---\n"
     ]
    },
    {
     "name": "stderr",
     "output_type": "stream",
     "text": [
      "\r",
      " 79%|███████▉  | 53/67 [00:04<00:00, 14.81it/s]"
     ]
    },
    {
     "name": "stdout",
     "output_type": "stream",
     "text": [
      "/mnt/home/szheng/ceph/ad/roman_data/e14/e14_2m3/e14_2m3_201206/py_data/place_field_avg_and_trial_vthresh.p exists; loading---\n",
      "/mnt/home/szheng/ceph/ad/roman_data/e16/e16_1f1/e16_1f1_200923/py_data/place_field_avg_and_trial_vthresh.p exists; loading---\n",
      "/mnt/home/szheng/ceph/ad/roman_data/e15/e15_9f1/e15_9f1_200720/py_data/place_field_avg_and_trial_vthresh.p exists; loading---\n"
     ]
    },
    {
     "name": "stderr",
     "output_type": "stream",
     "text": [
      " 87%|████████▋ | 58/67 [00:05<00:00, 17.11it/s]"
     ]
    },
    {
     "name": "stdout",
     "output_type": "stream",
     "text": [
      "/mnt/home/szheng/ceph/ad/roman_data/e16/e16_2m1/e16_2m1_201121/py_data/place_field_avg_and_trial_vthresh.p exists; loading---\n",
      "/mnt/home/szheng/ceph/ad/roman_data/e16/e16_1f1/e16_1f1_201001/py_data/place_field_avg_and_trial_vthresh.p exists; loading---\n",
      "/mnt/home/szheng/ceph/ad/roman_data/e15/e15_9f1/e15_9f1_200717/py_data/place_field_avg_and_trial_vthresh.p exists; loading---\n"
     ]
    },
    {
     "name": "stderr",
     "output_type": "stream",
     "text": [
      "100%|██████████| 67/67 [00:05<00:00, 11.91it/s]"
     ]
    },
    {
     "name": "stdout",
     "output_type": "stream",
     "text": [
      "/mnt/home/szheng/ceph/ad/roman_data/e15/e15_9f1/e15_9f1_200715/py_data/place_field_avg_and_trial_vthresh.p exists; loading---\n",
      "/mnt/home/szheng/ceph/ad/roman_data/e14/e14_2m3/e14_2m3_201121/py_data/place_field_avg_and_trial_vthresh.p exists; loading---\n",
      "/mnt/home/szheng/ceph/ad/roman_data/e16/e16_1f1/e16_1f1_200823/py_data/place_field_avg_and_trial_vthresh.p exists; loading---\n",
      "/mnt/home/szheng/ceph/ad/roman_data/e16/e16_1f1/e16_1f1_200824/py_data/place_field_avg_and_trial_vthresh.p exists; loading---\n",
      "CPU times: user 1.14 s, sys: 202 ms, total: 1.34 s\n",
      "Wall time: 5.64 s\n"
     ]
    },
    {
     "name": "stderr",
     "output_type": "stream",
     "text": [
      "\n"
     ]
    }
   ],
   "source": [
    "%%time\n",
    "reload(pf)\n",
    "place_field_res_l = OrderedDict()\n",
    "for ii in tqdm.tqdm(range(len(db_sorted['data_dir_full']))):\n",
    "    ddf = db_sorted['data_dir_full'][ii]\n",
    "    pf_res =pf.field_detection_both_avg_trial_wrapper(ddf, dosave=True,force_reload=False,nbins = 100, \n",
    "                                        save_fn = 'place_field_avg_and_trial_vthresh.p', \n",
    "                                        shuffle_fn='fr_map_null_trialtype_vthresh.p',\n",
    "                                        smth_in_bin=2.5, speed_thresh=1.,speed_key='v',load_only=True\n",
    "                                        )\n",
    "    ani = db_sorted.iloc[ii]['animal_name.1']\n",
    "    sess = db_sorted.iloc[ii]['sess_name']\n",
    "    place_field_res_l[ani,sess] = pf_res\n",
    "    "
   ]
  },
  {
   "cell_type": "code",
   "execution_count": null,
   "id": "d3a7d0ec",
   "metadata": {},
   "outputs": [],
   "source": [
    "import pairwise_shareonoff_test as pst\n"
   ]
  },
  {
   "cell_type": "code",
   "execution_count": 3,
   "id": "6f340d0f",
   "metadata": {},
   "outputs": [
    {
     "name": "stdout",
     "output_type": "stream",
     "text": [
      "67 sessions!\n"
     ]
    }
   ],
   "source": [
    "%%time\n",
    "reload(pf)\n",
    "pst_res_l = OrderedDict()\n",
    "pst_res_l_selected = OrderedDict()\n",
    "for ii in tqdm.tqdm(range(len(db_sorted['data_dir_full']))):\n",
    "    ddf = db_sorted['data_dir_full'][ii]\n",
    "#     pf_res =pf.field_detection_both_avg_trial_wrapper(ddf, dosave=True,force_reload=False,nbins = 100, \n",
    "#                                         save_fn = 'place_field_avg_and_trial_vthresh.p', \n",
    "#                                         shuffle_fn='fr_map_null_trialtype_vthresh.p',\n",
    "#                                         smth_in_bin=2.5, speed_thresh=1.,speed_key='v',load_only=True\n",
    "#                                         )\n",
    "    pst_res=pst.pairwise_shareonoff_test_one_session(ddf,pst.SW_RES_FN, save_fn=pst.SAVE_FN,dosave=False,force_reload=False,\n",
    "                                        nrepeats=100,load_only=True\n",
    "                                        )\n",
    "    ani = db_sorted.iloc[ii]['animal_name.1']\n",
    "    sess = db_sorted.iloc[ii]['sess_name']\n",
    "    pst_res_l[ani,sess] = pst_res\n",
    "    if pst_res is not None:\n",
    "        pst_res_l_selected[ani,sess] = pst_res['avg'].loc[(slice(None),slice(None),0.3,'switch_magnitude',0.4),:]\n",
    "    "
   ]
  },
  {
   "cell_type": "code",
   "execution_count": 13,
   "id": "1786b26e",
   "metadata": {},
   "outputs": [],
   "source": [
    "pst_res_l_selected_df = pd.concat(pst_res_l_selected,axis=0).droplevel((-1,-2,-3))"
   ]
  },
  {
   "cell_type": "code",
   "execution_count": 27,
   "id": "5cc42fbb",
   "metadata": {},
   "outputs": [
    {
     "data": {
      "text/plain": [
       "onoff             0.56\n",
       "on                0.56\n",
       "off               0.58\n",
       "onoff_ratio_on    0.38\n",
       "dtype: float64"
      ]
     },
     "execution_count": 27,
     "metadata": {},
     "output_type": "execute_result"
    }
   ],
   "source": [
    "pst_res_l_selected_df['issig'].groupby(level=(0,1,2)).any().mean()"
   ]
  },
  {
   "cell_type": "code",
   "execution_count": 34,
   "id": "03a8df06",
   "metadata": {},
   "outputs": [
    {
     "data": {
      "text/html": [
       "<div>\n",
       "<style scoped>\n",
       "    .dataframe tbody tr th:only-of-type {\n",
       "        vertical-align: middle;\n",
       "    }\n",
       "\n",
       "    .dataframe tbody tr th {\n",
       "        vertical-align: top;\n",
       "    }\n",
       "\n",
       "    .dataframe thead th {\n",
       "        text-align: right;\n",
       "    }\n",
       "</style>\n",
       "<table border=\"1\" class=\"dataframe\">\n",
       "  <thead>\n",
       "    <tr style=\"text-align: right;\">\n",
       "      <th></th>\n",
       "      <th>on</th>\n",
       "      <th>off</th>\n",
       "    </tr>\n",
       "  </thead>\n",
       "  <tbody>\n",
       "    <tr>\n",
       "      <th>e13_16f1</th>\n",
       "      <td>0.777778</td>\n",
       "      <td>0.666667</td>\n",
       "    </tr>\n",
       "    <tr>\n",
       "      <th>e13_26m1</th>\n",
       "      <td>0.800000</td>\n",
       "      <td>0.600000</td>\n",
       "    </tr>\n",
       "    <tr>\n",
       "      <th>e14_2m3</th>\n",
       "      <td>0.000000</td>\n",
       "      <td>0.200000</td>\n",
       "    </tr>\n",
       "    <tr>\n",
       "      <th>e15_10m1</th>\n",
       "      <td>0.400000</td>\n",
       "      <td>0.400000</td>\n",
       "    </tr>\n",
       "    <tr>\n",
       "      <th>e15_13f1</th>\n",
       "      <td>0.750000</td>\n",
       "      <td>0.750000</td>\n",
       "    </tr>\n",
       "    <tr>\n",
       "      <th>e15_9f1</th>\n",
       "      <td>0.333333</td>\n",
       "      <td>0.833333</td>\n",
       "    </tr>\n",
       "    <tr>\n",
       "      <th>e16_1f1</th>\n",
       "      <td>0.500000</td>\n",
       "      <td>0.333333</td>\n",
       "    </tr>\n",
       "    <tr>\n",
       "      <th>e16_2m1</th>\n",
       "      <td>0.000000</td>\n",
       "      <td>0.500000</td>\n",
       "    </tr>\n",
       "    <tr>\n",
       "      <th>e16_3m1</th>\n",
       "      <td>0.750000</td>\n",
       "      <td>0.500000</td>\n",
       "    </tr>\n",
       "    <tr>\n",
       "      <th>e16_3m2</th>\n",
       "      <td>1.000000</td>\n",
       "      <td>1.000000</td>\n",
       "    </tr>\n",
       "  </tbody>\n",
       "</table>\n",
       "</div>"
      ],
      "text/plain": [
       "                on       off\n",
       "e13_16f1  0.777778  0.666667\n",
       "e13_26m1  0.800000  0.600000\n",
       "e14_2m3   0.000000  0.200000\n",
       "e15_10m1  0.400000  0.400000\n",
       "e15_13f1  0.750000  0.750000\n",
       "e15_9f1   0.333333  0.833333\n",
       "e16_1f1   0.500000  0.333333\n",
       "e16_2m1   0.000000  0.500000\n",
       "e16_3m1   0.750000  0.500000\n",
       "e16_3m2   1.000000  1.000000"
      ]
     },
     "execution_count": 34,
     "metadata": {},
     "output_type": "execute_result"
    }
   ],
   "source": [
    "frac_sig_sess_per_ani=pst_res_l_selected_df['issig'][['on','off']].groupby(level=(0,1,2)).any().groupby(level=0).mean()"
   ]
  },
  {
   "cell_type": "code",
   "execution_count": 37,
   "id": "cef79b63",
   "metadata": {},
   "outputs": [
    {
     "data": {
      "image/png": "[encoded data removed]",
      "text/plain": [
       "<Figure size 432x288 with 1 Axes>"
      ]
     },
     "metadata": {
      "needs_background": "light"
     },
     "output_type": "display_data"
    }
   ],
   "source": [
    "frac_sig_sess_per_ani=pst_res_l_selected_df['issig'][['off','on']].groupby(level=(0,1,2)).any().groupby(level=0).mean()\n",
    "ax=frac_sig_sess_per_ani.plot.bar()\n",
    "# legend = anysigsess.groupby(level=(0)).mean().columns.get_level_values(0).unique()\n",
    "# ax.legend(legend)\n",
    "ax.set(xlabel='Animal',title='Sessions with any Significantly More Pairs',ylabel='Proportion')\n",
    "fig=ax.figure\n",
    "fig.savefig(os.path.join(figdir,f'sess_with_sig_more_pair_per_ani.pdf'),bbox_inches='tight')"
   ]
  },
  {
   "cell_type": "code",
   "execution_count": 29,
   "id": "b69ded38",
   "metadata": {
    "scrolled": true
   },
   "outputs": [
    {
     "data": {
      "text/html": [
       "<div>\n",
       "<style scoped>\n",
       "    .dataframe tbody tr th:only-of-type {\n",
       "        vertical-align: middle;\n",
       "    }\n",
       "\n",
       "    .dataframe tbody tr th {\n",
       "        vertical-align: top;\n",
       "    }\n",
       "\n",
       "    .dataframe thead tr th {\n",
       "        text-align: left;\n",
       "    }\n",
       "</style>\n",
       "<table border=\"1\" class=\"dataframe\">\n",
       "  <thead>\n",
       "    <tr>\n",
       "      <th></th>\n",
       "      <th></th>\n",
       "      <th></th>\n",
       "      <th></th>\n",
       "      <th colspan=\"4\" halign=\"left\">count</th>\n",
       "      <th colspan=\"4\" halign=\"left\">cdf</th>\n",
       "      <th colspan=\"4\" halign=\"left\">issig</th>\n",
       "    </tr>\n",
       "    <tr>\n",
       "      <th></th>\n",
       "      <th></th>\n",
       "      <th></th>\n",
       "      <th></th>\n",
       "      <th>onoff</th>\n",
       "      <th>on</th>\n",
       "      <th>off</th>\n",
       "      <th>onoff_ratio_on</th>\n",
       "      <th>onoff</th>\n",
       "      <th>on</th>\n",
       "      <th>off</th>\n",
       "      <th>onoff_ratio_on</th>\n",
       "      <th>onoff</th>\n",
       "      <th>on</th>\n",
       "      <th>off</th>\n",
       "      <th>onoff_ratio_on</th>\n",
       "    </tr>\n",
       "  </thead>\n",
       "  <tbody>\n",
       "    <tr>\n",
       "      <th rowspan=\"2\" valign=\"top\">e13_26m1</th>\n",
       "      <th rowspan=\"2\" valign=\"top\">e13_26m1_210913</th>\n",
       "      <th rowspan=\"2\" valign=\"top\">0</th>\n",
       "      <th>0</th>\n",
       "      <td>54.0</td>\n",
       "      <td>918.0</td>\n",
       "      <td>671.0</td>\n",
       "      <td>0.058824</td>\n",
       "      <td>0.9956</td>\n",
       "      <td>1.0</td>\n",
       "      <td>1.0</td>\n",
       "      <td>0.9099</td>\n",
       "      <td>True</td>\n",
       "      <td>True</td>\n",
       "      <td>True</td>\n",
       "      <td>False</td>\n",
       "    </tr>\n",
       "    <tr>\n",
       "      <th>1</th>\n",
       "      <td>50.0</td>\n",
       "      <td>1053.0</td>\n",
       "      <td>810.0</td>\n",
       "      <td>0.047483</td>\n",
       "      <td>0.9965</td>\n",
       "      <td>1.0</td>\n",
       "      <td>1.0</td>\n",
       "      <td>0.793</td>\n",
       "      <td>True</td>\n",
       "      <td>True</td>\n",
       "      <td>True</td>\n",
       "      <td>False</td>\n",
       "    </tr>\n",
       "    <tr>\n",
       "      <th rowspan=\"3\" valign=\"top\">e15_13f1</th>\n",
       "      <th rowspan=\"2\" valign=\"top\">e15_13f1_220117</th>\n",
       "      <th rowspan=\"2\" valign=\"top\">0</th>\n",
       "      <th>0</th>\n",
       "      <td>77.0</td>\n",
       "      <td>1209.0</td>\n",
       "      <td>483.0</td>\n",
       "      <td>0.063689</td>\n",
       "      <td>0.9997</td>\n",
       "      <td>1.0</td>\n",
       "      <td>0.998</td>\n",
       "      <td>0.9803</td>\n",
       "      <td>True</td>\n",
       "      <td>True</td>\n",
       "      <td>True</td>\n",
       "      <td>True</td>\n",
       "    </tr>\n",
       "    <tr>\n",
       "      <th>1</th>\n",
       "      <td>21.0</td>\n",
       "      <td>686.0</td>\n",
       "      <td>376.0</td>\n",
       "      <td>0.030612</td>\n",
       "      <td>0.9506</td>\n",
       "      <td>1.0</td>\n",
       "      <td>0.9995</td>\n",
       "      <td>0.733</td>\n",
       "      <td>False</td>\n",
       "      <td>True</td>\n",
       "      <td>True</td>\n",
       "      <td>False</td>\n",
       "    </tr>\n",
       "    <tr>\n",
       "      <th>e15_13f1_220118</th>\n",
       "      <th>0</th>\n",
       "      <th>0</th>\n",
       "      <td>50.0</td>\n",
       "      <td>637.0</td>\n",
       "      <td>448.0</td>\n",
       "      <td>0.078493</td>\n",
       "      <td>0.9997</td>\n",
       "      <td>0.9735</td>\n",
       "      <td>0.9687</td>\n",
       "      <td>0.9991</td>\n",
       "      <td>True</td>\n",
       "      <td>False</td>\n",
       "      <td>False</td>\n",
       "      <td>True</td>\n",
       "    </tr>\n",
       "    <tr>\n",
       "      <th>...</th>\n",
       "      <th>...</th>\n",
       "      <th>...</th>\n",
       "      <th>...</th>\n",
       "      <td>...</td>\n",
       "      <td>...</td>\n",
       "      <td>...</td>\n",
       "      <td>...</td>\n",
       "      <td>...</td>\n",
       "      <td>...</td>\n",
       "      <td>...</td>\n",
       "      <td>...</td>\n",
       "      <td>...</td>\n",
       "      <td>...</td>\n",
       "      <td>...</td>\n",
       "      <td>...</td>\n",
       "    </tr>\n",
       "    <tr>\n",
       "      <th rowspan=\"3\" valign=\"top\">e15_9f1</th>\n",
       "      <th>e15_9f1_200717</th>\n",
       "      <th>0</th>\n",
       "      <th>1</th>\n",
       "      <td>1.0</td>\n",
       "      <td>11.0</td>\n",
       "      <td>16.0</td>\n",
       "      <td>0.090909</td>\n",
       "      <td>0.9891</td>\n",
       "      <td>0.5511</td>\n",
       "      <td>0.8441</td>\n",
       "      <td>0.8932</td>\n",
       "      <td>True</td>\n",
       "      <td>False</td>\n",
       "      <td>False</td>\n",
       "      <td>False</td>\n",
       "    </tr>\n",
       "    <tr>\n",
       "      <th rowspan=\"2\" valign=\"top\">e15_9f1_200715</th>\n",
       "      <th rowspan=\"2\" valign=\"top\">0</th>\n",
       "      <th>0</th>\n",
       "      <td>0.0</td>\n",
       "      <td>13.0</td>\n",
       "      <td>1.0</td>\n",
       "      <td>0.0</td>\n",
       "      <td>0.9273</td>\n",
       "      <td>0.6935</td>\n",
       "      <td>0.7745</td>\n",
       "      <td>0.9273</td>\n",
       "      <td>False</td>\n",
       "      <td>False</td>\n",
       "      <td>False</td>\n",
       "      <td>False</td>\n",
       "    </tr>\n",
       "    <tr>\n",
       "      <th>1</th>\n",
       "      <td>0.0</td>\n",
       "      <td>24.0</td>\n",
       "      <td>30.0</td>\n",
       "      <td>0.0</td>\n",
       "      <td>0.858</td>\n",
       "      <td>0.9954</td>\n",
       "      <td>0.9958</td>\n",
       "      <td>0.858</td>\n",
       "      <td>False</td>\n",
       "      <td>True</td>\n",
       "      <td>True</td>\n",
       "      <td>False</td>\n",
       "    </tr>\n",
       "    <tr>\n",
       "      <th rowspan=\"2\" valign=\"top\">e14_2m3</th>\n",
       "      <th rowspan=\"2\" valign=\"top\">e14_2m3_201121</th>\n",
       "      <th rowspan=\"2\" valign=\"top\">0</th>\n",
       "      <th>0</th>\n",
       "      <td>0.0</td>\n",
       "      <td>36.0</td>\n",
       "      <td>7.0</td>\n",
       "      <td>0.0</td>\n",
       "      <td>0.4439</td>\n",
       "      <td>0.9537</td>\n",
       "      <td>0.3774</td>\n",
       "      <td>0.4439</td>\n",
       "      <td>False</td>\n",
       "      <td>False</td>\n",
       "      <td>False</td>\n",
       "      <td>False</td>\n",
       "    </tr>\n",
       "    <tr>\n",
       "      <th>1</th>\n",
       "      <td>1.0</td>\n",
       "      <td>13.0</td>\n",
       "      <td>10.0</td>\n",
       "      <td>0.076923</td>\n",
       "      <td>0.8847</td>\n",
       "      <td>0.5705</td>\n",
       "      <td>0.9678</td>\n",
       "      <td>0.7081</td>\n",
       "      <td>False</td>\n",
       "      <td>False</td>\n",
       "      <td>False</td>\n",
       "      <td>False</td>\n",
       "    </tr>\n",
       "  </tbody>\n",
       "</table>\n",
       "<p>100 rows × 12 columns</p>\n",
       "</div>"
      ],
      "text/plain": [
       "                             count                                   cdf  \\\n",
       "                             onoff      on    off onoff_ratio_on   onoff   \n",
       "e13_26m1 e13_26m1_210913 0 0  54.0   918.0  671.0       0.058824  0.9956   \n",
       "                           1  50.0  1053.0  810.0       0.047483  0.9965   \n",
       "e15_13f1 e15_13f1_220117 0 0  77.0  1209.0  483.0       0.063689  0.9997   \n",
       "                           1  21.0   686.0  376.0       0.030612  0.9506   \n",
       "         e15_13f1_220118 0 0  50.0   637.0  448.0       0.078493  0.9997   \n",
       "...                            ...     ...    ...            ...     ...   \n",
       "e15_9f1  e15_9f1_200717  0 1   1.0    11.0   16.0       0.090909  0.9891   \n",
       "         e15_9f1_200715  0 0   0.0    13.0    1.0            0.0  0.9273   \n",
       "                           1   0.0    24.0   30.0            0.0   0.858   \n",
       "e14_2m3  e14_2m3_201121  0 0   0.0    36.0    7.0            0.0  0.4439   \n",
       "                           1   1.0    13.0   10.0       0.076923  0.8847   \n",
       "\n",
       "                                                             issig         \\\n",
       "                                  on     off onoff_ratio_on  onoff     on   \n",
       "e13_26m1 e13_26m1_210913 0 0     1.0     1.0         0.9099   True   True   \n",
       "                           1     1.0     1.0          0.793   True   True   \n",
       "e15_13f1 e15_13f1_220117 0 0     1.0   0.998         0.9803   True   True   \n",
       "                           1     1.0  0.9995          0.733  False   True   \n",
       "         e15_13f1_220118 0 0  0.9735  0.9687         0.9991   True  False   \n",
       "...                              ...     ...            ...    ...    ...   \n",
       "e15_9f1  e15_9f1_200717  0 1  0.5511  0.8441         0.8932   True  False   \n",
       "         e15_9f1_200715  0 0  0.6935  0.7745         0.9273  False  False   \n",
       "                           1  0.9954  0.9958          0.858  False   True   \n",
       "e14_2m3  e14_2m3_201121  0 0  0.9537  0.3774         0.4439  False  False   \n",
       "                           1  0.5705  0.9678         0.7081  False  False   \n",
       "\n",
       "                                                    \n",
       "                                off onoff_ratio_on  \n",
       "e13_26m1 e13_26m1_210913 0 0   True          False  \n",
       "                           1   True          False  \n",
       "e15_13f1 e15_13f1_220117 0 0   True           True  \n",
       "                           1   True          False  \n",
       "         e15_13f1_220118 0 0  False           True  \n",
       "...                             ...            ...  \n",
       "e15_9f1  e15_9f1_200717  0 1  False          False  \n",
       "         e15_9f1_200715  0 0  False          False  \n",
       "                           1   True          False  \n",
       "e14_2m3  e14_2m3_201121  0 0  False          False  \n",
       "                           1  False          False  \n",
       "\n",
       "[100 rows x 12 columns]"
      ]
     },
     "execution_count": 29,
     "metadata": {},
     "output_type": "execute_result"
    }
   ],
   "source": [
    "pst_res_l_selected_df"
   ]
  },
  {
   "cell_type": "code",
   "execution_count": 13,
   "id": "2af51871",
   "metadata": {},
   "outputs": [
    {
     "name": "stderr",
     "output_type": "stream",
     "text": [
      "/tmp/ipykernel_74559/2221808589.py:3: PerformanceWarning: indexing past lexsort depth may impact performance.\n",
      "  changes_one = switch_detection_res_allsess['avg']['changes_df'].loc[(*ani_sess,*sw_ind),:].dropna(axis=1)\n"
     ]
    }
   ],
   "source": [
    "ani_sess = ('e13_26m1','e13_26m1_210913')\n",
    "sw_ind = (0,0,0.3,'switch_magnitude',0.4)\n",
    "changes_one = switch_detection_res_allsess['avg']['changes_df'].loc[(*ani_sess,*sw_ind),:].dropna(axis=1)"
   ]
  },
  {
   "cell_type": "code",
   "execution_count": 151,
   "id": "6cce79bb",
   "metadata": {},
   "outputs": [],
   "source": [
    "def get_shared_onoff(changes_one):\n",
    "    on = (changes_one == 1).astype(int)\n",
    "    off = (changes_one == -1).astype(int)\n",
    "\n",
    "    on_outer=np.einsum('ft,dt->fd',on, on)\n",
    "    share_on_count = len(np.nonzero(np.triu(on_outer,1))[0])\n",
    "    off_outer=np.einsum('ft,dt->fd',off, off)\n",
    "    share_off_count = len(np.nonzero(np.triu(off_outer,1))[0])\n",
    "    \n",
    "    share_onoff=(on_outer>0) & (off_outer > 0)\n",
    "    np.fill_diagonal(share_onoff,0)\n",
    "    share_onoff = np.triu(share_onoff)\n",
    "\n",
    "    share_onoff_inds = np.nonzero(share_onoff)\n",
    "    share_onoff_count = len(share_onoff_inds[0])\n",
    "    \n",
    "    share_onoff_ratio_on = share_onoff_count / share_on_count\n",
    "\n",
    "    return share_onoff_inds, share_onoff_count, share_on_count, share_off_count, share_onoff_ratio_on"
   ]
  },
  {
   "cell_type": "code",
   "execution_count": 191,
   "id": "36de8348",
   "metadata": {},
   "outputs": [],
   "source": [
    "def shuffle_test_pair_share_onoff(changes_one,nrepeats=100,alpha=0.025):\n",
    "    changes_shuffle_l = cpa.gen_circular_shuffle(changes_one,nrepeats)\n",
    "    \n",
    "    \n",
    "    \n",
    "    share_onoff_count_l=[]\n",
    "    share_on_count_l = []\n",
    "    share_off_count_l = []\n",
    "    share_onoff_ratio_on_l = []\n",
    "    \n",
    "    \n",
    "    for changes_shuffle in changes_shuffle_l:\n",
    "        _, share_onoff_count, share_on_count, share_off_count,share_onoff_ratio_on = get_shared_onoff(changes_shuffle)\n",
    "        share_onoff_count_l.append(share_onoff_count)\n",
    "        share_on_count_l.append(share_on_count)\n",
    "        share_off_count_l.append(share_off_count)\n",
    "        share_onoff_ratio_on_l.append(share_onoff_ratio_on)\n",
    "    \n",
    "    share_shuffle = {'onoff':np.array(share_onoff_count_l),'on':np.array(share_on_count_l),\n",
    "                     'off':np.array(share_off_count_l),'onoff_ratio_on':np.array(share_onoff_ratio_on_l)}\n",
    "    \n",
    "    share_data = {}\n",
    "    share_onoff_inds, share_data['onoff'], share_data['on'], share_data['off'],share_data['onoff_ratio_on'] = get_shared_onoff(changes_one)\n",
    "    \n",
    "    cdf_d = {}\n",
    "    issig_d = {}\n",
    "    for k,shuffle in share_shuffle.items():\n",
    "        data = share_data[k]\n",
    "        cdf = np.mean(data >= shuffle)\n",
    "        issig = cdf > (1-alpha)\n",
    "        cdf_d[k] = cdf\n",
    "        issig_d[k] = issig\n",
    "    res = {'count':share_data,'cdf':cdf_d,'issig':issig_d}\n",
    "    res = pd.DataFrame(res)\n",
    "    return res\n",
    "        \n",
    "        \n",
    "    "
   ]
  },
  {
   "cell_type": "code",
   "execution_count": 199,
   "id": "3f051a85",
   "metadata": {
    "scrolled": true
   },
   "outputs": [],
   "source": [
    "changes_df_all_one_detect = switch_detection_res_allsess['avg']['changes_df'].loc[(slice(None),slice(None),slice(None),slice(None),*sw_ind[2:])]\n",
    "changes_df_all_one_detect_gpb = changes_df_all_one_detect.groupby(level=(0,1,2,3))"
   ]
  },
  {
   "cell_type": "code",
   "execution_count": 206,
   "id": "99944c0e",
   "metadata": {},
   "outputs": [],
   "source": [
    "from pandarallel import pandarallel"
   ]
  },
  {
   "cell_type": "code",
   "execution_count": 207,
   "id": "3532fb29",
   "metadata": {},
   "outputs": [
    {
     "name": "stdout",
     "output_type": "stream",
     "text": [
      "INFO: Pandarallel will run on 40 workers.\n",
      "INFO: Pandarallel will use Memory file system to transfer data between the main process and workers.\n"
     ]
    }
   ],
   "source": [
    "pandarallel.initialize()"
   ]
  },
  {
   "cell_type": "code",
   "execution_count": 209,
   "id": "300fcabd",
   "metadata": {},
   "outputs": [
    {
     "name": "stderr",
     "output_type": "stream",
     "text": [
      "Process ForkPoolWorker-61:\n",
      "Process ForkPoolWorker-59:\n",
      "Process ForkPoolWorker-60:\n",
      "Process ForkPoolWorker-80:\n",
      "Process ForkPoolWorker-62:\n",
      "Process ForkPoolWorker-48:\n",
      "Process ForkPoolWorker-73:\n",
      "Process ForkPoolWorker-78:\n",
      "Process ForkPoolWorker-76:\n",
      "Process ForkPoolWorker-82:\n",
      "Process ForkPoolWorker-72:\n",
      "Process ForkPoolWorker-74:\n",
      "Process ForkPoolWorker-79:\n",
      "Process ForkPoolWorker-75:\n",
      "Process ForkPoolWorker-67:\n",
      "Process ForkPoolWorker-44:\n",
      "Process ForkPoolWorker-70:\n",
      "Process ForkPoolWorker-81:\n",
      "Process ForkPoolWorker-69:\n",
      "Process ForkPoolWorker-52:\n",
      "Process ForkPoolWorker-55:\n",
      "Process ForkPoolWorker-53:\n",
      "Process ForkPoolWorker-77:\n",
      "Process ForkPoolWorker-51:\n",
      "Process ForkPoolWorker-68:\n",
      "Process ForkPoolWorker-50:\n",
      "Process ForkPoolWorker-64:\n",
      "Process ForkPoolWorker-45:\n",
      "Process ForkPoolWorker-58:\n",
      "Process ForkPoolWorker-46:\n",
      "Process ForkPoolWorker-66:\n",
      "Process ForkPoolWorker-54:\n",
      "Process ForkPoolWorker-63:\n",
      "Process ForkPoolWorker-56:\n",
      "Process ForkPoolWorker-65:\n",
      "Process ForkPoolWorker-43:\n",
      "Traceback (most recent call last):\n",
      "  File \"/mnt/home/szheng/ceph/envs/jax/lib/python3.9/multiprocessing/process.py\", line 315, in _bootstrap\n",
      "    self.run()\n",
      "  File \"/mnt/home/szheng/ceph/envs/jax/lib/python3.9/multiprocessing/process.py\", line 108, in run\n",
      "    self._target(*self._args, **self._kwargs)\n",
      "  File \"/mnt/home/szheng/ceph/envs/jax/lib/python3.9/multiprocessing/pool.py\", line 114, in worker\n",
      "    task = get()\n",
      "  File \"/mnt/home/szheng/ceph/envs/jax/lib/python3.9/multiprocessing/queues.py\", line 364, in get\n",
      "    with self._rlock:\n",
      "Process ForkPoolWorker-57:\n",
      "  File \"/mnt/home/szheng/ceph/envs/jax/lib/python3.9/multiprocessing/synchronize.py\", line 95, in __enter__\n",
      "    return self._semlock.__enter__()\n",
      "Traceback (most recent call last):\n",
      "Traceback (most recent call last):\n",
      "Traceback (most recent call last):\n",
      "Traceback (most recent call last):\n",
      "Traceback (most recent call last):\n",
      "  File \"/mnt/home/szheng/ceph/envs/jax/lib/python3.9/multiprocessing/process.py\", line 315, in _bootstrap\n",
      "    self.run()\n",
      "  File \"/mnt/home/szheng/ceph/envs/jax/lib/python3.9/multiprocessing/process.py\", line 315, in _bootstrap\n",
      "    self.run()\n",
      "\n",
      "KeyboardInterrupt\n",
      "\n"
     ]
    }
   ],
   "source": [
    "%%time\n",
    "# pair_share_test_all_sess = changes_df_all_one_detect_gpb.apply(lambda x:shuffle_test_pair_share_onoff(x.dropna(axis=1),nrepeats=2,alpha=0.025))\n",
    "pair_share_test_all_sess = changes_df_all_one_detect_gpb.parallel_apply(lambda x:shuffle_test_pair_share_onoff(x.dropna(axis=1),nrepeats=10000,alpha=0.025))\n",
    "pair_share_test_all_sess=pair_share_test_all_sess.unstack(level=-1)\n",
    "\n"
   ]
  },
  {
   "cell_type": "code",
   "execution_count": 210,
   "id": "d432a762",
   "metadata": {},
   "outputs": [],
   "source": [
    "pair_share_test_all_sess.to_pickle('/mnt/home/szheng/ceph/place_variability/data/pair_share_test.p')"
   ]
  },
  {
   "cell_type": "code",
   "execution_count": null,
   "id": "d3c25207",
   "metadata": {},
   "outputs": [],
   "source": []
  },
  {
   "cell_type": "code",
   "execution_count": 187,
   "id": "f7ad112a",
   "metadata": {},
   "outputs": [],
   "source": [
    "def plot_shuffle_data_dist_with_thresh(shuffle,data,alpha=0.025,fig=None,ax=None):\n",
    "    thresh=np.quantile(shuffle,(1-alpha))\n",
    "    percentile = (1-alpha) * 100\n",
    "    if ax is None:\n",
    "        fig,ax=plt.subplots()\n",
    "    ax.hist(shuffle,histtype='step')\n",
    "    ax.axvline(data,label='data')\n",
    "    ax.axvline(thresh,label=f'{percentile} percentile',linestyle=':')\n",
    "    ax.legend()\n",
    "    return fig,ax"
   ]
  },
  {
   "cell_type": "code",
   "execution_count": 190,
   "id": "1876f177",
   "metadata": {},
   "outputs": [
    {
     "data": {
      "image/png": "[encoded data removed]",
      "text/plain": [
       "<Figure size 720x720 with 4 Axes>"
      ]
     },
     "metadata": {
      "needs_background": "light"
     },
     "output_type": "display_data"
    }
   ],
   "source": [
    "fig,axs = plt.subplots(2,2,sharey=True,figsize=(10,10))\n",
    "fig,ax=plot_shuffle_data_dist_with_thresh(share_on_count_l,share_on_count,alpha=0.025,ax=axs[0,0])\n",
    "_=ax.set(title='Sharing ON trials',xlabel='Num. Pairs', ylabel='Count')\n",
    "\n",
    "fig,ax=plot_shuffle_data_dist_with_thresh(share_off_count_l,share_off_count,alpha=0.025,ax=axs[0,1])\n",
    "_=ax.set(title='Sharing OFF trials',xlabel='Num. Pairs', ylabel='Count')\n",
    "\n",
    "fig,ax=plot_shuffle_data_dist_with_thresh(share_onoff_count_l,share_onoff_count,alpha=0.025,ax=axs[1,0])\n",
    "_=ax.set(title='Sharing ON and OFF trials',xlabel='Num. Pairs', ylabel='Count')\n",
    "\n",
    "fig,ax=plot_shuffle_data_dist_with_thresh(share_onoff_ratio_on_l,share_onoff_ratio_on,alpha=0.025,ax=axs[1,1])\n",
    "_=ax.set(title='N Pairs Sharing ON and OFF Trials/\\nSharing ON Trials',xlabel='Ratio', ylabel='Count')\n",
    "plt.tight_layout()"
   ]
  },
  {
   "cell_type": "code",
   "execution_count": 184,
   "id": "97476133",
   "metadata": {
    "scrolled": true
   },
   "outputs": [
    {
     "data": {
      "image/png": "[encoded data removed]",
      "text/plain": [
       "<Figure size 432x288 with 1 Axes>"
      ]
     },
     "metadata": {
      "needs_background": "light"
     },
     "output_type": "display_data"
    }
   ],
   "source": [
    "fig,ax=plot_shuffle_data_dist_with_thresh(share_onoff_count_l,share_onoff_count,alpha=0.025)\n",
    "_=ax.set(title='Sharing ON and OFF trials',xlabel='Num. Pairs', ylabel='Count')"
   ]
  },
  {
   "cell_type": "code",
   "execution_count": 182,
   "id": "e9d55eb4",
   "metadata": {},
   "outputs": [
    {
     "data": {
      "image/png": "[encoded data removed]",
      "text/plain": [
       "<Figure size 432x288 with 1 Axes>"
      ]
     },
     "metadata": {
      "needs_background": "light"
     },
     "output_type": "display_data"
    }
   ],
   "source": [
    "fig,ax=plot_shuffle_data_dist_with_thresh(share_onoff_ratio_on_l,share_onoff_ratio_on,alpha=0.025)\n",
    "_=ax.set(title='N Pairs Sharing ON and OFF Trials/\\nSharing ON Trials',xlabel='Ratio', ylabel='Count')"
   ]
  },
  {
   "cell_type": "code",
   "execution_count": 185,
   "id": "a7c94c40",
   "metadata": {},
   "outputs": [
    {
     "data": {
      "image/png": "[encoded data removed]",
      "text/plain": [
       "<Figure size 432x288 with 1 Axes>"
      ]
     },
     "metadata": {
      "needs_background": "light"
     },
     "output_type": "display_data"
    }
   ],
   "source": [
    "fig,ax=plot_shuffle_data_dist_with_thresh(share_off_count_l,share_off_count,alpha=0.025)\n",
    "_=ax.set(title='Sharing OFF trials',xlabel='Num. Pairs', ylabel='Count')"
   ]
  },
  {
   "cell_type": "code",
   "execution_count": 186,
   "id": "af5563d5",
   "metadata": {},
   "outputs": [
    {
     "data": {
      "image/png": "[encoded data removed]",
      "text/plain": [
       "<Figure size 432x288 with 1 Axes>"
      ]
     },
     "metadata": {
      "needs_background": "light"
     },
     "output_type": "display_data"
    }
   ],
   "source": [
    "fig,ax=plot_shuffle_data_dist_with_thresh(share_on_count_l,share_on_count,alpha=0.025)\n",
    "_=ax.set(title='Sharing ON trials',xlabel='Num. Pairs', ylabel='Count')"
   ]
  },
  {
   "cell_type": "code",
   "execution_count": 157,
   "id": "46ede766",
   "metadata": {
    "scrolled": false
   },
   "outputs": [
    {
     "data": {
      "text/plain": [
       "<matplotlib.lines.Line2D at 0x15536f4bdd30>"
      ]
     },
     "execution_count": 157,
     "metadata": {},
     "output_type": "execute_result"
    },
    {
     "data": {
      "image/png": "[encoded data removed]",
      "text/plain": [
       "<Figure size 432x288 with 1 Axes>"
      ]
     },
     "metadata": {
      "needs_background": "light"
     },
     "output_type": "display_data"
    }
   ],
   "source": [
    "plt.hist(share_onoff_count_l)\n",
    "plt.axvline(share_onoff_count)"
   ]
  },
  {
   "cell_type": "code",
   "execution_count": 130,
   "id": "6a7adef5",
   "metadata": {
    "scrolled": true
   },
   "outputs": [],
   "source": [
    "interval_l=[]\n",
    "for jj in range(len(ind1)):\n",
    "    ind1,ind2=share_onoff_inds\n",
    "    # jj=19\n",
    "    i1 = changes_one.index[ind1[jj]]\n",
    "    i2 = changes_one.index[ind2[jj]]\n",
    "\n",
    "    switch_trials = changes_one.loc[[i1,i2]].all().to_numpy().nonzero()[0]\n",
    "    interval = switch_trials[1] - switch_trials[0]\n",
    "    interval_l.append(interval)"
   ]
  },
  {
   "cell_type": "code",
   "execution_count": 132,
   "id": "176049a0",
   "metadata": {
    "scrolled": false
   },
   "outputs": [
    {
     "data": {
      "text/plain": [
       "(array([48.,  2.,  1.,  1.,  0.,  1.,  0.,  0.,  0.,  1.]),\n",
       " array([ 1. ,  3.8,  6.6,  9.4, 12.2, 15. , 17.8, 20.6, 23.4, 26.2, 29. ]),\n",
       " <BarContainer object of 10 artists>)"
      ]
     },
     "execution_count": 132,
     "metadata": {},
     "output_type": "execute_result"
    },
    {
     "data": {
      "image/png": "[encoded data removed]",
      "text/plain": [
       "<Figure size 432x288 with 1 Axes>"
      ]
     },
     "metadata": {
      "needs_background": "light"
     },
     "output_type": "display_data"
    }
   ],
   "source": [
    "plt.hist(interval_l)"
   ]
  },
  {
   "cell_type": "code",
   "execution_count": 137,
   "id": "f083312b",
   "metadata": {},
   "outputs": [
    {
     "data": {
      "text/plain": [
       "918"
      ]
     },
     "execution_count": 137,
     "metadata": {},
     "output_type": "execute_result"
    }
   ],
   "source": [
    "len(np.nonzero(np.triu(on_outer,1))[0])"
   ]
  },
  {
   "cell_type": "code",
   "execution_count": 105,
   "id": "5998d79f",
   "metadata": {},
   "outputs": [
    {
     "data": {
      "text/html": [
       "<div>\n",
       "<style scoped>\n",
       "    .dataframe tbody tr th:only-of-type {\n",
       "        vertical-align: middle;\n",
       "    }\n",
       "\n",
       "    .dataframe tbody tr th {\n",
       "        vertical-align: top;\n",
       "    }\n",
       "\n",
       "    .dataframe thead th {\n",
       "        text-align: right;\n",
       "    }\n",
       "</style>\n",
       "<table border=\"1\" class=\"dataframe\">\n",
       "  <thead>\n",
       "    <tr style=\"text-align: right;\">\n",
       "      <th></th>\n",
       "      <th></th>\n",
       "      <th>start</th>\n",
       "      <th>end</th>\n",
       "      <th>com</th>\n",
       "      <th>peak</th>\n",
       "      <th>fr_peak</th>\n",
       "      <th>fr_mean</th>\n",
       "    </tr>\n",
       "    <tr>\n",
       "      <th></th>\n",
       "      <th>field_index</th>\n",
       "      <th></th>\n",
       "      <th></th>\n",
       "      <th></th>\n",
       "      <th></th>\n",
       "      <th></th>\n",
       "      <th></th>\n",
       "    </tr>\n",
       "  </thead>\n",
       "  <tbody>\n",
       "    <tr>\n",
       "      <th>129</th>\n",
       "      <th>1</th>\n",
       "      <td>83</td>\n",
       "      <td>92</td>\n",
       "      <td>88</td>\n",
       "      <td>92</td>\n",
       "      <td>5.860195</td>\n",
       "      <td>4.608874</td>\n",
       "    </tr>\n",
       "    <tr>\n",
       "      <th>284</th>\n",
       "      <th>1</th>\n",
       "      <td>85</td>\n",
       "      <td>92</td>\n",
       "      <td>89</td>\n",
       "      <td>92</td>\n",
       "      <td>7.645683</td>\n",
       "      <td>5.709414</td>\n",
       "    </tr>\n",
       "  </tbody>\n",
       "</table>\n",
       "</div>"
      ],
      "text/plain": [
       "                start end com peak   fr_peak   fr_mean\n",
       "    field_index                                       \n",
       "129 1              83  92  88   92  5.860195  4.608874\n",
       "284 1              85  92  89   92  7.645683  5.709414"
      ]
     },
     "execution_count": 105,
     "metadata": {},
     "output_type": "execute_result"
    }
   ],
   "source": [
    "place_field_res_l[ani_sess]['avg']['all_fields'][sw_ind[:2]].loc[[i1,i2]]"
   ]
  },
  {
   "cell_type": "code",
   "execution_count": null,
   "id": "6e46d765",
   "metadata": {},
   "outputs": [],
   "source": []
  }
 ],
 "metadata": {
  "kernelspec": {
   "display_name": "jax",
   "language": "python",
   "name": "jax"
  },
  "language_info": {
   "codemirror_mode": {
    "name": "ipython",
    "version": 3
   },
   "file_extension": ".py",
   "mimetype": "text/x-python",
   "name": "python",
   "nbconvert_exporter": "python",
   "pygments_lexer": "ipython3",
   "version": "3.9.13"
  }
 },
 "nbformat": 4,
 "nbformat_minor": 5
}
