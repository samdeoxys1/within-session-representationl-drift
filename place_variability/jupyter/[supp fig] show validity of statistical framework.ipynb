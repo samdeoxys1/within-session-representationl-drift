{
 "cells": [
  {
   "cell_type": "code",
   "execution_count": 1,
   "id": "26ecd6e8",
   "metadata": {},
   "outputs": [
    {
     "name": "stdout",
     "output_type": "stream",
     "text": [
      "67 sessions!\n",
      "67 sessions!\n"
     ]
    },
    {
     "name": "stderr",
     "output_type": "stream",
     "text": [
      "/mnt/home/szheng/ceph/envs/jax/lib/python3.9/site-packages/outdated/utils.py:14: OutdatedPackageWarning: The package pingouin is out of date. Your version is 0.5.2, the latest is 0.5.4.\n",
      "Set the environment variable OUTDATED_IGNORE=1 to disable these warnings.\n",
      "  return warn(\n"
     ]
    }
   ],
   "source": [
    "import numpy as np\n",
    "import scipy\n",
    "import sklearn\n",
    "from sklearn.decomposition import NMF\n",
    "from sklearn.cluster import KMeans\n",
    "from sklearn.mixture import GaussianMixture,BayesianGaussianMixture\n",
    "\n",
    "import pandas as pd\n",
    "\n",
    "import matplotlib.pyplot as plt\n",
    "import seaborn as sns\n",
    "import matplotlib as mpl\n",
    "mpl.rcParams['image.cmap'] = 'Greys'\n",
    "mpl.rcParams['axes.spines.right'] = False\n",
    "mpl.rcParams['axes.spines.top'] = False\n",
    "\n",
    "\n",
    "\n",
    "import sys,os,pdb,copy,pickle\n",
    "from importlib import reload\n",
    "# import pynapple as nap\n",
    "\n",
    "sys.path.append('/mnt/home/szheng/projects/seq_detection2/code')\n",
    "sys.path.append('/mnt/home/szheng/projects/util_code')\n",
    "sys.path.append('/mnt/home/szheng/projects/nmf_analysis')\n",
    "sys.path.append('/mnt/home/szheng/projects/nmf_analysis/scripts')\n",
    "sys.path.append('/mnt/home/szheng/projects/cluster_spikes')\n",
    "sys.path.append('/mnt/home/szheng/projects/place_variability/code')\n",
    "import data_prep_new as dpn\n",
    "import place_cell_analysis as pa\n",
    "import plot_helper as ph\n",
    "import preprocess as prep\n",
    "import nmf_analysis as na\n",
    "import nmf_plot as nmfp\n",
    "reload(na)\n",
    "\n",
    "import raster_new as rn\n",
    "import data_prep_pyn as dpp\n",
    "\n",
    "\n",
    "import change_point_analysis as cpa\n",
    "import change_point_plot as cpp\n",
    "\n",
    "import place_field_analysis as pf\n",
    "\n",
    "import switch_analysis_one_session as saos\n",
    "reload(saos)\n",
    "\n",
    "import process_central_arm as pca \n",
    "import change_point_analysis_central_arm_seperate as cpacas\n",
    "\n",
    "import misc\n",
    "reload(misc)\n",
    "from misc import get_nth_key, get_nth_val"
   ]
  },
  {
   "cell_type": "code",
   "execution_count": 2,
   "id": "36c9bd2e",
   "metadata": {},
   "outputs": [],
   "source": [
    "import matplotlib.pyplot as plt\n",
    "\n",
    "# Set default figure size\n",
    "plt.rcParams['figure.figsize'] = (3, 2)  # width, height in inches\n",
    "\n",
    "# Set default font sizes\n",
    "plt.rcParams['font.size'] = 10  # Default font size\n",
    "mpl.rcParams['axes.spines.right'] = False\n",
    "mpl.rcParams['axes.spines.top'] = False"
   ]
  },
  {
   "cell_type": "code",
   "execution_count": 3,
   "id": "981e1d9f",
   "metadata": {},
   "outputs": [],
   "source": [
    "import matplotlib\n",
    "matplotlib.rcParams['svg.fonttype'] = 'none'"
   ]
  },
  {
   "cell_type": "code",
   "execution_count": 4,
   "id": "aad8a68d",
   "metadata": {},
   "outputs": [
    {
     "name": "stdout",
     "output_type": "stream",
     "text": [
      "/mnt/home/szheng/ceph/place_variability/fig/paper/suppfigure_validity_of_framework made!\n"
     ]
    },
    {
     "data": {
      "text/plain": [
       "'/mnt/home/szheng/ceph/place_variability/data/paper'"
      ]
     },
     "execution_count": 4,
     "metadata": {},
     "output_type": "execute_result"
    }
   ],
   "source": [
    "\n",
    "figdir = '/mnt/home/szheng/ceph/place_variability/fig/paper/suppfigure_validity_of_framework'\n",
    "misc.get_or_create_subdir(figdir)\n",
    "data_dir = '/mnt/home/szheng/ceph/place_variability/data/paper'\n",
    "misc.get_or_create_subdir(data_dir)\n"
   ]
  },
  {
   "cell_type": "code",
   "execution_count": 82,
   "id": "9d1a59a0",
   "metadata": {},
   "outputs": [],
   "source": [
    "import ruptures as rpt"
   ]
  },
  {
   "cell_type": "code",
   "execution_count": 110,
   "id": "e1161730",
   "metadata": {},
   "outputs": [],
   "source": [
    "# sim examples\n",
    "##continuous:\n",
    "n_repeat = 100\n",
    "signal_true = np.exp(-np.arange(30)/2)\n",
    "test_signal=signal_true[None,:] + np.random.normal(size=(n_repeat,30)) * 0.1\n",
    "## discrete\n",
    "\n",
    "\n",
    "\n",
    "# n_samples, n_dims, sigma = 30, 1, 2\n",
    "# n_bkps = 1  # number of breakpoints\n",
    "# signal, bkps = rpt.pw_constant(n_samples, n_dims, n_bkps, noise_std=sigma)\n",
    "# test_signal = signal.T\n",
    "\n"
   ]
  },
  {
   "cell_type": "code",
   "execution_count": 111,
   "id": "6bd76c79",
   "metadata": {},
   "outputs": [
    {
     "data": {
      "text/plain": [
       "(100, 30)"
      ]
     },
     "execution_count": 111,
     "metadata": {},
     "output_type": "execute_result"
    }
   ],
   "source": [
    "test_signal.shape"
   ]
  },
  {
   "cell_type": "code",
   "execution_count": 112,
   "id": "c7115e7d",
   "metadata": {},
   "outputs": [
    {
     "name": "stdout",
     "output_type": "stream",
     "text": [
      "0.9215986885191138\n",
      "0.9152064622806407\n"
     ]
    }
   ],
   "source": [
    "import step_vs_gradual_analysis as svga\n",
    "ncpts = 10\n",
    "xx = test_signal[0]\n",
    "r2_reg,xx_pred_reg=svga.fit_poly_regress_get_r2(xx,order=ncpts,cost='l2',verbose=False)\n",
    "r2_step,xx_pred_step=svga.fit_cpd_get_r2(xx,ncpts,cost='l2',min_size=2)\n",
    "print(r2_reg)\n",
    "print(r2_step)"
   ]
  },
  {
   "cell_type": "code",
   "execution_count": 113,
   "id": "d617d34c",
   "metadata": {},
   "outputs": [
    {
     "data": {
      "text/plain": [
       "[<matplotlib.lines.Line2D at 0x1554f7d54c10>]"
      ]
     },
     "execution_count": 113,
     "metadata": {},
     "output_type": "execute_result"
    },
    {
     "data": {
      "image/png": "[encoded data removed]",
      "text/plain": [
       "<Figure size 432x288 with 1 Axes>"
      ]
     },
     "metadata": {
      "needs_background": "light"
     },
     "output_type": "display_data"
    }
   ],
   "source": [
    "fig,ax=plt.subplots()\n",
    "# ax.plot(signal_true,label='Noiseless data')\n",
    "ax.plot(test_signal[0],label='Data')\n",
    "ax.plot(xx_pred_reg,label='Fitted regression')\n",
    "ax.plot(xx_pred_step,label='Fitted CPM')"
   ]
  },
  {
   "cell_type": "code",
   "execution_count": 65,
   "id": "5f2333f4",
   "metadata": {},
   "outputs": [
    {
     "name": "stdout",
     "output_type": "stream",
     "text": [
      "([25, 30], 0.7832895102766558)\n"
     ]
    },
    {
     "data": {
      "text/plain": [
       "0.7038174785609954"
      ]
     },
     "execution_count": 65,
     "metadata": {},
     "output_type": "execute_result"
    },
    {
     "data": {
      "image/png": "[encoded data removed]",
      "text/plain": [
       "<Figure size 432x288 with 1 Axes>"
      ]
     },
     "metadata": {
      "needs_background": "light"
     },
     "output_type": "display_data"
    }
   ],
   "source": [
    "import step_vs_gradual_analysis_population as svgap\n",
    "test_signal=np.exp(np.arange(30)/5) + np.random.normal(size=30) * 0.01#0.5\n",
    "test_signal = test_signal[:,None]\n",
    "print(svgap.fit_cpd_get_r2_multi_d(test_signal,1))\n",
    "plt.plot(test_signal[:,0])\n",
    "import statsmodels.api as sm\n",
    "reg=sm.OLS(np.arange(30)[:,None],test_signal[:,0])\n",
    "reg_res=reg.fit()\n",
    "reg_res.rsquared"
   ]
  },
  {
   "cell_type": "code",
   "execution_count": 57,
   "id": "1e7e241a",
   "metadata": {},
   "outputs": [
    {
     "data": {
      "text/plain": [
       "0.8210463999086668"
      ]
     },
     "execution_count": 57,
     "metadata": {},
     "output_type": "execute_result"
    }
   ],
   "source": [
    "r2_step"
   ]
  },
  {
   "cell_type": "code",
   "execution_count": 58,
   "id": "08be7749",
   "metadata": {},
   "outputs": [
    {
     "data": {
      "text/plain": [
       "0.637790635713485"
      ]
     },
     "execution_count": 58,
     "metadata": {},
     "output_type": "execute_result"
    }
   ],
   "source": [
    "r2_reg"
   ]
  },
  {
   "cell_type": "code",
   "execution_count": 11,
   "id": "0550ea49",
   "metadata": {},
   "outputs": [
    {
     "data": {
      "text/plain": [
       "(100, 30)"
      ]
     },
     "execution_count": 11,
     "metadata": {},
     "output_type": "execute_result"
    }
   ],
   "source": [
    "test_signal.shape"
   ]
  },
  {
   "cell_type": "code",
   "execution_count": null,
   "id": "511c92d5",
   "metadata": {},
   "outputs": [],
   "source": []
  }
 ],
 "metadata": {
  "kernelspec": {
   "display_name": "jax",
   "language": "python",
   "name": "jax"
  },
  "language_info": {
   "codemirror_mode": {
    "name": "ipython",
    "version": 3
   },
   "file_extension": ".py",
   "mimetype": "text/x-python",
   "name": "python",
   "nbconvert_exporter": "python",
   "pygments_lexer": "ipython3",
   "version": "3.9.16"
  }
 },
 "nbformat": 4,
 "nbformat_minor": 5
}
