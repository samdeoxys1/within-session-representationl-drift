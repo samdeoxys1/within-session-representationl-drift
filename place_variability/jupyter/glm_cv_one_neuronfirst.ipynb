{
 "cells": [
  {
   "cell_type": "code",
   "execution_count": 1,
   "id": "357de426",
   "metadata": {},
   "outputs": [],
   "source": [
    "import jax\n",
    "import jax.numpy as np\n",
    "import jax.scipy.stats as stats\n",
    "import matplotlib.pyplot as plt\n",
    "import numpy,pickle\n",
    "from jax.tree_util import tree_map, tree_flatten\n",
    "from jax.flatten_util import ravel_pytree\n",
    "\n",
    "from jax import jit,vmap,lax\n",
    "import pandas as pd\n",
    "import blackjax\n",
    "\n",
    "\n",
    "import sys,os,importlib,pdb\n",
    "sys.path.append('/mnt/home/szheng/projects/util_code')\n",
    "import gm\n",
    "\n",
    "import scipy\n",
    "from scipy.signal import find_peaks\n",
    "import data_prep_new as dpn\n",
    "import place_cell_analysis as pa\n",
    "import plot_helper as ph\n",
    "from importlib import reload\n",
    "\n",
    "import copy\n",
    "\n",
    "%matplotlib inline\n",
    "import gm_glm_bayesian as glm\n",
    "import gm_glm_bayesian_helper as glmh\n",
    "import math_functions as mf\n",
    "import plot_mcmc as pmc\n",
    "reload(pmc)\n",
    "\n",
    "import gm_cv as gc\n",
    "import glm_cv as glmc\n",
    "\n",
    "from scipy.ndimage import gaussian_filter1d"
   ]
  },
  {
   "cell_type": "code",
   "execution_count": 2,
   "id": "3f614082",
   "metadata": {},
   "outputs": [],
   "source": [
    "def mask_fields(pars,nfields_mask,to_mask=['w','sigma','mu']):\n",
    "    pars_ = {}\n",
    "    nfields_mask = nfields_mask.astype(bool) # make sure it's bool!\n",
    "\n",
    "    for k,val in pars.items():\n",
    "        domask = False\n",
    "        for tm in to_mask:\n",
    "            if tm in k:\n",
    "                domask=True\n",
    "        if domask:    \n",
    "\n",
    "            pars_[k] = pars[k][:,nfields_mask]\n",
    "        else:\n",
    "            pars_[k] = pars[k]\n",
    "    return pars_\n",
    "            "
   ]
  },
  {
   "cell_type": "code",
   "execution_count": 3,
   "id": "5f66b81d",
   "metadata": {},
   "outputs": [],
   "source": [
    "sess_name=\"e15_13f1_220117\"\n",
    "py_data_dir = \"/mnt/home/szheng/ceph/ad/roman_data/e15/e15_13f1/e15_13f1_220117/py_data\"\n",
    "fr_ = pickle.load(open(os.path.join(py_data_dir,'fr.p'),'rb'))\n",
    "pos_bins = fr_['pos_bins']['lin']\n",
    "bin_to_lin=numpy.concatenate([pos_bins[:-1,None],pos_bins[1:,None]],axis=1).mean(axis=1)\n",
    "\n",
    "fr = fr_['df']['pyr']\n",
    "fr_map_ = pickle.load(open(os.path.join(py_data_dir,'fr_map.p'),'rb'))['fr_map_trial']\n",
    "fr_map_avg=pickle.load(open(os.path.join(py_data_dir,'fr_map.p'),'rb'))['fr_map']\n",
    "cell_cols = fr_['cell_cols']"
   ]
  },
  {
   "cell_type": "code",
   "execution_count": 4,
   "id": "7b5949ed",
   "metadata": {},
   "outputs": [
    {
     "name": "stderr",
     "output_type": "stream",
     "text": [
      "2022-08-24 21:52:11.233566: E external/org_tensorflow/tensorflow/stream_executor/cuda/cuda_driver.cc:271] failed call to cuInit: CUDA_ERROR_NO_DEVICE: no CUDA-capable device is detected\n",
      "WARNING:absl:No GPU/TPU found, falling back to CPU. (Set TF_CPP_MIN_LOG_LEVEL=0 and rerun for more info.)\n"
     ]
    }
   ],
   "source": [
    "unit_int = 31\n",
    "unit_str = f'unit_{unit_int}'\n",
    "\n",
    "unit_ind_in_pyr = [i for i in range(len(cell_cols['pyr']))  if unit_str == cell_cols['pyr'][i]][0]\n",
    "\n",
    "trial_ind_dict = dict(fr.groupby('visitedArm')['trial'].unique())\n",
    "fr_map_one_unit_both_trials_dict = {k:val[unit_ind_in_pyr] for k,val in fr_map_.items()}\n",
    "pars=gm.init_both_trial_types(fr_map_one_unit_both_trials_dict,trial_ind_dict,bin_to_lin=None)\n",
    "\n",
    "pars_rand=gm.init_both_trial_types(fr_map_one_unit_both_trials_dict,trial_ind_dict,bin_to_lin=None,random_init=True)\n",
    "\n",
    "fr_filtered=fr.query(\"(speed>=5.)\")\n",
    "fr_ = fr_filtered\n",
    "\n",
    "trial_type_by_trial=fr_.groupby(['trial','visitedArm']).mean().index.get_level_values(1).astype(int)\n",
    "\n",
    "# fr_=fr\n",
    "regressors=glm.get_regressors(fr_)\n",
    "target_spk_allneurons = np.array(fr_[cell_cols['pyr']].values)\n",
    "target_spk_oneneuron = target_spk_allneurons[:,0]\n"
   ]
  },
  {
   "cell_type": "code",
   "execution_count": 5,
   "id": "db471fd6",
   "metadata": {},
   "outputs": [],
   "source": [
    "# need to select one trial correctly\n",
    "reload(glm)\n",
    "ch=0\n",
    "# regressors_one_trial,target_spk_one_trial_one_neuron = glm.subselect_regressors(regressors, target_spk_allneurons[:,0], trial_type=ch)\n",
    "regressors_one_trial,target_spk_one_trial = glm.subselect_regressors(regressors, target_spk_allneurons, trial_type=ch)\n",
    "\n"
   ]
  },
  {
   "cell_type": "code",
   "execution_count": 6,
   "id": "1ba5730e",
   "metadata": {},
   "outputs": [],
   "source": [
    "key = jax.random.PRNGKey(0)\n",
    "# fit_kwargs=dict(reg_type = 'gaussian_logprior_laplacian',lr=0.05,loss_type='poisson',niters=4000,nfields_max=2)\n",
    "fit_kwargs=dict(lr=0.05,niters=4000)\n",
    "# target_all_neurons = target_spk_one_trial_one_neuron#target_spk_oneneuron #target_spk_one_trial\n",
    "regressors_ = regressors_one_trial#regressors # regressors_one_trial\n",
    "regressors_['ntrials'] = len(numpy.unique(regressors_['trial_inds_int']))\n",
    "reg_pars = gm.get_reg_pars({'g_w':1000.,'g_b':1000000.,'g_sigma_thresh':100000.,'sigma_thresh':3,'g_sigma_shrinkage':0.,'nfields_mask':np.array([1,1,1,1])})\n",
    "# pars_learned, train_loss_with_reg, test_loss = cv_all_neurons_one_mask_one_reg_pars(key,mask,target_all_neurons,regressors_,reg_pars,fit_kwargs=fit_kwargs)\n",
    "\n",
    "\n",
    "# %time cv_all_neurons_one_mask_one_reg_pars(key,None,target_all_neurons,regressors_,reg_pars,fit_kwargs=fit_kwargs,nfields_max=2)\n"
   ]
  },
  {
   "cell_type": "code",
   "execution_count": 66,
   "id": "3e355eb5",
   "metadata": {},
   "outputs": [
    {
     "data": {
      "text/plain": [
       "<module 'gm_glm_bayesian' from '/mnt/home/szheng/projects/util_code/gm_glm_bayesian.py'>"
      ]
     },
     "execution_count": 66,
     "metadata": {},
     "output_type": "execute_result"
    }
   ],
   "source": [
    "reload(glm)"
   ]
  },
  {
   "cell_type": "code",
   "execution_count": 68,
   "id": "c53e3a3d",
   "metadata": {
    "scrolled": true
   },
   "outputs": [
    {
     "name": "stdout",
     "output_type": "stream",
     "text": [
      "CPU times: user 1.47 s, sys: 7.74 ms, total: 1.48 s\n",
      "Wall time: 1.48 s\n"
     ]
    }
   ],
   "source": [
    "%time pars_curr = glm.train_adam(regressors_,pars_curr,ys_l_filt,reg_pars,nfields_mask,loss_type=loss_type,reg_type=0,lr=lr,niters=niters,mask=None)\n",
    "\n",
    "\n"
   ]
  },
  {
   "cell_type": "code",
   "execution_count": 62,
   "id": "c3bd624d",
   "metadata": {
    "scrolled": true
   },
   "outputs": [
    {
     "name": "stdout",
     "output_type": "stream",
     "text": [
      "CPU times: user 2.02 s, sys: 0 ns, total: 2.02 s\n",
      "Wall time: 2.02 s\n",
      "CPU times: user 2.51 s, sys: 0 ns, total: 2.51 s\n",
      "Wall time: 2.51 s\n",
      "{'delta_b': DeviceArray([[ 1.5181558],\n",
      "             [ 3.3638427],\n",
      "             [ 2.1259973],\n",
      "             [ 2.179914 ],\n",
      "             [ 3.251612 ],\n",
      "             [ 2.4064205],\n",
      "             [ 3.4374158],\n",
      "             [ 2.7082062],\n",
      "             [ 3.5483296],\n",
      "             [ 1.5678546],\n",
      "             [ 1.0910339],\n",
      "             [ 1.40354  ],\n",
      "             [ 1.6992445],\n",
      "             [ 0.6466007],\n",
      "             [-3.6803524],\n",
      "             [ 1.1169676],\n",
      "             [ 2.2961464],\n",
      "             [ 0.9153034],\n",
      "             [ 2.2374203],\n",
      "             [ 1.7083477],\n",
      "             [ 2.4477897]], dtype=float32), 'delta_ws': DeviceArray([[ -0.5597779 ,  -0.05819666,  -0.6401155 ,  -0.22167186],\n",
      "             [ -1.3679669 ,  -0.67233384,  -4.337055  ,   2.5842488 ],\n",
      "             [ -4.445224  ,  -1.1380534 ,  -5.830137  ,   5.114734  ],\n",
      "             [ -8.291804  ,  -1.4737939 ,  -5.92386   ,   5.3939476 ],\n",
      "             [ -8.489189  ,  -1.6106353 ,  -5.5314727 ,   2.525414  ],\n",
      "             [ -8.816081  ,  -1.6474584 ,  -3.6281202 ,   2.436952  ],\n",
      "             [ -7.4336667 ,  -1.418927  ,  -2.243862  ,   2.6361806 ],\n",
      "             [ -5.2962637 ,  -1.0686487 ,  -0.8313323 ,   5.0258455 ],\n",
      "             [ -5.07001   ,  -0.6762037 ,  -3.2511294 ,   6.044734  ],\n",
      "             [ -3.7305157 ,   0.3212206 ,  -1.7144736 ,   6.1115394 ],\n",
      "             [ -4.7443757 ,   1.7220352 ,  -1.9164435 ,   5.6718116 ],\n",
      "             [ -5.8978434 ,   1.4266608 ,  -2.360523  ,   5.3671517 ],\n",
      "             [-10.691216  ,   0.9813587 ,  -0.22071607,   5.453501  ],\n",
      "             [ -9.748876  ,   3.2596676 ,  -3.5854588 ,   6.7951474 ],\n",
      "             [ -7.544099  ,   3.2798064 ,  -0.45037666,   5.728935  ],\n",
      "             [ -4.257364  ,   2.9077528 ,  -0.3368612 ,   1.9938109 ],\n",
      "             [  0.08095358,   2.149397  ,   2.0536182 ,   3.6208854 ],\n",
      "             [  1.658658  ,   1.7801179 ,   2.6487412 ,   0.11431083],\n",
      "             [  1.7141747 ,   0.7279745 ,   2.986632  ,   0.5956488 ],\n",
      "             [  4.1388297 ,   0.45606905,   3.5479965 ,   1.409162  ],\n",
      "             [  0.57537484,   0.0575331 ,   0.7102197 ,   0.1378387 ]],            dtype=float32), 'logb_bar': DeviceArray([[-0.84113467]], dtype=float32), 'logsigmas': DeviceArray([[ 5.655192 , 29.99581  , 12.237652 ,  7.0835786]], dtype=float32), 'logws_bar': DeviceArray([[13.488484 , -2.516966 ,  4.0563498,  4.1374373]], dtype=float32), 'mus': DeviceArray([[ 18.672268,  59.78725 , 149.49301 , 169.28404 ]], dtype=float32)}\n"
     ]
    },
    {
     "data": {
      "image/png": "[encoded data removed]",
      "text/plain": [
       "<Figure size 432x288 with 1 Axes>"
      ]
     },
     "metadata": {
      "needs_background": "light"
     },
     "output_type": "display_data"
    }
   ],
   "source": [
    "# ys_l = target_spk_one_trial_oneneuron.astype(float)\n",
    "ys_l = target_spk_one_trial_one_neuron.astype(float)#target_spk_oneneuron.astype(float)\n",
    "nfields_mask = np.array([1,1,1,1])\n",
    "key_int = numpy.random.randint(100)\n",
    "key = jax.random.PRNGKey(key_int)\n",
    "pars_init = glm.random_init_jax(key,regressors_,nfields_max=len(nfields_mask))\n",
    "loss_type = 1\n",
    "\n",
    "smthwin_schedule = [30,0.1]#[30,30,0.1]#\n",
    "lr_schedule = [0.05,0.01]#[0.05,0.02,0.0001]#\n",
    "niters_schedule = [4000,4000]#[4000,4000,2000]\n",
    "\n",
    "pars_curr = pars_init\n",
    "loss_l_l = []\n",
    "\n",
    "pars_curr_l = []\n",
    "for smthwin,lr,niters in zip(smthwin_schedule,lr_schedule, niters_schedule):\n",
    "\n",
    "    ys_l_filt = gaussian_filter1d(ys_l.astype(float) ,smthwin,mode='constant',cval=0)\n",
    "    if smthwin >1:\n",
    "        %time pars_curr,loss_l = glm.train_adam(regressors_,pars_curr,ys_l_filt,reg_pars,nfields_mask,loss_type=loss_type,reg_type=0,lr=lr,niters=niters,mask=None)\n",
    "    else:\n",
    "        %time pars_curr,loss_l = glm.train_adam(regressors_,pars_curr,ys_l_filt,reg_pars,nfields_mask,loss_type=0,reg_type=0,lr=lr,niters=niters,mask=None)\n",
    "    pars_curr_l.append(pars_curr)\n",
    "    loss = glm.negative_logpdf_no_reg(regressors_,pars_curr,ys_l,nfields_mask,mask=None,loss_type=0,reg_pars=reg_pars,reg_type=0)\n",
    "#     loss_l.append(loss)\n",
    "    plt.plot(loss_l)\n",
    "    loss_l_l.append(loss_l)\n",
    "pars_learned = pars_curr\n",
    "# print(loss_l)\n",
    "print(pars_learned)\n",
    "\n"
   ]
  },
  {
   "cell_type": "code",
   "execution_count": 84,
   "id": "fa3e00e5",
   "metadata": {},
   "outputs": [
    {
     "name": "stdout",
     "output_type": "stream",
     "text": [
      "CPU times: user 6.73 s, sys: 19.8 ms, total: 6.75 s\n",
      "Wall time: 6.72 s\n"
     ]
    }
   ],
   "source": [
    "reload(glm)\n",
    "smthwin_schedule = np.array([30,0.1])#[30,30,0.1]#\n",
    "ys_l_smthed = np.array([gaussian_filter1d(ys_l.astype(float) ,smthwin,mode='constant',cval=0) for smthwin in smthwin_schedule])\n",
    "lr_schedule = np.array([0.05,0.01])#[0.05,0.02,0.0001]#\n",
    "niters_schedule = np.array([4000,4000])#[4000,4000,2000]\n",
    "%time pars_learned= glm.train_adam_schedule(regressors_,pars_init,ys_l_smthed,reg_pars,nfields_mask,reg_type=0,lr_l=lr_schedule, niters_l=niters_schedule,smthwin_l=smthwin_schedule,mask=None)\n",
    "\n"
   ]
  },
  {
   "cell_type": "code",
   "execution_count": 73,
   "id": "82db7543",
   "metadata": {
    "scrolled": true
   },
   "outputs": [
    {
     "data": {
      "text/plain": [
       "<function gm_glm_bayesian.train_adam_schedule(regressors, pars, ys_l_smthed, reg_pars, nfields_mask, reg_type=0, lr_l=[0.1], niters_l=[100], smthwin_l=[30], mask=None)>"
      ]
     },
     "execution_count": 73,
     "metadata": {},
     "output_type": "execute_result"
    }
   ],
   "source": [
    "# reload(glm)\n",
    "# pars_init_all = \n",
    "# ys_l_smthed_all = \n",
    "# mask = None\n",
    "# glm.train_adam_allneurons_same_regpars_schedule(regressors_,pars_init_all,ys_l_smthed_all,reg_pars,nfields_mask,0,lr_schedule,niters_schedule,smthwin_schedule,mask)"
   ]
  },
  {
   "cell_type": "code",
   "execution_count": 94,
   "id": "341ae26a",
   "metadata": {},
   "outputs": [
    {
     "data": {
      "text/plain": [
       "<module 'glm_cv' from '/mnt/home/szheng/projects/util_code/glm_cv.py'>"
      ]
     },
     "execution_count": 94,
     "metadata": {},
     "output_type": "execute_result"
    }
   ],
   "source": [
    "import glm_cv as glmc\n",
    "reload(glmc)"
   ]
  },
  {
   "cell_type": "code",
   "execution_count": 80,
   "id": "8d009586",
   "metadata": {},
   "outputs": [
    {
     "data": {
      "text/plain": [
       "(2, 10830)"
      ]
     },
     "execution_count": 80,
     "metadata": {},
     "output_type": "execute_result"
    }
   ],
   "source": [
    "ys_l_smthed"
   ]
  },
  {
   "cell_type": "code",
   "execution_count": 95,
   "id": "f34f74ae",
   "metadata": {},
   "outputs": [],
   "source": [
    "ch=0\n",
    "regressors_one_trial,target_spk_one_trial = glm.subselect_regressors(regressors, target_spk_allneurons, trial_type=ch)\n"
   ]
  },
  {
   "cell_type": "code",
   "execution_count": 107,
   "id": "40549be2",
   "metadata": {},
   "outputs": [],
   "source": [
    "ys_l_smthed_allneurons = []\n",
    "for win in smthwin_schedule:\n",
    "    ys_l_smthed_allneurons.append(gaussian_filter1d(target_spk_one_trial,win,mode='constant',cval=0,axis=0))\n",
    "ys_l_smthed_allneurons = np.array(ys_l_smthed_allneurons)"
   ]
  },
  {
   "cell_type": "code",
   "execution_count": null,
   "id": "89ad09c0",
   "metadata": {},
   "outputs": [],
   "source": []
  },
  {
   "cell_type": "code",
   "execution_count": 85,
   "id": "5e617582",
   "metadata": {},
   "outputs": [],
   "source": [
    "mask = glmc.get_train_test_mask_from_space(regressors_,ratio_consec_bins_to_mask=0.2)\n",
    "nfields_max=4\n",
    "pars_learned_trans, test_loss = glmc.train_and_test(key,ys_l_smthed,regressors_,nfields_mask,reg_pars_=reg_pars,reg_type=0,mask=mask,loss_type=0,niters_l=niters_schedule,\n",
    "                    lr_l=lr_schedule,nfields_max=nfields_max,smthwin_l=smthwin_schedule\n",
    "                   )\n"
   ]
  },
  {
   "cell_type": "code",
   "execution_count": 121,
   "id": "50b0a127",
   "metadata": {},
   "outputs": [
    {
     "name": "stdout",
     "output_type": "stream",
     "text": [
      "CPU times: user 7.22 s, sys: 128 ms, total: 7.35 s\n",
      "Wall time: 7.15 s\n"
     ]
    }
   ],
   "source": [
    "%time pars_learned_trans, test_loss = glmc.train_and_test_all_neurons(key,ys_l_smthed_allneurons,regressors_,nfields_mask,reg_pars_=reg_pars,reg_type=0,mask=mask,loss_type=0,niters_l=np.array([1,1]), \\\n",
    "                    lr_l=lr_schedule,nfields_max=nfields_max,smthwin_l=smthwin_schedule)\n",
    "                   "
   ]
  },
  {
   "cell_type": "code",
   "execution_count": 88,
   "id": "a739c590",
   "metadata": {},
   "outputs": [],
   "source": [
    "pars_learned = pars_learned_trans"
   ]
  },
  {
   "cell_type": "code",
   "execution_count": 89,
   "id": "2922581a",
   "metadata": {},
   "outputs": [
    {
     "data": {
      "text/plain": [
       "[<matplotlib.lines.Line2D at 0x1553e68e2e20>]"
      ]
     },
     "execution_count": 89,
     "metadata": {},
     "output_type": "execute_result"
    },
    {
     "data": {
      "image/png": "[encoded data removed]",
      "text/plain": [
       "<Figure size 432x288 with 1 Axes>"
      ]
     },
     "metadata": {
      "needs_background": "light"
     },
     "output_type": "display_data"
    }
   ],
   "source": [
    "# nfields_mask = reg_pars_l['nfields_mask'][regpars_ind]\n",
    "yhat=glm.forward(regressors_,pars_learned,nfields_mask,sigma_min=1)\n",
    "# yhat=glm.forward(regressors_,pars_learned_post,nfields_mask,sigma_min=1)\n",
    "\n",
    "# plt.plot(target_all_neurons[:,pyr_ind])\n",
    "# plt.plot(ys_l_filt)\n",
    "plt.plot(ys_l)\n",
    "plt.plot(yhat)"
   ]
  },
  {
   "cell_type": "code",
   "execution_count": 90,
   "id": "f941293f",
   "metadata": {},
   "outputs": [],
   "source": [
    "pars_learned\n",
    "pars_learned_selected_masked = mask_fields(pars_learned,nfields_mask)\n",
    "reload(glm)\n",
    "regressors_frmap=copy.copy(regressors_)\n",
    "nbins=222\n",
    "# fr_['lin_binned_fine'],bins = pd.cut(fr_['lin'],bins=nbins,labels=False,retbins=True)\n",
    "# occupancy_in_bins=fr_.groupby(['trial','lin_binned_fine']).count().iloc[:,0]\n",
    "regressors_frmap['xs'] = np.arange(nbins)\n",
    "nt = pars_learned_selected_masked['delta_ws'].shape[0]\n",
    "# regressors_frmap['trial_type_by_trial'] = np.zeros(nt).astype(int)\n",
    "trial_type_by_trial = fr_.groupby(['trial','visitedArm']).mean().index.get_level_values(1)\n",
    "# regressors_frmap['trial_type_by_trial'] = np.array(trial_type_by_trial,dtype=int)\n",
    "regressors_frmap['trial_type_by_trial'] = np.zeros(regressors_['ntrials'],dtype=int)\n",
    "fr_map_hat_oneneuron=glm.gm_func_by_trial(regressors_frmap,pars_learned_selected_masked)\n",
    "# fr_map_hat_oneneuron=glm.gm_func_by_trial(regressors_frmap,pars_learned_post)"
   ]
  },
  {
   "cell_type": "code",
   "execution_count": 35,
   "id": "534467ca",
   "metadata": {},
   "outputs": [
    {
     "data": {
      "text/plain": [
       "(222, 21)"
      ]
     },
     "execution_count": 35,
     "metadata": {},
     "output_type": "execute_result"
    }
   ],
   "source": [
    "fr_map_hat_oneneuron.shape"
   ]
  },
  {
   "cell_type": "code",
   "execution_count": 91,
   "id": "9dd3f311",
   "metadata": {},
   "outputs": [
    {
     "data": {
      "image/png": "[encoded data removed]",
      "text/plain": [
       "<Figure size 432x288 with 4 Axes>"
      ]
     },
     "metadata": {
      "needs_background": "light"
     },
     "output_type": "display_data"
    }
   ],
   "source": [
    "fig,axs=plt.subplots(2,2)\n",
    "# for tt in [0,1]:\n",
    "for tt in [0]:\n",
    "    axs[tt,0].imshow(fr_map_[tt][unit_ind_in_pyr].T,aspect='auto')\n",
    "    trial_ma = regressors_frmap['trial_type_by_trial']==tt\n",
    "    axs[tt,1].imshow(fr_map_hat_oneneuron[:,trial_ma].T,aspect='auto')"
   ]
  },
  {
   "cell_type": "code",
   "execution_count": 92,
   "id": "a8bbeeb6",
   "metadata": {},
   "outputs": [
    {
     "data": {
      "text/plain": [
       "[<matplotlib.lines.Line2D at 0x1553e642adf0>]"
      ]
     },
     "execution_count": 92,
     "metadata": {},
     "output_type": "execute_result"
    },
    {
     "data": {
      "image/png": "[encoded data removed]",
      "text/plain": [
       "<Figure size 432x288 with 1 Axes>"
      ]
     },
     "metadata": {
      "needs_background": "light"
     },
     "output_type": "display_data"
    }
   ],
   "source": [
    "ttt=13\n",
    "trial_ma = regressors_frmap['trial_type_by_trial']==tt\n",
    "plt.plot(bin_to_lin,fr_map_[tt][unit_ind_in_pyr].T[ttt])\n",
    "plt.plot(fr_map_hat_oneneuron[:,trial_ma].T[ttt])"
   ]
  },
  {
   "cell_type": "code",
   "execution_count": 173,
   "id": "19631848",
   "metadata": {},
   "outputs": [],
   "source": [
    "# fr_map_from_fr = fr_.groupby(['visitedArm','trial','lin_binned'])[cell_cols['pyr']].mean()"
   ]
  },
  {
   "cell_type": "code",
   "execution_count": 55,
   "id": "ea0c2d00",
   "metadata": {},
   "outputs": [
    {
     "data": {
      "text/plain": [
       "DeviceArray([[ 19.139904, 126.63898 , 166.35274 , 212.88863 ],\n",
       "             [ 12.781515,  20.8584  , 115.56924 , 207.45279 ]],            dtype=float32)"
      ]
     },
     "execution_count": 55,
     "metadata": {},
     "output_type": "execute_result"
    }
   ],
   "source": [
    "pars_learned_afterinvtrans['mus']"
   ]
  },
  {
   "cell_type": "code",
   "execution_count": 144,
   "id": "a987f0de",
   "metadata": {},
   "outputs": [
    {
     "data": {
      "text/plain": [
       "<matplotlib.legend.Legend at 0x1553e4bb28b0>"
      ]
     },
     "execution_count": 144,
     "metadata": {},
     "output_type": "execute_result"
    },
    {
     "data": {
      "image/png": "[encoded data removed]",
      "text/plain": [
       "<Figure size 432x288 with 1 Axes>"
      ]
     },
     "metadata": {
      "needs_background": "light"
     },
     "output_type": "display_data"
    }
   ],
   "source": [
    "# plt.plot(fr_map_hat_oneneuron[:50].mean(axis=0))\n",
    "pars_learned_afterinvtrans = glm.pars_invtransform(pars_learned,regressors_)\n",
    "fig,ax=plt.subplots()\n",
    "trial_ma = regressors_frmap['trial_type_by_trial']==0\n",
    "# ax.plot(pars_learned_afterinvtrans['ws'][trial_ma,0],label='w')\n",
    "ax.plot(pars_learned_afterinvtrans['ws'][trial_ma,0:1].sum(axis=1),label='w')\n",
    "ax.plot(fr_map_[0][unit_ind_in_pyr][:20].mean(axis=0),label='empirical field mean fr')\n",
    "fig.legend()\n"
   ]
  },
  {
   "cell_type": "code",
   "execution_count": 337,
   "id": "40b259fd",
   "metadata": {},
   "outputs": [
    {
     "data": {
      "text/plain": [
       "<module 'gm_glm_bayesian' from '/mnt/home/szheng/projects/util_code/gm_glm_bayesian.py'>"
      ]
     },
     "execution_count": 337,
     "metadata": {},
     "output_type": "execute_result"
    }
   ],
   "source": [
    "reload(glmc)\n",
    "reload(glm)"
   ]
  },
  {
   "cell_type": "markdown",
   "id": "0b73cd9a",
   "metadata": {},
   "source": [
    "# CV"
   ]
  },
  {
   "cell_type": "code",
   "execution_count": 41,
   "id": "535850ca",
   "metadata": {},
   "outputs": [
    {
     "data": {
      "text/plain": [
       "<module 'glm_cv' from '/mnt/home/szheng/projects/util_code/glm_cv.py'>"
      ]
     },
     "execution_count": 41,
     "metadata": {},
     "output_type": "execute_result"
    }
   ],
   "source": [
    "reload(glmc)"
   ]
  },
  {
   "cell_type": "code",
   "execution_count": null,
   "id": "46212519",
   "metadata": {},
   "outputs": [],
   "source": [
    "reload(glm)\n",
    "smthwin_l = np.array([30,0.1])\n",
    "target_all_neurons_smthed = glm.smooth_target(target_all_neurons,smthwin_l)"
   ]
  },
  {
   "cell_type": "code",
   "execution_count": 81,
   "id": "e0fa7dff",
   "metadata": {},
   "outputs": [],
   "source": [
    "\n",
    "regressors_one_trial_d,target_spk_one_trial_d={},{}\n",
    "ch=0\n",
    "pyr_ind = 0\n",
    "reg_pars_ = gm.get_reg_pars({'g_w':1000.,'g_b':10000.,'g_sigma_thresh':100000.,'sigma_thresh':3,'g_sigma_shrinkage':0.})\n",
    "cv_kwargs_= {'cv_fold':10}\n",
    "\n",
    "# reg_pars_tosweep_kwargs_={'g_w':[0.00001,0.0001,0.001,0.01,0.1,100.],'g_b':[0.00001,0.001,0.1,100.],'nfields':[1,2,3,4]}\n",
    "reg_pars_tosweep_kwargs_={'g_w':[100.],'g_b':[100.,1000000.],'nfields':[3]}\n",
    "nfields_max = numpy.max(reg_pars_tosweep_kwargs_['nfields'])\n",
    "\n",
    "fit_kwargs_=dict(niters_l = np.array([1,1]),smthwin_l = smthwin_l,lr_l = np.array([0.05,0.02]),nfields_max=nfields_max)\n",
    "\n",
    "regressors_one_trial_d[ch], target_spk_one_trial_d[ch]=glm.subselect_regressors(regressors, target_spk_allneurons[:,[0]], trial_type=ch)\n",
    "target_all_neurons = target_spk_one_trial_d[ch]#target_spk_allneurons #\n",
    "regressors_ = regressors_one_trial_d[ch]\n",
    "# regressors_ = regressors\n",
    "regressors_['ntrials'] = len(numpy.unique(regressors_['trial_inds_int']))\n",
    "# save_kwargs_ = {'dir':os.path.join(py_data_dir,'glm_deterministic'),'fn':f'cv_trial{ch}_allneuron.p'}\n",
    "save_kwargs_ = {'dir':os.path.join(py_data_dir,'glm_deterministic'),'fn':f'cv_trial{ch}_pyr{pyr_ind}.p'}\n",
    "fn_full, cv_kwargs, fit_kwargs, reg_pars_l, reg_pars_name, mask_l, reg_pars_df=glmc.cv_prep(regressors_,reg_pars_tosweep_kwargs_=reg_pars_tosweep_kwargs_,reg_pars_=reg_pars_,fit_kwargs_=fit_kwargs_,cv_kwargs_=cv_kwargs_,save_kwargs_={},nfields_max=nfields_max)\n",
    "nfields_mask_l = reg_pars_l['nfields_mask']\n",
    "dosave = True\n",
    "forcereload = True\n",
    "\n"
   ]
  },
  {
   "cell_type": "code",
   "execution_count": 63,
   "id": "e872dc45",
   "metadata": {},
   "outputs": [],
   "source": [
    "reg_pars_l_repeated=tree_map(lambda x:np.tile(x,cv_kwargs['cv_fold']) if len(x.shape)==1 else np.tile(x,(cv_kwargs['cv_fold'],1)),reg_pars_l)\n",
    "n_regpars = len(reg_pars_l['g_w'])\n",
    "mask_l_repeated = np.repeat(mask_l,n_regpars,axis=0)\n",
    "\n"
   ]
  },
  {
   "cell_type": "code",
   "execution_count": 68,
   "id": "2a1b9a02",
   "metadata": {
    "scrolled": true
   },
   "outputs": [
    {
     "name": "stdout",
     "output_type": "stream",
     "text": [
      "CPU times: user 1min 9s, sys: 27.9 ms, total: 1min 9s\n",
      "Wall time: 1min 9s\n"
     ]
    }
   ],
   "source": [
    "\n",
    "\n",
    "\n",
    "niters_l = np.array([2000,2000])\n",
    "lr_l = np.array([0.05,0.02])\n",
    "\n",
    "train_and_test_all_neurons_wrapper = lambda args:glmc.train_and_test_all_neurons(key,target_all_neurons_smthed,regressors_,args[0],reg_pars_=args[1],reg_type = 0,mask=args[2],loss_type=0,niters_l=niters_l,lr_l=lr_l,smthwin_l=smthwin_l,nfields_max=nfields_max)\n",
    "\n",
    "%time res = lax.map(train_and_test_all_neurons_wrapper,(reg_pars_l_repeated['nfields_mask'],reg_pars_l_repeated,mask_l_repeated))\n",
    "\n",
    "# pars_learned,test_loss = train_and_test_all_neurons(key,target_all_neurons_smthed,regressors,nfields_mask,reg_pars_={},reg_type = 0,mask=None,loss_type=0,niters_l=[4000],lr_l=[0.05],smthwin_l=[30],nfields_max=5)\n",
    "\n"
   ]
  },
  {
   "cell_type": "code",
   "execution_count": 86,
   "id": "b6799412",
   "metadata": {},
   "outputs": [
    {
     "name": "stdout",
     "output_type": "stream",
     "text": [
      "submitit executor will schedule jobs on slurm!\n",
      "2022-08-24 22:55:13.781181: E external/org_tensorflow/tensorflow/stream_executor/cuda/cuda_driver.cc:271] failed call to cuInit: CUDA_ERROR_NO_DEVICE: no CUDA-capable device is detected\n",
      "WARNING:absl:No GPU/TPU found, falling back to CPU. (Set TF_CPP_MIN_LOG_LEVEL=0 and rerun for more info.)\n",
      "all jobs submitted\n",
      "all jobs submitted\n"
     ]
    }
   ],
   "source": [
    "!python ../util_code/glm_cv.py 1"
   ]
  },
  {
   "cell_type": "code",
   "execution_count": 103,
   "id": "5f16642b",
   "metadata": {
    "scrolled": true
   },
   "outputs": [],
   "source": [
    "fn=os.path.join(save_kwargs_['dir'],'cv_trial1_allneuron_new.p')\n",
    "res=pickle.load(open(fn,'rb'))"
   ]
  },
  {
   "cell_type": "code",
   "execution_count": 106,
   "id": "6c43df0e",
   "metadata": {},
   "outputs": [
    {
     "data": {
      "text/html": [
       "<div>\n",
       "<style scoped>\n",
       "    .dataframe tbody tr th:only-of-type {\n",
       "        vertical-align: middle;\n",
       "    }\n",
       "\n",
       "    .dataframe tbody tr th {\n",
       "        vertical-align: top;\n",
       "    }\n",
       "\n",
       "    .dataframe thead th {\n",
       "        text-align: right;\n",
       "    }\n",
       "</style>\n",
       "<table border=\"1\" class=\"dataframe\">\n",
       "  <thead>\n",
       "    <tr style=\"text-align: right;\">\n",
       "      <th></th>\n",
       "      <th>S_l1</th>\n",
       "      <th>g_mu</th>\n",
       "      <th>g_sigma</th>\n",
       "      <th>g_w</th>\n",
       "      <th>g_b</th>\n",
       "      <th>sigma_thresh</th>\n",
       "      <th>g_sigma_thresh</th>\n",
       "      <th>nfields</th>\n",
       "      <th>g_order</th>\n",
       "      <th>g_sigma_shrinkage</th>\n",
       "      <th>...</th>\n",
       "      <th>unit_367</th>\n",
       "      <th>unit_368</th>\n",
       "      <th>unit_369</th>\n",
       "      <th>unit_370</th>\n",
       "      <th>unit_371</th>\n",
       "      <th>unit_372</th>\n",
       "      <th>unit_373</th>\n",
       "      <th>unit_374</th>\n",
       "      <th>unit_375</th>\n",
       "      <th>unit_376</th>\n",
       "    </tr>\n",
       "  </thead>\n",
       "  <tbody>\n",
       "    <tr>\n",
       "      <th>0</th>\n",
       "      <td>100000000.0</td>\n",
       "      <td>200.0</td>\n",
       "      <td>1000.0</td>\n",
       "      <td>100.0</td>\n",
       "      <td>100.0</td>\n",
       "      <td>3</td>\n",
       "      <td>100000.0</td>\n",
       "      <td>1</td>\n",
       "      <td>1000.0</td>\n",
       "      <td>0.0</td>\n",
       "      <td>...</td>\n",
       "      <td>0.166795</td>\n",
       "      <td>0.161024</td>\n",
       "      <td>0.035867</td>\n",
       "      <td>0.113848</td>\n",
       "      <td>0.266569</td>\n",
       "      <td>0.217234</td>\n",
       "      <td>0.136937</td>\n",
       "      <td>0.141855</td>\n",
       "      <td>0.162382</td>\n",
       "      <td>0.200609</td>\n",
       "    </tr>\n",
       "    <tr>\n",
       "      <th>1</th>\n",
       "      <td>100000000.0</td>\n",
       "      <td>200.0</td>\n",
       "      <td>1000.0</td>\n",
       "      <td>100.0</td>\n",
       "      <td>100.0</td>\n",
       "      <td>3</td>\n",
       "      <td>100000.0</td>\n",
       "      <td>2</td>\n",
       "      <td>1000.0</td>\n",
       "      <td>0.0</td>\n",
       "      <td>...</td>\n",
       "      <td>0.369218</td>\n",
       "      <td>0.559873</td>\n",
       "      <td>0.177468</td>\n",
       "      <td>0.674031</td>\n",
       "      <td>0.551585</td>\n",
       "      <td>0.956548</td>\n",
       "      <td>0.215956</td>\n",
       "      <td>0.539468</td>\n",
       "      <td>0.439992</td>\n",
       "      <td>0.300119</td>\n",
       "    </tr>\n",
       "  </tbody>\n",
       "</table>\n",
       "<p>2 rows × 344 columns</p>\n",
       "</div>"
      ],
      "text/plain": [
       "          S_l1   g_mu  g_sigma    g_w    g_b  sigma_thresh  g_sigma_thresh  \\\n",
       "0  100000000.0  200.0   1000.0  100.0  100.0             3        100000.0   \n",
       "1  100000000.0  200.0   1000.0  100.0  100.0             3        100000.0   \n",
       "\n",
       "   nfields  g_order  g_sigma_shrinkage  ...  unit_367  unit_368  unit_369  \\\n",
       "0        1   1000.0                0.0  ...  0.166795  0.161024  0.035867   \n",
       "1        2   1000.0                0.0  ...  0.369218  0.559873  0.177468   \n",
       "\n",
       "   unit_370  unit_371  unit_372  unit_373  unit_374  unit_375  unit_376  \n",
       "0  0.113848  0.266569  0.217234  0.136937  0.141855  0.162382  0.200609  \n",
       "1  0.674031  0.551585  0.956548  0.215956  0.539468  0.439992  0.300119  \n",
       "\n",
       "[2 rows x 344 columns]"
      ]
     },
     "execution_count": 106,
     "metadata": {},
     "output_type": "execute_result"
    }
   ],
   "source": [
    "res['loss']"
   ]
  },
  {
   "cell_type": "code",
   "execution_count": 97,
   "id": "23c6dee3",
   "metadata": {},
   "outputs": [
    {
     "data": {
      "text/plain": [
       "'cv_one_neuron.p'"
      ]
     },
     "execution_count": 97,
     "metadata": {},
     "output_type": "execute_result"
    }
   ],
   "source": [
    "fn_full"
   ]
  },
  {
   "cell_type": "code",
   "execution_count": 96,
   "id": "9ae8d1cb",
   "metadata": {},
   "outputs": [
    {
     "data": {
      "text/plain": [
       "{'dir': '/mnt/home/szheng/ceph/ad/roman_data/e15/e15_13f1/e15_13f1_220117/py_data/glm_deterministic',\n",
       " 'fn': 'cv_trial0_pyr0.p'}"
      ]
     },
     "execution_count": 96,
     "metadata": {},
     "output_type": "execute_result"
    }
   ],
   "source": [
    "save_kwargs_"
   ]
  },
  {
   "cell_type": "code",
   "execution_count": 99,
   "id": "5eea7faf",
   "metadata": {},
   "outputs": [
    {
     "name": "stdout",
     "output_type": "stream",
     "text": [
      "saved at /mnt/home/szheng/ceph/ad/roman_data/e15/e15_13f1/e15_13f1_220117/py_data/glm_deterministic/cv_trial0_pyr0.p\n"
     ]
    }
   ],
   "source": [
    "reload(glmc)\n",
    "res=glmc.cv_all_neurons(target_all_neurons,regressors_,reg_pars_tosweep_kwargs_=reg_pars_tosweep_kwargs_,reg_pars_=reg_pars_,fit_kwargs_=fit_kwargs_,cv_kwargs_=cv_kwargs_,dosave=True,save_kwargs_=save_kwargs_,forcereload=True,key_int=0,col_names=cell_cols['pyr'][:1])\n",
    "\n",
    "\n"
   ]
  },
  {
   "cell_type": "code",
   "execution_count": 101,
   "id": "93390bca",
   "metadata": {},
   "outputs": [
    {
     "data": {
      "text/plain": [
       "{'loss':            S_l1   g_mu  g_sigma    g_w        g_b  sigma_thresh  \\\n",
       " 0   100000000.0  200.0   1000.0  100.0      100.0             3   \n",
       " 1   100000000.0  200.0   1000.0  100.0  1000000.0             3   \n",
       " 2   100000000.0  200.0   1000.0  100.0      100.0             3   \n",
       " 3   100000000.0  200.0   1000.0  100.0  1000000.0             3   \n",
       " 4   100000000.0  200.0   1000.0  100.0      100.0             3   \n",
       " 5   100000000.0  200.0   1000.0  100.0  1000000.0             3   \n",
       " 6   100000000.0  200.0   1000.0  100.0      100.0             3   \n",
       " 7   100000000.0  200.0   1000.0  100.0  1000000.0             3   \n",
       " 8   100000000.0  200.0   1000.0  100.0      100.0             3   \n",
       " 9   100000000.0  200.0   1000.0  100.0  1000000.0             3   \n",
       " 10  100000000.0  200.0   1000.0  100.0      100.0             3   \n",
       " 11  100000000.0  200.0   1000.0  100.0  1000000.0             3   \n",
       " 12  100000000.0  200.0   1000.0  100.0      100.0             3   \n",
       " 13  100000000.0  200.0   1000.0  100.0  1000000.0             3   \n",
       " 14  100000000.0  200.0   1000.0  100.0      100.0             3   \n",
       " 15  100000000.0  200.0   1000.0  100.0  1000000.0             3   \n",
       " 16  100000000.0  200.0   1000.0  100.0      100.0             3   \n",
       " 17  100000000.0  200.0   1000.0  100.0  1000000.0             3   \n",
       " 18  100000000.0  200.0   1000.0  100.0      100.0             3   \n",
       " 19  100000000.0  200.0   1000.0  100.0  1000000.0             3   \n",
       " \n",
       "     g_sigma_thresh  nfields  g_order  g_sigma_shrinkage  reg_pars_ind  \\\n",
       " 0         100000.0        3   1000.0                0.0             0   \n",
       " 1         100000.0        3   1000.0                0.0             1   \n",
       " 2         100000.0        3   1000.0                0.0             0   \n",
       " 3         100000.0        3   1000.0                0.0             1   \n",
       " 4         100000.0        3   1000.0                0.0             0   \n",
       " 5         100000.0        3   1000.0                0.0             1   \n",
       " 6         100000.0        3   1000.0                0.0             0   \n",
       " 7         100000.0        3   1000.0                0.0             1   \n",
       " 8         100000.0        3   1000.0                0.0             0   \n",
       " 9         100000.0        3   1000.0                0.0             1   \n",
       " 10        100000.0        3   1000.0                0.0             0   \n",
       " 11        100000.0        3   1000.0                0.0             1   \n",
       " 12        100000.0        3   1000.0                0.0             0   \n",
       " 13        100000.0        3   1000.0                0.0             1   \n",
       " 14        100000.0        3   1000.0                0.0             0   \n",
       " 15        100000.0        3   1000.0                0.0             1   \n",
       " 16        100000.0        3   1000.0                0.0             0   \n",
       " 17        100000.0        3   1000.0                0.0             1   \n",
       " 18        100000.0        3   1000.0                0.0             0   \n",
       " 19        100000.0        3   1000.0                0.0             1   \n",
       " \n",
       "      unit_31  \n",
       " 0   0.822468  \n",
       " 1   0.822320  \n",
       " 2   0.822492  \n",
       " 3   0.822341  \n",
       " 4   0.926633  \n",
       " 5   0.926484  \n",
       " 6   0.782660  \n",
       " 7   0.782512  \n",
       " 8   0.854958  \n",
       " 9   0.854784  \n",
       " 10  0.865370  \n",
       " 11  0.865267  \n",
       " 12  0.867541  \n",
       " 13  0.867391  \n",
       " 14  0.808581  \n",
       " 15  0.808466  \n",
       " 16  0.875388  \n",
       " 17  0.875218  \n",
       " 18  0.899026  \n",
       " 19  0.898856  ,\n",
       " 'pars_learned': {'delta_b': DeviceArray([[[[ 0.29742742],\n",
       "                 [ 1.3675172 ],\n",
       "                 [ 1.6307251 ],\n",
       "                 [-1.8272641 ],\n",
       "                 [ 0.33726954],\n",
       "                 [-1.992058  ],\n",
       "                 [ 1.4842669 ],\n",
       "                 [-1.7412083 ],\n",
       "                 [-1.3874731 ],\n",
       "                 [-0.5331526 ],\n",
       "                 [ 0.04359939],\n",
       "                 [-1.2744939 ],\n",
       "                 [-0.9218055 ],\n",
       "                 [ 1.4856818 ],\n",
       "                 [ 1.5065105 ],\n",
       "                 [ 1.4811685 ],\n",
       "                 [-1.610996  ],\n",
       "                 [-1.4644264 ],\n",
       "                 [ 1.2210704 ],\n",
       "                 [-1.2426231 ],\n",
       "                 [ 1.0179392 ]]],\n",
       "  \n",
       "  \n",
       "               [[[ 0.2974275 ],\n",
       "                 [ 1.3675172 ],\n",
       "                 [ 1.6307253 ],\n",
       "                 [-1.8672631 ],\n",
       "                 [ 0.33726972],\n",
       "                 [-2.032057  ],\n",
       "                 [ 1.4842671 ],\n",
       "                 [-1.7812074 ],\n",
       "                 [-1.3874735 ],\n",
       "                 [-0.5331525 ],\n",
       "                 [ 0.04359951],\n",
       "                 [-1.3144927 ],\n",
       "                 [-0.9618044 ],\n",
       "                 [ 1.4856818 ],\n",
       "                 [ 1.5065105 ],\n",
       "                 [ 1.4811685 ],\n",
       "                 [-1.650995  ],\n",
       "                 [-1.5044254 ],\n",
       "                 [ 1.2210705 ],\n",
       "                 [-1.2826221 ],\n",
       "                 [ 1.0179394 ]]],\n",
       "  \n",
       "  \n",
       "               [[[ 0.29742745],\n",
       "                 [ 1.3675172 ],\n",
       "                 [ 1.630725  ],\n",
       "                 [-1.8272641 ],\n",
       "                 [ 0.33726954],\n",
       "                 [-1.992058  ],\n",
       "                 [ 1.4842669 ],\n",
       "                 [-1.7412083 ],\n",
       "                 [-1.3874731 ],\n",
       "                 [-0.53315264],\n",
       "                 [ 0.04359939],\n",
       "                 [-1.2744939 ],\n",
       "                 [-0.92180544],\n",
       "                 [ 1.4856818 ],\n",
       "                 [ 1.5065105 ],\n",
       "                 [ 1.4811685 ],\n",
       "                 [-1.610996  ],\n",
       "                 [-1.4644264 ],\n",
       "                 [ 1.2210704 ],\n",
       "                 [-1.2426231 ],\n",
       "                 [ 1.0179392 ]]],\n",
       "  \n",
       "  \n",
       "               [[[ 0.2974275 ],\n",
       "                 [ 1.3675172 ],\n",
       "                 [ 1.6307251 ],\n",
       "                 [-1.8672631 ],\n",
       "                 [ 0.3372697 ],\n",
       "                 [-2.0320568 ],\n",
       "                 [ 1.4842671 ],\n",
       "                 [-1.7812073 ],\n",
       "                 [-1.3874735 ],\n",
       "                 [-0.53315264],\n",
       "                 [ 0.04359948],\n",
       "                 [-1.3144927 ],\n",
       "                 [-0.9618044 ],\n",
       "                 [ 1.4856819 ],\n",
       "                 [ 1.5065105 ],\n",
       "                 [ 1.4811685 ],\n",
       "                 [-1.6509951 ],\n",
       "                 [-1.5044254 ],\n",
       "                 [ 1.2210706 ],\n",
       "                 [-1.2826221 ],\n",
       "                 [ 1.0179394 ]]],\n",
       "  \n",
       "  \n",
       "               [[[ 0.29742742],\n",
       "                 [ 1.3675172 ],\n",
       "                 [ 1.630725  ],\n",
       "                 [-1.8272641 ],\n",
       "                 [ 0.33726954],\n",
       "                 [-1.992058  ],\n",
       "                 [ 1.4842669 ],\n",
       "                 [-1.7412083 ],\n",
       "                 [-1.3874732 ],\n",
       "                 [-0.53315264],\n",
       "                 [ 0.04359938],\n",
       "                 [-1.274494  ],\n",
       "                 [-0.92180556],\n",
       "                 [ 1.4856818 ],\n",
       "                 [ 1.5065105 ],\n",
       "                 [ 1.4811685 ],\n",
       "                 [-1.610996  ],\n",
       "                 [-1.4644264 ],\n",
       "                 [ 1.2210704 ],\n",
       "                 [-1.2426231 ],\n",
       "                 [ 1.0179392 ]]],\n",
       "  \n",
       "  \n",
       "               [[[ 0.2974275 ],\n",
       "                 [ 1.3675174 ],\n",
       "                 [ 1.6307251 ],\n",
       "                 [-1.8672631 ],\n",
       "                 [ 0.33726972],\n",
       "                 [-2.032057  ],\n",
       "                 [ 1.4842671 ],\n",
       "                 [-1.7812073 ],\n",
       "                 [-1.3874736 ],\n",
       "                 [-0.5331525 ],\n",
       "                 [ 0.04359946],\n",
       "                 [-1.3144927 ],\n",
       "                 [-0.9618044 ],\n",
       "                 [ 1.4856818 ],\n",
       "                 [ 1.5065105 ],\n",
       "                 [ 1.4811685 ],\n",
       "                 [-1.650995  ],\n",
       "                 [-1.5044254 ],\n",
       "                 [ 1.2210705 ],\n",
       "                 [-1.2826221 ],\n",
       "                 [ 1.0179396 ]]],\n",
       "  \n",
       "  \n",
       "               [[[ 0.29742745],\n",
       "                 [ 1.3675172 ],\n",
       "                 [ 1.6307251 ],\n",
       "                 [-1.8272641 ],\n",
       "                 [ 0.33726954],\n",
       "                 [-1.992058  ],\n",
       "                 [ 1.4842669 ],\n",
       "                 [-1.7412083 ],\n",
       "                 [-1.3874732 ],\n",
       "                 [-0.5331526 ],\n",
       "                 [ 0.04359938],\n",
       "                 [-1.274494  ],\n",
       "                 [-0.9218057 ],\n",
       "                 [ 1.4856818 ],\n",
       "                 [ 1.5065105 ],\n",
       "                 [ 1.4811685 ],\n",
       "                 [-1.610996  ],\n",
       "                 [-1.4644264 ],\n",
       "                 [ 1.2210704 ],\n",
       "                 [-1.2426231 ],\n",
       "                 [ 1.0179392 ]]],\n",
       "  \n",
       "  \n",
       "               [[[ 0.29742754],\n",
       "                 [ 1.3675172 ],\n",
       "                 [ 1.6307251 ],\n",
       "                 [-1.8672631 ],\n",
       "                 [ 0.3372697 ],\n",
       "                 [-2.032057  ],\n",
       "                 [ 1.4842671 ],\n",
       "                 [-1.7812072 ],\n",
       "                 [-1.3874736 ],\n",
       "                 [-0.5331525 ],\n",
       "                 [ 0.04359945],\n",
       "                 [-1.3144927 ],\n",
       "                 [-0.96180445],\n",
       "                 [ 1.4856819 ],\n",
       "                 [ 1.5065105 ],\n",
       "                 [ 1.4811685 ],\n",
       "                 [-1.650995  ],\n",
       "                 [-1.5044253 ],\n",
       "                 [ 1.2210705 ],\n",
       "                 [-1.2826221 ],\n",
       "                 [ 1.0179394 ]]],\n",
       "  \n",
       "  \n",
       "               [[[ 0.29742745],\n",
       "                 [ 1.3675172 ],\n",
       "                 [ 1.630725  ],\n",
       "                 [-1.8272641 ],\n",
       "                 [ 0.33726954],\n",
       "                 [-1.992058  ],\n",
       "                 [ 1.4842669 ],\n",
       "                 [-1.7412083 ],\n",
       "                 [-1.3874731 ],\n",
       "                 [-0.5331526 ],\n",
       "                 [ 0.04359939],\n",
       "                 [-1.2744939 ],\n",
       "                 [-0.9218055 ],\n",
       "                 [ 1.4856818 ],\n",
       "                 [ 1.5065105 ],\n",
       "                 [ 1.4811685 ],\n",
       "                 [-1.610996  ],\n",
       "                 [-1.4644264 ],\n",
       "                 [ 1.2210704 ],\n",
       "                 [-1.2426231 ],\n",
       "                 [ 1.0179392 ]]],\n",
       "  \n",
       "  \n",
       "               [[[ 0.2974275 ],\n",
       "                 [ 1.3675172 ],\n",
       "                 [ 1.6307251 ],\n",
       "                 [-1.8672631 ],\n",
       "                 [ 0.33726972],\n",
       "                 [-2.032057  ],\n",
       "                 [ 1.4842671 ],\n",
       "                 [-1.7812072 ],\n",
       "                 [-1.3874736 ],\n",
       "                 [-0.5331525 ],\n",
       "                 [ 0.04359949],\n",
       "                 [-1.3144927 ],\n",
       "                 [-0.9618044 ],\n",
       "                 [ 1.4856818 ],\n",
       "                 [ 1.5065105 ],\n",
       "                 [ 1.4811685 ],\n",
       "                 [-1.6509949 ],\n",
       "                 [-1.5044254 ],\n",
       "                 [ 1.2210705 ],\n",
       "                 [-1.2826221 ],\n",
       "                 [ 1.0179394 ]]],\n",
       "  \n",
       "  \n",
       "               [[[ 0.29742745],\n",
       "                 [ 1.3675172 ],\n",
       "                 [ 1.6307251 ],\n",
       "                 [-1.8272641 ],\n",
       "                 [ 0.33726954],\n",
       "                 [-1.992058  ],\n",
       "                 [ 1.4842669 ],\n",
       "                 [-1.7412083 ],\n",
       "                 [-1.387473  ],\n",
       "                 [-0.53315264],\n",
       "                 [ 0.04359939],\n",
       "                 [-1.2744939 ],\n",
       "                 [-0.9218058 ],\n",
       "                 [ 1.4856818 ],\n",
       "                 [ 1.5065105 ],\n",
       "                 [ 1.4811685 ],\n",
       "                 [-1.610996  ],\n",
       "                 [-1.4644264 ],\n",
       "                 [ 1.2210704 ],\n",
       "                 [-1.2426231 ],\n",
       "                 [ 1.0179392 ]]],\n",
       "  \n",
       "  \n",
       "               [[[ 0.29742754],\n",
       "                 [ 1.3675172 ],\n",
       "                 [ 1.6307253 ],\n",
       "                 [-1.8672632 ],\n",
       "                 [ 0.3372697 ],\n",
       "                 [-2.0320568 ],\n",
       "                 [ 1.4842671 ],\n",
       "                 [-1.7812073 ],\n",
       "                 [-1.3874735 ],\n",
       "                 [-0.5331526 ],\n",
       "                 [ 0.0435995 ],\n",
       "                 [-1.3144927 ],\n",
       "                 [-0.96180445],\n",
       "                 [ 1.4856818 ],\n",
       "                 [ 1.5065105 ],\n",
       "                 [ 1.4811685 ],\n",
       "                 [-1.650995  ],\n",
       "                 [-1.5044255 ],\n",
       "                 [ 1.2210705 ],\n",
       "                 [-1.2826222 ],\n",
       "                 [ 1.0179396 ]]],\n",
       "  \n",
       "  \n",
       "               [[[ 0.29742745],\n",
       "                 [ 1.3675172 ],\n",
       "                 [ 1.630725  ],\n",
       "                 [-1.8272641 ],\n",
       "                 [ 0.33726954],\n",
       "                 [-1.992058  ],\n",
       "                 [ 1.4842669 ],\n",
       "                 [-1.7412083 ],\n",
       "                 [-1.3874732 ],\n",
       "                 [-0.5331525 ],\n",
       "                 [ 0.04359939],\n",
       "                 [-1.2744939 ],\n",
       "                 [-0.9218055 ],\n",
       "                 [ 1.4856818 ],\n",
       "                 [ 1.5065105 ],\n",
       "                 [ 1.4811685 ],\n",
       "                 [-1.610996  ],\n",
       "                 [-1.4644264 ],\n",
       "                 [ 1.2210704 ],\n",
       "                 [-1.2426231 ],\n",
       "                 [ 1.0179392 ]]],\n",
       "  \n",
       "  \n",
       "               [[[ 0.29742754],\n",
       "                 [ 1.3675172 ],\n",
       "                 [ 1.6307251 ],\n",
       "                 [-1.8672631 ],\n",
       "                 [ 0.33726972],\n",
       "                 [-2.032057  ],\n",
       "                 [ 1.4842671 ],\n",
       "                 [-1.7812072 ],\n",
       "                 [-1.3874736 ],\n",
       "                 [-0.53315246],\n",
       "                 [ 0.04359947],\n",
       "                 [-1.3144927 ],\n",
       "                 [-0.9618044 ],\n",
       "                 [ 1.4856818 ],\n",
       "                 [ 1.5065105 ],\n",
       "                 [ 1.4811685 ],\n",
       "                 [-1.650995  ],\n",
       "                 [-1.5044254 ],\n",
       "                 [ 1.2210706 ],\n",
       "                 [-1.2826221 ],\n",
       "                 [ 1.0179394 ]]],\n",
       "  \n",
       "  \n",
       "               [[[ 0.29742745],\n",
       "                 [ 1.3675172 ],\n",
       "                 [ 1.6307251 ],\n",
       "                 [-1.8272641 ],\n",
       "                 [ 0.33726954],\n",
       "                 [-1.992058  ],\n",
       "                 [ 1.4842669 ],\n",
       "                 [-1.7412083 ],\n",
       "                 [-1.387473  ],\n",
       "                 [-0.53315264],\n",
       "                 [ 0.04359939],\n",
       "                 [-1.274494  ],\n",
       "                 [-0.9218057 ],\n",
       "                 [ 1.4856818 ],\n",
       "                 [ 1.5065105 ],\n",
       "                 [ 1.4811685 ],\n",
       "                 [-1.610996  ],\n",
       "                 [-1.4644264 ],\n",
       "                 [ 1.2210704 ],\n",
       "                 [-1.2426231 ],\n",
       "                 [ 1.0179392 ]]],\n",
       "  \n",
       "  \n",
       "               [[[ 0.2974275 ],\n",
       "                 [ 1.3675174 ],\n",
       "                 [ 1.6307253 ],\n",
       "                 [-1.8672631 ],\n",
       "                 [ 0.33726972],\n",
       "                 [-2.032057  ],\n",
       "                 [ 1.4842671 ],\n",
       "                 [-1.7812071 ],\n",
       "                 [-1.3874735 ],\n",
       "                 [-0.53315264],\n",
       "                 [ 0.04359949],\n",
       "                 [-1.3144927 ],\n",
       "                 [-0.96180445],\n",
       "                 [ 1.4856819 ],\n",
       "                 [ 1.5065105 ],\n",
       "                 [ 1.4811685 ],\n",
       "                 [-1.650995  ],\n",
       "                 [-1.5044255 ],\n",
       "                 [ 1.2210705 ],\n",
       "                 [-1.2826221 ],\n",
       "                 [ 1.0179394 ]]],\n",
       "  \n",
       "  \n",
       "               [[[ 0.29742745],\n",
       "                 [ 1.3675172 ],\n",
       "                 [ 1.630725  ],\n",
       "                 [-1.8272641 ],\n",
       "                 [ 0.33726954],\n",
       "                 [-1.992058  ],\n",
       "                 [ 1.4842669 ],\n",
       "                 [-1.7412083 ],\n",
       "                 [-1.3874732 ],\n",
       "                 [-0.53315264],\n",
       "                 [ 0.04359938],\n",
       "                 [-1.2744939 ],\n",
       "                 [-0.9218055 ],\n",
       "                 [ 1.4856818 ],\n",
       "                 [ 1.5065105 ],\n",
       "                 [ 1.4811685 ],\n",
       "                 [-1.610996  ],\n",
       "                 [-1.4644264 ],\n",
       "                 [ 1.2210704 ],\n",
       "                 [-1.2426231 ],\n",
       "                 [ 1.0179392 ]]],\n",
       "  \n",
       "  \n",
       "               [[[ 0.29742754],\n",
       "                 [ 1.3675172 ],\n",
       "                 [ 1.6307251 ],\n",
       "                 [-1.8672631 ],\n",
       "                 [ 0.33726972],\n",
       "                 [-2.032057  ],\n",
       "                 [ 1.4842671 ],\n",
       "                 [-1.7812072 ],\n",
       "                 [-1.3874736 ],\n",
       "                 [-0.53315264],\n",
       "                 [ 0.04359946],\n",
       "                 [-1.3144927 ],\n",
       "                 [-0.9618044 ],\n",
       "                 [ 1.4856818 ],\n",
       "                 [ 1.5065105 ],\n",
       "                 [ 1.4811685 ],\n",
       "                 [-1.650995  ],\n",
       "                 [-1.5044253 ],\n",
       "                 [ 1.2210705 ],\n",
       "                 [-1.2826221 ],\n",
       "                 [ 1.0179394 ]]],\n",
       "  \n",
       "  \n",
       "               [[[ 0.29742745],\n",
       "                 [ 1.3675172 ],\n",
       "                 [ 1.6307251 ],\n",
       "                 [-1.8272641 ],\n",
       "                 [ 0.33726954],\n",
       "                 [-1.992058  ],\n",
       "                 [ 1.4842669 ],\n",
       "                 [-1.7412083 ],\n",
       "                 [-1.3874727 ],\n",
       "                 [-0.53315264],\n",
       "                 [ 0.0435994 ],\n",
       "                 [-1.2744939 ],\n",
       "                 [-0.92180544],\n",
       "                 [ 1.4856818 ],\n",
       "                 [ 1.5065105 ],\n",
       "                 [ 1.4811685 ],\n",
       "                 [-1.610996  ],\n",
       "                 [-1.4644264 ],\n",
       "                 [ 1.2210704 ],\n",
       "                 [-1.2426231 ],\n",
       "                 [ 1.0179392 ]]],\n",
       "  \n",
       "  \n",
       "               [[[ 0.29742754],\n",
       "                 [ 1.3675172 ],\n",
       "                 [ 1.6307251 ],\n",
       "                 [-1.8672631 ],\n",
       "                 [ 0.3372697 ],\n",
       "                 [-2.032057  ],\n",
       "                 [ 1.4842671 ],\n",
       "                 [-1.7812073 ],\n",
       "                 [-1.3874735 ],\n",
       "                 [-0.53315264],\n",
       "                 [ 0.04359951],\n",
       "                 [-1.3144927 ],\n",
       "                 [-0.9618044 ],\n",
       "                 [ 1.4856818 ],\n",
       "                 [ 1.5065105 ],\n",
       "                 [ 1.4811685 ],\n",
       "                 [-1.6509949 ],\n",
       "                 [-1.5044254 ],\n",
       "                 [ 1.2210705 ],\n",
       "                 [-1.2826221 ],\n",
       "                 [ 1.0179396 ]]]], dtype=float32),\n",
       "  'delta_ws': DeviceArray([[[[-3.934605  ,  0.45928696, -1.8423234 ],\n",
       "                 [ 1.6630614 , -3.0494134 ,  3.5375578 ],\n",
       "                 [-2.9901402 , -2.2839746 , -1.5535704 ],\n",
       "                 ...,\n",
       "                 [-0.70385325,  1.9981905 ,  0.6223674 ],\n",
       "                 [ 2.7302096 ,  2.5796065 , -2.0179255 ],\n",
       "                 [-1.5462    ,  1.2163708 ,  3.592563  ]]],\n",
       "  \n",
       "  \n",
       "               [[[-3.934605  ,  0.45928696, -1.8423234 ],\n",
       "                 [ 1.6630614 , -3.0494134 ,  3.5375578 ],\n",
       "                 [-2.9901402 , -2.2839746 , -1.5535704 ],\n",
       "                 ...,\n",
       "                 [-0.70385325,  1.9981905 ,  0.6223674 ],\n",
       "                 [ 2.7302096 ,  2.5796065 , -2.0179255 ],\n",
       "                 [-1.5462    ,  1.2163708 ,  3.592563  ]]],\n",
       "  \n",
       "  \n",
       "               [[[-3.934605  ,  0.459287  , -1.8423234 ],\n",
       "                 [ 1.6630614 , -3.0494134 ,  3.5375578 ],\n",
       "                 [-2.9901404 , -2.283975  , -1.5535698 ],\n",
       "                 ...,\n",
       "                 [-0.66385573,  1.9981905 ,  0.6223674 ],\n",
       "                 [ 2.7302096 ,  2.5796068 , -2.0179255 ],\n",
       "                 [-1.5462    ,  1.2163708 ,  3.592563  ]]],\n",
       "  \n",
       "  \n",
       "               ...,\n",
       "  \n",
       "  \n",
       "               [[[-3.934605  ,  0.459287  , -1.8423234 ],\n",
       "                 [ 1.6630614 , -3.0494134 ,  3.5375578 ],\n",
       "                 [-2.9901404 , -2.283975  , -1.5535697 ],\n",
       "                 ...,\n",
       "                 [-0.7038522 ,  1.9981905 ,  0.6223674 ],\n",
       "                 [ 2.7302096 ,  2.5796065 , -2.0179255 ],\n",
       "                 [-1.5462    ,  1.2163708 ,  3.592563  ]]],\n",
       "  \n",
       "  \n",
       "               [[[-3.934605  ,  0.459287  , -1.8423234 ],\n",
       "                 [ 1.6630614 , -3.0494134 ,  3.5375578 ],\n",
       "                 [-2.9901404 , -2.283975  , -1.5535698 ],\n",
       "                 ...,\n",
       "                 [-0.7038523 ,  1.9981905 ,  0.6223674 ],\n",
       "                 [ 2.7302096 ,  2.5796065 , -2.0179255 ],\n",
       "                 [-1.5462    ,  1.2163708 ,  3.592563  ]]],\n",
       "  \n",
       "  \n",
       "               [[[-3.934605  ,  0.459287  , -1.8423234 ],\n",
       "                 [ 1.6630614 , -3.0494134 ,  3.5375578 ],\n",
       "                 [-2.9901404 , -2.283975  , -1.5535698 ],\n",
       "                 ...,\n",
       "                 [-0.7038523 ,  1.9981905 ,  0.6223674 ],\n",
       "                 [ 2.7302096 ,  2.5796065 , -2.0179255 ],\n",
       "                 [-1.5462    ,  1.2163708 ,  3.592563  ]]]], dtype=float32),\n",
       "  'logb_bar': DeviceArray([[[[0.8211857]]],\n",
       "  \n",
       "  \n",
       "               [[[0.8211857]]],\n",
       "  \n",
       "  \n",
       "               [[[0.8211857]]],\n",
       "  \n",
       "  \n",
       "               [[[0.8211857]]],\n",
       "  \n",
       "  \n",
       "               [[[0.8211857]]],\n",
       "  \n",
       "  \n",
       "               [[[0.8211857]]],\n",
       "  \n",
       "  \n",
       "               [[[0.8211857]]],\n",
       "  \n",
       "  \n",
       "               [[[0.8211857]]],\n",
       "  \n",
       "  \n",
       "               [[[0.8211857]]],\n",
       "  \n",
       "  \n",
       "               [[[0.8211857]]],\n",
       "  \n",
       "  \n",
       "               [[[0.8211857]]],\n",
       "  \n",
       "  \n",
       "               [[[0.8211857]]],\n",
       "  \n",
       "  \n",
       "               [[[0.8211857]]],\n",
       "  \n",
       "  \n",
       "               [[[0.8211857]]],\n",
       "  \n",
       "  \n",
       "               [[[0.8211857]]],\n",
       "  \n",
       "  \n",
       "               [[[0.8211857]]],\n",
       "  \n",
       "  \n",
       "               [[[0.8211857]]],\n",
       "  \n",
       "  \n",
       "               [[[0.8211857]]],\n",
       "  \n",
       "  \n",
       "               [[[0.8211857]]],\n",
       "  \n",
       "  \n",
       "               [[[0.8211857]]]], dtype=float32),\n",
       "  'logsigmas': DeviceArray([[[[37.45021 , 15.272356, 33.990963]]],\n",
       "  \n",
       "  \n",
       "               [[[37.45021 , 15.272356, 33.990963]]],\n",
       "  \n",
       "  \n",
       "               [[[37.45021 , 15.272356, 33.990963]]],\n",
       "  \n",
       "  \n",
       "               [[[37.45021 , 15.272356, 33.990963]]],\n",
       "  \n",
       "  \n",
       "               [[[37.45021 , 15.272356, 33.990963]]],\n",
       "  \n",
       "  \n",
       "               [[[37.45021 , 15.272356, 33.990963]]],\n",
       "  \n",
       "  \n",
       "               [[[37.45021 , 15.272356, 33.990963]]],\n",
       "  \n",
       "  \n",
       "               [[[37.45021 , 15.272356, 33.990963]]],\n",
       "  \n",
       "  \n",
       "               [[[37.45021 , 15.272356, 33.990963]]],\n",
       "  \n",
       "  \n",
       "               [[[37.45021 , 15.272356, 33.990963]]],\n",
       "  \n",
       "  \n",
       "               [[[37.45021 , 15.272356, 33.990963]]],\n",
       "  \n",
       "  \n",
       "               [[[37.45021 , 15.272356, 33.990963]]],\n",
       "  \n",
       "  \n",
       "               [[[37.45021 , 15.272356, 33.990963]]],\n",
       "  \n",
       "  \n",
       "               [[[37.45021 , 15.272356, 33.990963]]],\n",
       "  \n",
       "  \n",
       "               [[[37.45021 , 15.272356, 33.990963]]],\n",
       "  \n",
       "  \n",
       "               [[[37.45021 , 15.272356, 33.990963]]],\n",
       "  \n",
       "  \n",
       "               [[[37.45021 , 15.272356, 33.990963]]],\n",
       "  \n",
       "  \n",
       "               [[[37.45021 , 15.272356, 33.990963]]],\n",
       "  \n",
       "  \n",
       "               [[[37.45021 , 15.272356, 33.990963]]],\n",
       "  \n",
       "  \n",
       "               [[[37.45021 , 15.272356, 33.990963]]]], dtype=float32),\n",
       "  'logws_bar': DeviceArray([[[[16.132702, 30.72361 , 34.969482]]],\n",
       "  \n",
       "  \n",
       "               [[[16.132702, 30.72361 , 34.969482]]],\n",
       "  \n",
       "  \n",
       "               [[[16.132702, 30.72361 , 34.969482]]],\n",
       "  \n",
       "  \n",
       "               [[[16.132702, 30.72361 , 34.969482]]],\n",
       "  \n",
       "  \n",
       "               [[[16.132702, 30.72361 , 34.969482]]],\n",
       "  \n",
       "  \n",
       "               [[[16.132702, 30.72361 , 34.969482]]],\n",
       "  \n",
       "  \n",
       "               [[[16.132702, 30.72361 , 34.969482]]],\n",
       "  \n",
       "  \n",
       "               [[[16.132702, 30.72361 , 34.969482]]],\n",
       "  \n",
       "  \n",
       "               [[[16.132702, 30.72361 , 34.969482]]],\n",
       "  \n",
       "  \n",
       "               [[[16.132702, 30.72361 , 34.969482]]],\n",
       "  \n",
       "  \n",
       "               [[[16.132702, 30.72361 , 34.969482]]],\n",
       "  \n",
       "  \n",
       "               [[[16.132702, 30.72361 , 34.969482]]],\n",
       "  \n",
       "  \n",
       "               [[[16.132702, 30.72361 , 34.969482]]],\n",
       "  \n",
       "  \n",
       "               [[[16.132702, 30.72361 , 34.969482]]],\n",
       "  \n",
       "  \n",
       "               [[[16.132702, 30.72361 , 34.969482]]],\n",
       "  \n",
       "  \n",
       "               [[[16.132702, 30.72361 , 34.969482]]],\n",
       "  \n",
       "  \n",
       "               [[[16.132702, 30.72361 , 34.969482]]],\n",
       "  \n",
       "  \n",
       "               [[[16.132702, 30.72361 , 34.969482]]],\n",
       "  \n",
       "  \n",
       "               [[[16.132702, 30.72361 , 34.969482]]],\n",
       "  \n",
       "  \n",
       "               [[[16.132702, 30.72361 , 34.969482]]]], dtype=float32),\n",
       "  'mus': DeviceArray([[[[ 61.521732, 128.22841 , 194.99507 ]]],\n",
       "  \n",
       "  \n",
       "               [[[ 61.521732, 128.22841 , 194.99507 ]]],\n",
       "  \n",
       "  \n",
       "               [[[ 61.521732, 128.22841 , 194.99507 ]]],\n",
       "  \n",
       "  \n",
       "               [[[ 61.521732, 128.22841 , 194.99507 ]]],\n",
       "  \n",
       "  \n",
       "               [[[ 61.521732, 128.22841 , 194.99507 ]]],\n",
       "  \n",
       "  \n",
       "               [[[ 61.521732, 128.22841 , 194.99507 ]]],\n",
       "  \n",
       "  \n",
       "               [[[ 61.521732, 128.1884  , 194.99507 ]]],\n",
       "  \n",
       "  \n",
       "               [[[ 61.521732, 128.1884  , 194.99507 ]]],\n",
       "  \n",
       "  \n",
       "               [[[ 61.521732, 128.1884  , 194.99507 ]]],\n",
       "  \n",
       "  \n",
       "               [[[ 61.521732, 128.1884  , 194.99507 ]]],\n",
       "  \n",
       "  \n",
       "               [[[ 61.521732, 128.22841 , 194.99507 ]]],\n",
       "  \n",
       "  \n",
       "               [[[ 61.521732, 128.22841 , 194.99507 ]]],\n",
       "  \n",
       "  \n",
       "               [[[ 61.521732, 128.1884  , 194.99507 ]]],\n",
       "  \n",
       "  \n",
       "               [[[ 61.521732, 128.1884  , 194.99507 ]]],\n",
       "  \n",
       "  \n",
       "               [[[ 61.521732, 128.22841 , 194.99507 ]]],\n",
       "  \n",
       "  \n",
       "               [[[ 61.521732, 128.22841 , 194.99507 ]]],\n",
       "  \n",
       "  \n",
       "               [[[ 61.521732, 128.22841 , 194.99507 ]]],\n",
       "  \n",
       "  \n",
       "               [[[ 61.521732, 128.22841 , 194.99507 ]]],\n",
       "  \n",
       "  \n",
       "               [[[ 61.521732, 128.22841 , 194.99507 ]]],\n",
       "  \n",
       "  \n",
       "               [[[ 61.521732, 128.22841 , 194.99507 ]]]], dtype=float32)},\n",
       " 'mask': DeviceArray([[1., 1., 1., ..., 1., 1., 1.],\n",
       "              [0., 0., 0., ..., 1., 1., 1.],\n",
       "              [1., 1., 1., ..., 1., 1., 1.],\n",
       "              ...,\n",
       "              [1., 1., 1., ..., 1., 1., 1.],\n",
       "              [1., 1., 1., ..., 1., 1., 1.],\n",
       "              [1., 1., 1., ..., 1., 1., 1.]], dtype=float32)}"
      ]
     },
     "execution_count": 101,
     "metadata": {},
     "output_type": "execute_result"
    }
   ],
   "source": [
    "pickle.load(open('/mnt/home/szheng/ceph/ad/roman_data/e15/e15_13f1/e15_13f1_220117/py_data/glm_deterministic/cv_trial0_pyr0.p','rb'))"
   ]
  },
  {
   "cell_type": "code",
   "execution_count": 43,
   "id": "5056b2ba",
   "metadata": {},
   "outputs": [
    {
     "data": {
      "text/html": [
       "<div>\n",
       "<style scoped>\n",
       "    .dataframe tbody tr th:only-of-type {\n",
       "        vertical-align: middle;\n",
       "    }\n",
       "\n",
       "    .dataframe tbody tr th {\n",
       "        vertical-align: top;\n",
       "    }\n",
       "\n",
       "    .dataframe thead th {\n",
       "        text-align: right;\n",
       "    }\n",
       "</style>\n",
       "<table border=\"1\" class=\"dataframe\">\n",
       "  <thead>\n",
       "    <tr style=\"text-align: right;\">\n",
       "      <th></th>\n",
       "      <th>S_l1</th>\n",
       "      <th>g_mu</th>\n",
       "      <th>g_sigma</th>\n",
       "      <th>g_w</th>\n",
       "      <th>g_b</th>\n",
       "      <th>sigma_thresh</th>\n",
       "      <th>g_sigma_thresh</th>\n",
       "      <th>nfields</th>\n",
       "      <th>g_order</th>\n",
       "      <th>g_sigma_shrinkage</th>\n",
       "      <th>reg_pars_ind</th>\n",
       "    </tr>\n",
       "  </thead>\n",
       "  <tbody>\n",
       "    <tr>\n",
       "      <th>0</th>\n",
       "      <td>100000000.0</td>\n",
       "      <td>200.0</td>\n",
       "      <td>1000.0</td>\n",
       "      <td>100.0</td>\n",
       "      <td>100.0</td>\n",
       "      <td>3</td>\n",
       "      <td>100000.0</td>\n",
       "      <td>1</td>\n",
       "      <td>1000.0</td>\n",
       "      <td>0.0</td>\n",
       "      <td>0</td>\n",
       "    </tr>\n",
       "    <tr>\n",
       "      <th>1</th>\n",
       "      <td>100000000.0</td>\n",
       "      <td>200.0</td>\n",
       "      <td>1000.0</td>\n",
       "      <td>100.0</td>\n",
       "      <td>100.0</td>\n",
       "      <td>3</td>\n",
       "      <td>100000.0</td>\n",
       "      <td>3</td>\n",
       "      <td>1000.0</td>\n",
       "      <td>0.0</td>\n",
       "      <td>1</td>\n",
       "    </tr>\n",
       "    <tr>\n",
       "      <th>2</th>\n",
       "      <td>100000000.0</td>\n",
       "      <td>200.0</td>\n",
       "      <td>1000.0</td>\n",
       "      <td>1000000.0</td>\n",
       "      <td>100.0</td>\n",
       "      <td>3</td>\n",
       "      <td>100000.0</td>\n",
       "      <td>1</td>\n",
       "      <td>1000.0</td>\n",
       "      <td>0.0</td>\n",
       "      <td>2</td>\n",
       "    </tr>\n",
       "    <tr>\n",
       "      <th>3</th>\n",
       "      <td>100000000.0</td>\n",
       "      <td>200.0</td>\n",
       "      <td>1000.0</td>\n",
       "      <td>1000000.0</td>\n",
       "      <td>100.0</td>\n",
       "      <td>3</td>\n",
       "      <td>100000.0</td>\n",
       "      <td>3</td>\n",
       "      <td>1000.0</td>\n",
       "      <td>0.0</td>\n",
       "      <td>3</td>\n",
       "    </tr>\n",
       "  </tbody>\n",
       "</table>\n",
       "</div>"
      ],
      "text/plain": [
       "          S_l1   g_mu  g_sigma        g_w    g_b  sigma_thresh  \\\n",
       "0  100000000.0  200.0   1000.0      100.0  100.0             3   \n",
       "1  100000000.0  200.0   1000.0      100.0  100.0             3   \n",
       "2  100000000.0  200.0   1000.0  1000000.0  100.0             3   \n",
       "3  100000000.0  200.0   1000.0  1000000.0  100.0             3   \n",
       "\n",
       "   g_sigma_thresh  nfields  g_order  g_sigma_shrinkage  reg_pars_ind  \n",
       "0        100000.0        1   1000.0                0.0             0  \n",
       "1        100000.0        3   1000.0                0.0             1  \n",
       "2        100000.0        1   1000.0                0.0             2  \n",
       "3        100000.0        3   1000.0                0.0             3  "
      ]
     },
     "execution_count": 43,
     "metadata": {},
     "output_type": "execute_result"
    }
   ],
   "source": [
    "\n",
    "reg_pars_df"
   ]
  },
  {
   "cell_type": "code",
   "execution_count": 69,
   "id": "4f1642f6",
   "metadata": {},
   "outputs": [],
   "source": [
    "reg_pars_df_full = pd.concat([reg_pars_df] * cv_kwargs['cv_fold'],axis=0).reset_index(drop=True)"
   ]
  },
  {
   "cell_type": "code",
   "execution_count": 70,
   "id": "56e44c68",
   "metadata": {},
   "outputs": [],
   "source": [
    "test_loss_df = pd.DataFrame(res[1])\n",
    "test_loss_df_full = pd.concat([reg_pars_df_full,test_loss_df],axis=1)"
   ]
  },
  {
   "cell_type": "code",
   "execution_count": 71,
   "id": "2ad101af",
   "metadata": {},
   "outputs": [
    {
     "data": {
      "text/html": [
       "<div>\n",
       "<style scoped>\n",
       "    .dataframe tbody tr th:only-of-type {\n",
       "        vertical-align: middle;\n",
       "    }\n",
       "\n",
       "    .dataframe tbody tr th {\n",
       "        vertical-align: top;\n",
       "    }\n",
       "\n",
       "    .dataframe thead tr th {\n",
       "        text-align: left;\n",
       "    }\n",
       "\n",
       "    .dataframe thead tr:last-of-type th {\n",
       "        text-align: right;\n",
       "    }\n",
       "</style>\n",
       "<table border=\"1\" class=\"dataframe\">\n",
       "  <thead>\n",
       "    <tr>\n",
       "      <th></th>\n",
       "      <th colspan=\"2\" halign=\"left\">S_l1</th>\n",
       "      <th colspan=\"2\" halign=\"left\">g_mu</th>\n",
       "      <th colspan=\"2\" halign=\"left\">g_sigma</th>\n",
       "      <th colspan=\"2\" halign=\"left\">g_w</th>\n",
       "      <th colspan=\"2\" halign=\"left\">g_b</th>\n",
       "      <th>...</th>\n",
       "      <th colspan=\"2\" halign=\"left\">g_sigma_thresh</th>\n",
       "      <th colspan=\"2\" halign=\"left\">nfields</th>\n",
       "      <th colspan=\"2\" halign=\"left\">g_order</th>\n",
       "      <th colspan=\"2\" halign=\"left\">g_sigma_shrinkage</th>\n",
       "      <th colspan=\"2\" halign=\"left\">0</th>\n",
       "    </tr>\n",
       "    <tr>\n",
       "      <th></th>\n",
       "      <th>mean</th>\n",
       "      <th>sem</th>\n",
       "      <th>mean</th>\n",
       "      <th>sem</th>\n",
       "      <th>mean</th>\n",
       "      <th>sem</th>\n",
       "      <th>mean</th>\n",
       "      <th>sem</th>\n",
       "      <th>mean</th>\n",
       "      <th>sem</th>\n",
       "      <th>...</th>\n",
       "      <th>mean</th>\n",
       "      <th>sem</th>\n",
       "      <th>mean</th>\n",
       "      <th>sem</th>\n",
       "      <th>mean</th>\n",
       "      <th>sem</th>\n",
       "      <th>mean</th>\n",
       "      <th>sem</th>\n",
       "      <th>mean</th>\n",
       "      <th>sem</th>\n",
       "    </tr>\n",
       "    <tr>\n",
       "      <th>reg_pars_ind</th>\n",
       "      <th></th>\n",
       "      <th></th>\n",
       "      <th></th>\n",
       "      <th></th>\n",
       "      <th></th>\n",
       "      <th></th>\n",
       "      <th></th>\n",
       "      <th></th>\n",
       "      <th></th>\n",
       "      <th></th>\n",
       "      <th></th>\n",
       "      <th></th>\n",
       "      <th></th>\n",
       "      <th></th>\n",
       "      <th></th>\n",
       "      <th></th>\n",
       "      <th></th>\n",
       "      <th></th>\n",
       "      <th></th>\n",
       "      <th></th>\n",
       "      <th></th>\n",
       "    </tr>\n",
       "  </thead>\n",
       "  <tbody>\n",
       "    <tr>\n",
       "      <th>0</th>\n",
       "      <td>100000000.0</td>\n",
       "      <td>0.0</td>\n",
       "      <td>200.0</td>\n",
       "      <td>0.0</td>\n",
       "      <td>1000.0</td>\n",
       "      <td>0.0</td>\n",
       "      <td>100.0</td>\n",
       "      <td>0.0</td>\n",
       "      <td>100.0</td>\n",
       "      <td>0.0</td>\n",
       "      <td>...</td>\n",
       "      <td>100000.0</td>\n",
       "      <td>0.0</td>\n",
       "      <td>3.0</td>\n",
       "      <td>0.0</td>\n",
       "      <td>1000.0</td>\n",
       "      <td>0.0</td>\n",
       "      <td>0.0</td>\n",
       "      <td>0.0</td>\n",
       "      <td>0.352356</td>\n",
       "      <td>0.019008</td>\n",
       "    </tr>\n",
       "    <tr>\n",
       "      <th>1</th>\n",
       "      <td>100000000.0</td>\n",
       "      <td>0.0</td>\n",
       "      <td>200.0</td>\n",
       "      <td>0.0</td>\n",
       "      <td>1000.0</td>\n",
       "      <td>0.0</td>\n",
       "      <td>100.0</td>\n",
       "      <td>0.0</td>\n",
       "      <td>1000000.0</td>\n",
       "      <td>0.0</td>\n",
       "      <td>...</td>\n",
       "      <td>100000.0</td>\n",
       "      <td>0.0</td>\n",
       "      <td>3.0</td>\n",
       "      <td>0.0</td>\n",
       "      <td>1000.0</td>\n",
       "      <td>0.0</td>\n",
       "      <td>0.0</td>\n",
       "      <td>0.0</td>\n",
       "      <td>0.361304</td>\n",
       "      <td>0.018740</td>\n",
       "    </tr>\n",
       "  </tbody>\n",
       "</table>\n",
       "<p>2 rows × 22 columns</p>\n",
       "</div>"
      ],
      "text/plain": [
       "                     S_l1        g_mu      g_sigma         g_w       \\\n",
       "                     mean  sem   mean  sem    mean  sem   mean  sem   \n",
       "reg_pars_ind                                                          \n",
       "0             100000000.0  0.0  200.0  0.0  1000.0  0.0  100.0  0.0   \n",
       "1             100000000.0  0.0  200.0  0.0  1000.0  0.0  100.0  0.0   \n",
       "\n",
       "                    g_b       ... g_sigma_thresh      nfields      g_order  \\\n",
       "                   mean  sem  ...           mean  sem    mean  sem    mean   \n",
       "reg_pars_ind                  ...                                            \n",
       "0                 100.0  0.0  ...       100000.0  0.0     3.0  0.0  1000.0   \n",
       "1             1000000.0  0.0  ...       100000.0  0.0     3.0  0.0  1000.0   \n",
       "\n",
       "                  g_sigma_shrinkage              0            \n",
       "              sem              mean  sem      mean       sem  \n",
       "reg_pars_ind                                                  \n",
       "0             0.0               0.0  0.0  0.352356  0.019008  \n",
       "1             0.0               0.0  0.0  0.361304  0.018740  \n",
       "\n",
       "[2 rows x 22 columns]"
      ]
     },
     "execution_count": 71,
     "metadata": {},
     "output_type": "execute_result"
    }
   ],
   "source": [
    "test_loss_df_full.groupby('reg_pars_ind').agg(['mean','sem'])"
   ]
  },
  {
   "cell_type": "code",
   "execution_count": 67,
   "id": "d245740a",
   "metadata": {},
   "outputs": [
    {
     "data": {
      "text/html": [
       "<div>\n",
       "<style scoped>\n",
       "    .dataframe tbody tr th:only-of-type {\n",
       "        vertical-align: middle;\n",
       "    }\n",
       "\n",
       "    .dataframe tbody tr th {\n",
       "        vertical-align: top;\n",
       "    }\n",
       "\n",
       "    .dataframe thead tr th {\n",
       "        text-align: left;\n",
       "    }\n",
       "\n",
       "    .dataframe thead tr:last-of-type th {\n",
       "        text-align: right;\n",
       "    }\n",
       "</style>\n",
       "<table border=\"1\" class=\"dataframe\">\n",
       "  <thead>\n",
       "    <tr>\n",
       "      <th></th>\n",
       "      <th colspan=\"2\" halign=\"left\">S_l1</th>\n",
       "      <th colspan=\"2\" halign=\"left\">g_mu</th>\n",
       "      <th colspan=\"2\" halign=\"left\">g_sigma</th>\n",
       "      <th colspan=\"2\" halign=\"left\">g_w</th>\n",
       "      <th colspan=\"2\" halign=\"left\">g_b</th>\n",
       "      <th>...</th>\n",
       "      <th colspan=\"2\" halign=\"left\">g_sigma_thresh</th>\n",
       "      <th colspan=\"2\" halign=\"left\">nfields</th>\n",
       "      <th colspan=\"2\" halign=\"left\">g_order</th>\n",
       "      <th colspan=\"2\" halign=\"left\">g_sigma_shrinkage</th>\n",
       "      <th colspan=\"2\" halign=\"left\">0</th>\n",
       "    </tr>\n",
       "    <tr>\n",
       "      <th></th>\n",
       "      <th>mean</th>\n",
       "      <th>sem</th>\n",
       "      <th>mean</th>\n",
       "      <th>sem</th>\n",
       "      <th>mean</th>\n",
       "      <th>sem</th>\n",
       "      <th>mean</th>\n",
       "      <th>sem</th>\n",
       "      <th>mean</th>\n",
       "      <th>sem</th>\n",
       "      <th>...</th>\n",
       "      <th>mean</th>\n",
       "      <th>sem</th>\n",
       "      <th>mean</th>\n",
       "      <th>sem</th>\n",
       "      <th>mean</th>\n",
       "      <th>sem</th>\n",
       "      <th>mean</th>\n",
       "      <th>sem</th>\n",
       "      <th>mean</th>\n",
       "      <th>sem</th>\n",
       "    </tr>\n",
       "    <tr>\n",
       "      <th>reg_pars_ind</th>\n",
       "      <th></th>\n",
       "      <th></th>\n",
       "      <th></th>\n",
       "      <th></th>\n",
       "      <th></th>\n",
       "      <th></th>\n",
       "      <th></th>\n",
       "      <th></th>\n",
       "      <th></th>\n",
       "      <th></th>\n",
       "      <th></th>\n",
       "      <th></th>\n",
       "      <th></th>\n",
       "      <th></th>\n",
       "      <th></th>\n",
       "      <th></th>\n",
       "      <th></th>\n",
       "      <th></th>\n",
       "      <th></th>\n",
       "      <th></th>\n",
       "      <th></th>\n",
       "    </tr>\n",
       "  </thead>\n",
       "  <tbody>\n",
       "    <tr>\n",
       "      <th>0</th>\n",
       "      <td>100000000.0</td>\n",
       "      <td>0.0</td>\n",
       "      <td>200.0</td>\n",
       "      <td>0.0</td>\n",
       "      <td>1000.0</td>\n",
       "      <td>0.0</td>\n",
       "      <td>100.0</td>\n",
       "      <td>0.0</td>\n",
       "      <td>100.0</td>\n",
       "      <td>0.0</td>\n",
       "      <td>...</td>\n",
       "      <td>100000.0</td>\n",
       "      <td>0.0</td>\n",
       "      <td>3.0</td>\n",
       "      <td>0.0</td>\n",
       "      <td>1000.0</td>\n",
       "      <td>0.0</td>\n",
       "      <td>0.0</td>\n",
       "      <td>0.0</td>\n",
       "      <td>0.350307</td>\n",
       "      <td>0.019224</td>\n",
       "    </tr>\n",
       "    <tr>\n",
       "      <th>1</th>\n",
       "      <td>100000000.0</td>\n",
       "      <td>0.0</td>\n",
       "      <td>200.0</td>\n",
       "      <td>0.0</td>\n",
       "      <td>1000.0</td>\n",
       "      <td>0.0</td>\n",
       "      <td>100.0</td>\n",
       "      <td>0.0</td>\n",
       "      <td>1000000.0</td>\n",
       "      <td>0.0</td>\n",
       "      <td>...</td>\n",
       "      <td>100000.0</td>\n",
       "      <td>0.0</td>\n",
       "      <td>3.0</td>\n",
       "      <td>0.0</td>\n",
       "      <td>1000.0</td>\n",
       "      <td>0.0</td>\n",
       "      <td>0.0</td>\n",
       "      <td>0.0</td>\n",
       "      <td>0.360439</td>\n",
       "      <td>0.018977</td>\n",
       "    </tr>\n",
       "  </tbody>\n",
       "</table>\n",
       "<p>2 rows × 22 columns</p>\n",
       "</div>"
      ],
      "text/plain": [
       "                     S_l1        g_mu      g_sigma         g_w       \\\n",
       "                     mean  sem   mean  sem    mean  sem   mean  sem   \n",
       "reg_pars_ind                                                          \n",
       "0             100000000.0  0.0  200.0  0.0  1000.0  0.0  100.0  0.0   \n",
       "1             100000000.0  0.0  200.0  0.0  1000.0  0.0  100.0  0.0   \n",
       "\n",
       "                    g_b       ... g_sigma_thresh      nfields      g_order  \\\n",
       "                   mean  sem  ...           mean  sem    mean  sem    mean   \n",
       "reg_pars_ind                  ...                                            \n",
       "0                 100.0  0.0  ...       100000.0  0.0     3.0  0.0  1000.0   \n",
       "1             1000000.0  0.0  ...       100000.0  0.0     3.0  0.0  1000.0   \n",
       "\n",
       "                  g_sigma_shrinkage              0            \n",
       "              sem              mean  sem      mean       sem  \n",
       "reg_pars_ind                                                  \n",
       "0             0.0               0.0  0.0  0.350307  0.019224  \n",
       "1             0.0               0.0  0.0  0.360439  0.018977  \n",
       "\n",
       "[2 rows x 22 columns]"
      ]
     },
     "execution_count": 67,
     "metadata": {},
     "output_type": "execute_result"
    }
   ],
   "source": [
    "test_loss_df_full.groupby('reg_pars_ind').agg(['mean','sem'])"
   ]
  },
  {
   "cell_type": "code",
   "execution_count": null,
   "id": "6ad5fc80",
   "metadata": {},
   "outputs": [],
   "source": []
  },
  {
   "cell_type": "code",
   "execution_count": 574,
   "id": "60c71573",
   "metadata": {},
   "outputs": [
    {
     "name": "stdout",
     "output_type": "stream",
     "text": [
      "CPU times: user 28.8 s, sys: 58.8 ms, total: 28.9 s\n",
      "Wall time: 28.2 s\n"
     ]
    }
   ],
   "source": [
    "cell_cols_one = cell_cols['pyr'][pyr_ind:(pyr_ind+1)] \n",
    "%time res_one_neuron=glmc.cv_all_neurons(target_all_neurons[:,[pyr_ind]],regressors_,reg_pars_tosweep_kwargs_=reg_pars_tosweep_kwargs_,reg_pars_=reg_pars_,fit_kwargs_=fit_kwargs_,cv_kwargs_=cv_kwargs_,dosave=dosave,save_kwargs_=save_kwargs_,forcereload=forcereload,key_int=0,col_names=cell_cols['pyr'][pyr_ind:(pyr_ind+1)])\n",
    "\n"
   ]
  },
  {
   "cell_type": "code",
   "execution_count": 575,
   "id": "073030a8",
   "metadata": {},
   "outputs": [
    {
     "data": {
      "text/html": [
       "<div>\n",
       "<style scoped>\n",
       "    .dataframe tbody tr th:only-of-type {\n",
       "        vertical-align: middle;\n",
       "    }\n",
       "\n",
       "    .dataframe tbody tr th {\n",
       "        vertical-align: top;\n",
       "    }\n",
       "\n",
       "    .dataframe thead th {\n",
       "        text-align: right;\n",
       "    }\n",
       "</style>\n",
       "<table border=\"1\" class=\"dataframe\">\n",
       "  <thead>\n",
       "    <tr style=\"text-align: right;\">\n",
       "      <th></th>\n",
       "      <th>S_l1</th>\n",
       "      <th>g_mu</th>\n",
       "      <th>g_sigma</th>\n",
       "      <th>g_w</th>\n",
       "      <th>g_b</th>\n",
       "      <th>sigma_thresh</th>\n",
       "      <th>g_sigma_thresh</th>\n",
       "      <th>nfields</th>\n",
       "      <th>g_order</th>\n",
       "      <th>g_sigma_shrinkage</th>\n",
       "      <th>unit_31</th>\n",
       "    </tr>\n",
       "    <tr>\n",
       "      <th>regpars_ind</th>\n",
       "      <th></th>\n",
       "      <th></th>\n",
       "      <th></th>\n",
       "      <th></th>\n",
       "      <th></th>\n",
       "      <th></th>\n",
       "      <th></th>\n",
       "      <th></th>\n",
       "      <th></th>\n",
       "      <th></th>\n",
       "      <th></th>\n",
       "    </tr>\n",
       "  </thead>\n",
       "  <tbody>\n",
       "    <tr>\n",
       "      <th>0</th>\n",
       "      <td>100000000.0</td>\n",
       "      <td>200.0</td>\n",
       "      <td>1000.0</td>\n",
       "      <td>100.0</td>\n",
       "      <td>100.0</td>\n",
       "      <td>3.0</td>\n",
       "      <td>100000.0</td>\n",
       "      <td>1.0</td>\n",
       "      <td>1000.0</td>\n",
       "      <td>0.0</td>\n",
       "      <td>0.425894</td>\n",
       "    </tr>\n",
       "    <tr>\n",
       "      <th>2</th>\n",
       "      <td>100000000.0</td>\n",
       "      <td>200.0</td>\n",
       "      <td>1000.0</td>\n",
       "      <td>1000000.0</td>\n",
       "      <td>100.0</td>\n",
       "      <td>3.0</td>\n",
       "      <td>100000.0</td>\n",
       "      <td>1.0</td>\n",
       "      <td>1000.0</td>\n",
       "      <td>0.0</td>\n",
       "      <td>0.502942</td>\n",
       "    </tr>\n",
       "    <tr>\n",
       "      <th>1</th>\n",
       "      <td>100000000.0</td>\n",
       "      <td>200.0</td>\n",
       "      <td>1000.0</td>\n",
       "      <td>100.0</td>\n",
       "      <td>100.0</td>\n",
       "      <td>3.0</td>\n",
       "      <td>100000.0</td>\n",
       "      <td>3.0</td>\n",
       "      <td>1000.0</td>\n",
       "      <td>0.0</td>\n",
       "      <td>0.616139</td>\n",
       "    </tr>\n",
       "    <tr>\n",
       "      <th>3</th>\n",
       "      <td>100000000.0</td>\n",
       "      <td>200.0</td>\n",
       "      <td>1000.0</td>\n",
       "      <td>1000000.0</td>\n",
       "      <td>100.0</td>\n",
       "      <td>3.0</td>\n",
       "      <td>100000.0</td>\n",
       "      <td>3.0</td>\n",
       "      <td>1000.0</td>\n",
       "      <td>0.0</td>\n",
       "      <td>0.766921</td>\n",
       "    </tr>\n",
       "  </tbody>\n",
       "</table>\n",
       "</div>"
      ],
      "text/plain": [
       "                    S_l1   g_mu  g_sigma        g_w    g_b  sigma_thresh  \\\n",
       "regpars_ind                                                                \n",
       "0            100000000.0  200.0   1000.0      100.0  100.0           3.0   \n",
       "2            100000000.0  200.0   1000.0  1000000.0  100.0           3.0   \n",
       "1            100000000.0  200.0   1000.0      100.0  100.0           3.0   \n",
       "3            100000000.0  200.0   1000.0  1000000.0  100.0           3.0   \n",
       "\n",
       "             g_sigma_thresh  nfields  g_order  g_sigma_shrinkage   unit_31  \n",
       "regpars_ind                                                                 \n",
       "0                  100000.0      1.0   1000.0                0.0  0.425894  \n",
       "2                  100000.0      1.0   1000.0                0.0  0.502942  \n",
       "1                  100000.0      3.0   1000.0                0.0  0.616139  \n",
       "3                  100000.0      3.0   1000.0                0.0  0.766921  "
      ]
     },
     "execution_count": 575,
     "metadata": {},
     "output_type": "execute_result"
    }
   ],
   "source": [
    "res_one_neuron['loss'].groupby('regpars_ind').mean().sort_values(cell_cols_one[0])"
   ]
  },
  {
   "cell_type": "code",
   "execution_count": 576,
   "id": "c980ad10",
   "metadata": {},
   "outputs": [],
   "source": [
    "pars_learned_ = res_one_neuron['pars_learned']\n",
    "ma_ind=0\n",
    "regpars_ind = 0\n",
    "pars_learned_selected = glmh.index_into_pytree(pars_learned_[ma_ind],regpars_ind)\n",
    "pars_learned_selected = glmh.index_into_pytree(pars_learned_selected,0) # select one neuron"
   ]
  },
  {
   "cell_type": "code",
   "execution_count": 342,
   "id": "04ee0cc9",
   "metadata": {},
   "outputs": [
    {
     "data": {
      "text/plain": [
       "{'S_l1': DeviceArray(1.e+08, dtype=float32),\n",
       " 'g_b': DeviceArray(100., dtype=float32),\n",
       " 'g_mu': DeviceArray(200., dtype=float32),\n",
       " 'g_order': DeviceArray(1000., dtype=float32),\n",
       " 'g_sigma': DeviceArray(1000., dtype=float32),\n",
       " 'g_sigma_shrinkage': DeviceArray(0., dtype=float32),\n",
       " 'g_sigma_thresh': DeviceArray(100000., dtype=float32),\n",
       " 'g_w': DeviceArray(100., dtype=float32),\n",
       " 'nfields': DeviceArray(1, dtype=int32),\n",
       " 'nfields_mask': DeviceArray([ True, False, False], dtype=bool),\n",
       " 'sigma_thresh': DeviceArray(3, dtype=int32)}"
      ]
     },
     "execution_count": 342,
     "metadata": {},
     "output_type": "execute_result"
    }
   ],
   "source": [
    "reg_pars_selected"
   ]
  },
  {
   "cell_type": "code",
   "execution_count": 555,
   "id": "b0bc6064",
   "metadata": {},
   "outputs": [
    {
     "data": {
      "text/plain": [
       "DeviceArray(0.44514427, dtype=float32)"
      ]
     },
     "execution_count": 555,
     "metadata": {},
     "output_type": "execute_result"
    }
   ],
   "source": [
    "# glm.negative_logpdf_no_reg(regressors_,pars_learned_selected,target_all_neurons[:,pyr_ind],reg_pars_l['nfields_mask'][regpars_ind],mask=np.logical_not(res_one_neuron['mask'][ma_ind]),loss_type=0)\n",
    "reg_pars_selected=glmh.index_into_pytree(reg_pars_l,regpars_ind)\n",
    "# reg_pars_selected['g_sigma_thresh']=0.\n",
    "# reg_pars_selected['g_sigma_thresh']=0.\n",
    "# reg_pars_selected['g_w']=1000000.\n",
    "# reg_pars_selected['g_b']=10000000000.\n",
    "glm.negative_logpdf(regressors_,pars_learned_selected,target_all_neurons[:,pyr_ind],reg_pars_l['nfields_mask'][regpars_ind],mask=np.logical_not(res_one_neuron['mask'][ma_ind]),loss_type=0,reg_pars=reg_pars_selected)\n",
    "                                                                            \n",
    "                                                                            \n",
    "\n",
    "                                                                            \n",
    "                                                                            \n",
    "\n"
   ]
  },
  {
   "cell_type": "code",
   "execution_count": 211,
   "id": "05616ee3",
   "metadata": {
    "scrolled": true
   },
   "outputs": [
    {
     "data": {
      "text/plain": [
       "{'S_l1': DeviceArray(1.e+08, dtype=float32),\n",
       " 'g_b': DeviceArray(100., dtype=float32),\n",
       " 'g_mu': DeviceArray(200., dtype=float32),\n",
       " 'g_order': DeviceArray(1000., dtype=float32),\n",
       " 'g_sigma': DeviceArray(1000., dtype=float32),\n",
       " 'g_sigma_shrinkage': DeviceArray(0., dtype=float32),\n",
       " 'g_sigma_thresh': DeviceArray(100000., dtype=float32),\n",
       " 'g_w': DeviceArray(1.e-04, dtype=float32),\n",
       " 'nfields': DeviceArray(1, dtype=int32),\n",
       " 'nfields_mask': DeviceArray([ True, False, False], dtype=bool),\n",
       " 'sigma_thresh': DeviceArray(3, dtype=int32)}"
      ]
     },
     "execution_count": 211,
     "metadata": {},
     "output_type": "execute_result"
    }
   ],
   "source": [
    "glmh.index_into_pytree(reg_pars_l,regpars_ind)"
   ]
  },
  {
   "cell_type": "code",
   "execution_count": 545,
   "id": "da0bc1f3",
   "metadata": {},
   "outputs": [],
   "source": [
    "key = jax.random.PRNGKey(100)\n",
    "nfields_mask = reg_pars_l['nfields_mask'][regpars_ind]\n",
    "nfields_max = len(nfields_mask)\n",
    "pars_learned_post,test_loss_post=glmc.train_and_test(key,target_all_neurons[:,pyr_ind],regressors_,nfields_mask,reg_pars_=glmh.index_into_pytree(reg_pars_l,regpars_ind),reg_type = 0,mask=res_one_neuron['mask'][ma_ind],loss_type=0,niters=8000,lr=0.05,nfields_max=nfields_max)\n",
    "\n",
    "\n"
   ]
  },
  {
   "cell_type": "code",
   "execution_count": 577,
   "id": "878e949c",
   "metadata": {},
   "outputs": [],
   "source": [
    "ma_ind=0\n",
    "regpars_ind = 3\n",
    "pars_learned_selected = glmh.index_into_pytree(pars_learned_[ma_ind],regpars_ind)\n",
    "pars_learned_selected = glmh.index_into_pytree(pars_learned_selected,0) # select one neuron"
   ]
  },
  {
   "cell_type": "code",
   "execution_count": 548,
   "id": "8dfc19a6",
   "metadata": {},
   "outputs": [],
   "source": [
    "# pars_learned_selected = pars_learned_post"
   ]
  },
  {
   "cell_type": "code",
   "execution_count": 578,
   "id": "8cb57893",
   "metadata": {},
   "outputs": [],
   "source": [
    "nfields_mask = reg_pars_l['nfields_mask'][regpars_ind]\n",
    "yhat=glm.forward(regressors_,pars_learned_selected,nfields_mask,sigma_min=1)\n",
    "# yhat=glm.forward(regressors_,pars_learned_post,nfields_mask,sigma_min=1)\n",
    "\n",
    "plt.plot(target_all_neurons[:,pyr_ind])\n",
    "plt.plot(yhat)"
   ]
  },
  {
   "cell_type": "code",
   "execution_count": 606,
   "id": "428d73b0",
   "metadata": {},
   "outputs": [],
   "source": [
    "df=pd.DataFrame(numpy.array([yhat,target_all_neurons[:,pyr_ind]]).T,columns=['yhat','y'])"
   ]
  },
  {
   "cell_type": "code",
   "execution_count": 607,
   "id": "99703327",
   "metadata": {},
   "outputs": [
    {
     "data": {
      "text/html": [
       "<div>\n",
       "<style scoped>\n",
       "    .dataframe tbody tr th:only-of-type {\n",
       "        vertical-align: middle;\n",
       "    }\n",
       "\n",
       "    .dataframe tbody tr th {\n",
       "        vertical-align: top;\n",
       "    }\n",
       "\n",
       "    .dataframe thead th {\n",
       "        text-align: right;\n",
       "    }\n",
       "</style>\n",
       "<table border=\"1\" class=\"dataframe\">\n",
       "  <thead>\n",
       "    <tr style=\"text-align: right;\">\n",
       "      <th></th>\n",
       "      <th>yhat</th>\n",
       "      <th>y</th>\n",
       "    </tr>\n",
       "  </thead>\n",
       "  <tbody>\n",
       "    <tr>\n",
       "      <th>0</th>\n",
       "      <td>0.259511</td>\n",
       "      <td>0.0</td>\n",
       "    </tr>\n",
       "    <tr>\n",
       "      <th>1</th>\n",
       "      <td>0.257877</td>\n",
       "      <td>0.0</td>\n",
       "    </tr>\n",
       "    <tr>\n",
       "      <th>2</th>\n",
       "      <td>0.254630</td>\n",
       "      <td>0.0</td>\n",
       "    </tr>\n",
       "    <tr>\n",
       "      <th>3</th>\n",
       "      <td>0.253016</td>\n",
       "      <td>0.0</td>\n",
       "    </tr>\n",
       "    <tr>\n",
       "      <th>4</th>\n",
       "      <td>0.249811</td>\n",
       "      <td>0.0</td>\n",
       "    </tr>\n",
       "    <tr>\n",
       "      <th>...</th>\n",
       "      <td>...</td>\n",
       "      <td>...</td>\n",
       "    </tr>\n",
       "    <tr>\n",
       "      <th>18214</th>\n",
       "      <td>1.226577</td>\n",
       "      <td>0.0</td>\n",
       "    </tr>\n",
       "    <tr>\n",
       "      <th>18215</th>\n",
       "      <td>1.227593</td>\n",
       "      <td>2.0</td>\n",
       "    </tr>\n",
       "    <tr>\n",
       "      <th>18216</th>\n",
       "      <td>1.233628</td>\n",
       "      <td>0.0</td>\n",
       "    </tr>\n",
       "    <tr>\n",
       "      <th>18217</th>\n",
       "      <td>1.238570</td>\n",
       "      <td>0.0</td>\n",
       "    </tr>\n",
       "    <tr>\n",
       "      <th>18218</th>\n",
       "      <td>1.240525</td>\n",
       "      <td>0.0</td>\n",
       "    </tr>\n",
       "  </tbody>\n",
       "</table>\n",
       "<p>18219 rows × 2 columns</p>\n",
       "</div>"
      ],
      "text/plain": [
       "           yhat    y\n",
       "0      0.259511  0.0\n",
       "1      0.257877  0.0\n",
       "2      0.254630  0.0\n",
       "3      0.253016  0.0\n",
       "4      0.249811  0.0\n",
       "...         ...  ...\n",
       "18214  1.226577  0.0\n",
       "18215  1.227593  2.0\n",
       "18216  1.233628  0.0\n",
       "18217  1.238570  0.0\n",
       "18218  1.240525  0.0\n",
       "\n",
       "[18219 rows x 2 columns]"
      ]
     },
     "execution_count": 607,
     "metadata": {},
     "output_type": "execute_result"
    }
   ],
   "source": [
    "pd.cut(df,bins=)"
   ]
  },
  {
   "cell_type": "code",
   "execution_count": 603,
   "id": "41ad4ab6",
   "metadata": {},
   "outputs": [
    {
     "data": {
      "text/plain": [
       "<matplotlib.collections.PathCollection at 0x154a64ec3f10>"
      ]
     },
     "execution_count": 603,
     "metadata": {},
     "output_type": "execute_result"
    },
    {
     "data": {
      "image/png": "[encoded data removed]",
      "text/plain": [
       "<Figure size 432x288 with 1 Axes>"
      ]
     },
     "metadata": {
      "needs_background": "light"
     },
     "output_type": "display_data"
    }
   ],
   "source": [
    "plt.scatter(yhat,target_all_neurons[:,pyr_ind])"
   ]
  },
  {
   "cell_type": "code",
   "execution_count": 11,
   "id": "736fd24f",
   "metadata": {},
   "outputs": [
    {
     "ename": "NameError",
     "evalue": "name 'pars_learned_selected' is not defined",
     "output_type": "error",
     "traceback": [
      "\u001b[0;31m---------------------------------------------------------------------------\u001b[0m",
      "\u001b[0;31mNameError\u001b[0m                                 Traceback (most recent call last)",
      "Input \u001b[0;32mIn [11]\u001b[0m, in \u001b[0;36m<cell line: 1>\u001b[0;34m()\u001b[0m\n\u001b[0;32m----> 1\u001b[0m pars_learned_selected_masked \u001b[38;5;241m=\u001b[39m mask_fields(\u001b[43mpars_learned_selected\u001b[49m,reg_pars_l[\u001b[38;5;124m'\u001b[39m\u001b[38;5;124mnfields_mask\u001b[39m\u001b[38;5;124m'\u001b[39m][regpars_ind])\n\u001b[1;32m      2\u001b[0m reload(glm)\n\u001b[1;32m      3\u001b[0m regressors_frmap\u001b[38;5;241m=\u001b[39mcopy\u001b[38;5;241m.\u001b[39mcopy(regressors_)\n",
      "\u001b[0;31mNameError\u001b[0m: name 'pars_learned_selected' is not defined"
     ]
    }
   ],
   "source": [
    "pars_learned_selected_masked = mask_fields(pars_learned_selected,reg_pars_l['nfields_mask'][regpars_ind])\n",
    "reload(glm)\n",
    "regressors_frmap=copy.copy(regressors_)\n",
    "# nbins=222\n",
    "# fr_['lin_binned_fine'],bins = pd.cut(fr_['lin'],bins=nbins,labels=False,retbins=True)\n",
    "# occupancy_in_bins=fr_.groupby(['trial','lin_binned_fine']).count().iloc[:,0]\n",
    "regressors_frmap['xs'] = np.arange(nbins)\n",
    "regressors_frmap['trial_type_by_trial'] = np.array(trial_type_by_trial)\n",
    "# regressors_frmap['occupancy_in_bins'] = occupancy_in_bins\n",
    "fr_map_hat_oneneuron=glm.gm_func_by_trial(regressors_frmap,pars_learned_selected_masked)\n",
    "# fr_map_hat_oneneuron=glm.gm_func_by_trial(regressors_frmap,pars_learned_post)"
   ]
  },
  {
   "cell_type": "code",
   "execution_count": 581,
   "id": "c2dfb8b8",
   "metadata": {},
   "outputs": [
    {
     "data": {
      "image/png": "[encoded data removed]",
      "text/plain": [
       "<Figure size 432x288 with 2 Axes>"
      ]
     },
     "metadata": {
      "needs_background": "light"
     },
     "output_type": "display_data"
    }
   ],
   "source": [
    "fig,axs=plt.subplots(2,1,sharex=True)\n",
    "for ii,ch in enumerate((0,1)):\n",
    "    axs[ii].imshow(fr_map_hat_oneneuron.T[regressors_['trial_type_inds'][ch]],aspect='auto',interpolation=None)"
   ]
  },
  {
   "cell_type": "code",
   "execution_count": 582,
   "id": "ab66dffb",
   "metadata": {},
   "outputs": [
    {
     "data": {
      "text/plain": [
       "<matplotlib.image.AxesImage at 0x154a656a3100>"
      ]
     },
     "execution_count": 582,
     "metadata": {},
     "output_type": "execute_result"
    },
    {
     "data": {
      "image/png": "[encoded data removed]",
      "text/plain": [
       "<Figure size 432x288 with 2 Axes>"
      ]
     },
     "metadata": {
      "needs_background": "light"
     },
     "output_type": "display_data"
    }
   ],
   "source": [
    "fig,ax=plt.subplots(2,1,sharex=True)\n",
    "ax[0].imshow(fr_map_[0][unit_ind_in_pyr].T,aspect='auto')\n",
    "ax[1].imshow(fr_map_[1][unit_ind_in_pyr].T,aspect='auto')\n",
    "# ax[1].set_xticklabels()"
   ]
  },
  {
   "cell_type": "code",
   "execution_count": 572,
   "id": "72cbbff4",
   "metadata": {},
   "outputs": [
    {
     "data": {
      "text/plain": [
       "[<matplotlib.lines.Line2D at 0x154a774b7c10>]"
      ]
     },
     "execution_count": 572,
     "metadata": {},
     "output_type": "execute_result"
    },
    {
     "data": {
      "image/png": "[encoded data removed]",
      "text/plain": [
       "<Figure size 432x288 with 1 Axes>"
      ]
     },
     "metadata": {
      "needs_background": "light"
     },
     "output_type": "display_data"
    }
   ],
   "source": [
    "t=2\n",
    "plt.plot(bin_to_lin,fr_map_[0][unit_ind_in_pyr][:,t])\n",
    "plt.plot(fr_map_hat_oneneuron[:,t])"
   ]
  },
  {
   "cell_type": "code",
   "execution_count": 584,
   "id": "8e7ace7f",
   "metadata": {
    "scrolled": false
   },
   "outputs": [
    {
     "name": "stderr",
     "output_type": "stream",
     "text": [
      "/tmp/ipykernel_49427/1545053925.py:1: SettingWithCopyWarning: \n",
      "A value is trying to be set on a copy of a slice from a DataFrame.\n",
      "Try using .loc[row_indexer,col_indexer] = value instead\n",
      "\n",
      "See the caveats in the documentation: https://pandas.pydata.org/pandas-docs/stable/user_guide/indexing.html#returning-a-view-versus-a-copy\n",
      "  fr_['yhat']=yhat\n"
     ]
    }
   ],
   "source": [
    "fr_['yhat']=yhat"
   ]
  },
  {
   "cell_type": "code",
   "execution_count": 585,
   "id": "db5e5219",
   "metadata": {},
   "outputs": [],
   "source": [
    "frmap_quick=fr_.groupby(['trial','lin_binned_fine']).mean() / 0.033"
   ]
  },
  {
   "cell_type": "code",
   "execution_count": 602,
   "id": "d47c0dec",
   "metadata": {},
   "outputs": [
    {
     "data": {
      "text/plain": [
       "<AxesSubplot:xlabel='lin_binned_fine'>"
      ]
     },
     "execution_count": 602,
     "metadata": {},
     "output_type": "execute_result"
    },
    {
     "data": {
      "image/png": "[encoded data removed]",
      "text/plain": [
       "<Figure size 432x288 with 1 Axes>"
      ]
     },
     "metadata": {
      "needs_background": "light"
     },
     "output_type": "display_data"
    }
   ],
   "source": [
    "frmap_quick.loc[27,[cell_cols_one[0],'yhat']].plot()"
   ]
  },
  {
   "cell_type": "code",
   "execution_count": 590,
   "id": "01af90f3",
   "metadata": {},
   "outputs": [],
   "source": [
    "pg=jax.grad(glm.negative_logpdf_no_reg,argnums=1)(regressors_,pars_learned_selected,target_all_neurons[:,pyr_ind],reg_pars_l['nfields_mask'][regpars_ind],mask=np.logical_not(res_one_neuron['mask'][ma_ind]),loss_type=0,reg_pars=reg_pars_selected)"
   ]
  },
  {
   "cell_type": "code",
   "execution_count": 520,
   "id": "6e7433fa",
   "metadata": {},
   "outputs": [
    {
     "data": {
      "text/plain": [
       "DeviceArray([[ 42.838467, 109.50514 , 176.1718  ],\n",
       "             [ 33.32035 ,  99.98702 , 166.65369 ]], dtype=float32)"
      ]
     },
     "execution_count": 520,
     "metadata": {},
     "output_type": "execute_result"
    }
   ],
   "source": [
    "pars_learned_selected['mus']"
   ]
  },
  {
   "cell_type": "code",
   "execution_count": 591,
   "id": "ecbf380b",
   "metadata": {
    "scrolled": true
   },
   "outputs": [
    {
     "data": {
      "text/plain": [
       "DeviceArray([[ 3.47491987e-05,  1.47057544e-09,  3.80617596e-04],\n",
       "             [-1.13542765e-05,  0.00000000e+00, -1.23988930e-03],\n",
       "             [ 1.03635582e-04,  7.59747854e-05,  2.90524476e-04],\n",
       "             [ 4.65867546e-04,  1.18546695e-05,  4.43792442e-06],\n",
       "             [ 7.91549508e-04,  7.68874670e-05,  5.79889866e-06],\n",
       "             [ 2.07565346e-04,  4.67342121e-04,  2.77632216e-06],\n",
       "             [ 1.63787045e-04,  1.05794104e-04,  1.84491967e-06],\n",
       "             [ 7.12367012e-07,  0.00000000e+00, -1.67053178e-04],\n",
       "             [ 5.37198910e-04,  7.09521441e-21,  3.20603055e-09],\n",
       "             [-9.58288638e-06,  0.00000000e+00, -3.51459341e-04],\n",
       "             [ 6.63304119e-04,  1.33282962e-09,  9.05643674e-07],\n",
       "             [ 8.51261866e-05,  1.49278294e-05,  1.87733131e-05],\n",
       "             [ 5.62712608e-04,  2.44140319e-04,  3.43326747e-06],\n",
       "             [ 2.92633602e-04,  9.30926146e-22,  8.61940852e-10]],            dtype=float32)"
      ]
     },
     "execution_count": 591,
     "metadata": {},
     "output_type": "execute_result"
    }
   ],
   "source": [
    "pg['delta_ws'][regressors_['trial_type_inds'][1]]"
   ]
  },
  {
   "cell_type": "code",
   "execution_count": 592,
   "id": "78eb7355",
   "metadata": {},
   "outputs": [
    {
     "data": {
      "text/plain": [
       "DeviceArray([[ 0.00365215,  0.00472539,  0.0030231 ],\n",
       "             [ 0.0038879 ,  0.00099692, -0.00104929]], dtype=float32)"
      ]
     },
     "execution_count": 592,
     "metadata": {},
     "output_type": "execute_result"
    }
   ],
   "source": [
    "pg['logws_bar']"
   ]
  },
  {
   "cell_type": "code",
   "execution_count": 490,
   "id": "5ddefb1c",
   "metadata": {},
   "outputs": [
    {
     "data": {
      "text/plain": [
       "DeviceArray([[19.799631 , 12.141735 , 27.213287 ],\n",
       "             [47.365517 ,  4.1449165, 27.181768 ]], dtype=float32)"
      ]
     },
     "execution_count": 490,
     "metadata": {},
     "output_type": "execute_result"
    }
   ],
   "source": [
    "pars_learned_selected['logsigmas']"
   ]
  },
  {
   "cell_type": "code",
   "execution_count": null,
   "id": "fac572be",
   "metadata": {},
   "outputs": [],
   "source": []
  }
 ],
 "metadata": {
  "kernelspec": {
   "display_name": "jax",
   "language": "python",
   "name": "jax"
  },
  "language_info": {
   "codemirror_mode": {
    "name": "ipython",
    "version": 3
   },
   "file_extension": ".py",
   "mimetype": "text/x-python",
   "name": "python",
   "nbconvert_exporter": "python",
   "pygments_lexer": "ipython3",
   "version": "3.9.13"
  }
 },
 "nbformat": 4,
 "nbformat_minor": 5
}
