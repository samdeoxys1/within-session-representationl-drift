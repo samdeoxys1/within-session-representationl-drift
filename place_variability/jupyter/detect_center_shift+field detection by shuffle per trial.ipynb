{
 "cells": [
  {
   "cell_type": "code",
   "execution_count": 2,
   "id": "4373098d",
   "metadata": {},
   "outputs": [],
   "source": [
    "import numpy as np\n",
    "import scipy\n",
    "from scipy.ndimage import gaussian_filter1d\n",
    "import sklearn\n",
    "from sklearn.decomposition import NMF\n",
    "from sklearn.cluster import KMeans\n",
    "from sklearn.mixture import GaussianMixture,BayesianGaussianMixture\n",
    "\n",
    "import pandas as pd\n",
    "\n",
    "import matplotlib.pyplot as plt\n",
    "import matplotlib as mpl\n",
    "mpl.rcParams['image.cmap'] = 'Greys'\n",
    "%matplotlib inline\n",
    "import seaborn as sns\n",
    "\n",
    "import sys,os,pdb,copy,pickle\n",
    "from importlib import reload\n",
    "import pynapple as nap\n",
    "\n",
    "sys.path.append('/mnt/home/szheng/projects/seq_detection2/code')\n",
    "sys.path.append('/mnt/home/szheng/projects/util_code')\n",
    "sys.path.append('/mnt/home/szheng/projects/nmf_analysis')\n",
    "sys.path.append('/mnt/home/szheng/projects/nmf_analysis/scripts')\n",
    "sys.path.append('/mnt/home/szheng/projects/cluster_spikes')\n",
    "import data_prep_new as dpn\n",
    "import place_cell_analysis as pa\n",
    "import plot_helper as ph\n",
    "import preprocess as prep\n",
    "import nmf_analysis as na\n",
    "import nmf_plot as nmfp\n",
    "reload(na)\n",
    "\n",
    "import raster_new as rn\n",
    "import data_prep_pyn as dpp\n",
    "import database\n",
    "db = database.db\n",
    "\n",
    "import change_point_analysis as cpa\n",
    "import change_point_plot as cpp"
   ]
  },
  {
   "cell_type": "code",
   "execution_count": 3,
   "id": "170bb1db",
   "metadata": {
    "scrolled": false
   },
   "outputs": [
    {
     "data": {
      "text/html": [
       "<div>\n",
       "<style scoped>\n",
       "    .dataframe tbody tr th:only-of-type {\n",
       "        vertical-align: middle;\n",
       "    }\n",
       "\n",
       "    .dataframe tbody tr th {\n",
       "        vertical-align: top;\n",
       "    }\n",
       "\n",
       "    .dataframe thead th {\n",
       "        text-align: right;\n",
       "    }\n",
       "</style>\n",
       "<table border=\"1\" class=\"dataframe\">\n",
       "  <thead>\n",
       "    <tr style=\"text-align: right;\">\n",
       "      <th></th>\n",
       "      <th></th>\n",
       "      <th>data_dir_full</th>\n",
       "      <th>sess_name</th>\n",
       "      <th>animal_name.1</th>\n",
       "      <th>date</th>\n",
       "      <th>behavior</th>\n",
       "      <th>performance</th>\n",
       "      <th>ntrials</th>\n",
       "      <th>ngoodtrials</th>\n",
       "      <th>n_neurons</th>\n",
       "      <th>n_pyr_putative</th>\n",
       "      <th>owner</th>\n",
       "      <th>data_root</th>\n",
       "    </tr>\n",
       "    <tr>\n",
       "      <th>animal_name</th>\n",
       "      <th></th>\n",
       "      <th></th>\n",
       "      <th></th>\n",
       "      <th></th>\n",
       "      <th></th>\n",
       "      <th></th>\n",
       "      <th></th>\n",
       "      <th></th>\n",
       "      <th></th>\n",
       "      <th></th>\n",
       "      <th></th>\n",
       "      <th></th>\n",
       "      <th></th>\n",
       "    </tr>\n",
       "  </thead>\n",
       "  <tbody>\n",
       "    <tr>\n",
       "      <th>e13_26m1</th>\n",
       "      <th>0</th>\n",
       "      <td>/mnt/home/szheng/ceph/ad/roman_data/e13/e13_26...</td>\n",
       "      <td>e13_26m1_210913</td>\n",
       "      <td>e13_26m1</td>\n",
       "      <td>2021-09-13</td>\n",
       "      <td>alternation</td>\n",
       "      <td>0.956522</td>\n",
       "      <td>69</td>\n",
       "      <td>69</td>\n",
       "      <td>482</td>\n",
       "      <td>422</td>\n",
       "      <td>roman</td>\n",
       "      <td>roman_data</td>\n",
       "    </tr>\n",
       "    <tr>\n",
       "      <th rowspan=\"4\" valign=\"top\">e15_13f1</th>\n",
       "      <th>0</th>\n",
       "      <td>/mnt/home/szheng/ceph/ad/roman_data/e15/e15_13...</td>\n",
       "      <td>e15_13f1_220117</td>\n",
       "      <td>e15_13f1</td>\n",
       "      <td>2022-01-17</td>\n",
       "      <td>alternation</td>\n",
       "      <td>0.617647</td>\n",
       "      <td>34</td>\n",
       "      <td>34</td>\n",
       "      <td>376</td>\n",
       "      <td>333</td>\n",
       "      <td>roman</td>\n",
       "      <td>roman_data</td>\n",
       "    </tr>\n",
       "    <tr>\n",
       "      <th>1</th>\n",
       "      <td>/mnt/home/szheng/ceph/ad/roman_data/e15/e15_13...</td>\n",
       "      <td>e15_13f1_220118</td>\n",
       "      <td>e15_13f1</td>\n",
       "      <td>2022-01-18</td>\n",
       "      <td>['alternation' 'linearMaze']</td>\n",
       "      <td>0.740741</td>\n",
       "      <td>27</td>\n",
       "      <td>27</td>\n",
       "      <td>363</td>\n",
       "      <td>318</td>\n",
       "      <td>roman</td>\n",
       "      <td>roman_data</td>\n",
       "    </tr>\n",
       "    <tr>\n",
       "      <th>2</th>\n",
       "      <td>/mnt/home/szheng/ceph/ad/roman_data/e15/e15_13...</td>\n",
       "      <td>e15_13f1_220119</td>\n",
       "      <td>e15_13f1</td>\n",
       "      <td>2022-01-19</td>\n",
       "      <td>['alternation' 'alternation']</td>\n",
       "      <td>0.721311</td>\n",
       "      <td>61</td>\n",
       "      <td>61</td>\n",
       "      <td>343</td>\n",
       "      <td>288</td>\n",
       "      <td>roman</td>\n",
       "      <td>roman_data</td>\n",
       "    </tr>\n",
       "    <tr>\n",
       "      <th>3</th>\n",
       "      <td>/mnt/home/szheng/ceph/ad/roman_data/e15/e15_13...</td>\n",
       "      <td>e15_13f1_220120</td>\n",
       "      <td>e15_13f1</td>\n",
       "      <td>2022-01-20</td>\n",
       "      <td>['alternation' 'linearMaze']</td>\n",
       "      <td>0.800000</td>\n",
       "      <td>45</td>\n",
       "      <td>45</td>\n",
       "      <td>303</td>\n",
       "      <td>248</td>\n",
       "      <td>roman</td>\n",
       "      <td>roman_data</td>\n",
       "    </tr>\n",
       "    <tr>\n",
       "      <th>e13_26m1</th>\n",
       "      <th>1</th>\n",
       "      <td>/mnt/home/szheng/ceph/ad/roman_data/e13/e13_26...</td>\n",
       "      <td>e13_26m1_211019</td>\n",
       "      <td>e13_26m1</td>\n",
       "      <td>2021-10-19</td>\n",
       "      <td>['alternation' 'alternation']</td>\n",
       "      <td>0.730769</td>\n",
       "      <td>78</td>\n",
       "      <td>78</td>\n",
       "      <td>271</td>\n",
       "      <td>228</td>\n",
       "      <td>roman</td>\n",
       "      <td>roman_data</td>\n",
       "    </tr>\n",
       "    <tr>\n",
       "      <th>e13_16f1</th>\n",
       "      <th>7</th>\n",
       "      <td>/mnt/home/szheng/ceph/ad/roman_data/e13/e13_16...</td>\n",
       "      <td>e13_16f1_210328</td>\n",
       "      <td>e13_16f1</td>\n",
       "      <td>2021-03-28</td>\n",
       "      <td>alternation</td>\n",
       "      <td>0.850000</td>\n",
       "      <td>20</td>\n",
       "      <td>20</td>\n",
       "      <td>211</td>\n",
       "      <td>174</td>\n",
       "      <td>roman</td>\n",
       "      <td>roman_data</td>\n",
       "    </tr>\n",
       "    <tr>\n",
       "      <th>e13_26m1</th>\n",
       "      <th>2</th>\n",
       "      <td>/mnt/home/szheng/ceph/ad/roman_data/e13/e13_26...</td>\n",
       "      <td>e13_26m1_211116</td>\n",
       "      <td>e13_26m1</td>\n",
       "      <td>2021-11-16</td>\n",
       "      <td>['alternation' 'linearMaze']</td>\n",
       "      <td>0.850000</td>\n",
       "      <td>20</td>\n",
       "      <td>20</td>\n",
       "      <td>209</td>\n",
       "      <td>173</td>\n",
       "      <td>roman</td>\n",
       "      <td>roman_data</td>\n",
       "    </tr>\n",
       "    <tr>\n",
       "      <th>e16_3m2</th>\n",
       "      <th>3</th>\n",
       "      <td>/mnt/home/szheng/ceph/ad/roman_data/e16/e16_3m...</td>\n",
       "      <td>e16_3m2_211213</td>\n",
       "      <td>e16_3m2</td>\n",
       "      <td>2021-12-13</td>\n",
       "      <td>['alternation' 'alternation']</td>\n",
       "      <td>0.703704</td>\n",
       "      <td>54</td>\n",
       "      <td>54</td>\n",
       "      <td>207</td>\n",
       "      <td>163</td>\n",
       "      <td>roman</td>\n",
       "      <td>roman_data</td>\n",
       "    </tr>\n",
       "    <tr>\n",
       "      <th>e16_3m1</th>\n",
       "      <th>0</th>\n",
       "      <td>/mnt/home/szheng/ceph/ad/roman_data/e16/e16_3m...</td>\n",
       "      <td>e16_3m1_210111</td>\n",
       "      <td>e16_3m1</td>\n",
       "      <td>2021-01-11</td>\n",
       "      <td>alternation</td>\n",
       "      <td>0.882353</td>\n",
       "      <td>17</td>\n",
       "      <td>17</td>\n",
       "      <td>203</td>\n",
       "      <td>162</td>\n",
       "      <td>roman</td>\n",
       "      <td>roman_data</td>\n",
       "    </tr>\n",
       "  </tbody>\n",
       "</table>\n",
       "</div>"
      ],
      "text/plain": [
       "                                                   data_dir_full  \\\n",
       "animal_name                                                        \n",
       "e13_26m1    0  /mnt/home/szheng/ceph/ad/roman_data/e13/e13_26...   \n",
       "e15_13f1    0  /mnt/home/szheng/ceph/ad/roman_data/e15/e15_13...   \n",
       "            1  /mnt/home/szheng/ceph/ad/roman_data/e15/e15_13...   \n",
       "            2  /mnt/home/szheng/ceph/ad/roman_data/e15/e15_13...   \n",
       "            3  /mnt/home/szheng/ceph/ad/roman_data/e15/e15_13...   \n",
       "e13_26m1    1  /mnt/home/szheng/ceph/ad/roman_data/e13/e13_26...   \n",
       "e13_16f1    7  /mnt/home/szheng/ceph/ad/roman_data/e13/e13_16...   \n",
       "e13_26m1    2  /mnt/home/szheng/ceph/ad/roman_data/e13/e13_26...   \n",
       "e16_3m2     3  /mnt/home/szheng/ceph/ad/roman_data/e16/e16_3m...   \n",
       "e16_3m1     0  /mnt/home/szheng/ceph/ad/roman_data/e16/e16_3m...   \n",
       "\n",
       "                     sess_name animal_name.1        date  \\\n",
       "animal_name                                                \n",
       "e13_26m1    0  e13_26m1_210913      e13_26m1  2021-09-13   \n",
       "e15_13f1    0  e15_13f1_220117      e15_13f1  2022-01-17   \n",
       "            1  e15_13f1_220118      e15_13f1  2022-01-18   \n",
       "            2  e15_13f1_220119      e15_13f1  2022-01-19   \n",
       "            3  e15_13f1_220120      e15_13f1  2022-01-20   \n",
       "e13_26m1    1  e13_26m1_211019      e13_26m1  2021-10-19   \n",
       "e13_16f1    7  e13_16f1_210328      e13_16f1  2021-03-28   \n",
       "e13_26m1    2  e13_26m1_211116      e13_26m1  2021-11-16   \n",
       "e16_3m2     3   e16_3m2_211213       e16_3m2  2021-12-13   \n",
       "e16_3m1     0   e16_3m1_210111       e16_3m1  2021-01-11   \n",
       "\n",
       "                                    behavior  performance  ntrials  \\\n",
       "animal_name                                                          \n",
       "e13_26m1    0                    alternation     0.956522       69   \n",
       "e15_13f1    0                    alternation     0.617647       34   \n",
       "            1   ['alternation' 'linearMaze']     0.740741       27   \n",
       "            2  ['alternation' 'alternation']     0.721311       61   \n",
       "            3   ['alternation' 'linearMaze']     0.800000       45   \n",
       "e13_26m1    1  ['alternation' 'alternation']     0.730769       78   \n",
       "e13_16f1    7                    alternation     0.850000       20   \n",
       "e13_26m1    2   ['alternation' 'linearMaze']     0.850000       20   \n",
       "e16_3m2     3  ['alternation' 'alternation']     0.703704       54   \n",
       "e16_3m1     0                    alternation     0.882353       17   \n",
       "\n",
       "               ngoodtrials  n_neurons  n_pyr_putative  owner   data_root  \n",
       "animal_name                                                               \n",
       "e13_26m1    0           69        482             422  roman  roman_data  \n",
       "e15_13f1    0           34        376             333  roman  roman_data  \n",
       "            1           27        363             318  roman  roman_data  \n",
       "            2           61        343             288  roman  roman_data  \n",
       "            3           45        303             248  roman  roman_data  \n",
       "e13_26m1    1           78        271             228  roman  roman_data  \n",
       "e13_16f1    7           20        211             174  roman  roman_data  \n",
       "e13_26m1    2           20        209             173  roman  roman_data  \n",
       "e16_3m2     3           54        207             163  roman  roman_data  \n",
       "e16_3m1     0           17        203             162  roman  roman_data  "
      ]
     },
     "execution_count": 3,
     "metadata": {},
     "output_type": "execute_result"
    }
   ],
   "source": [
    "data_dir_full=db.query('owner==\"roman\"')['data_dir_full'][0]\n",
    "data_dir_full\n",
    "db.query('owner==\"roman\"').sort_values('n_pyr_putative',ascending=False).head(10)"
   ]
  },
  {
   "cell_type": "code",
   "execution_count": 4,
   "id": "d96765cd",
   "metadata": {},
   "outputs": [],
   "source": [
    "# data_dir_full = '/mnt/home/szheng/ceph/ad/roman_data/e15/e15_13f1/e15_13f1_220117/'\n",
    "# data_dir_full = db.query('owner==\"roman\"').sort_values('n_pyr_putative',ascending=False)['data_dir_full'][0]\n",
    "data_dir_full = db.query('owner==\"roman\"').sort_values('n_pyr_putative',ascending=False)['data_dir_full'][0]"
   ]
  },
  {
   "cell_type": "code",
   "execution_count": null,
   "id": "1e3e127f",
   "metadata": {},
   "outputs": [
    {
     "name": "stderr",
     "output_type": "stream",
     "text": [
      " 77%|███████▋  | 768/1000 [04:23<01:20,  2.88it/s]"
     ]
    }
   ],
   "source": [
    "import place_field_analysis as pf\n",
    "reload(pf)\n",
    "pf.get_fr_map_shuffle_wrapper(data_dir_full,nrepeats=1000, dosave=False)"
   ]
  },
  {
   "cell_type": "code",
   "execution_count": 4,
   "id": "2cd9babc",
   "metadata": {},
   "outputs": [],
   "source": [
    "# load data\n",
    "# mat_to_return=prep.load_stuff(data_dir_full)\n",
    "# sessionPulses=mat_to_return['sessionPulses']\n",
    "# filtered = mat_to_return['filtered']\n",
    "# behavior=mat_to_return['behavior']\n",
    "# ripples = mat_to_return['ripples']\n",
    "\n",
    "\n",
    "prep_res = dpp.load_spk_beh_df(data_dir_full,force_reload=False,extra_load={})\n",
    "spk_beh_df=prep_res['spk_beh_df']\n",
    "cell_cols_d = prep_res['cell_cols_d']\n",
    "beh_df = prep_res['beh_df'].as_dataframe()\n",
    "beh_df_d,beh_df=dpp.group_into_trialtype(beh_df)\n",
    "spike_trains = prep_res['spike_trains']"
   ]
  },
  {
   "cell_type": "code",
   "execution_count": 5,
   "id": "680f75bc",
   "metadata": {},
   "outputs": [
    {
     "data": {
      "text/plain": [
       "<module 'place_cell_analysis' from '/mnt/home/szheng/projects/util_code/place_cell_analysis.py'>"
      ]
     },
     "execution_count": 5,
     "metadata": {},
     "output_type": "execute_result"
    }
   ],
   "source": [
    "import place_field_analysis as pf\n",
    "reload(pf)\n",
    "reload(pa)"
   ]
  },
  {
   "cell_type": "code",
   "execution_count": 6,
   "id": "f8cbfe01",
   "metadata": {},
   "outputs": [],
   "source": [
    "cell_cols = cell_cols_d['pyr']\n",
    "nbins = 100\n",
    "spk_beh_df,lin_bins = dpp.add_lin_binned(spk_beh_df,nbins=nbins)\n",
    "fr_map_d,count_d,occu_d = pf.ratemap_from_spk_beh_df_alltrialtype(spk_beh_df,cell_cols,speed_thresh=1,nbins=nbins,smth_in_bin=2.5)\n",
    "# spk_beh_df['lin_binned'],bins = pd.cut(spk_beh_df['lin'],nbins,retbins=True,labels=False)\n",
    "\n",
    "\n",
    "\n",
    "fr_map_peaks_d = {}\n",
    "field_res_d = {}\n",
    "for key in fr_map_d.keys():\n",
    "\n",
    "    fr_map = fr_map_d[key]\n",
    "    count = count_d[key]\n",
    "    occu = occu_d[key]\n",
    "    field_res_d[key] =pf.get_field_peaks_one_trialtype(fr_map,count,occu,min_count=3,min_rate=0.5,alpha=0.05)\n",
    "    "
   ]
  },
  {
   "cell_type": "code",
   "execution_count": 7,
   "id": "6c903e26",
   "metadata": {},
   "outputs": [
    {
     "name": "stdout",
     "output_type": "stream",
     "text": [
      "cant format into a dataframe\n",
      "cant format into a dataframe\n"
     ]
    }
   ],
   "source": [
    "reload(pa)\n",
    "fr_map_dict=pa.get_fr_map_trial(spk_beh_df,cell_cols_d['pyr'],trialtype_key='visitedArm',speed_thresh=1.,order=['smooth','divide'])\n",
    "\n"
   ]
  },
  {
   "cell_type": "code",
   "execution_count": 78,
   "id": "01ef1ff9",
   "metadata": {},
   "outputs": [
    {
     "data": {
      "text/plain": [
       "<AxesSubplot:xlabel='lin_binned'>"
      ]
     },
     "execution_count": 78,
     "metadata": {},
     "output_type": "execute_result"
    },
    {
     "data": {
      "image/png": "[encoded data removed]",
      "text/plain": [
       "<Figure size 432x288 with 1 Axes>"
      ]
     },
     "metadata": {
      "needs_background": "light"
     },
     "output_type": "display_data"
    }
   ],
   "source": [
    "field_res_d[0,0]['pvals_df'].loc[174].plot()"
   ]
  },
  {
   "cell_type": "code",
   "execution_count": 8,
   "id": "ccae99eb",
   "metadata": {},
   "outputs": [],
   "source": [
    "tt=1\n",
    "count_trial = fr_map_dict[tt][1]\n",
    "\n",
    "occu_trial = fr_map_dict[tt][2]\n",
    "fr_map_trial = fr_map_dict[tt][0]\n",
    "fr_map_trial_reshape = fr_map_trial.reshape(-1,fr_map_trial.shape[-1])"
   ]
  },
  {
   "cell_type": "markdown",
   "id": "0c2a3b1e",
   "metadata": {},
   "source": [
    "# population cross correlation"
   ]
  },
  {
   "cell_type": "code",
   "execution_count": null,
   "id": "3576bf65",
   "metadata": {},
   "outputs": [],
   "source": [
    "def get_a_lead_b(a,b,nbins,mode='same'):\n",
    "    '''\n",
    "    nbins: only consider shifts within this range\n",
    "    '''\n",
    "    corr = scipy.signal.correlate(a,b,mode=mode)\n",
    "    lags = scipy.signal.correlation_lags(a.shape[0],b.shape[0],mode=mode)\n",
    "    lags_mask = (lags >=-(nbins-1)) & (lags <=nbins-1)\n",
    "    center = (len(corr[lags_mask])-1) / 2\n",
    "    com = na.get_com(corr[lags_mask][None,:],axis=1)\n",
    "#     com = np.argmax(corr[lags_mask])\n",
    "    lead = com - center\n",
    "    return lead\n",
    "    \n",
    "    "
   ]
  },
  {
   "cell_type": "code",
   "execution_count": null,
   "id": "68cc060b",
   "metadata": {},
   "outputs": [],
   "source": [
    "ntrials = fr_map_trial_reshape.shape[1]"
   ]
  },
  {
   "cell_type": "code",
   "execution_count": 150,
   "id": "aa6cb513",
   "metadata": {},
   "outputs": [],
   "source": [
    "def get_lead_mat(fr_map_trial):\n",
    "    ntrials = fr_map_trial.shape[-1]\n",
    "    fr_map_trial_reshape = fr_map_trial.reshape(-1,ntrials)\n",
    "    com_mat = np.zeros((ntrials,ntrials))\n",
    "    for i in range(ntrials-1):\n",
    "        for j in range(i+1,ntrials):\n",
    "            a=fr_map_trial_reshape[:,i]\n",
    "            b=fr_map_trial_reshape[:,j]\n",
    "            com_mat[i,j] = get_a_lead_b(a,b,fr_map_trial.shape[1],mode='same')\n",
    "    return com_mat"
   ]
  },
  {
   "cell_type": "code",
   "execution_count": 202,
   "id": "4e2227df",
   "metadata": {},
   "outputs": [],
   "source": [
    "lead_mat_one=get_lead_mat(fr_map_trial[cell_cols==58])"
   ]
  },
  {
   "cell_type": "code",
   "execution_count": 208,
   "id": "053b0864",
   "metadata": {},
   "outputs": [],
   "source": [
    "def get_lead_mat_all_neurons(fr_map_trial):\n",
    "    lead_mat_all=[]\n",
    "    for n in range(fr_map_trial.shape[0]):\n",
    "        lead_mat_one = get_lead_mat(fr_map_trial[[n]])\n",
    "        lead_mat_all.append(lead_mat_one)\n",
    "    lead_mat_all = np.stack(lead_mat_all)\n",
    "    return lead_mat_all"
   ]
  },
  {
   "cell_type": "code",
   "execution_count": 209,
   "id": "467bd1a5",
   "metadata": {},
   "outputs": [
    {
     "name": "stderr",
     "output_type": "stream",
     "text": [
      "/mnt/home/szheng/projects/nmf_analysis/nmf_analysis.py:364: RuntimeWarning: invalid value encountered in true_divide\n",
      "  return np.sum(inds * mat,axis=axis) / np.sum(mat,axis=axis)\n"
     ]
    }
   ],
   "source": [
    "lead_mat_all = get_lead_mat_all_neurons(fr_map_trial)\n",
    "\n",
    "lead_mat_median = np.nanmedian(lead_mat_all,axis=0)"
   ]
  },
  {
   "cell_type": "code",
   "execution_count": 212,
   "id": "d41f7d07",
   "metadata": {},
   "outputs": [
    {
     "data": {
      "text/plain": [
       "<AxesSubplot:>"
      ]
     },
     "execution_count": 212,
     "metadata": {},
     "output_type": "execute_result"
    },
    {
     "data": {
      "image/png": "[encoded data removed]",
      "text/plain": [
       "<Figure size 432x288 with 2 Axes>"
      ]
     },
     "metadata": {
      "needs_background": "light"
     },
     "output_type": "display_data"
    }
   ],
   "source": [
    "sns.heatmap(lead_mat_median,cmap='vlag',vmax = np.abs(lead_mat_median).max(),center=0)"
   ]
  },
  {
   "cell_type": "code",
   "execution_count": 142,
   "id": "09f0d77b",
   "metadata": {},
   "outputs": [
    {
     "data": {
      "text/plain": [
       "<AxesSubplot:>"
      ]
     },
     "execution_count": 142,
     "metadata": {},
     "output_type": "execute_result"
    },
    {
     "data": {
      "image/png": "[encoded data removed]",
      "text/plain": [
       "<Figure size 432x288 with 2 Axes>"
      ]
     },
     "metadata": {
      "needs_background": "light"
     },
     "output_type": "display_data"
    }
   ],
   "source": [
    "sns.heatmap(com_mat * 2.2,cmap='vlag')"
   ]
  },
  {
   "cell_type": "markdown",
   "id": "8c14c53a",
   "metadata": {},
   "source": [
    "## Sweep multiple sessions"
   ]
  },
  {
   "cell_type": "code",
   "execution_count": 235,
   "id": "02cd5847",
   "metadata": {},
   "outputs": [
    {
     "data": {
      "text/plain": [
       "animal_name   \n",
       "e13_26m1     0    False\n",
       "             1     True\n",
       "             2     True\n",
       "             3     True\n",
       "             4    False\n",
       "Name: behavior, dtype: bool"
      ]
     },
     "execution_count": 235,
     "metadata": {},
     "output_type": "execute_result"
    }
   ],
   "source": [
    "subdb['behavior'].apply(lambda x:'[' in x)"
   ]
  },
  {
   "cell_type": "code",
   "execution_count": 237,
   "id": "c812f826",
   "metadata": {},
   "outputs": [
    {
     "data": {
      "text/html": [
       "<div>\n",
       "<style scoped>\n",
       "    .dataframe tbody tr th:only-of-type {\n",
       "        vertical-align: middle;\n",
       "    }\n",
       "\n",
       "    .dataframe tbody tr th {\n",
       "        vertical-align: top;\n",
       "    }\n",
       "\n",
       "    .dataframe thead th {\n",
       "        text-align: right;\n",
       "    }\n",
       "</style>\n",
       "<table border=\"1\" class=\"dataframe\">\n",
       "  <thead>\n",
       "    <tr style=\"text-align: right;\">\n",
       "      <th></th>\n",
       "      <th>1</th>\n",
       "      <th>2</th>\n",
       "      <th>3</th>\n",
       "      <th>4</th>\n",
       "      <th>5</th>\n",
       "      <th>6</th>\n",
       "      <th>7</th>\n",
       "      <th>8</th>\n",
       "      <th>9</th>\n",
       "      <th>10</th>\n",
       "      <th>...</th>\n",
       "      <th>trial</th>\n",
       "      <th>task_index</th>\n",
       "      <th>task</th>\n",
       "      <th>speed</th>\n",
       "      <th>vel_x</th>\n",
       "      <th>vel_y</th>\n",
       "      <th>visitedArm</th>\n",
       "      <th>correct</th>\n",
       "      <th>v</th>\n",
       "      <th>lin_binned</th>\n",
       "    </tr>\n",
       "    <tr>\n",
       "      <th>Time (s)</th>\n",
       "      <th></th>\n",
       "      <th></th>\n",
       "      <th></th>\n",
       "      <th></th>\n",
       "      <th></th>\n",
       "      <th></th>\n",
       "      <th></th>\n",
       "      <th></th>\n",
       "      <th></th>\n",
       "      <th></th>\n",
       "      <th></th>\n",
       "      <th></th>\n",
       "      <th></th>\n",
       "      <th></th>\n",
       "      <th></th>\n",
       "      <th></th>\n",
       "      <th></th>\n",
       "      <th></th>\n",
       "      <th></th>\n",
       "      <th></th>\n",
       "      <th></th>\n",
       "    </tr>\n",
       "  </thead>\n",
       "  <tbody>\n",
       "    <tr>\n",
       "      <th>15103.047333</th>\n",
       "      <td>1</td>\n",
       "      <td>220</td>\n",
       "      <td>167</td>\n",
       "      <td>169</td>\n",
       "      <td>306</td>\n",
       "      <td>218</td>\n",
       "      <td>351</td>\n",
       "      <td>247</td>\n",
       "      <td>306</td>\n",
       "      <td>155</td>\n",
       "      <td>...</td>\n",
       "      <td>NaN</td>\n",
       "      <td>1</td>\n",
       "      <td>alternation</td>\n",
       "      <td>0.000000</td>\n",
       "      <td>0.000000</td>\n",
       "      <td>0.000000</td>\n",
       "      <td>NaN</td>\n",
       "      <td>NaN</td>\n",
       "      <td>NaN</td>\n",
       "      <td>79</td>\n",
       "    </tr>\n",
       "    <tr>\n",
       "      <th>15116.013933</th>\n",
       "      <td>2</td>\n",
       "      <td>496</td>\n",
       "      <td>405</td>\n",
       "      <td>346</td>\n",
       "      <td>663</td>\n",
       "      <td>469</td>\n",
       "      <td>603</td>\n",
       "      <td>505</td>\n",
       "      <td>617</td>\n",
       "      <td>315</td>\n",
       "      <td>...</td>\n",
       "      <td>NaN</td>\n",
       "      <td>1</td>\n",
       "      <td>alternation</td>\n",
       "      <td>0.000258</td>\n",
       "      <td>-0.000256</td>\n",
       "      <td>0.000024</td>\n",
       "      <td>NaN</td>\n",
       "      <td>NaN</td>\n",
       "      <td>NaN</td>\n",
       "      <td>79</td>\n",
       "    </tr>\n",
       "    <tr>\n",
       "      <th>15138.128167</th>\n",
       "      <td>3</td>\n",
       "      <td>474</td>\n",
       "      <td>292</td>\n",
       "      <td>279</td>\n",
       "      <td>444</td>\n",
       "      <td>345</td>\n",
       "      <td>473</td>\n",
       "      <td>375</td>\n",
       "      <td>397</td>\n",
       "      <td>219</td>\n",
       "      <td>...</td>\n",
       "      <td>NaN</td>\n",
       "      <td>1</td>\n",
       "      <td>alternation</td>\n",
       "      <td>0.000514</td>\n",
       "      <td>-0.000512</td>\n",
       "      <td>0.000048</td>\n",
       "      <td>NaN</td>\n",
       "      <td>NaN</td>\n",
       "      <td>NaN</td>\n",
       "      <td>79</td>\n",
       "    </tr>\n",
       "    <tr>\n",
       "      <th>15144.995567</th>\n",
       "      <td>0</td>\n",
       "      <td>146</td>\n",
       "      <td>91</td>\n",
       "      <td>97</td>\n",
       "      <td>144</td>\n",
       "      <td>89</td>\n",
       "      <td>144</td>\n",
       "      <td>132</td>\n",
       "      <td>101</td>\n",
       "      <td>77</td>\n",
       "      <td>...</td>\n",
       "      <td>NaN</td>\n",
       "      <td>1</td>\n",
       "      <td>alternation</td>\n",
       "      <td>0.000770</td>\n",
       "      <td>-0.000766</td>\n",
       "      <td>0.000072</td>\n",
       "      <td>NaN</td>\n",
       "      <td>NaN</td>\n",
       "      <td>NaN</td>\n",
       "      <td>79</td>\n",
       "    </tr>\n",
       "    <tr>\n",
       "      <th>15146.245833</th>\n",
       "      <td>0</td>\n",
       "      <td>75</td>\n",
       "      <td>53</td>\n",
       "      <td>45</td>\n",
       "      <td>56</td>\n",
       "      <td>48</td>\n",
       "      <td>50</td>\n",
       "      <td>49</td>\n",
       "      <td>39</td>\n",
       "      <td>29</td>\n",
       "      <td>...</td>\n",
       "      <td>NaN</td>\n",
       "      <td>1</td>\n",
       "      <td>alternation</td>\n",
       "      <td>0.001023</td>\n",
       "      <td>-0.001019</td>\n",
       "      <td>0.000094</td>\n",
       "      <td>NaN</td>\n",
       "      <td>NaN</td>\n",
       "      <td>NaN</td>\n",
       "      <td>79</td>\n",
       "    </tr>\n",
       "    <tr>\n",
       "      <th>...</th>\n",
       "      <td>...</td>\n",
       "      <td>...</td>\n",
       "      <td>...</td>\n",
       "      <td>...</td>\n",
       "      <td>...</td>\n",
       "      <td>...</td>\n",
       "      <td>...</td>\n",
       "      <td>...</td>\n",
       "      <td>...</td>\n",
       "      <td>...</td>\n",
       "      <td>...</td>\n",
       "      <td>...</td>\n",
       "      <td>...</td>\n",
       "      <td>...</td>\n",
       "      <td>...</td>\n",
       "      <td>...</td>\n",
       "      <td>...</td>\n",
       "      <td>...</td>\n",
       "      <td>...</td>\n",
       "      <td>...</td>\n",
       "      <td>...</td>\n",
       "    </tr>\n",
       "    <tr>\n",
       "      <th>16749.099900</th>\n",
       "      <td>0</td>\n",
       "      <td>0</td>\n",
       "      <td>0</td>\n",
       "      <td>0</td>\n",
       "      <td>0</td>\n",
       "      <td>4</td>\n",
       "      <td>1</td>\n",
       "      <td>0</td>\n",
       "      <td>0</td>\n",
       "      <td>2</td>\n",
       "      <td>...</td>\n",
       "      <td>32.0</td>\n",
       "      <td>1</td>\n",
       "      <td>alternation</td>\n",
       "      <td>0.006189</td>\n",
       "      <td>0.004005</td>\n",
       "      <td>0.004719</td>\n",
       "      <td>0.0</td>\n",
       "      <td>1.0</td>\n",
       "      <td>NaN</td>\n",
       "      <td>99</td>\n",
       "    </tr>\n",
       "    <tr>\n",
       "      <th>16749.133233</th>\n",
       "      <td>0</td>\n",
       "      <td>3</td>\n",
       "      <td>2</td>\n",
       "      <td>1</td>\n",
       "      <td>1</td>\n",
       "      <td>1</td>\n",
       "      <td>1</td>\n",
       "      <td>1</td>\n",
       "      <td>1</td>\n",
       "      <td>2</td>\n",
       "      <td>...</td>\n",
       "      <td>32.0</td>\n",
       "      <td>1</td>\n",
       "      <td>alternation</td>\n",
       "      <td>0.004964</td>\n",
       "      <td>0.003216</td>\n",
       "      <td>0.003781</td>\n",
       "      <td>0.0</td>\n",
       "      <td>1.0</td>\n",
       "      <td>NaN</td>\n",
       "      <td>99</td>\n",
       "    </tr>\n",
       "    <tr>\n",
       "      <th>16749.166567</th>\n",
       "      <td>0</td>\n",
       "      <td>2</td>\n",
       "      <td>1</td>\n",
       "      <td>0</td>\n",
       "      <td>0</td>\n",
       "      <td>1</td>\n",
       "      <td>2</td>\n",
       "      <td>0</td>\n",
       "      <td>2</td>\n",
       "      <td>2</td>\n",
       "      <td>...</td>\n",
       "      <td>32.0</td>\n",
       "      <td>1</td>\n",
       "      <td>alternation</td>\n",
       "      <td>0.003730</td>\n",
       "      <td>0.002419</td>\n",
       "      <td>0.002839</td>\n",
       "      <td>0.0</td>\n",
       "      <td>1.0</td>\n",
       "      <td>NaN</td>\n",
       "      <td>99</td>\n",
       "    </tr>\n",
       "    <tr>\n",
       "      <th>16749.199933</th>\n",
       "      <td>0</td>\n",
       "      <td>0</td>\n",
       "      <td>0</td>\n",
       "      <td>0</td>\n",
       "      <td>0</td>\n",
       "      <td>0</td>\n",
       "      <td>1</td>\n",
       "      <td>1</td>\n",
       "      <td>0</td>\n",
       "      <td>1</td>\n",
       "      <td>...</td>\n",
       "      <td>32.0</td>\n",
       "      <td>1</td>\n",
       "      <td>alternation</td>\n",
       "      <td>0.002490</td>\n",
       "      <td>0.001616</td>\n",
       "      <td>0.001894</td>\n",
       "      <td>0.0</td>\n",
       "      <td>1.0</td>\n",
       "      <td>NaN</td>\n",
       "      <td>99</td>\n",
       "    </tr>\n",
       "    <tr>\n",
       "      <th>16749.233267</th>\n",
       "      <td>0</td>\n",
       "      <td>1</td>\n",
       "      <td>1</td>\n",
       "      <td>1</td>\n",
       "      <td>0</td>\n",
       "      <td>0</td>\n",
       "      <td>1</td>\n",
       "      <td>1</td>\n",
       "      <td>0</td>\n",
       "      <td>3</td>\n",
       "      <td>...</td>\n",
       "      <td>32.0</td>\n",
       "      <td>1</td>\n",
       "      <td>alternation</td>\n",
       "      <td>0.001246</td>\n",
       "      <td>0.000809</td>\n",
       "      <td>0.000947</td>\n",
       "      <td>0.0</td>\n",
       "      <td>1.0</td>\n",
       "      <td>NaN</td>\n",
       "      <td>99</td>\n",
       "    </tr>\n",
       "  </tbody>\n",
       "</table>\n",
       "<p>48056 rows × 284 columns</p>\n",
       "</div>"
      ],
      "text/plain": [
       "              1    2    3    4    5    6    7    8    9   10  ...  trial  \\\n",
       "Time (s)                                                      ...          \n",
       "15103.047333  1  220  167  169  306  218  351  247  306  155  ...    NaN   \n",
       "15116.013933  2  496  405  346  663  469  603  505  617  315  ...    NaN   \n",
       "15138.128167  3  474  292  279  444  345  473  375  397  219  ...    NaN   \n",
       "15144.995567  0  146   91   97  144   89  144  132  101   77  ...    NaN   \n",
       "15146.245833  0   75   53   45   56   48   50   49   39   29  ...    NaN   \n",
       "...          ..  ...  ...  ...  ...  ...  ...  ...  ...  ...  ...    ...   \n",
       "16749.099900  0    0    0    0    0    4    1    0    0    2  ...   32.0   \n",
       "16749.133233  0    3    2    1    1    1    1    1    1    2  ...   32.0   \n",
       "16749.166567  0    2    1    0    0    1    2    0    2    2  ...   32.0   \n",
       "16749.199933  0    0    0    0    0    0    1    1    0    1  ...   32.0   \n",
       "16749.233267  0    1    1    1    0    0    1    1    0    3  ...   32.0   \n",
       "\n",
       "              task_index         task     speed     vel_x     vel_y  \\\n",
       "Time (s)                                                              \n",
       "15103.047333           1  alternation  0.000000  0.000000  0.000000   \n",
       "15116.013933           1  alternation  0.000258 -0.000256  0.000024   \n",
       "15138.128167           1  alternation  0.000514 -0.000512  0.000048   \n",
       "15144.995567           1  alternation  0.000770 -0.000766  0.000072   \n",
       "15146.245833           1  alternation  0.001023 -0.001019  0.000094   \n",
       "...                  ...          ...       ...       ...       ...   \n",
       "16749.099900           1  alternation  0.006189  0.004005  0.004719   \n",
       "16749.133233           1  alternation  0.004964  0.003216  0.003781   \n",
       "16749.166567           1  alternation  0.003730  0.002419  0.002839   \n",
       "16749.199933           1  alternation  0.002490  0.001616  0.001894   \n",
       "16749.233267           1  alternation  0.001246  0.000809  0.000947   \n",
       "\n",
       "              visitedArm  correct   v  lin_binned  \n",
       "Time (s)                                           \n",
       "15103.047333         NaN      NaN NaN          79  \n",
       "15116.013933         NaN      NaN NaN          79  \n",
       "15138.128167         NaN      NaN NaN          79  \n",
       "15144.995567         NaN      NaN NaN          79  \n",
       "15146.245833         NaN      NaN NaN          79  \n",
       "...                  ...      ...  ..         ...  \n",
       "16749.099900         0.0      1.0 NaN          99  \n",
       "16749.133233         0.0      1.0 NaN          99  \n",
       "16749.166567         0.0      1.0 NaN          99  \n",
       "16749.199933         0.0      1.0 NaN          99  \n",
       "16749.233267         0.0      1.0 NaN          99  \n",
       "\n",
       "[48056 rows x 284 columns]"
      ]
     },
     "execution_count": 237,
     "metadata": {},
     "output_type": "execute_result"
    }
   ],
   "source": [
    "spk_beh_df"
   ]
  },
  {
   "cell_type": "code",
   "execution_count": 243,
   "id": "ed2968b6",
   "metadata": {},
   "outputs": [
    {
     "data": {
      "text/plain": [
       "<module 'place_cell_analysis' from '/mnt/home/szheng/projects/util_code/place_cell_analysis.py'>"
      ]
     },
     "execution_count": 243,
     "metadata": {},
     "output_type": "execute_result"
    }
   ],
   "source": [
    "reload(pa)"
   ]
  },
  {
   "cell_type": "code",
   "execution_count": 253,
   "id": "50e410fb",
   "metadata": {},
   "outputs": [
    {
     "data": {
      "text/plain": [
       "dict_keys([0, 1])"
      ]
     },
     "execution_count": 253,
     "metadata": {},
     "output_type": "execute_result"
    }
   ],
   "source": [
    "fr_map_dict[1].keys()"
   ]
  },
  {
   "cell_type": "code",
   "execution_count": 256,
   "id": "ef4b5fb9",
   "metadata": {},
   "outputs": [
    {
     "data": {
      "text/plain": [
       "100"
      ]
     },
     "execution_count": 256,
     "metadata": {},
     "output_type": "execute_result"
    }
   ],
   "source": [
    "nbins"
   ]
  },
  {
   "cell_type": "code",
   "execution_count": 284,
   "id": "bbd830bb",
   "metadata": {
    "scrolled": true
   },
   "outputs": [
    {
     "name": "stdout",
     "output_type": "stream",
     "text": [
      "cant format into a dataframe\n",
      "cant format into a dataframe\n"
     ]
    },
    {
     "name": "stderr",
     "output_type": "stream",
     "text": [
      "/mnt/home/szheng/projects/nmf_analysis/nmf_analysis.py:364: RuntimeWarning: invalid value encountered in true_divide\n",
      "  return np.sum(inds * mat,axis=axis) / np.sum(mat,axis=axis)\n"
     ]
    },
    {
     "name": "stdout",
     "output_type": "stream",
     "text": [
      "0\n",
      "1\n",
      "cant format into a dataframe\n",
      "cant format into a dataframe\n",
      "2\n",
      "3\n"
     ]
    },
    {
     "name": "stderr",
     "output_type": "stream",
     "text": [
      "/mnt/home/szheng/projects/nmf_analysis/nmf_analysis.py:364: RuntimeWarning: invalid value encountered in true_divide\n",
      "  return np.sum(inds * mat,axis=axis) / np.sum(mat,axis=axis)\n"
     ]
    },
    {
     "name": "stdout",
     "output_type": "stream",
     "text": [
      "cant format into a dataframe\n",
      "cant format into a dataframe\n"
     ]
    },
    {
     "name": "stderr",
     "output_type": "stream",
     "text": [
      "/mnt/home/szheng/projects/nmf_analysis/nmf_analysis.py:364: RuntimeWarning: invalid value encountered in true_divide\n",
      "  return np.sum(inds * mat,axis=axis) / np.sum(mat,axis=axis)\n"
     ]
    },
    {
     "name": "stdout",
     "output_type": "stream",
     "text": [
      "4\n",
      "5\n",
      "CPU times: user 12.2 s, sys: 852 ms, total: 13 s\n",
      "Wall time: 13 s\n"
     ]
    }
   ],
   "source": [
    "%%time\n",
    "subdb = db.query('animal_name==\"e13_26m1\"')\n",
    "subdb = subdb.loc[subdb['behavior'].apply(lambda x:'[' in x)]\n",
    "lead_mat_l = []\n",
    "iii=0\n",
    "for data_dir_full in subdb['data_dir_full']:\n",
    "    prep_res = dpp.load_spk_beh_df(data_dir_full,force_reload=False,extra_load={})\n",
    "    spk_beh_df=prep_res['spk_beh_df']\n",
    "    cell_cols_d = prep_res['cell_cols_d']\n",
    "    spk_beh_df = dpp.add_lin_binned(spk_beh_df,nbins=nbins)\n",
    "    spk_beh_df = spk_beh_df.query('task_index==1') # only familiar\n",
    "#     fr_map_dict=pa.get_fr_map_trial(spk_beh_df,cell_cols_d['pyr'],trialtype_key='visitedArm',speed_thresh=1.,order=['smooth','divide'])\n",
    "    fr_map_dict = pa.get_fr_map_trial_multi_task(spk_beh_df,cell_cols_d['pyr'],speed_thresh=1.,order=['smooth','divide'])[1]\n",
    "    for tt in fr_map_dict.keys():\n",
    "#         fr_map_trial = fr_map_dict[tt][0] # if using get_fr_map_trial\n",
    "        fr_map_trial = fr_map_dict[tt] # if using get_fr_map_trial_multi_task\n",
    "#         lead_mat = get_lead_mat(fr_map_trial)\n",
    "        lead_mat = get_lead_mat_all_neurons(fr_map_trial)\n",
    "        lead_mat = np.nanmedian(lead_mat,axis=0)\n",
    "        lead_mat = pd.DataFrame(lead_mat)\n",
    "        print(iii)\n",
    "        lead_mat_l.append(lead_mat)\n",
    "        iii=iii+1\n",
    "        \n",
    "\n"
   ]
  },
  {
   "cell_type": "code",
   "execution_count": 285,
   "id": "cd88dfa6",
   "metadata": {},
   "outputs": [],
   "source": [
    "max_ntrials = np.max([lead_mat.shape[0] for lead_mat in lead_mat_l])\n",
    "\n",
    "lead_mat_l_pad = [lead_mat.reindex(np.arange(max_ntrials)).reindex(np.arange(max_ntrials),axis=1) for lead_mat in lead_mat_l]\n",
    "\n",
    "lead_mat_l_pad_tensor = np.stack([lead_mat.values for lead_mat in lead_mat_l_pad])\n",
    "\n",
    "lead_mat_average = np.nanmean(lead_mat_l_pad_tensor,axis=0)\n",
    "lead_mat_median = np.nanmedian(lead_mat_l_pad_tensor,axis=0)"
   ]
  },
  {
   "cell_type": "code",
   "execution_count": 815,
   "id": "4ea5eab9",
   "metadata": {},
   "outputs": [],
   "source": [
    "def diverging_heatmap(X,quantile=0.99,**kwargs):\n",
    "    vmax = np.quantile(np.abs(X),quantile)\n",
    "    ax=sns.heatmap(X,cmap='vlag',center=0,vmin=-vmax,vmax=vmax)\n",
    "    return ax\n",
    "    "
   ]
  },
  {
   "cell_type": "code",
   "execution_count": 301,
   "id": "0c0f6034",
   "metadata": {},
   "outputs": [
    {
     "data": {
      "text/plain": [
       "<AxesSubplot:>"
      ]
     },
     "execution_count": 301,
     "metadata": {},
     "output_type": "execute_result"
    },
    {
     "data": {
      "image/png": "[encoded data removed]",
      "text/plain": [
       "<Figure size 432x288 with 2 Axes>"
      ]
     },
     "metadata": {
      "needs_background": "light"
     },
     "output_type": "display_data"
    }
   ],
   "source": [
    "diverging_heatmap(lead_mat_average,quantile=0.95)"
   ]
  },
  {
   "cell_type": "code",
   "execution_count": 299,
   "id": "0f8a70fd",
   "metadata": {},
   "outputs": [
    {
     "data": {
      "text/plain": [
       "<AxesSubplot:>"
      ]
     },
     "execution_count": 299,
     "metadata": {},
     "output_type": "execute_result"
    },
    {
     "data": {
      "image/png": "[encoded data removed]",
      "text/plain": [
       "<Figure size 432x288 with 2 Axes>"
      ]
     },
     "metadata": {
      "needs_background": "light"
     },
     "output_type": "display_data"
    }
   ],
   "source": [
    "diverging_heatmap(lead_mat_median,quantile=0.95)"
   ]
  },
  {
   "cell_type": "code",
   "execution_count": 303,
   "id": "be21464e",
   "metadata": {
    "scrolled": false
   },
   "outputs": [
    {
     "data": {
      "image/png": "[encoded data removed]",
      "text/plain": [
       "<Figure size 432x288 with 2 Axes>"
      ]
     },
     "metadata": {
      "needs_background": "light"
     },
     "output_type": "display_data"
    },
    {
     "data": {
      "image/png": "[encoded data removed]",
      "text/plain": [
       "<Figure size 432x288 with 2 Axes>"
      ]
     },
     "metadata": {
      "needs_background": "light"
     },
     "output_type": "display_data"
    },
    {
     "data": {
      "image/png": "[encoded data removed]",
      "text/plain": [
       "<Figure size 432x288 with 2 Axes>"
      ]
     },
     "metadata": {
      "needs_background": "light"
     },
     "output_type": "display_data"
    },
    {
     "data": {
      "image/png": "[encoded data removed]",
      "text/plain": [
       "<Figure size 432x288 with 2 Axes>"
      ]
     },
     "metadata": {
      "needs_background": "light"
     },
     "output_type": "display_data"
    },
    {
     "data": {
      "image/png": "[encoded data removed]",
      "text/plain": [
       "<Figure size 432x288 with 2 Axes>"
      ]
     },
     "metadata": {
      "needs_background": "light"
     },
     "output_type": "display_data"
    },
    {
     "data": {
      "image/png": "[encoded data removed]",
      "text/plain": [
       "<Figure size 432x288 with 2 Axes>"
      ]
     },
     "metadata": {
      "needs_background": "light"
     },
     "output_type": "display_data"
    }
   ],
   "source": [
    "for lead_mat in lead_mat_l:\n",
    "    plt.figure()\n",
    "    diverging_heatmap(lead_mat)\n"
   ]
  },
  {
   "cell_type": "code",
   "execution_count": 100,
   "id": "59063949",
   "metadata": {},
   "outputs": [],
   "source": [
    "a=fr_map_trial_reshape[:,0]\n",
    "b=fr_map_trial_reshape[:,1]"
   ]
  },
  {
   "cell_type": "code",
   "execution_count": 110,
   "id": "f2d042c0",
   "metadata": {},
   "outputs": [
    {
     "data": {
      "text/plain": [
       "array([-1.47375851])"
      ]
     },
     "execution_count": 110,
     "metadata": {},
     "output_type": "execute_result"
    }
   ],
   "source": [
    "# a = np.arange(100)\n",
    "# b = np.arange(1,101)\n",
    "# b = np.arange(100)\n",
    "get_a_lead_b(a,b,100,mode='same')"
   ]
  },
  {
   "cell_type": "code",
   "execution_count": 53,
   "id": "52db7220",
   "metadata": {},
   "outputs": [
    {
     "data": {
      "text/plain": [
       "<module 'nmf_analysis' from '/mnt/home/szheng/projects/nmf_analysis/nmf_analysis.py'>"
      ]
     },
     "execution_count": 53,
     "metadata": {},
     "output_type": "execute_result"
    }
   ],
   "source": [
    "reload(na)"
   ]
  },
  {
   "cell_type": "code",
   "execution_count": 92,
   "id": "88a6440f",
   "metadata": {},
   "outputs": [],
   "source": [
    "a = np.array([1,2,3,4,0])\n",
    "b = np.array([0,1,2,3,4])"
   ]
  },
  {
   "cell_type": "code",
   "execution_count": 97,
   "id": "f953ba98",
   "metadata": {},
   "outputs": [],
   "source": [
    "nbins = 101\n",
    "mode = 'same'\n",
    "corr = scipy.signal.correlate(a,b,mode=mode)\n",
    "lags = scipy.signal.correlation_lags(a.shape[0],b.shape[0],mode=mode)\n",
    "lags_mask = (lags >=-(nbins-1)) & (lags <=nbins-1)\n",
    "center = (len(corr[lags_mask])-1) / 2\n",
    "# com = na.get_com(corr[lags_mask][None,:],axis=1)\n",
    "com = np.argmax(corr[lags_mask])\n",
    "lead = com - center"
   ]
  },
  {
   "cell_type": "code",
   "execution_count": 94,
   "id": "9b8b779e",
   "metadata": {},
   "outputs": [
    {
     "data": {
      "text/plain": [
       "array([20, 30, 20, 11,  4])"
      ]
     },
     "execution_count": 94,
     "metadata": {},
     "output_type": "execute_result"
    }
   ],
   "source": [
    "corr"
   ]
  },
  {
   "cell_type": "code",
   "execution_count": 98,
   "id": "f7911a7a",
   "metadata": {},
   "outputs": [
    {
     "data": {
      "text/plain": [
       "-1.0"
      ]
     },
     "execution_count": 98,
     "metadata": {},
     "output_type": "execute_result"
    }
   ],
   "source": [
    "lead"
   ]
  },
  {
   "cell_type": "code",
   "execution_count": 96,
   "id": "3989cf11",
   "metadata": {},
   "outputs": [
    {
     "data": {
      "text/plain": [
       "-1"
      ]
     },
     "execution_count": 96,
     "metadata": {},
     "output_type": "execute_result"
    }
   ],
   "source": [
    "lags[np.argmax(corr)]"
   ]
  },
  {
   "cell_type": "code",
   "execution_count": 88,
   "id": "058f9b81",
   "metadata": {},
   "outputs": [
    {
     "data": {
      "text/plain": [
       "array([1.87692308])"
      ]
     },
     "execution_count": 88,
     "metadata": {},
     "output_type": "execute_result"
    }
   ],
   "source": [
    "com"
   ]
  },
  {
   "cell_type": "code",
   "execution_count": 79,
   "id": "60a11da8",
   "metadata": {},
   "outputs": [
    {
     "data": {
      "text/plain": [
       "array([99.33333333])"
      ]
     },
     "execution_count": 79,
     "metadata": {},
     "output_type": "execute_result"
    }
   ],
   "source": [
    "com"
   ]
  },
  {
   "cell_type": "code",
   "execution_count": 68,
   "id": "3f8b6828",
   "metadata": {},
   "outputs": [
    {
     "data": {
      "text/plain": [
       "(199,)"
      ]
     },
     "execution_count": 68,
     "metadata": {},
     "output_type": "execute_result"
    }
   ],
   "source": [
    "corr.shape"
   ]
  },
  {
   "cell_type": "code",
   "execution_count": 71,
   "id": "f1a4b235",
   "metadata": {},
   "outputs": [
    {
     "data": {
      "text/plain": [
       "99.5"
      ]
     },
     "execution_count": 71,
     "metadata": {},
     "output_type": "execute_result"
    }
   ],
   "source": [
    "center"
   ]
  },
  {
   "cell_type": "code",
   "execution_count": 73,
   "id": "e9531d1e",
   "metadata": {
    "scrolled": true
   },
   "outputs": [
    {
     "data": {
      "text/plain": [
       "(array([99]),)"
      ]
     },
     "execution_count": 73,
     "metadata": {},
     "output_type": "execute_result"
    }
   ],
   "source": [
    "np.nonzero(lags==0)"
   ]
  },
  {
   "cell_type": "code",
   "execution_count": 55,
   "id": "d8818dae",
   "metadata": {},
   "outputs": [
    {
     "data": {
      "text/plain": [
       "array([   100,    299,    596,    990,   1480,   2065,   2744,   3516,\n",
       "         4380,   5335,   6380,   7514,   8736,  10045,  11440,  12920,\n",
       "        14484,  16131,  17860,  19670,  21560,  23529,  25576,  27700,\n",
       "        29900,  32175,  34524,  36946,  39440,  42005,  44640,  47344,\n",
       "        50116,  52955,  55860,  58830,  61864,  64961,  68120,  71340,\n",
       "        74620,  77959,  81356,  84810,  88320,  91885,  95504,  99176,\n",
       "       102900, 106675, 110500, 114374, 118296, 122265, 126280, 130340,\n",
       "       134444, 138591, 142780, 147010, 151280, 155589, 159936, 164320,\n",
       "       168740, 173195, 177684, 182206, 186760, 191345, 195960, 200604,\n",
       "       205276, 209975, 214700, 219450, 224224, 229021, 233840, 238680,\n",
       "       243540, 248419, 253316, 258230, 263160, 268105, 273064, 278036,\n",
       "       283020, 288015, 293020, 298034, 303056, 308085, 313120, 318160,\n",
       "       323204, 328251, 333300, 328350, 323400, 318451, 313504, 308560,\n",
       "       303620, 298685, 293756, 288834, 283920, 279015, 274120, 269236,\n",
       "       264364, 259505, 254660, 249830, 245016, 240219, 235440, 230680,\n",
       "       225940, 221221, 216524, 211850, 207200, 202575, 197976, 193404,\n",
       "       188860, 184345, 179860, 175406, 170984, 166595, 162240, 157920,\n",
       "       153636, 149389, 145180, 141010, 136880, 132791, 128744, 124740,\n",
       "       120780, 116865, 112996, 109174, 105400, 101675,  98000,  94376,\n",
       "        90804,  87285,  83820,  80410,  77056,  73759,  70520,  67340,\n",
       "        64220,  61161,  58164,  55230,  52360,  49555,  46816,  44144,\n",
       "        41540,  39005,  36540,  34146,  31824,  29575,  27400,  25300,\n",
       "        23276,  21329,  19460,  17670,  15960,  14331,  12784,  11320,\n",
       "         9940,   8645,   7436,   6314,   5280,   4335,   3480,   2716,\n",
       "         2044,   1465,    980,    590,    296])"
      ]
     },
     "execution_count": 55,
     "metadata": {},
     "output_type": "execute_result"
    }
   ],
   "source": [
    "corr[lags_mask]"
   ]
  },
  {
   "cell_type": "code",
   "execution_count": 39,
   "id": "797aabdb",
   "metadata": {},
   "outputs": [
    {
     "data": {
      "text/plain": [
       "[<matplotlib.lines.Line2D at 0x155332cdc940>]"
      ]
     },
     "execution_count": 39,
     "metadata": {},
     "output_type": "execute_result"
    },
    {
     "data": {
      "image/png": "[encoded data removed]",
      "text/plain": [
       "<Figure size 432x288 with 1 Axes>"
      ]
     },
     "metadata": {
      "needs_background": "light"
     },
     "output_type": "display_data"
    }
   ],
   "source": [
    "%matplotlib inline\n",
    "lags = scipy.signal.correlation_lags(a.shape[0],b.shape[0])\n",
    "plt.plot(lags,scipy.signal.correlate(a,b))"
   ]
  },
  {
   "cell_type": "code",
   "execution_count": 16,
   "id": "eb758690",
   "metadata": {},
   "outputs": [
    {
     "data": {
      "text/plain": [
       "(42200, 33)"
      ]
     },
     "execution_count": 16,
     "metadata": {},
     "output_type": "execute_result"
    }
   ],
   "source": [
    "fr_map_trial_reshape.shape"
   ]
  },
  {
   "cell_type": "markdown",
   "id": "7a5024c1",
   "metadata": {},
   "source": [
    "# better field detection"
   ]
  },
  {
   "cell_type": "code",
   "execution_count": 326,
   "id": "9c88a574",
   "metadata": {},
   "outputs": [],
   "source": [
    "# nrepeats = 1000\n",
    "# roll_inds = np.random.randint(5,nbins-5,size=(nrepeats))\n",
    "\n",
    "# %time count_roll = count_trial_long.groupby(level=0).apply(lambda x:np.array([np.roll(x,i,axis=0) for i in roll_inds]))\n",
    "                                                           \n",
    "\n",
    "# reload(pf)\n",
    "# %time count_roll = pf.get_field_by_trial_shuffle(fr_map_trial,count_trial,occu_trial,cell_cols,nrepeats=1000)\n",
    "\n",
    "# dt=0.033\n",
    "# fr_shuffle = count_roll / (occu_d[0,0] * dt)\n",
    "\n",
    "# fr_shuffle"
   ]
  },
  {
   "cell_type": "code",
   "execution_count": 28,
   "id": "c96d514c",
   "metadata": {},
   "outputs": [
    {
     "data": {
      "text/plain": [
       "<AxesSubplot:>"
      ]
     },
     "execution_count": 28,
     "metadata": {},
     "output_type": "execute_result"
    },
    {
     "data": {
      "image/png": "[encoded data removed]",
      "text/plain": [
       "<Figure size 432x288 with 1 Axes>"
      ]
     },
     "metadata": {
      "needs_background": "light"
     },
     "output_type": "display_data"
    }
   ],
   "source": [
    "%matplotlib inline\n",
    "fr_shuffle.loc[174].mean().plot()\n",
    "fr_shuffle.loc[174].quantile(0.99,axis=0).plot()\n",
    "fr_shuffle.loc[174].quantile(0.01,axis=0).plot()\n"
   ]
  },
  {
   "cell_type": "code",
   "execution_count": 10,
   "id": "e51878f1",
   "metadata": {},
   "outputs": [],
   "source": [
    "nrepeats=100\n",
    "roll_inds = np.random.randint(50,spk_beh_df.shape[0]-50,size=nrepeats)\n",
    "# %time spk_roll = np.concatenate([np.roll(spk_beh_df[cell_cols],i,axis=0) for i in roll_inds],axis=0)"
   ]
  },
  {
   "cell_type": "code",
   "execution_count": 9,
   "id": "1f727e95",
   "metadata": {},
   "outputs": [],
   "source": [
    "_,spk_beh_df=dpp.group_into_trialtype(spk_beh_df)"
   ]
  },
  {
   "cell_type": "code",
   "execution_count": 13,
   "id": "364a9d3c",
   "metadata": {},
   "outputs": [],
   "source": [
    "beh_part=spk_beh_df[['lin','trial_type','speed']]"
   ]
  },
  {
   "cell_type": "code",
   "execution_count": 56,
   "id": "3351aaa0",
   "metadata": {},
   "outputs": [
    {
     "name": "stdout",
     "output_type": "stream",
     "text": [
      "CPU times: user 1min 19s, sys: 1min 11s, total: 2min 30s\n",
      "Wall time: 2min 30s\n"
     ]
    }
   ],
   "source": [
    "%%time\n",
    "fr_map_null_d_all = {(0,0):{},(0,1):{}}\n",
    "for n in range(nrepeats):\n",
    "    i = roll_inds[n]\n",
    "    spk_df_roll =pd.DataFrame(np.roll(spk_beh_df[cell_cols],i,axis=0),columns=cell_cols,index=spk_beh_df.index)\n",
    "    spk_df_roll = pd.concat([spk_df_roll,beh_part],axis=1)\n",
    "    fr_map_null_d,_,_,_ = pf.ratemap_from_spk_beh_df_alltrialtype(spk_df_roll,cell_cols,speed_thresh=1,nbins=100,smth_in_bin=2.5)\n",
    "    for k,val in fr_map_null_d.items():\n",
    "        fr_map_null_d_all[k][n]=val"
   ]
  },
  {
   "cell_type": "code",
   "execution_count": 72,
   "id": "2cbd0ac1",
   "metadata": {},
   "outputs": [
    {
     "data": {
      "text/plain": [
       "'/mnt/home/szheng/ceph/ad/roman_data/e13/e13_26m1/e13_26m1_210913'"
      ]
     },
     "execution_count": 72,
     "metadata": {},
     "output_type": "execute_result"
    }
   ],
   "source": [
    "data_dir_full"
   ]
  },
  {
   "cell_type": "code",
   "execution_count": 668,
   "id": "93d52b6f",
   "metadata": {},
   "outputs": [
    {
     "name": "stdout",
     "output_type": "stream",
     "text": [
      "67 sessions!\n"
     ]
    },
    {
     "data": {
      "text/plain": [
       "<module 'place_field_analysis' from '/mnt/home/szheng/projects/util_code/place_field_analysis.py'>"
      ]
     },
     "execution_count": 668,
     "metadata": {},
     "output_type": "execute_result"
    }
   ],
   "source": [
    "sys.path.append('/mnt/home/szheng/projects/util_code/hpc/')\n",
    "import create_fr_map_shuffle as cfms\n",
    "reload(cfms)\n",
    "reload(pf)"
   ]
  },
  {
   "cell_type": "code",
   "execution_count": 76,
   "id": "6eafc85e",
   "metadata": {},
   "outputs": [
    {
     "name": "stderr",
     "output_type": "stream",
     "text": [
      "100%|██████████| 1000/1000 [25:01<00:00,  1.50s/it]\n"
     ]
    },
    {
     "name": "stdout",
     "output_type": "stream",
     "text": [
      "saved at /mnt/home/szheng/ceph/ad/roman_data/e13/e13_26m1/e13_26m1_210913/py_data/fr_map_null.p\n",
      "CPU times: user 13min 16s, sys: 11min 49s, total: 25min 6s\n",
      "Wall time: 25min 6s\n"
     ]
    },
    {
     "data": {
      "text/plain": [
       "{(0,\n",
       "  0.0): lin_binned         0          1          2          3          4          5   \\\n",
       " 0   1.0      0.007894   0.011235   0.016073   0.020732   0.024417   0.026872   \n",
       "     2.0      0.020863   0.018310   0.014426   0.010452   0.007079   0.004530   \n",
       "     3.0      0.066869   0.083441   0.105041   0.122374   0.132614   0.136341   \n",
       "     27.0    14.721391  14.652271  14.587341  14.570896  14.596855  14.640268   \n",
       "     29.0     3.422030   3.434841   3.409962   3.330052   3.219409   3.109060   \n",
       " ...               ...        ...        ...        ...        ...        ...   \n",
       " 999 476.0    0.264050   0.283644   0.298198   0.292585   0.268665   0.234512   \n",
       "     477.0    0.060094   0.050055   0.037308   0.027418   0.021823   0.020298   \n",
       "     478.0    0.007841   0.012924   0.021313   0.031192   0.041344   0.050917   \n",
       "     479.0    0.564353   0.571165   0.573944   0.567010   0.552117   0.532363   \n",
       "     480.0    1.179221   1.153232   1.127262   1.119582   1.131321   1.155758   \n",
       " \n",
       " lin_binned         6          7          8          9   ...         90  \\\n",
       " 0   1.0      0.028052   0.027933   0.026413   0.023277  ...   0.012142   \n",
       "     2.0      0.002755   0.001595   0.000872   0.000443  ...   0.000000   \n",
       "     3.0      0.135022   0.129855   0.121254   0.108503  ...   0.264303   \n",
       "     27.0    14.674472  14.672621  14.604250  14.439387  ...  14.148919   \n",
       "     29.0     3.018882   2.956528   2.920479   2.898888  ...   3.278344   \n",
       " ...               ...        ...        ...        ...  ...        ...   \n",
       " 999 476.0    0.197194   0.160889   0.127108   0.095667  ...   0.473991   \n",
       "     477.0    0.022812   0.030242   0.044447   0.067322  ...   0.009505   \n",
       "     478.0    0.059135   0.065130   0.067708   0.065188  ...   0.006247   \n",
       "     479.0    0.508853   0.479938   0.441192   0.385646  ...   0.105674   \n",
       "     480.0    1.185868   1.218095   1.254555   1.303810  ...   2.712985   \n",
       " \n",
       " lin_binned         91         92         93         94         95         96  \\\n",
       " 0   1.0      0.006246   0.002636   0.000899   0.000248   0.000053   0.000010   \n",
       "     2.0      0.000000   0.000000   0.000000   0.000000   0.000000   0.000000   \n",
       "     3.0      0.227451   0.176650   0.133969   0.111744   0.106867   0.109193   \n",
       "     27.0    13.801731  13.445431  13.125173  12.897950  12.792918  12.789005   \n",
       "     29.0     3.374031   3.206592   2.831503   2.409678   2.085165   1.902421   \n",
       " ...               ...        ...        ...        ...        ...        ...   \n",
       " 999 476.0    0.517557   0.507734   0.442243   0.338084   0.225638   0.132743   \n",
       "     477.0    0.016738   0.038476   0.081569   0.146880   0.224518   0.298515   \n",
       "     478.0    0.011558   0.020678   0.030566   0.036275   0.034731   0.027526   \n",
       "     479.0    0.117205   0.129101   0.138404   0.142668   0.138179   0.123829   \n",
       "     480.0    2.701610   2.598025   2.430829   2.262757   2.155379   2.128238   \n",
       " \n",
       " lin_binned         97         98         99  \n",
       " 0   1.0      0.000000   0.000000   0.000000  \n",
       "     2.0      0.000000   0.000000   0.000000  \n",
       "     3.0      0.111622   0.112390   0.112314  \n",
       "     27.0    12.835567  12.887137  12.917843  \n",
       "     29.0     1.826646   1.805456   1.802882  \n",
       " ...               ...        ...        ...  \n",
       " 999 476.0    0.070757   0.036307   0.021630  \n",
       "     477.0    0.356915   0.395426   0.414216  \n",
       "     478.0    0.018899   0.012156   0.008653  \n",
       "     479.0    0.104085   0.086144   0.075753  \n",
       "     480.0    2.156438   2.200616   2.230276  \n",
       " \n",
       " [422000 rows x 100 columns],\n",
       " (0,\n",
       "  1.0): lin_binned         0          1          2          3          4          5   \\\n",
       " 0   1.0      0.034448   0.038043   0.042412   0.045071   0.045355   0.043718   \n",
       "     2.0      0.029970   0.028836   0.026263   0.022440   0.018092   0.013931   \n",
       "     3.0      0.031742   0.037648   0.045395   0.051196   0.053791   0.053721   \n",
       "     27.0    13.645758  13.780468  13.977398  14.164453  14.310343  14.414967   \n",
       "     29.0     1.629225   1.831887   2.144512   2.469913   2.757517   2.994622   \n",
       " ...               ...        ...        ...        ...        ...        ...   \n",
       " 999 476.0    0.218466   0.235167   0.253482   0.260493   0.253587   0.236439   \n",
       "     477.0    0.165433   0.156466   0.143090   0.130003   0.119440   0.111611   \n",
       "     478.0    0.072847   0.063761   0.051565   0.041926   0.036854   0.035742   \n",
       "     479.0    0.157587   0.173382   0.193051   0.206067   0.209605   0.205573   \n",
       "     480.0    1.955363   1.887692   1.787091   1.685448   1.594388   1.512865   \n",
       " \n",
       " lin_binned         6          7          8          9   ...         90  \\\n",
       " 0   1.0      0.040805   0.037033   0.032497   0.027033  ...   0.000978   \n",
       "     2.0      0.010354   0.007461   0.005183   0.003405  ...   0.000065   \n",
       "     3.0      0.052166   0.050434   0.049944   0.052346  ...   0.161056   \n",
       "     27.0    14.492144  14.561088  14.647096  14.785462  ...  15.289793   \n",
       "     29.0     3.184330   3.331428   3.437546   3.504455  ...   3.183798   \n",
       " ...               ...        ...        ...        ...  ...        ...   \n",
       " 999 476.0    0.213740   0.188923   0.163904   0.139972  ...   0.083825   \n",
       "     477.0    0.105926   0.101779   0.098925   0.097617  ...   0.064806   \n",
       "     478.0    0.037146   0.039913   0.043987   0.051827  ...   0.124989   \n",
       "     479.0    0.196869   0.186033   0.176023   0.172598  ...   0.585486   \n",
       "     480.0    1.435646   1.355891   1.263686   1.145165  ...   1.137925   \n",
       " \n",
       " lin_binned         91         92         93         94         95         96  \\\n",
       " 0   1.0      0.002712   0.006023   0.010600   0.014894   0.017039   0.016368   \n",
       "     2.0      0.000301   0.001118   0.003307   0.007838   0.015162   0.024548   \n",
       "     3.0      0.164432   0.145187   0.110376   0.075691   0.052281   0.041283   \n",
       "     27.0    14.851314  14.337515  13.979863  13.924650  14.120700  14.404584   \n",
       "     29.0     3.046254   2.823675   2.612034   2.475701   2.414909   2.397751   \n",
       " ...               ...        ...        ...        ...        ...        ...   \n",
       " 999 476.0    0.080549   0.074366   0.066828   0.059948   0.056202   0.057295   \n",
       "     477.0    0.061809   0.058496   0.060894   0.073883   0.097253   0.125771   \n",
       "     478.0    0.127108   0.125786   0.115450   0.094198   0.066817   0.041175   \n",
       "     479.0    0.624472   0.602852   0.528290   0.438883   0.372436   0.342668   \n",
       "     480.0    1.201857   1.267650   1.368092   1.523723   1.707016   1.864599   \n",
       " \n",
       " lin_binned         97         98         99  \n",
       " 0   1.0      0.013811   0.010990   0.009240  \n",
       "     2.0      0.034214   0.042080   0.046469  \n",
       "     3.0      0.038093   0.038047   0.038521  \n",
       "     27.0    14.644577  14.794540  14.861618  \n",
       "     29.0     2.395768   2.395551   2.394801  \n",
       " ...               ...        ...        ...  \n",
       " 999 476.0    0.062466   0.068781   0.072946  \n",
       "     477.0    0.152721   0.172973   0.183683  \n",
       "     478.0    0.022434   0.011378   0.006512  \n",
       "     479.0    0.340836   0.350521   0.358608  \n",
       "     480.0    1.964249   2.010028   2.024265  \n",
       " \n",
       " [422000 rows x 100 columns]}"
      ]
     },
     "execution_count": 76,
     "metadata": {},
     "output_type": "execute_result"
    }
   ],
   "source": [
    "reload(pf)\n",
    "save_fn = os.path.join(data_dir_full,'py_data','fr_map_null.p')\n",
    "%time pf.get_fr_map_shuffle(spk_beh_df,cell_cols,nrepeats=1000,dosave=True,save_fn=save_fn)"
   ]
  },
  {
   "cell_type": "code",
   "execution_count": 10,
   "id": "3c15c2f2",
   "metadata": {},
   "outputs": [],
   "source": [
    "fr_map_null = pickle.load(open('/mnt/home/szheng/ceph/ad/roman_data/e13/e13_26m1/e13_26m1_210913/py_data/fr_map_null.p','rb'))\n",
    "\n"
   ]
  },
  {
   "cell_type": "code",
   "execution_count": 13,
   "id": "fc3c32d4",
   "metadata": {},
   "outputs": [
    {
     "data": {
      "text/plain": [
       "{(0,\n",
       "  0.0): lin_binned         0          1          2          3          4          5   \\\n",
       " 0   1.0      0.007894   0.011235   0.016073   0.020732   0.024417   0.026872   \n",
       "     2.0      0.020863   0.018310   0.014426   0.010452   0.007079   0.004530   \n",
       "     3.0      0.066869   0.083441   0.105041   0.122374   0.132614   0.136341   \n",
       "     27.0    14.721391  14.652271  14.587341  14.570896  14.596855  14.640268   \n",
       "     29.0     3.422030   3.434841   3.409962   3.330052   3.219409   3.109060   \n",
       " ...               ...        ...        ...        ...        ...        ...   \n",
       " 999 476.0    0.264050   0.283644   0.298198   0.292585   0.268665   0.234512   \n",
       "     477.0    0.060094   0.050055   0.037308   0.027418   0.021823   0.020298   \n",
       "     478.0    0.007841   0.012924   0.021313   0.031192   0.041344   0.050917   \n",
       "     479.0    0.564353   0.571165   0.573944   0.567010   0.552117   0.532363   \n",
       "     480.0    1.179221   1.153232   1.127262   1.119582   1.131321   1.155758   \n",
       " \n",
       " lin_binned         6          7          8          9   ...         90  \\\n",
       " 0   1.0      0.028052   0.027933   0.026413   0.023277  ...   0.012142   \n",
       "     2.0      0.002755   0.001595   0.000872   0.000443  ...   0.000000   \n",
       "     3.0      0.135022   0.129855   0.121254   0.108503  ...   0.264303   \n",
       "     27.0    14.674472  14.672621  14.604250  14.439387  ...  14.148919   \n",
       "     29.0     3.018882   2.956528   2.920479   2.898888  ...   3.278344   \n",
       " ...               ...        ...        ...        ...  ...        ...   \n",
       " 999 476.0    0.197194   0.160889   0.127108   0.095667  ...   0.473991   \n",
       "     477.0    0.022812   0.030242   0.044447   0.067322  ...   0.009505   \n",
       "     478.0    0.059135   0.065130   0.067708   0.065188  ...   0.006247   \n",
       "     479.0    0.508853   0.479938   0.441192   0.385646  ...   0.105674   \n",
       "     480.0    1.185868   1.218095   1.254555   1.303810  ...   2.712985   \n",
       " \n",
       " lin_binned         91         92         93         94         95         96  \\\n",
       " 0   1.0      0.006246   0.002636   0.000899   0.000248   0.000053   0.000010   \n",
       "     2.0      0.000000   0.000000   0.000000   0.000000   0.000000   0.000000   \n",
       "     3.0      0.227451   0.176650   0.133969   0.111744   0.106867   0.109193   \n",
       "     27.0    13.801731  13.445431  13.125173  12.897950  12.792918  12.789005   \n",
       "     29.0     3.374031   3.206592   2.831503   2.409678   2.085165   1.902421   \n",
       " ...               ...        ...        ...        ...        ...        ...   \n",
       " 999 476.0    0.517557   0.507734   0.442243   0.338084   0.225638   0.132743   \n",
       "     477.0    0.016738   0.038476   0.081569   0.146880   0.224518   0.298515   \n",
       "     478.0    0.011558   0.020678   0.030566   0.036275   0.034731   0.027526   \n",
       "     479.0    0.117205   0.129101   0.138404   0.142668   0.138179   0.123829   \n",
       "     480.0    2.701610   2.598025   2.430829   2.262757   2.155379   2.128238   \n",
       " \n",
       " lin_binned         97         98         99  \n",
       " 0   1.0      0.000000   0.000000   0.000000  \n",
       "     2.0      0.000000   0.000000   0.000000  \n",
       "     3.0      0.111622   0.112390   0.112314  \n",
       "     27.0    12.835567  12.887137  12.917843  \n",
       "     29.0     1.826646   1.805456   1.802882  \n",
       " ...               ...        ...        ...  \n",
       " 999 476.0    0.070757   0.036307   0.021630  \n",
       "     477.0    0.356915   0.395426   0.414216  \n",
       "     478.0    0.018899   0.012156   0.008653  \n",
       "     479.0    0.104085   0.086144   0.075753  \n",
       "     480.0    2.156438   2.200616   2.230276  \n",
       " \n",
       " [422000 rows x 100 columns],\n",
       " (0,\n",
       "  1.0): lin_binned         0          1          2          3          4          5   \\\n",
       " 0   1.0      0.034448   0.038043   0.042412   0.045071   0.045355   0.043718   \n",
       "     2.0      0.029970   0.028836   0.026263   0.022440   0.018092   0.013931   \n",
       "     3.0      0.031742   0.037648   0.045395   0.051196   0.053791   0.053721   \n",
       "     27.0    13.645758  13.780468  13.977398  14.164453  14.310343  14.414967   \n",
       "     29.0     1.629225   1.831887   2.144512   2.469913   2.757517   2.994622   \n",
       " ...               ...        ...        ...        ...        ...        ...   \n",
       " 999 476.0    0.218466   0.235167   0.253482   0.260493   0.253587   0.236439   \n",
       "     477.0    0.165433   0.156466   0.143090   0.130003   0.119440   0.111611   \n",
       "     478.0    0.072847   0.063761   0.051565   0.041926   0.036854   0.035742   \n",
       "     479.0    0.157587   0.173382   0.193051   0.206067   0.209605   0.205573   \n",
       "     480.0    1.955363   1.887692   1.787091   1.685448   1.594388   1.512865   \n",
       " \n",
       " lin_binned         6          7          8          9   ...         90  \\\n",
       " 0   1.0      0.040805   0.037033   0.032497   0.027033  ...   0.000978   \n",
       "     2.0      0.010354   0.007461   0.005183   0.003405  ...   0.000065   \n",
       "     3.0      0.052166   0.050434   0.049944   0.052346  ...   0.161056   \n",
       "     27.0    14.492144  14.561088  14.647096  14.785462  ...  15.289793   \n",
       "     29.0     3.184330   3.331428   3.437546   3.504455  ...   3.183798   \n",
       " ...               ...        ...        ...        ...  ...        ...   \n",
       " 999 476.0    0.213740   0.188923   0.163904   0.139972  ...   0.083825   \n",
       "     477.0    0.105926   0.101779   0.098925   0.097617  ...   0.064806   \n",
       "     478.0    0.037146   0.039913   0.043987   0.051827  ...   0.124989   \n",
       "     479.0    0.196869   0.186033   0.176023   0.172598  ...   0.585486   \n",
       "     480.0    1.435646   1.355891   1.263686   1.145165  ...   1.137925   \n",
       " \n",
       " lin_binned         91         92         93         94         95         96  \\\n",
       " 0   1.0      0.002712   0.006023   0.010600   0.014894   0.017039   0.016368   \n",
       "     2.0      0.000301   0.001118   0.003307   0.007838   0.015162   0.024548   \n",
       "     3.0      0.164432   0.145187   0.110376   0.075691   0.052281   0.041283   \n",
       "     27.0    14.851314  14.337515  13.979863  13.924650  14.120700  14.404584   \n",
       "     29.0     3.046254   2.823675   2.612034   2.475701   2.414909   2.397751   \n",
       " ...               ...        ...        ...        ...        ...        ...   \n",
       " 999 476.0    0.080549   0.074366   0.066828   0.059948   0.056202   0.057295   \n",
       "     477.0    0.061809   0.058496   0.060894   0.073883   0.097253   0.125771   \n",
       "     478.0    0.127108   0.125786   0.115450   0.094198   0.066817   0.041175   \n",
       "     479.0    0.624472   0.602852   0.528290   0.438883   0.372436   0.342668   \n",
       "     480.0    1.201857   1.267650   1.368092   1.523723   1.707016   1.864599   \n",
       " \n",
       " lin_binned         97         98         99  \n",
       " 0   1.0      0.013811   0.010990   0.009240  \n",
       "     2.0      0.034214   0.042080   0.046469  \n",
       "     3.0      0.038093   0.038047   0.038521  \n",
       "     27.0    14.644577  14.794540  14.861618  \n",
       "     29.0     2.395768   2.395551   2.394801  \n",
       " ...               ...        ...        ...  \n",
       " 999 476.0    0.062466   0.068781   0.072946  \n",
       "     477.0    0.152721   0.172973   0.183683  \n",
       "     478.0    0.022434   0.011378   0.006512  \n",
       "     479.0    0.340836   0.350521   0.358608  \n",
       "     480.0    1.964249   2.010028   2.024265  \n",
       " \n",
       " [422000 rows x 100 columns]}"
      ]
     },
     "execution_count": 13,
     "metadata": {},
     "output_type": "execute_result"
    }
   ],
   "source": [
    "fr_map_null"
   ]
  },
  {
   "cell_type": "code",
   "execution_count": 11,
   "id": "dc8610fc",
   "metadata": {},
   "outputs": [],
   "source": [
    "fr_map_trial = fr_map_dict[0][0]\n",
    "fr_map_trial_df=pf.fr_map_trial_to_df(fr_map_trial,cell_cols)"
   ]
  },
  {
   "cell_type": "code",
   "execution_count": 1,
   "id": "2b5a9de9",
   "metadata": {
    "collapsed": true
   },
   "outputs": [
    {
     "ename": "NameError",
     "evalue": "name 'fr_map_null' is not defined",
     "output_type": "error",
     "traceback": [
      "\u001b[0;31m---------------------------------------------------------------------------\u001b[0m",
      "\u001b[0;31mNameError\u001b[0m                                 Traceback (most recent call last)",
      "Input \u001b[0;32mIn [1]\u001b[0m, in \u001b[0;36m<cell line: 2>\u001b[0;34m()\u001b[0m\n\u001b[1;32m      1\u001b[0m \u001b[38;5;66;03m# sig_thesh_map = fr_map_null[0,0].groupby(level=1).quantile(0.99)\u001b[39;00m\n\u001b[0;32m----> 2\u001b[0m sig_thesh_map \u001b[38;5;241m=\u001b[39m \u001b[43mfr_map_null\u001b[49m[\u001b[38;5;241m0\u001b[39m,\u001b[38;5;241m0\u001b[39m]\u001b[38;5;241m.\u001b[39mgroupby(level\u001b[38;5;241m=\u001b[39m\u001b[38;5;241m1\u001b[39m)\u001b[38;5;241m.\u001b[39mmax()\n",
      "\u001b[0;31mNameError\u001b[0m: name 'fr_map_null' is not defined"
     ]
    }
   ],
   "source": [
    "# sig_thesh_map = fr_map_null[0,0].groupby(level=1).quantile(0.99)\n",
    "sig_thesh_map = fr_map_null[0,0].groupby(level=1).max()"
   ]
  },
  {
   "cell_type": "code",
   "execution_count": 639,
   "id": "5b47793a",
   "metadata": {},
   "outputs": [
    {
     "data": {
      "text/plain": [
       "<AxesSubplot:xlabel='lin_binned'>"
      ]
     },
     "execution_count": 639,
     "metadata": {},
     "output_type": "execute_result"
    },
    {
     "data": {
      "image/png": "[encoded data removed]",
      "text/plain": [
       "<Figure size 432x288 with 1 Axes>"
      ]
     },
     "metadata": {
      "needs_background": "light"
     },
     "output_type": "display_data"
    }
   ],
   "source": [
    "%matplotlib inline\n",
    "uid = 3\n",
    "sig_thesh_map.loc[uid].plot()\n",
    "fr_map_trial_df.loc[uid].loc[:,16].plot()"
   ]
  },
  {
   "cell_type": "code",
   "execution_count": 13,
   "id": "6e6e34e2",
   "metadata": {},
   "outputs": [],
   "source": [
    "min_fr = 1\n",
    "issig_trial = (fr_map_trial_df > sig_thesh_map.stack().values[:,None]) & (fr_map_trial_df > min_fr)"
   ]
  },
  {
   "cell_type": "code",
   "execution_count": 55,
   "id": "d3145e4d",
   "metadata": {
    "scrolled": true
   },
   "outputs": [
    {
     "data": {
      "text/plain": [
       "<AxesSubplot:>"
      ]
     },
     "execution_count": 55,
     "metadata": {},
     "output_type": "execute_result"
    },
    {
     "data": {
      "image/png": "[encoded data removed]",
      "text/plain": [
       "<Figure size 432x288 with 1 Axes>"
      ]
     },
     "metadata": {
      "needs_background": "light"
     },
     "output_type": "display_data"
    }
   ],
   "source": [
    "issig_trial.loc[uid][15].astype(int).plot()"
   ]
  },
  {
   "cell_type": "code",
   "execution_count": 206,
   "id": "2120809f",
   "metadata": {
    "scrolled": true
   },
   "outputs": [
    {
     "data": {
      "text/plain": [
       "<AxesSubplot:xlabel='lin_binned'>"
      ]
     },
     "execution_count": 206,
     "metadata": {},
     "output_type": "execute_result"
    },
    {
     "data": {
      "image/png": "[encoded data removed]",
      "text/plain": [
       "<Figure size 432x288 with 1 Axes>"
      ]
     },
     "metadata": {
      "needs_background": "light"
     },
     "output_type": "display_data"
    }
   ],
   "source": [
    "%matplotlib inline\n",
    "uid = 3\n",
    "sig_thesh_map.loc[uid].plot()\n",
    "# fr_map_trial_df.loc[uid].loc[:,1].plot()\n",
    "fr_map_d[0,0].loc[uid].plot()"
   ]
  },
  {
   "cell_type": "code",
   "execution_count": 200,
   "id": "4379cedf",
   "metadata": {},
   "outputs": [
    {
     "data": {
      "text/plain": [
       "<AxesSubplot:xlabel='lin_binned'>"
      ]
     },
     "execution_count": 200,
     "metadata": {},
     "output_type": "execute_result"
    },
    {
     "data": {
      "image/png": "[encoded data removed]",
      "text/plain": [
       "<Figure size 432x288 with 1 Axes>"
      ]
     },
     "metadata": {
      "needs_background": "light"
     },
     "output_type": "display_data"
    }
   ],
   "source": [
    "fr_map_d[0,0].loc[27].plot()"
   ]
  },
  {
   "cell_type": "code",
   "execution_count": 103,
   "id": "3f99f8fd",
   "metadata": {},
   "outputs": [
    {
     "data": {
      "text/plain": [
       "<AxesSubplot:>"
      ]
     },
     "execution_count": 103,
     "metadata": {},
     "output_type": "execute_result"
    },
    {
     "data": {
      "image/png": "[encoded data removed]",
      "text/plain": [
       "<Figure size 432x288 with 1 Axes>"
      ]
     },
     "metadata": {
      "needs_background": "light"
     },
     "output_type": "display_data"
    }
   ],
   "source": [
    "fr_map_trial_df.loc[1][32].plot()"
   ]
  },
  {
   "cell_type": "code",
   "execution_count": 74,
   "id": "e9c1492b",
   "metadata": {},
   "outputs": [],
   "source": [
    "# issig_agg=issig_trial.any(axis=1).unstack()\n",
    "\n",
    "# ma = np.diff(issig_agg.astype(int),prepend=0,append=0)"
   ]
  },
  {
   "cell_type": "code",
   "execution_count": 58,
   "id": "fee41f14",
   "metadata": {},
   "outputs": [
    {
     "data": {
      "text/plain": [
       "<AxesSubplot:>"
      ]
     },
     "execution_count": 58,
     "metadata": {},
     "output_type": "execute_result"
    },
    {
     "data": {
      "image/png": "[encoded data removed]",
      "text/plain": [
       "<Figure size 432x288 with 1 Axes>"
      ]
     },
     "metadata": {
      "needs_background": "light"
     },
     "output_type": "display_data"
    }
   ],
   "source": [
    "issig_trial.loc[27].loc[5].astype(int).plot()"
   ]
  },
  {
   "cell_type": "code",
   "execution_count": 104,
   "id": "e7d52748",
   "metadata": {},
   "outputs": [],
   "source": [
    "# detect field using the significant chunks in each trial\n",
    "issig_trial_pos_cols =issig_trial.stack().unstack(level=1)\n",
    "ma = np.diff(issig_trial_pos_cols.astype(int),prepend=0,append=0)\n",
    "start_ind,start_pos=np.nonzero(ma==1)\n",
    "end_ind,end_pos=np.nonzero(ma==-1)[0],np.nonzero(ma==-1)[1] - 1 # -1, because in pd loc, the right end is included\n",
    "\n",
    "start_ind = issig_trial_pos_cols.index.values[start_ind]\n",
    "all_fields_bounds=pd.DataFrame(np.array([start_ind,start_pos,end_pos]).T,columns=['uid','start','end'])\n",
    "all_fields_bounds.index=pd.MultiIndex.from_tuples(all_fields_bounds['uid'])\n",
    "all_fields_bounds = all_fields_bounds.drop('uid',axis=1)\n",
    "\n",
    "field_index = all_fields_bounds.groupby(level=(0,1)).cumcount()\n",
    "all_fields_bounds['field_index'] = field_index\n",
    "\n",
    "width_thresh_in_bin = (4,30)\n",
    "width = all_fields_bounds['end']-all_fields_bounds['start']\n",
    "width_mask = (width >= width_thresh_in_bin[0]) & (width <= width_thresh_in_bin[1])\n",
    "\n",
    "all_fields_bounds = all_fields_bounds.loc[width_mask]\n"
   ]
  },
  {
   "cell_type": "code",
   "execution_count": 244,
   "id": "bdba5d85",
   "metadata": {},
   "outputs": [],
   "source": [
    "# all_fields_bounds_pivot = all_fields_bounds.pivot(columns='field_index')"
   ]
  },
  {
   "cell_type": "code",
   "execution_count": 21,
   "id": "9308d2b6",
   "metadata": {},
   "outputs": [],
   "source": [
    "# gpb = all_fields_bounds_pivot.groupby(level=0)"
   ]
  },
  {
   "cell_type": "code",
   "execution_count": null,
   "id": "b61bcb1e",
   "metadata": {},
   "outputs": [],
   "source": [
    "# now want to test the overlap of the stacked field ranges\n",
    "# min of next start - prev end, start - prev start"
   ]
  },
  {
   "cell_type": "code",
   "execution_count": 319,
   "id": "9738283b",
   "metadata": {},
   "outputs": [],
   "source": [
    "uid = 29"
   ]
  },
  {
   "cell_type": "code",
   "execution_count": 260,
   "id": "4283b058",
   "metadata": {},
   "outputs": [],
   "source": [
    "start_one_neuron = all_fields_bounds.loc[uid]['start'].values[:,None]\n",
    "end_one_neuron = all_fields_bounds.loc[uid]['end'].values[:,None]\n",
    "\n",
    "field_bounds_one_neuron = all_fields_bounds.loc[uid]"
   ]
  },
  {
   "cell_type": "code",
   "execution_count": 294,
   "id": "7fd662bd",
   "metadata": {},
   "outputs": [
    {
     "name": "stderr",
     "output_type": "stream",
     "text": [
      "/tmp/ipykernel_607939/12910675.py:1: SettingWithCopyWarning: \n",
      "A value is trying to be set on a copy of a slice from a DataFrame.\n",
      "Try using .loc[row_indexer,col_indexer] = value instead\n",
      "\n",
      "See the caveats in the documentation: https://pandas.pydata.org/pandas-docs/stable/user_guide/indexing.html#returning-a-view-versus-a-copy\n",
      "  field_bounds_one_neuron['midpoint'] =(field_bounds_one_neuron['start'] +field_bounds_one_neuron['end']) / 2\n"
     ]
    }
   ],
   "source": [
    "field_bounds_one_neuron['midpoint'] =(field_bounds_one_neuron['start'] +field_bounds_one_neuron['end']) / 2"
   ]
  },
  {
   "cell_type": "code",
   "execution_count": 15,
   "id": "640ca901",
   "metadata": {},
   "outputs": [],
   "source": [
    "def get_peak_com_from_all_fields_bounds(fr_map_trial_df,all_fields_bounds):\n",
    "    peak_l = []\n",
    "    com_l = []\n",
    "    for ii,row in all_fields_bounds.iterrows():\n",
    "        uid=ii[0]\n",
    "        tt=ii[1]\n",
    "        peak = fr_map_trial_df.loc[(uid,slice(None))][tt].loc[row['start']:row['end']].idxmax()\n",
    "        peak_l.append(peak)\n",
    "        \n",
    "        section = fr_map_trial_df.loc[(uid,slice(None))][tt].loc[row['start']:row['end']]\n",
    "        inds = section.index\n",
    "        com =na.get_com(section.values[:,None],axis=0)[0]\n",
    "\n",
    "        com = inds[int(com)] if not np.isnan(com) else np.nan\n",
    "        com_l.append(com)\n",
    "    all_fields_bounds['peak'] = peak_l\n",
    "    all_fields_bounds['com'] = com_l\n",
    "    \n",
    "    return all_fields_bounds"
   ]
  },
  {
   "cell_type": "code",
   "execution_count": 105,
   "id": "58994285",
   "metadata": {},
   "outputs": [
    {
     "name": "stdout",
     "output_type": "stream",
     "text": [
      "CPU times: user 14.6 s, sys: 3.2 ms, total: 14.6 s\n",
      "Wall time: 14.6 s\n"
     ]
    }
   ],
   "source": [
    "%%time\n",
    "all_fields_bounds = get_peak_com_from_all_fields_bounds(fr_map_trial_df,all_fields_bounds)"
   ]
  },
  {
   "cell_type": "code",
   "execution_count": 356,
   "id": "1d140ce8",
   "metadata": {},
   "outputs": [
    {
     "data": {
      "text/plain": [
       "<AxesSubplot:>"
      ]
     },
     "execution_count": 356,
     "metadata": {},
     "output_type": "execute_result"
    },
    {
     "data": {
      "image/png": "[encoded data removed]",
      "text/plain": [
       "<Figure size 432x288 with 1 Axes>"
      ]
     },
     "metadata": {
      "needs_background": "light"
     },
     "output_type": "display_data"
    }
   ],
   "source": [
    "(all_fields_bounds['peak']-all_fields_bounds['com']).hist() \n",
    "# do it in different sections of the experiment"
   ]
  },
  {
   "cell_type": "code",
   "execution_count": 396,
   "id": "7537810c",
   "metadata": {},
   "outputs": [
    {
     "data": {
      "text/plain": [
       "3.0      False\n",
       "27.0     False\n",
       "29.0     False\n",
       "30.0     False\n",
       "31.0     False\n",
       "         ...  \n",
       "475.0    False\n",
       "476.0    False\n",
       "478.0    False\n",
       "479.0    False\n",
       "480.0    False\n",
       "Name: start, Length: 390, dtype: bool"
      ]
     },
     "execution_count": 396,
     "metadata": {},
     "output_type": "execute_result"
    }
   ],
   "source": [
    "all_fields_bounds.groupby(level=0).count()['start']<2"
   ]
  },
  {
   "cell_type": "code",
   "execution_count": 493,
   "id": "67b9c2ff",
   "metadata": {},
   "outputs": [],
   "source": [
    "def cluster_field_one_neuron(fields_bounds_one_neuron,cluster_key='peak',model=BayesianGaussianMixture,manual_merge_thresh=5,model_kws={'mean_precision_prior':0.0001,'max_iter':800}):\n",
    "    n_fields_new = len(fields_bounds_one_neuron['field_index'].unique())+1 # max number of fields per trial + 1\n",
    "\n",
    "    if fields_bounds_one_neuron.shape[0]==1:\n",
    "        return np.array([0])\n",
    "    else:\n",
    "        while n_fields_new > fields_bounds_one_neuron.shape[0]:\n",
    "            n_fields_new = n_fields_new-1\n",
    "        location_to_be_clustered=fields_bounds_one_neuron[cluster_key].values[:,None]\n",
    "        mdl = model(n_components=n_fields_new,**model_kws)\n",
    "        cl = mdl.fit_predict(location_to_be_clustered)\n",
    "\n",
    "        cl = scipy.stats.rankdata(cl,method='dense')-1 # reindex\n",
    "\n",
    "        return cl\n",
    "    \n"
   ]
  },
  {
   "cell_type": "code",
   "execution_count": 72,
   "id": "217e5ca6",
   "metadata": {},
   "outputs": [],
   "source": [
    "from sklearn.cluster import AgglomerativeClustering"
   ]
  },
  {
   "cell_type": "code",
   "execution_count": 18,
   "id": "56af3d12",
   "metadata": {},
   "outputs": [],
   "source": [
    "# combine field\n",
    "def combine_field_one_neuron(fields_bounds_one_neuron,combine_key='field_index_cl'):\n",
    "    gpb=fields_bounds_one_neuron.groupby(combine_key)\n",
    "    range_combined = pd.DataFrame([gpb['start'].min(),gpb['end'].max()]).T\n",
    "    return range_combined\n",
    "\n",
    "    "
   ]
  },
  {
   "cell_type": "code",
   "execution_count": 29,
   "id": "322c9941",
   "metadata": {},
   "outputs": [],
   "source": [
    "# interpolate across trials\n",
    "def interploate_field_across_trials_one_neuron(fields_bounds_one_neuron,trial_inds,combine_key='field_index_cl'):\n",
    "    '''\n",
    "    within one trial, fields with the same combine_key would be combined\n",
    "    '''\n",
    "    # (n_trial x field_index_cl x [start,end]) x 1\n",
    "\n",
    "    fields_bounds_one_neuron_merged=fields_bounds_one_neuron.groupby(['trial',combine_key]).apply(lambda x:pd.DataFrame({'start':[x['start'].min()],'end':[x['end'].max()]}).T) \n",
    "    # n_trial x ([start,end] x field_index_cl)\n",
    "    fields_bounds_one_neuron_merged_pivot=fields_bounds_one_neuron_merged.unstack().droplevel(axis=1,level=0).unstack(level=1)\n",
    "    # make sure all trials have the same indices\n",
    "    fields_bounds_one_neuron_merged_pivot=fields_bounds_one_neuron_merged_pivot.reindex(trial_inds)\n",
    "    \n",
    "    fields_bounds_one_neuron_merged_pivot_interp=fields_bounds_one_neuron_merged_pivot.interpolate(limit_direction='both').astype(int)\n",
    "    return fields_bounds_one_neuron_merged_pivot_interp\n",
    "    \n",
    "    "
   ]
  },
  {
   "cell_type": "code",
   "execution_count": 431,
   "id": "871fa556",
   "metadata": {},
   "outputs": [
    {
     "data": {
      "text/plain": [
       "array([1, 1, 1, 1, 0])"
      ]
     },
     "execution_count": 431,
     "metadata": {},
     "output_type": "execute_result"
    }
   ],
   "source": [
    "cl"
   ]
  },
  {
   "cell_type": "code",
   "execution_count": 474,
   "id": "841a2ea1",
   "metadata": {
    "scrolled": true
   },
   "outputs": [],
   "source": [
    "\n",
    "gpb=all_fields_bounds.groupby(level=0)\n",
    "cl_all=[]\n",
    "for k,val in gpb:\n",
    "    cl=cluster_field_one_neuron(val,cluster_key='com',model=Kde_Peak_Cluster,model_kws=kde_kws)\n",
    "    cl_all.extend(cl)"
   ]
  },
  {
   "cell_type": "code",
   "execution_count": 672,
   "id": "883ee997",
   "metadata": {},
   "outputs": [
    {
     "data": {
      "text/html": [
       "<div>\n",
       "<style scoped>\n",
       "    .dataframe tbody tr th:only-of-type {\n",
       "        vertical-align: middle;\n",
       "    }\n",
       "\n",
       "    .dataframe tbody tr th {\n",
       "        vertical-align: top;\n",
       "    }\n",
       "\n",
       "    .dataframe thead th {\n",
       "        text-align: right;\n",
       "    }\n",
       "</style>\n",
       "<table border=\"1\" class=\"dataframe\">\n",
       "  <thead>\n",
       "    <tr style=\"text-align: right;\">\n",
       "      <th></th>\n",
       "      <th></th>\n",
       "      <th>start</th>\n",
       "      <th>end</th>\n",
       "      <th>field_index</th>\n",
       "      <th>peak</th>\n",
       "      <th>com</th>\n",
       "      <th>field_index_cl</th>\n",
       "      <th>trial</th>\n",
       "    </tr>\n",
       "  </thead>\n",
       "  <tbody>\n",
       "    <tr>\n",
       "      <th rowspan=\"5\" valign=\"top\">3.0</th>\n",
       "      <th>0</th>\n",
       "      <td>14</td>\n",
       "      <td>25</td>\n",
       "      <td>0</td>\n",
       "      <td>18</td>\n",
       "      <td>19</td>\n",
       "      <td>0</td>\n",
       "      <td>0</td>\n",
       "    </tr>\n",
       "    <tr>\n",
       "      <th>1</th>\n",
       "      <td>20</td>\n",
       "      <td>29</td>\n",
       "      <td>0</td>\n",
       "      <td>25</td>\n",
       "      <td>24</td>\n",
       "      <td>0</td>\n",
       "      <td>1</td>\n",
       "    </tr>\n",
       "    <tr>\n",
       "      <th>2</th>\n",
       "      <td>27</td>\n",
       "      <td>32</td>\n",
       "      <td>0</td>\n",
       "      <td>30</td>\n",
       "      <td>29</td>\n",
       "      <td>0</td>\n",
       "      <td>2</td>\n",
       "    </tr>\n",
       "    <tr>\n",
       "      <th>9</th>\n",
       "      <td>31</td>\n",
       "      <td>39</td>\n",
       "      <td>0</td>\n",
       "      <td>36</td>\n",
       "      <td>35</td>\n",
       "      <td>1</td>\n",
       "      <td>9</td>\n",
       "    </tr>\n",
       "    <tr>\n",
       "      <th>10</th>\n",
       "      <td>31</td>\n",
       "      <td>39</td>\n",
       "      <td>0</td>\n",
       "      <td>35</td>\n",
       "      <td>34</td>\n",
       "      <td>1</td>\n",
       "      <td>10</td>\n",
       "    </tr>\n",
       "    <tr>\n",
       "      <th>...</th>\n",
       "      <th>...</th>\n",
       "      <td>...</td>\n",
       "      <td>...</td>\n",
       "      <td>...</td>\n",
       "      <td>...</td>\n",
       "      <td>...</td>\n",
       "      <td>...</td>\n",
       "      <td>...</td>\n",
       "    </tr>\n",
       "    <tr>\n",
       "      <th rowspan=\"5\" valign=\"top\">480.0</th>\n",
       "      <th>28</th>\n",
       "      <td>79</td>\n",
       "      <td>89</td>\n",
       "      <td>0</td>\n",
       "      <td>84</td>\n",
       "      <td>83</td>\n",
       "      <td>2</td>\n",
       "      <td>28</td>\n",
       "    </tr>\n",
       "    <tr>\n",
       "      <th>29</th>\n",
       "      <td>77</td>\n",
       "      <td>91</td>\n",
       "      <td>0</td>\n",
       "      <td>85</td>\n",
       "      <td>84</td>\n",
       "      <td>2</td>\n",
       "      <td>29</td>\n",
       "    </tr>\n",
       "    <tr>\n",
       "      <th>30</th>\n",
       "      <td>77</td>\n",
       "      <td>90</td>\n",
       "      <td>0</td>\n",
       "      <td>84</td>\n",
       "      <td>83</td>\n",
       "      <td>2</td>\n",
       "      <td>30</td>\n",
       "    </tr>\n",
       "    <tr>\n",
       "      <th>31</th>\n",
       "      <td>70</td>\n",
       "      <td>91</td>\n",
       "      <td>0</td>\n",
       "      <td>78</td>\n",
       "      <td>78</td>\n",
       "      <td>1</td>\n",
       "      <td>31</td>\n",
       "    </tr>\n",
       "    <tr>\n",
       "      <th>32</th>\n",
       "      <td>68</td>\n",
       "      <td>87</td>\n",
       "      <td>0</td>\n",
       "      <td>74</td>\n",
       "      <td>76</td>\n",
       "      <td>1</td>\n",
       "      <td>32</td>\n",
       "    </tr>\n",
       "  </tbody>\n",
       "</table>\n",
       "<p>15181 rows × 7 columns</p>\n",
       "</div>"
      ],
      "text/plain": [
       "         start end  field_index  peak  com  field_index_cl  trial\n",
       "3.0   0     14  25            0    18   19               0      0\n",
       "      1     20  29            0    25   24               0      1\n",
       "      2     27  32            0    30   29               0      2\n",
       "      9     31  39            0    36   35               1      9\n",
       "      10    31  39            0    35   34               1     10\n",
       "...        ...  ..          ...   ...  ...             ...    ...\n",
       "480.0 28    79  89            0    84   83               2     28\n",
       "      29    77  91            0    85   84               2     29\n",
       "      30    77  90            0    84   83               2     30\n",
       "      31    70  91            0    78   78               1     31\n",
       "      32    68  87            0    74   76               1     32\n",
       "\n",
       "[15181 rows x 7 columns]"
      ]
     },
     "execution_count": 672,
     "metadata": {},
     "output_type": "execute_result"
    }
   ],
   "source": [
    "all_fields_bounds"
   ]
  },
  {
   "cell_type": "code",
   "execution_count": 696,
   "id": "028ca57d",
   "metadata": {},
   "outputs": [],
   "source": [
    "del Kde_Peak_Cluster\n",
    "from mode_cluster import Kde_Peak_Cluster\n",
    "del pf\n",
    "import place_field_analysis as pf"
   ]
  },
  {
   "cell_type": "code",
   "execution_count": 494,
   "id": "865319fe",
   "metadata": {
    "scrolled": true
   },
   "outputs": [
    {
     "name": "stdout",
     "output_type": "stream",
     "text": [
      "CPU times: user 297 ms, sys: 0 ns, total: 297 ms\n",
      "Wall time: 296 ms\n"
     ]
    }
   ],
   "source": [
    "kde_kws = {'bw_method':0.1,'allposbins':fr_map_d[0,0].columns,'peak_dist_thresh':6}\n",
    "kde_cl = Kde_Peak_Cluster(**kde_kws)\n",
    "%time cl_all = all_fields_bounds.groupby(level=0).apply(lambda x:cluster_field_one_neuron(x,cluster_key='com',model=Kde_Peak_Cluster,model_kws=kde_kws))\n",
    "all_fields_bounds['field_index_cl']=np.concatenate(cl_all.values)\n",
    "all_fields_bounds['trial'] = all_fields_bounds.index.get_level_values(1)"
   ]
  },
  {
   "cell_type": "code",
   "execution_count": 495,
   "id": "85055822",
   "metadata": {
    "scrolled": true
   },
   "outputs": [],
   "source": [
    "# %%time\n",
    "# gpb = all_fields_bounds.groupby(level=0)\n",
    "# range_combined_all = gpb.apply(lambda x:combine_field_one_neuron(x,combine_key='field_index_cl'))"
   ]
  },
  {
   "cell_type": "code",
   "execution_count": 496,
   "id": "7d4e648b",
   "metadata": {},
   "outputs": [
    {
     "name": "stdout",
     "output_type": "stream",
     "text": [
      "CPU times: user 12.7 s, sys: 17.8 ms, total: 12.7 s\n",
      "Wall time: 12.7 s\n"
     ]
    }
   ],
   "source": [
    "trial_inds = fr_map_trial_df.columns\n",
    "gpb = all_fields_bounds.groupby(level=0)\n",
    "%time all_fields_bounds_merged_pivot_interp = gpb.apply(lambda x:interploate_field_across_trials_one_neuron(x,trial_inds,combine_key='field_index_cl')) \n",
    "\n",
    "\n",
    "\n",
    "\n",
    "all_fields_bounds_merged_interp = all_fields_bounds_merged_pivot_interp.stack(level=1)"
   ]
  },
  {
   "cell_type": "code",
   "execution_count": 497,
   "id": "d5ab2379",
   "metadata": {},
   "outputs": [
    {
     "name": "stderr",
     "output_type": "stream",
     "text": [
      "/mnt/home/szheng/projects/nmf_analysis/nmf_analysis.py:365: RuntimeWarning: invalid value encountered in true_divide\n",
      "  return np.sum(inds * mat,axis=axis) / np.sum(mat,axis=axis)\n"
     ]
    },
    {
     "name": "stdout",
     "output_type": "stream",
     "text": [
      "CPU times: user 47.1 s, sys: 5.26 ms, total: 47.1 s\n",
      "Wall time: 47.1 s\n"
     ]
    }
   ],
   "source": [
    "%%time\n",
    "all_fields_bounds_merged_interp = get_peak_com_from_all_fields_bounds(fr_map_trial_df,all_fields_bounds_merged_interp)\n",
    "\n"
   ]
  },
  {
   "cell_type": "code",
   "execution_count": 498,
   "id": "e30c588d",
   "metadata": {},
   "outputs": [
    {
     "data": {
      "text/html": [
       "<div>\n",
       "<style scoped>\n",
       "    .dataframe tbody tr th:only-of-type {\n",
       "        vertical-align: middle;\n",
       "    }\n",
       "\n",
       "    .dataframe tbody tr th {\n",
       "        vertical-align: top;\n",
       "    }\n",
       "\n",
       "    .dataframe thead th {\n",
       "        text-align: right;\n",
       "    }\n",
       "</style>\n",
       "<table border=\"1\" class=\"dataframe\">\n",
       "  <thead>\n",
       "    <tr style=\"text-align: right;\">\n",
       "      <th></th>\n",
       "      <th></th>\n",
       "      <th></th>\n",
       "      <th>end</th>\n",
       "      <th>start</th>\n",
       "      <th>peak</th>\n",
       "      <th>com</th>\n",
       "    </tr>\n",
       "    <tr>\n",
       "      <th></th>\n",
       "      <th></th>\n",
       "      <th>field_index_cl</th>\n",
       "      <th></th>\n",
       "      <th></th>\n",
       "      <th></th>\n",
       "      <th></th>\n",
       "    </tr>\n",
       "  </thead>\n",
       "  <tbody>\n",
       "    <tr>\n",
       "      <th rowspan=\"5\" valign=\"top\">3.0</th>\n",
       "      <th rowspan=\"2\" valign=\"top\">0</th>\n",
       "      <th>0</th>\n",
       "      <td>25.0</td>\n",
       "      <td>14.0</td>\n",
       "      <td>18</td>\n",
       "      <td>19.0</td>\n",
       "    </tr>\n",
       "    <tr>\n",
       "      <th>1</th>\n",
       "      <td>39.0</td>\n",
       "      <td>31.0</td>\n",
       "      <td>31</td>\n",
       "      <td>31.0</td>\n",
       "    </tr>\n",
       "    <tr>\n",
       "      <th rowspan=\"2\" valign=\"top\">1</th>\n",
       "      <th>0</th>\n",
       "      <td>29.0</td>\n",
       "      <td>20.0</td>\n",
       "      <td>25</td>\n",
       "      <td>24.0</td>\n",
       "    </tr>\n",
       "    <tr>\n",
       "      <th>1</th>\n",
       "      <td>39.0</td>\n",
       "      <td>31.0</td>\n",
       "      <td>31</td>\n",
       "      <td>31.0</td>\n",
       "    </tr>\n",
       "    <tr>\n",
       "      <th>2</th>\n",
       "      <th>0</th>\n",
       "      <td>32.0</td>\n",
       "      <td>27.0</td>\n",
       "      <td>30</td>\n",
       "      <td>29.0</td>\n",
       "    </tr>\n",
       "    <tr>\n",
       "      <th>...</th>\n",
       "      <th>...</th>\n",
       "      <th>...</th>\n",
       "      <td>...</td>\n",
       "      <td>...</td>\n",
       "      <td>...</td>\n",
       "      <td>...</td>\n",
       "    </tr>\n",
       "    <tr>\n",
       "      <th rowspan=\"5\" valign=\"top\">480.0</th>\n",
       "      <th rowspan=\"2\" valign=\"top\">31</th>\n",
       "      <th>1</th>\n",
       "      <td>91.0</td>\n",
       "      <td>70.0</td>\n",
       "      <td>78</td>\n",
       "      <td>78.0</td>\n",
       "    </tr>\n",
       "    <tr>\n",
       "      <th>2</th>\n",
       "      <td>90.0</td>\n",
       "      <td>77.0</td>\n",
       "      <td>78</td>\n",
       "      <td>80.0</td>\n",
       "    </tr>\n",
       "    <tr>\n",
       "      <th rowspan=\"3\" valign=\"top\">32</th>\n",
       "      <th>0</th>\n",
       "      <td>35.0</td>\n",
       "      <td>28.0</td>\n",
       "      <td>34</td>\n",
       "      <td>32.0</td>\n",
       "    </tr>\n",
       "    <tr>\n",
       "      <th>1</th>\n",
       "      <td>87.0</td>\n",
       "      <td>68.0</td>\n",
       "      <td>74</td>\n",
       "      <td>76.0</td>\n",
       "    </tr>\n",
       "    <tr>\n",
       "      <th>2</th>\n",
       "      <td>90.0</td>\n",
       "      <td>77.0</td>\n",
       "      <td>77</td>\n",
       "      <td>80.0</td>\n",
       "    </tr>\n",
       "  </tbody>\n",
       "</table>\n",
       "<p>49896 rows × 4 columns</p>\n",
       "</div>"
      ],
      "text/plain": [
       "                          end  start  peak   com\n",
       "         field_index_cl                         \n",
       "3.0   0  0               25.0   14.0    18  19.0\n",
       "         1               39.0   31.0    31  31.0\n",
       "      1  0               29.0   20.0    25  24.0\n",
       "         1               39.0   31.0    31  31.0\n",
       "      2  0               32.0   27.0    30  29.0\n",
       "...                       ...    ...   ...   ...\n",
       "480.0 31 1               91.0   70.0    78  78.0\n",
       "         2               90.0   77.0    78  80.0\n",
       "      32 0               35.0   28.0    34  32.0\n",
       "         1               87.0   68.0    74  76.0\n",
       "         2               90.0   77.0    77  80.0\n",
       "\n",
       "[49896 rows x 4 columns]"
      ]
     },
     "execution_count": 498,
     "metadata": {},
     "output_type": "execute_result"
    }
   ],
   "source": [
    "all_fields_bounds_merged_interp"
   ]
  },
  {
   "cell_type": "code",
   "execution_count": 812,
   "id": "3d5f9b12",
   "metadata": {},
   "outputs": [],
   "source": [
    "# peak_shift = all_fields_peak - all_fields_peak.mean(axis=1).values[:,None]\n",
    "\n",
    "# import tsp\n",
    "# from scipy.spatial.distance import pdist,squareform\n",
    "\n",
    "# dist=squareform(pdist(peak_shift,metric='correlation'))\n",
    "\n",
    "# path,_=tsp.solve_tsp(dist)\n",
    "\n",
    "# diverging_heatmap(peak_shift.iloc[path],quantile=0.99)"
   ]
  },
  {
   "cell_type": "code",
   "execution_count": 499,
   "id": "558dcca8",
   "metadata": {},
   "outputs": [],
   "source": [
    "kk='com'\n",
    "all_fields_peak = all_fields_bounds_merged_interp[kk].unstack(level=1)\n",
    "all_fields_peak_mean = all_fields_peak.mean(axis=1)\n",
    "all_fields_peak_std = all_fields_peak.std(axis=1)"
   ]
  },
  {
   "cell_type": "code",
   "execution_count": 500,
   "id": "6731edf5",
   "metadata": {},
   "outputs": [
    {
     "data": {
      "text/plain": [
       "Text(0, 0.5, 'std across trials')"
      ]
     },
     "execution_count": 500,
     "metadata": {},
     "output_type": "execute_result"
    },
    {
     "data": {
      "image/png": "[encoded data removed]",
      "text/plain": [
       "<Figure size 432x288 with 1 Axes>"
      ]
     },
     "metadata": {
      "needs_background": "light"
     },
     "output_type": "display_data"
    }
   ],
   "source": [
    "plt.scatter(all_fields_peak_mean,all_fields_peak_std)\n",
    "plt.xlabel(f'place field {kk}')\n",
    "plt.ylabel('std across trials')"
   ]
  },
  {
   "cell_type": "code",
   "execution_count": 533,
   "id": "38064a8c",
   "metadata": {},
   "outputs": [],
   "source": [
    "spkbehdf_onetrialtype=spk_beh_df.loc[spk_beh_df['trial_type']==(0,0)]\n",
    "spkbehdf_onetrialtype_filter = spkbehdf_onetrialtype.query('speed>5')\n",
    "mean_speed_trial=spkbehdf_onetrialtype.groupby(['trial','lin_binned'])['speed'].mean().unstack()\n",
    "mean_speed_trial_filter = spkbehdf_onetrialtype_filter.groupby(['trial','lin_binned'])['speed'].mean().unstack()"
   ]
  },
  {
   "cell_type": "code",
   "execution_count": 534,
   "id": "7fb4c069",
   "metadata": {},
   "outputs": [
    {
     "data": {
      "text/plain": [
       "Text(0.5, 1.0, 'mean speed filter')"
      ]
     },
     "execution_count": 534,
     "metadata": {},
     "output_type": "execute_result"
    },
    {
     "data": {
      "image/png": "[encoded data removed]",
      "text/plain": [
       "<Figure size 432x288 with 2 Axes>"
      ]
     },
     "metadata": {
      "needs_background": "light"
     },
     "output_type": "display_data"
    },
    {
     "data": {
      "image/png": "[encoded data removed]",
      "text/plain": [
       "<Figure size 432x288 with 1 Axes>"
      ]
     },
     "metadata": {
      "needs_background": "light"
     },
     "output_type": "display_data"
    },
    {
     "data": {
      "image/png": "[encoded data removed]",
      "text/plain": [
       "<Figure size 432x288 with 2 Axes>"
      ]
     },
     "metadata": {
      "needs_background": "light"
     },
     "output_type": "display_data"
    }
   ],
   "source": [
    "sns.heatmap(mean_speed_trial)\n",
    "plt.title('mean speed no filter')\n",
    "plt.figure()\n",
    "plt.plot(mean_speed_trial.std(axis=0))\n",
    "plt.title('mean speed std across trials')\n",
    "plt.figure()\n",
    "sns.heatmap(mean_speed_trial_filter)\n",
    "plt.title('mean speed filter')"
   ]
  },
  {
   "cell_type": "code",
   "execution_count": 502,
   "id": "974acac3",
   "metadata": {},
   "outputs": [],
   "source": [
    "inds = (all_fields_peak_mean - 50).abs().sort_values().index"
   ]
  },
  {
   "cell_type": "code",
   "execution_count": 503,
   "id": "0c8b5458",
   "metadata": {},
   "outputs": [
    {
     "data": {
      "text/plain": [
       "       field_index_cl\n",
       "219.0  2                 2.334154\n",
       "456.0  2                 1.614284\n",
       "196.0  3                 1.743560\n",
       "268.0  3                 4.249554\n",
       "214.0  2                 1.568511\n",
       "334.0  3                 1.855408\n",
       "295.0  3                 2.597336\n",
       "171.0  2                 1.452532\n",
       "451.0  0                 1.126484\n",
       "424.0  0                 1.125463\n",
       "245.0  2                 1.103713\n",
       "131.0  2                 1.170525\n",
       "121.0  2                 2.440087\n",
       "151.0  1                 1.861899\n",
       "128.0  2                 0.826160\n",
       "136.0  2                 1.932062\n",
       "176.0  2                 1.061553\n",
       "137.0  1                 1.146470\n",
       "234.0  1                 1.672075\n",
       "315.0  2                 0.743223\n",
       "dtype: float64"
      ]
     },
     "execution_count": 503,
     "metadata": {},
     "output_type": "execute_result"
    }
   ],
   "source": [
    "all_fields_peak_std.loc[inds].head(20)"
   ]
  },
  {
   "cell_type": "code",
   "execution_count": 670,
   "id": "d8064f01",
   "metadata": {},
   "outputs": [],
   "source": [
    "res_df = pf.get_field_params_trial(fr_map_trial_df,range_combined_all)"
   ]
  },
  {
   "cell_type": "code",
   "execution_count": 620,
   "id": "7de2a335",
   "metadata": {},
   "outputs": [
    {
     "data": {
      "text/plain": [
       "<AxesSubplot:>"
      ]
     },
     "execution_count": 620,
     "metadata": {},
     "output_type": "execute_result"
    },
    {
     "data": {
      "image/png": "[encoded data removed]",
      "text/plain": [
       "<Figure size 432x288 with 1 Axes>"
      ]
     },
     "metadata": {
      "needs_background": "light"
     },
     "output_type": "display_data"
    }
   ],
   "source": [
    "res_df.loc['fr'].loc[3].T.plot()"
   ]
  },
  {
   "cell_type": "code",
   "execution_count": 452,
   "id": "010ab25b",
   "metadata": {},
   "outputs": [],
   "source": []
  },
  {
   "cell_type": "code",
   "execution_count": 37,
   "id": "73c3f5bf",
   "metadata": {},
   "outputs": [],
   "source": [
    "%matplotlib inline\n",
    "def plot_field_boundaries(field_bounds_one_neuron,cl_key='field_index_cl'):\n",
    "    fig,ax=plt.subplots()\n",
    "    for tt,row in field_bounds_one_neuron.iterrows():\n",
    "    #     cl=row['cl_from_start']\n",
    "    #     cl=row['cl_from_ed']\n",
    "        cl = row[cl_key]            \n",
    "        ax.axhline(tt,xmin=row['start'] / 100,xmax=row['end'] / 100,color=f'C{cl}')\n",
    "    ax.set_xlim(0,100)\n",
    "    return fig,ax"
   ]
  },
  {
   "cell_type": "code",
   "execution_count": 470,
   "id": "ef8749ea",
   "metadata": {},
   "outputs": [
    {
     "data": {
      "text/plain": [
       "([52], array([0]))"
      ]
     },
     "execution_count": 470,
     "metadata": {},
     "output_type": "execute_result"
    }
   ],
   "source": [
    "merge_peaks([52])"
   ]
  },
  {
   "cell_type": "code",
   "execution_count": 658,
   "id": "e02f5331",
   "metadata": {},
   "outputs": [
    {
     "data": {
      "text/plain": [
       "<module 'place_field_analysis' from '/mnt/home/szheng/projects/util_code/place_field_analysis.py'>"
      ]
     },
     "execution_count": 658,
     "metadata": {},
     "output_type": "execute_result"
    }
   ],
   "source": [
    "# del pf\n",
    "import place_field_analysis as pf\n",
    "reload(pf)"
   ]
  },
  {
   "cell_type": "code",
   "execution_count": 660,
   "id": "c723ceb6",
   "metadata": {},
   "outputs": [
    {
     "data": {
      "text/plain": [
       "[<matplotlib.lines.Line2D at 0x15547a68a550>]"
      ]
     },
     "execution_count": 660,
     "metadata": {},
     "output_type": "execute_result"
    },
    {
     "data": {
      "image/png": "[encoded data removed]",
      "text/plain": [
       "<Figure size 432x288 with 2 Axes>"
      ]
     },
     "metadata": {
      "needs_background": "light"
     },
     "output_type": "display_data"
    },
    {
     "data": {
      "image/png": "[encoded data removed]",
      "text/plain": [
       "<Figure size 432x288 with 1 Axes>"
      ]
     },
     "metadata": {
      "needs_background": "light"
     },
     "output_type": "display_data"
    }
   ],
   "source": [
    "uid = 3#268#100#295#3 # \n",
    "fields_bounds_one_neuron = copy.copy(all_fields_bounds.loc[uid])\n",
    "\n",
    "cluster_key='com'\n",
    "# location_to_be_clustered=fields_bounds_one_neuron[cluster_key].values[:,None]\n",
    "location_to_be_clustered=fields_bounds_one_neuron[cluster_key].values\n",
    "\n",
    "kde_kws = {'bw_method':0.1,'allposbins':fr_map_d[0,0].columns,'peak_dist_thresh':6}\n",
    "kde_cl = pf.Kde_Peak_Cluster(**kde_kws)\n",
    "cl,pdf = kde_cl.fit_predict_with_pdf(location_to_be_clustered)\n",
    "\n",
    "# location_sorted_inds=np.argsort(location_to_be_clustered)\n",
    "# location_sorted_inds_inds=np.argsort(location_sorted_inds)\n",
    "# cl=merge_peaks(location_to_be_clustered[location_sorted_inds],peak_dist_thresh=6)[1]\n",
    "# cl=cl[location_sorted_inds_inds]\n",
    "\n",
    "\n",
    "# location_to_be_clustered=fields_bounds_one_neuron[['start','end']].values\n",
    "# mdl=AgglomerativeClustering(n_clusters=None,distance_threshold=20,linkage='complete')\n",
    "# # mdl=AgglomerativeClustering(n_clusters=5,distance_threshold=None,linkage='complete')\n",
    "# # mdl = KMeans(4)\n",
    "# model_kws={'weight_concentration_prior':100.,'mean_precision_prior':0.00001,'max_iter':800}\n",
    "# mdl = BayesianGaussianMixture(n_components=4,**model_kws)\n",
    "# cl = mdl.fit_predict(location_to_be_clustered)\n",
    "# cl = scipy.stats.rankdata(cl,method='dense')-1 # reindex\n",
    "\n",
    "fields_bounds_one_neuron['field_index_cl']=cl\n",
    "\n",
    "fig,ax = plot_field_boundaries(fields_bounds_one_neuron,cl_key='field_index_cl')\n",
    "\n",
    "sns.heatmap(fr_map_trial_df.loc[uid].T,cmap='Greys')\n",
    "ax.scatter(fields_bounds_one_neuron['peak'],fields_bounds_one_neuron.index,label='peak')\n",
    "ax.scatter(fields_bounds_one_neuron['com'],fields_bounds_one_neuron.index,label='com')\n",
    "plt.legend(bbox_to_anchor=[1,1.2])\n",
    "# fig,ax=plt.subplots()\n",
    "# for _,row in range_combined_all.loc[uid].iterrows():\n",
    "#     ax.axhline(0,row['start']/100,row['end']/100)\n",
    "# ax.set_ylim(-1,1)\n",
    "# ax.set_xlim(0,100)\n",
    "\n",
    "plt.figure()\n",
    "plt.plot(pdf)"
   ]
  },
  {
   "cell_type": "code",
   "execution_count": 631,
   "id": "ef3c2525",
   "metadata": {},
   "outputs": [],
   "source": [
    "gpb=fields_bounds_one_neuron.groupby('field_index_cl')\n",
    "for k,val in gpb:\n",
    "    val['trial']"
   ]
  },
  {
   "cell_type": "code",
   "execution_count": 634,
   "id": "ff38bddb",
   "metadata": {},
   "outputs": [
    {
     "data": {
      "text/plain": [
       "53"
      ]
     },
     "execution_count": 634,
     "metadata": {},
     "output_type": "execute_result"
    }
   ],
   "source": [
    "val['start'].min()"
   ]
  },
  {
   "cell_type": "code",
   "execution_count": 627,
   "id": "04a6a32b",
   "metadata": {},
   "outputs": [],
   "source": [
    "from sklearn.cluster import KMeans"
   ]
  },
  {
   "cell_type": "code",
   "execution_count": 76,
   "id": "c5cb531f",
   "metadata": {},
   "outputs": [],
   "source": [
    "start_ind,start_pos=np.nonzero(ma==1)\n",
    "end_ind,end_pos=np.nonzero(ma==-1)[0],np.nonzero(ma==-1)[1] - 1 # -1, because in pd loc, the right end is included\n",
    "\n",
    "start_ind = issig_agg.index.values[start_ind].astype(int)\n",
    "all_fields_bounds=pd.DataFrame(np.array([start_ind,start_pos,end_pos]).T,columns=['uid','start','end'])\n",
    "\n",
    "nfields_max=all_fields_bounds['uid'].value_counts().max()"
   ]
  },
  {
   "cell_type": "code",
   "execution_count": 239,
   "id": "f4a60de8",
   "metadata": {
    "scrolled": false
   },
   "outputs": [
    {
     "data": {
      "text/plain": [
       "<AxesSubplot:>"
      ]
     },
     "execution_count": 239,
     "metadata": {},
     "output_type": "execute_result"
    },
    {
     "data": {
      "image/png": "[encoded data removed]",
      "text/plain": [
       "<Figure size 432x288 with 2 Axes>"
      ]
     },
     "metadata": {
      "needs_background": "light"
     },
     "output_type": "display_data"
    }
   ],
   "source": [
    "sns.heatmap(fr_map_trial_df.loc[180].T)"
   ]
  },
  {
   "cell_type": "code",
   "execution_count": 241,
   "id": "b928cfea",
   "metadata": {},
   "outputs": [
    {
     "data": {
      "text/html": [
       "<div>\n",
       "<style scoped>\n",
       "    .dataframe tbody tr th:only-of-type {\n",
       "        vertical-align: middle;\n",
       "    }\n",
       "\n",
       "    .dataframe tbody tr th {\n",
       "        vertical-align: top;\n",
       "    }\n",
       "\n",
       "    .dataframe thead th {\n",
       "        text-align: right;\n",
       "    }\n",
       "</style>\n",
       "<table border=\"1\" class=\"dataframe\">\n",
       "  <thead>\n",
       "    <tr style=\"text-align: right;\">\n",
       "      <th></th>\n",
       "      <th>uid</th>\n",
       "      <th>start</th>\n",
       "      <th>end</th>\n",
       "    </tr>\n",
       "  </thead>\n",
       "  <tbody>\n",
       "    <tr>\n",
       "      <th>0</th>\n",
       "      <td>1</td>\n",
       "      <td>0</td>\n",
       "      <td>1</td>\n",
       "    </tr>\n",
       "    <tr>\n",
       "      <th>1</th>\n",
       "      <td>1</td>\n",
       "      <td>77</td>\n",
       "      <td>81</td>\n",
       "    </tr>\n",
       "    <tr>\n",
       "      <th>2</th>\n",
       "      <td>3</td>\n",
       "      <td>14</td>\n",
       "      <td>40</td>\n",
       "    </tr>\n",
       "    <tr>\n",
       "      <th>3</th>\n",
       "      <td>27</td>\n",
       "      <td>0</td>\n",
       "      <td>99</td>\n",
       "    </tr>\n",
       "    <tr>\n",
       "      <th>4</th>\n",
       "      <td>29</td>\n",
       "      <td>0</td>\n",
       "      <td>41</td>\n",
       "    </tr>\n",
       "    <tr>\n",
       "      <th>...</th>\n",
       "      <td>...</td>\n",
       "      <td>...</td>\n",
       "      <td>...</td>\n",
       "    </tr>\n",
       "    <tr>\n",
       "      <th>1240</th>\n",
       "      <td>479</td>\n",
       "      <td>0</td>\n",
       "      <td>5</td>\n",
       "    </tr>\n",
       "    <tr>\n",
       "      <th>1241</th>\n",
       "      <td>479</td>\n",
       "      <td>48</td>\n",
       "      <td>99</td>\n",
       "    </tr>\n",
       "    <tr>\n",
       "      <th>1242</th>\n",
       "      <td>480</td>\n",
       "      <td>24</td>\n",
       "      <td>35</td>\n",
       "    </tr>\n",
       "    <tr>\n",
       "      <th>1243</th>\n",
       "      <td>480</td>\n",
       "      <td>39</td>\n",
       "      <td>41</td>\n",
       "    </tr>\n",
       "    <tr>\n",
       "      <th>1244</th>\n",
       "      <td>480</td>\n",
       "      <td>68</td>\n",
       "      <td>94</td>\n",
       "    </tr>\n",
       "  </tbody>\n",
       "</table>\n",
       "<p>1245 rows × 3 columns</p>\n",
       "</div>"
      ],
      "text/plain": [
       "      uid  start  end\n",
       "0       1      0    1\n",
       "1       1     77   81\n",
       "2       3     14   40\n",
       "3      27      0   99\n",
       "4      29      0   41\n",
       "...   ...    ...  ...\n",
       "1240  479      0    5\n",
       "1241  479     48   99\n",
       "1242  480     24   35\n",
       "1243  480     39   41\n",
       "1244  480     68   94\n",
       "\n",
       "[1245 rows x 3 columns]"
      ]
     },
     "execution_count": 241,
     "metadata": {},
     "output_type": "execute_result"
    }
   ],
   "source": [
    "all_fields_bounds"
   ]
  },
  {
   "cell_type": "code",
   "execution_count": 63,
   "id": "232856f0",
   "metadata": {},
   "outputs": [],
   "source": [
    "all_fields_bounds['field_index']=all_fields_bounds.groupby('uid').cumcount()"
   ]
  },
  {
   "cell_type": "code",
   "execution_count": 66,
   "id": "0e0bf497",
   "metadata": {},
   "outputs": [],
   "source": [
    "all_fields_bounds=all_fields_bounds.set_index(['uid','field_index'])"
   ]
  },
  {
   "cell_type": "code",
   "execution_count": 242,
   "id": "3ca0884e",
   "metadata": {},
   "outputs": [
    {
     "data": {
      "text/plain": [
       "<AxesSubplot:>"
      ]
     },
     "execution_count": 242,
     "metadata": {},
     "output_type": "execute_result"
    },
    {
     "data": {
      "image/png": "[encoded data removed]",
      "text/plain": [
       "<Figure size 432x288 with 2 Axes>"
      ]
     },
     "metadata": {
      "needs_background": "light"
     },
     "output_type": "display_data"
    }
   ],
   "source": [
    "sns.heatmap(fr_map_trial_df.loc[29].T)"
   ]
  },
  {
   "cell_type": "code",
   "execution_count": 67,
   "id": "cb5b70fc",
   "metadata": {},
   "outputs": [
    {
     "data": {
      "text/html": [
       "<div>\n",
       "<style scoped>\n",
       "    .dataframe tbody tr th:only-of-type {\n",
       "        vertical-align: middle;\n",
       "    }\n",
       "\n",
       "    .dataframe tbody tr th {\n",
       "        vertical-align: top;\n",
       "    }\n",
       "\n",
       "    .dataframe thead th {\n",
       "        text-align: right;\n",
       "    }\n",
       "</style>\n",
       "<table border=\"1\" class=\"dataframe\">\n",
       "  <thead>\n",
       "    <tr style=\"text-align: right;\">\n",
       "      <th></th>\n",
       "      <th></th>\n",
       "      <th>start</th>\n",
       "      <th>end</th>\n",
       "    </tr>\n",
       "    <tr>\n",
       "      <th>uid</th>\n",
       "      <th>field_index</th>\n",
       "      <th></th>\n",
       "      <th></th>\n",
       "    </tr>\n",
       "  </thead>\n",
       "  <tbody>\n",
       "    <tr>\n",
       "      <th rowspan=\"3\" valign=\"top\">1</th>\n",
       "      <th>0</th>\n",
       "      <td>0</td>\n",
       "      <td>11</td>\n",
       "    </tr>\n",
       "    <tr>\n",
       "      <th>1</th>\n",
       "      <td>44</td>\n",
       "      <td>55</td>\n",
       "    </tr>\n",
       "    <tr>\n",
       "      <th>2</th>\n",
       "      <td>66</td>\n",
       "      <td>99</td>\n",
       "    </tr>\n",
       "    <tr>\n",
       "      <th rowspan=\"2\" valign=\"top\">3</th>\n",
       "      <th>0</th>\n",
       "      <td>12</td>\n",
       "      <td>41</td>\n",
       "    </tr>\n",
       "    <tr>\n",
       "      <th>1</th>\n",
       "      <td>45</td>\n",
       "      <td>54</td>\n",
       "    </tr>\n",
       "    <tr>\n",
       "      <th>...</th>\n",
       "      <th>...</th>\n",
       "      <td>...</td>\n",
       "      <td>...</td>\n",
       "    </tr>\n",
       "    <tr>\n",
       "      <th rowspan=\"2\" valign=\"top\">479</th>\n",
       "      <th>0</th>\n",
       "      <td>0</td>\n",
       "      <td>5</td>\n",
       "    </tr>\n",
       "    <tr>\n",
       "      <th>1</th>\n",
       "      <td>47</td>\n",
       "      <td>99</td>\n",
       "    </tr>\n",
       "    <tr>\n",
       "      <th rowspan=\"3\" valign=\"top\">480</th>\n",
       "      <th>0</th>\n",
       "      <td>24</td>\n",
       "      <td>35</td>\n",
       "    </tr>\n",
       "    <tr>\n",
       "      <th>1</th>\n",
       "      <td>39</td>\n",
       "      <td>41</td>\n",
       "    </tr>\n",
       "    <tr>\n",
       "      <th>2</th>\n",
       "      <td>68</td>\n",
       "      <td>94</td>\n",
       "    </tr>\n",
       "  </tbody>\n",
       "</table>\n",
       "<p>1253 rows × 2 columns</p>\n",
       "</div>"
      ],
      "text/plain": [
       "                 start  end\n",
       "uid field_index            \n",
       "1   0                0   11\n",
       "    1               44   55\n",
       "    2               66   99\n",
       "3   0               12   41\n",
       "    1               45   54\n",
       "...                ...  ...\n",
       "479 0                0    5\n",
       "    1               47   99\n",
       "480 0               24   35\n",
       "    1               39   41\n",
       "    2               68   94\n",
       "\n",
       "[1253 rows x 2 columns]"
      ]
     },
     "execution_count": 67,
     "metadata": {},
     "output_type": "execute_result"
    }
   ],
   "source": [
    "all_fields_bounds"
   ]
  },
  {
   "cell_type": "code",
   "execution_count": 174,
   "id": "7292edfe",
   "metadata": {
    "scrolled": true
   },
   "outputs": [],
   "source": [
    "gpb = all_fields_bounds.groupby(level=0)\n",
    "merge_thresh =4\n",
    "fields_all_neuron = []\n",
    "for k,val in gpb:\n",
    "    fields_one_neuron = []\n",
    "    curr_field = val.loc[k,0].values\n",
    "    for ii in range(val.shape[0]):\n",
    "\n",
    "        if (ii < val.shape[0]-1) and (np.abs(val.loc[k,ii+1]['start'] - curr_field[1]) <=merge_thresh):\n",
    "            curr_field = [curr_field[0],val.loc[k,ii+1]['end']]\n",
    "            \n",
    "        else:\n",
    "            curr_field = val.loc[k,ii].values\n",
    "            fields_one_neuron.append(curr_field)\n",
    "#     fields_one_neuron.append(curr_field)\n",
    "    fields_all_neuron.append(fields_one_neuron)\n",
    "        \n",
    "#     need_to_merge = (k['start'].shift[1:] - k['end'].iloc[:-1]) <= merge_thresh"
   ]
  },
  {
   "cell_type": "code",
   "execution_count": 177,
   "id": "d6a54af8",
   "metadata": {},
   "outputs": [
    {
     "data": {
      "text/plain": [
       "[array([ 0, 99])]"
      ]
     },
     "execution_count": 177,
     "metadata": {},
     "output_type": "execute_result"
    }
   ],
   "source": [
    "fields_all_neuron[2]"
   ]
  },
  {
   "cell_type": "code",
   "execution_count": 184,
   "id": "ca5b8b92",
   "metadata": {},
   "outputs": [
    {
     "data": {
      "text/html": [
       "<div>\n",
       "<style scoped>\n",
       "    .dataframe tbody tr th:only-of-type {\n",
       "        vertical-align: middle;\n",
       "    }\n",
       "\n",
       "    .dataframe tbody tr th {\n",
       "        vertical-align: top;\n",
       "    }\n",
       "\n",
       "    .dataframe thead th {\n",
       "        text-align: right;\n",
       "    }\n",
       "</style>\n",
       "<table border=\"1\" class=\"dataframe\">\n",
       "  <thead>\n",
       "    <tr style=\"text-align: right;\">\n",
       "      <th></th>\n",
       "      <th>start</th>\n",
       "      <th>end</th>\n",
       "    </tr>\n",
       "    <tr>\n",
       "      <th>field_index</th>\n",
       "      <th></th>\n",
       "      <th></th>\n",
       "    </tr>\n",
       "  </thead>\n",
       "  <tbody>\n",
       "    <tr>\n",
       "      <th>0</th>\n",
       "      <td>0</td>\n",
       "      <td>99</td>\n",
       "    </tr>\n",
       "  </tbody>\n",
       "</table>\n",
       "</div>"
      ],
      "text/plain": [
       "             start  end\n",
       "field_index            \n",
       "0                0   99"
      ]
     },
     "execution_count": 184,
     "metadata": {},
     "output_type": "execute_result"
    }
   ],
   "source": [
    "all_fields_bounds.loc[27]"
   ]
  },
  {
   "cell_type": "code",
   "execution_count": 170,
   "id": "06a0b5f9",
   "metadata": {},
   "outputs": [
    {
     "data": {
      "text/html": [
       "<div>\n",
       "<style scoped>\n",
       "    .dataframe tbody tr th:only-of-type {\n",
       "        vertical-align: middle;\n",
       "    }\n",
       "\n",
       "    .dataframe tbody tr th {\n",
       "        vertical-align: top;\n",
       "    }\n",
       "\n",
       "    .dataframe thead th {\n",
       "        text-align: right;\n",
       "    }\n",
       "</style>\n",
       "<table border=\"1\" class=\"dataframe\">\n",
       "  <thead>\n",
       "    <tr style=\"text-align: right;\">\n",
       "      <th></th>\n",
       "      <th></th>\n",
       "      <th>start</th>\n",
       "      <th>end</th>\n",
       "    </tr>\n",
       "    <tr>\n",
       "      <th>uid</th>\n",
       "      <th>field_index</th>\n",
       "      <th></th>\n",
       "      <th></th>\n",
       "    </tr>\n",
       "  </thead>\n",
       "  <tbody>\n",
       "    <tr>\n",
       "      <th rowspan=\"3\" valign=\"top\">480</th>\n",
       "      <th>0</th>\n",
       "      <td>24</td>\n",
       "      <td>35</td>\n",
       "    </tr>\n",
       "    <tr>\n",
       "      <th>1</th>\n",
       "      <td>39</td>\n",
       "      <td>41</td>\n",
       "    </tr>\n",
       "    <tr>\n",
       "      <th>2</th>\n",
       "      <td>68</td>\n",
       "      <td>94</td>\n",
       "    </tr>\n",
       "  </tbody>\n",
       "</table>\n",
       "</div>"
      ],
      "text/plain": [
       "                 start  end\n",
       "uid field_index            \n",
       "480 0               24   35\n",
       "    1               39   41\n",
       "    2               68   94"
      ]
     },
     "execution_count": 170,
     "metadata": {},
     "output_type": "execute_result"
    }
   ],
   "source": [
    "val"
   ]
  },
  {
   "cell_type": "code",
   "execution_count": 161,
   "id": "02424624",
   "metadata": {},
   "outputs": [
    {
     "data": {
      "text/plain": [
       "<AxesSubplot:>"
      ]
     },
     "execution_count": 161,
     "metadata": {},
     "output_type": "execute_result"
    },
    {
     "data": {
      "image/png": "[encoded data removed]",
      "text/plain": [
       "<Figure size 432x288 with 1 Axes>"
      ]
     },
     "metadata": {
      "needs_background": "light"
     },
     "output_type": "display_data"
    }
   ],
   "source": [
    "fr_map_trial_df.loc[480].plot()"
   ]
  },
  {
   "cell_type": "code",
   "execution_count": null,
   "id": "980a1004",
   "metadata": {},
   "outputs": [],
   "source": [
    "def get_field_trial_from_shuffle(fr_map_trial,fr_map_null,cell_cols):\n",
    "    fr_map_trial_df = pf.fr_map_trial_to_df(fr_map_trial,cell_cols)\n",
    "    sig_thresh_map = fr_map_null.groupby(level=1).quantile(0.95)\n",
    "    issig_trial = fr_map_trial_df > sig_thresh_map.stack().values[:,None] #(nneurons x nposbins) x ntrials, binary\n",
    "    issig_agg = issig_trial.any(axis=1).unstack()"
   ]
  },
  {
   "cell_type": "code",
   "execution_count": null,
   "id": "c3bb6f73",
   "metadata": {},
   "outputs": [],
   "source": []
  },
  {
   "cell_type": "code",
   "execution_count": 60,
   "id": "5192193c",
   "metadata": {},
   "outputs": [],
   "source": [
    "fr_map_null_d_all[0,0] = {n:fr_map_null_d_all[0,0][n] for n in range(nrepeats)}"
   ]
  },
  {
   "cell_type": "code",
   "execution_count": 66,
   "id": "320948fb",
   "metadata": {},
   "outputs": [],
   "source": [
    "fr_map_null_df=pd.concat(fr_map_null_d_all[0,0])\n",
    "null_mean=fr_map_null_df.groupby(level=1).mean()\n",
    "null_high = fr_map_null_df.groupby(level=1).quantile(0.95)\n",
    "null_low = fr_map_null_df.groupby(level=1).quantile(0.05)"
   ]
  },
  {
   "cell_type": "code",
   "execution_count": 71,
   "id": "8f05bd2b",
   "metadata": {},
   "outputs": [
    {
     "data": {
      "text/plain": [
       "<AxesSubplot:xlabel='lin_binned'>"
      ]
     },
     "execution_count": 71,
     "metadata": {},
     "output_type": "execute_result"
    },
    {
     "data": {
      "image/png": "[encoded data removed]",
      "text/plain": [
       "<Figure size 432x288 with 1 Axes>"
      ]
     },
     "metadata": {
      "needs_background": "light"
     },
     "output_type": "display_data"
    }
   ],
   "source": [
    "null_mean.loc[174].plot()\n",
    "null_high.loc[174].plot()\n",
    "null_low.loc[174].plot()"
   ]
  },
  {
   "cell_type": "code",
   "execution_count": 328,
   "id": "2448c2e7",
   "metadata": {},
   "outputs": [],
   "source": [
    "columns = pd.MultiIndex.from_product([fr_map.columns,fr_map_trial_df.columns])\n",
    "index = pd.MultiIndex.from_product([fr_map.index,np.arange(nrepeats)])\n",
    "count_roll=pd.DataFrame(np.concatenate(count_roll.values,axis=0),index=index,columns=columns)"
   ]
  },
  {
   "cell_type": "code",
   "execution_count": 329,
   "id": "ec70a206",
   "metadata": {},
   "outputs": [],
   "source": [
    "count_roll_sum=count_roll.groupby(level=0,axis=1).sum()"
   ]
  },
  {
   "cell_type": "code",
   "execution_count": 330,
   "id": "d7ddb198",
   "metadata": {},
   "outputs": [],
   "source": [
    "dt = 0.033\n",
    "fr_shuffle=count_roll_sum / (occu_d[0,0] * dt)"
   ]
  },
  {
   "cell_type": "code",
   "execution_count": 337,
   "id": "84fe196f",
   "metadata": {},
   "outputs": [
    {
     "data": {
      "text/plain": [
       "<AxesSubplot:xlabel='lin_binned'>"
      ]
     },
     "execution_count": 337,
     "metadata": {},
     "output_type": "execute_result"
    },
    {
     "data": {
      "image/png": "[encoded data removed]",
      "text/plain": [
       "<Figure size 432x288 with 1 Axes>"
      ]
     },
     "metadata": {
      "needs_background": "light"
     },
     "output_type": "display_data"
    }
   ],
   "source": [
    "fr_shuffle.loc[174].mean(axis=0).plot()\n",
    "fr_shuffle.loc[174].quantile(0.99,axis=0).plot()\n",
    "fr_shuffle.loc[174].quantile(0.01,axis=0).plot()\n",
    "fr_map_trial_df.loc[174].loc[:,3].plot()"
   ]
  },
  {
   "cell_type": "code",
   "execution_count": 36,
   "id": "8a3e6acf",
   "metadata": {},
   "outputs": [],
   "source": [
    "position_onehot = pd.get_dummies(spk_beh_df['lin_binned'])"
   ]
  },
  {
   "cell_type": "code",
   "execution_count": 40,
   "id": "5a5cb073",
   "metadata": {},
   "outputs": [],
   "source": [
    "position_onehot = position_onehot / (position_onehot.sum(axis=0).values[None,:]*dt)"
   ]
  },
  {
   "cell_type": "code",
   "execution_count": 41,
   "id": "5e10d81a",
   "metadata": {},
   "outputs": [
    {
     "data": {
      "text/html": [
       "<div>\n",
       "<style scoped>\n",
       "    .dataframe tbody tr th:only-of-type {\n",
       "        vertical-align: middle;\n",
       "    }\n",
       "\n",
       "    .dataframe tbody tr th {\n",
       "        vertical-align: top;\n",
       "    }\n",
       "\n",
       "    .dataframe thead th {\n",
       "        text-align: right;\n",
       "    }\n",
       "</style>\n",
       "<table border=\"1\" class=\"dataframe\">\n",
       "  <thead>\n",
       "    <tr style=\"text-align: right;\">\n",
       "      <th></th>\n",
       "      <th>0</th>\n",
       "      <th>1</th>\n",
       "      <th>2</th>\n",
       "      <th>3</th>\n",
       "      <th>4</th>\n",
       "      <th>5</th>\n",
       "      <th>6</th>\n",
       "      <th>7</th>\n",
       "      <th>8</th>\n",
       "      <th>9</th>\n",
       "      <th>...</th>\n",
       "      <th>90</th>\n",
       "      <th>91</th>\n",
       "      <th>92</th>\n",
       "      <th>93</th>\n",
       "      <th>94</th>\n",
       "      <th>95</th>\n",
       "      <th>96</th>\n",
       "      <th>97</th>\n",
       "      <th>98</th>\n",
       "      <th>99</th>\n",
       "    </tr>\n",
       "    <tr>\n",
       "      <th>Time (s)</th>\n",
       "      <th></th>\n",
       "      <th></th>\n",
       "      <th></th>\n",
       "      <th></th>\n",
       "      <th></th>\n",
       "      <th></th>\n",
       "      <th></th>\n",
       "      <th></th>\n",
       "      <th></th>\n",
       "      <th></th>\n",
       "      <th></th>\n",
       "      <th></th>\n",
       "      <th></th>\n",
       "      <th></th>\n",
       "      <th></th>\n",
       "      <th></th>\n",
       "      <th></th>\n",
       "      <th></th>\n",
       "      <th></th>\n",
       "      <th></th>\n",
       "      <th></th>\n",
       "    </tr>\n",
       "  </thead>\n",
       "  <tbody>\n",
       "    <tr>\n",
       "      <th>7858.227233</th>\n",
       "      <td>0.0</td>\n",
       "      <td>0.0</td>\n",
       "      <td>0.0</td>\n",
       "      <td>0.0</td>\n",
       "      <td>0.0</td>\n",
       "      <td>0.0</td>\n",
       "      <td>0.0</td>\n",
       "      <td>0.098707</td>\n",
       "      <td>0.0</td>\n",
       "      <td>0.0</td>\n",
       "      <td>...</td>\n",
       "      <td>0.0</td>\n",
       "      <td>0.0</td>\n",
       "      <td>0.0</td>\n",
       "      <td>0.0</td>\n",
       "      <td>0.0</td>\n",
       "      <td>0.0</td>\n",
       "      <td>0.00000</td>\n",
       "      <td>0.000000</td>\n",
       "      <td>0.0</td>\n",
       "      <td>0.0</td>\n",
       "    </tr>\n",
       "    <tr>\n",
       "      <th>7858.260567</th>\n",
       "      <td>0.0</td>\n",
       "      <td>0.0</td>\n",
       "      <td>0.0</td>\n",
       "      <td>0.0</td>\n",
       "      <td>0.0</td>\n",
       "      <td>0.0</td>\n",
       "      <td>0.0</td>\n",
       "      <td>0.098707</td>\n",
       "      <td>0.0</td>\n",
       "      <td>0.0</td>\n",
       "      <td>...</td>\n",
       "      <td>0.0</td>\n",
       "      <td>0.0</td>\n",
       "      <td>0.0</td>\n",
       "      <td>0.0</td>\n",
       "      <td>0.0</td>\n",
       "      <td>0.0</td>\n",
       "      <td>0.00000</td>\n",
       "      <td>0.000000</td>\n",
       "      <td>0.0</td>\n",
       "      <td>0.0</td>\n",
       "    </tr>\n",
       "    <tr>\n",
       "      <th>7858.293933</th>\n",
       "      <td>0.0</td>\n",
       "      <td>0.0</td>\n",
       "      <td>0.0</td>\n",
       "      <td>0.0</td>\n",
       "      <td>0.0</td>\n",
       "      <td>0.0</td>\n",
       "      <td>0.0</td>\n",
       "      <td>0.098707</td>\n",
       "      <td>0.0</td>\n",
       "      <td>0.0</td>\n",
       "      <td>...</td>\n",
       "      <td>0.0</td>\n",
       "      <td>0.0</td>\n",
       "      <td>0.0</td>\n",
       "      <td>0.0</td>\n",
       "      <td>0.0</td>\n",
       "      <td>0.0</td>\n",
       "      <td>0.00000</td>\n",
       "      <td>0.000000</td>\n",
       "      <td>0.0</td>\n",
       "      <td>0.0</td>\n",
       "    </tr>\n",
       "    <tr>\n",
       "      <th>7858.327267</th>\n",
       "      <td>0.0</td>\n",
       "      <td>0.0</td>\n",
       "      <td>0.0</td>\n",
       "      <td>0.0</td>\n",
       "      <td>0.0</td>\n",
       "      <td>0.0</td>\n",
       "      <td>0.0</td>\n",
       "      <td>0.098707</td>\n",
       "      <td>0.0</td>\n",
       "      <td>0.0</td>\n",
       "      <td>...</td>\n",
       "      <td>0.0</td>\n",
       "      <td>0.0</td>\n",
       "      <td>0.0</td>\n",
       "      <td>0.0</td>\n",
       "      <td>0.0</td>\n",
       "      <td>0.0</td>\n",
       "      <td>0.00000</td>\n",
       "      <td>0.000000</td>\n",
       "      <td>0.0</td>\n",
       "      <td>0.0</td>\n",
       "    </tr>\n",
       "    <tr>\n",
       "      <th>7858.360600</th>\n",
       "      <td>0.0</td>\n",
       "      <td>0.0</td>\n",
       "      <td>0.0</td>\n",
       "      <td>0.0</td>\n",
       "      <td>0.0</td>\n",
       "      <td>0.0</td>\n",
       "      <td>0.0</td>\n",
       "      <td>0.098707</td>\n",
       "      <td>0.0</td>\n",
       "      <td>0.0</td>\n",
       "      <td>...</td>\n",
       "      <td>0.0</td>\n",
       "      <td>0.0</td>\n",
       "      <td>0.0</td>\n",
       "      <td>0.0</td>\n",
       "      <td>0.0</td>\n",
       "      <td>0.0</td>\n",
       "      <td>0.00000</td>\n",
       "      <td>0.000000</td>\n",
       "      <td>0.0</td>\n",
       "      <td>0.0</td>\n",
       "    </tr>\n",
       "    <tr>\n",
       "      <th>...</th>\n",
       "      <td>...</td>\n",
       "      <td>...</td>\n",
       "      <td>...</td>\n",
       "      <td>...</td>\n",
       "      <td>...</td>\n",
       "      <td>...</td>\n",
       "      <td>...</td>\n",
       "      <td>...</td>\n",
       "      <td>...</td>\n",
       "      <td>...</td>\n",
       "      <td>...</td>\n",
       "      <td>...</td>\n",
       "      <td>...</td>\n",
       "      <td>...</td>\n",
       "      <td>...</td>\n",
       "      <td>...</td>\n",
       "      <td>...</td>\n",
       "      <td>...</td>\n",
       "      <td>...</td>\n",
       "      <td>...</td>\n",
       "      <td>...</td>\n",
       "    </tr>\n",
       "    <tr>\n",
       "      <th>10017.539300</th>\n",
       "      <td>0.0</td>\n",
       "      <td>0.0</td>\n",
       "      <td>0.0</td>\n",
       "      <td>0.0</td>\n",
       "      <td>0.0</td>\n",
       "      <td>0.0</td>\n",
       "      <td>0.0</td>\n",
       "      <td>0.000000</td>\n",
       "      <td>0.0</td>\n",
       "      <td>0.0</td>\n",
       "      <td>...</td>\n",
       "      <td>0.0</td>\n",
       "      <td>0.0</td>\n",
       "      <td>0.0</td>\n",
       "      <td>0.0</td>\n",
       "      <td>0.0</td>\n",
       "      <td>0.0</td>\n",
       "      <td>0.00000</td>\n",
       "      <td>0.046406</td>\n",
       "      <td>0.0</td>\n",
       "      <td>0.0</td>\n",
       "    </tr>\n",
       "    <tr>\n",
       "      <th>10017.572633</th>\n",
       "      <td>0.0</td>\n",
       "      <td>0.0</td>\n",
       "      <td>0.0</td>\n",
       "      <td>0.0</td>\n",
       "      <td>0.0</td>\n",
       "      <td>0.0</td>\n",
       "      <td>0.0</td>\n",
       "      <td>0.000000</td>\n",
       "      <td>0.0</td>\n",
       "      <td>0.0</td>\n",
       "      <td>...</td>\n",
       "      <td>0.0</td>\n",
       "      <td>0.0</td>\n",
       "      <td>0.0</td>\n",
       "      <td>0.0</td>\n",
       "      <td>0.0</td>\n",
       "      <td>0.0</td>\n",
       "      <td>0.00000</td>\n",
       "      <td>0.046406</td>\n",
       "      <td>0.0</td>\n",
       "      <td>0.0</td>\n",
       "    </tr>\n",
       "    <tr>\n",
       "      <th>10017.605967</th>\n",
       "      <td>0.0</td>\n",
       "      <td>0.0</td>\n",
       "      <td>0.0</td>\n",
       "      <td>0.0</td>\n",
       "      <td>0.0</td>\n",
       "      <td>0.0</td>\n",
       "      <td>0.0</td>\n",
       "      <td>0.000000</td>\n",
       "      <td>0.0</td>\n",
       "      <td>0.0</td>\n",
       "      <td>...</td>\n",
       "      <td>0.0</td>\n",
       "      <td>0.0</td>\n",
       "      <td>0.0</td>\n",
       "      <td>0.0</td>\n",
       "      <td>0.0</td>\n",
       "      <td>0.0</td>\n",
       "      <td>0.09267</td>\n",
       "      <td>0.000000</td>\n",
       "      <td>0.0</td>\n",
       "      <td>0.0</td>\n",
       "    </tr>\n",
       "    <tr>\n",
       "      <th>10017.639333</th>\n",
       "      <td>0.0</td>\n",
       "      <td>0.0</td>\n",
       "      <td>0.0</td>\n",
       "      <td>0.0</td>\n",
       "      <td>0.0</td>\n",
       "      <td>0.0</td>\n",
       "      <td>0.0</td>\n",
       "      <td>0.000000</td>\n",
       "      <td>0.0</td>\n",
       "      <td>0.0</td>\n",
       "      <td>...</td>\n",
       "      <td>0.0</td>\n",
       "      <td>0.0</td>\n",
       "      <td>0.0</td>\n",
       "      <td>0.0</td>\n",
       "      <td>0.0</td>\n",
       "      <td>0.0</td>\n",
       "      <td>0.09267</td>\n",
       "      <td>0.000000</td>\n",
       "      <td>0.0</td>\n",
       "      <td>0.0</td>\n",
       "    </tr>\n",
       "    <tr>\n",
       "      <th>10017.672667</th>\n",
       "      <td>0.0</td>\n",
       "      <td>0.0</td>\n",
       "      <td>0.0</td>\n",
       "      <td>0.0</td>\n",
       "      <td>0.0</td>\n",
       "      <td>0.0</td>\n",
       "      <td>0.0</td>\n",
       "      <td>0.000000</td>\n",
       "      <td>0.0</td>\n",
       "      <td>0.0</td>\n",
       "      <td>...</td>\n",
       "      <td>0.0</td>\n",
       "      <td>0.0</td>\n",
       "      <td>0.0</td>\n",
       "      <td>0.0</td>\n",
       "      <td>0.0</td>\n",
       "      <td>0.0</td>\n",
       "      <td>0.09267</td>\n",
       "      <td>0.000000</td>\n",
       "      <td>0.0</td>\n",
       "      <td>0.0</td>\n",
       "    </tr>\n",
       "  </tbody>\n",
       "</table>\n",
       "<p>64796 rows × 100 columns</p>\n",
       "</div>"
      ],
      "text/plain": [
       "               0    1    2    3    4    5    6         7    8    9   ...   90  \\\n",
       "Time (s)                                                             ...        \n",
       "7858.227233   0.0  0.0  0.0  0.0  0.0  0.0  0.0  0.098707  0.0  0.0  ...  0.0   \n",
       "7858.260567   0.0  0.0  0.0  0.0  0.0  0.0  0.0  0.098707  0.0  0.0  ...  0.0   \n",
       "7858.293933   0.0  0.0  0.0  0.0  0.0  0.0  0.0  0.098707  0.0  0.0  ...  0.0   \n",
       "7858.327267   0.0  0.0  0.0  0.0  0.0  0.0  0.0  0.098707  0.0  0.0  ...  0.0   \n",
       "7858.360600   0.0  0.0  0.0  0.0  0.0  0.0  0.0  0.098707  0.0  0.0  ...  0.0   \n",
       "...           ...  ...  ...  ...  ...  ...  ...       ...  ...  ...  ...  ...   \n",
       "10017.539300  0.0  0.0  0.0  0.0  0.0  0.0  0.0  0.000000  0.0  0.0  ...  0.0   \n",
       "10017.572633  0.0  0.0  0.0  0.0  0.0  0.0  0.0  0.000000  0.0  0.0  ...  0.0   \n",
       "10017.605967  0.0  0.0  0.0  0.0  0.0  0.0  0.0  0.000000  0.0  0.0  ...  0.0   \n",
       "10017.639333  0.0  0.0  0.0  0.0  0.0  0.0  0.0  0.000000  0.0  0.0  ...  0.0   \n",
       "10017.672667  0.0  0.0  0.0  0.0  0.0  0.0  0.0  0.000000  0.0  0.0  ...  0.0   \n",
       "\n",
       "               91   92   93   94   95       96        97   98   99  \n",
       "Time (s)                                                            \n",
       "7858.227233   0.0  0.0  0.0  0.0  0.0  0.00000  0.000000  0.0  0.0  \n",
       "7858.260567   0.0  0.0  0.0  0.0  0.0  0.00000  0.000000  0.0  0.0  \n",
       "7858.293933   0.0  0.0  0.0  0.0  0.0  0.00000  0.000000  0.0  0.0  \n",
       "7858.327267   0.0  0.0  0.0  0.0  0.0  0.00000  0.000000  0.0  0.0  \n",
       "7858.360600   0.0  0.0  0.0  0.0  0.0  0.00000  0.000000  0.0  0.0  \n",
       "...           ...  ...  ...  ...  ...      ...       ...  ...  ...  \n",
       "10017.539300  0.0  0.0  0.0  0.0  0.0  0.00000  0.046406  0.0  0.0  \n",
       "10017.572633  0.0  0.0  0.0  0.0  0.0  0.00000  0.046406  0.0  0.0  \n",
       "10017.605967  0.0  0.0  0.0  0.0  0.0  0.09267  0.000000  0.0  0.0  \n",
       "10017.639333  0.0  0.0  0.0  0.0  0.0  0.09267  0.000000  0.0  0.0  \n",
       "10017.672667  0.0  0.0  0.0  0.0  0.0  0.09267  0.000000  0.0  0.0  \n",
       "\n",
       "[64796 rows x 100 columns]"
      ]
     },
     "execution_count": 41,
     "metadata": {},
     "output_type": "execute_result"
    }
   ],
   "source": [
    "position_onehot"
   ]
  },
  {
   "cell_type": "code",
   "execution_count": 50,
   "id": "52bbff49",
   "metadata": {},
   "outputs": [],
   "source": [
    "position_onehot_roll = np.stack([np.roll(position_onehot.values,i,axis=0) for i in roll_inds],axis=-1)"
   ]
  },
  {
   "cell_type": "code",
   "execution_count": 51,
   "id": "795dc3b7",
   "metadata": {},
   "outputs": [
    {
     "data": {
      "text/plain": [
       "(64796, 100, 10)"
      ]
     },
     "execution_count": 51,
     "metadata": {},
     "output_type": "execute_result"
    }
   ],
   "source": [
    "position_onehot_roll.shape"
   ]
  },
  {
   "cell_type": "code",
   "execution_count": 52,
   "id": "65ff174c",
   "metadata": {},
   "outputs": [
    {
     "name": "stdout",
     "output_type": "stream",
     "text": [
      "CPU times: user 2min 39s, sys: 190 ms, total: 2min 39s\n",
      "Wall time: 2min 39s\n"
     ]
    }
   ],
   "source": [
    "%time ratemapshuffle=np.einsum('tn,tpc->npc',spk,position_onehot_roll)"
   ]
  },
  {
   "cell_type": "code",
   "execution_count": 49,
   "id": "9c0c9020",
   "metadata": {},
   "outputs": [
    {
     "data": {
      "text/plain": [
       "(422, 100)"
      ]
     },
     "execution_count": 49,
     "metadata": {},
     "output_type": "execute_result"
    }
   ],
   "source": [
    "ratemapone.shape"
   ]
  },
  {
   "cell_type": "code",
   "execution_count": 46,
   "id": "6d630c0a",
   "metadata": {},
   "outputs": [
    {
     "ename": "MemoryError",
     "evalue": "Unable to allocate 13.0 TiB for an array with shape (64796, 27648000) and data type float64",
     "output_type": "error",
     "traceback": [
      "\u001b[0;31m---------------------------------------------------------------------------\u001b[0m",
      "\u001b[0;31mMemoryError\u001b[0m                               Traceback (most recent call last)",
      "File \u001b[0;32m<timed exec>:1\u001b[0m, in \u001b[0;36m<module>\u001b[0;34m\u001b[0m\n",
      "File \u001b[0;32m~/ceph/envs/jax/lib/python3.9/site-packages/scipy/signal/_signaltools.py:1401\u001b[0m, in \u001b[0;36mconvolve\u001b[0;34m(in1, in2, mode, method)\u001b[0m\n\u001b[1;32m   1398\u001b[0m     method \u001b[38;5;241m=\u001b[39m choose_conv_method(volume, kernel, mode\u001b[38;5;241m=\u001b[39mmode)\n\u001b[1;32m   1400\u001b[0m \u001b[38;5;28;01mif\u001b[39;00m method \u001b[38;5;241m==\u001b[39m \u001b[38;5;124m'\u001b[39m\u001b[38;5;124mfft\u001b[39m\u001b[38;5;124m'\u001b[39m:\n\u001b[0;32m-> 1401\u001b[0m     out \u001b[38;5;241m=\u001b[39m \u001b[43mfftconvolve\u001b[49m\u001b[43m(\u001b[49m\u001b[43mvolume\u001b[49m\u001b[43m,\u001b[49m\u001b[43m \u001b[49m\u001b[43mkernel\u001b[49m\u001b[43m,\u001b[49m\u001b[43m \u001b[49m\u001b[43mmode\u001b[49m\u001b[38;5;241;43m=\u001b[39;49m\u001b[43mmode\u001b[49m\u001b[43m)\u001b[49m\n\u001b[1;32m   1402\u001b[0m     result_type \u001b[38;5;241m=\u001b[39m np\u001b[38;5;241m.\u001b[39mresult_type(volume, kernel)\n\u001b[1;32m   1403\u001b[0m     \u001b[38;5;28;01mif\u001b[39;00m result_type\u001b[38;5;241m.\u001b[39mkind \u001b[38;5;129;01min\u001b[39;00m {\u001b[38;5;124m'\u001b[39m\u001b[38;5;124mu\u001b[39m\u001b[38;5;124m'\u001b[39m, \u001b[38;5;124m'\u001b[39m\u001b[38;5;124mi\u001b[39m\u001b[38;5;124m'\u001b[39m}:\n",
      "File \u001b[0;32m~/ceph/envs/jax/lib/python3.9/site-packages/scipy/signal/_signaltools.py:667\u001b[0m, in \u001b[0;36mfftconvolve\u001b[0;34m(in1, in2, mode, axes)\u001b[0m\n\u001b[1;32m    662\u001b[0m s2 \u001b[38;5;241m=\u001b[39m in2\u001b[38;5;241m.\u001b[39mshape\n\u001b[1;32m    664\u001b[0m shape \u001b[38;5;241m=\u001b[39m [\u001b[38;5;28mmax\u001b[39m((s1[i], s2[i])) \u001b[38;5;28;01mif\u001b[39;00m i \u001b[38;5;129;01mnot\u001b[39;00m \u001b[38;5;129;01min\u001b[39;00m axes \u001b[38;5;28;01melse\u001b[39;00m s1[i] \u001b[38;5;241m+\u001b[39m s2[i] \u001b[38;5;241m-\u001b[39m \u001b[38;5;241m1\u001b[39m\n\u001b[1;32m    665\u001b[0m          \u001b[38;5;28;01mfor\u001b[39;00m i \u001b[38;5;129;01min\u001b[39;00m \u001b[38;5;28mrange\u001b[39m(in1\u001b[38;5;241m.\u001b[39mndim)]\n\u001b[0;32m--> 667\u001b[0m ret \u001b[38;5;241m=\u001b[39m \u001b[43m_freq_domain_conv\u001b[49m\u001b[43m(\u001b[49m\u001b[43min1\u001b[49m\u001b[43m,\u001b[49m\u001b[43m \u001b[49m\u001b[43min2\u001b[49m\u001b[43m,\u001b[49m\u001b[43m \u001b[49m\u001b[43maxes\u001b[49m\u001b[43m,\u001b[49m\u001b[43m \u001b[49m\u001b[43mshape\u001b[49m\u001b[43m,\u001b[49m\u001b[43m \u001b[49m\u001b[43mcalc_fast_len\u001b[49m\u001b[38;5;241;43m=\u001b[39;49m\u001b[38;5;28;43;01mTrue\u001b[39;49;00m\u001b[43m)\u001b[49m\n\u001b[1;32m    669\u001b[0m \u001b[38;5;28;01mreturn\u001b[39;00m _apply_conv_mode(ret, s1, s2, mode, axes)\n",
      "File \u001b[0;32m~/ceph/envs/jax/lib/python3.9/site-packages/scipy/signal/_signaltools.py:505\u001b[0m, in \u001b[0;36m_freq_domain_conv\u001b[0;34m(in1, in2, axes, shape, calc_fast_len)\u001b[0m\n\u001b[1;32m    502\u001b[0m \u001b[38;5;28;01melse\u001b[39;00m:\n\u001b[1;32m    503\u001b[0m     fft, ifft \u001b[38;5;241m=\u001b[39m sp_fft\u001b[38;5;241m.\u001b[39mfftn, sp_fft\u001b[38;5;241m.\u001b[39mifftn\n\u001b[0;32m--> 505\u001b[0m sp1 \u001b[38;5;241m=\u001b[39m \u001b[43mfft\u001b[49m\u001b[43m(\u001b[49m\u001b[43min1\u001b[49m\u001b[43m,\u001b[49m\u001b[43m \u001b[49m\u001b[43mfshape\u001b[49m\u001b[43m,\u001b[49m\u001b[43m \u001b[49m\u001b[43maxes\u001b[49m\u001b[38;5;241;43m=\u001b[39;49m\u001b[43maxes\u001b[49m\u001b[43m)\u001b[49m\n\u001b[1;32m    506\u001b[0m sp2 \u001b[38;5;241m=\u001b[39m fft(in2, fshape, axes\u001b[38;5;241m=\u001b[39maxes)\n\u001b[1;32m    508\u001b[0m ret \u001b[38;5;241m=\u001b[39m ifft(sp1 \u001b[38;5;241m*\u001b[39m sp2, fshape, axes\u001b[38;5;241m=\u001b[39maxes)\n",
      "File \u001b[0;32m~/ceph/envs/jax/lib/python3.9/site-packages/scipy/fft/_backend.py:22\u001b[0m, in \u001b[0;36m_ScipyBackend.__ua_function__\u001b[0;34m(method, args, kwargs)\u001b[0m\n\u001b[1;32m     20\u001b[0m \u001b[38;5;28;01mif\u001b[39;00m fn \u001b[38;5;129;01mis\u001b[39;00m \u001b[38;5;28;01mNone\u001b[39;00m:\n\u001b[1;32m     21\u001b[0m     \u001b[38;5;28;01mreturn\u001b[39;00m \u001b[38;5;28mNotImplemented\u001b[39m\n\u001b[0;32m---> 22\u001b[0m \u001b[38;5;28;01mreturn\u001b[39;00m \u001b[43mfn\u001b[49m\u001b[43m(\u001b[49m\u001b[38;5;241;43m*\u001b[39;49m\u001b[43margs\u001b[49m\u001b[43m,\u001b[49m\u001b[43m \u001b[49m\u001b[38;5;241;43m*\u001b[39;49m\u001b[38;5;241;43m*\u001b[39;49m\u001b[43mkwargs\u001b[49m\u001b[43m)\u001b[49m\n",
      "File \u001b[0;32m~/ceph/envs/jax/lib/python3.9/site-packages/scipy/fft/_pocketfft/basic.py:215\u001b[0m, in \u001b[0;36mr2cn\u001b[0;34m(forward, x, s, axes, norm, overwrite_x, workers, plan)\u001b[0m\n\u001b[1;32m    212\u001b[0m     \u001b[38;5;28;01mraise\u001b[39;00m \u001b[38;5;167;01mTypeError\u001b[39;00m(\u001b[38;5;124m\"\u001b[39m\u001b[38;5;124mx must be a real sequence\u001b[39m\u001b[38;5;124m\"\u001b[39m)\n\u001b[1;32m    214\u001b[0m shape, axes \u001b[38;5;241m=\u001b[39m _init_nd_shape_and_axes(tmp, s, axes)\n\u001b[0;32m--> 215\u001b[0m tmp, _ \u001b[38;5;241m=\u001b[39m \u001b[43m_fix_shape\u001b[49m\u001b[43m(\u001b[49m\u001b[43mtmp\u001b[49m\u001b[43m,\u001b[49m\u001b[43m \u001b[49m\u001b[43mshape\u001b[49m\u001b[43m,\u001b[49m\u001b[43m \u001b[49m\u001b[43maxes\u001b[49m\u001b[43m)\u001b[49m\n\u001b[1;32m    216\u001b[0m norm \u001b[38;5;241m=\u001b[39m _normalization(norm, forward)\n\u001b[1;32m    217\u001b[0m workers \u001b[38;5;241m=\u001b[39m _workers(workers)\n",
      "File \u001b[0;32m~/ceph/envs/jax/lib/python3.9/site-packages/scipy/fft/_pocketfft/helper.py:134\u001b[0m, in \u001b[0;36m_fix_shape\u001b[0;34m(x, shape, axes)\u001b[0m\n\u001b[1;32m    131\u001b[0m \u001b[38;5;28;01mfor\u001b[39;00m n, axis \u001b[38;5;129;01min\u001b[39;00m \u001b[38;5;28mzip\u001b[39m(shape, axes):\n\u001b[1;32m    132\u001b[0m     s[axis] \u001b[38;5;241m=\u001b[39m n\n\u001b[0;32m--> 134\u001b[0m z \u001b[38;5;241m=\u001b[39m \u001b[43mnp\u001b[49m\u001b[38;5;241;43m.\u001b[39;49m\u001b[43mzeros\u001b[49m\u001b[43m(\u001b[49m\u001b[43ms\u001b[49m\u001b[43m,\u001b[49m\u001b[43m \u001b[49m\u001b[43mx\u001b[49m\u001b[38;5;241;43m.\u001b[39;49m\u001b[43mdtype\u001b[49m\u001b[43m)\u001b[49m\n\u001b[1;32m    135\u001b[0m z[index] \u001b[38;5;241m=\u001b[39m x[index]\n\u001b[1;32m    136\u001b[0m \u001b[38;5;28;01mreturn\u001b[39;00m z, \u001b[38;5;28;01mTrue\u001b[39;00m\n",
      "\u001b[0;31mMemoryError\u001b[0m: Unable to allocate 13.0 TiB for an array with shape (64796, 27648000) and data type float64"
     ]
    }
   ],
   "source": [
    "position_onehot_tiled = np.tile(position_onehot[0],(1,spk.shape[1]))\n",
    "%time spk_convolve1=scipy.signal.convolve(spk,position_onehot_tiled)"
   ]
  },
  {
   "cell_type": "code",
   "execution_count": null,
   "id": "bbc7adb3",
   "metadata": {},
   "outputs": [],
   "source": []
  },
  {
   "cell_type": "code",
   "execution_count": 42,
   "id": "08dd6a3c",
   "metadata": {},
   "outputs": [
    {
     "data": {
      "text/html": [
       "<div>\n",
       "<style scoped>\n",
       "    .dataframe tbody tr th:only-of-type {\n",
       "        vertical-align: middle;\n",
       "    }\n",
       "\n",
       "    .dataframe tbody tr th {\n",
       "        vertical-align: top;\n",
       "    }\n",
       "\n",
       "    .dataframe thead th {\n",
       "        text-align: right;\n",
       "    }\n",
       "</style>\n",
       "<table border=\"1\" class=\"dataframe\">\n",
       "  <thead>\n",
       "    <tr style=\"text-align: right;\">\n",
       "      <th></th>\n",
       "      <th>1</th>\n",
       "      <th>2</th>\n",
       "      <th>3</th>\n",
       "      <th>27</th>\n",
       "      <th>29</th>\n",
       "      <th>30</th>\n",
       "      <th>31</th>\n",
       "      <th>32</th>\n",
       "      <th>33</th>\n",
       "      <th>34</th>\n",
       "      <th>...</th>\n",
       "      <th>471</th>\n",
       "      <th>472</th>\n",
       "      <th>473</th>\n",
       "      <th>474</th>\n",
       "      <th>475</th>\n",
       "      <th>476</th>\n",
       "      <th>477</th>\n",
       "      <th>478</th>\n",
       "      <th>479</th>\n",
       "      <th>480</th>\n",
       "    </tr>\n",
       "    <tr>\n",
       "      <th>Time (s)</th>\n",
       "      <th></th>\n",
       "      <th></th>\n",
       "      <th></th>\n",
       "      <th></th>\n",
       "      <th></th>\n",
       "      <th></th>\n",
       "      <th></th>\n",
       "      <th></th>\n",
       "      <th></th>\n",
       "      <th></th>\n",
       "      <th></th>\n",
       "      <th></th>\n",
       "      <th></th>\n",
       "      <th></th>\n",
       "      <th></th>\n",
       "      <th></th>\n",
       "      <th></th>\n",
       "      <th></th>\n",
       "      <th></th>\n",
       "      <th></th>\n",
       "      <th></th>\n",
       "    </tr>\n",
       "  </thead>\n",
       "  <tbody>\n",
       "    <tr>\n",
       "      <th>7858.227233</th>\n",
       "      <td>1</td>\n",
       "      <td>0</td>\n",
       "      <td>0</td>\n",
       "      <td>0</td>\n",
       "      <td>0</td>\n",
       "      <td>0</td>\n",
       "      <td>0</td>\n",
       "      <td>0</td>\n",
       "      <td>0</td>\n",
       "      <td>0</td>\n",
       "      <td>...</td>\n",
       "      <td>0</td>\n",
       "      <td>0</td>\n",
       "      <td>0</td>\n",
       "      <td>0</td>\n",
       "      <td>0</td>\n",
       "      <td>0</td>\n",
       "      <td>0</td>\n",
       "      <td>0</td>\n",
       "      <td>0</td>\n",
       "      <td>0</td>\n",
       "    </tr>\n",
       "    <tr>\n",
       "      <th>7858.260567</th>\n",
       "      <td>0</td>\n",
       "      <td>0</td>\n",
       "      <td>0</td>\n",
       "      <td>0</td>\n",
       "      <td>0</td>\n",
       "      <td>0</td>\n",
       "      <td>0</td>\n",
       "      <td>0</td>\n",
       "      <td>0</td>\n",
       "      <td>0</td>\n",
       "      <td>...</td>\n",
       "      <td>0</td>\n",
       "      <td>0</td>\n",
       "      <td>0</td>\n",
       "      <td>0</td>\n",
       "      <td>0</td>\n",
       "      <td>0</td>\n",
       "      <td>0</td>\n",
       "      <td>0</td>\n",
       "      <td>0</td>\n",
       "      <td>0</td>\n",
       "    </tr>\n",
       "    <tr>\n",
       "      <th>7858.293933</th>\n",
       "      <td>0</td>\n",
       "      <td>0</td>\n",
       "      <td>0</td>\n",
       "      <td>2</td>\n",
       "      <td>0</td>\n",
       "      <td>0</td>\n",
       "      <td>0</td>\n",
       "      <td>0</td>\n",
       "      <td>0</td>\n",
       "      <td>1</td>\n",
       "      <td>...</td>\n",
       "      <td>0</td>\n",
       "      <td>0</td>\n",
       "      <td>0</td>\n",
       "      <td>0</td>\n",
       "      <td>0</td>\n",
       "      <td>0</td>\n",
       "      <td>0</td>\n",
       "      <td>0</td>\n",
       "      <td>0</td>\n",
       "      <td>0</td>\n",
       "    </tr>\n",
       "    <tr>\n",
       "      <th>7858.327267</th>\n",
       "      <td>0</td>\n",
       "      <td>0</td>\n",
       "      <td>0</td>\n",
       "      <td>0</td>\n",
       "      <td>0</td>\n",
       "      <td>0</td>\n",
       "      <td>0</td>\n",
       "      <td>0</td>\n",
       "      <td>0</td>\n",
       "      <td>0</td>\n",
       "      <td>...</td>\n",
       "      <td>0</td>\n",
       "      <td>0</td>\n",
       "      <td>0</td>\n",
       "      <td>0</td>\n",
       "      <td>0</td>\n",
       "      <td>0</td>\n",
       "      <td>0</td>\n",
       "      <td>0</td>\n",
       "      <td>0</td>\n",
       "      <td>0</td>\n",
       "    </tr>\n",
       "    <tr>\n",
       "      <th>7858.360600</th>\n",
       "      <td>0</td>\n",
       "      <td>0</td>\n",
       "      <td>0</td>\n",
       "      <td>1</td>\n",
       "      <td>0</td>\n",
       "      <td>0</td>\n",
       "      <td>0</td>\n",
       "      <td>0</td>\n",
       "      <td>0</td>\n",
       "      <td>0</td>\n",
       "      <td>...</td>\n",
       "      <td>0</td>\n",
       "      <td>0</td>\n",
       "      <td>0</td>\n",
       "      <td>0</td>\n",
       "      <td>0</td>\n",
       "      <td>0</td>\n",
       "      <td>0</td>\n",
       "      <td>0</td>\n",
       "      <td>0</td>\n",
       "      <td>0</td>\n",
       "    </tr>\n",
       "    <tr>\n",
       "      <th>...</th>\n",
       "      <td>...</td>\n",
       "      <td>...</td>\n",
       "      <td>...</td>\n",
       "      <td>...</td>\n",
       "      <td>...</td>\n",
       "      <td>...</td>\n",
       "      <td>...</td>\n",
       "      <td>...</td>\n",
       "      <td>...</td>\n",
       "      <td>...</td>\n",
       "      <td>...</td>\n",
       "      <td>...</td>\n",
       "      <td>...</td>\n",
       "      <td>...</td>\n",
       "      <td>...</td>\n",
       "      <td>...</td>\n",
       "      <td>...</td>\n",
       "      <td>...</td>\n",
       "      <td>...</td>\n",
       "      <td>...</td>\n",
       "      <td>...</td>\n",
       "    </tr>\n",
       "    <tr>\n",
       "      <th>10017.539300</th>\n",
       "      <td>0</td>\n",
       "      <td>0</td>\n",
       "      <td>0</td>\n",
       "      <td>0</td>\n",
       "      <td>0</td>\n",
       "      <td>0</td>\n",
       "      <td>0</td>\n",
       "      <td>0</td>\n",
       "      <td>0</td>\n",
       "      <td>0</td>\n",
       "      <td>...</td>\n",
       "      <td>0</td>\n",
       "      <td>0</td>\n",
       "      <td>0</td>\n",
       "      <td>0</td>\n",
       "      <td>0</td>\n",
       "      <td>0</td>\n",
       "      <td>0</td>\n",
       "      <td>0</td>\n",
       "      <td>0</td>\n",
       "      <td>0</td>\n",
       "    </tr>\n",
       "    <tr>\n",
       "      <th>10017.572633</th>\n",
       "      <td>0</td>\n",
       "      <td>0</td>\n",
       "      <td>0</td>\n",
       "      <td>0</td>\n",
       "      <td>0</td>\n",
       "      <td>0</td>\n",
       "      <td>0</td>\n",
       "      <td>0</td>\n",
       "      <td>0</td>\n",
       "      <td>0</td>\n",
       "      <td>...</td>\n",
       "      <td>0</td>\n",
       "      <td>0</td>\n",
       "      <td>0</td>\n",
       "      <td>0</td>\n",
       "      <td>0</td>\n",
       "      <td>0</td>\n",
       "      <td>0</td>\n",
       "      <td>0</td>\n",
       "      <td>0</td>\n",
       "      <td>0</td>\n",
       "    </tr>\n",
       "    <tr>\n",
       "      <th>10017.605967</th>\n",
       "      <td>0</td>\n",
       "      <td>0</td>\n",
       "      <td>0</td>\n",
       "      <td>1</td>\n",
       "      <td>0</td>\n",
       "      <td>0</td>\n",
       "      <td>0</td>\n",
       "      <td>0</td>\n",
       "      <td>0</td>\n",
       "      <td>0</td>\n",
       "      <td>...</td>\n",
       "      <td>0</td>\n",
       "      <td>0</td>\n",
       "      <td>0</td>\n",
       "      <td>0</td>\n",
       "      <td>0</td>\n",
       "      <td>0</td>\n",
       "      <td>0</td>\n",
       "      <td>0</td>\n",
       "      <td>0</td>\n",
       "      <td>0</td>\n",
       "    </tr>\n",
       "    <tr>\n",
       "      <th>10017.639333</th>\n",
       "      <td>0</td>\n",
       "      <td>0</td>\n",
       "      <td>0</td>\n",
       "      <td>2</td>\n",
       "      <td>0</td>\n",
       "      <td>0</td>\n",
       "      <td>0</td>\n",
       "      <td>0</td>\n",
       "      <td>0</td>\n",
       "      <td>0</td>\n",
       "      <td>...</td>\n",
       "      <td>0</td>\n",
       "      <td>0</td>\n",
       "      <td>0</td>\n",
       "      <td>0</td>\n",
       "      <td>0</td>\n",
       "      <td>0</td>\n",
       "      <td>0</td>\n",
       "      <td>0</td>\n",
       "      <td>0</td>\n",
       "      <td>0</td>\n",
       "    </tr>\n",
       "    <tr>\n",
       "      <th>10017.672667</th>\n",
       "      <td>0</td>\n",
       "      <td>0</td>\n",
       "      <td>0</td>\n",
       "      <td>1</td>\n",
       "      <td>0</td>\n",
       "      <td>0</td>\n",
       "      <td>0</td>\n",
       "      <td>0</td>\n",
       "      <td>0</td>\n",
       "      <td>0</td>\n",
       "      <td>...</td>\n",
       "      <td>0</td>\n",
       "      <td>0</td>\n",
       "      <td>0</td>\n",
       "      <td>0</td>\n",
       "      <td>0</td>\n",
       "      <td>0</td>\n",
       "      <td>0</td>\n",
       "      <td>0</td>\n",
       "      <td>0</td>\n",
       "      <td>0</td>\n",
       "    </tr>\n",
       "  </tbody>\n",
       "</table>\n",
       "<p>64796 rows × 422 columns</p>\n",
       "</div>"
      ],
      "text/plain": [
       "              1    2    3    27   29   30   31   32   33   34   ...  471  472  \\\n",
       "Time (s)                                                        ...             \n",
       "7858.227233     1    0    0    0    0    0    0    0    0    0  ...    0    0   \n",
       "7858.260567     0    0    0    0    0    0    0    0    0    0  ...    0    0   \n",
       "7858.293933     0    0    0    2    0    0    0    0    0    1  ...    0    0   \n",
       "7858.327267     0    0    0    0    0    0    0    0    0    0  ...    0    0   \n",
       "7858.360600     0    0    0    1    0    0    0    0    0    0  ...    0    0   \n",
       "...           ...  ...  ...  ...  ...  ...  ...  ...  ...  ...  ...  ...  ...   \n",
       "10017.539300    0    0    0    0    0    0    0    0    0    0  ...    0    0   \n",
       "10017.572633    0    0    0    0    0    0    0    0    0    0  ...    0    0   \n",
       "10017.605967    0    0    0    1    0    0    0    0    0    0  ...    0    0   \n",
       "10017.639333    0    0    0    2    0    0    0    0    0    0  ...    0    0   \n",
       "10017.672667    0    0    0    1    0    0    0    0    0    0  ...    0    0   \n",
       "\n",
       "              473  474  475  476  477  478  479  480  \n",
       "Time (s)                                              \n",
       "7858.227233     0    0    0    0    0    0    0    0  \n",
       "7858.260567     0    0    0    0    0    0    0    0  \n",
       "7858.293933     0    0    0    0    0    0    0    0  \n",
       "7858.327267     0    0    0    0    0    0    0    0  \n",
       "7858.360600     0    0    0    0    0    0    0    0  \n",
       "...           ...  ...  ...  ...  ...  ...  ...  ...  \n",
       "10017.539300    0    0    0    0    0    0    0    0  \n",
       "10017.572633    0    0    0    0    0    0    0    0  \n",
       "10017.605967    0    0    0    0    0    0    0    0  \n",
       "10017.639333    0    0    0    0    0    0    0    0  \n",
       "10017.672667    0    0    0    0    0    0    0    0  \n",
       "\n",
       "[64796 rows x 422 columns]"
      ]
     },
     "execution_count": 42,
     "metadata": {},
     "output_type": "execute_result"
    }
   ],
   "source": [
    "spk_beh_df[cell_cols]"
   ]
  },
  {
   "cell_type": "code",
   "execution_count": 37,
   "id": "3573a52d",
   "metadata": {},
   "outputs": [],
   "source": [
    "spk = spk_beh_df[cell_cols]"
   ]
  },
  {
   "cell_type": "code",
   "execution_count": 38,
   "id": "406688a6",
   "metadata": {},
   "outputs": [
    {
     "data": {
      "text/html": [
       "<div>\n",
       "<style scoped>\n",
       "    .dataframe tbody tr th:only-of-type {\n",
       "        vertical-align: middle;\n",
       "    }\n",
       "\n",
       "    .dataframe tbody tr th {\n",
       "        vertical-align: top;\n",
       "    }\n",
       "\n",
       "    .dataframe thead th {\n",
       "        text-align: right;\n",
       "    }\n",
       "</style>\n",
       "<table border=\"1\" class=\"dataframe\">\n",
       "  <thead>\n",
       "    <tr style=\"text-align: right;\">\n",
       "      <th></th>\n",
       "      <th>1</th>\n",
       "      <th>2</th>\n",
       "      <th>3</th>\n",
       "      <th>27</th>\n",
       "      <th>29</th>\n",
       "      <th>30</th>\n",
       "      <th>31</th>\n",
       "      <th>32</th>\n",
       "      <th>33</th>\n",
       "      <th>34</th>\n",
       "      <th>...</th>\n",
       "      <th>471</th>\n",
       "      <th>472</th>\n",
       "      <th>473</th>\n",
       "      <th>474</th>\n",
       "      <th>475</th>\n",
       "      <th>476</th>\n",
       "      <th>477</th>\n",
       "      <th>478</th>\n",
       "      <th>479</th>\n",
       "      <th>480</th>\n",
       "    </tr>\n",
       "    <tr>\n",
       "      <th>Time (s)</th>\n",
       "      <th></th>\n",
       "      <th></th>\n",
       "      <th></th>\n",
       "      <th></th>\n",
       "      <th></th>\n",
       "      <th></th>\n",
       "      <th></th>\n",
       "      <th></th>\n",
       "      <th></th>\n",
       "      <th></th>\n",
       "      <th></th>\n",
       "      <th></th>\n",
       "      <th></th>\n",
       "      <th></th>\n",
       "      <th></th>\n",
       "      <th></th>\n",
       "      <th></th>\n",
       "      <th></th>\n",
       "      <th></th>\n",
       "      <th></th>\n",
       "      <th></th>\n",
       "    </tr>\n",
       "  </thead>\n",
       "  <tbody>\n",
       "    <tr>\n",
       "      <th>7858.227233</th>\n",
       "      <td>1</td>\n",
       "      <td>0</td>\n",
       "      <td>0</td>\n",
       "      <td>0</td>\n",
       "      <td>0</td>\n",
       "      <td>0</td>\n",
       "      <td>0</td>\n",
       "      <td>0</td>\n",
       "      <td>0</td>\n",
       "      <td>0</td>\n",
       "      <td>...</td>\n",
       "      <td>0</td>\n",
       "      <td>0</td>\n",
       "      <td>0</td>\n",
       "      <td>0</td>\n",
       "      <td>0</td>\n",
       "      <td>0</td>\n",
       "      <td>0</td>\n",
       "      <td>0</td>\n",
       "      <td>0</td>\n",
       "      <td>0</td>\n",
       "    </tr>\n",
       "    <tr>\n",
       "      <th>7858.260567</th>\n",
       "      <td>0</td>\n",
       "      <td>0</td>\n",
       "      <td>0</td>\n",
       "      <td>0</td>\n",
       "      <td>0</td>\n",
       "      <td>0</td>\n",
       "      <td>0</td>\n",
       "      <td>0</td>\n",
       "      <td>0</td>\n",
       "      <td>0</td>\n",
       "      <td>...</td>\n",
       "      <td>0</td>\n",
       "      <td>0</td>\n",
       "      <td>0</td>\n",
       "      <td>0</td>\n",
       "      <td>0</td>\n",
       "      <td>0</td>\n",
       "      <td>0</td>\n",
       "      <td>0</td>\n",
       "      <td>0</td>\n",
       "      <td>0</td>\n",
       "    </tr>\n",
       "    <tr>\n",
       "      <th>7858.293933</th>\n",
       "      <td>0</td>\n",
       "      <td>0</td>\n",
       "      <td>0</td>\n",
       "      <td>2</td>\n",
       "      <td>0</td>\n",
       "      <td>0</td>\n",
       "      <td>0</td>\n",
       "      <td>0</td>\n",
       "      <td>0</td>\n",
       "      <td>1</td>\n",
       "      <td>...</td>\n",
       "      <td>0</td>\n",
       "      <td>0</td>\n",
       "      <td>0</td>\n",
       "      <td>0</td>\n",
       "      <td>0</td>\n",
       "      <td>0</td>\n",
       "      <td>0</td>\n",
       "      <td>0</td>\n",
       "      <td>0</td>\n",
       "      <td>0</td>\n",
       "    </tr>\n",
       "    <tr>\n",
       "      <th>7858.327267</th>\n",
       "      <td>0</td>\n",
       "      <td>0</td>\n",
       "      <td>0</td>\n",
       "      <td>0</td>\n",
       "      <td>0</td>\n",
       "      <td>0</td>\n",
       "      <td>0</td>\n",
       "      <td>0</td>\n",
       "      <td>0</td>\n",
       "      <td>0</td>\n",
       "      <td>...</td>\n",
       "      <td>0</td>\n",
       "      <td>0</td>\n",
       "      <td>0</td>\n",
       "      <td>0</td>\n",
       "      <td>0</td>\n",
       "      <td>0</td>\n",
       "      <td>0</td>\n",
       "      <td>0</td>\n",
       "      <td>0</td>\n",
       "      <td>0</td>\n",
       "    </tr>\n",
       "    <tr>\n",
       "      <th>7858.360600</th>\n",
       "      <td>0</td>\n",
       "      <td>0</td>\n",
       "      <td>0</td>\n",
       "      <td>1</td>\n",
       "      <td>0</td>\n",
       "      <td>0</td>\n",
       "      <td>0</td>\n",
       "      <td>0</td>\n",
       "      <td>0</td>\n",
       "      <td>0</td>\n",
       "      <td>...</td>\n",
       "      <td>0</td>\n",
       "      <td>0</td>\n",
       "      <td>0</td>\n",
       "      <td>0</td>\n",
       "      <td>0</td>\n",
       "      <td>0</td>\n",
       "      <td>0</td>\n",
       "      <td>0</td>\n",
       "      <td>0</td>\n",
       "      <td>0</td>\n",
       "    </tr>\n",
       "    <tr>\n",
       "      <th>...</th>\n",
       "      <td>...</td>\n",
       "      <td>...</td>\n",
       "      <td>...</td>\n",
       "      <td>...</td>\n",
       "      <td>...</td>\n",
       "      <td>...</td>\n",
       "      <td>...</td>\n",
       "      <td>...</td>\n",
       "      <td>...</td>\n",
       "      <td>...</td>\n",
       "      <td>...</td>\n",
       "      <td>...</td>\n",
       "      <td>...</td>\n",
       "      <td>...</td>\n",
       "      <td>...</td>\n",
       "      <td>...</td>\n",
       "      <td>...</td>\n",
       "      <td>...</td>\n",
       "      <td>...</td>\n",
       "      <td>...</td>\n",
       "      <td>...</td>\n",
       "    </tr>\n",
       "    <tr>\n",
       "      <th>10017.539300</th>\n",
       "      <td>0</td>\n",
       "      <td>0</td>\n",
       "      <td>0</td>\n",
       "      <td>0</td>\n",
       "      <td>0</td>\n",
       "      <td>0</td>\n",
       "      <td>0</td>\n",
       "      <td>0</td>\n",
       "      <td>0</td>\n",
       "      <td>0</td>\n",
       "      <td>...</td>\n",
       "      <td>0</td>\n",
       "      <td>0</td>\n",
       "      <td>0</td>\n",
       "      <td>0</td>\n",
       "      <td>0</td>\n",
       "      <td>0</td>\n",
       "      <td>0</td>\n",
       "      <td>0</td>\n",
       "      <td>0</td>\n",
       "      <td>0</td>\n",
       "    </tr>\n",
       "    <tr>\n",
       "      <th>10017.572633</th>\n",
       "      <td>0</td>\n",
       "      <td>0</td>\n",
       "      <td>0</td>\n",
       "      <td>0</td>\n",
       "      <td>0</td>\n",
       "      <td>0</td>\n",
       "      <td>0</td>\n",
       "      <td>0</td>\n",
       "      <td>0</td>\n",
       "      <td>0</td>\n",
       "      <td>...</td>\n",
       "      <td>0</td>\n",
       "      <td>0</td>\n",
       "      <td>0</td>\n",
       "      <td>0</td>\n",
       "      <td>0</td>\n",
       "      <td>0</td>\n",
       "      <td>0</td>\n",
       "      <td>0</td>\n",
       "      <td>0</td>\n",
       "      <td>0</td>\n",
       "    </tr>\n",
       "    <tr>\n",
       "      <th>10017.605967</th>\n",
       "      <td>0</td>\n",
       "      <td>0</td>\n",
       "      <td>0</td>\n",
       "      <td>1</td>\n",
       "      <td>0</td>\n",
       "      <td>0</td>\n",
       "      <td>0</td>\n",
       "      <td>0</td>\n",
       "      <td>0</td>\n",
       "      <td>0</td>\n",
       "      <td>...</td>\n",
       "      <td>0</td>\n",
       "      <td>0</td>\n",
       "      <td>0</td>\n",
       "      <td>0</td>\n",
       "      <td>0</td>\n",
       "      <td>0</td>\n",
       "      <td>0</td>\n",
       "      <td>0</td>\n",
       "      <td>0</td>\n",
       "      <td>0</td>\n",
       "    </tr>\n",
       "    <tr>\n",
       "      <th>10017.639333</th>\n",
       "      <td>0</td>\n",
       "      <td>0</td>\n",
       "      <td>0</td>\n",
       "      <td>2</td>\n",
       "      <td>0</td>\n",
       "      <td>0</td>\n",
       "      <td>0</td>\n",
       "      <td>0</td>\n",
       "      <td>0</td>\n",
       "      <td>0</td>\n",
       "      <td>...</td>\n",
       "      <td>0</td>\n",
       "      <td>0</td>\n",
       "      <td>0</td>\n",
       "      <td>0</td>\n",
       "      <td>0</td>\n",
       "      <td>0</td>\n",
       "      <td>0</td>\n",
       "      <td>0</td>\n",
       "      <td>0</td>\n",
       "      <td>0</td>\n",
       "    </tr>\n",
       "    <tr>\n",
       "      <th>10017.672667</th>\n",
       "      <td>0</td>\n",
       "      <td>0</td>\n",
       "      <td>0</td>\n",
       "      <td>1</td>\n",
       "      <td>0</td>\n",
       "      <td>0</td>\n",
       "      <td>0</td>\n",
       "      <td>0</td>\n",
       "      <td>0</td>\n",
       "      <td>0</td>\n",
       "      <td>...</td>\n",
       "      <td>0</td>\n",
       "      <td>0</td>\n",
       "      <td>0</td>\n",
       "      <td>0</td>\n",
       "      <td>0</td>\n",
       "      <td>0</td>\n",
       "      <td>0</td>\n",
       "      <td>0</td>\n",
       "      <td>0</td>\n",
       "      <td>0</td>\n",
       "    </tr>\n",
       "  </tbody>\n",
       "</table>\n",
       "<p>64796 rows × 422 columns</p>\n",
       "</div>"
      ],
      "text/plain": [
       "              1    2    3    27   29   30   31   32   33   34   ...  471  472  \\\n",
       "Time (s)                                                        ...             \n",
       "7858.227233     1    0    0    0    0    0    0    0    0    0  ...    0    0   \n",
       "7858.260567     0    0    0    0    0    0    0    0    0    0  ...    0    0   \n",
       "7858.293933     0    0    0    2    0    0    0    0    0    1  ...    0    0   \n",
       "7858.327267     0    0    0    0    0    0    0    0    0    0  ...    0    0   \n",
       "7858.360600     0    0    0    1    0    0    0    0    0    0  ...    0    0   \n",
       "...           ...  ...  ...  ...  ...  ...  ...  ...  ...  ...  ...  ...  ...   \n",
       "10017.539300    0    0    0    0    0    0    0    0    0    0  ...    0    0   \n",
       "10017.572633    0    0    0    0    0    0    0    0    0    0  ...    0    0   \n",
       "10017.605967    0    0    0    1    0    0    0    0    0    0  ...    0    0   \n",
       "10017.639333    0    0    0    2    0    0    0    0    0    0  ...    0    0   \n",
       "10017.672667    0    0    0    1    0    0    0    0    0    0  ...    0    0   \n",
       "\n",
       "              473  474  475  476  477  478  479  480  \n",
       "Time (s)                                              \n",
       "7858.227233     0    0    0    0    0    0    0    0  \n",
       "7858.260567     0    0    0    0    0    0    0    0  \n",
       "7858.293933     0    0    0    0    0    0    0    0  \n",
       "7858.327267     0    0    0    0    0    0    0    0  \n",
       "7858.360600     0    0    0    0    0    0    0    0  \n",
       "...           ...  ...  ...  ...  ...  ...  ...  ...  \n",
       "10017.539300    0    0    0    0    0    0    0    0  \n",
       "10017.572633    0    0    0    0    0    0    0    0  \n",
       "10017.605967    0    0    0    0    0    0    0    0  \n",
       "10017.639333    0    0    0    0    0    0    0    0  \n",
       "10017.672667    0    0    0    0    0    0    0    0  \n",
       "\n",
       "[64796 rows x 422 columns]"
      ]
     },
     "execution_count": 38,
     "metadata": {},
     "output_type": "execute_result"
    }
   ],
   "source": [
    "spk"
   ]
  },
  {
   "cell_type": "code",
   "execution_count": null,
   "id": "44f95180",
   "metadata": {},
   "outputs": [],
   "source": []
  },
  {
   "cell_type": "code",
   "execution_count": 325,
   "id": "df829e32",
   "metadata": {},
   "outputs": [
    {
     "data": {
      "text/plain": [
       "<AxesSubplot:xlabel='lin_binned'>"
      ]
     },
     "execution_count": 325,
     "metadata": {},
     "output_type": "execute_result"
    },
    {
     "data": {
      "image/png": "[encoded data removed]",
      "text/plain": [
       "<Figure size 432x288 with 1 Axes>"
      ]
     },
     "metadata": {
      "needs_background": "light"
     },
     "output_type": "display_data"
    }
   ],
   "source": [
    "fr_shuffle.loc[174].mean(axis=0).plot()\n",
    "fr_shuffle.loc[174].quantile(0.99,axis=0).plot()\n",
    "fr_shuffle.loc[174].quantile(0.01,axis=0).plot()\n",
    "fr_map_trial_df.loc[174].loc[:,17].plot()"
   ]
  },
  {
   "cell_type": "code",
   "execution_count": 195,
   "id": "7c59fdf0",
   "metadata": {},
   "outputs": [],
   "source": [
    "count_unstack = count_trial_df.unstack()"
   ]
  },
  {
   "cell_type": "code",
   "execution_count": 207,
   "id": "1f34ef8b",
   "metadata": {},
   "outputs": [],
   "source": [
    "occu_roll_df =pd.DataFrame(occu_roll,index=count_unstack.columns)"
   ]
  },
  {
   "cell_type": "code",
   "execution_count": 211,
   "id": "e9befcc4",
   "metadata": {},
   "outputs": [
    {
     "data": {
      "text/html": [
       "<div>\n",
       "<style scoped>\n",
       "    .dataframe tbody tr th:only-of-type {\n",
       "        vertical-align: middle;\n",
       "    }\n",
       "\n",
       "    .dataframe tbody tr th {\n",
       "        vertical-align: top;\n",
       "    }\n",
       "\n",
       "    .dataframe thead tr th {\n",
       "        text-align: left;\n",
       "    }\n",
       "</style>\n",
       "<table border=\"1\" class=\"dataframe\">\n",
       "  <thead>\n",
       "    <tr>\n",
       "      <th></th>\n",
       "      <th colspan=\"10\" halign=\"left\">0</th>\n",
       "      <th>...</th>\n",
       "      <th colspan=\"10\" halign=\"left\">32</th>\n",
       "    </tr>\n",
       "    <tr>\n",
       "      <th></th>\n",
       "      <th>0</th>\n",
       "      <th>1</th>\n",
       "      <th>2</th>\n",
       "      <th>3</th>\n",
       "      <th>4</th>\n",
       "      <th>5</th>\n",
       "      <th>6</th>\n",
       "      <th>7</th>\n",
       "      <th>8</th>\n",
       "      <th>9</th>\n",
       "      <th>...</th>\n",
       "      <th>90</th>\n",
       "      <th>91</th>\n",
       "      <th>92</th>\n",
       "      <th>93</th>\n",
       "      <th>94</th>\n",
       "      <th>95</th>\n",
       "      <th>96</th>\n",
       "      <th>97</th>\n",
       "      <th>98</th>\n",
       "      <th>99</th>\n",
       "    </tr>\n",
       "  </thead>\n",
       "  <tbody>\n",
       "    <tr>\n",
       "      <th>1.0</th>\n",
       "      <td>0.0</td>\n",
       "      <td>0.0</td>\n",
       "      <td>0.0</td>\n",
       "      <td>0.0</td>\n",
       "      <td>0.0</td>\n",
       "      <td>0.0</td>\n",
       "      <td>0.0</td>\n",
       "      <td>0.0</td>\n",
       "      <td>0.0</td>\n",
       "      <td>0.0</td>\n",
       "      <td>...</td>\n",
       "      <td>0.0</td>\n",
       "      <td>0.0</td>\n",
       "      <td>0.0</td>\n",
       "      <td>0.0</td>\n",
       "      <td>0.0</td>\n",
       "      <td>0.0</td>\n",
       "      <td>0.0</td>\n",
       "      <td>0.0</td>\n",
       "      <td>0.0</td>\n",
       "      <td>0.0</td>\n",
       "    </tr>\n",
       "    <tr>\n",
       "      <th>2.0</th>\n",
       "      <td>0.0</td>\n",
       "      <td>0.0</td>\n",
       "      <td>0.0</td>\n",
       "      <td>0.0</td>\n",
       "      <td>0.0</td>\n",
       "      <td>0.0</td>\n",
       "      <td>0.0</td>\n",
       "      <td>0.0</td>\n",
       "      <td>0.0</td>\n",
       "      <td>0.0</td>\n",
       "      <td>...</td>\n",
       "      <td>0.0</td>\n",
       "      <td>0.0</td>\n",
       "      <td>0.0</td>\n",
       "      <td>0.0</td>\n",
       "      <td>0.0</td>\n",
       "      <td>0.0</td>\n",
       "      <td>0.0</td>\n",
       "      <td>0.0</td>\n",
       "      <td>0.0</td>\n",
       "      <td>0.0</td>\n",
       "    </tr>\n",
       "    <tr>\n",
       "      <th>3.0</th>\n",
       "      <td>0.0</td>\n",
       "      <td>0.0</td>\n",
       "      <td>0.0</td>\n",
       "      <td>0.0</td>\n",
       "      <td>0.0</td>\n",
       "      <td>0.0</td>\n",
       "      <td>0.0</td>\n",
       "      <td>0.0</td>\n",
       "      <td>0.0</td>\n",
       "      <td>0.0</td>\n",
       "      <td>...</td>\n",
       "      <td>0.0</td>\n",
       "      <td>0.0</td>\n",
       "      <td>0.0</td>\n",
       "      <td>0.0</td>\n",
       "      <td>0.0</td>\n",
       "      <td>0.0</td>\n",
       "      <td>0.0</td>\n",
       "      <td>0.0</td>\n",
       "      <td>0.0</td>\n",
       "      <td>0.0</td>\n",
       "    </tr>\n",
       "    <tr>\n",
       "      <th>27.0</th>\n",
       "      <td>0.0</td>\n",
       "      <td>5.0</td>\n",
       "      <td>19.0</td>\n",
       "      <td>44.0</td>\n",
       "      <td>0.0</td>\n",
       "      <td>6.0</td>\n",
       "      <td>14.0</td>\n",
       "      <td>2.0</td>\n",
       "      <td>1.0</td>\n",
       "      <td>3.0</td>\n",
       "      <td>...</td>\n",
       "      <td>1.0</td>\n",
       "      <td>0.0</td>\n",
       "      <td>0.0</td>\n",
       "      <td>2.0</td>\n",
       "      <td>0.0</td>\n",
       "      <td>5.0</td>\n",
       "      <td>5.0</td>\n",
       "      <td>4.0</td>\n",
       "      <td>23.0</td>\n",
       "      <td>18.0</td>\n",
       "    </tr>\n",
       "    <tr>\n",
       "      <th>29.0</th>\n",
       "      <td>0.0</td>\n",
       "      <td>2.0</td>\n",
       "      <td>7.0</td>\n",
       "      <td>0.0</td>\n",
       "      <td>6.0</td>\n",
       "      <td>4.0</td>\n",
       "      <td>5.0</td>\n",
       "      <td>0.0</td>\n",
       "      <td>0.0</td>\n",
       "      <td>0.0</td>\n",
       "      <td>...</td>\n",
       "      <td>0.0</td>\n",
       "      <td>0.0</td>\n",
       "      <td>0.0</td>\n",
       "      <td>0.0</td>\n",
       "      <td>0.0</td>\n",
       "      <td>0.0</td>\n",
       "      <td>0.0</td>\n",
       "      <td>0.0</td>\n",
       "      <td>1.0</td>\n",
       "      <td>2.0</td>\n",
       "    </tr>\n",
       "    <tr>\n",
       "      <th>...</th>\n",
       "      <td>...</td>\n",
       "      <td>...</td>\n",
       "      <td>...</td>\n",
       "      <td>...</td>\n",
       "      <td>...</td>\n",
       "      <td>...</td>\n",
       "      <td>...</td>\n",
       "      <td>...</td>\n",
       "      <td>...</td>\n",
       "      <td>...</td>\n",
       "      <td>...</td>\n",
       "      <td>...</td>\n",
       "      <td>...</td>\n",
       "      <td>...</td>\n",
       "      <td>...</td>\n",
       "      <td>...</td>\n",
       "      <td>...</td>\n",
       "      <td>...</td>\n",
       "      <td>...</td>\n",
       "      <td>...</td>\n",
       "      <td>...</td>\n",
       "    </tr>\n",
       "    <tr>\n",
       "      <th>476.0</th>\n",
       "      <td>0.0</td>\n",
       "      <td>0.0</td>\n",
       "      <td>0.0</td>\n",
       "      <td>0.0</td>\n",
       "      <td>0.0</td>\n",
       "      <td>0.0</td>\n",
       "      <td>0.0</td>\n",
       "      <td>0.0</td>\n",
       "      <td>0.0</td>\n",
       "      <td>0.0</td>\n",
       "      <td>...</td>\n",
       "      <td>0.0</td>\n",
       "      <td>0.0</td>\n",
       "      <td>0.0</td>\n",
       "      <td>0.0</td>\n",
       "      <td>0.0</td>\n",
       "      <td>0.0</td>\n",
       "      <td>0.0</td>\n",
       "      <td>3.0</td>\n",
       "      <td>9.0</td>\n",
       "      <td>0.0</td>\n",
       "    </tr>\n",
       "    <tr>\n",
       "      <th>477.0</th>\n",
       "      <td>0.0</td>\n",
       "      <td>0.0</td>\n",
       "      <td>0.0</td>\n",
       "      <td>0.0</td>\n",
       "      <td>0.0</td>\n",
       "      <td>0.0</td>\n",
       "      <td>0.0</td>\n",
       "      <td>0.0</td>\n",
       "      <td>0.0</td>\n",
       "      <td>0.0</td>\n",
       "      <td>...</td>\n",
       "      <td>0.0</td>\n",
       "      <td>0.0</td>\n",
       "      <td>0.0</td>\n",
       "      <td>0.0</td>\n",
       "      <td>0.0</td>\n",
       "      <td>0.0</td>\n",
       "      <td>0.0</td>\n",
       "      <td>0.0</td>\n",
       "      <td>0.0</td>\n",
       "      <td>0.0</td>\n",
       "    </tr>\n",
       "    <tr>\n",
       "      <th>478.0</th>\n",
       "      <td>0.0</td>\n",
       "      <td>0.0</td>\n",
       "      <td>0.0</td>\n",
       "      <td>0.0</td>\n",
       "      <td>0.0</td>\n",
       "      <td>0.0</td>\n",
       "      <td>0.0</td>\n",
       "      <td>0.0</td>\n",
       "      <td>0.0</td>\n",
       "      <td>0.0</td>\n",
       "      <td>...</td>\n",
       "      <td>0.0</td>\n",
       "      <td>0.0</td>\n",
       "      <td>0.0</td>\n",
       "      <td>0.0</td>\n",
       "      <td>0.0</td>\n",
       "      <td>0.0</td>\n",
       "      <td>0.0</td>\n",
       "      <td>0.0</td>\n",
       "      <td>0.0</td>\n",
       "      <td>0.0</td>\n",
       "    </tr>\n",
       "    <tr>\n",
       "      <th>479.0</th>\n",
       "      <td>0.0</td>\n",
       "      <td>0.0</td>\n",
       "      <td>0.0</td>\n",
       "      <td>4.0</td>\n",
       "      <td>0.0</td>\n",
       "      <td>0.0</td>\n",
       "      <td>0.0</td>\n",
       "      <td>0.0</td>\n",
       "      <td>0.0</td>\n",
       "      <td>0.0</td>\n",
       "      <td>...</td>\n",
       "      <td>0.0</td>\n",
       "      <td>0.0</td>\n",
       "      <td>0.0</td>\n",
       "      <td>0.0</td>\n",
       "      <td>0.0</td>\n",
       "      <td>0.0</td>\n",
       "      <td>3.0</td>\n",
       "      <td>1.0</td>\n",
       "      <td>8.0</td>\n",
       "      <td>15.0</td>\n",
       "    </tr>\n",
       "    <tr>\n",
       "      <th>480.0</th>\n",
       "      <td>0.0</td>\n",
       "      <td>0.0</td>\n",
       "      <td>0.0</td>\n",
       "      <td>0.0</td>\n",
       "      <td>0.0</td>\n",
       "      <td>0.0</td>\n",
       "      <td>0.0</td>\n",
       "      <td>1.0</td>\n",
       "      <td>0.0</td>\n",
       "      <td>0.0</td>\n",
       "      <td>...</td>\n",
       "      <td>0.0</td>\n",
       "      <td>0.0</td>\n",
       "      <td>0.0</td>\n",
       "      <td>0.0</td>\n",
       "      <td>0.0</td>\n",
       "      <td>0.0</td>\n",
       "      <td>0.0</td>\n",
       "      <td>0.0</td>\n",
       "      <td>0.0</td>\n",
       "      <td>0.0</td>\n",
       "    </tr>\n",
       "  </tbody>\n",
       "</table>\n",
       "<p>422 rows × 3300 columns</p>\n",
       "</div>"
      ],
      "text/plain": [
       "        0                                                   ...   32       \\\n",
       "        0    1     2     3    4    5     6    7    8    9   ...   90   91   \n",
       "1.0    0.0  0.0   0.0   0.0  0.0  0.0   0.0  0.0  0.0  0.0  ...  0.0  0.0   \n",
       "2.0    0.0  0.0   0.0   0.0  0.0  0.0   0.0  0.0  0.0  0.0  ...  0.0  0.0   \n",
       "3.0    0.0  0.0   0.0   0.0  0.0  0.0   0.0  0.0  0.0  0.0  ...  0.0  0.0   \n",
       "27.0   0.0  5.0  19.0  44.0  0.0  6.0  14.0  2.0  1.0  3.0  ...  1.0  0.0   \n",
       "29.0   0.0  2.0   7.0   0.0  6.0  4.0   5.0  0.0  0.0  0.0  ...  0.0  0.0   \n",
       "...    ...  ...   ...   ...  ...  ...   ...  ...  ...  ...  ...  ...  ...   \n",
       "476.0  0.0  0.0   0.0   0.0  0.0  0.0   0.0  0.0  0.0  0.0  ...  0.0  0.0   \n",
       "477.0  0.0  0.0   0.0   0.0  0.0  0.0   0.0  0.0  0.0  0.0  ...  0.0  0.0   \n",
       "478.0  0.0  0.0   0.0   0.0  0.0  0.0   0.0  0.0  0.0  0.0  ...  0.0  0.0   \n",
       "479.0  0.0  0.0   0.0   4.0  0.0  0.0   0.0  0.0  0.0  0.0  ...  0.0  0.0   \n",
       "480.0  0.0  0.0   0.0   0.0  0.0  0.0   0.0  1.0  0.0  0.0  ...  0.0  0.0   \n",
       "\n",
       "                                                 \n",
       "        92   93   94   95   96   97    98    99  \n",
       "1.0    0.0  0.0  0.0  0.0  0.0  0.0   0.0   0.0  \n",
       "2.0    0.0  0.0  0.0  0.0  0.0  0.0   0.0   0.0  \n",
       "3.0    0.0  0.0  0.0  0.0  0.0  0.0   0.0   0.0  \n",
       "27.0   0.0  2.0  0.0  5.0  5.0  4.0  23.0  18.0  \n",
       "29.0   0.0  0.0  0.0  0.0  0.0  0.0   1.0   2.0  \n",
       "...    ...  ...  ...  ...  ...  ...   ...   ...  \n",
       "476.0  0.0  0.0  0.0  0.0  0.0  3.0   9.0   0.0  \n",
       "477.0  0.0  0.0  0.0  0.0  0.0  0.0   0.0   0.0  \n",
       "478.0  0.0  0.0  0.0  0.0  0.0  0.0   0.0   0.0  \n",
       "479.0  0.0  0.0  0.0  0.0  3.0  1.0   8.0  15.0  \n",
       "480.0  0.0  0.0  0.0  0.0  0.0  0.0   0.0   0.0  \n",
       "\n",
       "[422 rows x 3300 columns]"
      ]
     },
     "execution_count": 211,
     "metadata": {},
     "output_type": "execute_result"
    }
   ],
   "source": [
    "count_unstack"
   ]
  },
  {
   "cell_type": "code",
   "execution_count": 218,
   "id": "404fc878",
   "metadata": {},
   "outputs": [],
   "source": [
    "count_sum_no_smth = count_trial_df.sum(axis=1).unstack()"
   ]
  },
  {
   "cell_type": "code",
   "execution_count": 220,
   "id": "37a1199c",
   "metadata": {
    "scrolled": true
   },
   "outputs": [],
   "source": [
    "occu_roll_sum=occu_roll_df.groupby(level=1).sum()"
   ]
  },
  {
   "cell_type": "code",
   "execution_count": 227,
   "id": "70944ad0",
   "metadata": {},
   "outputs": [],
   "source": [
    "fr_shuffle = np.einsum('nb,bc->nbc',count_sum_no_smth.values, 1/occu_roll_sum)"
   ]
  },
  {
   "cell_type": "code",
   "execution_count": 229,
   "id": "7cbb7539",
   "metadata": {},
   "outputs": [
    {
     "data": {
      "text/html": [
       "<div>\n",
       "<style scoped>\n",
       "    .dataframe tbody tr th:only-of-type {\n",
       "        vertical-align: middle;\n",
       "    }\n",
       "\n",
       "    .dataframe tbody tr th {\n",
       "        vertical-align: top;\n",
       "    }\n",
       "\n",
       "    .dataframe thead th {\n",
       "        text-align: right;\n",
       "    }\n",
       "</style>\n",
       "<table border=\"1\" class=\"dataframe\">\n",
       "  <thead>\n",
       "    <tr style=\"text-align: right;\">\n",
       "      <th></th>\n",
       "      <th>0</th>\n",
       "      <th>1</th>\n",
       "      <th>2</th>\n",
       "      <th>3</th>\n",
       "      <th>4</th>\n",
       "      <th>5</th>\n",
       "      <th>6</th>\n",
       "      <th>7</th>\n",
       "      <th>8</th>\n",
       "      <th>9</th>\n",
       "      <th>...</th>\n",
       "      <th>990</th>\n",
       "      <th>991</th>\n",
       "      <th>992</th>\n",
       "      <th>993</th>\n",
       "      <th>994</th>\n",
       "      <th>995</th>\n",
       "      <th>996</th>\n",
       "      <th>997</th>\n",
       "      <th>998</th>\n",
       "      <th>999</th>\n",
       "    </tr>\n",
       "  </thead>\n",
       "  <tbody>\n",
       "    <tr>\n",
       "      <th>0</th>\n",
       "      <td>30.738599</td>\n",
       "      <td>10.397206</td>\n",
       "      <td>1.733931</td>\n",
       "      <td>4.543231</td>\n",
       "      <td>5.802953</td>\n",
       "      <td>3.156521</td>\n",
       "      <td>20.959429</td>\n",
       "      <td>1.733931</td>\n",
       "      <td>5.187484</td>\n",
       "      <td>1.730049</td>\n",
       "      <td>...</td>\n",
       "      <td>7.730401</td>\n",
       "      <td>12.559515</td>\n",
       "      <td>25.445491</td>\n",
       "      <td>2.821315</td>\n",
       "      <td>3.780159</td>\n",
       "      <td>2.015444</td>\n",
       "      <td>16.816836</td>\n",
       "      <td>3.894925</td>\n",
       "      <td>4.422567</td>\n",
       "      <td>7.149466</td>\n",
       "    </tr>\n",
       "    <tr>\n",
       "      <th>1</th>\n",
       "      <td>28.962331</td>\n",
       "      <td>15.278675</td>\n",
       "      <td>1.741857</td>\n",
       "      <td>3.771684</td>\n",
       "      <td>6.823042</td>\n",
       "      <td>2.821315</td>\n",
       "      <td>26.282523</td>\n",
       "      <td>1.741857</td>\n",
       "      <td>4.470685</td>\n",
       "      <td>1.733931</td>\n",
       "      <td>...</td>\n",
       "      <td>7.156768</td>\n",
       "      <td>14.951859</td>\n",
       "      <td>21.421761</td>\n",
       "      <td>2.856328</td>\n",
       "      <td>3.794569</td>\n",
       "      <td>1.838516</td>\n",
       "      <td>17.358998</td>\n",
       "      <td>4.696845</td>\n",
       "      <td>4.321808</td>\n",
       "      <td>4.768721</td>\n",
       "    </tr>\n",
       "    <tr>\n",
       "      <th>2</th>\n",
       "      <td>25.445491</td>\n",
       "      <td>20.959429</td>\n",
       "      <td>1.750768</td>\n",
       "      <td>3.156521</td>\n",
       "      <td>7.874517</td>\n",
       "      <td>2.856328</td>\n",
       "      <td>29.854748</td>\n",
       "      <td>1.750768</td>\n",
       "      <td>4.003869</td>\n",
       "      <td>1.741857</td>\n",
       "      <td>...</td>\n",
       "      <td>6.708950</td>\n",
       "      <td>16.816836</td>\n",
       "      <td>17.824401</td>\n",
       "      <td>3.381960</td>\n",
       "      <td>4.062491</td>\n",
       "      <td>1.765092</td>\n",
       "      <td>16.191539</td>\n",
       "      <td>5.404573</td>\n",
       "      <td>4.261537</td>\n",
       "      <td>3.249055</td>\n",
       "    </tr>\n",
       "    <tr>\n",
       "      <th>3</th>\n",
       "      <td>21.421761</td>\n",
       "      <td>26.282523</td>\n",
       "      <td>1.760560</td>\n",
       "      <td>2.821315</td>\n",
       "      <td>8.691851</td>\n",
       "      <td>3.381960</td>\n",
       "      <td>30.738599</td>\n",
       "      <td>1.760560</td>\n",
       "      <td>3.780159</td>\n",
       "      <td>1.750768</td>\n",
       "      <td>...</td>\n",
       "      <td>6.387577</td>\n",
       "      <td>17.358998</td>\n",
       "      <td>15.027657</td>\n",
       "      <td>4.610108</td>\n",
       "      <td>4.601800</td>\n",
       "      <td>1.736969</td>\n",
       "      <td>13.570881</td>\n",
       "      <td>5.802212</td>\n",
       "      <td>4.299768</td>\n",
       "      <td>2.417043</td>\n",
       "    </tr>\n",
       "    <tr>\n",
       "      <th>4</th>\n",
       "      <td>17.824401</td>\n",
       "      <td>29.854748</td>\n",
       "      <td>1.774133</td>\n",
       "      <td>2.856328</td>\n",
       "      <td>9.046807</td>\n",
       "      <td>4.610108</td>\n",
       "      <td>28.962331</td>\n",
       "      <td>1.774133</td>\n",
       "      <td>3.794569</td>\n",
       "      <td>1.760560</td>\n",
       "      <td>...</td>\n",
       "      <td>6.162850</td>\n",
       "      <td>16.191539</td>\n",
       "      <td>12.972351</td>\n",
       "      <td>6.849917</td>\n",
       "      <td>5.386399</td>\n",
       "      <td>1.730049</td>\n",
       "      <td>10.268813</td>\n",
       "      <td>5.753244</td>\n",
       "      <td>4.521267</td>\n",
       "      <td>2.015444</td>\n",
       "    </tr>\n",
       "    <tr>\n",
       "      <th>...</th>\n",
       "      <td>...</td>\n",
       "      <td>...</td>\n",
       "      <td>...</td>\n",
       "      <td>...</td>\n",
       "      <td>...</td>\n",
       "      <td>...</td>\n",
       "      <td>...</td>\n",
       "      <td>...</td>\n",
       "      <td>...</td>\n",
       "      <td>...</td>\n",
       "      <td>...</td>\n",
       "      <td>...</td>\n",
       "      <td>...</td>\n",
       "      <td>...</td>\n",
       "      <td>...</td>\n",
       "      <td>...</td>\n",
       "      <td>...</td>\n",
       "      <td>...</td>\n",
       "      <td>...</td>\n",
       "      <td>...</td>\n",
       "      <td>...</td>\n",
       "    </tr>\n",
       "    <tr>\n",
       "      <th>95</th>\n",
       "      <td>10.397206</td>\n",
       "      <td>2.821315</td>\n",
       "      <td>2.015444</td>\n",
       "      <td>4.696845</td>\n",
       "      <td>4.321808</td>\n",
       "      <td>5.802212</td>\n",
       "      <td>3.381960</td>\n",
       "      <td>2.015444</td>\n",
       "      <td>9.046807</td>\n",
       "      <td>2.417043</td>\n",
       "      <td>...</td>\n",
       "      <td>12.972351</td>\n",
       "      <td>6.299107</td>\n",
       "      <td>20.959429</td>\n",
       "      <td>5.753244</td>\n",
       "      <td>7.175022</td>\n",
       "      <td>10.268813</td>\n",
       "      <td>7.623683</td>\n",
       "      <td>1.993779</td>\n",
       "      <td>5.457270</td>\n",
       "      <td>16.816836</td>\n",
       "    </tr>\n",
       "    <tr>\n",
       "      <th>96</th>\n",
       "      <td>15.278675</td>\n",
       "      <td>2.856328</td>\n",
       "      <td>1.838516</td>\n",
       "      <td>5.404573</td>\n",
       "      <td>4.261537</td>\n",
       "      <td>5.753244</td>\n",
       "      <td>4.610108</td>\n",
       "      <td>1.838516</td>\n",
       "      <td>8.845123</td>\n",
       "      <td>2.015444</td>\n",
       "      <td>...</td>\n",
       "      <td>11.438408</td>\n",
       "      <td>7.126609</td>\n",
       "      <td>26.282523</td>\n",
       "      <td>5.278336</td>\n",
       "      <td>6.123646</td>\n",
       "      <td>7.149466</td>\n",
       "      <td>9.277652</td>\n",
       "      <td>2.112910</td>\n",
       "      <td>5.152971</td>\n",
       "      <td>17.358998</td>\n",
       "    </tr>\n",
       "    <tr>\n",
       "      <th>97</th>\n",
       "      <td>20.959429</td>\n",
       "      <td>3.381960</td>\n",
       "      <td>1.765092</td>\n",
       "      <td>5.802212</td>\n",
       "      <td>4.299768</td>\n",
       "      <td>5.278336</td>\n",
       "      <td>6.849917</td>\n",
       "      <td>1.765092</td>\n",
       "      <td>8.157503</td>\n",
       "      <td>1.838516</td>\n",
       "      <td>...</td>\n",
       "      <td>10.234801</td>\n",
       "      <td>7.623683</td>\n",
       "      <td>29.854748</td>\n",
       "      <td>4.543231</td>\n",
       "      <td>5.187484</td>\n",
       "      <td>4.768721</td>\n",
       "      <td>10.468775</td>\n",
       "      <td>2.316649</td>\n",
       "      <td>4.886206</td>\n",
       "      <td>16.191539</td>\n",
       "    </tr>\n",
       "    <tr>\n",
       "      <th>98</th>\n",
       "      <td>26.282523</td>\n",
       "      <td>4.610108</td>\n",
       "      <td>1.736969</td>\n",
       "      <td>5.753244</td>\n",
       "      <td>4.521267</td>\n",
       "      <td>4.543231</td>\n",
       "      <td>10.397206</td>\n",
       "      <td>1.736969</td>\n",
       "      <td>7.175022</td>\n",
       "      <td>1.765092</td>\n",
       "      <td>...</td>\n",
       "      <td>9.249577</td>\n",
       "      <td>9.277652</td>\n",
       "      <td>30.738599</td>\n",
       "      <td>3.771684</td>\n",
       "      <td>4.470685</td>\n",
       "      <td>3.249055</td>\n",
       "      <td>12.559515</td>\n",
       "      <td>2.658489</td>\n",
       "      <td>4.686187</td>\n",
       "      <td>13.570881</td>\n",
       "    </tr>\n",
       "    <tr>\n",
       "      <th>99</th>\n",
       "      <td>29.854748</td>\n",
       "      <td>6.849917</td>\n",
       "      <td>1.730049</td>\n",
       "      <td>5.278336</td>\n",
       "      <td>5.011074</td>\n",
       "      <td>3.771684</td>\n",
       "      <td>15.278675</td>\n",
       "      <td>1.730049</td>\n",
       "      <td>6.123646</td>\n",
       "      <td>1.736969</td>\n",
       "      <td>...</td>\n",
       "      <td>8.424325</td>\n",
       "      <td>10.468775</td>\n",
       "      <td>28.962331</td>\n",
       "      <td>3.156521</td>\n",
       "      <td>4.003869</td>\n",
       "      <td>2.417043</td>\n",
       "      <td>14.951859</td>\n",
       "      <td>3.184946</td>\n",
       "      <td>4.540713</td>\n",
       "      <td>10.268813</td>\n",
       "    </tr>\n",
       "  </tbody>\n",
       "</table>\n",
       "<p>100 rows × 1000 columns</p>\n",
       "</div>"
      ],
      "text/plain": [
       "          0          1         2         3         4         5          6    \\\n",
       "0   30.738599  10.397206  1.733931  4.543231  5.802953  3.156521  20.959429   \n",
       "1   28.962331  15.278675  1.741857  3.771684  6.823042  2.821315  26.282523   \n",
       "2   25.445491  20.959429  1.750768  3.156521  7.874517  2.856328  29.854748   \n",
       "3   21.421761  26.282523  1.760560  2.821315  8.691851  3.381960  30.738599   \n",
       "4   17.824401  29.854748  1.774133  2.856328  9.046807  4.610108  28.962331   \n",
       "..        ...        ...       ...       ...       ...       ...        ...   \n",
       "95  10.397206   2.821315  2.015444  4.696845  4.321808  5.802212   3.381960   \n",
       "96  15.278675   2.856328  1.838516  5.404573  4.261537  5.753244   4.610108   \n",
       "97  20.959429   3.381960  1.765092  5.802212  4.299768  5.278336   6.849917   \n",
       "98  26.282523   4.610108  1.736969  5.753244  4.521267  4.543231  10.397206   \n",
       "99  29.854748   6.849917  1.730049  5.278336  5.011074  3.771684  15.278675   \n",
       "\n",
       "         7         8         9    ...        990        991        992  \\\n",
       "0   1.733931  5.187484  1.730049  ...   7.730401  12.559515  25.445491   \n",
       "1   1.741857  4.470685  1.733931  ...   7.156768  14.951859  21.421761   \n",
       "2   1.750768  4.003869  1.741857  ...   6.708950  16.816836  17.824401   \n",
       "3   1.760560  3.780159  1.750768  ...   6.387577  17.358998  15.027657   \n",
       "4   1.774133  3.794569  1.760560  ...   6.162850  16.191539  12.972351   \n",
       "..       ...       ...       ...  ...        ...        ...        ...   \n",
       "95  2.015444  9.046807  2.417043  ...  12.972351   6.299107  20.959429   \n",
       "96  1.838516  8.845123  2.015444  ...  11.438408   7.126609  26.282523   \n",
       "97  1.765092  8.157503  1.838516  ...  10.234801   7.623683  29.854748   \n",
       "98  1.736969  7.175022  1.765092  ...   9.249577   9.277652  30.738599   \n",
       "99  1.730049  6.123646  1.736969  ...   8.424325  10.468775  28.962331   \n",
       "\n",
       "         993       994        995        996       997       998        999  \n",
       "0   2.821315  3.780159   2.015444  16.816836  3.894925  4.422567   7.149466  \n",
       "1   2.856328  3.794569   1.838516  17.358998  4.696845  4.321808   4.768721  \n",
       "2   3.381960  4.062491   1.765092  16.191539  5.404573  4.261537   3.249055  \n",
       "3   4.610108  4.601800   1.736969  13.570881  5.802212  4.299768   2.417043  \n",
       "4   6.849917  5.386399   1.730049  10.268813  5.753244  4.521267   2.015444  \n",
       "..       ...       ...        ...        ...       ...       ...        ...  \n",
       "95  5.753244  7.175022  10.268813   7.623683  1.993779  5.457270  16.816836  \n",
       "96  5.278336  6.123646   7.149466   9.277652  2.112910  5.152971  17.358998  \n",
       "97  4.543231  5.187484   4.768721  10.468775  2.316649  4.886206  16.191539  \n",
       "98  3.771684  4.470685   3.249055  12.559515  2.658489  4.686187  13.570881  \n",
       "99  3.156521  4.003869   2.417043  14.951859  3.184946  4.540713  10.268813  \n",
       "\n",
       "[100 rows x 1000 columns]"
      ]
     },
     "execution_count": 229,
     "metadata": {},
     "output_type": "execute_result"
    }
   ],
   "source": [
    "occu_roll_sum"
   ]
  },
  {
   "cell_type": "code",
   "execution_count": 231,
   "id": "a4508cec",
   "metadata": {},
   "outputs": [],
   "source": [
    "shuffle_cols = pd.MultiIndex.from_product([occu_roll_sum.index,occu_roll_sum.columns])\n",
    "fr_shuffle=pd.DataFrame(fr_shuffle.reshape(fr_shuffle.shape[0],-1),index=count_sum_no_smth.index,columns=shuffle_cols)"
   ]
  },
  {
   "cell_type": "code",
   "execution_count": 237,
   "id": "337e7278",
   "metadata": {},
   "outputs": [
    {
     "data": {
      "text/plain": [
       "<AxesSubplot:>"
      ]
     },
     "execution_count": 237,
     "metadata": {},
     "output_type": "execute_result"
    },
    {
     "data": {
      "image/png": "[encoded data removed]",
      "text/plain": [
       "<Figure size 432x288 with 1 Axes>"
      ]
     },
     "metadata": {
      "needs_background": "light"
     },
     "output_type": "display_data"
    }
   ],
   "source": [
    "fr_shuffle.groupby(axis=1,level=0).mean().loc[174].plot()"
   ]
  },
  {
   "cell_type": "code",
   "execution_count": 226,
   "id": "dde83b00",
   "metadata": {},
   "outputs": [
    {
     "ename": "ValueError",
     "evalue": "Must pass 2-d input. shape=(422, 100, 1000)",
     "output_type": "error",
     "traceback": [
      "\u001b[0;31m---------------------------------------------------------------------------\u001b[0m",
      "\u001b[0;31mValueError\u001b[0m                                Traceback (most recent call last)",
      "Input \u001b[0;32mIn [226]\u001b[0m, in \u001b[0;36m<cell line: 1>\u001b[0;34m()\u001b[0m\n\u001b[0;32m----> 1\u001b[0m \u001b[43mpd\u001b[49m\u001b[38;5;241;43m.\u001b[39;49m\u001b[43mDataFrame\u001b[49m\u001b[43m(\u001b[49m\u001b[43mfr_shuffle\u001b[49m\u001b[43m,\u001b[49m\u001b[43mindex\u001b[49m\u001b[38;5;241;43m=\u001b[39;49m\u001b[43mcount_sum_no_smth\u001b[49m\u001b[38;5;241;43m.\u001b[39;49m\u001b[43mindex\u001b[49m\u001b[43m,\u001b[49m\u001b[43mcolumns\u001b[49m\u001b[38;5;241;43m=\u001b[39;49m\u001b[43mcount_sum_no_smth\u001b[49m\u001b[38;5;241;43m.\u001b[39;49m\u001b[43mcolumns\u001b[49m\u001b[43m)\u001b[49m\n",
      "File \u001b[0;32m~/ceph/envs/jax/lib/python3.9/site-packages/pandas/core/frame.py:694\u001b[0m, in \u001b[0;36mDataFrame.__init__\u001b[0;34m(self, data, index, columns, dtype, copy)\u001b[0m\n\u001b[1;32m    684\u001b[0m         mgr \u001b[38;5;241m=\u001b[39m dict_to_mgr(\n\u001b[1;32m    685\u001b[0m             \u001b[38;5;66;03m# error: Item \"ndarray\" of \"Union[ndarray, Series, Index]\" has no\u001b[39;00m\n\u001b[1;32m    686\u001b[0m             \u001b[38;5;66;03m# attribute \"name\"\u001b[39;00m\n\u001b[0;32m   (...)\u001b[0m\n\u001b[1;32m    691\u001b[0m             typ\u001b[38;5;241m=\u001b[39mmanager,\n\u001b[1;32m    692\u001b[0m         )\n\u001b[1;32m    693\u001b[0m     \u001b[38;5;28;01melse\u001b[39;00m:\n\u001b[0;32m--> 694\u001b[0m         mgr \u001b[38;5;241m=\u001b[39m \u001b[43mndarray_to_mgr\u001b[49m\u001b[43m(\u001b[49m\n\u001b[1;32m    695\u001b[0m \u001b[43m            \u001b[49m\u001b[43mdata\u001b[49m\u001b[43m,\u001b[49m\n\u001b[1;32m    696\u001b[0m \u001b[43m            \u001b[49m\u001b[43mindex\u001b[49m\u001b[43m,\u001b[49m\n\u001b[1;32m    697\u001b[0m \u001b[43m            \u001b[49m\u001b[43mcolumns\u001b[49m\u001b[43m,\u001b[49m\n\u001b[1;32m    698\u001b[0m \u001b[43m            \u001b[49m\u001b[43mdtype\u001b[49m\u001b[38;5;241;43m=\u001b[39;49m\u001b[43mdtype\u001b[49m\u001b[43m,\u001b[49m\n\u001b[1;32m    699\u001b[0m \u001b[43m            \u001b[49m\u001b[43mcopy\u001b[49m\u001b[38;5;241;43m=\u001b[39;49m\u001b[43mcopy\u001b[49m\u001b[43m,\u001b[49m\n\u001b[1;32m    700\u001b[0m \u001b[43m            \u001b[49m\u001b[43mtyp\u001b[49m\u001b[38;5;241;43m=\u001b[39;49m\u001b[43mmanager\u001b[49m\u001b[43m,\u001b[49m\n\u001b[1;32m    701\u001b[0m \u001b[43m        \u001b[49m\u001b[43m)\u001b[49m\n\u001b[1;32m    703\u001b[0m \u001b[38;5;66;03m# For data is list-like, or Iterable (will consume into list)\u001b[39;00m\n\u001b[1;32m    704\u001b[0m \u001b[38;5;28;01melif\u001b[39;00m is_list_like(data):\n",
      "File \u001b[0;32m~/ceph/envs/jax/lib/python3.9/site-packages/pandas/core/internals/construction.py:331\u001b[0m, in \u001b[0;36mndarray_to_mgr\u001b[0;34m(values, index, columns, dtype, copy, typ)\u001b[0m\n\u001b[1;32m    326\u001b[0m         values \u001b[38;5;241m=\u001b[39m values\u001b[38;5;241m.\u001b[39mreshape(\u001b[38;5;241m-\u001b[39m\u001b[38;5;241m1\u001b[39m, \u001b[38;5;241m1\u001b[39m)\n\u001b[1;32m    328\u001b[0m \u001b[38;5;28;01melse\u001b[39;00m:\n\u001b[1;32m    329\u001b[0m     \u001b[38;5;66;03m# by definition an array here\u001b[39;00m\n\u001b[1;32m    330\u001b[0m     \u001b[38;5;66;03m# the dtypes will be coerced to a single dtype\u001b[39;00m\n\u001b[0;32m--> 331\u001b[0m     values \u001b[38;5;241m=\u001b[39m \u001b[43m_prep_ndarray\u001b[49m\u001b[43m(\u001b[49m\u001b[43mvalues\u001b[49m\u001b[43m,\u001b[49m\u001b[43m \u001b[49m\u001b[43mcopy\u001b[49m\u001b[38;5;241;43m=\u001b[39;49m\u001b[43mcopy_on_sanitize\u001b[49m\u001b[43m)\u001b[49m\n\u001b[1;32m    333\u001b[0m \u001b[38;5;28;01mif\u001b[39;00m dtype \u001b[38;5;129;01mis\u001b[39;00m \u001b[38;5;129;01mnot\u001b[39;00m \u001b[38;5;28;01mNone\u001b[39;00m \u001b[38;5;129;01mand\u001b[39;00m \u001b[38;5;129;01mnot\u001b[39;00m is_dtype_equal(values\u001b[38;5;241m.\u001b[39mdtype, dtype):\n\u001b[1;32m    334\u001b[0m     shape \u001b[38;5;241m=\u001b[39m values\u001b[38;5;241m.\u001b[39mshape\n",
      "File \u001b[0;32m~/ceph/envs/jax/lib/python3.9/site-packages/pandas/core/internals/construction.py:591\u001b[0m, in \u001b[0;36m_prep_ndarray\u001b[0;34m(values, copy)\u001b[0m\n\u001b[1;32m    589\u001b[0m     values \u001b[38;5;241m=\u001b[39m values\u001b[38;5;241m.\u001b[39mreshape((values\u001b[38;5;241m.\u001b[39mshape[\u001b[38;5;241m0\u001b[39m], \u001b[38;5;241m1\u001b[39m))\n\u001b[1;32m    590\u001b[0m \u001b[38;5;28;01melif\u001b[39;00m values\u001b[38;5;241m.\u001b[39mndim \u001b[38;5;241m!=\u001b[39m \u001b[38;5;241m2\u001b[39m:\n\u001b[0;32m--> 591\u001b[0m     \u001b[38;5;28;01mraise\u001b[39;00m \u001b[38;5;167;01mValueError\u001b[39;00m(\u001b[38;5;124mf\u001b[39m\u001b[38;5;124m\"\u001b[39m\u001b[38;5;124mMust pass 2-d input. shape=\u001b[39m\u001b[38;5;132;01m{\u001b[39;00mvalues\u001b[38;5;241m.\u001b[39mshape\u001b[38;5;132;01m}\u001b[39;00m\u001b[38;5;124m\"\u001b[39m)\n\u001b[1;32m    593\u001b[0m \u001b[38;5;28;01mreturn\u001b[39;00m values\n",
      "\u001b[0;31mValueError\u001b[0m: Must pass 2-d input. shape=(422, 100, 1000)"
     ]
    }
   ],
   "source": [
    "fr_shuffle = pd.DataFrame(fr_shuffle,index=count_sum_no_smth.index,columns=count_sum_no_smth.columns)"
   ]
  },
  {
   "cell_type": "code",
   "execution_count": 124,
   "id": "a4cd18a6",
   "metadata": {},
   "outputs": [
    {
     "data": {
      "text/plain": [
       "10.0"
      ]
     },
     "execution_count": 124,
     "metadata": {},
     "output_type": "execute_result"
    }
   ],
   "source": [
    "dt = 0.1\n",
    "scipy.stats.poisson.ppf(0.99,fr_map_trial_df.loc[174].mean().mean() * dt) / dt"
   ]
  },
  {
   "cell_type": "code",
   "execution_count": 123,
   "id": "3c02fa7f",
   "metadata": {},
   "outputs": [
    {
     "data": {
      "text/plain": [
       "0.36787944117144233"
      ]
     },
     "execution_count": 123,
     "metadata": {},
     "output_type": "execute_result"
    }
   ],
   "source": [
    "scipy.stats.poisson.pmf(1,1)"
   ]
  },
  {
   "cell_type": "code",
   "execution_count": 93,
   "id": "1f55544a",
   "metadata": {},
   "outputs": [
    {
     "data": {
      "text/html": [
       "<div>\n",
       "<style scoped>\n",
       "    .dataframe tbody tr th:only-of-type {\n",
       "        vertical-align: middle;\n",
       "    }\n",
       "\n",
       "    .dataframe tbody tr th {\n",
       "        vertical-align: top;\n",
       "    }\n",
       "\n",
       "    .dataframe thead th {\n",
       "        text-align: right;\n",
       "    }\n",
       "</style>\n",
       "<table border=\"1\" class=\"dataframe\">\n",
       "  <thead>\n",
       "    <tr style=\"text-align: right;\">\n",
       "      <th></th>\n",
       "      <th></th>\n",
       "      <th>0</th>\n",
       "      <th>1</th>\n",
       "      <th>2</th>\n",
       "      <th>3</th>\n",
       "      <th>4</th>\n",
       "      <th>5</th>\n",
       "      <th>6</th>\n",
       "      <th>7</th>\n",
       "      <th>8</th>\n",
       "      <th>9</th>\n",
       "      <th>...</th>\n",
       "      <th>23</th>\n",
       "      <th>24</th>\n",
       "      <th>25</th>\n",
       "      <th>26</th>\n",
       "      <th>27</th>\n",
       "      <th>28</th>\n",
       "      <th>29</th>\n",
       "      <th>30</th>\n",
       "      <th>31</th>\n",
       "      <th>32</th>\n",
       "    </tr>\n",
       "  </thead>\n",
       "  <tbody>\n",
       "    <tr>\n",
       "      <th rowspan=\"5\" valign=\"top\">1.0</th>\n",
       "      <th>0</th>\n",
       "      <td>0.0</td>\n",
       "      <td>0.0</td>\n",
       "      <td>0.0</td>\n",
       "      <td>0.000000</td>\n",
       "      <td>0.000000</td>\n",
       "      <td>0.000000</td>\n",
       "      <td>0.0</td>\n",
       "      <td>0.0</td>\n",
       "      <td>0.000000</td>\n",
       "      <td>0.000000</td>\n",
       "      <td>...</td>\n",
       "      <td>0.000000</td>\n",
       "      <td>0.0</td>\n",
       "      <td>0.0</td>\n",
       "      <td>0.000000</td>\n",
       "      <td>0.000000</td>\n",
       "      <td>0.000000</td>\n",
       "      <td>0.000000</td>\n",
       "      <td>0.0</td>\n",
       "      <td>0.000000</td>\n",
       "      <td>1.276029</td>\n",
       "    </tr>\n",
       "    <tr>\n",
       "      <th>1</th>\n",
       "      <td>0.0</td>\n",
       "      <td>0.0</td>\n",
       "      <td>0.0</td>\n",
       "      <td>0.000000</td>\n",
       "      <td>0.000000</td>\n",
       "      <td>0.000000</td>\n",
       "      <td>0.0</td>\n",
       "      <td>0.0</td>\n",
       "      <td>0.000000</td>\n",
       "      <td>0.000000</td>\n",
       "      <td>...</td>\n",
       "      <td>0.000000</td>\n",
       "      <td>0.0</td>\n",
       "      <td>0.0</td>\n",
       "      <td>0.000000</td>\n",
       "      <td>0.000000</td>\n",
       "      <td>0.000000</td>\n",
       "      <td>0.000000</td>\n",
       "      <td>0.0</td>\n",
       "      <td>0.000000</td>\n",
       "      <td>1.010956</td>\n",
       "    </tr>\n",
       "    <tr>\n",
       "      <th>2</th>\n",
       "      <td>0.0</td>\n",
       "      <td>0.0</td>\n",
       "      <td>0.0</td>\n",
       "      <td>0.000000</td>\n",
       "      <td>0.000000</td>\n",
       "      <td>0.000000</td>\n",
       "      <td>0.0</td>\n",
       "      <td>0.0</td>\n",
       "      <td>0.000000</td>\n",
       "      <td>0.000000</td>\n",
       "      <td>...</td>\n",
       "      <td>0.000000</td>\n",
       "      <td>0.0</td>\n",
       "      <td>0.0</td>\n",
       "      <td>0.000000</td>\n",
       "      <td>0.000000</td>\n",
       "      <td>0.000000</td>\n",
       "      <td>0.000000</td>\n",
       "      <td>0.0</td>\n",
       "      <td>0.000000</td>\n",
       "      <td>0.706983</td>\n",
       "    </tr>\n",
       "    <tr>\n",
       "      <th>3</th>\n",
       "      <td>0.0</td>\n",
       "      <td>0.0</td>\n",
       "      <td>0.0</td>\n",
       "      <td>0.000000</td>\n",
       "      <td>0.000000</td>\n",
       "      <td>0.000000</td>\n",
       "      <td>0.0</td>\n",
       "      <td>0.0</td>\n",
       "      <td>0.000000</td>\n",
       "      <td>0.000000</td>\n",
       "      <td>...</td>\n",
       "      <td>0.000000</td>\n",
       "      <td>0.0</td>\n",
       "      <td>0.0</td>\n",
       "      <td>0.000000</td>\n",
       "      <td>0.000000</td>\n",
       "      <td>0.000000</td>\n",
       "      <td>0.000000</td>\n",
       "      <td>0.0</td>\n",
       "      <td>0.000000</td>\n",
       "      <td>0.500585</td>\n",
       "    </tr>\n",
       "    <tr>\n",
       "      <th>4</th>\n",
       "      <td>0.0</td>\n",
       "      <td>0.0</td>\n",
       "      <td>0.0</td>\n",
       "      <td>0.000000</td>\n",
       "      <td>0.000000</td>\n",
       "      <td>0.000000</td>\n",
       "      <td>0.0</td>\n",
       "      <td>0.0</td>\n",
       "      <td>0.000000</td>\n",
       "      <td>0.000000</td>\n",
       "      <td>...</td>\n",
       "      <td>0.000000</td>\n",
       "      <td>0.0</td>\n",
       "      <td>0.0</td>\n",
       "      <td>0.000000</td>\n",
       "      <td>0.000000</td>\n",
       "      <td>0.000000</td>\n",
       "      <td>0.000000</td>\n",
       "      <td>0.0</td>\n",
       "      <td>0.000000</td>\n",
       "      <td>0.391239</td>\n",
       "    </tr>\n",
       "    <tr>\n",
       "      <th>...</th>\n",
       "      <th>...</th>\n",
       "      <td>...</td>\n",
       "      <td>...</td>\n",
       "      <td>...</td>\n",
       "      <td>...</td>\n",
       "      <td>...</td>\n",
       "      <td>...</td>\n",
       "      <td>...</td>\n",
       "      <td>...</td>\n",
       "      <td>...</td>\n",
       "      <td>...</td>\n",
       "      <td>...</td>\n",
       "      <td>...</td>\n",
       "      <td>...</td>\n",
       "      <td>...</td>\n",
       "      <td>...</td>\n",
       "      <td>...</td>\n",
       "      <td>...</td>\n",
       "      <td>...</td>\n",
       "      <td>...</td>\n",
       "      <td>...</td>\n",
       "      <td>...</td>\n",
       "    </tr>\n",
       "    <tr>\n",
       "      <th rowspan=\"5\" valign=\"top\">480.0</th>\n",
       "      <th>95</th>\n",
       "      <td>0.0</td>\n",
       "      <td>0.0</td>\n",
       "      <td>0.0</td>\n",
       "      <td>1.075058</td>\n",
       "      <td>0.476534</td>\n",
       "      <td>0.054399</td>\n",
       "      <td>0.0</td>\n",
       "      <td>0.0</td>\n",
       "      <td>0.002772</td>\n",
       "      <td>0.018120</td>\n",
       "      <td>...</td>\n",
       "      <td>0.121499</td>\n",
       "      <td>0.0</td>\n",
       "      <td>0.0</td>\n",
       "      <td>0.005702</td>\n",
       "      <td>0.035985</td>\n",
       "      <td>0.007560</td>\n",
       "      <td>0.053002</td>\n",
       "      <td>0.0</td>\n",
       "      <td>0.099032</td>\n",
       "      <td>0.001386</td>\n",
       "    </tr>\n",
       "    <tr>\n",
       "      <th>96</th>\n",
       "      <td>0.0</td>\n",
       "      <td>0.0</td>\n",
       "      <td>0.0</td>\n",
       "      <td>0.409300</td>\n",
       "      <td>0.187327</td>\n",
       "      <td>0.014905</td>\n",
       "      <td>0.0</td>\n",
       "      <td>0.0</td>\n",
       "      <td>0.000000</td>\n",
       "      <td>0.003546</td>\n",
       "      <td>...</td>\n",
       "      <td>0.029357</td>\n",
       "      <td>0.0</td>\n",
       "      <td>0.0</td>\n",
       "      <td>0.000000</td>\n",
       "      <td>0.007788</td>\n",
       "      <td>0.000591</td>\n",
       "      <td>0.011011</td>\n",
       "      <td>0.0</td>\n",
       "      <td>0.031307</td>\n",
       "      <td>0.000000</td>\n",
       "    </tr>\n",
       "    <tr>\n",
       "      <th>97</th>\n",
       "      <td>0.0</td>\n",
       "      <td>0.0</td>\n",
       "      <td>0.0</td>\n",
       "      <td>0.134418</td>\n",
       "      <td>0.063323</td>\n",
       "      <td>0.003650</td>\n",
       "      <td>0.0</td>\n",
       "      <td>0.0</td>\n",
       "      <td>0.000000</td>\n",
       "      <td>0.000000</td>\n",
       "      <td>...</td>\n",
       "      <td>0.005696</td>\n",
       "      <td>0.0</td>\n",
       "      <td>0.0</td>\n",
       "      <td>0.000000</td>\n",
       "      <td>0.001017</td>\n",
       "      <td>0.000000</td>\n",
       "      <td>0.001781</td>\n",
       "      <td>0.0</td>\n",
       "      <td>0.008732</td>\n",
       "      <td>0.000000</td>\n",
       "    </tr>\n",
       "    <tr>\n",
       "      <th>98</th>\n",
       "      <td>0.0</td>\n",
       "      <td>0.0</td>\n",
       "      <td>0.0</td>\n",
       "      <td>0.037911</td>\n",
       "      <td>0.018508</td>\n",
       "      <td>0.000648</td>\n",
       "      <td>0.0</td>\n",
       "      <td>0.0</td>\n",
       "      <td>0.000000</td>\n",
       "      <td>0.000000</td>\n",
       "      <td>...</td>\n",
       "      <td>0.000000</td>\n",
       "      <td>0.0</td>\n",
       "      <td>0.0</td>\n",
       "      <td>0.000000</td>\n",
       "      <td>0.000000</td>\n",
       "      <td>0.000000</td>\n",
       "      <td>0.000287</td>\n",
       "      <td>0.0</td>\n",
       "      <td>0.002201</td>\n",
       "      <td>0.000000</td>\n",
       "    </tr>\n",
       "    <tr>\n",
       "      <th>99</th>\n",
       "      <td>0.0</td>\n",
       "      <td>0.0</td>\n",
       "      <td>0.0</td>\n",
       "      <td>0.010921</td>\n",
       "      <td>0.005706</td>\n",
       "      <td>0.000000</td>\n",
       "      <td>0.0</td>\n",
       "      <td>0.0</td>\n",
       "      <td>0.000000</td>\n",
       "      <td>0.000000</td>\n",
       "      <td>...</td>\n",
       "      <td>0.000000</td>\n",
       "      <td>0.0</td>\n",
       "      <td>0.0</td>\n",
       "      <td>0.000000</td>\n",
       "      <td>0.000000</td>\n",
       "      <td>0.000000</td>\n",
       "      <td>0.000000</td>\n",
       "      <td>0.0</td>\n",
       "      <td>0.000626</td>\n",
       "      <td>0.000000</td>\n",
       "    </tr>\n",
       "  </tbody>\n",
       "</table>\n",
       "<p>42200 rows × 33 columns</p>\n",
       "</div>"
      ],
      "text/plain": [
       "           0    1    2         3         4         5    6    7         8   \\\n",
       "1.0   0   0.0  0.0  0.0  0.000000  0.000000  0.000000  0.0  0.0  0.000000   \n",
       "      1   0.0  0.0  0.0  0.000000  0.000000  0.000000  0.0  0.0  0.000000   \n",
       "      2   0.0  0.0  0.0  0.000000  0.000000  0.000000  0.0  0.0  0.000000   \n",
       "      3   0.0  0.0  0.0  0.000000  0.000000  0.000000  0.0  0.0  0.000000   \n",
       "      4   0.0  0.0  0.0  0.000000  0.000000  0.000000  0.0  0.0  0.000000   \n",
       "...       ...  ...  ...       ...       ...       ...  ...  ...       ...   \n",
       "480.0 95  0.0  0.0  0.0  1.075058  0.476534  0.054399  0.0  0.0  0.002772   \n",
       "      96  0.0  0.0  0.0  0.409300  0.187327  0.014905  0.0  0.0  0.000000   \n",
       "      97  0.0  0.0  0.0  0.134418  0.063323  0.003650  0.0  0.0  0.000000   \n",
       "      98  0.0  0.0  0.0  0.037911  0.018508  0.000648  0.0  0.0  0.000000   \n",
       "      99  0.0  0.0  0.0  0.010921  0.005706  0.000000  0.0  0.0  0.000000   \n",
       "\n",
       "                9   ...        23   24   25        26        27        28  \\\n",
       "1.0   0   0.000000  ...  0.000000  0.0  0.0  0.000000  0.000000  0.000000   \n",
       "      1   0.000000  ...  0.000000  0.0  0.0  0.000000  0.000000  0.000000   \n",
       "      2   0.000000  ...  0.000000  0.0  0.0  0.000000  0.000000  0.000000   \n",
       "      3   0.000000  ...  0.000000  0.0  0.0  0.000000  0.000000  0.000000   \n",
       "      4   0.000000  ...  0.000000  0.0  0.0  0.000000  0.000000  0.000000   \n",
       "...            ...  ...       ...  ...  ...       ...       ...       ...   \n",
       "480.0 95  0.018120  ...  0.121499  0.0  0.0  0.005702  0.035985  0.007560   \n",
       "      96  0.003546  ...  0.029357  0.0  0.0  0.000000  0.007788  0.000591   \n",
       "      97  0.000000  ...  0.005696  0.0  0.0  0.000000  0.001017  0.000000   \n",
       "      98  0.000000  ...  0.000000  0.0  0.0  0.000000  0.000000  0.000000   \n",
       "      99  0.000000  ...  0.000000  0.0  0.0  0.000000  0.000000  0.000000   \n",
       "\n",
       "                29   30        31        32  \n",
       "1.0   0   0.000000  0.0  0.000000  1.276029  \n",
       "      1   0.000000  0.0  0.000000  1.010956  \n",
       "      2   0.000000  0.0  0.000000  0.706983  \n",
       "      3   0.000000  0.0  0.000000  0.500585  \n",
       "      4   0.000000  0.0  0.000000  0.391239  \n",
       "...            ...  ...       ...       ...  \n",
       "480.0 95  0.053002  0.0  0.099032  0.001386  \n",
       "      96  0.011011  0.0  0.031307  0.000000  \n",
       "      97  0.001781  0.0  0.008732  0.000000  \n",
       "      98  0.000287  0.0  0.002201  0.000000  \n",
       "      99  0.000000  0.0  0.000626  0.000000  \n",
       "\n",
       "[42200 rows x 33 columns]"
      ]
     },
     "execution_count": 93,
     "metadata": {},
     "output_type": "execute_result"
    }
   ],
   "source": [
    "fr_map_trial_df"
   ]
  },
  {
   "cell_type": "code",
   "execution_count": 92,
   "id": "001a13af",
   "metadata": {},
   "outputs": [
    {
     "data": {
      "text/plain": [
       "<AxesSubplot:>"
      ]
     },
     "execution_count": 92,
     "metadata": {},
     "output_type": "execute_result"
    },
    {
     "data": {
      "image/png": "[encoded data removed]",
      "text/plain": [
       "<Figure size 432x288 with 1 Axes>"
      ]
     },
     "metadata": {
      "needs_background": "light"
     },
     "output_type": "display_data"
    }
   ],
   "source": [
    "fr_map_trial_df.loc[174].loc[:,0].plot()"
   ]
  },
  {
   "cell_type": "code",
   "execution_count": 83,
   "id": "eaf4bdb9",
   "metadata": {
    "scrolled": true
   },
   "outputs": [
    {
     "data": {
      "text/plain": [
       "<AxesSubplot:xlabel='lin_binned'>"
      ]
     },
     "execution_count": 83,
     "metadata": {},
     "output_type": "execute_result"
    },
    {
     "data": {
      "image/png": "[encoded data removed]",
      "text/plain": [
       "<Figure size 432x288 with 1 Axes>"
      ]
     },
     "metadata": {
      "needs_background": "light"
     },
     "output_type": "display_data"
    }
   ],
   "source": [
    "field_res_d[0,0]['bound_isfield'].loc[174].astype(int).plot()"
   ]
  },
  {
   "cell_type": "code",
   "execution_count": 35,
   "id": "4824aa06",
   "metadata": {},
   "outputs": [
    {
     "data": {
      "text/plain": [
       "<module 'place_field_analysis' from '/mnt/home/szheng/projects/util_code/place_field_analysis.py'>"
      ]
     },
     "execution_count": 35,
     "metadata": {},
     "output_type": "execute_result"
    }
   ],
   "source": [
    "reload(pf)"
   ]
  },
  {
   "cell_type": "code",
   "execution_count": 140,
   "id": "2d607d56",
   "metadata": {},
   "outputs": [],
   "source": [
    "count_trial_df = pf.fr_map_trial_to_df(fr_map_dict[0][1],cell_cols_d['pyr'])"
   ]
  },
  {
   "cell_type": "code",
   "execution_count": 84,
   "id": "3e2fec75",
   "metadata": {},
   "outputs": [],
   "source": [
    "fr_map_trial_df = pf.fr_map_trial_to_df(fr_map_dict[0][0],cell_cols_d['pyr'])\n",
    "\n",
    "res_df = pf.get_field_params_trial(fr_map_trial_df,field_res_d[0,0]['all_fields'])"
   ]
  },
  {
   "cell_type": "code",
   "execution_count": 32,
   "id": "49938432",
   "metadata": {},
   "outputs": [
    {
     "data": {
      "text/plain": [
       "<AxesSubplot:xlabel='lin_binned'>"
      ]
     },
     "execution_count": 32,
     "metadata": {},
     "output_type": "execute_result"
    },
    {
     "data": {
      "image/png": "[encoded data removed]",
      "text/plain": [
       "<Figure size 432x288 with 1 Axes>"
      ]
     },
     "metadata": {
      "needs_background": "light"
     },
     "output_type": "display_data"
    }
   ],
   "source": [
    "%matplotlib inline\n",
    "fr_map_d[0,0].loc[104].plot()"
   ]
  },
  {
   "cell_type": "code",
   "execution_count": 88,
   "id": "4f15f46a",
   "metadata": {},
   "outputs": [
    {
     "data": {
      "text/plain": [
       "0     34.575605\n",
       "1     31.583063\n",
       "2           NaN\n",
       "3     31.253266\n",
       "4     36.287574\n",
       "5     36.174008\n",
       "6     36.525874\n",
       "7     36.383846\n",
       "8     35.738812\n",
       "9     34.673185\n",
       "10    36.900414\n",
       "11    35.601929\n",
       "12    35.627175\n",
       "13    36.025231\n",
       "14    34.789467\n",
       "15    36.445832\n",
       "16    35.529255\n",
       "17    35.440567\n",
       "18    36.800468\n",
       "19    34.739498\n",
       "20    35.186068\n",
       "21    36.636690\n",
       "22    35.060621\n",
       "23    38.743561\n",
       "24    36.852683\n",
       "25    34.407630\n",
       "26    35.699790\n",
       "27    36.228909\n",
       "28    35.465741\n",
       "29          NaN\n",
       "30    36.687337\n",
       "31    35.343378\n",
       "32    34.013601\n",
       "Name: 0, dtype: float64"
      ]
     },
     "execution_count": 88,
     "metadata": {},
     "output_type": "execute_result"
    }
   ],
   "source": [
    "res_df.loc['center'].loc[174].loc[0]"
   ]
  },
  {
   "cell_type": "code",
   "execution_count": 87,
   "id": "0155de7e",
   "metadata": {
    "scrolled": true
   },
   "outputs": [
    {
     "data": {
      "text/plain": [
       "<AxesSubplot:>"
      ]
     },
     "execution_count": 87,
     "metadata": {},
     "output_type": "execute_result"
    },
    {
     "data": {
      "image/png": "[encoded data removed]",
      "text/plain": [
       "<Figure size 432x288 with 1 Axes>"
      ]
     },
     "metadata": {
      "needs_background": "light"
     },
     "output_type": "display_data"
    }
   ],
   "source": [
    "res_df.loc['center'].loc[174].loc[0].plot()"
   ]
  },
  {
   "cell_type": "code",
   "execution_count": 41,
   "id": "8d245179",
   "metadata": {},
   "outputs": [
    {
     "data": {
      "text/plain": [
       "<AxesSubplot:xlabel='lin_binned'>"
      ]
     },
     "execution_count": 41,
     "metadata": {},
     "output_type": "execute_result"
    },
    {
     "data": {
      "image/png": "[encoded data removed]",
      "text/plain": [
       "<Figure size 432x288 with 1 Axes>"
      ]
     },
     "metadata": {
      "needs_background": "light"
     },
     "output_type": "display_data"
    }
   ],
   "source": [
    "field_res_d[0,0]['pvals_df'].loc[107].plot()"
   ]
  },
  {
   "cell_type": "code",
   "execution_count": 47,
   "id": "1d2473df",
   "metadata": {},
   "outputs": [],
   "source": [
    "# just using com!"
   ]
  },
  {
   "cell_type": "code",
   "execution_count": 57,
   "id": "eb2045cc",
   "metadata": {},
   "outputs": [],
   "source": [
    "tt=0\n",
    "fr_map_trial = fr_map_dict[tt][0]\n",
    "fr_map = fr_map_d[(0,tt)]"
   ]
  },
  {
   "cell_type": "code",
   "execution_count": 58,
   "id": "9037b5f0",
   "metadata": {},
   "outputs": [],
   "source": [
    "pos_l = np.arange(fr_map_trial.shape[1])\n",
    "com = np.einsum('npt,p->nt',fr_map_trial,pos_l) / np.sum(pos_l)"
   ]
  },
  {
   "cell_type": "code",
   "execution_count": 60,
   "id": "23bf8e5a",
   "metadata": {},
   "outputs": [],
   "source": [
    "com_df = pd.DataFrame(com,index=fr_map.index,columns=fr_map_trial_df.columns)"
   ]
  },
  {
   "cell_type": "code",
   "execution_count": null,
   "id": "4d9a108e",
   "metadata": {},
   "outputs": [],
   "source": []
  },
  {
   "cell_type": "code",
   "execution_count": 63,
   "id": "beeb7360",
   "metadata": {},
   "outputs": [
    {
     "data": {
      "text/plain": [
       "<AxesSubplot:>"
      ]
     },
     "execution_count": 63,
     "metadata": {},
     "output_type": "execute_result"
    },
    {
     "data": {
      "image/png": "[encoded data removed]",
      "text/plain": [
       "<Figure size 432x288 with 1 Axes>"
      ]
     },
     "metadata": {
      "needs_background": "light"
     },
     "output_type": "display_data"
    }
   ],
   "source": [
    "com_df.loc[174].plot()"
   ]
  },
  {
   "cell_type": "code",
   "execution_count": null,
   "id": "9c911da7",
   "metadata": {},
   "outputs": [],
   "source": [
    "com_"
   ]
  },
  {
   "cell_type": "code",
   "execution_count": 49,
   "id": "5302e33e",
   "metadata": {
    "scrolled": true
   },
   "outputs": [
    {
     "data": {
      "text/html": [
       "<div>\n",
       "<style scoped>\n",
       "    .dataframe tbody tr th:only-of-type {\n",
       "        vertical-align: middle;\n",
       "    }\n",
       "\n",
       "    .dataframe tbody tr th {\n",
       "        vertical-align: top;\n",
       "    }\n",
       "\n",
       "    .dataframe thead th {\n",
       "        text-align: right;\n",
       "    }\n",
       "</style>\n",
       "<table border=\"1\" class=\"dataframe\">\n",
       "  <thead>\n",
       "    <tr style=\"text-align: right;\">\n",
       "      <th></th>\n",
       "      <th></th>\n",
       "      <th>0</th>\n",
       "      <th>1</th>\n",
       "      <th>2</th>\n",
       "      <th>3</th>\n",
       "      <th>4</th>\n",
       "      <th>5</th>\n",
       "      <th>6</th>\n",
       "      <th>7</th>\n",
       "      <th>8</th>\n",
       "      <th>9</th>\n",
       "      <th>...</th>\n",
       "      <th>23</th>\n",
       "      <th>24</th>\n",
       "      <th>25</th>\n",
       "      <th>26</th>\n",
       "      <th>27</th>\n",
       "      <th>28</th>\n",
       "      <th>29</th>\n",
       "      <th>30</th>\n",
       "      <th>31</th>\n",
       "      <th>32</th>\n",
       "    </tr>\n",
       "  </thead>\n",
       "  <tbody>\n",
       "    <tr>\n",
       "      <th rowspan=\"5\" valign=\"top\">1.0</th>\n",
       "      <th>0</th>\n",
       "      <td>0.0</td>\n",
       "      <td>0.0</td>\n",
       "      <td>0.0</td>\n",
       "      <td>0.000000</td>\n",
       "      <td>0.000000</td>\n",
       "      <td>0.000000</td>\n",
       "      <td>0.0</td>\n",
       "      <td>0.0</td>\n",
       "      <td>0.000000</td>\n",
       "      <td>0.000000</td>\n",
       "      <td>...</td>\n",
       "      <td>0.000000</td>\n",
       "      <td>0.0</td>\n",
       "      <td>0.0</td>\n",
       "      <td>0.000000</td>\n",
       "      <td>0.000000</td>\n",
       "      <td>0.000000</td>\n",
       "      <td>0.000000</td>\n",
       "      <td>0.0</td>\n",
       "      <td>0.000000</td>\n",
       "      <td>1.276029</td>\n",
       "    </tr>\n",
       "    <tr>\n",
       "      <th>1</th>\n",
       "      <td>0.0</td>\n",
       "      <td>0.0</td>\n",
       "      <td>0.0</td>\n",
       "      <td>0.000000</td>\n",
       "      <td>0.000000</td>\n",
       "      <td>0.000000</td>\n",
       "      <td>0.0</td>\n",
       "      <td>0.0</td>\n",
       "      <td>0.000000</td>\n",
       "      <td>0.000000</td>\n",
       "      <td>...</td>\n",
       "      <td>0.000000</td>\n",
       "      <td>0.0</td>\n",
       "      <td>0.0</td>\n",
       "      <td>0.000000</td>\n",
       "      <td>0.000000</td>\n",
       "      <td>0.000000</td>\n",
       "      <td>0.000000</td>\n",
       "      <td>0.0</td>\n",
       "      <td>0.000000</td>\n",
       "      <td>1.010956</td>\n",
       "    </tr>\n",
       "    <tr>\n",
       "      <th>2</th>\n",
       "      <td>0.0</td>\n",
       "      <td>0.0</td>\n",
       "      <td>0.0</td>\n",
       "      <td>0.000000</td>\n",
       "      <td>0.000000</td>\n",
       "      <td>0.000000</td>\n",
       "      <td>0.0</td>\n",
       "      <td>0.0</td>\n",
       "      <td>0.000000</td>\n",
       "      <td>0.000000</td>\n",
       "      <td>...</td>\n",
       "      <td>0.000000</td>\n",
       "      <td>0.0</td>\n",
       "      <td>0.0</td>\n",
       "      <td>0.000000</td>\n",
       "      <td>0.000000</td>\n",
       "      <td>0.000000</td>\n",
       "      <td>0.000000</td>\n",
       "      <td>0.0</td>\n",
       "      <td>0.000000</td>\n",
       "      <td>0.706983</td>\n",
       "    </tr>\n",
       "    <tr>\n",
       "      <th>3</th>\n",
       "      <td>0.0</td>\n",
       "      <td>0.0</td>\n",
       "      <td>0.0</td>\n",
       "      <td>0.000000</td>\n",
       "      <td>0.000000</td>\n",
       "      <td>0.000000</td>\n",
       "      <td>0.0</td>\n",
       "      <td>0.0</td>\n",
       "      <td>0.000000</td>\n",
       "      <td>0.000000</td>\n",
       "      <td>...</td>\n",
       "      <td>0.000000</td>\n",
       "      <td>0.0</td>\n",
       "      <td>0.0</td>\n",
       "      <td>0.000000</td>\n",
       "      <td>0.000000</td>\n",
       "      <td>0.000000</td>\n",
       "      <td>0.000000</td>\n",
       "      <td>0.0</td>\n",
       "      <td>0.000000</td>\n",
       "      <td>0.500585</td>\n",
       "    </tr>\n",
       "    <tr>\n",
       "      <th>4</th>\n",
       "      <td>0.0</td>\n",
       "      <td>0.0</td>\n",
       "      <td>0.0</td>\n",
       "      <td>0.000000</td>\n",
       "      <td>0.000000</td>\n",
       "      <td>0.000000</td>\n",
       "      <td>0.0</td>\n",
       "      <td>0.0</td>\n",
       "      <td>0.000000</td>\n",
       "      <td>0.000000</td>\n",
       "      <td>...</td>\n",
       "      <td>0.000000</td>\n",
       "      <td>0.0</td>\n",
       "      <td>0.0</td>\n",
       "      <td>0.000000</td>\n",
       "      <td>0.000000</td>\n",
       "      <td>0.000000</td>\n",
       "      <td>0.000000</td>\n",
       "      <td>0.0</td>\n",
       "      <td>0.000000</td>\n",
       "      <td>0.391239</td>\n",
       "    </tr>\n",
       "    <tr>\n",
       "      <th>...</th>\n",
       "      <th>...</th>\n",
       "      <td>...</td>\n",
       "      <td>...</td>\n",
       "      <td>...</td>\n",
       "      <td>...</td>\n",
       "      <td>...</td>\n",
       "      <td>...</td>\n",
       "      <td>...</td>\n",
       "      <td>...</td>\n",
       "      <td>...</td>\n",
       "      <td>...</td>\n",
       "      <td>...</td>\n",
       "      <td>...</td>\n",
       "      <td>...</td>\n",
       "      <td>...</td>\n",
       "      <td>...</td>\n",
       "      <td>...</td>\n",
       "      <td>...</td>\n",
       "      <td>...</td>\n",
       "      <td>...</td>\n",
       "      <td>...</td>\n",
       "      <td>...</td>\n",
       "    </tr>\n",
       "    <tr>\n",
       "      <th rowspan=\"5\" valign=\"top\">480.0</th>\n",
       "      <th>95</th>\n",
       "      <td>0.0</td>\n",
       "      <td>0.0</td>\n",
       "      <td>0.0</td>\n",
       "      <td>1.075058</td>\n",
       "      <td>0.476534</td>\n",
       "      <td>0.054399</td>\n",
       "      <td>0.0</td>\n",
       "      <td>0.0</td>\n",
       "      <td>0.002772</td>\n",
       "      <td>0.018120</td>\n",
       "      <td>...</td>\n",
       "      <td>0.121499</td>\n",
       "      <td>0.0</td>\n",
       "      <td>0.0</td>\n",
       "      <td>0.005702</td>\n",
       "      <td>0.035985</td>\n",
       "      <td>0.007560</td>\n",
       "      <td>0.053002</td>\n",
       "      <td>0.0</td>\n",
       "      <td>0.099032</td>\n",
       "      <td>0.001386</td>\n",
       "    </tr>\n",
       "    <tr>\n",
       "      <th>96</th>\n",
       "      <td>0.0</td>\n",
       "      <td>0.0</td>\n",
       "      <td>0.0</td>\n",
       "      <td>0.409300</td>\n",
       "      <td>0.187327</td>\n",
       "      <td>0.014905</td>\n",
       "      <td>0.0</td>\n",
       "      <td>0.0</td>\n",
       "      <td>0.000000</td>\n",
       "      <td>0.003546</td>\n",
       "      <td>...</td>\n",
       "      <td>0.029357</td>\n",
       "      <td>0.0</td>\n",
       "      <td>0.0</td>\n",
       "      <td>0.000000</td>\n",
       "      <td>0.007788</td>\n",
       "      <td>0.000591</td>\n",
       "      <td>0.011011</td>\n",
       "      <td>0.0</td>\n",
       "      <td>0.031307</td>\n",
       "      <td>0.000000</td>\n",
       "    </tr>\n",
       "    <tr>\n",
       "      <th>97</th>\n",
       "      <td>0.0</td>\n",
       "      <td>0.0</td>\n",
       "      <td>0.0</td>\n",
       "      <td>0.134418</td>\n",
       "      <td>0.063323</td>\n",
       "      <td>0.003650</td>\n",
       "      <td>0.0</td>\n",
       "      <td>0.0</td>\n",
       "      <td>0.000000</td>\n",
       "      <td>0.000000</td>\n",
       "      <td>...</td>\n",
       "      <td>0.005696</td>\n",
       "      <td>0.0</td>\n",
       "      <td>0.0</td>\n",
       "      <td>0.000000</td>\n",
       "      <td>0.001017</td>\n",
       "      <td>0.000000</td>\n",
       "      <td>0.001781</td>\n",
       "      <td>0.0</td>\n",
       "      <td>0.008732</td>\n",
       "      <td>0.000000</td>\n",
       "    </tr>\n",
       "    <tr>\n",
       "      <th>98</th>\n",
       "      <td>0.0</td>\n",
       "      <td>0.0</td>\n",
       "      <td>0.0</td>\n",
       "      <td>0.037911</td>\n",
       "      <td>0.018508</td>\n",
       "      <td>0.000648</td>\n",
       "      <td>0.0</td>\n",
       "      <td>0.0</td>\n",
       "      <td>0.000000</td>\n",
       "      <td>0.000000</td>\n",
       "      <td>...</td>\n",
       "      <td>0.000000</td>\n",
       "      <td>0.0</td>\n",
       "      <td>0.0</td>\n",
       "      <td>0.000000</td>\n",
       "      <td>0.000000</td>\n",
       "      <td>0.000000</td>\n",
       "      <td>0.000287</td>\n",
       "      <td>0.0</td>\n",
       "      <td>0.002201</td>\n",
       "      <td>0.000000</td>\n",
       "    </tr>\n",
       "    <tr>\n",
       "      <th>99</th>\n",
       "      <td>0.0</td>\n",
       "      <td>0.0</td>\n",
       "      <td>0.0</td>\n",
       "      <td>0.010921</td>\n",
       "      <td>0.005706</td>\n",
       "      <td>0.000000</td>\n",
       "      <td>0.0</td>\n",
       "      <td>0.0</td>\n",
       "      <td>0.000000</td>\n",
       "      <td>0.000000</td>\n",
       "      <td>...</td>\n",
       "      <td>0.000000</td>\n",
       "      <td>0.0</td>\n",
       "      <td>0.0</td>\n",
       "      <td>0.000000</td>\n",
       "      <td>0.000000</td>\n",
       "      <td>0.000000</td>\n",
       "      <td>0.000000</td>\n",
       "      <td>0.0</td>\n",
       "      <td>0.000626</td>\n",
       "      <td>0.000000</td>\n",
       "    </tr>\n",
       "  </tbody>\n",
       "</table>\n",
       "<p>42200 rows × 33 columns</p>\n",
       "</div>"
      ],
      "text/plain": [
       "           0    1    2         3         4         5    6    7         8   \\\n",
       "1.0   0   0.0  0.0  0.0  0.000000  0.000000  0.000000  0.0  0.0  0.000000   \n",
       "      1   0.0  0.0  0.0  0.000000  0.000000  0.000000  0.0  0.0  0.000000   \n",
       "      2   0.0  0.0  0.0  0.000000  0.000000  0.000000  0.0  0.0  0.000000   \n",
       "      3   0.0  0.0  0.0  0.000000  0.000000  0.000000  0.0  0.0  0.000000   \n",
       "      4   0.0  0.0  0.0  0.000000  0.000000  0.000000  0.0  0.0  0.000000   \n",
       "...       ...  ...  ...       ...       ...       ...  ...  ...       ...   \n",
       "480.0 95  0.0  0.0  0.0  1.075058  0.476534  0.054399  0.0  0.0  0.002772   \n",
       "      96  0.0  0.0  0.0  0.409300  0.187327  0.014905  0.0  0.0  0.000000   \n",
       "      97  0.0  0.0  0.0  0.134418  0.063323  0.003650  0.0  0.0  0.000000   \n",
       "      98  0.0  0.0  0.0  0.037911  0.018508  0.000648  0.0  0.0  0.000000   \n",
       "      99  0.0  0.0  0.0  0.010921  0.005706  0.000000  0.0  0.0  0.000000   \n",
       "\n",
       "                9   ...        23   24   25        26        27        28  \\\n",
       "1.0   0   0.000000  ...  0.000000  0.0  0.0  0.000000  0.000000  0.000000   \n",
       "      1   0.000000  ...  0.000000  0.0  0.0  0.000000  0.000000  0.000000   \n",
       "      2   0.000000  ...  0.000000  0.0  0.0  0.000000  0.000000  0.000000   \n",
       "      3   0.000000  ...  0.000000  0.0  0.0  0.000000  0.000000  0.000000   \n",
       "      4   0.000000  ...  0.000000  0.0  0.0  0.000000  0.000000  0.000000   \n",
       "...            ...  ...       ...  ...  ...       ...       ...       ...   \n",
       "480.0 95  0.018120  ...  0.121499  0.0  0.0  0.005702  0.035985  0.007560   \n",
       "      96  0.003546  ...  0.029357  0.0  0.0  0.000000  0.007788  0.000591   \n",
       "      97  0.000000  ...  0.005696  0.0  0.0  0.000000  0.001017  0.000000   \n",
       "      98  0.000000  ...  0.000000  0.0  0.0  0.000000  0.000000  0.000000   \n",
       "      99  0.000000  ...  0.000000  0.0  0.0  0.000000  0.000000  0.000000   \n",
       "\n",
       "                29   30        31        32  \n",
       "1.0   0   0.000000  0.0  0.000000  1.276029  \n",
       "      1   0.000000  0.0  0.000000  1.010956  \n",
       "      2   0.000000  0.0  0.000000  0.706983  \n",
       "      3   0.000000  0.0  0.000000  0.500585  \n",
       "      4   0.000000  0.0  0.000000  0.391239  \n",
       "...            ...  ...       ...       ...  \n",
       "480.0 95  0.053002  0.0  0.099032  0.001386  \n",
       "      96  0.011011  0.0  0.031307  0.000000  \n",
       "      97  0.001781  0.0  0.008732  0.000000  \n",
       "      98  0.000287  0.0  0.002201  0.000000  \n",
       "      99  0.000000  0.0  0.000626  0.000000  \n",
       "\n",
       "[42200 rows x 33 columns]"
      ]
     },
     "execution_count": 49,
     "metadata": {},
     "output_type": "execute_result"
    }
   ],
   "source": [
    "fr_map_trial_df.groupby(level=0).apply(lambda: )"
   ]
  },
  {
   "cell_type": "code",
   "execution_count": 68,
   "id": "fe9212d5",
   "metadata": {},
   "outputs": [],
   "source": [
    "min_rate = 1\n",
    "fr_map_trial_df_swap= fr_map_trial_df.stack().swaplevel(1,2).unstack()\n",
    "fr_map_peaks = fr_map_trial_df_swap.apply(lambda x:scipy.signal.find_peaks(x,height=min_rate)[0],axis=1)"
   ]
  },
  {
   "cell_type": "code",
   "execution_count": 69,
   "id": "2c308f34",
   "metadata": {},
   "outputs": [
    {
     "data": {
      "text/plain": [
       "0     [26, 36, 79]\n",
       "1         [29, 84]\n",
       "2               []\n",
       "3             [29]\n",
       "4         [37, 85]\n",
       "5         [36, 84]\n",
       "6             [37]\n",
       "7         [37, 83]\n",
       "8             [35]\n",
       "9             [33]\n",
       "10            [38]\n",
       "11              []\n",
       "12            [35]\n",
       "13            [36]\n",
       "14            [35]\n",
       "15            [37]\n",
       "16            [35]\n",
       "17            [36]\n",
       "18            [38]\n",
       "19            [35]\n",
       "20            [35]\n",
       "21            [38]\n",
       "22            [35]\n",
       "23            [40]\n",
       "24            [38]\n",
       "25            [34]\n",
       "26            [35]\n",
       "27            [37]\n",
       "28            [36]\n",
       "29              []\n",
       "30              []\n",
       "31            [34]\n",
       "32              []\n",
       "dtype: object"
      ]
     },
     "execution_count": 69,
     "metadata": {},
     "output_type": "execute_result"
    }
   ],
   "source": [
    "fr_map_peaks.loc[174]"
   ]
  },
  {
   "cell_type": "code",
   "execution_count": null,
   "id": "7cab213e",
   "metadata": {},
   "outputs": [],
   "source": []
  }
 ],
 "metadata": {
  "kernelspec": {
   "display_name": "jax",
   "language": "python",
   "name": "jax"
  },
  "language_info": {
   "codemirror_mode": {
    "name": "ipython",
    "version": 3
   },
   "file_extension": ".py",
   "mimetype": "text/x-python",
   "name": "python",
   "nbconvert_exporter": "python",
   "pygments_lexer": "ipython3",
   "version": "3.9.13"
  }
 },
 "nbformat": 4,
 "nbformat_minor": 5
}
