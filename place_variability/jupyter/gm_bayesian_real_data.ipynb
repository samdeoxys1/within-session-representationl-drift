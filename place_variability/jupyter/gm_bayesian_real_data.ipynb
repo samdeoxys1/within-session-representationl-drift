{
 "cells": [
  {
   "cell_type": "code",
   "execution_count": 1,
   "id": "a8d7152c",
   "metadata": {},
   "outputs": [
    {
     "data": {
      "text/plain": [
       "<module 'plot_mcmc' from '/mnt/home/szheng/projects/util_code/plot_mcmc.py'>"
      ]
     },
     "execution_count": 1,
     "metadata": {},
     "output_type": "execute_result"
    }
   ],
   "source": [
    "import jax\n",
    "import jax.numpy as np\n",
    "import jax.scipy.stats as stats\n",
    "import matplotlib.pyplot as plt\n",
    "import numpy,pickle\n",
    "from jax.tree_util import tree_map, tree_flatten\n",
    "from jax.flatten_util import ravel_pytree\n",
    "\n",
    "from jax import jit,vmap\n",
    "import pandas as pd\n",
    "import blackjax\n",
    "\n",
    "import sys,os,importlib,pdb\n",
    "sys.path.append('/mnt/home/szheng/projects/util_code')\n",
    "import gm\n",
    "\n",
    "import scipy\n",
    "from scipy.signal import find_peaks\n",
    "import data_prep_new as dpn\n",
    "import place_cell_analysis as pa\n",
    "import plot_helper as ph\n",
    "from importlib import reload\n",
    "\n",
    "import copy\n",
    "\n",
    "%matplotlib inline\n",
    "import gm_glm_bayesian as glm\n",
    "import gm_glm_bayesian_helper as glmh\n",
    "import math_functions as mf\n",
    "import plot_mcmc as pmc\n",
    "reload(pmc)"
   ]
  },
  {
   "cell_type": "code",
   "execution_count": 2,
   "id": "e9ec0411",
   "metadata": {},
   "outputs": [],
   "source": [
    "sess_name=\"e15_13f1_220117\"\n",
    "py_data_dir = \"/mnt/home/szheng/ceph/ad/roman_data/e15/e15_13f1/e15_13f1_220117/py_data\"\n",
    "fr_ = pickle.load(open(os.path.join(py_data_dir,'fr.p'),'rb'))\n",
    "pos_bins = fr_['pos_bins']['lin']\n",
    "bin_to_lin=numpy.concatenate([pos_bins[:-1,None],pos_bins[1:,None]],axis=1).mean(axis=1)\n",
    "\n",
    "fr = fr_['df']['pyr']\n",
    "fr_map_ = pickle.load(open(os.path.join(py_data_dir,'fr_map.p'),'rb'))['fr_map_trial']"
   ]
  },
  {
   "cell_type": "code",
   "execution_count": 3,
   "id": "043f0f26",
   "metadata": {},
   "outputs": [
    {
     "name": "stderr",
     "output_type": "stream",
     "text": [
      "2022-08-09 10:29:53.039717: E external/org_tensorflow/tensorflow/stream_executor/cuda/cuda_driver.cc:271] failed call to cuInit: CUDA_ERROR_NO_DEVICE: no CUDA-capable device is detected\n",
      "WARNING:absl:No GPU/TPU found, falling back to CPU. (Set TF_CPP_MIN_LOG_LEVEL=0 and rerun for more info.)\n"
     ]
    }
   ],
   "source": [
    "unit_int = 31\n",
    "unit_str = f'unit_{unit_int}'\n",
    "\n",
    "unit_ind_in_pyr = [i for i in range(len(fr_['cell_cols']['pyr']))  if unit_str == fr_['cell_cols']['pyr'][i]][0]\n",
    "\n",
    "trial_ind_dict = dict(fr.groupby('visitedArm')['trial'].unique())\n",
    "fr_map_one_unit_both_trials_dict = {k:val[unit_ind_in_pyr] for k,val in fr_map_.items()}\n",
    "pars=gm.init_both_trial_types(fr_map_one_unit_both_trials_dict,trial_ind_dict,bin_to_lin=None)\n",
    "\n",
    "pars_rand=gm.init_both_trial_types(fr_map_one_unit_both_trials_dict,trial_ind_dict,bin_to_lin=None,random_init=True)\n",
    "\n",
    "\n",
    "regressors=glm.get_regressors(fr)\n",
    "target = fr[unit_str].values\n",
    "pars=gm.init_both_trial_types(fr_map_one_unit_both_trials_dict,trial_ind_dict,bin_to_lin=None,random_init=True)\n"
   ]
  },
  {
   "cell_type": "code",
   "execution_count": 4,
   "id": "98ff82e6",
   "metadata": {},
   "outputs": [
    {
     "data": {
      "text/plain": [
       "<matplotlib.image.AxesImage at 0x155500b8efd0>"
      ]
     },
     "execution_count": 4,
     "metadata": {},
     "output_type": "execute_result"
    },
    {
     "data": {
      "image/png": "[encoded data removed]",
      "text/plain": [
       "<Figure size 432x288 with 2 Axes>"
      ]
     },
     "metadata": {
      "needs_background": "light"
     },
     "output_type": "display_data"
    }
   ],
   "source": [
    "fig,ax=plt.subplots(2,1,sharex=True)\n",
    "ax[0].imshow(fr_map_[0][unit_ind_in_pyr].T,aspect='auto')\n",
    "ax[1].imshow(fr_map_[1][unit_ind_in_pyr].T,aspect='auto')\n",
    "# ax[1].set_xticklabels()"
   ]
  },
  {
   "cell_type": "code",
   "execution_count": 43,
   "id": "9534bc21",
   "metadata": {},
   "outputs": [],
   "source": [
    "def construct_inv_mass(pars_,uncentered=True):\n",
    "    '''\n",
    "    scale_dict: rough range of variation each parameter can have\n",
    "    block diagonal matrix, \n",
    "    each block:  the same paramter across trials have covariance given by inverse modified laplacian times the scale / 2 * (sth related to ntrials), since single trial accumulates less gradient than the trial averaged params\n",
    "    otherwise, diagonal given by the scale\n",
    "    in the end, divide everything by the max of these scales\n",
    "    '''\n",
    "#     pars_ = pars_sim_init_one\n",
    "    if uncentered:\n",
    "        \n",
    "        nfields=pars_['mus'].shape[1]\n",
    "        ntrials =pars_['delta_ws'].shape[0]\n",
    "        scale_dict = {'logb_bar':2., 'delta_b':0.5, 'logsigmas':10., 'logws_bar':100.,'delta_ws':20., 'mus':200./nfields, 'ws_bar':100.}\n",
    "        \n",
    "    else:\n",
    "        \n",
    "        nfields=pars_['mus'].shape[1]\n",
    "        ntrials =pars_['logws'].shape[0]\n",
    "        scale_dict = {'b_bar':2., 'logb':2., 'logsigmas':10., 'logws':100., 'mus':200/nfields, 'ws_bar':100.}\n",
    "    cov_base = mf.get_modified_laplacian_matrix(ntrials,inv=True)\n",
    "\n",
    "    pars_flatten,treedef=tree_flatten(pars_)\n",
    "    par_keys = sorted(pars_.keys())\n",
    "    npars = len(ravel_pytree(pars_)[0])\n",
    "    inv_mass_l = []\n",
    "    for k,pf in zip(par_keys,pars_flatten):\n",
    "        scale = scale_dict[k]\n",
    "        if len(pf.shape)<=1:\n",
    "            sub_inv_mass_one = np.eye(1) * scale\n",
    "        else:\n",
    "            ntrials,nfields=pf.shape\n",
    "            nparleaf = ntrials * nfields\n",
    "            if ntrials > 1:\n",
    "#                 sub_inv_mass_one = np.zeros((nparleaf,nparleaf))\n",
    "#                 cov_across_trials = cov_base * scale / 2  # when loss is summed\n",
    "#                 for k in range(nfields):\n",
    "#                     sub_inv_mass_one=sub_inv_mass_one.at[k::nfields,k::nfields].set(cov_across_trials)\n",
    "                sub_inv_mass_one = np.eye(nparleaf) * scale\n",
    "            else:\n",
    "                sub_inv_mass_one = np.eye(nfields) * scale\n",
    "\n",
    "\n",
    "        inv_mass_l.append(sub_inv_mass_one)\n",
    "    inv_mass_matrix = scipy.linalg.block_diag(*inv_mass_l)\n",
    "    inv_mass_matrix = inv_mass_matrix / numpy.max(list(scale_dict.values()))\n",
    "\n",
    "    return inv_mass_matrix\n",
    "\n",
    "# inv_mass_matrix = construct_inv_mass(pars_)"
   ]
  },
  {
   "cell_type": "code",
   "execution_count": 4,
   "id": "0608c1cf",
   "metadata": {},
   "outputs": [],
   "source": [
    "regressors = glm.get_regressors(fr)\n",
    "target_spk = np.array(fr[unit_str].values)"
   ]
  },
  {
   "cell_type": "code",
   "execution_count": 62,
   "id": "1ec17197",
   "metadata": {},
   "outputs": [
    {
     "name": "stdout",
     "output_type": "stream",
     "text": [
      "CPU times: user 1min 1s, sys: 18.2 s, total: 1min 19s\n",
      "Wall time: 1min 25s\n"
     ]
    }
   ],
   "source": [
    "%%time\n",
    "key = jax.random.PRNGKey(1)\n",
    "K=3\n",
    "Nchains=1\n",
    "Nsamples = 4000\n",
    "pars_trans_init=glm.random_init_jax(key,regressors,nfields=K,uncentered=True)\n",
    "reg_pars = gm.get_reg_pars({'g_w':10.,'g_b':10.,'g_sigma_thresh':100000.,'sigma_thresh':3,'g_sigma_shrinkage':10.})\n",
    "key = jax.random.PRNGKey(0)\n",
    "key_l = jax.random.split(key,num=Nchains)\n",
    "pars_trans_init_multi=jax.vmap(glm.random_init_jax,in_axes=(0,None,None))(key_l,regressors,K)\n",
    "\n",
    "pars_sim_init_one = glm.random_init_jax(key,regressors,K)\n",
    "nparams = len(jax.flatten_util.ravel_pytree(pars_sim_init_one)[0])\n",
    "\n",
    "inv_mass_matrix = construct_inv_mass(pars_sim_init_one)\n",
    "# inv_mass_matrix = np.ones(nparams)\n",
    "\n",
    "step_size = 1e-3#2e-3\n",
    "sampler_func = blackjax.hmc\n",
    "sampler_kw = {'step_size':step_size,'inv_mass_matrix':inv_mass_matrix,'num_integration_steps':30}\n",
    "\n",
    "\n",
    "states,infos = glm.fit_multichain(regressors,pars_trans_init_multi,target_spk, reg_pars=reg_pars,reg_type='gaussian_logprior_laplacian' ,sampler_func=sampler_func,sampler_kw=sampler_kw,num_samples=Nsamples,rng_key_int=0)\n",
    "samples = states.position\n",
    "try:\n",
    "    logprob=states.logprob\n",
    "    logprob_grad =states.logprob_grad \n",
    "except:\n",
    "    logprob=-states.potential_energy\n",
    "    logprob_grad =states.potential_energy_grad\n"
   ]
  },
  {
   "cell_type": "code",
   "execution_count": 32,
   "id": "1de93d05",
   "metadata": {
    "collapsed": true
   },
   "outputs": [
    {
     "data": {
      "text/plain": [
       "array([  0.99860207,   3.32867358,   5.5477893 ,   7.76690503,\n",
       "         9.98602075,  12.20513647,  14.42425219,  16.64336791,\n",
       "        18.86248363,  21.08159935,  23.30071508,  25.5198308 ,\n",
       "        27.73894652,  29.95806224,  32.17717796,  34.39629368,\n",
       "        36.6154094 ,  38.83452513,  41.05364085,  43.27275657,\n",
       "        45.49187229,  47.71098801,  49.93010373,  52.14921946,\n",
       "        54.36833518,  56.5874509 ,  58.80656662,  61.02568234,\n",
       "        63.24479806,  65.46391378,  67.68302951,  69.90214523,\n",
       "        72.12126095,  74.34037667,  76.55949239,  78.77860811,\n",
       "        80.99772383,  83.21683956,  85.43595528,  87.655071  ,\n",
       "        89.87418672,  92.09330244,  94.31241816,  96.53153389,\n",
       "        98.75064961, 100.96976533, 103.18888105, 105.40799677,\n",
       "       107.62711249, 109.84622821, 112.06534394, 114.28445966,\n",
       "       116.50357538, 118.7226911 , 120.94180682, 123.16092254,\n",
       "       125.38003827, 127.59915399, 129.81826971, 132.03738543,\n",
       "       134.25650115, 136.47561687, 138.69473259, 140.91384832,\n",
       "       143.13296404, 145.35207976, 147.57119548, 149.7903112 ,\n",
       "       152.00942692, 154.22854264, 156.44765837, 158.66677409,\n",
       "       160.88588981, 163.10500553, 165.32412125, 167.54323697,\n",
       "       169.7623527 , 171.98146842, 174.20058414, 176.41969986,\n",
       "       178.63881558, 180.8579313 , 183.07704702, 185.29616275,\n",
       "       187.51527847, 189.73439419, 191.95350991, 194.17262563,\n",
       "       196.39174135, 198.61085707, 200.8299728 , 203.04908852,\n",
       "       205.26820424, 207.48731996, 209.70643568, 211.9255514 ,\n",
       "       214.14466713, 216.36378285, 218.58289857, 220.80201429])"
      ]
     },
     "execution_count": 32,
     "metadata": {},
     "output_type": "execute_result"
    }
   ],
   "source": [
    "bin_to_lin"
   ]
  },
  {
   "cell_type": "code",
   "execution_count": 63,
   "id": "21e84457",
   "metadata": {},
   "outputs": [],
   "source": [
    "pars_trans_one=glmh.get_one_sample(-1,samples,chain_ind=0)\n",
    "pars_one = glm.pars_invtransform(pars_trans_one,regressors)"
   ]
  },
  {
   "cell_type": "code",
   "execution_count": 65,
   "id": "1f49bd2b",
   "metadata": {},
   "outputs": [],
   "source": [
    "np.set_printoptions(precision=3,suppress=True)"
   ]
  },
  {
   "cell_type": "code",
   "execution_count": 66,
   "id": "dcd5e90e",
   "metadata": {},
   "outputs": [
    {
     "data": {
      "text/plain": [
       "{'mus': DeviceArray([[ 32.974, 149.552, 173.054],\n",
       "              [ 14.763,  61.44 , 164.689]], dtype=float32),\n",
       " 'sigmas': DeviceArray([[15.265,  2.958,  6.052],\n",
       "              [12.15 , 12.914,  2.95 ]], dtype=float32),\n",
       " 'ws_bar': DeviceArray([[15.942, 25.945,  8.997],\n",
       "              [11.681, 18.268, 56.108]], dtype=float32),\n",
       " 'ws': DeviceArray([[13.315, 11.57 , 14.343],\n",
       "              [ 0.   , 34.046, 39.582],\n",
       "              [ 4.799, 12.49 ,  0.004],\n",
       "              [ 0.   , 16.991, 70.16 ],\n",
       "              [16.793, 27.772, 10.65 ],\n",
       "              [ 6.158, 24.048, 67.463],\n",
       "              [ 0.962, 43.653, 10.624],\n",
       "              [ 7.519, 31.659, 61.7  ],\n",
       "              [ 8.168,  7.64 , 68.618],\n",
       "              [ 0.003,  1.813, 61.135],\n",
       "              [ 0.005, 26.799, 58.233],\n",
       "              [ 1.91 , 32.966, 11.96 ],\n",
       "              [ 0.629, 42.053,  0.939],\n",
       "              [16.698, 14.29 ,  5.009],\n",
       "              [ 4.878, 26.987, 59.712],\n",
       "              [17.258, 28.377, 24.27 ],\n",
       "              [ 0.52 ,  4.089, 59.69 ],\n",
       "              [20.624, 13.881,  6.815],\n",
       "              [ 1.715, 22.865, 28.727],\n",
       "              [ 0.009,  7.298, 52.025],\n",
       "              [20.133,  9.587, 15.897],\n",
       "              [11.024, 20.778, 20.792],\n",
       "              [ 0.1  , 18.649, 75.706],\n",
       "              [12.973, 18.535,  9.255],\n",
       "              [18.408, 12.025, 20.991],\n",
       "              [ 0.031, 20.378, 67.286],\n",
       "              [ 0.18 ,  7.571,  2.588],\n",
       "              [23.972, 37.792, 10.872],\n",
       "              [ 2.564, 24.078,  0.   ],\n",
       "              [ 0.111, 16.11 ,  2.723],\n",
       "              [13.197, 40.302,  1.576],\n",
       "              [ 2.032, 32.302,  0.   ],\n",
       "              [ 8.935,  0.863, 52.765],\n",
       "              [ 4.562, 20.384, 16.728],\n",
       "              [13.761,  7.119, 37.577]], dtype=float32),\n",
       " 'b_bar': DeviceArray([[2.322]], dtype=float32),\n",
       " 'b': DeviceArray([[2.629],\n",
       "              [4.142],\n",
       "              [3.648],\n",
       "              [1.526],\n",
       "              [2.555],\n",
       "              [2.267],\n",
       "              [2.367],\n",
       "              [3.655],\n",
       "              [1.77 ],\n",
       "              [3.492],\n",
       "              [1.266],\n",
       "              [1.08 ],\n",
       "              [1.638],\n",
       "              [1.29 ],\n",
       "              [1.591],\n",
       "              [0.989],\n",
       "              [1.262],\n",
       "              [0.895],\n",
       "              [1.412],\n",
       "              [2.975],\n",
       "              [2.676],\n",
       "              [2.032],\n",
       "              [1.69 ],\n",
       "              [3.821],\n",
       "              [0.794],\n",
       "              [3.89 ],\n",
       "              [2.842],\n",
       "              [1.517],\n",
       "              [1.385],\n",
       "              [2.177],\n",
       "              [1.079],\n",
       "              [2.948],\n",
       "              [1.161],\n",
       "              [1.78 ],\n",
       "              [3.362]], dtype=float32)}"
      ]
     },
     "execution_count": 66,
     "metadata": {},
     "output_type": "execute_result"
    }
   ],
   "source": [
    "pars_one"
   ]
  },
  {
   "cell_type": "code",
   "execution_count": 26,
   "id": "0b7e3eea",
   "metadata": {},
   "outputs": [
    {
     "data": {
      "text/plain": [
       "{'mus': DeviceArray([[ 67.15722 , 174.0375  ],\n",
       "              [ 27.420559, 130.6225  ]], dtype=float32),\n",
       " 'sigmas': DeviceArray([[11.315146 ,  8.33711  ],\n",
       "              [ 7.1242733,  2.9689631]], dtype=float32),\n",
       " 'ws_bar': DeviceArray([[32.35521, 33.16379],\n",
       "              [84.99529, 81.46671]], dtype=float32),\n",
       " 'ws': DeviceArray([[ 34.093674,  28.052761],\n",
       "              [ 65.90848 ,  95.72493 ],\n",
       "              [ 38.34195 ,  39.380615],\n",
       "              [ 80.13147 ,  68.80911 ],\n",
       "              [ 22.812092,  42.429844],\n",
       "              [ 83.48888 ,  81.57813 ],\n",
       "              [ 36.304226,  39.218643],\n",
       "              [ 66.1466  ,  71.30328 ],\n",
       "              [ 73.70008 ,  96.65742 ],\n",
       "              [ 90.63213 ,  85.87275 ],\n",
       "              [ 67.37812 ,  87.5833  ],\n",
       "              [ 13.153591,  49.419426],\n",
       "              [ 24.266888,  41.923584],\n",
       "              [ 48.83875 ,  21.694721],\n",
       "              [ 80.660034,  70.68675 ],\n",
       "              [ 35.15022 ,  32.497242],\n",
       "              [100.990295,  81.15074 ],\n",
       "              [ 26.309742,  43.26847 ],\n",
       "              [ 29.205349,  45.291756],\n",
       "              [ 97.9071  ,  82.86017 ],\n",
       "              [ 39.052856,  34.558895],\n",
       "              [ 15.912792,  22.148464],\n",
       "              [ 81.9538  ,  80.173416],\n",
       "              [ 16.3624  ,  42.08167 ],\n",
       "              [ 28.437292,  34.499844],\n",
       "              [ 82.636116,  79.849686],\n",
       "              [ 39.439255,  28.802505],\n",
       "              [ 49.111862,  13.793939],\n",
       "              [ 23.69523 ,  31.238346],\n",
       "              [ 38.036995,  31.80519 ],\n",
       "              [ 19.587002,  19.853676],\n",
       "              [ 17.705587,  35.590927],\n",
       "              [ 93.97889 ,  69.197044],\n",
       "              [ 13.607036,  35.280174],\n",
       "              [ 81.269035,  92.41197 ]], dtype=float32),\n",
       " 'b_bar': DeviceArray([[2.2563906]], dtype=float32),\n",
       " 'b': DeviceArray([[2.341689  ],\n",
       "              [3.5252578 ],\n",
       "              [3.1562328 ],\n",
       "              [1.3761642 ],\n",
       "              [2.0485182 ],\n",
       "              [1.9606161 ],\n",
       "              [2.0680873 ],\n",
       "              [2.753267  ],\n",
       "              [2.134818  ],\n",
       "              [3.4598038 ],\n",
       "              [1.6156336 ],\n",
       "              [1.676406  ],\n",
       "              [1.4675843 ],\n",
       "              [1.0111698 ],\n",
       "              [2.2531857 ],\n",
       "              [0.8262965 ],\n",
       "              [1.38866   ],\n",
       "              [0.8914373 ],\n",
       "              [1.1423519 ],\n",
       "              [2.9825075 ],\n",
       "              [2.6938128 ],\n",
       "              [2.231502  ],\n",
       "              [2.069765  ],\n",
       "              [2.9810889 ],\n",
       "              [0.76872504],\n",
       "              [3.6148798 ],\n",
       "              [1.9501868 ],\n",
       "              [1.3593922 ],\n",
       "              [1.1290517 ],\n",
       "              [1.5507526 ],\n",
       "              [0.91445374],\n",
       "              [2.786723  ],\n",
       "              [1.8151611 ],\n",
       "              [1.6662878 ],\n",
       "              [3.1553736 ]], dtype=float32)}"
      ]
     },
     "execution_count": 26,
     "metadata": {},
     "output_type": "execute_result"
    }
   ],
   "source": [
    "pars_one"
   ]
  },
  {
   "cell_type": "code",
   "execution_count": 53,
   "id": "31dc95bc",
   "metadata": {},
   "outputs": [
    {
     "data": {
      "text/plain": [
       "[<matplotlib.lines.Line2D at 0x155048033820>]"
      ]
     },
     "execution_count": 53,
     "metadata": {},
     "output_type": "execute_result"
    },
    {
     "data": {
      "image/png": "[encoded data removed]",
      "text/plain": [
       "<Figure size 432x288 with 1 Axes>"
      ]
     },
     "metadata": {
      "needs_background": "light"
     },
     "output_type": "display_data"
    }
   ],
   "source": [
    "plt.plot(logprob)"
   ]
  },
  {
   "cell_type": "code",
   "execution_count": 55,
   "id": "cb18d0e2",
   "metadata": {
    "scrolled": true
   },
   "outputs": [
    {
     "data": {
      "text/plain": [
       "[<matplotlib.lines.Line2D at 0x155039a6daf0>]"
      ]
     },
     "execution_count": 55,
     "metadata": {},
     "output_type": "execute_result"
    },
    {
     "data": {
      "image/png": "[encoded data removed]",
      "text/plain": [
       "<Figure size 432x288 with 1 Axes>"
      ]
     },
     "metadata": {
      "needs_background": "light"
     },
     "output_type": "display_data"
    }
   ],
   "source": [
    "plt.plot(infos.is_accepted[:])"
   ]
  },
  {
   "cell_type": "code",
   "execution_count": 92,
   "id": "71b4e9a3",
   "metadata": {},
   "outputs": [
    {
     "data": {
      "text/plain": [
       "dict_keys(['delta_ws', 'delta_b', 'logws_bar', 'logb_bar', 'logsigmas', 'mus'])"
      ]
     },
     "execution_count": 92,
     "metadata": {},
     "output_type": "execute_result"
    }
   ],
   "source": [
    "pars_trans_init.keys()"
   ]
  },
  {
   "cell_type": "code",
   "execution_count": 115,
   "id": "eb78e6a0",
   "metadata": {},
   "outputs": [
    {
     "ename": "IndexError",
     "evalue": "Too many indices for array: 2 non-None/Ellipsis indices for dim 1.",
     "output_type": "error",
     "traceback": [
      "\u001b[0;31m---------------------------------------------------------------------------\u001b[0m",
      "\u001b[0;31mIndexError\u001b[0m                                Traceback (most recent call last)",
      "Input \u001b[0;32mIn [115]\u001b[0m, in \u001b[0;36m<cell line: 1>\u001b[0;34m()\u001b[0m\n\u001b[0;32m----> 1\u001b[0m \u001b[43mpars_one\u001b[49m\u001b[43m[\u001b[49m\u001b[38;5;124;43m'\u001b[39;49m\u001b[38;5;124;43mmus\u001b[39;49m\u001b[38;5;124;43m'\u001b[39;49m\u001b[43m]\u001b[49m\u001b[43m[\u001b[49m\u001b[43m[\u001b[49m\u001b[38;5;241;43m0\u001b[39;49m\u001b[43m]\u001b[49m\u001b[43m,\u001b[49m\u001b[43m:\u001b[49m\u001b[43m]\u001b[49m\n",
      "File \u001b[0;32m~/ceph/envs/jax/lib/python3.9/site-packages/jax/_src/numpy/lax_numpy.py:3569\u001b[0m, in \u001b[0;36m_rewriting_take\u001b[0;34m(arr, idx, indices_are_sorted, unique_indices, mode, fill_value)\u001b[0m\n\u001b[1;32m   3566\u001b[0m   \u001b[38;5;28;01mreturn\u001b[39;00m _getslice(arr, start, stop)\n\u001b[1;32m   3568\u001b[0m treedef, static_idx, dynamic_idx \u001b[38;5;241m=\u001b[39m _split_index_for_jit(idx, arr\u001b[38;5;241m.\u001b[39mshape)\n\u001b[0;32m-> 3569\u001b[0m \u001b[38;5;28;01mreturn\u001b[39;00m \u001b[43m_gather\u001b[49m\u001b[43m(\u001b[49m\u001b[43marr\u001b[49m\u001b[43m,\u001b[49m\u001b[43m \u001b[49m\u001b[43mtreedef\u001b[49m\u001b[43m,\u001b[49m\u001b[43m \u001b[49m\u001b[43mstatic_idx\u001b[49m\u001b[43m,\u001b[49m\u001b[43m \u001b[49m\u001b[43mdynamic_idx\u001b[49m\u001b[43m,\u001b[49m\u001b[43m \u001b[49m\u001b[43mindices_are_sorted\u001b[49m\u001b[43m,\u001b[49m\n\u001b[1;32m   3570\u001b[0m \u001b[43m               \u001b[49m\u001b[43munique_indices\u001b[49m\u001b[43m,\u001b[49m\u001b[43m \u001b[49m\u001b[43mmode\u001b[49m\u001b[43m,\u001b[49m\u001b[43m \u001b[49m\u001b[43mfill_value\u001b[49m\u001b[43m)\u001b[49m\n",
      "File \u001b[0;32m~/ceph/envs/jax/lib/python3.9/site-packages/jax/_src/numpy/lax_numpy.py:3578\u001b[0m, in \u001b[0;36m_gather\u001b[0;34m(arr, treedef, static_idx, dynamic_idx, indices_are_sorted, unique_indices, mode, fill_value)\u001b[0m\n\u001b[1;32m   3575\u001b[0m \u001b[38;5;28;01mdef\u001b[39;00m \u001b[38;5;21m_gather\u001b[39m(arr, treedef, static_idx, dynamic_idx, indices_are_sorted,\n\u001b[1;32m   3576\u001b[0m             unique_indices, mode, fill_value):\n\u001b[1;32m   3577\u001b[0m   idx \u001b[38;5;241m=\u001b[39m _merge_static_and_dynamic_indices(treedef, static_idx, dynamic_idx)\n\u001b[0;32m-> 3578\u001b[0m   indexer \u001b[38;5;241m=\u001b[39m \u001b[43m_index_to_gather\u001b[49m\u001b[43m(\u001b[49m\u001b[43mshape\u001b[49m\u001b[43m(\u001b[49m\u001b[43marr\u001b[49m\u001b[43m)\u001b[49m\u001b[43m,\u001b[49m\u001b[43m \u001b[49m\u001b[43midx\u001b[49m\u001b[43m)\u001b[49m  \u001b[38;5;66;03m# shared with _scatter_update\u001b[39;00m\n\u001b[1;32m   3579\u001b[0m   y \u001b[38;5;241m=\u001b[39m arr\n\u001b[1;32m   3581\u001b[0m   \u001b[38;5;28;01mif\u001b[39;00m fill_value \u001b[38;5;129;01mis\u001b[39;00m \u001b[38;5;129;01mnot\u001b[39;00m \u001b[38;5;28;01mNone\u001b[39;00m:\n",
      "File \u001b[0;32m~/ceph/envs/jax/lib/python3.9/site-packages/jax/_src/numpy/lax_numpy.py:3679\u001b[0m, in \u001b[0;36m_index_to_gather\u001b[0;34m(x_shape, idx, normalize_indices)\u001b[0m\n\u001b[1;32m   3677\u001b[0m \u001b[38;5;28;01mdef\u001b[39;00m \u001b[38;5;21m_index_to_gather\u001b[39m(x_shape, idx, normalize_indices\u001b[38;5;241m=\u001b[39m\u001b[38;5;28;01mTrue\u001b[39;00m):\n\u001b[1;32m   3678\u001b[0m   \u001b[38;5;66;03m# Remove ellipses and add trailing slice(None)s.\u001b[39;00m\n\u001b[0;32m-> 3679\u001b[0m   idx \u001b[38;5;241m=\u001b[39m \u001b[43m_canonicalize_tuple_index\u001b[49m\u001b[43m(\u001b[49m\u001b[38;5;28;43mlen\u001b[39;49m\u001b[43m(\u001b[49m\u001b[43mx_shape\u001b[49m\u001b[43m)\u001b[49m\u001b[43m,\u001b[49m\u001b[43m \u001b[49m\u001b[43midx\u001b[49m\u001b[43m)\u001b[49m\n\u001b[1;32m   3681\u001b[0m   \u001b[38;5;66;03m# Check for advanced indexing:\u001b[39;00m\n\u001b[1;32m   3682\u001b[0m   \u001b[38;5;66;03m# https://docs.scipy.org/doc/numpy/reference/arrays.indexing.html#advanced-indexing\u001b[39;00m\n\u001b[1;32m   3683\u001b[0m \n\u001b[1;32m   3684\u001b[0m   \u001b[38;5;66;03m# Do the advanced indexing axes appear contiguously? If not, NumPy semantics\u001b[39;00m\n\u001b[1;32m   3685\u001b[0m   \u001b[38;5;66;03m# move the advanced axes to the front.\u001b[39;00m\n\u001b[1;32m   3686\u001b[0m   advanced_axes_are_contiguous \u001b[38;5;241m=\u001b[39m \u001b[38;5;28;01mFalse\u001b[39;00m\n",
      "File \u001b[0;32m~/ceph/envs/jax/lib/python3.9/site-packages/jax/_src/numpy/lax_numpy.py:4012\u001b[0m, in \u001b[0;36m_canonicalize_tuple_index\u001b[0;34m(arr_ndim, idx, array_name)\u001b[0m\n\u001b[1;32m   4010\u001b[0m len_without_none \u001b[38;5;241m=\u001b[39m _sum(\u001b[38;5;241m1\u001b[39m \u001b[38;5;28;01mfor\u001b[39;00m e \u001b[38;5;129;01min\u001b[39;00m idx \u001b[38;5;28;01mif\u001b[39;00m e \u001b[38;5;129;01mis\u001b[39;00m \u001b[38;5;129;01mnot\u001b[39;00m \u001b[38;5;28;01mNone\u001b[39;00m \u001b[38;5;129;01mand\u001b[39;00m e \u001b[38;5;129;01mis\u001b[39;00m \u001b[38;5;129;01mnot\u001b[39;00m \u001b[38;5;28mEllipsis\u001b[39m)\n\u001b[1;32m   4011\u001b[0m \u001b[38;5;28;01mif\u001b[39;00m len_without_none \u001b[38;5;241m>\u001b[39m arr_ndim:\n\u001b[0;32m-> 4012\u001b[0m   \u001b[38;5;28;01mraise\u001b[39;00m \u001b[38;5;167;01mIndexError\u001b[39;00m(\n\u001b[1;32m   4013\u001b[0m       \u001b[38;5;124mf\u001b[39m\u001b[38;5;124m\"\u001b[39m\u001b[38;5;124mToo many indices for \u001b[39m\u001b[38;5;132;01m{\u001b[39;00marray_name\u001b[38;5;132;01m}\u001b[39;00m\u001b[38;5;124m: \u001b[39m\u001b[38;5;132;01m{\u001b[39;00mlen_without_none\u001b[38;5;132;01m}\u001b[39;00m\u001b[38;5;124m \u001b[39m\u001b[38;5;124m\"\u001b[39m\n\u001b[1;32m   4014\u001b[0m       \u001b[38;5;124mf\u001b[39m\u001b[38;5;124m\"\u001b[39m\u001b[38;5;124mnon-None/Ellipsis indices for dim \u001b[39m\u001b[38;5;132;01m{\u001b[39;00marr_ndim\u001b[38;5;132;01m}\u001b[39;00m\u001b[38;5;124m.\u001b[39m\u001b[38;5;124m\"\u001b[39m)\n\u001b[1;32m   4015\u001b[0m ellipses \u001b[38;5;241m=\u001b[39m (i \u001b[38;5;28;01mfor\u001b[39;00m i, elt \u001b[38;5;129;01min\u001b[39;00m \u001b[38;5;28menumerate\u001b[39m(idx) \u001b[38;5;28;01mif\u001b[39;00m elt \u001b[38;5;129;01mis\u001b[39;00m \u001b[38;5;28mEllipsis\u001b[39m)\n\u001b[1;32m   4016\u001b[0m ellipsis_index \u001b[38;5;241m=\u001b[39m \u001b[38;5;28mnext\u001b[39m(ellipses, \u001b[38;5;28;01mNone\u001b[39;00m)\n",
      "\u001b[0;31mIndexError\u001b[0m: Too many indices for array: 2 non-None/Ellipsis indices for dim 1."
     ]
    }
   ],
   "source": [
    "pars_one['mus'][[0],:]"
   ]
  },
  {
   "cell_type": "code",
   "execution_count": 139,
   "id": "27f0916d",
   "metadata": {},
   "outputs": [],
   "source": [
    "def split_par_trial_type(pars,regressors,type_keys = ['mus','sigmas','logsigmas','logws_bar','logb_bar'], trial_keys=['delta_ws','delta_b','ws','b']):\n",
    "    pars_dict = {}\n",
    "    for k,inds in regressors['trial_type_inds'].items():\n",
    "        pars_dict[k] = {}\n",
    "        for kk in pars.keys():\n",
    "            if kk in type_keys:\n",
    "                pars_dict[k][kk] = pars[kk][int(k)][None,:]\n",
    "            elif kk in trial_keys:\n",
    "                pars_dict[k][kk] = pars[kk][inds]\n",
    "    return pars_dict"
   ]
  },
  {
   "cell_type": "code",
   "execution_count": 140,
   "id": "53fb777e",
   "metadata": {},
   "outputs": [
    {
     "data": {
      "text/plain": [
       "DeviceArray([[  3.097,  69.764, 136.431]], dtype=float32)"
      ]
     },
     "execution_count": 140,
     "metadata": {},
     "output_type": "execute_result"
    }
   ],
   "source": [
    "split_par_trial_type(pars_trans_init,regressors)[0]['mus']"
   ]
  },
  {
   "cell_type": "code",
   "execution_count": 155,
   "id": "54370a4e",
   "metadata": {},
   "outputs": [
    {
     "name": "stdout",
     "output_type": "stream",
     "text": [
      "{'delta_b': DeviceArray([[ 0.335],\n",
      "             [ 1.403],\n",
      "             [ 0.255],\n",
      "             [ 0.049],\n",
      "             [-1.554],\n",
      "             [-0.797],\n",
      "             [-1.251],\n",
      "             [-1.695],\n",
      "             [-1.85 ],\n",
      "             [-1.086],\n",
      "             [ 0.386],\n",
      "             [-0.327],\n",
      "             [ 1.579],\n",
      "             [-2.027],\n",
      "             [ 0.563],\n",
      "             [-0.95 ],\n",
      "             [-1.122],\n",
      "             [-0.162],\n",
      "             [-1.555],\n",
      "             [ 0.675],\n",
      "             [-0.624]], dtype=float32), 'delta_ws': DeviceArray([[ -2.627, -14.376,   5.345],\n",
      "             [-11.151, -13.455, -14.572],\n",
      "             [  0.851,   1.826,   1.652],\n",
      "             [-15.462,  17.707,   1.627],\n",
      "             [-14.192,   7.021,   2.963],\n",
      "             [-16.074,  16.108,  -8.555],\n",
      "             [  0.756, -11.655,  -3.995],\n",
      "             [  1.316,   2.432,  15.272],\n",
      "             [  4.682, -12.065,  -2.183],\n",
      "             [-14.425,  -3.08 ,  19.73 ],\n",
      "             [  4.191, -16.359,   6.9  ],\n",
      "             [ -4.918,  -5.168,  11.794],\n",
      "             [ -2.969,  -7.411,   0.258],\n",
      "             [  2.466, -13.92 ,  11.994],\n",
      "             [-17.563, -18.375,  -6.487],\n",
      "             [  8.03 ,  11.847,   1.875],\n",
      "             [-13.459,  -1.867, -18.795],\n",
      "             [-18.089,  -9.835,  -6.342],\n",
      "             [ -2.746,  14.356,  -7.653],\n",
      "             [-14.05 ,   6.357, -18.915],\n",
      "             [-11.391,  -5.561,   7.731]], dtype=float32), 'logb_bar': DeviceArray([[2.219]], dtype=float32), 'logsigmas': DeviceArray([[15.265,  2.905,  6.049]], dtype=float32), 'logws_bar': DeviceArray([[15.942, 25.945,  8.997]], dtype=float32), 'mus': DeviceArray([[ 32.974, 149.552, 173.054]], dtype=float32)}\n"
     ]
    },
    {
     "data": {
      "image/png": "[encoded data removed]",
      "text/plain": [
       "<Figure size 288x720 with 5 Axes>"
      ]
     },
     "metadata": {
      "needs_background": "light"
     },
     "output_type": "display_data"
    }
   ],
   "source": [
    "samples_dict = vmap(vmap(split_par_trial_type,in_axes=(0,None)),in_axes=(0,None))(samples,regressors)\n",
    "samples_ = samples_dict[0]\n",
    "nrows=5\n",
    "ncols=1\n",
    "fig = plt.figure(figsize=(ncols*4,nrows*2))\n",
    "\n",
    "ax = fig.add_subplot(nrows,ncols,1)\n",
    "ax.plot(logprob)\n",
    "ax = fig.add_subplot(nrows,ncols,2)\n",
    "fig,ax=pmc.plot_one_trial_one_par('mus',None,samples_,fig=fig,ax=ax)\n",
    "ax.set_title('mu')\n",
    "ax = fig.add_subplot(nrows,ncols,3)\n",
    "fig,ax=pmc.plot_one_trial_one_par('logsigmas',None,samples_,fig=fig,ax=ax)\n",
    "ax.set_title('logsigma')\n",
    "\n",
    "ax = fig.add_subplot(nrows,ncols,4)\n",
    "# fig,ax=pmc.plot_one_trial_one_par('logws',0,samples_,fig=fig,ax=ax)\n",
    "fig,ax=pmc.plot_one_trial_one_par('logws_bar',None,samples_,fig=fig,ax=ax)\n",
    "ax.set_title('logw')\n",
    "\n",
    "\n",
    "\n",
    "loss_args=[regressors,pars_one,target_spk]\n",
    "loss_kwargs={'reg_pars':reg_pars,'reg_type':'gaussian_logprior_laplacian'}\n",
    "sample_ind=-1\n",
    "pars_one = glmh.get_one_sample(sample_ind,samples_,chain_ind=0)\n",
    "print(pars_one)\n",
    "val_l = numpy.arange(0,220,10).astype(float)\n",
    "field_ind=0\n",
    "loss_l=pmc.loss_landscape_1d(pars_one,'mus',field_ind,val_l,par_arg_index=1,loss_func=glm.negative_logpdf_no_reg,loss_args=loss_args,loss_kwargs=loss_kwargs)\n",
    "ax = fig.add_subplot(nrows,ncols,5)\n",
    "ax.plot(val_l,loss_l)\n",
    "ax.set_title('loss landscape')\n",
    "plt.tight_layout()\n",
    "\n"
   ]
  },
  {
   "cell_type": "code",
   "execution_count": 124,
   "id": "60271001",
   "metadata": {},
   "outputs": [
    {
     "data": {
      "text/plain": [
       "(4000, 1, 2, 3)"
      ]
     },
     "execution_count": 124,
     "metadata": {},
     "output_type": "execute_result"
    }
   ],
   "source": [
    "samples_['mus'].shape"
   ]
  },
  {
   "cell_type": "code",
   "execution_count": 190,
   "id": "ce26ead6",
   "metadata": {},
   "outputs": [],
   "source": [
    "par_trans_one=glmh.get_one_sample(-1,samples,chain_ind=0)\n",
    "par_trans_one_dict = split_par_trial_type(par_trans_one,regressors)"
   ]
  },
  {
   "cell_type": "code",
   "execution_count": 216,
   "id": "43c97dc6",
   "metadata": {
    "scrolled": true
   },
   "outputs": [],
   "source": [
    "reload(glmh)\n",
    "fr_map_hat = glmh.get_prediction_one(par_trans_one_dict[1],regressors,nbins=220)"
   ]
  },
  {
   "cell_type": "code",
   "execution_count": 217,
   "id": "7b2e7a94",
   "metadata": {},
   "outputs": [
    {
     "data": {
      "text/plain": [
       "<matplotlib.image.AxesImage at 0x155028a249a0>"
      ]
     },
     "execution_count": 217,
     "metadata": {},
     "output_type": "execute_result"
    },
    {
     "data": {
      "image/png": "[encoded data removed]",
      "text/plain": [
       "<Figure size 432x288 with 1 Axes>"
      ]
     },
     "metadata": {
      "needs_background": "light"
     },
     "output_type": "display_data"
    }
   ],
   "source": [
    "plt.imshow(fr_map_hat.T,aspect='auto')"
   ]
  },
  {
   "cell_type": "code",
   "execution_count": 206,
   "id": "b64bd347",
   "metadata": {},
   "outputs": [],
   "source": [
    "xticks = np.arange(0,101,20)"
   ]
  },
  {
   "cell_type": "code",
   "execution_count": 211,
   "id": "6ae63026",
   "metadata": {},
   "outputs": [
    {
     "data": {
      "text/plain": [
       "DeviceArray([ 0, 20, 40, 60, 80], dtype=int32)"
      ]
     },
     "execution_count": 211,
     "metadata": {},
     "output_type": "execute_result"
    }
   ],
   "source": [
    "xticks"
   ]
  },
  {
   "cell_type": "code",
   "execution_count": 210,
   "id": "20c735b2",
   "metadata": {
    "scrolled": true
   },
   "outputs": [
    {
     "name": "stderr",
     "output_type": "stream",
     "text": [
      "/tmp/ipykernel_180037/2025194880.py:1: FutureWarning: Using a non-tuple sequence for multidimensional indexing is deprecated; use `arr[tuple(seq)]` instead of `arr[seq]`. In the future this will be interpreted as an array index, `arr[np.array(seq)]`, which will result either in an error or a different result.\n",
      "  bin_to_lin[xticks]\n"
     ]
    },
    {
     "ename": "IndexError",
     "evalue": "too many indices for array: array is 1-dimensional, but 5 were indexed",
     "output_type": "error",
     "traceback": [
      "\u001b[0;31m---------------------------------------------------------------------------\u001b[0m",
      "\u001b[0;31mIndexError\u001b[0m                                Traceback (most recent call last)",
      "Input \u001b[0;32mIn [210]\u001b[0m, in \u001b[0;36m<cell line: 1>\u001b[0;34m()\u001b[0m\n\u001b[0;32m----> 1\u001b[0m \u001b[43mbin_to_lin\u001b[49m\u001b[43m[\u001b[49m\u001b[43mxticks\u001b[49m\u001b[43m]\u001b[49m\n",
      "\u001b[0;31mIndexError\u001b[0m: too many indices for array: array is 1-dimensional, but 5 were indexed"
     ]
    }
   ],
   "source": [
    "bin_to_lin[]"
   ]
  },
  {
   "cell_type": "code",
   "execution_count": 215,
   "id": "dafff959",
   "metadata": {},
   "outputs": [
    {
     "data": {
      "text/plain": [
       "[Text(0, 0, '0'),\n",
       " Text(10, 0, '23'),\n",
       " Text(20, 0, '45'),\n",
       " Text(30, 0, '67'),\n",
       " Text(40, 0, '89'),\n",
       " Text(50, 0, '112'),\n",
       " Text(60, 0, '134'),\n",
       " Text(70, 0, '156'),\n",
       " Text(80, 0, '178'),\n",
       " Text(90, 0, '200'),\n",
       " Text(100, 0, '220')]"
      ]
     },
     "execution_count": 215,
     "metadata": {},
     "output_type": "execute_result"
    },
    {
     "data": {
      "image/png": "[encoded data removed]",
      "text/plain": [
       "<Figure size 432x288 with 2 Axes>"
      ]
     },
     "metadata": {
      "needs_background": "light"
     },
     "output_type": "display_data"
    }
   ],
   "source": [
    "fig,ax=plt.subplots(2,1,sharex=True)\n",
    "ax[0].imshow(fr_map_[0][unit_ind_in_pyr].T,aspect='auto')\n",
    "ax[1].imshow(fr_map_[1][unit_ind_in_pyr].T,aspect='auto')\n",
    "xticks = np.arange(0,101,10)\n",
    "xticklabels = np.array(bin_to_lin)[xticks].astype(int)\n",
    "ax[1].set_xticks(xticks)\n",
    "ax[1].set_xticklabels(xticklabels)"
   ]
  },
  {
   "cell_type": "code",
   "execution_count": null,
   "id": "88723cf6",
   "metadata": {},
   "outputs": [],
   "source": []
  }
 ],
 "metadata": {
  "kernelspec": {
   "display_name": "jax",
   "language": "python",
   "name": "jax"
  },
  "language_info": {
   "codemirror_mode": {
    "name": "ipython",
    "version": 3
   },
   "file_extension": ".py",
   "mimetype": "text/x-python",
   "name": "python",
   "nbconvert_exporter": "python",
   "pygments_lexer": "ipython3",
   "version": "3.9.13"
  }
 },
 "nbformat": 4,
 "nbformat_minor": 5
}
