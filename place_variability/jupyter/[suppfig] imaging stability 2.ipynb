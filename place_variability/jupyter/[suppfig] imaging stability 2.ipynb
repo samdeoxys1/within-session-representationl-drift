{
 "cells": [
  {
   "cell_type": "code",
   "execution_count": 1,
   "id": "8faebfe1",
   "metadata": {},
   "outputs": [
    {
     "name": "stdout",
     "output_type": "stream",
     "text": [
      "67 sessions!\n",
      "67 sessions!\n"
     ]
    }
   ],
   "source": [
    "import numpy as np\n",
    "import scipy\n",
    "import sklearn\n",
    "from sklearn.decomposition import NMF\n",
    "from sklearn.cluster import KMeans\n",
    "from sklearn.mixture import GaussianMixture,BayesianGaussianMixture\n",
    "\n",
    "import pandas as pd\n",
    "\n",
    "import matplotlib.pyplot as plt\n",
    "import seaborn as sns\n",
    "import matplotlib as mpl\n",
    "mpl.rcParams['image.cmap'] = 'Greys'\n",
    "mpl.rcParams['axes.spines.right'] = False\n",
    "mpl.rcParams['axes.spines.top'] = False\n",
    "\n",
    "\n",
    "\n",
    "import sys,os,pdb,copy,pickle\n",
    "from importlib import reload\n",
    "# import pynapple as nap\n",
    "\n",
    "sys.path.append('/mnt/home/szheng/projects/seq_detection2/code')\n",
    "sys.path.append('/mnt/home/szheng/projects/util_code')\n",
    "sys.path.append('/mnt/home/szheng/projects/nmf_analysis')\n",
    "sys.path.append('/mnt/home/szheng/projects/nmf_analysis/scripts')\n",
    "sys.path.append('/mnt/home/szheng/projects/cluster_spikes')\n",
    "sys.path.append('/mnt/home/szheng/projects/place_variability/code')\n",
    "import data_prep_new as dpn\n",
    "import place_cell_analysis as pa\n",
    "import plot_helper as ph\n",
    "import preprocess as prep\n",
    "import nmf_analysis as na\n",
    "import nmf_plot as nmfp\n",
    "reload(na)\n",
    "\n",
    "import raster_new as rn\n",
    "import data_prep_pyn as dpp\n",
    "\n",
    "\n",
    "import change_point_analysis as cpa\n",
    "import change_point_plot as cpp\n",
    "\n",
    "import place_field_analysis as pf\n",
    "\n",
    "import switch_analysis_one_session as saos\n",
    "reload(saos)\n",
    "\n",
    "import process_central_arm as pca \n",
    "import change_point_analysis_central_arm_seperate as cpacas\n",
    "\n",
    "import misc\n",
    "reload(misc)\n",
    "from misc import get_nth_key, get_nth_val"
   ]
  },
  {
   "cell_type": "markdown",
   "id": "4ea060f7",
   "metadata": {},
   "source": [
    "# # idea:\n",
    "# number of switch per trial, correlate with average F0 change"
   ]
  },
  {
   "cell_type": "code",
   "execution_count": 2,
   "id": "17de1d3d",
   "metadata": {},
   "outputs": [],
   "source": [
    "import database\n",
    "reload(database)\n",
    "db = database.thomas_18_db"
   ]
  },
  {
   "cell_type": "code",
   "execution_count": 3,
   "id": "d5dbe93b",
   "metadata": {},
   "outputs": [
    {
     "name": "stdout",
     "output_type": "stream",
     "text": [
      "/mnt/home/szheng/ceph/place_variability/fig/paper/suppfigure_imaging_stability\n"
     ]
    }
   ],
   "source": [
    "figdir='/mnt/home/szheng/ceph/place_variability/fig/paper/suppfigure_imaging_stability'\n",
    "figdir= misc.get_or_create_subdir(figdir)"
   ]
  },
  {
   "cell_type": "code",
   "execution_count": 4,
   "id": "c9248cb9",
   "metadata": {},
   "outputs": [],
   "source": [
    "sys.path.append('/mnt/home/szheng/projects/place_variability/code/thomas_18_data')"
   ]
  },
  {
   "cell_type": "code",
   "execution_count": 5,
   "id": "50a67757",
   "metadata": {},
   "outputs": [],
   "source": [
    "import fr_map_thomas_all_sess as fmtas\n",
    "reload(fmtas)\n",
    "import get_thomas_cell_metrics as gtcm\n",
    "reload(gtcm)\n",
    "import unimodal_nmf as unmf"
   ]
  },
  {
   "cell_type": "code",
   "execution_count": 6,
   "id": "e9060b47",
   "metadata": {},
   "outputs": [],
   "source": [
    "import matplotlib\n",
    "matplotlib.rcParams['svg.fonttype']='none'"
   ]
  },
  {
   "cell_type": "code",
   "execution_count": 7,
   "id": "10f7319b",
   "metadata": {},
   "outputs": [
    {
     "name": "stderr",
     "output_type": "stream",
     "text": [
      "/mnt/home/szheng/projects/place_variability/code/thomas_18_data/detect_field_within_minus_outside_one_exp.py:24: FutureWarning: The default value of numeric_only in DataFrameGroupBy.mean is deprecated. In a future version, numeric_only will default to False. Either specify numeric_only or select only columns which should be valid for the function.\n",
      "  db_grouped = db.groupby(['region','exp_ind']).mean().index # group on the level of region and exp\n"
     ]
    }
   ],
   "source": [
    "# load firing related data\n",
    "import detect_field_within_minus_outside_one_exp as dfwmooe\n",
    "save_data_dir = '/mnt/home/szheng/ceph/place_variability/data/thomas18'\n",
    "save_data_fn = f'{dfwmooe.SAVE_FN[:-2]}_combined.p'\n",
    "res=pickle.load(open(os.path.join(save_data_dir,save_data_fn),'rb'))\n",
    "\n",
    "\n",
    "field_bounds_all=    res['field_bounds_all']\n",
    "threshold_all=    res['threshold_all']\n",
    "in_field_mask_all=    res['in_field_mask_all']\n",
    "out_field_mask_all=    res['out_field_mask_all']\n",
    "all_day_activation_d_all=    res['all_day_activation_d_all']\n"
   ]
  },
  {
   "cell_type": "code",
   "execution_count": 8,
   "id": "2f1c5404",
   "metadata": {},
   "outputs": [
    {
     "name": "stdout",
     "output_type": "stream",
     "text": [
      "/mnt/home/szheng/ceph/ad/thomas_data/180301_DG_CA3_CA1/fr_map_mask_True_smallbin_smallgauss.p exists; loading---\n",
      "CPU times: user 27.8 s, sys: 12.5 s, total: 40.3 s\n",
      "Wall time: 1min\n"
     ]
    }
   ],
   "source": [
    "%%time\n",
    "reload(fmtas)\n",
    "fr_map_all = fmtas.main(force_reload=False,load_only=True,dosave=False,bin_size=0.022,gauss_width=0.2,save_fn_one='fr_map_mask_True_smallbin_smallgauss.p',save_fn_all='fr_map_mask_True_smallbin_smallgauss.p')\n",
    "# fr_map_all = fmtas.main(force_reload=False,load_only=False,dosave=False)\n",
    "fr_map_trial_df_all = fr_map_all['fr_map_trial_df_all']\n",
    "\n",
    "occu_map = fr_map_all['occu_map_all']\n",
    "\n",
    "frmap = fr_map_all['fr_map_all']\n",
    "fr_map_trial_all = fr_map_all['fr_map_trial_all']\n",
    "\n",
    "# reshape fr_map_trial_df_all to make it easier to work with\n",
    "fr_map_trial_df_all_day =fr_map_trial_df_all.unstack(level=2).swaplevel(0,1,axis=1).sort_index(axis=1) # day in column\n",
    "\n",
    "fr_map_trial_df_all_per_uid=fr_map_trial_df_all.unstack(level=(2,3)).swaplevel(0,1,axis=1).swaplevel(1,2,axis=1).sort_index(axis=1).dropna(axis=1,how='all')\n",
    "\n",
    "frmap_all_day = frmap.unstack(level=2).swaplevel(0,1,axis=1).sort_index(level=0,axis=1)"
   ]
  },
  {
   "cell_type": "code",
   "execution_count": 9,
   "id": "021f8f78",
   "metadata": {},
   "outputs": [],
   "source": [
    "import h5py\n",
    "fn_full = '/mnt/home/szheng/ceph/ad/thomas_data/180301_DG_CA3_CA1.h5'\n",
    "f = h5py.File(fn_full, 'r')"
   ]
  },
  {
   "cell_type": "code",
   "execution_count": 10,
   "id": "42bb6689",
   "metadata": {},
   "outputs": [
    {
     "data": {
      "text/plain": [
       "<module 'prep_thomas_data' from '/mnt/home/szheng/projects/place_variability/code/thomas_18_data/prep_thomas_data.py'>"
      ]
     },
     "execution_count": 10,
     "metadata": {},
     "output_type": "execute_result"
    }
   ],
   "source": [
    "# get switch\n",
    "import place_field_detection_thomas as pfdt\n",
    "import prep_thomas_data as ptd\n",
    "reload(pfdt)\n",
    "reload(ptd)"
   ]
  },
  {
   "cell_type": "code",
   "execution_count": 20,
   "id": "34223b7d",
   "metadata": {},
   "outputs": [
    {
     "name": "stderr",
     "output_type": "stream",
     "text": [
      "/tmp/ipykernel_232762/3004855195.py:14: PerformanceWarning: indexing past lexsort depth may impact performance.\n",
      "  all_day_activation_sub=all_day_activation_d_all.loc[(region,exp_ind,famnov,slice(None),get_field_day),('within',get_field_day)].droplevel((0,1,2,4))\n"
     ]
    }
   ],
   "source": [
    "exp_ind = 0\n",
    "day_ind = 1\n",
    "sw = 'on'\n",
    "famnov=0\n",
    "region='CA1'\n",
    "sw_mag_thresh = 0.3\n",
    "\n",
    "F0_alltrials_allcells = ptd.get_F0_one_exp_one_cat(f,exp_ind=exp_ind,day_ind=day_ind,famnov=famnov,region='CA1')\n",
    "F0_alltrials_allcells = pd.DataFrame(F0_alltrials_allcells)\n",
    "F0_alltrials_allcells_z = scipy.stats.zscore(F0_alltrials_allcells,axis=1)\n",
    "\n",
    "get_field_day=day_ind\n",
    "threshold_sub = threshold_all.loc[(region,exp_ind,famnov,slice(None),get_field_day)]\n",
    "all_day_activation_sub=all_day_activation_d_all.loc[(region,exp_ind,famnov,slice(None),get_field_day),('within',get_field_day)].droplevel((0,1,2,4))\n",
    "\n",
    "### switch detection\n",
    "sw_on_trial_l=pfdt.get_switch_trial(\n",
    "    all_day_activation_sub,\n",
    "    threshold_sub,\n",
    "    sw_mag_thresh=sw_mag_thresh,\n",
    "    trial_range = 5,\n",
    "    field_present_frac = 0.6,\n",
    "    field_not_present_frac=0.8,\n",
    "    sw=sw\n",
    "    )\n",
    "sw_trial_l = sw_on_trial_l\n",
    "\n",
    "# get switch count per trial\n",
    "tr_l,sw_ct_l = np.unique(list(sw_trial_l.values()),return_counts=True)\n",
    "\n",
    "# get F0 change\n",
    "F0_df = F0_alltrials_allcells_z\n",
    "F0_change_abs_mean=F0_df.diff(axis=1).abs().mean(axis=0)\n",
    "\n",
    "F0_change_abs_mean_sub = pd.DataFrame({'F0_change':F0_change_abs_mean.loc[tr_l].values,'switch_ct':sw_ct_l})"
   ]
  },
  {
   "cell_type": "code",
   "execution_count": 11,
   "id": "353c93a2",
   "metadata": {},
   "outputs": [],
   "source": [
    "def analyze_F0_change_per_switch_trial(\n",
    "    f,\n",
    "    exp_ind = 0,\n",
    "    day_ind = 1,\n",
    "    sw = 'on',\n",
    "    famnov=0,\n",
    "    region='CA1',\n",
    "    sw_mag_thresh = 0.3,\n",
    "    trial_range=5,\n",
    "):\n",
    "    \n",
    "\n",
    "    F0_alltrials_allcells = ptd.get_F0_one_exp_one_cat(f,exp_ind=exp_ind,day_ind=day_ind,famnov=famnov,region='CA1')\n",
    "    F0_alltrials_allcells = pd.DataFrame(F0_alltrials_allcells)\n",
    "    F0_alltrials_allcells_z = scipy.stats.zscore(F0_alltrials_allcells,axis=1)\n",
    "\n",
    "    get_field_day=day_ind\n",
    "    threshold_sub = threshold_all.loc[(region,exp_ind,famnov,slice(None),get_field_day)]\n",
    "    all_day_activation_sub=all_day_activation_d_all.loc[(region,exp_ind,famnov,slice(None),get_field_day),('within',get_field_day)].droplevel((0,1,2,4))\n",
    "\n",
    "    ### switch detection\n",
    "    sw_on_trial_l=pfdt.get_switch_trial(\n",
    "        all_day_activation_sub,\n",
    "        threshold_sub,\n",
    "        sw_mag_thresh=sw_mag_thresh,\n",
    "        trial_range = trial_range,\n",
    "        field_present_frac = 0.6,\n",
    "        field_not_present_frac=0.8,\n",
    "        sw=sw\n",
    "        )\n",
    "    sw_trial_l = sw_on_trial_l\n",
    "\n",
    "    # get switch count per trial\n",
    "    tr_l,sw_ct_l = np.unique(list(sw_trial_l.values()),return_counts=True)\n",
    "\n",
    "    # get F0 change\n",
    "    F0_df = F0_alltrials_allcells_z\n",
    "    F0_change_abs_mean=F0_df.diff(axis=1).abs().mean(axis=0)\n",
    "    F0_change_abs_mean_sub = F0_change_abs_mean.loc[trial_range:tr_l.max()].to_frame().rename({0:'F0_change'},axis=1)\n",
    "    sw_ct_l = pd.DataFrame(sw_ct_l[:,None],index=tr_l,columns=['switch_ct'])\n",
    "    F0_change_abs_mean_sub=F0_change_abs_mean_sub.join(sw_ct_l).fillna(0)\n",
    "    F0_change_abs_mean_sub['switch_ct_norm'] = F0_change_abs_mean_sub['switch_ct'] / all_day_activation_sub.shape[0]\n",
    "    return F0_change_abs_mean_sub"
   ]
  },
  {
   "cell_type": "code",
   "execution_count": 94,
   "id": "19acef11",
   "metadata": {},
   "outputs": [
    {
     "name": "stderr",
     "output_type": "stream",
     "text": [
      "/tmp/ipykernel_232762/3687954730.py:19: PerformanceWarning: indexing past lexsort depth may impact performance.\n",
      "  all_day_activation_sub=all_day_activation_d_all.loc[(region,exp_ind,famnov,slice(None),get_field_day),('within',get_field_day)].droplevel((0,1,2,4))\n"
     ]
    }
   ],
   "source": [
    "exp_ind = 7\n",
    "day_ind = 1\n",
    "sw ='on'\n",
    "F0_change_abs_mean_sub = analyze_F0_change_per_switch_trial(f,exp_ind=exp_ind)"
   ]
  },
  {
   "cell_type": "markdown",
   "id": "1816cbcf",
   "metadata": {},
   "source": [
    "# loop"
   ]
  },
  {
   "cell_type": "code",
   "execution_count": 13,
   "id": "2022bad9",
   "metadata": {},
   "outputs": [],
   "source": [
    "region ='CA1'\n",
    "exp_ind_l = all_day_activation_d_all.loc[region].index.get_level_values(0).unique()"
   ]
  },
  {
   "cell_type": "code",
   "execution_count": 14,
   "id": "dd7da369",
   "metadata": {
    "scrolled": true
   },
   "outputs": [
    {
     "name": "stderr",
     "output_type": "stream",
     "text": [
      "/tmp/ipykernel_947770/3687954730.py:19: PerformanceWarning: indexing past lexsort depth may impact performance.\n",
      "  all_day_activation_sub=all_day_activation_d_all.loc[(region,exp_ind,famnov,slice(None),get_field_day),('within',get_field_day)].droplevel((0,1,2,4))\n",
      "/tmp/ipykernel_947770/3687954730.py:19: PerformanceWarning: indexing past lexsort depth may impact performance.\n",
      "  all_day_activation_sub=all_day_activation_d_all.loc[(region,exp_ind,famnov,slice(None),get_field_day),('within',get_field_day)].droplevel((0,1,2,4))\n",
      "/tmp/ipykernel_947770/3687954730.py:19: PerformanceWarning: indexing past lexsort depth may impact performance.\n",
      "  all_day_activation_sub=all_day_activation_d_all.loc[(region,exp_ind,famnov,slice(None),get_field_day),('within',get_field_day)].droplevel((0,1,2,4))\n",
      "/tmp/ipykernel_947770/3687954730.py:19: PerformanceWarning: indexing past lexsort depth may impact performance.\n",
      "  all_day_activation_sub=all_day_activation_d_all.loc[(region,exp_ind,famnov,slice(None),get_field_day),('within',get_field_day)].droplevel((0,1,2,4))\n",
      "/tmp/ipykernel_947770/3687954730.py:19: PerformanceWarning: indexing past lexsort depth may impact performance.\n",
      "  all_day_activation_sub=all_day_activation_d_all.loc[(region,exp_ind,famnov,slice(None),get_field_day),('within',get_field_day)].droplevel((0,1,2,4))\n",
      "/tmp/ipykernel_947770/3687954730.py:19: PerformanceWarning: indexing past lexsort depth may impact performance.\n",
      "  all_day_activation_sub=all_day_activation_d_all.loc[(region,exp_ind,famnov,slice(None),get_field_day),('within',get_field_day)].droplevel((0,1,2,4))\n",
      "/tmp/ipykernel_947770/3687954730.py:19: PerformanceWarning: indexing past lexsort depth may impact performance.\n",
      "  all_day_activation_sub=all_day_activation_d_all.loc[(region,exp_ind,famnov,slice(None),get_field_day),('within',get_field_day)].droplevel((0,1,2,4))\n",
      "/tmp/ipykernel_947770/3687954730.py:19: PerformanceWarning: indexing past lexsort depth may impact performance.\n",
      "  all_day_activation_sub=all_day_activation_d_all.loc[(region,exp_ind,famnov,slice(None),get_field_day),('within',get_field_day)].droplevel((0,1,2,4))\n",
      "/tmp/ipykernel_947770/3687954730.py:19: PerformanceWarning: indexing past lexsort depth may impact performance.\n",
      "  all_day_activation_sub=all_day_activation_d_all.loc[(region,exp_ind,famnov,slice(None),get_field_day),('within',get_field_day)].droplevel((0,1,2,4))\n",
      "/tmp/ipykernel_947770/3687954730.py:19: PerformanceWarning: indexing past lexsort depth may impact performance.\n",
      "  all_day_activation_sub=all_day_activation_d_all.loc[(region,exp_ind,famnov,slice(None),get_field_day),('within',get_field_day)].droplevel((0,1,2,4))\n",
      "/tmp/ipykernel_947770/3687954730.py:19: PerformanceWarning: indexing past lexsort depth may impact performance.\n",
      "  all_day_activation_sub=all_day_activation_d_all.loc[(region,exp_ind,famnov,slice(None),get_field_day),('within',get_field_day)].droplevel((0,1,2,4))\n",
      "/tmp/ipykernel_947770/3687954730.py:19: PerformanceWarning: indexing past lexsort depth may impact performance.\n",
      "  all_day_activation_sub=all_day_activation_d_all.loc[(region,exp_ind,famnov,slice(None),get_field_day),('within',get_field_day)].droplevel((0,1,2,4))\n",
      "/tmp/ipykernel_947770/3687954730.py:19: PerformanceWarning: indexing past lexsort depth may impact performance.\n",
      "  all_day_activation_sub=all_day_activation_d_all.loc[(region,exp_ind,famnov,slice(None),get_field_day),('within',get_field_day)].droplevel((0,1,2,4))\n",
      "/tmp/ipykernel_947770/3687954730.py:19: PerformanceWarning: indexing past lexsort depth may impact performance.\n",
      "  all_day_activation_sub=all_day_activation_d_all.loc[(region,exp_ind,famnov,slice(None),get_field_day),('within',get_field_day)].droplevel((0,1,2,4))\n",
      "/tmp/ipykernel_947770/3687954730.py:19: PerformanceWarning: indexing past lexsort depth may impact performance.\n",
      "  all_day_activation_sub=all_day_activation_d_all.loc[(region,exp_ind,famnov,slice(None),get_field_day),('within',get_field_day)].droplevel((0,1,2,4))\n",
      "/tmp/ipykernel_947770/3687954730.py:19: PerformanceWarning: indexing past lexsort depth may impact performance.\n",
      "  all_day_activation_sub=all_day_activation_d_all.loc[(region,exp_ind,famnov,slice(None),get_field_day),('within',get_field_day)].droplevel((0,1,2,4))\n",
      "/tmp/ipykernel_947770/3687954730.py:19: PerformanceWarning: indexing past lexsort depth may impact performance.\n",
      "  all_day_activation_sub=all_day_activation_d_all.loc[(region,exp_ind,famnov,slice(None),get_field_day),('within',get_field_day)].droplevel((0,1,2,4))\n",
      "/tmp/ipykernel_947770/3687954730.py:19: PerformanceWarning: indexing past lexsort depth may impact performance.\n",
      "  all_day_activation_sub=all_day_activation_d_all.loc[(region,exp_ind,famnov,slice(None),get_field_day),('within',get_field_day)].droplevel((0,1,2,4))\n",
      "/tmp/ipykernel_947770/3687954730.py:19: PerformanceWarning: indexing past lexsort depth may impact performance.\n",
      "  all_day_activation_sub=all_day_activation_d_all.loc[(region,exp_ind,famnov,slice(None),get_field_day),('within',get_field_day)].droplevel((0,1,2,4))\n"
     ]
    },
    {
     "name": "stdout",
     "output_type": "stream",
     "text": [
      "CPU times: user 54.3 s, sys: 1.12 s, total: 55.4 s\n",
      "Wall time: 2min 27s\n"
     ]
    },
    {
     "name": "stderr",
     "output_type": "stream",
     "text": [
      "/tmp/ipykernel_947770/3687954730.py:19: PerformanceWarning: indexing past lexsort depth may impact performance.\n",
      "  all_day_activation_sub=all_day_activation_d_all.loc[(region,exp_ind,famnov,slice(None),get_field_day),('within',get_field_day)].droplevel((0,1,2,4))\n"
     ]
    }
   ],
   "source": [
    "%%time\n",
    "day_dict = {'on':1,'off':0}\n",
    "F0_change_abs_mean_sub_allexp_allsw ={}\n",
    "for sw in ['on','off']:\n",
    "    day_ind = day_dict[sw]\n",
    "    F0_change_abs_mean_sub_allexp={}\n",
    "    for exp_ind in exp_ind_l:\n",
    "        try:\n",
    "            F0_change_abs_mean_sub = analyze_F0_change_per_switch_trial(f,exp_ind=exp_ind,day_ind=day_ind)\n",
    "            F0_change_abs_mean_sub_allexp[exp_ind] = F0_change_abs_mean_sub\n",
    "        except Exception as e:\n",
    "            pass\n",
    "    F0_change_abs_mean_sub_allexp = pd.concat(F0_change_abs_mean_sub_allexp,axis=0)\n",
    "    F0_change_abs_mean_sub_allexp_allsw[sw] = F0_change_abs_mean_sub_allexp\n",
    "\n",
    "    \n"
   ]
  },
  {
   "cell_type": "code",
   "execution_count": 45,
   "id": "d79d106b",
   "metadata": {},
   "outputs": [
    {
     "data": {
      "text/plain": [
       "(73, 3)"
      ]
     },
     "execution_count": 45,
     "metadata": {},
     "output_type": "execute_result"
    }
   ],
   "source": [
    "F0_change_abs_mean_sub_allexp_allsw['on'].shape"
   ]
  },
  {
   "cell_type": "code",
   "execution_count": 50,
   "id": "9bd9110e",
   "metadata": {},
   "outputs": [
    {
     "data": {
      "text/plain": [
       "10"
      ]
     },
     "execution_count": 50,
     "metadata": {},
     "output_type": "execute_result"
    }
   ],
   "source": [
    "F0_change_abs_mean_sub_allexp_allsw['on'].index.get_level_values(0).unique().shape[0]"
   ]
  },
  {
   "cell_type": "code",
   "execution_count": 52,
   "id": "c3c09153",
   "metadata": {},
   "outputs": [
    {
     "data": {
      "image/png": "[encoded data removed]",
      "text/plain": [
       "<Figure size 300x200 with 1 Axes>"
      ]
     },
     "metadata": {},
     "output_type": "display_data"
    }
   ],
   "source": [
    "sw='on'\n",
    "r,p=scipy.stats.pearsonr(F0_change_abs_mean_sub_allexp_allsw[sw]['F0_change'],F0_change_abs_mean_sub_allexp_allsw[sw]['switch_ct_norm'])\n",
    "fig,ax=plt.subplots(figsize=(3,2))\n",
    "sns.regplot(data=F0_change_abs_mean_sub_allexp_allsw[sw],x='switch_ct_norm',y='F0_change',scatter_kws={'s':1})\n",
    "text = f'r={r:.1f}\\np={p:.1f}'\n",
    "ax.text(0.5,0.5,text,transform = ax.transAxes)\n",
    "ax.set_xlabel('Fraction of switching')\n",
    "ax.set_ylabel('Baseline\\nfluorescence\\nchange')\n",
    "ax.set_title(f'{sw}')\n",
    "sns.despine()\n",
    "\n",
    "figfn = f'f0_change_vs_frac_sw_{sw}'\n",
    "ph.save_given_name(fig,figfn,figdir=figdir)"
   ]
  },
  {
   "cell_type": "code",
   "execution_count": 53,
   "id": "83e4a6e5",
   "metadata": {},
   "outputs": [
    {
     "data": {
      "image/png": "[encoded data removed]",
      "text/plain": [
       "<Figure size 300x200 with 1 Axes>"
      ]
     },
     "metadata": {},
     "output_type": "display_data"
    }
   ],
   "source": [
    "sw='off'\n",
    "r,p=scipy.stats.pearsonr(F0_change_abs_mean_sub_allexp_allsw[sw]['F0_change'],F0_change_abs_mean_sub_allexp_allsw[sw]['switch_ct_norm'])\n",
    "fig,ax=plt.subplots(figsize=(3,2))\n",
    "sns.regplot(data=F0_change_abs_mean_sub_allexp_allsw[sw],x='switch_ct_norm',y='F0_change',scatter_kws={'s':1})\n",
    "text = f'r={r:.1f}\\np={p:.1f}'\n",
    "ax.text(0.5,0.5,text,transform = ax.transAxes)\n",
    "ax.set_xlabel('Fraction of switching')\n",
    "ax.set_ylabel('Baseline\\nfluorescence\\nchange')\n",
    "ax.set_title(f'{sw}')\n",
    "sns.despine()\n",
    "\n",
    "figfn = f'f0_change_vs_frac_sw_{sw}'\n",
    "ph.save_given_name(fig,figfn,figdir=figdir)"
   ]
  },
  {
   "cell_type": "code",
   "execution_count": 51,
   "id": "40c015a1",
   "metadata": {},
   "outputs": [
    {
     "data": {
      "text/plain": [
       "10"
      ]
     },
     "execution_count": 51,
     "metadata": {},
     "output_type": "execute_result"
    }
   ],
   "source": [
    "F0_change_abs_mean_sub_allexp_allsw['off'].index.get_level_values(0).unique().shape[0]"
   ]
  },
  {
   "cell_type": "code",
   "execution_count": 54,
   "id": "37075b79",
   "metadata": {},
   "outputs": [
    {
     "data": {
      "text/plain": [
       "(81, 3)"
      ]
     },
     "execution_count": 54,
     "metadata": {},
     "output_type": "execute_result"
    }
   ],
   "source": [
    "F0_change_abs_mean_sub_allexp_allsw['off'].shape"
   ]
  },
  {
   "cell_type": "code",
   "execution_count": 50,
   "id": "12208a6b",
   "metadata": {},
   "outputs": [],
   "source": []
  },
  {
   "cell_type": "code",
   "execution_count": 51,
   "id": "177986b2",
   "metadata": {},
   "outputs": [
    {
     "data": {
      "text/html": [
       "<div>\n",
       "<style scoped>\n",
       "    .dataframe tbody tr th:only-of-type {\n",
       "        vertical-align: middle;\n",
       "    }\n",
       "\n",
       "    .dataframe tbody tr th {\n",
       "        vertical-align: top;\n",
       "    }\n",
       "\n",
       "    .dataframe thead th {\n",
       "        text-align: right;\n",
       "    }\n",
       "</style>\n",
       "<table border=\"1\" class=\"dataframe\">\n",
       "  <thead>\n",
       "    <tr style=\"text-align: right;\">\n",
       "      <th></th>\n",
       "      <th>F0_change</th>\n",
       "      <th>switch_ct</th>\n",
       "    </tr>\n",
       "  </thead>\n",
       "  <tbody>\n",
       "    <tr>\n",
       "      <th>F0_change</th>\n",
       "      <td>-</td>\n",
       "      <td></td>\n",
       "    </tr>\n",
       "    <tr>\n",
       "      <th>switch_ct</th>\n",
       "      <td>-0.219</td>\n",
       "      <td>-</td>\n",
       "    </tr>\n",
       "  </tbody>\n",
       "</table>\n",
       "</div>"
      ],
      "text/plain": [
       "          F0_change switch_ct\n",
       "F0_change         -          \n",
       "switch_ct    -0.219         -"
      ]
     },
     "execution_count": 51,
     "metadata": {},
     "output_type": "execute_result"
    }
   ],
   "source": [
    "F0_change_abs_mean_sub.rcorr()"
   ]
  },
  {
   "cell_type": "code",
   "execution_count": 52,
   "id": "4e6bfb6d",
   "metadata": {},
   "outputs": [
    {
     "ename": "SyntaxError",
     "evalue": "expected ':' (2948524836.py, line 1)",
     "output_type": "error",
     "traceback": [
      "\u001b[0;36m  Cell \u001b[0;32mIn[52], line 1\u001b[0;36m\u001b[0m\n\u001b[0;31m    for tr in tr\u001b[0m\n\u001b[0m                ^\u001b[0m\n\u001b[0;31mSyntaxError\u001b[0m\u001b[0;31m:\u001b[0m expected ':'\n"
     ]
    }
   ],
   "source": [
    "for tr in tr"
   ]
  },
  {
   "cell_type": "code",
   "execution_count": null,
   "id": "d91bfcd7",
   "metadata": {},
   "outputs": [],
   "source": []
  }
 ],
 "metadata": {
  "kernelspec": {
   "display_name": "jaxnew",
   "language": "python",
   "name": "jaxnew"
  },
  "language_info": {
   "codemirror_mode": {
    "name": "ipython",
    "version": 3
   },
   "file_extension": ".py",
   "mimetype": "text/x-python",
   "name": "python",
   "nbconvert_exporter": "python",
   "pygments_lexer": "ipython3",
   "version": "3.10.14"
  }
 },
 "nbformat": 4,
 "nbformat_minor": 5
}
