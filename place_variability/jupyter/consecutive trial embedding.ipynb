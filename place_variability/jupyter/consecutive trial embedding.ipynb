{
 "cells": [
  {
   "cell_type": "code",
   "execution_count": 1,
   "id": "ecaaeec7",
   "metadata": {},
   "outputs": [],
   "source": [
    "import numpy as np\n",
    "import scipy\n",
    "import sklearn\n",
    "from sklearn.decomposition import NMF\n",
    "from sklearn.cluster import KMeans\n",
    "from sklearn.mixture import GaussianMixture,BayesianGaussianMixture\n",
    "\n",
    "import pandas as pd\n",
    "\n",
    "import matplotlib.pyplot as plt\n",
    "import matplotlib as mpl\n",
    "mpl.rcParams['image.cmap'] = 'Greys'\n",
    "%matplotlib inline\n",
    "import seaborn as sns\n",
    "\n",
    "import sys,os,pdb,copy,pickle\n",
    "from importlib import reload\n",
    "import pynapple as nap\n",
    "\n",
    "sys.path.append('/mnt/home/szheng/projects/seq_detection2/code')\n",
    "sys.path.append('/mnt/home/szheng/projects/util_code')\n",
    "sys.path.append('/mnt/home/szheng/projects/nmf_analysis')\n",
    "sys.path.append('/mnt/home/szheng/projects/nmf_analysis/scripts')\n",
    "sys.path.append('/mnt/home/szheng/projects/cluster_spikes')\n",
    "import data_prep_new as dpn\n",
    "import place_cell_analysis as pa\n",
    "import plot_helper as ph\n",
    "import preprocess as prep\n",
    "import nmf_analysis as na\n",
    "import nmf_plot as nmfp\n",
    "reload(na)\n",
    "\n",
    "import raster_new as rn\n",
    "import data_prep_pyn as dpp\n",
    "import database\n",
    "db = database.db\n",
    "\n",
    "import change_point_analysis as cpa\n",
    "import change_point_plot as cpp"
   ]
  },
  {
   "cell_type": "code",
   "execution_count": 2,
   "id": "eac1e406",
   "metadata": {},
   "outputs": [
    {
     "data": {
      "text/html": [
       "<div>\n",
       "<style scoped>\n",
       "    .dataframe tbody tr th:only-of-type {\n",
       "        vertical-align: middle;\n",
       "    }\n",
       "\n",
       "    .dataframe tbody tr th {\n",
       "        vertical-align: top;\n",
       "    }\n",
       "\n",
       "    .dataframe thead th {\n",
       "        text-align: right;\n",
       "    }\n",
       "</style>\n",
       "<table border=\"1\" class=\"dataframe\">\n",
       "  <thead>\n",
       "    <tr style=\"text-align: right;\">\n",
       "      <th></th>\n",
       "      <th></th>\n",
       "      <th>data_dir_full</th>\n",
       "      <th>sess_name</th>\n",
       "      <th>animal_name.1</th>\n",
       "      <th>date</th>\n",
       "      <th>behavior</th>\n",
       "      <th>performance</th>\n",
       "      <th>ntrials</th>\n",
       "      <th>ngoodtrials</th>\n",
       "      <th>n_neurons</th>\n",
       "      <th>n_pyr_putative</th>\n",
       "      <th>owner</th>\n",
       "      <th>data_root</th>\n",
       "    </tr>\n",
       "    <tr>\n",
       "      <th>animal_name</th>\n",
       "      <th></th>\n",
       "      <th></th>\n",
       "      <th></th>\n",
       "      <th></th>\n",
       "      <th></th>\n",
       "      <th></th>\n",
       "      <th></th>\n",
       "      <th></th>\n",
       "      <th></th>\n",
       "      <th></th>\n",
       "      <th></th>\n",
       "      <th></th>\n",
       "      <th></th>\n",
       "    </tr>\n",
       "  </thead>\n",
       "  <tbody>\n",
       "    <tr>\n",
       "      <th>e13_26m1</th>\n",
       "      <th>0</th>\n",
       "      <td>/mnt/home/szheng/ceph/ad/roman_data/e13/e13_26...</td>\n",
       "      <td>e13_26m1_210913</td>\n",
       "      <td>e13_26m1</td>\n",
       "      <td>2021-09-13</td>\n",
       "      <td>alternation</td>\n",
       "      <td>0.956522</td>\n",
       "      <td>69</td>\n",
       "      <td>69</td>\n",
       "      <td>482</td>\n",
       "      <td>422</td>\n",
       "      <td>roman</td>\n",
       "      <td>roman_data</td>\n",
       "    </tr>\n",
       "    <tr>\n",
       "      <th rowspan=\"4\" valign=\"top\">e15_13f1</th>\n",
       "      <th>0</th>\n",
       "      <td>/mnt/home/szheng/ceph/ad/roman_data/e15/e15_13...</td>\n",
       "      <td>e15_13f1_220117</td>\n",
       "      <td>e15_13f1</td>\n",
       "      <td>2022-01-17</td>\n",
       "      <td>alternation</td>\n",
       "      <td>0.617647</td>\n",
       "      <td>34</td>\n",
       "      <td>34</td>\n",
       "      <td>376</td>\n",
       "      <td>333</td>\n",
       "      <td>roman</td>\n",
       "      <td>roman_data</td>\n",
       "    </tr>\n",
       "    <tr>\n",
       "      <th>1</th>\n",
       "      <td>/mnt/home/szheng/ceph/ad/roman_data/e15/e15_13...</td>\n",
       "      <td>e15_13f1_220118</td>\n",
       "      <td>e15_13f1</td>\n",
       "      <td>2022-01-18</td>\n",
       "      <td>['alternation' 'linearMaze']</td>\n",
       "      <td>0.740741</td>\n",
       "      <td>27</td>\n",
       "      <td>27</td>\n",
       "      <td>363</td>\n",
       "      <td>318</td>\n",
       "      <td>roman</td>\n",
       "      <td>roman_data</td>\n",
       "    </tr>\n",
       "    <tr>\n",
       "      <th>2</th>\n",
       "      <td>/mnt/home/szheng/ceph/ad/roman_data/e15/e15_13...</td>\n",
       "      <td>e15_13f1_220119</td>\n",
       "      <td>e15_13f1</td>\n",
       "      <td>2022-01-19</td>\n",
       "      <td>['alternation' 'alternation']</td>\n",
       "      <td>0.721311</td>\n",
       "      <td>61</td>\n",
       "      <td>61</td>\n",
       "      <td>343</td>\n",
       "      <td>288</td>\n",
       "      <td>roman</td>\n",
       "      <td>roman_data</td>\n",
       "    </tr>\n",
       "    <tr>\n",
       "      <th>3</th>\n",
       "      <td>/mnt/home/szheng/ceph/ad/roman_data/e15/e15_13...</td>\n",
       "      <td>e15_13f1_220120</td>\n",
       "      <td>e15_13f1</td>\n",
       "      <td>2022-01-20</td>\n",
       "      <td>['alternation' 'linearMaze']</td>\n",
       "      <td>0.800000</td>\n",
       "      <td>45</td>\n",
       "      <td>45</td>\n",
       "      <td>303</td>\n",
       "      <td>248</td>\n",
       "      <td>roman</td>\n",
       "      <td>roman_data</td>\n",
       "    </tr>\n",
       "    <tr>\n",
       "      <th>...</th>\n",
       "      <th>...</th>\n",
       "      <td>...</td>\n",
       "      <td>...</td>\n",
       "      <td>...</td>\n",
       "      <td>...</td>\n",
       "      <td>...</td>\n",
       "      <td>...</td>\n",
       "      <td>...</td>\n",
       "      <td>...</td>\n",
       "      <td>...</td>\n",
       "      <td>...</td>\n",
       "      <td>...</td>\n",
       "      <td>...</td>\n",
       "    </tr>\n",
       "    <tr>\n",
       "      <th>e16_2m1</th>\n",
       "      <th>0</th>\n",
       "      <td>/mnt/home/szheng/ceph/ad/roman_data/e16/e16_2m...</td>\n",
       "      <td>e16_2m1_201116</td>\n",
       "      <td>e16_2m1</td>\n",
       "      <td>2020-11-16</td>\n",
       "      <td>alternation</td>\n",
       "      <td>0.636364</td>\n",
       "      <td>11</td>\n",
       "      <td>11</td>\n",
       "      <td>50</td>\n",
       "      <td>37</td>\n",
       "      <td>roman</td>\n",
       "      <td>roman_data</td>\n",
       "    </tr>\n",
       "    <tr>\n",
       "      <th rowspan=\"2\" valign=\"top\">e16_1f1</th>\n",
       "      <th>0</th>\n",
       "      <td>/mnt/home/szheng/ceph/ad/roman_data/e16/e16_1f...</td>\n",
       "      <td>e16_1f1_200823</td>\n",
       "      <td>e16_1f1</td>\n",
       "      <td>2020-08-23</td>\n",
       "      <td>alternation</td>\n",
       "      <td>0.631579</td>\n",
       "      <td>19</td>\n",
       "      <td>19</td>\n",
       "      <td>47</td>\n",
       "      <td>32</td>\n",
       "      <td>roman</td>\n",
       "      <td>roman_data</td>\n",
       "    </tr>\n",
       "    <tr>\n",
       "      <th>1</th>\n",
       "      <td>/mnt/home/szheng/ceph/ad/roman_data/e16/e16_1f...</td>\n",
       "      <td>e16_1f1_200824</td>\n",
       "      <td>e16_1f1</td>\n",
       "      <td>2020-08-24</td>\n",
       "      <td>alternation</td>\n",
       "      <td>0.571429</td>\n",
       "      <td>21</td>\n",
       "      <td>21</td>\n",
       "      <td>40</td>\n",
       "      <td>27</td>\n",
       "      <td>roman</td>\n",
       "      <td>roman_data</td>\n",
       "    </tr>\n",
       "    <tr>\n",
       "      <th rowspan=\"2\" valign=\"top\">e14_2m3</th>\n",
       "      <th>0</th>\n",
       "      <td>/mnt/home/szheng/ceph/ad/roman_data/e14/e14_2m...</td>\n",
       "      <td>e14_2m3_201017</td>\n",
       "      <td>e14_2m3</td>\n",
       "      <td>2020-10-17</td>\n",
       "      <td>alternation</td>\n",
       "      <td>0.615385</td>\n",
       "      <td>26</td>\n",
       "      <td>26</td>\n",
       "      <td>34</td>\n",
       "      <td>26</td>\n",
       "      <td>roman</td>\n",
       "      <td>roman_data</td>\n",
       "    </tr>\n",
       "    <tr>\n",
       "      <th>1</th>\n",
       "      <td>/mnt/home/szheng/ceph/ad/roman_data/e14/e14_2m...</td>\n",
       "      <td>e14_2m3_201019</td>\n",
       "      <td>e14_2m3</td>\n",
       "      <td>2020-10-19</td>\n",
       "      <td>alternation</td>\n",
       "      <td>0.863636</td>\n",
       "      <td>22</td>\n",
       "      <td>22</td>\n",
       "      <td>36</td>\n",
       "      <td>22</td>\n",
       "      <td>roman</td>\n",
       "      <td>roman_data</td>\n",
       "    </tr>\n",
       "  </tbody>\n",
       "</table>\n",
       "<p>67 rows × 12 columns</p>\n",
       "</div>"
      ],
      "text/plain": [
       "                                                   data_dir_full  \\\n",
       "animal_name                                                        \n",
       "e13_26m1    0  /mnt/home/szheng/ceph/ad/roman_data/e13/e13_26...   \n",
       "e15_13f1    0  /mnt/home/szheng/ceph/ad/roman_data/e15/e15_13...   \n",
       "            1  /mnt/home/szheng/ceph/ad/roman_data/e15/e15_13...   \n",
       "            2  /mnt/home/szheng/ceph/ad/roman_data/e15/e15_13...   \n",
       "            3  /mnt/home/szheng/ceph/ad/roman_data/e15/e15_13...   \n",
       "...                                                          ...   \n",
       "e16_2m1     0  /mnt/home/szheng/ceph/ad/roman_data/e16/e16_2m...   \n",
       "e16_1f1     0  /mnt/home/szheng/ceph/ad/roman_data/e16/e16_1f...   \n",
       "            1  /mnt/home/szheng/ceph/ad/roman_data/e16/e16_1f...   \n",
       "e14_2m3     0  /mnt/home/szheng/ceph/ad/roman_data/e14/e14_2m...   \n",
       "            1  /mnt/home/szheng/ceph/ad/roman_data/e14/e14_2m...   \n",
       "\n",
       "                     sess_name animal_name.1        date  \\\n",
       "animal_name                                                \n",
       "e13_26m1    0  e13_26m1_210913      e13_26m1  2021-09-13   \n",
       "e15_13f1    0  e15_13f1_220117      e15_13f1  2022-01-17   \n",
       "            1  e15_13f1_220118      e15_13f1  2022-01-18   \n",
       "            2  e15_13f1_220119      e15_13f1  2022-01-19   \n",
       "            3  e15_13f1_220120      e15_13f1  2022-01-20   \n",
       "...                        ...           ...         ...   \n",
       "e16_2m1     0   e16_2m1_201116       e16_2m1  2020-11-16   \n",
       "e16_1f1     0   e16_1f1_200823       e16_1f1  2020-08-23   \n",
       "            1   e16_1f1_200824       e16_1f1  2020-08-24   \n",
       "e14_2m3     0   e14_2m3_201017       e14_2m3  2020-10-17   \n",
       "            1   e14_2m3_201019       e14_2m3  2020-10-19   \n",
       "\n",
       "                                    behavior  performance  ntrials  \\\n",
       "animal_name                                                          \n",
       "e13_26m1    0                    alternation     0.956522       69   \n",
       "e15_13f1    0                    alternation     0.617647       34   \n",
       "            1   ['alternation' 'linearMaze']     0.740741       27   \n",
       "            2  ['alternation' 'alternation']     0.721311       61   \n",
       "            3   ['alternation' 'linearMaze']     0.800000       45   \n",
       "...                                      ...          ...      ...   \n",
       "e16_2m1     0                    alternation     0.636364       11   \n",
       "e16_1f1     0                    alternation     0.631579       19   \n",
       "            1                    alternation     0.571429       21   \n",
       "e14_2m3     0                    alternation     0.615385       26   \n",
       "            1                    alternation     0.863636       22   \n",
       "\n",
       "               ngoodtrials  n_neurons  n_pyr_putative  owner   data_root  \n",
       "animal_name                                                               \n",
       "e13_26m1    0           69        482             422  roman  roman_data  \n",
       "e15_13f1    0           34        376             333  roman  roman_data  \n",
       "            1           27        363             318  roman  roman_data  \n",
       "            2           61        343             288  roman  roman_data  \n",
       "            3           45        303             248  roman  roman_data  \n",
       "...                    ...        ...             ...    ...         ...  \n",
       "e16_2m1     0           11         50              37  roman  roman_data  \n",
       "e16_1f1     0           19         47              32  roman  roman_data  \n",
       "            1           21         40              27  roman  roman_data  \n",
       "e14_2m3     0           26         34              26  roman  roman_data  \n",
       "            1           22         36              22  roman  roman_data  \n",
       "\n",
       "[67 rows x 12 columns]"
      ]
     },
     "execution_count": 2,
     "metadata": {},
     "output_type": "execute_result"
    }
   ],
   "source": [
    "data_dir_full=db.query('owner==\"roman\"')['data_dir_full'][0]\n",
    "data_dir_full\n",
    "db.query('owner==\"roman\"').sort_values('n_pyr_putative',ascending=False)"
   ]
  },
  {
   "cell_type": "code",
   "execution_count": 3,
   "id": "9c9ff7b1",
   "metadata": {},
   "outputs": [],
   "source": [
    "# data_dir_full = '/mnt/home/szheng/ceph/ad/roman_data/e15/e15_13f1/e15_13f1_220117/'\n",
    "data_dir_full = db.query('owner==\"roman\"').sort_values('n_pyr_putative',ascending=False)['data_dir_full'][0]\n",
    "\n",
    "# load data\n",
    "mat_to_return=prep.load_stuff(data_dir_full,sessionPulses = '*SessionPulses.Events.mat',filtered='*thetaFiltered*.mat')\n",
    "# sessionPulses=mat_to_return['sessionPulses']\n",
    "filtered = mat_to_return['filtered']\n",
    "behavior=mat_to_return['behavior']\n",
    "ripples = mat_to_return['ripples']\n",
    "\n",
    "\n",
    "prep_res = dpp.load_spk_beh_df(data_dir_full,force_reload=False,extra_load={})\n",
    "spk_beh_df=prep_res['spk_beh_df']\n",
    "cell_cols_d = prep_res['cell_cols_d']\n",
    "beh_df = prep_res['beh_df'].as_dataframe()\n",
    "beh_df_d,beh_df=dpp.group_into_trialtype(beh_df)\n",
    "spike_trains = prep_res['spike_trains']\n",
    "\n",
    "import nmf_one_session as nos\n",
    "from itertools import product\n",
    "reload(nos)\n",
    "condition_df = {'do_normalize':[True,False],'speed_thresh':[0,1,5],'israte':[True,False]}\n",
    "condition_df = pd.DataFrame(list(product(*condition_df.values())),columns=list(condition_df.keys()))\n",
    "n_compo = 4\n",
    "nmf_res_d = {}\n",
    "\n",
    "for _,combo in condition_df.iterrows():\n",
    "    do_normalize,speed_thresh,israte = combo['do_normalize'],combo['speed_thresh'],combo['israte']\n",
    "    res_to_save_name = f'nmf_{n_compo}_normalize_{do_normalize}_speedthresh_{int(speed_thresh)}_rate_{israte}'\n",
    "    nmf_res_d[tuple(combo.values)]=nos.nmf_one_session(data_dir_full,kwargs_={'n_compo':n_compo,'doplots':False,'n_clust':6,'do_normalize':do_normalize,'force_reload':False,'dosave':False,'speed_thresh':speed_thresh,'res_to_save_name':res_to_save_name,'israte':israte})\n",
    "\n",
    "\n",
    "\n",
    "import place_field_analysis as pf\n",
    "reload(pf)\n",
    "\n",
    "cell_cols = cell_cols_d['pyr']\n",
    "fr_map_d,count_d,occu_d,bins_d = pf.ratemap_from_spk_beh_df_alltrialtype(spk_beh_df,cell_cols,speed_thresh=5,nbins=100,smth_in_bin=2.5)\n",
    "spk_beh_df['lin_binned'],bins = pd.cut(spk_beh_df['lin'],100,retbins=True,labels=False)\n",
    "\n",
    "\n",
    "# get fields\n",
    "fr_map_peaks_d = {}\n",
    "field_res_d = {}\n",
    "for key in fr_map_d.keys():\n",
    "\n",
    "    fr_map = fr_map_d[key]\n",
    "    count = count_d[key]\n",
    "    occu = occu_d[key]\n",
    "    field_res_d[key] =pf.get_field_peaks_one_trialtype(fr_map,count,occu)\n",
    "    \n",
    "# turn tensor into df!!!\n",
    "fr_map_dict=pa.get_fr_map_trial(spk_beh_df,cell_cols_d['pyr'],trialtype_key='visitedArm',speed_thresh=1.,order=['smooth','divide'])\n",
    "fr_map_trial =  {}\n",
    "for tt in [0,1]:\n",
    "    tensor=fr_map_dict[tt][0]\n",
    "    posbin_l = np.arange(tensor.shape[1])\n",
    "    index=pd.MultiIndex.from_product([cell_cols_d['pyr'],posbin_l])\n",
    "    fr_map_trial_onetrialtype = pd.DataFrame(tensor.reshape(-1,tensor.shape[-1]),index=index)\n",
    "    fr_map_trial[tt] = fr_map_trial_onetrialtype\n",
    "\n",
    "reload(pf)\n",
    "field_params_trial=pf.get_field_params_trial(fr_map_trial[0],field_res_d[(0,0)]['all_fields'])"
   ]
  },
  {
   "cell_type": "code",
   "execution_count": 59,
   "id": "7da406ad",
   "metadata": {},
   "outputs": [],
   "source": [
    "embed_n = 5\n",
    "X = scipy.stats.zscore(field_params_trial.loc['fr'],axis=1)\n",
    "X_embed=pd.concat([X.shift(-i,axis=1).stack() for i in range(embed_n)],axis=1).dropna(axis=0)"
   ]
  },
  {
   "cell_type": "code",
   "execution_count": 17,
   "id": "22f49b26",
   "metadata": {},
   "outputs": [
    {
     "data": {
      "text/plain": [
       "3    0  0      0.008736\n",
       "        1      0.266130\n",
       "        2      1.155172\n",
       "        3      0.000000\n",
       "        4      0.592301\n",
       "                ...    \n",
       "480  0  28     4.200531\n",
       "        29    13.722047\n",
       "        30     9.772024\n",
       "        31    13.870261\n",
       "        32    10.515109\n",
       "Length: 10164, dtype: float64"
      ]
     },
     "execution_count": 17,
     "metadata": {},
     "output_type": "execute_result"
    }
   ],
   "source": [
    "X.shift(0,axis=1).stack()"
   ]
  },
  {
   "cell_type": "code",
   "execution_count": 29,
   "id": "bbcd8c2e",
   "metadata": {},
   "outputs": [],
   "source": [
    "from sklearn.mixture import GaussianMixture"
   ]
  },
  {
   "cell_type": "code",
   "execution_count": 74,
   "id": "1b71c102",
   "metadata": {},
   "outputs": [
    {
     "data": {
      "text/html": [
       "<style>#sk-container-id-6 {color: black;background-color: white;}#sk-container-id-6 pre{padding: 0;}#sk-container-id-6 div.sk-toggleable {background-color: white;}#sk-container-id-6 label.sk-toggleable__label {cursor: pointer;display: block;width: 100%;margin-bottom: 0;padding: 0.3em;box-sizing: border-box;text-align: center;}#sk-container-id-6 label.sk-toggleable__label-arrow:before {content: \"▸\";float: left;margin-right: 0.25em;color: #696969;}#sk-container-id-6 label.sk-toggleable__label-arrow:hover:before {color: black;}#sk-container-id-6 div.sk-estimator:hover label.sk-toggleable__label-arrow:before {color: black;}#sk-container-id-6 div.sk-toggleable__content {max-height: 0;max-width: 0;overflow: hidden;text-align: left;background-color: #f0f8ff;}#sk-container-id-6 div.sk-toggleable__content pre {margin: 0.2em;color: black;border-radius: 0.25em;background-color: #f0f8ff;}#sk-container-id-6 input.sk-toggleable__control:checked~div.sk-toggleable__content {max-height: 200px;max-width: 100%;overflow: auto;}#sk-container-id-6 input.sk-toggleable__control:checked~label.sk-toggleable__label-arrow:before {content: \"▾\";}#sk-container-id-6 div.sk-estimator input.sk-toggleable__control:checked~label.sk-toggleable__label {background-color: #d4ebff;}#sk-container-id-6 div.sk-label input.sk-toggleable__control:checked~label.sk-toggleable__label {background-color: #d4ebff;}#sk-container-id-6 input.sk-hidden--visually {border: 0;clip: rect(1px 1px 1px 1px);clip: rect(1px, 1px, 1px, 1px);height: 1px;margin: -1px;overflow: hidden;padding: 0;position: absolute;width: 1px;}#sk-container-id-6 div.sk-estimator {font-family: monospace;background-color: #f0f8ff;border: 1px dotted black;border-radius: 0.25em;box-sizing: border-box;margin-bottom: 0.5em;}#sk-container-id-6 div.sk-estimator:hover {background-color: #d4ebff;}#sk-container-id-6 div.sk-parallel-item::after {content: \"\";width: 100%;border-bottom: 1px solid gray;flex-grow: 1;}#sk-container-id-6 div.sk-label:hover label.sk-toggleable__label {background-color: #d4ebff;}#sk-container-id-6 div.sk-serial::before {content: \"\";position: absolute;border-left: 1px solid gray;box-sizing: border-box;top: 0;bottom: 0;left: 50%;z-index: 0;}#sk-container-id-6 div.sk-serial {display: flex;flex-direction: column;align-items: center;background-color: white;padding-right: 0.2em;padding-left: 0.2em;position: relative;}#sk-container-id-6 div.sk-item {position: relative;z-index: 1;}#sk-container-id-6 div.sk-parallel {display: flex;align-items: stretch;justify-content: center;background-color: white;position: relative;}#sk-container-id-6 div.sk-item::before, #sk-container-id-6 div.sk-parallel-item::before {content: \"\";position: absolute;border-left: 1px solid gray;box-sizing: border-box;top: 0;bottom: 0;left: 50%;z-index: -1;}#sk-container-id-6 div.sk-parallel-item {display: flex;flex-direction: column;z-index: 1;position: relative;background-color: white;}#sk-container-id-6 div.sk-parallel-item:first-child::after {align-self: flex-end;width: 50%;}#sk-container-id-6 div.sk-parallel-item:last-child::after {align-self: flex-start;width: 50%;}#sk-container-id-6 div.sk-parallel-item:only-child::after {width: 0;}#sk-container-id-6 div.sk-dashed-wrapped {border: 1px dashed gray;margin: 0 0.4em 0.5em 0.4em;box-sizing: border-box;padding-bottom: 0.4em;background-color: white;}#sk-container-id-6 div.sk-label label {font-family: monospace;font-weight: bold;display: inline-block;line-height: 1.2em;}#sk-container-id-6 div.sk-label-container {text-align: center;}#sk-container-id-6 div.sk-container {/* jupyter's `normalize.less` sets `[hidden] { display: none; }` but bootstrap.min.css set `[hidden] { display: none !important; }` so we also need the `!important` here to be able to override the default hidden behavior on the sphinx rendered scikit-learn.org. See: https://github.com/scikit-learn/scikit-learn/issues/21755 */display: inline-block !important;position: relative;}#sk-container-id-6 div.sk-text-repr-fallback {display: none;}</style><div id=\"sk-container-id-6\" class=\"sk-top-container\"><div class=\"sk-text-repr-fallback\"><pre>GaussianMixture(n_components=10)</pre><b>In a Jupyter environment, please rerun this cell to show the HTML representation or trust the notebook. <br />On GitHub, the HTML representation is unable to render, please try loading this page with nbviewer.org.</b></div><div class=\"sk-container\" hidden><div class=\"sk-item\"><div class=\"sk-estimator sk-toggleable\"><input class=\"sk-toggleable__control sk-hidden--visually\" id=\"sk-estimator-id-6\" type=\"checkbox\" checked><label for=\"sk-estimator-id-6\" class=\"sk-toggleable__label sk-toggleable__label-arrow\">GaussianMixture</label><div class=\"sk-toggleable__content\"><pre>GaussianMixture(n_components=10)</pre></div></div></div></div></div>"
      ],
      "text/plain": [
       "GaussianMixture(n_components=10)"
      ]
     },
     "execution_count": 74,
     "metadata": {},
     "output_type": "execute_result"
    }
   ],
   "source": [
    "gmm = GaussianMixture(n_components=10)\n",
    "gmm.fit(X_embed)"
   ]
  },
  {
   "cell_type": "code",
   "execution_count": 132,
   "id": "d7d683b0",
   "metadata": {},
   "outputs": [],
   "source": [
    "from scipy.cluster import hierarchy"
   ]
  },
  {
   "cell_type": "code",
   "execution_count": 137,
   "id": "48bc30b0",
   "metadata": {},
   "outputs": [],
   "source": [
    "Z = hierarchy.linkage(X_embed,\"average\",metric=\"cosine\")\n",
    "threshold=0.5\n",
    "C = hierarchy.fcluster(Z,threshold,criterion=\"distance\")"
   ]
  },
  {
   "cell_type": "code",
   "execution_count": 140,
   "id": "1e76ac98",
   "metadata": {
    "scrolled": true
   },
   "outputs": [],
   "source": [
    "X_embed_fit = copy.copy(X_embed)\n",
    "X_embed_fit['label'] = C"
   ]
  },
  {
   "cell_type": "code",
   "execution_count": 61,
   "id": "dad3c6f1",
   "metadata": {},
   "outputs": [
    {
     "data": {
      "text/plain": [
       "array([1, 1, 1, ..., 3, 3, 2])"
      ]
     },
     "execution_count": 61,
     "metadata": {},
     "output_type": "execute_result"
    }
   ],
   "source": [
    "gmm.predict(X_embed)"
   ]
  },
  {
   "cell_type": "code",
   "execution_count": 62,
   "id": "79c7c629",
   "metadata": {},
   "outputs": [
    {
     "data": {
      "text/plain": [
       "(4, 5)"
      ]
     },
     "execution_count": 62,
     "metadata": {},
     "output_type": "execute_result"
    }
   ],
   "source": [
    "gmm.means_.shape"
   ]
  },
  {
   "cell_type": "code",
   "execution_count": 75,
   "id": "a3d0b029",
   "metadata": {},
   "outputs": [
    {
     "data": {
      "text/plain": [
       "<matplotlib.legend.Legend at 0x1554a2bc8e50>"
      ]
     },
     "execution_count": 75,
     "metadata": {},
     "output_type": "execute_result"
    },
    {
     "data": {
      "image/png": "[encoded data removed]",
      "text/plain": [
       "<Figure size 432x288 with 1 Axes>"
      ]
     },
     "metadata": {
      "needs_background": "light"
     },
     "output_type": "display_data"
    }
   ],
   "source": [
    "%matplotlib inline\n",
    "plt.plot(gmm.means_.T)\n",
    "plt.legend(range(gmm.means_.shape[0]))"
   ]
  },
  {
   "cell_type": "code",
   "execution_count": null,
   "id": "9c81cd18",
   "metadata": {},
   "outputs": [],
   "source": [
    "change_big_enough=gmm.means_.max(axis=1)-gmm.means_.min(axis=1) > 0.5"
   ]
  },
  {
   "cell_type": "code",
   "execution_count": 113,
   "id": "69a9f60f",
   "metadata": {},
   "outputs": [],
   "source": [
    "X_embed_fit = copy.copy(X_embed)\n",
    "X_embed_fit['label'] = gmm.predict(X_embed)\n",
    "posterior=gmm.predict_proba(X_embed)[:,change_big_enough]\n",
    "posterior_cols= np.array([f'post_{i}' for i in range(gmm.means_.shape[0])])[change_big_enough]\n",
    "posterior = pd.DataFrame(posterior,index=X_embed_fit.index,columns=posterior_cols)\n",
    "X_embed_fit = pd.concat([X_embed_fit,posterior],axis=1)"
   ]
  },
  {
   "cell_type": "code",
   "execution_count": 73,
   "id": "041c5d56",
   "metadata": {},
   "outputs": [
    {
     "data": {
      "text/plain": [
       "<AxesSubplot:>"
      ]
     },
     "execution_count": 73,
     "metadata": {},
     "output_type": "execute_result"
    },
    {
     "data": {
      "image/png": "[encoded data removed]",
      "text/plain": [
       "<Figure size 432x288 with 1 Axes>"
      ]
     },
     "metadata": {
      "needs_background": "light"
     },
     "output_type": "display_data"
    }
   ],
   "source": [
    "X_embed_fit.loc[3,0][0].plot()\n",
    "X_embed_fit.loc[3,0]['post_3'].plot()"
   ]
  },
  {
   "cell_type": "code",
   "execution_count": 117,
   "id": "b7bf3aee",
   "metadata": {},
   "outputs": [],
   "source": [
    "moments_mask=X_embed_fit[posterior_cols].max(axis=1) > 0.95\n"
   ]
  },
  {
   "cell_type": "code",
   "execution_count": 91,
   "id": "14e416a0",
   "metadata": {
    "scrolled": true
   },
   "outputs": [
    {
     "data": {
      "text/plain": [
       "0         2.857015e-01\n",
       "1        -2.606397e-01\n",
       "2        -3.777253e-01\n",
       "3         5.209684e+00\n",
       "4        -5.224251e-01\n",
       "label     7.000000e+00\n",
       "post_0    0.000000e+00\n",
       "post_1    4.959818e-10\n",
       "post_2    3.494339e-04\n",
       "post_3    2.885178e-03\n",
       "post_4    1.751412e-67\n",
       "post_5    7.519725e-19\n",
       "post_6    2.798215e-13\n",
       "post_7    9.967653e-01\n",
       "post_8    1.563716e-09\n",
       "post_9    9.382420e-08\n",
       "Name: (38, 0, 28), dtype: float64"
      ]
     },
     "execution_count": 91,
     "metadata": {},
     "output_type": "execute_result"
    }
   ],
   "source": [
    "X_embed_fit.loc[moments_mask].iloc[ii]"
   ]
  },
  {
   "cell_type": "code",
   "execution_count": 118,
   "id": "efc72fd9",
   "metadata": {},
   "outputs": [
    {
     "data": {
      "text/html": [
       "<div>\n",
       "<style scoped>\n",
       "    .dataframe tbody tr th:only-of-type {\n",
       "        vertical-align: middle;\n",
       "    }\n",
       "\n",
       "    .dataframe tbody tr th {\n",
       "        vertical-align: top;\n",
       "    }\n",
       "\n",
       "    .dataframe thead th {\n",
       "        text-align: right;\n",
       "    }\n",
       "</style>\n",
       "<table border=\"1\" class=\"dataframe\">\n",
       "  <thead>\n",
       "    <tr style=\"text-align: right;\">\n",
       "      <th></th>\n",
       "      <th></th>\n",
       "      <th></th>\n",
       "      <th>0</th>\n",
       "      <th>1</th>\n",
       "      <th>2</th>\n",
       "      <th>3</th>\n",
       "      <th>4</th>\n",
       "      <th>label</th>\n",
       "      <th>post_1</th>\n",
       "      <th>post_2</th>\n",
       "      <th>post_5</th>\n",
       "      <th>post_6</th>\n",
       "      <th>post_7</th>\n",
       "      <th>post_8</th>\n",
       "      <th>post_9</th>\n",
       "    </tr>\n",
       "  </thead>\n",
       "  <tbody>\n",
       "    <tr>\n",
       "      <th>37</th>\n",
       "      <th>1</th>\n",
       "      <th>8</th>\n",
       "      <td>-1.581250</td>\n",
       "      <td>0.600117</td>\n",
       "      <td>-0.511167</td>\n",
       "      <td>-1.609670</td>\n",
       "      <td>2.053929</td>\n",
       "      <td>1</td>\n",
       "      <td>9.809001e-01</td>\n",
       "      <td>1.195329e-03</td>\n",
       "      <td>1.679220e-03</td>\n",
       "      <td>2.135296e-04</td>\n",
       "      <td>7.699263e-09</td>\n",
       "      <td>2.833701e-07</td>\n",
       "      <td>2.166534e-04</td>\n",
       "    </tr>\n",
       "    <tr>\n",
       "      <th rowspan=\"2\" valign=\"top\">38</th>\n",
       "      <th rowspan=\"2\" valign=\"top\">0</th>\n",
       "      <th>27</th>\n",
       "      <td>-0.658766</td>\n",
       "      <td>0.285701</td>\n",
       "      <td>-0.260640</td>\n",
       "      <td>-0.377725</td>\n",
       "      <td>5.209684</td>\n",
       "      <td>1</td>\n",
       "      <td>9.971939e-01</td>\n",
       "      <td>1.310833e-04</td>\n",
       "      <td>1.593291e-11</td>\n",
       "      <td>4.456579e-14</td>\n",
       "      <td>1.033403e-31</td>\n",
       "      <td>2.491790e-03</td>\n",
       "      <td>6.974514e-10</td>\n",
       "    </tr>\n",
       "    <tr>\n",
       "      <th>28</th>\n",
       "      <td>0.285701</td>\n",
       "      <td>-0.260640</td>\n",
       "      <td>-0.377725</td>\n",
       "      <td>5.209684</td>\n",
       "      <td>-0.522425</td>\n",
       "      <td>7</td>\n",
       "      <td>4.959818e-10</td>\n",
       "      <td>3.494339e-04</td>\n",
       "      <td>7.519725e-19</td>\n",
       "      <td>2.798215e-13</td>\n",
       "      <td>9.967653e-01</td>\n",
       "      <td>1.563716e-09</td>\n",
       "      <td>9.382420e-08</td>\n",
       "    </tr>\n",
       "    <tr>\n",
       "      <th rowspan=\"2\" valign=\"top\">48</th>\n",
       "      <th>0</th>\n",
       "      <th>6</th>\n",
       "      <td>-2.472918</td>\n",
       "      <td>-0.050603</td>\n",
       "      <td>-1.455657</td>\n",
       "      <td>-1.664879</td>\n",
       "      <td>1.348703</td>\n",
       "      <td>1</td>\n",
       "      <td>9.673436e-01</td>\n",
       "      <td>9.487147e-03</td>\n",
       "      <td>1.203637e-02</td>\n",
       "      <td>4.437973e-03</td>\n",
       "      <td>1.282460e-05</td>\n",
       "      <td>4.566976e-08</td>\n",
       "      <td>5.087468e-04</td>\n",
       "    </tr>\n",
       "    <tr>\n",
       "      <th>1</th>\n",
       "      <th>1</th>\n",
       "      <td>-1.437888</td>\n",
       "      <td>-1.162519</td>\n",
       "      <td>-0.095235</td>\n",
       "      <td>1.910858</td>\n",
       "      <td>2.065190</td>\n",
       "      <td>2</td>\n",
       "      <td>4.056741e-03</td>\n",
       "      <td>9.610673e-01</td>\n",
       "      <td>3.238036e-06</td>\n",
       "      <td>4.639378e-06</td>\n",
       "      <td>2.693412e-06</td>\n",
       "      <td>1.160390e-03</td>\n",
       "      <td>2.469111e-03</td>\n",
       "    </tr>\n",
       "    <tr>\n",
       "      <th>...</th>\n",
       "      <th>...</th>\n",
       "      <th>...</th>\n",
       "      <td>...</td>\n",
       "      <td>...</td>\n",
       "      <td>...</td>\n",
       "      <td>...</td>\n",
       "      <td>...</td>\n",
       "      <td>...</td>\n",
       "      <td>...</td>\n",
       "      <td>...</td>\n",
       "      <td>...</td>\n",
       "      <td>...</td>\n",
       "      <td>...</td>\n",
       "      <td>...</td>\n",
       "      <td>...</td>\n",
       "    </tr>\n",
       "    <tr>\n",
       "      <th>451</th>\n",
       "      <th>0</th>\n",
       "      <th>17</th>\n",
       "      <td>4.491970</td>\n",
       "      <td>-0.249989</td>\n",
       "      <td>-0.433085</td>\n",
       "      <td>-0.433085</td>\n",
       "      <td>-0.433085</td>\n",
       "      <td>9</td>\n",
       "      <td>5.604710e-05</td>\n",
       "      <td>1.168788e-23</td>\n",
       "      <td>4.989188e-06</td>\n",
       "      <td>9.094888e-08</td>\n",
       "      <td>1.966033e-08</td>\n",
       "      <td>4.080555e-38</td>\n",
       "      <td>9.654469e-01</td>\n",
       "    </tr>\n",
       "    <tr>\n",
       "      <th rowspan=\"4\" valign=\"top\">465</th>\n",
       "      <th rowspan=\"4\" valign=\"top\">0</th>\n",
       "      <th>10</th>\n",
       "      <td>-0.382111</td>\n",
       "      <td>-0.382111</td>\n",
       "      <td>-0.382111</td>\n",
       "      <td>4.079076</td>\n",
       "      <td>-0.382111</td>\n",
       "      <td>7</td>\n",
       "      <td>2.205608e-07</td>\n",
       "      <td>1.019376e-02</td>\n",
       "      <td>2.022239e-12</td>\n",
       "      <td>4.716362e-09</td>\n",
       "      <td>9.777606e-01</td>\n",
       "      <td>9.791032e-07</td>\n",
       "      <td>2.493184e-05</td>\n",
       "    </tr>\n",
       "    <tr>\n",
       "      <th>11</th>\n",
       "      <td>-0.382111</td>\n",
       "      <td>-0.382111</td>\n",
       "      <td>4.079076</td>\n",
       "      <td>-0.382111</td>\n",
       "      <td>3.480443</td>\n",
       "      <td>2</td>\n",
       "      <td>1.615259e-05</td>\n",
       "      <td>9.929106e-01</td>\n",
       "      <td>1.299048e-18</td>\n",
       "      <td>1.139647e-07</td>\n",
       "      <td>3.092814e-24</td>\n",
       "      <td>1.324380e-40</td>\n",
       "      <td>1.437700e-07</td>\n",
       "    </tr>\n",
       "    <tr>\n",
       "      <th>14</th>\n",
       "      <td>-0.382111</td>\n",
       "      <td>3.480443</td>\n",
       "      <td>-0.382111</td>\n",
       "      <td>-0.382111</td>\n",
       "      <td>-0.382111</td>\n",
       "      <td>5</td>\n",
       "      <td>1.023398e-03</td>\n",
       "      <td>3.718792e-15</td>\n",
       "      <td>9.697012e-01</td>\n",
       "      <td>2.134311e-05</td>\n",
       "      <td>1.311763e-06</td>\n",
       "      <td>4.564641e-38</td>\n",
       "      <td>7.623175e-06</td>\n",
       "    </tr>\n",
       "    <tr>\n",
       "      <th>15</th>\n",
       "      <td>3.480443</td>\n",
       "      <td>-0.382111</td>\n",
       "      <td>-0.382111</td>\n",
       "      <td>-0.382111</td>\n",
       "      <td>-0.382111</td>\n",
       "      <td>9</td>\n",
       "      <td>1.432187e-03</td>\n",
       "      <td>1.089978e-16</td>\n",
       "      <td>4.068806e-04</td>\n",
       "      <td>3.053001e-05</td>\n",
       "      <td>6.495235e-06</td>\n",
       "      <td>3.417230e-25</td>\n",
       "      <td>9.506416e-01</td>\n",
       "    </tr>\n",
       "  </tbody>\n",
       "</table>\n",
       "<p>105 rows × 13 columns</p>\n",
       "</div>"
      ],
      "text/plain": [
       "                 0         1         2         3         4  label  \\\n",
       "37  1 8  -1.581250  0.600117 -0.511167 -1.609670  2.053929      1   \n",
       "38  0 27 -0.658766  0.285701 -0.260640 -0.377725  5.209684      1   \n",
       "      28  0.285701 -0.260640 -0.377725  5.209684 -0.522425      7   \n",
       "48  0 6  -2.472918 -0.050603 -1.455657 -1.664879  1.348703      1   \n",
       "    1 1  -1.437888 -1.162519 -0.095235  1.910858  2.065190      2   \n",
       "...            ...       ...       ...       ...       ...    ...   \n",
       "451 0 17  4.491970 -0.249989 -0.433085 -0.433085 -0.433085      9   \n",
       "465 0 10 -0.382111 -0.382111 -0.382111  4.079076 -0.382111      7   \n",
       "      11 -0.382111 -0.382111  4.079076 -0.382111  3.480443      2   \n",
       "      14 -0.382111  3.480443 -0.382111 -0.382111 -0.382111      5   \n",
       "      15  3.480443 -0.382111 -0.382111 -0.382111 -0.382111      9   \n",
       "\n",
       "                post_1        post_2        post_5        post_6  \\\n",
       "37  1 8   9.809001e-01  1.195329e-03  1.679220e-03  2.135296e-04   \n",
       "38  0 27  9.971939e-01  1.310833e-04  1.593291e-11  4.456579e-14   \n",
       "      28  4.959818e-10  3.494339e-04  7.519725e-19  2.798215e-13   \n",
       "48  0 6   9.673436e-01  9.487147e-03  1.203637e-02  4.437973e-03   \n",
       "    1 1   4.056741e-03  9.610673e-01  3.238036e-06  4.639378e-06   \n",
       "...                ...           ...           ...           ...   \n",
       "451 0 17  5.604710e-05  1.168788e-23  4.989188e-06  9.094888e-08   \n",
       "465 0 10  2.205608e-07  1.019376e-02  2.022239e-12  4.716362e-09   \n",
       "      11  1.615259e-05  9.929106e-01  1.299048e-18  1.139647e-07   \n",
       "      14  1.023398e-03  3.718792e-15  9.697012e-01  2.134311e-05   \n",
       "      15  1.432187e-03  1.089978e-16  4.068806e-04  3.053001e-05   \n",
       "\n",
       "                post_7        post_8        post_9  \n",
       "37  1 8   7.699263e-09  2.833701e-07  2.166534e-04  \n",
       "38  0 27  1.033403e-31  2.491790e-03  6.974514e-10  \n",
       "      28  9.967653e-01  1.563716e-09  9.382420e-08  \n",
       "48  0 6   1.282460e-05  4.566976e-08  5.087468e-04  \n",
       "    1 1   2.693412e-06  1.160390e-03  2.469111e-03  \n",
       "...                ...           ...           ...  \n",
       "451 0 17  1.966033e-08  4.080555e-38  9.654469e-01  \n",
       "465 0 10  9.777606e-01  9.791032e-07  2.493184e-05  \n",
       "      11  3.092814e-24  1.324380e-40  1.437700e-07  \n",
       "      14  1.311763e-06  4.564641e-38  7.623175e-06  \n",
       "      15  6.495235e-06  3.417230e-25  9.506416e-01  \n",
       "\n",
       "[105 rows x 13 columns]"
      ]
     },
     "execution_count": 118,
     "metadata": {},
     "output_type": "execute_result"
    }
   ],
   "source": [
    "X_embed_fit.loc[moments_mask]"
   ]
  },
  {
   "cell_type": "code",
   "execution_count": 93,
   "id": "2753116c",
   "metadata": {},
   "outputs": [
    {
     "data": {
      "text/plain": [
       "(38, 0, 28)"
      ]
     },
     "execution_count": 93,
     "metadata": {},
     "output_type": "execute_result"
    }
   ],
   "source": [
    "X_embed_fit.loc[moments_mask].index[ii]"
   ]
  },
  {
   "cell_type": "code",
   "execution_count": 131,
   "id": "801c9359",
   "metadata": {},
   "outputs": [
    {
     "name": "stdout",
     "output_type": "stream",
     "text": [
      "6\n"
     ]
    },
    {
     "data": {
      "text/plain": [
       "[<matplotlib.lines.Line2D at 0x15549af58bb0>]"
      ]
     },
     "execution_count": 131,
     "metadata": {},
     "output_type": "execute_result"
    },
    {
     "data": {
      "image/png": "[encoded data removed]",
      "text/plain": [
       "<Figure size 432x288 with 1 Axes>"
      ]
     },
     "metadata": {
      "needs_background": "light"
     },
     "output_type": "display_data"
    },
    {
     "data": {
      "image/png": "[encoded data removed]",
      "text/plain": [
       "<Figure size 432x288 with 1 Axes>"
      ]
     },
     "metadata": {
      "needs_background": "light"
     },
     "output_type": "display_data"
    }
   ],
   "source": [
    "ii=11\n",
    "neuron,field,trial = X_embed_fit.loc[moments_mask].index[ii]\n",
    "# X_embed_fit.loc[moments_mask].iloc[ii].loc[0:4].plot()\n",
    "label = int(X_embed_fit.loc[moments_mask].iloc[ii]['label'])\n",
    "print(label)\n",
    "ax=X.loc[neuron,field].plot()\n",
    "ax.axvline(trial)\n",
    "plt.figure()\n",
    "plt.plot(gmm.means_[label])"
   ]
  },
  {
   "cell_type": "code",
   "execution_count": null,
   "id": "ab4d7d7a",
   "metadata": {},
   "outputs": [],
   "source": []
  }
 ],
 "metadata": {
  "kernelspec": {
   "display_name": "jax",
   "language": "python",
   "name": "jax"
  },
  "language_info": {
   "codemirror_mode": {
    "name": "ipython",
    "version": 3
   },
   "file_extension": ".py",
   "mimetype": "text/x-python",
   "name": "python",
   "nbconvert_exporter": "python",
   "pygments_lexer": "ipython3",
   "version": "3.9.13"
  }
 },
 "nbformat": 4,
 "nbformat_minor": 5
}
