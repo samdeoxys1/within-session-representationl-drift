{
 "cells": [
  {
   "cell_type": "code",
   "execution_count": 2,
   "id": "fccf161a",
   "metadata": {},
   "outputs": [
    {
     "name": "stdout",
     "output_type": "stream",
     "text": [
      "67 sessions!\n",
      "67 sessions!\n"
     ]
    }
   ],
   "source": [
    "import numpy as np\n",
    "import scipy\n",
    "import sklearn\n",
    "from sklearn.decomposition import NMF\n",
    "from sklearn.cluster import KMeans\n",
    "from sklearn.mixture import GaussianMixture,BayesianGaussianMixture\n",
    "\n",
    "import pandas as pd\n",
    "\n",
    "import matplotlib.pyplot as plt\n",
    "import seaborn as sns\n",
    "import matplotlib as mpl\n",
    "mpl.rcParams['image.cmap'] = 'Greys'\n",
    "mpl.rcParams['axes.spines.right'] = False\n",
    "mpl.rcParams['axes.spines.top'] = False\n",
    "\n",
    "\n",
    "\n",
    "import sys,os,pdb,copy,pickle\n",
    "from importlib import reload\n",
    "# import pynapple as nap\n",
    "\n",
    "sys.path.append('/mnt/home/szheng/projects/seq_detection2/code')\n",
    "sys.path.append('/mnt/home/szheng/projects/util_code')\n",
    "sys.path.append('/mnt/home/szheng/projects/nmf_analysis')\n",
    "sys.path.append('/mnt/home/szheng/projects/nmf_analysis/scripts')\n",
    "sys.path.append('/mnt/home/szheng/projects/cluster_spikes')\n",
    "sys.path.append('/mnt/home/szheng/projects/place_variability/code')\n",
    "import data_prep_new as dpn\n",
    "import place_cell_analysis as pa\n",
    "import plot_helper as ph\n",
    "import preprocess as prep\n",
    "import nmf_analysis as na\n",
    "import nmf_plot as nmfp\n",
    "reload(na)\n",
    "\n",
    "import raster_new as rn\n",
    "import data_prep_pyn as dpp\n",
    "\n",
    "\n",
    "import change_point_analysis as cpa\n",
    "import change_point_plot as cpp\n",
    "\n",
    "import place_field_analysis as pf\n",
    "\n",
    "import switch_analysis_one_session as saos\n",
    "reload(saos)\n",
    "\n",
    "import process_central_arm as pca \n",
    "import change_point_analysis_central_arm_seperate as cpacas\n",
    "\n",
    "import misc\n",
    "reload(misc)\n",
    "from misc import get_nth_key, get_nth_val"
   ]
  },
  {
   "cell_type": "code",
   "execution_count": 3,
   "id": "68e099a3",
   "metadata": {},
   "outputs": [],
   "source": [
    "import matplotlib.pyplot as plt\n",
    "\n",
    "# Set default figure size\n",
    "plt.rcParams['figure.figsize'] = (6, 4)  # width, height in inches\n",
    "\n",
    "# Set default font sizes\n",
    "plt.rcParams['font.size'] = 15  # Default font size\n",
    "plt.rcParams['axes.titlesize'] = 15  # Title font size\n",
    "plt.rcParams['axes.labelsize'] = 15  # Label font size\n",
    "plt.rcParams['xtick.labelsize'] = 15  # x-axis tick label font size\n",
    "plt.rcParams['ytick.labelsize'] = 15  # y-axis tick label font size\n",
    "plt.rcParams['legend.fontsize'] = 15  # Legend font size\n",
    "mpl.rcParams['image.cmap'] = 'Greys'\n",
    "mpl.rcParams['axes.spines.right'] = False\n",
    "mpl.rcParams['axes.spines.top'] = False"
   ]
  },
  {
   "cell_type": "code",
   "execution_count": 4,
   "id": "07454757",
   "metadata": {},
   "outputs": [
    {
     "name": "stderr",
     "output_type": "stream",
     "text": [
      "/mnt/home/szheng/ceph/envs/jax/lib/python3.9/site-packages/outdated/utils.py:14: OutdatedPackageWarning: The package pingouin is out of date. Your version is 0.5.2, the latest is 0.5.4.\n",
      "Set the environment variable OUTDATED_IGNORE=1 to disable these warnings.\n",
      "  return warn(\n"
     ]
    }
   ],
   "source": [
    "import matplotlib\n",
    "matplotlib.rcParams['svg.fonttype'] = 'none'"
   ]
  },
  {
   "cell_type": "code",
   "execution_count": 5,
   "id": "3f4e75eb",
   "metadata": {},
   "outputs": [
    {
     "name": "stdout",
     "output_type": "stream",
     "text": [
      "/mnt/home/szheng/ceph/place_variability/fig/paper/suppfigure_continuous_vs_discrete_noavgpopdrift made!\n"
     ]
    },
    {
     "data": {
      "text/plain": [
       "'/mnt/home/szheng/ceph/place_variability/data/paper'"
      ]
     },
     "execution_count": 5,
     "metadata": {},
     "output_type": "execute_result"
    }
   ],
   "source": [
    "\n",
    "figdir = '/mnt/home/szheng/ceph/place_variability/fig/paper/suppfigure_continuous_vs_discrete_noavgpopdrift'\n",
    "misc.get_or_create_subdir(figdir)\n",
    "data_dir = '/mnt/home/szheng/ceph/place_variability/data/paper'\n",
    "misc.get_or_create_subdir(data_dir)\n"
   ]
  },
  {
   "cell_type": "code",
   "execution_count": 6,
   "id": "0943aa5c",
   "metadata": {},
   "outputs": [],
   "source": [
    "import database\n",
    "db = database.db\n",
    "\n",
    "subdb = db.query('owner==\"roman\"').sort_values('n_pyr_putative',ascending=False)\n",
    "subdb = subdb.query('ntrials>=20&n_neurons>=50')\n",
    "to_exclude_sess = ['e16_3m2_211211']\n",
    "subdb=subdb.loc[~subdb['sess_name'].isin(to_exclude_sess)]\n",
    "\n",
    "\n",
    "import pf_recombine_central as pfrc\n",
    "import fr_map_one_session as fmos\n",
    "import switch_detection_one_session as sdos\n",
    "import get_all_switch_add_metrics as gasam\n",
    "\n",
    "import preprocess_one_session as prepos"
   ]
  },
  {
   "cell_type": "code",
   "execution_count": 7,
   "id": "b6409efe",
   "metadata": {},
   "outputs": [],
   "source": [
    "fn = 'prepped_data_agg.p'\n",
    "fn_full = os.path.join(data_dir,fn)\n",
    "prepped_data_agg = pickle.load(open(fn_full,'rb'))\n",
    "\n",
    "all_fields_recombined_all = prepped_data_agg['all_fields_recombined_all']\n",
    "pf_params_recombined_all=  prepped_data_agg['pf_params_recombined_all']\n",
    "fr_map_trial_df_all= prepped_data_agg['fr_map_trial_df_all']\n",
    "occu_map_all = prepped_data_agg['occu_map_all']\n",
    "fr_map_all = prepped_data_agg['fr_map_all']\n",
    "\n",
    "pval_all = prepped_data_agg['pval_all']\n",
    "X_pwc_all = prepped_data_agg['X_pwc_all']\n",
    "X_raw_all = prepped_data_agg['X_raw_all']\n",
    "changes_df_all = prepped_data_agg['changes_df_all']\n",
    "var_res_all_test = prepped_data_agg['var_res_all']\n",
    "# corr_all = prepped_data_agg['corr_all']\n",
    "all_sw_d_all = prepped_data_agg['all_sw_d_all']\n",
    "all_sw_with_metrics_d_all = prepped_data_agg['all_sw_with_metrics_d_all']\n",
    "best_n_all_test = prepped_data_agg['best_n_all']\n",
    "spk_beh_df_all = prepped_data_agg['spk_beh_df_all']\n",
    "\n",
    "# pf_params_all = prepped_data_agg['pf_params_all']\n",
    "# all_fields_all = prepped_data_agg['all_fields_all']\n",
    "\n",
    "ntrials_per_tt=fr_map_trial_df_all.groupby(level=(0,1,2,3)).apply(lambda x:x.dropna(axis=1,how='all').shape[1])\n",
    "ntrials_mask = ntrials_per_tt.groupby(level=(0,1,2)).apply(lambda x:(x>=7).all()) \n",
    "\n"
   ]
  },
  {
   "cell_type": "code",
   "execution_count": 8,
   "id": "6ab877b7",
   "metadata": {},
   "outputs": [],
   "source": [
    "savefn_full = os.path.join(data_dir,'per_field_metrics_shtest_with_1cp.p')\n",
    "# pickle.dump(per_field_metrics_all,open(savefn_full,'wb'))\n",
    "per_field_metrics_all=pickle.load(open(savefn_full,'rb'))"
   ]
  },
  {
   "cell_type": "markdown",
   "id": "6fdeac58",
   "metadata": {},
   "source": [
    "# individual neuron, diff in rate/loc, mean across trial pairs, sudden or gradual"
   ]
  },
  {
   "cell_type": "code",
   "execution_count": 252,
   "id": "904a6f2f",
   "metadata": {},
   "outputs": [],
   "source": [
    "pf_params_all = prepped_data_agg['pf_params_all']"
   ]
  },
  {
   "cell_type": "code",
   "execution_count": 257,
   "id": "bcd49aae",
   "metadata": {},
   "outputs": [],
   "source": [
    "key_l =['fr_peak','peak']\n",
    "for key in key_l:\n",
    "    \n",
    "    fr_peak_peak_all_unstack = pf_params_all.loc[(slice(None),slice(None),slice(None),slice(None),key)]\n",
    "#     sub=fr_peak_peak_all_unstack.sample(1).iloc[0]\n",
    "#     ani,sess,ti,tt,uid,field_id = sub.name\n",
    "#     sub=sub.unstack(-1).T.dropna(axis=1)"
   ]
  },
  {
   "cell_type": "code",
   "execution_count": null,
   "id": "c47b6fef",
   "metadata": {},
   "outputs": [],
   "source": [
    "# have done peak, not fr_peak yet!!!!!"
   ]
  },
  {
   "cell_type": "code",
   "execution_count": 259,
   "id": "69cfbe98",
   "metadata": {},
   "outputs": [],
   "source": [
    "dist_pertrpair_key_all = fr_peak_peak_all_unstack.groupby(level=(0,1,2,3,4,5)).apply(pvca.dist_one_df)"
   ]
  },
  {
   "cell_type": "code",
   "execution_count": 263,
   "id": "aff87aec",
   "metadata": {},
   "outputs": [
    {
     "name": "stdout",
     "output_type": "stream",
     "text": [
      "CPU times: user 1min 10s, sys: 317 ms, total: 1min 11s\n",
      "Wall time: 1min 11s\n"
     ]
    }
   ],
   "source": [
    "%%time\n",
    "dist_perlag_key_all=dist_pertrpair_key_all.groupby(level=(0,1,2,3,4,5)).apply(pvca.get_val_per_lag)"
   ]
  },
  {
   "cell_type": "code",
   "execution_count": 266,
   "id": "13003c6c",
   "metadata": {},
   "outputs": [],
   "source": [
    "dist_key_perfield = dist_perlag_key_all.groupby(level=(0,1,2,3,4,5)).mean()"
   ]
  },
  {
   "cell_type": "code",
   "execution_count": 268,
   "id": "badd16a1",
   "metadata": {},
   "outputs": [
    {
     "name": "stderr",
     "output_type": "stream",
     "text": [
      "/mnt/home/szheng/ceph/envs/jax/lib/python3.9/site-packages/statsmodels/regression/linear_model.py:1736: RuntimeWarning: invalid value encountered in scalar divide\n",
      "  return 1 - self.ssr/self.centered_tss\n",
      "/mnt/home/szheng/projects/place_variability/code/step_vs_gradual_analysis.py:21: RuntimeWarning: invalid value encountered in scalar divide\n",
      "  r2 = 1-np.var(xx - xx_pwc) / np.var(xx)\n",
      "/mnt/home/szheng/ceph/envs/jax/lib/python3.9/site-packages/statsmodels/regression/linear_model.py:1736: RuntimeWarning: invalid value encountered in scalar divide\n",
      "  return 1 - self.ssr/self.centered_tss\n",
      "/mnt/home/szheng/projects/place_variability/code/step_vs_gradual_analysis.py:21: RuntimeWarning: invalid value encountered in scalar divide\n",
      "  r2 = 1-np.var(xx - xx_pwc) / np.var(xx)\n",
      "/mnt/home/szheng/ceph/envs/jax/lib/python3.9/site-packages/statsmodels/regression/linear_model.py:1736: RuntimeWarning: invalid value encountered in scalar divide\n",
      "  return 1 - self.ssr/self.centered_tss\n",
      "/mnt/home/szheng/projects/place_variability/code/step_vs_gradual_analysis.py:21: RuntimeWarning: invalid value encountered in scalar divide\n",
      "  r2 = 1-np.var(xx - xx_pwc) / np.var(xx)\n",
      "/mnt/home/szheng/ceph/envs/jax/lib/python3.9/site-packages/statsmodels/regression/linear_model.py:1736: RuntimeWarning: invalid value encountered in scalar divide\n",
      "  return 1 - self.ssr/self.centered_tss\n",
      "/mnt/home/szheng/projects/place_variability/code/step_vs_gradual_analysis.py:21: RuntimeWarning: invalid value encountered in scalar divide\n",
      "  r2 = 1-np.var(xx - xx_pwc) / np.var(xx)\n",
      "/mnt/home/szheng/ceph/envs/jax/lib/python3.9/site-packages/statsmodels/regression/linear_model.py:1736: RuntimeWarning: invalid value encountered in scalar divide\n",
      "  return 1 - self.ssr/self.centered_tss\n",
      "/mnt/home/szheng/projects/place_variability/code/step_vs_gradual_analysis.py:21: RuntimeWarning: invalid value encountered in scalar divide\n",
      "  r2 = 1-np.var(xx - xx_pwc) / np.var(xx)\n",
      "/mnt/home/szheng/ceph/envs/jax/lib/python3.9/site-packages/statsmodels/regression/linear_model.py:1736: RuntimeWarning: invalid value encountered in scalar divide\n",
      "  return 1 - self.ssr/self.centered_tss\n",
      "/mnt/home/szheng/projects/place_variability/code/step_vs_gradual_analysis.py:21: RuntimeWarning: invalid value encountered in scalar divide\n",
      "  r2 = 1-np.var(xx - xx_pwc) / np.var(xx)\n",
      "/mnt/home/szheng/ceph/envs/jax/lib/python3.9/site-packages/statsmodels/regression/linear_model.py:1736: RuntimeWarning: invalid value encountered in scalar divide\n",
      "  return 1 - self.ssr/self.centered_tss\n",
      "/mnt/home/szheng/projects/place_variability/code/step_vs_gradual_analysis.py:21: RuntimeWarning: invalid value encountered in scalar divide\n",
      "  r2 = 1-np.var(xx - xx_pwc) / np.var(xx)\n",
      "/mnt/home/szheng/ceph/envs/jax/lib/python3.9/site-packages/statsmodels/regression/linear_model.py:1736: RuntimeWarning: invalid value encountered in scalar divide\n",
      "  return 1 - self.ssr/self.centered_tss\n",
      "/mnt/home/szheng/projects/place_variability/code/step_vs_gradual_analysis.py:21: RuntimeWarning: invalid value encountered in scalar divide\n",
      "  r2 = 1-np.var(xx - xx_pwc) / np.var(xx)\n",
      "/mnt/home/szheng/ceph/envs/jax/lib/python3.9/site-packages/statsmodels/regression/linear_model.py:1736: RuntimeWarning: invalid value encountered in scalar divide\n",
      "  return 1 - self.ssr/self.centered_tss\n",
      "/mnt/home/szheng/projects/place_variability/code/step_vs_gradual_analysis.py:21: RuntimeWarning: invalid value encountered in scalar divide\n",
      "  r2 = 1-np.var(xx - xx_pwc) / np.var(xx)\n",
      "/mnt/home/szheng/ceph/envs/jax/lib/python3.9/site-packages/statsmodels/regression/linear_model.py:1736: RuntimeWarning: invalid value encountered in scalar divide\n",
      "  return 1 - self.ssr/self.centered_tss\n",
      "/mnt/home/szheng/projects/place_variability/code/step_vs_gradual_analysis.py:21: RuntimeWarning: invalid value encountered in scalar divide\n",
      "  r2 = 1-np.var(xx - xx_pwc) / np.var(xx)\n",
      "/mnt/home/szheng/ceph/envs/jax/lib/python3.9/site-packages/statsmodels/regression/linear_model.py:1736: RuntimeWarning: invalid value encountered in scalar divide\n",
      "  return 1 - self.ssr/self.centered_tss\n",
      "/mnt/home/szheng/projects/place_variability/code/step_vs_gradual_analysis.py:21: RuntimeWarning: invalid value encountered in scalar divide\n",
      "  r2 = 1-np.var(xx - xx_pwc) / np.var(xx)\n",
      "/mnt/home/szheng/ceph/envs/jax/lib/python3.9/site-packages/statsmodels/regression/linear_model.py:1736: RuntimeWarning: invalid value encountered in scalar divide\n",
      "  return 1 - self.ssr/self.centered_tss\n",
      "/mnt/home/szheng/projects/place_variability/code/step_vs_gradual_analysis.py:21: RuntimeWarning: invalid value encountered in scalar divide\n",
      "  r2 = 1-np.var(xx - xx_pwc) / np.var(xx)\n",
      "/mnt/home/szheng/ceph/envs/jax/lib/python3.9/site-packages/statsmodels/regression/linear_model.py:1736: RuntimeWarning: invalid value encountered in scalar divide\n",
      "  return 1 - self.ssr/self.centered_tss\n",
      "/mnt/home/szheng/projects/place_variability/code/step_vs_gradual_analysis.py:21: RuntimeWarning: invalid value encountered in scalar divide\n",
      "  r2 = 1-np.var(xx - xx_pwc) / np.var(xx)\n",
      "/mnt/home/szheng/ceph/envs/jax/lib/python3.9/site-packages/statsmodels/regression/linear_model.py:1736: RuntimeWarning: invalid value encountered in scalar divide\n",
      "  return 1 - self.ssr/self.centered_tss\n",
      "/mnt/home/szheng/projects/place_variability/code/step_vs_gradual_analysis.py:21: RuntimeWarning: invalid value encountered in scalar divide\n",
      "  r2 = 1-np.var(xx - xx_pwc) / np.var(xx)\n",
      "/mnt/home/szheng/ceph/envs/jax/lib/python3.9/site-packages/statsmodels/regression/linear_model.py:1736: RuntimeWarning: invalid value encountered in scalar divide\n",
      "  return 1 - self.ssr/self.centered_tss\n",
      "/mnt/home/szheng/projects/place_variability/code/step_vs_gradual_analysis.py:21: RuntimeWarning: invalid value encountered in scalar divide\n",
      "  r2 = 1-np.var(xx - xx_pwc) / np.var(xx)\n",
      "/mnt/home/szheng/ceph/envs/jax/lib/python3.9/site-packages/statsmodels/regression/linear_model.py:1736: RuntimeWarning: invalid value encountered in scalar divide\n",
      "  return 1 - self.ssr/self.centered_tss\n",
      "/mnt/home/szheng/projects/place_variability/code/step_vs_gradual_analysis.py:21: RuntimeWarning: invalid value encountered in scalar divide\n",
      "  r2 = 1-np.var(xx - xx_pwc) / np.var(xx)\n",
      "/mnt/home/szheng/ceph/envs/jax/lib/python3.9/site-packages/statsmodels/regression/linear_model.py:1736: RuntimeWarning: invalid value encountered in scalar divide\n",
      "  return 1 - self.ssr/self.centered_tss\n",
      "/mnt/home/szheng/projects/place_variability/code/step_vs_gradual_analysis.py:21: RuntimeWarning: invalid value encountered in scalar divide\n",
      "  r2 = 1-np.var(xx - xx_pwc) / np.var(xx)\n",
      "/mnt/home/szheng/ceph/envs/jax/lib/python3.9/site-packages/statsmodels/regression/linear_model.py:1736: RuntimeWarning: invalid value encountered in scalar divide\n",
      "  return 1 - self.ssr/self.centered_tss\n",
      "/mnt/home/szheng/projects/place_variability/code/step_vs_gradual_analysis.py:21: RuntimeWarning: invalid value encountered in scalar divide\n",
      "  r2 = 1-np.var(xx - xx_pwc) / np.var(xx)\n",
      "/mnt/home/szheng/ceph/envs/jax/lib/python3.9/site-packages/statsmodels/regression/linear_model.py:1736: RuntimeWarning: invalid value encountered in scalar divide\n",
      "  return 1 - self.ssr/self.centered_tss\n",
      "/mnt/home/szheng/projects/place_variability/code/step_vs_gradual_analysis.py:21: RuntimeWarning: invalid value encountered in scalar divide\n",
      "  r2 = 1-np.var(xx - xx_pwc) / np.var(xx)\n",
      "/mnt/home/szheng/ceph/envs/jax/lib/python3.9/site-packages/statsmodels/regression/linear_model.py:1736: RuntimeWarning: invalid value encountered in scalar divide\n",
      "  return 1 - self.ssr/self.centered_tss\n",
      "/mnt/home/szheng/projects/place_variability/code/step_vs_gradual_analysis.py:21: RuntimeWarning: invalid value encountered in scalar divide\n",
      "  r2 = 1-np.var(xx - xx_pwc) / np.var(xx)\n",
      "/mnt/home/szheng/ceph/envs/jax/lib/python3.9/site-packages/statsmodels/regression/linear_model.py:1736: RuntimeWarning: invalid value encountered in scalar divide\n",
      "  return 1 - self.ssr/self.centered_tss\n",
      "/mnt/home/szheng/projects/place_variability/code/step_vs_gradual_analysis.py:21: RuntimeWarning: invalid value encountered in scalar divide\n",
      "  r2 = 1-np.var(xx - xx_pwc) / np.var(xx)\n",
      "/mnt/home/szheng/ceph/envs/jax/lib/python3.9/site-packages/statsmodels/regression/linear_model.py:1736: RuntimeWarning: invalid value encountered in scalar divide\n",
      "  return 1 - self.ssr/self.centered_tss\n",
      "/mnt/home/szheng/projects/place_variability/code/step_vs_gradual_analysis.py:21: RuntimeWarning: invalid value encountered in scalar divide\n",
      "  r2 = 1-np.var(xx - xx_pwc) / np.var(xx)\n"
     ]
    },
    {
     "name": "stderr",
     "output_type": "stream",
     "text": [
      "/mnt/home/szheng/ceph/envs/jax/lib/python3.9/site-packages/statsmodels/regression/linear_model.py:1736: RuntimeWarning: invalid value encountered in scalar divide\n",
      "  return 1 - self.ssr/self.centered_tss\n",
      "/mnt/home/szheng/projects/place_variability/code/step_vs_gradual_analysis.py:21: RuntimeWarning: invalid value encountered in scalar divide\n",
      "  r2 = 1-np.var(xx - xx_pwc) / np.var(xx)\n",
      "/mnt/home/szheng/ceph/envs/jax/lib/python3.9/site-packages/statsmodels/regression/linear_model.py:1736: RuntimeWarning: invalid value encountered in scalar divide\n",
      "  return 1 - self.ssr/self.centered_tss\n",
      "/mnt/home/szheng/projects/place_variability/code/step_vs_gradual_analysis.py:21: RuntimeWarning: invalid value encountered in scalar divide\n",
      "  r2 = 1-np.var(xx - xx_pwc) / np.var(xx)\n",
      "/mnt/home/szheng/ceph/envs/jax/lib/python3.9/site-packages/statsmodels/regression/linear_model.py:1736: RuntimeWarning: invalid value encountered in scalar divide\n",
      "  return 1 - self.ssr/self.centered_tss\n",
      "/mnt/home/szheng/projects/place_variability/code/step_vs_gradual_analysis.py:21: RuntimeWarning: invalid value encountered in scalar divide\n",
      "  r2 = 1-np.var(xx - xx_pwc) / np.var(xx)\n",
      "/mnt/home/szheng/ceph/envs/jax/lib/python3.9/site-packages/statsmodels/regression/linear_model.py:1736: RuntimeWarning: invalid value encountered in scalar divide\n",
      "  return 1 - self.ssr/self.centered_tss\n",
      "/mnt/home/szheng/projects/place_variability/code/step_vs_gradual_analysis.py:21: RuntimeWarning: invalid value encountered in scalar divide\n",
      "  r2 = 1-np.var(xx - xx_pwc) / np.var(xx)\n",
      "/mnt/home/szheng/ceph/envs/jax/lib/python3.9/site-packages/statsmodels/regression/linear_model.py:1736: RuntimeWarning: invalid value encountered in scalar divide\n",
      "  return 1 - self.ssr/self.centered_tss\n",
      "/mnt/home/szheng/projects/place_variability/code/step_vs_gradual_analysis.py:21: RuntimeWarning: invalid value encountered in scalar divide\n",
      "  r2 = 1-np.var(xx - xx_pwc) / np.var(xx)\n",
      "/mnt/home/szheng/ceph/envs/jax/lib/python3.9/site-packages/statsmodels/regression/linear_model.py:1736: RuntimeWarning: invalid value encountered in scalar divide\n",
      "  return 1 - self.ssr/self.centered_tss\n",
      "/mnt/home/szheng/projects/place_variability/code/step_vs_gradual_analysis.py:21: RuntimeWarning: invalid value encountered in scalar divide\n",
      "  r2 = 1-np.var(xx - xx_pwc) / np.var(xx)\n",
      "/mnt/home/szheng/ceph/envs/jax/lib/python3.9/site-packages/statsmodels/regression/linear_model.py:1736: RuntimeWarning: invalid value encountered in scalar divide\n",
      "  return 1 - self.ssr/self.centered_tss\n",
      "/mnt/home/szheng/projects/place_variability/code/step_vs_gradual_analysis.py:21: RuntimeWarning: invalid value encountered in scalar divide\n",
      "  r2 = 1-np.var(xx - xx_pwc) / np.var(xx)\n",
      "/mnt/home/szheng/ceph/envs/jax/lib/python3.9/site-packages/statsmodels/regression/linear_model.py:1736: RuntimeWarning: invalid value encountered in scalar divide\n",
      "  return 1 - self.ssr/self.centered_tss\n",
      "/mnt/home/szheng/projects/place_variability/code/step_vs_gradual_analysis.py:21: RuntimeWarning: invalid value encountered in scalar divide\n",
      "  r2 = 1-np.var(xx - xx_pwc) / np.var(xx)\n",
      "/mnt/home/szheng/ceph/envs/jax/lib/python3.9/site-packages/statsmodels/regression/linear_model.py:1736: RuntimeWarning: invalid value encountered in scalar divide\n",
      "  return 1 - self.ssr/self.centered_tss\n",
      "/mnt/home/szheng/projects/place_variability/code/step_vs_gradual_analysis.py:21: RuntimeWarning: invalid value encountered in scalar divide\n",
      "  r2 = 1-np.var(xx - xx_pwc) / np.var(xx)\n",
      "/mnt/home/szheng/ceph/envs/jax/lib/python3.9/site-packages/statsmodels/regression/linear_model.py:1736: RuntimeWarning: invalid value encountered in scalar divide\n",
      "  return 1 - self.ssr/self.centered_tss\n",
      "/mnt/home/szheng/projects/place_variability/code/step_vs_gradual_analysis.py:21: RuntimeWarning: invalid value encountered in scalar divide\n",
      "  r2 = 1-np.var(xx - xx_pwc) / np.var(xx)\n",
      "/mnt/home/szheng/ceph/envs/jax/lib/python3.9/site-packages/statsmodels/regression/linear_model.py:1736: RuntimeWarning: invalid value encountered in scalar divide\n",
      "  return 1 - self.ssr/self.centered_tss\n",
      "/mnt/home/szheng/projects/place_variability/code/step_vs_gradual_analysis.py:21: RuntimeWarning: invalid value encountered in scalar divide\n",
      "  r2 = 1-np.var(xx - xx_pwc) / np.var(xx)\n",
      "/mnt/home/szheng/ceph/envs/jax/lib/python3.9/site-packages/statsmodels/regression/linear_model.py:1736: RuntimeWarning: invalid value encountered in scalar divide\n",
      "  return 1 - self.ssr/self.centered_tss\n",
      "/mnt/home/szheng/projects/place_variability/code/step_vs_gradual_analysis.py:21: RuntimeWarning: invalid value encountered in scalar divide\n",
      "  r2 = 1-np.var(xx - xx_pwc) / np.var(xx)\n",
      "/mnt/home/szheng/ceph/envs/jax/lib/python3.9/site-packages/statsmodels/regression/linear_model.py:1736: RuntimeWarning: invalid value encountered in scalar divide\n",
      "  return 1 - self.ssr/self.centered_tss\n",
      "/mnt/home/szheng/projects/place_variability/code/step_vs_gradual_analysis.py:21: RuntimeWarning: invalid value encountered in scalar divide\n",
      "  r2 = 1-np.var(xx - xx_pwc) / np.var(xx)\n",
      "/mnt/home/szheng/ceph/envs/jax/lib/python3.9/site-packages/statsmodels/regression/linear_model.py:1736: RuntimeWarning: invalid value encountered in scalar divide\n",
      "  return 1 - self.ssr/self.centered_tss\n",
      "/mnt/home/szheng/projects/place_variability/code/step_vs_gradual_analysis.py:21: RuntimeWarning: invalid value encountered in scalar divide\n",
      "  r2 = 1-np.var(xx - xx_pwc) / np.var(xx)\n",
      "/mnt/home/szheng/ceph/envs/jax/lib/python3.9/site-packages/statsmodels/regression/linear_model.py:1736: RuntimeWarning: invalid value encountered in scalar divide\n",
      "  return 1 - self.ssr/self.centered_tss\n",
      "/mnt/home/szheng/projects/place_variability/code/step_vs_gradual_analysis.py:21: RuntimeWarning: invalid value encountered in scalar divide\n",
      "  r2 = 1-np.var(xx - xx_pwc) / np.var(xx)\n",
      "/mnt/home/szheng/ceph/envs/jax/lib/python3.9/site-packages/statsmodels/regression/linear_model.py:1736: RuntimeWarning: invalid value encountered in scalar divide\n",
      "  return 1 - self.ssr/self.centered_tss\n",
      "/mnt/home/szheng/projects/place_variability/code/step_vs_gradual_analysis.py:21: RuntimeWarning: invalid value encountered in scalar divide\n",
      "  r2 = 1-np.var(xx - xx_pwc) / np.var(xx)\n",
      "/mnt/home/szheng/ceph/envs/jax/lib/python3.9/site-packages/statsmodels/regression/linear_model.py:1736: RuntimeWarning: invalid value encountered in scalar divide\n",
      "  return 1 - self.ssr/self.centered_tss\n",
      "/mnt/home/szheng/projects/place_variability/code/step_vs_gradual_analysis.py:21: RuntimeWarning: invalid value encountered in scalar divide\n",
      "  r2 = 1-np.var(xx - xx_pwc) / np.var(xx)\n",
      "/mnt/home/szheng/ceph/envs/jax/lib/python3.9/site-packages/statsmodels/regression/linear_model.py:1736: RuntimeWarning: invalid value encountered in scalar divide\n",
      "  return 1 - self.ssr/self.centered_tss\n",
      "/mnt/home/szheng/projects/place_variability/code/step_vs_gradual_analysis.py:21: RuntimeWarning: invalid value encountered in scalar divide\n",
      "  r2 = 1-np.var(xx - xx_pwc) / np.var(xx)\n",
      "/mnt/home/szheng/ceph/envs/jax/lib/python3.9/site-packages/statsmodels/regression/linear_model.py:1736: RuntimeWarning: invalid value encountered in scalar divide\n",
      "  return 1 - self.ssr/self.centered_tss\n",
      "/mnt/home/szheng/projects/place_variability/code/step_vs_gradual_analysis.py:21: RuntimeWarning: invalid value encountered in scalar divide\n",
      "  r2 = 1-np.var(xx - xx_pwc) / np.var(xx)\n",
      "/mnt/home/szheng/ceph/envs/jax/lib/python3.9/site-packages/statsmodels/regression/linear_model.py:1736: RuntimeWarning: invalid value encountered in scalar divide\n",
      "  return 1 - self.ssr/self.centered_tss\n",
      "/mnt/home/szheng/projects/place_variability/code/step_vs_gradual_analysis.py:21: RuntimeWarning: invalid value encountered in scalar divide\n",
      "  r2 = 1-np.var(xx - xx_pwc) / np.var(xx)\n",
      "/mnt/home/szheng/ceph/envs/jax/lib/python3.9/site-packages/statsmodels/regression/linear_model.py:1736: RuntimeWarning: invalid value encountered in scalar divide\n",
      "  return 1 - self.ssr/self.centered_tss\n",
      "/mnt/home/szheng/projects/place_variability/code/step_vs_gradual_analysis.py:21: RuntimeWarning: invalid value encountered in scalar divide\n",
      "  r2 = 1-np.var(xx - xx_pwc) / np.var(xx)\n",
      "/mnt/home/szheng/ceph/envs/jax/lib/python3.9/site-packages/statsmodels/regression/linear_model.py:1736: RuntimeWarning: invalid value encountered in scalar divide\n",
      "  return 1 - self.ssr/self.centered_tss\n",
      "/mnt/home/szheng/projects/place_variability/code/step_vs_gradual_analysis.py:21: RuntimeWarning: invalid value encountered in scalar divide\n",
      "  r2 = 1-np.var(xx - xx_pwc) / np.var(xx)\n"
     ]
    },
    {
     "name": "stderr",
     "output_type": "stream",
     "text": [
      "/mnt/home/szheng/ceph/envs/jax/lib/python3.9/site-packages/statsmodels/regression/linear_model.py:1736: RuntimeWarning: invalid value encountered in scalar divide\n",
      "  return 1 - self.ssr/self.centered_tss\n",
      "/mnt/home/szheng/projects/place_variability/code/step_vs_gradual_analysis.py:21: RuntimeWarning: invalid value encountered in scalar divide\n",
      "  r2 = 1-np.var(xx - xx_pwc) / np.var(xx)\n",
      "/mnt/home/szheng/ceph/envs/jax/lib/python3.9/site-packages/statsmodels/regression/linear_model.py:1736: RuntimeWarning: invalid value encountered in scalar divide\n",
      "  return 1 - self.ssr/self.centered_tss\n",
      "/mnt/home/szheng/projects/place_variability/code/step_vs_gradual_analysis.py:21: RuntimeWarning: invalid value encountered in scalar divide\n",
      "  r2 = 1-np.var(xx - xx_pwc) / np.var(xx)\n",
      "/mnt/home/szheng/ceph/envs/jax/lib/python3.9/site-packages/statsmodels/regression/linear_model.py:1736: RuntimeWarning: invalid value encountered in scalar divide\n",
      "  return 1 - self.ssr/self.centered_tss\n",
      "/mnt/home/szheng/projects/place_variability/code/step_vs_gradual_analysis.py:21: RuntimeWarning: invalid value encountered in scalar divide\n",
      "  r2 = 1-np.var(xx - xx_pwc) / np.var(xx)\n",
      "/mnt/home/szheng/ceph/envs/jax/lib/python3.9/site-packages/statsmodels/regression/linear_model.py:1736: RuntimeWarning: invalid value encountered in scalar divide\n",
      "  return 1 - self.ssr/self.centered_tss\n",
      "/mnt/home/szheng/projects/place_variability/code/step_vs_gradual_analysis.py:21: RuntimeWarning: invalid value encountered in scalar divide\n",
      "  r2 = 1-np.var(xx - xx_pwc) / np.var(xx)\n",
      "/mnt/home/szheng/ceph/envs/jax/lib/python3.9/site-packages/statsmodels/regression/linear_model.py:1736: RuntimeWarning: invalid value encountered in scalar divide\n",
      "  return 1 - self.ssr/self.centered_tss\n",
      "/mnt/home/szheng/projects/place_variability/code/step_vs_gradual_analysis.py:21: RuntimeWarning: invalid value encountered in scalar divide\n",
      "  r2 = 1-np.var(xx - xx_pwc) / np.var(xx)\n",
      "/mnt/home/szheng/ceph/envs/jax/lib/python3.9/site-packages/statsmodels/regression/linear_model.py:1736: RuntimeWarning: invalid value encountered in scalar divide\n",
      "  return 1 - self.ssr/self.centered_tss\n",
      "/mnt/home/szheng/projects/place_variability/code/step_vs_gradual_analysis.py:21: RuntimeWarning: invalid value encountered in scalar divide\n",
      "  r2 = 1-np.var(xx - xx_pwc) / np.var(xx)\n",
      "/mnt/home/szheng/ceph/envs/jax/lib/python3.9/site-packages/statsmodels/regression/linear_model.py:1736: RuntimeWarning: invalid value encountered in scalar divide\n",
      "  return 1 - self.ssr/self.centered_tss\n",
      "/mnt/home/szheng/projects/place_variability/code/step_vs_gradual_analysis.py:21: RuntimeWarning: invalid value encountered in scalar divide\n",
      "  r2 = 1-np.var(xx - xx_pwc) / np.var(xx)\n",
      "/mnt/home/szheng/ceph/envs/jax/lib/python3.9/site-packages/statsmodels/regression/linear_model.py:1736: RuntimeWarning: invalid value encountered in scalar divide\n",
      "  return 1 - self.ssr/self.centered_tss\n",
      "/mnt/home/szheng/projects/place_variability/code/step_vs_gradual_analysis.py:21: RuntimeWarning: invalid value encountered in scalar divide\n",
      "  r2 = 1-np.var(xx - xx_pwc) / np.var(xx)\n",
      "/mnt/home/szheng/ceph/envs/jax/lib/python3.9/site-packages/statsmodels/regression/linear_model.py:1736: RuntimeWarning: invalid value encountered in scalar divide\n",
      "  return 1 - self.ssr/self.centered_tss\n",
      "/mnt/home/szheng/projects/place_variability/code/step_vs_gradual_analysis.py:21: RuntimeWarning: invalid value encountered in scalar divide\n",
      "  r2 = 1-np.var(xx - xx_pwc) / np.var(xx)\n",
      "/mnt/home/szheng/ceph/envs/jax/lib/python3.9/site-packages/statsmodels/regression/linear_model.py:1736: RuntimeWarning: invalid value encountered in scalar divide\n",
      "  return 1 - self.ssr/self.centered_tss\n",
      "/mnt/home/szheng/projects/place_variability/code/step_vs_gradual_analysis.py:21: RuntimeWarning: invalid value encountered in scalar divide\n",
      "  r2 = 1-np.var(xx - xx_pwc) / np.var(xx)\n",
      "/mnt/home/szheng/ceph/envs/jax/lib/python3.9/site-packages/statsmodels/regression/linear_model.py:1736: RuntimeWarning: invalid value encountered in scalar divide\n",
      "  return 1 - self.ssr/self.centered_tss\n",
      "/mnt/home/szheng/projects/place_variability/code/step_vs_gradual_analysis.py:21: RuntimeWarning: invalid value encountered in scalar divide\n",
      "  r2 = 1-np.var(xx - xx_pwc) / np.var(xx)\n",
      "/mnt/home/szheng/ceph/envs/jax/lib/python3.9/site-packages/statsmodels/regression/linear_model.py:1736: RuntimeWarning: invalid value encountered in scalar divide\n",
      "  return 1 - self.ssr/self.centered_tss\n",
      "/mnt/home/szheng/projects/place_variability/code/step_vs_gradual_analysis.py:21: RuntimeWarning: invalid value encountered in scalar divide\n",
      "  r2 = 1-np.var(xx - xx_pwc) / np.var(xx)\n",
      "/mnt/home/szheng/ceph/envs/jax/lib/python3.9/site-packages/statsmodels/regression/linear_model.py:1736: RuntimeWarning: invalid value encountered in scalar divide\n",
      "  return 1 - self.ssr/self.centered_tss\n",
      "/mnt/home/szheng/projects/place_variability/code/step_vs_gradual_analysis.py:21: RuntimeWarning: invalid value encountered in scalar divide\n",
      "  r2 = 1-np.var(xx - xx_pwc) / np.var(xx)\n",
      "/mnt/home/szheng/ceph/envs/jax/lib/python3.9/site-packages/statsmodels/regression/linear_model.py:1736: RuntimeWarning: invalid value encountered in scalar divide\n",
      "  return 1 - self.ssr/self.centered_tss\n",
      "/mnt/home/szheng/projects/place_variability/code/step_vs_gradual_analysis.py:21: RuntimeWarning: invalid value encountered in scalar divide\n",
      "  r2 = 1-np.var(xx - xx_pwc) / np.var(xx)\n",
      "/mnt/home/szheng/ceph/envs/jax/lib/python3.9/site-packages/statsmodels/regression/linear_model.py:1736: RuntimeWarning: invalid value encountered in scalar divide\n",
      "  return 1 - self.ssr/self.centered_tss\n",
      "/mnt/home/szheng/projects/place_variability/code/step_vs_gradual_analysis.py:21: RuntimeWarning: invalid value encountered in scalar divide\n",
      "  r2 = 1-np.var(xx - xx_pwc) / np.var(xx)\n",
      "/mnt/home/szheng/ceph/envs/jax/lib/python3.9/site-packages/statsmodels/regression/linear_model.py:1736: RuntimeWarning: invalid value encountered in scalar divide\n",
      "  return 1 - self.ssr/self.centered_tss\n",
      "/mnt/home/szheng/projects/place_variability/code/step_vs_gradual_analysis.py:21: RuntimeWarning: invalid value encountered in scalar divide\n",
      "  r2 = 1-np.var(xx - xx_pwc) / np.var(xx)\n",
      "/mnt/home/szheng/ceph/envs/jax/lib/python3.9/site-packages/statsmodels/regression/linear_model.py:1736: RuntimeWarning: invalid value encountered in scalar divide\n",
      "  return 1 - self.ssr/self.centered_tss\n",
      "/mnt/home/szheng/projects/place_variability/code/step_vs_gradual_analysis.py:21: RuntimeWarning: invalid value encountered in scalar divide\n",
      "  r2 = 1-np.var(xx - xx_pwc) / np.var(xx)\n",
      "/mnt/home/szheng/ceph/envs/jax/lib/python3.9/site-packages/statsmodels/regression/linear_model.py:1736: RuntimeWarning: invalid value encountered in scalar divide\n",
      "  return 1 - self.ssr/self.centered_tss\n",
      "/mnt/home/szheng/projects/place_variability/code/step_vs_gradual_analysis.py:21: RuntimeWarning: invalid value encountered in scalar divide\n",
      "  r2 = 1-np.var(xx - xx_pwc) / np.var(xx)\n",
      "/mnt/home/szheng/ceph/envs/jax/lib/python3.9/site-packages/statsmodels/regression/linear_model.py:1736: RuntimeWarning: invalid value encountered in scalar divide\n",
      "  return 1 - self.ssr/self.centered_tss\n",
      "/mnt/home/szheng/projects/place_variability/code/step_vs_gradual_analysis.py:21: RuntimeWarning: invalid value encountered in scalar divide\n",
      "  r2 = 1-np.var(xx - xx_pwc) / np.var(xx)\n",
      "/mnt/home/szheng/ceph/envs/jax/lib/python3.9/site-packages/statsmodels/regression/linear_model.py:1736: RuntimeWarning: invalid value encountered in scalar divide\n",
      "  return 1 - self.ssr/self.centered_tss\n",
      "/mnt/home/szheng/projects/place_variability/code/step_vs_gradual_analysis.py:21: RuntimeWarning: invalid value encountered in scalar divide\n",
      "  r2 = 1-np.var(xx - xx_pwc) / np.var(xx)\n",
      "/mnt/home/szheng/ceph/envs/jax/lib/python3.9/site-packages/statsmodels/regression/linear_model.py:1736: RuntimeWarning: invalid value encountered in scalar divide\n",
      "  return 1 - self.ssr/self.centered_tss\n",
      "/mnt/home/szheng/projects/place_variability/code/step_vs_gradual_analysis.py:21: RuntimeWarning: invalid value encountered in scalar divide\n",
      "  r2 = 1-np.var(xx - xx_pwc) / np.var(xx)\n",
      "/mnt/home/szheng/ceph/envs/jax/lib/python3.9/site-packages/statsmodels/regression/linear_model.py:1736: RuntimeWarning: invalid value encountered in scalar divide\n",
      "  return 1 - self.ssr/self.centered_tss\n",
      "/mnt/home/szheng/projects/place_variability/code/step_vs_gradual_analysis.py:21: RuntimeWarning: invalid value encountered in scalar divide\n",
      "  r2 = 1-np.var(xx - xx_pwc) / np.var(xx)\n"
     ]
    },
    {
     "name": "stderr",
     "output_type": "stream",
     "text": [
      "/mnt/home/szheng/ceph/envs/jax/lib/python3.9/site-packages/statsmodels/regression/linear_model.py:1736: RuntimeWarning: invalid value encountered in scalar divide\n",
      "  return 1 - self.ssr/self.centered_tss\n",
      "/mnt/home/szheng/projects/place_variability/code/step_vs_gradual_analysis.py:21: RuntimeWarning: invalid value encountered in scalar divide\n",
      "  r2 = 1-np.var(xx - xx_pwc) / np.var(xx)\n",
      "/mnt/home/szheng/ceph/envs/jax/lib/python3.9/site-packages/statsmodels/regression/linear_model.py:1736: RuntimeWarning: invalid value encountered in scalar divide\n",
      "  return 1 - self.ssr/self.centered_tss\n",
      "/mnt/home/szheng/projects/place_variability/code/step_vs_gradual_analysis.py:21: RuntimeWarning: invalid value encountered in scalar divide\n",
      "  r2 = 1-np.var(xx - xx_pwc) / np.var(xx)\n",
      "/mnt/home/szheng/ceph/envs/jax/lib/python3.9/site-packages/statsmodels/regression/linear_model.py:1736: RuntimeWarning: invalid value encountered in scalar divide\n",
      "  return 1 - self.ssr/self.centered_tss\n",
      "/mnt/home/szheng/projects/place_variability/code/step_vs_gradual_analysis.py:21: RuntimeWarning: invalid value encountered in scalar divide\n",
      "  r2 = 1-np.var(xx - xx_pwc) / np.var(xx)\n",
      "/mnt/home/szheng/ceph/envs/jax/lib/python3.9/site-packages/statsmodels/regression/linear_model.py:1736: RuntimeWarning: invalid value encountered in scalar divide\n",
      "  return 1 - self.ssr/self.centered_tss\n",
      "/mnt/home/szheng/projects/place_variability/code/step_vs_gradual_analysis.py:21: RuntimeWarning: invalid value encountered in scalar divide\n",
      "  r2 = 1-np.var(xx - xx_pwc) / np.var(xx)\n",
      "/mnt/home/szheng/ceph/envs/jax/lib/python3.9/site-packages/statsmodels/regression/linear_model.py:1736: RuntimeWarning: invalid value encountered in scalar divide\n",
      "  return 1 - self.ssr/self.centered_tss\n",
      "/mnt/home/szheng/projects/place_variability/code/step_vs_gradual_analysis.py:21: RuntimeWarning: invalid value encountered in scalar divide\n",
      "  r2 = 1-np.var(xx - xx_pwc) / np.var(xx)\n",
      "/mnt/home/szheng/ceph/envs/jax/lib/python3.9/site-packages/statsmodels/regression/linear_model.py:1736: RuntimeWarning: invalid value encountered in scalar divide\n",
      "  return 1 - self.ssr/self.centered_tss\n",
      "/mnt/home/szheng/projects/place_variability/code/step_vs_gradual_analysis.py:21: RuntimeWarning: invalid value encountered in scalar divide\n",
      "  r2 = 1-np.var(xx - xx_pwc) / np.var(xx)\n",
      "/mnt/home/szheng/ceph/envs/jax/lib/python3.9/site-packages/statsmodels/regression/linear_model.py:1736: RuntimeWarning: invalid value encountered in scalar divide\n",
      "  return 1 - self.ssr/self.centered_tss\n",
      "/mnt/home/szheng/projects/place_variability/code/step_vs_gradual_analysis.py:21: RuntimeWarning: invalid value encountered in scalar divide\n",
      "  r2 = 1-np.var(xx - xx_pwc) / np.var(xx)\n",
      "/mnt/home/szheng/ceph/envs/jax/lib/python3.9/site-packages/statsmodels/regression/linear_model.py:1736: RuntimeWarning: invalid value encountered in scalar divide\n",
      "  return 1 - self.ssr/self.centered_tss\n",
      "/mnt/home/szheng/projects/place_variability/code/step_vs_gradual_analysis.py:21: RuntimeWarning: invalid value encountered in scalar divide\n",
      "  r2 = 1-np.var(xx - xx_pwc) / np.var(xx)\n",
      "/mnt/home/szheng/ceph/envs/jax/lib/python3.9/site-packages/statsmodels/regression/linear_model.py:1736: RuntimeWarning: invalid value encountered in scalar divide\n",
      "  return 1 - self.ssr/self.centered_tss\n",
      "/mnt/home/szheng/projects/place_variability/code/step_vs_gradual_analysis.py:21: RuntimeWarning: invalid value encountered in scalar divide\n",
      "  r2 = 1-np.var(xx - xx_pwc) / np.var(xx)\n",
      "/mnt/home/szheng/ceph/envs/jax/lib/python3.9/site-packages/statsmodels/regression/linear_model.py:1736: RuntimeWarning: invalid value encountered in scalar divide\n",
      "  return 1 - self.ssr/self.centered_tss\n",
      "/mnt/home/szheng/projects/place_variability/code/step_vs_gradual_analysis.py:21: RuntimeWarning: invalid value encountered in scalar divide\n",
      "  r2 = 1-np.var(xx - xx_pwc) / np.var(xx)\n",
      "/mnt/home/szheng/ceph/envs/jax/lib/python3.9/site-packages/statsmodels/regression/linear_model.py:1736: RuntimeWarning: invalid value encountered in scalar divide\n",
      "  return 1 - self.ssr/self.centered_tss\n",
      "/mnt/home/szheng/projects/place_variability/code/step_vs_gradual_analysis.py:21: RuntimeWarning: invalid value encountered in scalar divide\n",
      "  r2 = 1-np.var(xx - xx_pwc) / np.var(xx)\n",
      "/mnt/home/szheng/ceph/envs/jax/lib/python3.9/site-packages/statsmodels/regression/linear_model.py:1736: RuntimeWarning: invalid value encountered in scalar divide\n",
      "  return 1 - self.ssr/self.centered_tss\n",
      "/mnt/home/szheng/projects/place_variability/code/step_vs_gradual_analysis.py:21: RuntimeWarning: invalid value encountered in scalar divide\n",
      "  r2 = 1-np.var(xx - xx_pwc) / np.var(xx)\n",
      "/mnt/home/szheng/ceph/envs/jax/lib/python3.9/site-packages/statsmodels/regression/linear_model.py:1736: RuntimeWarning: invalid value encountered in scalar divide\n",
      "  return 1 - self.ssr/self.centered_tss\n",
      "/mnt/home/szheng/projects/place_variability/code/step_vs_gradual_analysis.py:21: RuntimeWarning: invalid value encountered in scalar divide\n",
      "  r2 = 1-np.var(xx - xx_pwc) / np.var(xx)\n",
      "/mnt/home/szheng/ceph/envs/jax/lib/python3.9/site-packages/statsmodels/regression/linear_model.py:1736: RuntimeWarning: invalid value encountered in scalar divide\n",
      "  return 1 - self.ssr/self.centered_tss\n",
      "/mnt/home/szheng/projects/place_variability/code/step_vs_gradual_analysis.py:21: RuntimeWarning: invalid value encountered in scalar divide\n",
      "  r2 = 1-np.var(xx - xx_pwc) / np.var(xx)\n",
      "/mnt/home/szheng/ceph/envs/jax/lib/python3.9/site-packages/statsmodels/regression/linear_model.py:1736: RuntimeWarning: invalid value encountered in scalar divide\n",
      "  return 1 - self.ssr/self.centered_tss\n",
      "/mnt/home/szheng/projects/place_variability/code/step_vs_gradual_analysis.py:21: RuntimeWarning: invalid value encountered in scalar divide\n",
      "  r2 = 1-np.var(xx - xx_pwc) / np.var(xx)\n",
      "/mnt/home/szheng/ceph/envs/jax/lib/python3.9/site-packages/statsmodels/regression/linear_model.py:1736: RuntimeWarning: invalid value encountered in scalar divide\n",
      "  return 1 - self.ssr/self.centered_tss\n",
      "/mnt/home/szheng/projects/place_variability/code/step_vs_gradual_analysis.py:21: RuntimeWarning: invalid value encountered in scalar divide\n",
      "  r2 = 1-np.var(xx - xx_pwc) / np.var(xx)\n",
      "/mnt/home/szheng/ceph/envs/jax/lib/python3.9/site-packages/statsmodels/regression/linear_model.py:1736: RuntimeWarning: invalid value encountered in scalar divide\n",
      "  return 1 - self.ssr/self.centered_tss\n",
      "/mnt/home/szheng/projects/place_variability/code/step_vs_gradual_analysis.py:21: RuntimeWarning: invalid value encountered in scalar divide\n",
      "  r2 = 1-np.var(xx - xx_pwc) / np.var(xx)\n",
      "/mnt/home/szheng/ceph/envs/jax/lib/python3.9/site-packages/statsmodels/regression/linear_model.py:1736: RuntimeWarning: invalid value encountered in scalar divide\n",
      "  return 1 - self.ssr/self.centered_tss\n",
      "/mnt/home/szheng/projects/place_variability/code/step_vs_gradual_analysis.py:21: RuntimeWarning: invalid value encountered in scalar divide\n",
      "  r2 = 1-np.var(xx - xx_pwc) / np.var(xx)\n",
      "/mnt/home/szheng/ceph/envs/jax/lib/python3.9/site-packages/statsmodels/regression/linear_model.py:1736: RuntimeWarning: invalid value encountered in scalar divide\n",
      "  return 1 - self.ssr/self.centered_tss\n",
      "/mnt/home/szheng/projects/place_variability/code/step_vs_gradual_analysis.py:21: RuntimeWarning: invalid value encountered in scalar divide\n",
      "  r2 = 1-np.var(xx - xx_pwc) / np.var(xx)\n"
     ]
    },
    {
     "name": "stdout",
     "output_type": "stream",
     "text": [
      "CPU times: user 1min 47s, sys: 49.2 ms, total: 1min 48s\n",
      "Wall time: 1min 48s\n"
     ]
    }
   ],
   "source": [
    "%%time\n",
    "gpb = dist_key_perfield.groupby(level=(0,1,2,3),sort=False)\n",
    "r2_df_d_all = []\n",
    "for k,val in gpb:\n",
    "    r2_df_d = svga.fit_poly_regress_cpd_get_r2_all_multi_order(val,cost='l2',min_size=2,ncpt_max=3)\n",
    "#     r2_df_d_all[k] = r2_df_d\n",
    "    if r2_df_d is not None:\n",
    "        r2_df_d_all.append(r2_df_d) \n",
    "r2_df_d_all = pd.concat(r2_df_d_all,axis=0)"
   ]
  },
  {
   "cell_type": "code",
   "execution_count": 271,
   "id": "25027bff",
   "metadata": {},
   "outputs": [],
   "source": [
    "fn_full = os.path.join(data_dir,'peakmse_avgtrpair_poly_regression_vs_step_r2_all.p')\n",
    "pickle.dump(r2_df_d_all,open(fn_full,'wb'))\n",
    "# r2_df_d_all = pickle.load(open(fn_full,'rb'))"
   ]
  },
  {
   "cell_type": "code",
   "execution_count": 272,
   "id": "8ebc27da",
   "metadata": {},
   "outputs": [
    {
     "data": {
      "image/png": "[encoded data removed]",
      "text/plain": [
       "<Figure size 86.4x86.4 with 1 Axes>"
      ]
     },
     "metadata": {
      "needs_background": "light"
     },
     "output_type": "display_data"
    },
    {
     "data": {
      "image/png": "[encoded data removed]",
      "text/plain": [
       "<Figure size 86.4x86.4 with 1 Axes>"
      ]
     },
     "metadata": {
      "needs_background": "light"
     },
     "output_type": "display_data"
    },
    {
     "data": {
      "image/png": "[encoded data removed]",
      "text/plain": [
       "<Figure size 86.4x86.4 with 1 Axes>"
      ]
     },
     "metadata": {
      "needs_background": "light"
     },
     "output_type": "display_data"
    }
   ],
   "source": [
    "# fig,axs=plt.subplots(5,1,figsize=(4,20))\n",
    "dosave = True#False\n",
    "for ii,order in enumerate(r2_df_d_all.columns.get_level_values(0).unique()):\n",
    "#     fig,ax=plt.subplots(figsize=(3,3))\n",
    "    fig,ax=plt.subplots(figsize=(1.2,1.2))\n",
    "    ax.set_aspect('equal')\n",
    "    ax.scatter(r2_df_d_all.loc[:,(order,'reg')],r2_df_d_all.loc[:,(order,'step')],s=0.1,marker='o')\n",
    "    frac_step_larger=(r2_df_d_all.loc[:,(order,'step_minus_reg')].dropna() > 0).mean()\n",
    "    ax.plot([0,1],[0,1],c='k')\n",
    "#     ax.set_title(f'Num. change point (polynomial order)={order}\\nFrac. CPM > regression={frac_step_larger:.2f}')\n",
    "    # to use the png version, get rid of as much text as possible\n",
    "#     ax.set_title(f'Frac. (CPM better)={frac_step_larger:.2f}',fontsize=10)\n",
    "    ax.set_title(f'{frac_step_larger:.2f}',fontsize=10)\n",
    "#     ax.set_xticklabels(ax.get_xticklabels(),fontsize=8)\n",
    "#     ax.set_yticklabels(ax.get_xticklabels(),fontsize=8)\n",
    "    ax.set_xticks([0,1])\n",
    "    ax.set_yticks([0,1])\n",
    "    \n",
    "#     ax.set_xlabel('R2 polynomial regression')\n",
    "#     ax.set_ylabel('R2 change point model')\n",
    "    if dosave:\n",
    "        figfn = f'peakmse_avgtrpair_scatter_R2_cpd_vs_polyreg_order{order}'\n",
    "        ph.save_given_name(fig,figfn,figdir,dpi=900)\n"
   ]
  },
  {
   "cell_type": "code",
   "execution_count": null,
   "id": "1e1ac0e7",
   "metadata": {},
   "outputs": [],
   "source": []
  },
  {
   "cell_type": "code",
   "execution_count": null,
   "id": "61d9a484",
   "metadata": {},
   "outputs": [],
   "source": [
    "# fig,axs=plt.subplots(2,1,figsize=(2,4))\n",
    "# for ii,key in enumerate(key_l):\n",
    "#     ax=axs[ii]\n",
    "#     row = sub.loc[key]\n",
    "#     diff_mat = pd.DataFrame(row.values[None,:] - row.values[:,None],index=row.index,columns=row.index)\n",
    "#     diff_mat_abs= np.abs(diff_mat)\n",
    "#     diff_abs_per_lag = pvca.get_val_per_lag(diff_mat_abs)\n",
    "# #     ph.mean_error_plot(diff_abs_per_lag,ax=ax,fig=fig)\n",
    "    \n",
    "#     row.plot(ax=ax,marker='o')\n",
    "    \n",
    "#     ax.set_title(key)\n",
    "#     sns.despine()\n",
    "# plt.tight_layout()\n",
    "# rm = fr_map_trial_df_all.loc[(ani,sess,ti,tt,uid),:].dropna(axis=1).T\n",
    "\n",
    "# st,ed = all_fields_all.loc[ani,sess,ti,tt,uid,field_id][['start','end']]\n",
    "\n",
    "# ph.ratemap_one_raw(rm,field_bound=(st,ed))\n"
   ]
  },
  {
   "cell_type": "markdown",
   "id": "beaf524c",
   "metadata": {},
   "source": [
    "# individual neuron, ratemap corr, mean across trial pairs, sudden or gradual?"
   ]
  },
  {
   "cell_type": "code",
   "execution_count": 186,
   "id": "089be3d9",
   "metadata": {},
   "outputs": [],
   "source": [
    "pc_ind_l = []\n",
    "for ind in all_fields_recombined_all.index:\n",
    "    if ind[3]=='both':\n",
    "        pc_ind_l.append((ind[0],ind[1],ind[2],0,ind[4]))\n",
    "        pc_ind_l.append((ind[0],ind[1],ind[2],1,ind[4]))\n",
    "    else:\n",
    "        pc_ind_l.append((ind[0],ind[1],ind[2],ind[3],ind[4]))\n",
    "pc_ind_l = pd.MultiIndex.from_tuples(pc_ind_l)\n",
    "\n",
    "# select place cells\n",
    "fr_map_trial_df_pc = fr_map_trial_df_all.unstack(level=-1).loc[pc_ind_l].stack()"
   ]
  },
  {
   "cell_type": "code",
   "execution_count": 187,
   "id": "12e9bd87",
   "metadata": {},
   "outputs": [
    {
     "name": "stdout",
     "output_type": "stream",
     "text": [
      "CPU times: user 4.06 s, sys: 123 ms, total: 4.18 s\n",
      "Wall time: 4.18 s\n"
     ]
    }
   ],
   "source": [
    "%%time\n",
    "gpb=fr_map_trial_df_pc.groupby(level=(0,1,2,3,4))\n",
    "rmcorr_per_neuron = gpb.corr()"
   ]
  },
  {
   "cell_type": "code",
   "execution_count": 188,
   "id": "b3a49556",
   "metadata": {},
   "outputs": [
    {
     "name": "stdout",
     "output_type": "stream",
     "text": [
      "CPU times: user 1min 20s, sys: 635 ms, total: 1min 20s\n",
      "Wall time: 1min 20s\n"
     ]
    }
   ],
   "source": [
    "%%time\n",
    "corr_all = {}\n",
    "corr_per_lag_all = {}\n",
    "for k,val in gpb:\n",
    "    corr_one =val.corr().dropna(axis=1,how='all').dropna(axis=0,how='all')\n",
    "    corr_all[k] = corr_one\n",
    "    corr_per_lag_one = pvca.get_val_per_lag(corr_one)\n",
    "    corr_per_lag_all[k] = corr_per_lag_one\n",
    "corr_all = pd.concat(corr_all,axis=0)\n",
    "corr_per_lag_all = pd.concat(corr_per_lag_all,axis=0)"
   ]
  },
  {
   "cell_type": "code",
   "execution_count": 192,
   "id": "2842f8b1",
   "metadata": {},
   "outputs": [],
   "source": [
    "# corr_per_lag_per_sess=corr_per_lag_all.groupby(level=(0,1,2)).mean()\n",
    "corr_per_lag_per_sess_per_trpair_per_neuron=corr_per_lag_all.groupby(level=(0,1,2,3,4)).mean()"
   ]
  },
  {
   "cell_type": "code",
   "execution_count": 194,
   "id": "3b65ca97",
   "metadata": {},
   "outputs": [
    {
     "data": {
      "text/html": [
       "<div>\n",
       "<style scoped>\n",
       "    .dataframe tbody tr th:only-of-type {\n",
       "        vertical-align: middle;\n",
       "    }\n",
       "\n",
       "    .dataframe tbody tr th {\n",
       "        vertical-align: top;\n",
       "    }\n",
       "\n",
       "    .dataframe thead th {\n",
       "        text-align: right;\n",
       "    }\n",
       "</style>\n",
       "<table border=\"1\" class=\"dataframe\">\n",
       "  <thead>\n",
       "    <tr style=\"text-align: right;\">\n",
       "      <th></th>\n",
       "      <th></th>\n",
       "      <th></th>\n",
       "      <th></th>\n",
       "      <th></th>\n",
       "      <th>1</th>\n",
       "      <th>2</th>\n",
       "      <th>3</th>\n",
       "      <th>4</th>\n",
       "      <th>5</th>\n",
       "      <th>6</th>\n",
       "      <th>7</th>\n",
       "      <th>8</th>\n",
       "      <th>9</th>\n",
       "      <th>10</th>\n",
       "      <th>...</th>\n",
       "      <th>26</th>\n",
       "      <th>27</th>\n",
       "      <th>28</th>\n",
       "      <th>29</th>\n",
       "      <th>30</th>\n",
       "      <th>31</th>\n",
       "      <th>32</th>\n",
       "      <th>33</th>\n",
       "      <th>34</th>\n",
       "      <th>35</th>\n",
       "    </tr>\n",
       "  </thead>\n",
       "  <tbody>\n",
       "    <tr>\n",
       "      <th rowspan=\"5\" valign=\"top\">e13_16f1</th>\n",
       "      <th rowspan=\"5\" valign=\"top\">e13_16f1_210302</th>\n",
       "      <th rowspan=\"5\" valign=\"top\">0</th>\n",
       "      <th rowspan=\"5\" valign=\"top\">0.0</th>\n",
       "      <th>7.0</th>\n",
       "      <td>0.519742</td>\n",
       "      <td>0.458300</td>\n",
       "      <td>0.399320</td>\n",
       "      <td>0.378884</td>\n",
       "      <td>0.332154</td>\n",
       "      <td>0.304454</td>\n",
       "      <td>0.433865</td>\n",
       "      <td>0.385864</td>\n",
       "      <td>0.499011</td>\n",
       "      <td>0.504799</td>\n",
       "      <td>...</td>\n",
       "      <td>NaN</td>\n",
       "      <td>NaN</td>\n",
       "      <td>NaN</td>\n",
       "      <td>NaN</td>\n",
       "      <td>NaN</td>\n",
       "      <td>NaN</td>\n",
       "      <td>NaN</td>\n",
       "      <td>NaN</td>\n",
       "      <td>NaN</td>\n",
       "      <td>NaN</td>\n",
       "    </tr>\n",
       "    <tr>\n",
       "      <th>8.0</th>\n",
       "      <td>0.505559</td>\n",
       "      <td>0.512566</td>\n",
       "      <td>0.443927</td>\n",
       "      <td>0.408269</td>\n",
       "      <td>0.470111</td>\n",
       "      <td>0.437735</td>\n",
       "      <td>0.376902</td>\n",
       "      <td>0.355738</td>\n",
       "      <td>0.432581</td>\n",
       "      <td>0.230036</td>\n",
       "      <td>...</td>\n",
       "      <td>NaN</td>\n",
       "      <td>NaN</td>\n",
       "      <td>NaN</td>\n",
       "      <td>NaN</td>\n",
       "      <td>NaN</td>\n",
       "      <td>NaN</td>\n",
       "      <td>NaN</td>\n",
       "      <td>NaN</td>\n",
       "      <td>NaN</td>\n",
       "      <td>NaN</td>\n",
       "    </tr>\n",
       "    <tr>\n",
       "      <th>9.0</th>\n",
       "      <td>0.680681</td>\n",
       "      <td>0.637943</td>\n",
       "      <td>0.620679</td>\n",
       "      <td>0.587263</td>\n",
       "      <td>0.481567</td>\n",
       "      <td>0.399351</td>\n",
       "      <td>0.390235</td>\n",
       "      <td>0.302623</td>\n",
       "      <td>0.086717</td>\n",
       "      <td>0.142637</td>\n",
       "      <td>...</td>\n",
       "      <td>NaN</td>\n",
       "      <td>NaN</td>\n",
       "      <td>NaN</td>\n",
       "      <td>NaN</td>\n",
       "      <td>NaN</td>\n",
       "      <td>NaN</td>\n",
       "      <td>NaN</td>\n",
       "      <td>NaN</td>\n",
       "      <td>NaN</td>\n",
       "      <td>NaN</td>\n",
       "    </tr>\n",
       "    <tr>\n",
       "      <th>11.0</th>\n",
       "      <td>0.532101</td>\n",
       "      <td>0.500601</td>\n",
       "      <td>0.391141</td>\n",
       "      <td>0.379655</td>\n",
       "      <td>0.268852</td>\n",
       "      <td>0.204305</td>\n",
       "      <td>0.053725</td>\n",
       "      <td>0.065280</td>\n",
       "      <td>0.048880</td>\n",
       "      <td>0.035544</td>\n",
       "      <td>...</td>\n",
       "      <td>NaN</td>\n",
       "      <td>NaN</td>\n",
       "      <td>NaN</td>\n",
       "      <td>NaN</td>\n",
       "      <td>NaN</td>\n",
       "      <td>NaN</td>\n",
       "      <td>NaN</td>\n",
       "      <td>NaN</td>\n",
       "      <td>NaN</td>\n",
       "      <td>NaN</td>\n",
       "    </tr>\n",
       "    <tr>\n",
       "      <th>12.0</th>\n",
       "      <td>0.694690</td>\n",
       "      <td>0.661688</td>\n",
       "      <td>0.680905</td>\n",
       "      <td>0.588639</td>\n",
       "      <td>0.657169</td>\n",
       "      <td>0.606461</td>\n",
       "      <td>0.588200</td>\n",
       "      <td>0.552399</td>\n",
       "      <td>0.498482</td>\n",
       "      <td>0.527204</td>\n",
       "      <td>...</td>\n",
       "      <td>NaN</td>\n",
       "      <td>NaN</td>\n",
       "      <td>NaN</td>\n",
       "      <td>NaN</td>\n",
       "      <td>NaN</td>\n",
       "      <td>NaN</td>\n",
       "      <td>NaN</td>\n",
       "      <td>NaN</td>\n",
       "      <td>NaN</td>\n",
       "      <td>NaN</td>\n",
       "    </tr>\n",
       "    <tr>\n",
       "      <th>...</th>\n",
       "      <th>...</th>\n",
       "      <th>...</th>\n",
       "      <th>...</th>\n",
       "      <th>...</th>\n",
       "      <td>...</td>\n",
       "      <td>...</td>\n",
       "      <td>...</td>\n",
       "      <td>...</td>\n",
       "      <td>...</td>\n",
       "      <td>...</td>\n",
       "      <td>...</td>\n",
       "      <td>...</td>\n",
       "      <td>...</td>\n",
       "      <td>...</td>\n",
       "      <td>...</td>\n",
       "      <td>...</td>\n",
       "      <td>...</td>\n",
       "      <td>...</td>\n",
       "      <td>...</td>\n",
       "      <td>...</td>\n",
       "      <td>...</td>\n",
       "      <td>...</td>\n",
       "      <td>...</td>\n",
       "      <td>...</td>\n",
       "      <td>...</td>\n",
       "    </tr>\n",
       "    <tr>\n",
       "      <th rowspan=\"5\" valign=\"top\">e16_3m2</th>\n",
       "      <th rowspan=\"5\" valign=\"top\">e16_3m2_211213</th>\n",
       "      <th rowspan=\"5\" valign=\"top\">1</th>\n",
       "      <th rowspan=\"5\" valign=\"top\">1.0</th>\n",
       "      <th>200.0</th>\n",
       "      <td>0.175280</td>\n",
       "      <td>0.129129</td>\n",
       "      <td>0.272124</td>\n",
       "      <td>0.187353</td>\n",
       "      <td>0.195109</td>\n",
       "      <td>0.136730</td>\n",
       "      <td>0.014310</td>\n",
       "      <td>0.303628</td>\n",
       "      <td>0.027834</td>\n",
       "      <td>-0.117861</td>\n",
       "      <td>...</td>\n",
       "      <td>NaN</td>\n",
       "      <td>NaN</td>\n",
       "      <td>NaN</td>\n",
       "      <td>NaN</td>\n",
       "      <td>NaN</td>\n",
       "      <td>NaN</td>\n",
       "      <td>NaN</td>\n",
       "      <td>NaN</td>\n",
       "      <td>NaN</td>\n",
       "      <td>NaN</td>\n",
       "    </tr>\n",
       "    <tr>\n",
       "      <th>201.0</th>\n",
       "      <td>0.785786</td>\n",
       "      <td>0.707402</td>\n",
       "      <td>0.616852</td>\n",
       "      <td>0.553220</td>\n",
       "      <td>0.598415</td>\n",
       "      <td>0.540528</td>\n",
       "      <td>0.504732</td>\n",
       "      <td>0.311121</td>\n",
       "      <td>0.195926</td>\n",
       "      <td>0.126197</td>\n",
       "      <td>...</td>\n",
       "      <td>NaN</td>\n",
       "      <td>NaN</td>\n",
       "      <td>NaN</td>\n",
       "      <td>NaN</td>\n",
       "      <td>NaN</td>\n",
       "      <td>NaN</td>\n",
       "      <td>NaN</td>\n",
       "      <td>NaN</td>\n",
       "      <td>NaN</td>\n",
       "      <td>NaN</td>\n",
       "    </tr>\n",
       "    <tr>\n",
       "      <th>203.0</th>\n",
       "      <td>0.900200</td>\n",
       "      <td>0.900649</td>\n",
       "      <td>0.878849</td>\n",
       "      <td>0.855420</td>\n",
       "      <td>0.875044</td>\n",
       "      <td>0.825723</td>\n",
       "      <td>0.833687</td>\n",
       "      <td>0.820656</td>\n",
       "      <td>0.768507</td>\n",
       "      <td>0.774393</td>\n",
       "      <td>...</td>\n",
       "      <td>NaN</td>\n",
       "      <td>NaN</td>\n",
       "      <td>NaN</td>\n",
       "      <td>NaN</td>\n",
       "      <td>NaN</td>\n",
       "      <td>NaN</td>\n",
       "      <td>NaN</td>\n",
       "      <td>NaN</td>\n",
       "      <td>NaN</td>\n",
       "      <td>NaN</td>\n",
       "    </tr>\n",
       "    <tr>\n",
       "      <th>206.0</th>\n",
       "      <td>0.250879</td>\n",
       "      <td>0.168442</td>\n",
       "      <td>0.243589</td>\n",
       "      <td>0.239174</td>\n",
       "      <td>0.077753</td>\n",
       "      <td>0.225179</td>\n",
       "      <td>0.330856</td>\n",
       "      <td>-0.071715</td>\n",
       "      <td>0.272761</td>\n",
       "      <td>0.196872</td>\n",
       "      <td>...</td>\n",
       "      <td>NaN</td>\n",
       "      <td>NaN</td>\n",
       "      <td>NaN</td>\n",
       "      <td>NaN</td>\n",
       "      <td>NaN</td>\n",
       "      <td>NaN</td>\n",
       "      <td>NaN</td>\n",
       "      <td>NaN</td>\n",
       "      <td>NaN</td>\n",
       "      <td>NaN</td>\n",
       "    </tr>\n",
       "    <tr>\n",
       "      <th>207.0</th>\n",
       "      <td>0.594817</td>\n",
       "      <td>0.503004</td>\n",
       "      <td>0.643074</td>\n",
       "      <td>0.607100</td>\n",
       "      <td>0.476943</td>\n",
       "      <td>0.484831</td>\n",
       "      <td>0.527012</td>\n",
       "      <td>0.457862</td>\n",
       "      <td>0.495237</td>\n",
       "      <td>0.433837</td>\n",
       "      <td>...</td>\n",
       "      <td>NaN</td>\n",
       "      <td>NaN</td>\n",
       "      <td>NaN</td>\n",
       "      <td>NaN</td>\n",
       "      <td>NaN</td>\n",
       "      <td>NaN</td>\n",
       "      <td>NaN</td>\n",
       "      <td>NaN</td>\n",
       "      <td>NaN</td>\n",
       "      <td>NaN</td>\n",
       "    </tr>\n",
       "  </tbody>\n",
       "</table>\n",
       "<p>9630 rows × 35 columns</p>\n",
       "</div>"
      ],
      "text/plain": [
       "                                            1         2         3         4   \\\n",
       "e13_16f1 e13_16f1_210302 0 0.0 7.0    0.519742  0.458300  0.399320  0.378884   \n",
       "                               8.0    0.505559  0.512566  0.443927  0.408269   \n",
       "                               9.0    0.680681  0.637943  0.620679  0.587263   \n",
       "                               11.0   0.532101  0.500601  0.391141  0.379655   \n",
       "                               12.0   0.694690  0.661688  0.680905  0.588639   \n",
       "...                                        ...       ...       ...       ...   \n",
       "e16_3m2  e16_3m2_211213  1 1.0 200.0  0.175280  0.129129  0.272124  0.187353   \n",
       "                               201.0  0.785786  0.707402  0.616852  0.553220   \n",
       "                               203.0  0.900200  0.900649  0.878849  0.855420   \n",
       "                               206.0  0.250879  0.168442  0.243589  0.239174   \n",
       "                               207.0  0.594817  0.503004  0.643074  0.607100   \n",
       "\n",
       "                                            5         6         7         8   \\\n",
       "e13_16f1 e13_16f1_210302 0 0.0 7.0    0.332154  0.304454  0.433865  0.385864   \n",
       "                               8.0    0.470111  0.437735  0.376902  0.355738   \n",
       "                               9.0    0.481567  0.399351  0.390235  0.302623   \n",
       "                               11.0   0.268852  0.204305  0.053725  0.065280   \n",
       "                               12.0   0.657169  0.606461  0.588200  0.552399   \n",
       "...                                        ...       ...       ...       ...   \n",
       "e16_3m2  e16_3m2_211213  1 1.0 200.0  0.195109  0.136730  0.014310  0.303628   \n",
       "                               201.0  0.598415  0.540528  0.504732  0.311121   \n",
       "                               203.0  0.875044  0.825723  0.833687  0.820656   \n",
       "                               206.0  0.077753  0.225179  0.330856 -0.071715   \n",
       "                               207.0  0.476943  0.484831  0.527012  0.457862   \n",
       "\n",
       "                                            9         10  ...  26  27  28  29  \\\n",
       "e13_16f1 e13_16f1_210302 0 0.0 7.0    0.499011  0.504799  ... NaN NaN NaN NaN   \n",
       "                               8.0    0.432581  0.230036  ... NaN NaN NaN NaN   \n",
       "                               9.0    0.086717  0.142637  ... NaN NaN NaN NaN   \n",
       "                               11.0   0.048880  0.035544  ... NaN NaN NaN NaN   \n",
       "                               12.0   0.498482  0.527204  ... NaN NaN NaN NaN   \n",
       "...                                        ...       ...  ...  ..  ..  ..  ..   \n",
       "e16_3m2  e16_3m2_211213  1 1.0 200.0  0.027834 -0.117861  ... NaN NaN NaN NaN   \n",
       "                               201.0  0.195926  0.126197  ... NaN NaN NaN NaN   \n",
       "                               203.0  0.768507  0.774393  ... NaN NaN NaN NaN   \n",
       "                               206.0  0.272761  0.196872  ... NaN NaN NaN NaN   \n",
       "                               207.0  0.495237  0.433837  ... NaN NaN NaN NaN   \n",
       "\n",
       "                                      30  31  32  33  34  35  \n",
       "e13_16f1 e13_16f1_210302 0 0.0 7.0   NaN NaN NaN NaN NaN NaN  \n",
       "                               8.0   NaN NaN NaN NaN NaN NaN  \n",
       "                               9.0   NaN NaN NaN NaN NaN NaN  \n",
       "                               11.0  NaN NaN NaN NaN NaN NaN  \n",
       "                               12.0  NaN NaN NaN NaN NaN NaN  \n",
       "...                                   ..  ..  ..  ..  ..  ..  \n",
       "e16_3m2  e16_3m2_211213  1 1.0 200.0 NaN NaN NaN NaN NaN NaN  \n",
       "                               201.0 NaN NaN NaN NaN NaN NaN  \n",
       "                               203.0 NaN NaN NaN NaN NaN NaN  \n",
       "                               206.0 NaN NaN NaN NaN NaN NaN  \n",
       "                               207.0 NaN NaN NaN NaN NaN NaN  \n",
       "\n",
       "[9630 rows x 35 columns]"
      ]
     },
     "execution_count": 194,
     "metadata": {},
     "output_type": "execute_result"
    }
   ],
   "source": [
    "corr_per_lag_per_sess_per_trpair_per_neuron"
   ]
  },
  {
   "cell_type": "code",
   "execution_count": 196,
   "id": "85c24ab6",
   "metadata": {
    "scrolled": true
   },
   "outputs": [
    {
     "data": {
      "text/html": [
       "<div>\n",
       "<style scoped>\n",
       "    .dataframe tbody tr th:only-of-type {\n",
       "        vertical-align: middle;\n",
       "    }\n",
       "\n",
       "    .dataframe tbody tr th {\n",
       "        vertical-align: top;\n",
       "    }\n",
       "\n",
       "    .dataframe thead tr th {\n",
       "        text-align: left;\n",
       "    }\n",
       "</style>\n",
       "<table border=\"1\" class=\"dataframe\">\n",
       "  <thead>\n",
       "    <tr>\n",
       "      <th></th>\n",
       "      <th></th>\n",
       "      <th></th>\n",
       "      <th></th>\n",
       "      <th></th>\n",
       "      <th colspan=\"3\" halign=\"left\">1</th>\n",
       "      <th colspan=\"3\" halign=\"left\">2</th>\n",
       "    </tr>\n",
       "    <tr>\n",
       "      <th></th>\n",
       "      <th></th>\n",
       "      <th></th>\n",
       "      <th></th>\n",
       "      <th></th>\n",
       "      <th>reg</th>\n",
       "      <th>step</th>\n",
       "      <th>step_minus_reg</th>\n",
       "      <th>reg</th>\n",
       "      <th>step</th>\n",
       "      <th>step_minus_reg</th>\n",
       "    </tr>\n",
       "  </thead>\n",
       "  <tbody>\n",
       "    <tr>\n",
       "      <th rowspan=\"11\" valign=\"top\">e13_26m1</th>\n",
       "      <th rowspan=\"11\" valign=\"top\">e13_26m1_211116</th>\n",
       "      <th rowspan=\"11\" valign=\"top\">0</th>\n",
       "      <th rowspan=\"11\" valign=\"top\">1.0</th>\n",
       "      <th>5.0</th>\n",
       "      <td>0.856753</td>\n",
       "      <td>0.749974</td>\n",
       "      <td>-0.106779</td>\n",
       "      <td>0.864382</td>\n",
       "      <td>0.931167</td>\n",
       "      <td>0.066785</td>\n",
       "    </tr>\n",
       "    <tr>\n",
       "      <th>11.0</th>\n",
       "      <td>0.580945</td>\n",
       "      <td>0.902428</td>\n",
       "      <td>0.321484</td>\n",
       "      <td>0.732529</td>\n",
       "      <td>0.904648</td>\n",
       "      <td>0.172119</td>\n",
       "    </tr>\n",
       "    <tr>\n",
       "      <th>13.0</th>\n",
       "      <td>0.082866</td>\n",
       "      <td>0.205332</td>\n",
       "      <td>0.122465</td>\n",
       "      <td>0.315347</td>\n",
       "      <td>0.294898</td>\n",
       "      <td>-0.020449</td>\n",
       "    </tr>\n",
       "    <tr>\n",
       "      <th>16.0</th>\n",
       "      <td>0.311856</td>\n",
       "      <td>0.649828</td>\n",
       "      <td>0.337973</td>\n",
       "      <td>0.826035</td>\n",
       "      <td>0.703586</td>\n",
       "      <td>-0.122449</td>\n",
       "    </tr>\n",
       "    <tr>\n",
       "      <th>17.0</th>\n",
       "      <td>0.474043</td>\n",
       "      <td>0.897172</td>\n",
       "      <td>0.423128</td>\n",
       "      <td>0.538514</td>\n",
       "      <td>0.930511</td>\n",
       "      <td>0.391997</td>\n",
       "    </tr>\n",
       "    <tr>\n",
       "      <th>...</th>\n",
       "      <td>...</td>\n",
       "      <td>...</td>\n",
       "      <td>...</td>\n",
       "      <td>...</td>\n",
       "      <td>...</td>\n",
       "      <td>...</td>\n",
       "    </tr>\n",
       "    <tr>\n",
       "      <th>201.0</th>\n",
       "      <td>0.106421</td>\n",
       "      <td>0.486873</td>\n",
       "      <td>0.380452</td>\n",
       "      <td>0.581287</td>\n",
       "      <td>0.636083</td>\n",
       "      <td>0.054796</td>\n",
       "    </tr>\n",
       "    <tr>\n",
       "      <th>202.0</th>\n",
       "      <td>0.346167</td>\n",
       "      <td>0.340991</td>\n",
       "      <td>-0.005176</td>\n",
       "      <td>0.346617</td>\n",
       "      <td>0.462467</td>\n",
       "      <td>0.115850</td>\n",
       "    </tr>\n",
       "    <tr>\n",
       "      <th>206.0</th>\n",
       "      <td>0.722126</td>\n",
       "      <td>0.772981</td>\n",
       "      <td>0.050855</td>\n",
       "      <td>0.746965</td>\n",
       "      <td>0.800287</td>\n",
       "      <td>0.053322</td>\n",
       "    </tr>\n",
       "    <tr>\n",
       "      <th>207.0</th>\n",
       "      <td>0.635068</td>\n",
       "      <td>0.717185</td>\n",
       "      <td>0.082117</td>\n",
       "      <td>0.725318</td>\n",
       "      <td>0.887556</td>\n",
       "      <td>0.162238</td>\n",
       "    </tr>\n",
       "    <tr>\n",
       "      <th>208.0</th>\n",
       "      <td>0.090510</td>\n",
       "      <td>0.463614</td>\n",
       "      <td>0.373104</td>\n",
       "      <td>0.834272</td>\n",
       "      <td>0.809364</td>\n",
       "      <td>-0.024908</td>\n",
       "    </tr>\n",
       "  </tbody>\n",
       "</table>\n",
       "<p>118 rows × 6 columns</p>\n",
       "</div>"
      ],
      "text/plain": [
       "                                             1                           \\\n",
       "                                           reg      step step_minus_reg   \n",
       "e13_26m1 e13_26m1_211116 0 1.0 5.0    0.856753  0.749974      -0.106779   \n",
       "                               11.0   0.580945  0.902428       0.321484   \n",
       "                               13.0   0.082866  0.205332       0.122465   \n",
       "                               16.0   0.311856  0.649828       0.337973   \n",
       "                               17.0   0.474043  0.897172       0.423128   \n",
       "...                                        ...       ...            ...   \n",
       "                               201.0  0.106421  0.486873       0.380452   \n",
       "                               202.0  0.346167  0.340991      -0.005176   \n",
       "                               206.0  0.722126  0.772981       0.050855   \n",
       "                               207.0  0.635068  0.717185       0.082117   \n",
       "                               208.0  0.090510  0.463614       0.373104   \n",
       "\n",
       "                                             2                           \n",
       "                                           reg      step step_minus_reg  \n",
       "e13_26m1 e13_26m1_211116 0 1.0 5.0    0.864382  0.931167       0.066785  \n",
       "                               11.0   0.732529  0.904648       0.172119  \n",
       "                               13.0   0.315347  0.294898      -0.020449  \n",
       "                               16.0   0.826035  0.703586      -0.122449  \n",
       "                               17.0   0.538514  0.930511       0.391997  \n",
       "...                                        ...       ...            ...  \n",
       "                               201.0  0.581287  0.636083       0.054796  \n",
       "                               202.0  0.346617  0.462467       0.115850  \n",
       "                               206.0  0.746965  0.800287       0.053322  \n",
       "                               207.0  0.725318  0.887556       0.162238  \n",
       "                               208.0  0.834272  0.809364      -0.024908  \n",
       "\n",
       "[118 rows x 6 columns]"
      ]
     },
     "execution_count": 196,
     "metadata": {},
     "output_type": "execute_result"
    }
   ],
   "source": [
    "r2_df_d"
   ]
  },
  {
   "cell_type": "code",
   "execution_count": 209,
   "id": "b8bf6184",
   "metadata": {},
   "outputs": [
    {
     "data": {
      "text/plain": [
       "<module 'step_vs_gradual_analysis' from '/mnt/home/szheng/projects/place_variability/code/step_vs_gradual_analysis.py'>"
      ]
     },
     "execution_count": 209,
     "metadata": {},
     "output_type": "execute_result"
    }
   ],
   "source": [
    "reload(svga)"
   ]
  },
  {
   "cell_type": "code",
   "execution_count": 210,
   "id": "d2fdb63d",
   "metadata": {
    "scrolled": true
   },
   "outputs": [
    {
     "name": "stderr",
     "output_type": "stream",
     "text": [
      "/mnt/home/szheng/ceph/envs/jax/lib/python3.9/site-packages/statsmodels/regression/linear_model.py:1736: RuntimeWarning: invalid value encountered in scalar divide\n",
      "  return 1 - self.ssr/self.centered_tss\n",
      "/mnt/home/szheng/ceph/envs/jax/lib/python3.9/site-packages/statsmodels/regression/linear_model.py:1736: RuntimeWarning: invalid value encountered in scalar divide\n",
      "  return 1 - self.ssr/self.centered_tss\n",
      "/mnt/home/szheng/ceph/envs/jax/lib/python3.9/site-packages/statsmodels/regression/linear_model.py:1736: RuntimeWarning: invalid value encountered in scalar divide\n",
      "  return 1 - self.ssr/self.centered_tss\n",
      "/mnt/home/szheng/ceph/envs/jax/lib/python3.9/site-packages/statsmodels/regression/linear_model.py:1736: RuntimeWarning: invalid value encountered in scalar divide\n",
      "  return 1 - self.ssr/self.centered_tss\n",
      "/mnt/home/szheng/ceph/envs/jax/lib/python3.9/site-packages/statsmodels/regression/linear_model.py:1736: RuntimeWarning: invalid value encountered in scalar divide\n",
      "  return 1 - self.ssr/self.centered_tss\n",
      "/mnt/home/szheng/ceph/envs/jax/lib/python3.9/site-packages/statsmodels/regression/linear_model.py:1736: RuntimeWarning: invalid value encountered in scalar divide\n",
      "  return 1 - self.ssr/self.centered_tss\n",
      "/mnt/home/szheng/ceph/envs/jax/lib/python3.9/site-packages/statsmodels/regression/linear_model.py:1736: RuntimeWarning: invalid value encountered in scalar divide\n",
      "  return 1 - self.ssr/self.centered_tss\n",
      "/mnt/home/szheng/ceph/envs/jax/lib/python3.9/site-packages/statsmodels/regression/linear_model.py:1736: RuntimeWarning: invalid value encountered in scalar divide\n",
      "  return 1 - self.ssr/self.centered_tss\n",
      "/mnt/home/szheng/ceph/envs/jax/lib/python3.9/site-packages/statsmodels/regression/linear_model.py:1736: RuntimeWarning: invalid value encountered in scalar divide\n",
      "  return 1 - self.ssr/self.centered_tss\n",
      "/mnt/home/szheng/ceph/envs/jax/lib/python3.9/site-packages/statsmodels/regression/linear_model.py:1736: RuntimeWarning: invalid value encountered in scalar divide\n",
      "  return 1 - self.ssr/self.centered_tss\n",
      "/mnt/home/szheng/ceph/envs/jax/lib/python3.9/site-packages/statsmodels/regression/linear_model.py:1736: RuntimeWarning: invalid value encountered in scalar divide\n",
      "  return 1 - self.ssr/self.centered_tss\n",
      "/mnt/home/szheng/ceph/envs/jax/lib/python3.9/site-packages/statsmodels/regression/linear_model.py:1736: RuntimeWarning: invalid value encountered in scalar divide\n",
      "  return 1 - self.ssr/self.centered_tss\n",
      "/mnt/home/szheng/ceph/envs/jax/lib/python3.9/site-packages/statsmodels/regression/linear_model.py:1736: RuntimeWarning: invalid value encountered in scalar divide\n",
      "  return 1 - self.ssr/self.centered_tss\n",
      "/mnt/home/szheng/ceph/envs/jax/lib/python3.9/site-packages/statsmodels/regression/linear_model.py:1736: RuntimeWarning: invalid value encountered in scalar divide\n",
      "  return 1 - self.ssr/self.centered_tss\n",
      "/mnt/home/szheng/ceph/envs/jax/lib/python3.9/site-packages/statsmodels/regression/linear_model.py:1736: RuntimeWarning: invalid value encountered in scalar divide\n",
      "  return 1 - self.ssr/self.centered_tss\n",
      "/mnt/home/szheng/ceph/envs/jax/lib/python3.9/site-packages/statsmodels/regression/linear_model.py:1736: RuntimeWarning: invalid value encountered in scalar divide\n",
      "  return 1 - self.ssr/self.centered_tss\n",
      "/mnt/home/szheng/ceph/envs/jax/lib/python3.9/site-packages/statsmodels/regression/linear_model.py:1736: RuntimeWarning: invalid value encountered in scalar divide\n",
      "  return 1 - self.ssr/self.centered_tss\n",
      "/mnt/home/szheng/ceph/envs/jax/lib/python3.9/site-packages/statsmodels/regression/linear_model.py:1736: RuntimeWarning: invalid value encountered in scalar divide\n",
      "  return 1 - self.ssr/self.centered_tss\n",
      "/mnt/home/szheng/ceph/envs/jax/lib/python3.9/site-packages/statsmodels/regression/linear_model.py:1736: RuntimeWarning: invalid value encountered in scalar divide\n",
      "  return 1 - self.ssr/self.centered_tss\n"
     ]
    },
    {
     "name": "stdout",
     "output_type": "stream",
     "text": [
      "CPU times: user 1min 4s, sys: 40.2 ms, total: 1min 4s\n",
      "Wall time: 1min 4s\n"
     ]
    }
   ],
   "source": [
    "%%time\n",
    "gpb = corr_per_lag_per_sess_per_trpair_per_neuron.groupby(level=(0,1,2,3),sort=False)\n",
    "r2_df_d_all = []\n",
    "for k,val in gpb:\n",
    "    r2_df_d = svga.fit_poly_regress_cpd_get_r2_all_multi_order(val,cost='l2',min_size=2,ncpt_max=3)\n",
    "#     r2_df_d_all[k] = r2_df_d\n",
    "    if r2_df_d is not None:\n",
    "        r2_df_d_all.append(r2_df_d) \n",
    "r2_df_d_all = pd.concat(r2_df_d_all,axis=0)"
   ]
  },
  {
   "cell_type": "code",
   "execution_count": 213,
   "id": "a23a1511",
   "metadata": {},
   "outputs": [],
   "source": [
    "fn_full = os.path.join(data_dir,'ratemap_avgtrpair_poly_regression_vs_step_r2_all.p')\n",
    "pickle.dump(r2_df_d_all,open(fn_full,'wb'))\n",
    "# r2_df_d_all = pickle.load(open(fn_full,'rb'))"
   ]
  },
  {
   "cell_type": "code",
   "execution_count": 219,
   "id": "0fc15c79",
   "metadata": {},
   "outputs": [
    {
     "data": {
      "image/png": "[encoded data removed]",
      "text/plain": [
       "<Figure size 86.4x86.4 with 1 Axes>"
      ]
     },
     "metadata": {
      "needs_background": "light"
     },
     "output_type": "display_data"
    },
    {
     "data": {
      "image/png": "[encoded data removed]",
      "text/plain": [
       "<Figure size 86.4x86.4 with 1 Axes>"
      ]
     },
     "metadata": {
      "needs_background": "light"
     },
     "output_type": "display_data"
    },
    {
     "data": {
      "image/png": "[encoded data removed]",
      "text/plain": [
       "<Figure size 86.4x86.4 with 1 Axes>"
      ]
     },
     "metadata": {
      "needs_background": "light"
     },
     "output_type": "display_data"
    }
   ],
   "source": [
    "# fig,axs=plt.subplots(5,1,figsize=(4,20))\n",
    "dosave = True#False\n",
    "for ii,order in enumerate(r2_df_d_all.columns.get_level_values(0).unique()):\n",
    "#     fig,ax=plt.subplots(figsize=(3,3))\n",
    "    fig,ax=plt.subplots(figsize=(1.2,1.2))\n",
    "    ax.set_aspect('equal')\n",
    "    ax.scatter(r2_df_d_all.loc[:,(order,'reg')],r2_df_d_all.loc[:,(order,'step')],s=0.1,marker='o')\n",
    "    frac_step_larger=(r2_df_d_all.loc[:,(order,'step_minus_reg')].dropna() > 0).mean()\n",
    "    ax.plot([0,1],[0,1],c='k')\n",
    "#     ax.set_title(f'Num. change point (polynomial order)={order}\\nFrac. CPM > regression={frac_step_larger:.2f}')\n",
    "    # to use the png version, get rid of as much text as possible\n",
    "#     ax.set_title(f'Frac. (CPM better)={frac_step_larger:.2f}',fontsize=10)\n",
    "    ax.set_title(f'{frac_step_larger:.2f}',fontsize=10)\n",
    "#     ax.set_xticklabels(ax.get_xticklabels(),fontsize=8)\n",
    "#     ax.set_yticklabels(ax.get_xticklabels(),fontsize=8)\n",
    "    ax.set_xticks([0,1])\n",
    "    ax.set_yticks([0,1])\n",
    "    \n",
    "#     ax.set_xlabel('R2 polynomial regression')\n",
    "#     ax.set_ylabel('R2 change point model')\n",
    "    if dosave:\n",
    "        figfn = f'ratemap_avgtrpair_scatter_R2_cpd_vs_polyreg_order{order}'\n",
    "        ph.save_given_name(fig,figfn,figdir,dpi=900)\n"
   ]
  },
  {
   "cell_type": "code",
   "execution_count": null,
   "id": "700ba5dd",
   "metadata": {},
   "outputs": [],
   "source": []
  },
  {
   "cell_type": "code",
   "execution_count": null,
   "id": "f4b5247a",
   "metadata": {},
   "outputs": [],
   "source": []
  },
  {
   "cell_type": "markdown",
   "id": "0e6d5063",
   "metadata": {},
   "source": [
    "# fit all sessions"
   ]
  },
  {
   "cell_type": "code",
   "execution_count": 9,
   "id": "051b1d67",
   "metadata": {},
   "outputs": [
    {
     "data": {
      "text/plain": [
       "<module 'step_vs_gradual_analysis' from '/mnt/home/szheng/projects/place_variability/code/step_vs_gradual_analysis.py'>"
      ]
     },
     "execution_count": 9,
     "metadata": {},
     "output_type": "execute_result"
    }
   ],
   "source": [
    "import step_vs_gradual_analysis as svga\n",
    "reload(svga)"
   ]
  },
  {
   "cell_type": "code",
   "execution_count": 21,
   "id": "cdbf63f8",
   "metadata": {},
   "outputs": [
    {
     "name": "stdout",
     "output_type": "stream",
     "text": [
      "CPU times: user 3min 40s, sys: 47.7 ms, total: 3min 40s\n",
      "Wall time: 3min 40s\n"
     ]
    }
   ],
   "source": [
    "%%time\n",
    "gpb = X_raw_all.groupby(level=(0,1,2,3),sort=False)\n",
    "r2_df_d_all = []\n",
    "for k,val in gpb:\n",
    "    r2_df_d = svga.fit_poly_regress_cpd_get_r2_all_multi_order(val,cost='l2',min_size=2,ncpt_max=5)\n",
    "#     r2_df_d_all[k] = r2_df_d\n",
    "    r2_df_d_all.append(r2_df_d) \n",
    "r2_df_d_all = pd.concat(r2_df_d_all,axis=0)"
   ]
  },
  {
   "cell_type": "code",
   "execution_count": 32,
   "id": "87d1e56a",
   "metadata": {},
   "outputs": [],
   "source": [
    "# r2_df_d_all=r2_df_d_all.droplevel((0,1,2,3))"
   ]
  },
  {
   "cell_type": "code",
   "execution_count": 10,
   "id": "19f3cb67",
   "metadata": {},
   "outputs": [],
   "source": [
    "fn_full = os.path.join(data_dir,'poly_regression_vs_step_r2_all.p')\n",
    "# pickle.dump(r2_df_d_all,open(fn_full,'wb'))\n",
    "r2_df_d_all = pickle.load(open(fn_full,'rb'))"
   ]
  },
  {
   "cell_type": "code",
   "execution_count": 71,
   "id": "af1c8c9d",
   "metadata": {},
   "outputs": [
    {
     "name": "stderr",
     "output_type": "stream",
     "text": [
      "/tmp/ipykernel_2060823/1321363207.py:14: UserWarning: FixedFormatter should only be used together with FixedLocator\n",
      "  ax.set_xticklabels(ax.get_xticklabels(),fontsize=8)\n",
      "/tmp/ipykernel_2060823/1321363207.py:15: UserWarning: FixedFormatter should only be used together with FixedLocator\n",
      "  ax.set_yticklabels(ax.get_xticklabels(),fontsize=8)\n"
     ]
    },
    {
     "data": {
      "image/png": "[encoded data removed]",
      "text/plain": [
       "<Figure size 86.4x86.4 with 1 Axes>"
      ]
     },
     "metadata": {
      "needs_background": "light"
     },
     "output_type": "display_data"
    },
    {
     "data": {
      "image/png": "[encoded data removed]",
      "text/plain": [
       "<Figure size 86.4x86.4 with 1 Axes>"
      ]
     },
     "metadata": {
      "needs_background": "light"
     },
     "output_type": "display_data"
    },
    {
     "data": {
      "image/png": "[encoded data removed]",
      "text/plain": [
       "<Figure size 86.4x86.4 with 1 Axes>"
      ]
     },
     "metadata": {
      "needs_background": "light"
     },
     "output_type": "display_data"
    },
    {
     "data": {
      "image/png": "[encoded data removed]",
      "text/plain": [
       "<Figure size 86.4x86.4 with 1 Axes>"
      ]
     },
     "metadata": {
      "needs_background": "light"
     },
     "output_type": "display_data"
    },
    {
     "data": {
      "image/png": "[encoded data removed]",
      "text/plain": [
       "<Figure size 86.4x86.4 with 1 Axes>"
      ]
     },
     "metadata": {
      "needs_background": "light"
     },
     "output_type": "display_data"
    }
   ],
   "source": [
    "# fig,axs=plt.subplots(5,1,figsize=(4,20))\n",
    "dosave = True\n",
    "for ii,order in enumerate(r2_df_d_all.columns.get_level_values(0).unique()):\n",
    "#     fig,ax=plt.subplots(figsize=(3,3))\n",
    "    fig,ax=plt.subplots(figsize=(1.2,1.2))\n",
    "    ax.set_aspect('equal')\n",
    "    ax.scatter(r2_df_d_all.loc[:,(order,'reg')],r2_df_d_all.loc[:,(order,'step')],s=0.1,marker='o')\n",
    "    frac_step_larger=(r2_df_d_all.loc[:,(order,'step_minus_reg')].dropna() > 0).mean()\n",
    "    ax.plot([0,1],[0,1],c='k')\n",
    "#     ax.set_title(f'Num. change point (polynomial order)={order}\\nFrac. CPM > regression={frac_step_larger:.2f}')\n",
    "    # to use the png version, get rid of as much text as possible\n",
    "#     ax.set_title(f'Frac. (CPM better)={frac_step_larger:.2f}',fontsize=10)\n",
    "    ax.set_title(f'{frac_step_larger:.2f}',fontsize=10)\n",
    "    ax.set_xticklabels(ax.get_xticklabels(),fontsize=8)\n",
    "    ax.set_yticklabels(ax.get_xticklabels(),fontsize=8)\n",
    "#     ax.set_xlabel('R2 polynomial regression')\n",
    "#     ax.set_ylabel('R2 change point model')\n",
    "    if dosave:\n",
    "        figfn = f'scatter_R2_cpd_vs_polyreg_order{order}'\n",
    "        ph.save_given_name(fig,figfn,figdir,dpi=900)\n"
   ]
  },
  {
   "cell_type": "markdown",
   "id": "849d3300",
   "metadata": {},
   "source": [
    "# look at one session"
   ]
  },
  {
   "cell_type": "code",
   "execution_count": 14,
   "id": "f70c20c0",
   "metadata": {},
   "outputs": [
    {
     "name": "stderr",
     "output_type": "stream",
     "text": [
      "/tmp/ipykernel_2060823/1072487391.py:4: PerformanceWarning: indexing past lexsort depth may impact performance.\n",
      "  X_raw_one = X_raw_all.loc[(ani,sess,ta,tt),:]\n",
      "/tmp/ipykernel_2060823/1072487391.py:6: PerformanceWarning: indexing past lexsort depth may impact performance.\n",
      "  changes_df_one=changes_df_all.loc[(ani,sess,ta,tt),:]\n",
      "/tmp/ipykernel_2060823/1072487391.py:12: PerformanceWarning: indexing past lexsort depth may impact performance.\n",
      "  r2_df_d_one = r2_df_d_all.loc[(ani,sess,ta,tt),:]\n",
      "/tmp/ipykernel_2060823/1072487391.py:14: PerformanceWarning: indexing past lexsort depth may impact performance.\n",
      "  best_n_one = best_n_all_test.loc[ani,sess,ta,tt]\n",
      "/tmp/ipykernel_2060823/1072487391.py:15: PerformanceWarning: indexing past lexsort depth may impact performance.\n",
      "  fr_map_trial_df_one=fr_map_trial_df_all.loc[(ani,sess,ta,tt),:].dropna(axis=1,how='all')\n",
      "/tmp/ipykernel_2060823/1072487391.py:16: PerformanceWarning: indexing past lexsort depth may impact performance.\n",
      "  all_fields_one=all_fields_recombined_all.loc[(ani,sess,ta,tt),:]\n",
      "/tmp/ipykernel_2060823/1072487391.py:17: PerformanceWarning: indexing past lexsort depth may impact performance.\n",
      "  all_sw_d_one=all_sw_d_all.loc[(ani,sess,ta),:].set_index(['trialtype','uid','field_index']).loc[tt]\n"
     ]
    }
   ],
   "source": [
    "ani='e15_13f1'\n",
    "sess='e15_13f1_220117'\n",
    "ta,tt = 0,0\n",
    "X_raw_one = X_raw_all.loc[(ani,sess,ta,tt),:]\n",
    "\n",
    "changes_df_one=changes_df_all.loc[(ani,sess,ta,tt),:]\n",
    "\n",
    "ma=((changes_df_one==1).sum(axis=1)==1) & ((changes_df_one==-1).sum(axis=1)==1)\n",
    "ii=0\n",
    "uid,field_id=changes_df_one.loc[ma].index[ii]\n",
    "\n",
    "r2_df_d_one = r2_df_d_all.loc[(ani,sess,ta,tt),:]\n",
    "\n",
    "best_n_one = best_n_all_test.loc[ani,sess,ta,tt]\n",
    "fr_map_trial_df_one=fr_map_trial_df_all.loc[(ani,sess,ta,tt),:].dropna(axis=1,how='all')\n",
    "all_fields_one=all_fields_recombined_all.loc[(ani,sess,ta,tt),:]\n",
    "all_sw_d_one=all_sw_d_all.loc[(ani,sess,ta),:].set_index(['trialtype','uid','field_index']).loc[tt]"
   ]
  },
  {
   "cell_type": "code",
   "execution_count": 15,
   "id": "483642db",
   "metadata": {
    "scrolled": false
   },
   "outputs": [
    {
     "name": "stderr",
     "output_type": "stream",
     "text": [
      "/tmp/ipykernel_2060823/2076179227.py:4: PerformanceWarning: indexing past lexsort depth may impact performance.\n",
      "  si_l.append(per_field_metrics_all.loc[(i[0],i[1],i[2],row['trialtype'],row['uid']),:]['si'].mean())\n"
     ]
    }
   ],
   "source": [
    "# add si to all_sw\n",
    "si_l = []\n",
    "for i,row in all_sw_with_metrics_d_all.iterrows():\n",
    "    si_l.append(per_field_metrics_all.loc[(i[0],i[1],i[2],row['trialtype'],row['uid']),:]['si'].mean())\n",
    "si_l = np.array(si_l)\n",
    "all_sw_with_metrics_d_all['si'] = si_l"
   ]
  },
  {
   "cell_type": "code",
   "execution_count": 16,
   "id": "d824f793",
   "metadata": {},
   "outputs": [
    {
     "name": "stderr",
     "output_type": "stream",
     "text": [
      "/tmp/ipykernel_2060823/3875779715.py:2: PerformanceWarning: indexing past lexsort depth may impact performance.\n",
      "  all_sw_with_metrics_one=all_sw_with_metrics_d_all.loc[ani,sess,ta]\n"
     ]
    }
   ],
   "source": [
    "ta=0\n",
    "all_sw_with_metrics_one=all_sw_with_metrics_d_all.loc[ani,sess,ta]"
   ]
  },
  {
   "cell_type": "markdown",
   "id": "2132e77a",
   "metadata": {},
   "source": [
    "## select examples"
   ]
  },
  {
   "cell_type": "code",
   "execution_count": 17,
   "id": "38cb5fc0",
   "metadata": {},
   "outputs": [
    {
     "name": "stderr",
     "output_type": "stream",
     "text": [
      "/tmp/ipykernel_2060823/1711155876.py:7: PerformanceWarning: indexing past lexsort depth may impact performance.\n",
      "  best_n_one = best_n_all_test.loc[ani,sess,ta,tt]\n"
     ]
    }
   ],
   "source": [
    "# initialize the holder of example indices\n",
    "tt_uid_field_id_order_l = []\n",
    "\n",
    "# selecting one ON\n",
    "ta=0\n",
    "tt=0\n",
    "best_n_one = best_n_all_test.loc[ani,sess,ta,tt]\n",
    "ma=best_n_one==1\n",
    "ii=0\n",
    "uid,field_id = best_n_one.index[ma][ii]\n",
    "\n",
    "tt_uid_field_id_order_l.append((tt,uid,field_id,1))\n"
   ]
  },
  {
   "cell_type": "code",
   "execution_count": 18,
   "id": "48222351",
   "metadata": {},
   "outputs": [],
   "source": [
    "# selecting first on then off\n",
    "si_thresh = 0.5\n",
    "gpb=all_sw_with_metrics_one.groupby(['trialtype','uid','field_index'])\n",
    "uid_satisfying_cond = []\n",
    "for k,val in gpb:\n",
    "    cond = ((val['switch']==1).sum()==1) & ((val['switch']==-1).sum()==1) & (val['si'].mean() > si_thresh)\n",
    "    if cond:\n",
    "        if val.query('switch==1')['trial_index'].iloc[0] < val.query('switch==-1')['trial_index'].iloc[0]:\n",
    "#             uid_satisfying_cond[k] = val\n",
    "            uid_satisfying_cond.append(k)\n",
    "tt,uid,field_id = uid_satisfying_cond[5]\n",
    "tt_uid_field_id_order_l.append((tt,uid,field_id,2))\n"
   ]
  },
  {
   "cell_type": "code",
   "execution_count": 19,
   "id": "93be5b4e",
   "metadata": {},
   "outputs": [],
   "source": [
    "# selecting first off then on\n",
    "si_thresh = 0.5\n",
    "gpb=all_sw_with_metrics_one.groupby(['trialtype','uid','field_index'])\n",
    "uid_satisfying_cond = []\n",
    "for k,val in gpb:\n",
    "    cond = ((val['switch']==1).sum()==1) & ((val['switch']==-1).sum()==1) & (val['si'].mean() > si_thresh)\n",
    "    if cond:\n",
    "        if val.query('switch==1')['trial_index'].iloc[0] > val.query('switch==-1')['trial_index'].iloc[0]:\n",
    "#             uid_satisfying_cond[k] = val\n",
    "            uid_satisfying_cond.append(k)\n",
    "ii=2\n",
    "tt,uid,field_id = uid_satisfying_cond[ii]\n",
    "order=2\n",
    "tt_uid_field_id_order_l.append((tt,uid,field_id,order))\n"
   ]
  },
  {
   "cell_type": "code",
   "execution_count": 20,
   "id": "6b39d2a9",
   "metadata": {},
   "outputs": [],
   "source": [
    "# selecting 3 change points\n",
    "si_thresh = 0.5\n",
    "gpb=all_sw_with_metrics_one.groupby(['trialtype','uid','field_index'])\n",
    "uid_satisfying_cond = []\n",
    "for k,val in gpb:\n",
    "    cond = len(val)==3\n",
    "    if cond:\n",
    "        uid_satisfying_cond.append(k)\n",
    "ii=0\n",
    "tt,uid,field_id = uid_satisfying_cond[ii]\n",
    "order=3\n",
    "tt_uid_field_id_order_l.append((tt,uid,field_id,order))\n"
   ]
  },
  {
   "cell_type": "code",
   "execution_count": 68,
   "id": "c77c94ab",
   "metadata": {},
   "outputs": [
    {
     "data": {
      "text/plain": [
       "<module 'step_vs_gradual_analysis' from '/mnt/home/szheng/projects/place_variability/code/step_vs_gradual_analysis.py'>"
      ]
     },
     "execution_count": 68,
     "metadata": {},
     "output_type": "execute_result"
    }
   ],
   "source": [
    "reload(svga)"
   ]
  },
  {
   "cell_type": "code",
   "execution_count": 69,
   "id": "30edd487",
   "metadata": {
    "scrolled": false
   },
   "outputs": [
    {
     "name": "stderr",
     "output_type": "stream",
     "text": [
      "/tmp/ipykernel_2060823/3725456382.py:2: PerformanceWarning: indexing past lexsort depth may impact performance.\n",
      "  all_fields_recombined = all_fields_recombined_all.loc[ani,sess]\n",
      "/tmp/ipykernel_2060823/3725456382.py:5: PerformanceWarning: indexing past lexsort depth may impact performance.\n",
      "  fr_map_trial_df=fr_map_trial_df_all.loc[(ani,sess),:].dropna(axis=1,how='all')\n",
      "/tmp/ipykernel_2060823/3725456382.py:6: PerformanceWarning: indexing past lexsort depth may impact performance.\n",
      "  X_raw = X_raw_all.loc[(ani,sess),:]\n",
      "/tmp/ipykernel_2060823/3725456382.py:7: PerformanceWarning: indexing past lexsort depth may impact performance.\n",
      "  X_pwc=X_pwc_all.loc[(ani,sess),:]\n",
      "/tmp/ipykernel_2060823/3725456382.py:8: PerformanceWarning: indexing past lexsort depth may impact performance.\n",
      "  all_sw_d=all_sw_d_all.loc[(ani,sess),:]\n",
      "/tmp/ipykernel_2060823/3725456382.py:9: PerformanceWarning: indexing past lexsort depth may impact performance.\n",
      "  trial_index_to_index_within_df = dpp.trial_index_to_index_within_trialtype(spk_beh_df_all.loc[(ani,sess),:])\n",
      "/mnt/home/szheng/projects/util_code/plot_helper.py:574: UserWarning: FixedFormatter should only be used together with FixedLocator\n",
      "  ax.set_xticklabels(x_tick_labels, rotation=0)\n",
      "/mnt/home/szheng/projects/util_code/plot_helper.py:574: UserWarning: FixedFormatter should only be used together with FixedLocator\n",
      "  ax.set_xticklabels(x_tick_labels, rotation=0)\n",
      "/mnt/home/szheng/projects/util_code/plot_helper.py:574: UserWarning: FixedFormatter should only be used together with FixedLocator\n",
      "  ax.set_xticklabels(x_tick_labels, rotation=0)\n",
      "/mnt/home/szheng/projects/util_code/plot_helper.py:574: UserWarning: FixedFormatter should only be used together with FixedLocator\n",
      "  ax.set_xticklabels(x_tick_labels, rotation=0)\n"
     ]
    },
    {
     "data": {
      "image/png": "[encoded data removed]",
      "text/plain": [
       "<Figure size 288x216 with 3 Axes>"
      ]
     },
     "metadata": {
      "needs_background": "light"
     },
     "output_type": "display_data"
    },
    {
     "data": {
      "image/png": "[encoded data removed]",
      "text/plain": [
       "<Figure size 288x216 with 3 Axes>"
      ]
     },
     "metadata": {
      "needs_background": "light"
     },
     "output_type": "display_data"
    },
    {
     "data": {
      "image/png": "[encoded data removed]",
      "text/plain": [
       "<Figure size 288x216 with 3 Axes>"
      ]
     },
     "metadata": {
      "needs_background": "light"
     },
     "output_type": "display_data"
    },
    {
     "data": {
      "image/png": "[encoded data removed]",
      "text/plain": [
       "<Figure size 288x216 with 3 Axes>"
      ]
     },
     "metadata": {
      "needs_background": "light"
     },
     "output_type": "display_data"
    }
   ],
   "source": [
    "dosave = True\n",
    "all_fields_recombined = all_fields_recombined_all.loc[ani,sess]\n",
    "all_fields_row_one=all_fields_recombined.loc[ta,tt,uid,field_id]\n",
    "\n",
    "fr_map_trial_df=fr_map_trial_df_all.loc[(ani,sess),:].dropna(axis=1,how='all')\n",
    "X_raw = X_raw_all.loc[(ani,sess),:]\n",
    "X_pwc=X_pwc_all.loc[(ani,sess),:]\n",
    "all_sw_d=all_sw_d_all.loc[(ani,sess),:]\n",
    "trial_index_to_index_within_df = dpp.trial_index_to_index_within_trialtype(spk_beh_df_all.loc[(ani,sess),:])\n",
    "\n",
    "\n",
    "for (tt,uid,field_id,order) in tt_uid_field_id_order_l:\n",
    "    fig,axs=svga.fit_plot_step_vs_continuous_example(fr_map_trial_df,\n",
    "                                            X_raw,X_pwc,all_sw_d,trial_index_to_index_within_df,\n",
    "                                            all_fields_recombined,\n",
    "                                            best_n_one,\n",
    "                                            ncpts=order,ii=None,\n",
    "                                            ta=ta,tt=tt,min_size=2,\n",
    "                                                uid=uid,field_id=field_id,\n",
    "                                                     dosave=dosave,\n",
    "                                                     figdir=figdir,\n",
    "                                                     sess=sess,\n",
    "                                                     figsize=(4,3),\n",
    "                                                     do_legend=False,\n",
    "                                           )\n",
    "    \n",
    "#     axs[0].legend([]).remove()"
   ]
  },
  {
   "cell_type": "markdown",
   "id": "23473bb5",
   "metadata": {},
   "source": [
    "# step vs continuous for the pv correlation curve"
   ]
  },
  {
   "cell_type": "code",
   "execution_count": 10,
   "id": "d4284d04",
   "metadata": {},
   "outputs": [],
   "source": [
    "import pv_corr_analysis as pvca"
   ]
  },
  {
   "cell_type": "code",
   "execution_count": 11,
   "id": "68ae5628",
   "metadata": {},
   "outputs": [],
   "source": [
    "corr_all=fr_map_trial_df_all.groupby(level=(0,1,2,3)).corr()\n",
    "mean_corr_all=corr_all.groupby(level=(0,1,2,3)).apply(lambda x:pvca.get_val_per_lag(x).mean(axis=0))\n",
    "mean_corr_all = mean_corr_all.unstack(level=-1)"
   ]
  },
  {
   "cell_type": "code",
   "execution_count": 188,
   "id": "0ed4d2fa",
   "metadata": {
    "scrolled": true
   },
   "outputs": [
    {
     "data": {
      "text/plain": [
       "<module 'step_vs_gradual_analysis' from '/mnt/home/szheng/projects/place_variability/code/step_vs_gradual_analysis.py'>"
      ]
     },
     "execution_count": 188,
     "metadata": {},
     "output_type": "execute_result"
    }
   ],
   "source": [
    "reload(svga)"
   ]
  },
  {
   "cell_type": "code",
   "execution_count": null,
   "id": "91646af8",
   "metadata": {},
   "outputs": [],
   "source": []
  },
  {
   "cell_type": "code",
   "execution_count": 87,
   "id": "37d80625",
   "metadata": {},
   "outputs": [],
   "source": [
    "# def mask_diagonal_with_na(val):\n",
    "#     val_ = val.dropna(axis=1,how='all').dropna(axis=0,how='all')\n",
    "#     mat = val_.dropna(axis=1,how='all').dropna(axis=0,how='all').values\n",
    "#     mat[np.diag_indices_from(mat)] = np.nan\n",
    "#     df = pd.DataFrame(mat,val_.index,val_.columns)\n",
    "#     return df\n",
    "\n",
    "def mask_prev_with_na(val):\n",
    "    val_ = val.dropna(axis=1,how='all').dropna(axis=0,how='all')\n",
    "    mat = val_.dropna(axis=1,how='all').dropna(axis=0,how='all').values\n",
    "    mat[np.tril_indices_from(mat,k=0)] = np.nan\n",
    "    \n",
    "    df = pd.DataFrame(mat,val_.index,val_.columns)\n",
    "    return df"
   ]
  },
  {
   "cell_type": "code",
   "execution_count": 86,
   "id": "d9b79cd8",
   "metadata": {},
   "outputs": [
    {
     "data": {
      "text/html": [
       "<div>\n",
       "<style scoped>\n",
       "    .dataframe tbody tr th:only-of-type {\n",
       "        vertical-align: middle;\n",
       "    }\n",
       "\n",
       "    .dataframe tbody tr th {\n",
       "        vertical-align: top;\n",
       "    }\n",
       "\n",
       "    .dataframe thead th {\n",
       "        text-align: right;\n",
       "    }\n",
       "</style>\n",
       "<table border=\"1\" class=\"dataframe\">\n",
       "  <thead>\n",
       "    <tr style=\"text-align: right;\">\n",
       "      <th></th>\n",
       "      <th></th>\n",
       "      <th></th>\n",
       "      <th></th>\n",
       "      <th></th>\n",
       "      <th>0</th>\n",
       "      <th>1</th>\n",
       "      <th>2</th>\n",
       "      <th>3</th>\n",
       "      <th>4</th>\n",
       "      <th>5</th>\n",
       "      <th>6</th>\n",
       "      <th>7</th>\n",
       "      <th>8</th>\n",
       "      <th>9</th>\n",
       "      <th>...</th>\n",
       "      <th>27</th>\n",
       "      <th>28</th>\n",
       "      <th>29</th>\n",
       "      <th>30</th>\n",
       "      <th>31</th>\n",
       "      <th>32</th>\n",
       "      <th>33</th>\n",
       "      <th>34</th>\n",
       "      <th>35</th>\n",
       "      <th>36</th>\n",
       "    </tr>\n",
       "  </thead>\n",
       "  <tbody>\n",
       "    <tr>\n",
       "      <th rowspan=\"5\" valign=\"top\">e13_16f1</th>\n",
       "      <th rowspan=\"5\" valign=\"top\">e13_16f1_210302</th>\n",
       "      <th rowspan=\"5\" valign=\"top\">0</th>\n",
       "      <th rowspan=\"5\" valign=\"top\">0.0</th>\n",
       "      <th>0</th>\n",
       "      <td>1.000000</td>\n",
       "      <td>0.482536</td>\n",
       "      <td>0.360486</td>\n",
       "      <td>0.376881</td>\n",
       "      <td>0.380609</td>\n",
       "      <td>0.444476</td>\n",
       "      <td>0.398630</td>\n",
       "      <td>0.387467</td>\n",
       "      <td>0.383815</td>\n",
       "      <td>0.399751</td>\n",
       "      <td>...</td>\n",
       "      <td>NaN</td>\n",
       "      <td>NaN</td>\n",
       "      <td>NaN</td>\n",
       "      <td>NaN</td>\n",
       "      <td>NaN</td>\n",
       "      <td>NaN</td>\n",
       "      <td>NaN</td>\n",
       "      <td>NaN</td>\n",
       "      <td>NaN</td>\n",
       "      <td>NaN</td>\n",
       "    </tr>\n",
       "    <tr>\n",
       "      <th>1</th>\n",
       "      <td>0.482536</td>\n",
       "      <td>1.000000</td>\n",
       "      <td>0.671062</td>\n",
       "      <td>0.664047</td>\n",
       "      <td>0.685434</td>\n",
       "      <td>0.686690</td>\n",
       "      <td>0.639350</td>\n",
       "      <td>0.657183</td>\n",
       "      <td>0.670983</td>\n",
       "      <td>0.639381</td>\n",
       "      <td>...</td>\n",
       "      <td>NaN</td>\n",
       "      <td>NaN</td>\n",
       "      <td>NaN</td>\n",
       "      <td>NaN</td>\n",
       "      <td>NaN</td>\n",
       "      <td>NaN</td>\n",
       "      <td>NaN</td>\n",
       "      <td>NaN</td>\n",
       "      <td>NaN</td>\n",
       "      <td>NaN</td>\n",
       "    </tr>\n",
       "    <tr>\n",
       "      <th>2</th>\n",
       "      <td>0.360486</td>\n",
       "      <td>0.671062</td>\n",
       "      <td>1.000000</td>\n",
       "      <td>0.777029</td>\n",
       "      <td>0.700740</td>\n",
       "      <td>0.694087</td>\n",
       "      <td>0.668041</td>\n",
       "      <td>0.667668</td>\n",
       "      <td>0.687224</td>\n",
       "      <td>0.661658</td>\n",
       "      <td>...</td>\n",
       "      <td>NaN</td>\n",
       "      <td>NaN</td>\n",
       "      <td>NaN</td>\n",
       "      <td>NaN</td>\n",
       "      <td>NaN</td>\n",
       "      <td>NaN</td>\n",
       "      <td>NaN</td>\n",
       "      <td>NaN</td>\n",
       "      <td>NaN</td>\n",
       "      <td>NaN</td>\n",
       "    </tr>\n",
       "    <tr>\n",
       "      <th>3</th>\n",
       "      <td>0.376881</td>\n",
       "      <td>0.664047</td>\n",
       "      <td>0.777029</td>\n",
       "      <td>1.000000</td>\n",
       "      <td>0.813369</td>\n",
       "      <td>0.763025</td>\n",
       "      <td>0.749615</td>\n",
       "      <td>0.720387</td>\n",
       "      <td>0.707388</td>\n",
       "      <td>0.677634</td>\n",
       "      <td>...</td>\n",
       "      <td>NaN</td>\n",
       "      <td>NaN</td>\n",
       "      <td>NaN</td>\n",
       "      <td>NaN</td>\n",
       "      <td>NaN</td>\n",
       "      <td>NaN</td>\n",
       "      <td>NaN</td>\n",
       "      <td>NaN</td>\n",
       "      <td>NaN</td>\n",
       "      <td>NaN</td>\n",
       "    </tr>\n",
       "    <tr>\n",
       "      <th>4</th>\n",
       "      <td>0.380609</td>\n",
       "      <td>0.685434</td>\n",
       "      <td>0.700740</td>\n",
       "      <td>0.813369</td>\n",
       "      <td>1.000000</td>\n",
       "      <td>0.789336</td>\n",
       "      <td>0.731165</td>\n",
       "      <td>0.687846</td>\n",
       "      <td>0.675912</td>\n",
       "      <td>0.648630</td>\n",
       "      <td>...</td>\n",
       "      <td>NaN</td>\n",
       "      <td>NaN</td>\n",
       "      <td>NaN</td>\n",
       "      <td>NaN</td>\n",
       "      <td>NaN</td>\n",
       "      <td>NaN</td>\n",
       "      <td>NaN</td>\n",
       "      <td>NaN</td>\n",
       "      <td>NaN</td>\n",
       "      <td>NaN</td>\n",
       "    </tr>\n",
       "    <tr>\n",
       "      <th>...</th>\n",
       "      <th>...</th>\n",
       "      <th>...</th>\n",
       "      <th>...</th>\n",
       "      <th>...</th>\n",
       "      <td>...</td>\n",
       "      <td>...</td>\n",
       "      <td>...</td>\n",
       "      <td>...</td>\n",
       "      <td>...</td>\n",
       "      <td>...</td>\n",
       "      <td>...</td>\n",
       "      <td>...</td>\n",
       "      <td>...</td>\n",
       "      <td>...</td>\n",
       "      <td>...</td>\n",
       "      <td>...</td>\n",
       "      <td>...</td>\n",
       "      <td>...</td>\n",
       "      <td>...</td>\n",
       "      <td>...</td>\n",
       "      <td>...</td>\n",
       "      <td>...</td>\n",
       "      <td>...</td>\n",
       "      <td>...</td>\n",
       "      <td>...</td>\n",
       "    </tr>\n",
       "    <tr>\n",
       "      <th rowspan=\"5\" valign=\"top\">e16_3m2</th>\n",
       "      <th rowspan=\"5\" valign=\"top\">e16_3m2_211213</th>\n",
       "      <th rowspan=\"5\" valign=\"top\">1</th>\n",
       "      <th rowspan=\"5\" valign=\"top\">1.0</th>\n",
       "      <th>32</th>\n",
       "      <td>NaN</td>\n",
       "      <td>NaN</td>\n",
       "      <td>NaN</td>\n",
       "      <td>NaN</td>\n",
       "      <td>NaN</td>\n",
       "      <td>NaN</td>\n",
       "      <td>NaN</td>\n",
       "      <td>NaN</td>\n",
       "      <td>NaN</td>\n",
       "      <td>NaN</td>\n",
       "      <td>...</td>\n",
       "      <td>NaN</td>\n",
       "      <td>NaN</td>\n",
       "      <td>NaN</td>\n",
       "      <td>NaN</td>\n",
       "      <td>NaN</td>\n",
       "      <td>NaN</td>\n",
       "      <td>NaN</td>\n",
       "      <td>NaN</td>\n",
       "      <td>NaN</td>\n",
       "      <td>NaN</td>\n",
       "    </tr>\n",
       "    <tr>\n",
       "      <th>33</th>\n",
       "      <td>NaN</td>\n",
       "      <td>NaN</td>\n",
       "      <td>NaN</td>\n",
       "      <td>NaN</td>\n",
       "      <td>NaN</td>\n",
       "      <td>NaN</td>\n",
       "      <td>NaN</td>\n",
       "      <td>NaN</td>\n",
       "      <td>NaN</td>\n",
       "      <td>NaN</td>\n",
       "      <td>...</td>\n",
       "      <td>NaN</td>\n",
       "      <td>NaN</td>\n",
       "      <td>NaN</td>\n",
       "      <td>NaN</td>\n",
       "      <td>NaN</td>\n",
       "      <td>NaN</td>\n",
       "      <td>NaN</td>\n",
       "      <td>NaN</td>\n",
       "      <td>NaN</td>\n",
       "      <td>NaN</td>\n",
       "    </tr>\n",
       "    <tr>\n",
       "      <th>34</th>\n",
       "      <td>NaN</td>\n",
       "      <td>NaN</td>\n",
       "      <td>NaN</td>\n",
       "      <td>NaN</td>\n",
       "      <td>NaN</td>\n",
       "      <td>NaN</td>\n",
       "      <td>NaN</td>\n",
       "      <td>NaN</td>\n",
       "      <td>NaN</td>\n",
       "      <td>NaN</td>\n",
       "      <td>...</td>\n",
       "      <td>NaN</td>\n",
       "      <td>NaN</td>\n",
       "      <td>NaN</td>\n",
       "      <td>NaN</td>\n",
       "      <td>NaN</td>\n",
       "      <td>NaN</td>\n",
       "      <td>NaN</td>\n",
       "      <td>NaN</td>\n",
       "      <td>NaN</td>\n",
       "      <td>NaN</td>\n",
       "    </tr>\n",
       "    <tr>\n",
       "      <th>35</th>\n",
       "      <td>NaN</td>\n",
       "      <td>NaN</td>\n",
       "      <td>NaN</td>\n",
       "      <td>NaN</td>\n",
       "      <td>NaN</td>\n",
       "      <td>NaN</td>\n",
       "      <td>NaN</td>\n",
       "      <td>NaN</td>\n",
       "      <td>NaN</td>\n",
       "      <td>NaN</td>\n",
       "      <td>...</td>\n",
       "      <td>NaN</td>\n",
       "      <td>NaN</td>\n",
       "      <td>NaN</td>\n",
       "      <td>NaN</td>\n",
       "      <td>NaN</td>\n",
       "      <td>NaN</td>\n",
       "      <td>NaN</td>\n",
       "      <td>NaN</td>\n",
       "      <td>NaN</td>\n",
       "      <td>NaN</td>\n",
       "    </tr>\n",
       "    <tr>\n",
       "      <th>36</th>\n",
       "      <td>NaN</td>\n",
       "      <td>NaN</td>\n",
       "      <td>NaN</td>\n",
       "      <td>NaN</td>\n",
       "      <td>NaN</td>\n",
       "      <td>NaN</td>\n",
       "      <td>NaN</td>\n",
       "      <td>NaN</td>\n",
       "      <td>NaN</td>\n",
       "      <td>NaN</td>\n",
       "      <td>...</td>\n",
       "      <td>NaN</td>\n",
       "      <td>NaN</td>\n",
       "      <td>NaN</td>\n",
       "      <td>NaN</td>\n",
       "      <td>NaN</td>\n",
       "      <td>NaN</td>\n",
       "      <td>NaN</td>\n",
       "      <td>NaN</td>\n",
       "      <td>NaN</td>\n",
       "      <td>NaN</td>\n",
       "    </tr>\n",
       "  </tbody>\n",
       "</table>\n",
       "<p>3996 rows × 37 columns</p>\n",
       "</div>"
      ],
      "text/plain": [
       "                                         0         1         2         3   \\\n",
       "e13_16f1 e13_16f1_210302 0 0.0 0   1.000000  0.482536  0.360486  0.376881   \n",
       "                               1   0.482536  1.000000  0.671062  0.664047   \n",
       "                               2   0.360486  0.671062  1.000000  0.777029   \n",
       "                               3   0.376881  0.664047  0.777029  1.000000   \n",
       "                               4   0.380609  0.685434  0.700740  0.813369   \n",
       "...                                     ...       ...       ...       ...   \n",
       "e16_3m2  e16_3m2_211213  1 1.0 32       NaN       NaN       NaN       NaN   \n",
       "                               33       NaN       NaN       NaN       NaN   \n",
       "                               34       NaN       NaN       NaN       NaN   \n",
       "                               35       NaN       NaN       NaN       NaN   \n",
       "                               36       NaN       NaN       NaN       NaN   \n",
       "\n",
       "                                         4         5         6         7   \\\n",
       "e13_16f1 e13_16f1_210302 0 0.0 0   0.380609  0.444476  0.398630  0.387467   \n",
       "                               1   0.685434  0.686690  0.639350  0.657183   \n",
       "                               2   0.700740  0.694087  0.668041  0.667668   \n",
       "                               3   0.813369  0.763025  0.749615  0.720387   \n",
       "                               4   1.000000  0.789336  0.731165  0.687846   \n",
       "...                                     ...       ...       ...       ...   \n",
       "e16_3m2  e16_3m2_211213  1 1.0 32       NaN       NaN       NaN       NaN   \n",
       "                               33       NaN       NaN       NaN       NaN   \n",
       "                               34       NaN       NaN       NaN       NaN   \n",
       "                               35       NaN       NaN       NaN       NaN   \n",
       "                               36       NaN       NaN       NaN       NaN   \n",
       "\n",
       "                                         8         9   ...  27  28  29  30  \\\n",
       "e13_16f1 e13_16f1_210302 0 0.0 0   0.383815  0.399751  ... NaN NaN NaN NaN   \n",
       "                               1   0.670983  0.639381  ... NaN NaN NaN NaN   \n",
       "                               2   0.687224  0.661658  ... NaN NaN NaN NaN   \n",
       "                               3   0.707388  0.677634  ... NaN NaN NaN NaN   \n",
       "                               4   0.675912  0.648630  ... NaN NaN NaN NaN   \n",
       "...                                     ...       ...  ...  ..  ..  ..  ..   \n",
       "e16_3m2  e16_3m2_211213  1 1.0 32       NaN       NaN  ... NaN NaN NaN NaN   \n",
       "                               33       NaN       NaN  ... NaN NaN NaN NaN   \n",
       "                               34       NaN       NaN  ... NaN NaN NaN NaN   \n",
       "                               35       NaN       NaN  ... NaN NaN NaN NaN   \n",
       "                               36       NaN       NaN  ... NaN NaN NaN NaN   \n",
       "\n",
       "                                   31  32  33  34  35  36  \n",
       "e13_16f1 e13_16f1_210302 0 0.0 0  NaN NaN NaN NaN NaN NaN  \n",
       "                               1  NaN NaN NaN NaN NaN NaN  \n",
       "                               2  NaN NaN NaN NaN NaN NaN  \n",
       "                               3  NaN NaN NaN NaN NaN NaN  \n",
       "                               4  NaN NaN NaN NaN NaN NaN  \n",
       "...                                ..  ..  ..  ..  ..  ..  \n",
       "e16_3m2  e16_3m2_211213  1 1.0 32 NaN NaN NaN NaN NaN NaN  \n",
       "                               33 NaN NaN NaN NaN NaN NaN  \n",
       "                               34 NaN NaN NaN NaN NaN NaN  \n",
       "                               35 NaN NaN NaN NaN NaN NaN  \n",
       "                               36 NaN NaN NaN NaN NaN NaN  \n",
       "\n",
       "[3996 rows x 37 columns]"
      ]
     },
     "execution_count": 86,
     "metadata": {},
     "output_type": "execute_result"
    }
   ],
   "source": [
    "corr_all"
   ]
  },
  {
   "cell_type": "code",
   "execution_count": 88,
   "id": "a76d940e",
   "metadata": {},
   "outputs": [],
   "source": [
    "# corr_all_diagma=corr_all.groupby(level=(0,1,2,3)).apply(lambda x:mask_diagonal_with_na(x)).droplevel((0,1,2,3))\n",
    "corr_all_prevma=corr_all.groupby(level=(0,1,2,3)).apply(lambda x:mask_prev_with_na(x)).droplevel((0,1,2,3))\n",
    "\n",
    "\n"
   ]
  },
  {
   "cell_type": "code",
   "execution_count": 157,
   "id": "763e08f8",
   "metadata": {
    "scrolled": true
   },
   "outputs": [
    {
     "name": "stderr",
     "output_type": "stream",
     "text": [
      "/mnt/home/szheng/ceph/envs/jax/lib/python3.9/site-packages/statsmodels/regression/linear_model.py:1736: RuntimeWarning: invalid value encountered in scalar divide\n",
      "  return 1 - self.ssr/self.centered_tss\n",
      "/mnt/home/szheng/ceph/envs/jax/lib/python3.9/site-packages/statsmodels/regression/linear_model.py:1736: RuntimeWarning: invalid value encountered in scalar divide\n",
      "  return 1 - self.ssr/self.centered_tss\n",
      "/mnt/home/szheng/ceph/envs/jax/lib/python3.9/site-packages/statsmodels/regression/linear_model.py:1736: RuntimeWarning: invalid value encountered in scalar divide\n",
      "  return 1 - self.ssr/self.centered_tss\n"
     ]
    },
    {
     "name": "stdout",
     "output_type": "stream",
     "text": [
      "CPU times: user 5.84 s, sys: 1.22 ms, total: 5.84 s\n",
      "Wall time: 5.84 s\n"
     ]
    }
   ],
   "source": [
    "%%time\n",
    "r2_df_pv = svga.fit_poly_regress_cpd_get_r2_all_multi_order(corr_all_prevma,cost='l2',min_size=2,ncpt_max=3)\n",
    "r2_df_pv_all = copy.copy(r2_df_pv)\n",
    "\n"
   ]
  },
  {
   "cell_type": "code",
   "execution_count": 158,
   "id": "39b93ae1",
   "metadata": {},
   "outputs": [],
   "source": [
    "r2_df_pv_mean = r2_df_pv.groupby(level=(0,1,2,3)).mean()"
   ]
  },
  {
   "cell_type": "code",
   "execution_count": 159,
   "id": "b5bc5ea5",
   "metadata": {},
   "outputs": [
    {
     "name": "stderr",
     "output_type": "stream",
     "text": [
      "/tmp/ipykernel_1868816/2001938668.py:19: UserWarning: FixedFormatter should only be used together with FixedLocator\n",
      "  ax.set_xticklabels(ax.get_xticklabels(),fontsize=8)\n"
     ]
    },
    {
     "data": {
      "image/png": "[encoded data removed]",
      "text/plain": [
       "<Figure size 86.4x86.4 with 1 Axes>"
      ]
     },
     "metadata": {
      "needs_background": "light"
     },
     "output_type": "display_data"
    },
    {
     "data": {
      "image/png": "[encoded data removed]",
      "text/plain": [
       "<Figure size 86.4x86.4 with 1 Axes>"
      ]
     },
     "metadata": {
      "needs_background": "light"
     },
     "output_type": "display_data"
    },
    {
     "data": {
      "image/png": "[encoded data removed]",
      "text/plain": [
       "<Figure size 86.4x86.4 with 1 Axes>"
      ]
     },
     "metadata": {
      "needs_background": "light"
     },
     "output_type": "display_data"
    }
   ],
   "source": [
    "# fig,axs=plt.subplots(5,1,figsize=(4,20))\n",
    "dosave = True\n",
    "r2_df_pv = r2_df_pv_mean \n",
    "for ii,order in enumerate(r2_df_pv.columns.get_level_values(0).unique()):\n",
    "    fig,ax=plt.subplots(figsize=(1.2,1.2))\n",
    "    ax.set_aspect('equal')\n",
    "    ax.scatter(r2_df_pv.loc[:,(order,'reg')],r2_df_pv.loc[:,(order,'step')],s=1)\n",
    "    ax.plot([0.,1],[0.,1],color='k')\n",
    "#     ax.set_xlim([0.6,1.01])\n",
    "    ax.set_ylim([0.,1.01])\n",
    "#     ax.set_xticks([0.6,1])\n",
    "#     ax.set_yticks([0.6,1])\n",
    "    \n",
    "    frac_step_larger = (r2_df_pv.loc[:,(order,'step_minus_reg')].dropna() > 0).mean()\n",
    "        \n",
    "#     ax.set_title(f'Num. change point (polynomial order)={order}\\nFrac. CPM > regression={frac:.2f}')\n",
    "#     ax.set_title(f'Frac. (CPM better)={frac_step_larger:.2f}',fontsize=10)\n",
    "    ax.set_title(f'{frac_step_larger:.2f}',fontsize=10)\n",
    "    ax.set_xticklabels(ax.get_xticklabels(),fontsize=8)\n",
    "#     ax.set_yticklabels(ax.get_xticklabels(),fontsize=8)\n",
    "#     ax.set_xlabel('R2 polynomial regression')\n",
    "#     ax.set_ylabel('R2 change point model')\n",
    "    if dosave:\n",
    "        figfn = f'scatter_R2_cpd_vs_polyreg_order{order}_popveccorr'\n",
    "#         ph.save_given_name(fig,figfn,figdir,dpi=900)\n"
   ]
  },
  {
   "cell_type": "code",
   "execution_count": 170,
   "id": "e268af83",
   "metadata": {},
   "outputs": [
    {
     "data": {
      "text/plain": [
       "e13_16f1  e13_16f1_210331  0  0.0    0.295058\n",
       "e16_1f1   e16_1f1_201004   0  1.0    0.259660\n",
       "          e16_1f1_200923   0  1.0    0.240417\n",
       "e14_2m3   e14_2m3_201206   0  1.0    0.234356\n",
       "e15_9f1   e15_9f1_200723   0  0.0    0.229370\n",
       "e14_2m3   e14_2m3_201206   0  0.0    0.228181\n",
       "e13_16f1  e13_16f1_210314  0  0.0    0.216712\n",
       "e15_10m1  e15_10m1_200803  0  0.0    0.209599\n",
       "e15_13f1  e15_13f1_220120  1  1.0    0.204185\n",
       "          e15_13f1_220118  0  1.0    0.200322\n",
       "e15_10m1  e15_10m1_200812  0  1.0    0.182534\n",
       "e16_1f1   e16_1f1_200918   0  0.0    0.179632\n",
       "e15_10m1  e15_10m1_200812  0  0.0    0.178031\n",
       "e13_16f1  e13_16f1_210317  0  0.0    0.175130\n",
       "e15_10m1  e15_10m1_200803  0  1.0    0.172652\n",
       "e13_26m1  e13_26m1_211019  0  0.0    0.172222\n",
       "e15_10m1  e15_10m1_200727  0  0.0    0.170326\n",
       "e14_2m3   e14_2m3_201121   0  1.0    0.167281\n",
       "e16_1f1   e16_1f1_200918   0  1.0    0.165808\n",
       "e15_10m1  e15_10m1_200727  0  1.0    0.163389\n",
       "e14_2m3   e14_2m3_201118   0  0.0    0.163108\n",
       "e13_16f1  e13_16f1_210322  0  0.0    0.158756\n",
       "e15_9f1   e15_9f1_200729   0  1.0    0.151777\n",
       "e13_26m1  e13_26m1_210913  0  1.0    0.147977\n",
       "e14_2m2   e14_2m2_201019   0  1.0    0.139627\n",
       "e16_3m1   e16_3m1_210203   0  0.0    0.137476\n",
       "e13_26m1  e13_26m1_211019  0  1.0    0.128142\n",
       "e16_1f1   e16_1f1_200923   0  0.0    0.125511\n",
       "e13_16f1  e13_16f1_210317  0  1.0    0.125449\n",
       "e15_9f1   e15_9f1_200802   0  0.0    0.122596\n",
       "Name: (1, step_minus_reg), dtype: float64"
      ]
     },
     "execution_count": 170,
     "metadata": {},
     "output_type": "execute_result"
    }
   ],
   "source": [
    "r2_df_pv_mean[(1,'step_minus_reg')].sort_values(ascending=False).head(30)"
   ]
  },
  {
   "cell_type": "code",
   "execution_count": 107,
   "id": "7b7928a5",
   "metadata": {},
   "outputs": [],
   "source": [
    "r2_step_minus_reg=r2_df_pv.loc[:,(order,'step_minus_reg')].dropna()\n",
    "r2_step_minus_reg_with_ntrial=pd.concat([r2_step_minus_reg,ntrials_per_tt],axis=1).dropna(axis=0)\n",
    "r2_step_minus_reg_with_ntrial=r2_step_minus_reg_with_ntrial.T.reset_index(drop=True).T\n",
    "# ntrials_per_tt.loc[r2_step_minus_reg.index]"
   ]
  },
  {
   "cell_type": "code",
   "execution_count": 110,
   "id": "56cf40b0",
   "metadata": {
    "collapsed": true
   },
   "outputs": [
    {
     "data": {
      "text/plain": [
       "<Axes: xlabel='1', ylabel='0'>"
      ]
     },
     "execution_count": 110,
     "metadata": {},
     "output_type": "execute_result"
    },
    {
     "data": {
      "image/png": "[encoded data removed]",
      "text/plain": [
       "<Figure size 432x288 with 1 Axes>"
      ]
     },
     "metadata": {
      "needs_background": "light"
     },
     "output_type": "display_data"
    }
   ],
   "source": [
    "sns.regplot(data=r2_step_minus_reg_with_ntrial,x=r2_step_minus_reg_with_ntrial[1],y=r2_step_minus_reg_with_ntrial[0])"
   ]
  },
  {
   "cell_type": "code",
   "execution_count": 115,
   "id": "ee27191a",
   "metadata": {},
   "outputs": [],
   "source": [
    "n_pyr_per_sess=subdb.groupby(['animal_name.1','sess_name'])['n_pyr_putative'].mean()"
   ]
  },
  {
   "cell_type": "code",
   "execution_count": 120,
   "id": "0126ce2a",
   "metadata": {},
   "outputs": [],
   "source": [
    "n_pyr_per_sess_to_align = n_pyr_per_sess.loc[r2_step_minus_reg_with_ntrial.reset_index(level=-1).index]\n",
    "r2_step_minus_reg_with_ntrial['n_pyr'] = n_pyr_per_sess_to_align.values"
   ]
  },
  {
   "cell_type": "code",
   "execution_count": 121,
   "id": "7ec2f9ba",
   "metadata": {
    "collapsed": true
   },
   "outputs": [
    {
     "data": {
      "text/plain": [
       "<Axes: xlabel='n_pyr', ylabel='0'>"
      ]
     },
     "execution_count": 121,
     "metadata": {},
     "output_type": "execute_result"
    },
    {
     "data": {
      "image/png": "[encoded data removed]",
      "text/plain": [
       "<Figure size 432x288 with 1 Axes>"
      ]
     },
     "metadata": {
      "needs_background": "light"
     },
     "output_type": "display_data"
    }
   ],
   "source": [
    "sns.regplot(data=r2_step_minus_reg_with_ntrial,x=r2_step_minus_reg_with_ntrial['n_pyr'],y=r2_step_minus_reg_with_ntrial[0])"
   ]
  },
  {
   "cell_type": "code",
   "execution_count": null,
   "id": "42216a38",
   "metadata": {},
   "outputs": [],
   "source": []
  },
  {
   "cell_type": "code",
   "execution_count": 75,
   "id": "1f5aefe7",
   "metadata": {
    "scrolled": false
   },
   "outputs": [],
   "source": [
    "# r2_df_pv = svga.fit_poly_regress_cpd_get_r2_all_multi_order(mean_corr_all,cost='l2',min_size=2,ncpt_max=5)"
   ]
  },
  {
   "cell_type": "code",
   "execution_count": null,
   "id": "14e4e0db",
   "metadata": {},
   "outputs": [],
   "source": []
  },
  {
   "cell_type": "code",
   "execution_count": 171,
   "id": "f152ebcf",
   "metadata": {},
   "outputs": [],
   "source": [
    "ani='e13_16f1'\n",
    "sess='e13_16f1_210331'"
   ]
  },
  {
   "cell_type": "code",
   "execution_count": 172,
   "id": "2e1ae816",
   "metadata": {},
   "outputs": [
    {
     "data": {
      "text/html": [
       "<div>\n",
       "<style scoped>\n",
       "    .dataframe tbody tr th:only-of-type {\n",
       "        vertical-align: middle;\n",
       "    }\n",
       "\n",
       "    .dataframe tbody tr th {\n",
       "        vertical-align: top;\n",
       "    }\n",
       "\n",
       "    .dataframe thead tr th {\n",
       "        text-align: left;\n",
       "    }\n",
       "</style>\n",
       "<table border=\"1\" class=\"dataframe\">\n",
       "  <thead>\n",
       "    <tr>\n",
       "      <th></th>\n",
       "      <th></th>\n",
       "      <th></th>\n",
       "      <th colspan=\"3\" halign=\"left\">1</th>\n",
       "      <th colspan=\"3\" halign=\"left\">2</th>\n",
       "      <th colspan=\"3\" halign=\"left\">3</th>\n",
       "    </tr>\n",
       "    <tr>\n",
       "      <th></th>\n",
       "      <th></th>\n",
       "      <th></th>\n",
       "      <th>reg</th>\n",
       "      <th>step</th>\n",
       "      <th>step_minus_reg</th>\n",
       "      <th>reg</th>\n",
       "      <th>step</th>\n",
       "      <th>step_minus_reg</th>\n",
       "      <th>reg</th>\n",
       "      <th>step</th>\n",
       "      <th>step_minus_reg</th>\n",
       "    </tr>\n",
       "  </thead>\n",
       "  <tbody>\n",
       "    <tr>\n",
       "      <th rowspan=\"14\" valign=\"top\">0</th>\n",
       "      <th rowspan=\"8\" valign=\"top\">0.0</th>\n",
       "      <th>0</th>\n",
       "      <td>0.003767</td>\n",
       "      <td>0.185274</td>\n",
       "      <td>0.181507</td>\n",
       "      <td>0.180990</td>\n",
       "      <td>0.485286</td>\n",
       "      <td>0.304297</td>\n",
       "      <td>0.229077</td>\n",
       "      <td>0.524319</td>\n",
       "      <td>0.295242</td>\n",
       "    </tr>\n",
       "    <tr>\n",
       "      <th>1</th>\n",
       "      <td>0.329415</td>\n",
       "      <td>0.508850</td>\n",
       "      <td>0.179435</td>\n",
       "      <td>0.406360</td>\n",
       "      <td>0.872594</td>\n",
       "      <td>0.466235</td>\n",
       "      <td>0.578797</td>\n",
       "      <td>0.925231</td>\n",
       "      <td>0.346434</td>\n",
       "    </tr>\n",
       "    <tr>\n",
       "      <th>2</th>\n",
       "      <td>0.384271</td>\n",
       "      <td>0.572008</td>\n",
       "      <td>0.187738</td>\n",
       "      <td>0.593014</td>\n",
       "      <td>0.870617</td>\n",
       "      <td>0.277603</td>\n",
       "      <td>0.782499</td>\n",
       "      <td>0.971380</td>\n",
       "      <td>0.188882</td>\n",
       "    </tr>\n",
       "    <tr>\n",
       "      <th>3</th>\n",
       "      <td>0.141362</td>\n",
       "      <td>0.443221</td>\n",
       "      <td>0.301859</td>\n",
       "      <td>0.299312</td>\n",
       "      <td>0.945826</td>\n",
       "      <td>0.646514</td>\n",
       "      <td>0.478678</td>\n",
       "      <td>0.954077</td>\n",
       "      <td>0.475399</td>\n",
       "    </tr>\n",
       "    <tr>\n",
       "      <th>4</th>\n",
       "      <td>0.126519</td>\n",
       "      <td>0.463992</td>\n",
       "      <td>0.337473</td>\n",
       "      <td>0.629937</td>\n",
       "      <td>0.899372</td>\n",
       "      <td>0.269435</td>\n",
       "      <td>NaN</td>\n",
       "      <td>NaN</td>\n",
       "      <td>NaN</td>\n",
       "    </tr>\n",
       "    <tr>\n",
       "      <th>5</th>\n",
       "      <td>0.024273</td>\n",
       "      <td>0.359905</td>\n",
       "      <td>0.335632</td>\n",
       "      <td>0.541411</td>\n",
       "      <td>0.931207</td>\n",
       "      <td>0.389796</td>\n",
       "      <td>NaN</td>\n",
       "      <td>NaN</td>\n",
       "      <td>NaN</td>\n",
       "    </tr>\n",
       "    <tr>\n",
       "      <th>6</th>\n",
       "      <td>0.257377</td>\n",
       "      <td>0.679501</td>\n",
       "      <td>0.422124</td>\n",
       "      <td>NaN</td>\n",
       "      <td>NaN</td>\n",
       "      <td>NaN</td>\n",
       "      <td>NaN</td>\n",
       "      <td>NaN</td>\n",
       "      <td>NaN</td>\n",
       "    </tr>\n",
       "    <tr>\n",
       "      <th>7</th>\n",
       "      <td>0.449866</td>\n",
       "      <td>0.864560</td>\n",
       "      <td>0.414694</td>\n",
       "      <td>NaN</td>\n",
       "      <td>NaN</td>\n",
       "      <td>NaN</td>\n",
       "      <td>NaN</td>\n",
       "      <td>NaN</td>\n",
       "      <td>NaN</td>\n",
       "    </tr>\n",
       "    <tr>\n",
       "      <th rowspan=\"6\" valign=\"top\">1.0</th>\n",
       "      <th>0</th>\n",
       "      <td>0.522254</td>\n",
       "      <td>0.567934</td>\n",
       "      <td>0.045680</td>\n",
       "      <td>0.522257</td>\n",
       "      <td>0.631788</td>\n",
       "      <td>0.109531</td>\n",
       "      <td>0.659001</td>\n",
       "      <td>0.632144</td>\n",
       "      <td>-0.026857</td>\n",
       "    </tr>\n",
       "    <tr>\n",
       "      <th>1</th>\n",
       "      <td>0.373024</td>\n",
       "      <td>0.475715</td>\n",
       "      <td>0.102691</td>\n",
       "      <td>0.377404</td>\n",
       "      <td>0.538218</td>\n",
       "      <td>0.160814</td>\n",
       "      <td>0.645861</td>\n",
       "      <td>0.550294</td>\n",
       "      <td>-0.095567</td>\n",
       "    </tr>\n",
       "    <tr>\n",
       "      <th>2</th>\n",
       "      <td>0.533906</td>\n",
       "      <td>0.632222</td>\n",
       "      <td>0.098315</td>\n",
       "      <td>0.607011</td>\n",
       "      <td>0.715185</td>\n",
       "      <td>0.108174</td>\n",
       "      <td>NaN</td>\n",
       "      <td>NaN</td>\n",
       "      <td>NaN</td>\n",
       "    </tr>\n",
       "    <tr>\n",
       "      <th>3</th>\n",
       "      <td>0.250817</td>\n",
       "      <td>0.371834</td>\n",
       "      <td>0.121016</td>\n",
       "      <td>0.350163</td>\n",
       "      <td>0.401840</td>\n",
       "      <td>0.051677</td>\n",
       "      <td>NaN</td>\n",
       "      <td>NaN</td>\n",
       "      <td>NaN</td>\n",
       "    </tr>\n",
       "    <tr>\n",
       "      <th>4</th>\n",
       "      <td>0.209508</td>\n",
       "      <td>0.361887</td>\n",
       "      <td>0.152379</td>\n",
       "      <td>NaN</td>\n",
       "      <td>NaN</td>\n",
       "      <td>NaN</td>\n",
       "      <td>NaN</td>\n",
       "      <td>NaN</td>\n",
       "      <td>NaN</td>\n",
       "    </tr>\n",
       "    <tr>\n",
       "      <th>5</th>\n",
       "      <td>0.008734</td>\n",
       "      <td>0.039422</td>\n",
       "      <td>0.030688</td>\n",
       "      <td>NaN</td>\n",
       "      <td>NaN</td>\n",
       "      <td>NaN</td>\n",
       "      <td>NaN</td>\n",
       "      <td>NaN</td>\n",
       "      <td>NaN</td>\n",
       "    </tr>\n",
       "  </tbody>\n",
       "</table>\n",
       "</div>"
      ],
      "text/plain": [
       "                1                                  2                           \\\n",
       "              reg      step step_minus_reg       reg      step step_minus_reg   \n",
       "0 0.0 0  0.003767  0.185274       0.181507  0.180990  0.485286       0.304297   \n",
       "      1  0.329415  0.508850       0.179435  0.406360  0.872594       0.466235   \n",
       "      2  0.384271  0.572008       0.187738  0.593014  0.870617       0.277603   \n",
       "      3  0.141362  0.443221       0.301859  0.299312  0.945826       0.646514   \n",
       "      4  0.126519  0.463992       0.337473  0.629937  0.899372       0.269435   \n",
       "      5  0.024273  0.359905       0.335632  0.541411  0.931207       0.389796   \n",
       "      6  0.257377  0.679501       0.422124       NaN       NaN            NaN   \n",
       "      7  0.449866  0.864560       0.414694       NaN       NaN            NaN   \n",
       "  1.0 0  0.522254  0.567934       0.045680  0.522257  0.631788       0.109531   \n",
       "      1  0.373024  0.475715       0.102691  0.377404  0.538218       0.160814   \n",
       "      2  0.533906  0.632222       0.098315  0.607011  0.715185       0.108174   \n",
       "      3  0.250817  0.371834       0.121016  0.350163  0.401840       0.051677   \n",
       "      4  0.209508  0.361887       0.152379       NaN       NaN            NaN   \n",
       "      5  0.008734  0.039422       0.030688       NaN       NaN            NaN   \n",
       "\n",
       "                3                           \n",
       "              reg      step step_minus_reg  \n",
       "0 0.0 0  0.229077  0.524319       0.295242  \n",
       "      1  0.578797  0.925231       0.346434  \n",
       "      2  0.782499  0.971380       0.188882  \n",
       "      3  0.478678  0.954077       0.475399  \n",
       "      4       NaN       NaN            NaN  \n",
       "      5       NaN       NaN            NaN  \n",
       "      6       NaN       NaN            NaN  \n",
       "      7       NaN       NaN            NaN  \n",
       "  1.0 0  0.659001  0.632144      -0.026857  \n",
       "      1  0.645861  0.550294      -0.095567  \n",
       "      2       NaN       NaN            NaN  \n",
       "      3       NaN       NaN            NaN  \n",
       "      4       NaN       NaN            NaN  \n",
       "      5       NaN       NaN            NaN  "
      ]
     },
     "execution_count": 172,
     "metadata": {},
     "output_type": "execute_result"
    }
   ],
   "source": [
    "r2_df_pv_all.loc[ani,sess]"
   ]
  },
  {
   "cell_type": "code",
   "execution_count": 226,
   "id": "84c601ef",
   "metadata": {
    "scrolled": true
   },
   "outputs": [],
   "source": [
    "ta,tt=0,0\n",
    "tr=1\n",
    "xx=corr_all_prevma.loc[(ani,sess,ta,tt,tr),:].dropna(how='all').values"
   ]
  },
  {
   "cell_type": "code",
   "execution_count": 227,
   "id": "d909291e",
   "metadata": {},
   "outputs": [
    {
     "data": {
      "text/plain": [
       "array([0.70641722, 0.69604175, 0.68253102, 0.690844  , 0.63639651,\n",
       "       0.6195219 , 0.37193371, 0.46574562, 0.66045128, 0.57790129])"
      ]
     },
     "execution_count": 227,
     "metadata": {},
     "output_type": "execute_result"
    }
   ],
   "source": [
    "xx"
   ]
  },
  {
   "cell_type": "code",
   "execution_count": 228,
   "id": "12c1707e",
   "metadata": {
    "scrolled": true
   },
   "outputs": [
    {
     "name": "stdout",
     "output_type": "stream",
     "text": [
      "                            OLS Regression Results                            \n",
      "==============================================================================\n",
      "Dep. Variable:                      y   R-squared:                       0.329\n",
      "Model:                            OLS   Adj. R-squared:                  0.246\n",
      "Method:                 Least Squares   F-statistic:                     3.930\n",
      "Date:                Sun, 28 Jan 2024   Prob (F-statistic):             0.0827\n",
      "Time:                        18:04:41   Log-Likelihood:                 10.343\n",
      "No. Observations:                  10   AIC:                            -16.69\n",
      "Df Residuals:                       8   BIC:                            -16.08\n",
      "Df Model:                           1                                         \n",
      "Covariance Type:            nonrobust                                         \n",
      "==============================================================================\n",
      "                 coef    std err          t      P>|t|      [0.025      0.975]\n",
      "------------------------------------------------------------------------------\n",
      "const          0.7052      0.057     12.476      0.000       0.575       0.836\n",
      "x1            -0.0210      0.011     -1.982      0.083      -0.045       0.003\n",
      "==============================================================================\n",
      "Omnibus:                        6.995   Durbin-Watson:                   1.581\n",
      "Prob(Omnibus):                  0.030   Jarque-Bera (JB):                2.689\n",
      "Skew:                          -1.174   Prob(JB):                        0.261\n",
      "Kurtosis:                       3.968   Cond. No.                         10.2\n",
      "==============================================================================\n",
      "\n",
      "Notes:\n",
      "[1] Standard Errors assume that the covariance matrix of the errors is correctly specified.\n"
     ]
    },
    {
     "name": "stderr",
     "output_type": "stream",
     "text": [
      "/mnt/home/szheng/ceph/envs/jax/lib/python3.9/site-packages/scipy/stats/_stats_py.py:1736: UserWarning: kurtosistest only valid for n>=20 ... continuing anyway, n=10\n",
      "  warnings.warn(\"kurtosistest only valid for n>=20 ... continuing \"\n"
     ]
    }
   ],
   "source": [
    "ncpts = 1\n",
    "r2_step,xx_hat_step=svga.fit_cpd_get_r2(xx,ncpts,cost='l2',min_size=2)\n",
    "r2_reg,xx_hat_reg=svga.fit_poly_regress_get_r2(xx,order=ncpts,cost='l2',verbose=True)"
   ]
  },
  {
   "cell_type": "code",
   "execution_count": 244,
   "id": "f9bd89ac",
   "metadata": {},
   "outputs": [
    {
     "data": {
      "text/plain": [
       "0.5088500647149403"
      ]
     },
     "execution_count": 244,
     "metadata": {},
     "output_type": "execute_result"
    }
   ],
   "source": [
    "r2_step"
   ]
  },
  {
   "cell_type": "code",
   "execution_count": 245,
   "id": "a23bfe6c",
   "metadata": {},
   "outputs": [
    {
     "data": {
      "text/plain": [
       "0.3294154076563488"
      ]
     },
     "execution_count": 245,
     "metadata": {},
     "output_type": "execute_result"
    }
   ],
   "source": [
    "r2_reg"
   ]
  },
  {
   "cell_type": "code",
   "execution_count": null,
   "id": "42d835e3",
   "metadata": {},
   "outputs": [],
   "source": []
  },
  {
   "cell_type": "code",
   "execution_count": 234,
   "id": "20246adc",
   "metadata": {},
   "outputs": [
    {
     "data": {
      "text/plain": [
       "array([0.70641722, 0.69604175, 0.68253102, 0.690844  , 0.63639651,\n",
       "       0.6195219 , 0.37193371, 0.46574562, 0.66045128, 0.57790129])"
      ]
     },
     "execution_count": 234,
     "metadata": {},
     "output_type": "execute_result"
    }
   ],
   "source": [
    "xx"
   ]
  },
  {
   "cell_type": "code",
   "execution_count": 235,
   "id": "fa30e384",
   "metadata": {},
   "outputs": [
    {
     "data": {
      "image/png": "[encoded data removed]",
      "text/plain": [
       "<Figure size 144x216 with 1 Axes>"
      ]
     },
     "metadata": {
      "needs_background": "light"
     },
     "output_type": "display_data"
    }
   ],
   "source": [
    "fig,ax=plt.subplots(figsize=(2,3))\n",
    "xs_l = np.arange(len(xx)) + 1\n",
    "ax.plot(xs_l,xx,label='raw',marker='o',color='grey')\n",
    "ax.plot(xs_l,xx_hat_step,label='fitted step',color='blue')\n",
    "ax.plot(xs_l,xx_hat_reg, label='fitted cont.',color='orange')\n",
    "ax.legend(bbox_to_anchor=[1.05,1.],frameon=False)\n",
    "ax.set_xlabel('Trial relative')\n",
    "ax.set_ylabel('Pop. ratemap corr.')\n",
    "sns.despine()\n",
    "figfn = 'example_pvcorr_vs_triallag_with_step_and_continuous_fit'\n",
    "# ph.save_given_name(fig,figfn,figdir)\n"
   ]
  },
  {
   "cell_type": "code",
   "execution_count": 243,
   "id": "321ae339",
   "metadata": {
    "scrolled": true
   },
   "outputs": [
    {
     "name": "stdout",
     "output_type": "stream",
     "text": [
      "Parameters: [0.33916905 0.42475504]\n",
      "R-squared: 0.19655772750591194\n"
     ]
    }
   ],
   "source": [
    "from statsmodels.tsa.ar_model import AutoReg\n",
    "\n",
    "# Fit the model\n",
    "data=xx\n",
    "model = AutoReg(data, lags=1)  # AR(1) model\n",
    "results = model.fit()\n",
    "\n",
    "# Get the parameters\n",
    "params = results.params\n",
    "print(\"Parameters:\", params)\n",
    "\n",
    "# Calculate R-squared\n",
    "predictions = results.predict(start=0, end=len(data) - 1, dynamic=False)\n",
    "r_squared = 1 - (sum((predictions[1:] - data[1:])**2) / sum((data[1:] - data[1:].mean())**2))\n",
    "print(\"R-squared:\", r_squared)\n",
    "\n"
   ]
  },
  {
   "cell_type": "code",
   "execution_count": 248,
   "id": "996f2aaa",
   "metadata": {},
   "outputs": [
    {
     "data": {
      "text/plain": [
       "array([       nan, 0.63922332, 0.63481629, 0.62907754, 0.63260852,\n",
       "       0.60948167, 0.60231409, 0.49714976, 0.53699684, 0.61969905])"
      ]
     },
     "execution_count": 248,
     "metadata": {},
     "output_type": "execute_result"
    }
   ],
   "source": [
    "predictions"
   ]
  },
  {
   "cell_type": "code",
   "execution_count": 249,
   "id": "0516c8af",
   "metadata": {},
   "outputs": [
    {
     "data": {
      "text/plain": [
       "array([0.70641722, 0.69604175, 0.68253102, 0.690844  , 0.63639651,\n",
       "       0.6195219 , 0.37193371, 0.46574562, 0.66045128, 0.57790129])"
      ]
     },
     "execution_count": 249,
     "metadata": {},
     "output_type": "execute_result"
    }
   ],
   "source": [
    "data"
   ]
  },
  {
   "cell_type": "code",
   "execution_count": 247,
   "id": "60d512c5",
   "metadata": {
    "scrolled": true
   },
   "outputs": [
    {
     "data": {
      "text/plain": [
       "[<matplotlib.lines.Line2D at 0x15522c33aca0>]"
      ]
     },
     "execution_count": 247,
     "metadata": {},
     "output_type": "execute_result"
    },
    {
     "data": {
      "image/png": "[encoded data removed]",
      "text/plain": [
       "<Figure size 432x288 with 1 Axes>"
      ]
     },
     "metadata": {
      "needs_background": "light"
     },
     "output_type": "display_data"
    }
   ],
   "source": [
    "plt.plot(xs_l,data)\n",
    "plt.plot(xs_l[1:],predictions[1:])"
   ]
  },
  {
   "cell_type": "code",
   "execution_count": 241,
   "id": "ee73bdf0",
   "metadata": {},
   "outputs": [
    {
     "data": {
      "text/plain": [
       "array([       nan, 0.63922332, 0.63481629, 0.62907754, 0.63260852,\n",
       "       0.60948167, 0.60231409, 0.49714976, 0.53699684, 0.61969905])"
      ]
     },
     "execution_count": 241,
     "metadata": {},
     "output_type": "execute_result"
    }
   ],
   "source": [
    "predictions"
   ]
  },
  {
   "cell_type": "code",
   "execution_count": 239,
   "id": "0b751843",
   "metadata": {},
   "outputs": [
    {
     "data": {
      "text/plain": [
       "array([0.58463553, 0.58749593, 0.5887109 , 0.58922697, 0.58944617,\n",
       "       0.58953928, 0.58957882, 0.58959562, 0.58960276, 0.58960579])"
      ]
     },
     "execution_count": 239,
     "metadata": {},
     "output_type": "execute_result"
    }
   ],
   "source": [
    "predictions"
   ]
  },
  {
   "cell_type": "code",
   "execution_count": null,
   "id": "bfd224df",
   "metadata": {},
   "outputs": [],
   "source": []
  },
  {
   "cell_type": "code",
   "execution_count": 76,
   "id": "77ce7943",
   "metadata": {},
   "outputs": [
    {
     "data": {
      "image/png": "[encoded data removed]",
      "text/plain": [
       "<Figure size 120x120 with 1 Axes>"
      ]
     },
     "metadata": {},
     "output_type": "display_data"
    },
    {
     "data": {
      "image/png": "[encoded data removed]",
      "text/plain": [
       "<Figure size 120x120 with 1 Axes>"
      ]
     },
     "metadata": {},
     "output_type": "display_data"
    },
    {
     "data": {
      "image/png": "[encoded data removed]",
      "text/plain": [
       "<Figure size 120x120 with 1 Axes>"
      ]
     },
     "metadata": {},
     "output_type": "display_data"
    },
    {
     "data": {
      "image/png": "[encoded data removed]",
      "text/plain": [
       "<Figure size 120x120 with 1 Axes>"
      ]
     },
     "metadata": {},
     "output_type": "display_data"
    },
    {
     "data": {
      "image/png": "[encoded data removed]",
      "text/plain": [
       "<Figure size 120x120 with 1 Axes>"
      ]
     },
     "metadata": {},
     "output_type": "display_data"
    }
   ],
   "source": [
    "# fig,axs=plt.subplots(5,1,figsize=(4,20))\n",
    "dosave = True\n",
    "for ii,order in enumerate(r2_df_pv.columns.get_level_values(0).unique()):\n",
    "    fig,ax=plt.subplots(figsize=(1.2,1.2))\n",
    "    ax.set_aspect('equal')\n",
    "    ax.scatter(r2_df_pv.loc[:,(order,'reg')],r2_df_pv.loc[:,(order,'step')],s=1)\n",
    "    ax.plot([0.6,1],[0.6,1],color='k')\n",
    "    ax.set_xlim([0.6,1.01])\n",
    "    ax.set_ylim([0.6,1.01])\n",
    "    ax.set_xticks([0.6,1])\n",
    "    ax.set_yticks([0.6,1])\n",
    "    \n",
    "    frac_step_larger = (r2_df_pv.loc[:,(order,'step_minus_reg')].dropna() > 0).mean()\n",
    "        \n",
    "#     ax.set_title(f'Num. change point (polynomial order)={order}\\nFrac. CPM > regression={frac:.2f}')\n",
    "#     ax.set_title(f'Frac. (CPM better)={frac_step_larger:.2f}',fontsize=10)\n",
    "    ax.set_title(f'{frac_step_larger:.2f}',fontsize=10)\n",
    "    ax.set_xticklabels(ax.get_xticklabels(),fontsize=8)\n",
    "    ax.set_yticklabels(ax.get_xticklabels(),fontsize=8)\n",
    "#     ax.set_xlabel('R2 polynomial regression')\n",
    "#     ax.set_ylabel('R2 change point model')\n",
    "    if dosave:\n",
    "        figfn = f'scatter_R2_cpd_vs_polyreg_order{order}_popveccorr'\n",
    "        ph.save_given_name(fig,figfn,figdir,dpi=900)\n"
   ]
  },
  {
   "cell_type": "markdown",
   "id": "2fb49221",
   "metadata": {},
   "source": [
    "# analysis of how many trials it take to switch"
   ]
  },
  {
   "cell_type": "markdown",
   "id": "3376e313",
   "metadata": {},
   "source": [
    "## get peri switch trials"
   ]
  },
  {
   "cell_type": "code",
   "execution_count": 160,
   "id": "ef9939d9",
   "metadata": {},
   "outputs": [
    {
     "data": {
      "text/plain": [
       "<module 'step_vs_gradual_analysis' from '/mnt/home/szheng/projects/place_variability/code/step_vs_gradual_analysis.py'>"
      ]
     },
     "execution_count": 160,
     "metadata": {},
     "output_type": "execute_result"
    }
   ],
   "source": [
    "reload(svga)"
   ]
  },
  {
   "cell_type": "markdown",
   "id": "7d6342e7",
   "metadata": {},
   "source": [
    "### idea: how many trials are lapsed from the valley pre switch and peak post switch"
   ]
  },
  {
   "cell_type": "code",
   "execution_count": 354,
   "id": "6650ebbe",
   "metadata": {},
   "outputs": [],
   "source": [
    "ii = 51\n",
    "changes_df_row = changes_df_one.iloc[ii].dropna()\n",
    "X_raw_row = X_raw_one.iloc[ii].dropna()\n",
    "span_d = svga.get_peri_switch_peak_valley_span(changes_df_row,X_raw_row)\n",
    "peri_sw_x_one=svga.get_peri_switch_x_raw(changes_df_row,X_raw_row,win=10)"
   ]
  },
  {
   "cell_type": "code",
   "execution_count": 68,
   "id": "065fae40",
   "metadata": {},
   "outputs": [
    {
     "name": "stdout",
     "output_type": "stream",
     "text": [
      "CPU times: user 17.4 s, sys: 215 ms, total: 17.6 s\n",
      "Wall time: 17.6 s\n"
     ]
    }
   ],
   "source": [
    "%%time\n",
    "span_d_all = svga.get_peri_switch_peak_valley_span_all(X_raw_all,changes_df_all)\n",
    "data_fn=os.path.join(data_dir,'peri_switch_peak_valley_span.p')\n",
    "pickle.dump(span_d_all,open(data_fn,'wb'))"
   ]
  },
  {
   "cell_type": "code",
   "execution_count": 80,
   "id": "fdebf371",
   "metadata": {},
   "outputs": [],
   "source": [
    "data_fn=os.path.join(data_dir,'peri_switch_peak_valley_span.p')\n",
    "span_d_all=pickle.load(open(data_fn,'rb'))"
   ]
  },
  {
   "cell_type": "code",
   "execution_count": 74,
   "id": "b8d3b70c",
   "metadata": {},
   "outputs": [
    {
     "name": "stdout",
     "output_type": "stream",
     "text": [
      "onoff 1, <=1: 0.23586206896551723\n",
      "onoff 1, <=2: 0.5880459770114943\n",
      "onoff 1, <=3: 0.833103448275862\n",
      "onoff 1, <=4: 0.9429885057471264\n",
      "onoff -1, <=1: 0.31461538461538463\n",
      "onoff -1, <=2: 0.6484615384615384\n",
      "onoff -1, <=3: 0.8669230769230769\n",
      "onoff -1, <=4: 0.9607692307692308\n"
     ]
    },
    {
     "data": {
      "image/png": "[encoded data removed]",
      "text/plain": [
       "<Figure size 432x144 with 2 Axes>"
      ]
     },
     "metadata": {
      "needs_background": "light"
     },
     "output_type": "display_data"
    },
    {
     "data": {
      "image/png": "[encoded data removed]",
      "text/plain": [
       "<Figure size 432x144 with 2 Axes>"
      ]
     },
     "metadata": {
      "needs_background": "light"
     },
     "output_type": "display_data"
    }
   ],
   "source": [
    "\n",
    "for onoff in [1,-1]:\n",
    "    fig=plt.figure(figsize=(6,2))\n",
    "    ax=fig.add_subplot(1,2,1)\n",
    "    bins = np.arange(1,6.2,0.2)\n",
    "    ax=sns.histplot(data=span_d_all.loc[onoff],x='trial span',bins=bins,ax=ax,stat='probability')\n",
    "    sns.despine()\n",
    "    onoff_str = {1:'ON',-1:'OFF'}[onoff]\n",
    "    ax.set_title(onoff_str)\n",
    "    ax.set_xlabel('Switch duration\\n(num. trials)')\n",
    "    \n",
    "    ax=fig.add_subplot(1,2,2)\n",
    "    bins = np.arange(1,11,1)\n",
    "    ax=sns.histplot(data=span_d_all.loc[onoff],x='trial span', bins=bins,ax=ax,cumulative=True,stat='probability',fill=False)\n",
    "    ax.set_xlim([0.9,6.1])\n",
    "    ax.set_xticks([1.5,3.5,5.5])\n",
    "    ax.set_xticklabels([1,3,5])\n",
    "    sns.despine()\n",
    "    ax.set_xlabel('Switch duration\\n(num. trials)')\n",
    "    plt.tight_layout()\n",
    "    \n",
    "    for k in range(1,5):\n",
    "        p=(span_d_all.loc[onoff]['trial span'] <=k).mean()\n",
    "        print(f'onoff {onoff}, <={k}: {p}')\n",
    "    \n",
    "    figfn = f'hist_switch_duration_{onoff}'\n",
    "    ph.save_given_name(fig,figfn,figdir)\n"
   ]
  },
  {
   "cell_type": "markdown",
   "id": "b362d3a1",
   "metadata": {},
   "source": [
    "## examples of trial span"
   ]
  },
  {
   "cell_type": "code",
   "execution_count": 77,
   "id": "4bd05556",
   "metadata": {},
   "outputs": [],
   "source": [
    "ani = 'e15_13f1'\n",
    "sess = 'e15_13f1_220117'"
   ]
  },
  {
   "cell_type": "code",
   "execution_count": 78,
   "id": "58afa6e1",
   "metadata": {},
   "outputs": [
    {
     "name": "stderr",
     "output_type": "stream",
     "text": [
      "/tmp/ipykernel_2060823/113494510.py:1: PerformanceWarning: indexing past lexsort depth may impact performance.\n",
      "  per_field_metrics_one=per_field_metrics_all.loc[ani,sess,ta]\n",
      "/tmp/ipykernel_2060823/113494510.py:2: PerformanceWarning: indexing past lexsort depth may impact performance.\n",
      "  fr_map_trial_df=fr_map_trial_df_all.loc[(ani,sess),:].dropna(axis=1,how='all')\n",
      "/tmp/ipykernel_2060823/113494510.py:3: PerformanceWarning: indexing past lexsort depth may impact performance.\n",
      "  X_raw = X_raw_all.loc[(ani,sess),:]\n",
      "/tmp/ipykernel_2060823/113494510.py:4: PerformanceWarning: indexing past lexsort depth may impact performance.\n",
      "  X_pwc=X_pwc_all.loc[(ani,sess),:]\n",
      "/tmp/ipykernel_2060823/113494510.py:5: PerformanceWarning: indexing past lexsort depth may impact performance.\n",
      "  all_sw_d=all_sw_d_all.loc[(ani,sess),:]\n",
      "/tmp/ipykernel_2060823/113494510.py:6: PerformanceWarning: indexing past lexsort depth may impact performance.\n",
      "  trial_index_to_index_within_df = dpp.trial_index_to_index_within_trialtype(spk_beh_df_all.loc[(ani,sess),:])\n"
     ]
    }
   ],
   "source": [
    "per_field_metrics_one=per_field_metrics_all.loc[ani,sess,ta]\n",
    "fr_map_trial_df=fr_map_trial_df_all.loc[(ani,sess),:].dropna(axis=1,how='all')\n",
    "X_raw = X_raw_all.loc[(ani,sess),:]\n",
    "X_pwc=X_pwc_all.loc[(ani,sess),:]\n",
    "all_sw_d=all_sw_d_all.loc[(ani,sess),:]\n",
    "trial_index_to_index_within_df = dpp.trial_index_to_index_within_trialtype(spk_beh_df_all.loc[(ani,sess),:])\n",
    "\n",
    "ind_given_si=per_field_metrics_one.query('si > 0.5').index\n",
    "ta=0"
   ]
  },
  {
   "cell_type": "code",
   "execution_count": 83,
   "id": "b8c50a07",
   "metadata": {},
   "outputs": [],
   "source": [
    "from matplotlib.ticker import MaxNLocator"
   ]
  },
  {
   "cell_type": "code",
   "execution_count": 107,
   "id": "edac8bf1",
   "metadata": {},
   "outputs": [
    {
     "name": "stderr",
     "output_type": "stream",
     "text": [
      "/tmp/ipykernel_2060823/2519829344.py:9: PerformanceWarning: indexing past lexsort depth may impact performance.\n",
      "  ma=span_d_all.loc[1,ani,sess,ta]['trial span']==ts\n",
      "/tmp/ipykernel_2060823/2519829344.py:17: PerformanceWarning: indexing past lexsort depth may impact performance.\n",
      "  all_fields_recombined = all_fields_recombined_all.loc[ani,sess]\n",
      "/mnt/home/szheng/projects/util_code/plot_helper.py:574: UserWarning: FixedFormatter should only be used together with FixedLocator\n",
      "  ax.set_xticklabels(x_tick_labels, rotation=0)\n",
      "/tmp/ipykernel_2060823/2519829344.py:34: UserWarning: Tight layout not applied. The bottom and top margins cannot be made large enough to accommodate all axes decorations.\n",
      "  plt.tight_layout()\n",
      "/tmp/ipykernel_2060823/2519829344.py:9: PerformanceWarning: indexing past lexsort depth may impact performance.\n",
      "  ma=span_d_all.loc[1,ani,sess,ta]['trial span']==ts\n",
      "/tmp/ipykernel_2060823/2519829344.py:17: PerformanceWarning: indexing past lexsort depth may impact performance.\n",
      "  all_fields_recombined = all_fields_recombined_all.loc[ani,sess]\n",
      "/mnt/home/szheng/projects/util_code/plot_helper.py:574: UserWarning: FixedFormatter should only be used together with FixedLocator\n",
      "  ax.set_xticklabels(x_tick_labels, rotation=0)\n",
      "/tmp/ipykernel_2060823/2519829344.py:34: UserWarning: Tight layout not applied. The bottom and top margins cannot be made large enough to accommodate all axes decorations.\n",
      "  plt.tight_layout()\n",
      "/tmp/ipykernel_2060823/2519829344.py:9: PerformanceWarning: indexing past lexsort depth may impact performance.\n",
      "  ma=span_d_all.loc[1,ani,sess,ta]['trial span']==ts\n",
      "/tmp/ipykernel_2060823/2519829344.py:17: PerformanceWarning: indexing past lexsort depth may impact performance.\n",
      "  all_fields_recombined = all_fields_recombined_all.loc[ani,sess]\n",
      "/mnt/home/szheng/projects/util_code/plot_helper.py:574: UserWarning: FixedFormatter should only be used together with FixedLocator\n",
      "  ax.set_xticklabels(x_tick_labels, rotation=0)\n",
      "/tmp/ipykernel_2060823/2519829344.py:34: UserWarning: Tight layout not applied. The bottom and top margins cannot be made large enough to accommodate all axes decorations.\n",
      "  plt.tight_layout()\n"
     ]
    },
    {
     "data": {
      "image/png": "[encoded data removed]",
      "text/plain": [
       "<Figure size 300x100 with 3 Axes>"
      ]
     },
     "metadata": {},
     "output_type": "display_data"
    },
    {
     "data": {
      "image/png": "[encoded data removed]",
      "text/plain": [
       "<Figure size 300x100 with 3 Axes>"
      ]
     },
     "metadata": {},
     "output_type": "display_data"
    },
    {
     "data": {
      "image/png": "[encoded data removed]",
      "text/plain": [
       "<Figure size 300x100 with 3 Axes>"
      ]
     },
     "metadata": {},
     "output_type": "display_data"
    }
   ],
   "source": [
    "import plot_all_fr_map_x_pwc_one_session as plotfm\n",
    "reload(plotfm)\n",
    "\n",
    "dosave=True\n",
    "\n",
    "ii_ts_l = [(2,1),(2,4),(0,5)] # which index, with a given trial span\n",
    "\n",
    "for (ii,ts) in ii_ts_l:\n",
    "    ma=span_d_all.loc[1,ani,sess,ta]['trial span']==ts\n",
    "    ind_given_trialspan=ma.reset_index(level=-1,drop=True).index[ma]\n",
    "\n",
    "\n",
    "    ind_left=ind_given_trialspan.intersection(ind_given_si)\n",
    "\n",
    "    tt,uid,field_id=ind_left[ii]\n",
    "\n",
    "    all_fields_recombined = all_fields_recombined_all.loc[ani,sess]\n",
    "    all_fields_row_one=all_fields_recombined.loc[ta,tt,uid,field_id]\n",
    "\n",
    "    fig,axs=plotfm.plot_ratemap_fr_one_field(all_fields_row_one,fr_map_trial_df,X_raw,X_pwc,all_sw_d,\n",
    "                                trial_index_to_index_within_df,\n",
    "                                save_fig_fn = None,\n",
    "                                close_fig = False,\n",
    "                                vmax_clip_quantile=0.99,\n",
    "                                vmax_relative_to_field=False,\n",
    "                                fig=None,axs=None,figsize=(3,1),do_legend=False,\n",
    "                                             plot_kws={'ms':3.,'pwc_linewidth':1}\n",
    "                                )\n",
    "    title=f'{sess}, {ta}, {int(tt)}, {uid}, {field_id}\\nspan={ts}'\n",
    "    axs[1].set_title(title)\n",
    "    axs[1].set_xticks([])\n",
    "    axs[0].yaxis.set_major_locator(MaxNLocator(nbins=4,integer=True))\n",
    "    axs[0].xaxis.set_major_locator(MaxNLocator(nbins=2,integer=True))\n",
    "    plt.tight_layout()\n",
    "    if dosave:\n",
    "        figfn=f'switch_duration_ex_span{ts}_{ii}'\n",
    "        ph.save_given_name(fig,figfn,figdir)\n",
    "\n"
   ]
  },
  {
   "cell_type": "code",
   "execution_count": 138,
   "id": "5cb6c5d2",
   "metadata": {
    "collapsed": true
   },
   "outputs": [
    {
     "name": "stderr",
     "output_type": "stream",
     "text": [
      "/tmp/ipykernel_858163/403635535.py:6: PerformanceWarning: indexing past lexsort depth may impact performance.\n",
      "  ma=span_d_all.loc[1,ani,sess,ta]['trial span']==ts\n",
      "/tmp/ipykernel_858163/403635535.py:14: PerformanceWarning: indexing past lexsort depth may impact performance.\n",
      "  all_fields_recombined = all_fields_recombined_all.loc[ani,sess]\n",
      "/tmp/ipykernel_858163/403635535.py:17: PerformanceWarning: indexing past lexsort depth may impact performance.\n",
      "  fr_map_trial_df=fr_map_trial_df_all.loc[(ani,sess),:].dropna(axis=1,how='all')\n",
      "/tmp/ipykernel_858163/403635535.py:18: PerformanceWarning: indexing past lexsort depth may impact performance.\n",
      "  X_raw = X_raw_all.loc[(ani,sess),:]\n",
      "/tmp/ipykernel_858163/403635535.py:19: PerformanceWarning: indexing past lexsort depth may impact performance.\n",
      "  X_pwc=X_pwc_all.loc[(ani,sess),:]\n",
      "/tmp/ipykernel_858163/403635535.py:20: PerformanceWarning: indexing past lexsort depth may impact performance.\n",
      "  all_sw_d=all_sw_d_all.loc[(ani,sess),:]\n",
      "/tmp/ipykernel_858163/403635535.py:21: PerformanceWarning: indexing past lexsort depth may impact performance.\n",
      "  trial_index_to_index_within_df = dpp.trial_index_to_index_within_trialtype(spk_beh_df_all.loc[(ani,sess),:])\n",
      "/mnt/home/szheng/projects/util_code/plot_helper.py:574: UserWarning: FixedFormatter should only be used together with FixedLocator\n",
      "  ax.set_xticklabels(x_tick_labels, rotation=0)\n"
     ]
    },
    {
     "data": {
      "image/png": "[encoded data removed]",
      "text/plain": [
       "<Figure size 561.6x345.6 with 4 Axes>"
      ]
     },
     "metadata": {
      "needs_background": "light"
     },
     "output_type": "display_data"
    }
   ],
   "source": [
    "# # one example\n",
    "# ii=9\n",
    "\n",
    "# ta=0\n",
    "# ts = 2\n",
    "\n",
    "# ma=span_d_all.loc[1,ani,sess,ta]['trial span']==ts\n",
    "# ind_given_trialspan=ma.reset_index(level=-1,drop=True).index[ma]\n",
    "# ind_given_si=per_field_metrics_one.query('si > 0.5').index\n",
    "\n",
    "# ind_left=ind_given_trialspan.intersection(ind_given_si)\n",
    "\n",
    "# tt,uid,field_id=ind_left[ii]\n",
    "\n",
    "# import plot_all_fr_map_x_pwc_one_session as plotfm\n",
    "# all_fields_row_one=all_fields_recombined.loc[ta,tt,uid,field_id]\n",
    "\n",
    "# fig,axs=plotfm.plot_ratemap_fr_one_field_avgfm(all_fields_row_one,fr_map_trial_df,X_raw,X_pwc,all_sw_d,\n",
    "#                             trial_index_to_index_within_df,\n",
    "#                             save_fig_fn = None,\n",
    "#                             close_fig = False,\n",
    "#                             vmax_clip_quantile=0.99,\n",
    "#                             vmax_relative_to_field=False,\n",
    "#                             fig=None,axs=None,figsize=(6*1.3,4*1.2)\n",
    "#                             )\n"
   ]
  },
  {
   "cell_type": "code",
   "execution_count": 64,
   "id": "8d650f3b",
   "metadata": {},
   "outputs": [],
   "source": [
    "dd = '/mnt/home/szheng/ceph/ad/roman_data/e15/e15_13f1/e15_13f1_220119/py_data'\n",
    "# dd = '/mnt/home/szheng/ceph/ad/roman_data/e15/e15_13f1/e15_13f1_220117/py_data'\n",
    "fn_test=os.path.join(dd,'sw_res_afterheadscan_fr_mean.p')\n",
    "res_test=pickle.load(open(fn_test,'rb'))"
   ]
  },
  {
   "cell_type": "code",
   "execution_count": 67,
   "id": "7fe9e309",
   "metadata": {},
   "outputs": [
    {
     "name": "stdout",
     "output_type": "stream",
     "text": [
      "/mnt/home/szheng/ceph/ad/roman_data/e15/e15_13f1/e15_13f1_220119/py_data/place_field_afterheadscan_recombine.p exists; loading---\n",
      "/mnt/home/szheng/ceph/ad/roman_data/e15/e15_13f1/e15_13f1_220119/py_data/sw_res_afterheadscan_fr_mean.p exists; loading---\n"
     ]
    },
    {
     "name": "stderr",
     "output_type": "stream",
     "text": [
      "/mnt/home/szheng/projects/nmf_analysis/switch_metrics.py:119: RuntimeWarning: invalid value encountered in long_scalars\n",
      "  N = N / segment_len\n",
      "/mnt/home/szheng/projects/nmf_analysis/switch_metrics.py:119: RuntimeWarning: invalid value encountered in long_scalars\n",
      "  N = N / segment_len\n",
      "/mnt/home/szheng/projects/nmf_analysis/switch_metrics.py:119: RuntimeWarning: invalid value encountered in long_scalars\n",
      "  N = N / segment_len\n",
      "/mnt/home/szheng/projects/nmf_analysis/switch_metrics.py:119: RuntimeWarning: invalid value encountered in long_scalars\n",
      "  N = N / segment_len\n",
      "/mnt/home/szheng/projects/nmf_analysis/switch_metrics.py:119: RuntimeWarning: invalid value encountered in long_scalars\n",
      "  N = N / segment_len\n"
     ]
    },
    {
     "name": "stdout",
     "output_type": "stream",
     "text": [
      "saved at /mnt/home/szheng/ceph/ad/roman_data/e15/e15_13f1/e15_13f1_220119/py_data/switch_analysis/all_sw_info.p\n"
     ]
    },
    {
     "data": {
      "text/plain": [
       "{'all_sw_d':       trialtype  uid  field_index          time  speed_gauss  field_pos  \\\n",
       " 0 0        both  305            0   6918.271296     2.533582   3.740768   \n",
       "   1        both   74            0   6970.094439    27.147425  20.859440   \n",
       "   2        both  128            0   6963.678153     7.642066   3.039415   \n",
       "   3         0.0   45            2   7097.330444    26.535218  95.875781   \n",
       "   4         0.0  266            2   7078.870151    13.119677  67.115868   \n",
       " ...         ...  ...          ...           ...          ...        ...   \n",
       " 1 217       1.0  319            3  22680.784099    22.570860  68.071959   \n",
       "   218      both   84            0  22642.060494     8.713831   4.224583   \n",
       "   219      both  276            0  22646.101542     3.707480   6.179972   \n",
       "   220      both  283            0  22643.124781     2.112865   4.958388   \n",
       "   221      both  312            0  22644.773936     1.997404   5.563925   \n",
       " \n",
       "        trial_index  switch  index_within  switch_trial  switch_trial_frac  \\\n",
       " 0 0              2     1.0             1           2.0           0.064516   \n",
       "   1              3     1.0             1           3.0           0.096774   \n",
       "   2              3    -1.0             1           3.0           0.096774   \n",
       "   3              4    -1.0             2           2.0           0.105263   \n",
       "   4              4     1.0             2           2.0           0.105263   \n",
       " ...            ...     ...           ...           ...                ...   \n",
       " 1 217           31    -1.0            12          12.0           0.923077   \n",
       "   218           31    -1.0            12          31.0           0.968750   \n",
       "   219           31    -1.0            12          31.0           0.968750   \n",
       "   220           31    -1.0            12          31.0           0.968750   \n",
       "   221           31     1.0            12          31.0           0.968750   \n",
       " \n",
       "        pre_ntrials_in_segment  post_ntrials_in_segment  \n",
       " 0 0                         2                       27  \n",
       "   1                         3                       26  \n",
       "   2                         3                       26  \n",
       "   3                         2                       17  \n",
       "   4                         2                       17  \n",
       " ...                       ...                      ...  \n",
       " 1 217                       3                        1  \n",
       "   218                       5                        1  \n",
       "   219                      19                        1  \n",
       "   220                       9                        1  \n",
       "   221                      10                        1  \n",
       " \n",
       " [404 rows x 13 columns],\n",
       " 'all_sw_with_metrics_d':       trialtype  uid  field_index          time  speed_gauss  field_pos  \\\n",
       " 0 0        both  305            0   6918.271296     2.533582   3.740768   \n",
       "   1        both   74            0   6970.094439    27.147425  20.859440   \n",
       "   2        both  128            0   6963.678153     7.642066   3.039415   \n",
       "   3         0.0   45            2   7097.330444    26.535218  95.875781   \n",
       "   4         0.0  266            2   7078.870151    13.119677  67.115868   \n",
       " ...         ...  ...          ...           ...          ...        ...   \n",
       " 1 217       1.0  319            3  22680.784099    22.570860  68.071959   \n",
       "   218      both   84            0  22642.060494     8.713831   4.224583   \n",
       "   219      both  276            0  22646.101542     3.707480   6.179972   \n",
       "   220      both  283            0  22643.124781     2.112865   4.958388   \n",
       "   221      both  312            0  22644.773936     1.997404   5.563925   \n",
       " \n",
       "        trial_index  switch  index_within  switch_trial  ...  \\\n",
       " 0 0              2     1.0             1           2.0  ...   \n",
       "   1              3     1.0             1           3.0  ...   \n",
       "   2              3    -1.0             1           3.0  ...   \n",
       "   3              4    -1.0             2           2.0  ...   \n",
       "   4              4     1.0             2           2.0  ...   \n",
       " ...            ...     ...           ...           ...  ...   \n",
       " 1 217           31    -1.0            12          12.0  ...   \n",
       "   218           31    -1.0            12          31.0  ...   \n",
       "   219           31    -1.0            12          31.0  ...   \n",
       "   220           31    -1.0            12          31.0  ...   \n",
       "   221           31     1.0            12          31.0  ...   \n",
       " \n",
       "        post_ntrial_le_10_perc_frac_total  post_ntrial_le_30_perc_frac_total  \\\n",
       " 0 0                             0.034483                           0.241379   \n",
       "   1                             0.000000                           0.068966   \n",
       "   2                             0.448276                           0.620690   \n",
       "   3                             0.105263                           0.421053   \n",
       "   4                             0.000000                           0.000000   \n",
       " ...                                  ...                                ...   \n",
       " 1 217                           0.000000                           0.000000   \n",
       "   218                           0.000000                           0.000000   \n",
       "   219                           0.000000                           0.000000   \n",
       "   220                           0.000000                           0.031250   \n",
       "   221                           0.000000                           0.031250   \n",
       " \n",
       "        post_ntrial_le_50_perc_frac_total  post_ntrial_le_70_perc_frac_total  \\\n",
       " 0 0                             0.655172                           0.793103   \n",
       "   1                             0.448276                           0.862069   \n",
       "   2                             0.827586                           0.862069   \n",
       "   3                             0.736842                           0.894737   \n",
       "   4                             0.105263                           0.368421   \n",
       " ...                                  ...                                ...   \n",
       " 1 217                           0.000000                           0.076923   \n",
       "   218                           0.000000                           0.031250   \n",
       "   219                           0.031250                           0.031250   \n",
       "   220                           0.031250                           0.031250   \n",
       "   221                           0.031250                           0.031250   \n",
       " \n",
       "        post_ntrial_le_90_perc_frac_total  post_ntrial_ge_10_perc_frac_total  \\\n",
       " 0 0                             0.896552                           0.896552   \n",
       "   1                             0.862069                           0.896552   \n",
       "   2                             0.896552                           0.448276   \n",
       "   3                             0.894737                           0.789474   \n",
       "   4                             0.684211                           0.894737   \n",
       " ...                                  ...                                ...   \n",
       " 1 217                           0.076923                           0.076923   \n",
       "   218                           0.031250                           0.031250   \n",
       "   219                           0.031250                           0.031250   \n",
       "   220                           0.031250                           0.031250   \n",
       "   221                           0.031250                           0.031250   \n",
       " \n",
       "        post_ntrial_ge_30_perc_frac_total  post_ntrial_ge_50_perc_frac_total  \\\n",
       " 0 0                             0.689655                           0.275862   \n",
       "   1                             0.827586                           0.448276   \n",
       "   2                             0.275862                           0.068966   \n",
       "   3                             0.473684                           0.157895   \n",
       "   4                             0.894737                           0.789474   \n",
       " ...                                  ...                                ...   \n",
       " 1 217                           0.076923                           0.076923   \n",
       "   218                           0.031250                           0.031250   \n",
       "   219                           0.031250                           0.000000   \n",
       "   220                           0.000000                           0.000000   \n",
       "   221                           0.000000                           0.000000   \n",
       " \n",
       "        post_ntrial_ge_70_perc_frac_total  post_ntrial_ge_90_perc_frac_total  \n",
       " 0 0                             0.137931                           0.034483  \n",
       "   1                             0.034483                           0.034483  \n",
       "   2                             0.034483                           0.000000  \n",
       "   3                             0.000000                           0.000000  \n",
       "   4                             0.526316                           0.210526  \n",
       " ...                                  ...                                ...  \n",
       " 1 217                           0.000000                           0.000000  \n",
       "   218                           0.000000                           0.000000  \n",
       "   219                           0.000000                           0.000000  \n",
       "   220                           0.000000                           0.000000  \n",
       "   221                           0.000000                           0.000000  \n",
       " \n",
       " [404 rows x 89 columns]}"
      ]
     },
     "execution_count": 67,
     "metadata": {},
     "output_type": "execute_result"
    }
   ],
   "source": [
    "gasam.main('/mnt/home/szheng/ceph/ad/roman_data/e15/e15_13f1/e15_13f1_220119/',force_reload=True,load_only=False,dosave=True)\n"
   ]
  },
  {
   "cell_type": "code",
   "execution_count": 204,
   "id": "7e068ff0",
   "metadata": {
    "scrolled": true
   },
   "outputs": [
    {
     "name": "stdout",
     "output_type": "stream",
     "text": [
      "/mnt/home/szheng/ceph/ad/roman_data/e13/e13_26m1/e13_26m1_210913/py_data/place_field_afterheadscan_recombine.p exists; loading---\n",
      "/mnt/home/szheng/ceph/ad/roman_data/e15/e15_13f1/e15_13f1_220117/py_data/place_field_afterheadscan_recombine.p exists; loading---\n",
      "/mnt/home/szheng/ceph/ad/roman_data/e15/e15_13f1/e15_13f1_220118/py_data/place_field_afterheadscan_recombine.p exists; loading---\n",
      "/mnt/home/szheng/ceph/ad/roman_data/e15/e15_13f1/e15_13f1_220119/py_data/place_field_afterheadscan_recombine.p exists; loading---\n",
      "/mnt/home/szheng/ceph/ad/roman_data/e15/e15_13f1/e15_13f1_220120/py_data/place_field_afterheadscan_recombine.p exists; loading---\n",
      "/mnt/home/szheng/ceph/ad/roman_data/e13/e13_26m1/e13_26m1_211019/py_data/place_field_afterheadscan_recombine.p exists; loading---\n",
      "/mnt/home/szheng/ceph/ad/roman_data/e13/e13_16f1/e13_16f1_210328/py_data/place_field_afterheadscan_recombine.p exists; loading---\n",
      "/mnt/home/szheng/ceph/ad/roman_data/e13/e13_26m1/e13_26m1_211116/py_data/place_field_afterheadscan_recombine.p exists; loading---\n",
      "/mnt/home/szheng/ceph/ad/roman_data/e16/e16_3m2/e16_3m2_211213/py_data/place_field_afterheadscan_recombine.p exists; loading---\n",
      "/mnt/home/szheng/ceph/ad/roman_data/e16/e16_3m2/e16_3m2_211212/py_data/place_field_afterheadscan_recombine.p exists; loading---\n",
      "/mnt/home/szheng/ceph/ad/roman_data/e16/e16_3m1/e16_3m1_210203/py_data/place_field_afterheadscan_recombine.p exists; loading---\n",
      "/mnt/home/szheng/ceph/ad/roman_data/e16/e16_3m2/e16_3m2_211210/py_data/place_field_afterheadscan_recombine.p exists; loading---\n",
      "/mnt/home/szheng/ceph/ad/roman_data/e13/e13_26m1/e13_26m1_211119/py_data/place_field_afterheadscan_recombine.p exists; loading---\n",
      "/mnt/home/szheng/ceph/ad/roman_data/e13/e13_26m1/e13_26m1_211124/py_data/place_field_afterheadscan_recombine.p exists; loading---\n",
      "/mnt/home/szheng/ceph/ad/roman_data/e16/e16_3m1/e16_3m1_210201/py_data/place_field_afterheadscan_recombine.p exists; loading---\n",
      "/mnt/home/szheng/ceph/ad/roman_data/e13/e13_16f1/e13_16f1_210331/py_data/place_field_afterheadscan_recombine.p exists; loading---\n",
      "/mnt/home/szheng/ceph/ad/roman_data/e16/e16_3m1/e16_3m1_210119/py_data/place_field_afterheadscan_recombine.p exists; loading---\n",
      "/mnt/home/szheng/ceph/ad/roman_data/e13/e13_16f1/e13_16f1_210302/py_data/place_field_afterheadscan_recombine.p exists; loading---\n",
      "/mnt/home/szheng/ceph/ad/roman_data/e13/e13_16f1/e13_16f1_210317/py_data/place_field_afterheadscan_recombine.p exists; loading---\n",
      "/mnt/home/szheng/ceph/ad/roman_data/e13/e13_16f1/e13_16f1_210312/py_data/place_field_afterheadscan_recombine.p exists; loading---\n",
      "/mnt/home/szheng/ceph/ad/roman_data/e15/e15_10m1/e15_10m1_200809/py_data/place_field_afterheadscan_recombine.p exists; loading---\n",
      "/mnt/home/szheng/ceph/ad/roman_data/e15/e15_10m1/e15_10m1_200812/py_data/place_field_afterheadscan_recombine.p exists; loading---\n",
      "/mnt/home/szheng/ceph/ad/roman_data/e13/e13_16f1/e13_16f1_210314/py_data/place_field_afterheadscan_recombine.p exists; loading---\n",
      "/mnt/home/szheng/ceph/ad/roman_data/e15/e15_9f1/e15_9f1_200729/py_data/place_field_afterheadscan_recombine.p exists; loading---\n",
      "/mnt/home/szheng/ceph/ad/roman_data/e14/e14_2m2/e14_2m2_201019/py_data/place_field_afterheadscan_recombine.p exists; loading---\n",
      "/mnt/home/szheng/ceph/ad/roman_data/e13/e13_16f1/e13_16f1_210319/py_data/place_field_afterheadscan_recombine.p exists; loading---\n",
      "/mnt/home/szheng/ceph/ad/roman_data/e13/e13_16f1/e13_16f1_210322/py_data/place_field_afterheadscan_recombine.p exists; loading---\n",
      "/mnt/home/szheng/ceph/ad/roman_data/e15/e15_10m1/e15_10m1_200727/py_data/place_field_afterheadscan_recombine.p exists; loading---\n",
      "/mnt/home/szheng/ceph/ad/roman_data/e14/e14_2m2/e14_2m2_201017/py_data/place_field_afterheadscan_recombine.p exists; loading---\n",
      "/mnt/home/szheng/ceph/ad/roman_data/e16/e16_1f1/e16_1f1_201004/py_data/place_field_afterheadscan_recombine.p exists; loading---\n",
      "/mnt/home/szheng/ceph/ad/roman_data/e16/e16_1f1/e16_1f1_200920/py_data/place_field_afterheadscan_recombine.p exists; loading---\n",
      "/mnt/home/szheng/ceph/ad/roman_data/e15/e15_9f1/e15_9f1_200723/py_data/place_field_afterheadscan_recombine.p exists; loading---\n",
      "/mnt/home/szheng/ceph/ad/roman_data/e14/e14_2m3/e14_2m3_201129/py_data/place_field_afterheadscan_recombine.p exists; loading---\n",
      "/mnt/home/szheng/ceph/ad/roman_data/e14/e14_2m3/e14_2m3_201125/py_data/place_field_afterheadscan_recombine.p exists; loading---\n",
      "/mnt/home/szheng/ceph/ad/roman_data/e16/e16_1f1/e16_1f1_200918/py_data/place_field_afterheadscan_recombine.p exists; loading---\n",
      "/mnt/home/szheng/ceph/ad/roman_data/e16/e16_1f1/e16_1f1_200919/py_data/place_field_afterheadscan_recombine.p exists; loading---\n",
      "/mnt/home/szheng/ceph/ad/roman_data/e14/e14_2m3/e14_2m3_201208/py_data/place_field_afterheadscan_recombine.p exists; loading---\n",
      "/mnt/home/szheng/ceph/ad/roman_data/e14/e14_2m3/e14_2m3_201206/py_data/place_field_afterheadscan_recombine.p exists; loading---\n",
      "/mnt/home/szheng/ceph/ad/roman_data/e15/e15_9f1/e15_9f1_200802/py_data/place_field_afterheadscan_recombine.p exists; loading---\n",
      "/mnt/home/szheng/ceph/ad/roman_data/e16/e16_1f1/e16_1f1_200923/py_data/place_field_afterheadscan_recombine.p exists; loading---\n",
      "/mnt/home/szheng/ceph/ad/roman_data/e15/e15_9f1/e15_9f1_200720/py_data/place_field_afterheadscan_recombine.p exists; loading---\n",
      "/mnt/home/szheng/ceph/ad/roman_data/e16/e16_2m1/e16_2m1_201121/py_data/place_field_afterheadscan_recombine.p exists; loading---\n",
      "/mnt/home/szheng/ceph/ad/roman_data/e15/e15_10m1/e15_10m1_200803/py_data/place_field_afterheadscan_recombine.p exists; loading---\n",
      "/mnt/home/szheng/ceph/ad/roman_data/e15/e15_9f1/e15_9f1_200715/py_data/place_field_afterheadscan_recombine.p exists; loading---\n",
      "/mnt/home/szheng/ceph/ad/roman_data/e14/e14_2m3/e14_2m3_201121/py_data/place_field_afterheadscan_recombine.p exists; loading---\n",
      "/mnt/home/szheng/ceph/ad/roman_data/e14/e14_2m3/e14_2m3_201118/py_data/place_field_afterheadscan_recombine.p exists; loading---\n"
     ]
    }
   ],
   "source": [
    "bad_sess=[]\n",
    "for ddf in subdb['data_dir_full']:\n",
    "    pfres_test=pfrc.main(ddf,dosave=False,force_reload=False,load_only=True)\n",
    "    fr_mean=pfres_test['params_recombined'].loc['fr_mean']\n",
    "    if not np.all(fr_mean.columns==fr_mean.sort_index(axis=1).columns):\n",
    "        bad_sess.append(ddf)"
   ]
  },
  {
   "cell_type": "code",
   "execution_count": 134,
   "id": "42954a8b",
   "metadata": {
    "scrolled": true
   },
   "outputs": [
    {
     "data": {
      "text/plain": [
       "<Axes: >"
      ]
     },
     "execution_count": 134,
     "metadata": {},
     "output_type": "execute_result"
    },
    {
     "data": {
      "image/png": "[encoded data removed]",
      "text/plain": [
       "<Figure size 432x288 with 1 Axes>"
      ]
     },
     "metadata": {
      "needs_background": "light"
     },
     "output_type": "display_data"
    }
   ],
   "source": [
    "X_raw_all.loc[ani,sess,ta,tt,uid,field_id].dropna().plot(marker='o')\n",
    "X_pwc_all.loc[ani,sess,ta,tt,uid,field_id].dropna().plot(marker='o')"
   ]
  },
  {
   "cell_type": "markdown",
   "id": "ae337309",
   "metadata": {},
   "source": [
    "## measure expected number of trial span\n",
    "pre post difference (peri-switch valley peak FR difference) / sqrt(mean residual squared)\n",
    "\n"
   ]
  },
  {
   "cell_type": "code",
   "execution_count": 85,
   "id": "647184c3",
   "metadata": {},
   "outputs": [],
   "source": [
    "per_field_metrics_all['resid2_mean_sqrt'] = np.sqrt(per_field_metrics_all['resid2_mean'])"
   ]
  },
  {
   "cell_type": "code",
   "execution_count": 86,
   "id": "edf4feed",
   "metadata": {},
   "outputs": [],
   "source": [
    "span_d_all_with_resid2 = span_d_all.reset_index(level=(0,-1)).join(per_field_metrics_all['resid2_mean_sqrt']).set_index(['onoff','level_7'],append=True).reorder_levels((-2,0,1,2,3,4,5,7))\n",
    "\n"
   ]
  },
  {
   "cell_type": "code",
   "execution_count": 94,
   "id": "24264599",
   "metadata": {},
   "outputs": [],
   "source": [
    "expected_span = np.abs(span_d_all_with_resid2['post_minus_pre'] / (span_d_all_with_resid2['resid2_mean_sqrt'] *2)) \n",
    "span_d_all_with_resid2['expected_span'] = expected_span"
   ]
  },
  {
   "cell_type": "code",
   "execution_count": 105,
   "id": "98a1c15f",
   "metadata": {},
   "outputs": [
    {
     "data": {
      "text/plain": [
       "[<matplotlib.lines.Line2D at 0x155206470370>]"
      ]
     },
     "execution_count": 105,
     "metadata": {},
     "output_type": "execute_result"
    },
    {
     "data": {
      "image/png": "[encoded data removed]",
      "text/plain": [
       "<Figure size 432x288 with 1 Axes>"
      ]
     },
     "metadata": {
      "needs_background": "light"
     },
     "output_type": "display_data"
    }
   ],
   "source": [
    "# ax=sns.scatterplot(data=span_d_all_with_resid2,x='expected_span',y='trial span',s=1)\n",
    "ax=sns.histplot(data=span_d_all_with_resid2,x='expected_span',y='trial span')\n",
    "ax.set_ylim([0,10])\n",
    "ax.set_xlim([0,10])\n",
    "ax.plot([0,1],[0,1],transform=ax.transAxes)"
   ]
  },
  {
   "cell_type": "code",
   "execution_count": 115,
   "id": "6b27a8fc",
   "metadata": {},
   "outputs": [
    {
     "data": {
      "text/plain": [
       "<Axes: >"
      ]
     },
     "execution_count": 115,
     "metadata": {},
     "output_type": "execute_result"
    },
    {
     "data": {
      "image/png": "[encoded data removed]",
      "text/plain": [
       "<Figure size 432x288 with 1 Axes>"
      ]
     },
     "metadata": {
      "needs_background": "light"
     },
     "output_type": "display_data"
    }
   ],
   "source": [
    "diff=span_d_all_with_resid2['trial span'] - span_d_all_with_resid2['expected_span']\n",
    "bins=[-10,-5,0,5,10]\n",
    "bins=np.arange(-10,10+2,1)\n",
    "diff.hist(bins=bins)"
   ]
  },
  {
   "cell_type": "code",
   "execution_count": 117,
   "id": "0c0df30d",
   "metadata": {},
   "outputs": [
    {
     "data": {
      "text/plain": [
       "-0.2530544804668924"
      ]
     },
     "execution_count": 117,
     "metadata": {},
     "output_type": "execute_result"
    }
   ],
   "source": [
    "diff.mean()/diff.std()"
   ]
  },
  {
   "cell_type": "code",
   "execution_count": null,
   "id": "38e564f4",
   "metadata": {},
   "outputs": [],
   "source": []
  },
  {
   "cell_type": "code",
   "execution_count": 367,
   "id": "60e79d23",
   "metadata": {},
   "outputs": [
    {
     "data": {
      "text/plain": [
       "<Axes: >"
      ]
     },
     "execution_count": 367,
     "metadata": {},
     "output_type": "execute_result"
    },
    {
     "data": {
      "image/png": "[encoded data removed]",
      "text/plain": [
       "<Figure size 432x288 with 1 Axes>"
      ]
     },
     "metadata": {
      "needs_background": "light"
     },
     "output_type": "display_data"
    }
   ],
   "source": [
    "span_d_one.query('onoff==1')['trial span'].hist()"
   ]
  },
  {
   "cell_type": "code",
   "execution_count": 368,
   "id": "72b4a024",
   "metadata": {},
   "outputs": [
    {
     "data": {
      "text/plain": [
       "<Axes: >"
      ]
     },
     "execution_count": 368,
     "metadata": {},
     "output_type": "execute_result"
    },
    {
     "data": {
      "image/png": "[encoded data removed]",
      "text/plain": [
       "<Figure size 432x288 with 1 Axes>"
      ]
     },
     "metadata": {
      "needs_background": "light"
     },
     "output_type": "display_data"
    }
   ],
   "source": [
    "span_d_one.query('onoff==-1')['trial span'].hist()"
   ]
  },
  {
   "cell_type": "code",
   "execution_count": null,
   "id": "ca736b6c",
   "metadata": {},
   "outputs": [],
   "source": []
  },
  {
   "cell_type": "code",
   "execution_count": 327,
   "id": "d8bd3476",
   "metadata": {},
   "outputs": [
    {
     "name": "stdout",
     "output_type": "stream",
     "text": [
      "Fitted parameters: L = 0.9934245468990771, x0 = 3.9845182675472732, k = 1.2706321891719363\n"
     ]
    }
   ],
   "source": [
    "import numpy as np\n",
    "from scipy.optimize import curve_fit\n",
    "\n",
    "def sigmoid(x, L ,x0, k):\n",
    "    y = L / (1 + np.exp(-k*(x-x0)))\n",
    "    return y\n",
    "\n",
    "def fit_sigmoid(xdata, ydata):\n",
    "    # Initial guess for the parameters\n",
    "    initial_guess = [max(ydata), np.median(xdata), 1]\n",
    "\n",
    "    # Curve fitting\n",
    "    params, pcov = curve_fit(sigmoid, xdata, ydata, p0=initial_guess, method='dogbox')\n",
    "    \n",
    "    return params,pcov\n",
    "\n",
    "# Example usage\n",
    "xdata = np.array([0, 1, 2, 3, 4, 5, 6, 7, 8, 9])\n",
    "ydata = np.array([0.01, 0.03, 0.1, 0.2, 0.5, 0.8, 0.9, 0.97, 0.99, 0.999])\n",
    "\n",
    "params,pcov = fit_sigmoid(xdata, ydata)\n",
    "print(\"Fitted parameters: L = {}, x0 = {}, k = {}\".format(*params))\n"
   ]
  },
  {
   "cell_type": "code",
   "execution_count": 332,
   "id": "c1d96aff",
   "metadata": {},
   "outputs": [
    {
     "name": "stdout",
     "output_type": "stream",
     "text": [
      "[13.80321874  8.60388498  1.47781184]\n"
     ]
    },
    {
     "data": {
      "image/png": "[encoded data removed]",
      "text/plain": [
       "<Figure size 432x288 with 1 Axes>"
      ]
     },
     "metadata": {
      "needs_background": "light"
     },
     "output_type": "display_data"
    }
   ],
   "source": [
    "ydata=peri_sw_x_one.iloc[0]\n",
    "\n",
    "xs=np.arange(len(ydata))\n",
    "params,pcov=fit_sigmoid(xs,ydata.values)\n",
    "y_hat=sigmoid(xs,*params)\n",
    "plt.plot(xs,ydata)\n",
    "plt.plot(xs,y_hat)\n",
    "print(params)"
   ]
  },
  {
   "cell_type": "code",
   "execution_count": 335,
   "id": "36877e5a",
   "metadata": {},
   "outputs": [
    {
     "data": {
      "text/plain": [
       "[<matplotlib.lines.Line2D at 0x1554d0a18070>]"
      ]
     },
     "execution_count": 335,
     "metadata": {},
     "output_type": "execute_result"
    },
    {
     "data": {
      "image/png": "[encoded data removed]",
      "text/plain": [
       "<Figure size 432x288 with 1 Axes>"
      ]
     },
     "metadata": {
      "needs_background": "light"
     },
     "output_type": "display_data"
    }
   ],
   "source": [
    "y_hat=sigmoid(xs,params[0],params[1],params[2]*0.1)\n",
    "\n",
    "plt.plot(xs,y_hat)\n"
   ]
  },
  {
   "cell_type": "code",
   "execution_count": 280,
   "id": "2f927b8c",
   "metadata": {
    "scrolled": true
   },
   "outputs": [
    {
     "data": {
      "text/html": [
       "<div>\n",
       "<style scoped>\n",
       "    .dataframe tbody tr th:only-of-type {\n",
       "        vertical-align: middle;\n",
       "    }\n",
       "\n",
       "    .dataframe tbody tr th {\n",
       "        vertical-align: top;\n",
       "    }\n",
       "\n",
       "    .dataframe thead th {\n",
       "        text-align: right;\n",
       "    }\n",
       "</style>\n",
       "<table border=\"1\" class=\"dataframe\">\n",
       "  <thead>\n",
       "    <tr style=\"text-align: right;\">\n",
       "      <th></th>\n",
       "      <th>13</th>\n",
       "      <th>15</th>\n",
       "      <th>17</th>\n",
       "      <th>18</th>\n",
       "      <th>20</th>\n",
       "      <th>21</th>\n",
       "      <th>23</th>\n",
       "      <th>24</th>\n",
       "      <th>26</th>\n",
       "      <th>27</th>\n",
       "    </tr>\n",
       "  </thead>\n",
       "  <tbody>\n",
       "    <tr>\n",
       "      <th>0</th>\n",
       "      <td>0.01155</td>\n",
       "      <td>0.0</td>\n",
       "      <td>0.0</td>\n",
       "      <td>9.564084</td>\n",
       "      <td>2.748094</td>\n",
       "      <td>14.884641</td>\n",
       "      <td>13.415141</td>\n",
       "      <td>11.795851</td>\n",
       "      <td>7.455039</td>\n",
       "      <td>13.696731</td>\n",
       "    </tr>\n",
       "  </tbody>\n",
       "</table>\n",
       "</div>"
      ],
      "text/plain": [
       "        13   15   17        18        20         21         23         24  \\\n",
       "0  0.01155  0.0  0.0  9.564084  2.748094  14.884641  13.415141  11.795851   \n",
       "\n",
       "         26         27  \n",
       "0  7.455039  13.696731  "
      ]
     },
     "execution_count": 280,
     "metadata": {},
     "output_type": "execute_result"
    }
   ],
   "source": [
    "peri_sw_x_one"
   ]
  },
  {
   "cell_type": "code",
   "execution_count": 279,
   "id": "ad9c39a3",
   "metadata": {
    "scrolled": true
   },
   "outputs": [
    {
     "data": {
      "text/plain": [
       "0     0.0\n",
       "2     0.0\n",
       "4     0.0\n",
       "6     0.0\n",
       "11    0.0\n",
       "12    0.0\n",
       "13    0.0\n",
       "15    0.0\n",
       "17    0.0\n",
       "18    0.0\n",
       "20    0.0\n",
       "21    1.0\n",
       "23    0.0\n",
       "24    0.0\n",
       "26    0.0\n",
       "27    0.0\n",
       "28    0.0\n",
       "29    0.0\n",
       "30    0.0\n",
       "31    0.0\n",
       "Name: (32, 1), dtype: float64"
      ]
     },
     "execution_count": 279,
     "metadata": {},
     "output_type": "execute_result"
    }
   ],
   "source": [
    "changes_df_row"
   ]
  },
  {
   "cell_type": "code",
   "execution_count": 271,
   "id": "cd36d8ab",
   "metadata": {},
   "outputs": [
    {
     "name": "stdout",
     "output_type": "stream",
     "text": [
      "[11.93902662  3.24395274  1.2759813 ]\n"
     ]
    },
    {
     "data": {
      "image/png": "[encoded data removed]",
      "text/plain": [
       "<Figure size 432x288 with 1 Axes>"
      ]
     },
     "metadata": {
      "needs_background": "light"
     },
     "output_type": "display_data"
    }
   ],
   "source": [
    "ydata=peri_sw_x_one.iloc[0][1:-1]\n",
    "\n",
    "xs=np.arange(len(ydata))\n",
    "params=fit_sigmoid(xs,peri_sw_x_one.iloc[0].values)\n",
    "y_hat=sigmoid(xs,*params)\n",
    "plt.plot(xs,ydata)\n",
    "plt.plot(xs,y_hat)\n",
    "print(params)"
   ]
  },
  {
   "cell_type": "code",
   "execution_count": null,
   "id": "d9d06a57",
   "metadata": {},
   "outputs": [],
   "source": []
  },
  {
   "cell_type": "code",
   "execution_count": 244,
   "id": "3d40906e",
   "metadata": {},
   "outputs": [
    {
     "data": {
      "text/plain": [
       "20"
      ]
     },
     "execution_count": 244,
     "metadata": {},
     "output_type": "execute_result"
    }
   ],
   "source": [
    "next_sw"
   ]
  },
  {
   "cell_type": "code",
   "execution_count": 250,
   "id": "4f66b4ba",
   "metadata": {
    "scrolled": false
   },
   "outputs": [
    {
     "data": {
      "text/html": [
       "<div>\n",
       "<style scoped>\n",
       "    .dataframe tbody tr th:only-of-type {\n",
       "        vertical-align: middle;\n",
       "    }\n",
       "\n",
       "    .dataframe tbody tr th {\n",
       "        vertical-align: top;\n",
       "    }\n",
       "\n",
       "    .dataframe thead th {\n",
       "        text-align: right;\n",
       "    }\n",
       "</style>\n",
       "<table border=\"1\" class=\"dataframe\">\n",
       "  <thead>\n",
       "    <tr style=\"text-align: right;\">\n",
       "      <th></th>\n",
       "      <th>13</th>\n",
       "      <th>15</th>\n",
       "      <th>17</th>\n",
       "      <th>18</th>\n",
       "      <th>20</th>\n",
       "      <th>21</th>\n",
       "      <th>23</th>\n",
       "      <th>24</th>\n",
       "      <th>26</th>\n",
       "      <th>27</th>\n",
       "    </tr>\n",
       "  </thead>\n",
       "  <tbody>\n",
       "    <tr>\n",
       "      <th>0</th>\n",
       "      <td>0.01155</td>\n",
       "      <td>0.0</td>\n",
       "      <td>0.0</td>\n",
       "      <td>9.564084</td>\n",
       "      <td>2.748094</td>\n",
       "      <td>14.884641</td>\n",
       "      <td>13.415141</td>\n",
       "      <td>11.795851</td>\n",
       "      <td>7.455039</td>\n",
       "      <td>13.696731</td>\n",
       "    </tr>\n",
       "  </tbody>\n",
       "</table>\n",
       "</div>"
      ],
      "text/plain": [
       "        13   15   17        18        20         21         23         24  \\\n",
       "0  0.01155  0.0  0.0  9.564084  2.748094  14.884641  13.415141  11.795851   \n",
       "\n",
       "         26         27  \n",
       "0  7.455039  13.696731  "
      ]
     },
     "execution_count": 250,
     "metadata": {},
     "output_type": "execute_result"
    }
   ],
   "source": [
    "peri_sw_x"
   ]
  },
  {
   "cell_type": "code",
   "execution_count": null,
   "id": "59866dc2",
   "metadata": {},
   "outputs": [],
   "source": []
  },
  {
   "cell_type": "code",
   "execution_count": 222,
   "id": "c826b832",
   "metadata": {},
   "outputs": [
    {
     "data": {
      "text/plain": [
       "array([11])"
      ]
     },
     "execution_count": 222,
     "metadata": {},
     "output_type": "execute_result"
    }
   ],
   "source": [
    "sw_trials"
   ]
  },
  {
   "cell_type": "code",
   "execution_count": 210,
   "id": "f435ea3e",
   "metadata": {},
   "outputs": [
    {
     "data": {
      "text/html": [
       "<div>\n",
       "<style scoped>\n",
       "    .dataframe tbody tr th:only-of-type {\n",
       "        vertical-align: middle;\n",
       "    }\n",
       "\n",
       "    .dataframe tbody tr th {\n",
       "        vertical-align: top;\n",
       "    }\n",
       "\n",
       "    .dataframe thead th {\n",
       "        text-align: right;\n",
       "    }\n",
       "</style>\n",
       "<table border=\"1\" class=\"dataframe\">\n",
       "  <thead>\n",
       "    <tr style=\"text-align: right;\">\n",
       "      <th></th>\n",
       "      <th></th>\n",
       "      <th></th>\n",
       "      <th></th>\n",
       "      <th>0</th>\n",
       "      <th>1</th>\n",
       "      <th>2</th>\n",
       "      <th>3</th>\n",
       "      <th>4</th>\n",
       "      <th>5</th>\n",
       "      <th>6</th>\n",
       "      <th>7</th>\n",
       "      <th>8</th>\n",
       "      <th>9</th>\n",
       "      <th>...</th>\n",
       "      <th>60</th>\n",
       "      <th>61</th>\n",
       "      <th>62</th>\n",
       "      <th>63</th>\n",
       "      <th>64</th>\n",
       "      <th>65</th>\n",
       "      <th>66</th>\n",
       "      <th>67</th>\n",
       "      <th>68</th>\n",
       "      <th>69</th>\n",
       "    </tr>\n",
       "  </thead>\n",
       "  <tbody>\n",
       "    <tr>\n",
       "      <th rowspan=\"11\" valign=\"top\">0</th>\n",
       "      <th rowspan=\"5\" valign=\"top\">0.0</th>\n",
       "      <th>31</th>\n",
       "      <th>1</th>\n",
       "      <td>11.860302</td>\n",
       "      <td>NaN</td>\n",
       "      <td>11.860302</td>\n",
       "      <td>NaN</td>\n",
       "      <td>11.860302</td>\n",
       "      <td>NaN</td>\n",
       "      <td>11.860302</td>\n",
       "      <td>NaN</td>\n",
       "      <td>NaN</td>\n",
       "      <td>NaN</td>\n",
       "      <td>...</td>\n",
       "      <td>NaN</td>\n",
       "      <td>NaN</td>\n",
       "      <td>NaN</td>\n",
       "      <td>NaN</td>\n",
       "      <td>NaN</td>\n",
       "      <td>NaN</td>\n",
       "      <td>NaN</td>\n",
       "      <td>NaN</td>\n",
       "      <td>NaN</td>\n",
       "      <td>NaN</td>\n",
       "    </tr>\n",
       "    <tr>\n",
       "      <th>32</th>\n",
       "      <th>1</th>\n",
       "      <td>1.434035</td>\n",
       "      <td>NaN</td>\n",
       "      <td>1.434035</td>\n",
       "      <td>NaN</td>\n",
       "      <td>1.434035</td>\n",
       "      <td>NaN</td>\n",
       "      <td>1.434035</td>\n",
       "      <td>NaN</td>\n",
       "      <td>NaN</td>\n",
       "      <td>NaN</td>\n",
       "      <td>...</td>\n",
       "      <td>NaN</td>\n",
       "      <td>NaN</td>\n",
       "      <td>NaN</td>\n",
       "      <td>NaN</td>\n",
       "      <td>NaN</td>\n",
       "      <td>NaN</td>\n",
       "      <td>NaN</td>\n",
       "      <td>NaN</td>\n",
       "      <td>NaN</td>\n",
       "      <td>NaN</td>\n",
       "    </tr>\n",
       "    <tr>\n",
       "      <th>34</th>\n",
       "      <th>0</th>\n",
       "      <td>4.093238</td>\n",
       "      <td>NaN</td>\n",
       "      <td>4.093238</td>\n",
       "      <td>NaN</td>\n",
       "      <td>4.093238</td>\n",
       "      <td>NaN</td>\n",
       "      <td>4.093238</td>\n",
       "      <td>NaN</td>\n",
       "      <td>NaN</td>\n",
       "      <td>NaN</td>\n",
       "      <td>...</td>\n",
       "      <td>NaN</td>\n",
       "      <td>NaN</td>\n",
       "      <td>NaN</td>\n",
       "      <td>NaN</td>\n",
       "      <td>NaN</td>\n",
       "      <td>NaN</td>\n",
       "      <td>NaN</td>\n",
       "      <td>NaN</td>\n",
       "      <td>NaN</td>\n",
       "      <td>NaN</td>\n",
       "    </tr>\n",
       "    <tr>\n",
       "      <th>35</th>\n",
       "      <th>1</th>\n",
       "      <td>3.495219</td>\n",
       "      <td>NaN</td>\n",
       "      <td>3.495219</td>\n",
       "      <td>NaN</td>\n",
       "      <td>3.495219</td>\n",
       "      <td>NaN</td>\n",
       "      <td>3.495219</td>\n",
       "      <td>NaN</td>\n",
       "      <td>NaN</td>\n",
       "      <td>NaN</td>\n",
       "      <td>...</td>\n",
       "      <td>NaN</td>\n",
       "      <td>NaN</td>\n",
       "      <td>NaN</td>\n",
       "      <td>NaN</td>\n",
       "      <td>NaN</td>\n",
       "      <td>NaN</td>\n",
       "      <td>NaN</td>\n",
       "      <td>NaN</td>\n",
       "      <td>NaN</td>\n",
       "      <td>NaN</td>\n",
       "    </tr>\n",
       "    <tr>\n",
       "      <th>36</th>\n",
       "      <th>0</th>\n",
       "      <td>8.683220</td>\n",
       "      <td>NaN</td>\n",
       "      <td>8.683220</td>\n",
       "      <td>NaN</td>\n",
       "      <td>8.683220</td>\n",
       "      <td>NaN</td>\n",
       "      <td>8.683220</td>\n",
       "      <td>NaN</td>\n",
       "      <td>NaN</td>\n",
       "      <td>NaN</td>\n",
       "      <td>...</td>\n",
       "      <td>NaN</td>\n",
       "      <td>NaN</td>\n",
       "      <td>NaN</td>\n",
       "      <td>NaN</td>\n",
       "      <td>NaN</td>\n",
       "      <td>NaN</td>\n",
       "      <td>NaN</td>\n",
       "      <td>NaN</td>\n",
       "      <td>NaN</td>\n",
       "      <td>NaN</td>\n",
       "    </tr>\n",
       "    <tr>\n",
       "      <th>...</th>\n",
       "      <th>...</th>\n",
       "      <th>...</th>\n",
       "      <td>...</td>\n",
       "      <td>...</td>\n",
       "      <td>...</td>\n",
       "      <td>...</td>\n",
       "      <td>...</td>\n",
       "      <td>...</td>\n",
       "      <td>...</td>\n",
       "      <td>...</td>\n",
       "      <td>...</td>\n",
       "      <td>...</td>\n",
       "      <td>...</td>\n",
       "      <td>...</td>\n",
       "      <td>...</td>\n",
       "      <td>...</td>\n",
       "      <td>...</td>\n",
       "      <td>...</td>\n",
       "      <td>...</td>\n",
       "      <td>...</td>\n",
       "      <td>...</td>\n",
       "      <td>...</td>\n",
       "      <td>...</td>\n",
       "    </tr>\n",
       "    <tr>\n",
       "      <th rowspan=\"5\" valign=\"top\">both</th>\n",
       "      <th>363</th>\n",
       "      <th>0</th>\n",
       "      <td>7.453740</td>\n",
       "      <td>7.453740</td>\n",
       "      <td>7.453740</td>\n",
       "      <td>7.453740</td>\n",
       "      <td>7.453740</td>\n",
       "      <td>7.453740</td>\n",
       "      <td>7.453740</td>\n",
       "      <td>7.453740</td>\n",
       "      <td>7.453740</td>\n",
       "      <td>7.453740</td>\n",
       "      <td>...</td>\n",
       "      <td>NaN</td>\n",
       "      <td>NaN</td>\n",
       "      <td>NaN</td>\n",
       "      <td>NaN</td>\n",
       "      <td>NaN</td>\n",
       "      <td>NaN</td>\n",
       "      <td>NaN</td>\n",
       "      <td>NaN</td>\n",
       "      <td>NaN</td>\n",
       "      <td>NaN</td>\n",
       "    </tr>\n",
       "    <tr>\n",
       "      <th>368</th>\n",
       "      <th>0</th>\n",
       "      <td>4.221207</td>\n",
       "      <td>4.221207</td>\n",
       "      <td>4.221207</td>\n",
       "      <td>4.221207</td>\n",
       "      <td>4.221207</td>\n",
       "      <td>4.221207</td>\n",
       "      <td>4.221207</td>\n",
       "      <td>4.221207</td>\n",
       "      <td>4.221207</td>\n",
       "      <td>4.221207</td>\n",
       "      <td>...</td>\n",
       "      <td>NaN</td>\n",
       "      <td>NaN</td>\n",
       "      <td>NaN</td>\n",
       "      <td>NaN</td>\n",
       "      <td>NaN</td>\n",
       "      <td>NaN</td>\n",
       "      <td>NaN</td>\n",
       "      <td>NaN</td>\n",
       "      <td>NaN</td>\n",
       "      <td>NaN</td>\n",
       "    </tr>\n",
       "    <tr>\n",
       "      <th>370</th>\n",
       "      <th>0</th>\n",
       "      <td>1.875981</td>\n",
       "      <td>1.875981</td>\n",
       "      <td>1.875981</td>\n",
       "      <td>1.875981</td>\n",
       "      <td>1.875981</td>\n",
       "      <td>1.875981</td>\n",
       "      <td>1.875981</td>\n",
       "      <td>1.875981</td>\n",
       "      <td>1.875981</td>\n",
       "      <td>1.875981</td>\n",
       "      <td>...</td>\n",
       "      <td>NaN</td>\n",
       "      <td>NaN</td>\n",
       "      <td>NaN</td>\n",
       "      <td>NaN</td>\n",
       "      <td>NaN</td>\n",
       "      <td>NaN</td>\n",
       "      <td>NaN</td>\n",
       "      <td>NaN</td>\n",
       "      <td>NaN</td>\n",
       "      <td>NaN</td>\n",
       "    </tr>\n",
       "    <tr>\n",
       "      <th>374</th>\n",
       "      <th>0</th>\n",
       "      <td>15.428028</td>\n",
       "      <td>15.428028</td>\n",
       "      <td>15.428028</td>\n",
       "      <td>15.428028</td>\n",
       "      <td>15.428028</td>\n",
       "      <td>15.428028</td>\n",
       "      <td>15.428028</td>\n",
       "      <td>15.428028</td>\n",
       "      <td>15.428028</td>\n",
       "      <td>15.428028</td>\n",
       "      <td>...</td>\n",
       "      <td>NaN</td>\n",
       "      <td>NaN</td>\n",
       "      <td>NaN</td>\n",
       "      <td>NaN</td>\n",
       "      <td>NaN</td>\n",
       "      <td>NaN</td>\n",
       "      <td>NaN</td>\n",
       "      <td>NaN</td>\n",
       "      <td>NaN</td>\n",
       "      <td>NaN</td>\n",
       "    </tr>\n",
       "    <tr>\n",
       "      <th>376</th>\n",
       "      <th>0</th>\n",
       "      <td>16.181012</td>\n",
       "      <td>16.181012</td>\n",
       "      <td>16.181012</td>\n",
       "      <td>16.181012</td>\n",
       "      <td>16.181012</td>\n",
       "      <td>16.181012</td>\n",
       "      <td>16.181012</td>\n",
       "      <td>16.181012</td>\n",
       "      <td>16.181012</td>\n",
       "      <td>4.735479</td>\n",
       "      <td>...</td>\n",
       "      <td>NaN</td>\n",
       "      <td>NaN</td>\n",
       "      <td>NaN</td>\n",
       "      <td>NaN</td>\n",
       "      <td>NaN</td>\n",
       "      <td>NaN</td>\n",
       "      <td>NaN</td>\n",
       "      <td>NaN</td>\n",
       "      <td>NaN</td>\n",
       "      <td>NaN</td>\n",
       "    </tr>\n",
       "  </tbody>\n",
       "</table>\n",
       "<p>682 rows × 70 columns</p>\n",
       "</div>"
      ],
      "text/plain": [
       "                     0          1          2          3          4   \\\n",
       "0 0.0  31  1  11.860302        NaN  11.860302        NaN  11.860302   \n",
       "       32  1   1.434035        NaN   1.434035        NaN   1.434035   \n",
       "       34  0   4.093238        NaN   4.093238        NaN   4.093238   \n",
       "       35  1   3.495219        NaN   3.495219        NaN   3.495219   \n",
       "       36  0   8.683220        NaN   8.683220        NaN   8.683220   \n",
       "...                 ...        ...        ...        ...        ...   \n",
       "  both 363 0   7.453740   7.453740   7.453740   7.453740   7.453740   \n",
       "       368 0   4.221207   4.221207   4.221207   4.221207   4.221207   \n",
       "       370 0   1.875981   1.875981   1.875981   1.875981   1.875981   \n",
       "       374 0  15.428028  15.428028  15.428028  15.428028  15.428028   \n",
       "       376 0  16.181012  16.181012  16.181012  16.181012  16.181012   \n",
       "\n",
       "                     5          6          7          8          9   ...  60  \\\n",
       "0 0.0  31  1        NaN  11.860302        NaN        NaN        NaN  ... NaN   \n",
       "       32  1        NaN   1.434035        NaN        NaN        NaN  ... NaN   \n",
       "       34  0        NaN   4.093238        NaN        NaN        NaN  ... NaN   \n",
       "       35  1        NaN   3.495219        NaN        NaN        NaN  ... NaN   \n",
       "       36  0        NaN   8.683220        NaN        NaN        NaN  ... NaN   \n",
       "...                 ...        ...        ...        ...        ...  ...  ..   \n",
       "  both 363 0   7.453740   7.453740   7.453740   7.453740   7.453740  ... NaN   \n",
       "       368 0   4.221207   4.221207   4.221207   4.221207   4.221207  ... NaN   \n",
       "       370 0   1.875981   1.875981   1.875981   1.875981   1.875981  ... NaN   \n",
       "       374 0  15.428028  15.428028  15.428028  15.428028  15.428028  ... NaN   \n",
       "       376 0  16.181012  16.181012  16.181012  16.181012   4.735479  ... NaN   \n",
       "\n",
       "              61  62  63  64  65  66  67  68  69  \n",
       "0 0.0  31  1 NaN NaN NaN NaN NaN NaN NaN NaN NaN  \n",
       "       32  1 NaN NaN NaN NaN NaN NaN NaN NaN NaN  \n",
       "       34  0 NaN NaN NaN NaN NaN NaN NaN NaN NaN  \n",
       "       35  1 NaN NaN NaN NaN NaN NaN NaN NaN NaN  \n",
       "       36  0 NaN NaN NaN NaN NaN NaN NaN NaN NaN  \n",
       "...           ..  ..  ..  ..  ..  ..  ..  ..  ..  \n",
       "  both 363 0 NaN NaN NaN NaN NaN NaN NaN NaN NaN  \n",
       "       368 0 NaN NaN NaN NaN NaN NaN NaN NaN NaN  \n",
       "       370 0 NaN NaN NaN NaN NaN NaN NaN NaN NaN  \n",
       "       374 0 NaN NaN NaN NaN NaN NaN NaN NaN NaN  \n",
       "       376 0 NaN NaN NaN NaN NaN NaN NaN NaN NaN  \n",
       "\n",
       "[682 rows x 70 columns]"
      ]
     },
     "execution_count": 210,
     "metadata": {},
     "output_type": "execute_result"
    }
   ],
   "source": [
    "X_pwc"
   ]
  },
  {
   "cell_type": "code",
   "execution_count": 209,
   "id": "5e712cd6",
   "metadata": {},
   "outputs": [
    {
     "data": {
      "text/html": [
       "<div>\n",
       "<style scoped>\n",
       "    .dataframe tbody tr th:only-of-type {\n",
       "        vertical-align: middle;\n",
       "    }\n",
       "\n",
       "    .dataframe tbody tr th {\n",
       "        vertical-align: top;\n",
       "    }\n",
       "\n",
       "    .dataframe thead th {\n",
       "        text-align: right;\n",
       "    }\n",
       "</style>\n",
       "<table border=\"1\" class=\"dataframe\">\n",
       "  <thead>\n",
       "    <tr style=\"text-align: right;\">\n",
       "      <th></th>\n",
       "      <th></th>\n",
       "      <th></th>\n",
       "      <th></th>\n",
       "      <th></th>\n",
       "      <th></th>\n",
       "      <th>0</th>\n",
       "      <th>1</th>\n",
       "      <th>2</th>\n",
       "      <th>3</th>\n",
       "      <th>4</th>\n",
       "      <th>5</th>\n",
       "      <th>6</th>\n",
       "      <th>7</th>\n",
       "      <th>8</th>\n",
       "      <th>9</th>\n",
       "      <th>...</th>\n",
       "      <th>60</th>\n",
       "      <th>61</th>\n",
       "      <th>62</th>\n",
       "      <th>63</th>\n",
       "      <th>64</th>\n",
       "      <th>65</th>\n",
       "      <th>66</th>\n",
       "      <th>67</th>\n",
       "      <th>68</th>\n",
       "      <th>69</th>\n",
       "    </tr>\n",
       "  </thead>\n",
       "  <tbody>\n",
       "    <tr>\n",
       "      <th rowspan=\"5\" valign=\"top\">e13_26m1</th>\n",
       "      <th rowspan=\"5\" valign=\"top\">e13_26m1_210913</th>\n",
       "      <th rowspan=\"5\" valign=\"top\">0</th>\n",
       "      <th rowspan=\"5\" valign=\"top\">0.0</th>\n",
       "      <th>3</th>\n",
       "      <th>0</th>\n",
       "      <td>NaN</td>\n",
       "      <td>1.389282</td>\n",
       "      <td>NaN</td>\n",
       "      <td>1.389282</td>\n",
       "      <td>NaN</td>\n",
       "      <td>NaN</td>\n",
       "      <td>1.389282</td>\n",
       "      <td>NaN</td>\n",
       "      <td>1.389282</td>\n",
       "      <td>NaN</td>\n",
       "      <td>...</td>\n",
       "      <td>NaN</td>\n",
       "      <td>4.305191</td>\n",
       "      <td>NaN</td>\n",
       "      <td>4.305191</td>\n",
       "      <td>NaN</td>\n",
       "      <td>4.305191</td>\n",
       "      <td>NaN</td>\n",
       "      <td>NaN</td>\n",
       "      <td>4.305191</td>\n",
       "      <td>NaN</td>\n",
       "    </tr>\n",
       "    <tr>\n",
       "      <th>27</th>\n",
       "      <th>0</th>\n",
       "      <td>NaN</td>\n",
       "      <td>33.067719</td>\n",
       "      <td>NaN</td>\n",
       "      <td>33.067719</td>\n",
       "      <td>NaN</td>\n",
       "      <td>NaN</td>\n",
       "      <td>33.067719</td>\n",
       "      <td>NaN</td>\n",
       "      <td>33.067719</td>\n",
       "      <td>NaN</td>\n",
       "      <td>...</td>\n",
       "      <td>NaN</td>\n",
       "      <td>33.067719</td>\n",
       "      <td>NaN</td>\n",
       "      <td>33.067719</td>\n",
       "      <td>NaN</td>\n",
       "      <td>33.067719</td>\n",
       "      <td>NaN</td>\n",
       "      <td>NaN</td>\n",
       "      <td>33.067719</td>\n",
       "      <td>NaN</td>\n",
       "    </tr>\n",
       "    <tr>\n",
       "      <th rowspan=\"3\" valign=\"top\">29</th>\n",
       "      <th>0</th>\n",
       "      <td>NaN</td>\n",
       "      <td>10.396074</td>\n",
       "      <td>NaN</td>\n",
       "      <td>10.396074</td>\n",
       "      <td>NaN</td>\n",
       "      <td>NaN</td>\n",
       "      <td>10.396074</td>\n",
       "      <td>NaN</td>\n",
       "      <td>10.396074</td>\n",
       "      <td>NaN</td>\n",
       "      <td>...</td>\n",
       "      <td>NaN</td>\n",
       "      <td>2.777060</td>\n",
       "      <td>NaN</td>\n",
       "      <td>2.777060</td>\n",
       "      <td>NaN</td>\n",
       "      <td>2.777060</td>\n",
       "      <td>NaN</td>\n",
       "      <td>NaN</td>\n",
       "      <td>2.777060</td>\n",
       "      <td>NaN</td>\n",
       "    </tr>\n",
       "    <tr>\n",
       "      <th>1</th>\n",
       "      <td>NaN</td>\n",
       "      <td>26.288630</td>\n",
       "      <td>NaN</td>\n",
       "      <td>26.288630</td>\n",
       "      <td>NaN</td>\n",
       "      <td>NaN</td>\n",
       "      <td>26.288630</td>\n",
       "      <td>NaN</td>\n",
       "      <td>26.288630</td>\n",
       "      <td>NaN</td>\n",
       "      <td>...</td>\n",
       "      <td>NaN</td>\n",
       "      <td>26.288630</td>\n",
       "      <td>NaN</td>\n",
       "      <td>26.288630</td>\n",
       "      <td>NaN</td>\n",
       "      <td>26.288630</td>\n",
       "      <td>NaN</td>\n",
       "      <td>NaN</td>\n",
       "      <td>26.288630</td>\n",
       "      <td>NaN</td>\n",
       "    </tr>\n",
       "    <tr>\n",
       "      <th>2</th>\n",
       "      <td>NaN</td>\n",
       "      <td>17.481232</td>\n",
       "      <td>NaN</td>\n",
       "      <td>17.481232</td>\n",
       "      <td>NaN</td>\n",
       "      <td>NaN</td>\n",
       "      <td>17.481232</td>\n",
       "      <td>NaN</td>\n",
       "      <td>17.481232</td>\n",
       "      <td>NaN</td>\n",
       "      <td>...</td>\n",
       "      <td>NaN</td>\n",
       "      <td>17.481232</td>\n",
       "      <td>NaN</td>\n",
       "      <td>17.481232</td>\n",
       "      <td>NaN</td>\n",
       "      <td>17.481232</td>\n",
       "      <td>NaN</td>\n",
       "      <td>NaN</td>\n",
       "      <td>17.481232</td>\n",
       "      <td>NaN</td>\n",
       "    </tr>\n",
       "    <tr>\n",
       "      <th>...</th>\n",
       "      <th>...</th>\n",
       "      <th>...</th>\n",
       "      <th>...</th>\n",
       "      <th>...</th>\n",
       "      <th>...</th>\n",
       "      <td>...</td>\n",
       "      <td>...</td>\n",
       "      <td>...</td>\n",
       "      <td>...</td>\n",
       "      <td>...</td>\n",
       "      <td>...</td>\n",
       "      <td>...</td>\n",
       "      <td>...</td>\n",
       "      <td>...</td>\n",
       "      <td>...</td>\n",
       "      <td>...</td>\n",
       "      <td>...</td>\n",
       "      <td>...</td>\n",
       "      <td>...</td>\n",
       "      <td>...</td>\n",
       "      <td>...</td>\n",
       "      <td>...</td>\n",
       "      <td>...</td>\n",
       "      <td>...</td>\n",
       "      <td>...</td>\n",
       "      <td>...</td>\n",
       "    </tr>\n",
       "    <tr>\n",
       "      <th rowspan=\"5\" valign=\"top\">e14_2m3</th>\n",
       "      <th rowspan=\"5\" valign=\"top\">e14_2m3_201118</th>\n",
       "      <th rowspan=\"5\" valign=\"top\">0</th>\n",
       "      <th rowspan=\"5\" valign=\"top\">both</th>\n",
       "      <th>30</th>\n",
       "      <th>0</th>\n",
       "      <td>8.682727</td>\n",
       "      <td>8.682727</td>\n",
       "      <td>8.682727</td>\n",
       "      <td>8.682727</td>\n",
       "      <td>8.682727</td>\n",
       "      <td>8.682727</td>\n",
       "      <td>8.682727</td>\n",
       "      <td>8.682727</td>\n",
       "      <td>8.682727</td>\n",
       "      <td>8.682727</td>\n",
       "      <td>...</td>\n",
       "      <td>NaN</td>\n",
       "      <td>NaN</td>\n",
       "      <td>NaN</td>\n",
       "      <td>NaN</td>\n",
       "      <td>NaN</td>\n",
       "      <td>NaN</td>\n",
       "      <td>NaN</td>\n",
       "      <td>NaN</td>\n",
       "      <td>NaN</td>\n",
       "      <td>NaN</td>\n",
       "    </tr>\n",
       "    <tr>\n",
       "      <th>32</th>\n",
       "      <th>0</th>\n",
       "      <td>11.835044</td>\n",
       "      <td>11.835044</td>\n",
       "      <td>11.835044</td>\n",
       "      <td>11.835044</td>\n",
       "      <td>11.835044</td>\n",
       "      <td>11.835044</td>\n",
       "      <td>11.835044</td>\n",
       "      <td>11.835044</td>\n",
       "      <td>11.835044</td>\n",
       "      <td>11.835044</td>\n",
       "      <td>...</td>\n",
       "      <td>NaN</td>\n",
       "      <td>NaN</td>\n",
       "      <td>NaN</td>\n",
       "      <td>NaN</td>\n",
       "      <td>NaN</td>\n",
       "      <td>NaN</td>\n",
       "      <td>NaN</td>\n",
       "      <td>NaN</td>\n",
       "      <td>NaN</td>\n",
       "      <td>NaN</td>\n",
       "    </tr>\n",
       "    <tr>\n",
       "      <th>38</th>\n",
       "      <th>0</th>\n",
       "      <td>9.374712</td>\n",
       "      <td>9.374712</td>\n",
       "      <td>9.374712</td>\n",
       "      <td>9.374712</td>\n",
       "      <td>9.374712</td>\n",
       "      <td>9.374712</td>\n",
       "      <td>9.374712</td>\n",
       "      <td>9.374712</td>\n",
       "      <td>9.374712</td>\n",
       "      <td>9.374712</td>\n",
       "      <td>...</td>\n",
       "      <td>NaN</td>\n",
       "      <td>NaN</td>\n",
       "      <td>NaN</td>\n",
       "      <td>NaN</td>\n",
       "      <td>NaN</td>\n",
       "      <td>NaN</td>\n",
       "      <td>NaN</td>\n",
       "      <td>NaN</td>\n",
       "      <td>NaN</td>\n",
       "      <td>NaN</td>\n",
       "    </tr>\n",
       "    <tr>\n",
       "      <th>47</th>\n",
       "      <th>0</th>\n",
       "      <td>6.453665</td>\n",
       "      <td>6.453665</td>\n",
       "      <td>6.453665</td>\n",
       "      <td>6.453665</td>\n",
       "      <td>6.453665</td>\n",
       "      <td>6.453665</td>\n",
       "      <td>6.453665</td>\n",
       "      <td>6.453665</td>\n",
       "      <td>6.453665</td>\n",
       "      <td>6.453665</td>\n",
       "      <td>...</td>\n",
       "      <td>NaN</td>\n",
       "      <td>NaN</td>\n",
       "      <td>NaN</td>\n",
       "      <td>NaN</td>\n",
       "      <td>NaN</td>\n",
       "      <td>NaN</td>\n",
       "      <td>NaN</td>\n",
       "      <td>NaN</td>\n",
       "      <td>NaN</td>\n",
       "      <td>NaN</td>\n",
       "    </tr>\n",
       "    <tr>\n",
       "      <th>53</th>\n",
       "      <th>0</th>\n",
       "      <td>3.517027</td>\n",
       "      <td>3.517027</td>\n",
       "      <td>3.517027</td>\n",
       "      <td>3.517027</td>\n",
       "      <td>3.517027</td>\n",
       "      <td>3.517027</td>\n",
       "      <td>3.517027</td>\n",
       "      <td>3.517027</td>\n",
       "      <td>3.517027</td>\n",
       "      <td>3.517027</td>\n",
       "      <td>...</td>\n",
       "      <td>NaN</td>\n",
       "      <td>NaN</td>\n",
       "      <td>NaN</td>\n",
       "      <td>NaN</td>\n",
       "      <td>NaN</td>\n",
       "      <td>NaN</td>\n",
       "      <td>NaN</td>\n",
       "      <td>NaN</td>\n",
       "      <td>NaN</td>\n",
       "      <td>NaN</td>\n",
       "    </tr>\n",
       "  </tbody>\n",
       "</table>\n",
       "<p>14438 rows × 70 columns</p>\n",
       "</div>"
      ],
      "text/plain": [
       "                                             0          1          2   \\\n",
       "e13_26m1 e13_26m1_210913 0 0.0  3  0        NaN   1.389282        NaN   \n",
       "                                27 0        NaN  33.067719        NaN   \n",
       "                                29 0        NaN  10.396074        NaN   \n",
       "                                   1        NaN  26.288630        NaN   \n",
       "                                   2        NaN  17.481232        NaN   \n",
       "...                                         ...        ...        ...   \n",
       "e14_2m3  e14_2m3_201118  0 both 30 0   8.682727   8.682727   8.682727   \n",
       "                                32 0  11.835044  11.835044  11.835044   \n",
       "                                38 0   9.374712   9.374712   9.374712   \n",
       "                                47 0   6.453665   6.453665   6.453665   \n",
       "                                53 0   3.517027   3.517027   3.517027   \n",
       "\n",
       "                                             3          4          5   \\\n",
       "e13_26m1 e13_26m1_210913 0 0.0  3  0   1.389282        NaN        NaN   \n",
       "                                27 0  33.067719        NaN        NaN   \n",
       "                                29 0  10.396074        NaN        NaN   \n",
       "                                   1  26.288630        NaN        NaN   \n",
       "                                   2  17.481232        NaN        NaN   \n",
       "...                                         ...        ...        ...   \n",
       "e14_2m3  e14_2m3_201118  0 both 30 0   8.682727   8.682727   8.682727   \n",
       "                                32 0  11.835044  11.835044  11.835044   \n",
       "                                38 0   9.374712   9.374712   9.374712   \n",
       "                                47 0   6.453665   6.453665   6.453665   \n",
       "                                53 0   3.517027   3.517027   3.517027   \n",
       "\n",
       "                                             6          7          8   \\\n",
       "e13_26m1 e13_26m1_210913 0 0.0  3  0   1.389282        NaN   1.389282   \n",
       "                                27 0  33.067719        NaN  33.067719   \n",
       "                                29 0  10.396074        NaN  10.396074   \n",
       "                                   1  26.288630        NaN  26.288630   \n",
       "                                   2  17.481232        NaN  17.481232   \n",
       "...                                         ...        ...        ...   \n",
       "e14_2m3  e14_2m3_201118  0 both 30 0   8.682727   8.682727   8.682727   \n",
       "                                32 0  11.835044  11.835044  11.835044   \n",
       "                                38 0   9.374712   9.374712   9.374712   \n",
       "                                47 0   6.453665   6.453665   6.453665   \n",
       "                                53 0   3.517027   3.517027   3.517027   \n",
       "\n",
       "                                             9   ...  60         61  62  \\\n",
       "e13_26m1 e13_26m1_210913 0 0.0  3  0        NaN  ... NaN   4.305191 NaN   \n",
       "                                27 0        NaN  ... NaN  33.067719 NaN   \n",
       "                                29 0        NaN  ... NaN   2.777060 NaN   \n",
       "                                   1        NaN  ... NaN  26.288630 NaN   \n",
       "                                   2        NaN  ... NaN  17.481232 NaN   \n",
       "...                                         ...  ...  ..        ...  ..   \n",
       "e14_2m3  e14_2m3_201118  0 both 30 0   8.682727  ... NaN        NaN NaN   \n",
       "                                32 0  11.835044  ... NaN        NaN NaN   \n",
       "                                38 0   9.374712  ... NaN        NaN NaN   \n",
       "                                47 0   6.453665  ... NaN        NaN NaN   \n",
       "                                53 0   3.517027  ... NaN        NaN NaN   \n",
       "\n",
       "                                             63  64         65  66  67  \\\n",
       "e13_26m1 e13_26m1_210913 0 0.0  3  0   4.305191 NaN   4.305191 NaN NaN   \n",
       "                                27 0  33.067719 NaN  33.067719 NaN NaN   \n",
       "                                29 0   2.777060 NaN   2.777060 NaN NaN   \n",
       "                                   1  26.288630 NaN  26.288630 NaN NaN   \n",
       "                                   2  17.481232 NaN  17.481232 NaN NaN   \n",
       "...                                         ...  ..        ...  ..  ..   \n",
       "e14_2m3  e14_2m3_201118  0 both 30 0        NaN NaN        NaN NaN NaN   \n",
       "                                32 0        NaN NaN        NaN NaN NaN   \n",
       "                                38 0        NaN NaN        NaN NaN NaN   \n",
       "                                47 0        NaN NaN        NaN NaN NaN   \n",
       "                                53 0        NaN NaN        NaN NaN NaN   \n",
       "\n",
       "                                             68  69  \n",
       "e13_26m1 e13_26m1_210913 0 0.0  3  0   4.305191 NaN  \n",
       "                                27 0  33.067719 NaN  \n",
       "                                29 0   2.777060 NaN  \n",
       "                                   1  26.288630 NaN  \n",
       "                                   2  17.481232 NaN  \n",
       "...                                         ...  ..  \n",
       "e14_2m3  e14_2m3_201118  0 both 30 0        NaN NaN  \n",
       "                                32 0        NaN NaN  \n",
       "                                38 0        NaN NaN  \n",
       "                                47 0        NaN NaN  \n",
       "                                53 0        NaN NaN  \n",
       "\n",
       "[14438 rows x 70 columns]"
      ]
     },
     "execution_count": 209,
     "metadata": {},
     "output_type": "execute_result"
    }
   ],
   "source": [
    "X_pwc_all"
   ]
  },
  {
   "cell_type": "code",
   "execution_count": null,
   "id": "aabeadb2",
   "metadata": {},
   "outputs": [],
   "source": []
  }
 ],
 "metadata": {
  "kernelspec": {
   "display_name": "jax",
   "language": "python",
   "name": "jax"
  },
  "language_info": {
   "codemirror_mode": {
    "name": "ipython",
    "version": 3
   },
   "file_extension": ".py",
   "mimetype": "text/x-python",
   "name": "python",
   "nbconvert_exporter": "python",
   "pygments_lexer": "ipython3",
   "version": "3.9.16"
  }
 },
 "nbformat": 4,
 "nbformat_minor": 5
}
