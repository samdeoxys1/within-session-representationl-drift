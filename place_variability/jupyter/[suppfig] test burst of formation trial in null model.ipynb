{
 "cells": [
  {
   "cell_type": "code",
   "execution_count": 3,
   "id": "19e2a4cf",
   "metadata": {},
   "outputs": [],
   "source": [
    "import numpy as np\n",
    "import ruptures as rpt\n",
    "import sys,os,copy,pdb\n",
    "import matplotlib.pyplot as plt\n",
    "import seaborn as sns\n",
    "import scipy\n",
    "sys.path.append('/mnt/home/szheng/projects/nmf_analysis')\n",
    "sys.path.append('/mnt/home/szheng/projects/util_code')\n",
    "sys.path.append('/mnt/home/szheng/projects/place_variability/code')\n",
    "import plot_helper as ph\n",
    "import pandas as pd\n",
    "import misc"
   ]
  },
  {
   "cell_type": "code",
   "execution_count": 4,
   "id": "3afe030b",
   "metadata": {},
   "outputs": [],
   "source": [
    "import matplotlib\n",
    "matplotlib.rcParams['svg.fonttype'] = 'none'"
   ]
  },
  {
   "cell_type": "code",
   "execution_count": 5,
   "id": "e714381e",
   "metadata": {},
   "outputs": [
    {
     "name": "stdout",
     "output_type": "stream",
     "text": [
      "/mnt/home/szheng/ceph/place_variability/fig/paper/suppfigure_first_trial_burst_simulation_artifact\n",
      "/mnt/home/szheng/ceph/place_variability/data/paper\n"
     ]
    },
    {
     "data": {
      "text/plain": [
       "'/mnt/home/szheng/ceph/place_variability/data/paper'"
      ]
     },
     "execution_count": 5,
     "metadata": {},
     "output_type": "execute_result"
    }
   ],
   "source": [
    "\n",
    "figdir = '/mnt/home/szheng/ceph/place_variability/fig/paper/suppfigure_first_trial_burst_simulation_artifact'\n",
    "misc.get_or_create_subdir(figdir)\n",
    "data_dir = '/mnt/home/szheng/ceph/place_variability/data/paper'\n",
    "misc.get_or_create_subdir(data_dir)\n"
   ]
  },
  {
   "cell_type": "code",
   "execution_count": 6,
   "id": "bc31ab0b",
   "metadata": {},
   "outputs": [],
   "source": [
    "np.random.seed(2)"
   ]
  },
  {
   "cell_type": "code",
   "execution_count": 43,
   "id": "e16ce75e",
   "metadata": {},
   "outputs": [],
   "source": [
    "rate = 10\n",
    "ntrial = 30\n",
    "nrepeats = 2000#1000\n",
    "data_null=np.random.poisson(rate,size=(nrepeats,ntrial))\n",
    "data_null = pd.DataFrame(data_null)"
   ]
  },
  {
   "cell_type": "code",
   "execution_count": 44,
   "id": "39128bf0",
   "metadata": {},
   "outputs": [
    {
     "name": "stdout",
     "output_type": "stream",
     "text": [
      "INFO: Pandarallel will run on 40 workers.\n",
      "INFO: Pandarallel will use Memory file system to transfer data between the main process and workers.\n"
     ]
    }
   ],
   "source": [
    "import change_point_analysis as cpa\n",
    "X = data_null / data_null.max(axis=1).values[:,None]\n",
    "X_norm_pwc,cpts=cpa.predict_from_cpts_wrapper_allrows(X,1,cost='l2',min_size=2,model_type=rpt.Dynp)\n",
    "# X_norm_pwc,cpts=cpa.predict_from_cpts_wrapper_allrows(X,0.3,cost='l2',min_size=2,model_type=rpt.Pelt)\n",
    "# cpts=cpts.dropna(axis=0,how='all').dropna(axis=1)\n",
    "cpts = cpts[0]"
   ]
  },
  {
   "cell_type": "code",
   "execution_count": 45,
   "id": "a7aff2de",
   "metadata": {
    "scrolled": true
   },
   "outputs": [],
   "source": [
    "peri_sw_l = []\n",
    "sw_mag_l = []\n",
    "trial_win = 3\n",
    "\n",
    "for uid, cpt in cpts.items():\n",
    "    st,ed=cpt-trial_win,cpt+trial_win\n",
    "    st = np.maximum(st,0)\n",
    "    ed = np.minimum(ed,ntrial)\n",
    "    sw_mag=X_norm_pwc.loc[uid,cpt] -X_norm_pwc.loc[uid,cpt-1]\n",
    "    sw_mag_l.append(sw_mag)\n",
    "    section_post=X.loc[uid,cpt:ed].reset_index(drop=True)\n",
    "    section_pre=X.loc[uid,st:(cpt-1)]\n",
    "    section_pre.index=section_pre.index - cpt\n",
    "    section_pre = section_pre.sort_index()\n",
    "    peri_sw_l.append(pd.concat([section_pre,section_post]))\n",
    "\n",
    "peri_sw_l = pd.concat(peri_sw_l,axis=1).T\n",
    "sw_mag_l= np.array(sw_mag_l)"
   ]
  },
  {
   "cell_type": "code",
   "execution_count": 46,
   "id": "9193f2a8",
   "metadata": {},
   "outputs": [
    {
     "data": {
      "text/plain": [
       "(481, 7)"
      ]
     },
     "execution_count": 46,
     "metadata": {},
     "output_type": "execute_result"
    }
   ],
   "source": [
    "toplot.shape"
   ]
  },
  {
   "cell_type": "code",
   "execution_count": 16,
   "id": "fdde7b94",
   "metadata": {},
   "outputs": [
    {
     "data": {
      "text/plain": [
       "<module 'plot_helper' from '/mnt/home/szheng/projects/util_code/plot_helper.py'>"
      ]
     },
     "execution_count": 16,
     "metadata": {},
     "output_type": "execute_result"
    }
   ],
   "source": [
    "from importlib import reload\n",
    "reload(ph)"
   ]
  },
  {
   "cell_type": "code",
   "execution_count": 26,
   "id": "d3ea22c9",
   "metadata": {},
   "outputs": [
    {
     "name": "stdout",
     "output_type": "stream",
     "text": [
      "thresh 0\n",
      "{(-3, -2): WilcoxonResult(statistic=37014.0, pvalue=0.8798640015707215), (-2, -1): WilcoxonResult(statistic=25559.0, pvalue=1.4311084165183774e-12), (-1, 0): WilcoxonResult(statistic=9.5, pvalue=3.562468312950447e-80), (0, 1): WilcoxonResult(statistic=35702.5, pvalue=8.184535754400417e-07), (1, 2): WilcoxonResult(statistic=29804.0, pvalue=0.0002512920894558811), (2, 3): WilcoxonResult(statistic=34494.0, pvalue=0.37919164821593443)}\n"
     ]
    },
    {
     "data": {
      "image/png": "[encoded data removed]",
      "text/plain": [
       "<Figure size 200x150 with 1 Axes>"
      ]
     },
     "metadata": {},
     "output_type": "display_data"
    }
   ],
   "source": [
    "# fig,axs=plt.subplots(2,1,sharex=True,sharey=True,figsize=(3,3))\n",
    "# for ii,thresh in enumerate([0,0.3]):\n",
    "#     ax=axs[ii]\n",
    "#     toplot=peri_sw_l[sw_mag_l>thresh]\n",
    "# #     testres = scipy.stats.wilcoxon(toplot[0]-toplot[1])\n",
    "#     print(f'thresh {thresh}')\n",
    "#     print(ph.consecutive_wilcoxon_test(toplot))\n",
    "#     fig,ax=ph.mean_error_plot(toplot,xs=None,ci_scale=1.96,axis=0,fig=fig,ax=ax,alpha=0.5,label=None,sem=True,linestyle='-',c='C0')\n",
    "#     ax.set_title(f'FR increase > {thresh}')\n",
    "    \n",
    "#     ax.set_ylabel('FR (normalized)')\n",
    "#     sns.despine()\n",
    "# ax.set_xlabel('Trial relative to change point')\n",
    "# plt.tight_layout()\n",
    "\n",
    "\n",
    "# # figfn= 'peri_sw_on_sim'\n",
    "# # ph.save_given_name(fig,figfn,figdir)"
   ]
  },
  {
   "cell_type": "code",
   "execution_count": 54,
   "id": "7a2fc992",
   "metadata": {},
   "outputs": [
    {
     "name": "stdout",
     "output_type": "stream",
     "text": [
      "{(-3, -2): WilcoxonResult(statistic=148257.0, pvalue=0.059496282864568144), (-2, -1): WilcoxonResult(statistic=119570.0, pvalue=2.344849282988137e-19), (-1, 0): WilcoxonResult(statistic=0.0, pvalue=2.4033747903011223e-159), (0, 1): WilcoxonResult(statistic=125192.5, pvalue=1.3438839383164608e-19), (1, 2): WilcoxonResult(statistic=146360.0, pvalue=0.1931487811896665), (2, 3): WilcoxonResult(statistic=116750.5, pvalue=0.0008824611788016757)}\n"
     ]
    },
    {
     "data": {
      "image/png": "[encoded data removed]",
      "text/plain": [
       "<Figure size 220x200 with 1 Axes>"
      ]
     },
     "metadata": {},
     "output_type": "display_data"
    }
   ],
   "source": [
    "from matplotlib.ticker import MaxNLocator\n",
    "fig,ax=plt.subplots(1,1,sharex=True,sharey=True,figsize=(2.2,2))\n",
    "\n",
    "thresh=0\n",
    "\n",
    "toplot=peri_sw_l[sw_mag_l>thresh]\n",
    "print(ph.consecutive_wilcoxon_test(toplot))\n",
    "fig,ax=ph.mean_error_plot(toplot,xs=None,ci_scale=1.96,axis=0,fig=fig,ax=ax,alpha=0.5,label=None,sem=True,linestyle='-',c='C0')\n",
    "ax.set_title(f'Simulated')\n",
    "\n",
    "ax.set_ylabel('FR (normalized)')\n",
    "sns.despine()\n",
    "ax.set_xlabel('Trial\\n(relative to\\nchange point)')\n",
    "ax.xaxis.set_major_locator(MaxNLocator(integer=True))\n",
    "plt.tight_layout()\n",
    "\n",
    "\n",
    "figfn= 'peri_sw_on_sim'\n",
    "ph.save_given_name(fig,figfn,figdir)"
   ]
  },
  {
   "cell_type": "code",
   "execution_count": 22,
   "id": "64887581",
   "metadata": {
    "scrolled": true
   },
   "outputs": [],
   "source": [
    "# import test_change_point as tcp\n",
    "\n",
    "# signal = X.loc[uid].values\n",
    "# pval_df,_,_=tcp.test_contiguity(signal,n_shuffle=200,sig_thresh=0.05,n_change_pts=1,min_size=2,signal_shuffle=None)\n"
   ]
  },
  {
   "cell_type": "code",
   "execution_count": 19,
   "id": "b3a3db1d",
   "metadata": {
    "scrolled": true
   },
   "outputs": [
    {
     "data": {
      "text/plain": [
       "array([ 0.12222222, -0.175     ,  0.203125  , -0.08203125, -0.1875    ,\n",
       "        0.17261905, -0.11869748,  0.10714286,  0.1625    ,  0.19543651,\n",
       "       -0.15740741, -0.11769481,  0.17582418,  0.11157895, -0.10746606,\n",
       "        0.16533759,  0.2670068 ,  0.1015528 , -0.14912281,  0.15570175,\n",
       "        0.13068938, -0.1489899 , -0.14351852, -0.08412698, -0.09895833,\n",
       "       -0.19      , -0.35368421, -0.10714286,  0.13958333, -0.18076923,\n",
       "        0.09553571,  0.27406417, -0.13104732,  0.20781893,  0.12058824,\n",
       "        0.21568627,  0.19583333,  0.16620879, -0.13595583, -0.10352941,\n",
       "        0.3592437 , -0.12745098, -0.13492063,  0.19103314, -0.16987179,\n",
       "        0.140625  , -0.19012346,  0.1697861 ,  0.16764706, -0.17692308,\n",
       "       -0.10385338, -0.1625    ,  0.16112532,  0.23764706, -0.20888889,\n",
       "        0.13647059, -0.22115385,  0.20833333, -0.24537037, -0.37254902,\n",
       "        0.12799043, -0.06502827,  0.0978836 ,  0.21875   ,  0.10620915,\n",
       "       -0.15      ,  0.16111111,  0.08889752, -0.13961039,  0.18082789,\n",
       "        0.05982906,  0.13333333,  0.27455357, -0.1426087 ,  0.12673611,\n",
       "       -0.21296296,  0.0875    , -0.08787594, -0.20504882, -0.08796296,\n",
       "       -0.15061728, -0.13333333, -0.21527778, -0.24208145, -0.20940171,\n",
       "       -0.12647059, -0.15616681,  0.08455882,  0.23015873,  0.12663906,\n",
       "       -0.11111111,  0.18877551,  0.12305901,  0.20387285, -0.18235294,\n",
       "       -0.15362319, -0.15111111,  0.09920255, -0.22794118, -0.11590909,\n",
       "       -0.18      ,  0.10087719, -0.1622807 ,  0.17613636,  0.15111111,\n",
       "        0.25904977,  0.21230159,  0.28781513, -0.28794643,  0.14225113,\n",
       "        0.25714286, -0.14010989, -0.09231635,  0.22932331,  0.12962963,\n",
       "        0.11785714,  0.11      ,  0.17592593,  0.17156863, -0.15381805,\n",
       "        0.09334416,  0.22098214, -0.17533937, -0.14285714, -0.0797619 ,\n",
       "       -0.20135747,  0.12781955, -0.14888889, -0.30357143,  0.15041572,\n",
       "        0.42006803,  0.16559829, -0.17857143,  0.09655562,  0.15061728,\n",
       "        0.21218487, -0.22222222, -0.12731481,  0.15510307,  0.16269841,\n",
       "       -0.07767722,  0.10121457, -0.08730159,  0.11428571,  0.17633929,\n",
       "        0.05827068, -0.12698413,  0.13715278, -0.23660714,  0.24047619,\n",
       "       -0.17254902, -0.27380952, -0.18080357,  0.22962963, -0.18105263,\n",
       "       -0.09117647,  0.11      , -0.10331384,  0.17874396, -0.11607143,\n",
       "       -0.20039683,  0.09813665,  0.16456299,  0.28835979,  0.10226244,\n",
       "       -0.20833333,  0.07397959, -0.10294118, -0.1372549 , -0.19157895,\n",
       "       -0.17066667, -0.1531746 , -0.25223214, -0.14375   ,  0.08      ,\n",
       "        0.08552632,  0.17105263, -0.10497835,  0.09981368, -0.31696429,\n",
       "       -0.2452381 , -0.1474359 ,  0.25113122, -0.21904762, -0.08064945,\n",
       "       -0.135     ,  0.175     , -0.31428571, -0.25231481, -0.17307692,\n",
       "        0.1037037 , -0.11785444, -0.13055556,  0.19294118,  0.23733333,\n",
       "        0.18027211, -0.23262032,  0.19733333, -0.11470588, -0.26691729,\n",
       "       -0.12144886, -0.16049383,  0.26470588, -0.08810221,  0.11536417,\n",
       "        0.21634615,  0.18125   , -0.12966507, -0.11932004, -0.14814815,\n",
       "       -0.20444444, -0.17809365, -0.1925    ,  0.15294118, -0.272     ,\n",
       "        0.05847953, -0.10931677, -0.14322917,  0.08333333,  0.31512605,\n",
       "        0.08245349, -0.17701863, -0.37267081, -0.11335404, -0.08597884,\n",
       "       -0.08705882, -0.13492063,  0.09188034,  0.10085227,  0.21944444,\n",
       "       -0.09688995, -0.11602871,  0.26785714, -0.30462185,  0.39285714,\n",
       "        0.18312757, -0.16517857, -0.19555556,  0.11931818, -0.17777778,\n",
       "       -0.22193878,  0.22564103,  0.18636364, -0.19428571,  0.2443609 ,\n",
       "        0.0941358 , -0.27983539, -0.09      ,  0.14609053, -0.19791667,\n",
       "       -0.13862434, -0.10144928,  0.21363636,  0.34598214, -0.16176471,\n",
       "       -0.16203704,  0.12222222, -0.13560606, -0.21659919,  0.17322291,\n",
       "       -0.09444444,  0.15343915,  0.13747412, -0.14354067, -0.12941176,\n",
       "        0.20578231, -0.24675325,  0.05908289, -0.10084034, -0.27619048,\n",
       "       -0.14939309, -0.08133971,  0.22527473,  0.20798319,  0.23397436,\n",
       "       -0.18431373, -0.14318182, -0.08928571, -0.11134454, -0.1575    ,\n",
       "        0.08386124, -0.19196429,  0.14642857, -0.15882875, -0.16548358,\n",
       "       -0.31590414, -0.13428571,  0.14804391, -0.11555556,  0.1275    ,\n",
       "       -0.18627451,  0.15980114, -0.29365079, -0.12647059, -0.12098214,\n",
       "        0.17756668, -0.15277778, -0.109375  ,  0.12678571, -0.12967914,\n",
       "        0.22420635, -0.19230769,  0.15369898, -0.13888889, -0.16533333,\n",
       "        0.08223684, -0.27380952,  0.10781499,  0.20238095, -0.08730159,\n",
       "       -0.132     , -0.42142857, -0.19940476, -0.25      ,  0.08611111,\n",
       "        0.12647059, -0.17097091,  0.19642857, -0.15696649, -0.18032297,\n",
       "        0.07941437,  0.13152338, -0.09615385,  0.20384615,  0.18205128,\n",
       "       -0.21825397, -0.15263158, -0.25      ,  0.16137566,  0.19172113,\n",
       "       -0.12857143,  0.15178571, -0.12314279, -0.25512821,  0.20238095,\n",
       "        0.22727273, -0.09705882, -0.22478992,  0.13777778, -0.22004357,\n",
       "       -0.12670565, -0.15277778,  0.07664027,  0.20039683,  0.1825    ,\n",
       "        0.18392857, -0.28703704,  0.18253968,  0.18082789, -0.09111111,\n",
       "        0.17793367,  0.16176471, -0.1       ,  0.16203704,  0.070535  ,\n",
       "       -0.09660633,  0.26157407, -0.08766234, -0.08533333, -0.13260424,\n",
       "        0.14215686,  0.20758929, -0.1746074 ,  0.25892857,  0.24      ,\n",
       "        0.36134454,  0.28174603,  0.41071429, -0.12138189, -0.15079365,\n",
       "        0.1622807 , -0.19583333, -0.14027149,  0.1155754 ,  0.115625  ,\n",
       "        0.078125  ,  0.265625  , -0.2254902 ,  0.07777778,  0.14233193,\n",
       "        0.11117366, -0.14548319, -0.1125    ,  0.22767857, -0.30451128,\n",
       "        0.11805556, -0.19138199,  0.15046296, -0.17111111, -0.1835069 ,\n",
       "       -0.20833333,  0.13681129,  0.14117647,  0.34722222, -0.11610672,\n",
       "        0.27314815,  0.23308271, -0.09049774,  0.11782297, -0.08627451,\n",
       "       -0.18222222, -0.09401261,  0.11519608, -0.13599215,  0.11777778,\n",
       "        0.28759398, -0.14000532, -0.07561728,  0.21346154, -0.15037594,\n",
       "        0.16666667,  0.13045635,  0.22839506, -0.1965812 , -0.30042017,\n",
       "       -0.18389423,  0.09722222, -0.30555556, -0.06018519, -0.21071429,\n",
       "       -0.15384615,  0.17892157,  0.14923469, -0.18726708,  0.1       ,\n",
       "       -0.15546218, -0.13293651, -0.1316568 , -0.16156508,  0.19736842,\n",
       "        0.2605042 , -0.12511671,  0.11762422,  0.16975309,  0.15652174,\n",
       "       -0.21944444,  0.10721248,  0.07936508,  0.08984375, -0.17992424,\n",
       "       -0.19270833,  0.08531746,  0.35338346,  0.16729323,  0.19294118,\n",
       "       -0.27142857, -0.15705128,  0.22380952,  0.1209893 , -0.19212963,\n",
       "       -0.1127451 , -0.15555556, -0.13714286,  0.23058824,  0.16533333,\n",
       "        0.21296296,  0.11161388,  0.12215321, -0.1       ,  0.17105263,\n",
       "       -0.26470588, -0.23996265, -0.07782805, -0.12131519, -0.15384615,\n",
       "        0.20634921, -0.08994709,  0.25396825, -0.18382353,  0.09359371,\n",
       "       -0.07841574, -0.185     , -0.32619048, -0.21041667,  0.1300905 ,\n",
       "       -0.17045455,  0.18342152, -0.08      , -0.16666667, -0.21944444,\n",
       "        0.12762238, -0.15359477, -0.07679739, -0.16176471, -0.13888889,\n",
       "        0.2       , -0.15263158, -0.13095555,  0.2962963 ,  0.16176471,\n",
       "       -0.09795322,  0.11777778, -0.14087302, -0.09785354,  0.16633831,\n",
       "       -0.1875    , -0.2037037 , -0.1       ,  0.09774436, -0.08787879,\n",
       "        0.16296296,  0.15294118, -0.19957983, -0.13844797,  0.19607843,\n",
       "       -0.19146825, -0.22321429, -0.17153996, -0.23214286,  0.17647059,\n",
       "        0.17647059, -0.13352007,  0.12495433,  0.34033613,  0.18082789,\n",
       "       -0.08134921, -0.17354497,  0.17962963, -0.12003968, -0.13397129,\n",
       "       -0.11085973,  0.12254902, -0.09801136, -0.13125   , -0.14906417,\n",
       "        0.10795455, -0.24      ,  0.34151786,  0.10288066, -0.12057493,\n",
       "        0.26964286,  0.21590909, -0.1875    ,  0.152     ,  0.09082892,\n",
       "       -0.13560268,  0.14379085,  0.21195145, -0.17647059,  0.14795918,\n",
       "       -0.2034413 ,  0.07843137, -0.09330144, -0.1174907 , -0.15061728,\n",
       "       -0.08357732,  0.2       ,  0.19017094,  0.18028846, -0.14821429,\n",
       "       -0.1923436 , -0.10864059, -0.09715198, -0.09197236, -0.22596154,\n",
       "       -0.11333333,  0.08082707, -0.14444444, -0.22704082,  0.30442177,\n",
       "        0.15106952,  0.14103033,  0.09117647, -0.20982143,  0.125     ,\n",
       "        0.1328125 ,  0.19733333,  0.21832579,  0.11564171,  0.15848214,\n",
       "        0.17091837,  0.10833333,  0.22685185,  0.16666667, -0.1004902 ,\n",
       "        0.13428571, -0.11538462, -0.20982143, -0.1       ,  0.13571429,\n",
       "        0.38235294, -0.22222222,  0.11752392, -0.20629991, -0.12990196,\n",
       "        0.08710407,  0.24938272, -0.16176471,  0.12820513, -0.06746411,\n",
       "       -0.11904762, -0.121875  , -0.09389952, -0.19444444, -0.16666667,\n",
       "       -0.06759225, -0.14      ,  0.21964286, -0.19883041, -0.1546841 ,\n",
       "       -0.175     , -0.11651584,  0.32653061,  0.14330808,  0.08987943,\n",
       "       -0.13055556,  0.23757764, -0.11928105,  0.35238095,  0.15566188,\n",
       "        0.10222222,  0.39651416, -0.32142857, -0.30555556, -0.15131579,\n",
       "       -0.12990196, -0.12380952,  0.1871345 ,  0.26890756, -0.13675214,\n",
       "       -0.11296584,  0.26315789, -0.16447368, -0.30580357,  0.11662679,\n",
       "        0.22469636,  0.11666667, -0.28395062,  0.1712963 ,  0.13576555,\n",
       "        0.1672619 , -0.17779503,  0.25897436,  0.06764706,  0.1875    ,\n",
       "        0.11111111, -0.08370536,  0.21626984,  0.09356725, -0.1979638 ,\n",
       "       -0.14161491, -0.25641026,  0.31150794, -0.30600414, -0.13616818,\n",
       "       -0.06315789, -0.14705882,  0.16919192, -0.07670455, -0.125     ,\n",
       "        0.13636364,  0.12368421,  0.10947205, -0.1366843 ,  0.0780543 ,\n",
       "        0.2138009 , -0.11160714,  0.19196429, -0.11519608,  0.30882353,\n",
       "       -0.26002674, -0.14603175,  0.25102881, -0.12227539, -0.29135338,\n",
       "       -0.14320988, -0.10082305, -0.265625  ,  0.25384615,  0.11231203,\n",
       "       -0.235     , -0.13786008,  0.10035959,  0.26388889, -0.12998405,\n",
       "        0.23076923, -0.1984127 ,  0.11111111,  0.23809524,  0.13263158,\n",
       "        0.11184211,  0.23571429,  0.21777778,  0.15853298, -0.07814992,\n",
       "       -0.23181818, -0.22016461,  0.14935065,  0.15952381,  0.13580247,\n",
       "       -0.12745098,  0.19537815, -0.08333333, -0.11294118, -0.14084928,\n",
       "        0.10522959,  0.22875817,  0.09375   , -0.1765873 ,  0.09375   ,\n",
       "       -0.1061816 ,  0.10784314, -0.10076531, -0.15332753, -0.15372671,\n",
       "       -0.19195046, -0.18981481, -0.13010204,  0.13777778,  0.17156863,\n",
       "       -0.11746032,  0.1125    ,  0.11538462, -0.25185185,  0.18402778,\n",
       "        0.15764706,  0.10865385, -0.12330317,  0.25      ,  0.09430439,\n",
       "        0.21153846, -0.27111111, -0.13818182, -0.0679089 , -0.26153846,\n",
       "       -0.15885417,  0.07372904,  0.14087481,  0.12407407, -0.14074074,\n",
       "       -0.2337963 , -0.27820513, -0.11216518, -0.17777778,  0.18611111,\n",
       "        0.12699849,  0.12433862,  0.09154705, -0.13425926,  0.11388889,\n",
       "        0.25510204,  0.23035714,  0.20436508, -0.26526316,  0.3125    ,\n",
       "       -0.30042017,  0.17436975,  0.31547619, -0.12299465, -0.17460317,\n",
       "        0.28174603, -0.26923077, -0.13849432, -0.23571429, -0.23529412,\n",
       "        0.29421769, -0.12400794,  0.18981481,  0.23611111,  0.13533835,\n",
       "        0.22352941, -0.10206134, -0.11388889,  0.27731092, -0.21651786,\n",
       "       -0.14366883, -0.10069444, -0.3600823 , -0.20075758, -0.16457811,\n",
       "       -0.17820513, -0.234375  ,  0.17156863, -0.23675557,  0.09183673,\n",
       "        0.24801587,  0.20714286,  0.27294686, -0.33035714,  0.1004902 ,\n",
       "        0.16377005, -0.26530612, -0.06052632, -0.14635093,  0.15497449,\n",
       "       -0.1291866 ,  0.23928571,  0.15277778,  0.20987654,  0.14285714,\n",
       "       -0.15311005,  0.13235294, -0.08187135, -0.09047619,  0.23      ,\n",
       "        0.10354006,  0.20769231, -0.31722689, -0.21527778,  0.15350877,\n",
       "        0.1375    , -0.25490196,  0.16222222,  0.125     ,  0.14052795,\n",
       "        0.21153846, -0.09201389, -0.12019231,  0.14460784,  0.12811791,\n",
       "       -0.08159722, -0.16687371, -0.19238095, -0.09715909, -0.11363636,\n",
       "        0.15308732,  0.12021531, -0.08625566, -0.30952381, -0.17078189,\n",
       "       -0.11157895, -0.28333333, -0.16025641, -0.12104072, -0.11481481,\n",
       "       -0.09106099, -0.09484942,  0.1001221 ,  0.12254902,  0.04722222,\n",
       "        0.08148148,  0.26904762, -0.17227852,  0.0974026 ,  0.18973214,\n",
       "        0.234375  ,  0.1       ,  0.16705882, -0.328125  ,  0.13043478,\n",
       "       -0.27310924, -0.12239583,  0.25      ,  0.08712121, -0.12152778,\n",
       "       -0.20833333,  0.12927019,  0.24278846, -0.15776398,  0.08163265,\n",
       "       -0.25185185, -0.21481481,  0.17521368, -0.23481781,  0.19157895,\n",
       "        0.30324074,  0.28240741, -0.13650794,  0.08409091,  0.109375  ,\n",
       "       -0.19012346, -0.12781955, -0.21904762, -0.09328228, -0.19111111,\n",
       "        0.23555556, -0.20467836, -0.05921053, -0.27232143, -0.16587302,\n",
       "       -0.18051242, -0.10672515, -0.17447917, -0.13756614,  0.11458333,\n",
       "        0.09502924, -0.07253086,  0.18981481, -0.17324561,  0.35459184,\n",
       "       -0.11645299,  0.12670807, -0.1097488 ,  0.26823529,  0.11519608,\n",
       "        0.16269841, -0.34722222, -0.1232493 ,  0.08665966, -0.12795031,\n",
       "       -0.25548654,  0.09694196,  0.14105263,  0.10160428,  0.15384615,\n",
       "       -0.1875    , -0.13095238, -0.17592593,  0.09911141, -0.28009259,\n",
       "       -0.15643275,  0.16111111, -0.12839506, -0.17489712, -0.08888889,\n",
       "        0.18765432,  0.23120301, -0.10466507,  0.15469457, -0.1775    ,\n",
       "        0.10748106,  0.24789916, -0.12      , -0.37723214,  0.07716837,\n",
       "        0.14325922, -0.37605042, -0.12895928,  0.19012346,  0.29201681,\n",
       "       -0.18609023,  0.29421769, -0.08270677, -0.07666667,  0.15833333,\n",
       "        0.0781878 , -0.21130952, -0.19555556,  0.16974432,  0.32638889,\n",
       "        0.29047619,  0.17676768, -0.18650794,  0.24537037, -0.16481481,\n",
       "        0.14404432,  0.15384615, -0.12318841,  0.32894737,  0.13095238,\n",
       "        0.16775599, -0.25396825, -0.07763975, -0.13862434, -0.15238095,\n",
       "       -0.15020576,  0.25      ,  0.12393162,  0.20927602,  0.12808642,\n",
       "       -0.15971606, -0.13932981,  0.12103175,  0.10645933,  0.15681818,\n",
       "       -0.17142857, -0.12836439,  0.1654321 , -0.26664512,  0.12962963,\n",
       "        0.21111111, -0.195     ,  0.12421053, -0.11309524, -0.29464286,\n",
       "       -0.22165992,  0.13756614,  0.23319328,  0.13664596, -0.12166781,\n",
       "       -0.16176471,  0.16470588, -0.19345238,  0.13621795, -0.09438776,\n",
       "        0.12857143,  0.11640212,  0.1953125 , -0.13461538,  0.195     ,\n",
       "       -0.08611111,  0.14742823, -0.2132107 ,  0.18181818,  0.23045267,\n",
       "        0.1503268 , -0.11269841,  0.28472222, -0.24485597, -0.109375  ,\n",
       "        0.11508951,  0.14605329, -0.10277778, -0.33403361, -0.13885747,\n",
       "       -0.11695906, -0.0859375 ,  0.22475962, -0.15814656,  0.16872428])"
      ]
     },
     "execution_count": 19,
     "metadata": {},
     "output_type": "execute_result"
    }
   ],
   "source": [
    "sw_mag_l"
   ]
  },
  {
   "cell_type": "code",
   "execution_count": 55,
   "id": "a611b3a7",
   "metadata": {},
   "outputs": [
    {
     "name": "stdout",
     "output_type": "stream",
     "text": [
      "INFO: Pandarallel will run on 40 workers.\n",
      "INFO: Pandarallel will use standard multiprocessing data transfer (pipe) to transfer data between the main process and workers.\n"
     ]
    },
    {
     "data": {
      "application/vnd.jupyter.widget-view+json": {
       "model_id": "1ffd1f4475e443dab44d9d7817329f01",
       "version_major": 2,
       "version_minor": 0
      },
      "text/plain": [
       "VBox(children=(HBox(children=(IntProgress(value=0, description='0.00%', max=50), Label(value='0 / 50'))), HBox…"
      ]
     },
     "metadata": {},
     "output_type": "display_data"
    },
    {
     "name": "stdout",
     "output_type": "stream",
     "text": [
      "CPU times: user 4.05 s, sys: 1.46 s, total: 5.51 s\n",
      "Wall time: 3min 37s\n"
     ]
    }
   ],
   "source": [
    "%%time\n",
    "import test_change_point as tcp\n",
    "res = tcp.test_contiguity_allrows(X,n_shuffle=200,sig_thresh=0.05,n_change_pts=1,min_size=2)\n",
    "# res = tcp.test_contiguity_allrows(X[:200],n_shuffle=1000,sig_thresh=0.05,n_change_pts=1,min_size=2)\n"
   ]
  },
  {
   "cell_type": "code",
   "execution_count": 58,
   "id": "66fd8e03",
   "metadata": {},
   "outputs": [],
   "source": [
    "pval_all=np.array([r[0].pval for r in res])"
   ]
  },
  {
   "cell_type": "code",
   "execution_count": 56,
   "id": "83c72d41",
   "metadata": {},
   "outputs": [
    {
     "data": {
      "text/plain": [
       "array([-0.17916002,  0.13507625, -0.15185185, ...,  0.21990741,\n",
       "        0.11992945, -0.13866667])"
      ]
     },
     "execution_count": 56,
     "metadata": {},
     "output_type": "execute_result"
    }
   ],
   "source": []
  },
  {
   "cell_type": "code",
   "execution_count": 84,
   "id": "b4a18e28",
   "metadata": {},
   "outputs": [
    {
     "data": {
      "image/png": "[encoded data removed]",
      "text/plain": [
       "<Figure size 200x100 with 1 Axes>"
      ]
     },
     "metadata": {},
     "output_type": "display_data"
    }
   ],
   "source": [
    "fig,ax=plt.subplots(figsize=(2,1))\n",
    "ax.hist(sw_mag_l,bins=30)\n",
    "ax.axvline(0.4)\n",
    "ax.xaxis.set_major_locator(MaxNLocator(3))\n",
    "ax.set_xlabel('Magnitude of switch\\n(normalized FR)')\n",
    "sns.despine()\n",
    "ax.set_ylabel('Count')\n",
    "frac = (sw_mag_l>0.4).mean()\n",
    "ax.set_title(f'Simulated neurons\\nFrac(>threshold)={frac:.3f}')\n",
    "\n",
    "figfn = 'shuffle_test_sw_for_sim_sw_mag_hist'\n",
    "ph.save_given_name(fig,figfn,figdir)"
   ]
  },
  {
   "cell_type": "code",
   "execution_count": 85,
   "id": "15525b5b",
   "metadata": {
    "scrolled": true
   },
   "outputs": [],
   "source": [
    "type1err_frac=(pval_all<0.05).mean()"
   ]
  },
  {
   "cell_type": "code",
   "execution_count": 87,
   "id": "a2f00350",
   "metadata": {},
   "outputs": [
    {
     "data": {
      "image/png": "[encoded data removed]",
      "text/plain": [
       "<Figure size 200x100 with 1 Axes>"
      ]
     },
     "metadata": {},
     "output_type": "display_data"
    }
   ],
   "source": [
    "fig,ax=plt.subplots(figsize=(2,1))\n",
    "ax.hist(pval_all,bins=20)\n",
    "ax.axvline(0.05,linestyle=':',color='k')\n",
    "# ax.set_title(f'Simulated neurons\\nFalse positive rate: {type1err_frac} ')\n",
    "ax.set_title(f'Simulated neurons\\nFrac(<0.05)={type1err_frac} ')\n",
    "ax.set_ylabel('Count')\n",
    "ax.set_xlabel('Shuffle test for switching\\nP value')\n",
    "sns.despine()\n",
    "\n",
    "figfn = 'shuffle_test_sw_for_sim_pval_hist'\n",
    "ph.save_given_name(fig,figfn,figdir)"
   ]
  },
  {
   "cell_type": "code",
   "execution_count": 81,
   "id": "6f4111f6",
   "metadata": {},
   "outputs": [
    {
     "data": {
      "text/plain": [
       "0.001"
      ]
     },
     "execution_count": 81,
     "metadata": {},
     "output_type": "execute_result"
    }
   ],
   "source": [
    "is_sw_on=(pval_all<0.05)&(sw_mag_l>0.4)\n",
    "is_sw_on.mean()"
   ]
  },
  {
   "cell_type": "markdown",
   "id": "50a5ee0f",
   "metadata": {},
   "source": [
    "# if just pick the largest change"
   ]
  },
  {
   "cell_type": "code",
   "execution_count": 127,
   "id": "3e80d4a3",
   "metadata": {},
   "outputs": [],
   "source": [
    "cpts = X.diff(axis=1).idxmax(axis=1)\n",
    "X_norm_pwc = X"
   ]
  },
  {
   "cell_type": "code",
   "execution_count": 128,
   "id": "f02e0ffe",
   "metadata": {},
   "outputs": [],
   "source": [
    "peri_sw_l = []\n",
    "sw_mag_l = []\n",
    "\n",
    "for uid, cpt in cpts.items():\n",
    "    st,ed=cpt-3,cpt+3\n",
    "    st = np.maximum(st,0)\n",
    "    ed = np.minimum(ed,ntrial)\n",
    "    sw_mag=X_norm_pwc.loc[uid,cpt] -X_norm_pwc.loc[uid,cpt-1]\n",
    "    sw_mag_l.append(sw_mag)\n",
    "    section_post=X.loc[uid,cpt:ed].reset_index(drop=True)\n",
    "    section_pre=X.loc[uid,st:(cpt-1)]\n",
    "    section_pre.index=section_pre.index - cpt\n",
    "    section_pre = section_pre.sort_index()\n",
    "    peri_sw_l.append(pd.concat([section_pre,section_post]))\n",
    "\n",
    "peri_sw_l = pd.concat(peri_sw_l,axis=1).T\n",
    "sw_mag_l= np.array(sw_mag_l)"
   ]
  },
  {
   "cell_type": "code",
   "execution_count": 134,
   "id": "d5169e06",
   "metadata": {},
   "outputs": [
    {
     "data": {
      "text/plain": [
       "Text(0, 0.5, 'FR (normalized)')"
      ]
     },
     "execution_count": 134,
     "metadata": {},
     "output_type": "execute_result"
    },
    {
     "data": {
      "image/png": "[encoded data removed]",
      "text/plain": [
       "<Figure size 288x144 with 1 Axes>"
      ]
     },
     "metadata": {
      "needs_background": "light"
     },
     "output_type": "display_data"
    }
   ],
   "source": [
    "fig,axs=plt.subplots(1,1,figsize=(4,2))\n",
    "# for ii,thresh in enumerate([0]):\n",
    "ax=axs\n",
    "toplot=peri_sw_l[sw_mag_l>thresh]\n",
    "fig,ax=ph.mean_error_plot(toplot,xs=None,ci_scale=1.96,axis=0,fig=fig,ax=ax,alpha=0.5,label=None,sem=True,linestyle='-',c='C0')\n",
    "#     ax.set_title(f'FR increase > {thresh}')\n",
    "ax.set_xlabel('Trial relative to Max increase')\n",
    "ax.set_ylabel('FR (normalized)')\n",
    "# plt.tight_layout()\n"
   ]
  },
  {
   "cell_type": "code",
   "execution_count": null,
   "id": "fafc14bf",
   "metadata": {},
   "outputs": [],
   "source": []
  },
  {
   "cell_type": "code",
   "execution_count": null,
   "id": "5dcda102",
   "metadata": {},
   "outputs": [],
   "source": []
  },
  {
   "cell_type": "code",
   "execution_count": 103,
   "id": "f7f911d6",
   "metadata": {},
   "outputs": [
    {
     "data": {
      "text/plain": [
       "<Axes: >"
      ]
     },
     "execution_count": 103,
     "metadata": {},
     "output_type": "execute_result"
    },
    {
     "data": {
      "image/png": "[encoded data removed]",
      "text/plain": [
       "<Figure size 432x288 with 1 Axes>"
      ]
     },
     "metadata": {
      "needs_background": "light"
     },
     "output_type": "display_data"
    }
   ],
   "source": [
    "peri_sw_on.mean().plot()"
   ]
  },
  {
   "cell_type": "code",
   "execution_count": null,
   "id": "02e9dc9f",
   "metadata": {},
   "outputs": [],
   "source": []
  }
 ],
 "metadata": {
  "kernelspec": {
   "display_name": "jax",
   "language": "python",
   "name": "jax"
  },
  "language_info": {
   "codemirror_mode": {
    "name": "ipython",
    "version": 3
   },
   "file_extension": ".py",
   "mimetype": "text/x-python",
   "name": "python",
   "nbconvert_exporter": "python",
   "pygments_lexer": "ipython3",
   "version": "3.9.16"
  }
 },
 "nbformat": 4,
 "nbformat_minor": 5
}
