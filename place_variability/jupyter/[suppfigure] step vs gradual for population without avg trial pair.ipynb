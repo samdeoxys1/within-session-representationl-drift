{
 "cells": [
  {
   "cell_type": "code",
   "execution_count": 1,
   "id": "34b48b77",
   "metadata": {},
   "outputs": [
    {
     "name": "stdout",
     "output_type": "stream",
     "text": [
      "67 sessions!\n",
      "67 sessions!\n"
     ]
    },
    {
     "name": "stderr",
     "output_type": "stream",
     "text": [
      "/mnt/home/szheng/ceph/envs/jax/lib/python3.9/site-packages/outdated/utils.py:14: OutdatedPackageWarning: The package pingouin is out of date. Your version is 0.5.2, the latest is 0.5.4.\n",
      "Set the environment variable OUTDATED_IGNORE=1 to disable these warnings.\n",
      "  return warn(\n"
     ]
    }
   ],
   "source": [
    "import numpy as np\n",
    "import scipy\n",
    "import sklearn\n",
    "from sklearn.decomposition import NMF\n",
    "from sklearn.cluster import KMeans\n",
    "from sklearn.mixture import GaussianMixture,BayesianGaussianMixture\n",
    "\n",
    "import pandas as pd\n",
    "\n",
    "import matplotlib.pyplot as plt\n",
    "import seaborn as sns\n",
    "import matplotlib as mpl\n",
    "mpl.rcParams['image.cmap'] = 'Greys'\n",
    "mpl.rcParams['axes.spines.right'] = False\n",
    "mpl.rcParams['axes.spines.top'] = False\n",
    "\n",
    "\n",
    "\n",
    "import sys,os,pdb,copy,pickle\n",
    "from importlib import reload\n",
    "# import pynapple as nap\n",
    "\n",
    "sys.path.append('/mnt/home/szheng/projects/seq_detection2/code')\n",
    "sys.path.append('/mnt/home/szheng/projects/util_code')\n",
    "sys.path.append('/mnt/home/szheng/projects/nmf_analysis')\n",
    "sys.path.append('/mnt/home/szheng/projects/nmf_analysis/scripts')\n",
    "sys.path.append('/mnt/home/szheng/projects/cluster_spikes')\n",
    "sys.path.append('/mnt/home/szheng/projects/place_variability/code')\n",
    "import data_prep_new as dpn\n",
    "import place_cell_analysis as pa\n",
    "import plot_helper as ph\n",
    "import preprocess as prep\n",
    "import nmf_analysis as na\n",
    "import nmf_plot as nmfp\n",
    "reload(na)\n",
    "\n",
    "import raster_new as rn\n",
    "import data_prep_pyn as dpp\n",
    "\n",
    "\n",
    "import change_point_analysis as cpa\n",
    "import change_point_plot as cpp\n",
    "\n",
    "import place_field_analysis as pf\n",
    "\n",
    "import switch_analysis_one_session as saos\n",
    "reload(saos)\n",
    "\n",
    "import process_central_arm as pca \n",
    "import change_point_analysis_central_arm_seperate as cpacas\n",
    "\n",
    "import misc\n",
    "reload(misc)\n",
    "from misc import get_nth_key, get_nth_val"
   ]
  },
  {
   "cell_type": "code",
   "execution_count": 2,
   "id": "de07853c",
   "metadata": {},
   "outputs": [],
   "source": [
    "import matplotlib.pyplot as plt\n",
    "\n",
    "# Set default figure size\n",
    "plt.rcParams['figure.figsize'] = (3, 2)  # width, height in inches\n",
    "\n",
    "# Set default font sizes\n",
    "plt.rcParams['font.size'] = 10  # Default font size\n",
    "mpl.rcParams['axes.spines.right'] = False\n",
    "mpl.rcParams['axes.spines.top'] = False"
   ]
  },
  {
   "cell_type": "code",
   "execution_count": 3,
   "id": "644bdeb3",
   "metadata": {},
   "outputs": [],
   "source": [
    "import matplotlib\n",
    "matplotlib.rcParams['svg.fonttype'] = 'none'"
   ]
  },
  {
   "cell_type": "code",
   "execution_count": 4,
   "id": "489ba01a",
   "metadata": {},
   "outputs": [
    {
     "data": {
      "text/plain": [
       "'/mnt/home/szheng/ceph/place_variability/data/paper'"
      ]
     },
     "execution_count": 4,
     "metadata": {},
     "output_type": "execute_result"
    }
   ],
   "source": [
    "\n",
    "figdir = '/mnt/home/szheng/ceph/place_variability/fig/paper/suppfigure_continuous_vs_discrete_noavgpopdrift'\n",
    "misc.get_or_create_subdir(figdir)\n",
    "data_dir = '/mnt/home/szheng/ceph/place_variability/data/paper'\n",
    "misc.get_or_create_subdir(data_dir)\n"
   ]
  },
  {
   "cell_type": "code",
   "execution_count": 5,
   "id": "08899bc4",
   "metadata": {},
   "outputs": [],
   "source": [
    "import database\n",
    "db = database.db\n",
    "\n",
    "subdb = db.query('owner==\"roman\"').sort_values('n_pyr_putative',ascending=False)\n",
    "subdb = subdb.query('ntrials>=20&n_neurons>=50')\n",
    "to_exclude_sess = ['e16_3m2_211211']\n",
    "subdb=subdb.loc[~subdb['sess_name'].isin(to_exclude_sess)]\n",
    "\n",
    "\n",
    "import pf_recombine_central as pfrc\n",
    "import fr_map_one_session as fmos\n",
    "import switch_detection_one_session as sdos\n",
    "import get_all_switch_add_metrics as gasam\n",
    "\n",
    "import preprocess_one_session as prepos"
   ]
  },
  {
   "cell_type": "code",
   "execution_count": 6,
   "id": "8422ea9d",
   "metadata": {},
   "outputs": [],
   "source": [
    "fn = 'prepped_data_agg.p'\n",
    "fn_full = os.path.join(data_dir,fn)\n",
    "prepped_data_agg = pickle.load(open(fn_full,'rb'))\n",
    "\n",
    "all_fields_recombined_all = prepped_data_agg['all_fields_recombined_all']\n",
    "pf_params_recombined_all=  prepped_data_agg['pf_params_recombined_all']\n",
    "fr_map_trial_df_all= prepped_data_agg['fr_map_trial_df_all']\n",
    "occu_map_all = prepped_data_agg['occu_map_all']\n",
    "fr_map_all = prepped_data_agg['fr_map_all']\n",
    "\n",
    "pval_all = prepped_data_agg['pval_all']\n",
    "X_pwc_all = prepped_data_agg['X_pwc_all']\n",
    "X_raw_all = prepped_data_agg['X_raw_all']\n",
    "changes_df_all = prepped_data_agg['changes_df_all']\n",
    "var_res_all_test = prepped_data_agg['var_res_all']\n",
    "# corr_all = prepped_data_agg['corr_all']\n",
    "all_sw_d_all = prepped_data_agg['all_sw_d_all']\n",
    "all_sw_with_metrics_d_all = prepped_data_agg['all_sw_with_metrics_d_all']\n",
    "best_n_all_test = prepped_data_agg['best_n_all']\n",
    "spk_beh_df_all = prepped_data_agg['spk_beh_df_all']\n",
    "\n",
    "# pf_params_all = prepped_data_agg['pf_params_all']\n",
    "# all_fields_all = prepped_data_agg['all_fields_all']\n",
    "\n",
    "ntrials_per_tt=fr_map_trial_df_all.groupby(level=(0,1,2,3)).apply(lambda x:x.dropna(axis=1,how='all').shape[1])\n",
    "ntrials_mask = ntrials_per_tt.groupby(level=(0,1,2)).apply(lambda x:(x>=7).all()) \n",
    "\n"
   ]
  },
  {
   "cell_type": "code",
   "execution_count": 7,
   "id": "dc9e34c8",
   "metadata": {},
   "outputs": [],
   "source": [
    "savefn_full = os.path.join(data_dir,'per_field_metrics_shtest_with_1cp.p')\n",
    "# pickle.dump(per_field_metrics_all,open(savefn_full,'wb'))\n",
    "per_field_metrics_all=pickle.load(open(savefn_full,'rb'))"
   ]
  },
  {
   "cell_type": "markdown",
   "id": "7c887e7f",
   "metadata": {},
   "source": [
    "# prep session"
   ]
  },
  {
   "cell_type": "markdown",
   "id": "503cdc95",
   "metadata": {},
   "source": [
    "preprocessing: center and normalize each neuron's ratemap; for normalization, scale by the max between the neuron's std and 0.1 of the max std. This way roughly the neurons with the top 45% of the variance get to have std 1 after normalization. This way the data won't be heavily biased by noise coming from neurons with too low firing rate. \n",
    "Since there are way more features (n_neuron x n_position_bin) than samples (n_trial), we can use PCA is used to drasitically reduce the number of features without lossing information. We keep the components that together explain just above 95% of the variance and discard the rest."
   ]
  },
  {
   "cell_type": "code",
   "execution_count": 35,
   "id": "8da3aedd",
   "metadata": {},
   "outputs": [],
   "source": []
  },
  {
   "cell_type": "code",
   "execution_count": 38,
   "id": "270c2f87",
   "metadata": {},
   "outputs": [
    {
     "name": "stdout",
     "output_type": "stream",
     "text": [
      "0.9878613691041032\n"
     ]
    }
   ],
   "source": [
    "# ani,sess=subdb.iloc[0][['animal_name.1','sess_name']]\n",
    "\n",
    "# ti=0,\n",
    "# tt=0\n",
    "# fr_map_trial_df_onett=fr_map_trial_df_all.loc[(ani,sess)].loc[(ti,tt),:].droplevel((0,1))\n",
    "# # fr_map_trial_df_onett=fr_map_trial_df_all.loc[(ani,sess)].loc[(ti,tt),:]\n",
    "# xx=prep_one_sess(fr_map_trial_df_onett)\n",
    "# signal = prep_one_sess(fr_map_trial_df_onett)"
   ]
  },
  {
   "cell_type": "code",
   "execution_count": 9,
   "id": "4c6de001",
   "metadata": {},
   "outputs": [
    {
     "data": {
      "text/plain": [
       "<module 'step_vs_gradual_analysis_population' from '/mnt/home/szheng/projects/place_variability/code/step_vs_gradual_analysis_population.py'>"
      ]
     },
     "execution_count": 9,
     "metadata": {},
     "output_type": "execute_result"
    }
   ],
   "source": [
    "import step_vs_gradual_analysis_population as svgap\n",
    "reload(svgap)"
   ]
  },
  {
   "cell_type": "code",
   "execution_count": 43,
   "id": "072aa87d",
   "metadata": {},
   "outputs": [
    {
     "name": "stdout",
     "output_type": "stream",
     "text": [
      "0.9878613691041032\n"
     ]
    }
   ],
   "source": [
    "signal = svgap.prep_one_sess(fr_map_trial_df_onett)"
   ]
  },
  {
   "cell_type": "markdown",
   "id": "0a6e661a",
   "metadata": {},
   "source": [
    "# fit data + model comparison"
   ]
  },
  {
   "cell_type": "markdown",
   "id": "ab5b99e8",
   "metadata": {},
   "source": [
    "### fit change point model and get r2"
   ]
  },
  {
   "cell_type": "code",
   "execution_count": 39,
   "id": "f3c44457",
   "metadata": {},
   "outputs": [],
   "source": [
    "import ruptures as rpt\n",
    "def fit_cpd_get_r2_multi_d(signal,ncpts, model_type='dyn',cost='l2',min_size=2,jump=1):\n",
    "    '''\n",
    "    assuming l2\n",
    "    '''\n",
    "    if model_type=='dyn':\n",
    "        model = rpt.Dynp(model=cost,jump=jump,min_size=min_size)\n",
    "    c=model.fit(signal)\n",
    "    cpts = model.predict(ncpts)\n",
    "    n_trial = signal.shape[0]\n",
    "    err=c.cost.sum_of_costs(list(cpts))\n",
    "    err_div_trial=err / n_trial\n",
    "    sum_of_var = np.var(signal,axis=0).sum()\n",
    "    r2=(sum_of_var - err_div_trial) / sum_of_var\n",
    "\n",
    "    return cpts, r2\n"
   ]
  },
  {
   "cell_type": "code",
   "execution_count": 51,
   "id": "6eae3527",
   "metadata": {},
   "outputs": [],
   "source": [
    "import statsmodels.api as sm\n",
    "def fit_poly_regress_get_r2(xx,order=1,cost='l2',verbose=True):\n",
    "    if cost=='l2':\n",
    "        xs_l = []\n",
    "        for o in range(1,order+1):\n",
    "            xs = np.arange(len(xx)) ** o \n",
    "            xs_l.append(xs)\n",
    "        xs_l = np.array(xs_l).T\n",
    "#         pdb.set_trace()\n",
    "        xs_l = sm.add_constant(xs_l)\n",
    "        model = sm.OLS(xx,xs_l)\n",
    "        results = model.fit()\n",
    "        if verbose:\n",
    "            print(results.summary())\n",
    "        xx_pred=results.predict()\n",
    "        exp_var=np.var(xx_pred)\n",
    "        data_var = np.var(xx)\n",
    "        r2 = results.rsquared\n",
    "        return r2,xx_pred,exp_var,data_var\n",
    "            \n",
    "    else:\n",
    "        print('not implemented')\n",
    "        pass\n",
    "\n",
    "def fit_poly_regress_get_r2_multi_d(signal,order=1):\n",
    "    '''\n",
    "    signal: n_sample (i.e. n_trial) x n_feature\n",
    "    '''\n",
    "    exp_var_all = []\n",
    "    data_var_all = []\n",
    "    xx_pred_all = []\n",
    "    for ii in range(signal.shape[1]):\n",
    "        r2,xx_pred,exp_var,data_var = fit_poly_regress_get_r2(signal[:,ii],order=order,verbose=False)\n",
    "        exp_var_all.append(exp_var)\n",
    "        data_var_all.append(data_var)\n",
    "        xx_pred_all.append(xx_pred)\n",
    "    r2 = np.sum(exp_var_all) / np.sum(data_var_all)\n",
    "    xx_pred_all = np.array(xx_pred_all).T\n",
    "    return r2,xx_pred_all\n",
    "\n",
    "\n"
   ]
  },
  {
   "cell_type": "markdown",
   "id": "15cd7a1e",
   "metadata": {},
   "source": [
    "### sweep through"
   ]
  },
  {
   "cell_type": "code",
   "execution_count": 63,
   "id": "0ba64646",
   "metadata": {},
   "outputs": [],
   "source": [
    "order = 1"
   ]
  },
  {
   "cell_type": "code",
   "execution_count": 10,
   "id": "6ab4810f",
   "metadata": {
    "scrolled": true
   },
   "outputs": [
    {
     "name": "stdout",
     "output_type": "stream",
     "text": [
      "0.9597625759895652\n",
      "0.9587050937398117\n",
      "0.9528183067134929\n",
      "0.9557412878764502\n",
      "0.9662578672753094\n",
      "1.0\n",
      "0.9624675374898326\n",
      "0.9574518373904464\n",
      "0.9724324394665443\n",
      "0.9999999999999999\n",
      "0.9759324508272817\n",
      "0.9597856755723435\n",
      "0.9664024025541135\n",
      "0.9750019442060022\n",
      "0.9507815961037396\n",
      "0.9524616748092857\n",
      "0.9631701852844656\n",
      "0.9724083820578997\n",
      "0.9581738464379365\n",
      "0.9561736431780803\n",
      "1.0\n",
      "1.0\n",
      "0.9999999999999999\n",
      "1.0\n",
      "1.0\n",
      "0.9999999999999999\n",
      "1.0\n",
      "0.972088165976192\n",
      "0.9693508994406916\n",
      "0.9647948801331179\n",
      "0.9573481102535253\n",
      "0.9711893702248284\n",
      "0.9503362959020927\n",
      "0.9733763176128654\n",
      "1.0\n",
      "1.0\n",
      "1.0000000000000002\n",
      "0.9512589954787041\n",
      "0.9555227362148797\n",
      "0.962456590573221\n",
      "0.9517163091555234\n",
      "0.9524317203361973\n",
      "0.9562833189856111\n",
      "0.9629485535600184\n",
      "0.9638744295919429\n",
      "0.9637739353214413\n",
      "0.9601008390220297\n",
      "0.9999999999999999\n",
      "1.0\n",
      "0.9605941142502404\n",
      "0.9670935187614157\n",
      "0.9999999999999999\n",
      "0.9664352361189026\n",
      "1.0\n",
      "0.9530522069369698\n",
      "0.9999999999999999\n",
      "1.0\n",
      "0.9999999999999998\n",
      "0.9530916014010157\n",
      "0.9999999999999998\n",
      "0.9610718802149057\n",
      "1.0\n",
      "0.9610050408109545\n",
      "0.9617832147503591\n",
      "0.9999999999999999\n",
      "1.0\n",
      "0.9704020227973901\n",
      "0.9510293335281945\n",
      "0.9685605922280652\n",
      "0.9999999999999999\n",
      "0.9716718088524433\n",
      "0.951310019374914\n",
      "0.9658841230576513\n",
      "0.951523165702991\n",
      "0.9652798185231792\n",
      "1.0\n",
      "0.9559524442368306\n",
      "1.0\n",
      "0.9519728553183352\n",
      "0.9999999999999998\n",
      "0.9692408672372828\n",
      "0.9999999999999999\n",
      "0.9526384648730659\n",
      "1.0\n",
      "0.9744676905701958\n",
      "1.0\n",
      "0.9595478454524811\n",
      "1.0000000000000002\n",
      "0.9569138244620783\n",
      "0.9714059924503202\n",
      "0.9712110399965794\n",
      "0.957832814441947\n",
      "0.9771362640124018\n",
      "0.9999999999999999\n",
      "0.9591064345021963\n",
      "1.0\n",
      "0.9743379604953544\n",
      "0.9518903360692283\n",
      "0.9999999999999999\n",
      "0.9647970110258988\n",
      "0.9516174358787144\n",
      "0.9525612240424083\n",
      "0.9716735859163371\n",
      "0.9999999999999999\n",
      "0.9530176892079996\n",
      "1.0000000000000002\n",
      "0.9676646588338387\n",
      "1.0\n"
     ]
    }
   ],
   "source": [
    "# prep data all\n",
    "reload(svgap)\n",
    "gpb = fr_map_trial_df_all.groupby(level=(0,1,2,3),sort=False)\n",
    "signal_all = {}\n",
    "for k,val in gpb:\n",
    "    fr_map_trial_df_onett = val.loc[k].dropna(axis=1,how='all')\n",
    "    signal = svgap.prep_one_sess(fr_map_trial_df_onett)\n",
    "    signal_all[k] = signal\n",
    "# signal_all = pd.concat(signal_all,axis=0)"
   ]
  },
  {
   "cell_type": "code",
   "execution_count": null,
   "id": "897a3679",
   "metadata": {},
   "outputs": [],
   "source": [
    "# next add in loop order"
   ]
  },
  {
   "cell_type": "code",
   "execution_count": 31,
   "id": "6619b202",
   "metadata": {},
   "outputs": [
    {
     "name": "stdout",
     "output_type": "stream",
     "text": [
      "CPU times: user 2.03 s, sys: 0 ns, total: 2.03 s\n",
      "Wall time: 2.04 s\n"
     ]
    }
   ],
   "source": [
    "%%time\n",
    "reload(svgap)\n",
    "r2_df_d_all = svgap.fit_cpd_poly_regress_multi_order_all(signal_all,order_l=[1,2,3])\n"
   ]
  },
  {
   "cell_type": "code",
   "execution_count": 32,
   "id": "b1a73001",
   "metadata": {},
   "outputs": [
    {
     "name": "stdout",
     "output_type": "stream",
     "text": [
      "N = 108; Effect size = -0.11442559626238673; wilcoxon p=0.0061969886093609025\n",
      "N = 106; Effect size = -0.19134635206163456; wilcoxon p=0.010439830637135545\n",
      "N = 104; Effect size = -0.2440644709806308; wilcoxon p=0.0005666298009433705\n"
     ]
    },
    {
     "data": {
      "image/png": "[encoded data removed]",
      "text/plain": [
       "<Figure size 86.4x86.4 with 1 Axes>"
      ]
     },
     "metadata": {
      "needs_background": "light"
     },
     "output_type": "display_data"
    },
    {
     "data": {
      "image/png": "[encoded data removed]",
      "text/plain": [
       "<Figure size 86.4x86.4 with 1 Axes>"
      ]
     },
     "metadata": {
      "needs_background": "light"
     },
     "output_type": "display_data"
    },
    {
     "data": {
      "image/png": "[encoded data removed]",
      "text/plain": [
       "<Figure size 86.4x86.4 with 1 Axes>"
      ]
     },
     "metadata": {
      "needs_background": "light"
     },
     "output_type": "display_data"
    }
   ],
   "source": [
    "# fig,axs=plt.subplots(5,1,figsize=(4,20))\n",
    "dosave = True\n",
    "for ii,order in enumerate(r2_df_d_all.columns.get_level_values(0).unique()):\n",
    "#     fig,ax=plt.subplots(figsize=(3,3))\n",
    "    fig,ax=plt.subplots(figsize=(1.2,1.2))\n",
    "    ax.set_aspect('equal')\n",
    "    ax.scatter(r2_df_d_all.loc[:,(order,'reg')],r2_df_d_all.loc[:,(order,'step')],s=1,marker='o')\n",
    "    \n",
    "    xx=r2_df_d_all.loc[:,(order,'step_minus_reg')].dropna()\n",
    "    misc.print_stats_onevar(xx)\n",
    "    \n",
    "    frac_step_larger=(xx > 0).mean()\n",
    "    ax.plot([0,1],[0,1],c='k',alpha=0.5)\n",
    "#     ax.set_title(f'Num. change point (polynomial order)={order}\\nFrac. CPM > regression={frac_step_larger:.2f}')\n",
    "    # to use the png version, get rid of as much text as possible\n",
    "#     ax.set_title(f'Frac. (CPM better)={frac_step_larger:.2f}',fontsize=10)\n",
    "    ax.set_title(f'{frac_step_larger:.2f}',fontsize=10)\n",
    "#     ax.set_xticklabels(ax.get_xticklabels(),fontsize=8)\n",
    "#     ax.set_yticklabels(ax.get_xticklabels(),fontsize=8)\n",
    "    ax.set_xticks([0,1])\n",
    "    ax.set_yticks([0,1])\n",
    "    \n",
    "#     ax.set_xlabel('R2 polynomial regression')\n",
    "#     ax.set_ylabel('R2 change point model')\n",
    "    if dosave:\n",
    "        figfn = f'population_pc_state_scatter_R2_cpd_vs_polyreg_order{order}'\n",
    "        ph.save_given_name(fig,figfn,figdir,dpi=900)\n"
   ]
  },
  {
   "cell_type": "markdown",
   "id": "72625964",
   "metadata": {},
   "source": [
    "# example sessions PCA"
   ]
  },
  {
   "cell_type": "code",
   "execution_count": 12,
   "id": "fdf2fff6",
   "metadata": {},
   "outputs": [],
   "source": [
    "ti=0\n",
    "tt=0\n",
    "ani_sess_l =[]\n",
    "for i in range(3):\n",
    "    row=subdb.iloc[i]\n",
    "    ani_sess_l.append((row['animal_name.1'],row['sess_name'],ti,tt)) "
   ]
  },
  {
   "cell_type": "code",
   "execution_count": 14,
   "id": "433f4835",
   "metadata": {},
   "outputs": [],
   "source": [
    "for k in ani_sess_l:\n",
    "    r2_df_d_all.loc[k]"
   ]
  },
  {
   "cell_type": "code",
   "execution_count": 15,
   "id": "9cabf16c",
   "metadata": {
    "scrolled": true
   },
   "outputs": [
    {
     "data": {
      "text/plain": [
       "1  step              0.161273\n",
       "   reg               0.170462\n",
       "   step_minus_reg   -0.009189\n",
       "2  step              0.259780\n",
       "   reg               0.266829\n",
       "   step_minus_reg   -0.007049\n",
       "3  step              0.338619\n",
       "   reg               0.340633\n",
       "   step_minus_reg   -0.002014\n",
       "Name: (e15_13f1, e15_13f1_220118, 0, 0.0), dtype: float64"
      ]
     },
     "execution_count": 15,
     "metadata": {},
     "output_type": "execute_result"
    }
   ],
   "source": []
  },
  {
   "cell_type": "code",
   "execution_count": 23,
   "id": "d236dfcf",
   "metadata": {},
   "outputs": [],
   "source": [
    "from sklearn.decomposition import PCA\n",
    "def plot_pc_one(signal,fig=None,ax=None):\n",
    "    pca = PCA(n_components=2)\n",
    "    signal_reduced = pca.fit_transform(signal)\n",
    "    data=signal_reduced\n",
    "    n_trial =data.shape[0]\n",
    "    \n",
    "    if ax is None:\n",
    "        fig,ax=plt.subplots()\n",
    "    cmap = plt.cm.Spectral\n",
    "    norm = plt.Normalize(vmin=0, vmax=n_trial)\n",
    "\n",
    "    for i in range(n_trial-1):\n",
    "        ax.plot(data[i:i+2, 0], data[i:i+2, 1], linestyle=':', marker='o',ms=3, color=cmap(norm(i)))\n",
    "    ax.set_xlabel('PC 1')\n",
    "    ax.set_ylabel('PC 2')\n",
    "    # Adding a colorbar\n",
    "    cm = plt.cm.ScalarMappable(cmap=cmap, norm=norm)\n",
    "    cm.set_array([])\n",
    "    fig.colorbar(cm, ticks=np.arange(0, n_trial+1, 3),ax=ax)\n",
    "\n",
    "    return fig,ax\n"
   ]
  },
  {
   "cell_type": "code",
   "execution_count": 18,
   "id": "862fa9bb",
   "metadata": {},
   "outputs": [],
   "source": [
    "row = r2_df_d_all.loc[k,3]"
   ]
  },
  {
   "cell_type": "code",
   "execution_count": 19,
   "id": "2fd82a06",
   "metadata": {},
   "outputs": [
    {
     "data": {
      "text/plain": [
       "step              0.338619\n",
       "reg               0.340633\n",
       "step_minus_reg   -0.002014\n",
       "Name: (e15_13f1, e15_13f1_220118, 0, 0.0), dtype: float64"
      ]
     },
     "execution_count": 19,
     "metadata": {},
     "output_type": "execute_result"
    }
   ],
   "source": [
    "row"
   ]
  },
  {
   "cell_type": "code",
   "execution_count": 27,
   "id": "b45ca8bd",
   "metadata": {},
   "outputs": [
    {
     "data": {
      "image/png": "[encoded data removed]",
      "text/plain": [
       "<Figure size 165.6x144 with 2 Axes>"
      ]
     },
     "metadata": {
      "needs_background": "light"
     },
     "output_type": "display_data"
    },
    {
     "data": {
      "image/png": "[encoded data removed]",
      "text/plain": [
       "<Figure size 165.6x144 with 2 Axes>"
      ]
     },
     "metadata": {
      "needs_background": "light"
     },
     "output_type": "display_data"
    },
    {
     "data": {
      "image/png": "[encoded data removed]",
      "text/plain": [
       "<Figure size 165.6x144 with 2 Axes>"
      ]
     },
     "metadata": {
      "needs_background": "light"
     },
     "output_type": "display_data"
    }
   ],
   "source": [
    "# fig,axs=plt.subplots(3,1,figsize=(3,9))\n",
    "dosave=True\n",
    "order = 3\n",
    "for ii,k in enumerate(ani_sess_l):\n",
    "    fig,ax=plt.subplots(figsize=(2.3,2))\n",
    "\n",
    "    signal = signal_all[k] \n",
    "    fig,ax = plot_pc_one(signal,fig=fig,ax=ax)\n",
    "    row = r2_df_d_all.loc[k,order] # order 3!! change according to order used in individual PC visualization\n",
    "    ax.set_title(f'{k[1]}\\nR2 reg.: {row.loc[\"reg\"]:.03f}\\nR2 CPM: {row.loc[\"step\"]:.03f}')\n",
    "    if dosave:\n",
    "        figfn = f'pv_pc_{k}'\n",
    "        ph.save_given_name(fig,figfn,figdir,dpi=900)\n",
    "    "
   ]
  },
  {
   "cell_type": "markdown",
   "id": "a8d9f24f",
   "metadata": {},
   "source": [
    "# example fit of the PCs"
   ]
  },
  {
   "cell_type": "code",
   "execution_count": null,
   "id": "55cadabe",
   "metadata": {},
   "outputs": [],
   "source": [
    "def get_"
   ]
  },
  {
   "cell_type": "code",
   "execution_count": 100,
   "id": "38027425",
   "metadata": {},
   "outputs": [],
   "source": [
    "def fit_plot_first_n_pc(signal,n_pc=3,order=3,fig=None,axs=None):\n",
    "    if axs is None:\n",
    "        fig,axs=plt.subplots(1,n_pc,figsize=(2*n_pc,2))\n",
    "    for i in range(n_pc):\n",
    "        ax=axs[i]\n",
    "        xx=signal[:,i]\n",
    "        r2_reg,xx_pred_reg,exp_var,data_var = svgap.fit_poly_regress_get_r2(xx,order=order,cost='l2',verbose=False)\n",
    "        cpts, r2 = svgap.fit_cpd_get_r2_multi_d(signal,order)\n",
    "        cpts = np.insert(cpts,0,0)\n",
    "        xx_pred_step = cpa.predict_from_cpts(xx,cpts)\n",
    "        r2_step = np.var(xx_pred_step) / np.var(xx)\n",
    "        if ax is None:\n",
    "            fig,ax=plt.subplots()\n",
    "        ax.plot(xx,marker='o',label='raw',c='grey',ms=3)\n",
    "        ax.plot(xx_pred_reg,label='fitted regression',c='C1')\n",
    "        ax.plot(xx_pred_step,label='fitted CPM',c='C0')\n",
    "        ax.set_title(f'PC {i}\\nR2 reg.: {r2_reg:.02f}\\nR2 CPM: {r2_step:.02f}')\n",
    "        ax.set_xlabel('Trial')\n",
    "        sns.despine()\n",
    "    ax.legend(bbox_to_anchor=[1.05,1],frameon=False)\n",
    "    plt.tight_layout()\n",
    "    return fig,axs\n",
    "    \n",
    "    \n",
    "    \n",
    "    "
   ]
  },
  {
   "cell_type": "code",
   "execution_count": null,
   "id": "e7a6844d",
   "metadata": {},
   "outputs": [],
   "source": []
  },
  {
   "cell_type": "code",
   "execution_count": null,
   "id": "c827a10d",
   "metadata": {},
   "outputs": [],
   "source": []
  },
  {
   "cell_type": "code",
   "execution_count": 104,
   "id": "ab5ebd3b",
   "metadata": {},
   "outputs": [
    {
     "data": {
      "image/png": "[encoded data removed]",
      "text/plain": [
       "<Figure size 432x144 with 3 Axes>"
      ]
     },
     "metadata": {
      "needs_background": "light"
     },
     "output_type": "display_data"
    },
    {
     "data": {
      "image/png": "[encoded data removed]",
      "text/plain": [
       "<Figure size 432x144 with 3 Axes>"
      ]
     },
     "metadata": {
      "needs_background": "light"
     },
     "output_type": "display_data"
    },
    {
     "data": {
      "image/png": "[encoded data removed]",
      "text/plain": [
       "<Figure size 432x144 with 3 Axes>"
      ]
     },
     "metadata": {
      "needs_background": "light"
     },
     "output_type": "display_data"
    }
   ],
   "source": [
    "# fig,axs=plt.subplots(3,1,figsize=(3,9))\n",
    "dosave=True\n",
    "for ii,k in enumerate(ani_sess_l):\n",
    "    signal = signal_all[k]\n",
    "    fig,axs=fit_plot_first_n_pc(signal)\n",
    "    if dosave:\n",
    "        figfn = f'pv_pc_reg_step_fit_{k}'\n",
    "        ph.save_given_name(fig,figfn,figdir,dpi=900)\n",
    "    "
   ]
  },
  {
   "cell_type": "code",
   "execution_count": 101,
   "id": "e8742d36",
   "metadata": {},
   "outputs": [
    {
     "data": {
      "text/plain": [
       "(<Figure size 432x144 with 3 Axes>,\n",
       " array([<Axes: title={'center': 'PC 0\\nR2 reg.: 0.88\\nR2 CPM: 0.93'}, xlabel='Trial'>,\n",
       "        <Axes: title={'center': 'PC 1\\nR2 reg.: 0.68\\nR2 CPM: 0.44'}, xlabel='Trial'>,\n",
       "        <Axes: title={'center': 'PC 2\\nR2 reg.: 0.24\\nR2 CPM: 0.09'}, xlabel='Trial'>],\n",
       "       dtype=object))"
      ]
     },
     "execution_count": 101,
     "metadata": {},
     "output_type": "execute_result"
    },
    {
     "data": {
      "image/png": "[encoded data removed]",
      "text/plain": [
       "<Figure size 432x144 with 3 Axes>"
      ]
     },
     "metadata": {
      "needs_background": "light"
     },
     "output_type": "display_data"
    }
   ],
   "source": []
  },
  {
   "cell_type": "code",
   "execution_count": null,
   "id": "b37f2bc2",
   "metadata": {},
   "outputs": [],
   "source": [
    "# fig,axs=plt.subplots(3,1,figsize=(3,9))\n",
    "# dosave=True\n",
    "for ii,k in enumerate(ani_sess_l):\n",
    "    fig,ax=plt.subplots(figsize=(2.3,2))\n",
    "\n",
    "    signal = signal_all[k]\n",
    "#     fig,ax = plot_pc_one(signal,fig=fig,ax=ax)\n",
    "    ax.set_title(k[1])\n",
    "#     if dosave:\n",
    "#         figfn = f'pv_pc_{k}'\n",
    "#         ph.save_given_name(fig,figfn,figdir,dpi=900)\n",
    "    "
   ]
  },
  {
   "cell_type": "code",
   "execution_count": null,
   "id": "1fc8b3cc",
   "metadata": {},
   "outputs": [],
   "source": []
  },
  {
   "cell_type": "code",
   "execution_count": null,
   "id": "313995c9",
   "metadata": {},
   "outputs": [],
   "source": [
    "pca = PCA(n_components=2)\n",
    "# pca = umap.UMAP(n_components=2,n_neighbors=4)\n",
    "signal_reduced = pca.fit_transform(signal)\n",
    "n_trial =signal.shape[0]\n",
    "data =signal_reduced\n",
    "\n",
    "fig,ax=plt.subplots()\n",
    "cmap = plt.cm.Spectral\n",
    "norm = plt.Normalize(vmin=0, vmax=n_trial)\n",
    "\n",
    "for i in range(n_trial-1):\n",
    "    ax.plot(data[i:i+2, 0], data[i:i+2, 1], linestyle=':', marker='o', color=cmap(norm(i)))\n",
    "\n",
    "# Adding a colorbar\n",
    "cm = plt.cm.ScalarMappable(cmap=cmap, norm=norm)\n",
    "cm.set_array([])\n",
    "plt.colorbar(cm, ticks=np.arange(0, n_trial+1, 2))\n",
    "\n",
    "\n",
    "# ax.plot(signal_reduced[:,0],signal_reduced[:,1],marker='o',linestyle=':')"
   ]
  },
  {
   "cell_type": "code",
   "execution_count": null,
   "id": "c83afdbf",
   "metadata": {},
   "outputs": [],
   "source": []
  },
  {
   "cell_type": "code",
   "execution_count": null,
   "id": "b5a2581e",
   "metadata": {},
   "outputs": [],
   "source": [
    "signal_all"
   ]
  },
  {
   "cell_type": "code",
   "execution_count": 27,
   "id": "e637861d",
   "metadata": {},
   "outputs": [
    {
     "data": {
      "text/plain": [
       "<module 'misc' from '/mnt/home/szheng/projects/util_code/misc.py'>"
      ]
     },
     "execution_count": 27,
     "metadata": {},
     "output_type": "execute_result"
    }
   ],
   "source": [
    "reload(misc)"
   ]
  },
  {
   "cell_type": "code",
   "execution_count": 23,
   "id": "b8304afb",
   "metadata": {},
   "outputs": [],
   "source": [
    "\n",
    "efsz = xx.mean()/xx.std()\n",
    "_,pval=scipy.stats.wilcoxon(xx)\n",
    "print(f'N = {xx.shape[0]}; Effect size = {efsz}; wilxocon p={pval}')\n"
   ]
  },
  {
   "cell_type": "code",
   "execution_count": 25,
   "id": "491e72c0",
   "metadata": {
    "scrolled": true
   },
   "outputs": [
    {
     "data": {
      "text/plain": [
       "-0.2440644709806308"
      ]
     },
     "execution_count": 25,
     "metadata": {},
     "output_type": "execute_result"
    }
   ],
   "source": []
  },
  {
   "cell_type": "code",
   "execution_count": 59,
   "id": "a8ac99a9",
   "metadata": {},
   "outputs": [],
   "source": [
    "r2,xx_pred_all = fit_poly_regress_get_r2_multi_d(signal,order=3)"
   ]
  },
  {
   "cell_type": "code",
   "execution_count": 61,
   "id": "28903fae",
   "metadata": {},
   "outputs": [
    {
     "data": {
      "text/plain": [
       "[<matplotlib.lines.Line2D at 0x1554fca234f0>]"
      ]
     },
     "execution_count": 61,
     "metadata": {},
     "output_type": "execute_result"
    },
    {
     "data": {
      "image/png": "[encoded data removed]",
      "text/plain": [
       "<Figure size 432x288 with 1 Axes>"
      ]
     },
     "metadata": {
      "needs_background": "light"
     },
     "output_type": "display_data"
    }
   ],
   "source": [
    "plt.plot(xx_pred_all[:,0])"
   ]
  },
  {
   "cell_type": "code",
   "execution_count": null,
   "id": "1837d335",
   "metadata": {},
   "outputs": [],
   "source": []
  }
 ],
 "metadata": {
  "kernelspec": {
   "display_name": "jax",
   "language": "python",
   "name": "jax"
  },
  "language_info": {
   "codemirror_mode": {
    "name": "ipython",
    "version": 3
   },
   "file_extension": ".py",
   "mimetype": "text/x-python",
   "name": "python",
   "nbconvert_exporter": "python",
   "pygments_lexer": "ipython3",
   "version": "3.9.16"
  }
 },
 "nbformat": 4,
 "nbformat_minor": 5
}
