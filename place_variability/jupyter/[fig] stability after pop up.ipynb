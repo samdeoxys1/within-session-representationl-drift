{
 "cells": [
  {
   "cell_type": "code",
   "execution_count": 2,
   "id": "490d6fdb",
   "metadata": {},
   "outputs": [
    {
     "name": "stdout",
     "output_type": "stream",
     "text": [
      "67 sessions!\n",
      "67 sessions!\n"
     ]
    },
    {
     "name": "stderr",
     "output_type": "stream",
     "text": [
      "/mnt/home/szheng/ceph/envs/jax/lib/python3.9/site-packages/outdated/utils.py:14: OutdatedPackageWarning: The package pingouin is out of date. Your version is 0.5.2, the latest is 0.5.3.\n",
      "Set the environment variable OUTDATED_IGNORE=1 to disable these warnings.\n",
      "  return warn(\n"
     ]
    }
   ],
   "source": [
    "import numpy as np\n",
    "import scipy\n",
    "import sklearn\n",
    "from sklearn.decomposition import NMF\n",
    "from sklearn.cluster import KMeans\n",
    "from sklearn.mixture import GaussianMixture,BayesianGaussianMixture\n",
    "\n",
    "import pandas as pd\n",
    "\n",
    "import matplotlib.pyplot as plt\n",
    "import seaborn as sns\n",
    "import matplotlib as mpl\n",
    "mpl.rcParams['image.cmap'] = 'Greys'\n",
    "mpl.rcParams['axes.spines.right'] = False\n",
    "mpl.rcParams['axes.spines.top'] = False\n",
    "\n",
    "\n",
    "\n",
    "import sys,os,pdb,copy,pickle\n",
    "from importlib import reload\n",
    "# import pynapple as nap\n",
    "\n",
    "sys.path.append('/mnt/home/szheng/projects/seq_detection2/code')\n",
    "sys.path.append('/mnt/home/szheng/projects/util_code')\n",
    "sys.path.append('/mnt/home/szheng/projects/nmf_analysis')\n",
    "sys.path.append('/mnt/home/szheng/projects/nmf_analysis/scripts')\n",
    "sys.path.append('/mnt/home/szheng/projects/cluster_spikes')\n",
    "sys.path.append('/mnt/home/szheng/projects/place_variability/code')\n",
    "import data_prep_new as dpn\n",
    "import place_cell_analysis as pa\n",
    "import plot_helper as ph\n",
    "import preprocess as prep\n",
    "import nmf_analysis as na\n",
    "import nmf_plot as nmfp\n",
    "reload(na)\n",
    "\n",
    "import raster_new as rn\n",
    "import data_prep_pyn as dpp\n",
    "\n",
    "\n",
    "import change_point_analysis as cpa\n",
    "import change_point_plot as cpp\n",
    "\n",
    "import place_field_analysis as pf\n",
    "\n",
    "import switch_analysis_one_session as saos\n",
    "reload(saos)\n",
    "\n",
    "import process_central_arm as pca \n",
    "import change_point_analysis_central_arm_seperate as cpacas\n",
    "\n",
    "import misc\n",
    "reload(misc)\n",
    "from misc import get_nth_key, get_nth_val"
   ]
  },
  {
   "cell_type": "code",
   "execution_count": 3,
   "id": "18c8c9e0",
   "metadata": {},
   "outputs": [],
   "source": [
    "import matplotlib\n",
    "matplotlib.rcParams['svg.fonttype'] = 'none'\n"
   ]
  },
  {
   "cell_type": "code",
   "execution_count": 4,
   "id": "844c05ad",
   "metadata": {},
   "outputs": [
    {
     "data": {
      "text/plain": [
       "'/mnt/home/szheng/ceph/place_variability/data/paper'"
      ]
     },
     "execution_count": 4,
     "metadata": {},
     "output_type": "execute_result"
    }
   ],
   "source": [
    "figdir = '/mnt/home/szheng/ceph/place_variability/fig/paper/figure_stability_after_switch'\n",
    "misc.get_or_create_subdir(figdir)\n",
    "data_dir = '/mnt/home/szheng/ceph/place_variability/data/paper'\n",
    "misc.get_or_create_subdir(data_dir)"
   ]
  },
  {
   "cell_type": "code",
   "execution_count": 5,
   "id": "b64e31ef",
   "metadata": {},
   "outputs": [],
   "source": [
    "import database\n",
    "db = database.db\n",
    "\n",
    "subdb = db.query('owner==\"roman\"').sort_values('n_pyr_putative',ascending=False)\n",
    "subdb = subdb.query('ntrials>=20&n_neurons>=50')\n",
    "to_exclude_sess = ['e16_3m2_211211']\n",
    "subdb=subdb.loc[~subdb['sess_name'].isin(to_exclude_sess)]\n",
    "\n",
    "\n",
    "import pf_recombine_central as pfrc\n",
    "import fr_map_one_session as fmos\n",
    "import switch_detection_one_session as sdos\n",
    "import get_all_switch_add_metrics as gasam\n",
    "\n",
    "import preprocess_one_session as prepos"
   ]
  },
  {
   "cell_type": "code",
   "execution_count": 6,
   "id": "42762a3e",
   "metadata": {},
   "outputs": [],
   "source": [
    "fn = 'prepped_data_agg.p'\n",
    "fn_full = os.path.join(data_dir,fn)\n",
    "prepped_data_agg = pickle.load(open(fn_full,'rb'))\n",
    "\n",
    "all_fields_recombined_all = prepped_data_agg['all_fields_recombined_all']\n",
    "pf_params_recombined_all=  prepped_data_agg['pf_params_recombined_all']\n",
    "fr_map_trial_df_all= prepped_data_agg['fr_map_trial_df_all']\n",
    "pval_all = prepped_data_agg['pval_all']\n",
    "X_pwc_all = prepped_data_agg['X_pwc_all']\n",
    "X_raw_all = prepped_data_agg['X_raw_all']\n",
    "changes_df_all = prepped_data_agg['changes_df_all']\n",
    "var_res_all = prepped_data_agg['var_res_all']\n",
    "corr_all = prepped_data_agg['corr_all']\n",
    "all_sw_d_all = prepped_data_agg['all_sw_d_all']\n",
    "all_sw_with_metrics_d_all = prepped_data_agg['all_sw_with_metrics_d_all']\n",
    "best_n_all = prepped_data_agg['best_n_all']\n",
    "spk_beh_df_all = prepped_data_agg['spk_beh_df_all']\n",
    "\n",
    "\n",
    "\n",
    "ntrials_per_tt=fr_map_trial_df_all.groupby(level=(0,1,2,3)).apply(lambda x:x.dropna(axis=1,how='all').shape[1])\n",
    "\n",
    "ntrials_mask = ntrials_per_tt.groupby(level=(0,1,2)).apply(lambda x:(x>=7).all()) "
   ]
  },
  {
   "cell_type": "code",
   "execution_count": 7,
   "id": "32827e25",
   "metadata": {},
   "outputs": [],
   "source": [
    "# load metrics\n",
    "import pickle\n",
    "savefn_full = os.path.join(data_dir,'per_field_metrics_shtest_with_1cp.p')\n",
    "# pickle.dump(per_field_metrics_all,open(savefn_full,'wb'))\n",
    "per_field_metrics_all=pickle.load(open(savefn_full,'rb'))"
   ]
  },
  {
   "cell_type": "code",
   "execution_count": 9,
   "id": "1b817edd",
   "metadata": {},
   "outputs": [
    {
     "data": {
      "text/plain": [
       "<module 'stability_analysis' from '/mnt/home/szheng/projects/place_variability/code/stability_analysis.py'>"
      ]
     },
     "execution_count": 9,
     "metadata": {},
     "output_type": "execute_result"
    }
   ],
   "source": [
    "import stability_analysis as sa\n",
    "reload(sa)"
   ]
  },
  {
   "cell_type": "markdown",
   "id": "f254c481",
   "metadata": {},
   "source": [
    "# stability after pop up"
   ]
  },
  {
   "cell_type": "markdown",
   "id": "4d4f7639",
   "metadata": {},
   "source": [
    "### no switch aligned to middle of session"
   ]
  },
  {
   "cell_type": "code",
   "execution_count": 15,
   "id": "be84f562",
   "metadata": {
    "scrolled": true
   },
   "outputs": [
    {
     "name": "stdout",
     "output_type": "stream",
     "text": [
      "peak std\n",
      "                peak_std\n",
      "has_sw isnovel          \n",
      "nosw   0        2.049390\n",
      "       1        2.408319\n",
      "sw     0        1.643168\n",
      "       1        1.949359\n",
      "p-value annotation legend:\n",
      "      ns: p <= 1.00e+00\n",
      "       *: 1.00e-02 < p <= 5.00e-02\n",
      "      **: 1.00e-03 < p <= 1.00e-02\n",
      "     ***: 1.00e-04 < p <= 1.00e-03\n",
      "    ****: p <= 1.00e-04\n",
      "\n",
      "1_0 vs. 1_1: Mann-Whitney-Wilcoxon test two-sided, P_val:3.693e-01 U_stat=3.711e+04\n"
     ]
    },
    {
     "name": "stderr",
     "output_type": "stream",
     "text": [
      "/mnt/home/szheng/projects/place_variability/code/stability_analysis.py:253: SettingWithCopyWarning: \n",
      "A value is trying to be set on a copy of a slice from a DataFrame.\n",
      "Try using .loc[row_indexer,col_indexer] = value instead\n",
      "\n",
      "See the caveats in the documentation: https://pandas.pydata.org/pandas-docs/stable/user_guide/indexing.html#returning-a-view-versus-a-copy\n",
      "  data['has_sw_int'] = data['has_sw'].apply(lambda x:{'nosw':0,'sw':1}[x])\n"
     ]
    },
    {
     "name": "stdout",
     "output_type": "stream",
     "text": [
      "0_0 vs. 0_1: Mann-Whitney-Wilcoxon test two-sided, P_val:1.271e-08 U_stat=1.407e+06\n",
      "0_0 vs. 1_0: Mann-Whitney-Wilcoxon test two-sided, P_val:9.722e-02 U_stat=4.672e+05\n",
      "0_1 vs. 1_1: Mann-Whitney-Wilcoxon test two-sided, P_val:1.697e-04 U_stat=7.460e+04\n",
      "fr_peak cv\n",
      "                fr_peak_cv\n",
      "has_sw isnovel            \n",
      "nosw   0          0.365340\n",
      "       1          0.373115\n",
      "sw     0          0.283310\n",
      "       1          0.332031\n",
      "p-value annotation legend:\n",
      "      ns: p <= 1.00e+00\n",
      "       *: 1.00e-02 < p <= 5.00e-02\n",
      "      **: 1.00e-03 < p <= 1.00e-02\n",
      "     ***: 1.00e-04 < p <= 1.00e-03\n",
      "    ****: p <= 1.00e-04\n",
      "\n",
      "1_0 vs. 1_1: Mann-Whitney-Wilcoxon test two-sided, P_val:1.880e-02 U_stat=3.971e+04\n"
     ]
    },
    {
     "name": "stderr",
     "output_type": "stream",
     "text": [
      "/mnt/home/szheng/projects/place_variability/code/stability_analysis.py:253: SettingWithCopyWarning: \n",
      "A value is trying to be set on a copy of a slice from a DataFrame.\n",
      "Try using .loc[row_indexer,col_indexer] = value instead\n",
      "\n",
      "See the caveats in the documentation: https://pandas.pydata.org/pandas-docs/stable/user_guide/indexing.html#returning-a-view-versus-a-copy\n",
      "  data['has_sw_int'] = data['has_sw'].apply(lambda x:{'nosw':0,'sw':1}[x])\n"
     ]
    },
    {
     "name": "stdout",
     "output_type": "stream",
     "text": [
      "0_0 vs. 0_1: Mann-Whitney-Wilcoxon test two-sided, P_val:2.602e-29 U_stat=1.566e+06\n",
      "0_0 vs. 1_0: Mann-Whitney-Wilcoxon test two-sided, P_val:1.906e-01 U_stat=4.731e+05\n",
      "0_1 vs. 1_1: Mann-Whitney-Wilcoxon test two-sided, P_val:1.778e-05 U_stat=7.253e+04\n"
     ]
    },
    {
     "data": {
      "image/png": "[encoded data removed]",
      "text/plain": [
       "<Figure size 144x144 with 1 Axes>"
      ]
     },
     "metadata": {
      "needs_background": "light"
     },
     "output_type": "display_data"
    },
    {
     "data": {
      "image/png": "[encoded data removed]",
      "text/plain": [
       "<Figure size 144x144 with 1 Axes>"
      ]
     },
     "metadata": {
      "needs_background": "light"
     },
     "output_type": "display_data"
    }
   ],
   "source": [
    "nosw_start_trial = 2\n",
    "nosw_start_frac = 0.5#None\n",
    "ntrials_pre_sw=0\n",
    "ntrials_after_sw=5\n",
    "\n",
    "si_thresh = 0.5\n",
    "savefig = False#True#False#\n",
    "random_start =None\n",
    "\n",
    "for par_key,var_func in [['peak','std'],['fr_peak','cv']]:\n",
    "    \n",
    "    par_var_nosw_sw_df,par_nosw_sw_df = sa.get_sw_no_sw_pf_par_var_control_ntrial(changes_df_all,pf_params_recombined_all,par_key=par_key,var_func=var_func,min_size=nosw_start_trial,nosw_start_frac=nosw_start_frac,\n",
    "                                                                                  random_start=random_start,\n",
    "                                                                                  nosw_start_pre_peak=False,nosw_start_pre_min=False,ntrials_after_sw=ntrials_after_sw,ntrials_pre_sw=ntrials_pre_sw)\n",
    "    print(par_key,var_func)\n",
    "    print(par_var_nosw_sw_df.groupby(['has_sw','isnovel']).median())\n",
    "    sa.plot_strip_box(par_var_nosw_sw_df,per_field_metrics_all,\n",
    "        par_key = par_key,\n",
    "        var_func=var_func,\n",
    "        random_start = random_start,\n",
    "        nosw_start_pre_peak = False,\n",
    "        nosw_start_pre_min=False,\n",
    "        nosw_start_frac=nosw_start_frac,\n",
    "        si_thresh=si_thresh,\n",
    "        savefig=savefig,\n",
    "        figdir=figdir,\n",
    "        ntrials_after_sw=ntrials_after_sw,\n",
    "        figsize=(2,2)    \n",
    "        )"
   ]
  },
  {
   "cell_type": "code",
   "execution_count": 14,
   "id": "6467f5ab",
   "metadata": {
    "scrolled": true
   },
   "outputs": [
    {
     "data": {
      "text/html": [
       "<div>\n",
       "<style scoped>\n",
       "    .dataframe tbody tr th:only-of-type {\n",
       "        vertical-align: middle;\n",
       "    }\n",
       "\n",
       "    .dataframe tbody tr th {\n",
       "        vertical-align: top;\n",
       "    }\n",
       "\n",
       "    .dataframe thead th {\n",
       "        text-align: right;\n",
       "    }\n",
       "</style>\n",
       "<table border=\"1\" class=\"dataframe\">\n",
       "  <thead>\n",
       "    <tr style=\"text-align: right;\">\n",
       "      <th></th>\n",
       "      <th></th>\n",
       "      <th>fr_peak_cv</th>\n",
       "    </tr>\n",
       "    <tr>\n",
       "      <th>has_sw</th>\n",
       "      <th>isnovel</th>\n",
       "      <th></th>\n",
       "    </tr>\n",
       "  </thead>\n",
       "  <tbody>\n",
       "    <tr>\n",
       "      <th rowspan=\"2\" valign=\"top\">nosw</th>\n",
       "      <th>0</th>\n",
       "      <td>0.365340</td>\n",
       "    </tr>\n",
       "    <tr>\n",
       "      <th>1</th>\n",
       "      <td>0.373115</td>\n",
       "    </tr>\n",
       "    <tr>\n",
       "      <th rowspan=\"2\" valign=\"top\">sw</th>\n",
       "      <th>0</th>\n",
       "      <td>0.283310</td>\n",
       "    </tr>\n",
       "    <tr>\n",
       "      <th>1</th>\n",
       "      <td>0.332031</td>\n",
       "    </tr>\n",
       "  </tbody>\n",
       "</table>\n",
       "</div>"
      ],
      "text/plain": [
       "                fr_peak_cv\n",
       "has_sw isnovel            \n",
       "nosw   0          0.365340\n",
       "       1          0.373115\n",
       "sw     0          0.283310\n",
       "       1          0.332031"
      ]
     },
     "execution_count": 14,
     "metadata": {},
     "output_type": "execute_result"
    }
   ],
   "source": [
    "par_var_nosw_sw_df.groupby(['has_sw','isnovel']).median()"
   ]
  },
  {
   "cell_type": "code",
   "execution_count": 13,
   "id": "3002b786",
   "metadata": {
    "scrolled": true
   },
   "outputs": [
    {
     "data": {
      "text/html": [
       "<div>\n",
       "<style scoped>\n",
       "    .dataframe tbody tr th:only-of-type {\n",
       "        vertical-align: middle;\n",
       "    }\n",
       "\n",
       "    .dataframe tbody tr th {\n",
       "        vertical-align: top;\n",
       "    }\n",
       "\n",
       "    .dataframe thead th {\n",
       "        text-align: right;\n",
       "    }\n",
       "</style>\n",
       "<table border=\"1\" class=\"dataframe\">\n",
       "  <thead>\n",
       "    <tr style=\"text-align: right;\">\n",
       "      <th></th>\n",
       "      <th></th>\n",
       "      <th>fr_peak_cv</th>\n",
       "    </tr>\n",
       "    <tr>\n",
       "      <th>has_sw</th>\n",
       "      <th>isnovel</th>\n",
       "      <th></th>\n",
       "    </tr>\n",
       "  </thead>\n",
       "  <tbody>\n",
       "    <tr>\n",
       "      <th rowspan=\"2\" valign=\"top\">nosw</th>\n",
       "      <th>0</th>\n",
       "      <td>6852</td>\n",
       "    </tr>\n",
       "    <tr>\n",
       "      <th>1</th>\n",
       "      <td>820</td>\n",
       "    </tr>\n",
       "    <tr>\n",
       "      <th rowspan=\"2\" valign=\"top\">sw</th>\n",
       "      <th>0</th>\n",
       "      <td>1230</td>\n",
       "    </tr>\n",
       "    <tr>\n",
       "      <th>1</th>\n",
       "      <td>402</td>\n",
       "    </tr>\n",
       "  </tbody>\n",
       "</table>\n",
       "</div>"
      ],
      "text/plain": [
       "                fr_peak_cv\n",
       "has_sw isnovel            \n",
       "nosw   0              6852\n",
       "       1               820\n",
       "sw     0              1230\n",
       "       1               402"
      ]
     },
     "execution_count": 13,
     "metadata": {},
     "output_type": "execute_result"
    }
   ],
   "source": [
    "par_var_nosw_sw_df.groupby(['has_sw','isnovel']).count()"
   ]
  },
  {
   "cell_type": "markdown",
   "id": "13118698",
   "metadata": {},
   "source": [
    "### no switch aligned to start of session"
   ]
  },
  {
   "cell_type": "code",
   "execution_count": 16,
   "id": "d3b77f1c",
   "metadata": {},
   "outputs": [
    {
     "name": "stdout",
     "output_type": "stream",
     "text": [
      "peak std\n",
      "                peak_std\n",
      "has_sw isnovel          \n",
      "nosw   0        2.280351\n",
      "       1        2.683282\n",
      "sw     0        1.643168\n",
      "       1        1.949359\n",
      "p-value annotation legend:\n",
      "      ns: p <= 1.00e+00\n",
      "       *: 1.00e-02 < p <= 5.00e-02\n",
      "      **: 1.00e-03 < p <= 1.00e-02\n",
      "     ***: 1.00e-04 < p <= 1.00e-03\n",
      "    ****: p <= 1.00e-04\n",
      "\n",
      "1_0 vs. 1_1: Mann-Whitney-Wilcoxon test two-sided, P_val:2.904e-06 U_stat=4.667e+04\n"
     ]
    },
    {
     "name": "stderr",
     "output_type": "stream",
     "text": [
      "/mnt/home/szheng/projects/place_variability/code/stability_analysis.py:253: SettingWithCopyWarning: \n",
      "A value is trying to be set on a copy of a slice from a DataFrame.\n",
      "Try using .loc[row_indexer,col_indexer] = value instead\n",
      "\n",
      "See the caveats in the documentation: https://pandas.pydata.org/pandas-docs/stable/user_guide/indexing.html#returning-a-view-versus-a-copy\n",
      "  data['has_sw_int'] = data['has_sw'].apply(lambda x:{'nosw':0,'sw':1}[x])\n"
     ]
    },
    {
     "name": "stdout",
     "output_type": "stream",
     "text": [
      "0_0 vs. 0_1: Mann-Whitney-Wilcoxon test two-sided, P_val:6.933e-27 U_stat=1.574e+06\n",
      "0_0 vs. 1_0: Mann-Whitney-Wilcoxon test two-sided, P_val:2.386e-03 U_stat=4.821e+05\n",
      "0_1 vs. 1_1: Mann-Whitney-Wilcoxon test two-sided, P_val:1.697e-04 U_stat=7.460e+04\n",
      "fr_peak cv\n",
      "                fr_peak_cv\n",
      "has_sw isnovel            \n",
      "nosw   0          0.402153\n",
      "       1          0.458168\n",
      "sw     0          0.283310\n",
      "       1          0.332031\n",
      "p-value annotation legend:\n",
      "      ns: p <= 1.00e+00\n",
      "       *: 1.00e-02 < p <= 5.00e-02\n",
      "      **: 1.00e-03 < p <= 1.00e-02\n",
      "     ***: 1.00e-04 < p <= 1.00e-03\n",
      "    ****: p <= 1.00e-04\n",
      "\n",
      "1_0 vs. 1_1: Mann-Whitney-Wilcoxon test two-sided, P_val:5.339e-12 U_stat=5.085e+04\n"
     ]
    },
    {
     "name": "stderr",
     "output_type": "stream",
     "text": [
      "/mnt/home/szheng/projects/place_variability/code/stability_analysis.py:253: SettingWithCopyWarning: \n",
      "A value is trying to be set on a copy of a slice from a DataFrame.\n",
      "Try using .loc[row_indexer,col_indexer] = value instead\n",
      "\n",
      "See the caveats in the documentation: https://pandas.pydata.org/pandas-docs/stable/user_guide/indexing.html#returning-a-view-versus-a-copy\n",
      "  data['has_sw_int'] = data['has_sw'].apply(lambda x:{'nosw':0,'sw':1}[x])\n"
     ]
    },
    {
     "name": "stdout",
     "output_type": "stream",
     "text": [
      "0_0 vs. 0_1: Mann-Whitney-Wilcoxon test two-sided, P_val:2.443e-59 U_stat=1.733e+06\n",
      "0_0 vs. 1_0: Mann-Whitney-Wilcoxon test two-sided, P_val:1.330e-06 U_stat=4.503e+05\n",
      "0_1 vs. 1_1: Mann-Whitney-Wilcoxon test two-sided, P_val:1.778e-05 U_stat=7.253e+04\n"
     ]
    },
    {
     "data": {
      "image/png": "[encoded data removed]",
      "text/plain": [
       "<Figure size 144x144 with 1 Axes>"
      ]
     },
     "metadata": {
      "needs_background": "light"
     },
     "output_type": "display_data"
    },
    {
     "data": {
      "image/png": "[encoded data removed]",
      "text/plain": [
       "<Figure size 144x144 with 1 Axes>"
      ]
     },
     "metadata": {
      "needs_background": "light"
     },
     "output_type": "display_data"
    }
   ],
   "source": [
    "nosw_start_trial = 0\n",
    "nosw_start_frac = 0#None\n",
    "ntrials_pre_sw=0\n",
    "ntrials_after_sw=5\n",
    "\n",
    "si_thresh = 0.5\n",
    "savefig = False#True#False#\n",
    "random_start =None\n",
    "\n",
    "for par_key,var_func in [['peak','std'],['fr_peak','cv']]:\n",
    "    \n",
    "    par_var_nosw_sw_df,par_nosw_sw_df = sa.get_sw_no_sw_pf_par_var_control_ntrial(changes_df_all,pf_params_recombined_all,par_key=par_key,var_func=var_func,min_size=nosw_start_trial,nosw_start_frac=nosw_start_frac,\n",
    "                                                                                  random_start=random_start,\n",
    "                                                                                  nosw_start_pre_peak=False,nosw_start_pre_min=False,ntrials_after_sw=ntrials_after_sw,ntrials_pre_sw=ntrials_pre_sw)\n",
    "\n",
    "    print(par_key,var_func)\n",
    "    print(par_var_nosw_sw_df.groupby(['has_sw','isnovel']).median())\n",
    "    sa.plot_strip_box(par_var_nosw_sw_df,per_field_metrics_all,\n",
    "        par_key = par_key,\n",
    "        var_func=var_func,\n",
    "        random_start = random_start,\n",
    "        nosw_start_pre_peak = False,\n",
    "        nosw_start_pre_min=False,\n",
    "        nosw_start_frac=nosw_start_frac,\n",
    "        si_thresh=si_thresh,\n",
    "        savefig=savefig,\n",
    "        figdir=figdir,  \n",
    "        ntrials_after_sw=ntrials_after_sw,\n",
    "        figsize=(2,2)    \n",
    "        )"
   ]
  },
  {
   "cell_type": "code",
   "execution_count": null,
   "id": "91283087",
   "metadata": {},
   "outputs": [],
   "source": []
  },
  {
   "cell_type": "markdown",
   "id": "1a19abab",
   "metadata": {},
   "source": [
    "# position shift after pop up"
   ]
  },
  {
   "cell_type": "code",
   "execution_count": 23,
   "id": "4eae885d",
   "metadata": {},
   "outputs": [],
   "source": [
    "### no switch aligned to start of session"
   ]
  },
  {
   "cell_type": "code",
   "execution_count": 44,
   "id": "05e1a29c",
   "metadata": {},
   "outputs": [
    {
     "name": "stdout",
     "output_type": "stream",
     "text": [
      "/mnt/home/szheng/ceph/place_variability/fig/paper/figure_stability_after_switch/peak_drift_vs_trial_ntrials_after_sw_5_si_thresh_5e-01_noswstartfrac_0e+00.png  saved!\n",
      "/mnt/home/szheng/ceph/place_variability/fig/paper/figure_stability_after_switch/peak_drift_vs_trial_ntrials_after_sw_5_si_thresh_5e-01_noswstartfrac_0e+00.svg  saved!\n",
      "CPU times: user 9.19 s, sys: 47.8 ms, total: 9.24 s\n",
      "Wall time: 9.25 s\n"
     ]
    },
    {
     "data": {
      "image/png": "[encoded data removed]",
      "text/plain": [
       "<Figure size 144x144 with 2 Axes>"
      ]
     },
     "metadata": {
      "needs_background": "light"
     },
     "output_type": "display_data"
    }
   ],
   "source": [
    "%%time\n",
    "reload(sa)\n",
    "nosw_start_trial = 0#2\n",
    "par_key='peak'\n",
    "var_func = 'std'\n",
    "nosw_start_frac = 0#None\n",
    "ntrials_pre_sw=0\n",
    "ntrials_after_sw=5\n",
    "\n",
    "si_thresh = 0.5\n",
    "savefig = True#False\n",
    "\n",
    "nosw_start_pre_peak=False\n",
    "nosw_start_pre_min=False\n",
    "random_start =None\n",
    "\n",
    "\n",
    "\n",
    "\n",
    "par_var_nosw_sw_df,par_nosw_sw_df = sa.get_sw_no_sw_pf_par_var_control_ntrial(changes_df_all,pf_params_recombined_all,par_key=par_key,var_func=var_func,min_size=nosw_start_trial,nosw_start_frac=nosw_start_frac,\n",
    "                                                                              random_start=random_start,\n",
    "                                                                              nosw_start_pre_peak=nosw_start_pre_peak,nosw_start_pre_min=nosw_start_pre_min,ntrials_after_sw=ntrials_after_sw,ntrials_pre_sw=ntrials_pre_sw)\n",
    "\n",
    "\n",
    "sa.plot_drift_trace(par_nosw_sw_df,per_field_metrics_all,trial_ind_relative=0,\n",
    "                     si_thresh=si_thresh,\n",
    "                     nosw_start_pre_peak=nosw_start_pre_peak,\n",
    "                    nosw_start_pre_min=nosw_start_pre_min,\n",
    "                     random_start = random_start,\n",
    "                    ntrials_after_sw=ntrials_after_sw,\n",
    "                    nosw_start_frac=nosw_start_frac,\n",
    "                     savefig=savefig,\n",
    "                     figdir=figdir,figsize=(2,2)\n",
    "                    )\n",
    "\n"
   ]
  },
  {
   "cell_type": "markdown",
   "id": "857ab036",
   "metadata": {},
   "source": [
    "### no switch aligned to middle of session"
   ]
  },
  {
   "cell_type": "code",
   "execution_count": 46,
   "id": "f2fbe1cf",
   "metadata": {},
   "outputs": [
    {
     "name": "stdout",
     "output_type": "stream",
     "text": [
      "/mnt/home/szheng/ceph/place_variability/fig/paper/figure_stability_after_switch/peak_drift_vs_trial_ntrials_after_sw_5_si_thresh_5e-01_noswstartfrac_5e-01.png  saved!\n",
      "/mnt/home/szheng/ceph/place_variability/fig/paper/figure_stability_after_switch/peak_drift_vs_trial_ntrials_after_sw_5_si_thresh_5e-01_noswstartfrac_5e-01.svg  saved!\n",
      "CPU times: user 9.28 s, sys: 43.6 ms, total: 9.33 s\n",
      "Wall time: 9.34 s\n"
     ]
    },
    {
     "data": {
      "image/png": "[encoded data removed]",
      "text/plain": [
       "<Figure size 144x144 with 2 Axes>"
      ]
     },
     "metadata": {
      "needs_background": "light"
     },
     "output_type": "display_data"
    }
   ],
   "source": [
    "%%time\n",
    "reload(sa)\n",
    "nosw_start_trial = 2\n",
    "par_key='peak'\n",
    "var_func = 'std'\n",
    "nosw_start_frac = 0.5#None\n",
    "ntrials_pre_sw=0\n",
    "ntrials_after_sw=5\n",
    "\n",
    "si_thresh = 0.5\n",
    "savefig = True#False\n",
    "\n",
    "nosw_start_pre_peak=False\n",
    "nosw_start_pre_min=False\n",
    "random_start =None\n",
    "\n",
    "\n",
    "\n",
    "\n",
    "par_var_nosw_sw_df,par_nosw_sw_df = sa.get_sw_no_sw_pf_par_var_control_ntrial(changes_df_all,pf_params_recombined_all,par_key=par_key,var_func=var_func,min_size=nosw_start_trial,nosw_start_frac=nosw_start_frac,\n",
    "                                                                              random_start=random_start,\n",
    "                                                                              nosw_start_pre_peak=nosw_start_pre_peak,nosw_start_pre_min=nosw_start_pre_min,ntrials_after_sw=ntrials_after_sw,ntrials_pre_sw=ntrials_pre_sw)\n",
    "\n",
    "\n",
    "sa.plot_drift_trace(par_nosw_sw_df,per_field_metrics_all,trial_ind_relative=0,\n",
    "                     si_thresh=si_thresh,\n",
    "                     nosw_start_pre_peak=nosw_start_pre_peak,\n",
    "                    nosw_start_pre_min=nosw_start_pre_min,\n",
    "                     random_start = random_start,\n",
    "                    ntrials_after_sw=ntrials_after_sw,\n",
    "                    nosw_start_frac=nosw_start_frac,\n",
    "                     savefig=savefig,\n",
    "                    figdir=figdir\n",
    "                    )\n",
    "\n"
   ]
  },
  {
   "cell_type": "markdown",
   "id": "3c6f3c1d",
   "metadata": {},
   "source": [
    "# examples"
   ]
  },
  {
   "cell_type": "code",
   "execution_count": 47,
   "id": "c739c9b1",
   "metadata": {},
   "outputs": [],
   "source": [
    "figdirsupp = misc.get_or_create_subdir(figdir,'drift_examples')"
   ]
  },
  {
   "cell_type": "code",
   "execution_count": 52,
   "id": "97950d56",
   "metadata": {},
   "outputs": [
    {
     "data": {
      "text/plain": [
       "<module 'stability_analysis' from '/mnt/home/szheng/projects/place_variability/code/stability_analysis.py'>"
      ]
     },
     "execution_count": 52,
     "metadata": {},
     "output_type": "execute_result"
    }
   ],
   "source": [
    "reload(sa)"
   ]
  },
  {
   "cell_type": "code",
   "execution_count": 76,
   "id": "367f5e2d",
   "metadata": {},
   "outputs": [],
   "source": [
    "nosw_start_trial = 0\n",
    "par_key='com'#'peak'#\n",
    "var_func = 'std'\n",
    "nosw_start_frac = 0\n",
    "ntrials_pre_sw=0\n",
    "ntrials_after_sw=5\n",
    "\n",
    "si_thresh = 0.5\n",
    "\n",
    "\n",
    "\n",
    "random_start=None\n",
    "nosw_start_pre_peak=True\n",
    "nosw_start_pre_min=False\n",
    "par_var_nosw_sw_df,par_nosw_sw_df = sa.get_sw_no_sw_pf_par_var_control_ntrial(changes_df_all,pf_params_recombined_all,par_key=par_key,var_func=var_func,min_size=nosw_start_trial,nosw_start_frac=nosw_start_frac,\n",
    "                                                                                  random_start=random_start,\n",
    "                                                                                  nosw_start_pre_peak=nosw_start_pre_peak,nosw_start_pre_min=nosw_start_pre_min,ntrials_after_sw=ntrials_after_sw,ntrials_pre_sw=ntrials_pre_sw)\n",
    "\n",
    "data=sa.get_relative_trace_filter_by_si(par_nosw_sw_df,per_field_metrics_all,trial_ind_relative=0,si_thresh=0.5,drift_thresh=10)\n",
    "\n",
    "ani='e13_26m1'\n",
    "sess='e13_26m1_211019'#'e15_13f1_220117'"
   ]
  },
  {
   "cell_type": "code",
   "execution_count": 96,
   "id": "83463565",
   "metadata": {},
   "outputs": [
    {
     "name": "stderr",
     "output_type": "stream",
     "text": [
      "/tmp/ipykernel_1233703/1816353002.py:2: PerformanceWarning: indexing past lexsort depth may impact performance.\n",
      "  data_sub=data.loc['sw',ani,sess,task_ind]\n",
      "/tmp/ipykernel_1233703/1816353002.py:21: PerformanceWarning: indexing past lexsort depth may impact performance.\n",
      "  sw_trial=all_sw_d_all.loc[ani,sess,task_ind].query('trialtype==@tt&uid==@uid&field_index==@field_id')['index_within'].iloc[0]\n",
      "/tmp/ipykernel_1233703/1816353002.py:22: PerformanceWarning: indexing past lexsort depth may impact performance.\n",
      "  fig,ax=ph.ratemap_one_raw(fr_map_trial_df_all.loc[ani,sess,task_ind,ttr,uid].T.dropna(axis=0,how='all'),\n",
      "/mnt/home/szheng/projects/util_code/plot_helper.py:575: UserWarning: FixedFormatter should only be used together with FixedLocator\n",
      "  ax.set_xticklabels(x_tick_labels, rotation=0)\n"
     ]
    },
    {
     "name": "stdout",
     "output_type": "stream",
     "text": [
      "0    0.000000\n",
      "1   -3.596725\n",
      "2   -2.482060\n",
      "3   -2.203636\n",
      "4   -5.817483\n",
      "Name: (1.0, 51, 1), dtype: float64\n"
     ]
    },
    {
     "data": {
      "image/png": "[encoded data removed]",
      "text/plain": [
       "<Figure size 216x144 with 2 Axes>"
      ]
     },
     "metadata": {
      "needs_background": "light"
     },
     "output_type": "display_data"
    }
   ],
   "source": [
    "task_ind=0\n",
    "data_sub=data.loc['sw',ani,sess,task_ind]\n",
    "ma=data_sub.loc[:,1:2].mean(axis=1) <-2\n",
    "\n",
    "ii_l = [1]#[0,4,5]\n",
    "\n",
    "savefig = True\n",
    "\n",
    "for ii in ii_l:\n",
    "    row=data_sub.loc[ma].iloc[ii]\n",
    "#     task_ind,tt,uid,field_id=row.name\n",
    "    tt,uid,field_id=row.name\n",
    "\n",
    "    print(row)\n",
    "    if tt=='both':\n",
    "        ttr=0\n",
    "    else:\n",
    "        ttr=tt\n",
    "\n",
    "    field_bound = all_fields_recombined_all.loc[ani,sess,task_ind,tt,uid,field_id][['start','end']]\n",
    "    sw_trial=all_sw_d_all.loc[ani,sess,task_ind].query('trialtype==@tt&uid==@uid&field_index==@field_id')['index_within'].iloc[0]\n",
    "    fig,ax=ph.ratemap_one_raw(fr_map_trial_df_all.loc[ani,sess,task_ind,ttr,uid].T.dropna(axis=0,how='all'),\n",
    "                       trial=sw_trial,field_bound=field_bound,\n",
    "                      )\n",
    "    ax.set_title((ani,sess,task_ind,tt,uid,field_id))\n",
    "#     xticks=np.arange(0,99,10)\n",
    "#     ax.set_xticks(xticks)\n",
    "#     ax.set_xticklabels(xticks)\n",
    "    ax.set(xlabel='Position (bin)',ylabel='Trial')\n",
    "    if savefig:\n",
    "        fn_full = f'swex_{sess}_task{int(task_ind)}_tt{tt}_uid{uid}_field{field_id}'\n",
    "        ph.save_given_name(fig,fn_full,figdirsupp)\n",
    "\n",
    "# ax.set_ylim([sw_trial+5,sw_trial-1])\n",
    "# ax.set_xlim([field_bound[0]-20,field_bound[1]+20])"
   ]
  },
  {
   "cell_type": "code",
   "execution_count": 97,
   "id": "fd6ac871",
   "metadata": {},
   "outputs": [
    {
     "name": "stderr",
     "output_type": "stream",
     "text": [
      "/tmp/ipykernel_1233703/4205583204.py:2: PerformanceWarning: indexing past lexsort depth may impact performance.\n",
      "  data_sub=data.loc['nosw',ani,sess,task_ind]\n",
      "/tmp/ipykernel_1233703/4205583204.py:22: PerformanceWarning: indexing past lexsort depth may impact performance.\n",
      "  fig,ax=ph.ratemap_one_raw(fr_map_trial_df_all.loc[ani,sess,task_ind,ttr,uid].T.dropna(axis=0,how='all'),\n",
      "/mnt/home/szheng/projects/util_code/plot_helper.py:575: UserWarning: FixedFormatter should only be used together with FixedLocator\n",
      "  ax.set_xticklabels(x_tick_labels, rotation=0)\n"
     ]
    },
    {
     "name": "stdout",
     "output_type": "stream",
     "text": [
      "0    0.000000\n",
      "1   -1.833218\n",
      "2   -2.945593\n",
      "3   -0.321254\n",
      "4   -1.166726\n",
      "Name: (1.0, 270, 1), dtype: float64\n"
     ]
    },
    {
     "data": {
      "image/png": "[encoded data removed]",
      "text/plain": [
       "<Figure size 216x144 with 2 Axes>"
      ]
     },
     "metadata": {
      "needs_background": "light"
     },
     "output_type": "display_data"
    }
   ],
   "source": [
    "task_ind=0\n",
    "data_sub=data.loc['nosw',ani,sess,task_ind]\n",
    "ma=data_sub.loc[:,1:2].mean(axis=1) <-2\n",
    "\n",
    "ii_l = [3]#[0,4,5]\n",
    "\n",
    "savefig = True\n",
    "\n",
    "for ii in ii_l:\n",
    "    row=data_sub.loc[ma].iloc[ii]\n",
    "#     task_ind,tt,uid,field_id=row.name\n",
    "    tt,uid,field_id=row.name\n",
    "\n",
    "    print(row)\n",
    "    if tt=='both':\n",
    "        ttr=0\n",
    "    else:\n",
    "        ttr=tt\n",
    "\n",
    "    field_bound = all_fields_recombined_all.loc[ani,sess,task_ind,tt,uid,field_id][['start','end']]\n",
    "#     sw_trial=all_sw_d_all.loc[ani,sess,task_ind].query('trialtype==@tt&uid==@uid&field_index==@field_id')['index_within'].iloc[0]\n",
    "    fig,ax=ph.ratemap_one_raw(fr_map_trial_df_all.loc[ani,sess,task_ind,ttr,uid].T.dropna(axis=0,how='all'),\n",
    "                    field_bound=field_bound,\n",
    "                      )\n",
    "    ax.set_title((ani,sess,task_ind,tt,uid,field_id))\n",
    "#     xticks=np.arange(0,99,10)\n",
    "#     ax.set_xticks(xticks)\n",
    "#     ax.set_xticklabels(xticks)\n",
    "    ax.set(xlabel='Position (bin)',ylabel='Trial')\n",
    "    if savefig:\n",
    "        fn_full = f'noswex_{sess}_task{int(task_ind)}_tt{tt}_uid{uid}_field{field_id}'\n",
    "        ph.save_given_name(fig,fn_full,figdirsupp)\n",
    "\n",
    "# ax.set_ylim([sw_trial+5,sw_trial-1])\n",
    "# ax.set_xlim([field_bound[0]-20,field_bound[1]+20])"
   ]
  },
  {
   "cell_type": "code",
   "execution_count": null,
   "id": "b7c1812a",
   "metadata": {},
   "outputs": [],
   "source": []
  }
 ],
 "metadata": {
  "kernelspec": {
   "display_name": "jax",
   "language": "python",
   "name": "jax"
  },
  "language_info": {
   "codemirror_mode": {
    "name": "ipython",
    "version": 3
   },
   "file_extension": ".py",
   "mimetype": "text/x-python",
   "name": "python",
   "nbconvert_exporter": "python",
   "pygments_lexer": "ipython3",
   "version": "3.9.16"
  }
 },
 "nbformat": 4,
 "nbformat_minor": 5
}
