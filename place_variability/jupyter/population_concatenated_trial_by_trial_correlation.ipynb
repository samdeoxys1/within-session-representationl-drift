{
 "cells": [
  {
   "cell_type": "code",
   "execution_count": 3,
   "id": "effc5904",
   "metadata": {},
   "outputs": [],
   "source": [
    "import matplotlib.pyplot as plt\n",
    "import numpy as np\n",
    "import numpy\n",
    "import pickle\n",
    "import pandas as pd\n",
    "\n",
    "import sys,os,importlib,pdb\n",
    "sys.path.append('/mnt/home/szheng/projects/util_code')\n",
    "import gm\n",
    "\n",
    "import scipy\n",
    "from scipy.signal import find_peaks\n",
    "import data_prep_new as dpn\n",
    "import place_cell_analysis as pa\n",
    "import plot_helper as ph\n",
    "from importlib import reload\n",
    "\n",
    "import copy\n",
    "\n",
    "%matplotlib inline\n",
    "import gm_glm_bayesian as glm\n",
    "import gm_glm_bayesian_helper as glmh\n",
    "import math_functions as mf\n",
    "import plot_mcmc as pmc\n",
    "reload(pmc)\n",
    "\n",
    "import gm_cv as gc\n",
    "import glm_cv as glmc"
   ]
  },
  {
   "cell_type": "code",
   "execution_count": 7,
   "id": "ae3b7040",
   "metadata": {},
   "outputs": [],
   "source": [
    "sess_name=\"e15_13f1_220117\"\n",
    "py_data_dir = \"/mnt/home/szheng/ceph/ad/roman_data/e15/e15_13f1/e15_13f1_220117/py_data\"\n",
    "fr_ = pickle.load(open(os.path.join(py_data_dir,'fr.p'),'rb'))\n",
    "pos_bins = fr_['pos_bins']['lin']\n",
    "bin_to_lin=numpy.concatenate([pos_bins[:-1,None],pos_bins[1:,None]],axis=1).mean(axis=1)\n",
    "\n",
    "fr = fr_['df']['pyr']\n",
    "fr_map_ = pickle.load(open(os.path.join(py_data_dir,'fr_map.p'),'rb'))\n",
    "fr_map_trial=fr_map_['fr_map_trial']\n",
    "fr_map_avg = fr_map_['fr_map']\n",
    "cell_cols = fr_['cell_cols']"
   ]
  },
  {
   "cell_type": "code",
   "execution_count": 21,
   "id": "57bbfc25",
   "metadata": {},
   "outputs": [
    {
     "data": {
      "text/plain": [
       "array([0.9297605 , 3.79228406, 0.46488025, ..., 0.        , 0.        ,\n",
       "       0.        ])"
      ]
     },
     "execution_count": 21,
     "metadata": {},
     "output_type": "execute_result"
    }
   ],
   "source": [
    "fr_map_trial[tt].swapaxes(0,2).reshape(ntrials,-1)[0]"
   ]
  },
  {
   "cell_type": "code",
   "execution_count": 34,
   "id": "6580f0fe",
   "metadata": {},
   "outputs": [
    {
     "data": {
      "text/plain": [
       "array([ 8.00634896,  8.8901106 , 10.32683855, ...,  1.11167561,\n",
       "        1.37975079,  1.54172532])"
      ]
     },
     "execution_count": 34,
     "metadata": {},
     "output_type": "execute_result"
    }
   ],
   "source": [
    "fr_map_axes_swapped_reshaped[1]"
   ]
  },
  {
   "cell_type": "code",
   "execution_count": 35,
   "id": "70ee5ea8",
   "metadata": {
    "collapsed": true
   },
   "outputs": [
    {
     "data": {
      "text/plain": [
       "array([ 8.00634896,  8.8901106 , 10.32683855, 11.94711688, 13.49265196,\n",
       "       14.78346321, 15.66817357, 16.04035812, 15.88882232, 15.3116774 ,\n",
       "       14.47022936, 13.54857878, 12.71291913, 11.99131999, 11.17245382,\n",
       "        9.93097441,  8.11063758,  5.89290456,  3.71235909,  1.98675001,\n",
       "        0.89295558,  0.34039471,  0.1329705 ,  0.11485869,  0.22109492,\n",
       "        0.4540819 ,  0.84557551,  1.42548629,  2.17180988,  2.94570364,\n",
       "        3.4849027 ,  3.55653141,  3.14217632,  2.42586624,  1.65462312,\n",
       "        1.02912694,  0.65369296,  0.55758601,  0.76199719,  1.32301543,\n",
       "        2.30571115,  3.68331327,  5.22925159,  6.52602182,  7.13443242,\n",
       "        6.83761125,  5.81119306,  4.48451601,  3.2121139 ,  2.15641076,\n",
       "        1.36464372,  0.84220721,  0.57365485,  0.51319025,  0.58587317,\n",
       "        0.7222914 ,  0.89383999,  1.11862356,  1.44008814,  1.87169953,\n",
       "        2.33021794,  2.65183845,  2.72534736,  2.60187745,  2.45488212,\n",
       "        2.45506694,  2.7002076 ,  3.20509064,  3.87627596,  4.50018914,\n",
       "        4.85788798,  4.87920744,  4.64814317,  4.32442547,  4.1294932 ,\n",
       "        4.34313962,  5.17002572,  6.52394192,  8.03583169,  9.31906383,\n",
       "       10.16744945, 10.55016387, 10.5115216 , 10.07717446,  9.20143447,\n",
       "        7.77068961,  5.7335582 ,  3.45163173,  1.7587303 ,  1.06721926,\n",
       "        1.04224156,  1.27947767,  1.58048828,  1.86610725,  2.10404922,\n",
       "        2.28738305,  2.43340295,  2.57131755,  2.70901431,  2.80611056])"
      ]
     },
     "execution_count": 35,
     "metadata": {},
     "output_type": "execute_result"
    }
   ],
   "source": [
    "fr_map_trial[0][:,:,1][0]"
   ]
  },
  {
   "cell_type": "code",
   "execution_count": 117,
   "id": "eb38cb66",
   "metadata": {},
   "outputs": [],
   "source": [
    "def get_pop_concat_corr_by_trial(fr_map_one_trial,fig=None,ax=None):\n",
    "    '''\n",
    "    fr_map_one_trial: nneurons x npos x ntrials\n",
    "    '''\n",
    "    ntrials = fr_map_one_trial.shape[-1]\n",
    "    fr_map_axes_swapped_reshaped=fr_map_one_trial.swapaxes(0,2).swapaxes(1,2).reshape(ntrials,-1)\n",
    "    corr = np.corrcoef(fr_map_axes_swapped_reshaped)\n",
    "    if ax is None:\n",
    "        fig,ax=plt.subplots()\n",
    "    ax.imshow(corr,aspect=1)\n",
    "\n",
    "    return corr, fig, ax\n"
   ]
  },
  {
   "cell_type": "code",
   "execution_count": 48,
   "id": "bc71fb61",
   "metadata": {},
   "outputs": [
    {
     "data": {
      "image/png": "[encoded data removed]",
      "text/plain": [
       "<Figure size 432x288 with 2 Axes>"
      ]
     },
     "metadata": {
      "needs_background": "light"
     },
     "output_type": "display_data"
    }
   ],
   "source": [
    "fig,axs= plt.subplots(1,2)\n",
    "for tt in [0,1]:\n",
    "    corr,fig,ax=get_pop_concat_corr_by_trial(fr_map_trial[tt],ax=axs[tt])"
   ]
  },
  {
   "cell_type": "code",
   "execution_count": 55,
   "id": "a465eba1",
   "metadata": {},
   "outputs": [],
   "source": [
    "fmz=scipy.stats.zscore(fr_map_trial[0],axis=(1))"
   ]
  },
  {
   "cell_type": "code",
   "execution_count": 138,
   "id": "4a846655",
   "metadata": {},
   "outputs": [],
   "source": [
    "def zscore_fr_map_onetrial(fr_map_onetrial):\n",
    "    diff = (fr_map_onetrial - fr_map_onetrial.mean(axis=(1,2),keepdims=True))\n",
    "    std = fr_map_onetrial.std(axis=(1,2),keepdims=True)\n",
    "    \n",
    "    z=np.divide(diff,std,out=np.full_like(diff,np.nan),where=std!=0,)\n",
    "    to_exclude=np.unique(np.nonzero(np.isnan(z))[0])\n",
    "    mask = np.ones(z.shape[0],dtype=bool)\n",
    "    mask[to_exclude]=0\n",
    "    z_ma = z[mask]\n",
    "    return z_ma"
   ]
  },
  {
   "cell_type": "code",
   "execution_count": 139,
   "id": "7edd7041",
   "metadata": {},
   "outputs": [
    {
     "data": {
      "image/png": "[encoded data removed]",
      "text/plain": [
       "<Figure size 432x288 with 2 Axes>"
      ]
     },
     "metadata": {
      "needs_background": "light"
     },
     "output_type": "display_data"
    }
   ],
   "source": [
    "fig,axs= plt.subplots(1,2)\n",
    "for tt in [0,1]:\n",
    "    z_ma = zscore_fr_map_onetrial(fr_map_trial[tt])\n",
    "    corr,fig,ax=get_pop_concat_corr_by_trial(z_ma,fig=fig,ax=axs[tt])"
   ]
  },
  {
   "cell_type": "code",
   "execution_count": null,
   "id": "2053bce7",
   "metadata": {},
   "outputs": [],
   "source": []
  }
 ],
 "metadata": {
  "kernelspec": {
   "display_name": "jax",
   "language": "python",
   "name": "jax"
  },
  "language_info": {
   "codemirror_mode": {
    "name": "ipython",
    "version": 3
   },
   "file_extension": ".py",
   "mimetype": "text/x-python",
   "name": "python",
   "nbconvert_exporter": "python",
   "pygments_lexer": "ipython3",
   "version": "3.9.13"
  }
 },
 "nbformat": 4,
 "nbformat_minor": 5
}
