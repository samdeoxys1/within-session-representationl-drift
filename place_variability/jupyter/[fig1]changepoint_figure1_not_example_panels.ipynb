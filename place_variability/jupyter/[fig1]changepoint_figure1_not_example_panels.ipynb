{
 "cells": [
  {
   "cell_type": "code",
   "execution_count": 1,
   "id": "8ec7105a",
   "metadata": {},
   "outputs": [
    {
     "name": "stdout",
     "output_type": "stream",
     "text": [
      "67 sessions!\n",
      "67 sessions!\n"
     ]
    },
    {
     "name": "stderr",
     "output_type": "stream",
     "text": [
      "/mnt/home/szheng/ceph/envs/jax/lib/python3.9/site-packages/outdated/utils.py:14: OutdatedPackageWarning: The package pingouin is out of date. Your version is 0.5.2, the latest is 0.5.3.\n",
      "Set the environment variable OUTDATED_IGNORE=1 to disable these warnings.\n",
      "  return warn(\n"
     ]
    }
   ],
   "source": [
    "import numpy as np\n",
    "import scipy\n",
    "import sklearn\n",
    "from sklearn.decomposition import NMF\n",
    "from sklearn.cluster import KMeans\n",
    "from sklearn.mixture import GaussianMixture,BayesianGaussianMixture\n",
    "\n",
    "import pandas as pd\n",
    "\n",
    "import matplotlib.pyplot as plt\n",
    "import matplotlib as mpl\n",
    "mpl.rcParams['image.cmap'] = 'Greys'\n",
    "\n",
    "import seaborn as sns\n",
    "\n",
    "import sys,os,pdb,copy,pickle\n",
    "from importlib import reload\n",
    "import pynapple as nap\n",
    "\n",
    "sys.path.append('/mnt/home/szheng/projects/seq_detection2/code')\n",
    "sys.path.append('/mnt/home/szheng/projects/util_code')\n",
    "sys.path.append('/mnt/home/szheng/projects/nmf_analysis')\n",
    "sys.path.append('/mnt/home/szheng/projects/nmf_analysis/scripts')\n",
    "sys.path.append('/mnt/home/szheng/projects/cluster_spikes')\n",
    "sys.path.append('/mnt/home/szheng/projects/place_variability/code')\n",
    "import data_prep_new as dpn\n",
    "import place_cell_analysis as pa\n",
    "import plot_helper as ph\n",
    "import preprocess as prep\n",
    "import nmf_analysis as na\n",
    "import nmf_plot as nmfp\n",
    "reload(na)\n",
    "\n",
    "import raster_new as rn\n",
    "import data_prep_pyn as dpp\n",
    "import database\n",
    "db = database.db\n",
    "\n",
    "import change_point_analysis as cpa\n",
    "import change_point_plot as cpp\n",
    "\n",
    "import place_field_analysis as pf\n",
    "\n",
    "import switch_analysis_one_session as saos\n",
    "reload(saos)\n",
    "\n",
    "import process_central_arm as pca \n",
    "import change_point_analysis_central_arm_seperate as cpacas\n",
    "\n",
    "import misc\n",
    "reload(misc)\n",
    "from misc import get_nth_key, get_nth_val"
   ]
  },
  {
   "cell_type": "code",
   "execution_count": 2,
   "id": "eef7d4e0",
   "metadata": {},
   "outputs": [
    {
     "data": {
      "text/plain": [
       "'/mnt/home/szheng/ceph/place_variability/data/paper'"
      ]
     },
     "execution_count": 2,
     "metadata": {},
     "output_type": "execute_result"
    }
   ],
   "source": [
    "figdir = '/mnt/home/szheng/ceph/place_variability/fig/paper/figure1'\n",
    "misc.get_or_create_subdir(figdir)\n",
    "data_dir = '/mnt/home/szheng/ceph/place_variability/data/paper'\n",
    "misc.get_or_create_subdir(data_dir)\n"
   ]
  },
  {
   "cell_type": "code",
   "execution_count": 3,
   "id": "b91c1e31",
   "metadata": {},
   "outputs": [],
   "source": [
    "subdb = db.query('owner==\"roman\"').sort_values('n_pyr_putative',ascending=False)\n",
    "subdb = subdb.query('ntrials>=20&n_neurons>=50')\n",
    "to_exclude_sess = ['e16_3m2_211211']\n",
    "subdb=subdb.loc[~subdb['sess_name'].isin(to_exclude_sess)]\n"
   ]
  },
  {
   "cell_type": "code",
   "execution_count": 13,
   "id": "0d7ef120",
   "metadata": {},
   "outputs": [
    {
     "data": {
      "text/plain": [
       "11"
      ]
     },
     "execution_count": 13,
     "metadata": {},
     "output_type": "execute_result"
    }
   ],
   "source": [
    "subdb.index.get_level_values(0).nunique() # animal"
   ]
  },
  {
   "cell_type": "code",
   "execution_count": 16,
   "id": "0328883d",
   "metadata": {},
   "outputs": [
    {
     "data": {
      "text/plain": [
       "(46, 12)"
      ]
     },
     "execution_count": 16,
     "metadata": {},
     "output_type": "execute_result"
    }
   ],
   "source": [
    "subdb.shape # sess"
   ]
  },
  {
   "cell_type": "code",
   "execution_count": 4,
   "id": "e7abeefb",
   "metadata": {},
   "outputs": [],
   "source": [
    "import matplotlib\n",
    "matplotlib.rcParams['svg.fonttype'] = 'none'\n",
    "matplotlib.rcParams['font.size'] = 10"
   ]
  },
  {
   "cell_type": "code",
   "execution_count": 5,
   "id": "983e4f5b",
   "metadata": {},
   "outputs": [],
   "source": [
    "import pf_recombine_central as pfrc\n",
    "import fr_map_one_session as fmos\n",
    "import switch_detection_one_session as sdos\n",
    "import get_all_switch_add_metrics as gasam"
   ]
  },
  {
   "cell_type": "code",
   "execution_count": 7,
   "id": "0783822a",
   "metadata": {},
   "outputs": [],
   "source": [
    "# subdb=subdb.iloc[:1]"
   ]
  },
  {
   "cell_type": "code",
   "execution_count": 6,
   "id": "dad94f6c",
   "metadata": {},
   "outputs": [],
   "source": [
    "fn = 'prepped_data_agg.p'\n",
    "fn_full = os.path.join(data_dir,fn)\n",
    "prepped_data_agg = pickle.load(open(fn_full,'rb'))\n",
    "\n",
    "all_fields_recombined_all = prepped_data_agg['all_fields_recombined_all']\n",
    "pf_params_recombined_all=  prepped_data_agg['pf_params_recombined_all']\n",
    "fr_map_trial_df_all= prepped_data_agg['fr_map_trial_df_all']\n",
    "occu_map_all = prepped_data_agg['occu_map_all']\n",
    "fr_map_all = prepped_data_agg['fr_map_all']\n",
    "\n",
    "pval_all = prepped_data_agg['pval_all']\n",
    "X_pwc_all = prepped_data_agg['X_pwc_all']\n",
    "X_raw_all = prepped_data_agg['X_raw_all']\n",
    "changes_df_all = prepped_data_agg['changes_df_all']\n",
    "var_res_all_test = prepped_data_agg['var_res_all']\n",
    "# corr_all = prepped_data_agg['corr_all']\n",
    "all_sw_d_all = prepped_data_agg['all_sw_d_all']\n",
    "all_sw_with_metrics_d_all = prepped_data_agg['all_sw_with_metrics_d_all']\n",
    "best_n_all = prepped_data_agg['best_n_all']\n",
    "spk_beh_df_all = prepped_data_agg['spk_beh_df_all']\n",
    "\n",
    "pf_params_all = prepped_data_agg['pf_params_all']\n",
    "all_fields_all = prepped_data_agg['all_fields_all']\n",
    "\n",
    "ntrials_per_tt=fr_map_trial_df_all.groupby(level=(0,1,2,3)).apply(lambda x:x.dropna(axis=1,how='all').shape[1])\n",
    "ntrials_mask = ntrials_per_tt.groupby(level=(0,1,2)).apply(lambda x:(x>=7).all()) \n",
    "\n"
   ]
  },
  {
   "cell_type": "code",
   "execution_count": 6,
   "id": "c0c2f70f",
   "metadata": {
    "scrolled": true
   },
   "outputs": [
    {
     "name": "stdout",
     "output_type": "stream",
     "text": [
      "/mnt/home/szheng/ceph/ad/roman_data/e13/e13_26m1/e13_26m1_210913/py_data/place_field_afterheadscan_recombine.p exists; loading---\n",
      "/mnt/home/szheng/ceph/ad/roman_data/e13/e13_26m1/e13_26m1_210913/py_data/fr_map_with_int.p exists; loading---\n",
      "/mnt/home/szheng/ceph/ad/roman_data/e13/e13_26m1/e13_26m1_210913/py_data/sw_res_afterheadscan_fr_mean.p exists; loading---\n",
      "/mnt/home/szheng/ceph/ad/roman_data/e13/e13_26m1/e13_26m1_210913/py_data/switch_analysis/all_sw_info.p exists; loading---\n",
      "/mnt/home/szheng/ceph/ad/roman_data/e15/e15_13f1/e15_13f1_220117/py_data/place_field_afterheadscan_recombine.p exists; loading---\n",
      "/mnt/home/szheng/ceph/ad/roman_data/e15/e15_13f1/e15_13f1_220117/py_data/fr_map_with_int.p exists; loading---\n",
      "/mnt/home/szheng/ceph/ad/roman_data/e15/e15_13f1/e15_13f1_220117/py_data/sw_res_afterheadscan_fr_mean.p exists; loading---\n",
      "/mnt/home/szheng/ceph/ad/roman_data/e15/e15_13f1/e15_13f1_220117/py_data/switch_analysis/all_sw_info.p exists; loading---\n",
      "/mnt/home/szheng/ceph/ad/roman_data/e15/e15_13f1/e15_13f1_220118/py_data/place_field_afterheadscan_recombine.p exists; loading---\n",
      "/mnt/home/szheng/ceph/ad/roman_data/e15/e15_13f1/e15_13f1_220118/py_data/fr_map_with_int.p exists; loading---\n",
      "/mnt/home/szheng/ceph/ad/roman_data/e15/e15_13f1/e15_13f1_220118/py_data/sw_res_afterheadscan_fr_mean.p exists; loading---\n",
      "/mnt/home/szheng/ceph/ad/roman_data/e15/e15_13f1/e15_13f1_220118/py_data/switch_analysis/all_sw_info.p exists; loading---\n",
      "/mnt/home/szheng/ceph/ad/roman_data/e15/e15_13f1/e15_13f1_220119/py_data/place_field_afterheadscan_recombine.p exists; loading---\n",
      "/mnt/home/szheng/ceph/ad/roman_data/e15/e15_13f1/e15_13f1_220119/py_data/fr_map_with_int.p exists; loading---\n",
      "/mnt/home/szheng/ceph/ad/roman_data/e15/e15_13f1/e15_13f1_220119/py_data/sw_res_afterheadscan_fr_mean.p exists; loading---\n",
      "/mnt/home/szheng/ceph/ad/roman_data/e15/e15_13f1/e15_13f1_220119/py_data/switch_analysis/all_sw_info.p exists; loading---\n",
      "/mnt/home/szheng/ceph/ad/roman_data/e15/e15_13f1/e15_13f1_220120/py_data/place_field_afterheadscan_recombine.p exists; loading---\n",
      "/mnt/home/szheng/ceph/ad/roman_data/e15/e15_13f1/e15_13f1_220120/py_data/fr_map_with_int.p exists; loading---\n",
      "/mnt/home/szheng/ceph/ad/roman_data/e15/e15_13f1/e15_13f1_220120/py_data/sw_res_afterheadscan_fr_mean.p exists; loading---\n",
      "/mnt/home/szheng/ceph/ad/roman_data/e15/e15_13f1/e15_13f1_220120/py_data/switch_analysis/all_sw_info.p exists; loading---\n",
      "/mnt/home/szheng/ceph/ad/roman_data/e13/e13_26m1/e13_26m1_211019/py_data/place_field_afterheadscan_recombine.p exists; loading---\n",
      "/mnt/home/szheng/ceph/ad/roman_data/e13/e13_26m1/e13_26m1_211019/py_data/fr_map_with_int.p exists; loading---\n",
      "/mnt/home/szheng/ceph/ad/roman_data/e13/e13_26m1/e13_26m1_211019/py_data/sw_res_afterheadscan_fr_mean.p exists; loading---\n",
      "/mnt/home/szheng/ceph/ad/roman_data/e13/e13_26m1/e13_26m1_211019/py_data/switch_analysis/all_sw_info.p exists; loading---\n",
      "/mnt/home/szheng/ceph/ad/roman_data/e13/e13_16f1/e13_16f1_210328/py_data/place_field_afterheadscan_recombine.p exists; loading---\n",
      "/mnt/home/szheng/ceph/ad/roman_data/e13/e13_16f1/e13_16f1_210328/py_data/fr_map_with_int.p exists; loading---\n",
      "/mnt/home/szheng/ceph/ad/roman_data/e13/e13_16f1/e13_16f1_210328/py_data/sw_res_afterheadscan_fr_mean.p exists; loading---\n",
      "/mnt/home/szheng/ceph/ad/roman_data/e13/e13_16f1/e13_16f1_210328/py_data/switch_analysis/all_sw_info.p exists; loading---\n",
      "/mnt/home/szheng/ceph/ad/roman_data/e13/e13_26m1/e13_26m1_211116/py_data/place_field_afterheadscan_recombine.p exists; loading---\n",
      "/mnt/home/szheng/ceph/ad/roman_data/e13/e13_26m1/e13_26m1_211116/py_data/fr_map_with_int.p exists; loading---\n",
      "/mnt/home/szheng/ceph/ad/roman_data/e13/e13_26m1/e13_26m1_211116/py_data/sw_res_afterheadscan_fr_mean.p exists; loading---\n",
      "/mnt/home/szheng/ceph/ad/roman_data/e13/e13_26m1/e13_26m1_211116/py_data/switch_analysis/all_sw_info.p exists; loading---\n",
      "/mnt/home/szheng/ceph/ad/roman_data/e16/e16_3m2/e16_3m2_211213/py_data/place_field_afterheadscan_recombine.p exists; loading---\n",
      "/mnt/home/szheng/ceph/ad/roman_data/e16/e16_3m2/e16_3m2_211213/py_data/fr_map_with_int.p exists; loading---\n",
      "/mnt/home/szheng/ceph/ad/roman_data/e16/e16_3m2/e16_3m2_211213/py_data/sw_res_afterheadscan_fr_mean.p exists; loading---\n",
      "/mnt/home/szheng/ceph/ad/roman_data/e16/e16_3m2/e16_3m2_211213/py_data/switch_analysis/all_sw_info.p exists; loading---\n",
      "/mnt/home/szheng/ceph/ad/roman_data/e16/e16_3m2/e16_3m2_211212/py_data/place_field_afterheadscan_recombine.p exists; loading---\n",
      "/mnt/home/szheng/ceph/ad/roman_data/e16/e16_3m2/e16_3m2_211212/py_data/fr_map_with_int.p exists; loading---\n",
      "/mnt/home/szheng/ceph/ad/roman_data/e16/e16_3m2/e16_3m2_211212/py_data/sw_res_afterheadscan_fr_mean.p exists; loading---\n",
      "/mnt/home/szheng/ceph/ad/roman_data/e16/e16_3m2/e16_3m2_211212/py_data/switch_analysis/all_sw_info.p exists; loading---\n",
      "/mnt/home/szheng/ceph/ad/roman_data/e16/e16_3m1/e16_3m1_210203/py_data/place_field_afterheadscan_recombine.p exists; loading---\n",
      "/mnt/home/szheng/ceph/ad/roman_data/e16/e16_3m1/e16_3m1_210203/py_data/fr_map_with_int.p exists; loading---\n",
      "/mnt/home/szheng/ceph/ad/roman_data/e16/e16_3m1/e16_3m1_210203/py_data/sw_res_afterheadscan_fr_mean.p exists; loading---\n",
      "/mnt/home/szheng/ceph/ad/roman_data/e16/e16_3m1/e16_3m1_210203/py_data/switch_analysis/all_sw_info.p exists; loading---\n",
      "/mnt/home/szheng/ceph/ad/roman_data/e16/e16_3m2/e16_3m2_211210/py_data/place_field_afterheadscan_recombine.p exists; loading---\n",
      "/mnt/home/szheng/ceph/ad/roman_data/e16/e16_3m2/e16_3m2_211210/py_data/fr_map_with_int.p exists; loading---\n",
      "/mnt/home/szheng/ceph/ad/roman_data/e16/e16_3m2/e16_3m2_211210/py_data/sw_res_afterheadscan_fr_mean.p exists; loading---\n",
      "/mnt/home/szheng/ceph/ad/roman_data/e16/e16_3m2/e16_3m2_211210/py_data/switch_analysis/all_sw_info.p exists; loading---\n",
      "/mnt/home/szheng/ceph/ad/roman_data/e13/e13_26m1/e13_26m1_211119/py_data/place_field_afterheadscan_recombine.p exists; loading---\n",
      "/mnt/home/szheng/ceph/ad/roman_data/e13/e13_26m1/e13_26m1_211119/py_data/fr_map_with_int.p exists; loading---\n",
      "/mnt/home/szheng/ceph/ad/roman_data/e13/e13_26m1/e13_26m1_211119/py_data/sw_res_afterheadscan_fr_mean.p exists; loading---\n",
      "/mnt/home/szheng/ceph/ad/roman_data/e13/e13_26m1/e13_26m1_211119/py_data/switch_analysis/all_sw_info.p exists; loading---\n",
      "/mnt/home/szheng/ceph/ad/roman_data/e13/e13_26m1/e13_26m1_211124/py_data/place_field_afterheadscan_recombine.p exists; loading---\n",
      "/mnt/home/szheng/ceph/ad/roman_data/e13/e13_26m1/e13_26m1_211124/py_data/fr_map_with_int.p exists; loading---\n",
      "/mnt/home/szheng/ceph/ad/roman_data/e13/e13_26m1/e13_26m1_211124/py_data/sw_res_afterheadscan_fr_mean.p exists; loading---\n",
      "/mnt/home/szheng/ceph/ad/roman_data/e13/e13_26m1/e13_26m1_211124/py_data/switch_analysis/all_sw_info.p exists; loading---\n",
      "/mnt/home/szheng/ceph/ad/roman_data/e16/e16_3m1/e16_3m1_210201/py_data/place_field_afterheadscan_recombine.p exists; loading---\n",
      "/mnt/home/szheng/ceph/ad/roman_data/e16/e16_3m1/e16_3m1_210201/py_data/fr_map_with_int.p exists; loading---\n",
      "/mnt/home/szheng/ceph/ad/roman_data/e16/e16_3m1/e16_3m1_210201/py_data/sw_res_afterheadscan_fr_mean.p exists; loading---\n",
      "/mnt/home/szheng/ceph/ad/roman_data/e16/e16_3m1/e16_3m1_210201/py_data/switch_analysis/all_sw_info.p exists; loading---\n",
      "/mnt/home/szheng/ceph/ad/roman_data/e13/e13_16f1/e13_16f1_210331/py_data/place_field_afterheadscan_recombine.p exists; loading---\n",
      "/mnt/home/szheng/ceph/ad/roman_data/e13/e13_16f1/e13_16f1_210331/py_data/fr_map_with_int.p exists; loading---\n",
      "/mnt/home/szheng/ceph/ad/roman_data/e13/e13_16f1/e13_16f1_210331/py_data/sw_res_afterheadscan_fr_mean.p exists; loading---\n",
      "/mnt/home/szheng/ceph/ad/roman_data/e13/e13_16f1/e13_16f1_210331/py_data/switch_analysis/all_sw_info.p exists; loading---\n",
      "/mnt/home/szheng/ceph/ad/roman_data/e16/e16_3m1/e16_3m1_210119/py_data/place_field_afterheadscan_recombine.p exists; loading---\n",
      "/mnt/home/szheng/ceph/ad/roman_data/e16/e16_3m1/e16_3m1_210119/py_data/fr_map_with_int.p exists; loading---\n",
      "/mnt/home/szheng/ceph/ad/roman_data/e16/e16_3m1/e16_3m1_210119/py_data/sw_res_afterheadscan_fr_mean.p exists; loading---\n",
      "/mnt/home/szheng/ceph/ad/roman_data/e16/e16_3m1/e16_3m1_210119/py_data/switch_analysis/all_sw_info.p exists; loading---\n"
     ]
    },
    {
     "name": "stdout",
     "output_type": "stream",
     "text": [
      "/mnt/home/szheng/ceph/ad/roman_data/e13/e13_16f1/e13_16f1_210302/py_data/place_field_afterheadscan_recombine.p exists; loading---\n",
      "/mnt/home/szheng/ceph/ad/roman_data/e13/e13_16f1/e13_16f1_210302/py_data/fr_map_with_int.p exists; loading---\n",
      "/mnt/home/szheng/ceph/ad/roman_data/e13/e13_16f1/e13_16f1_210302/py_data/sw_res_afterheadscan_fr_mean.p exists; loading---\n",
      "/mnt/home/szheng/ceph/ad/roman_data/e13/e13_16f1/e13_16f1_210302/py_data/switch_analysis/all_sw_info.p exists; loading---\n",
      "/mnt/home/szheng/ceph/ad/roman_data/e13/e13_16f1/e13_16f1_210317/py_data/place_field_afterheadscan_recombine.p exists; loading---\n",
      "/mnt/home/szheng/ceph/ad/roman_data/e13/e13_16f1/e13_16f1_210317/py_data/fr_map_with_int.p exists; loading---\n",
      "/mnt/home/szheng/ceph/ad/roman_data/e13/e13_16f1/e13_16f1_210317/py_data/sw_res_afterheadscan_fr_mean.p exists; loading---\n",
      "/mnt/home/szheng/ceph/ad/roman_data/e13/e13_16f1/e13_16f1_210317/py_data/switch_analysis/all_sw_info.p exists; loading---\n",
      "/mnt/home/szheng/ceph/ad/roman_data/e13/e13_16f1/e13_16f1_210312/py_data/place_field_afterheadscan_recombine.p exists; loading---\n",
      "/mnt/home/szheng/ceph/ad/roman_data/e13/e13_16f1/e13_16f1_210312/py_data/fr_map_with_int.p exists; loading---\n",
      "/mnt/home/szheng/ceph/ad/roman_data/e13/e13_16f1/e13_16f1_210312/py_data/sw_res_afterheadscan_fr_mean.p exists; loading---\n",
      "/mnt/home/szheng/ceph/ad/roman_data/e13/e13_16f1/e13_16f1_210312/py_data/switch_analysis/all_sw_info.p exists; loading---\n",
      "/mnt/home/szheng/ceph/ad/roman_data/e15/e15_10m1/e15_10m1_200809/py_data/place_field_afterheadscan_recombine.p exists; loading---\n",
      "/mnt/home/szheng/ceph/ad/roman_data/e15/e15_10m1/e15_10m1_200809/py_data/fr_map_with_int.p exists; loading---\n",
      "/mnt/home/szheng/ceph/ad/roman_data/e15/e15_10m1/e15_10m1_200809/py_data/sw_res_afterheadscan_fr_mean.p exists; loading---\n",
      "/mnt/home/szheng/ceph/ad/roman_data/e15/e15_10m1/e15_10m1_200809/py_data/switch_analysis/all_sw_info.p exists; loading---\n",
      "/mnt/home/szheng/ceph/ad/roman_data/e15/e15_10m1/e15_10m1_200812/py_data/place_field_afterheadscan_recombine.p exists; loading---\n",
      "/mnt/home/szheng/ceph/ad/roman_data/e15/e15_10m1/e15_10m1_200812/py_data/fr_map_with_int.p exists; loading---\n",
      "/mnt/home/szheng/ceph/ad/roman_data/e15/e15_10m1/e15_10m1_200812/py_data/sw_res_afterheadscan_fr_mean.p exists; loading---\n",
      "/mnt/home/szheng/ceph/ad/roman_data/e15/e15_10m1/e15_10m1_200812/py_data/switch_analysis/all_sw_info.p exists; loading---\n",
      "/mnt/home/szheng/ceph/ad/roman_data/e13/e13_16f1/e13_16f1_210314/py_data/place_field_afterheadscan_recombine.p exists; loading---\n",
      "/mnt/home/szheng/ceph/ad/roman_data/e13/e13_16f1/e13_16f1_210314/py_data/fr_map_with_int.p exists; loading---\n",
      "/mnt/home/szheng/ceph/ad/roman_data/e13/e13_16f1/e13_16f1_210314/py_data/sw_res_afterheadscan_fr_mean.p exists; loading---\n",
      "/mnt/home/szheng/ceph/ad/roman_data/e13/e13_16f1/e13_16f1_210314/py_data/switch_analysis/all_sw_info.p exists; loading---\n",
      "/mnt/home/szheng/ceph/ad/roman_data/e15/e15_9f1/e15_9f1_200729/py_data/place_field_afterheadscan_recombine.p exists; loading---\n",
      "/mnt/home/szheng/ceph/ad/roman_data/e15/e15_9f1/e15_9f1_200729/py_data/fr_map_with_int.p exists; loading---\n",
      "/mnt/home/szheng/ceph/ad/roman_data/e15/e15_9f1/e15_9f1_200729/py_data/sw_res_afterheadscan_fr_mean.p exists; loading---\n",
      "/mnt/home/szheng/ceph/ad/roman_data/e15/e15_9f1/e15_9f1_200729/py_data/switch_analysis/all_sw_info.p exists; loading---\n",
      "/mnt/home/szheng/ceph/ad/roman_data/e14/e14_2m2/e14_2m2_201019/py_data/place_field_afterheadscan_recombine.p exists; loading---\n",
      "/mnt/home/szheng/ceph/ad/roman_data/e14/e14_2m2/e14_2m2_201019/py_data/fr_map_with_int.p exists; loading---\n",
      "/mnt/home/szheng/ceph/ad/roman_data/e14/e14_2m2/e14_2m2_201019/py_data/sw_res_afterheadscan_fr_mean.p exists; loading---\n",
      "/mnt/home/szheng/ceph/ad/roman_data/e14/e14_2m2/e14_2m2_201019/py_data/switch_analysis/all_sw_info.p exists; loading---\n",
      "/mnt/home/szheng/ceph/ad/roman_data/e13/e13_16f1/e13_16f1_210319/py_data/place_field_afterheadscan_recombine.p exists; loading---\n",
      "/mnt/home/szheng/ceph/ad/roman_data/e13/e13_16f1/e13_16f1_210319/py_data/fr_map_with_int.p exists; loading---\n",
      "/mnt/home/szheng/ceph/ad/roman_data/e13/e13_16f1/e13_16f1_210319/py_data/sw_res_afterheadscan_fr_mean.p exists; loading---\n",
      "/mnt/home/szheng/ceph/ad/roman_data/e13/e13_16f1/e13_16f1_210319/py_data/switch_analysis/all_sw_info.p exists; loading---\n",
      "/mnt/home/szheng/ceph/ad/roman_data/e13/e13_16f1/e13_16f1_210322/py_data/place_field_afterheadscan_recombine.p exists; loading---\n",
      "/mnt/home/szheng/ceph/ad/roman_data/e13/e13_16f1/e13_16f1_210322/py_data/fr_map_with_int.p exists; loading---\n",
      "/mnt/home/szheng/ceph/ad/roman_data/e13/e13_16f1/e13_16f1_210322/py_data/sw_res_afterheadscan_fr_mean.p exists; loading---\n",
      "/mnt/home/szheng/ceph/ad/roman_data/e13/e13_16f1/e13_16f1_210322/py_data/switch_analysis/all_sw_info.p exists; loading---\n",
      "/mnt/home/szheng/ceph/ad/roman_data/e15/e15_10m1/e15_10m1_200727/py_data/place_field_afterheadscan_recombine.p exists; loading---\n",
      "/mnt/home/szheng/ceph/ad/roman_data/e15/e15_10m1/e15_10m1_200727/py_data/fr_map_with_int.p exists; loading---\n",
      "/mnt/home/szheng/ceph/ad/roman_data/e15/e15_10m1/e15_10m1_200727/py_data/sw_res_afterheadscan_fr_mean.p exists; loading---\n",
      "/mnt/home/szheng/ceph/ad/roman_data/e15/e15_10m1/e15_10m1_200727/py_data/switch_analysis/all_sw_info.p exists; loading---\n",
      "/mnt/home/szheng/ceph/ad/roman_data/e14/e14_2m2/e14_2m2_201017/py_data/place_field_afterheadscan_recombine.p exists; loading---\n",
      "/mnt/home/szheng/ceph/ad/roman_data/e14/e14_2m2/e14_2m2_201017/py_data/fr_map_with_int.p exists; loading---\n",
      "/mnt/home/szheng/ceph/ad/roman_data/e14/e14_2m2/e14_2m2_201017/py_data/sw_res_afterheadscan_fr_mean.p exists; loading---\n",
      "/mnt/home/szheng/ceph/ad/roman_data/e14/e14_2m2/e14_2m2_201017/py_data/switch_analysis/all_sw_info.p exists; loading---\n",
      "/mnt/home/szheng/ceph/ad/roman_data/e16/e16_1f1/e16_1f1_201004/py_data/place_field_afterheadscan_recombine.p exists; loading---\n",
      "/mnt/home/szheng/ceph/ad/roman_data/e16/e16_1f1/e16_1f1_201004/py_data/fr_map_with_int.p exists; loading---\n",
      "/mnt/home/szheng/ceph/ad/roman_data/e16/e16_1f1/e16_1f1_201004/py_data/sw_res_afterheadscan_fr_mean.p exists; loading---\n",
      "/mnt/home/szheng/ceph/ad/roman_data/e16/e16_1f1/e16_1f1_201004/py_data/switch_analysis/all_sw_info.p exists; loading---\n",
      "/mnt/home/szheng/ceph/ad/roman_data/e16/e16_1f1/e16_1f1_200920/py_data/place_field_afterheadscan_recombine.p exists; loading---\n",
      "/mnt/home/szheng/ceph/ad/roman_data/e16/e16_1f1/e16_1f1_200920/py_data/fr_map_with_int.p exists; loading---\n",
      "/mnt/home/szheng/ceph/ad/roman_data/e16/e16_1f1/e16_1f1_200920/py_data/sw_res_afterheadscan_fr_mean.p exists; loading---\n",
      "/mnt/home/szheng/ceph/ad/roman_data/e16/e16_1f1/e16_1f1_200920/py_data/switch_analysis/all_sw_info.p exists; loading---\n",
      "/mnt/home/szheng/ceph/ad/roman_data/e15/e15_9f1/e15_9f1_200723/py_data/place_field_afterheadscan_recombine.p exists; loading---\n",
      "/mnt/home/szheng/ceph/ad/roman_data/e15/e15_9f1/e15_9f1_200723/py_data/fr_map_with_int.p exists; loading---\n",
      "/mnt/home/szheng/ceph/ad/roman_data/e15/e15_9f1/e15_9f1_200723/py_data/sw_res_afterheadscan_fr_mean.p exists; loading---\n",
      "/mnt/home/szheng/ceph/ad/roman_data/e15/e15_9f1/e15_9f1_200723/py_data/switch_analysis/all_sw_info.p exists; loading---\n",
      "/mnt/home/szheng/ceph/ad/roman_data/e14/e14_2m3/e14_2m3_201129/py_data/place_field_afterheadscan_recombine.p exists; loading---\n",
      "/mnt/home/szheng/ceph/ad/roman_data/e14/e14_2m3/e14_2m3_201129/py_data/fr_map_with_int.p exists; loading---\n",
      "/mnt/home/szheng/ceph/ad/roman_data/e14/e14_2m3/e14_2m3_201129/py_data/sw_res_afterheadscan_fr_mean.p exists; loading---\n",
      "/mnt/home/szheng/ceph/ad/roman_data/e14/e14_2m3/e14_2m3_201129/py_data/switch_analysis/all_sw_info.p exists; loading---\n",
      "/mnt/home/szheng/ceph/ad/roman_data/e14/e14_2m3/e14_2m3_201125/py_data/place_field_afterheadscan_recombine.p exists; loading---\n",
      "/mnt/home/szheng/ceph/ad/roman_data/e14/e14_2m3/e14_2m3_201125/py_data/fr_map_with_int.p exists; loading---\n",
      "/mnt/home/szheng/ceph/ad/roman_data/e14/e14_2m3/e14_2m3_201125/py_data/sw_res_afterheadscan_fr_mean.p exists; loading---\n",
      "/mnt/home/szheng/ceph/ad/roman_data/e14/e14_2m3/e14_2m3_201125/py_data/switch_analysis/all_sw_info.p exists; loading---\n",
      "/mnt/home/szheng/ceph/ad/roman_data/e16/e16_1f1/e16_1f1_200918/py_data/place_field_afterheadscan_recombine.p exists; loading---\n",
      "/mnt/home/szheng/ceph/ad/roman_data/e16/e16_1f1/e16_1f1_200918/py_data/fr_map_with_int.p exists; loading---\n",
      "/mnt/home/szheng/ceph/ad/roman_data/e16/e16_1f1/e16_1f1_200918/py_data/sw_res_afterheadscan_fr_mean.p exists; loading---\n",
      "/mnt/home/szheng/ceph/ad/roman_data/e16/e16_1f1/e16_1f1_200918/py_data/switch_analysis/all_sw_info.p exists; loading---\n"
     ]
    },
    {
     "name": "stdout",
     "output_type": "stream",
     "text": [
      "/mnt/home/szheng/ceph/ad/roman_data/e16/e16_1f1/e16_1f1_200919/py_data/place_field_afterheadscan_recombine.p exists; loading---\n",
      "/mnt/home/szheng/ceph/ad/roman_data/e16/e16_1f1/e16_1f1_200919/py_data/fr_map_with_int.p exists; loading---\n",
      "/mnt/home/szheng/ceph/ad/roman_data/e16/e16_1f1/e16_1f1_200919/py_data/sw_res_afterheadscan_fr_mean.p exists; loading---\n",
      "/mnt/home/szheng/ceph/ad/roman_data/e16/e16_1f1/e16_1f1_200919/py_data/switch_analysis/all_sw_info.p exists; loading---\n",
      "/mnt/home/szheng/ceph/ad/roman_data/e14/e14_2m3/e14_2m3_201208/py_data/place_field_afterheadscan_recombine.p exists; loading---\n",
      "/mnt/home/szheng/ceph/ad/roman_data/e14/e14_2m3/e14_2m3_201208/py_data/fr_map_with_int.p exists; loading---\n",
      "/mnt/home/szheng/ceph/ad/roman_data/e14/e14_2m3/e14_2m3_201208/py_data/sw_res_afterheadscan_fr_mean.p exists; loading---\n",
      "/mnt/home/szheng/ceph/ad/roman_data/e14/e14_2m3/e14_2m3_201208/py_data/switch_analysis/all_sw_info.p exists; loading---\n",
      "/mnt/home/szheng/ceph/ad/roman_data/e14/e14_2m3/e14_2m3_201206/py_data/place_field_afterheadscan_recombine.p exists; loading---\n",
      "/mnt/home/szheng/ceph/ad/roman_data/e14/e14_2m3/e14_2m3_201206/py_data/fr_map_with_int.p exists; loading---\n",
      "/mnt/home/szheng/ceph/ad/roman_data/e14/e14_2m3/e14_2m3_201206/py_data/sw_res_afterheadscan_fr_mean.p exists; loading---\n",
      "/mnt/home/szheng/ceph/ad/roman_data/e14/e14_2m3/e14_2m3_201206/py_data/switch_analysis/all_sw_info.p exists; loading---\n",
      "/mnt/home/szheng/ceph/ad/roman_data/e15/e15_9f1/e15_9f1_200802/py_data/place_field_afterheadscan_recombine.p exists; loading---\n",
      "/mnt/home/szheng/ceph/ad/roman_data/e15/e15_9f1/e15_9f1_200802/py_data/fr_map_with_int.p exists; loading---\n",
      "/mnt/home/szheng/ceph/ad/roman_data/e15/e15_9f1/e15_9f1_200802/py_data/sw_res_afterheadscan_fr_mean.p exists; loading---\n",
      "/mnt/home/szheng/ceph/ad/roman_data/e15/e15_9f1/e15_9f1_200802/py_data/switch_analysis/all_sw_info.p exists; loading---\n",
      "/mnt/home/szheng/ceph/ad/roman_data/e16/e16_1f1/e16_1f1_200923/py_data/place_field_afterheadscan_recombine.p exists; loading---\n",
      "/mnt/home/szheng/ceph/ad/roman_data/e16/e16_1f1/e16_1f1_200923/py_data/fr_map_with_int.p exists; loading---\n",
      "/mnt/home/szheng/ceph/ad/roman_data/e16/e16_1f1/e16_1f1_200923/py_data/sw_res_afterheadscan_fr_mean.p exists; loading---\n",
      "/mnt/home/szheng/ceph/ad/roman_data/e16/e16_1f1/e16_1f1_200923/py_data/switch_analysis/all_sw_info.p exists; loading---\n",
      "/mnt/home/szheng/ceph/ad/roman_data/e15/e15_9f1/e15_9f1_200720/py_data/place_field_afterheadscan_recombine.p exists; loading---\n",
      "/mnt/home/szheng/ceph/ad/roman_data/e15/e15_9f1/e15_9f1_200720/py_data/fr_map_with_int.p exists; loading---\n",
      "/mnt/home/szheng/ceph/ad/roman_data/e15/e15_9f1/e15_9f1_200720/py_data/sw_res_afterheadscan_fr_mean.p exists; loading---\n",
      "/mnt/home/szheng/ceph/ad/roman_data/e15/e15_9f1/e15_9f1_200720/py_data/switch_analysis/all_sw_info.p exists; loading---\n",
      "/mnt/home/szheng/ceph/ad/roman_data/e16/e16_2m1/e16_2m1_201121/py_data/place_field_afterheadscan_recombine.p exists; loading---\n",
      "/mnt/home/szheng/ceph/ad/roman_data/e16/e16_2m1/e16_2m1_201121/py_data/fr_map_with_int.p exists; loading---\n",
      "/mnt/home/szheng/ceph/ad/roman_data/e16/e16_2m1/e16_2m1_201121/py_data/sw_res_afterheadscan_fr_mean.p exists; loading---\n",
      "/mnt/home/szheng/ceph/ad/roman_data/e16/e16_2m1/e16_2m1_201121/py_data/switch_analysis/all_sw_info.p exists; loading---\n",
      "/mnt/home/szheng/ceph/ad/roman_data/e15/e15_10m1/e15_10m1_200803/py_data/place_field_afterheadscan_recombine.p exists; loading---\n",
      "/mnt/home/szheng/ceph/ad/roman_data/e15/e15_10m1/e15_10m1_200803/py_data/fr_map_with_int.p exists; loading---\n",
      "/mnt/home/szheng/ceph/ad/roman_data/e15/e15_10m1/e15_10m1_200803/py_data/sw_res_afterheadscan_fr_mean.p exists; loading---\n",
      "/mnt/home/szheng/ceph/ad/roman_data/e15/e15_10m1/e15_10m1_200803/py_data/switch_analysis/all_sw_info.p exists; loading---\n",
      "/mnt/home/szheng/ceph/ad/roman_data/e15/e15_9f1/e15_9f1_200715/py_data/place_field_afterheadscan_recombine.p exists; loading---\n",
      "/mnt/home/szheng/ceph/ad/roman_data/e15/e15_9f1/e15_9f1_200715/py_data/fr_map_with_int.p exists; loading---\n",
      "/mnt/home/szheng/ceph/ad/roman_data/e15/e15_9f1/e15_9f1_200715/py_data/sw_res_afterheadscan_fr_mean.p exists; loading---\n",
      "/mnt/home/szheng/ceph/ad/roman_data/e15/e15_9f1/e15_9f1_200715/py_data/switch_analysis/all_sw_info.p exists; loading---\n",
      "/mnt/home/szheng/ceph/ad/roman_data/e14/e14_2m3/e14_2m3_201121/py_data/place_field_afterheadscan_recombine.p exists; loading---\n",
      "/mnt/home/szheng/ceph/ad/roman_data/e14/e14_2m3/e14_2m3_201121/py_data/fr_map_with_int.p exists; loading---\n",
      "/mnt/home/szheng/ceph/ad/roman_data/e14/e14_2m3/e14_2m3_201121/py_data/sw_res_afterheadscan_fr_mean.p exists; loading---\n",
      "/mnt/home/szheng/ceph/ad/roman_data/e14/e14_2m3/e14_2m3_201121/py_data/switch_analysis/all_sw_info.p exists; loading---\n",
      "/mnt/home/szheng/ceph/ad/roman_data/e14/e14_2m3/e14_2m3_201118/py_data/place_field_afterheadscan_recombine.p exists; loading---\n",
      "/mnt/home/szheng/ceph/ad/roman_data/e14/e14_2m3/e14_2m3_201118/py_data/fr_map_with_int.p exists; loading---\n",
      "/mnt/home/szheng/ceph/ad/roman_data/e14/e14_2m3/e14_2m3_201118/py_data/sw_res_afterheadscan_fr_mean.p exists; loading---\n",
      "/mnt/home/szheng/ceph/ad/roman_data/e14/e14_2m3/e14_2m3_201118/py_data/switch_analysis/all_sw_info.p exists; loading---\n",
      "CPU times: user 13.4 s, sys: 7.2 s, total: 20.6 s\n",
      "Wall time: 1min 38s\n"
     ]
    }
   ],
   "source": [
    "# %%time\n",
    "# all_fields_recombined_all = {}\n",
    "# pf_params_recombined_all = {}\n",
    "# fr_map_trial_df_all = {}\n",
    "# pval_all = {}\n",
    "# best_n_all = {}\n",
    "# X_pwc_all = {}\n",
    "# X_raw_all = {}\n",
    "# changes_df_all = {}\n",
    "# var_res_all = {}\n",
    "# corr_all = {}\n",
    "# all_sw_d_all = {}\n",
    "# all_sw_with_metrics_d_all = {}\n",
    "# trial_index_to_index_within_df_all = {}\n",
    "\n",
    "# for ind,row in subdb.iterrows():\n",
    "#     data_dir_full = row['data_dir_full']\n",
    "#     ani = ind[0]\n",
    "#     sess = row['sess_name']\n",
    "    \n",
    "#     res=dpp.load_spk_beh_df(data_dir_full,load_only=True)\n",
    "#     if res is not None:\n",
    "#         spk_beh_df = res['spk_beh_df']\n",
    "#         trial_index_to_index_within_df = dpp.trial_index_to_index_within_trialtype(spk_beh_df)\n",
    "#         trial_index_to_index_within_df_all[ani,sess] = trial_index_to_index_within_df\n",
    "        \n",
    "\n",
    "#     pf_res_recombine = pfrc.main(data_dir_full,force_reload=False,load_only=True)\n",
    "\n",
    "#     all_fields_recombined=pf_res_recombine['all_fields_recombined']\n",
    "#     all_fields_recombined_all[ani,sess] = all_fields_recombined\n",
    "#     pf_params_recombined = pf_res_recombine['params_recombined']\n",
    "#     pf_params_recombined_all[ani,sess] = pf_params_recombined\n",
    "\n",
    "#     fr_map_all = fmos.main(data_dir_full,force_reload=False,load_only=True)\n",
    "#     fr_map_trial_df = fr_map_all['fr_map_trial_df']\n",
    "#     fr_map_trial_df_all[ani,sess] = fr_map_trial_df\n",
    "\n",
    "\n",
    "\n",
    "#     sw_res = sdos.main(data_dir_full,force_reload=False,load_only=True)\n",
    "#     pval = sw_res['pval']\n",
    "#     pval_all[ani,sess]=pval\n",
    "#     best_n = sw_res['best_n']\n",
    "#     best_n_all[ani,sess] = best_n\n",
    "#     X_pwc = sw_res['X_pwc']\n",
    "#     X_pwc_all[ani,sess] = X_pwc\n",
    "#     X_raw = sw_res['X_raw']\n",
    "#     X_raw_all[ani,sess]=X_raw\n",
    "#     changes_df = sw_res['changes_df']\n",
    "#     changes_df_all[ani,sess] = changes_df\n",
    "#     var_res = sw_res['var_res']\n",
    "#     var_res_all[ani,sess]=var_res\n",
    "#     corr = sw_res['corr']\n",
    "#     corr_all[ani,sess] = corr\n",
    "\n",
    "#     sw_info_res=gasam.main(data_dir_full,force_reload=False,load_only=True)\n",
    "#     if sw_info_res is None:\n",
    "#         sw_info_res=gasam.main(data_dir_full,force_reload=True,load_only=False)\n",
    "#     all_sw_d = sw_info_res['all_sw_d']\n",
    "#     all_sw_d_all[ani,sess] = all_sw_d\n",
    "#     all_sw_with_metrics_d = sw_info_res['all_sw_with_metrics_d']\n",
    "#     all_sw_with_metrics_d_all[ani,sess] = all_sw_with_metrics_d\n",
    "\n",
    "# all_fields_recombined_all = pd.concat(all_fields_recombined_all,axis=0)\n",
    "# pf_params_recombined_all = pd.concat(pf_params_recombined_all,axis=0)\n",
    "# fr_map_trial_df_all = pd.concat(fr_map_trial_df_all,axis=0)\n",
    "# pval_all = pd.concat(pval_all,axis=0)\n",
    "# X_pwc_all = pd.concat(X_pwc_all,axis=0)\n",
    "# X_raw_all = pd.concat(X_raw_all,axis=0)\n",
    "# changes_df_all = pd.concat(changes_df_all,axis=0)\n",
    "# var_res_all = pd.concat(var_res_all,axis=0)\n",
    "# corr_all = pd.concat(corr_all,axis=0)\n",
    "# all_sw_d_all = pd.concat(all_sw_d_all,axis=0)\n",
    "# all_sw_with_metrics_d_all = pd.concat(all_sw_with_metrics_d_all,axis=0)\n",
    "# best_n_all = pd.concat(best_n_all,axis=0)\n"
   ]
  },
  {
   "cell_type": "code",
   "execution_count": 7,
   "id": "4a1eb182",
   "metadata": {},
   "outputs": [],
   "source": [
    "ntrials_per_sess=fr_map_trial_df_all.groupby(level=(0,1,2,3)).apply(lambda x:x.dropna(axis=1,how='all').shape[1])"
   ]
  },
  {
   "cell_type": "code",
   "execution_count": 8,
   "id": "764e7b0e",
   "metadata": {},
   "outputs": [],
   "source": [
    "ntrials_per_sess_trialtyp_summed=ntrials_per_sess.groupby(level=(0,1,2)).sum()\n",
    "ntrials_mask = ntrials_per_sess_trialtyp_summed >= 20"
   ]
  },
  {
   "cell_type": "markdown",
   "id": "d019ee35",
   "metadata": {},
   "source": [
    "# exp var ratio vs shuffle"
   ]
  },
  {
   "cell_type": "code",
   "execution_count": 39,
   "id": "ebf9e0c1",
   "metadata": {},
   "outputs": [],
   "source": [
    "# best_n_no_zero=pval.loc[:,(slice(None),'pval')].droplevel(axis=1,level=1).idxmin(axis=1)\n",
    "# best_pval = pval.apply(lambda x:x[best_n_no_zero[x.name]],axis=1)"
   ]
  },
  {
   "cell_type": "code",
   "execution_count": 131,
   "id": "263565b2",
   "metadata": {},
   "outputs": [
    {
     "data": {
      "text/plain": [
       "<matplotlib.legend.Legend at 0x1554bd862610>"
      ]
     },
     "execution_count": 131,
     "metadata": {},
     "output_type": "execute_result"
    },
    {
     "data": {
      "image/png": "[encoded data removed]",
      "text/plain": [
       "<Figure size 432x288 with 1 Axes>"
      ]
     },
     "metadata": {
      "needs_background": "light"
     },
     "output_type": "display_data"
    }
   ],
   "source": [
    "# %matplotlib inline\n",
    "# fig,ax=plt.subplots()\n",
    "# ax.set_aspect('equal')\n",
    "# issig = best_n > 0\n",
    "# c = [matplotlib.colors.to_rgb('C0') if i else matplotlib.colors.to_rgb('C0') for i in issig]\n",
    "# c_dict = {True:'C3',False:'C2'}\n",
    "# label_d = {True:'significant',False:'not sig.'}\n",
    "# for tf in [True,False]:\n",
    "#     ma = issig == tf\n",
    "#     best_pval_ma = best_pval.loc[ma]\n",
    "#     errorbar=best_pval_ma[['exp_var_ratio_sh_low','exp_var_ratio_sh_high']].T - best_pval_ma['exp_var_ratio_sh_med']\n",
    "#     errorbar = [-errorbar.iloc[0],errorbar.iloc[1]]\n",
    "#     c = c_dict[tf]\n",
    "#     ax.errorbar(best_pval_ma['exp_var_ratio_sh_med'],best_pval_ma['exp_var_ratio'],xerr = errorbar,fmt='o',\n",
    "#             errorevery=10,c=c,label=label_d[tf]\n",
    "#            )\n",
    "# ax.plot([0,1],[0,1],color='k',linestyle=':',label='data=shuffle')\n",
    "# ax.plot([0,0.5],[0,1],color='k',linestyle='-.',label='1-fold increase')\n",
    "# ax.plot([0,1/3],[0,1],color='k',linestyle='--',label='2-fold increase')\n",
    "# ax.spines[['top','right']].set_visible(False)\n",
    "# ax.set_xlabel('Explained variance ratio (shuffled)')\n",
    "# ax.set_ylabel('Explained variance ratio')\n",
    "# ax.legend(bbox_to_anchor=[1,1.05])\n"
   ]
  },
  {
   "cell_type": "code",
   "execution_count": 133,
   "id": "82888ec5",
   "metadata": {},
   "outputs": [
    {
     "data": {
      "text/plain": [
       "<matplotlib.legend.Legend at 0x1554be5c90a0>"
      ]
     },
     "execution_count": 133,
     "metadata": {},
     "output_type": "execute_result"
    },
    {
     "data": {
      "image/png": "[encoded data removed]",
      "text/plain": [
       "<Figure size 432x288 with 1 Axes>"
      ]
     },
     "metadata": {
      "needs_background": "light"
     },
     "output_type": "display_data"
    }
   ],
   "source": [
    "# %matplotlib inline\n",
    "# fig,ax=plt.subplots()\n",
    "# ax.set_aspect('equal')\n",
    "# issig = best_n > 0\n",
    "# c = [matplotlib.colors.to_rgb('C0') if i else matplotlib.colors.to_rgb('C0') for i in issig]\n",
    "# c_dict = {True:'C3',False:'C2'}\n",
    "# label_d = {True:'significant',False:'not sig.'}\n",
    "# for tf in [True,False]:\n",
    "#     ma = issig == tf\n",
    "#     best_pval_ma = best_pval.loc[ma]\n",
    "#     errorbar=best_pval_ma[['exp_var_ratio_sh_low','exp_var_ratio_sh_high']].T - best_pval_ma['exp_var_ratio_sh_med']\n",
    "#     errorbar = [-errorbar.iloc[0],errorbar.iloc[1]]\n",
    "#     c = c_dict[tf]\n",
    "#     ax.errorbar(best_pval_ma['exp_var_ratio_sh_med'],best_pval_ma['exp_var_ratio'],xerr = errorbar,fmt='o',\n",
    "#             errorevery=1,c=c,label=label_d[tf],alpha=0.5\n",
    "#            )\n",
    "# ax.plot([0,1],[0,1],color='k',linestyle=':',label='data=shuffle')\n",
    "# ax.plot([0,0.5],[0,1],color='k',linestyle='-.',label='1-fold increase')\n",
    "# ax.plot([0,1/3],[0,1],color='k',linestyle='--',label='2-fold increase')\n",
    "# ax.spines[['top','right']].set_visible(False)\n",
    "# ax.set_xlabel('Explained variance ratio (shuffled)')\n",
    "# ax.set_ylabel('Explained variance ratio')\n",
    "# ax.legend(bbox_to_anchor=[1,1.05])\n"
   ]
  },
  {
   "cell_type": "code",
   "execution_count": 161,
   "id": "42d8e6af",
   "metadata": {},
   "outputs": [
    {
     "data": {
      "text/plain": [
       "<matplotlib.legend.Legend at 0x1554bbe6e220>"
      ]
     },
     "execution_count": 161,
     "metadata": {},
     "output_type": "execute_result"
    },
    {
     "data": {
      "image/png": "[encoded data removed]",
      "text/plain": [
       "<Figure size 432x288 with 1 Axes>"
      ]
     },
     "metadata": {
      "needs_background": "light"
     },
     "output_type": "display_data"
    }
   ],
   "source": [
    "# %matplotlib inline\n",
    "# fig,ax=plt.subplots()\n",
    "# ax.set_aspect('equal')\n",
    "# issig = best_n > 0\n",
    "# c = [matplotlib.colors.to_rgb('C0') if i else matplotlib.colors.to_rgb('C0') for i in issig]\n",
    "# c_dict = {True:'C3',False:'C2'}\n",
    "# label_d = {True:'significant',False:'not sig.'}\n",
    "# for tf in [True,False]:\n",
    "#     ma = issig == tf\n",
    "#     best_pval_ma = best_pval.loc[ma]\n",
    "#     errorbar=best_pval_ma[['exp_var_ratio_sh_low','exp_var_ratio_sh_high']].T - best_pval_ma['exp_var_ratio_sh_med']\n",
    "#     errorbar = [-errorbar.iloc[0],errorbar.iloc[1]]\n",
    "#     c = c_dict[tf]\n",
    "#     ax.scatter(best_pval_ma['exp_var_ratio_sh_med'],best_pval_ma['exp_var_ratio'],\n",
    "#             c=c,label=label_d[tf],alpha=0.5\n",
    "#            )\n",
    "# ax.plot([0,1],[0,1],color='k',linestyle=':',label='data=shuffle')\n",
    "# ax.plot([0,0.5],[0,1],color='k',linestyle='-.',label='1-fold increase')\n",
    "# ax.plot([0,1/3],[0,1],color='k',linestyle='--',label='2-fold increase')\n",
    "# ax.spines[['top','right']].set_visible(False)\n",
    "# ax.set_xlabel('Explained variance ratio (shuffled)')\n",
    "# ax.set_ylabel('Explained variance ratio')\n",
    "# ax.legend(bbox_to_anchor=[1,1.05])\n"
   ]
  },
  {
   "cell_type": "code",
   "execution_count": 17,
   "id": "349eb181",
   "metadata": {},
   "outputs": [],
   "source": [
    "best_n_no_zero_all=pval_all.loc[:,(slice(None),'pval')].droplevel(axis=1,level=1).idxmin(axis=1)\n",
    "best_pval_all = pval_all.apply(lambda x:x[best_n_no_zero_all[x.name]],axis=1)"
   ]
  },
  {
   "cell_type": "code",
   "execution_count": 26,
   "id": "1d240514",
   "metadata": {},
   "outputs": [
    {
     "data": {
      "text/plain": [
       "8"
      ]
     },
     "execution_count": 26,
     "metadata": {},
     "output_type": "execute_result"
    }
   ],
   "source": [
    "best_pval_all.loc[(slice(None),slice(None),1)].index.get_level_values(1).nunique() # n novel sessions"
   ]
  },
  {
   "cell_type": "code",
   "execution_count": 27,
   "id": "c47c0007",
   "metadata": {},
   "outputs": [
    {
     "data": {
      "text/plain": [
       "46"
      ]
     },
     "execution_count": 27,
     "metadata": {},
     "output_type": "execute_result"
    }
   ],
   "source": [
    "best_pval_all.index.get_level_values(1).nunique() # n session"
   ]
  },
  {
   "cell_type": "code",
   "execution_count": 54,
   "id": "9fea51aa",
   "metadata": {},
   "outputs": [],
   "source": [
    "import matplotlib\n",
    "def plot_exp_var_ratio_vs_shuffle(changes_df_all=None,best_n_all=None,pval_all=None,best_pval_all=None,figsize=(2.5,2.5)):\n",
    "    if changes_df_all is not None: # prioritize using changes_df, which is more processed than best_n\n",
    "        issig_all=((changes_df_all!=0)&(changes_df_all.notna())).sum(axis=1)>0\n",
    "    elif best_n_all is not None:\n",
    "        issig_all = best_n_all > 0\n",
    "        \n",
    "    if best_pval_all is None:\n",
    "        best_n_no_zero_all=pval_all.loc[:,(slice(None),'pval')].droplevel(axis=1,level=1).idxmin(axis=1)\n",
    "        best_pval_all = pval_all.apply(lambda x:x[best_n_no_zero_all[x.name]],axis=1)\n",
    "    \n",
    "    fig,ax=plt.subplots(figsize=figsize)\n",
    "    ax.set_aspect('equal')\n",
    "    \n",
    "    c = [matplotlib.colors.to_rgb('C0') if i else matplotlib.colors.to_rgb('C0') for i in issig_all]\n",
    "    c_dict = {True:'red',False:'blue'}\n",
    "    label_d = {True:'significant',False:'not sig.'}\n",
    "    for tf in [False,True]:\n",
    "        ma = issig_all == tf\n",
    "        best_pval_ma_all = best_pval_all.loc[ma]\n",
    "    #     errorbar=best_pval_ma[['exp_var_ratio_sh_low','exp_var_ratio_sh_high']].T - best_pval_ma['exp_var_ratio_sh_med']\n",
    "    #     errorbar = [-errorbar.iloc[0],errorbar.iloc[1]]\n",
    "        c = c_dict[tf]\n",
    "        ax.scatter(best_pval_ma_all['exp_var_ratio_sh_med'],best_pval_ma_all['exp_var_ratio'],\n",
    "                c=c,label=label_d[tf],alpha=0.5,s=0.1,\n",
    "               )\n",
    "    ax.plot([0,1],[0,1],color='k',linestyle=':',label='data=shuffle')\n",
    "    ax.plot([0,0.5],[0,1],color='k',linestyle='-.',label='1-fold increase')\n",
    "    ax.plot([0,1/3],[0,1],color='k',linestyle='--',label='2-fold increase')\n",
    "    ax.spines[['top','right']].set_visible(False)\n",
    "    ax.set_xlabel('Explained variance ratio (shuffled)')\n",
    "    ax.set_ylabel('Explained variance ratio')\n",
    "    legend=ax.legend(bbox_to_anchor=[1,1.05],frameon=False)\n",
    "    legend.legendHandles[0]._sizes = [30]\n",
    "    legend.legendHandles[1]._sizes = [30]\n",
    "    \n",
    "    return best_pval_all, fig,ax\n",
    "\n",
    "\n"
   ]
  },
  {
   "cell_type": "code",
   "execution_count": 55,
   "id": "a3a1c211",
   "metadata": {
    "scrolled": false
   },
   "outputs": [
    {
     "name": "stderr",
     "output_type": "stream",
     "text": [
      "/tmp/ipykernel_2296194/510395295.py:34: MatplotlibDeprecationWarning: The legendHandles attribute was deprecated in Matplotlib 3.7 and will be removed two minor releases later. Use legend_handles instead.\n",
      "  legend.legendHandles[0]._sizes = [30]\n",
      "/tmp/ipykernel_2296194/510395295.py:35: MatplotlibDeprecationWarning: The legendHandles attribute was deprecated in Matplotlib 3.7 and will be removed two minor releases later. Use legend_handles instead.\n",
      "  legend.legendHandles[1]._sizes = [30]\n"
     ]
    },
    {
     "data": {
      "image/png": "[encoded data removed]",
      "text/plain": [
       "<Figure size 180x180 with 1 Axes>"
      ]
     },
     "metadata": {
      "needs_background": "light"
     },
     "output_type": "display_data"
    }
   ],
   "source": [
    "best_pval_all,fig,ax=plot_exp_var_ratio_vs_shuffle(changes_df_all=changes_df_all,pval_all=pval_all)\n",
    "# ax.get_legend().set_visible(False)\n",
    "figfn = 'exp_var_ratio_vs_shuffle'\n",
    "# ph.save_given_name(fig,figfn,figdir)\n",
    "# fn = os.path.join(figdir,'exp_var_ratio_vs_shuffle.svg')\n",
    "# fig.savefig(fn,bbox_inches='tight')"
   ]
  },
  {
   "cell_type": "code",
   "execution_count": 56,
   "id": "907f80ae",
   "metadata": {},
   "outputs": [],
   "source": [
    "has_sw=((changes_df_all!=0)&(changes_df_all.notna())).sum(axis=1)>0"
   ]
  },
  {
   "cell_type": "code",
   "execution_count": 66,
   "id": "8f8fd1fd",
   "metadata": {},
   "outputs": [
    {
     "data": {
      "text/plain": [
       "0.06658291457286432"
      ]
     },
     "execution_count": 66,
     "metadata": {},
     "output_type": "execute_result"
    }
   ],
   "source": [
    "((best_n_all>0).sum() - has_sw.sum() ) / (best_n_all>0).sum() # what fraction of switches were ruled out"
   ]
  },
  {
   "cell_type": "code",
   "execution_count": 68,
   "id": "8911bd70",
   "metadata": {},
   "outputs": [
    {
     "data": {
      "text/plain": [
       "3184"
      ]
     },
     "execution_count": 68,
     "metadata": {},
     "output_type": "execute_result"
    }
   ],
   "source": [
    "(best_n_all>0).sum() # number of putative switching fields at first"
   ]
  },
  {
   "cell_type": "code",
   "execution_count": 70,
   "id": "b5b012ac",
   "metadata": {},
   "outputs": [],
   "source": [
    "has_sw_on=(changes_df_all==1).sum(axis=1)>0\n",
    "has_sw_off=(changes_df_all==-1).sum(axis=1)>0"
   ]
  },
  {
   "cell_type": "code",
   "execution_count": 73,
   "id": "52e1fbcb",
   "metadata": {},
   "outputs": [
    {
     "name": "stdout",
     "output_type": "stream",
     "text": [
      "isnovel=0 \n",
      "N=12311 \n",
      "N sig=2310 \n",
      "frac =0.18763707253675574 \n",
      "N ON =1740 \n",
      "frac ON =0.1413370156770368 \n",
      "N OFF =1106 \n",
      "frac OFF =0.08983835594184063\n",
      "\n",
      "isnovel=1 \n",
      "N=2127 \n",
      "N sig=662 \n",
      "frac =0.31123648330982606 \n",
      "N ON =526 \n",
      "frac ON =0.24729666196520922 \n",
      "N OFF =377 \n",
      "frac OFF =0.1772449459332393\n",
      "\n"
     ]
    }
   ],
   "source": [
    "for isnovel in [0,1]:\n",
    "    sub=has_sw.loc[(slice(None),slice(None),isnovel)]\n",
    "    sub_on=has_sw_on.loc[(slice(None),slice(None),isnovel)]\n",
    "    sub_off=has_sw_off.loc[(slice(None),slice(None),isnovel)]\n",
    "    print(f'isnovel={isnovel} ')\n",
    "    print(f'N={sub.shape[0]} ')\n",
    "    print(f'N sig={sub.sum()} ')\n",
    "    print(f'frac ={sub.mean()} ')\n",
    "    print(f'N ON ={sub_on.sum()} ')\n",
    "    print(f'frac ON ={sub_on.mean()} ')\n",
    "    print(f'N OFF ={sub_off.sum()} ')\n",
    "    print(f'frac OFF ={sub_off.mean()}\\n')\n",
    "    \n",
    "\n",
    "          "
   ]
  },
  {
   "cell_type": "markdown",
   "id": "25110426",
   "metadata": {},
   "source": [
    "# frac significant per animal/session"
   ]
  },
  {
   "cell_type": "code",
   "execution_count": 23,
   "id": "c3baa503",
   "metadata": {},
   "outputs": [],
   "source": [
    "from statannotations.Annotator import Annotator"
   ]
  },
  {
   "cell_type": "code",
   "execution_count": 24,
   "id": "a02ef95d",
   "metadata": {},
   "outputs": [],
   "source": [
    "has_sw=((changes_df_all!=0)&(changes_df_all.notna())).sum(axis=1)>0"
   ]
  },
  {
   "cell_type": "code",
   "execution_count": 25,
   "id": "4ab6eb72",
   "metadata": {},
   "outputs": [],
   "source": [
    "# ratio_sig_per_sess = best_n_all.groupby(level=(0,1,2)).apply(lambda x:(x>0).mean())\n",
    "ratio_sig_per_sess = has_sw.groupby(level=(0,1,2)).apply(lambda x:(x>0).mean())\n",
    "\n",
    "ratio_sig_per_sess_reset_ind=ratio_sig_per_sess.reset_index()\n",
    "ratio_sig_per_sess_reset_ind=ratio_sig_per_sess_reset_ind.rename({'level_0':'Animal','level_1':'Session','level_2':'Novel maze',0:'Frac. switching fields'},axis=1)\n",
    "\n",
    "# seperate between ani with novel and ani without novel session\n",
    "ani_with_novel = ratio_sig_per_sess_reset_ind.groupby(['Animal'])['Novel maze'].nunique() > 1\n",
    "\n",
    "ratio_sig_per_sess_reset_ind['ani with novel']=ani_with_novel.loc[ratio_sig_per_sess_reset_ind['Animal']].values\n",
    "\n",
    "xs = np.zeros(ratio_sig_per_sess_reset_ind.shape[0])\n",
    "ma=np.logical_not(ratio_sig_per_sess_reset_ind['Novel maze'].astype(bool)) & np.logical_not(ratio_sig_per_sess_reset_ind['ani with novel'])\n",
    "xs[ma]=0\n",
    "ma=np.logical_not(ratio_sig_per_sess_reset_ind['Novel maze'].astype(bool)) & ratio_sig_per_sess_reset_ind['ani with novel']\n",
    "xs[ma]=1\n",
    "ma=(ratio_sig_per_sess_reset_ind['Novel maze']==1)\n",
    "xs[ma]=2\n",
    "ratio_sig_per_sess_reset_ind['xs'] = xs"
   ]
  },
  {
   "cell_type": "code",
   "execution_count": 26,
   "id": "8463df3a",
   "metadata": {},
   "outputs": [],
   "source": [
    "def stripplot_with_median(data,x,y,fig=None,ax=None,reorder=False,color_per_strip=None,strip_kws={},ms=1,xticklabels_rotation=0,figsize=(2,3)):\n",
    "    medians = data.groupby(x)[y].median()\n",
    "    if reorder:\n",
    "        medians=medians.sort_values(ascending=False)\n",
    "    order = medians.index\n",
    "        \n",
    "    if ax is None:\n",
    "        fig,ax=plt.subplots(figsize=figsize)\n",
    "    if color_per_strip is None:\n",
    "        ax = sns.stripplot(data=data,x=x,y=y,ax=ax,**strip_kws,order=order)\n",
    "    else:\n",
    "        gpb=data.groupby(x)\n",
    "        for k,val in gpb:\n",
    "            xs = k+np.random.normal(size=val.shape[0]) * 0.01\n",
    "            ys = val[y]\n",
    "            ax.scatter(xs,ys,c=color_per_strip[k],s=ms)\n",
    "#             ax=sns.stripplot(data=val,x=x,y=y,color=color_per_strip[k])\n",
    "    ax.spines[['top','right']].set_visible(False)\n",
    "    xticklabels=ax.get_xticklabels()\n",
    "    ax.set_xticklabels(xticklabels,rotation=xticklabels_rotation)\n",
    "    \n",
    "    for ii,(k,val) in enumerate(medians.iteritems()):\n",
    "        ax.hlines(val,ii-0.2,ii+0.2,color='k')\n",
    "\n",
    "    \n",
    "    return fig,ax,order \n",
    "    \n",
    "    "
   ]
  },
  {
   "cell_type": "code",
   "execution_count": 12,
   "id": "68ea451d",
   "metadata": {
    "scrolled": true
   },
   "outputs": [
    {
     "data": {
      "text/html": [
       "<div>\n",
       "<style scoped>\n",
       "    .dataframe tbody tr th:only-of-type {\n",
       "        vertical-align: middle;\n",
       "    }\n",
       "\n",
       "    .dataframe tbody tr th {\n",
       "        vertical-align: top;\n",
       "    }\n",
       "\n",
       "    .dataframe thead th {\n",
       "        text-align: right;\n",
       "    }\n",
       "</style>\n",
       "<table border=\"1\" class=\"dataframe\">\n",
       "  <thead>\n",
       "    <tr style=\"text-align: right;\">\n",
       "      <th></th>\n",
       "      <th>Animal</th>\n",
       "      <th>Session</th>\n",
       "      <th>Novel maze</th>\n",
       "      <th>Frac. switching fields</th>\n",
       "      <th>ani with novel</th>\n",
       "      <th>xs</th>\n",
       "    </tr>\n",
       "  </thead>\n",
       "  <tbody>\n",
       "    <tr>\n",
       "      <th>0</th>\n",
       "      <td>e13_16f1</td>\n",
       "      <td>e13_16f1_210302</td>\n",
       "      <td>0</td>\n",
       "      <td>0.200617</td>\n",
       "      <td>False</td>\n",
       "      <td>0.0</td>\n",
       "    </tr>\n",
       "    <tr>\n",
       "      <th>1</th>\n",
       "      <td>e13_16f1</td>\n",
       "      <td>e13_16f1_210312</td>\n",
       "      <td>0</td>\n",
       "      <td>0.131004</td>\n",
       "      <td>False</td>\n",
       "      <td>0.0</td>\n",
       "    </tr>\n",
       "    <tr>\n",
       "      <th>2</th>\n",
       "      <td>e13_16f1</td>\n",
       "      <td>e13_16f1_210314</td>\n",
       "      <td>0</td>\n",
       "      <td>0.130252</td>\n",
       "      <td>False</td>\n",
       "      <td>0.0</td>\n",
       "    </tr>\n",
       "    <tr>\n",
       "      <th>3</th>\n",
       "      <td>e13_16f1</td>\n",
       "      <td>e13_16f1_210317</td>\n",
       "      <td>0</td>\n",
       "      <td>0.102881</td>\n",
       "      <td>False</td>\n",
       "      <td>0.0</td>\n",
       "    </tr>\n",
       "    <tr>\n",
       "      <th>4</th>\n",
       "      <td>e13_16f1</td>\n",
       "      <td>e13_16f1_210319</td>\n",
       "      <td>0</td>\n",
       "      <td>0.151961</td>\n",
       "      <td>False</td>\n",
       "      <td>0.0</td>\n",
       "    </tr>\n",
       "    <tr>\n",
       "      <th>5</th>\n",
       "      <td>e13_16f1</td>\n",
       "      <td>e13_16f1_210322</td>\n",
       "      <td>0</td>\n",
       "      <td>0.181034</td>\n",
       "      <td>False</td>\n",
       "      <td>0.0</td>\n",
       "    </tr>\n",
       "    <tr>\n",
       "      <th>6</th>\n",
       "      <td>e13_16f1</td>\n",
       "      <td>e13_16f1_210328</td>\n",
       "      <td>0</td>\n",
       "      <td>0.151163</td>\n",
       "      <td>False</td>\n",
       "      <td>0.0</td>\n",
       "    </tr>\n",
       "    <tr>\n",
       "      <th>7</th>\n",
       "      <td>e13_16f1</td>\n",
       "      <td>e13_16f1_210331</td>\n",
       "      <td>0</td>\n",
       "      <td>0.116216</td>\n",
       "      <td>False</td>\n",
       "      <td>0.0</td>\n",
       "    </tr>\n",
       "    <tr>\n",
       "      <th>8</th>\n",
       "      <td>e13_26m1</td>\n",
       "      <td>e13_26m1_210913</td>\n",
       "      <td>0</td>\n",
       "      <td>0.373171</td>\n",
       "      <td>True</td>\n",
       "      <td>1.0</td>\n",
       "    </tr>\n",
       "    <tr>\n",
       "      <th>9</th>\n",
       "      <td>e13_26m1</td>\n",
       "      <td>e13_26m1_211019</td>\n",
       "      <td>0</td>\n",
       "      <td>0.271111</td>\n",
       "      <td>True</td>\n",
       "      <td>1.0</td>\n",
       "    </tr>\n",
       "    <tr>\n",
       "      <th>10</th>\n",
       "      <td>e13_26m1</td>\n",
       "      <td>e13_26m1_211019</td>\n",
       "      <td>1</td>\n",
       "      <td>0.326761</td>\n",
       "      <td>True</td>\n",
       "      <td>2.0</td>\n",
       "    </tr>\n",
       "    <tr>\n",
       "      <th>11</th>\n",
       "      <td>e13_26m1</td>\n",
       "      <td>e13_26m1_211116</td>\n",
       "      <td>0</td>\n",
       "      <td>0.130303</td>\n",
       "      <td>True</td>\n",
       "      <td>1.0</td>\n",
       "    </tr>\n",
       "    <tr>\n",
       "      <th>12</th>\n",
       "      <td>e13_26m1</td>\n",
       "      <td>e13_26m1_211116</td>\n",
       "      <td>1</td>\n",
       "      <td>0.273504</td>\n",
       "      <td>True</td>\n",
       "      <td>2.0</td>\n",
       "    </tr>\n",
       "    <tr>\n",
       "      <th>13</th>\n",
       "      <td>e13_26m1</td>\n",
       "      <td>e13_26m1_211119</td>\n",
       "      <td>0</td>\n",
       "      <td>0.214953</td>\n",
       "      <td>True</td>\n",
       "      <td>1.0</td>\n",
       "    </tr>\n",
       "    <tr>\n",
       "      <th>14</th>\n",
       "      <td>e13_26m1</td>\n",
       "      <td>e13_26m1_211119</td>\n",
       "      <td>1</td>\n",
       "      <td>0.493671</td>\n",
       "      <td>True</td>\n",
       "      <td>2.0</td>\n",
       "    </tr>\n",
       "    <tr>\n",
       "      <th>15</th>\n",
       "      <td>e13_26m1</td>\n",
       "      <td>e13_26m1_211124</td>\n",
       "      <td>0</td>\n",
       "      <td>0.220280</td>\n",
       "      <td>True</td>\n",
       "      <td>1.0</td>\n",
       "    </tr>\n",
       "    <tr>\n",
       "      <th>16</th>\n",
       "      <td>e14_2m2</td>\n",
       "      <td>e14_2m2_201017</td>\n",
       "      <td>0</td>\n",
       "      <td>0.175824</td>\n",
       "      <td>False</td>\n",
       "      <td>0.0</td>\n",
       "    </tr>\n",
       "    <tr>\n",
       "      <th>17</th>\n",
       "      <td>e14_2m2</td>\n",
       "      <td>e14_2m2_201019</td>\n",
       "      <td>0</td>\n",
       "      <td>0.134199</td>\n",
       "      <td>False</td>\n",
       "      <td>0.0</td>\n",
       "    </tr>\n",
       "    <tr>\n",
       "      <th>18</th>\n",
       "      <td>e14_2m3</td>\n",
       "      <td>e14_2m3_201118</td>\n",
       "      <td>0</td>\n",
       "      <td>0.154545</td>\n",
       "      <td>False</td>\n",
       "      <td>0.0</td>\n",
       "    </tr>\n",
       "    <tr>\n",
       "      <th>19</th>\n",
       "      <td>e14_2m3</td>\n",
       "      <td>e14_2m3_201121</td>\n",
       "      <td>0</td>\n",
       "      <td>0.094017</td>\n",
       "      <td>False</td>\n",
       "      <td>0.0</td>\n",
       "    </tr>\n",
       "    <tr>\n",
       "      <th>20</th>\n",
       "      <td>e14_2m3</td>\n",
       "      <td>e14_2m3_201125</td>\n",
       "      <td>0</td>\n",
       "      <td>0.109195</td>\n",
       "      <td>False</td>\n",
       "      <td>0.0</td>\n",
       "    </tr>\n",
       "    <tr>\n",
       "      <th>21</th>\n",
       "      <td>e14_2m3</td>\n",
       "      <td>e14_2m3_201129</td>\n",
       "      <td>0</td>\n",
       "      <td>0.150685</td>\n",
       "      <td>False</td>\n",
       "      <td>0.0</td>\n",
       "    </tr>\n",
       "    <tr>\n",
       "      <th>22</th>\n",
       "      <td>e14_2m3</td>\n",
       "      <td>e14_2m3_201206</td>\n",
       "      <td>0</td>\n",
       "      <td>0.157233</td>\n",
       "      <td>False</td>\n",
       "      <td>0.0</td>\n",
       "    </tr>\n",
       "    <tr>\n",
       "      <th>23</th>\n",
       "      <td>e14_2m3</td>\n",
       "      <td>e14_2m3_201208</td>\n",
       "      <td>0</td>\n",
       "      <td>0.183007</td>\n",
       "      <td>False</td>\n",
       "      <td>0.0</td>\n",
       "    </tr>\n",
       "    <tr>\n",
       "      <th>24</th>\n",
       "      <td>e15_10m1</td>\n",
       "      <td>e15_10m1_200727</td>\n",
       "      <td>0</td>\n",
       "      <td>0.188811</td>\n",
       "      <td>False</td>\n",
       "      <td>0.0</td>\n",
       "    </tr>\n",
       "    <tr>\n",
       "      <th>25</th>\n",
       "      <td>e15_10m1</td>\n",
       "      <td>e15_10m1_200803</td>\n",
       "      <td>0</td>\n",
       "      <td>0.147826</td>\n",
       "      <td>False</td>\n",
       "      <td>0.0</td>\n",
       "    </tr>\n",
       "    <tr>\n",
       "      <th>26</th>\n",
       "      <td>e15_10m1</td>\n",
       "      <td>e15_10m1_200809</td>\n",
       "      <td>0</td>\n",
       "      <td>0.115578</td>\n",
       "      <td>False</td>\n",
       "      <td>0.0</td>\n",
       "    </tr>\n",
       "    <tr>\n",
       "      <th>27</th>\n",
       "      <td>e15_10m1</td>\n",
       "      <td>e15_10m1_200812</td>\n",
       "      <td>0</td>\n",
       "      <td>0.110553</td>\n",
       "      <td>False</td>\n",
       "      <td>0.0</td>\n",
       "    </tr>\n",
       "    <tr>\n",
       "      <th>28</th>\n",
       "      <td>e15_13f1</td>\n",
       "      <td>e15_13f1_220117</td>\n",
       "      <td>0</td>\n",
       "      <td>0.208211</td>\n",
       "      <td>True</td>\n",
       "      <td>1.0</td>\n",
       "    </tr>\n",
       "    <tr>\n",
       "      <th>29</th>\n",
       "      <td>e15_13f1</td>\n",
       "      <td>e15_13f1_220118</td>\n",
       "      <td>0</td>\n",
       "      <td>0.173542</td>\n",
       "      <td>True</td>\n",
       "      <td>1.0</td>\n",
       "    </tr>\n",
       "    <tr>\n",
       "      <th>30</th>\n",
       "      <td>e15_13f1</td>\n",
       "      <td>e15_13f1_220118</td>\n",
       "      <td>1</td>\n",
       "      <td>0.455497</td>\n",
       "      <td>True</td>\n",
       "      <td>2.0</td>\n",
       "    </tr>\n",
       "    <tr>\n",
       "      <th>31</th>\n",
       "      <td>e15_13f1</td>\n",
       "      <td>e15_13f1_220119</td>\n",
       "      <td>0</td>\n",
       "      <td>0.206677</td>\n",
       "      <td>True</td>\n",
       "      <td>1.0</td>\n",
       "    </tr>\n",
       "    <tr>\n",
       "      <th>32</th>\n",
       "      <td>e15_13f1</td>\n",
       "      <td>e15_13f1_220119</td>\n",
       "      <td>1</td>\n",
       "      <td>0.153082</td>\n",
       "      <td>True</td>\n",
       "      <td>2.0</td>\n",
       "    </tr>\n",
       "    <tr>\n",
       "      <th>33</th>\n",
       "      <td>e15_13f1</td>\n",
       "      <td>e15_13f1_220120</td>\n",
       "      <td>0</td>\n",
       "      <td>0.251356</td>\n",
       "      <td>True</td>\n",
       "      <td>1.0</td>\n",
       "    </tr>\n",
       "    <tr>\n",
       "      <th>34</th>\n",
       "      <td>e15_13f1</td>\n",
       "      <td>e15_13f1_220120</td>\n",
       "      <td>1</td>\n",
       "      <td>0.337778</td>\n",
       "      <td>True</td>\n",
       "      <td>2.0</td>\n",
       "    </tr>\n",
       "    <tr>\n",
       "      <th>35</th>\n",
       "      <td>e15_9f1</td>\n",
       "      <td>e15_9f1_200715</td>\n",
       "      <td>0</td>\n",
       "      <td>0.280000</td>\n",
       "      <td>False</td>\n",
       "      <td>0.0</td>\n",
       "    </tr>\n",
       "    <tr>\n",
       "      <th>36</th>\n",
       "      <td>e15_9f1</td>\n",
       "      <td>e15_9f1_200720</td>\n",
       "      <td>0</td>\n",
       "      <td>0.195946</td>\n",
       "      <td>False</td>\n",
       "      <td>0.0</td>\n",
       "    </tr>\n",
       "    <tr>\n",
       "      <th>37</th>\n",
       "      <td>e15_9f1</td>\n",
       "      <td>e15_9f1_200723</td>\n",
       "      <td>0</td>\n",
       "      <td>0.106918</td>\n",
       "      <td>False</td>\n",
       "      <td>0.0</td>\n",
       "    </tr>\n",
       "    <tr>\n",
       "      <th>38</th>\n",
       "      <td>e15_9f1</td>\n",
       "      <td>e15_9f1_200729</td>\n",
       "      <td>0</td>\n",
       "      <td>0.115830</td>\n",
       "      <td>False</td>\n",
       "      <td>0.0</td>\n",
       "    </tr>\n",
       "    <tr>\n",
       "      <th>39</th>\n",
       "      <td>e15_9f1</td>\n",
       "      <td>e15_9f1_200802</td>\n",
       "      <td>0</td>\n",
       "      <td>0.169231</td>\n",
       "      <td>False</td>\n",
       "      <td>0.0</td>\n",
       "    </tr>\n",
       "    <tr>\n",
       "      <th>40</th>\n",
       "      <td>e16_1f1</td>\n",
       "      <td>e16_1f1_200918</td>\n",
       "      <td>0</td>\n",
       "      <td>0.177215</td>\n",
       "      <td>False</td>\n",
       "      <td>0.0</td>\n",
       "    </tr>\n",
       "    <tr>\n",
       "      <th>41</th>\n",
       "      <td>e16_1f1</td>\n",
       "      <td>e16_1f1_200919</td>\n",
       "      <td>0</td>\n",
       "      <td>0.125000</td>\n",
       "      <td>False</td>\n",
       "      <td>0.0</td>\n",
       "    </tr>\n",
       "    <tr>\n",
       "      <th>42</th>\n",
       "      <td>e16_1f1</td>\n",
       "      <td>e16_1f1_200920</td>\n",
       "      <td>0</td>\n",
       "      <td>0.161765</td>\n",
       "      <td>False</td>\n",
       "      <td>0.0</td>\n",
       "    </tr>\n",
       "    <tr>\n",
       "      <th>43</th>\n",
       "      <td>e16_1f1</td>\n",
       "      <td>e16_1f1_200923</td>\n",
       "      <td>0</td>\n",
       "      <td>0.061856</td>\n",
       "      <td>False</td>\n",
       "      <td>0.0</td>\n",
       "    </tr>\n",
       "    <tr>\n",
       "      <th>44</th>\n",
       "      <td>e16_1f1</td>\n",
       "      <td>e16_1f1_201004</td>\n",
       "      <td>0</td>\n",
       "      <td>0.164062</td>\n",
       "      <td>False</td>\n",
       "      <td>0.0</td>\n",
       "    </tr>\n",
       "    <tr>\n",
       "      <th>45</th>\n",
       "      <td>e16_2m1</td>\n",
       "      <td>e16_2m1_201121</td>\n",
       "      <td>0</td>\n",
       "      <td>0.094828</td>\n",
       "      <td>False</td>\n",
       "      <td>0.0</td>\n",
       "    </tr>\n",
       "    <tr>\n",
       "      <th>46</th>\n",
       "      <td>e16_3m1</td>\n",
       "      <td>e16_3m1_210119</td>\n",
       "      <td>0</td>\n",
       "      <td>0.161290</td>\n",
       "      <td>False</td>\n",
       "      <td>0.0</td>\n",
       "    </tr>\n",
       "    <tr>\n",
       "      <th>47</th>\n",
       "      <td>e16_3m1</td>\n",
       "      <td>e16_3m1_210201</td>\n",
       "      <td>0</td>\n",
       "      <td>0.159468</td>\n",
       "      <td>False</td>\n",
       "      <td>0.0</td>\n",
       "    </tr>\n",
       "    <tr>\n",
       "      <th>48</th>\n",
       "      <td>e16_3m1</td>\n",
       "      <td>e16_3m1_210203</td>\n",
       "      <td>0</td>\n",
       "      <td>0.123810</td>\n",
       "      <td>False</td>\n",
       "      <td>0.0</td>\n",
       "    </tr>\n",
       "    <tr>\n",
       "      <th>49</th>\n",
       "      <td>e16_3m2</td>\n",
       "      <td>e16_3m2_211210</td>\n",
       "      <td>0</td>\n",
       "      <td>0.190031</td>\n",
       "      <td>True</td>\n",
       "      <td>1.0</td>\n",
       "    </tr>\n",
       "    <tr>\n",
       "      <th>50</th>\n",
       "      <td>e16_3m2</td>\n",
       "      <td>e16_3m2_211212</td>\n",
       "      <td>0</td>\n",
       "      <td>0.230769</td>\n",
       "      <td>True</td>\n",
       "      <td>1.0</td>\n",
       "    </tr>\n",
       "    <tr>\n",
       "      <th>51</th>\n",
       "      <td>e16_3m2</td>\n",
       "      <td>e16_3m2_211212</td>\n",
       "      <td>1</td>\n",
       "      <td>0.278689</td>\n",
       "      <td>True</td>\n",
       "      <td>2.0</td>\n",
       "    </tr>\n",
       "    <tr>\n",
       "      <th>52</th>\n",
       "      <td>e16_3m2</td>\n",
       "      <td>e16_3m2_211213</td>\n",
       "      <td>0</td>\n",
       "      <td>0.253731</td>\n",
       "      <td>True</td>\n",
       "      <td>1.0</td>\n",
       "    </tr>\n",
       "    <tr>\n",
       "      <th>53</th>\n",
       "      <td>e16_3m2</td>\n",
       "      <td>e16_3m2_211213</td>\n",
       "      <td>1</td>\n",
       "      <td>0.283019</td>\n",
       "      <td>True</td>\n",
       "      <td>2.0</td>\n",
       "    </tr>\n",
       "  </tbody>\n",
       "</table>\n",
       "</div>"
      ],
      "text/plain": [
       "      Animal          Session  Novel maze  Frac. switching fields  \\\n",
       "0   e13_16f1  e13_16f1_210302           0                0.200617   \n",
       "1   e13_16f1  e13_16f1_210312           0                0.131004   \n",
       "2   e13_16f1  e13_16f1_210314           0                0.130252   \n",
       "3   e13_16f1  e13_16f1_210317           0                0.102881   \n",
       "4   e13_16f1  e13_16f1_210319           0                0.151961   \n",
       "5   e13_16f1  e13_16f1_210322           0                0.181034   \n",
       "6   e13_16f1  e13_16f1_210328           0                0.151163   \n",
       "7   e13_16f1  e13_16f1_210331           0                0.116216   \n",
       "8   e13_26m1  e13_26m1_210913           0                0.373171   \n",
       "9   e13_26m1  e13_26m1_211019           0                0.271111   \n",
       "10  e13_26m1  e13_26m1_211019           1                0.326761   \n",
       "11  e13_26m1  e13_26m1_211116           0                0.130303   \n",
       "12  e13_26m1  e13_26m1_211116           1                0.273504   \n",
       "13  e13_26m1  e13_26m1_211119           0                0.214953   \n",
       "14  e13_26m1  e13_26m1_211119           1                0.493671   \n",
       "15  e13_26m1  e13_26m1_211124           0                0.220280   \n",
       "16   e14_2m2   e14_2m2_201017           0                0.175824   \n",
       "17   e14_2m2   e14_2m2_201019           0                0.134199   \n",
       "18   e14_2m3   e14_2m3_201118           0                0.154545   \n",
       "19   e14_2m3   e14_2m3_201121           0                0.094017   \n",
       "20   e14_2m3   e14_2m3_201125           0                0.109195   \n",
       "21   e14_2m3   e14_2m3_201129           0                0.150685   \n",
       "22   e14_2m3   e14_2m3_201206           0                0.157233   \n",
       "23   e14_2m3   e14_2m3_201208           0                0.183007   \n",
       "24  e15_10m1  e15_10m1_200727           0                0.188811   \n",
       "25  e15_10m1  e15_10m1_200803           0                0.147826   \n",
       "26  e15_10m1  e15_10m1_200809           0                0.115578   \n",
       "27  e15_10m1  e15_10m1_200812           0                0.110553   \n",
       "28  e15_13f1  e15_13f1_220117           0                0.208211   \n",
       "29  e15_13f1  e15_13f1_220118           0                0.173542   \n",
       "30  e15_13f1  e15_13f1_220118           1                0.455497   \n",
       "31  e15_13f1  e15_13f1_220119           0                0.206677   \n",
       "32  e15_13f1  e15_13f1_220119           1                0.153082   \n",
       "33  e15_13f1  e15_13f1_220120           0                0.251356   \n",
       "34  e15_13f1  e15_13f1_220120           1                0.337778   \n",
       "35   e15_9f1   e15_9f1_200715           0                0.280000   \n",
       "36   e15_9f1   e15_9f1_200720           0                0.195946   \n",
       "37   e15_9f1   e15_9f1_200723           0                0.106918   \n",
       "38   e15_9f1   e15_9f1_200729           0                0.115830   \n",
       "39   e15_9f1   e15_9f1_200802           0                0.169231   \n",
       "40   e16_1f1   e16_1f1_200918           0                0.177215   \n",
       "41   e16_1f1   e16_1f1_200919           0                0.125000   \n",
       "42   e16_1f1   e16_1f1_200920           0                0.161765   \n",
       "43   e16_1f1   e16_1f1_200923           0                0.061856   \n",
       "44   e16_1f1   e16_1f1_201004           0                0.164062   \n",
       "45   e16_2m1   e16_2m1_201121           0                0.094828   \n",
       "46   e16_3m1   e16_3m1_210119           0                0.161290   \n",
       "47   e16_3m1   e16_3m1_210201           0                0.159468   \n",
       "48   e16_3m1   e16_3m1_210203           0                0.123810   \n",
       "49   e16_3m2   e16_3m2_211210           0                0.190031   \n",
       "50   e16_3m2   e16_3m2_211212           0                0.230769   \n",
       "51   e16_3m2   e16_3m2_211212           1                0.278689   \n",
       "52   e16_3m2   e16_3m2_211213           0                0.253731   \n",
       "53   e16_3m2   e16_3m2_211213           1                0.283019   \n",
       "\n",
       "    ani with novel   xs  \n",
       "0            False  0.0  \n",
       "1            False  0.0  \n",
       "2            False  0.0  \n",
       "3            False  0.0  \n",
       "4            False  0.0  \n",
       "5            False  0.0  \n",
       "6            False  0.0  \n",
       "7            False  0.0  \n",
       "8             True  1.0  \n",
       "9             True  1.0  \n",
       "10            True  2.0  \n",
       "11            True  1.0  \n",
       "12            True  2.0  \n",
       "13            True  1.0  \n",
       "14            True  2.0  \n",
       "15            True  1.0  \n",
       "16           False  0.0  \n",
       "17           False  0.0  \n",
       "18           False  0.0  \n",
       "19           False  0.0  \n",
       "20           False  0.0  \n",
       "21           False  0.0  \n",
       "22           False  0.0  \n",
       "23           False  0.0  \n",
       "24           False  0.0  \n",
       "25           False  0.0  \n",
       "26           False  0.0  \n",
       "27           False  0.0  \n",
       "28            True  1.0  \n",
       "29            True  1.0  \n",
       "30            True  2.0  \n",
       "31            True  1.0  \n",
       "32            True  2.0  \n",
       "33            True  1.0  \n",
       "34            True  2.0  \n",
       "35           False  0.0  \n",
       "36           False  0.0  \n",
       "37           False  0.0  \n",
       "38           False  0.0  \n",
       "39           False  0.0  \n",
       "40           False  0.0  \n",
       "41           False  0.0  \n",
       "42           False  0.0  \n",
       "43           False  0.0  \n",
       "44           False  0.0  \n",
       "45           False  0.0  \n",
       "46           False  0.0  \n",
       "47           False  0.0  \n",
       "48           False  0.0  \n",
       "49            True  1.0  \n",
       "50            True  1.0  \n",
       "51            True  2.0  \n",
       "52            True  1.0  \n",
       "53            True  2.0  "
      ]
     },
     "execution_count": 12,
     "metadata": {},
     "output_type": "execute_result"
    }
   ],
   "source": [
    "ratio_sig_per_sess_reset_ind"
   ]
  },
  {
   "cell_type": "code",
   "execution_count": 28,
   "id": "69cee11d",
   "metadata": {},
   "outputs": [
    {
     "data": {
      "text/plain": [
       "'none'"
      ]
     },
     "execution_count": 28,
     "metadata": {},
     "output_type": "execute_result"
    }
   ],
   "source": [
    "plt.rcParams['svg.fonttype']"
   ]
  },
  {
   "cell_type": "code",
   "execution_count": 19,
   "id": "abcb0096",
   "metadata": {
    "scrolled": true
   },
   "outputs": [
    {
     "data": {
      "text/plain": [
       "e13_16f1  e13_16f1_210302  0    0.200617\n",
       "          e13_16f1_210312  0    0.131004\n",
       "          e13_16f1_210314  0    0.130252\n",
       "          e13_16f1_210317  0    0.102881\n",
       "          e13_16f1_210319  0    0.151961\n",
       "          e13_16f1_210322  0    0.181034\n",
       "          e13_16f1_210328  0    0.151163\n",
       "          e13_16f1_210331  0    0.116216\n",
       "e13_26m1  e13_26m1_210913  0    0.373171\n",
       "          e13_26m1_211019  0    0.271111\n",
       "                           1    0.326761\n",
       "          e13_26m1_211116  0    0.130303\n",
       "                           1    0.273504\n",
       "          e13_26m1_211119  0    0.214953\n",
       "                           1    0.493671\n",
       "          e13_26m1_211124  0    0.220280\n",
       "e14_2m2   e14_2m2_201017   0    0.175824\n",
       "          e14_2m2_201019   0    0.134199\n",
       "e14_2m3   e14_2m3_201118   0    0.154545\n",
       "          e14_2m3_201121   0    0.094017\n",
       "          e14_2m3_201125   0    0.109195\n",
       "          e14_2m3_201129   0    0.150685\n",
       "          e14_2m3_201206   0    0.157233\n",
       "          e14_2m3_201208   0    0.183007\n",
       "e15_10m1  e15_10m1_200727  0    0.188811\n",
       "          e15_10m1_200803  0    0.147826\n",
       "          e15_10m1_200809  0    0.115578\n",
       "          e15_10m1_200812  0    0.110553\n",
       "e15_13f1  e15_13f1_220117  0    0.208211\n",
       "          e15_13f1_220118  0    0.173542\n",
       "                           1    0.455497\n",
       "          e15_13f1_220119  0    0.206677\n",
       "                           1    0.153082\n",
       "          e15_13f1_220120  0    0.251356\n",
       "                           1    0.337778\n",
       "e15_9f1   e15_9f1_200715   0    0.280000\n",
       "          e15_9f1_200720   0    0.195946\n",
       "          e15_9f1_200723   0    0.106918\n",
       "          e15_9f1_200729   0    0.115830\n",
       "          e15_9f1_200802   0    0.169231\n",
       "e16_1f1   e16_1f1_200918   0    0.177215\n",
       "          e16_1f1_200919   0    0.125000\n",
       "          e16_1f1_200920   0    0.161765\n",
       "          e16_1f1_200923   0    0.061856\n",
       "          e16_1f1_201004   0    0.164062\n",
       "e16_2m1   e16_2m1_201121   0    0.094828\n",
       "e16_3m1   e16_3m1_210119   0    0.161290\n",
       "          e16_3m1_210201   0    0.159468\n",
       "          e16_3m1_210203   0    0.123810\n",
       "e16_3m2   e16_3m2_211210   0    0.190031\n",
       "          e16_3m2_211212   0    0.230769\n",
       "                           1    0.278689\n",
       "          e16_3m2_211213   0    0.253731\n",
       "                           1    0.283019\n",
       "dtype: float64"
      ]
     },
     "execution_count": 19,
     "metadata": {},
     "output_type": "execute_result"
    }
   ],
   "source": [
    "ratio_sig_per_sess"
   ]
  },
  {
   "cell_type": "code",
   "execution_count": 27,
   "id": "9209d7e6",
   "metadata": {
    "scrolled": true
   },
   "outputs": [
    {
     "name": "stderr",
     "output_type": "stream",
     "text": [
      "/tmp/ipykernel_2409262/3813294215.py:20: UserWarning: FixedFormatter should only be used together with FixedLocator\n",
      "  ax.set_xticklabels(xticklabels,rotation=xticklabels_rotation)\n"
     ]
    },
    {
     "name": "stdout",
     "output_type": "stream",
     "text": [
      "p-value annotation legend:\n",
      "      ns: p <= 1.00e+00\n",
      "       *: 1.00e-02 < p <= 5.00e-02\n",
      "      **: 1.00e-03 < p <= 1.00e-02\n",
      "     ***: 1.00e-04 < p <= 1.00e-03\n",
      "    ****: p <= 1.00e-04\n",
      "\n",
      "1.0 vs. 2.0: Mann-Whitney-Wilcoxon test two-sided, P_val:1.240e-02 U_stat=1.600e+01\n",
      "0.0 vs. 1.0: Mann-Whitney-Wilcoxon test two-sided, P_val:4.313e-05 U_stat=4.000e+01\n",
      "0.0 vs. 2.0: Mann-Whitney-Wilcoxon test two-sided, P_val:1.737e-05 U_stat=1.700e+01\n"
     ]
    },
    {
     "data": {
      "image/png": "[encoded data removed]",
      "text/plain": [
       "<Figure size 144x216 with 1 Axes>"
      ]
     },
     "metadata": {
      "needs_background": "light"
     },
     "output_type": "display_data"
    }
   ],
   "source": [
    "\n",
    "from matplotlib.lines import Line2D\n",
    "data=ratio_sig_per_sess_reset_ind#ratio_sig_per_sess_reset_ind.drop(51) #unclear why drop 51.. go back to no drop\n",
    "x='xs'#'Novel maze'\n",
    "y='Frac. switching fields'\n",
    "color_per_strip={0:'C0',1:'C0',2:'C1'}\n",
    "fig,ax,order=stripplot_with_median(data,x,y,color_per_strip=color_per_strip,figsize=(2,3),ms=15)\n",
    "\n",
    "\n",
    "ax.set_xticks([0,1,2])\n",
    "ax.set_xticklabels(['Familiar only','Familiar','Novel'],fontsize=10,rotation=45)\n",
    "ax.set_ylabel('Frac. switching fields')\n",
    "\n",
    "pairs = [(0,2),(1,2),(0,1)]\n",
    "annotator = Annotator(ax, pairs, data=data, x=x, y=y, order=order)\n",
    "annotator.configure(test='Mann-Whitney', text_format='star', loc='outside')\n",
    "annotator.apply_and_annotate()\n",
    "\n",
    "legend_markers = [\n",
    "    Line2D([0], [0], marker='o', color='w', label='familiar',\n",
    "           markerfacecolor='C0', markersize=10),\n",
    "    Line2D([0], [0], marker='o', color='w', label='novel',\n",
    "           markerfacecolor='C1', markersize=10)\n",
    "]\n",
    "# ax.legend(handles=legend_markers,bbox_to_anchor=[1,1.05],fontsize=15)\n",
    "ax.set_ylim([0,0.7])\n",
    "\n",
    "fn = os.path.join(figdir,'frac_switching_fields_vs_novel.svg')\n",
    "fig.savefig(fn,bbox_inches='tight')"
   ]
  },
  {
   "cell_type": "code",
   "execution_count": 28,
   "id": "2955175b",
   "metadata": {},
   "outputs": [
    {
     "data": {
      "text/html": [
       "<div>\n",
       "<style scoped>\n",
       "    .dataframe tbody tr th:only-of-type {\n",
       "        vertical-align: middle;\n",
       "    }\n",
       "\n",
       "    .dataframe tbody tr th {\n",
       "        vertical-align: top;\n",
       "    }\n",
       "\n",
       "    .dataframe thead th {\n",
       "        text-align: right;\n",
       "    }\n",
       "</style>\n",
       "<table border=\"1\" class=\"dataframe\">\n",
       "  <thead>\n",
       "    <tr style=\"text-align: right;\">\n",
       "      <th></th>\n",
       "      <th>Novel maze</th>\n",
       "      <th>Frac. switching fields</th>\n",
       "      <th>ani with novel</th>\n",
       "    </tr>\n",
       "    <tr>\n",
       "      <th>xs</th>\n",
       "      <th></th>\n",
       "      <th></th>\n",
       "      <th></th>\n",
       "    </tr>\n",
       "  </thead>\n",
       "  <tbody>\n",
       "    <tr>\n",
       "      <th>0.0</th>\n",
       "      <td>0.0</td>\n",
       "      <td>0.150924</td>\n",
       "      <td>0.0</td>\n",
       "    </tr>\n",
       "    <tr>\n",
       "      <th>1.0</th>\n",
       "      <td>0.0</td>\n",
       "      <td>0.217616</td>\n",
       "      <td>1.0</td>\n",
       "    </tr>\n",
       "    <tr>\n",
       "      <th>2.0</th>\n",
       "      <td>1.0</td>\n",
       "      <td>0.304890</td>\n",
       "      <td>1.0</td>\n",
       "    </tr>\n",
       "  </tbody>\n",
       "</table>\n",
       "</div>"
      ],
      "text/plain": [
       "     Novel maze  Frac. switching fields  ani with novel\n",
       "xs                                                     \n",
       "0.0         0.0                0.150924             0.0\n",
       "1.0         0.0                0.217616             1.0\n",
       "2.0         1.0                0.304890             1.0"
      ]
     },
     "execution_count": 28,
     "metadata": {},
     "output_type": "execute_result"
    }
   ],
   "source": [
    "data.groupby('xs').median()"
   ]
  },
  {
   "cell_type": "code",
   "execution_count": 30,
   "id": "b1c17faa",
   "metadata": {},
   "outputs": [
    {
     "data": {
      "text/html": [
       "<div>\n",
       "<style scoped>\n",
       "    .dataframe tbody tr th:only-of-type {\n",
       "        vertical-align: middle;\n",
       "    }\n",
       "\n",
       "    .dataframe tbody tr th {\n",
       "        vertical-align: top;\n",
       "    }\n",
       "\n",
       "    .dataframe thead th {\n",
       "        text-align: right;\n",
       "    }\n",
       "</style>\n",
       "<table border=\"1\" class=\"dataframe\">\n",
       "  <thead>\n",
       "    <tr style=\"text-align: right;\">\n",
       "      <th></th>\n",
       "      <th>Animal</th>\n",
       "      <th>Session</th>\n",
       "      <th>Novel maze</th>\n",
       "      <th>Frac. switching fields</th>\n",
       "      <th>ani with novel</th>\n",
       "    </tr>\n",
       "    <tr>\n",
       "      <th>xs</th>\n",
       "      <th></th>\n",
       "      <th></th>\n",
       "      <th></th>\n",
       "      <th></th>\n",
       "      <th></th>\n",
       "    </tr>\n",
       "  </thead>\n",
       "  <tbody>\n",
       "    <tr>\n",
       "      <th>0.0</th>\n",
       "      <td>34</td>\n",
       "      <td>34</td>\n",
       "      <td>34</td>\n",
       "      <td>34</td>\n",
       "      <td>34</td>\n",
       "    </tr>\n",
       "    <tr>\n",
       "      <th>1.0</th>\n",
       "      <td>12</td>\n",
       "      <td>12</td>\n",
       "      <td>12</td>\n",
       "      <td>12</td>\n",
       "      <td>12</td>\n",
       "    </tr>\n",
       "    <tr>\n",
       "      <th>2.0</th>\n",
       "      <td>8</td>\n",
       "      <td>8</td>\n",
       "      <td>8</td>\n",
       "      <td>8</td>\n",
       "      <td>8</td>\n",
       "    </tr>\n",
       "  </tbody>\n",
       "</table>\n",
       "</div>"
      ],
      "text/plain": [
       "     Animal  Session  Novel maze  Frac. switching fields  ani with novel\n",
       "xs                                                                      \n",
       "0.0      34       34          34                      34              34\n",
       "1.0      12       12          12                      12              12\n",
       "2.0       8        8           8                       8               8"
      ]
     },
     "execution_count": 30,
     "metadata": {},
     "output_type": "execute_result"
    }
   ],
   "source": [
    "data.groupby('xs').count()"
   ]
  },
  {
   "cell_type": "code",
   "execution_count": 217,
   "id": "aeffaceb",
   "metadata": {},
   "outputs": [
    {
     "data": {
      "image/png": "[encoded data removed]",
      "text/plain": [
       "<Figure size 432x288 with 1 Axes>"
      ]
     },
     "metadata": {
      "needs_background": "light"
     },
     "output_type": "display_data"
    }
   ],
   "source": [
    "data=ratio_sig_per_sess_reset_ind\n",
    "x='Animal'\n",
    "y='Frac. switching fields'\n",
    "fig,ax,ani_sorted=stripplot_with_median(data,x,y,strip_kws={'hue':'Novel maze'},reorder=True,xticklabels_rotation=45)\n",
    "legend=ax.legend()\n",
    "legend.set_title(\"\")\n",
    "legend.texts[0].set_text('familiar')\n",
    "legend.texts[1].set_text('novel')\n",
    "fn = os.path.join(figdir,'frac_switching_fields_vs_animal.svg')\n",
    "fig.savefig(fn,bbox_inches='tight')"
   ]
  },
  {
   "cell_type": "markdown",
   "id": "a0507b1b",
   "metadata": {},
   "source": [
    "# n_neurons / n_trials vs frac switching "
   ]
  },
  {
   "cell_type": "code",
   "execution_count": 218,
   "id": "a01a387c",
   "metadata": {},
   "outputs": [],
   "source": [
    "nfields_per_session=all_fields_recombined_all.groupby(level=(0,1,2)).count().iloc[:,0].loc[ani_sorted]\n",
    "ntrials_per_session=changes_df_all.groupby(level=(0,1,2)).apply(lambda x:x.dropna(axis=1,how='all').shape[1])\n",
    "\n",
    "sw_ratio_ntrials_fields_df = pd.concat({'Frac. switching fields':ratio_sig_per_sess,'N_trials':ntrials_per_session,'N_fields':nfields_per_session},axis=1)\n",
    "\n",
    "sw_ratio_ntrials_fields_df=sw_ratio_ntrials_fields_df.reset_index(level=2).rename({'level_2':'Novel maze'},axis=1)\n"
   ]
  },
  {
   "cell_type": "code",
   "execution_count": 219,
   "id": "da5ca9fb",
   "metadata": {},
   "outputs": [],
   "source": [
    "def regplot_seperate_hue(data,x,y,hue):\n",
    "    fig,ax=plt.subplots()\n",
    "    ax.spines[['top','right']].set_visible(False)\n",
    "    ax=sns.regplot(data=data,x=x,y=y,ax=ax,scatter=False)\n",
    "    ax=sns.scatterplot(data=data,x=x,y=y,hue=hue,ax=ax)\n",
    "    y_center=data[y].mean()\n",
    "    ax.axhline(y_center,color='k',linestyle=':')\n",
    "    return fig,ax\n",
    "    \n"
   ]
  },
  {
   "cell_type": "code",
   "execution_count": 220,
   "id": "61f6046f",
   "metadata": {},
   "outputs": [
    {
     "data": {
      "image/png": "[encoded data removed]",
      "text/plain": [
       "<Figure size 432x288 with 1 Axes>"
      ]
     },
     "metadata": {
      "needs_background": "light"
     },
     "output_type": "display_data"
    }
   ],
   "source": [
    "data=sw_ratio_ntrials_fields_df\n",
    "x='N_trials'\n",
    "y='Frac. switching fields'\n",
    "hue='Novel maze'\n",
    "fig,ax=regplot_seperate_hue(data,x,y,hue)\n",
    "\n",
    "fn = os.path.join(figdir,'frac_switching_fields_vs_n_trials.svg')\n",
    "fig.savefig(fn,bbox_inches='tight')"
   ]
  },
  {
   "cell_type": "code",
   "execution_count": 221,
   "id": "2bce5f51",
   "metadata": {},
   "outputs": [
    {
     "data": {
      "image/png": "[encoded data removed]",
      "text/plain": [
       "<Figure size 432x288 with 1 Axes>"
      ]
     },
     "metadata": {
      "needs_background": "light"
     },
     "output_type": "display_data"
    }
   ],
   "source": [
    "data=sw_ratio_ntrials_fields_df\n",
    "x='N_fields'\n",
    "y='Frac. switching fields'\n",
    "hue='Novel maze'\n",
    "fig,ax=regplot_seperate_hue(data,x,y,hue)\n",
    "\n",
    "fn = os.path.join(figdir,'frac_switching_fields_vs_n_fields.svg')\n",
    "fig.savefig(fn,bbox_inches='tight')"
   ]
  },
  {
   "cell_type": "code",
   "execution_count": null,
   "id": "bcb2f337",
   "metadata": {},
   "outputs": [],
   "source": []
  },
  {
   "cell_type": "markdown",
   "id": "6d1e521f",
   "metadata": {},
   "source": [
    "# debug example plot"
   ]
  },
  {
   "cell_type": "code",
   "execution_count": 84,
   "id": "8daad63d",
   "metadata": {},
   "outputs": [],
   "source": [
    "ani = 'e13_26m1'\n",
    "sess = 'e13_26m1_210913'\n",
    "\n",
    "data_dir_full = subdb.loc[subdb['sess_name']==sess]['data_dir_full'][0]\n",
    "\n",
    "fr_map_trial_df = fr_map_trial_df_all.loc[ani,sess]\n",
    "all_fields_recombined = all_fields_recombined_all.loc[ani,sess]\n",
    "all_sw_d = all_sw_d_all.loc[ani,sess]\n",
    "all_sw_with_metrics_d = all_sw_with_metrics_d_all.loc[ani,sess]\n",
    "trial_index_to_index_within_df = trial_index_to_index_within_df_all[ani,sess]\n",
    "X_raw = X_raw_all.loc[ani,sess]\n",
    "X_pwc = X_pwc_all.loc[ani,sess]\n",
    "changes_df = changes_df_all.loc[ani,sess]\n",
    "pf_params_recombined = pf_params_recombined_all.loc[ani,sess]"
   ]
  },
  {
   "cell_type": "code",
   "execution_count": 108,
   "id": "de8f75a4",
   "metadata": {},
   "outputs": [
    {
     "data": {
      "text/plain": [
       "<module 'plot_all_fr_map_x_pwc_one_session' from '/mnt/home/szheng/projects/place_variability/code/plot_all_fr_map_x_pwc_one_session.py'>"
      ]
     },
     "execution_count": 108,
     "metadata": {},
     "output_type": "execute_result"
    }
   ],
   "source": [
    "\n",
    "# all_fields_recombined.loc[0,0,141,1]\n",
    "import plot_all_fr_map_x_pwc_one_session as plotfm\n",
    "reload(plotfm)"
   ]
  },
  {
   "cell_type": "code",
   "execution_count": 105,
   "id": "a87f0d3c",
   "metadata": {},
   "outputs": [
    {
     "data": {
      "text/plain": [
       "start                      15\n",
       "end                        26\n",
       "com                        20\n",
       "peak                       19\n",
       "fr_peak              3.951574\n",
       "fr_mean              3.654688\n",
       "other_field_index         0.0\n",
       "Name: (0, both, 254, 1), dtype: object"
      ]
     },
     "execution_count": 105,
     "metadata": {},
     "output_type": "execute_result"
    }
   ],
   "source": [
    "all_fields_recombined.iloc[800]"
   ]
  },
  {
   "cell_type": "code",
   "execution_count": 109,
   "id": "ba5cd6f5",
   "metadata": {
    "scrolled": true
   },
   "outputs": [
    {
     "data": {
      "text/plain": [
       "(<Figure size 864x288 with 3 Axes>,\n",
       " array([<AxesSubplot:xlabel='Peak firing rate (Hz)', ylabel='Trial'>,\n",
       "        <AxesSubplot:xlabel='Pos. bin'>], dtype=object))"
      ]
     },
     "execution_count": 109,
     "metadata": {},
     "output_type": "execute_result"
    },
    {
     "data": {
      "image/png": "[encoded data removed]",
      "text/plain": [
       "<Figure size 864x288 with 3 Axes>"
      ]
     },
     "metadata": {
      "needs_background": "light"
     },
     "output_type": "display_data"
    }
   ],
   "source": [
    "# all_fields_row_one = all_fields_recombined.loc[0,0,141,1]\n",
    "# all_fields_row_one = all_fields_recombined.loc[0,1,480,0]\n",
    "all_fields_row_one = all_fields_recombined.iloc[800]\n",
    "plotfm.plot_ratemap_fr_one_field(all_fields_row_one,fr_map_trial_df,X_raw,X_pwc,all_sw_d,trial_index_to_index_within_df,\n",
    "                            save_fig_fn = None,\n",
    "                            close_fig = False,\n",
    "                                )"
   ]
  },
  {
   "cell_type": "code",
   "execution_count": 118,
   "id": "6b42363a",
   "metadata": {
    "scrolled": true
   },
   "outputs": [
    {
     "name": "stderr",
     "output_type": "stream",
     "text": [
      "/tmp/ipykernel_564447/343789382.py:3: PerformanceWarning: indexing past lexsort depth may impact performance.\n",
      "  pval_all.loc[ani,sess].loc[0,0,454].loc[0,(slice(None),'pval')]\n"
     ]
    },
    {
     "data": {
      "text/plain": [
       "1  pval    0.003\n",
       "2  pval    0.002\n",
       "3  pval    0.000\n",
       "4  pval    0.007\n",
       "5  pval    0.009\n",
       "Name: 0, dtype: float64"
      ]
     },
     "execution_count": 118,
     "metadata": {},
     "output_type": "execute_result"
    }
   ],
   "source": [
    "ani='e13_26m1'\n",
    "sess='e13_26m1_210913'\n",
    "pval_all.loc[ani,sess].loc[0,0,454].loc[0,(slice(None),'pval')]"
   ]
  },
  {
   "cell_type": "markdown",
   "id": "8ce0d43b",
   "metadata": {},
   "source": [
    "# visualize all place fields of potentially bad session"
   ]
  },
  {
   "cell_type": "code",
   "execution_count": null,
   "id": "7c18835e",
   "metadata": {},
   "outputs": [],
   "source": [
    "# ani='e16_1f1'#'e15_13f1'\n",
    "# sess='e16_1f1_200923'#'e16_3m2_211211'#'e15_13f1_220119'\n",
    "# task_index=0\n",
    "# fr_map_one=fr_map_trial_df_all.loc[ani,sess,task_index]\n",
    "\n",
    "# task_index = 0\n",
    "# uid_l=all_fields_recombined_all.loc[ani,sess,task_index].loc[0].index.get_level_values(0).unique()\n",
    "\n",
    "# nplots=len(uid_l)\n",
    "# fig,axs=ph.subplots_wrapper(nplots)\n",
    "# for ii in range(nplots):\n",
    "#     uid=uid_l[ii]\n",
    "#     ax=axs.ravel()[ii]\n",
    "#     ax=sns.heatmap(data=fr_map_one.loc[0].loc[uid].dropna(axis=1).T,cmap='Greys',ax=ax,cbar=False)\n",
    "#     ax.set_title(uid)"
   ]
  }
 ],
 "metadata": {
  "kernelspec": {
   "display_name": "jax",
   "language": "python",
   "name": "jax"
  },
  "language_info": {
   "codemirror_mode": {
    "name": "ipython",
    "version": 3
   },
   "file_extension": ".py",
   "mimetype": "text/x-python",
   "name": "python",
   "nbconvert_exporter": "python",
   "pygments_lexer": "ipython3",
   "version": "3.9.16"
  }
 },
 "nbformat": 4,
 "nbformat_minor": 5
}
