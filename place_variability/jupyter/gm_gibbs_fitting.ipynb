{
 "cells": [
  {
   "cell_type": "code",
   "execution_count": 1,
   "id": "f0b3ff30",
   "metadata": {},
   "outputs": [],
   "source": [
    "import sys,os,pickle,copy\n",
    "sys.path.append('/mnt/home/szheng/projects/seq_detection2/code')\n",
    "sys.path.append('/mnt/home/szheng/projects/util_code')\n",
    "sys.path.append('/mnt/home/szheng/projects/nmf_analysis')\n",
    "import numpy as np\n",
    "import numpy\n",
    "import pandas as pd\n",
    "import scipy\n",
    "import data_prep_new as dpn\n",
    "import place_cell_analysis as pa\n",
    "import plot_helper as ph\n",
    "from importlib import reload\n",
    "import seaborn as sns\n",
    "\n",
    "import preprocess as prep\n",
    "\n",
    "from sklearn.decomposition import NMF\n",
    "\n",
    "import matplotlib as mpl\n",
    "mpl.rcParams['image.cmap'] = 'Greys'\n",
    "import matplotlib.pyplot as plt\n",
    "%matplotlib inline\n",
    "\n",
    "import nmf_analysis as na\n",
    "import nmf_plot as nmfp\n",
    "reload(na)\n",
    "\n",
    "import pynapple as nap"
   ]
  },
  {
   "cell_type": "code",
   "execution_count": 2,
   "id": "c52bce92",
   "metadata": {},
   "outputs": [],
   "source": [
    "sess_name=\"e15_13f1_220117\"#'e13_26m1_210913'#\n",
    "data_dir_full = \"/mnt/home/szheng/ceph/ad/roman_data/e15/e15_13f1/e15_13f1_220117\"#'/mnt/home/szheng/ceph/ad/roman_data/e13/e13_26m1/e13_26m1_210913' #\n",
    "py_data_dir = os.path.join(data_dir_full,\"py_data\")\n",
    "fr_ = pickle.load(open(os.path.join(py_data_dir,'fr.p'),'rb'))\n",
    "pos_bins = fr_['pos_bins']['lin']\n",
    "bin_to_lin=numpy.concatenate([pos_bins[:-1,None],pos_bins[1:,None]],axis=1).mean(axis=1)\n",
    "\n",
    "fr_df=  fr_['df']\n",
    "fr_pyr = fr_['df']['pyr']\n",
    "fr_int = fr_['df']['int']\n",
    "fr_map_trial = pickle.load(open(os.path.join(py_data_dir,'fr_map.p'),'rb'))['fr_map_trial']\n",
    "fr_map_avg=pickle.load(open(os.path.join(py_data_dir,'fr_map.p'),'rb'))['fr_map']\n",
    "cell_cols = fr_['cell_cols']\n",
    "cell_cols_pyr=np.array(cell_cols['pyr'],dtype=object)\n",
    "cell_cols_int =np.array(cell_cols['int'],dtype=object)\n"
   ]
  },
  {
   "cell_type": "code",
   "execution_count": 3,
   "id": "d8181390",
   "metadata": {},
   "outputs": [],
   "source": [
    "data_dir_full = data_dir_full\n",
    "to_return=prep.load_stuff(data_dir_full)\n",
    "\n",
    "cell_metrics=to_return['cell_metrics']\n",
    "behavior=to_return['behavior']\n",
    "ripple_events=to_return['ripple_events']\n",
    "mergepoints=to_return['mergepoints']\n",
    "cell_type_mask=to_return['cell_type_mask']\n",
    "pyr_uid=to_return['pyr_uid']\n",
    "\n",
    "trial_ind_d = {ch:np.nonzero(behavior.trials.visitedArm==ch)[0] for ch in [0,1]}\n",
    "dt = np.diff(behavior.timestamps).mean()"
   ]
  },
  {
   "cell_type": "code",
   "execution_count": 4,
   "id": "aa5187b9",
   "metadata": {},
   "outputs": [],
   "source": [
    "from sklearn.cluster import KMeans, DBSCAN, AgglomerativeClustering\n",
    "\n"
   ]
  },
  {
   "cell_type": "code",
   "execution_count": 14,
   "id": "92335dbc",
   "metadata": {},
   "outputs": [],
   "source": [
    "import math_functions as mf"
   ]
  },
  {
   "cell_type": "code",
   "execution_count": 226,
   "id": "7683cd76",
   "metadata": {},
   "outputs": [],
   "source": [
    "# target_toy = mf.unnormalized_normal_pdf(np.arange(100),loc=20,scale=20)\n",
    "sig=5\n",
    "target_toy = scipy.stats.norm.pdf(np.arange(100),loc=20,scale=sig)\n",
    "# target_toy = target_toy/target_toy.sum()"
   ]
  },
  {
   "cell_type": "code",
   "execution_count": 227,
   "id": "fb61efeb",
   "metadata": {
    "scrolled": true
   },
   "outputs": [
    {
     "data": {
      "text/plain": [
       "[<matplotlib.lines.Line2D at 0x1553e7beb820>]"
      ]
     },
     "execution_count": 227,
     "metadata": {},
     "output_type": "execute_result"
    },
    {
     "data": {
      "image/png": "[encoded data removed]",
      "text/plain": [
       "<Figure size 432x288 with 1 Axes>"
      ]
     },
     "metadata": {
      "needs_background": "light"
     },
     "output_type": "display_data"
    }
   ],
   "source": [
    "plt.plot(target_toy)"
   ]
  },
  {
   "cell_type": "code",
   "execution_count": 228,
   "id": "77e7fa31",
   "metadata": {},
   "outputs": [],
   "source": [
    "# def loss(mu,target_toy):\n",
    "#     yhat = mf.unnormalized_normal_pdf(xs,loc=mu,scale=20)\n",
    "#     return ((yhat-target_toy)**2).sum()\n",
    "\n",
    "def loss(sigma,target_toy):\n",
    "    yhat = mf.unnormalized_normal_pdf(xs,loc=mu,scale=sigma)\n",
    "    return ((yhat-target_toy)**2).sum()\n",
    "    "
   ]
  },
  {
   "cell_type": "code",
   "execution_count": 206,
   "id": "047d49be",
   "metadata": {},
   "outputs": [],
   "source": [
    "import jax"
   ]
  },
  {
   "cell_type": "code",
   "execution_count": 236,
   "id": "bf9dd757",
   "metadata": {},
   "outputs": [],
   "source": [
    "mu_pred = 20.\n",
    "sigma_pred = 1.\n",
    "xs=np.arange(100)\n",
    "ii = 0\n",
    "max_iter = 100\n",
    "loss_l=[]\n",
    "grad_l=[]\n",
    "mu_l=[]\n",
    "sigma_l = []\n",
    "lr = 1\n",
    "# yhat = mf.unnormalized_normal_pdf(xs,loc=mu_pred,scale=20)\n",
    "yhat = scipy.stats.norm.pdf(xs,loc=mu_pred,scale=sigma_pred)\n",
    "# yhat = yhat / yhat.sum()\n",
    "while np.abs(yhat-target_toy).sum() > 0.01 and ii < max_iter:\n",
    "#     yhat = mf.unnormalized_normal_pdf(xs,loc=mu_pred,scale=20)\n",
    "    yhat = scipy.stats.norm.pdf(xs,loc=mu_pred,scale=sigma_pred)\n",
    "#     yhat = yhat / yhat.sum()\n",
    "    \n",
    "#     mu_pred = np.sum((target_toy - yhat)*yhat*xs) / np.sum((target_toy - yhat)*yhat)\n",
    "#     mu_pred = np.sum((target_toy - yhat)*xs) / np.sum(target_toy - yhat)\n",
    "    sigma_pred = np.sqrt(np.sum((target_toy*(xs-mu_pred)**2)) / np.sum(target_toy))\n",
    "    sigma_l.append(sigma_pred)\n",
    "#     mu_pred = np.sum(target_toy * xs) / np.sum(target_toy)\n",
    "#     mu_l.append(mu_pred)\n",
    "    l = ((yhat-target_toy)**2).sum()\n",
    "    loss_l.append(l)\n",
    "#     g = np.squeeze(jax.grad(loss,0)(mu_pred,target_toy))\n",
    "#     grad_l.append(g)\n",
    "#     mu_pred -= g * lr\n",
    "    ii+=1"
   ]
  },
  {
   "cell_type": "code",
   "execution_count": 237,
   "id": "69f5e95f",
   "metadata": {
    "scrolled": true
   },
   "outputs": [
    {
     "data": {
      "text/plain": [
       "[4.999105799364688, 4.999105799364688]"
      ]
     },
     "execution_count": 237,
     "metadata": {},
     "output_type": "execute_result"
    }
   ],
   "source": [
    "sigma_l"
   ]
  },
  {
   "cell_type": "code",
   "execution_count": 209,
   "id": "e046fec9",
   "metadata": {},
   "outputs": [
    {
     "data": {
      "text/plain": [
       "DeviceArray(0.37585223, dtype=float32)"
      ]
     },
     "execution_count": 209,
     "metadata": {},
     "output_type": "execute_result"
    }
   ],
   "source": [
    "jax.grad(loss,0)(19.,target_toy)"
   ]
  },
  {
   "cell_type": "code",
   "execution_count": 210,
   "id": "b472935b",
   "metadata": {
    "scrolled": false
   },
   "outputs": [
    {
     "data": {
      "text/plain": [
       "[<matplotlib.lines.Line2D at 0x1553e7c92c40>]"
      ]
     },
     "execution_count": 210,
     "metadata": {},
     "output_type": "execute_result"
    },
    {
     "data": {
      "image/png": "[encoded data removed]",
      "text/plain": [
       "<Figure size 432x288 with 1 Axes>"
      ]
     },
     "metadata": {
      "needs_background": "light"
     },
     "output_type": "display_data"
    }
   ],
   "source": [
    "plt.plot(yhat)\n",
    "# plt.plot(grad_l)\n",
    "# plt.plot(loss_l)"
   ]
  },
  {
   "cell_type": "code",
   "execution_count": 220,
   "id": "c384991b",
   "metadata": {},
   "outputs": [],
   "source": [
    "xs_circular = np.cos(xs / len(xs) * 2 * np.pi)"
   ]
  },
  {
   "cell_type": "code",
   "execution_count": 221,
   "id": "b1d5c876",
   "metadata": {},
   "outputs": [],
   "source": [
    "xs_phases = xs / len(xs) * 2 * np.pi"
   ]
  },
  {
   "cell_type": "code",
   "execution_count": 222,
   "id": "8d7dae6a",
   "metadata": {},
   "outputs": [
    {
     "data": {
      "text/plain": [
       "20"
      ]
     },
     "execution_count": 222,
     "metadata": {},
     "output_type": "execute_result"
    }
   ],
   "source": [
    "np.argmin(np.abs(xs_phases-1.27))"
   ]
  },
  {
   "cell_type": "code",
   "execution_count": 223,
   "id": "237324da",
   "metadata": {},
   "outputs": [],
   "source": [
    "mu_phase=np.arccos(np.sum(target_toy * xs_circular) / np.sum(target_toy))\n",
    "mu_pred = np.argmin(np.abs(xs_phases-mu_phase))"
   ]
  },
  {
   "cell_type": "code",
   "execution_count": 264,
   "id": "73b5c14d",
   "metadata": {
    "scrolled": true
   },
   "outputs": [],
   "source": [
    "from jax import jit, vmap\n",
    "from math_functions import unnormalized_normal_pdf"
   ]
  },
  {
   "cell_type": "code",
   "execution_count": 265,
   "id": "44750806",
   "metadata": {},
   "outputs": [],
   "source": [
    "# @jit\n",
    "def forward_one_neuron(regressors, par, nfields_mask, common_mu=False, common_sigma=False):\n",
    "    SIGMA_MIN =3. # careful!!!\n",
    "\n",
    "#     par = par_invtransform(par_trans,common_mu,common_sigma)\n",
    "    mus_l = par['mus']\n",
    "    sigmas_l = par['sigmas']\n",
    "    ws_l = par['ws']\n",
    "    b_l = par['b']\n",
    "    \n",
    "    ntrials,nfields = ws_l.shape\n",
    "    \n",
    "    xs = regressors['xs']\n",
    "    xs_l = np.tile(xs[:,None],[1,ntrials])\n",
    "\n",
    "    one_field_func=lambda mus,sigmas,ws:unnormalized_normal_pdf(xs_l,loc=mus,scale=sigmas + SIGMA_MIN) * ws # should be the corresponding mus[:,k], ntrials,\n",
    "    multi_field_res = vmap(one_field_func,in_axes=(1,1,1))(mus_l,sigmas_l,ws_l)\n",
    "    fr_all_trial_one_field_l_masksum = np.einsum('f,fpt->pt',nfields_mask,multi_field_res)\n",
    "    multi_field_res_final = fr_all_trial_one_field_l_masksum + np.squeeze(b_l)\n",
    "    \n",
    "    return multi_field_res_final\n",
    "\n",
    "def forward_population(regressors, par_l, nfields_mask_l,common_mu=False,common_sigma=False):\n",
    "    return vmap(forward_one_neuron,in_axes=(None,0,0,None,None))(regressors,par_l,nfields_mask_l,common_mu,common_sigma)\n",
    "\n"
   ]
  },
  {
   "cell_type": "code",
   "execution_count": 275,
   "id": "e1d99a4c",
   "metadata": {},
   "outputs": [
    {
     "data": {
      "text/plain": [
       "<module 'gm' from '/mnt/home/szheng/projects/util_code/gm.py'>"
      ]
     },
     "execution_count": 275,
     "metadata": {},
     "output_type": "execute_result"
    }
   ],
   "source": [
    "import gm\n",
    "reload(gm)"
   ]
  },
  {
   "cell_type": "code",
   "execution_count": 266,
   "id": "f5b1e675",
   "metadata": {},
   "outputs": [],
   "source": [
    "rngkey=jax.random.PRNGKey(0)\n",
    "n_neurons = 10\n",
    "rngkey_l = jax.random.split(rngkey,n_neurons)\n",
    "\n",
    "n_trials = 2\n",
    "regressors = gm.get_regressors({'ntrials':n_trials})\n",
    "nfields_max = 4\n",
    "\n",
    "par_l,_ = gm.init_population(rngkey_l,regressors,nfields_max)\n",
    "\n",
    "reg_par_l = gm.get_reg_pars_population(n_neurons)"
   ]
  },
  {
   "cell_type": "code",
   "execution_count": 271,
   "id": "ebf0a9ea",
   "metadata": {
    "scrolled": true
   },
   "outputs": [
    {
     "data": {
      "text/plain": [
       "DeviceArray([[[ 3.4244702 ,  3.608725  ],\n",
       "              [ 3.770956  ,  3.665818  ],\n",
       "              [ 4.189477  ,  3.7395346 ],\n",
       "              ...,\n",
       "              [ 2.2519426 ,  3.441004  ],\n",
       "              [ 2.2519426 ,  3.4401157 ],\n",
       "              [ 2.2519426 ,  3.4395742 ]],\n",
       "\n",
       "             [[ 1.4037936 ,  2.2183397 ],\n",
       "              [ 1.4985193 ,  2.2183962 ],\n",
       "              [ 1.6298454 ,  2.218481  ],\n",
       "              ...,\n",
       "              [ 1.1980081 ,  2.4145303 ],\n",
       "              [ 1.1980081 ,  2.3661978 ],\n",
       "              [ 1.1980081 ,  2.3290157 ]],\n",
       "\n",
       "             [[ 5.796296  ,  2.0490918 ],\n",
       "              [ 6.3293743 ,  2.125113  ],\n",
       "              [ 6.9486647 ,  2.2216842 ],\n",
       "              ...,\n",
       "              [ 3.3361404 ,  4.50611   ],\n",
       "              [ 3.3361294 ,  4.0403533 ],\n",
       "              [ 3.3361228 ,  3.6425815 ]],\n",
       "\n",
       "             ...,\n",
       "\n",
       "             [[ 2.2333639 ,  6.3631887 ],\n",
       "              [ 2.2518048 ,  7.313836  ],\n",
       "              [ 2.279037  ,  8.3779545 ],\n",
       "              ...,\n",
       "              [11.646608  ,  1.3092933 ],\n",
       "              [10.433447  ,  1.3092933 ],\n",
       "              [ 9.325944  ,  1.3092933 ]],\n",
       "\n",
       "             [[ 2.6718016 ,  3.0278342 ],\n",
       "              [ 3.252314  ,  3.38967   ],\n",
       "              [ 3.9341192 ,  3.824936  ],\n",
       "              ...,\n",
       "              [ 0.4078629 ,  1.7845302 ],\n",
       "              [ 0.40783975,  1.7845302 ],\n",
       "              [ 0.4078247 ,  1.7845302 ]],\n",
       "\n",
       "             [[ 6.8951817 ,  3.191876  ],\n",
       "              [ 7.534149  ,  3.3229342 ],\n",
       "              [ 8.268924  ,  3.4968596 ],\n",
       "              ...,\n",
       "              [ 3.8760042 ,  2.8608327 ],\n",
       "              [ 3.8760042 ,  2.8608327 ],\n",
       "              [ 3.8760042 ,  2.8608327 ]]], dtype=float32)"
      ]
     },
     "execution_count": 271,
     "metadata": {},
     "output_type": "execute_result"
    }
   ],
   "source": [
    "gm.forward_population(regressors, par_l, reg_par_l['nfields_mask'],common_mu=False,common_sigma=False)"
   ]
  },
  {
   "cell_type": "code",
   "execution_count": 277,
   "id": "2ea7cbb6",
   "metadata": {
    "scrolled": true
   },
   "outputs": [
    {
     "data": {
      "text/plain": [
       "DeviceArray([[[-1.2856181 , -2.440458  ],\n",
       "              [-1.3171504 , -2.4416804 ],\n",
       "              [-1.3732955 , -2.4437244 ],\n",
       "              ...,\n",
       "              [-1.2519426 , -2.4388027 ],\n",
       "              [-1.2519426 , -2.4388027 ],\n",
       "              [-1.2519426 , -2.4388027 ]],\n",
       "\n",
       "             [[-0.19816303, -1.2182341 ],\n",
       "              [-0.19840205, -1.2182341 ],\n",
       "              [-0.198977  , -1.2182341 ],\n",
       "              ...,\n",
       "              [-0.19800806, -1.2211778 ],\n",
       "              [-0.19800806, -1.2200196 ],\n",
       "              [-0.19800806, -1.2193031 ]],\n",
       "\n",
       "             [[-2.6176114 , -0.81076443],\n",
       "              [-2.7427466 , -0.81325924],\n",
       "              [-2.9146636 , -0.8172591 ],\n",
       "              ...,\n",
       "              [-2.336114  , -1.1896522 ],\n",
       "              [-2.336114  , -1.081222  ],\n",
       "              [-2.336114  , -1.0012069 ]],\n",
       "\n",
       "             ...,\n",
       "\n",
       "             [[-1.200458  , -1.337584  ],\n",
       "              [-1.2004609 , -1.7592511 ],\n",
       "              [-1.2004702 , -2.3132203 ],\n",
       "              ...,\n",
       "              [-4.666915  , -0.30929327],\n",
       "              [-3.913196  , -0.30929327],\n",
       "              [-3.2969708 , -0.30929327]],\n",
       "\n",
       "             [[ 0.44699466, -0.82367635],\n",
       "              [ 0.34251153, -0.8595817 ],\n",
       "              [ 0.17718047, -0.9228463 ],\n",
       "              ...,\n",
       "              [ 0.5922017 , -0.78453016],\n",
       "              [ 0.5922017 , -0.78453016],\n",
       "              [ 0.5922017 , -0.78453016]],\n",
       "\n",
       "             [[-3.2655253 , -1.8620338 ],\n",
       "              [-3.4421892 , -1.8635252 ],\n",
       "              [-3.6847773 , -1.866652  ],\n",
       "              ...,\n",
       "              [-2.8760042 , -1.8608327 ],\n",
       "              [-2.8760042 , -1.8608327 ],\n",
       "              [-2.8760042 , -1.8608327 ]]], dtype=float32)"
      ]
     },
     "execution_count": 277,
     "metadata": {},
     "output_type": "execute_result"
    }
   ],
   "source": [
    "field_to_leave_index =None\n",
    "n_positions = len(regressors['xs'])\n",
    "target = np.ones((n_neurons,n_positions, n_trials))\n",
    "get_resid_leave_one_field(target,regressors,par_l,reg_par_l['nfields_mask'],field_to_leave_index)"
   ]
  },
  {
   "cell_type": "code",
   "execution_count": 484,
   "id": "f84a234e",
   "metadata": {},
   "outputs": [],
   "source": [
    "EPS = 1e-8\n",
    "def w_step(target_resid, y_pred_no_w):\n",
    "    '''\n",
    "    target_resid: n_neurons x n_pos x n_trials\n",
    "    y_pred_no_w: n_neurons x n_pos x n_trials\n",
    "    '''\n",
    "    w_new = np.einsum('npt,npt->nt',target_resid,y_pred_no_w ) / (np.einsum('npt,npt->nt',y_pred_no_w, y_pred_no_w)+EPS)\n",
    "    return w_new\n",
    "\n",
    "def b_step(target_resid):\n",
    "    '''\n",
    "    ==\n",
    "    b_new: n_neurons x n_trials x 1\n",
    "    '''\n",
    "    b_new = target_resid.mean(axis=1)\n",
    "    return b_new[:,:,None] # add a feature dim\n",
    "\n",
    "def sigma_step(target_resid,xs,mu):\n",
    "    '''\n",
    "    xs: n_pos\n",
    "    mu: n_neurons x ntrials\n",
    "    '''\n",
    "    deviation_squared = (np.subtract.outer(xs,mu))**2 # n_pos x n_neurons x n_trials\n",
    "    sigma_new = np.einsum('npt,pnt->nt',target_resid,deviation_squared) / np.sum(target_resid,axis=1)\n",
    "    sigma_new = np.sqrt(sigma_new)\n",
    "    return sigma_new\n",
    "\n",
    "def mu_step(target_resid,xs):\n",
    "    '''\n",
    "    target_resid: n_neurons x n_pos x n_trials\n",
    "    mus: n_neurons x ntrials x n_fields_max\n",
    "    nfields_mask_l: n_neurons x n_fields_max \n",
    "    '''\n",
    "    mu_new = np.einsum('npt,p->nt',target_resid,xs) / np.sum(target_resid,axis=1)\n",
    "    return mu_new\n",
    "\n",
    "\n",
    "def get_resid_leave_one_field(target,regressors,par_l,nfields_mask_l,field_to_leave_index):\n",
    "    '''\n",
    "    nfields_mask_l: n_neurons x n_fields_max\n",
    "    '''\n",
    "    if field_to_leave_index is not None: # if None then only leaving the baseline\n",
    "        nfields_mask_l = nfields_mask_l.at[:,field_to_leave_index].set(0)\n",
    "    y_hat_leave_one_field = gm.forward_population(regressors, par_l, nfields_mask_l,common_mu=False,common_sigma=False)\n",
    "\n",
    "    target_resid = target - y_hat_leave_one_field\n",
    "    return target_resid,y_hat_leave_one_field\n",
    "    \n",
    "    \n",
    "def forward_no_w_one_field(xs,mu,sigma):\n",
    "    '''\n",
    "    xs: n_pos\n",
    "    mu: n_neurons x n_trials\n",
    "    sigma: n_neurons x n_trials\n",
    "    '''\n",
    "    res = np.exp(-(np.subtract.outer(xs,mu))**2 / (2 * sigma[None,:,:]**2)) # n_pos x n_neurons x n_trials\n",
    "    res =np.swapaxes(res,0,1)\n",
    "    return res\n",
    "    \n",
    "def correct_for_negative_resid_one_neuron_one_trial(target,y_hat_leave_one_field,par):\n",
    "    '''\n",
    "    target: npos\n",
    "    '''\n",
    "    do_correction = np.any(target < y_hat_leave_one_field)\n",
    "    def correction_func():\n",
    "        ratio = np.max(y_hat_leave_one_field / (target + EPS)) # get the largest ratio\n",
    "#         ratio = np.max(y_hat_leave_one_field) / np.max(target + EPS) # get the largest ratio\n",
    "#         ws_new= par['ws'] / ratio # somehow this is not allowed, because this is used to modify par['ws']outside??\n",
    "#         b_new = par['b'] / ratio\n",
    "#         return ws_new,b_new\n",
    "        return ratio\n",
    "    def same_func():\n",
    "#         return par['ws'],par['b']\n",
    "        return np.array(1.)\n",
    "        \n",
    "#     same_func = lambda x:x\n",
    "    ratio = jax.lax.cond(do_correction, correction_func,same_func)\n",
    "    ws_new = par['ws']/ratio\n",
    "    b_new = par['b']/ratio\n",
    "    par['ws'] = par['ws'].at[:].set(ws_new)\n",
    "    par['b'] = par['b'].at[:].set(b_new)\n",
    "    \n",
    "    \n",
    "    return par\n",
    "    \n",
    "    \n",
    "    \n",
    "def correct_for_negative_resid(target,y_hat_leave_one_field,par_l):\n",
    "    \n",
    "    par_l = vmap(vmap(correct_for_negative_resid_one_neuron_one_trial,in_axes=(0,0,0)),in_axes=(-1,-1,1))(target,y_hat_leave_one_field,par_l)\n",
    "    return par_l\n",
    "    \n",
    "    \n",
    "def fit_one_field_step(target,regressors,par_l,nfields_mask_l,field_to_leave_index):\n",
    "    target_resid,y_hat_leave_one_field = get_resid_leave_one_field(target,regressors,par_l,nfields_mask_l,field_to_leave_index)\n",
    "    par_l = correct_for_negative_resid(target,y_hat_leave_one_field,par_l)\n",
    "    target_resid,y_hat_leave_one_field = get_resid_leave_one_field(target,regressors,par_l,nfields_mask_l,field_to_leave_index)\n",
    "#     import pdb\n",
    "#     pdb.set_trace()\n",
    "    xs = regressors['xs']\n",
    "    mu_new = mu_step(target_resid,xs)\n",
    "    sigma_new = sigma_step(target_resid,xs,mu_new)\n",
    "    y_pred_no_w = forward_no_w_one_field(xs,mu_new,sigma_new)\n",
    "    ws_new = w_step(target_resid,y_pred_no_w)\n",
    "    par_l['mus'] = par_l['mus'].at[:,:,field_to_leave_index].set(mu_new)\n",
    "    par_l['sigmas'] = par_l['sigmas'].at[:,:,field_to_leave_index].set(sigma_new)\n",
    "    par_l['ws'] = par_l['ws'].at[:,:,field_to_leave_index].set(ws_new)\n",
    "    return par_l\n",
    "    \n",
    "def fit_baseline_step(target,regressors,par_l,nfields_mask_l):\n",
    "    target_resid,y_hat_leave_baseline = get_resid_leave_one_field(target,regressors,par_l,nfields_mask_l,None)\n",
    "#     par_l = correct_for_negative_resid(target,y_hat_leave_baseline,par_l)\n",
    "#     target_resid,y_hat_leave_baseline = get_resid_leave_one_field(target,regressors,par_l,nfields_mask_l,None)\n",
    "    b_new = b_step(target_resid)\n",
    "    par_l['b'] = b_new\n",
    "    return par_l\n",
    "\n",
    "def smooth_params():\n",
    "    pass\n",
    "\n",
    "def fit_gibbs():\n",
    "    pass\n",
    "    "
   ]
  },
  {
   "cell_type": "code",
   "execution_count": 504,
   "id": "33fcf49e",
   "metadata": {},
   "outputs": [],
   "source": [
    "# target = scipy.stats.norm.pdf(xs,loc=30,scale=5) * 1. + scipy.stats.norm.pdf(xs,loc=60,scale=5) * 2.\n",
    "target = unnormalized_normal_pdf(xs,loc=30,scale=5) * 10. + unnormalized_normal_pdf(xs,loc=80,scale=5) * 20.\n",
    "target = target[None,:,None]\n",
    "\n",
    "rngkey=jax.random.PRNGKey()\n",
    "n_neurons = 1\n",
    "rngkey_l = jax.random.split(rngkey,n_neurons)\n",
    "\n",
    "n_trials = 1\n",
    "regressors = gm.get_regressors({'ntrials':n_trials})\n",
    "nfields_max = 2\n",
    "\n",
    "par_l,_ = gm.init_population(rngkey_l,regressors,nfields_max,range_dict={'ws':[0,40],'b':[0,4],'sigmas':[1,2],'mus':[10,90]})\n",
    "\n",
    "reg_par_l = gm.get_reg_pars_population(n_neurons,reg_pars_={'nfields':2,'nfields_max':nfields_max})"
   ]
  },
  {
   "cell_type": "code",
   "execution_count": 505,
   "id": "ec5ad094",
   "metadata": {
    "scrolled": true
   },
   "outputs": [],
   "source": [
    "nfields_mask_l = reg_par_l['nfields_mask']\n",
    "field_to_leave_index = 0\n",
    "par_fit = par_l\n",
    "for i in range(5):\n",
    "    for field_to_leave_index in range(nfields_max):\n",
    "        par_fit =fit_one_field_step(target,regressors,par_fit,nfields_mask_l,field_to_leave_index)\n",
    "    par_fit=fit_baseline_step(target,regressors,par_fit,nfields_mask_l)"
   ]
  },
  {
   "cell_type": "code",
   "execution_count": 506,
   "id": "905ee50e",
   "metadata": {},
   "outputs": [
    {
     "data": {
      "text/plain": [
       "{'b': DeviceArray([[[1.1840245e-07]]], dtype=float32),\n",
       " 'b_bar': DeviceArray([[[0.32249737]]], dtype=float32),\n",
       " 'mus': DeviceArray([[[63.332165, 63.332172]]], dtype=float32),\n",
       " 'mus_bar': DeviceArray([[[83.08445, 83.9159 ]]], dtype=float32),\n",
       " 'sigmas': DeviceArray([[[24.09419 , 24.094193]]], dtype=float32),\n",
       " 'sigmas_bar': DeviceArray([[[1.9239488, 1.9135556]]], dtype=float32),\n",
       " 'ws': DeviceArray([[[5.8156667e+00, 1.3891175e-06]]], dtype=float32),\n",
       " 'ws_bar': DeviceArray([[[36.95795 , 36.542225]]], dtype=float32)}"
      ]
     },
     "execution_count": 506,
     "metadata": {},
     "output_type": "execute_result"
    }
   ],
   "source": [
    "fit_one_field_step(target,regressors,par_fit,nfields_mask_l,0)\n"
   ]
  },
  {
   "cell_type": "code",
   "execution_count": 497,
   "id": "71abf14e",
   "metadata": {},
   "outputs": [],
   "source": [
    "target_resid,y_hat_leave_one_field = get_resid_leave_one_field(target,regressors,par_fit,nfields_mask_l,0)\n",
    "\n"
   ]
  },
  {
   "cell_type": "code",
   "execution_count": 503,
   "id": "96ba0d57",
   "metadata": {},
   "outputs": [
    {
     "data": {
      "text/plain": [
       "[<matplotlib.lines.Line2D at 0x1553d11164f0>]"
      ]
     },
     "execution_count": 503,
     "metadata": {},
     "output_type": "execute_result"
    },
    {
     "data": {
      "image/png": "[encoded data removed]",
      "text/plain": [
       "<Figure size 432x288 with 1 Axes>"
      ]
     },
     "metadata": {
      "needs_background": "light"
     },
     "output_type": "display_data"
    }
   ],
   "source": [
    "plt.plot(target_resid.flatten())\n",
    "plt.plot(target.flatten())\n",
    "plt.plot(y_hat_leave_one_field.flatten())"
   ]
  },
  {
   "cell_type": "code",
   "execution_count": 495,
   "id": "74278d4f",
   "metadata": {
    "scrolled": true
   },
   "outputs": [
    {
     "data": {
      "text/plain": [
       "{'b': DeviceArray([[[0.49570236]]], dtype=float32),\n",
       " 'b_bar': DeviceArray([[[0.32249737]]], dtype=float32),\n",
       " 'mus': DeviceArray([[[63.332165, 63.332172]]], dtype=float32),\n",
       " 'mus_bar': DeviceArray([[[83.08445, 83.9159 ]]], dtype=float32),\n",
       " 'sigmas': DeviceArray([[[24.09419 , 24.094193]]], dtype=float32),\n",
       " 'sigmas_bar': DeviceArray([[[9.467642, 9.39489 ]]], dtype=float32),\n",
       " 'ws': DeviceArray([[[5.1359198e-06, 5.8156638e+00]]], dtype=float32),\n",
       " 'ws_bar': DeviceArray([[[36.95795 , 36.542225]]], dtype=float32)}"
      ]
     },
     "execution_count": 495,
     "metadata": {},
     "output_type": "execute_result"
    }
   ],
   "source": [
    "par_fit"
   ]
  },
  {
   "cell_type": "code",
   "execution_count": 360,
   "id": "db7dd6ad",
   "metadata": {},
   "outputs": [
    {
     "data": {
      "text/plain": [
       "{'b': DeviceArray([[0.00517921]], dtype=float32),\n",
       " 'b_bar': DeviceArray([[[0.32249737]]], dtype=float32),\n",
       " 'mus': DeviceArray([[[45.636032]]], dtype=float32),\n",
       " 'mus_bar': DeviceArray([[[16.449947]]], dtype=float32),\n",
       " 'sigmas': DeviceArray([[[27.083403]]], dtype=float32),\n",
       " 'sigmas_bar': DeviceArray([[[3.5643704]]], dtype=float32),\n",
       " 'ws': DeviceArray([[[0.07154378]]], dtype=float32),\n",
       " 'ws_bar': DeviceArray([[[3.2249737]]], dtype=float32)}"
      ]
     },
     "execution_count": 360,
     "metadata": {},
     "output_type": "execute_result"
    }
   ],
   "source": [
    "par_fit"
   ]
  },
  {
   "cell_type": "code",
   "execution_count": 367,
   "id": "9be83b33",
   "metadata": {},
   "outputs": [],
   "source": [
    "target_resid,y_hat_leave_one_field = get_resid_leave_one_field(target,regressors,par_fit,nfields_mask_l,field_to_leave_index)\n",
    "mu_new = mu_step(target_resid,xs)"
   ]
  },
  {
   "cell_type": "code",
   "execution_count": 372,
   "id": "def1df04",
   "metadata": {},
   "outputs": [],
   "source": [
    "mm = np.any(y_hat_leave_one_field > target,axis=1)"
   ]
  },
  {
   "cell_type": "code",
   "execution_count": 302,
   "id": "ac3669b4",
   "metadata": {},
   "outputs": [
    {
     "name": "stderr",
     "output_type": "stream",
     "text": [
      "/tmp/ipykernel_814610/2189491552.py:25: RuntimeWarning: invalid value encountered in sqrt\n",
      "  sigma_new = np.sqrt(sigma_new)\n"
     ]
    }
   ],
   "source": [
    "target_resid = get_resid_leave_one_field(target,regressors,par_l,nfields_mask_l,field_to_leave_index)\n",
    "xs = regressors['xs']\n",
    "mu_new = mu_step(target_resid,xs)\n",
    "sigma_new = sigma_step(target_resid,xs,mu_new)\n",
    "y_pred_no_w = forward_no_w_one_field(xs,mu_new,sigma_new)\n",
    "ws_new = w_step(target_resid,y_pred_no_w)"
   ]
  },
  {
   "cell_type": "code",
   "execution_count": 305,
   "id": "a0245130",
   "metadata": {},
   "outputs": [
    {
     "data": {
      "text/plain": [
       "DeviceArray(30.000002, dtype=float32)"
      ]
     },
     "execution_count": 305,
     "metadata": {},
     "output_type": "execute_result"
    }
   ],
   "source": [
    "target = np.squeeze(target)\n",
    "np.sum(target * xs) / target.sum()"
   ]
  },
  {
   "cell_type": "code",
   "execution_count": null,
   "id": "af023dc0",
   "metadata": {},
   "outputs": [],
   "source": []
  }
 ],
 "metadata": {
  "kernelspec": {
   "display_name": "jax",
   "language": "python",
   "name": "jax"
  },
  "language_info": {
   "codemirror_mode": {
    "name": "ipython",
    "version": 3
   },
   "file_extension": ".py",
   "mimetype": "text/x-python",
   "name": "python",
   "nbconvert_exporter": "python",
   "pygments_lexer": "ipython3",
   "version": "3.9.13"
  }
 },
 "nbformat": 4,
 "nbformat_minor": 5
}
