{
 "cells": [
  {
   "cell_type": "code",
   "execution_count": 1,
   "id": "f1540169",
   "metadata": {},
   "outputs": [],
   "source": [
    "import sys,os,pickle,copy\n",
    "sys.path.append('/mnt/home/szheng/projects/seq_detection2/code')\n",
    "sys.path.append('/mnt/home/szheng/projects/util_code')\n",
    "sys.path.append('/mnt/home/szheng/projects/nmf_analysis')\n",
    "sys.path.append('/mnt/home/szheng/projects/nmf_analysis/scripts')\n",
    "import numpy as np\n",
    "import numpy\n",
    "import pandas as pd\n",
    "import scipy\n",
    "import data_prep_new as dpn\n",
    "import place_cell_analysis as pa\n",
    "import plot_helper as ph\n",
    "from importlib import reload\n",
    "import seaborn as sns\n",
    "\n",
    "import preprocess as prep\n",
    "\n",
    "from sklearn.decomposition import NMF\n",
    "\n",
    "import matplotlib as mpl\n",
    "mpl.rcParams['image.cmap'] = 'Greys'\n",
    "import matplotlib.pyplot as plt\n",
    "%matplotlib inline\n",
    "\n",
    "import nmf_analysis as na\n",
    "import nmf_plot as nmfp\n",
    "reload(na)\n",
    "import data_prep_pyn as dpp\n",
    "\n",
    "import pynapple as nap\n",
    "from sklearn.cluster import KMeans\n",
    "import database\n",
    "db = database.db"
   ]
  },
  {
   "cell_type": "code",
   "execution_count": 2,
   "id": "c0c7b705",
   "metadata": {},
   "outputs": [],
   "source": [
    "import ruptures as rpt\n",
    "\n",
    "import nmf_test as nt"
   ]
  },
  {
   "cell_type": "code",
   "execution_count": 14,
   "id": "65270088",
   "metadata": {
    "scrolled": false
   },
   "outputs": [
    {
     "data": {
      "text/plain": [
       "'/mnt/home/szheng/ceph/ad/roman_data/e15/e15_13f1/e15_13f1_220118'"
      ]
     },
     "execution_count": 14,
     "metadata": {},
     "output_type": "execute_result"
    }
   ],
   "source": [
    "data_dir_full = db.query('owner==\"roman\"').sort_values('n_pyr_putative',ascending=False)['data_dir_full'][2] #0\n",
    "data_dir_full"
   ]
  },
  {
   "cell_type": "code",
   "execution_count": 15,
   "id": "5609de4c",
   "metadata": {},
   "outputs": [
    {
     "name": "stdout",
     "output_type": "stream",
     "text": [
      "load *SessionPulses.Events.mat failed\n"
     ]
    },
    {
     "name": "stderr",
     "output_type": "stream",
     "text": [
      "/mnt/home/szheng/projects/util_code/data_prep_pyn.py:215: SettingWithCopyWarning: \n",
      "A value is trying to be set on a copy of a slice from a DataFrame.\n",
      "Try using .loc[row_indexer,col_indexer] = value instead\n",
      "\n",
      "See the caveats in the documentation: https://pandas.pydata.org/pandas-docs/stable/user_guide/indexing.html#returning-a-view-versus-a-copy\n",
      "  df.loc[val.index,info_key] = info_val_l_new[int(k[0])][int(k[1])]\n"
     ]
    },
    {
     "ename": "NameError",
     "evalue": "name 'dpp' is not defined",
     "output_type": "error",
     "traceback": [
      "\u001b[0;31m---------------------------------------------------------------------------\u001b[0m",
      "\u001b[0;31mNameError\u001b[0m                                 Traceback (most recent call last)",
      "Input \u001b[0;32mIn [15]\u001b[0m, in \u001b[0;36m<cell line: 6>\u001b[0;34m()\u001b[0m\n\u001b[1;32m      3\u001b[0m \u001b[38;5;66;03m# sessionPulses=mat_to_return['sessionPulses']\u001b[39;00m\n\u001b[1;32m      4\u001b[0m behavior\u001b[38;5;241m=\u001b[39mmat_to_return[\u001b[38;5;124m'\u001b[39m\u001b[38;5;124mbehavior\u001b[39m\u001b[38;5;124m'\u001b[39m]\n\u001b[0;32m----> 6\u001b[0m prep_res \u001b[38;5;241m=\u001b[39m \u001b[43mdpp\u001b[49m\u001b[38;5;241;43m.\u001b[39;49m\u001b[43mload_spk_beh_df\u001b[49m\u001b[43m(\u001b[49m\u001b[43mdata_dir_full\u001b[49m\u001b[43m,\u001b[49m\u001b[43mforce_reload\u001b[49m\u001b[38;5;241;43m=\u001b[39;49m\u001b[38;5;28;43;01mTrue\u001b[39;49;00m\u001b[43m,\u001b[49m\u001b[43mextra_load\u001b[49m\u001b[38;5;241;43m=\u001b[39;49m\u001b[43m{\u001b[49m\u001b[43m}\u001b[49m\u001b[43m)\u001b[49m\n\u001b[1;32m      7\u001b[0m spk_beh_df\u001b[38;5;241m=\u001b[39mprep_res[\u001b[38;5;124m'\u001b[39m\u001b[38;5;124mspk_beh_df\u001b[39m\u001b[38;5;124m'\u001b[39m]\n\u001b[1;32m      8\u001b[0m cell_cols_d \u001b[38;5;241m=\u001b[39m prep_res[\u001b[38;5;124m'\u001b[39m\u001b[38;5;124mcell_cols_d\u001b[39m\u001b[38;5;124m'\u001b[39m]\n",
      "File \u001b[0;32m~/projects/util_code/data_prep_pyn.py:282\u001b[0m, in \u001b[0;36mload_spk_beh_df\u001b[0;34m(session_dir, behavior, cell_metrics, force_reload, extra_load)\u001b[0m\n\u001b[1;32m    278\u001b[0m     behavior\u001b[38;5;241m=\u001b[39mto_return[\u001b[38;5;124m'\u001b[39m\u001b[38;5;124mbehavior\u001b[39m\u001b[38;5;124m'\u001b[39m]\n\u001b[1;32m    280\u001b[0m     extra_loaded_result \u001b[38;5;241m=\u001b[39m {k:to_return[k] \u001b[38;5;28;01mfor\u001b[39;00m k \u001b[38;5;129;01min\u001b[39;00m extra_load\u001b[38;5;241m.\u001b[39mkeys() \u001b[38;5;28;01mif\u001b[39;00m k \u001b[38;5;129;01min\u001b[39;00m to_return\u001b[38;5;241m.\u001b[39mkeys()}\n\u001b[0;32m--> 282\u001b[0m res \u001b[38;5;241m=\u001b[39m \u001b[43mprep_roman_data\u001b[49m\u001b[43m(\u001b[49m\u001b[43mbehavior\u001b[49m\u001b[43m,\u001b[49m\u001b[43mcell_metrics\u001b[49m\u001b[43m,\u001b[49m\u001b[38;5;241;43m*\u001b[39;49m\u001b[38;5;241;43m*\u001b[39;49m\u001b[43mextra_loaded_result\u001b[49m\u001b[43m)\u001b[49m\n\u001b[1;32m    283\u001b[0m pickle\u001b[38;5;241m.\u001b[39mdump(res,\u001b[38;5;28mopen\u001b[39m(save_data_fn,\u001b[38;5;124m'\u001b[39m\u001b[38;5;124mwb\u001b[39m\u001b[38;5;124m'\u001b[39m))\n\u001b[1;32m    284\u001b[0m \u001b[38;5;28mprint\u001b[39m(\u001b[38;5;124mf\u001b[39m\u001b[38;5;124m'\u001b[39m\u001b[38;5;132;01m{\u001b[39;00msave_data_fn\u001b[38;5;132;01m}\u001b[39;00m\u001b[38;5;124m saved!\u001b[39m\u001b[38;5;124m'\u001b[39m)\n",
      "File \u001b[0;32m~/projects/util_code/data_prep_pyn.py:222\u001b[0m, in \u001b[0;36mprep_roman_data\u001b[0;34m(behavior, cell_metrics, **kwargs)\u001b[0m\n\u001b[1;32m    218\u001b[0m \u001b[38;5;28;01mdef\u001b[39;00m \u001b[38;5;21mprep_roman_data\u001b[39m(behavior,cell_metrics,\u001b[38;5;241m*\u001b[39m\u001b[38;5;241m*\u001b[39mkwargs):\n\u001b[1;32m    219\u001b[0m     \u001b[38;5;124;03m'''\u001b[39;00m\n\u001b[1;32m    220\u001b[0m \u001b[38;5;124;03m    kwargs go to get_multi_maze_behavior_df\u001b[39;00m\n\u001b[1;32m    221\u001b[0m \u001b[38;5;124;03m    '''\u001b[39;00m\n\u001b[0;32m--> 222\u001b[0m     beh_df \u001b[38;5;241m=\u001b[39m \u001b[43mget_multi_maze_behavior_df\u001b[49m\u001b[43m(\u001b[49m\u001b[43mbehavior\u001b[49m\u001b[43m,\u001b[49m\u001b[38;5;241;43m*\u001b[39;49m\u001b[38;5;241;43m*\u001b[39;49m\u001b[43mkwargs\u001b[49m\u001b[43m)\u001b[49m\n\u001b[1;32m    223\u001b[0m     spike_trains,cell_type_mask_d, cell_cols_d \u001b[38;5;241m=\u001b[39m get_spike_trains(cell_metrics)\n\u001b[1;32m    224\u001b[0m     spk_beh_df \u001b[38;5;241m=\u001b[39m get_spike_behavior_df(spike_trains,beh_df)\n",
      "File \u001b[0;32m~/projects/util_code/data_prep_pyn.py:150\u001b[0m, in \u001b[0;36mget_multi_maze_behavior_df\u001b[0;34m(behavior, **kwargs)\u001b[0m\n\u001b[1;32m    147\u001b[0m     info_val_l \u001b[38;5;241m=\u001b[39m [val[\u001b[38;5;124m'\u001b[39m\u001b[38;5;124mstim\u001b[39m\u001b[38;5;124m'\u001b[39m] \u001b[38;5;28;01mfor\u001b[39;00m val \u001b[38;5;129;01min\u001b[39;00m sessionPulses\u001b[38;5;241m.\u001b[39mvalues()]\n\u001b[1;32m    148\u001b[0m     beh_df \u001b[38;5;241m=\u001b[39m add_trial_specific_info(beh_df,\u001b[38;5;124m'\u001b[39m\u001b[38;5;124mstim_trial\u001b[39m\u001b[38;5;124m'\u001b[39m,info_val_l)\n\u001b[0;32m--> 150\u001b[0m _,beh_df \u001b[38;5;241m=\u001b[39m group_into_trialtype(beh_df)\n\u001b[1;32m    151\u001b[0m \u001b[38;5;28;01mreturn\u001b[39;00m beh_df\n",
      "\u001b[0;31mNameError\u001b[0m: name 'dpp' is not defined"
     ]
    }
   ],
   "source": [
    "# load data\n",
    "mat_to_return=prep.load_stuff(data_dir_full,sessionPulses = '*SessionPulses.Events.mat')\n",
    "# sessionPulses=mat_to_return['sessionPulses']\n",
    "behavior=mat_to_return['behavior']\n",
    "\n",
    "prep_res = dpp.load_spk_beh_df(data_dir_full,force_reload=True,extra_load={})\n",
    "spk_beh_df=prep_res['spk_beh_df']\n",
    "cell_cols_d = prep_res['cell_cols_d']\n",
    "beh_df = prep_res['beh_df']"
   ]
  },
  {
   "cell_type": "code",
   "execution_count": null,
   "id": "d2bac1b9",
   "metadata": {},
   "outputs": [],
   "source": [
    "fr_pyr = spk_beh_df.loc[:,list(cell_cols_d['pyr'])+list(beh_df.columns)]\n",
    "# convert to rate (Hz):\n",
    "dt = np.median(np.diff(beh_df.index))\n",
    "fr_pyr.loc[:,cell_cols_d['pyr']] = fr_pyr.loc[:,cell_cols_d['pyr']]/dt\n",
    "speed_thresh=1.\n",
    "nbins=10\n",
    "# bin coarsely by lin\n",
    "fr_filtered = copy.copy(fr_pyr.query(\"(speed>=@speed_thresh)\"))\n",
    "fr_filtered['lin_binned'] = pd.cut(fr_filtered['lin'],nbins,retbins=False,labels=False)"
   ]
  },
  {
   "cell_type": "code",
   "execution_count": null,
   "id": "bf4752be",
   "metadata": {},
   "outputs": [],
   "source": [
    "import nmf_one_session as nos\n",
    "\n",
    "trialtype_key_dict = dpp.TRIALTYPE_KEY_DICT\n",
    "task_index_to_task_name = dpp.get_task_index_to_task_name(spk_beh_df)\n",
    "\n",
    "# nmf\n",
    "W_df_d,W_sorted_d,H_sorted_d,W_df_peaks_only_d,W_df_original_d,X_normed_restacked_df_d = {},{},{},{},{},{}\n",
    "\n",
    "max_fr_thresh = 1.\n",
    "n_compo = 4\n",
    "\n",
    "for task_type, fr_filtered_task in fr_filtered.groupby('task_index'):\n",
    "    trialtype_key=trialtype_key_dict[task_index_to_task_name[task_type]] # visitedArm or direction\n",
    "    for trial_type, fr_filtered_task_trialtype in fr_filtered_task.groupby(trialtype_key):\n",
    "        fr_to_be_nmfed_one_trialtype = fr_filtered_task_trialtype.groupby(['trial','lin_binned'])[cell_cols_d['pyr']].mean()\n",
    "        fr_peak_only = na.get_peaks_in_fr(fr_to_be_nmfed_one_trialtype,max_fr_thresh=max_fr_thresh)\n",
    "\n",
    "        W_df, W_sorted,W_inds, factor_assignment, H_sorted, X_sorted, X_recon_sorted,X_normed_restacked_df = na.nmf_sort_with_position(fr_to_be_nmfed_one_trialtype,n_compo, model=None,do_normalize=True)\n",
    "\n",
    "        W_df_original = copy.copy(W_df)\n",
    "        W_df_peaks_only = W_df.loc[fr_peak_only.index]\n",
    "        key = (task_type,trial_type)\n",
    "        W_df_original_d[key] = W_df_original\n",
    "        W_sorted_d[key] = W_sorted\n",
    "        W_df_d[key] = W_df\n",
    "        H_sorted_d[key] = H_sorted\n",
    "        W_df_peaks_only_d[key] = W_df_peaks_only\n",
    "        X_normed_restacked_df_d[key] =X_normed_restacked_df\n",
    "n_clust=6\n",
    "# post nmf, cluster, add metrics, sort\n",
    "sort_func = lambda x:na.hierarchical_sort(x,to_cut_keys=[f'skew_{x.name}','skew'],to_cut_nbins=[4,4],final_sort_key=x.name,ascending=False)\n",
    "W_df_peaks_only_post_sorted_d = {}\n",
    "for key,W in W_df_peaks_only_d.items():\n",
    "    W_df_original = W_df_original_d[key]\n",
    "    X_normed_restacked_df=X_normed_restacked_df_d[key] \n",
    "\n",
    "    # kmeans clustering\n",
    "    res=KMeans(n_clust).fit(W)\n",
    "    clust = res.labels_\n",
    "    centroid = res.cluster_centers_\n",
    "    dist = res.transform(W)\n",
    "    dist_to_own_centroid = np.diag(dist[:,clust])\n",
    "\n",
    "    # add metrics\n",
    "    W_df = na.add_metrics_to_W(W, n_compo, pd_kwargs={})\n",
    "    W_df['clust'] = clust\n",
    "    W_df['factor'] = W_df.loc[:,0:n_compo-1].idxmax(axis=1)\n",
    "    W_df['neg_dist_to_centroid'] = -dist_to_own_centroid # for easiness of sorting; all features the higher the better\n",
    "\n",
    "    # sort\n",
    "    W_df_sorted = W_df.groupby('factor').apply(sort_func)\n",
    "    W_df_peaks_only_post_sorted_d[key] = W_df_sorted"
   ]
  },
  {
   "cell_type": "code",
   "execution_count": 20,
   "id": "5f1d46d8",
   "metadata": {},
   "outputs": [],
   "source": [
    "\n",
    "from sklearn.decomposition import NMF, non_negative_factorization"
   ]
  },
  {
   "cell_type": "code",
   "execution_count": 25,
   "id": "d3e9ee93",
   "metadata": {},
   "outputs": [
    {
     "data": {
      "text/plain": [
       "array([[0.        , 0.        , 0.        , ..., 0.        , 0.        ,\n",
       "        1.        ],\n",
       "       [0.        , 0.        , 0.        , ..., 0.        , 0.        ,\n",
       "        0.        ],\n",
       "       [0.        , 0.        , 0.        , ..., 0.        , 0.        ,\n",
       "        0.        ],\n",
       "       ...,\n",
       "       [0.06071429, 0.04897959, 0.17662338, ..., 0.03688969, 0.19428571,\n",
       "        0.08831169],\n",
       "       [0.16558442, 0.06200608, 0.05789972, ..., 0.02602041, 0.        ,\n",
       "        0.        ],\n",
       "       [0.        , 0.07108014, 0.3790256 , ..., 0.03349754, 0.        ,\n",
       "        0.03179221]])"
      ]
     },
     "execution_count": 25,
     "metadata": {},
     "output_type": "execute_result"
    }
   ],
   "source": [
    "X_normed_restacked_df.values"
   ]
  },
  {
   "cell_type": "code",
   "execution_count": 18,
   "id": "0e2ac24e",
   "metadata": {
    "scrolled": true
   },
   "outputs": [],
   "source": [
    "key = (0,0)\n",
    "X_normed_restacked_df = X_normed_restacked_df_d[key]\n",
    "\n",
    "n_shuffle=500\n",
    "# w_l=[]\n",
    "# for i in range(n_shuffle):\n",
    "#     X_shuffled= np.random.permutation(X_normed_restacked_df.values.T).T\n",
    "#     w,h,niter=non_negative_factorization(X_shuffled,n_components=n_compo,H=H_sorted_d[key].values,update_H=False)\n",
    "#     w_l.append(w)\n",
    "\n",
    "# w_l = np.array(w_l)\n",
    "# p_val = (w_original.values < w_l).sum(axis=0) / w_l.shape[0]\n",
    "# p_val_df = pd.DataFrame(p_val,index=w_original.index)\n",
    "\n",
    "# X_normed_restacked_df.values\n",
    "reload(nt)\n",
    "w_original=W_df_original_d[key]\n",
    "H_original=H_sorted_d[key].values\n",
    "p_val_df,w_l=nt.test_w(X_normed_restacked_df,w_original,H_original,n_shuffle=500)"
   ]
  },
  {
   "cell_type": "code",
   "execution_count": 83,
   "id": "a4e324b0",
   "metadata": {},
   "outputs": [],
   "source": [
    "inds=pd.MultiIndex.from_arrays([W_df_peaks_only_post_sorted_d[key].index.get_level_values(1),W_df_peaks_only_post_sorted_d[key].index.get_level_values(2)])\n",
    "p_val_peaks_only_post_sorted_df=p_val_df.loc[inds] \n"
   ]
  },
  {
   "cell_type": "code",
   "execution_count": 89,
   "id": "3cdefcb6",
   "metadata": {},
   "outputs": [
    {
     "data": {
      "text/plain": [
       "<matplotlib.image.AxesImage at 0x1554d010d700>"
      ]
     },
     "execution_count": 89,
     "metadata": {},
     "output_type": "execute_result"
    },
    {
     "data": {
      "image/png": "[encoded data removed]",
      "text/plain": [
       "<Figure size 432x288 with 1 Axes>"
      ]
     },
     "metadata": {
      "needs_background": "light"
     },
     "output_type": "display_data"
    }
   ],
   "source": [
    "plt.imshow(W_df_peaks_only_post_sorted_d[key].loc[:,0:(n_compo-1)],aspect='auto',interpolation=None)"
   ]
  },
  {
   "cell_type": "code",
   "execution_count": 96,
   "id": "a6f5ef05",
   "metadata": {},
   "outputs": [
    {
     "data": {
      "text/plain": [
       "<matplotlib.colorbar.Colorbar at 0x1554cfe4af10>"
      ]
     },
     "execution_count": 96,
     "metadata": {},
     "output_type": "execute_result"
    },
    {
     "data": {
      "image/png": "[encoded data removed]",
      "text/plain": [
       "<Figure size 432x288 with 2 Axes>"
      ]
     },
     "metadata": {
      "needs_background": "light"
     },
     "output_type": "display_data"
    }
   ],
   "source": [
    "plt.imshow(p_val_peaks_only_post_sorted_df,aspect='auto',interpolation=None)\n",
    "plt.colorbar()"
   ]
  },
  {
   "cell_type": "code",
   "execution_count": 103,
   "id": "439e375a",
   "metadata": {
    "scrolled": true
   },
   "outputs": [
    {
     "data": {
      "text/html": [
       "<div>\n",
       "<style scoped>\n",
       "    .dataframe tbody tr th:only-of-type {\n",
       "        vertical-align: middle;\n",
       "    }\n",
       "\n",
       "    .dataframe tbody tr th {\n",
       "        vertical-align: top;\n",
       "    }\n",
       "\n",
       "    .dataframe thead th {\n",
       "        text-align: right;\n",
       "    }\n",
       "</style>\n",
       "<table border=\"1\" class=\"dataframe\">\n",
       "  <thead>\n",
       "    <tr style=\"text-align: right;\">\n",
       "      <th></th>\n",
       "      <th>trial</th>\n",
       "      <th>0.0</th>\n",
       "      <th>1.0</th>\n",
       "      <th>4.0</th>\n",
       "      <th>6.0</th>\n",
       "      <th>7.0</th>\n",
       "      <th>8.0</th>\n",
       "      <th>10.0</th>\n",
       "      <th>11.0</th>\n",
       "      <th>12.0</th>\n",
       "      <th>14.0</th>\n",
       "      <th>15.0</th>\n",
       "      <th>16.0</th>\n",
       "      <th>18.0</th>\n",
       "      <th>20.0</th>\n",
       "      <th>21.0</th>\n",
       "    </tr>\n",
       "    <tr>\n",
       "      <th></th>\n",
       "      <th>lin_binned</th>\n",
       "      <th></th>\n",
       "      <th></th>\n",
       "      <th></th>\n",
       "      <th></th>\n",
       "      <th></th>\n",
       "      <th></th>\n",
       "      <th></th>\n",
       "      <th></th>\n",
       "      <th></th>\n",
       "      <th></th>\n",
       "      <th></th>\n",
       "      <th></th>\n",
       "      <th></th>\n",
       "      <th></th>\n",
       "      <th></th>\n",
       "    </tr>\n",
       "  </thead>\n",
       "  <tbody>\n",
       "    <tr>\n",
       "      <th rowspan=\"5\" valign=\"top\">1</th>\n",
       "      <th>0</th>\n",
       "      <td>0.000000</td>\n",
       "      <td>0.000000</td>\n",
       "      <td>0.000000</td>\n",
       "      <td>0.000000</td>\n",
       "      <td>0.000000</td>\n",
       "      <td>0.000000</td>\n",
       "      <td>0.000000</td>\n",
       "      <td>0.000000</td>\n",
       "      <td>0.000000</td>\n",
       "      <td>0.000000</td>\n",
       "      <td>0.000000</td>\n",
       "      <td>0.000000</td>\n",
       "      <td>0.000000</td>\n",
       "      <td>0.000000</td>\n",
       "      <td>1.000000</td>\n",
       "    </tr>\n",
       "    <tr>\n",
       "      <th>1</th>\n",
       "      <td>0.000000</td>\n",
       "      <td>0.000000</td>\n",
       "      <td>0.000000</td>\n",
       "      <td>0.000000</td>\n",
       "      <td>0.000000</td>\n",
       "      <td>0.000000</td>\n",
       "      <td>0.000000</td>\n",
       "      <td>0.000000</td>\n",
       "      <td>0.000000</td>\n",
       "      <td>0.000000</td>\n",
       "      <td>0.000000</td>\n",
       "      <td>0.000000</td>\n",
       "      <td>0.000000</td>\n",
       "      <td>0.000000</td>\n",
       "      <td>0.000000</td>\n",
       "    </tr>\n",
       "    <tr>\n",
       "      <th>2</th>\n",
       "      <td>0.000000</td>\n",
       "      <td>0.000000</td>\n",
       "      <td>0.000000</td>\n",
       "      <td>0.000000</td>\n",
       "      <td>0.000000</td>\n",
       "      <td>0.000000</td>\n",
       "      <td>0.000000</td>\n",
       "      <td>0.000000</td>\n",
       "      <td>0.000000</td>\n",
       "      <td>0.000000</td>\n",
       "      <td>0.000000</td>\n",
       "      <td>0.000000</td>\n",
       "      <td>0.000000</td>\n",
       "      <td>0.000000</td>\n",
       "      <td>0.000000</td>\n",
       "    </tr>\n",
       "    <tr>\n",
       "      <th>3</th>\n",
       "      <td>0.000000</td>\n",
       "      <td>0.621345</td>\n",
       "      <td>0.000000</td>\n",
       "      <td>0.000000</td>\n",
       "      <td>0.000000</td>\n",
       "      <td>0.000000</td>\n",
       "      <td>0.000000</td>\n",
       "      <td>0.000000</td>\n",
       "      <td>0.000000</td>\n",
       "      <td>0.000000</td>\n",
       "      <td>0.000000</td>\n",
       "      <td>0.000000</td>\n",
       "      <td>0.000000</td>\n",
       "      <td>0.000000</td>\n",
       "      <td>0.000000</td>\n",
       "    </tr>\n",
       "    <tr>\n",
       "      <th>4</th>\n",
       "      <td>0.000000</td>\n",
       "      <td>0.000000</td>\n",
       "      <td>0.000000</td>\n",
       "      <td>0.000000</td>\n",
       "      <td>0.000000</td>\n",
       "      <td>0.000000</td>\n",
       "      <td>0.000000</td>\n",
       "      <td>0.000000</td>\n",
       "      <td>0.000000</td>\n",
       "      <td>0.000000</td>\n",
       "      <td>0.000000</td>\n",
       "      <td>0.000000</td>\n",
       "      <td>0.000000</td>\n",
       "      <td>0.000000</td>\n",
       "      <td>0.000000</td>\n",
       "    </tr>\n",
       "    <tr>\n",
       "      <th>...</th>\n",
       "      <th>...</th>\n",
       "      <td>...</td>\n",
       "      <td>...</td>\n",
       "      <td>...</td>\n",
       "      <td>...</td>\n",
       "      <td>...</td>\n",
       "      <td>...</td>\n",
       "      <td>...</td>\n",
       "      <td>...</td>\n",
       "      <td>...</td>\n",
       "      <td>...</td>\n",
       "      <td>...</td>\n",
       "      <td>...</td>\n",
       "      <td>...</td>\n",
       "      <td>...</td>\n",
       "      <td>...</td>\n",
       "    </tr>\n",
       "    <tr>\n",
       "      <th rowspan=\"5\" valign=\"top\">135</th>\n",
       "      <th>5</th>\n",
       "      <td>0.161905</td>\n",
       "      <td>0.216490</td>\n",
       "      <td>0.104496</td>\n",
       "      <td>0.095377</td>\n",
       "      <td>0.085136</td>\n",
       "      <td>0.120970</td>\n",
       "      <td>0.214668</td>\n",
       "      <td>0.273214</td>\n",
       "      <td>0.186994</td>\n",
       "      <td>0.178897</td>\n",
       "      <td>0.260495</td>\n",
       "      <td>0.291041</td>\n",
       "      <td>0.219792</td>\n",
       "      <td>0.228308</td>\n",
       "      <td>0.134347</td>\n",
       "    </tr>\n",
       "    <tr>\n",
       "      <th>6</th>\n",
       "      <td>0.292314</td>\n",
       "      <td>0.310457</td>\n",
       "      <td>0.174359</td>\n",
       "      <td>0.275366</td>\n",
       "      <td>0.218571</td>\n",
       "      <td>0.251923</td>\n",
       "      <td>0.365863</td>\n",
       "      <td>0.208163</td>\n",
       "      <td>0.207490</td>\n",
       "      <td>0.308446</td>\n",
       "      <td>0.201647</td>\n",
       "      <td>0.346454</td>\n",
       "      <td>0.346564</td>\n",
       "      <td>0.272627</td>\n",
       "      <td>0.094620</td>\n",
       "    </tr>\n",
       "    <tr>\n",
       "      <th>7</th>\n",
       "      <td>0.060714</td>\n",
       "      <td>0.048980</td>\n",
       "      <td>0.176623</td>\n",
       "      <td>0.124012</td>\n",
       "      <td>0.000000</td>\n",
       "      <td>0.000000</td>\n",
       "      <td>0.000000</td>\n",
       "      <td>0.085714</td>\n",
       "      <td>0.032381</td>\n",
       "      <td>0.064404</td>\n",
       "      <td>0.061353</td>\n",
       "      <td>0.217484</td>\n",
       "      <td>0.036890</td>\n",
       "      <td>0.194286</td>\n",
       "      <td>0.088312</td>\n",
       "    </tr>\n",
       "    <tr>\n",
       "      <th>8</th>\n",
       "      <td>0.165584</td>\n",
       "      <td>0.062006</td>\n",
       "      <td>0.057900</td>\n",
       "      <td>0.000000</td>\n",
       "      <td>0.021429</td>\n",
       "      <td>0.000000</td>\n",
       "      <td>0.045536</td>\n",
       "      <td>0.022947</td>\n",
       "      <td>0.017503</td>\n",
       "      <td>0.016190</td>\n",
       "      <td>0.000000</td>\n",
       "      <td>0.000000</td>\n",
       "      <td>0.026020</td>\n",
       "      <td>0.000000</td>\n",
       "      <td>0.000000</td>\n",
       "    </tr>\n",
       "    <tr>\n",
       "      <th>9</th>\n",
       "      <td>0.000000</td>\n",
       "      <td>0.071080</td>\n",
       "      <td>0.379026</td>\n",
       "      <td>0.470630</td>\n",
       "      <td>0.072857</td>\n",
       "      <td>0.000000</td>\n",
       "      <td>0.176623</td>\n",
       "      <td>0.175176</td>\n",
       "      <td>0.098124</td>\n",
       "      <td>0.134130</td>\n",
       "      <td>0.000000</td>\n",
       "      <td>0.000000</td>\n",
       "      <td>0.033498</td>\n",
       "      <td>0.000000</td>\n",
       "      <td>0.031792</td>\n",
       "    </tr>\n",
       "  </tbody>\n",
       "</table>\n",
       "<p>1140 rows × 15 columns</p>\n",
       "</div>"
      ],
      "text/plain": [
       "trial               0.0       1.0       4.0       6.0       7.0       8.0   \\\n",
       "    lin_binned                                                               \n",
       "1   0           0.000000  0.000000  0.000000  0.000000  0.000000  0.000000   \n",
       "    1           0.000000  0.000000  0.000000  0.000000  0.000000  0.000000   \n",
       "    2           0.000000  0.000000  0.000000  0.000000  0.000000  0.000000   \n",
       "    3           0.000000  0.621345  0.000000  0.000000  0.000000  0.000000   \n",
       "    4           0.000000  0.000000  0.000000  0.000000  0.000000  0.000000   \n",
       "...                  ...       ...       ...       ...       ...       ...   \n",
       "135 5           0.161905  0.216490  0.104496  0.095377  0.085136  0.120970   \n",
       "    6           0.292314  0.310457  0.174359  0.275366  0.218571  0.251923   \n",
       "    7           0.060714  0.048980  0.176623  0.124012  0.000000  0.000000   \n",
       "    8           0.165584  0.062006  0.057900  0.000000  0.021429  0.000000   \n",
       "    9           0.000000  0.071080  0.379026  0.470630  0.072857  0.000000   \n",
       "\n",
       "trial               10.0      11.0      12.0      14.0      15.0      16.0  \\\n",
       "    lin_binned                                                               \n",
       "1   0           0.000000  0.000000  0.000000  0.000000  0.000000  0.000000   \n",
       "    1           0.000000  0.000000  0.000000  0.000000  0.000000  0.000000   \n",
       "    2           0.000000  0.000000  0.000000  0.000000  0.000000  0.000000   \n",
       "    3           0.000000  0.000000  0.000000  0.000000  0.000000  0.000000   \n",
       "    4           0.000000  0.000000  0.000000  0.000000  0.000000  0.000000   \n",
       "...                  ...       ...       ...       ...       ...       ...   \n",
       "135 5           0.214668  0.273214  0.186994  0.178897  0.260495  0.291041   \n",
       "    6           0.365863  0.208163  0.207490  0.308446  0.201647  0.346454   \n",
       "    7           0.000000  0.085714  0.032381  0.064404  0.061353  0.217484   \n",
       "    8           0.045536  0.022947  0.017503  0.016190  0.000000  0.000000   \n",
       "    9           0.176623  0.175176  0.098124  0.134130  0.000000  0.000000   \n",
       "\n",
       "trial               18.0      20.0      21.0  \n",
       "    lin_binned                                \n",
       "1   0           0.000000  0.000000  1.000000  \n",
       "    1           0.000000  0.000000  0.000000  \n",
       "    2           0.000000  0.000000  0.000000  \n",
       "    3           0.000000  0.000000  0.000000  \n",
       "    4           0.000000  0.000000  0.000000  \n",
       "...                  ...       ...       ...  \n",
       "135 5           0.219792  0.228308  0.134347  \n",
       "    6           0.346564  0.272627  0.094620  \n",
       "    7           0.036890  0.194286  0.088312  \n",
       "    8           0.026020  0.000000  0.000000  \n",
       "    9           0.033498  0.000000  0.031792  \n",
       "\n",
       "[1140 rows x 15 columns]"
      ]
     },
     "execution_count": 103,
     "metadata": {},
     "output_type": "execute_result"
    }
   ],
   "source": [
    "X_normed_restacked_df"
   ]
  },
  {
   "cell_type": "code",
   "execution_count": 111,
   "id": "50e812d7",
   "metadata": {},
   "outputs": [
    {
     "data": {
      "text/plain": [
       "<module 'nmf_analysis' from '/mnt/home/szheng/projects/nmf_analysis/nmf_analysis.py'>"
      ]
     },
     "execution_count": 111,
     "metadata": {},
     "output_type": "execute_result"
    }
   ],
   "source": [
    "reload(na)"
   ]
  },
  {
   "cell_type": "code",
   "execution_count": 19,
   "id": "543ad455",
   "metadata": {},
   "outputs": [
    {
     "data": {
      "text/plain": [
       "(1140, 15)"
      ]
     },
     "execution_count": 19,
     "metadata": {},
     "output_type": "execute_result"
    }
   ],
   "source": [
    "X_normed_restacked_df.shape"
   ]
  },
  {
   "cell_type": "code",
   "execution_count": 24,
   "id": "c8b32aba",
   "metadata": {},
   "outputs": [
    {
     "name": "stdout",
     "output_type": "stream",
     "text": [
      "CPU times: user 28.7 s, sys: 16.9 s, total: 45.7 s\n",
      "Wall time: 11.9 s\n"
     ]
    },
    {
     "data": {
      "image/png": "[encoded data removed]",
      "text/plain": [
       "<Figure size 432x288 with 1 Axes>"
      ]
     },
     "metadata": {
      "needs_background": "light"
     },
     "output_type": "display_data"
    }
   ],
   "source": [
    "reload(nt)\n",
    "%time err_shuffle_l, pval=nt.test_co_variation(X_normed_restacked_df.iloc[:,5:],n_compo,n_shuffle=100)"
   ]
  },
  {
   "cell_type": "code",
   "execution_count": 9,
   "id": "7f073ab0",
   "metadata": {},
   "outputs": [
    {
     "data": {
      "text/html": [
       "<div>\n",
       "<style scoped>\n",
       "    .dataframe tbody tr th:only-of-type {\n",
       "        vertical-align: middle;\n",
       "    }\n",
       "\n",
       "    .dataframe tbody tr th {\n",
       "        vertical-align: top;\n",
       "    }\n",
       "\n",
       "    .dataframe thead th {\n",
       "        text-align: right;\n",
       "    }\n",
       "</style>\n",
       "<table border=\"1\" class=\"dataframe\">\n",
       "  <thead>\n",
       "    <tr style=\"text-align: right;\">\n",
       "      <th></th>\n",
       "      <th>trial</th>\n",
       "      <th>2.0</th>\n",
       "      <th>3.0</th>\n",
       "      <th>5.0</th>\n",
       "      <th>9.0</th>\n",
       "      <th>13.0</th>\n",
       "      <th>17.0</th>\n",
       "      <th>19.0</th>\n",
       "    </tr>\n",
       "    <tr>\n",
       "      <th></th>\n",
       "      <th>lin_binned</th>\n",
       "      <th></th>\n",
       "      <th></th>\n",
       "      <th></th>\n",
       "      <th></th>\n",
       "      <th></th>\n",
       "      <th></th>\n",
       "      <th></th>\n",
       "    </tr>\n",
       "  </thead>\n",
       "  <tbody>\n",
       "    <tr>\n",
       "      <th rowspan=\"5\" valign=\"top\">1</th>\n",
       "      <th>0</th>\n",
       "      <td>0.000000</td>\n",
       "      <td>0.000000</td>\n",
       "      <td>0.000000</td>\n",
       "      <td>0.000000</td>\n",
       "      <td>0.000000</td>\n",
       "      <td>0.000000</td>\n",
       "      <td>0.000000</td>\n",
       "    </tr>\n",
       "    <tr>\n",
       "      <th>1</th>\n",
       "      <td>0.000000</td>\n",
       "      <td>0.000000</td>\n",
       "      <td>0.000000</td>\n",
       "      <td>0.000000</td>\n",
       "      <td>0.000000</td>\n",
       "      <td>0.000000</td>\n",
       "      <td>0.000000</td>\n",
       "    </tr>\n",
       "    <tr>\n",
       "      <th>2</th>\n",
       "      <td>0.000000</td>\n",
       "      <td>0.000000</td>\n",
       "      <td>0.000000</td>\n",
       "      <td>1.000000</td>\n",
       "      <td>0.000000</td>\n",
       "      <td>0.000000</td>\n",
       "      <td>0.000000</td>\n",
       "    </tr>\n",
       "    <tr>\n",
       "      <th>3</th>\n",
       "      <td>0.000000</td>\n",
       "      <td>0.000000</td>\n",
       "      <td>0.000000</td>\n",
       "      <td>0.000000</td>\n",
       "      <td>0.000000</td>\n",
       "      <td>0.000000</td>\n",
       "      <td>0.000000</td>\n",
       "    </tr>\n",
       "    <tr>\n",
       "      <th>4</th>\n",
       "      <td>0.000000</td>\n",
       "      <td>0.000000</td>\n",
       "      <td>0.000000</td>\n",
       "      <td>0.000000</td>\n",
       "      <td>0.000000</td>\n",
       "      <td>0.000000</td>\n",
       "      <td>0.000000</td>\n",
       "    </tr>\n",
       "    <tr>\n",
       "      <th>...</th>\n",
       "      <th>...</th>\n",
       "      <td>...</td>\n",
       "      <td>...</td>\n",
       "      <td>...</td>\n",
       "      <td>...</td>\n",
       "      <td>...</td>\n",
       "      <td>...</td>\n",
       "      <td>...</td>\n",
       "    </tr>\n",
       "    <tr>\n",
       "      <th rowspan=\"5\" valign=\"top\">135</th>\n",
       "      <th>5</th>\n",
       "      <td>0.536376</td>\n",
       "      <td>0.407944</td>\n",
       "      <td>0.673501</td>\n",
       "      <td>0.166158</td>\n",
       "      <td>0.193012</td>\n",
       "      <td>0.182899</td>\n",
       "      <td>0.061728</td>\n",
       "    </tr>\n",
       "    <tr>\n",
       "      <th>6</th>\n",
       "      <td>0.000000</td>\n",
       "      <td>0.127376</td>\n",
       "      <td>0.056980</td>\n",
       "      <td>0.151464</td>\n",
       "      <td>0.119200</td>\n",
       "      <td>0.043013</td>\n",
       "      <td>0.090419</td>\n",
       "    </tr>\n",
       "    <tr>\n",
       "      <th>7</th>\n",
       "      <td>0.105242</td>\n",
       "      <td>0.398467</td>\n",
       "      <td>0.000000</td>\n",
       "      <td>0.000000</td>\n",
       "      <td>0.022291</td>\n",
       "      <td>0.000000</td>\n",
       "      <td>0.000000</td>\n",
       "    </tr>\n",
       "    <tr>\n",
       "      <th>8</th>\n",
       "      <td>0.041687</td>\n",
       "      <td>0.096538</td>\n",
       "      <td>0.000000</td>\n",
       "      <td>0.000000</td>\n",
       "      <td>0.444933</td>\n",
       "      <td>0.050950</td>\n",
       "      <td>0.000000</td>\n",
       "    </tr>\n",
       "    <tr>\n",
       "      <th>9</th>\n",
       "      <td>0.702160</td>\n",
       "      <td>0.048269</td>\n",
       "      <td>0.556511</td>\n",
       "      <td>0.070161</td>\n",
       "      <td>0.000000</td>\n",
       "      <td>0.689726</td>\n",
       "      <td>0.072132</td>\n",
       "    </tr>\n",
       "  </tbody>\n",
       "</table>\n",
       "<p>1140 rows × 7 columns</p>\n",
       "</div>"
      ],
      "text/plain": [
       "trial               2.0       3.0       5.0       9.0       13.0      17.0  \\\n",
       "    lin_binned                                                               \n",
       "1   0           0.000000  0.000000  0.000000  0.000000  0.000000  0.000000   \n",
       "    1           0.000000  0.000000  0.000000  0.000000  0.000000  0.000000   \n",
       "    2           0.000000  0.000000  0.000000  1.000000  0.000000  0.000000   \n",
       "    3           0.000000  0.000000  0.000000  0.000000  0.000000  0.000000   \n",
       "    4           0.000000  0.000000  0.000000  0.000000  0.000000  0.000000   \n",
       "...                  ...       ...       ...       ...       ...       ...   \n",
       "135 5           0.536376  0.407944  0.673501  0.166158  0.193012  0.182899   \n",
       "    6           0.000000  0.127376  0.056980  0.151464  0.119200  0.043013   \n",
       "    7           0.105242  0.398467  0.000000  0.000000  0.022291  0.000000   \n",
       "    8           0.041687  0.096538  0.000000  0.000000  0.444933  0.050950   \n",
       "    9           0.702160  0.048269  0.556511  0.070161  0.000000  0.689726   \n",
       "\n",
       "trial               19.0  \n",
       "    lin_binned            \n",
       "1   0           0.000000  \n",
       "    1           0.000000  \n",
       "    2           0.000000  \n",
       "    3           0.000000  \n",
       "    4           0.000000  \n",
       "...                  ...  \n",
       "135 5           0.061728  \n",
       "    6           0.090419  \n",
       "    7           0.000000  \n",
       "    8           0.000000  \n",
       "    9           0.072132  \n",
       "\n",
       "[1140 rows x 7 columns]"
      ]
     },
     "execution_count": 9,
     "metadata": {},
     "output_type": "execute_result"
    }
   ],
   "source": [
    "X_normed_restacked_df"
   ]
  },
  {
   "cell_type": "code",
   "execution_count": 129,
   "id": "f30f8c81",
   "metadata": {},
   "outputs": [
    {
     "data": {
      "text/plain": [
       "<module 'nmf_analysis' from '/mnt/home/szheng/projects/nmf_analysis/nmf_analysis.py'>"
      ]
     },
     "execution_count": 129,
     "metadata": {},
     "output_type": "execute_result"
    }
   ],
   "source": [
    "reload(na)"
   ]
  },
  {
   "cell_type": "code",
   "execution_count": 154,
   "id": "92606a3c",
   "metadata": {},
   "outputs": [
    {
     "name": "stdout",
     "output_type": "stream",
     "text": [
      "CPU times: user 25.7 s, sys: 36.3 s, total: 1min 1s\n",
      "Wall time: 15.5 s\n"
     ]
    }
   ],
   "source": [
    "%%time\n",
    "train_ratio = .9\n",
    "n_cv = 10\n",
    "n_compo_l = [1,2,3,4]\n",
    "err_l_d={}\n",
    "train_err_d={}\n",
    "for n_compo in n_compo_l:\n",
    "#     n_compo = 4\n",
    "    err_l = []\n",
    "    train_err_ll=[]\n",
    "    for i in range(n_cv):\n",
    "        train_mask = np.random.rand(*X_normed_restacked_df.shape) < train_ratio\n",
    "        test_err, W, H, Z, recon, i, converged, train_err_l = na.masked_nmf(X_normed_restacked_df.values, n_compo, train_mask,max_iters=50,tol=1e-8)\n",
    "        err_l.append(test_err)\n",
    "        train_err_ll.append(train_err_l[-1])\n",
    "    err_l = np.array(err_l)\n",
    "    err_l_d[n_compo] = err_l\n",
    "    train_err_d[n_compo]=train_err_ll"
   ]
  },
  {
   "cell_type": "code",
   "execution_count": 149,
   "id": "ccb593ef",
   "metadata": {},
   "outputs": [
    {
     "data": {
      "text/plain": [
       "[<matplotlib.lines.Line2D at 0x1554ac608820>]"
      ]
     },
     "execution_count": 149,
     "metadata": {},
     "output_type": "execute_result"
    },
    {
     "data": {
      "image/png": "[encoded data removed]",
      "text/plain": [
       "<Figure size 432x288 with 1 Axes>"
      ]
     },
     "metadata": {
      "needs_background": "light"
     },
     "output_type": "display_data"
    }
   ],
   "source": [
    "plt.plot(train_err_l)"
   ]
  },
  {
   "cell_type": "code",
   "execution_count": 152,
   "id": "b59a1535",
   "metadata": {},
   "outputs": [
    {
     "data": {
      "text/plain": [
       "<AxesSubplot:>"
      ]
     },
     "execution_count": 152,
     "metadata": {},
     "output_type": "execute_result"
    },
    {
     "data": {
      "image/png": "[encoded data removed]",
      "text/plain": [
       "<Figure size 432x288 with 1 Axes>"
      ]
     },
     "metadata": {
      "needs_background": "light"
     },
     "output_type": "display_data"
    }
   ],
   "source": [
    "pd.DataFrame(err_l_d).boxplot()"
   ]
  },
  {
   "cell_type": "code",
   "execution_count": 155,
   "id": "e5abf383",
   "metadata": {},
   "outputs": [
    {
     "data": {
      "text/plain": [
       "<AxesSubplot:>"
      ]
     },
     "execution_count": 155,
     "metadata": {},
     "output_type": "execute_result"
    },
    {
     "data": {
      "image/png": "[encoded data removed]",
      "text/plain": [
       "<Figure size 432x288 with 1 Axes>"
      ]
     },
     "metadata": {
      "needs_background": "light"
     },
     "output_type": "display_data"
    }
   ],
   "source": [
    "pd.DataFrame(train_err_d).boxplot()"
   ]
  },
  {
   "cell_type": "code",
   "execution_count": null,
   "id": "98671e42",
   "metadata": {},
   "outputs": [],
   "source": []
  }
 ],
 "metadata": {
  "kernelspec": {
   "display_name": "jax",
   "language": "python",
   "name": "jax"
  },
  "language_info": {
   "codemirror_mode": {
    "name": "ipython",
    "version": 3
   },
   "file_extension": ".py",
   "mimetype": "text/x-python",
   "name": "python",
   "nbconvert_exporter": "python",
   "pygments_lexer": "ipython3",
   "version": "3.9.13"
  }
 },
 "nbformat": 4,
 "nbformat_minor": 5
}
