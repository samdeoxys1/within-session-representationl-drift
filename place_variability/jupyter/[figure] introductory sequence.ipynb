{
 "cells": [
  {
   "cell_type": "code",
   "execution_count": 2,
   "id": "e260c041",
   "metadata": {},
   "outputs": [
    {
     "name": "stdout",
     "output_type": "stream",
     "text": [
      "67 sessions!\n",
      "67 sessions!\n"
     ]
    }
   ],
   "source": [
    "import numpy as np\n",
    "import scipy\n",
    "import sklearn\n",
    "from sklearn.decomposition import NMF\n",
    "from sklearn.cluster import KMeans\n",
    "from sklearn.mixture import GaussianMixture,BayesianGaussianMixture\n",
    "\n",
    "import pandas as pd\n",
    "\n",
    "import matplotlib.pyplot as plt\n",
    "import seaborn as sns\n",
    "import matplotlib as mpl\n",
    "mpl.rcParams['image.cmap'] = 'Greys'\n",
    "mpl.rcParams['axes.spines.right'] = False\n",
    "mpl.rcParams['axes.spines.top'] = False\n",
    "\n",
    "\n",
    "\n",
    "import sys,os,pdb,copy,pickle\n",
    "from importlib import reload\n",
    "# import pynapple as nap\n",
    "\n",
    "sys.path.append('/mnt/home/szheng/projects/seq_detection2/code')\n",
    "sys.path.append('/mnt/home/szheng/projects/util_code')\n",
    "sys.path.append('/mnt/home/szheng/projects/nmf_analysis')\n",
    "sys.path.append('/mnt/home/szheng/projects/nmf_analysis/scripts')\n",
    "sys.path.append('/mnt/home/szheng/projects/cluster_spikes')\n",
    "sys.path.append('/mnt/home/szheng/projects/place_variability/code')\n",
    "import data_prep_new as dpn\n",
    "import place_cell_analysis as pa\n",
    "import plot_helper as ph\n",
    "import preprocess as prep\n",
    "import nmf_analysis as na\n",
    "import nmf_plot as nmfp\n",
    "reload(na)\n",
    "\n",
    "import raster_new as rn\n",
    "import data_prep_pyn as dpp\n",
    "\n",
    "\n",
    "import change_point_analysis as cpa\n",
    "import change_point_plot as cpp\n",
    "\n",
    "import place_field_analysis as pf\n",
    "\n",
    "import switch_analysis_one_session as saos\n",
    "reload(saos)\n",
    "\n",
    "import process_central_arm as pca \n",
    "import change_point_analysis_central_arm_seperate as cpacas\n",
    "\n",
    "import misc\n",
    "reload(misc)\n",
    "from misc import get_nth_key, get_nth_val"
   ]
  },
  {
   "cell_type": "code",
   "execution_count": 3,
   "id": "e9e7a453",
   "metadata": {},
   "outputs": [],
   "source": [
    "import matplotlib.pyplot as plt\n",
    "\n",
    "# Set default figure size\n",
    "plt.rcParams['figure.figsize'] = (3, 2)  # width, height in inches\n",
    "\n",
    "# Set default font sizes\n",
    "plt.rcParams['font.size'] = 10  # Default font size\n",
    "plt.rcParams['axes.titlesize'] = 10  # Title font size\n",
    "plt.rcParams['axes.labelsize'] = 10  # Label font size\n",
    "plt.rcParams['xtick.labelsize'] = 10  # x-axis tick label font size\n",
    "plt.rcParams['ytick.labelsize'] = 10  # y-axis tick label font size\n",
    "plt.rcParams['legend.fontsize'] = 8  # Legend font size\n",
    "mpl.rcParams['image.cmap'] = 'viridis'\n",
    "mpl.rcParams['axes.spines.right'] = False\n",
    "mpl.rcParams['axes.spines.top'] = False"
   ]
  },
  {
   "cell_type": "code",
   "execution_count": 4,
   "id": "20dcdb1b",
   "metadata": {},
   "outputs": [],
   "source": [
    "import matplotlib\n",
    "matplotlib.rcParams['svg.fonttype'] = 'none'"
   ]
  },
  {
   "cell_type": "code",
   "execution_count": 5,
   "id": "cc8ccdf0",
   "metadata": {},
   "outputs": [
    {
     "name": "stdout",
     "output_type": "stream",
     "text": [
      "/mnt/home/szheng/ceph/place_variability/fig/paper/figure_introductory_sequence\n",
      "/mnt/home/szheng/ceph/place_variability/data/paper\n"
     ]
    },
    {
     "data": {
      "text/plain": [
       "'/mnt/home/szheng/ceph/place_variability/data/paper'"
      ]
     },
     "execution_count": 5,
     "metadata": {},
     "output_type": "execute_result"
    }
   ],
   "source": [
    "\n",
    "figdir = '/mnt/home/szheng/ceph/place_variability/fig/paper/figure_introductory_sequence'\n",
    "misc.get_or_create_subdir(figdir)\n",
    "data_dir = '/mnt/home/szheng/ceph/place_variability/data/paper'\n",
    "misc.get_or_create_subdir(data_dir)\n"
   ]
  },
  {
   "cell_type": "code",
   "execution_count": 6,
   "id": "bd82f2d5",
   "metadata": {},
   "outputs": [
    {
     "name": "stderr",
     "output_type": "stream",
     "text": [
      "/mnt/home/szheng/ceph/envs/jax/lib/python3.9/site-packages/outdated/utils.py:14: OutdatedPackageWarning: The package pingouin is out of date. Your version is 0.5.2, the latest is 0.5.4.\n",
      "Set the environment variable OUTDATED_IGNORE=1 to disable these warnings.\n",
      "  return warn(\n"
     ]
    }
   ],
   "source": [
    "import database\n",
    "db = database.db\n",
    "\n",
    "subdb = db.query('owner==\"roman\"').sort_values('n_pyr_putative',ascending=False)\n",
    "subdb = subdb.query('ntrials>=20&n_neurons>=50')\n",
    "to_exclude_sess = ['e16_3m2_211211']\n",
    "subdb=subdb.loc[~subdb['sess_name'].isin(to_exclude_sess)]\n",
    "\n",
    "\n",
    "import pf_recombine_central as pfrc\n",
    "import fr_map_one_session as fmos\n",
    "import switch_detection_one_session as sdos\n",
    "import get_all_switch_add_metrics as gasam\n",
    "\n",
    "import preprocess_one_session as prepos"
   ]
  },
  {
   "cell_type": "code",
   "execution_count": 7,
   "id": "ee615df8",
   "metadata": {},
   "outputs": [],
   "source": [
    "fn = 'prepped_data_agg.p'\n",
    "fn_full = os.path.join(data_dir,fn)\n",
    "prepped_data_agg = pickle.load(open(fn_full,'rb'))\n",
    "\n",
    "all_fields_recombined_all = prepped_data_agg['all_fields_recombined_all']\n",
    "pf_params_recombined_all=  prepped_data_agg['pf_params_recombined_all']\n",
    "fr_map_trial_df_all= prepped_data_agg['fr_map_trial_df_all']\n",
    "occu_map_all = prepped_data_agg['occu_map_all']\n",
    "fr_map_all = prepped_data_agg['fr_map_all']\n",
    "\n",
    "pval_all = prepped_data_agg['pval_all']\n",
    "X_pwc_all = prepped_data_agg['X_pwc_all']\n",
    "X_raw_all = prepped_data_agg['X_raw_all']\n",
    "changes_df_all = prepped_data_agg['changes_df_all']\n",
    "var_res_all_test = prepped_data_agg['var_res_all']\n",
    "# corr_all = prepped_data_agg['corr_all']\n",
    "all_sw_d_all = prepped_data_agg['all_sw_d_all']\n",
    "all_sw_with_metrics_d_all = prepped_data_agg['all_sw_with_metrics_d_all']\n",
    "best_n_all_test = prepped_data_agg['best_n_all']\n",
    "spk_beh_df_all = prepped_data_agg['spk_beh_df_all']\n",
    "\n",
    "# pf_params_all = prepped_data_agg['pf_params_all']\n",
    "# all_fields_all = prepped_data_agg['all_fields_all']\n",
    "\n",
    "ntrials_per_tt=fr_map_trial_df_all.groupby(level=(0,1,2,3)).apply(lambda x:x.dropna(axis=1,how='all').shape[1])\n",
    "ntrials_mask = ntrials_per_tt.groupby(level=(0,1,2)).apply(lambda x:(x>=7).all()) \n",
    "\n",
    "trial_index_to_index_within_df_all=prepped_data_agg['trial_index_to_index_within_df_all']\n"
   ]
  },
  {
   "cell_type": "code",
   "execution_count": 8,
   "id": "1643ee84",
   "metadata": {},
   "outputs": [],
   "source": [
    "savefn_full = os.path.join(data_dir,'per_field_metrics_shtest_with_1cp.p')\n",
    "# pickle.dump(per_field_metrics_all,open(savefn_full,'wb'))\n",
    "per_field_metrics_all=pickle.load(open(savefn_full,'rb'))"
   ]
  },
  {
   "cell_type": "code",
   "execution_count": 9,
   "id": "ef25b971",
   "metadata": {},
   "outputs": [],
   "source": [
    "ani = 'e13_26m1'#'e15_13f1'\n",
    "sess='e13_26m1_210913'#'e15_13f1_220117'#"
   ]
  },
  {
   "cell_type": "code",
   "execution_count": 10,
   "id": "1fe3a20d",
   "metadata": {
    "scrolled": true
   },
   "outputs": [
    {
     "name": "stderr",
     "output_type": "stream",
     "text": [
      "/tmp/ipykernel_1035657/1423401187.py:3: PerformanceWarning: indexing past lexsort depth may impact performance.\n",
      "  fr_map_trial_df_one = fr_map_trial_df_all.loc[(ani,sess,ta,tt),:].unstack(level=-1)\n"
     ]
    }
   ],
   "source": [
    "eps = 1e-10\n",
    "ta,tt = 0,0\n",
    "fr_map_trial_df_one = fr_map_trial_df_all.loc[(ani,sess,ta,tt),:].unstack(level=-1)\n",
    "fr_map_trial_df_one = fr_map_trial_df_one / (fr_map_trial_df_one.max(axis=1).values[:,None]+eps)\n"
   ]
  },
  {
   "cell_type": "code",
   "execution_count": 11,
   "id": "e69f4a5c",
   "metadata": {},
   "outputs": [
    {
     "name": "stderr",
     "output_type": "stream",
     "text": [
      "/tmp/ipykernel_1035657/1155518548.py:2: PerformanceWarning: indexing past lexsort depth may impact performance.\n",
      "  peak_loc_one=pf_params_recombined_all.loc[ani,sess,'peak',ta].loc[[tt,'both'],:][1]\n"
     ]
    }
   ],
   "source": [
    "# use the peak location from one trial\n",
    "peak_loc_one=pf_params_recombined_all.loc[ani,sess,'peak',ta].loc[[tt,'both'],:][1]"
   ]
  },
  {
   "cell_type": "code",
   "execution_count": 12,
   "id": "083913d0",
   "metadata": {
    "scrolled": true
   },
   "outputs": [
    {
     "name": "stderr",
     "output_type": "stream",
     "text": [
      "/tmp/ipykernel_1035657/3058532475.py:3: PerformanceWarning: indexing past lexsort depth may impact performance.\n",
      "  per_field_metrics_one=per_field_metrics_all.loc[ani,sess,ta,tt]\n"
     ]
    }
   ],
   "source": [
    "# select by spatial inforamtion\n",
    "si_thresh = 1\n",
    "per_field_metrics_one=per_field_metrics_all.loc[ani,sess,ta,tt]\n",
    "si_uid_l=per_field_metrics_one.index[per_field_metrics_one['si'] > si_thresh].get_level_values(0).unique()"
   ]
  },
  {
   "cell_type": "code",
   "execution_count": 18,
   "id": "85964735",
   "metadata": {},
   "outputs": [
    {
     "data": {
      "text/plain": [
       "264"
      ]
     },
     "execution_count": 18,
     "metadata": {},
     "output_type": "execute_result"
    }
   ],
   "source": [
    "per_field_metrics_one.index.get_level_values(0).nunique()"
   ]
  },
  {
   "cell_type": "code",
   "execution_count": 16,
   "id": "f3f217ae",
   "metadata": {
    "scrolled": true
   },
   "outputs": [
    {
     "data": {
      "text/plain": [
       "(114,)"
      ]
     },
     "execution_count": 16,
     "metadata": {},
     "output_type": "execute_result"
    }
   ],
   "source": [
    "si_uid_l.shape"
   ]
  },
  {
   "cell_type": "code",
   "execution_count": 13,
   "id": "082cfac3",
   "metadata": {
    "scrolled": true
   },
   "outputs": [
    {
     "name": "stderr",
     "output_type": "stream",
     "text": [
      "/tmp/ipykernel_1035657/3429749769.py:1: PerformanceWarning: indexing past lexsort depth may impact performance.\n",
      "  all_fields_one=all_fields_recombined_all.loc[(ani,sess,ta),:].loc[[tt,'both'],:].loc[(slice(None),si_uid_l),:]\n"
     ]
    }
   ],
   "source": [
    "\n",
    "all_fields_one=all_fields_recombined_all.loc[(ani,sess,ta),:].loc[[tt,'both'],:].loc[(slice(None),si_uid_l),:]\n",
    "# all_fields_one_sample=all_fields_recombined_all.loc[(ani,sess,ta),:].loc[[tt,'both'],:].loc[(slice(None),si_uid_l),:].sample(70,random_state=0)\n",
    "all_fields_one_sample=all_fields_one\n",
    "\n"
   ]
  },
  {
   "cell_type": "markdown",
   "id": "74442007",
   "metadata": {},
   "source": [
    "### examples selected \n",
    "for e13_26m1_210913\n",
    "\n",
    "one field pop up 0,198; 0,334\n",
    "\n",
    "one field pop down 0,442\n",
    "\n",
    "one down then up 0,414\n",
    "\n",
    "one up one no sw 0,123\n",
    "\n",
    "no sw 0,177,0\n"
   ]
  },
  {
   "cell_type": "code",
   "execution_count": 14,
   "id": "f0826655",
   "metadata": {},
   "outputs": [],
   "source": [
    "# tt_uid_to_include = [(0,198),(0,442),(0,414),(0,123),(0,177)]\n",
    "tt_uid_to_include = [(0,198),(0,177),(0,442)]"
   ]
  },
  {
   "cell_type": "code",
   "execution_count": 15,
   "id": "ee779fab",
   "metadata": {
    "scrolled": true
   },
   "outputs": [
    {
     "name": "stderr",
     "output_type": "stream",
     "text": [
      "/tmp/ipykernel_1035657/2606981784.py:1: PerformanceWarning: indexing past lexsort depth may impact performance.\n",
      "  all_sw_one=all_sw_with_metrics_d_all.loc[ani,sess,ta].query('(trialtype==@tt) | (trialtype==\"both\")')\n"
     ]
    }
   ],
   "source": [
    "all_sw_one=all_sw_with_metrics_d_all.loc[ani,sess,ta].query('(trialtype==@tt) | (trialtype==\"both\")')"
   ]
  },
  {
   "cell_type": "markdown",
   "id": "9f1aa27b",
   "metadata": {},
   "source": [
    "### ==for manually selecting examples, skip in final plotting=="
   ]
  },
  {
   "cell_type": "code",
   "execution_count": 654,
   "id": "2bb057d6",
   "metadata": {},
   "outputs": [
    {
     "name": "stderr",
     "output_type": "stream",
     "text": [
      "/tmp/ipykernel_1028004/1026823459.py:16: PerformanceWarning: indexing past lexsort depth may impact performance.\n",
      "  best_n_one=best_n_all_test.loc[ani,sess,ta].loc[[tt,'both']]\n"
     ]
    }
   ],
   "source": [
    " \n",
    "# switching_field_inds=all_sw_with_metrics_d_all.loc[ani,sess,ta].set_index(['trialtype','uid','field_index']).index\n",
    "gpb=all_sw_one.groupby(['trialtype','uid','field_index'])\n",
    "first_off_then_on_inds=[]\n",
    "just_on_inds = []\n",
    "just_off_inds = []\n",
    "for k,val in gpb:\n",
    "    if len(val)==2:\n",
    "        if val.iloc[0]['switch']==-1 and val.iloc[1]['switch']==1:\n",
    "            first_off_then_on_inds.append(k)\n",
    "    if len(val)==1:\n",
    "        if val.iloc[0]['switch']==1:\n",
    "            just_on_inds.append(k)\n",
    "        elif val.iloc[0]['switch']==-1:\n",
    "            just_off_inds.append(k)\n",
    "\n",
    "best_n_one=best_n_all_test.loc[ani,sess,ta].loc[[tt,'both']]\n",
    "nosw_inds=best_n_one.index[best_n_one==0]\n",
    "\n"
   ]
  },
  {
   "cell_type": "code",
   "execution_count": 599,
   "id": "58c9f2fa",
   "metadata": {},
   "outputs": [
    {
     "name": "stdout",
     "output_type": "stream",
     "text": [
      "both 443 0\n"
     ]
    }
   ],
   "source": [
    "ii=-2\n",
    "# tt_selected,uid,field_id=all_fields_one.index.intersection(switching_field_inds)[ii]\n",
    "\n",
    "# tt_selected,uid,field_id = all_fields_one.index.intersection(first_off_then_on_inds)[ii]\n",
    "tt_selected,uid,field_id = all_fields_one.index.intersection(just_on_inds)[ii]\n",
    "# tt_selected,uid,field_id = all_fields_one.index.intersection(just_off_inds)[ii]\n",
    "# tt_selected,uid,field_id = all_fields_one.index.intersection(nosw_inds)[ii]\n",
    "\n",
    "print(tt_selected,uid,field_id)"
   ]
  },
  {
   "cell_type": "code",
   "execution_count": 615,
   "id": "c59328c2",
   "metadata": {},
   "outputs": [
    {
     "name": "stderr",
     "output_type": "stream",
     "text": [
      "/tmp/ipykernel_1028004/402569645.py:2: PerformanceWarning: indexing past lexsort depth may impact performance.\n",
      "  frmap_one=fr_map_trial_df_all.loc[ani,sess,ta,tt,uid].dropna(axis=1,how='all').T\n"
     ]
    },
    {
     "data": {
      "text/plain": [
       "(<Figure size 432x288 with 2 Axes>, <Axes: xlabel='Position'>)"
      ]
     },
     "execution_count": 615,
     "metadata": {},
     "output_type": "execute_result"
    },
    {
     "data": {
      "image/png": "[encoded data removed]",
      "text/plain": [
       "<Figure size 432x288 with 2 Axes>"
      ]
     },
     "metadata": {
      "needs_background": "light"
     },
     "output_type": "display_data"
    }
   ],
   "source": [
    "uid=123\n",
    "frmap_one=fr_map_trial_df_all.loc[ani,sess,ta,tt,uid].dropna(axis=1,how='all').T\n",
    "ph.heatmap(frmap_one)\n"
   ]
  },
  {
   "cell_type": "markdown",
   "id": "123e73ec",
   "metadata": {},
   "source": [
    "### ==manual selection ends=="
   ]
  },
  {
   "cell_type": "code",
   "execution_count": 16,
   "id": "7de97161",
   "metadata": {},
   "outputs": [],
   "source": [
    "# add selected examples back in \n",
    "tt_uid_ind_all_fields_one_sample=pd.MultiIndex.from_frame(all_fields_one_sample.reset_index(level=(0,1))[['level_0','level_1']])\n",
    "rows_to_add = []\n",
    "for tt,uid in tt_uid_to_include:\n",
    "    if (tt,uid) not in tt_uid_ind_all_fields_one_sample:\n",
    "        rows_to_add.append(all_fields_one.loc[([tt],[uid]),:])\n",
    "if len(rows_to_add) >0:\n",
    "    rows_to_add = pd.concat(rows_to_add,axis=0)\n",
    "    all_fields_one_sample_combined =  pd.concat([all_fields_one_sample,rows_to_add],axis=0)\n",
    "else:\n",
    "    all_fields_one_sample_combined = all_fields_one_sample"
   ]
  },
  {
   "cell_type": "code",
   "execution_count": 17,
   "id": "a1f6701a",
   "metadata": {},
   "outputs": [],
   "source": [
    "# sort uid\n",
    "# gpb=all_fields_one_sample.groupby(level=1)\n",
    "gpb = all_fields_one_sample_combined.groupby(level=1) # uid level\n",
    "all_fields_one_for_sort=[]\n",
    "for k,val in gpb:\n",
    "#     pre_t=val['peak'] < 33\n",
    "#     if pre_t.sum()>0:\n",
    "#         all_fields_one_for_sort.append(val.loc[pre_t].iloc[0])\n",
    "#     else:        \n",
    "    ii=np.argmax(val['fr_peak'].values)\n",
    "#     ii=0\n",
    "    all_fields_one_for_sort.append(val.iloc[ii])\n",
    "all_fields_one_for_sort = pd.concat(all_fields_one_for_sort,axis=1).T\n",
    "# uid_sorted=all_fields_one_for_sort['peak'].sort_values().index.get_level_values(1).unique()\n",
    "uid_sorted=peak_loc_one.loc[all_fields_one_for_sort.index].sort_values().index.get_level_values(1).unique()\n",
    "\n"
   ]
  },
  {
   "cell_type": "code",
   "execution_count": 18,
   "id": "d1f42319",
   "metadata": {},
   "outputs": [],
   "source": [
    "row_ind_ex = []\n",
    "field_bound_ex= []\n",
    "for tt, uid in tt_uid_to_include:\n",
    "    row_ind=np.nonzero(uid_sorted == uid)[0][0]\n",
    "    row_ind_ex.append(row_ind)\n",
    "    field_bound_ex.append(all_fields_one.loc[tt,uid,0][['start','end']].values)\n"
   ]
  },
  {
   "cell_type": "code",
   "execution_count": 19,
   "id": "0d198fa1",
   "metadata": {},
   "outputs": [],
   "source": [
    "\n",
    "import matplotlib.patches as patches"
   ]
  },
  {
   "cell_type": "code",
   "execution_count": 42,
   "id": "3cfa4732",
   "metadata": {},
   "outputs": [
    {
     "data": {
      "text/html": [
       "<div>\n",
       "<style scoped>\n",
       "    .dataframe tbody tr th:only-of-type {\n",
       "        vertical-align: middle;\n",
       "    }\n",
       "\n",
       "    .dataframe tbody tr th {\n",
       "        vertical-align: top;\n",
       "    }\n",
       "\n",
       "    .dataframe thead th {\n",
       "        text-align: right;\n",
       "    }\n",
       "</style>\n",
       "<table border=\"1\" class=\"dataframe\">\n",
       "  <thead>\n",
       "    <tr style=\"text-align: right;\">\n",
       "      <th></th>\n",
       "      <th></th>\n",
       "      <th></th>\n",
       "      <th>start</th>\n",
       "      <th>end</th>\n",
       "      <th>com</th>\n",
       "      <th>peak</th>\n",
       "      <th>fr_peak</th>\n",
       "      <th>fr_mean</th>\n",
       "      <th>other_field_index</th>\n",
       "    </tr>\n",
       "    <tr>\n",
       "      <th></th>\n",
       "      <th></th>\n",
       "      <th>field_index</th>\n",
       "      <th></th>\n",
       "      <th></th>\n",
       "      <th></th>\n",
       "      <th></th>\n",
       "      <th></th>\n",
       "      <th></th>\n",
       "      <th></th>\n",
       "    </tr>\n",
       "  </thead>\n",
       "  <tbody>\n",
       "    <tr>\n",
       "      <th rowspan=\"5\" valign=\"top\">0.0</th>\n",
       "      <th>3</th>\n",
       "      <th>0</th>\n",
       "      <td>24</td>\n",
       "      <td>40</td>\n",
       "      <td>32</td>\n",
       "      <td>32</td>\n",
       "      <td>2.327171</td>\n",
       "      <td>1.246869</td>\n",
       "      <td>NaN</td>\n",
       "    </tr>\n",
       "    <tr>\n",
       "      <th>31</th>\n",
       "      <th>0</th>\n",
       "      <td>71</td>\n",
       "      <td>88</td>\n",
       "      <td>80</td>\n",
       "      <td>81</td>\n",
       "      <td>7.563973</td>\n",
       "      <td>4.557867</td>\n",
       "      <td>NaN</td>\n",
       "    </tr>\n",
       "    <tr>\n",
       "      <th rowspan=\"2\" valign=\"top\">57</th>\n",
       "      <th>0</th>\n",
       "      <td>5</td>\n",
       "      <td>9</td>\n",
       "      <td>7</td>\n",
       "      <td>7</td>\n",
       "      <td>4.605284</td>\n",
       "      <td>4.455142</td>\n",
       "      <td>NaN</td>\n",
       "    </tr>\n",
       "    <tr>\n",
       "      <th>1</th>\n",
       "      <td>84</td>\n",
       "      <td>99</td>\n",
       "      <td>92</td>\n",
       "      <td>93</td>\n",
       "      <td>21.796946</td>\n",
       "      <td>13.591186</td>\n",
       "      <td>NaN</td>\n",
       "    </tr>\n",
       "    <tr>\n",
       "      <th>121</th>\n",
       "      <th>0</th>\n",
       "      <td>1</td>\n",
       "      <td>11</td>\n",
       "      <td>6</td>\n",
       "      <td>7</td>\n",
       "      <td>5.967633</td>\n",
       "      <td>4.68339</td>\n",
       "      <td>NaN</td>\n",
       "    </tr>\n",
       "    <tr>\n",
       "      <th>...</th>\n",
       "      <th>...</th>\n",
       "      <th>...</th>\n",
       "      <td>...</td>\n",
       "      <td>...</td>\n",
       "      <td>...</td>\n",
       "      <td>...</td>\n",
       "      <td>...</td>\n",
       "      <td>...</td>\n",
       "      <td>...</td>\n",
       "    </tr>\n",
       "    <tr>\n",
       "      <th rowspan=\"5\" valign=\"top\">both</th>\n",
       "      <th>261</th>\n",
       "      <th>0</th>\n",
       "      <td>27</td>\n",
       "      <td>33</td>\n",
       "      <td>30</td>\n",
       "      <td>30</td>\n",
       "      <td>3.693489</td>\n",
       "      <td>3.005902</td>\n",
       "      <td>0.0</td>\n",
       "    </tr>\n",
       "    <tr>\n",
       "      <th>301</th>\n",
       "      <th>0</th>\n",
       "      <td>11</td>\n",
       "      <td>20</td>\n",
       "      <td>15</td>\n",
       "      <td>15</td>\n",
       "      <td>8.278828</td>\n",
       "      <td>6.305192</td>\n",
       "      <td>0.0</td>\n",
       "    </tr>\n",
       "    <tr>\n",
       "      <th>387</th>\n",
       "      <th>0</th>\n",
       "      <td>0</td>\n",
       "      <td>22</td>\n",
       "      <td>13</td>\n",
       "      <td>15</td>\n",
       "      <td>7.04149</td>\n",
       "      <td>3.25166</td>\n",
       "      <td>0.0</td>\n",
       "    </tr>\n",
       "    <tr>\n",
       "      <th>443</th>\n",
       "      <th>0</th>\n",
       "      <td>5</td>\n",
       "      <td>23</td>\n",
       "      <td>15</td>\n",
       "      <td>16</td>\n",
       "      <td>13.264791</td>\n",
       "      <td>7.015054</td>\n",
       "      <td>0.0</td>\n",
       "    </tr>\n",
       "    <tr>\n",
       "      <th>448</th>\n",
       "      <th>0</th>\n",
       "      <td>9</td>\n",
       "      <td>27</td>\n",
       "      <td>18</td>\n",
       "      <td>19</td>\n",
       "      <td>10.979548</td>\n",
       "      <td>6.360062</td>\n",
       "      <td>0.0</td>\n",
       "    </tr>\n",
       "  </tbody>\n",
       "</table>\n",
       "<p>143 rows × 7 columns</p>\n",
       "</div>"
      ],
      "text/plain": [
       "                     start end com peak    fr_peak    fr_mean  \\\n",
       "         field_index                                            \n",
       "0.0  3   0              24  40  32   32   2.327171   1.246869   \n",
       "     31  0              71  88  80   81   7.563973   4.557867   \n",
       "     57  0               5   9   7    7   4.605284   4.455142   \n",
       "         1              84  99  92   93  21.796946  13.591186   \n",
       "     121 0               1  11   6    7   5.967633    4.68339   \n",
       "...                    ...  ..  ..  ...        ...        ...   \n",
       "both 261 0              27  33  30   30   3.693489   3.005902   \n",
       "     301 0              11  20  15   15   8.278828   6.305192   \n",
       "     387 0               0  22  13   15    7.04149    3.25166   \n",
       "     443 0               5  23  15   16  13.264791   7.015054   \n",
       "     448 0               9  27  18   19  10.979548   6.360062   \n",
       "\n",
       "                      other_field_index  \n",
       "         field_index                     \n",
       "0.0  3   0                          NaN  \n",
       "     31  0                          NaN  \n",
       "     57  0                          NaN  \n",
       "         1                          NaN  \n",
       "     121 0                          NaN  \n",
       "...                                 ...  \n",
       "both 261 0                          0.0  \n",
       "     301 0                          0.0  \n",
       "     387 0                          0.0  \n",
       "     443 0                          0.0  \n",
       "     448 0                          0.0  \n",
       "\n",
       "[143 rows x 7 columns]"
      ]
     },
     "execution_count": 42,
     "metadata": {},
     "output_type": "execute_result"
    }
   ],
   "source": [
    "all_fields_one.loc[tt,]"
   ]
  },
  {
   "cell_type": "code",
   "execution_count": 73,
   "id": "d52fdea1",
   "metadata": {},
   "outputs": [
    {
     "data": {
      "text/plain": [
       "[3, 67, 93]"
      ]
     },
     "execution_count": 73,
     "metadata": {},
     "output_type": "execute_result"
    }
   ],
   "source": [
    "row_ind_ex"
   ]
  },
  {
   "cell_type": "code",
   "execution_count": null,
   "id": "f80dc6d8",
   "metadata": {},
   "outputs": [],
   "source": []
  },
  {
   "cell_type": "code",
   "execution_count": 20,
   "id": "7eaf4998",
   "metadata": {
    "scrolled": true
   },
   "outputs": [
    {
     "name": "stderr",
     "output_type": "stream",
     "text": [
      "/mnt/home/szheng/projects/util_code/plot_helper.py:626: UserWarning: FixedFormatter should only be used together with FixedLocator\n",
      "  ax.set_xticklabels(x_tick_labels, rotation=0)\n"
     ]
    },
    {
     "data": {
      "image/png": "[encoded data removed]",
      "text/plain": [
       "<Figure size 288x263.52 with 7 Axes>"
      ]
     },
     "metadata": {
      "needs_background": "light"
     },
     "output_type": "display_data"
    }
   ],
   "source": [
    "\n",
    "# tr_l = [0,1,2,3,7,8,20,30,32]\n",
    "tr_l = [0,1,2,30,31,32]\n",
    "# tr_l = np.arange(0,33,5)\n",
    "nplots=len(tr_l)\n",
    "# fig,axs=ph.subplots_wrapper(nplots)\n",
    "fig,axs=plt.subplots(2,3,figsize=(4,3.66))\n",
    "\n",
    "for ii,tr in enumerate(tr_l):\n",
    "#     ax=axs[ii]\n",
    "    ax=axs.ravel()[ii]\n",
    "#     fig,ax=plt.subplots(figsize=(1.4,1.4))\n",
    "    ax.set_title(f'Trial {tr+1}') # make 1 indexed!!\n",
    "    fr_map_trial_df_one_trial = fr_map_trial_df_one[tr]\n",
    "    mat=fr_map_trial_df_one_trial.loc[uid_sorted]\n",
    "    ph.heatmap(mat,fig=fig,ax=ax,vmax=0.7,cbar=False)\n",
    "    ax.set_xticks([])\n",
    "    ax.set_yticks([])\n",
    "    ax.set_ylabel('Neuron')\n",
    "    \n",
    "    for row_to_highlight,field_bound in zip(row_ind_ex,field_bound_ex):\n",
    "        x_text = field_bound[0]-0.5  # x position of the text (to the left of the heatmap)\n",
    "        y_text = row_to_highlight + 0.5  # y position of the text (same as the row)\n",
    "\n",
    "        # Annotate with an arrow pointing at a specific cell\n",
    "        ax.annotate('', xy=(x_text+0.5, y_text),  # Pointing to \n",
    "                    xytext=(x_text, y_text),  # Position of text\n",
    "                    arrowprops=dict(facecolor='red',edgecolor='none',headwidth=4.,headlength=10., shrink=0.05),  # Arrow properties\n",
    "                    color='white',  # Text color\n",
    "                    ha='right')  # Horizontal alignment of the text\n",
    "\n",
    "#         columns_to_highlight = field_bound\n",
    "#         ellipse_center = (np.mean(columns_to_highlight), row_to_highlight)  # Center of the ellipse\n",
    "#         ellipse_width = (columns_to_highlight[1]-columns_to_highlight[0]) * 1.1  # Cover the columns, adjust as necessary\n",
    "#         ellipse_height = 1  # Height to just cover the row, adjust for aesthetics\n",
    "\n",
    "#         # Create an Ellipse patch\n",
    "#         oval = patches.Ellipse(ellipse_center, width=ellipse_width, height=ellipse_height,\n",
    "#                                edgecolor='red', facecolor='none', lw=0.5)\n",
    "#         ax.add_patch(oval)\n",
    "#     cbar=ax.collections[0].colorbar\n",
    "#     cbar.set_ticks([0,0.6])\n",
    "\n",
    "#     if tr not in [2,32]:\n",
    "#         cbar.remove()\n",
    "\n",
    "plt.tight_layout()\n",
    "plt.subplots_adjust(hspace=0.5)  # Adjust as needed\n",
    "cbar_ax = fig.add_axes([1., 0.3, 0.02, 0.4])  # Adjust the dimensions [left, bottom, width, height] to fit your layout\n",
    "\n",
    "# Draw the colorbar\n",
    "cbar=fig.colorbar(axs[0,0].collections[0], cax=cbar_ax)\n",
    "cbar.set_ticks([0,0.3,0.6])\n",
    "\n",
    "\n",
    "\n",
    "figfn = f'population_sequence_across_trials_index_within'\n",
    "ph.save_given_name(fig,figfn,figdir,dpi=900)\n"
   ]
  },
  {
   "cell_type": "code",
   "execution_count": 23,
   "id": "75ac81b6",
   "metadata": {},
   "outputs": [
    {
     "name": "stderr",
     "output_type": "stream",
     "text": [
      "/tmp/ipykernel_1035657/1818773802.py:8: PerformanceWarning: indexing past lexsort depth may impact performance.\n",
      "  frmap_one=fr_map_trial_df_all.loc[ani,sess,ta,tt,uid].dropna(axis=1,how='all').T\n"
     ]
    },
    {
     "data": {
      "image/png": "[encoded data removed]",
      "text/plain": [
       "<Figure size 324x64.8 with 6 Axes>"
      ]
     },
     "metadata": {
      "needs_background": "light"
     },
     "output_type": "display_data"
    }
   ],
   "source": [
    "nplots = len(tt_uid_to_include)\n",
    "# fig,axs=plt.subplots(1,nplots,figsize=(nplots*3,2))\n",
    "fig,axs=plt.subplots(1,nplots,figsize=(4.5,0.9))\n",
    "plt.subplots_adjust(wspace=0.5)\n",
    "for ii,(_,uid) in enumerate(tt_uid_to_include):        \n",
    "    ax=axs.ravel()[ii]\n",
    "#     fig,ax=plt.subplots(figsize=(1.6,1))\n",
    "    frmap_one=fr_map_trial_df_all.loc[ani,sess,ta,tt,uid].dropna(axis=1,how='all').T\n",
    "    ph.heatmap(frmap_one,fig=fig,ax=ax)\n",
    "    ax.set_yticks([0,frmap_one.shape[0]])\n",
    "    ax.set_yticklabels([1,1+frmap_one.shape[0]]) # make 1-indexed\n",
    "#     ax.set_title(f'Neuron {uid}({row_ind_ex[ii]})')\n",
    "    ax.set_title(f'Neuron {row_ind_ex[ii]+1}') # make 1-indexed\n",
    "    ax.set_xticks([])\n",
    "    figfn = f'example_ratemaps_{sess}_{ta}_{tt}_{uid}'\n",
    "    if ii==0:\n",
    "        ax.set_ylabel('Trial',labelpad=-1)\n",
    "#     ph.save_given_name(fig,figfn,figdir)\n",
    "# plt.tight_layout()\n",
    "\n",
    "\n",
    "figfn = 'example_ratemaps'\n",
    "ph.save_given_name(fig,figfn,figdir)"
   ]
  },
  {
   "cell_type": "code",
   "execution_count": 79,
   "id": "7247c1fe",
   "metadata": {},
   "outputs": [
    {
     "data": {
      "text/plain": [
       "Int64Index([341, 300, 258, 448, 148, 150, 220, 270, 392, 334], dtype='int64')"
      ]
     },
     "execution_count": 79,
     "metadata": {},
     "output_type": "execute_result"
    }
   ],
   "source": []
  },
  {
   "cell_type": "code",
   "execution_count": 63,
   "id": "81988eab",
   "metadata": {},
   "outputs": [
    {
     "name": "stdout",
     "output_type": "stream",
     "text": [
      "e13_26m1_210913\n"
     ]
    }
   ],
   "source": [
    "db_sorted = db.query('owner==\"roman\"').sort_values('n_pyr_putative',ascending=False)\n",
    "ii=0\n",
    "data_dir_full = db_sorted['data_dir_full'][ii]\n",
    "ani = db_sorted.index[ii][0]#'e15_13f1'#'e13_26m1'\n",
    "sess=db_sorted['sess_name'][ii]#'e15_13f1_220117'#'e13_26m1_210913'\n",
    "print(sess)"
   ]
  },
  {
   "cell_type": "code",
   "execution_count": 64,
   "id": "4cb9e6ee",
   "metadata": {},
   "outputs": [],
   "source": [
    "# load data\n",
    "mat_to_return=prep.load_stuff(data_dir_full)\n",
    "# sessionPulses=mat_to_return['sessionPulses']\n",
    "# filtered = mat_to_return['filtered']\n",
    "behavior=mat_to_return['behavior']\n",
    "ripples = mat_to_return['ripples']\n",
    "sleep_state_episodes = mat_to_return['SleepStateEpisodes']\n",
    "cell_metrics=mat_to_return['cell_metrics']\n",
    "mergepoints = mat_to_return['mergepoints']\n",
    "cell_type_mask = mat_to_return['cell_type_mask']\n",
    "res_all_epochs_d, ripple_time_ints_epochs_d = prep.get_spike_count_rate_participation_in_ripple_all(cell_metrics,\n",
    "                                                                                                    ripples,\n",
    "                                                                                                    mergepoints,\n",
    "                                                                                                   )\n",
    "\n",
    "\n",
    "prep_res = dpp.load_spk_beh_df(data_dir_full,force_reload=False,extra_load={})\n",
    "spk_beh_df=prep_res['spk_beh_df']\n",
    "_,spk_beh_df=dpp.group_into_trialtype(spk_beh_df)\n",
    "cell_cols_d = prep_res['cell_cols_d']\n",
    "# beh_df = prep_res['beh_df']\n",
    "# beh_df_d,beh_df=dpp.group_into_trialtype(beh_df)\n",
    "spike_trains = prep_res['spike_trains']"
   ]
  },
  {
   "cell_type": "code",
   "execution_count": 81,
   "id": "2bcfd1a4",
   "metadata": {},
   "outputs": [],
   "source": [
    "import pynapple as nap"
   ]
  },
  {
   "cell_type": "code",
   "execution_count": 84,
   "id": "1891ba2b",
   "metadata": {},
   "outputs": [],
   "source": [
    "trial_int = nap.IntervalSet(start=behavior['trials']['startPoint'][0,0],end=behavior['trials']['startPoint'][0,1])\n"
   ]
  },
  {
   "cell_type": "code",
   "execution_count": 87,
   "id": "6691972a",
   "metadata": {},
   "outputs": [],
   "source": [
    "spike_trains_pyr=spike_trains.getby_category('ispyr')[True]"
   ]
  },
  {
   "cell_type": "code",
   "execution_count": 90,
   "id": "c441b338",
   "metadata": {
    "scrolled": true
   },
   "outputs": [],
   "source": [
    "spike_trains_pyr_tr = spike_trains_pyr.restrict(trial_int)"
   ]
  },
  {
   "cell_type": "code",
   "execution_count": 96,
   "id": "cbab9001",
   "metadata": {},
   "outputs": [],
   "source": [
    "spike_trains_pyr_tr_flatten=spike_trains_pyr_tr.values()"
   ]
  },
  {
   "cell_type": "code",
   "execution_count": 102,
   "id": "e11c61e7",
   "metadata": {},
   "outputs": [
    {
     "data": {
      "image/png": "[encoded data removed]",
      "text/plain": [
       "<Figure size 432x288 with 1 Axes>"
      ]
     },
     "metadata": {
      "needs_background": "light"
     },
     "output_type": "display_data"
    }
   ],
   "source": [
    "fig,ax=plt.subplots()\n",
    "for i,times in enumerate(spike_trains_pyr_tr_flatten):\n",
    "    ax.scatter(times.index,len(times.index)*[i],marker='|',s=1.,)"
   ]
  },
  {
   "cell_type": "code",
   "execution_count": null,
   "id": "4ac80f26",
   "metadata": {},
   "outputs": [],
   "source": []
  },
  {
   "cell_type": "code",
   "execution_count": 92,
   "id": "394b6c50",
   "metadata": {},
   "outputs": [
    {
     "ename": "AttributeError",
     "evalue": "'TsGroup' object has no attribute 'to_tsd'",
     "output_type": "error",
     "traceback": [
      "\u001b[0;31m---------------------------------------------------------------------------\u001b[0m",
      "\u001b[0;31mAttributeError\u001b[0m                            Traceback (most recent call last)",
      "Input \u001b[0;32mIn [92]\u001b[0m, in \u001b[0;36m<cell line: 1>\u001b[0;34m()\u001b[0m\n\u001b[0;32m----> 1\u001b[0m spike_trains_pyr_tr_flatten \u001b[38;5;241m=\u001b[39m \u001b[43mspike_trains_pyr_tr\u001b[49m\u001b[38;5;241;43m.\u001b[39;49m\u001b[43mto_tsd\u001b[49m(\u001b[38;5;124m\"\u001b[39m\u001b[38;5;124morder\u001b[39m\u001b[38;5;124m\"\u001b[39m)\n",
      "\u001b[0;31mAttributeError\u001b[0m: 'TsGroup' object has no attribute 'to_tsd'"
     ]
    }
   ],
   "source": [
    "spike_trains_pyr_tr_flatten = spike_trains_pyr_tr.to_tsd(\"order\") "
   ]
  },
  {
   "cell_type": "code",
   "execution_count": null,
   "id": "67b95d4b",
   "metadata": {},
   "outputs": [],
   "source": []
  },
  {
   "cell_type": "code",
   "execution_count": 24,
   "id": "ca9a4f8b",
   "metadata": {},
   "outputs": [
    {
     "name": "stderr",
     "output_type": "stream",
     "text": [
      "/tmp/ipykernel_634459/3678779601.py:1: FutureWarning: Support for multi-dimensional indexing (e.g. `obj[:, None]`) is deprecated and will be removed in a future version.  Convert to a numpy array before indexing instead.\n",
      "  (fr_map_trial_df_one.columns[None,:] * fr_map_trial_df_one.values)\n"
     ]
    },
    {
     "data": {
      "text/plain": [
       "array([[0.        , 0.        , 0.        , ..., 0.        , 0.        ,\n",
       "        0.        ],\n",
       "       [0.        , 0.        , 0.        , ..., 0.        , 0.        ,\n",
       "        0.        ],\n",
       "       [0.        , 0.        , 0.        , ..., 0.        , 0.        ,\n",
       "        0.        ],\n",
       "       ...,\n",
       "       [0.        , 0.        , 0.        , ..., 0.        , 0.        ,\n",
       "        0.        ],\n",
       "       [0.        , 1.19007334, 2.51055864, ..., 0.        , 0.        ,\n",
       "        0.        ],\n",
       "       [0.        , 0.01991616, 0.08695659, ..., 0.        , 0.        ,\n",
       "        0.        ]])"
      ]
     },
     "execution_count": 24,
     "metadata": {},
     "output_type": "execute_result"
    }
   ],
   "source": [
    "(fr_map_trial_df_one.columns[None,:] * fr_map_trial_df_one.values)"
   ]
  },
  {
   "cell_type": "code",
   "execution_count": 23,
   "id": "053eb926",
   "metadata": {},
   "outputs": [
    {
     "data": {
      "text/plain": [
       "array([[       nan,        nan,        nan, ...,        nan,        nan,\n",
       "               nan],\n",
       "       [       nan,        nan,        nan, ...,        nan,        nan,\n",
       "               nan],\n",
       "       [0.        , 0.        , 0.        , ..., 0.        , 0.        ,\n",
       "        0.        ],\n",
       "       ...,\n",
       "       [0.        , 0.        , 0.        , ..., 0.        , 0.        ,\n",
       "        0.        ],\n",
       "       [0.        , 0.03968302, 0.08371463, ..., 0.        , 0.        ,\n",
       "        0.        ],\n",
       "       [0.        , 0.00010832, 0.00047296, ..., 0.        , 0.        ,\n",
       "        0.        ]])"
      ]
     },
     "execution_count": 23,
     "metadata": {},
     "output_type": "execute_result"
    }
   ],
   "source": [
    "com."
   ]
  },
  {
   "cell_type": "code",
   "execution_count": null,
   "id": "3f861d5a",
   "metadata": {},
   "outputs": [],
   "source": []
  },
  {
   "cell_type": "code",
   "execution_count": null,
   "id": "f92ceccd",
   "metadata": {},
   "outputs": [],
   "source": []
  },
  {
   "cell_type": "code",
   "execution_count": 9,
   "id": "9b8da344",
   "metadata": {},
   "outputs": [
    {
     "name": "stderr",
     "output_type": "stream",
     "text": [
      "/mnt/home/szheng/ceph/envs/jax/lib/python3.9/site-packages/numpy/lib/nanfunctions.py:1119: RuntimeWarning: All-NaN slice encountered\n",
      "  r, k = function_base._ureduce(a, func=_nanmedian, axis=axis, out=out,\n",
      "/mnt/home/szheng/projects/place_variability/code/variability_axis.py:41: PerformanceWarning: indexing past lexsort depth may impact performance.\n",
      "  cell_cols = fr_map_trial_df_all.loc[k,:].index.get_level_values(2).unique()\n",
      "/mnt/home/szheng/projects/place_variability/code/variability_axis.py:41: PerformanceWarning: indexing past lexsort depth may impact performance.\n",
      "  cell_cols = fr_map_trial_df_all.loc[k,:].index.get_level_values(2).unique()\n",
      "/mnt/home/szheng/projects/place_variability/code/variability_axis.py:41: PerformanceWarning: indexing past lexsort depth may impact performance.\n",
      "  cell_cols = fr_map_trial_df_all.loc[k,:].index.get_level_values(2).unique()\n",
      "/mnt/home/szheng/projects/place_variability/code/variability_axis.py:41: PerformanceWarning: indexing past lexsort depth may impact performance.\n",
      "  cell_cols = fr_map_trial_df_all.loc[k,:].index.get_level_values(2).unique()\n",
      "/mnt/home/szheng/projects/place_variability/code/variability_axis.py:41: PerformanceWarning: indexing past lexsort depth may impact performance.\n",
      "  cell_cols = fr_map_trial_df_all.loc[k,:].index.get_level_values(2).unique()\n",
      "/mnt/home/szheng/projects/place_variability/code/variability_axis.py:41: PerformanceWarning: indexing past lexsort depth may impact performance.\n",
      "  cell_cols = fr_map_trial_df_all.loc[k,:].index.get_level_values(2).unique()\n",
      "/mnt/home/szheng/projects/place_variability/code/variability_axis.py:41: PerformanceWarning: indexing past lexsort depth may impact performance.\n",
      "  cell_cols = fr_map_trial_df_all.loc[k,:].index.get_level_values(2).unique()\n",
      "/mnt/home/szheng/projects/place_variability/code/variability_axis.py:41: PerformanceWarning: indexing past lexsort depth may impact performance.\n",
      "  cell_cols = fr_map_trial_df_all.loc[k,:].index.get_level_values(2).unique()\n",
      "/mnt/home/szheng/projects/place_variability/code/variability_axis.py:41: PerformanceWarning: indexing past lexsort depth may impact performance.\n",
      "  cell_cols = fr_map_trial_df_all.loc[k,:].index.get_level_values(2).unique()\n",
      "/mnt/home/szheng/projects/place_variability/code/variability_axis.py:41: PerformanceWarning: indexing past lexsort depth may impact performance.\n",
      "  cell_cols = fr_map_trial_df_all.loc[k,:].index.get_level_values(2).unique()\n",
      "/mnt/home/szheng/projects/place_variability/code/variability_axis.py:41: PerformanceWarning: indexing past lexsort depth may impact performance.\n",
      "  cell_cols = fr_map_trial_df_all.loc[k,:].index.get_level_values(2).unique()\n",
      "/mnt/home/szheng/projects/place_variability/code/variability_axis.py:41: PerformanceWarning: indexing past lexsort depth may impact performance.\n",
      "  cell_cols = fr_map_trial_df_all.loc[k,:].index.get_level_values(2).unique()\n",
      "/mnt/home/szheng/projects/place_variability/code/variability_axis.py:41: PerformanceWarning: indexing past lexsort depth may impact performance.\n",
      "  cell_cols = fr_map_trial_df_all.loc[k,:].index.get_level_values(2).unique()\n",
      "/mnt/home/szheng/projects/place_variability/code/variability_axis.py:41: PerformanceWarning: indexing past lexsort depth may impact performance.\n",
      "  cell_cols = fr_map_trial_df_all.loc[k,:].index.get_level_values(2).unique()\n",
      "/mnt/home/szheng/projects/place_variability/code/variability_axis.py:41: PerformanceWarning: indexing past lexsort depth may impact performance.\n",
      "  cell_cols = fr_map_trial_df_all.loc[k,:].index.get_level_values(2).unique()\n",
      "/mnt/home/szheng/projects/place_variability/code/variability_axis.py:41: PerformanceWarning: indexing past lexsort depth may impact performance.\n",
      "  cell_cols = fr_map_trial_df_all.loc[k,:].index.get_level_values(2).unique()\n",
      "/mnt/home/szheng/projects/place_variability/code/variability_axis.py:41: PerformanceWarning: indexing past lexsort depth may impact performance.\n",
      "  cell_cols = fr_map_trial_df_all.loc[k,:].index.get_level_values(2).unique()\n",
      "/mnt/home/szheng/projects/place_variability/code/variability_axis.py:41: PerformanceWarning: indexing past lexsort depth may impact performance.\n",
      "  cell_cols = fr_map_trial_df_all.loc[k,:].index.get_level_values(2).unique()\n",
      "/mnt/home/szheng/projects/place_variability/code/variability_axis.py:41: PerformanceWarning: indexing past lexsort depth may impact performance.\n",
      "  cell_cols = fr_map_trial_df_all.loc[k,:].index.get_level_values(2).unique()\n",
      "/mnt/home/szheng/projects/place_variability/code/variability_axis.py:41: PerformanceWarning: indexing past lexsort depth may impact performance.\n",
      "  cell_cols = fr_map_trial_df_all.loc[k,:].index.get_level_values(2).unique()\n",
      "/mnt/home/szheng/projects/place_variability/code/variability_axis.py:41: PerformanceWarning: indexing past lexsort depth may impact performance.\n",
      "  cell_cols = fr_map_trial_df_all.loc[k,:].index.get_level_values(2).unique()\n",
      "/mnt/home/szheng/projects/place_variability/code/variability_axis.py:41: PerformanceWarning: indexing past lexsort depth may impact performance.\n",
      "  cell_cols = fr_map_trial_df_all.loc[k,:].index.get_level_values(2).unique()\n",
      "/mnt/home/szheng/projects/place_variability/code/variability_axis.py:41: PerformanceWarning: indexing past lexsort depth may impact performance.\n",
      "  cell_cols = fr_map_trial_df_all.loc[k,:].index.get_level_values(2).unique()\n",
      "/mnt/home/szheng/projects/place_variability/code/variability_axis.py:41: PerformanceWarning: indexing past lexsort depth may impact performance.\n",
      "  cell_cols = fr_map_trial_df_all.loc[k,:].index.get_level_values(2).unique()\n",
      "/mnt/home/szheng/projects/place_variability/code/variability_axis.py:41: PerformanceWarning: indexing past lexsort depth may impact performance.\n",
      "  cell_cols = fr_map_trial_df_all.loc[k,:].index.get_level_values(2).unique()\n",
      "/mnt/home/szheng/projects/place_variability/code/variability_axis.py:41: PerformanceWarning: indexing past lexsort depth may impact performance.\n",
      "  cell_cols = fr_map_trial_df_all.loc[k,:].index.get_level_values(2).unique()\n",
      "/mnt/home/szheng/projects/place_variability/code/variability_axis.py:41: PerformanceWarning: indexing past lexsort depth may impact performance.\n",
      "  cell_cols = fr_map_trial_df_all.loc[k,:].index.get_level_values(2).unique()\n",
      "/mnt/home/szheng/projects/place_variability/code/variability_axis.py:41: PerformanceWarning: indexing past lexsort depth may impact performance.\n",
      "  cell_cols = fr_map_trial_df_all.loc[k,:].index.get_level_values(2).unique()\n",
      "/mnt/home/szheng/projects/place_variability/code/variability_axis.py:41: PerformanceWarning: indexing past lexsort depth may impact performance.\n",
      "  cell_cols = fr_map_trial_df_all.loc[k,:].index.get_level_values(2).unique()\n",
      "/mnt/home/szheng/projects/place_variability/code/variability_axis.py:41: PerformanceWarning: indexing past lexsort depth may impact performance.\n",
      "  cell_cols = fr_map_trial_df_all.loc[k,:].index.get_level_values(2).unique()\n",
      "/mnt/home/szheng/projects/place_variability/code/variability_axis.py:41: PerformanceWarning: indexing past lexsort depth may impact performance.\n",
      "  cell_cols = fr_map_trial_df_all.loc[k,:].index.get_level_values(2).unique()\n",
      "/mnt/home/szheng/projects/place_variability/code/variability_axis.py:41: PerformanceWarning: indexing past lexsort depth may impact performance.\n",
      "  cell_cols = fr_map_trial_df_all.loc[k,:].index.get_level_values(2).unique()\n",
      "/mnt/home/szheng/projects/place_variability/code/variability_axis.py:41: PerformanceWarning: indexing past lexsort depth may impact performance.\n",
      "  cell_cols = fr_map_trial_df_all.loc[k,:].index.get_level_values(2).unique()\n",
      "/mnt/home/szheng/projects/place_variability/code/variability_axis.py:41: PerformanceWarning: indexing past lexsort depth may impact performance.\n",
      "  cell_cols = fr_map_trial_df_all.loc[k,:].index.get_level_values(2).unique()\n",
      "/mnt/home/szheng/projects/place_variability/code/variability_axis.py:41: PerformanceWarning: indexing past lexsort depth may impact performance.\n",
      "  cell_cols = fr_map_trial_df_all.loc[k,:].index.get_level_values(2).unique()\n",
      "/mnt/home/szheng/projects/place_variability/code/variability_axis.py:41: PerformanceWarning: indexing past lexsort depth may impact performance.\n",
      "  cell_cols = fr_map_trial_df_all.loc[k,:].index.get_level_values(2).unique()\n"
     ]
    },
    {
     "name": "stderr",
     "output_type": "stream",
     "text": [
      "/mnt/home/szheng/projects/place_variability/code/variability_axis.py:41: PerformanceWarning: indexing past lexsort depth may impact performance.\n",
      "  cell_cols = fr_map_trial_df_all.loc[k,:].index.get_level_values(2).unique()\n",
      "/mnt/home/szheng/projects/place_variability/code/variability_axis.py:41: PerformanceWarning: indexing past lexsort depth may impact performance.\n",
      "  cell_cols = fr_map_trial_df_all.loc[k,:].index.get_level_values(2).unique()\n",
      "/mnt/home/szheng/projects/place_variability/code/variability_axis.py:41: PerformanceWarning: indexing past lexsort depth may impact performance.\n",
      "  cell_cols = fr_map_trial_df_all.loc[k,:].index.get_level_values(2).unique()\n",
      "/mnt/home/szheng/projects/place_variability/code/variability_axis.py:41: PerformanceWarning: indexing past lexsort depth may impact performance.\n",
      "  cell_cols = fr_map_trial_df_all.loc[k,:].index.get_level_values(2).unique()\n",
      "/mnt/home/szheng/projects/place_variability/code/variability_axis.py:41: PerformanceWarning: indexing past lexsort depth may impact performance.\n",
      "  cell_cols = fr_map_trial_df_all.loc[k,:].index.get_level_values(2).unique()\n",
      "/mnt/home/szheng/projects/place_variability/code/variability_axis.py:41: PerformanceWarning: indexing past lexsort depth may impact performance.\n",
      "  cell_cols = fr_map_trial_df_all.loc[k,:].index.get_level_values(2).unique()\n",
      "/mnt/home/szheng/projects/place_variability/code/variability_axis.py:41: PerformanceWarning: indexing past lexsort depth may impact performance.\n",
      "  cell_cols = fr_map_trial_df_all.loc[k,:].index.get_level_values(2).unique()\n",
      "/mnt/home/szheng/projects/place_variability/code/variability_axis.py:41: PerformanceWarning: indexing past lexsort depth may impact performance.\n",
      "  cell_cols = fr_map_trial_df_all.loc[k,:].index.get_level_values(2).unique()\n",
      "/mnt/home/szheng/projects/place_variability/code/variability_axis.py:41: PerformanceWarning: indexing past lexsort depth may impact performance.\n",
      "  cell_cols = fr_map_trial_df_all.loc[k,:].index.get_level_values(2).unique()\n",
      "/mnt/home/szheng/projects/place_variability/code/variability_axis.py:41: PerformanceWarning: indexing past lexsort depth may impact performance.\n",
      "  cell_cols = fr_map_trial_df_all.loc[k,:].index.get_level_values(2).unique()\n",
      "/mnt/home/szheng/projects/place_variability/code/variability_axis.py:54: PerformanceWarning: indexing past lexsort depth may impact performance.\n",
      "  spa = np.average(val**2 / (val.mean(axis=1)**2).values[:,None],weights=occu_map_all.loc[k],axis=1)\n"
     ]
    }
   ],
   "source": [
    "import variability_axis as va\n",
    "per_neuron_metrics_all = va.get_per_neuron_metrics(spk_beh_df_all,fr_map_trial_df_all,fr_map_all=fr_map_all,occu_map_all=occu_map_all)\n",
    "is_place_cell = per_neuron_metrics_all.index.isin(all_fields_recombined_all.reset_index(-1).index)\n",
    "per_neuron_metrics_all['is_pc']=is_place_cell\n",
    "                                                \n",
    "                                                "
   ]
  },
  {
   "cell_type": "code",
   "execution_count": null,
   "id": "3b399ab6",
   "metadata": {},
   "outputs": [],
   "source": []
  }
 ],
 "metadata": {
  "kernelspec": {
   "display_name": "jax",
   "language": "python",
   "name": "jax"
  },
  "language_info": {
   "codemirror_mode": {
    "name": "ipython",
    "version": 3
   },
   "file_extension": ".py",
   "mimetype": "text/x-python",
   "name": "python",
   "nbconvert_exporter": "python",
   "pygments_lexer": "ipython3",
   "version": "3.9.16"
  }
 },
 "nbformat": 4,
 "nbformat_minor": 5
}
