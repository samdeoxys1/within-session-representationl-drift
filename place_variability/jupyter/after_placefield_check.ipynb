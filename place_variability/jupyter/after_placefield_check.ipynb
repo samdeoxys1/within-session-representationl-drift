{
 "cells": [
  {
   "cell_type": "code",
   "execution_count": 1,
   "id": "e97a5b93",
   "metadata": {},
   "outputs": [
    {
     "name": "stdout",
     "output_type": "stream",
     "text": [
      "67 sessions!\n",
      "67 sessions!\n"
     ]
    }
   ],
   "source": [
    "import numpy as np\n",
    "import scipy\n",
    "import sklearn\n",
    "from sklearn.decomposition import NMF\n",
    "from sklearn.cluster import KMeans\n",
    "from sklearn.mixture import GaussianMixture,BayesianGaussianMixture\n",
    "\n",
    "import pandas as pd\n",
    "\n",
    "import matplotlib.pyplot as plt\n",
    "import matplotlib as mpl\n",
    "mpl.rcParams['image.cmap'] = 'Greys'\n",
    "\n",
    "import seaborn as sns\n",
    "\n",
    "import sys,os,pdb,copy,pickle\n",
    "from importlib import reload\n",
    "import pynapple as nap\n",
    "\n",
    "sys.path.append('/mnt/home/szheng/projects/seq_detection2/code')\n",
    "sys.path.append('/mnt/home/szheng/projects/util_code')\n",
    "sys.path.append('/mnt/home/szheng/projects/nmf_analysis')\n",
    "sys.path.append('/mnt/home/szheng/projects/nmf_analysis/scripts')\n",
    "sys.path.append('/mnt/home/szheng/projects/cluster_spikes')\n",
    "sys.path.append('/mnt/home/szheng/projects/place_variability/code')\n",
    "import data_prep_new as dpn\n",
    "import place_cell_analysis as pa\n",
    "import plot_helper as ph\n",
    "import preprocess as prep\n",
    "import nmf_analysis as na\n",
    "import nmf_plot as nmfp\n",
    "reload(na)\n",
    "\n",
    "import raster_new as rn\n",
    "import data_prep_pyn as dpp\n",
    "import database\n",
    "db = database.db\n",
    "\n",
    "import change_point_analysis as cpa\n",
    "import change_point_plot as cpp\n",
    "\n",
    "import place_field_analysis as pf\n",
    "\n",
    "import switch_analysis_one_session as saos\n",
    "reload(saos)\n",
    "\n",
    "import process_central_arm as pca \n",
    "import change_point_analysis_central_arm_seperate as cpacas\n",
    "\n",
    "import misc\n",
    "reload(misc)\n",
    "from misc import get_nth_key, get_nth_val"
   ]
  },
  {
   "cell_type": "code",
   "execution_count": 2,
   "id": "29b42aa7",
   "metadata": {},
   "outputs": [
    {
     "name": "stderr",
     "output_type": "stream",
     "text": [
      "/mnt/home/szheng/ceph/envs/jax/lib/python3.9/site-packages/outdated/utils.py:14: OutdatedPackageWarning: The package pingouin is out of date. Your version is 0.5.2, the latest is 0.5.3.\n",
      "Set the environment variable OUTDATED_IGNORE=1 to disable these warnings.\n",
      "  return warn(\n"
     ]
    },
    {
     "name": "stdout",
     "output_type": "stream",
     "text": [
      "load *SessionPulses.Events.mat failed\n"
     ]
    }
   ],
   "source": [
    "# data_dir_full = '/mnt/home/szheng/ceph/ad/roman_data/e15/e15_13f1/e15_13f1_220117/'\n",
    "# data_dir_full = db.query('owner==\"roman\"').sort_values('n_pyr_putative',ascending=False)['data_dir_full'][0] #0\n",
    "\n",
    "# data_dir_full = db.query('sess_name==\"e15_13f1_220119\"')['data_dir_full'][0]\n",
    "data_dir_full = db.query('sess_name==\"e15_13f1_220120\"')['data_dir_full'][0]\n",
    "\n",
    "\n",
    "# load data\n",
    "mat_to_return=prep.load_stuff(data_dir_full,sessionPulses='*SessionPulses.Events.mat')\n",
    "# sessionPulses=mat_to_return['sessionPulses']\n",
    "# filtered = mat_to_return['filtered']\n",
    "behavior=mat_to_return['behavior']\n",
    "# ripples = mat_to_return['ripples']\n",
    "# cell_metrics = mat_to_return['cell_metrics']\n",
    "\n",
    "prep_res = dpp.load_spk_beh_df(data_dir_full,force_reload=False,extra_load={})\n",
    "# prep_res = dpp.load_spk_beh_df(data_dir_full,force_reload=True,extra_load=dict(sessionPulses='*SessionPulses.Events.mat',filtered='*thetaFiltered.lfp.mat'))\n",
    "spk_beh_df=prep_res['spk_beh_df']\n",
    "_,spk_beh_df = dpp.group_into_trialtype(spk_beh_df)\n",
    "# spk_beh_df,_=dpp.add_lin_binned(spk_beh_df,nbins=100)\n",
    "spk_beh_df,_=dpp.add_lin_binned(spk_beh_df,bin_size=2.2,nbins=None)\n",
    "cell_cols_d = prep_res['cell_cols_d']\n",
    "beh_df = prep_res['beh_df']\n",
    "beh_df_d,beh_df=dpp.group_into_trialtype(beh_df)\n",
    "spike_trains = prep_res['spike_trains']\n"
   ]
  },
  {
   "cell_type": "code",
   "execution_count": 58,
   "id": "c8a34093",
   "metadata": {},
   "outputs": [
    {
     "name": "stdout",
     "output_type": "stream",
     "text": [
      "/mnt/home/szheng/ceph/ad/roman_data/e15/e15_13f1/e15_13f1_220120/py_data/place_field_avg_and_trial_vthresh.p exists; loading---\n"
     ]
    }
   ],
   "source": [
    "pf_res_old = pf.field_detection_both_avg_trial_wrapper(data_dir_full, dosave=False,force_reload=False, \n",
    "                                        save_fn = 'place_field_avg_and_trial_vthresh.p', \n",
    "                                        shuffle_fn='fr_map_null_trialtype_vthresh.p',load_only=True)"
   ]
  },
  {
   "cell_type": "code",
   "execution_count": 59,
   "id": "5a62c9fe",
   "metadata": {},
   "outputs": [
    {
     "name": "stdout",
     "output_type": "stream",
     "text": [
      "/mnt/home/szheng/ceph/ad/roman_data/e15/e15_13f1/e15_13f1_220120/py_data/place_field_afterheadscan.p exists; loading---\n"
     ]
    }
   ],
   "source": [
    "pf_res_new = pf.field_detection_both_avg_trial_wrapper(data_dir_full, dosave=False,force_reload=False, \n",
    "                                        save_fn = 'place_field_afterheadscan.p', \n",
    "                                        shuffle_fn='frmap_null_afterheadscan.p',load_only=True)"
   ]
  },
  {
   "cell_type": "code",
   "execution_count": 16,
   "id": "8505cf59",
   "metadata": {},
   "outputs": [],
   "source": [
    "import fr_map_one_session as fmos"
   ]
  },
  {
   "cell_type": "code",
   "execution_count": 17,
   "id": "efb836ba",
   "metadata": {},
   "outputs": [
    {
     "name": "stdout",
     "output_type": "stream",
     "text": [
      "/mnt/home/szheng/ceph/ad/roman_data/e15/e15_13f1/e15_13f1_220120/py_data/fr_map.p exists; loading---\n"
     ]
    }
   ],
   "source": [
    "fr_map_res = fmos.main(data_dir_full,load_only=True)"
   ]
  },
  {
   "cell_type": "code",
   "execution_count": 22,
   "id": "cf668810",
   "metadata": {},
   "outputs": [
    {
     "data": {
      "text/plain": [
       "<AxesSubplot:xlabel='lin_binned'>"
      ]
     },
     "execution_count": 22,
     "metadata": {},
     "output_type": "execute_result"
    },
    {
     "data": {
      "image/png": "[encoded data removed]",
      "text/plain": [
       "<Figure size 432x288 with 1 Axes>"
      ]
     },
     "metadata": {
      "needs_background": "light"
     },
     "output_type": "display_data"
    }
   ],
   "source": [
    "fr_map_res['fr_map'].loc[0,0].loc[42].plot()"
   ]
  },
  {
   "cell_type": "code",
   "execution_count": 25,
   "id": "48c3ad99",
   "metadata": {},
   "outputs": [
    {
     "name": "stdout",
     "output_type": "stream",
     "text": [
      "/mnt/home/szheng/ceph/ad/roman_data/e15/e15_13f1/e15_13f1_220120/py_data/frmap_null_afterheadscan.p exists; loading---\n"
     ]
    }
   ],
   "source": [
    "fr_map_null = pf.get_fr_map_shuffle_wrapper(data_dir_full,nrepeats=1000, dosave=True,force_reload=False, save_fn='frmap_null_afterheadscan.p')\n",
    "\n",
    "\n",
    "\n"
   ]
  },
  {
   "cell_type": "code",
   "execution_count": 36,
   "id": "de3cb763",
   "metadata": {},
   "outputs": [],
   "source": [
    "cell_cols = cell_cols_d['pyr']\n",
    "fr_map_pf =pf.ratemap_from_spk_beh_df_onetrialtype(spk_beh_df.loc[spk_beh_df['trial_type']==(0,0)],cell_cols,speed_thresh=0.5,bin_size=2.2,nbins=100,smth_in_bin=2.5,speed_key='directed_locomotion')\n",
    "\n",
    "\n"
   ]
  },
  {
   "cell_type": "code",
   "execution_count": 39,
   "id": "adf8efcb",
   "metadata": {},
   "outputs": [
    {
     "data": {
      "text/plain": [
       "<AxesSubplot:xlabel='lin_binned'>"
      ]
     },
     "execution_count": 39,
     "metadata": {},
     "output_type": "execute_result"
    },
    {
     "data": {
      "image/png": "[encoded data removed]",
      "text/plain": [
       "<Figure size 432x288 with 1 Axes>"
      ]
     },
     "metadata": {
      "needs_background": "light"
     },
     "output_type": "display_data"
    }
   ],
   "source": [
    "fr_map_pf[0].loc[42].plot()"
   ]
  },
  {
   "cell_type": "code",
   "execution_count": 40,
   "id": "3f5c75fd",
   "metadata": {},
   "outputs": [],
   "source": [
    "sbdf = spk_beh_df.loc[spk_beh_df['trial_type']==(0,0)]"
   ]
  },
  {
   "cell_type": "code",
   "execution_count": 44,
   "id": "9d8476f6",
   "metadata": {},
   "outputs": [],
   "source": [
    "i = 1000\n",
    "speed_thresh = 0.5\n",
    "nbins=None\n",
    "smth_in_bin=2.5\n",
    "bin_size=2.2\n",
    "speed_key = 'directed_locomotion'"
   ]
  },
  {
   "cell_type": "code",
   "execution_count": 53,
   "id": "bf3a66cc",
   "metadata": {},
   "outputs": [],
   "source": [
    "reload(pf)\n",
    "beh_part=sbdf[['lin',speed_key,'lin_binned','time']] \n",
    "spk_df_roll =pd.DataFrame(np.roll(sbdf[cell_cols],i,axis=0),columns=cell_cols,index=sbdf.index)\n",
    "spk_df_roll = pd.concat([spk_df_roll,beh_part],axis=1)\n",
    "# fr_map_null_d,_,_ = ratemap_from_spk_beh_df_alltrialtype(spk_df_roll,cell_cols,speed_thresh=speed_thresh,nbins=nbins,smth_in_bin=smth_in_bin)\n",
    "fr_map_null_one,_,_ = pf.ratemap_from_spk_beh_df_onetrialtype(spk_df_roll,cell_cols,speed_thresh=speed_thresh,nbins=nbins,smth_in_bin=smth_in_bin,bin_size=bin_size,speed_key=speed_key)\n",
    "\n"
   ]
  },
  {
   "cell_type": "code",
   "execution_count": 57,
   "id": "d7b39855",
   "metadata": {},
   "outputs": [
    {
     "data": {
      "text/plain": [
       "<AxesSubplot:xlabel='lin_binned'>"
      ]
     },
     "execution_count": 57,
     "metadata": {},
     "output_type": "execute_result"
    },
    {
     "data": {
      "image/png": "[encoded data removed]",
      "text/plain": [
       "<Figure size 432x288 with 1 Axes>"
      ]
     },
     "metadata": {
      "needs_background": "light"
     },
     "output_type": "display_data"
    }
   ],
   "source": [
    "fr_map_null_one.loc[42].plot()"
   ]
  },
  {
   "cell_type": "code",
   "execution_count": 54,
   "id": "5d5edfc6",
   "metadata": {},
   "outputs": [
    {
     "data": {
      "text/plain": [
       "<AxesSubplot:xlabel='lin_binned'>"
      ]
     },
     "execution_count": 54,
     "metadata": {},
     "output_type": "execute_result"
    },
    {
     "data": {
      "image/png": "[encoded data removed]",
      "text/plain": [
       "<Figure size 432x288 with 1 Axes>"
      ]
     },
     "metadata": {
      "needs_background": "light"
     },
     "output_type": "display_data"
    }
   ],
   "source": [
    "fr_map_null[0,0].loc[(slice(None),42),:].quantile(0.95).plot()"
   ]
  },
  {
   "cell_type": "code",
   "execution_count": 65,
   "id": "4086356d",
   "metadata": {
    "scrolled": true
   },
   "outputs": [],
   "source": [
    "\n",
    "pf_old_inds=pf_res_old['avg']['all_fields'][0,0].index"
   ]
  },
  {
   "cell_type": "code",
   "execution_count": 63,
   "id": "37d64e4b",
   "metadata": {
    "scrolled": true
   },
   "outputs": [],
   "source": [
    "pf_new_inds=pf_res_new['all_fields'][0,0].index"
   ]
  },
  {
   "cell_type": "code",
   "execution_count": 74,
   "id": "34936ad4",
   "metadata": {
    "scrolled": true
   },
   "outputs": [
    {
     "data": {
      "text/html": [
       "<div>\n",
       "<style scoped>\n",
       "    .dataframe tbody tr th:only-of-type {\n",
       "        vertical-align: middle;\n",
       "    }\n",
       "\n",
       "    .dataframe tbody tr th {\n",
       "        vertical-align: top;\n",
       "    }\n",
       "\n",
       "    .dataframe thead th {\n",
       "        text-align: right;\n",
       "    }\n",
       "</style>\n",
       "<table border=\"1\" class=\"dataframe\">\n",
       "  <thead>\n",
       "    <tr style=\"text-align: right;\">\n",
       "      <th></th>\n",
       "      <th></th>\n",
       "      <th>start</th>\n",
       "      <th>end</th>\n",
       "      <th>com</th>\n",
       "      <th>peak</th>\n",
       "      <th>fr_peak</th>\n",
       "      <th>fr_mean</th>\n",
       "    </tr>\n",
       "    <tr>\n",
       "      <th></th>\n",
       "      <th>field_index</th>\n",
       "      <th></th>\n",
       "      <th></th>\n",
       "      <th></th>\n",
       "      <th></th>\n",
       "      <th></th>\n",
       "      <th></th>\n",
       "    </tr>\n",
       "  </thead>\n",
       "  <tbody>\n",
       "    <tr>\n",
       "      <th>47</th>\n",
       "      <th>2</th>\n",
       "      <td>91</td>\n",
       "      <td>99</td>\n",
       "      <td>95</td>\n",
       "      <td>95</td>\n",
       "      <td>10.045215</td>\n",
       "      <td>8.063177</td>\n",
       "    </tr>\n",
       "    <tr>\n",
       "      <th rowspan=\"2\" valign=\"top\">48</th>\n",
       "      <th>1</th>\n",
       "      <td>48</td>\n",
       "      <td>62</td>\n",
       "      <td>54</td>\n",
       "      <td>51</td>\n",
       "      <td>6.93387</td>\n",
       "      <td>6.447065</td>\n",
       "    </tr>\n",
       "    <tr>\n",
       "      <th>2</th>\n",
       "      <td>65</td>\n",
       "      <td>79</td>\n",
       "      <td>72</td>\n",
       "      <td>75</td>\n",
       "      <td>9.711505</td>\n",
       "      <td>8.177472</td>\n",
       "    </tr>\n",
       "    <tr>\n",
       "      <th>52</th>\n",
       "      <th>1</th>\n",
       "      <td>77</td>\n",
       "      <td>84</td>\n",
       "      <td>80</td>\n",
       "      <td>81</td>\n",
       "      <td>5.141226</td>\n",
       "      <td>4.705013</td>\n",
       "    </tr>\n",
       "    <tr>\n",
       "      <th>57</th>\n",
       "      <th>0</th>\n",
       "      <td>0</td>\n",
       "      <td>5</td>\n",
       "      <td>2</td>\n",
       "      <td>0</td>\n",
       "      <td>5.995312</td>\n",
       "      <td>4.639714</td>\n",
       "    </tr>\n",
       "    <tr>\n",
       "      <th>...</th>\n",
       "      <th>...</th>\n",
       "      <td>...</td>\n",
       "      <td>...</td>\n",
       "      <td>...</td>\n",
       "      <td>...</td>\n",
       "      <td>...</td>\n",
       "      <td>...</td>\n",
       "    </tr>\n",
       "    <tr>\n",
       "      <th>284</th>\n",
       "      <th>1</th>\n",
       "      <td>89</td>\n",
       "      <td>97</td>\n",
       "      <td>93</td>\n",
       "      <td>93</td>\n",
       "      <td>1.322879</td>\n",
       "      <td>0.922164</td>\n",
       "    </tr>\n",
       "    <tr>\n",
       "      <th>287</th>\n",
       "      <th>2</th>\n",
       "      <td>90</td>\n",
       "      <td>96</td>\n",
       "      <td>93</td>\n",
       "      <td>93</td>\n",
       "      <td>1.024916</td>\n",
       "      <td>0.908821</td>\n",
       "    </tr>\n",
       "    <tr>\n",
       "      <th rowspan=\"2\" valign=\"top\">288</th>\n",
       "      <th>1</th>\n",
       "      <td>16</td>\n",
       "      <td>33</td>\n",
       "      <td>24</td>\n",
       "      <td>26</td>\n",
       "      <td>9.530995</td>\n",
       "      <td>5.925482</td>\n",
       "    </tr>\n",
       "    <tr>\n",
       "      <th>3</th>\n",
       "      <td>83</td>\n",
       "      <td>88</td>\n",
       "      <td>85</td>\n",
       "      <td>86</td>\n",
       "      <td>2.295564</td>\n",
       "      <td>2.092735</td>\n",
       "    </tr>\n",
       "    <tr>\n",
       "      <th>289</th>\n",
       "      <th>1</th>\n",
       "      <td>94</td>\n",
       "      <td>99</td>\n",
       "      <td>97</td>\n",
       "      <td>99</td>\n",
       "      <td>4.516293</td>\n",
       "      <td>3.313349</td>\n",
       "    </tr>\n",
       "  </tbody>\n",
       "</table>\n",
       "<p>75 rows × 6 columns</p>\n",
       "</div>"
      ],
      "text/plain": [
       "                start end com peak    fr_peak   fr_mean\n",
       "    field_index                                        \n",
       "47  2              91  99  95   95  10.045215  8.063177\n",
       "48  1              48  62  54   51    6.93387  6.447065\n",
       "    2              65  79  72   75   9.711505  8.177472\n",
       "52  1              77  84  80   81   5.141226  4.705013\n",
       "57  0               0   5   2    0   5.995312  4.639714\n",
       "...               ...  ..  ..  ...        ...       ...\n",
       "284 1              89  97  93   93   1.322879  0.922164\n",
       "287 2              90  96  93   93   1.024916  0.908821\n",
       "288 1              16  33  24   26   9.530995  5.925482\n",
       "    3              83  88  85   86   2.295564  2.092735\n",
       "289 1              94  99  97   99   4.516293  3.313349\n",
       "\n",
       "[75 rows x 6 columns]"
      ]
     },
     "execution_count": 74,
     "metadata": {},
     "output_type": "execute_result"
    }
   ],
   "source": [
    "pf_res_new['all_fields'][0,0].loc[pf_new_inds[[x not in pf_old_inds for x in pf_new_inds]]]"
   ]
  },
  {
   "cell_type": "code",
   "execution_count": 81,
   "id": "0a1319d0",
   "metadata": {},
   "outputs": [
    {
     "data": {
      "text/plain": [
       "<AxesSubplot:xlabel='lin_binned'>"
      ]
     },
     "execution_count": 81,
     "metadata": {},
     "output_type": "execute_result"
    },
    {
     "data": {
      "image/png": "[encoded data removed]",
      "text/plain": [
       "<Figure size 432x288 with 1 Axes>"
      ]
     },
     "metadata": {
      "needs_background": "light"
     },
     "output_type": "display_data"
    }
   ],
   "source": [
    "fr_map_res['fr_map'].loc[0,0].loc[48].plot()"
   ]
  },
  {
   "cell_type": "code",
   "execution_count": 72,
   "id": "70b3ff28",
   "metadata": {},
   "outputs": [
    {
     "data": {
      "text/html": [
       "<div>\n",
       "<style scoped>\n",
       "    .dataframe tbody tr th:only-of-type {\n",
       "        vertical-align: middle;\n",
       "    }\n",
       "\n",
       "    .dataframe tbody tr th {\n",
       "        vertical-align: top;\n",
       "    }\n",
       "\n",
       "    .dataframe thead th {\n",
       "        text-align: right;\n",
       "    }\n",
       "</style>\n",
       "<table border=\"1\" class=\"dataframe\">\n",
       "  <thead>\n",
       "    <tr style=\"text-align: right;\">\n",
       "      <th></th>\n",
       "      <th></th>\n",
       "      <th>start</th>\n",
       "      <th>end</th>\n",
       "      <th>com</th>\n",
       "      <th>peak</th>\n",
       "      <th>fr_peak</th>\n",
       "      <th>fr_mean</th>\n",
       "    </tr>\n",
       "    <tr>\n",
       "      <th></th>\n",
       "      <th>field_index</th>\n",
       "      <th></th>\n",
       "      <th></th>\n",
       "      <th></th>\n",
       "      <th></th>\n",
       "      <th></th>\n",
       "      <th></th>\n",
       "    </tr>\n",
       "  </thead>\n",
       "  <tbody>\n",
       "    <tr>\n",
       "      <th rowspan=\"2\" valign=\"top\">42</th>\n",
       "      <th>1</th>\n",
       "      <td>36</td>\n",
       "      <td>45</td>\n",
       "      <td>40</td>\n",
       "      <td>40</td>\n",
       "      <td>9.65561</td>\n",
       "      <td>7.829082</td>\n",
       "    </tr>\n",
       "    <tr>\n",
       "      <th>2</th>\n",
       "      <td>83</td>\n",
       "      <td>99</td>\n",
       "      <td>91</td>\n",
       "      <td>91</td>\n",
       "      <td>20.426195</td>\n",
       "      <td>13.764812</td>\n",
       "    </tr>\n",
       "    <tr>\n",
       "      <th rowspan=\"2\" valign=\"top\">43</th>\n",
       "      <th>0</th>\n",
       "      <td>4</td>\n",
       "      <td>30</td>\n",
       "      <td>19</td>\n",
       "      <td>23</td>\n",
       "      <td>10.051708</td>\n",
       "      <td>5.274427</td>\n",
       "    </tr>\n",
       "    <tr>\n",
       "      <th>1</th>\n",
       "      <td>71</td>\n",
       "      <td>77</td>\n",
       "      <td>73</td>\n",
       "      <td>74</td>\n",
       "      <td>2.998244</td>\n",
       "      <td>2.844559</td>\n",
       "    </tr>\n",
       "    <tr>\n",
       "      <th>47</th>\n",
       "      <th>1</th>\n",
       "      <td>68</td>\n",
       "      <td>78</td>\n",
       "      <td>73</td>\n",
       "      <td>74</td>\n",
       "      <td>7.488194</td>\n",
       "      <td>6.502278</td>\n",
       "    </tr>\n",
       "    <tr>\n",
       "      <th>...</th>\n",
       "      <th>...</th>\n",
       "      <td>...</td>\n",
       "      <td>...</td>\n",
       "      <td>...</td>\n",
       "      <td>...</td>\n",
       "      <td>...</td>\n",
       "      <td>...</td>\n",
       "    </tr>\n",
       "    <tr>\n",
       "      <th>293</th>\n",
       "      <th>0</th>\n",
       "      <td>58</td>\n",
       "      <td>69</td>\n",
       "      <td>63</td>\n",
       "      <td>63</td>\n",
       "      <td>2.896952</td>\n",
       "      <td>1.814461</td>\n",
       "    </tr>\n",
       "    <tr>\n",
       "      <th>295</th>\n",
       "      <th>0</th>\n",
       "      <td>0</td>\n",
       "      <td>10</td>\n",
       "      <td>4</td>\n",
       "      <td>3</td>\n",
       "      <td>6.316875</td>\n",
       "      <td>4.82038</td>\n",
       "    </tr>\n",
       "    <tr>\n",
       "      <th>297</th>\n",
       "      <th>0</th>\n",
       "      <td>28</td>\n",
       "      <td>49</td>\n",
       "      <td>38</td>\n",
       "      <td>33</td>\n",
       "      <td>3.501972</td>\n",
       "      <td>2.479724</td>\n",
       "    </tr>\n",
       "    <tr>\n",
       "      <th>299</th>\n",
       "      <th>1</th>\n",
       "      <td>71</td>\n",
       "      <td>83</td>\n",
       "      <td>76</td>\n",
       "      <td>77</td>\n",
       "      <td>2.027511</td>\n",
       "      <td>1.143457</td>\n",
       "    </tr>\n",
       "    <tr>\n",
       "      <th>302</th>\n",
       "      <th>1</th>\n",
       "      <td>86</td>\n",
       "      <td>99</td>\n",
       "      <td>93</td>\n",
       "      <td>93</td>\n",
       "      <td>4.989363</td>\n",
       "      <td>2.689842</td>\n",
       "    </tr>\n",
       "  </tbody>\n",
       "</table>\n",
       "<p>309 rows × 6 columns</p>\n",
       "</div>"
      ],
      "text/plain": [
       "                start end com peak    fr_peak    fr_mean\n",
       "    field_index                                         \n",
       "42  1              36  45  40   40    9.65561   7.829082\n",
       "    2              83  99  91   91  20.426195  13.764812\n",
       "43  0               4  30  19   23  10.051708   5.274427\n",
       "    1              71  77  73   74   2.998244   2.844559\n",
       "47  1              68  78  73   74   7.488194   6.502278\n",
       "...               ...  ..  ..  ...        ...        ...\n",
       "293 0              58  69  63   63   2.896952   1.814461\n",
       "295 0               0  10   4    3   6.316875    4.82038\n",
       "297 0              28  49  38   33   3.501972   2.479724\n",
       "299 1              71  83  76   77   2.027511   1.143457\n",
       "302 1              86  99  93   93   4.989363   2.689842\n",
       "\n",
       "[309 rows x 6 columns]"
      ]
     },
     "execution_count": 72,
     "metadata": {},
     "output_type": "execute_result"
    }
   ],
   "source": [
    "pf_res_new['all_fields'][0,0]"
   ]
  },
  {
   "cell_type": "code",
   "execution_count": null,
   "id": "9ff56374",
   "metadata": {},
   "outputs": [],
   "source": []
  }
 ],
 "metadata": {
  "kernelspec": {
   "display_name": "jax",
   "language": "python",
   "name": "jax"
  },
  "language_info": {
   "codemirror_mode": {
    "name": "ipython",
    "version": 3
   },
   "file_extension": ".py",
   "mimetype": "text/x-python",
   "name": "python",
   "nbconvert_exporter": "python",
   "pygments_lexer": "ipython3",
   "version": "3.9.13"
  }
 },
 "nbformat": 4,
 "nbformat_minor": 5
}
