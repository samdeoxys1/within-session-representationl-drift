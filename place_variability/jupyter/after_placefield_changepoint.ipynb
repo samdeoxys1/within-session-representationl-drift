{
 "cells": [
  {
   "cell_type": "code",
   "execution_count": 1,
   "id": "7503cf9b",
   "metadata": {},
   "outputs": [
    {
     "name": "stdout",
     "output_type": "stream",
     "text": [
      "67 sessions!\n",
      "67 sessions!\n"
     ]
    }
   ],
   "source": [
    "import numpy as np\n",
    "import scipy\n",
    "import sklearn\n",
    "from sklearn.decomposition import NMF\n",
    "from sklearn.cluster import KMeans\n",
    "from sklearn.mixture import GaussianMixture,BayesianGaussianMixture\n",
    "\n",
    "import pandas as pd\n",
    "\n",
    "import matplotlib.pyplot as plt\n",
    "import matplotlib as mpl\n",
    "mpl.rcParams['image.cmap'] = 'Greys'\n",
    "\n",
    "import seaborn as sns\n",
    "\n",
    "import sys,os,pdb,copy,pickle\n",
    "from importlib import reload\n",
    "import pynapple as nap\n",
    "\n",
    "sys.path.append('/mnt/home/szheng/projects/seq_detection2/code')\n",
    "sys.path.append('/mnt/home/szheng/projects/util_code')\n",
    "sys.path.append('/mnt/home/szheng/projects/nmf_analysis')\n",
    "sys.path.append('/mnt/home/szheng/projects/nmf_analysis/scripts')\n",
    "sys.path.append('/mnt/home/szheng/projects/cluster_spikes')\n",
    "sys.path.append('/mnt/home/szheng/projects/place_variability/code')\n",
    "import data_prep_new as dpn\n",
    "import place_cell_analysis as pa\n",
    "import plot_helper as ph\n",
    "import preprocess as prep\n",
    "import nmf_analysis as na\n",
    "import nmf_plot as nmfp\n",
    "reload(na)\n",
    "\n",
    "import raster_new as rn\n",
    "import data_prep_pyn as dpp\n",
    "import database\n",
    "db = database.db\n",
    "\n",
    "import change_point_analysis as cpa\n",
    "import change_point_plot as cpp\n",
    "\n",
    "import place_field_analysis as pf\n",
    "\n",
    "import switch_analysis_one_session as saos\n",
    "reload(saos)\n",
    "\n",
    "import process_central_arm as pca \n",
    "import change_point_analysis_central_arm_seperate as cpacas\n",
    "\n",
    "import misc\n",
    "reload(misc)\n",
    "from misc import get_nth_key, get_nth_val"
   ]
  },
  {
   "cell_type": "code",
   "execution_count": 2,
   "id": "3150c294",
   "metadata": {},
   "outputs": [
    {
     "name": "stderr",
     "output_type": "stream",
     "text": [
      "/mnt/home/szheng/ceph/envs/jax/lib/python3.9/site-packages/outdated/utils.py:14: OutdatedPackageWarning: The package pingouin is out of date. Your version is 0.5.2, the latest is 0.5.3.\n",
      "Set the environment variable OUTDATED_IGNORE=1 to disable these warnings.\n",
      "  return warn(\n"
     ]
    },
    {
     "name": "stdout",
     "output_type": "stream",
     "text": [
      "load *SessionPulses.Events.mat failed\n"
     ]
    }
   ],
   "source": [
    "# data_dir_full = '/mnt/home/szheng/ceph/ad/roman_data/e15/e15_13f1/e15_13f1_220117/'\n",
    "# data_dir_full = db.query('owner==\"roman\"').sort_values('n_pyr_putative',ascending=False)['data_dir_full'][0] #0\n",
    "\n",
    "# data_dir_full = db.query('sess_name==\"e15_13f1_220119\"')['data_dir_full'][0]\n",
    "data_dir_full = db.query('sess_name==\"e13_26m1_211019\"')['data_dir_full'][0]\n",
    "\n",
    "\n",
    "# load data\n",
    "mat_to_return=prep.load_stuff(data_dir_full,sessionPulses='*SessionPulses.Events.mat')\n",
    "# sessionPulses=mat_to_return['sessionPulses']\n",
    "# filtered = mat_to_return['filtered']\n",
    "behavior=mat_to_return['behavior']\n",
    "# ripples = mat_to_return['ripples']\n",
    "# cell_metrics = mat_to_return['cell_metrics']\n",
    "\n",
    "prep_res = dpp.load_spk_beh_df(data_dir_full,force_reload=False,extra_load={})\n",
    "# prep_res = dpp.load_spk_beh_df(data_dir_full,force_reload=True,extra_load=dict(sessionPulses='*SessionPulses.Events.mat',filtered='*thetaFiltered.lfp.mat'))\n",
    "spk_beh_df=prep_res['spk_beh_df']\n",
    "_,spk_beh_df = dpp.group_into_trialtype(spk_beh_df)\n",
    "# spk_beh_df,_=dpp.add_lin_binned(spk_beh_df,nbins=100)\n",
    "spk_beh_df,_=dpp.add_lin_binned(spk_beh_df,bin_size=2.2,nbins=None)\n",
    "cell_cols_d = prep_res['cell_cols_d']\n",
    "beh_df = prep_res['beh_df']\n",
    "beh_df_d,beh_df=dpp.group_into_trialtype(beh_df)\n",
    "spike_trains = prep_res['spike_trains']\n"
   ]
  },
  {
   "cell_type": "code",
   "execution_count": 3,
   "id": "8f9953ad",
   "metadata": {},
   "outputs": [],
   "source": [
    "import pf_recombine_central as pfrc"
   ]
  },
  {
   "cell_type": "code",
   "execution_count": 4,
   "id": "17a5faf6",
   "metadata": {},
   "outputs": [
    {
     "name": "stdout",
     "output_type": "stream",
     "text": [
      "/mnt/home/szheng/ceph/ad/roman_data/e13/e13_26m1/e13_26m1_211019/py_data/place_field_afterheadscan.p exists; loading---\n"
     ]
    },
    {
     "name": "stderr",
     "output_type": "stream",
     "text": [
      "/mnt/home/szheng/ceph/envs/jax/lib/python3.9/site-packages/scipy/interpolate/_interpolate.py:698: RuntimeWarning: divide by zero encountered in true_divide\n",
      "  slope = (y_hi - y_lo) / (x_hi - x_lo)[:, None]\n",
      "/mnt/home/szheng/ceph/envs/jax/lib/python3.9/site-packages/scipy/interpolate/_interpolate.py:698: RuntimeWarning: divide by zero encountered in true_divide\n",
      "  slope = (y_hi - y_lo) / (x_hi - x_lo)[:, None]\n",
      "/mnt/home/szheng/ceph/envs/jax/lib/python3.9/site-packages/scipy/interpolate/_interpolate.py:698: RuntimeWarning: divide by zero encountered in true_divide\n",
      "  slope = (y_hi - y_lo) / (x_hi - x_lo)[:, None]\n",
      "/mnt/home/szheng/ceph/envs/jax/lib/python3.9/site-packages/scipy/interpolate/_interpolate.py:698: RuntimeWarning: divide by zero encountered in true_divide\n",
      "  slope = (y_hi - y_lo) / (x_hi - x_lo)[:, None]\n",
      "/mnt/home/szheng/ceph/envs/jax/lib/python3.9/site-packages/scipy/interpolate/_interpolate.py:698: RuntimeWarning: divide by zero encountered in true_divide\n",
      "  slope = (y_hi - y_lo) / (x_hi - x_lo)[:, None]\n"
     ]
    },
    {
     "name": "stdout",
     "output_type": "stream",
     "text": [
      "saved at /mnt/home/szheng/ceph/ad/roman_data/e13/e13_26m1/e13_26m1_211019/py_data/place_field_afterheadscan_recombine.p\n"
     ]
    }
   ],
   "source": [
    "pf_res = pfrc.main(data_dir_full)"
   ]
  },
  {
   "cell_type": "code",
   "execution_count": 5,
   "id": "371bca97",
   "metadata": {},
   "outputs": [],
   "source": [
    "fr_peak = pf_res['params_recombined'].loc['fr_peak']"
   ]
  },
  {
   "cell_type": "code",
   "execution_count": 6,
   "id": "5af27a9e",
   "metadata": {},
   "outputs": [],
   "source": [
    "import test_change_point as tcp"
   ]
  },
  {
   "cell_type": "code",
   "execution_count": 7,
   "id": "390d0a94",
   "metadata": {},
   "outputs": [],
   "source": [
    "signal = fr_peak.iloc[0].dropna().values"
   ]
  },
  {
   "cell_type": "code",
   "execution_count": 8,
   "id": "2b649aeb",
   "metadata": {},
   "outputs": [
    {
     "data": {
      "text/plain": [
       "[<matplotlib.lines.Line2D at 0x1554efd8bca0>]"
      ]
     },
     "execution_count": 8,
     "metadata": {},
     "output_type": "execute_result"
    },
    {
     "data": {
      "image/png": "[encoded data removed]",
      "text/plain": [
       "<Figure size 432x288 with 1 Axes>"
      ]
     },
     "metadata": {
      "needs_background": "light"
     },
     "output_type": "display_data"
    }
   ],
   "source": [
    "plt.plot(signal)"
   ]
  },
  {
   "cell_type": "code",
   "execution_count": 9,
   "id": "74aa82ab",
   "metadata": {
    "scrolled": true
   },
   "outputs": [
    {
     "data": {
      "text/plain": [
       "pval                     0.005000\n",
       "exp_var_ratio            0.526892\n",
       "exp_var_ratio_sh_med     0.124986\n",
       "exp_var_ratio_sh_high    0.335896\n",
       "exp_var_ratio_sh_low     0.040670\n",
       "dtype: float64"
      ]
     },
     "execution_count": 9,
     "metadata": {},
     "output_type": "execute_result"
    }
   ],
   "source": [
    "tcp.test_contiguity(signal,n_shuffle=200,sig_thresh=0.05,n_change_pts=1)"
   ]
  },
  {
   "cell_type": "code",
   "execution_count": 11,
   "id": "035ed3a4",
   "metadata": {},
   "outputs": [
    {
     "name": "stdout",
     "output_type": "stream",
     "text": [
      "INFO: Pandarallel will run on 40 workers.\n",
      "INFO: Pandarallel will use standard multiprocessing data transfer (pipe) to transfer data between the main process and workers.\n"
     ]
    },
    {
     "data": {
      "application/vnd.jupyter.widget-view+json": {
       "model_id": "b1918f3fc31443f0960834dfc54606dd",
       "version_major": 2,
       "version_minor": 0
      },
      "text/plain": [
       "VBox(children=(HBox(children=(IntProgress(value=0, description='0.00%', max=21), Label(value='0 / 21'))), HBox…"
      ]
     },
     "metadata": {},
     "output_type": "display_data"
    }
   ],
   "source": [
    "reload(tcp)\n",
    "X = fr_peak\n",
    "res=tcp.test_contiguity_allrows(X,n_shuffle=20,sig_thresh=0.05,n_change_pts=1,min_size=2)"
   ]
  },
  {
   "cell_type": "code",
   "execution_count": 13,
   "id": "ab3bfb28",
   "metadata": {
    "scrolled": true
   },
   "outputs": [
    {
     "name": "stdout",
     "output_type": "stream",
     "text": [
      "INFO: Pandarallel will run on 40 workers.\n",
      "INFO: Pandarallel will use standard multiprocessing data transfer (pipe) to transfer data between the main process and workers.\n"
     ]
    },
    {
     "data": {
      "application/vnd.jupyter.widget-view+json": {
       "model_id": "d6150ff7d8804dfd9461fca7df226129",
       "version_major": 2,
       "version_minor": 0
      },
      "text/plain": [
       "VBox(children=(HBox(children=(IntProgress(value=0, description='0.00%', max=6), Label(value='0 / 6'))), HBox(c…"
      ]
     },
     "metadata": {},
     "output_type": "display_data"
    },
    {
     "name": "stdout",
     "output_type": "stream",
     "text": [
      "INFO: Pandarallel will run on 40 workers.\n",
      "INFO: Pandarallel will use standard multiprocessing data transfer (pipe) to transfer data between the main process and workers.\n"
     ]
    },
    {
     "data": {
      "application/vnd.jupyter.widget-view+json": {
       "model_id": "922cab9fb7994f759da7562972151e7b",
       "version_major": 2,
       "version_minor": 0
      },
      "text/plain": [
       "VBox(children=(HBox(children=(IntProgress(value=0, description='0.00%', max=6), Label(value='0 / 6'))), HBox(c…"
      ]
     },
     "metadata": {},
     "output_type": "display_data"
    },
    {
     "name": "stdout",
     "output_type": "stream",
     "text": [
      "INFO: Pandarallel will run on 40 workers.\n",
      "INFO: Pandarallel will use standard multiprocessing data transfer (pipe) to transfer data between the main process and workers.\n"
     ]
    },
    {
     "data": {
      "application/vnd.jupyter.widget-view+json": {
       "model_id": "135db31592334d3d9f86461caa72dc5d",
       "version_major": 2,
       "version_minor": 0
      },
      "text/plain": [
       "VBox(children=(HBox(children=(IntProgress(value=0, description='0.00%', max=5), Label(value='0 / 5'))), HBox(c…"
      ]
     },
     "metadata": {},
     "output_type": "display_data"
    },
    {
     "name": "stdout",
     "output_type": "stream",
     "text": [
      "INFO: Pandarallel will run on 40 workers.\n",
      "INFO: Pandarallel will use standard multiprocessing data transfer (pipe) to transfer data between the main process and workers.\n"
     ]
    },
    {
     "data": {
      "application/vnd.jupyter.widget-view+json": {
       "model_id": "e226edbdcbbb42a687f3755f47d375ac",
       "version_major": 2,
       "version_minor": 0
      },
      "text/plain": [
       "VBox(children=(HBox(children=(IntProgress(value=0, description='0.00%', max=5), Label(value='0 / 5'))), HBox(c…"
      ]
     },
     "metadata": {},
     "output_type": "display_data"
    },
    {
     "name": "stdout",
     "output_type": "stream",
     "text": [
      "INFO: Pandarallel will run on 40 workers.\n",
      "INFO: Pandarallel will use standard multiprocessing data transfer (pipe) to transfer data between the main process and workers.\n"
     ]
    },
    {
     "data": {
      "application/vnd.jupyter.widget-view+json": {
       "model_id": "939354e5b5eb47d18626e2c11c2e6f0e",
       "version_major": 2,
       "version_minor": 0
      },
      "text/plain": [
       "VBox(children=(HBox(children=(IntProgress(value=0, description='0.00%', max=2), Label(value='0 / 2'))), HBox(c…"
      ]
     },
     "metadata": {},
     "output_type": "display_data"
    },
    {
     "name": "stdout",
     "output_type": "stream",
     "text": [
      "INFO: Pandarallel will run on 40 workers.\n",
      "INFO: Pandarallel will use standard multiprocessing data transfer (pipe) to transfer data between the main process and workers.\n"
     ]
    },
    {
     "data": {
      "application/vnd.jupyter.widget-view+json": {
       "model_id": "703fffa7f962420a9170d023cda2aab8",
       "version_major": 2,
       "version_minor": 0
      },
      "text/plain": [
       "VBox(children=(HBox(children=(IntProgress(value=0, description='0.00%', max=2), Label(value='0 / 2'))), HBox(c…"
      ]
     },
     "metadata": {},
     "output_type": "display_data"
    },
    {
     "name": "stdout",
     "output_type": "stream",
     "text": [
      "INFO: Pandarallel will run on 40 workers.\n",
      "INFO: Pandarallel will use standard multiprocessing data transfer (pipe) to transfer data between the main process and workers.\n"
     ]
    },
    {
     "data": {
      "application/vnd.jupyter.widget-view+json": {
       "model_id": "44728553b7ee4e3e91626decc22329ef",
       "version_major": 2,
       "version_minor": 0
      },
      "text/plain": [
       "VBox(children=(HBox(children=(IntProgress(value=0, description='0.00%', max=5), Label(value='0 / 5'))), HBox(c…"
      ]
     },
     "metadata": {},
     "output_type": "display_data"
    },
    {
     "name": "stdout",
     "output_type": "stream",
     "text": [
      "INFO: Pandarallel will run on 40 workers.\n",
      "INFO: Pandarallel will use standard multiprocessing data transfer (pipe) to transfer data between the main process and workers.\n"
     ]
    },
    {
     "data": {
      "application/vnd.jupyter.widget-view+json": {
       "model_id": "bfda31ee97dd4de9b9d647d5a645ce8c",
       "version_major": 2,
       "version_minor": 0
      },
      "text/plain": [
       "VBox(children=(HBox(children=(IntProgress(value=0, description='0.00%', max=5), Label(value='0 / 5'))), HBox(c…"
      ]
     },
     "metadata": {},
     "output_type": "display_data"
    },
    {
     "name": "stdout",
     "output_type": "stream",
     "text": [
      "INFO: Pandarallel will run on 40 workers.\n",
      "INFO: Pandarallel will use standard multiprocessing data transfer (pipe) to transfer data between the main process and workers.\n"
     ]
    },
    {
     "data": {
      "application/vnd.jupyter.widget-view+json": {
       "model_id": "9a7e9268fec44204ae969c3a8d8166b4",
       "version_major": 2,
       "version_minor": 0
      },
      "text/plain": [
       "VBox(children=(HBox(children=(IntProgress(value=0, description='0.00%', max=4), Label(value='0 / 4'))), HBox(c…"
      ]
     },
     "metadata": {},
     "output_type": "display_data"
    },
    {
     "name": "stdout",
     "output_type": "stream",
     "text": [
      "INFO: Pandarallel will run on 40 workers.\n",
      "INFO: Pandarallel will use standard multiprocessing data transfer (pipe) to transfer data between the main process and workers.\n"
     ]
    },
    {
     "data": {
      "application/vnd.jupyter.widget-view+json": {
       "model_id": "8a9053fc915d4b0ca0b552c604055f26",
       "version_major": 2,
       "version_minor": 0
      },
      "text/plain": [
       "VBox(children=(HBox(children=(IntProgress(value=0, description='0.00%', max=4), Label(value='0 / 4'))), HBox(c…"
      ]
     },
     "metadata": {},
     "output_type": "display_data"
    },
    {
     "name": "stdout",
     "output_type": "stream",
     "text": [
      "INFO: Pandarallel will run on 40 workers.\n",
      "INFO: Pandarallel will use standard multiprocessing data transfer (pipe) to transfer data between the main process and workers.\n"
     ]
    },
    {
     "data": {
      "application/vnd.jupyter.widget-view+json": {
       "model_id": "399f2cc2cc43487cb04b6175ae65011b",
       "version_major": 2,
       "version_minor": 0
      },
      "text/plain": [
       "VBox(children=(HBox(children=(IntProgress(value=0, description='0.00%', max=1), Label(value='0 / 1'))), HBox(c…"
      ]
     },
     "metadata": {},
     "output_type": "display_data"
    },
    {
     "name": "stdout",
     "output_type": "stream",
     "text": [
      "INFO: Pandarallel will run on 40 workers.\n",
      "INFO: Pandarallel will use standard multiprocessing data transfer (pipe) to transfer data between the main process and workers.\n"
     ]
    },
    {
     "data": {
      "application/vnd.jupyter.widget-view+json": {
       "model_id": "682fa2e6ad3a4d2b931b07ceff768ec4",
       "version_major": 2,
       "version_minor": 0
      },
      "text/plain": [
       "VBox(children=(HBox(children=(IntProgress(value=0, description='0.00%', max=1), Label(value='0 / 1'))), HBox(c…"
      ]
     },
     "metadata": {},
     "output_type": "display_data"
    }
   ],
   "source": [
    "res=tcp.test_contiguity_multi_n_change_pts(X,n_shuffle=20,n_change_pts_l=None,n_change_pts_max_MAX=2,min_size=2)"
   ]
  },
  {
   "cell_type": "code",
   "execution_count": 26,
   "id": "2e500a9c",
   "metadata": {},
   "outputs": [
    {
     "data": {
      "text/plain": [
       "<module 'test_change_point' from '/mnt/home/szheng/projects/place_variability/code/test_change_point.py'>"
      ]
     },
     "execution_count": 26,
     "metadata": {},
     "output_type": "execute_result"
    }
   ],
   "source": [
    "reload(tcp)"
   ]
  },
  {
   "cell_type": "code",
   "execution_count": 27,
   "id": "15bad0c8",
   "metadata": {
    "scrolled": true
   },
   "outputs": [],
   "source": [
    "best_n = res.apply(tcp.get_n_cpd,axis=1)"
   ]
  },
  {
   "cell_type": "code",
   "execution_count": 29,
   "id": "1fbdeec8",
   "metadata": {
    "collapsed": true
   },
   "outputs": [
    {
     "name": "stdout",
     "output_type": "stream",
     "text": [
      "INFO: Pandarallel will run on 40 workers.\n",
      "INFO: Pandarallel will use standard multiprocessing data transfer (pipe) to transfer data between the main process and workers.\n"
     ]
    },
    {
     "data": {
      "application/vnd.jupyter.widget-view+json": {
       "model_id": "7ee03a147fc948c48a5133f6ecaf1412",
       "version_major": 2,
       "version_minor": 0
      },
      "text/plain": [
       "VBox(children=(HBox(children=(IntProgress(value=0, description='0.00%', max=6), Label(value='0 / 6'))), HBox(c…"
      ]
     },
     "metadata": {},
     "output_type": "display_data"
    },
    {
     "name": "stdout",
     "output_type": "stream",
     "text": [
      "INFO: Pandarallel will run on 40 workers.\n",
      "INFO: Pandarallel will use standard multiprocessing data transfer (pipe) to transfer data between the main process and workers.\n"
     ]
    },
    {
     "data": {
      "application/vnd.jupyter.widget-view+json": {
       "model_id": "29f47b72fe8349ce8aac7a97c33935c3",
       "version_major": 2,
       "version_minor": 0
      },
      "text/plain": [
       "VBox(children=(HBox(children=(IntProgress(value=0, description='0.00%', max=6), Label(value='0 / 6'))), HBox(c…"
      ]
     },
     "metadata": {},
     "output_type": "display_data"
    },
    {
     "name": "stdout",
     "output_type": "stream",
     "text": [
      "INFO: Pandarallel will run on 40 workers.\n",
      "INFO: Pandarallel will use standard multiprocessing data transfer (pipe) to transfer data between the main process and workers.\n"
     ]
    },
    {
     "data": {
      "application/vnd.jupyter.widget-view+json": {
       "model_id": "3497354547af4e5dbcaeef6a6c3024ec",
       "version_major": 2,
       "version_minor": 0
      },
      "text/plain": [
       "VBox(children=(HBox(children=(IntProgress(value=0, description='0.00%', max=5), Label(value='0 / 5'))), HBox(c…"
      ]
     },
     "metadata": {},
     "output_type": "display_data"
    },
    {
     "name": "stdout",
     "output_type": "stream",
     "text": [
      "INFO: Pandarallel will run on 40 workers.\n",
      "INFO: Pandarallel will use standard multiprocessing data transfer (pipe) to transfer data between the main process and workers.\n"
     ]
    },
    {
     "data": {
      "application/vnd.jupyter.widget-view+json": {
       "model_id": "6b18c372d5cb4db1aa7983bad6b03747",
       "version_major": 2,
       "version_minor": 0
      },
      "text/plain": [
       "VBox(children=(HBox(children=(IntProgress(value=0, description='0.00%', max=5), Label(value='0 / 5'))), HBox(c…"
      ]
     },
     "metadata": {},
     "output_type": "display_data"
    },
    {
     "name": "stdout",
     "output_type": "stream",
     "text": [
      "INFO: Pandarallel will run on 40 workers.\n",
      "INFO: Pandarallel will use standard multiprocessing data transfer (pipe) to transfer data between the main process and workers.\n"
     ]
    },
    {
     "data": {
      "application/vnd.jupyter.widget-view+json": {
       "model_id": "3a48047f03544c8cb6a92b0cdb1a5e5d",
       "version_major": 2,
       "version_minor": 0
      },
      "text/plain": [
       "VBox(children=(HBox(children=(IntProgress(value=0, description='0.00%', max=2), Label(value='0 / 2'))), HBox(c…"
      ]
     },
     "metadata": {},
     "output_type": "display_data"
    },
    {
     "name": "stdout",
     "output_type": "stream",
     "text": [
      "INFO: Pandarallel will run on 40 workers.\n",
      "INFO: Pandarallel will use standard multiprocessing data transfer (pipe) to transfer data between the main process and workers.\n"
     ]
    },
    {
     "data": {
      "application/vnd.jupyter.widget-view+json": {
       "model_id": "d86d9563e2e64771a6e01cec224a31cf",
       "version_major": 2,
       "version_minor": 0
      },
      "text/plain": [
       "VBox(children=(HBox(children=(IntProgress(value=0, description='0.00%', max=2), Label(value='0 / 2'))), HBox(c…"
      ]
     },
     "metadata": {},
     "output_type": "display_data"
    },
    {
     "name": "stdout",
     "output_type": "stream",
     "text": [
      "INFO: Pandarallel will run on 40 workers.\n",
      "INFO: Pandarallel will use standard multiprocessing data transfer (pipe) to transfer data between the main process and workers.\n"
     ]
    },
    {
     "data": {
      "application/vnd.jupyter.widget-view+json": {
       "model_id": "607c4a51ada14704900c5ccec6542370",
       "version_major": 2,
       "version_minor": 0
      },
      "text/plain": [
       "VBox(children=(HBox(children=(IntProgress(value=0, description='0.00%', max=5), Label(value='0 / 5'))), HBox(c…"
      ]
     },
     "metadata": {},
     "output_type": "display_data"
    },
    {
     "name": "stdout",
     "output_type": "stream",
     "text": [
      "INFO: Pandarallel will run on 40 workers.\n",
      "INFO: Pandarallel will use standard multiprocessing data transfer (pipe) to transfer data between the main process and workers.\n"
     ]
    },
    {
     "data": {
      "application/vnd.jupyter.widget-view+json": {
       "model_id": "a6d89ca53cb946a29a19304a014102da",
       "version_major": 2,
       "version_minor": 0
      },
      "text/plain": [
       "VBox(children=(HBox(children=(IntProgress(value=0, description='0.00%', max=5), Label(value='0 / 5'))), HBox(c…"
      ]
     },
     "metadata": {},
     "output_type": "display_data"
    },
    {
     "name": "stdout",
     "output_type": "stream",
     "text": [
      "INFO: Pandarallel will run on 40 workers.\n",
      "INFO: Pandarallel will use standard multiprocessing data transfer (pipe) to transfer data between the main process and workers.\n"
     ]
    },
    {
     "data": {
      "application/vnd.jupyter.widget-view+json": {
       "model_id": "7b1b675a7e0e469a8273bc2b235817a8",
       "version_major": 2,
       "version_minor": 0
      },
      "text/plain": [
       "VBox(children=(HBox(children=(IntProgress(value=0, description='0.00%', max=4), Label(value='0 / 4'))), HBox(c…"
      ]
     },
     "metadata": {},
     "output_type": "display_data"
    },
    {
     "name": "stdout",
     "output_type": "stream",
     "text": [
      "INFO: Pandarallel will run on 40 workers.\n",
      "INFO: Pandarallel will use standard multiprocessing data transfer (pipe) to transfer data between the main process and workers.\n"
     ]
    },
    {
     "data": {
      "application/vnd.jupyter.widget-view+json": {
       "model_id": "c4c0b37ae92c4354aaf503c951ede3c9",
       "version_major": 2,
       "version_minor": 0
      },
      "text/plain": [
       "VBox(children=(HBox(children=(IntProgress(value=0, description='0.00%', max=4), Label(value='0 / 4'))), HBox(c…"
      ]
     },
     "metadata": {},
     "output_type": "display_data"
    },
    {
     "name": "stdout",
     "output_type": "stream",
     "text": [
      "INFO: Pandarallel will run on 40 workers.\n",
      "INFO: Pandarallel will use standard multiprocessing data transfer (pipe) to transfer data between the main process and workers.\n"
     ]
    },
    {
     "data": {
      "application/vnd.jupyter.widget-view+json": {
       "model_id": "33b04a2370374390b0721b6265e94079",
       "version_major": 2,
       "version_minor": 0
      },
      "text/plain": [
       "VBox(children=(HBox(children=(IntProgress(value=0, description='0.00%', max=1), Label(value='0 / 1'))), HBox(c…"
      ]
     },
     "metadata": {},
     "output_type": "display_data"
    },
    {
     "name": "stdout",
     "output_type": "stream",
     "text": [
      "INFO: Pandarallel will run on 40 workers.\n",
      "INFO: Pandarallel will use standard multiprocessing data transfer (pipe) to transfer data between the main process and workers.\n"
     ]
    },
    {
     "data": {
      "application/vnd.jupyter.widget-view+json": {
       "model_id": "440637d1d4804affbed01d2813de9295",
       "version_major": 2,
       "version_minor": 0
      },
      "text/plain": [
       "VBox(children=(HBox(children=(IntProgress(value=0, description='0.00%', max=1), Label(value='0 / 1'))), HBox(c…"
      ]
     },
     "metadata": {},
     "output_type": "display_data"
    }
   ],
   "source": [
    "res=tcp.detect_switch_all_steps(X,n_shuffle=10,n_change_pts_max_MAX=2,min_size=2)"
   ]
  },
  {
   "cell_type": "code",
   "execution_count": 47,
   "id": "25b1513f",
   "metadata": {},
   "outputs": [
    {
     "data": {
      "text/plain": [
       "array([[1.        , 0.60653802],\n",
       "       [0.60653802, 1.        ]])"
      ]
     },
     "execution_count": 47,
     "metadata": {},
     "output_type": "execute_result"
    }
   ],
   "source": [
    "np.corrcoef(res['var_res']['tot_var'],res['var_res']['mean'])"
   ]
  },
  {
   "cell_type": "code",
   "execution_count": 40,
   "id": "c731e8ec",
   "metadata": {},
   "outputs": [
    {
     "data": {
      "text/html": [
       "<div>\n",
       "<style scoped>\n",
       "    .dataframe tbody tr th:only-of-type {\n",
       "        vertical-align: middle;\n",
       "    }\n",
       "\n",
       "    .dataframe tbody tr th {\n",
       "        vertical-align: top;\n",
       "    }\n",
       "\n",
       "    .dataframe thead th {\n",
       "        text-align: right;\n",
       "    }\n",
       "</style>\n",
       "<table border=\"1\" class=\"dataframe\">\n",
       "  <thead>\n",
       "    <tr style=\"text-align: right;\">\n",
       "      <th></th>\n",
       "      <th>tot_var</th>\n",
       "      <th>mean</th>\n",
       "      <th>fit_var</th>\n",
       "      <th>resid2_mean</th>\n",
       "      <th>fit_var_ratio</th>\n",
       "      <th>resid2_mean_ratio</th>\n",
       "      <th>tot_var_norm</th>\n",
       "      <th>fit_var_norm</th>\n",
       "      <th>resid2_mean_norm</th>\n",
       "    </tr>\n",
       "  </thead>\n",
       "  <tbody>\n",
       "    <tr>\n",
       "      <th>tot_var</th>\n",
       "      <td>1.000000</td>\n",
       "      <td>0.606538</td>\n",
       "      <td>0.699808</td>\n",
       "      <td>0.835797</td>\n",
       "      <td>0.179734</td>\n",
       "      <td>-0.179734</td>\n",
       "      <td>0.659862</td>\n",
       "      <td>0.454899</td>\n",
       "      <td>0.489971</td>\n",
       "    </tr>\n",
       "    <tr>\n",
       "      <th>mean</th>\n",
       "      <td>0.606538</td>\n",
       "      <td>1.000000</td>\n",
       "      <td>0.327917</td>\n",
       "      <td>0.581146</td>\n",
       "      <td>0.021997</td>\n",
       "      <td>-0.021997</td>\n",
       "      <td>0.033006</td>\n",
       "      <td>0.020363</td>\n",
       "      <td>0.026733</td>\n",
       "    </tr>\n",
       "    <tr>\n",
       "      <th>fit_var</th>\n",
       "      <td>0.699808</td>\n",
       "      <td>0.327917</td>\n",
       "      <td>1.000000</td>\n",
       "      <td>0.192702</td>\n",
       "      <td>0.562080</td>\n",
       "      <td>-0.562080</td>\n",
       "      <td>0.543173</td>\n",
       "      <td>0.782787</td>\n",
       "      <td>0.023461</td>\n",
       "    </tr>\n",
       "    <tr>\n",
       "      <th>resid2_mean</th>\n",
       "      <td>0.835797</td>\n",
       "      <td>0.581146</td>\n",
       "      <td>0.192702</td>\n",
       "      <td>1.000000</td>\n",
       "      <td>-0.185123</td>\n",
       "      <td>0.185123</td>\n",
       "      <td>0.488949</td>\n",
       "      <td>0.023228</td>\n",
       "      <td>0.655028</td>\n",
       "    </tr>\n",
       "    <tr>\n",
       "      <th>fit_var_ratio</th>\n",
       "      <td>0.179734</td>\n",
       "      <td>0.021997</td>\n",
       "      <td>0.562080</td>\n",
       "      <td>-0.185123</td>\n",
       "      <td>1.000000</td>\n",
       "      <td>-1.000000</td>\n",
       "      <td>0.254018</td>\n",
       "      <td>0.705448</td>\n",
       "      <td>-0.304743</td>\n",
       "    </tr>\n",
       "    <tr>\n",
       "      <th>resid2_mean_ratio</th>\n",
       "      <td>-0.179734</td>\n",
       "      <td>-0.021997</td>\n",
       "      <td>-0.562080</td>\n",
       "      <td>0.185123</td>\n",
       "      <td>-1.000000</td>\n",
       "      <td>1.000000</td>\n",
       "      <td>-0.254018</td>\n",
       "      <td>-0.705448</td>\n",
       "      <td>0.304743</td>\n",
       "    </tr>\n",
       "    <tr>\n",
       "      <th>tot_var_norm</th>\n",
       "      <td>0.659862</td>\n",
       "      <td>0.033006</td>\n",
       "      <td>0.543173</td>\n",
       "      <td>0.488949</td>\n",
       "      <td>0.254018</td>\n",
       "      <td>-0.254018</td>\n",
       "      <td>1.000000</td>\n",
       "      <td>0.691518</td>\n",
       "      <td>0.740551</td>\n",
       "    </tr>\n",
       "    <tr>\n",
       "      <th>fit_var_norm</th>\n",
       "      <td>0.454899</td>\n",
       "      <td>0.020363</td>\n",
       "      <td>0.782787</td>\n",
       "      <td>0.023228</td>\n",
       "      <td>0.705448</td>\n",
       "      <td>-0.705448</td>\n",
       "      <td>0.691518</td>\n",
       "      <td>1.000000</td>\n",
       "      <td>0.026679</td>\n",
       "    </tr>\n",
       "    <tr>\n",
       "      <th>resid2_mean_norm</th>\n",
       "      <td>0.489971</td>\n",
       "      <td>0.026733</td>\n",
       "      <td>0.023461</td>\n",
       "      <td>0.655028</td>\n",
       "      <td>-0.304743</td>\n",
       "      <td>0.304743</td>\n",
       "      <td>0.740551</td>\n",
       "      <td>0.026679</td>\n",
       "      <td>1.000000</td>\n",
       "    </tr>\n",
       "  </tbody>\n",
       "</table>\n",
       "</div>"
      ],
      "text/plain": [
       "                    tot_var      mean   fit_var  resid2_mean  fit_var_ratio  \\\n",
       "tot_var            1.000000  0.606538  0.699808     0.835797       0.179734   \n",
       "mean               0.606538  1.000000  0.327917     0.581146       0.021997   \n",
       "fit_var            0.699808  0.327917  1.000000     0.192702       0.562080   \n",
       "resid2_mean        0.835797  0.581146  0.192702     1.000000      -0.185123   \n",
       "fit_var_ratio      0.179734  0.021997  0.562080    -0.185123       1.000000   \n",
       "resid2_mean_ratio -0.179734 -0.021997 -0.562080     0.185123      -1.000000   \n",
       "tot_var_norm       0.659862  0.033006  0.543173     0.488949       0.254018   \n",
       "fit_var_norm       0.454899  0.020363  0.782787     0.023228       0.705448   \n",
       "resid2_mean_norm   0.489971  0.026733  0.023461     0.655028      -0.304743   \n",
       "\n",
       "                   resid2_mean_ratio  tot_var_norm  fit_var_norm  \\\n",
       "tot_var                    -0.179734      0.659862      0.454899   \n",
       "mean                       -0.021997      0.033006      0.020363   \n",
       "fit_var                    -0.562080      0.543173      0.782787   \n",
       "resid2_mean                 0.185123      0.488949      0.023228   \n",
       "fit_var_ratio              -1.000000      0.254018      0.705448   \n",
       "resid2_mean_ratio           1.000000     -0.254018     -0.705448   \n",
       "tot_var_norm               -0.254018      1.000000      0.691518   \n",
       "fit_var_norm               -0.705448      0.691518      1.000000   \n",
       "resid2_mean_norm            0.304743      0.740551      0.026679   \n",
       "\n",
       "                   resid2_mean_norm  \n",
       "tot_var                    0.489971  \n",
       "mean                       0.026733  \n",
       "fit_var                    0.023461  \n",
       "resid2_mean                0.655028  \n",
       "fit_var_ratio             -0.304743  \n",
       "resid2_mean_ratio          0.304743  \n",
       "tot_var_norm               0.740551  \n",
       "fit_var_norm               0.026679  \n",
       "resid2_mean_norm           1.000000  "
      ]
     },
     "execution_count": 40,
     "metadata": {},
     "output_type": "execute_result"
    }
   ],
   "source": [
    "res['var_res'].corr()"
   ]
  },
  {
   "cell_type": "code",
   "execution_count": 37,
   "id": "326f7114",
   "metadata": {},
   "outputs": [
    {
     "data": {
      "text/html": [
       "<div>\n",
       "<style scoped>\n",
       "    .dataframe tbody tr th:only-of-type {\n",
       "        vertical-align: middle;\n",
       "    }\n",
       "\n",
       "    .dataframe tbody tr th {\n",
       "        vertical-align: top;\n",
       "    }\n",
       "\n",
       "    .dataframe thead th {\n",
       "        text-align: right;\n",
       "    }\n",
       "</style>\n",
       "<table border=\"1\" class=\"dataframe\">\n",
       "  <thead>\n",
       "    <tr style=\"text-align: right;\">\n",
       "      <th></th>\n",
       "      <th></th>\n",
       "      <th>tot_var</th>\n",
       "      <th>mean</th>\n",
       "      <th>fit_var</th>\n",
       "      <th>resid2_mean</th>\n",
       "      <th>fit_var_ratio</th>\n",
       "      <th>resid2_mean_ratio</th>\n",
       "      <th>tot_var_norm</th>\n",
       "      <th>fit_var_norm</th>\n",
       "      <th>resid2_mean_norm</th>\n",
       "    </tr>\n",
       "  </thead>\n",
       "  <tbody>\n",
       "    <tr>\n",
       "      <th rowspan=\"9\" valign=\"top\">0</th>\n",
       "      <th>tot_var</th>\n",
       "      <td>-</td>\n",
       "      <td>0.000</td>\n",
       "      <td>0.000</td>\n",
       "      <td>0.000</td>\n",
       "      <td>0.000</td>\n",
       "      <td>0.000</td>\n",
       "      <td>0.000</td>\n",
       "      <td>0.000</td>\n",
       "      <td>0.000</td>\n",
       "    </tr>\n",
       "    <tr>\n",
       "      <th>mean</th>\n",
       "      <td>0.622</td>\n",
       "      <td>-</td>\n",
       "      <td>0.000</td>\n",
       "      <td>0.000</td>\n",
       "      <td>0.065</td>\n",
       "      <td>0.065</td>\n",
       "      <td>0.240</td>\n",
       "      <td>0.026</td>\n",
       "      <td>0.833</td>\n",
       "    </tr>\n",
       "    <tr>\n",
       "      <th>fit_var</th>\n",
       "      <td>0.713</td>\n",
       "      <td>0.326</td>\n",
       "      <td>-</td>\n",
       "      <td>0.000</td>\n",
       "      <td>0.000</td>\n",
       "      <td>0.000</td>\n",
       "      <td>0.000</td>\n",
       "      <td>0.000</td>\n",
       "      <td>0.854</td>\n",
       "    </tr>\n",
       "    <tr>\n",
       "      <th>resid2_mean</th>\n",
       "      <td>0.819</td>\n",
       "      <td>0.606</td>\n",
       "      <td>0.183</td>\n",
       "      <td>-</td>\n",
       "      <td>0.002</td>\n",
       "      <td>0.002</td>\n",
       "      <td>0.000</td>\n",
       "      <td>0.217</td>\n",
       "      <td>0.000</td>\n",
       "    </tr>\n",
       "    <tr>\n",
       "      <th>fit_var_ratio</th>\n",
       "      <td>0.227</td>\n",
       "      <td>0.087</td>\n",
       "      <td>0.568</td>\n",
       "      <td>-0.146</td>\n",
       "      <td>-</td>\n",
       "      <td>0.</td>\n",
       "      <td>0.000</td>\n",
       "      <td>0.000</td>\n",
       "      <td>0.000</td>\n",
       "    </tr>\n",
       "    <tr>\n",
       "      <th>resid2_mean_ratio</th>\n",
       "      <td>-0.227</td>\n",
       "      <td>-0.087</td>\n",
       "      <td>-0.568</td>\n",
       "      <td>0.146</td>\n",
       "      <td>-1.0</td>\n",
       "      <td>-</td>\n",
       "      <td>0.000</td>\n",
       "      <td>0.000</td>\n",
       "      <td>0.000</td>\n",
       "    </tr>\n",
       "    <tr>\n",
       "      <th>tot_var_norm</th>\n",
       "      <td>0.679</td>\n",
       "      <td>0.055</td>\n",
       "      <td>0.52</td>\n",
       "      <td>0.526</td>\n",
       "      <td>0.208</td>\n",
       "      <td>-0.208</td>\n",
       "      <td>-</td>\n",
       "      <td>0.000</td>\n",
       "      <td>0.000</td>\n",
       "    </tr>\n",
       "    <tr>\n",
       "      <th>fit_var_norm</th>\n",
       "      <td>0.549</td>\n",
       "      <td>0.105</td>\n",
       "      <td>0.87</td>\n",
       "      <td>0.058</td>\n",
       "      <td>0.736</td>\n",
       "      <td>-0.736</td>\n",
       "      <td>0.584</td>\n",
       "      <td>-</td>\n",
       "      <td>0.581</td>\n",
       "    </tr>\n",
       "    <tr>\n",
       "      <th>resid2_mean_norm</th>\n",
       "      <td>0.426</td>\n",
       "      <td>-0.01</td>\n",
       "      <td>-0.009</td>\n",
       "      <td>0.605</td>\n",
       "      <td>-0.293</td>\n",
       "      <td>0.293</td>\n",
       "      <td>0.796</td>\n",
       "      <td>-0.026</td>\n",
       "      <td>-</td>\n",
       "    </tr>\n",
       "    <tr>\n",
       "      <th rowspan=\"9\" valign=\"top\">1</th>\n",
       "      <th>tot_var</th>\n",
       "      <td>-</td>\n",
       "      <td>0.000</td>\n",
       "      <td>0.000</td>\n",
       "      <td>0.000</td>\n",
       "      <td>0.019</td>\n",
       "      <td>0.019</td>\n",
       "      <td>0.000</td>\n",
       "      <td>0.000</td>\n",
       "      <td>0.000</td>\n",
       "    </tr>\n",
       "    <tr>\n",
       "      <th>mean</th>\n",
       "      <td>0.631</td>\n",
       "      <td>-</td>\n",
       "      <td>0.000</td>\n",
       "      <td>0.000</td>\n",
       "      <td>0.769</td>\n",
       "      <td>0.769</td>\n",
       "      <td>0.143</td>\n",
       "      <td>0.989</td>\n",
       "      <td>0.029</td>\n",
       "    </tr>\n",
       "    <tr>\n",
       "      <th>fit_var</th>\n",
       "      <td>0.684</td>\n",
       "      <td>0.369</td>\n",
       "      <td>-</td>\n",
       "      <td>0.000</td>\n",
       "      <td>0.000</td>\n",
       "      <td>0.000</td>\n",
       "      <td>0.000</td>\n",
       "      <td>0.000</td>\n",
       "      <td>0.361</td>\n",
       "    </tr>\n",
       "    <tr>\n",
       "      <th>resid2_mean</th>\n",
       "      <td>0.855</td>\n",
       "      <td>0.583</td>\n",
       "      <td>0.206</td>\n",
       "      <td>-</td>\n",
       "      <td>0.000</td>\n",
       "      <td>0.000</td>\n",
       "      <td>0.000</td>\n",
       "      <td>0.97</td>\n",
       "      <td>0.000</td>\n",
       "    </tr>\n",
       "    <tr>\n",
       "      <th>fit_var_ratio</th>\n",
       "      <td>0.125</td>\n",
       "      <td>-0.016</td>\n",
       "      <td>0.557</td>\n",
       "      <td>-0.229</td>\n",
       "      <td>-</td>\n",
       "      <td>0.</td>\n",
       "      <td>0.000</td>\n",
       "      <td>0.000</td>\n",
       "      <td>0.000</td>\n",
       "    </tr>\n",
       "    <tr>\n",
       "      <th>resid2_mean_ratio</th>\n",
       "      <td>-0.125</td>\n",
       "      <td>0.016</td>\n",
       "      <td>-0.557</td>\n",
       "      <td>0.229</td>\n",
       "      <td>-1.0</td>\n",
       "      <td>-</td>\n",
       "      <td>0.000</td>\n",
       "      <td>0.000</td>\n",
       "      <td>0.000</td>\n",
       "    </tr>\n",
       "    <tr>\n",
       "      <th>tot_var_norm</th>\n",
       "      <td>0.666</td>\n",
       "      <td>0.078</td>\n",
       "      <td>0.584</td>\n",
       "      <td>0.478</td>\n",
       "      <td>0.257</td>\n",
       "      <td>-0.257</td>\n",
       "      <td>-</td>\n",
       "      <td>0.000</td>\n",
       "      <td>0.000</td>\n",
       "    </tr>\n",
       "    <tr>\n",
       "      <th>fit_var_norm</th>\n",
       "      <td>0.407</td>\n",
       "      <td>-0.001</td>\n",
       "      <td>0.771</td>\n",
       "      <td>-0.002</td>\n",
       "      <td>0.69</td>\n",
       "      <td>-0.69</td>\n",
       "      <td>0.737</td>\n",
       "      <td>-</td>\n",
       "      <td>0.536</td>\n",
       "    </tr>\n",
       "    <tr>\n",
       "      <th>resid2_mean_norm</th>\n",
       "      <td>0.555</td>\n",
       "      <td>0.116</td>\n",
       "      <td>0.049</td>\n",
       "      <td>0.71</td>\n",
       "      <td>-0.35</td>\n",
       "      <td>0.35</td>\n",
       "      <td>0.7</td>\n",
       "      <td>0.033</td>\n",
       "      <td>-</td>\n",
       "    </tr>\n",
       "  </tbody>\n",
       "</table>\n",
       "</div>"
      ],
      "text/plain": [
       "                    tot_var    mean fit_var resid2_mean fit_var_ratio  \\\n",
       "0 tot_var                 -   0.000   0.000       0.000         0.000   \n",
       "  mean                0.622       -   0.000       0.000         0.065   \n",
       "  fit_var             0.713   0.326       -       0.000         0.000   \n",
       "  resid2_mean         0.819   0.606   0.183           -         0.002   \n",
       "  fit_var_ratio       0.227   0.087   0.568      -0.146             -   \n",
       "  resid2_mean_ratio  -0.227  -0.087  -0.568       0.146          -1.0   \n",
       "  tot_var_norm        0.679   0.055    0.52       0.526         0.208   \n",
       "  fit_var_norm        0.549   0.105    0.87       0.058         0.736   \n",
       "  resid2_mean_norm    0.426   -0.01  -0.009       0.605        -0.293   \n",
       "1 tot_var                 -   0.000   0.000       0.000         0.019   \n",
       "  mean                0.631       -   0.000       0.000         0.769   \n",
       "  fit_var             0.684   0.369       -       0.000         0.000   \n",
       "  resid2_mean         0.855   0.583   0.206           -         0.000   \n",
       "  fit_var_ratio       0.125  -0.016   0.557      -0.229             -   \n",
       "  resid2_mean_ratio  -0.125   0.016  -0.557       0.229          -1.0   \n",
       "  tot_var_norm        0.666   0.078   0.584       0.478         0.257   \n",
       "  fit_var_norm        0.407  -0.001   0.771      -0.002          0.69   \n",
       "  resid2_mean_norm    0.555   0.116   0.049        0.71         -0.35   \n",
       "\n",
       "                    resid2_mean_ratio tot_var_norm fit_var_norm  \\\n",
       "0 tot_var                       0.000        0.000        0.000   \n",
       "  mean                          0.065        0.240        0.026   \n",
       "  fit_var                       0.000        0.000        0.000   \n",
       "  resid2_mean                   0.002        0.000        0.217   \n",
       "  fit_var_ratio                    0.        0.000        0.000   \n",
       "  resid2_mean_ratio                 -        0.000        0.000   \n",
       "  tot_var_norm                 -0.208            -        0.000   \n",
       "  fit_var_norm                 -0.736        0.584            -   \n",
       "  resid2_mean_norm              0.293        0.796       -0.026   \n",
       "1 tot_var                       0.019        0.000        0.000   \n",
       "  mean                          0.769        0.143        0.989   \n",
       "  fit_var                       0.000        0.000        0.000   \n",
       "  resid2_mean                   0.000        0.000         0.97   \n",
       "  fit_var_ratio                    0.        0.000        0.000   \n",
       "  resid2_mean_ratio                 -        0.000        0.000   \n",
       "  tot_var_norm                 -0.257            -        0.000   \n",
       "  fit_var_norm                  -0.69        0.737            -   \n",
       "  resid2_mean_norm               0.35          0.7        0.033   \n",
       "\n",
       "                    resid2_mean_norm  \n",
       "0 tot_var                      0.000  \n",
       "  mean                         0.833  \n",
       "  fit_var                      0.854  \n",
       "  resid2_mean                  0.000  \n",
       "  fit_var_ratio                0.000  \n",
       "  resid2_mean_ratio            0.000  \n",
       "  tot_var_norm                 0.000  \n",
       "  fit_var_norm                 0.581  \n",
       "  resid2_mean_norm                 -  \n",
       "1 tot_var                      0.000  \n",
       "  mean                         0.029  \n",
       "  fit_var                      0.361  \n",
       "  resid2_mean                  0.000  \n",
       "  fit_var_ratio                0.000  \n",
       "  resid2_mean_ratio            0.000  \n",
       "  tot_var_norm                 0.000  \n",
       "  fit_var_norm                 0.536  \n",
       "  resid2_mean_norm                 -  "
      ]
     },
     "execution_count": 37,
     "metadata": {},
     "output_type": "execute_result"
    }
   ],
   "source": [
    "res['corr']"
   ]
  },
  {
   "cell_type": "code",
   "execution_count": 29,
   "id": "978f2c47",
   "metadata": {},
   "outputs": [
    {
     "name": "stdout",
     "output_type": "stream",
     "text": [
      "INFO: Pandarallel will run on 40 workers.\n",
      "INFO: Pandarallel will use standard multiprocessing data transfer (pipe) to transfer data between the main process and workers.\n"
     ]
    },
    {
     "data": {
      "application/vnd.jupyter.widget-view+json": {
       "model_id": "ec1dd805a5dc45d4b85e9d27905a20de",
       "version_major": 2,
       "version_minor": 0
      },
      "text/plain": [
       "VBox(children=(HBox(children=(IntProgress(value=0, description='0.00%', max=21), Label(value='0 / 21'))), HBox…"
      ]
     },
     "metadata": {},
     "output_type": "display_data"
    },
    {
     "name": "stdout",
     "output_type": "stream",
     "text": [
      "CPU times: user 1.43 s, sys: 602 ms, total: 2.03 s\n",
      "Wall time: 45.7 s\n"
     ]
    }
   ],
   "source": [
    "# %%time \n",
    "# reload(tcp)\n",
    "# res=tcp.test_contiguity_allrows(fr_peak,n_shuffle=200,sig_thresh=0.05,n_change_pts=1)"
   ]
  },
  {
   "cell_type": "code",
   "execution_count": 14,
   "id": "413f13b7",
   "metadata": {},
   "outputs": [
    {
     "name": "stdout",
     "output_type": "stream",
     "text": [
      "INFO: Pandarallel will run on 40 workers.\n",
      "INFO: Pandarallel will use standard multiprocessing data transfer (pipe) to transfer data between the main process and workers.\n"
     ]
    },
    {
     "data": {
      "application/vnd.jupyter.widget-view+json": {
       "model_id": "87c9e0f660b847d7869cb49e9b7497d4",
       "version_major": 2,
       "version_minor": 0
      },
      "text/plain": [
       "VBox(children=(HBox(children=(IntProgress(value=0, description='0.00%', max=6), Label(value='0 / 6'))), HBox(c…"
      ]
     },
     "metadata": {},
     "output_type": "display_data"
    },
    {
     "name": "stdout",
     "output_type": "stream",
     "text": [
      "INFO: Pandarallel will run on 40 workers.\n",
      "INFO: Pandarallel will use standard multiprocessing data transfer (pipe) to transfer data between the main process and workers.\n"
     ]
    },
    {
     "data": {
      "application/vnd.jupyter.widget-view+json": {
       "model_id": "ccebbb34e6994294b9b00daf3ac56159",
       "version_major": 2,
       "version_minor": 0
      },
      "text/plain": [
       "VBox(children=(HBox(children=(IntProgress(value=0, description='0.00%', max=6), Label(value='0 / 6'))), HBox(c…"
      ]
     },
     "metadata": {},
     "output_type": "display_data"
    },
    {
     "name": "stdout",
     "output_type": "stream",
     "text": [
      "INFO: Pandarallel will run on 40 workers.\n",
      "INFO: Pandarallel will use standard multiprocessing data transfer (pipe) to transfer data between the main process and workers.\n"
     ]
    },
    {
     "data": {
      "application/vnd.jupyter.widget-view+json": {
       "model_id": "80026cc04cae4cbfb93241a261040f27",
       "version_major": 2,
       "version_minor": 0
      },
      "text/plain": [
       "VBox(children=(HBox(children=(IntProgress(value=0, description='0.00%', max=6), Label(value='0 / 6'))), HBox(c…"
      ]
     },
     "metadata": {},
     "output_type": "display_data"
    },
    {
     "name": "stdout",
     "output_type": "stream",
     "text": [
      "INFO: Pandarallel will run on 40 workers.\n",
      "INFO: Pandarallel will use standard multiprocessing data transfer (pipe) to transfer data between the main process and workers.\n"
     ]
    },
    {
     "data": {
      "application/vnd.jupyter.widget-view+json": {
       "model_id": "a4db1f5e498746d78b54cf968b27a08b",
       "version_major": 2,
       "version_minor": 0
      },
      "text/plain": [
       "VBox(children=(HBox(children=(IntProgress(value=0, description='0.00%', max=6), Label(value='0 / 6'))), HBox(c…"
      ]
     },
     "metadata": {},
     "output_type": "display_data"
    },
    {
     "name": "stdout",
     "output_type": "stream",
     "text": [
      "INFO: Pandarallel will run on 40 workers.\n",
      "INFO: Pandarallel will use standard multiprocessing data transfer (pipe) to transfer data between the main process and workers.\n"
     ]
    },
    {
     "data": {
      "application/vnd.jupyter.widget-view+json": {
       "model_id": "7d80c5871aad4b43a59ce68d5fe20cd5",
       "version_major": 2,
       "version_minor": 0
      },
      "text/plain": [
       "VBox(children=(HBox(children=(IntProgress(value=0, description='0.00%', max=5), Label(value='0 / 5'))), HBox(c…"
      ]
     },
     "metadata": {},
     "output_type": "display_data"
    },
    {
     "name": "stdout",
     "output_type": "stream",
     "text": [
      "INFO: Pandarallel will run on 40 workers.\n",
      "INFO: Pandarallel will use standard multiprocessing data transfer (pipe) to transfer data between the main process and workers.\n"
     ]
    },
    {
     "data": {
      "application/vnd.jupyter.widget-view+json": {
       "model_id": "cb447f2aab8344dd8fe126674b926450",
       "version_major": 2,
       "version_minor": 0
      },
      "text/plain": [
       "VBox(children=(HBox(children=(IntProgress(value=0, description='0.00%', max=5), Label(value='0 / 5'))), HBox(c…"
      ]
     },
     "metadata": {},
     "output_type": "display_data"
    },
    {
     "name": "stdout",
     "output_type": "stream",
     "text": [
      "INFO: Pandarallel will run on 40 workers.\n",
      "INFO: Pandarallel will use standard multiprocessing data transfer (pipe) to transfer data between the main process and workers.\n"
     ]
    },
    {
     "data": {
      "application/vnd.jupyter.widget-view+json": {
       "model_id": "5afb99904cd6439e931f7c0c2f766782",
       "version_major": 2,
       "version_minor": 0
      },
      "text/plain": [
       "VBox(children=(HBox(children=(IntProgress(value=0, description='0.00%', max=5), Label(value='0 / 5'))), HBox(c…"
      ]
     },
     "metadata": {},
     "output_type": "display_data"
    },
    {
     "name": "stdout",
     "output_type": "stream",
     "text": [
      "INFO: Pandarallel will run on 40 workers.\n",
      "INFO: Pandarallel will use standard multiprocessing data transfer (pipe) to transfer data between the main process and workers.\n"
     ]
    },
    {
     "data": {
      "application/vnd.jupyter.widget-view+json": {
       "model_id": "f0e3943b7cfa4f3181c5d1290992df05",
       "version_major": 2,
       "version_minor": 0
      },
      "text/plain": [
       "VBox(children=(HBox(children=(IntProgress(value=0, description='0.00%', max=5), Label(value='0 / 5'))), HBox(c…"
      ]
     },
     "metadata": {},
     "output_type": "display_data"
    },
    {
     "name": "stdout",
     "output_type": "stream",
     "text": [
      "INFO: Pandarallel will run on 40 workers.\n",
      "INFO: Pandarallel will use standard multiprocessing data transfer (pipe) to transfer data between the main process and workers.\n"
     ]
    },
    {
     "data": {
      "application/vnd.jupyter.widget-view+json": {
       "model_id": "408091e1af174bc5bdcc7efbc4e0c3b5",
       "version_major": 2,
       "version_minor": 0
      },
      "text/plain": [
       "VBox(children=(HBox(children=(IntProgress(value=0, description='0.00%', max=2), Label(value='0 / 2'))), HBox(c…"
      ]
     },
     "metadata": {},
     "output_type": "display_data"
    },
    {
     "name": "stdout",
     "output_type": "stream",
     "text": [
      "INFO: Pandarallel will run on 40 workers.\n",
      "INFO: Pandarallel will use standard multiprocessing data transfer (pipe) to transfer data between the main process and workers.\n"
     ]
    },
    {
     "data": {
      "application/vnd.jupyter.widget-view+json": {
       "model_id": "88b49c771bec4d54889f786da39a440e",
       "version_major": 2,
       "version_minor": 0
      },
      "text/plain": [
       "VBox(children=(HBox(children=(IntProgress(value=0, description='0.00%', max=2), Label(value='0 / 2'))), HBox(c…"
      ]
     },
     "metadata": {},
     "output_type": "display_data"
    },
    {
     "name": "stdout",
     "output_type": "stream",
     "text": [
      "INFO: Pandarallel will run on 40 workers.\n",
      "INFO: Pandarallel will use standard multiprocessing data transfer (pipe) to transfer data between the main process and workers.\n"
     ]
    },
    {
     "data": {
      "application/vnd.jupyter.widget-view+json": {
       "model_id": "556bef886f604b68977fc079d1c4c3d0",
       "version_major": 2,
       "version_minor": 0
      },
      "text/plain": [
       "VBox(children=(HBox(children=(IntProgress(value=0, description='0.00%', max=2), Label(value='0 / 2'))), HBox(c…"
      ]
     },
     "metadata": {},
     "output_type": "display_data"
    },
    {
     "name": "stdout",
     "output_type": "stream",
     "text": [
      "INFO: Pandarallel will run on 40 workers.\n",
      "INFO: Pandarallel will use standard multiprocessing data transfer (pipe) to transfer data between the main process and workers.\n"
     ]
    },
    {
     "data": {
      "application/vnd.jupyter.widget-view+json": {
       "model_id": "05eb8f5eb5cb4f29a936da138554ad18",
       "version_major": 2,
       "version_minor": 0
      },
      "text/plain": [
       "VBox(children=(HBox(children=(IntProgress(value=0, description='0.00%', max=2), Label(value='0 / 2'))), HBox(c…"
      ]
     },
     "metadata": {},
     "output_type": "display_data"
    },
    {
     "name": "stdout",
     "output_type": "stream",
     "text": [
      "INFO: Pandarallel will run on 40 workers.\n",
      "INFO: Pandarallel will use standard multiprocessing data transfer (pipe) to transfer data between the main process and workers.\n"
     ]
    },
    {
     "data": {
      "application/vnd.jupyter.widget-view+json": {
       "model_id": "efb46e6ae7b549d09f0b704d113289c5",
       "version_major": 2,
       "version_minor": 0
      },
      "text/plain": [
       "VBox(children=(HBox(children=(IntProgress(value=0, description='0.00%', max=5), Label(value='0 / 5'))), HBox(c…"
      ]
     },
     "metadata": {},
     "output_type": "display_data"
    },
    {
     "name": "stdout",
     "output_type": "stream",
     "text": [
      "INFO: Pandarallel will run on 40 workers.\n",
      "INFO: Pandarallel will use standard multiprocessing data transfer (pipe) to transfer data between the main process and workers.\n"
     ]
    },
    {
     "data": {
      "application/vnd.jupyter.widget-view+json": {
       "model_id": "f47a48f379904d19a5ebcee9eeb84fcc",
       "version_major": 2,
       "version_minor": 0
      },
      "text/plain": [
       "VBox(children=(HBox(children=(IntProgress(value=0, description='0.00%', max=5), Label(value='0 / 5'))), HBox(c…"
      ]
     },
     "metadata": {},
     "output_type": "display_data"
    },
    {
     "name": "stdout",
     "output_type": "stream",
     "text": [
      "INFO: Pandarallel will run on 40 workers.\n",
      "INFO: Pandarallel will use standard multiprocessing data transfer (pipe) to transfer data between the main process and workers.\n"
     ]
    },
    {
     "data": {
      "application/vnd.jupyter.widget-view+json": {
       "model_id": "1472b6812b4644b9b8fc5baab1de5f24",
       "version_major": 2,
       "version_minor": 0
      },
      "text/plain": [
       "VBox(children=(HBox(children=(IntProgress(value=0, description='0.00%', max=5), Label(value='0 / 5'))), HBox(c…"
      ]
     },
     "metadata": {},
     "output_type": "display_data"
    },
    {
     "name": "stdout",
     "output_type": "stream",
     "text": [
      "INFO: Pandarallel will run on 40 workers.\n",
      "INFO: Pandarallel will use standard multiprocessing data transfer (pipe) to transfer data between the main process and workers.\n"
     ]
    },
    {
     "data": {
      "application/vnd.jupyter.widget-view+json": {
       "model_id": "9d7d3977efd64cd6b60117986915a6a6",
       "version_major": 2,
       "version_minor": 0
      },
      "text/plain": [
       "VBox(children=(HBox(children=(IntProgress(value=0, description='0.00%', max=5), Label(value='0 / 5'))), HBox(c…"
      ]
     },
     "metadata": {},
     "output_type": "display_data"
    },
    {
     "name": "stdout",
     "output_type": "stream",
     "text": [
      "INFO: Pandarallel will run on 40 workers.\n",
      "INFO: Pandarallel will use standard multiprocessing data transfer (pipe) to transfer data between the main process and workers.\n"
     ]
    },
    {
     "data": {
      "application/vnd.jupyter.widget-view+json": {
       "model_id": "88b420319ece40b9960e09f77929eec1",
       "version_major": 2,
       "version_minor": 0
      },
      "text/plain": [
       "VBox(children=(HBox(children=(IntProgress(value=0, description='0.00%', max=4), Label(value='0 / 4'))), HBox(c…"
      ]
     },
     "metadata": {},
     "output_type": "display_data"
    },
    {
     "name": "stdout",
     "output_type": "stream",
     "text": [
      "INFO: Pandarallel will run on 40 workers.\n",
      "INFO: Pandarallel will use standard multiprocessing data transfer (pipe) to transfer data between the main process and workers.\n"
     ]
    },
    {
     "data": {
      "application/vnd.jupyter.widget-view+json": {
       "model_id": "072987a0ff854154bccaa85faf464258",
       "version_major": 2,
       "version_minor": 0
      },
      "text/plain": [
       "VBox(children=(HBox(children=(IntProgress(value=0, description='0.00%', max=4), Label(value='0 / 4'))), HBox(c…"
      ]
     },
     "metadata": {},
     "output_type": "display_data"
    },
    {
     "name": "stdout",
     "output_type": "stream",
     "text": [
      "INFO: Pandarallel will run on 40 workers.\n",
      "INFO: Pandarallel will use standard multiprocessing data transfer (pipe) to transfer data between the main process and workers.\n"
     ]
    },
    {
     "data": {
      "application/vnd.jupyter.widget-view+json": {
       "model_id": "ff904c9001664180a4e2872f9c500d79",
       "version_major": 2,
       "version_minor": 0
      },
      "text/plain": [
       "VBox(children=(HBox(children=(IntProgress(value=0, description='0.00%', max=4), Label(value='0 / 4'))), HBox(c…"
      ]
     },
     "metadata": {},
     "output_type": "display_data"
    },
    {
     "name": "stdout",
     "output_type": "stream",
     "text": [
      "INFO: Pandarallel will run on 40 workers.\n",
      "INFO: Pandarallel will use standard multiprocessing data transfer (pipe) to transfer data between the main process and workers.\n"
     ]
    },
    {
     "data": {
      "application/vnd.jupyter.widget-view+json": {
       "model_id": "e9a616fcda134feca7f9c44e3a957530",
       "version_major": 2,
       "version_minor": 0
      },
      "text/plain": [
       "VBox(children=(HBox(children=(IntProgress(value=0, description='0.00%', max=1), Label(value='0 / 1'))), HBox(c…"
      ]
     },
     "metadata": {},
     "output_type": "display_data"
    },
    {
     "name": "stdout",
     "output_type": "stream",
     "text": [
      "INFO: Pandarallel will run on 40 workers.\n",
      "INFO: Pandarallel will use standard multiprocessing data transfer (pipe) to transfer data between the main process and workers.\n"
     ]
    },
    {
     "data": {
      "application/vnd.jupyter.widget-view+json": {
       "model_id": "fd62043adc1d4a969afc8f55ce0f10e9",
       "version_major": 2,
       "version_minor": 0
      },
      "text/plain": [
       "VBox(children=(HBox(children=(IntProgress(value=0, description='0.00%', max=1), Label(value='0 / 1'))), HBox(c…"
      ]
     },
     "metadata": {},
     "output_type": "display_data"
    },
    {
     "name": "stdout",
     "output_type": "stream",
     "text": [
      "INFO: Pandarallel will run on 40 workers.\n",
      "INFO: Pandarallel will use standard multiprocessing data transfer (pipe) to transfer data between the main process and workers.\n"
     ]
    },
    {
     "data": {
      "application/vnd.jupyter.widget-view+json": {
       "model_id": "4f554713e9a24ffbbf0b6494c30e8f16",
       "version_major": 2,
       "version_minor": 0
      },
      "text/plain": [
       "VBox(children=(HBox(children=(IntProgress(value=0, description='0.00%', max=1), Label(value='0 / 1'))), HBox(c…"
      ]
     },
     "metadata": {},
     "output_type": "display_data"
    },
    {
     "name": "stdout",
     "output_type": "stream",
     "text": [
      "INFO: Pandarallel will run on 40 workers.\n",
      "INFO: Pandarallel will use standard multiprocessing data transfer (pipe) to transfer data between the main process and workers.\n"
     ]
    },
    {
     "data": {
      "application/vnd.jupyter.widget-view+json": {
       "model_id": "588e2088d49a4349a42ece6637c80d28",
       "version_major": 2,
       "version_minor": 0
      },
      "text/plain": [
       "VBox(children=(HBox(children=(IntProgress(value=0, description='0.00%', max=1), Label(value='0 / 1'))), HBox(c…"
      ]
     },
     "metadata": {},
     "output_type": "display_data"
    },
    {
     "name": "stdout",
     "output_type": "stream",
     "text": [
      "CPU times: user 16.5 s, sys: 14 s, total: 30.5 s\n",
      "Wall time: 1min 34s\n"
     ]
    }
   ],
   "source": [
    "%%time\n",
    "X = fr_peak\n",
    "res = tcp.test_contiguity_multi_n_change_pts(X,n_shuffle=10,n_change_pts_l=None,n_change_pts_max_MAX=4)"
   ]
  },
  {
   "cell_type": "code",
   "execution_count": 15,
   "id": "635c6d93",
   "metadata": {},
   "outputs": [],
   "source": [
    "# get the best n\n",
    "def get_n_cpd(row,alpha=0.05):\n",
    "    ntest = len(row.dropna())\n",
    "    alpha_bc = alpha / ntest\n",
    "#     row_passed = row[row <= alpha_bc]\n",
    "#     row_passed= row\n",
    "    anysig = (row <= alpha_bc).sum()\n",
    "#     if len(row_passed)==0:\n",
    "    if anysig == 0:\n",
    "        n = 0\n",
    "    else:\n",
    "        n = row.idxmin()\n",
    "    return n\n",
    "\n",
    "best_n = res.apply(get_n_cpd,axis=1)"
   ]
  },
  {
   "cell_type": "code",
   "execution_count": 16,
   "id": "de7889b9",
   "metadata": {},
   "outputs": [],
   "source": [
    "def get_change_points_all_fields_different_n(X,best_n,min_size = 1):\n",
    "    '''\n",
    "    X: n_fields x n_trials, can have multiple tasks/trialtypes stacked\n",
    "    \n",
    "    '''\n",
    "    cp_d = {}\n",
    "    signal_pred_d = {}\n",
    "    for k,signal in X.iterrows():\n",
    "        n = best_n.loc[k]\n",
    "        signal = signal.dropna()\n",
    "        signal_pred,change_pts = cpa.predict_from_cpts_wrapper(signal.values,n,min_size=min_size)\n",
    "        cp_d[k] = change_pts\n",
    "        signal_pred_d[k] = pd.Series(signal_pred,index=signal.index)\n",
    "    cp_d = pd.DataFrame(cp_d.values(),index=cp_d.keys())\n",
    "    signal_pred_d = pd.DataFrame(signal_pred_d).T\n",
    "        \n",
    "    return signal_pred_d,cp_d\n",
    "\n",
    "\n",
    "# get change points and fitted piecewise constant\n",
    "X_pwc, cp_d=get_change_points_all_fields_different_n(X,best_n)\n",
    "X_pwc_norm = X_pwc / np.nanmax(X_pwc.values,axis=1,keepdims=True)"
   ]
  },
  {
   "cell_type": "code",
   "execution_count": 83,
   "id": "fc03d1f5",
   "metadata": {},
   "outputs": [],
   "source": [
    "# tt=1\n",
    "# Xhat_one = Xhat.loc[0,1].dropna(axis=1)\n",
    "# fr_trial_one = fr_trial.loc[0,1].dropna(axis=1)\n",
    "def decompose_variability_onetrialtype(Xhat_one,fr_trial_one,rescale_to_max=False):\n",
    "    '''\n",
    "    get: total variance, variance in fit, average squared residual, mean, normalized by mean\n",
    "    '''\n",
    "    res = {}\n",
    "    res['tot_var'] = fr_trial_one.var(axis=1,ddof=0) # ddof=0 to make the equation holds; alternatively could have the mean of resid2 replaced by /(Ntrial-1)\n",
    "    res['mean'] = fr_trial_one.mean(axis=1)\n",
    "    if rescale_to_max:\n",
    "        Xhat_rescaled_back = Xhat_one * fr_trial_one.max(axis=1).values[:,None] # inverse of the max normalization\n",
    "    else:\n",
    "        Xhat_rescaled_back = Xhat_one\n",
    "    res['fit_var'] = Xhat_rescaled_back.var(axis=1,ddof=0)\n",
    "    pdb.set_trace()\n",
    "    resid = fr_trial_one - Xhat_rescaled_back\n",
    "    res['resid2_mean'] = (resid**2).mean(axis=1)\n",
    "    res['fit_var_ratio'] = res['fit_var'] / res['tot_var']\n",
    "    res['resid2_mean_ratio'] =1-res['fit_var_ratio']\n",
    "    for k in ['tot_var','fit_var','resid2_mean']:\n",
    "        res[k+'_norm'] = res[k] / res['mean']\n",
    "    var_res = pd.DataFrame(res)\n",
    "    \n",
    "    \n",
    "    \n",
    "    return var_res\n",
    "\n",
    "# def post_decomp_corr(res,pcorr_vars=['mean','fit_var_norm','resid2_mean_norm']):\n",
    "#     all_corr = res.rcorr(stars=False)\n",
    "#     p_corr = res[pcorr_vars].pcorr()\n",
    "#     corr_res = {'all_corr':all_corr,'p_corr':p_corr}\n",
    "#     return corr_res\n",
    "    \n",
    "    "
   ]
  },
  {
   "cell_type": "code",
   "execution_count": 78,
   "id": "0b8aaeff",
   "metadata": {},
   "outputs": [],
   "source": [
    "def get_changes_df(X_pwc_norm,X,switch_magnitude=0.4,low_thresh=1.,high_thresh=0.):\n",
    "    # get changes_df\n",
    "    changes_df_all = []\n",
    "    \n",
    "    for k,val in X_pwc_norm.groupby(level=(0,1)):\n",
    "        val = val.dropna(axis=1,how='all')\n",
    "        sw_on,sw_off,changes_df = cpa.detect_switch_pwc(val,switch_magnitude=switch_magnitude,low_thresh=low_thresh,high_thresh=high_thresh)\n",
    "    #     changes_df.columns=  val.columns\n",
    "    #     changes_df.index=val.index\n",
    "        changes_df_all.append(changes_df)\n",
    "        \n",
    "    changes_df_all = pd.concat(changes_df_all,axis=0)\n",
    "    changes_df_all = changes_df_all.sort_index(axis=1)\n",
    "    return changes_df_all\n",
    "\n",
    "def decompose_variability_all_trialtype(X_pwc,X,rescale_to_max=False):\n",
    "    \n",
    "    var_res_all = {}\n",
    "    for k,val in X_pwc.groupby(level=(0,1)):\n",
    "        val = val.dropna(axis=1,how='all').loc[k]\n",
    "        fr_one_tt = X.loc[k].dropna(axis=1,how='all')\n",
    "        var_res = decompose_variability_onetrialtype(val,fr_one_tt)\n",
    "        var_res_all[k] = var_res    \n",
    "    var_res_all = pd.concat(var_res_all,axis=0)\n",
    "    \n",
    "    all_corr = var_res_all.groupby(level=0).apply(lambda x:x.rcorr(stars=False))\n",
    "    p_corr = var_res_all.groupby(level=0).apply(lambda x:x.pcorr())\n",
    "    \n",
    "    return var_res_all,all_corr,p_corr\n",
    "    "
   ]
  },
  {
   "cell_type": "code",
   "execution_count": 79,
   "id": "f4a86752",
   "metadata": {
    "scrolled": true
   },
   "outputs": [
    {
     "name": "stdout",
     "output_type": "stream",
     "text": [
      "> \u001b[0;32m/tmp/ipykernel_264460/2900392745.py\u001b[0m(17)\u001b[0;36mdecompose_variability_onetrialtype\u001b[0;34m()\u001b[0m\n",
      "\u001b[0;32m     15 \u001b[0;31m    \u001b[0mres\u001b[0m\u001b[0;34m[\u001b[0m\u001b[0;34m'fit_var'\u001b[0m\u001b[0;34m]\u001b[0m \u001b[0;34m=\u001b[0m \u001b[0mXhat_rescaled_back\u001b[0m\u001b[0;34m.\u001b[0m\u001b[0mvar\u001b[0m\u001b[0;34m(\u001b[0m\u001b[0maxis\u001b[0m\u001b[0;34m=\u001b[0m\u001b[0;36m1\u001b[0m\u001b[0;34m,\u001b[0m\u001b[0mddof\u001b[0m\u001b[0;34m=\u001b[0m\u001b[0;36m0\u001b[0m\u001b[0;34m)\u001b[0m\u001b[0;34m\u001b[0m\u001b[0;34m\u001b[0m\u001b[0m\n",
      "\u001b[0m\u001b[0;32m     16 \u001b[0;31m    \u001b[0mpdb\u001b[0m\u001b[0;34m.\u001b[0m\u001b[0mset_trace\u001b[0m\u001b[0;34m(\u001b[0m\u001b[0;34m)\u001b[0m\u001b[0;34m\u001b[0m\u001b[0;34m\u001b[0m\u001b[0m\n",
      "\u001b[0m\u001b[0;32m---> 17 \u001b[0;31m    \u001b[0mresid\u001b[0m \u001b[0;34m=\u001b[0m \u001b[0mfr_trial_one\u001b[0m \u001b[0;34m-\u001b[0m \u001b[0mXhat_rescaled_back\u001b[0m\u001b[0;34m\u001b[0m\u001b[0;34m\u001b[0m\u001b[0m\n",
      "\u001b[0m\u001b[0;32m     18 \u001b[0;31m    \u001b[0mres\u001b[0m\u001b[0;34m[\u001b[0m\u001b[0;34m'resid2_mean'\u001b[0m\u001b[0;34m]\u001b[0m \u001b[0;34m=\u001b[0m \u001b[0;34m(\u001b[0m\u001b[0mresid\u001b[0m\u001b[0;34m**\u001b[0m\u001b[0;36m2\u001b[0m\u001b[0;34m)\u001b[0m\u001b[0;34m.\u001b[0m\u001b[0mmean\u001b[0m\u001b[0;34m(\u001b[0m\u001b[0maxis\u001b[0m\u001b[0;34m=\u001b[0m\u001b[0;36m1\u001b[0m\u001b[0;34m)\u001b[0m\u001b[0;34m\u001b[0m\u001b[0;34m\u001b[0m\u001b[0m\n",
      "\u001b[0m\u001b[0;32m     19 \u001b[0;31m    \u001b[0mres\u001b[0m\u001b[0;34m[\u001b[0m\u001b[0;34m'fit_var_ratio'\u001b[0m\u001b[0;34m]\u001b[0m \u001b[0;34m=\u001b[0m \u001b[0mres\u001b[0m\u001b[0;34m[\u001b[0m\u001b[0;34m'fit_var'\u001b[0m\u001b[0;34m]\u001b[0m \u001b[0;34m/\u001b[0m \u001b[0mres\u001b[0m\u001b[0;34m[\u001b[0m\u001b[0;34m'tot_var'\u001b[0m\u001b[0;34m]\u001b[0m\u001b[0;34m\u001b[0m\u001b[0;34m\u001b[0m\u001b[0m\n",
      "\u001b[0m\n",
      "ipdb> n\n",
      "> \u001b[0;32m/tmp/ipykernel_264460/2900392745.py\u001b[0m(18)\u001b[0;36mdecompose_variability_onetrialtype\u001b[0;34m()\u001b[0m\n",
      "\u001b[0;32m     16 \u001b[0;31m    \u001b[0mpdb\u001b[0m\u001b[0;34m.\u001b[0m\u001b[0mset_trace\u001b[0m\u001b[0;34m(\u001b[0m\u001b[0;34m)\u001b[0m\u001b[0;34m\u001b[0m\u001b[0;34m\u001b[0m\u001b[0m\n",
      "\u001b[0m\u001b[0;32m     17 \u001b[0;31m    \u001b[0mresid\u001b[0m \u001b[0;34m=\u001b[0m \u001b[0mfr_trial_one\u001b[0m \u001b[0;34m-\u001b[0m \u001b[0mXhat_rescaled_back\u001b[0m\u001b[0;34m\u001b[0m\u001b[0;34m\u001b[0m\u001b[0m\n",
      "\u001b[0m\u001b[0;32m---> 18 \u001b[0;31m    \u001b[0mres\u001b[0m\u001b[0;34m[\u001b[0m\u001b[0;34m'resid2_mean'\u001b[0m\u001b[0;34m]\u001b[0m \u001b[0;34m=\u001b[0m \u001b[0;34m(\u001b[0m\u001b[0mresid\u001b[0m\u001b[0;34m**\u001b[0m\u001b[0;36m2\u001b[0m\u001b[0;34m)\u001b[0m\u001b[0;34m.\u001b[0m\u001b[0mmean\u001b[0m\u001b[0;34m(\u001b[0m\u001b[0maxis\u001b[0m\u001b[0;34m=\u001b[0m\u001b[0;36m1\u001b[0m\u001b[0;34m)\u001b[0m\u001b[0;34m\u001b[0m\u001b[0;34m\u001b[0m\u001b[0m\n",
      "\u001b[0m\u001b[0;32m     19 \u001b[0;31m    \u001b[0mres\u001b[0m\u001b[0;34m[\u001b[0m\u001b[0;34m'fit_var_ratio'\u001b[0m\u001b[0;34m]\u001b[0m \u001b[0;34m=\u001b[0m \u001b[0mres\u001b[0m\u001b[0;34m[\u001b[0m\u001b[0;34m'fit_var'\u001b[0m\u001b[0;34m]\u001b[0m \u001b[0;34m/\u001b[0m \u001b[0mres\u001b[0m\u001b[0;34m[\u001b[0m\u001b[0;34m'tot_var'\u001b[0m\u001b[0;34m]\u001b[0m\u001b[0;34m\u001b[0m\u001b[0;34m\u001b[0m\u001b[0m\n",
      "\u001b[0m\u001b[0;32m     20 \u001b[0;31m    \u001b[0mres\u001b[0m\u001b[0;34m[\u001b[0m\u001b[0;34m'resid2_mean_ratio'\u001b[0m\u001b[0;34m]\u001b[0m \u001b[0;34m=\u001b[0m\u001b[0;36m1\u001b[0m\u001b[0;34m-\u001b[0m\u001b[0mres\u001b[0m\u001b[0;34m[\u001b[0m\u001b[0;34m'fit_var_ratio'\u001b[0m\u001b[0;34m]\u001b[0m\u001b[0;34m\u001b[0m\u001b[0;34m\u001b[0m\u001b[0m\n",
      "\u001b[0m\n",
      "ipdb> c\n",
      "> \u001b[0;32m/tmp/ipykernel_264460/2900392745.py\u001b[0m(17)\u001b[0;36mdecompose_variability_onetrialtype\u001b[0;34m()\u001b[0m\n",
      "\u001b[0;32m     15 \u001b[0;31m    \u001b[0mres\u001b[0m\u001b[0;34m[\u001b[0m\u001b[0;34m'fit_var'\u001b[0m\u001b[0;34m]\u001b[0m \u001b[0;34m=\u001b[0m \u001b[0mXhat_rescaled_back\u001b[0m\u001b[0;34m.\u001b[0m\u001b[0mvar\u001b[0m\u001b[0;34m(\u001b[0m\u001b[0maxis\u001b[0m\u001b[0;34m=\u001b[0m\u001b[0;36m1\u001b[0m\u001b[0;34m,\u001b[0m\u001b[0mddof\u001b[0m\u001b[0;34m=\u001b[0m\u001b[0;36m0\u001b[0m\u001b[0;34m)\u001b[0m\u001b[0;34m\u001b[0m\u001b[0;34m\u001b[0m\u001b[0m\n",
      "\u001b[0m\u001b[0;32m     16 \u001b[0;31m    \u001b[0mpdb\u001b[0m\u001b[0;34m.\u001b[0m\u001b[0mset_trace\u001b[0m\u001b[0;34m(\u001b[0m\u001b[0;34m)\u001b[0m\u001b[0;34m\u001b[0m\u001b[0;34m\u001b[0m\u001b[0m\n",
      "\u001b[0m\u001b[0;32m---> 17 \u001b[0;31m    \u001b[0mresid\u001b[0m \u001b[0;34m=\u001b[0m \u001b[0mfr_trial_one\u001b[0m \u001b[0;34m-\u001b[0m \u001b[0mXhat_rescaled_back\u001b[0m\u001b[0;34m\u001b[0m\u001b[0;34m\u001b[0m\u001b[0m\n",
      "\u001b[0m\u001b[0;32m     18 \u001b[0;31m    \u001b[0mres\u001b[0m\u001b[0;34m[\u001b[0m\u001b[0;34m'resid2_mean'\u001b[0m\u001b[0;34m]\u001b[0m \u001b[0;34m=\u001b[0m \u001b[0;34m(\u001b[0m\u001b[0mresid\u001b[0m\u001b[0;34m**\u001b[0m\u001b[0;36m2\u001b[0m\u001b[0;34m)\u001b[0m\u001b[0;34m.\u001b[0m\u001b[0mmean\u001b[0m\u001b[0;34m(\u001b[0m\u001b[0maxis\u001b[0m\u001b[0;34m=\u001b[0m\u001b[0;36m1\u001b[0m\u001b[0;34m)\u001b[0m\u001b[0;34m\u001b[0m\u001b[0;34m\u001b[0m\u001b[0m\n",
      "\u001b[0m\u001b[0;32m     19 \u001b[0;31m    \u001b[0mres\u001b[0m\u001b[0;34m[\u001b[0m\u001b[0;34m'fit_var_ratio'\u001b[0m\u001b[0;34m]\u001b[0m \u001b[0;34m=\u001b[0m \u001b[0mres\u001b[0m\u001b[0;34m[\u001b[0m\u001b[0;34m'fit_var'\u001b[0m\u001b[0;34m]\u001b[0m \u001b[0;34m/\u001b[0m \u001b[0mres\u001b[0m\u001b[0;34m[\u001b[0m\u001b[0;34m'tot_var'\u001b[0m\u001b[0;34m]\u001b[0m\u001b[0;34m\u001b[0m\u001b[0;34m\u001b[0m\u001b[0m\n",
      "\u001b[0m\n",
      "ipdb> c\n",
      "> \u001b[0;32m/tmp/ipykernel_264460/2900392745.py\u001b[0m(17)\u001b[0;36mdecompose_variability_onetrialtype\u001b[0;34m()\u001b[0m\n",
      "\u001b[0;32m     15 \u001b[0;31m    \u001b[0mres\u001b[0m\u001b[0;34m[\u001b[0m\u001b[0;34m'fit_var'\u001b[0m\u001b[0;34m]\u001b[0m \u001b[0;34m=\u001b[0m \u001b[0mXhat_rescaled_back\u001b[0m\u001b[0;34m.\u001b[0m\u001b[0mvar\u001b[0m\u001b[0;34m(\u001b[0m\u001b[0maxis\u001b[0m\u001b[0;34m=\u001b[0m\u001b[0;36m1\u001b[0m\u001b[0;34m,\u001b[0m\u001b[0mddof\u001b[0m\u001b[0;34m=\u001b[0m\u001b[0;36m0\u001b[0m\u001b[0;34m)\u001b[0m\u001b[0;34m\u001b[0m\u001b[0;34m\u001b[0m\u001b[0m\n",
      "\u001b[0m\u001b[0;32m     16 \u001b[0;31m    \u001b[0mpdb\u001b[0m\u001b[0;34m.\u001b[0m\u001b[0mset_trace\u001b[0m\u001b[0;34m(\u001b[0m\u001b[0;34m)\u001b[0m\u001b[0;34m\u001b[0m\u001b[0;34m\u001b[0m\u001b[0m\n",
      "\u001b[0m\u001b[0;32m---> 17 \u001b[0;31m    \u001b[0mresid\u001b[0m \u001b[0;34m=\u001b[0m \u001b[0mfr_trial_one\u001b[0m \u001b[0;34m-\u001b[0m \u001b[0mXhat_rescaled_back\u001b[0m\u001b[0;34m\u001b[0m\u001b[0;34m\u001b[0m\u001b[0m\n",
      "\u001b[0m\u001b[0;32m     18 \u001b[0;31m    \u001b[0mres\u001b[0m\u001b[0;34m[\u001b[0m\u001b[0;34m'resid2_mean'\u001b[0m\u001b[0;34m]\u001b[0m \u001b[0;34m=\u001b[0m \u001b[0;34m(\u001b[0m\u001b[0mresid\u001b[0m\u001b[0;34m**\u001b[0m\u001b[0;36m2\u001b[0m\u001b[0;34m)\u001b[0m\u001b[0;34m.\u001b[0m\u001b[0mmean\u001b[0m\u001b[0;34m(\u001b[0m\u001b[0maxis\u001b[0m\u001b[0;34m=\u001b[0m\u001b[0;36m1\u001b[0m\u001b[0;34m)\u001b[0m\u001b[0;34m\u001b[0m\u001b[0;34m\u001b[0m\u001b[0m\n",
      "\u001b[0m\u001b[0;32m     19 \u001b[0;31m    \u001b[0mres\u001b[0m\u001b[0;34m[\u001b[0m\u001b[0;34m'fit_var_ratio'\u001b[0m\u001b[0;34m]\u001b[0m \u001b[0;34m=\u001b[0m \u001b[0mres\u001b[0m\u001b[0;34m[\u001b[0m\u001b[0;34m'fit_var'\u001b[0m\u001b[0;34m]\u001b[0m \u001b[0;34m/\u001b[0m \u001b[0mres\u001b[0m\u001b[0;34m[\u001b[0m\u001b[0;34m'tot_var'\u001b[0m\u001b[0;34m]\u001b[0m\u001b[0;34m\u001b[0m\u001b[0;34m\u001b[0m\u001b[0m\n",
      "\u001b[0m\n",
      "ipdb> c\n",
      "> \u001b[0;32m/tmp/ipykernel_264460/2900392745.py\u001b[0m(17)\u001b[0;36mdecompose_variability_onetrialtype\u001b[0;34m()\u001b[0m\n",
      "\u001b[0;32m     15 \u001b[0;31m    \u001b[0mres\u001b[0m\u001b[0;34m[\u001b[0m\u001b[0;34m'fit_var'\u001b[0m\u001b[0;34m]\u001b[0m \u001b[0;34m=\u001b[0m \u001b[0mXhat_rescaled_back\u001b[0m\u001b[0;34m.\u001b[0m\u001b[0mvar\u001b[0m\u001b[0;34m(\u001b[0m\u001b[0maxis\u001b[0m\u001b[0;34m=\u001b[0m\u001b[0;36m1\u001b[0m\u001b[0;34m,\u001b[0m\u001b[0mddof\u001b[0m\u001b[0;34m=\u001b[0m\u001b[0;36m0\u001b[0m\u001b[0;34m)\u001b[0m\u001b[0;34m\u001b[0m\u001b[0;34m\u001b[0m\u001b[0m\n",
      "\u001b[0m\u001b[0;32m     16 \u001b[0;31m    \u001b[0mpdb\u001b[0m\u001b[0;34m.\u001b[0m\u001b[0mset_trace\u001b[0m\u001b[0;34m(\u001b[0m\u001b[0;34m)\u001b[0m\u001b[0;34m\u001b[0m\u001b[0;34m\u001b[0m\u001b[0m\n",
      "\u001b[0m\u001b[0;32m---> 17 \u001b[0;31m    \u001b[0mresid\u001b[0m \u001b[0;34m=\u001b[0m \u001b[0mfr_trial_one\u001b[0m \u001b[0;34m-\u001b[0m \u001b[0mXhat_rescaled_back\u001b[0m\u001b[0;34m\u001b[0m\u001b[0;34m\u001b[0m\u001b[0m\n",
      "\u001b[0m\u001b[0;32m     18 \u001b[0;31m    \u001b[0mres\u001b[0m\u001b[0;34m[\u001b[0m\u001b[0;34m'resid2_mean'\u001b[0m\u001b[0;34m]\u001b[0m \u001b[0;34m=\u001b[0m \u001b[0;34m(\u001b[0m\u001b[0mresid\u001b[0m\u001b[0;34m**\u001b[0m\u001b[0;36m2\u001b[0m\u001b[0;34m)\u001b[0m\u001b[0;34m.\u001b[0m\u001b[0mmean\u001b[0m\u001b[0;34m(\u001b[0m\u001b[0maxis\u001b[0m\u001b[0;34m=\u001b[0m\u001b[0;36m1\u001b[0m\u001b[0;34m)\u001b[0m\u001b[0;34m\u001b[0m\u001b[0;34m\u001b[0m\u001b[0m\n",
      "\u001b[0m\u001b[0;32m     19 \u001b[0;31m    \u001b[0mres\u001b[0m\u001b[0;34m[\u001b[0m\u001b[0;34m'fit_var_ratio'\u001b[0m\u001b[0;34m]\u001b[0m \u001b[0;34m=\u001b[0m \u001b[0mres\u001b[0m\u001b[0;34m[\u001b[0m\u001b[0;34m'fit_var'\u001b[0m\u001b[0;34m]\u001b[0m \u001b[0;34m/\u001b[0m \u001b[0mres\u001b[0m\u001b[0;34m[\u001b[0m\u001b[0;34m'tot_var'\u001b[0m\u001b[0;34m]\u001b[0m\u001b[0;34m\u001b[0m\u001b[0;34m\u001b[0m\u001b[0m\n",
      "\u001b[0m\n",
      "ipdb> c\n",
      "> \u001b[0;32m/tmp/ipykernel_264460/2900392745.py\u001b[0m(17)\u001b[0;36mdecompose_variability_onetrialtype\u001b[0;34m()\u001b[0m\n",
      "\u001b[0;32m     15 \u001b[0;31m    \u001b[0mres\u001b[0m\u001b[0;34m[\u001b[0m\u001b[0;34m'fit_var'\u001b[0m\u001b[0;34m]\u001b[0m \u001b[0;34m=\u001b[0m \u001b[0mXhat_rescaled_back\u001b[0m\u001b[0;34m.\u001b[0m\u001b[0mvar\u001b[0m\u001b[0;34m(\u001b[0m\u001b[0maxis\u001b[0m\u001b[0;34m=\u001b[0m\u001b[0;36m1\u001b[0m\u001b[0;34m,\u001b[0m\u001b[0mddof\u001b[0m\u001b[0;34m=\u001b[0m\u001b[0;36m0\u001b[0m\u001b[0;34m)\u001b[0m\u001b[0;34m\u001b[0m\u001b[0;34m\u001b[0m\u001b[0m\n",
      "\u001b[0m\u001b[0;32m     16 \u001b[0;31m    \u001b[0mpdb\u001b[0m\u001b[0;34m.\u001b[0m\u001b[0mset_trace\u001b[0m\u001b[0;34m(\u001b[0m\u001b[0;34m)\u001b[0m\u001b[0;34m\u001b[0m\u001b[0;34m\u001b[0m\u001b[0m\n",
      "\u001b[0m\u001b[0;32m---> 17 \u001b[0;31m    \u001b[0mresid\u001b[0m \u001b[0;34m=\u001b[0m \u001b[0mfr_trial_one\u001b[0m \u001b[0;34m-\u001b[0m \u001b[0mXhat_rescaled_back\u001b[0m\u001b[0;34m\u001b[0m\u001b[0;34m\u001b[0m\u001b[0m\n",
      "\u001b[0m\u001b[0;32m     18 \u001b[0;31m    \u001b[0mres\u001b[0m\u001b[0;34m[\u001b[0m\u001b[0;34m'resid2_mean'\u001b[0m\u001b[0;34m]\u001b[0m \u001b[0;34m=\u001b[0m \u001b[0;34m(\u001b[0m\u001b[0mresid\u001b[0m\u001b[0;34m**\u001b[0m\u001b[0;36m2\u001b[0m\u001b[0;34m)\u001b[0m\u001b[0;34m.\u001b[0m\u001b[0mmean\u001b[0m\u001b[0;34m(\u001b[0m\u001b[0maxis\u001b[0m\u001b[0;34m=\u001b[0m\u001b[0;36m1\u001b[0m\u001b[0;34m)\u001b[0m\u001b[0;34m\u001b[0m\u001b[0;34m\u001b[0m\u001b[0m\n",
      "\u001b[0m\u001b[0;32m     19 \u001b[0;31m    \u001b[0mres\u001b[0m\u001b[0;34m[\u001b[0m\u001b[0;34m'fit_var_ratio'\u001b[0m\u001b[0;34m]\u001b[0m \u001b[0;34m=\u001b[0m \u001b[0mres\u001b[0m\u001b[0;34m[\u001b[0m\u001b[0;34m'fit_var'\u001b[0m\u001b[0;34m]\u001b[0m \u001b[0;34m/\u001b[0m \u001b[0mres\u001b[0m\u001b[0;34m[\u001b[0m\u001b[0;34m'tot_var'\u001b[0m\u001b[0;34m]\u001b[0m\u001b[0;34m\u001b[0m\u001b[0;34m\u001b[0m\u001b[0m\n",
      "\u001b[0m\n",
      "ipdb> c\n",
      "> \u001b[0;32m/tmp/ipykernel_264460/2900392745.py\u001b[0m(17)\u001b[0;36mdecompose_variability_onetrialtype\u001b[0;34m()\u001b[0m\n",
      "\u001b[0;32m     15 \u001b[0;31m    \u001b[0mres\u001b[0m\u001b[0;34m[\u001b[0m\u001b[0;34m'fit_var'\u001b[0m\u001b[0;34m]\u001b[0m \u001b[0;34m=\u001b[0m \u001b[0mXhat_rescaled_back\u001b[0m\u001b[0;34m.\u001b[0m\u001b[0mvar\u001b[0m\u001b[0;34m(\u001b[0m\u001b[0maxis\u001b[0m\u001b[0;34m=\u001b[0m\u001b[0;36m1\u001b[0m\u001b[0;34m,\u001b[0m\u001b[0mddof\u001b[0m\u001b[0;34m=\u001b[0m\u001b[0;36m0\u001b[0m\u001b[0;34m)\u001b[0m\u001b[0;34m\u001b[0m\u001b[0;34m\u001b[0m\u001b[0m\n",
      "\u001b[0m\u001b[0;32m     16 \u001b[0;31m    \u001b[0mpdb\u001b[0m\u001b[0;34m.\u001b[0m\u001b[0mset_trace\u001b[0m\u001b[0;34m(\u001b[0m\u001b[0;34m)\u001b[0m\u001b[0;34m\u001b[0m\u001b[0;34m\u001b[0m\u001b[0m\n",
      "\u001b[0m\u001b[0;32m---> 17 \u001b[0;31m    \u001b[0mresid\u001b[0m \u001b[0;34m=\u001b[0m \u001b[0mfr_trial_one\u001b[0m \u001b[0;34m-\u001b[0m \u001b[0mXhat_rescaled_back\u001b[0m\u001b[0;34m\u001b[0m\u001b[0;34m\u001b[0m\u001b[0m\n",
      "\u001b[0m\u001b[0;32m     18 \u001b[0;31m    \u001b[0mres\u001b[0m\u001b[0;34m[\u001b[0m\u001b[0;34m'resid2_mean'\u001b[0m\u001b[0;34m]\u001b[0m \u001b[0;34m=\u001b[0m \u001b[0;34m(\u001b[0m\u001b[0mresid\u001b[0m\u001b[0;34m**\u001b[0m\u001b[0;36m2\u001b[0m\u001b[0;34m)\u001b[0m\u001b[0;34m.\u001b[0m\u001b[0mmean\u001b[0m\u001b[0;34m(\u001b[0m\u001b[0maxis\u001b[0m\u001b[0;34m=\u001b[0m\u001b[0;36m1\u001b[0m\u001b[0;34m)\u001b[0m\u001b[0;34m\u001b[0m\u001b[0;34m\u001b[0m\u001b[0m\n",
      "\u001b[0m\u001b[0;32m     19 \u001b[0;31m    \u001b[0mres\u001b[0m\u001b[0;34m[\u001b[0m\u001b[0;34m'fit_var_ratio'\u001b[0m\u001b[0;34m]\u001b[0m \u001b[0;34m=\u001b[0m \u001b[0mres\u001b[0m\u001b[0;34m[\u001b[0m\u001b[0;34m'fit_var'\u001b[0m\u001b[0;34m]\u001b[0m \u001b[0;34m/\u001b[0m \u001b[0mres\u001b[0m\u001b[0;34m[\u001b[0m\u001b[0;34m'tot_var'\u001b[0m\u001b[0;34m]\u001b[0m\u001b[0;34m\u001b[0m\u001b[0;34m\u001b[0m\u001b[0m\n",
      "\u001b[0m\n"
     ]
    },
    {
     "name": "stdout",
     "output_type": "stream",
     "text": [
      "ipdb> c\n"
     ]
    }
   ],
   "source": [
    "changes_df_all = get_changes_df(X_pwc_norm,X)\n",
    "var_res_all,all_corr,p_corr = decompose_variability_all_trialtype(X_pwc,X,rescale_to_max=False)"
   ]
  },
  {
   "cell_type": "code",
   "execution_count": 88,
   "id": "2b790942",
   "metadata": {},
   "outputs": [
    {
     "data": {
      "text/html": [
       "<div>\n",
       "<style scoped>\n",
       "    .dataframe tbody tr th:only-of-type {\n",
       "        vertical-align: middle;\n",
       "    }\n",
       "\n",
       "    .dataframe tbody tr th {\n",
       "        vertical-align: top;\n",
       "    }\n",
       "\n",
       "    .dataframe thead th {\n",
       "        text-align: right;\n",
       "    }\n",
       "</style>\n",
       "<table border=\"1\" class=\"dataframe\">\n",
       "  <thead>\n",
       "    <tr style=\"text-align: right;\">\n",
       "      <th></th>\n",
       "      <th></th>\n",
       "      <th></th>\n",
       "      <th></th>\n",
       "      <th>tot_var</th>\n",
       "      <th>mean</th>\n",
       "      <th>fit_var</th>\n",
       "      <th>resid2_mean</th>\n",
       "      <th>fit_var_ratio</th>\n",
       "      <th>resid2_mean_ratio</th>\n",
       "      <th>tot_var_norm</th>\n",
       "      <th>fit_var_norm</th>\n",
       "      <th>resid2_mean_norm</th>\n",
       "    </tr>\n",
       "  </thead>\n",
       "  <tbody>\n",
       "    <tr>\n",
       "      <th rowspan=\"5\" valign=\"top\">0</th>\n",
       "      <th rowspan=\"5\" valign=\"top\">0.0</th>\n",
       "      <th>11</th>\n",
       "      <th>1</th>\n",
       "      <td>12.999662</td>\n",
       "      <td>11.006213</td>\n",
       "      <td>6.849420</td>\n",
       "      <td>6.150242</td>\n",
       "      <td>0.526892</td>\n",
       "      <td>0.473108</td>\n",
       "      <td>1.181120</td>\n",
       "      <td>0.622323</td>\n",
       "      <td>0.558797</td>\n",
       "    </tr>\n",
       "    <tr>\n",
       "      <th rowspan=\"3\" valign=\"top\">27</th>\n",
       "      <th>0</th>\n",
       "      <td>24.028655</td>\n",
       "      <td>20.519826</td>\n",
       "      <td>6.053510</td>\n",
       "      <td>17.975145</td>\n",
       "      <td>0.251929</td>\n",
       "      <td>0.748071</td>\n",
       "      <td>1.170997</td>\n",
       "      <td>0.295008</td>\n",
       "      <td>0.875989</td>\n",
       "    </tr>\n",
       "    <tr>\n",
       "      <th>1</th>\n",
       "      <td>16.651903</td>\n",
       "      <td>16.452796</td>\n",
       "      <td>4.046118</td>\n",
       "      <td>12.605786</td>\n",
       "      <td>0.242982</td>\n",
       "      <td>0.757018</td>\n",
       "      <td>1.012102</td>\n",
       "      <td>0.245923</td>\n",
       "      <td>0.766179</td>\n",
       "    </tr>\n",
       "    <tr>\n",
       "      <th>3</th>\n",
       "      <td>13.473483</td>\n",
       "      <td>15.141640</td>\n",
       "      <td>4.122388</td>\n",
       "      <td>9.351095</td>\n",
       "      <td>0.305963</td>\n",
       "      <td>0.694037</td>\n",
       "      <td>0.889830</td>\n",
       "      <td>0.272255</td>\n",
       "      <td>0.617575</td>\n",
       "    </tr>\n",
       "    <tr>\n",
       "      <th>35</th>\n",
       "      <th>1</th>\n",
       "      <td>4.248476</td>\n",
       "      <td>3.620049</td>\n",
       "      <td>1.855994</td>\n",
       "      <td>2.392482</td>\n",
       "      <td>0.436861</td>\n",
       "      <td>0.563139</td>\n",
       "      <td>1.173596</td>\n",
       "      <td>0.512699</td>\n",
       "      <td>0.660898</td>\n",
       "    </tr>\n",
       "    <tr>\n",
       "      <th>...</th>\n",
       "      <th>...</th>\n",
       "      <th>...</th>\n",
       "      <th>...</th>\n",
       "      <td>...</td>\n",
       "      <td>...</td>\n",
       "      <td>...</td>\n",
       "      <td>...</td>\n",
       "      <td>...</td>\n",
       "      <td>...</td>\n",
       "      <td>...</td>\n",
       "      <td>...</td>\n",
       "      <td>...</td>\n",
       "    </tr>\n",
       "    <tr>\n",
       "      <th rowspan=\"5\" valign=\"top\">1</th>\n",
       "      <th rowspan=\"5\" valign=\"top\">both</th>\n",
       "      <th>250</th>\n",
       "      <th>0</th>\n",
       "      <td>3.264482</td>\n",
       "      <td>2.716905</td>\n",
       "      <td>0.000000</td>\n",
       "      <td>3.264482</td>\n",
       "      <td>0.000000</td>\n",
       "      <td>1.000000</td>\n",
       "      <td>1.201545</td>\n",
       "      <td>0.000000</td>\n",
       "      <td>1.201545</td>\n",
       "    </tr>\n",
       "    <tr>\n",
       "      <th>252</th>\n",
       "      <th>0</th>\n",
       "      <td>61.676918</td>\n",
       "      <td>8.810969</td>\n",
       "      <td>18.228328</td>\n",
       "      <td>43.448589</td>\n",
       "      <td>0.295545</td>\n",
       "      <td>0.704455</td>\n",
       "      <td>7.000016</td>\n",
       "      <td>2.068822</td>\n",
       "      <td>4.931193</td>\n",
       "    </tr>\n",
       "    <tr>\n",
       "      <th>253</th>\n",
       "      <th>0</th>\n",
       "      <td>11.279617</td>\n",
       "      <td>3.386679</td>\n",
       "      <td>5.659269</td>\n",
       "      <td>5.620347</td>\n",
       "      <td>0.501725</td>\n",
       "      <td>0.498275</td>\n",
       "      <td>3.330584</td>\n",
       "      <td>1.671038</td>\n",
       "      <td>1.659546</td>\n",
       "    </tr>\n",
       "    <tr>\n",
       "      <th>261</th>\n",
       "      <th>0</th>\n",
       "      <td>47.120092</td>\n",
       "      <td>6.580375</td>\n",
       "      <td>0.000000</td>\n",
       "      <td>47.120092</td>\n",
       "      <td>0.000000</td>\n",
       "      <td>1.000000</td>\n",
       "      <td>7.160700</td>\n",
       "      <td>0.000000</td>\n",
       "      <td>7.160700</td>\n",
       "    </tr>\n",
       "    <tr>\n",
       "      <th>266</th>\n",
       "      <th>0</th>\n",
       "      <td>6.678333</td>\n",
       "      <td>1.911848</td>\n",
       "      <td>0.000000</td>\n",
       "      <td>6.678333</td>\n",
       "      <td>0.000000</td>\n",
       "      <td>1.000000</td>\n",
       "      <td>3.493131</td>\n",
       "      <td>0.000000</td>\n",
       "      <td>3.493131</td>\n",
       "    </tr>\n",
       "  </tbody>\n",
       "</table>\n",
       "<p>805 rows × 9 columns</p>\n",
       "</div>"
      ],
      "text/plain": [
       "                tot_var       mean    fit_var  resid2_mean  fit_var_ratio  \\\n",
       "0 0.0  11  1  12.999662  11.006213   6.849420     6.150242       0.526892   \n",
       "       27  0  24.028655  20.519826   6.053510    17.975145       0.251929   \n",
       "           1  16.651903  16.452796   4.046118    12.605786       0.242982   \n",
       "           3  13.473483  15.141640   4.122388     9.351095       0.305963   \n",
       "       35  1   4.248476   3.620049   1.855994     2.392482       0.436861   \n",
       "...                 ...        ...        ...          ...            ...   \n",
       "1 both 250 0   3.264482   2.716905   0.000000     3.264482       0.000000   \n",
       "       252 0  61.676918   8.810969  18.228328    43.448589       0.295545   \n",
       "       253 0  11.279617   3.386679   5.659269     5.620347       0.501725   \n",
       "       261 0  47.120092   6.580375   0.000000    47.120092       0.000000   \n",
       "       266 0   6.678333   1.911848   0.000000     6.678333       0.000000   \n",
       "\n",
       "              resid2_mean_ratio  tot_var_norm  fit_var_norm  resid2_mean_norm  \n",
       "0 0.0  11  1           0.473108      1.181120      0.622323          0.558797  \n",
       "       27  0           0.748071      1.170997      0.295008          0.875989  \n",
       "           1           0.757018      1.012102      0.245923          0.766179  \n",
       "           3           0.694037      0.889830      0.272255          0.617575  \n",
       "       35  1           0.563139      1.173596      0.512699          0.660898  \n",
       "...                         ...           ...           ...               ...  \n",
       "1 both 250 0           1.000000      1.201545      0.000000          1.201545  \n",
       "       252 0           0.704455      7.000016      2.068822          4.931193  \n",
       "       253 0           0.498275      3.330584      1.671038          1.659546  \n",
       "       261 0           1.000000      7.160700      0.000000          7.160700  \n",
       "       266 0           1.000000      3.493131      0.000000          3.493131  \n",
       "\n",
       "[805 rows x 9 columns]"
      ]
     },
     "execution_count": 88,
     "metadata": {},
     "output_type": "execute_result"
    }
   ],
   "source": [
    "var_res_all"
   ]
  },
  {
   "cell_type": "code",
   "execution_count": 50,
   "id": "717a5ac1",
   "metadata": {},
   "outputs": [],
   "source": [
    "# get changes_df\n",
    "changes_df_all = []\n",
    "for k,val in X_pwc_norm.groupby(level=(0,1)):\n",
    "    val = val.dropna(axis=1,how='all')\n",
    "    sw_on,sw_off,changes_df = cpa.detect_switch_pwc(val,switch_magnitude=0.4,low_thresh=1.,high_thresh=0.)\n",
    "#     changes_df.columns=  val.columns\n",
    "#     changes_df.index=val.index\n",
    "    changes_df_all.append(changes_df)\n",
    "changes_df_all = pd.concat(changes_df_all,axis=0)\n",
    "changes_df_all = changes_df_all.sort_index(axis=1)"
   ]
  },
  {
   "cell_type": "code",
   "execution_count": null,
   "id": "a09ac04d",
   "metadata": {},
   "outputs": [],
   "source": [
    "# decompose variability\n",
    "\n",
    "    \n",
    "    "
   ]
  },
  {
   "cell_type": "code",
   "execution_count": 62,
   "id": "2ec028df",
   "metadata": {},
   "outputs": [],
   "source": [
    "tt=0,0\n",
    "Xhat_one = X_pwc.loc[tt].dropna(axis=1,how='all')\n",
    "fr_trial_one = X.loc[tt].dropna(axis=1,how='all')"
   ]
  },
  {
   "cell_type": "code",
   "execution_count": 63,
   "id": "89e44e1c",
   "metadata": {},
   "outputs": [
    {
     "data": {
      "text/html": [
       "<div>\n",
       "<style scoped>\n",
       "    .dataframe tbody tr th:only-of-type {\n",
       "        vertical-align: middle;\n",
       "    }\n",
       "\n",
       "    .dataframe tbody tr th {\n",
       "        vertical-align: top;\n",
       "    }\n",
       "\n",
       "    .dataframe thead th {\n",
       "        text-align: right;\n",
       "    }\n",
       "</style>\n",
       "<table border=\"1\" class=\"dataframe\">\n",
       "  <thead>\n",
       "    <tr style=\"text-align: right;\">\n",
       "      <th></th>\n",
       "      <th></th>\n",
       "      <th>tot_var</th>\n",
       "      <th>mean</th>\n",
       "      <th>fit_var</th>\n",
       "      <th>resid2_mean</th>\n",
       "      <th>fit_var_ratio</th>\n",
       "      <th>resid2_mean_ratio</th>\n",
       "      <th>tot_var_norm</th>\n",
       "      <th>fit_var_norm</th>\n",
       "      <th>resid2_mean_norm</th>\n",
       "    </tr>\n",
       "  </thead>\n",
       "  <tbody>\n",
       "    <tr>\n",
       "      <th>11</th>\n",
       "      <th>1</th>\n",
       "      <td>12.999662</td>\n",
       "      <td>11.006213</td>\n",
       "      <td>6.849420e+00</td>\n",
       "      <td>6.150242</td>\n",
       "      <td>5.268921e-01</td>\n",
       "      <td>0.473108</td>\n",
       "      <td>1.181120</td>\n",
       "      <td>6.223230e-01</td>\n",
       "      <td>0.558797</td>\n",
       "    </tr>\n",
       "    <tr>\n",
       "      <th rowspan=\"3\" valign=\"top\">27</th>\n",
       "      <th>0</th>\n",
       "      <td>24.028655</td>\n",
       "      <td>20.519826</td>\n",
       "      <td>6.053510e+00</td>\n",
       "      <td>17.975145</td>\n",
       "      <td>2.519288e-01</td>\n",
       "      <td>0.748071</td>\n",
       "      <td>1.170997</td>\n",
       "      <td>2.950079e-01</td>\n",
       "      <td>0.875989</td>\n",
       "    </tr>\n",
       "    <tr>\n",
       "      <th>1</th>\n",
       "      <td>16.651903</td>\n",
       "      <td>16.452796</td>\n",
       "      <td>4.046118e+00</td>\n",
       "      <td>12.605786</td>\n",
       "      <td>2.429823e-01</td>\n",
       "      <td>0.757018</td>\n",
       "      <td>1.012102</td>\n",
       "      <td>2.459228e-01</td>\n",
       "      <td>0.766179</td>\n",
       "    </tr>\n",
       "    <tr>\n",
       "      <th>3</th>\n",
       "      <td>13.473483</td>\n",
       "      <td>15.141640</td>\n",
       "      <td>4.122388e+00</td>\n",
       "      <td>9.351095</td>\n",
       "      <td>3.059630e-01</td>\n",
       "      <td>0.694037</td>\n",
       "      <td>0.889830</td>\n",
       "      <td>2.722550e-01</td>\n",
       "      <td>0.617575</td>\n",
       "    </tr>\n",
       "    <tr>\n",
       "      <th>35</th>\n",
       "      <th>1</th>\n",
       "      <td>4.248476</td>\n",
       "      <td>3.620049</td>\n",
       "      <td>1.855994e+00</td>\n",
       "      <td>2.392482</td>\n",
       "      <td>4.368612e-01</td>\n",
       "      <td>0.563139</td>\n",
       "      <td>1.173596</td>\n",
       "      <td>5.126987e-01</td>\n",
       "      <td>0.660898</td>\n",
       "    </tr>\n",
       "    <tr>\n",
       "      <th>...</th>\n",
       "      <th>...</th>\n",
       "      <td>...</td>\n",
       "      <td>...</td>\n",
       "      <td>...</td>\n",
       "      <td>...</td>\n",
       "      <td>...</td>\n",
       "      <td>...</td>\n",
       "      <td>...</td>\n",
       "      <td>...</td>\n",
       "      <td>...</td>\n",
       "    </tr>\n",
       "    <tr>\n",
       "      <th rowspan=\"2\" valign=\"top\">264</th>\n",
       "      <th>1</th>\n",
       "      <td>6.752717</td>\n",
       "      <td>6.135650</td>\n",
       "      <td>3.996746e+00</td>\n",
       "      <td>2.755971</td>\n",
       "      <td>5.918722e-01</td>\n",
       "      <td>0.408128</td>\n",
       "      <td>1.100571</td>\n",
       "      <td>6.513972e-01</td>\n",
       "      <td>0.449173</td>\n",
       "    </tr>\n",
       "    <tr>\n",
       "      <th>2</th>\n",
       "      <td>5.474198</td>\n",
       "      <td>5.516230</td>\n",
       "      <td>2.916684e+00</td>\n",
       "      <td>2.557514</td>\n",
       "      <td>5.328057e-01</td>\n",
       "      <td>0.467194</td>\n",
       "      <td>0.992380</td>\n",
       "      <td>5.287458e-01</td>\n",
       "      <td>0.463634</td>\n",
       "    </tr>\n",
       "    <tr>\n",
       "      <th>267</th>\n",
       "      <th>0</th>\n",
       "      <td>39.276127</td>\n",
       "      <td>9.707246</td>\n",
       "      <td>2.122646e+01</td>\n",
       "      <td>18.049666</td>\n",
       "      <td>5.404418e-01</td>\n",
       "      <td>0.459558</td>\n",
       "      <td>4.046063</td>\n",
       "      <td>2.186662e+00</td>\n",
       "      <td>1.859401</td>\n",
       "    </tr>\n",
       "    <tr>\n",
       "      <th>270</th>\n",
       "      <th>1</th>\n",
       "      <td>67.603817</td>\n",
       "      <td>10.813069</td>\n",
       "      <td>3.155444e-30</td>\n",
       "      <td>67.603817</td>\n",
       "      <td>4.667552e-32</td>\n",
       "      <td>1.000000</td>\n",
       "      <td>6.252047</td>\n",
       "      <td>2.918176e-31</td>\n",
       "      <td>6.252047</td>\n",
       "    </tr>\n",
       "    <tr>\n",
       "      <th>271</th>\n",
       "      <th>0</th>\n",
       "      <td>2.110622</td>\n",
       "      <td>5.380288</td>\n",
       "      <td>3.155444e-30</td>\n",
       "      <td>2.110622</td>\n",
       "      <td>1.495030e-30</td>\n",
       "      <td>1.000000</td>\n",
       "      <td>0.392288</td>\n",
       "      <td>5.864823e-31</td>\n",
       "      <td>0.392288</td>\n",
       "    </tr>\n",
       "  </tbody>\n",
       "</table>\n",
       "<p>208 rows × 9 columns</p>\n",
       "</div>"
      ],
      "text/plain": [
       "         tot_var       mean       fit_var  resid2_mean  fit_var_ratio  \\\n",
       "11  1  12.999662  11.006213  6.849420e+00     6.150242   5.268921e-01   \n",
       "27  0  24.028655  20.519826  6.053510e+00    17.975145   2.519288e-01   \n",
       "    1  16.651903  16.452796  4.046118e+00    12.605786   2.429823e-01   \n",
       "    3  13.473483  15.141640  4.122388e+00     9.351095   3.059630e-01   \n",
       "35  1   4.248476   3.620049  1.855994e+00     2.392482   4.368612e-01   \n",
       "...          ...        ...           ...          ...            ...   \n",
       "264 1   6.752717   6.135650  3.996746e+00     2.755971   5.918722e-01   \n",
       "    2   5.474198   5.516230  2.916684e+00     2.557514   5.328057e-01   \n",
       "267 0  39.276127   9.707246  2.122646e+01    18.049666   5.404418e-01   \n",
       "270 1  67.603817  10.813069  3.155444e-30    67.603817   4.667552e-32   \n",
       "271 0   2.110622   5.380288  3.155444e-30     2.110622   1.495030e-30   \n",
       "\n",
       "       resid2_mean_ratio  tot_var_norm  fit_var_norm  resid2_mean_norm  \n",
       "11  1           0.473108      1.181120  6.223230e-01          0.558797  \n",
       "27  0           0.748071      1.170997  2.950079e-01          0.875989  \n",
       "    1           0.757018      1.012102  2.459228e-01          0.766179  \n",
       "    3           0.694037      0.889830  2.722550e-01          0.617575  \n",
       "35  1           0.563139      1.173596  5.126987e-01          0.660898  \n",
       "...                  ...           ...           ...               ...  \n",
       "264 1           0.408128      1.100571  6.513972e-01          0.449173  \n",
       "    2           0.467194      0.992380  5.287458e-01          0.463634  \n",
       "267 0           0.459558      4.046063  2.186662e+00          1.859401  \n",
       "270 1           1.000000      6.252047  2.918176e-31          6.252047  \n",
       "271 0           1.000000      0.392288  5.864823e-31          0.392288  \n",
       "\n",
       "[208 rows x 9 columns]"
      ]
     },
     "execution_count": 63,
     "metadata": {},
     "output_type": "execute_result"
    }
   ],
   "source": [
    "decompose_variability_onetrialtype(Xhat_one,fr_trial_one)"
   ]
  },
  {
   "cell_type": "code",
   "execution_count": 73,
   "id": "20fdc0a7",
   "metadata": {},
   "outputs": [],
   "source": []
  },
  {
   "cell_type": "code",
   "execution_count": null,
   "id": "cd85f2c5",
   "metadata": {},
   "outputs": [],
   "source": []
  },
  {
   "cell_type": "code",
   "execution_count": 52,
   "id": "4a6f4ff1",
   "metadata": {
    "scrolled": true
   },
   "outputs": [
    {
     "data": {
      "text/html": [
       "<div>\n",
       "<style scoped>\n",
       "    .dataframe tbody tr th:only-of-type {\n",
       "        vertical-align: middle;\n",
       "    }\n",
       "\n",
       "    .dataframe tbody tr th {\n",
       "        vertical-align: top;\n",
       "    }\n",
       "\n",
       "    .dataframe thead th {\n",
       "        text-align: right;\n",
       "    }\n",
       "</style>\n",
       "<table border=\"1\" class=\"dataframe\">\n",
       "  <thead>\n",
       "    <tr style=\"text-align: right;\">\n",
       "      <th></th>\n",
       "      <th></th>\n",
       "      <th></th>\n",
       "      <th></th>\n",
       "      <th>0</th>\n",
       "      <th>1</th>\n",
       "      <th>2</th>\n",
       "      <th>3</th>\n",
       "      <th>4</th>\n",
       "      <th>5</th>\n",
       "      <th>6</th>\n",
       "      <th>7</th>\n",
       "      <th>8</th>\n",
       "      <th>9</th>\n",
       "      <th>...</th>\n",
       "      <th>37</th>\n",
       "      <th>38</th>\n",
       "      <th>39</th>\n",
       "      <th>40</th>\n",
       "      <th>41</th>\n",
       "      <th>42</th>\n",
       "      <th>43</th>\n",
       "      <th>44</th>\n",
       "      <th>45</th>\n",
       "      <th>46</th>\n",
       "    </tr>\n",
       "  </thead>\n",
       "  <tbody>\n",
       "    <tr>\n",
       "      <th rowspan=\"5\" valign=\"top\">0</th>\n",
       "      <th rowspan=\"5\" valign=\"top\">0.0</th>\n",
       "      <th>11</th>\n",
       "      <th>1</th>\n",
       "      <td>NaN</td>\n",
       "      <td>0.0</td>\n",
       "      <td>NaN</td>\n",
       "      <td>0.0</td>\n",
       "      <td>NaN</td>\n",
       "      <td>0.0</td>\n",
       "      <td>0.0</td>\n",
       "      <td>NaN</td>\n",
       "      <td>0.0</td>\n",
       "      <td>0.0</td>\n",
       "      <td>...</td>\n",
       "      <td>0.0</td>\n",
       "      <td>0.0</td>\n",
       "      <td>NaN</td>\n",
       "      <td>0.0</td>\n",
       "      <td>NaN</td>\n",
       "      <td>1.0</td>\n",
       "      <td>NaN</td>\n",
       "      <td>0.0</td>\n",
       "      <td>0.0</td>\n",
       "      <td>NaN</td>\n",
       "    </tr>\n",
       "    <tr>\n",
       "      <th rowspan=\"3\" valign=\"top\">27</th>\n",
       "      <th>0</th>\n",
       "      <td>NaN</td>\n",
       "      <td>0.0</td>\n",
       "      <td>NaN</td>\n",
       "      <td>0.0</td>\n",
       "      <td>NaN</td>\n",
       "      <td>0.0</td>\n",
       "      <td>0.0</td>\n",
       "      <td>NaN</td>\n",
       "      <td>0.0</td>\n",
       "      <td>0.0</td>\n",
       "      <td>...</td>\n",
       "      <td>0.0</td>\n",
       "      <td>0.0</td>\n",
       "      <td>NaN</td>\n",
       "      <td>0.0</td>\n",
       "      <td>NaN</td>\n",
       "      <td>0.0</td>\n",
       "      <td>NaN</td>\n",
       "      <td>0.0</td>\n",
       "      <td>0.0</td>\n",
       "      <td>NaN</td>\n",
       "    </tr>\n",
       "    <tr>\n",
       "      <th>1</th>\n",
       "      <td>NaN</td>\n",
       "      <td>0.0</td>\n",
       "      <td>NaN</td>\n",
       "      <td>0.0</td>\n",
       "      <td>NaN</td>\n",
       "      <td>0.0</td>\n",
       "      <td>0.0</td>\n",
       "      <td>NaN</td>\n",
       "      <td>0.0</td>\n",
       "      <td>0.0</td>\n",
       "      <td>...</td>\n",
       "      <td>0.0</td>\n",
       "      <td>0.0</td>\n",
       "      <td>NaN</td>\n",
       "      <td>0.0</td>\n",
       "      <td>NaN</td>\n",
       "      <td>0.0</td>\n",
       "      <td>NaN</td>\n",
       "      <td>0.0</td>\n",
       "      <td>0.0</td>\n",
       "      <td>NaN</td>\n",
       "    </tr>\n",
       "    <tr>\n",
       "      <th>3</th>\n",
       "      <td>NaN</td>\n",
       "      <td>0.0</td>\n",
       "      <td>NaN</td>\n",
       "      <td>0.0</td>\n",
       "      <td>NaN</td>\n",
       "      <td>0.0</td>\n",
       "      <td>0.0</td>\n",
       "      <td>NaN</td>\n",
       "      <td>0.0</td>\n",
       "      <td>0.0</td>\n",
       "      <td>...</td>\n",
       "      <td>0.0</td>\n",
       "      <td>0.0</td>\n",
       "      <td>NaN</td>\n",
       "      <td>0.0</td>\n",
       "      <td>NaN</td>\n",
       "      <td>0.0</td>\n",
       "      <td>NaN</td>\n",
       "      <td>0.0</td>\n",
       "      <td>0.0</td>\n",
       "      <td>NaN</td>\n",
       "    </tr>\n",
       "    <tr>\n",
       "      <th>35</th>\n",
       "      <th>1</th>\n",
       "      <td>NaN</td>\n",
       "      <td>0.0</td>\n",
       "      <td>NaN</td>\n",
       "      <td>0.0</td>\n",
       "      <td>NaN</td>\n",
       "      <td>0.0</td>\n",
       "      <td>0.0</td>\n",
       "      <td>NaN</td>\n",
       "      <td>0.0</td>\n",
       "      <td>0.0</td>\n",
       "      <td>...</td>\n",
       "      <td>0.0</td>\n",
       "      <td>0.0</td>\n",
       "      <td>NaN</td>\n",
       "      <td>0.0</td>\n",
       "      <td>NaN</td>\n",
       "      <td>0.0</td>\n",
       "      <td>NaN</td>\n",
       "      <td>0.0</td>\n",
       "      <td>0.0</td>\n",
       "      <td>NaN</td>\n",
       "    </tr>\n",
       "    <tr>\n",
       "      <th>...</th>\n",
       "      <th>...</th>\n",
       "      <th>...</th>\n",
       "      <th>...</th>\n",
       "      <td>...</td>\n",
       "      <td>...</td>\n",
       "      <td>...</td>\n",
       "      <td>...</td>\n",
       "      <td>...</td>\n",
       "      <td>...</td>\n",
       "      <td>...</td>\n",
       "      <td>...</td>\n",
       "      <td>...</td>\n",
       "      <td>...</td>\n",
       "      <td>...</td>\n",
       "      <td>...</td>\n",
       "      <td>...</td>\n",
       "      <td>...</td>\n",
       "      <td>...</td>\n",
       "      <td>...</td>\n",
       "      <td>...</td>\n",
       "      <td>...</td>\n",
       "      <td>...</td>\n",
       "      <td>...</td>\n",
       "      <td>...</td>\n",
       "    </tr>\n",
       "    <tr>\n",
       "      <th rowspan=\"5\" valign=\"top\">1</th>\n",
       "      <th rowspan=\"5\" valign=\"top\">both</th>\n",
       "      <th>250</th>\n",
       "      <th>0</th>\n",
       "      <td>0.0</td>\n",
       "      <td>0.0</td>\n",
       "      <td>0.0</td>\n",
       "      <td>0.0</td>\n",
       "      <td>0.0</td>\n",
       "      <td>0.0</td>\n",
       "      <td>0.0</td>\n",
       "      <td>0.0</td>\n",
       "      <td>0.0</td>\n",
       "      <td>0.0</td>\n",
       "      <td>...</td>\n",
       "      <td>NaN</td>\n",
       "      <td>NaN</td>\n",
       "      <td>NaN</td>\n",
       "      <td>NaN</td>\n",
       "      <td>NaN</td>\n",
       "      <td>NaN</td>\n",
       "      <td>NaN</td>\n",
       "      <td>NaN</td>\n",
       "      <td>NaN</td>\n",
       "      <td>NaN</td>\n",
       "    </tr>\n",
       "    <tr>\n",
       "      <th>252</th>\n",
       "      <th>0</th>\n",
       "      <td>0.0</td>\n",
       "      <td>0.0</td>\n",
       "      <td>0.0</td>\n",
       "      <td>0.0</td>\n",
       "      <td>0.0</td>\n",
       "      <td>0.0</td>\n",
       "      <td>0.0</td>\n",
       "      <td>0.0</td>\n",
       "      <td>0.0</td>\n",
       "      <td>0.0</td>\n",
       "      <td>...</td>\n",
       "      <td>NaN</td>\n",
       "      <td>NaN</td>\n",
       "      <td>NaN</td>\n",
       "      <td>NaN</td>\n",
       "      <td>NaN</td>\n",
       "      <td>NaN</td>\n",
       "      <td>NaN</td>\n",
       "      <td>NaN</td>\n",
       "      <td>NaN</td>\n",
       "      <td>NaN</td>\n",
       "    </tr>\n",
       "    <tr>\n",
       "      <th>253</th>\n",
       "      <th>0</th>\n",
       "      <td>0.0</td>\n",
       "      <td>0.0</td>\n",
       "      <td>0.0</td>\n",
       "      <td>0.0</td>\n",
       "      <td>0.0</td>\n",
       "      <td>0.0</td>\n",
       "      <td>0.0</td>\n",
       "      <td>0.0</td>\n",
       "      <td>0.0</td>\n",
       "      <td>0.0</td>\n",
       "      <td>...</td>\n",
       "      <td>NaN</td>\n",
       "      <td>NaN</td>\n",
       "      <td>NaN</td>\n",
       "      <td>NaN</td>\n",
       "      <td>NaN</td>\n",
       "      <td>NaN</td>\n",
       "      <td>NaN</td>\n",
       "      <td>NaN</td>\n",
       "      <td>NaN</td>\n",
       "      <td>NaN</td>\n",
       "    </tr>\n",
       "    <tr>\n",
       "      <th>261</th>\n",
       "      <th>0</th>\n",
       "      <td>0.0</td>\n",
       "      <td>0.0</td>\n",
       "      <td>0.0</td>\n",
       "      <td>0.0</td>\n",
       "      <td>0.0</td>\n",
       "      <td>0.0</td>\n",
       "      <td>0.0</td>\n",
       "      <td>0.0</td>\n",
       "      <td>0.0</td>\n",
       "      <td>0.0</td>\n",
       "      <td>...</td>\n",
       "      <td>NaN</td>\n",
       "      <td>NaN</td>\n",
       "      <td>NaN</td>\n",
       "      <td>NaN</td>\n",
       "      <td>NaN</td>\n",
       "      <td>NaN</td>\n",
       "      <td>NaN</td>\n",
       "      <td>NaN</td>\n",
       "      <td>NaN</td>\n",
       "      <td>NaN</td>\n",
       "    </tr>\n",
       "    <tr>\n",
       "      <th>266</th>\n",
       "      <th>0</th>\n",
       "      <td>0.0</td>\n",
       "      <td>0.0</td>\n",
       "      <td>0.0</td>\n",
       "      <td>0.0</td>\n",
       "      <td>0.0</td>\n",
       "      <td>0.0</td>\n",
       "      <td>0.0</td>\n",
       "      <td>0.0</td>\n",
       "      <td>0.0</td>\n",
       "      <td>0.0</td>\n",
       "      <td>...</td>\n",
       "      <td>NaN</td>\n",
       "      <td>NaN</td>\n",
       "      <td>NaN</td>\n",
       "      <td>NaN</td>\n",
       "      <td>NaN</td>\n",
       "      <td>NaN</td>\n",
       "      <td>NaN</td>\n",
       "      <td>NaN</td>\n",
       "      <td>NaN</td>\n",
       "      <td>NaN</td>\n",
       "    </tr>\n",
       "  </tbody>\n",
       "</table>\n",
       "<p>805 rows × 47 columns</p>\n",
       "</div>"
      ],
      "text/plain": [
       "               0    1    2    3    4    5    6    7    8    9   ...   37   38  \\\n",
       "0 0.0  11  1  NaN  0.0  NaN  0.0  NaN  0.0  0.0  NaN  0.0  0.0  ...  0.0  0.0   \n",
       "       27  0  NaN  0.0  NaN  0.0  NaN  0.0  0.0  NaN  0.0  0.0  ...  0.0  0.0   \n",
       "           1  NaN  0.0  NaN  0.0  NaN  0.0  0.0  NaN  0.0  0.0  ...  0.0  0.0   \n",
       "           3  NaN  0.0  NaN  0.0  NaN  0.0  0.0  NaN  0.0  0.0  ...  0.0  0.0   \n",
       "       35  1  NaN  0.0  NaN  0.0  NaN  0.0  0.0  NaN  0.0  0.0  ...  0.0  0.0   \n",
       "...           ...  ...  ...  ...  ...  ...  ...  ...  ...  ...  ...  ...  ...   \n",
       "1 both 250 0  0.0  0.0  0.0  0.0  0.0  0.0  0.0  0.0  0.0  0.0  ...  NaN  NaN   \n",
       "       252 0  0.0  0.0  0.0  0.0  0.0  0.0  0.0  0.0  0.0  0.0  ...  NaN  NaN   \n",
       "       253 0  0.0  0.0  0.0  0.0  0.0  0.0  0.0  0.0  0.0  0.0  ...  NaN  NaN   \n",
       "       261 0  0.0  0.0  0.0  0.0  0.0  0.0  0.0  0.0  0.0  0.0  ...  NaN  NaN   \n",
       "       266 0  0.0  0.0  0.0  0.0  0.0  0.0  0.0  0.0  0.0  0.0  ...  NaN  NaN   \n",
       "\n",
       "              39   40  41   42  43   44   45  46  \n",
       "0 0.0  11  1 NaN  0.0 NaN  1.0 NaN  0.0  0.0 NaN  \n",
       "       27  0 NaN  0.0 NaN  0.0 NaN  0.0  0.0 NaN  \n",
       "           1 NaN  0.0 NaN  0.0 NaN  0.0  0.0 NaN  \n",
       "           3 NaN  0.0 NaN  0.0 NaN  0.0  0.0 NaN  \n",
       "       35  1 NaN  0.0 NaN  0.0 NaN  0.0  0.0 NaN  \n",
       "...           ..  ...  ..  ...  ..  ...  ...  ..  \n",
       "1 both 250 0 NaN  NaN NaN  NaN NaN  NaN  NaN NaN  \n",
       "       252 0 NaN  NaN NaN  NaN NaN  NaN  NaN NaN  \n",
       "       253 0 NaN  NaN NaN  NaN NaN  NaN  NaN NaN  \n",
       "       261 0 NaN  NaN NaN  NaN NaN  NaN  NaN NaN  \n",
       "       266 0 NaN  NaN NaN  NaN NaN  NaN  NaN NaN  \n",
       "\n",
       "[805 rows x 47 columns]"
      ]
     },
     "execution_count": 52,
     "metadata": {},
     "output_type": "execute_result"
    }
   ],
   "source": [
    "changes_df_all"
   ]
  },
  {
   "cell_type": "code",
   "execution_count": null,
   "id": "2ab353d7",
   "metadata": {},
   "outputs": [],
   "source": []
  },
  {
   "cell_type": "code",
   "execution_count": 42,
   "id": "26c94870",
   "metadata": {},
   "outputs": [],
   "source": [
    "X_pwc_norm = X_pwc / np.nanmax(X_pwc.values,axis=1,keepdims=True)"
   ]
  },
  {
   "cell_type": "code",
   "execution_count": 35,
   "id": "9fb45105",
   "metadata": {},
   "outputs": [
    {
     "data": {
      "text/html": [
       "<div>\n",
       "<style scoped>\n",
       "    .dataframe tbody tr th:only-of-type {\n",
       "        vertical-align: middle;\n",
       "    }\n",
       "\n",
       "    .dataframe tbody tr th {\n",
       "        vertical-align: top;\n",
       "    }\n",
       "\n",
       "    .dataframe thead th {\n",
       "        text-align: right;\n",
       "    }\n",
       "</style>\n",
       "<table border=\"1\" class=\"dataframe\">\n",
       "  <thead>\n",
       "    <tr style=\"text-align: right;\">\n",
       "      <th></th>\n",
       "      <th></th>\n",
       "      <th></th>\n",
       "      <th></th>\n",
       "      <th>0</th>\n",
       "      <th>1</th>\n",
       "      <th>2</th>\n",
       "      <th>3</th>\n",
       "      <th>4</th>\n",
       "      <th>5</th>\n",
       "      <th>6</th>\n",
       "      <th>7</th>\n",
       "      <th>8</th>\n",
       "      <th>9</th>\n",
       "      <th>...</th>\n",
       "      <th>37</th>\n",
       "      <th>38</th>\n",
       "      <th>39</th>\n",
       "      <th>40</th>\n",
       "      <th>41</th>\n",
       "      <th>42</th>\n",
       "      <th>43</th>\n",
       "      <th>44</th>\n",
       "      <th>45</th>\n",
       "      <th>46</th>\n",
       "    </tr>\n",
       "  </thead>\n",
       "  <tbody>\n",
       "    <tr>\n",
       "      <th rowspan=\"5\" valign=\"top\">0</th>\n",
       "      <th rowspan=\"5\" valign=\"top\">0.0</th>\n",
       "      <th>11</th>\n",
       "      <th>1</th>\n",
       "      <td>NaN</td>\n",
       "      <td>10.080914</td>\n",
       "      <td>NaN</td>\n",
       "      <td>10.080914</td>\n",
       "      <td>NaN</td>\n",
       "      <td>10.080914</td>\n",
       "      <td>10.080914</td>\n",
       "      <td>NaN</td>\n",
       "      <td>10.080914</td>\n",
       "      <td>10.080914</td>\n",
       "      <td>...</td>\n",
       "      <td>10.080914</td>\n",
       "      <td>10.080914</td>\n",
       "      <td>NaN</td>\n",
       "      <td>10.080914</td>\n",
       "      <td>NaN</td>\n",
       "      <td>18.408602</td>\n",
       "      <td>NaN</td>\n",
       "      <td>18.408602</td>\n",
       "      <td>18.408602</td>\n",
       "      <td>NaN</td>\n",
       "    </tr>\n",
       "    <tr>\n",
       "      <th rowspan=\"3\" valign=\"top\">27</th>\n",
       "      <th>0</th>\n",
       "      <td>NaN</td>\n",
       "      <td>22.259584</td>\n",
       "      <td>NaN</td>\n",
       "      <td>22.259584</td>\n",
       "      <td>NaN</td>\n",
       "      <td>22.259584</td>\n",
       "      <td>22.259584</td>\n",
       "      <td>NaN</td>\n",
       "      <td>22.259584</td>\n",
       "      <td>22.259584</td>\n",
       "      <td>...</td>\n",
       "      <td>17.040312</td>\n",
       "      <td>17.040312</td>\n",
       "      <td>NaN</td>\n",
       "      <td>17.040312</td>\n",
       "      <td>NaN</td>\n",
       "      <td>17.040312</td>\n",
       "      <td>NaN</td>\n",
       "      <td>17.040312</td>\n",
       "      <td>17.040312</td>\n",
       "      <td>NaN</td>\n",
       "    </tr>\n",
       "    <tr>\n",
       "      <th>1</th>\n",
       "      <td>NaN</td>\n",
       "      <td>18.878751</td>\n",
       "      <td>NaN</td>\n",
       "      <td>18.878751</td>\n",
       "      <td>NaN</td>\n",
       "      <td>18.878751</td>\n",
       "      <td>18.878751</td>\n",
       "      <td>NaN</td>\n",
       "      <td>18.878751</td>\n",
       "      <td>18.878751</td>\n",
       "      <td>...</td>\n",
       "      <td>14.784951</td>\n",
       "      <td>14.784951</td>\n",
       "      <td>NaN</td>\n",
       "      <td>14.784951</td>\n",
       "      <td>NaN</td>\n",
       "      <td>14.784951</td>\n",
       "      <td>NaN</td>\n",
       "      <td>14.784951</td>\n",
       "      <td>14.784951</td>\n",
       "      <td>NaN</td>\n",
       "    </tr>\n",
       "    <tr>\n",
       "      <th>3</th>\n",
       "      <td>NaN</td>\n",
       "      <td>17.590354</td>\n",
       "      <td>NaN</td>\n",
       "      <td>17.590354</td>\n",
       "      <td>NaN</td>\n",
       "      <td>17.590354</td>\n",
       "      <td>17.590354</td>\n",
       "      <td>NaN</td>\n",
       "      <td>17.590354</td>\n",
       "      <td>17.590354</td>\n",
       "      <td>...</td>\n",
       "      <td>13.458149</td>\n",
       "      <td>13.458149</td>\n",
       "      <td>NaN</td>\n",
       "      <td>13.458149</td>\n",
       "      <td>NaN</td>\n",
       "      <td>13.458149</td>\n",
       "      <td>NaN</td>\n",
       "      <td>13.458149</td>\n",
       "      <td>13.458149</td>\n",
       "      <td>NaN</td>\n",
       "    </tr>\n",
       "    <tr>\n",
       "      <th>35</th>\n",
       "      <th>1</th>\n",
       "      <td>NaN</td>\n",
       "      <td>4.426026</td>\n",
       "      <td>NaN</td>\n",
       "      <td>4.426026</td>\n",
       "      <td>NaN</td>\n",
       "      <td>4.426026</td>\n",
       "      <td>4.426026</td>\n",
       "      <td>NaN</td>\n",
       "      <td>4.426026</td>\n",
       "      <td>4.426026</td>\n",
       "      <td>...</td>\n",
       "      <td>1.317259</td>\n",
       "      <td>1.317259</td>\n",
       "      <td>NaN</td>\n",
       "      <td>1.317259</td>\n",
       "      <td>NaN</td>\n",
       "      <td>1.317259</td>\n",
       "      <td>NaN</td>\n",
       "      <td>1.317259</td>\n",
       "      <td>1.317259</td>\n",
       "      <td>NaN</td>\n",
       "    </tr>\n",
       "    <tr>\n",
       "      <th>...</th>\n",
       "      <th>...</th>\n",
       "      <th>...</th>\n",
       "      <th>...</th>\n",
       "      <td>...</td>\n",
       "      <td>...</td>\n",
       "      <td>...</td>\n",
       "      <td>...</td>\n",
       "      <td>...</td>\n",
       "      <td>...</td>\n",
       "      <td>...</td>\n",
       "      <td>...</td>\n",
       "      <td>...</td>\n",
       "      <td>...</td>\n",
       "      <td>...</td>\n",
       "      <td>...</td>\n",
       "      <td>...</td>\n",
       "      <td>...</td>\n",
       "      <td>...</td>\n",
       "      <td>...</td>\n",
       "      <td>...</td>\n",
       "      <td>...</td>\n",
       "      <td>...</td>\n",
       "      <td>...</td>\n",
       "      <td>...</td>\n",
       "    </tr>\n",
       "    <tr>\n",
       "      <th rowspan=\"5\" valign=\"top\">1</th>\n",
       "      <th rowspan=\"5\" valign=\"top\">both</th>\n",
       "      <th>250</th>\n",
       "      <th>0</th>\n",
       "      <td>2.716905</td>\n",
       "      <td>2.716905</td>\n",
       "      <td>2.716905</td>\n",
       "      <td>2.716905</td>\n",
       "      <td>2.716905</td>\n",
       "      <td>2.716905</td>\n",
       "      <td>2.716905</td>\n",
       "      <td>2.716905</td>\n",
       "      <td>2.716905</td>\n",
       "      <td>2.716905</td>\n",
       "      <td>...</td>\n",
       "      <td>NaN</td>\n",
       "      <td>NaN</td>\n",
       "      <td>NaN</td>\n",
       "      <td>NaN</td>\n",
       "      <td>NaN</td>\n",
       "      <td>NaN</td>\n",
       "      <td>NaN</td>\n",
       "      <td>NaN</td>\n",
       "      <td>NaN</td>\n",
       "      <td>NaN</td>\n",
       "    </tr>\n",
       "    <tr>\n",
       "      <th>252</th>\n",
       "      <th>0</th>\n",
       "      <td>12.708439</td>\n",
       "      <td>12.708439</td>\n",
       "      <td>12.708439</td>\n",
       "      <td>12.708439</td>\n",
       "      <td>12.708439</td>\n",
       "      <td>12.708439</td>\n",
       "      <td>12.708439</td>\n",
       "      <td>12.708439</td>\n",
       "      <td>12.708439</td>\n",
       "      <td>12.708439</td>\n",
       "      <td>...</td>\n",
       "      <td>NaN</td>\n",
       "      <td>NaN</td>\n",
       "      <td>NaN</td>\n",
       "      <td>NaN</td>\n",
       "      <td>NaN</td>\n",
       "      <td>NaN</td>\n",
       "      <td>NaN</td>\n",
       "      <td>NaN</td>\n",
       "      <td>NaN</td>\n",
       "      <td>NaN</td>\n",
       "    </tr>\n",
       "    <tr>\n",
       "      <th>253</th>\n",
       "      <th>0</th>\n",
       "      <td>2.381401</td>\n",
       "      <td>2.381401</td>\n",
       "      <td>2.381401</td>\n",
       "      <td>2.381401</td>\n",
       "      <td>2.381401</td>\n",
       "      <td>2.381401</td>\n",
       "      <td>2.381401</td>\n",
       "      <td>2.381401</td>\n",
       "      <td>2.381401</td>\n",
       "      <td>2.381401</td>\n",
       "      <td>...</td>\n",
       "      <td>NaN</td>\n",
       "      <td>NaN</td>\n",
       "      <td>NaN</td>\n",
       "      <td>NaN</td>\n",
       "      <td>NaN</td>\n",
       "      <td>NaN</td>\n",
       "      <td>NaN</td>\n",
       "      <td>NaN</td>\n",
       "      <td>NaN</td>\n",
       "      <td>NaN</td>\n",
       "    </tr>\n",
       "    <tr>\n",
       "      <th>261</th>\n",
       "      <th>0</th>\n",
       "      <td>6.580375</td>\n",
       "      <td>6.580375</td>\n",
       "      <td>6.580375</td>\n",
       "      <td>6.580375</td>\n",
       "      <td>6.580375</td>\n",
       "      <td>6.580375</td>\n",
       "      <td>6.580375</td>\n",
       "      <td>6.580375</td>\n",
       "      <td>6.580375</td>\n",
       "      <td>6.580375</td>\n",
       "      <td>...</td>\n",
       "      <td>NaN</td>\n",
       "      <td>NaN</td>\n",
       "      <td>NaN</td>\n",
       "      <td>NaN</td>\n",
       "      <td>NaN</td>\n",
       "      <td>NaN</td>\n",
       "      <td>NaN</td>\n",
       "      <td>NaN</td>\n",
       "      <td>NaN</td>\n",
       "      <td>NaN</td>\n",
       "    </tr>\n",
       "    <tr>\n",
       "      <th>266</th>\n",
       "      <th>0</th>\n",
       "      <td>1.911848</td>\n",
       "      <td>1.911848</td>\n",
       "      <td>1.911848</td>\n",
       "      <td>1.911848</td>\n",
       "      <td>1.911848</td>\n",
       "      <td>1.911848</td>\n",
       "      <td>1.911848</td>\n",
       "      <td>1.911848</td>\n",
       "      <td>1.911848</td>\n",
       "      <td>1.911848</td>\n",
       "      <td>...</td>\n",
       "      <td>NaN</td>\n",
       "      <td>NaN</td>\n",
       "      <td>NaN</td>\n",
       "      <td>NaN</td>\n",
       "      <td>NaN</td>\n",
       "      <td>NaN</td>\n",
       "      <td>NaN</td>\n",
       "      <td>NaN</td>\n",
       "      <td>NaN</td>\n",
       "      <td>NaN</td>\n",
       "    </tr>\n",
       "  </tbody>\n",
       "</table>\n",
       "<p>805 rows × 47 columns</p>\n",
       "</div>"
      ],
      "text/plain": [
       "                     0          1          2          3          4   \\\n",
       "0 0.0  11  1        NaN  10.080914        NaN  10.080914        NaN   \n",
       "       27  0        NaN  22.259584        NaN  22.259584        NaN   \n",
       "           1        NaN  18.878751        NaN  18.878751        NaN   \n",
       "           3        NaN  17.590354        NaN  17.590354        NaN   \n",
       "       35  1        NaN   4.426026        NaN   4.426026        NaN   \n",
       "...                 ...        ...        ...        ...        ...   \n",
       "1 both 250 0   2.716905   2.716905   2.716905   2.716905   2.716905   \n",
       "       252 0  12.708439  12.708439  12.708439  12.708439  12.708439   \n",
       "       253 0   2.381401   2.381401   2.381401   2.381401   2.381401   \n",
       "       261 0   6.580375   6.580375   6.580375   6.580375   6.580375   \n",
       "       266 0   1.911848   1.911848   1.911848   1.911848   1.911848   \n",
       "\n",
       "                     5          6          7          8          9   ...  \\\n",
       "0 0.0  11  1  10.080914  10.080914        NaN  10.080914  10.080914  ...   \n",
       "       27  0  22.259584  22.259584        NaN  22.259584  22.259584  ...   \n",
       "           1  18.878751  18.878751        NaN  18.878751  18.878751  ...   \n",
       "           3  17.590354  17.590354        NaN  17.590354  17.590354  ...   \n",
       "       35  1   4.426026   4.426026        NaN   4.426026   4.426026  ...   \n",
       "...                 ...        ...        ...        ...        ...  ...   \n",
       "1 both 250 0   2.716905   2.716905   2.716905   2.716905   2.716905  ...   \n",
       "       252 0  12.708439  12.708439  12.708439  12.708439  12.708439  ...   \n",
       "       253 0   2.381401   2.381401   2.381401   2.381401   2.381401  ...   \n",
       "       261 0   6.580375   6.580375   6.580375   6.580375   6.580375  ...   \n",
       "       266 0   1.911848   1.911848   1.911848   1.911848   1.911848  ...   \n",
       "\n",
       "                     37         38  39         40  41         42  43  \\\n",
       "0 0.0  11  1  10.080914  10.080914 NaN  10.080914 NaN  18.408602 NaN   \n",
       "       27  0  17.040312  17.040312 NaN  17.040312 NaN  17.040312 NaN   \n",
       "           1  14.784951  14.784951 NaN  14.784951 NaN  14.784951 NaN   \n",
       "           3  13.458149  13.458149 NaN  13.458149 NaN  13.458149 NaN   \n",
       "       35  1   1.317259   1.317259 NaN   1.317259 NaN   1.317259 NaN   \n",
       "...                 ...        ...  ..        ...  ..        ...  ..   \n",
       "1 both 250 0        NaN        NaN NaN        NaN NaN        NaN NaN   \n",
       "       252 0        NaN        NaN NaN        NaN NaN        NaN NaN   \n",
       "       253 0        NaN        NaN NaN        NaN NaN        NaN NaN   \n",
       "       261 0        NaN        NaN NaN        NaN NaN        NaN NaN   \n",
       "       266 0        NaN        NaN NaN        NaN NaN        NaN NaN   \n",
       "\n",
       "                     44         45  46  \n",
       "0 0.0  11  1  18.408602  18.408602 NaN  \n",
       "       27  0  17.040312  17.040312 NaN  \n",
       "           1  14.784951  14.784951 NaN  \n",
       "           3  13.458149  13.458149 NaN  \n",
       "       35  1   1.317259   1.317259 NaN  \n",
       "...                 ...        ...  ..  \n",
       "1 both 250 0        NaN        NaN NaN  \n",
       "       252 0        NaN        NaN NaN  \n",
       "       253 0        NaN        NaN NaN  \n",
       "       261 0        NaN        NaN NaN  \n",
       "       266 0        NaN        NaN NaN  \n",
       "\n",
       "[805 rows x 47 columns]"
      ]
     },
     "execution_count": 35,
     "metadata": {},
     "output_type": "execute_result"
    }
   ],
   "source": [
    "X_pwc"
   ]
  },
  {
   "cell_type": "code",
   "execution_count": 26,
   "id": "90a531f0",
   "metadata": {},
   "outputs": [
    {
     "data": {
      "text/plain": [
       "array([nan,  1.,  1.,  1.,  1.,  1.,  0.,  1.,  1.,  0.,  1.,  1.,  0.,\n",
       "        1.,  0.,  1.,  1.,  1.,  0.,  1.,  1.,  1.,  1.,  0.,  1.,  1.,\n",
       "        1.,  1.,  1.,  1.,  1.,  1.,  1.,  1.,  0.,  0.,  1.,  1.,  0.,\n",
       "        1.,  1.,  1.,  1.,  1.,  1.,  0.,  1., nan,  1.,  1.,  1.,  1.,\n",
       "        1.,  1.,  0.,  1.,  0.,  1.,  1.,  1.,  1.,  1.,  1.,  0.,  0.,\n",
       "        1.,  1.,  0.,  0.,  1.,  1.,  0.,  0.,  0.,  0.,  1.,  1.,  0.,\n",
       "        1.,  1.])"
      ]
     },
     "execution_count": 26,
     "metadata": {},
     "output_type": "execute_result"
    }
   ],
   "source": [
    "behavior['trials']['choice']"
   ]
  },
  {
   "cell_type": "code",
   "execution_count": 21,
   "id": "a754de12",
   "metadata": {
    "scrolled": true
   },
   "outputs": [
    {
     "data": {
      "text/html": [
       "<div>\n",
       "<style scoped>\n",
       "    .dataframe tbody tr th:only-of-type {\n",
       "        vertical-align: middle;\n",
       "    }\n",
       "\n",
       "    .dataframe tbody tr th {\n",
       "        vertical-align: top;\n",
       "    }\n",
       "\n",
       "    .dataframe thead th {\n",
       "        text-align: right;\n",
       "    }\n",
       "</style>\n",
       "<table border=\"1\" class=\"dataframe\">\n",
       "  <thead>\n",
       "    <tr style=\"text-align: right;\">\n",
       "      <th></th>\n",
       "      <th></th>\n",
       "      <th>0</th>\n",
       "      <th>1</th>\n",
       "      <th>2</th>\n",
       "      <th>3</th>\n",
       "      <th>4</th>\n",
       "      <th>5</th>\n",
       "      <th>6</th>\n",
       "      <th>7</th>\n",
       "      <th>8</th>\n",
       "      <th>9</th>\n",
       "      <th>...</th>\n",
       "      <th>37</th>\n",
       "      <th>38</th>\n",
       "      <th>39</th>\n",
       "      <th>40</th>\n",
       "      <th>41</th>\n",
       "      <th>42</th>\n",
       "      <th>43</th>\n",
       "      <th>44</th>\n",
       "      <th>45</th>\n",
       "      <th>46</th>\n",
       "    </tr>\n",
       "  </thead>\n",
       "  <tbody>\n",
       "    <tr>\n",
       "      <th>11</th>\n",
       "      <th>1</th>\n",
       "      <td>NaN</td>\n",
       "      <td>10.080914</td>\n",
       "      <td>NaN</td>\n",
       "      <td>10.080914</td>\n",
       "      <td>NaN</td>\n",
       "      <td>10.080914</td>\n",
       "      <td>10.080914</td>\n",
       "      <td>NaN</td>\n",
       "      <td>10.080914</td>\n",
       "      <td>10.080914</td>\n",
       "      <td>...</td>\n",
       "      <td>10.080914</td>\n",
       "      <td>10.080914</td>\n",
       "      <td>NaN</td>\n",
       "      <td>10.080914</td>\n",
       "      <td>NaN</td>\n",
       "      <td>18.408602</td>\n",
       "      <td>NaN</td>\n",
       "      <td>18.408602</td>\n",
       "      <td>18.408602</td>\n",
       "      <td>NaN</td>\n",
       "    </tr>\n",
       "    <tr>\n",
       "      <th rowspan=\"3\" valign=\"top\">27</th>\n",
       "      <th>0</th>\n",
       "      <td>NaN</td>\n",
       "      <td>22.259584</td>\n",
       "      <td>NaN</td>\n",
       "      <td>22.259584</td>\n",
       "      <td>NaN</td>\n",
       "      <td>22.259584</td>\n",
       "      <td>22.259584</td>\n",
       "      <td>NaN</td>\n",
       "      <td>22.259584</td>\n",
       "      <td>22.259584</td>\n",
       "      <td>...</td>\n",
       "      <td>17.040312</td>\n",
       "      <td>17.040312</td>\n",
       "      <td>NaN</td>\n",
       "      <td>17.040312</td>\n",
       "      <td>NaN</td>\n",
       "      <td>17.040312</td>\n",
       "      <td>NaN</td>\n",
       "      <td>17.040312</td>\n",
       "      <td>17.040312</td>\n",
       "      <td>NaN</td>\n",
       "    </tr>\n",
       "    <tr>\n",
       "      <th>1</th>\n",
       "      <td>NaN</td>\n",
       "      <td>18.878751</td>\n",
       "      <td>NaN</td>\n",
       "      <td>18.878751</td>\n",
       "      <td>NaN</td>\n",
       "      <td>18.878751</td>\n",
       "      <td>18.878751</td>\n",
       "      <td>NaN</td>\n",
       "      <td>18.878751</td>\n",
       "      <td>18.878751</td>\n",
       "      <td>...</td>\n",
       "      <td>14.784951</td>\n",
       "      <td>14.784951</td>\n",
       "      <td>NaN</td>\n",
       "      <td>14.784951</td>\n",
       "      <td>NaN</td>\n",
       "      <td>14.784951</td>\n",
       "      <td>NaN</td>\n",
       "      <td>14.784951</td>\n",
       "      <td>14.784951</td>\n",
       "      <td>NaN</td>\n",
       "    </tr>\n",
       "    <tr>\n",
       "      <th>3</th>\n",
       "      <td>NaN</td>\n",
       "      <td>17.590354</td>\n",
       "      <td>NaN</td>\n",
       "      <td>17.590354</td>\n",
       "      <td>NaN</td>\n",
       "      <td>17.590354</td>\n",
       "      <td>17.590354</td>\n",
       "      <td>NaN</td>\n",
       "      <td>17.590354</td>\n",
       "      <td>17.590354</td>\n",
       "      <td>...</td>\n",
       "      <td>13.458149</td>\n",
       "      <td>13.458149</td>\n",
       "      <td>NaN</td>\n",
       "      <td>13.458149</td>\n",
       "      <td>NaN</td>\n",
       "      <td>13.458149</td>\n",
       "      <td>NaN</td>\n",
       "      <td>13.458149</td>\n",
       "      <td>13.458149</td>\n",
       "      <td>NaN</td>\n",
       "    </tr>\n",
       "    <tr>\n",
       "      <th>35</th>\n",
       "      <th>1</th>\n",
       "      <td>NaN</td>\n",
       "      <td>4.426026</td>\n",
       "      <td>NaN</td>\n",
       "      <td>4.426026</td>\n",
       "      <td>NaN</td>\n",
       "      <td>4.426026</td>\n",
       "      <td>4.426026</td>\n",
       "      <td>NaN</td>\n",
       "      <td>4.426026</td>\n",
       "      <td>4.426026</td>\n",
       "      <td>...</td>\n",
       "      <td>1.317259</td>\n",
       "      <td>1.317259</td>\n",
       "      <td>NaN</td>\n",
       "      <td>1.317259</td>\n",
       "      <td>NaN</td>\n",
       "      <td>1.317259</td>\n",
       "      <td>NaN</td>\n",
       "      <td>1.317259</td>\n",
       "      <td>1.317259</td>\n",
       "      <td>NaN</td>\n",
       "    </tr>\n",
       "    <tr>\n",
       "      <th>...</th>\n",
       "      <th>...</th>\n",
       "      <td>...</td>\n",
       "      <td>...</td>\n",
       "      <td>...</td>\n",
       "      <td>...</td>\n",
       "      <td>...</td>\n",
       "      <td>...</td>\n",
       "      <td>...</td>\n",
       "      <td>...</td>\n",
       "      <td>...</td>\n",
       "      <td>...</td>\n",
       "      <td>...</td>\n",
       "      <td>...</td>\n",
       "      <td>...</td>\n",
       "      <td>...</td>\n",
       "      <td>...</td>\n",
       "      <td>...</td>\n",
       "      <td>...</td>\n",
       "      <td>...</td>\n",
       "      <td>...</td>\n",
       "      <td>...</td>\n",
       "      <td>...</td>\n",
       "    </tr>\n",
       "    <tr>\n",
       "      <th rowspan=\"2\" valign=\"top\">264</th>\n",
       "      <th>1</th>\n",
       "      <td>NaN</td>\n",
       "      <td>6.969369</td>\n",
       "      <td>NaN</td>\n",
       "      <td>6.969369</td>\n",
       "      <td>NaN</td>\n",
       "      <td>6.969369</td>\n",
       "      <td>6.969369</td>\n",
       "      <td>NaN</td>\n",
       "      <td>6.969369</td>\n",
       "      <td>6.969369</td>\n",
       "      <td>...</td>\n",
       "      <td>6.969369</td>\n",
       "      <td>6.969369</td>\n",
       "      <td>NaN</td>\n",
       "      <td>1.341770</td>\n",
       "      <td>NaN</td>\n",
       "      <td>1.341770</td>\n",
       "      <td>NaN</td>\n",
       "      <td>1.341770</td>\n",
       "      <td>1.341770</td>\n",
       "      <td>NaN</td>\n",
       "    </tr>\n",
       "    <tr>\n",
       "      <th>2</th>\n",
       "      <td>NaN</td>\n",
       "      <td>4.354526</td>\n",
       "      <td>NaN</td>\n",
       "      <td>4.354526</td>\n",
       "      <td>NaN</td>\n",
       "      <td>4.354526</td>\n",
       "      <td>4.354526</td>\n",
       "      <td>NaN</td>\n",
       "      <td>4.354526</td>\n",
       "      <td>4.354526</td>\n",
       "      <td>...</td>\n",
       "      <td>4.263272</td>\n",
       "      <td>4.263272</td>\n",
       "      <td>NaN</td>\n",
       "      <td>4.263272</td>\n",
       "      <td>NaN</td>\n",
       "      <td>4.263272</td>\n",
       "      <td>NaN</td>\n",
       "      <td>4.263272</td>\n",
       "      <td>4.263272</td>\n",
       "      <td>NaN</td>\n",
       "    </tr>\n",
       "    <tr>\n",
       "      <th>267</th>\n",
       "      <th>0</th>\n",
       "      <td>NaN</td>\n",
       "      <td>6.802808</td>\n",
       "      <td>NaN</td>\n",
       "      <td>6.802808</td>\n",
       "      <td>NaN</td>\n",
       "      <td>6.802808</td>\n",
       "      <td>6.802808</td>\n",
       "      <td>NaN</td>\n",
       "      <td>6.802808</td>\n",
       "      <td>25.761405</td>\n",
       "      <td>...</td>\n",
       "      <td>8.827939</td>\n",
       "      <td>8.827939</td>\n",
       "      <td>NaN</td>\n",
       "      <td>8.827939</td>\n",
       "      <td>NaN</td>\n",
       "      <td>8.827939</td>\n",
       "      <td>NaN</td>\n",
       "      <td>8.827939</td>\n",
       "      <td>8.827939</td>\n",
       "      <td>NaN</td>\n",
       "    </tr>\n",
       "    <tr>\n",
       "      <th>270</th>\n",
       "      <th>1</th>\n",
       "      <td>NaN</td>\n",
       "      <td>10.813069</td>\n",
       "      <td>NaN</td>\n",
       "      <td>10.813069</td>\n",
       "      <td>NaN</td>\n",
       "      <td>10.813069</td>\n",
       "      <td>10.813069</td>\n",
       "      <td>NaN</td>\n",
       "      <td>10.813069</td>\n",
       "      <td>10.813069</td>\n",
       "      <td>...</td>\n",
       "      <td>10.813069</td>\n",
       "      <td>10.813069</td>\n",
       "      <td>NaN</td>\n",
       "      <td>10.813069</td>\n",
       "      <td>NaN</td>\n",
       "      <td>10.813069</td>\n",
       "      <td>NaN</td>\n",
       "      <td>10.813069</td>\n",
       "      <td>10.813069</td>\n",
       "      <td>NaN</td>\n",
       "    </tr>\n",
       "    <tr>\n",
       "      <th>271</th>\n",
       "      <th>0</th>\n",
       "      <td>NaN</td>\n",
       "      <td>5.380288</td>\n",
       "      <td>NaN</td>\n",
       "      <td>5.380288</td>\n",
       "      <td>NaN</td>\n",
       "      <td>5.380288</td>\n",
       "      <td>5.380288</td>\n",
       "      <td>NaN</td>\n",
       "      <td>5.380288</td>\n",
       "      <td>5.380288</td>\n",
       "      <td>...</td>\n",
       "      <td>5.380288</td>\n",
       "      <td>5.380288</td>\n",
       "      <td>NaN</td>\n",
       "      <td>5.380288</td>\n",
       "      <td>NaN</td>\n",
       "      <td>5.380288</td>\n",
       "      <td>NaN</td>\n",
       "      <td>5.380288</td>\n",
       "      <td>5.380288</td>\n",
       "      <td>NaN</td>\n",
       "    </tr>\n",
       "  </tbody>\n",
       "</table>\n",
       "<p>208 rows × 47 columns</p>\n",
       "</div>"
      ],
      "text/plain": [
       "       0          1   2          3   4          5          6   7          8   \\\n",
       "11  1 NaN  10.080914 NaN  10.080914 NaN  10.080914  10.080914 NaN  10.080914   \n",
       "27  0 NaN  22.259584 NaN  22.259584 NaN  22.259584  22.259584 NaN  22.259584   \n",
       "    1 NaN  18.878751 NaN  18.878751 NaN  18.878751  18.878751 NaN  18.878751   \n",
       "    3 NaN  17.590354 NaN  17.590354 NaN  17.590354  17.590354 NaN  17.590354   \n",
       "35  1 NaN   4.426026 NaN   4.426026 NaN   4.426026   4.426026 NaN   4.426026   \n",
       "...    ..        ...  ..        ...  ..        ...        ...  ..        ...   \n",
       "264 1 NaN   6.969369 NaN   6.969369 NaN   6.969369   6.969369 NaN   6.969369   \n",
       "    2 NaN   4.354526 NaN   4.354526 NaN   4.354526   4.354526 NaN   4.354526   \n",
       "267 0 NaN   6.802808 NaN   6.802808 NaN   6.802808   6.802808 NaN   6.802808   \n",
       "270 1 NaN  10.813069 NaN  10.813069 NaN  10.813069  10.813069 NaN  10.813069   \n",
       "271 0 NaN   5.380288 NaN   5.380288 NaN   5.380288   5.380288 NaN   5.380288   \n",
       "\n",
       "              9   ...         37         38  39         40  41         42  43  \\\n",
       "11  1  10.080914  ...  10.080914  10.080914 NaN  10.080914 NaN  18.408602 NaN   \n",
       "27  0  22.259584  ...  17.040312  17.040312 NaN  17.040312 NaN  17.040312 NaN   \n",
       "    1  18.878751  ...  14.784951  14.784951 NaN  14.784951 NaN  14.784951 NaN   \n",
       "    3  17.590354  ...  13.458149  13.458149 NaN  13.458149 NaN  13.458149 NaN   \n",
       "35  1   4.426026  ...   1.317259   1.317259 NaN   1.317259 NaN   1.317259 NaN   \n",
       "...          ...  ...        ...        ...  ..        ...  ..        ...  ..   \n",
       "264 1   6.969369  ...   6.969369   6.969369 NaN   1.341770 NaN   1.341770 NaN   \n",
       "    2   4.354526  ...   4.263272   4.263272 NaN   4.263272 NaN   4.263272 NaN   \n",
       "267 0  25.761405  ...   8.827939   8.827939 NaN   8.827939 NaN   8.827939 NaN   \n",
       "270 1  10.813069  ...  10.813069  10.813069 NaN  10.813069 NaN  10.813069 NaN   \n",
       "271 0   5.380288  ...   5.380288   5.380288 NaN   5.380288 NaN   5.380288 NaN   \n",
       "\n",
       "              44         45  46  \n",
       "11  1  18.408602  18.408602 NaN  \n",
       "27  0  17.040312  17.040312 NaN  \n",
       "    1  14.784951  14.784951 NaN  \n",
       "    3  13.458149  13.458149 NaN  \n",
       "35  1   1.317259   1.317259 NaN  \n",
       "...          ...        ...  ..  \n",
       "264 1   1.341770   1.341770 NaN  \n",
       "    2   4.263272   4.263272 NaN  \n",
       "267 0   8.827939   8.827939 NaN  \n",
       "270 1  10.813069  10.813069 NaN  \n",
       "271 0   5.380288   5.380288 NaN  \n",
       "\n",
       "[208 rows x 47 columns]"
      ]
     },
     "execution_count": 21,
     "metadata": {},
     "output_type": "execute_result"
    }
   ],
   "source": [
    "signal_pred_d.loc[tt]"
   ]
  },
  {
   "cell_type": "code",
   "execution_count": 33,
   "id": "19a90cb0",
   "metadata": {},
   "outputs": [
    {
     "data": {
      "text/plain": [
       "<AxesSubplot:>"
      ]
     },
     "execution_count": 33,
     "metadata": {},
     "output_type": "execute_result"
    },
    {
     "data": {
      "image/png": "[encoded data removed]",
      "text/plain": [
       "<Figure size 432x288 with 1 Axes>"
      ]
     },
     "metadata": {
      "needs_background": "light"
     },
     "output_type": "display_data"
    }
   ],
   "source": [
    "tt=(0,0)\n",
    "uu=8\n",
    "signal_pred_d.loc[tt].iloc[uu].plot()\n",
    "X.loc[tt].iloc[uu].plot()"
   ]
  },
  {
   "cell_type": "code",
   "execution_count": 135,
   "id": "3194e1fe",
   "metadata": {},
   "outputs": [
    {
     "name": "stdout",
     "output_type": "stream",
     "text": [
      "CPU times: user 1.15 s, sys: 0 ns, total: 1.15 s\n",
      "Wall time: 1.15 s\n"
     ]
    }
   ],
   "source": [
    "%%time\n",
    "cp_d = {}\n",
    "min_size = 1\n",
    "for k,signal in X.iterrows():\n",
    "    n = best_n.loc[k]\n",
    "    signal = signal.dropna()\n",
    "    change_pts = cpa.get_change_points_one_field(signal,n,trial_index=signal.index,model_type='dyn',min_size=min_size)\n",
    "    cp_d[k] = change_pts"
   ]
  },
  {
   "cell_type": "code",
   "execution_count": 136,
   "id": "fef712f9",
   "metadata": {
    "collapsed": true
   },
   "outputs": [
    {
     "data": {
      "text/html": [
       "<div>\n",
       "<style scoped>\n",
       "    .dataframe tbody tr th:only-of-type {\n",
       "        vertical-align: middle;\n",
       "    }\n",
       "\n",
       "    .dataframe tbody tr th {\n",
       "        vertical-align: top;\n",
       "    }\n",
       "\n",
       "    .dataframe thead th {\n",
       "        text-align: right;\n",
       "    }\n",
       "</style>\n",
       "<table border=\"1\" class=\"dataframe\">\n",
       "  <thead>\n",
       "    <tr style=\"text-align: right;\">\n",
       "      <th></th>\n",
       "      <th></th>\n",
       "      <th></th>\n",
       "      <th></th>\n",
       "      <th>0</th>\n",
       "      <th>1</th>\n",
       "      <th>2</th>\n",
       "      <th>3</th>\n",
       "    </tr>\n",
       "  </thead>\n",
       "  <tbody>\n",
       "    <tr>\n",
       "      <th rowspan=\"5\" valign=\"top\">0</th>\n",
       "      <th rowspan=\"5\" valign=\"top\">0.0</th>\n",
       "      <th>11</th>\n",
       "      <th>1</th>\n",
       "      <td>42.0</td>\n",
       "      <td>NaN</td>\n",
       "      <td>NaN</td>\n",
       "      <td>NaN</td>\n",
       "    </tr>\n",
       "    <tr>\n",
       "      <th rowspan=\"3\" valign=\"top\">27</th>\n",
       "      <th>0</th>\n",
       "      <td>33.0</td>\n",
       "      <td>NaN</td>\n",
       "      <td>NaN</td>\n",
       "      <td>NaN</td>\n",
       "    </tr>\n",
       "    <tr>\n",
       "      <th>1</th>\n",
       "      <td>20.0</td>\n",
       "      <td>NaN</td>\n",
       "      <td>NaN</td>\n",
       "      <td>NaN</td>\n",
       "    </tr>\n",
       "    <tr>\n",
       "      <th>3</th>\n",
       "      <td>20.0</td>\n",
       "      <td>NaN</td>\n",
       "      <td>NaN</td>\n",
       "      <td>NaN</td>\n",
       "    </tr>\n",
       "    <tr>\n",
       "      <th>35</th>\n",
       "      <th>1</th>\n",
       "      <td>35.0</td>\n",
       "      <td>NaN</td>\n",
       "      <td>NaN</td>\n",
       "      <td>NaN</td>\n",
       "    </tr>\n",
       "    <tr>\n",
       "      <th>...</th>\n",
       "      <th>...</th>\n",
       "      <th>...</th>\n",
       "      <th>...</th>\n",
       "      <td>...</td>\n",
       "      <td>...</td>\n",
       "      <td>...</td>\n",
       "      <td>...</td>\n",
       "    </tr>\n",
       "    <tr>\n",
       "      <th rowspan=\"5\" valign=\"top\">1</th>\n",
       "      <th rowspan=\"5\" valign=\"top\">both</th>\n",
       "      <th>250</th>\n",
       "      <th>0</th>\n",
       "      <td>NaN</td>\n",
       "      <td>NaN</td>\n",
       "      <td>NaN</td>\n",
       "      <td>NaN</td>\n",
       "    </tr>\n",
       "    <tr>\n",
       "      <th>252</th>\n",
       "      <th>0</th>\n",
       "      <td>18.0</td>\n",
       "      <td>NaN</td>\n",
       "      <td>NaN</td>\n",
       "      <td>NaN</td>\n",
       "    </tr>\n",
       "    <tr>\n",
       "      <th>253</th>\n",
       "      <th>0</th>\n",
       "      <td>28.0</td>\n",
       "      <td>NaN</td>\n",
       "      <td>NaN</td>\n",
       "      <td>NaN</td>\n",
       "    </tr>\n",
       "    <tr>\n",
       "      <th>261</th>\n",
       "      <th>0</th>\n",
       "      <td>NaN</td>\n",
       "      <td>NaN</td>\n",
       "      <td>NaN</td>\n",
       "      <td>NaN</td>\n",
       "    </tr>\n",
       "    <tr>\n",
       "      <th>266</th>\n",
       "      <th>0</th>\n",
       "      <td>NaN</td>\n",
       "      <td>NaN</td>\n",
       "      <td>NaN</td>\n",
       "      <td>NaN</td>\n",
       "    </tr>\n",
       "  </tbody>\n",
       "</table>\n",
       "<p>805 rows × 4 columns</p>\n",
       "</div>"
      ],
      "text/plain": [
       "                 0   1   2   3\n",
       "0 0.0  11  1  42.0 NaN NaN NaN\n",
       "       27  0  33.0 NaN NaN NaN\n",
       "           1  20.0 NaN NaN NaN\n",
       "           3  20.0 NaN NaN NaN\n",
       "       35  1  35.0 NaN NaN NaN\n",
       "...            ...  ..  ..  ..\n",
       "1 both 250 0   NaN NaN NaN NaN\n",
       "       252 0  18.0 NaN NaN NaN\n",
       "       253 0  28.0 NaN NaN NaN\n",
       "       261 0   NaN NaN NaN NaN\n",
       "       266 0   NaN NaN NaN NaN\n",
       "\n",
       "[805 rows x 4 columns]"
      ]
     },
     "execution_count": 136,
     "metadata": {},
     "output_type": "execute_result"
    }
   ],
   "source": [
    "cp_d = pd.DataFrame(cp_d.values(),index=cp_d.keys())"
   ]
  },
  {
   "cell_type": "markdown",
   "id": "792fe745",
   "metadata": {},
   "source": [
    "# putting everything together"
   ]
  },
  {
   "cell_type": "code",
   "execution_count": 96,
   "id": "a25eff63",
   "metadata": {},
   "outputs": [],
   "source": [
    "import switch_detection_one_session as sdos"
   ]
  },
  {
   "cell_type": "code",
   "execution_count": 100,
   "id": "ebe73642",
   "metadata": {},
   "outputs": [
    {
     "name": "stdout",
     "output_type": "stream",
     "text": [
      "/mnt/home/szheng/ceph/ad/roman_data/e13/e13_26m1/e13_26m1_211019/py_data/place_field_afterheadscan.p exists; loading---\n"
     ]
    },
    {
     "name": "stderr",
     "output_type": "stream",
     "text": [
      "/mnt/home/szheng/ceph/envs/jax/lib/python3.9/site-packages/scipy/interpolate/_interpolate.py:698: RuntimeWarning: divide by zero encountered in true_divide\n",
      "  slope = (y_hi - y_lo) / (x_hi - x_lo)[:, None]\n",
      "/mnt/home/szheng/ceph/envs/jax/lib/python3.9/site-packages/scipy/interpolate/_interpolate.py:698: RuntimeWarning: divide by zero encountered in true_divide\n",
      "  slope = (y_hi - y_lo) / (x_hi - x_lo)[:, None]\n",
      "/mnt/home/szheng/ceph/envs/jax/lib/python3.9/site-packages/scipy/interpolate/_interpolate.py:698: RuntimeWarning: divide by zero encountered in true_divide\n",
      "  slope = (y_hi - y_lo) / (x_hi - x_lo)[:, None]\n",
      "/mnt/home/szheng/ceph/envs/jax/lib/python3.9/site-packages/scipy/interpolate/_interpolate.py:698: RuntimeWarning: divide by zero encountered in true_divide\n",
      "  slope = (y_hi - y_lo) / (x_hi - x_lo)[:, None]\n",
      "/mnt/home/szheng/ceph/envs/jax/lib/python3.9/site-packages/scipy/interpolate/_interpolate.py:698: RuntimeWarning: divide by zero encountered in true_divide\n",
      "  slope = (y_hi - y_lo) / (x_hi - x_lo)[:, None]\n"
     ]
    },
    {
     "name": "stdout",
     "output_type": "stream",
     "text": [
      "saved at /mnt/home/szheng/ceph/ad/roman_data/e13/e13_26m1/e13_26m1_211019/py_data/place_field_afterheadscan_recombine.p\n",
      "INFO: Pandarallel will run on 40 workers.\n",
      "INFO: Pandarallel will use standard multiprocessing data transfer (pipe) to transfer data between the main process and workers.\n"
     ]
    },
    {
     "data": {
      "application/vnd.jupyter.widget-view+json": {
       "model_id": "ab4d9f1077f6497ca5e25c16e70d5e2a",
       "version_major": 2,
       "version_minor": 0
      },
      "text/plain": [
       "VBox(children=(HBox(children=(IntProgress(value=0, description='0.00%', max=6), Label(value='0 / 6'))), HBox(c…"
      ]
     },
     "metadata": {},
     "output_type": "display_data"
    },
    {
     "name": "stdout",
     "output_type": "stream",
     "text": [
      "INFO: Pandarallel will run on 40 workers.\n",
      "INFO: Pandarallel will use standard multiprocessing data transfer (pipe) to transfer data between the main process and workers.\n"
     ]
    },
    {
     "data": {
      "application/vnd.jupyter.widget-view+json": {
       "model_id": "f3cdf4e397bb412da388d3e0d4f812d8",
       "version_major": 2,
       "version_minor": 0
      },
      "text/plain": [
       "VBox(children=(HBox(children=(IntProgress(value=0, description='0.00%', max=6), Label(value='0 / 6'))), HBox(c…"
      ]
     },
     "metadata": {},
     "output_type": "display_data"
    },
    {
     "name": "stdout",
     "output_type": "stream",
     "text": [
      "INFO: Pandarallel will run on 40 workers.\n",
      "INFO: Pandarallel will use standard multiprocessing data transfer (pipe) to transfer data between the main process and workers.\n"
     ]
    },
    {
     "data": {
      "application/vnd.jupyter.widget-view+json": {
       "model_id": "556d6417582e441db6ad818841aae0d8",
       "version_major": 2,
       "version_minor": 0
      },
      "text/plain": [
       "VBox(children=(HBox(children=(IntProgress(value=0, description='0.00%', max=5), Label(value='0 / 5'))), HBox(c…"
      ]
     },
     "metadata": {},
     "output_type": "display_data"
    },
    {
     "name": "stdout",
     "output_type": "stream",
     "text": [
      "INFO: Pandarallel will run on 40 workers.\n",
      "INFO: Pandarallel will use standard multiprocessing data transfer (pipe) to transfer data between the main process and workers.\n"
     ]
    },
    {
     "data": {
      "application/vnd.jupyter.widget-view+json": {
       "model_id": "211e8b5c81ed4363bc3e17ec1c0c4028",
       "version_major": 2,
       "version_minor": 0
      },
      "text/plain": [
       "VBox(children=(HBox(children=(IntProgress(value=0, description='0.00%', max=5), Label(value='0 / 5'))), HBox(c…"
      ]
     },
     "metadata": {},
     "output_type": "display_data"
    },
    {
     "name": "stdout",
     "output_type": "stream",
     "text": [
      "INFO: Pandarallel will run on 40 workers.\n",
      "INFO: Pandarallel will use standard multiprocessing data transfer (pipe) to transfer data between the main process and workers.\n"
     ]
    },
    {
     "data": {
      "application/vnd.jupyter.widget-view+json": {
       "model_id": "7acd61fdebe14732b076376a6c4e71a6",
       "version_major": 2,
       "version_minor": 0
      },
      "text/plain": [
       "VBox(children=(HBox(children=(IntProgress(value=0, description='0.00%', max=2), Label(value='0 / 2'))), HBox(c…"
      ]
     },
     "metadata": {},
     "output_type": "display_data"
    },
    {
     "name": "stdout",
     "output_type": "stream",
     "text": [
      "INFO: Pandarallel will run on 40 workers.\n",
      "INFO: Pandarallel will use standard multiprocessing data transfer (pipe) to transfer data between the main process and workers.\n"
     ]
    },
    {
     "data": {
      "application/vnd.jupyter.widget-view+json": {
       "model_id": "a3fb89ce2303418a8a99b93ec34348f4",
       "version_major": 2,
       "version_minor": 0
      },
      "text/plain": [
       "VBox(children=(HBox(children=(IntProgress(value=0, description='0.00%', max=2), Label(value='0 / 2'))), HBox(c…"
      ]
     },
     "metadata": {},
     "output_type": "display_data"
    },
    {
     "name": "stdout",
     "output_type": "stream",
     "text": [
      "INFO: Pandarallel will run on 40 workers.\n",
      "INFO: Pandarallel will use standard multiprocessing data transfer (pipe) to transfer data between the main process and workers.\n"
     ]
    },
    {
     "data": {
      "application/vnd.jupyter.widget-view+json": {
       "model_id": "dcd93d2954a6450398f21643ba645de5",
       "version_major": 2,
       "version_minor": 0
      },
      "text/plain": [
       "VBox(children=(HBox(children=(IntProgress(value=0, description='0.00%', max=5), Label(value='0 / 5'))), HBox(c…"
      ]
     },
     "metadata": {},
     "output_type": "display_data"
    },
    {
     "name": "stdout",
     "output_type": "stream",
     "text": [
      "INFO: Pandarallel will run on 40 workers.\n",
      "INFO: Pandarallel will use standard multiprocessing data transfer (pipe) to transfer data between the main process and workers.\n"
     ]
    },
    {
     "data": {
      "application/vnd.jupyter.widget-view+json": {
       "model_id": "deaf27839a334f1f8d781520024f6769",
       "version_major": 2,
       "version_minor": 0
      },
      "text/plain": [
       "VBox(children=(HBox(children=(IntProgress(value=0, description='0.00%', max=5), Label(value='0 / 5'))), HBox(c…"
      ]
     },
     "metadata": {},
     "output_type": "display_data"
    },
    {
     "name": "stdout",
     "output_type": "stream",
     "text": [
      "INFO: Pandarallel will run on 40 workers.\n",
      "INFO: Pandarallel will use standard multiprocessing data transfer (pipe) to transfer data between the main process and workers.\n"
     ]
    },
    {
     "data": {
      "application/vnd.jupyter.widget-view+json": {
       "model_id": "ad83c0450ce54684a909053775fe6931",
       "version_major": 2,
       "version_minor": 0
      },
      "text/plain": [
       "VBox(children=(HBox(children=(IntProgress(value=0, description='0.00%', max=4), Label(value='0 / 4'))), HBox(c…"
      ]
     },
     "metadata": {},
     "output_type": "display_data"
    },
    {
     "name": "stdout",
     "output_type": "stream",
     "text": [
      "INFO: Pandarallel will run on 40 workers.\n",
      "INFO: Pandarallel will use standard multiprocessing data transfer (pipe) to transfer data between the main process and workers.\n"
     ]
    },
    {
     "data": {
      "application/vnd.jupyter.widget-view+json": {
       "model_id": "36edc3dc42b2468d993f5708697bdfc2",
       "version_major": 2,
       "version_minor": 0
      },
      "text/plain": [
       "VBox(children=(HBox(children=(IntProgress(value=0, description='0.00%', max=4), Label(value='0 / 4'))), HBox(c…"
      ]
     },
     "metadata": {},
     "output_type": "display_data"
    },
    {
     "name": "stdout",
     "output_type": "stream",
     "text": [
      "INFO: Pandarallel will run on 40 workers.\n",
      "INFO: Pandarallel will use standard multiprocessing data transfer (pipe) to transfer data between the main process and workers.\n"
     ]
    },
    {
     "data": {
      "application/vnd.jupyter.widget-view+json": {
       "model_id": "0524732ebdd24c66a0663bb2073389dd",
       "version_major": 2,
       "version_minor": 0
      },
      "text/plain": [
       "VBox(children=(HBox(children=(IntProgress(value=0, description='0.00%', max=1), Label(value='0 / 1'))), HBox(c…"
      ]
     },
     "metadata": {},
     "output_type": "display_data"
    },
    {
     "name": "stdout",
     "output_type": "stream",
     "text": [
      "INFO: Pandarallel will run on 40 workers.\n",
      "INFO: Pandarallel will use standard multiprocessing data transfer (pipe) to transfer data between the main process and workers.\n"
     ]
    },
    {
     "data": {
      "application/vnd.jupyter.widget-view+json": {
       "model_id": "1ff5d546f8fe424ba5bbb6a15a9ddbdd",
       "version_major": 2,
       "version_minor": 0
      },
      "text/plain": [
       "VBox(children=(HBox(children=(IntProgress(value=0, description='0.00%', max=1), Label(value='0 / 1'))), HBox(c…"
      ]
     },
     "metadata": {},
     "output_type": "display_data"
    }
   ],
   "source": [
    "reload(sdos)\n",
    "res=sdos.main(data_dir_full,test_mode=True)"
   ]
  },
  {
   "cell_type": "code",
   "execution_count": 99,
   "id": "f63ed011",
   "metadata": {},
   "outputs": [
    {
     "data": {
      "text/html": [
       "<div>\n",
       "<style scoped>\n",
       "    .dataframe tbody tr th:only-of-type {\n",
       "        vertical-align: middle;\n",
       "    }\n",
       "\n",
       "    .dataframe tbody tr th {\n",
       "        vertical-align: top;\n",
       "    }\n",
       "\n",
       "    .dataframe thead th {\n",
       "        text-align: right;\n",
       "    }\n",
       "</style>\n",
       "<table border=\"1\" class=\"dataframe\">\n",
       "  <thead>\n",
       "    <tr style=\"text-align: right;\">\n",
       "      <th></th>\n",
       "      <th></th>\n",
       "      <th></th>\n",
       "      <th></th>\n",
       "      <th></th>\n",
       "      <th>0</th>\n",
       "      <th>1</th>\n",
       "      <th>2</th>\n",
       "      <th>3</th>\n",
       "      <th>4</th>\n",
       "      <th>5</th>\n",
       "      <th>6</th>\n",
       "      <th>7</th>\n",
       "      <th>8</th>\n",
       "      <th>9</th>\n",
       "      <th>...</th>\n",
       "      <th>37</th>\n",
       "      <th>38</th>\n",
       "      <th>39</th>\n",
       "      <th>40</th>\n",
       "      <th>41</th>\n",
       "      <th>42</th>\n",
       "      <th>43</th>\n",
       "      <th>44</th>\n",
       "      <th>45</th>\n",
       "      <th>46</th>\n",
       "    </tr>\n",
       "  </thead>\n",
       "  <tbody>\n",
       "    <tr>\n",
       "      <th rowspan=\"5\" valign=\"top\">com</th>\n",
       "      <th rowspan=\"5\" valign=\"top\">0</th>\n",
       "      <th rowspan=\"5\" valign=\"top\">0.0</th>\n",
       "      <th>11</th>\n",
       "      <th>1</th>\n",
       "      <td>NaN</td>\n",
       "      <td>66.219566</td>\n",
       "      <td>NaN</td>\n",
       "      <td>66.145987</td>\n",
       "      <td>NaN</td>\n",
       "      <td>65.971561</td>\n",
       "      <td>64.214033</td>\n",
       "      <td>NaN</td>\n",
       "      <td>64.980755</td>\n",
       "      <td>64.662929</td>\n",
       "      <td>...</td>\n",
       "      <td>65.748516</td>\n",
       "      <td>63.739881</td>\n",
       "      <td>NaN</td>\n",
       "      <td>65.602258</td>\n",
       "      <td>NaN</td>\n",
       "      <td>67.009501</td>\n",
       "      <td>NaN</td>\n",
       "      <td>67.297138</td>\n",
       "      <td>64.169418</td>\n",
       "      <td>NaN</td>\n",
       "    </tr>\n",
       "    <tr>\n",
       "      <th rowspan=\"3\" valign=\"top\">27</th>\n",
       "      <th>0</th>\n",
       "      <td>NaN</td>\n",
       "      <td>4.932522</td>\n",
       "      <td>NaN</td>\n",
       "      <td>4.933452</td>\n",
       "      <td>NaN</td>\n",
       "      <td>5.117560</td>\n",
       "      <td>5.538741</td>\n",
       "      <td>NaN</td>\n",
       "      <td>5.976406</td>\n",
       "      <td>4.997046</td>\n",
       "      <td>...</td>\n",
       "      <td>6.251680</td>\n",
       "      <td>5.856127</td>\n",
       "      <td>NaN</td>\n",
       "      <td>5.336370</td>\n",
       "      <td>NaN</td>\n",
       "      <td>5.628703</td>\n",
       "      <td>NaN</td>\n",
       "      <td>5.198469</td>\n",
       "      <td>5.364516</td>\n",
       "      <td>NaN</td>\n",
       "    </tr>\n",
       "    <tr>\n",
       "      <th>1</th>\n",
       "      <td>NaN</td>\n",
       "      <td>34.892476</td>\n",
       "      <td>NaN</td>\n",
       "      <td>35.202124</td>\n",
       "      <td>NaN</td>\n",
       "      <td>35.064032</td>\n",
       "      <td>35.377318</td>\n",
       "      <td>NaN</td>\n",
       "      <td>35.366250</td>\n",
       "      <td>34.591945</td>\n",
       "      <td>...</td>\n",
       "      <td>35.123117</td>\n",
       "      <td>34.728253</td>\n",
       "      <td>NaN</td>\n",
       "      <td>34.548300</td>\n",
       "      <td>NaN</td>\n",
       "      <td>35.106779</td>\n",
       "      <td>NaN</td>\n",
       "      <td>35.183013</td>\n",
       "      <td>34.758014</td>\n",
       "      <td>NaN</td>\n",
       "    </tr>\n",
       "    <tr>\n",
       "      <th>3</th>\n",
       "      <td>NaN</td>\n",
       "      <td>95.297068</td>\n",
       "      <td>NaN</td>\n",
       "      <td>96.080028</td>\n",
       "      <td>NaN</td>\n",
       "      <td>95.509412</td>\n",
       "      <td>95.559673</td>\n",
       "      <td>NaN</td>\n",
       "      <td>95.051706</td>\n",
       "      <td>95.533977</td>\n",
       "      <td>...</td>\n",
       "      <td>95.481599</td>\n",
       "      <td>95.081130</td>\n",
       "      <td>NaN</td>\n",
       "      <td>95.515651</td>\n",
       "      <td>NaN</td>\n",
       "      <td>95.459171</td>\n",
       "      <td>NaN</td>\n",
       "      <td>95.700294</td>\n",
       "      <td>95.310948</td>\n",
       "      <td>NaN</td>\n",
       "    </tr>\n",
       "    <tr>\n",
       "      <th>35</th>\n",
       "      <th>1</th>\n",
       "      <td>NaN</td>\n",
       "      <td>64.379879</td>\n",
       "      <td>NaN</td>\n",
       "      <td>64.502882</td>\n",
       "      <td>NaN</td>\n",
       "      <td>64.698416</td>\n",
       "      <td>63.835138</td>\n",
       "      <td>NaN</td>\n",
       "      <td>64.276967</td>\n",
       "      <td>64.714602</td>\n",
       "      <td>...</td>\n",
       "      <td>63.354701</td>\n",
       "      <td>64.687697</td>\n",
       "      <td>NaN</td>\n",
       "      <td>64.107422</td>\n",
       "      <td>NaN</td>\n",
       "      <td>64.756677</td>\n",
       "      <td>NaN</td>\n",
       "      <td>64.404977</td>\n",
       "      <td>64.365064</td>\n",
       "      <td>NaN</td>\n",
       "    </tr>\n",
       "    <tr>\n",
       "      <th>...</th>\n",
       "      <th>...</th>\n",
       "      <th>...</th>\n",
       "      <th>...</th>\n",
       "      <th>...</th>\n",
       "      <td>...</td>\n",
       "      <td>...</td>\n",
       "      <td>...</td>\n",
       "      <td>...</td>\n",
       "      <td>...</td>\n",
       "      <td>...</td>\n",
       "      <td>...</td>\n",
       "      <td>...</td>\n",
       "      <td>...</td>\n",
       "      <td>...</td>\n",
       "      <td>...</td>\n",
       "      <td>...</td>\n",
       "      <td>...</td>\n",
       "      <td>...</td>\n",
       "      <td>...</td>\n",
       "      <td>...</td>\n",
       "      <td>...</td>\n",
       "      <td>...</td>\n",
       "      <td>...</td>\n",
       "      <td>...</td>\n",
       "      <td>...</td>\n",
       "    </tr>\n",
       "    <tr>\n",
       "      <th rowspan=\"5\" valign=\"top\">std</th>\n",
       "      <th rowspan=\"5\" valign=\"top\">1</th>\n",
       "      <th rowspan=\"5\" valign=\"top\">both</th>\n",
       "      <th>250</th>\n",
       "      <th>0</th>\n",
       "      <td>1.466978</td>\n",
       "      <td>1.885895</td>\n",
       "      <td>0.806211</td>\n",
       "      <td>4.133137</td>\n",
       "      <td>1.383483</td>\n",
       "      <td>4.649427</td>\n",
       "      <td>NaN</td>\n",
       "      <td>1.528081</td>\n",
       "      <td>5.252907</td>\n",
       "      <td>4.913636</td>\n",
       "      <td>...</td>\n",
       "      <td>NaN</td>\n",
       "      <td>NaN</td>\n",
       "      <td>NaN</td>\n",
       "      <td>NaN</td>\n",
       "      <td>NaN</td>\n",
       "      <td>NaN</td>\n",
       "      <td>NaN</td>\n",
       "      <td>NaN</td>\n",
       "      <td>NaN</td>\n",
       "      <td>NaN</td>\n",
       "    </tr>\n",
       "    <tr>\n",
       "      <th>252</th>\n",
       "      <th>0</th>\n",
       "      <td>1.181127</td>\n",
       "      <td>3.111311</td>\n",
       "      <td>4.560856</td>\n",
       "      <td>4.636047</td>\n",
       "      <td>1.240575</td>\n",
       "      <td>2.919026</td>\n",
       "      <td>4.698907</td>\n",
       "      <td>2.942864</td>\n",
       "      <td>3.721627</td>\n",
       "      <td>3.266674</td>\n",
       "      <td>...</td>\n",
       "      <td>NaN</td>\n",
       "      <td>NaN</td>\n",
       "      <td>NaN</td>\n",
       "      <td>NaN</td>\n",
       "      <td>NaN</td>\n",
       "      <td>NaN</td>\n",
       "      <td>NaN</td>\n",
       "      <td>NaN</td>\n",
       "      <td>NaN</td>\n",
       "      <td>NaN</td>\n",
       "    </tr>\n",
       "    <tr>\n",
       "      <th>253</th>\n",
       "      <th>0</th>\n",
       "      <td>NaN</td>\n",
       "      <td>1.223574</td>\n",
       "      <td>2.515740</td>\n",
       "      <td>1.392171</td>\n",
       "      <td>2.494542</td>\n",
       "      <td>0.672115</td>\n",
       "      <td>2.089307</td>\n",
       "      <td>2.496435</td>\n",
       "      <td>1.370531</td>\n",
       "      <td>1.208229</td>\n",
       "      <td>...</td>\n",
       "      <td>NaN</td>\n",
       "      <td>NaN</td>\n",
       "      <td>NaN</td>\n",
       "      <td>NaN</td>\n",
       "      <td>NaN</td>\n",
       "      <td>NaN</td>\n",
       "      <td>NaN</td>\n",
       "      <td>NaN</td>\n",
       "      <td>NaN</td>\n",
       "      <td>NaN</td>\n",
       "    </tr>\n",
       "    <tr>\n",
       "      <th>261</th>\n",
       "      <th>0</th>\n",
       "      <td>NaN</td>\n",
       "      <td>1.020650</td>\n",
       "      <td>NaN</td>\n",
       "      <td>NaN</td>\n",
       "      <td>2.157698</td>\n",
       "      <td>3.305098</td>\n",
       "      <td>1.317893</td>\n",
       "      <td>2.189779</td>\n",
       "      <td>2.498938</td>\n",
       "      <td>2.912386</td>\n",
       "      <td>...</td>\n",
       "      <td>NaN</td>\n",
       "      <td>NaN</td>\n",
       "      <td>NaN</td>\n",
       "      <td>NaN</td>\n",
       "      <td>NaN</td>\n",
       "      <td>NaN</td>\n",
       "      <td>NaN</td>\n",
       "      <td>NaN</td>\n",
       "      <td>NaN</td>\n",
       "      <td>NaN</td>\n",
       "    </tr>\n",
       "    <tr>\n",
       "      <th>266</th>\n",
       "      <th>0</th>\n",
       "      <td>2.045055</td>\n",
       "      <td>NaN</td>\n",
       "      <td>NaN</td>\n",
       "      <td>NaN</td>\n",
       "      <td>0.000000</td>\n",
       "      <td>NaN</td>\n",
       "      <td>NaN</td>\n",
       "      <td>0.475801</td>\n",
       "      <td>1.940475</td>\n",
       "      <td>1.443316</td>\n",
       "      <td>...</td>\n",
       "      <td>NaN</td>\n",
       "      <td>NaN</td>\n",
       "      <td>NaN</td>\n",
       "      <td>NaN</td>\n",
       "      <td>NaN</td>\n",
       "      <td>NaN</td>\n",
       "      <td>NaN</td>\n",
       "      <td>NaN</td>\n",
       "      <td>NaN</td>\n",
       "      <td>NaN</td>\n",
       "    </tr>\n",
       "  </tbody>\n",
       "</table>\n",
       "<p>4025 rows × 47 columns</p>\n",
       "</div>"
      ],
      "text/plain": [
       "                        0          1         2          3         4   \\\n",
       "com 0 0.0  11  1       NaN  66.219566       NaN  66.145987       NaN   \n",
       "           27  0       NaN   4.932522       NaN   4.933452       NaN   \n",
       "               1       NaN  34.892476       NaN  35.202124       NaN   \n",
       "               3       NaN  95.297068       NaN  96.080028       NaN   \n",
       "           35  1       NaN  64.379879       NaN  64.502882       NaN   \n",
       "...                    ...        ...       ...        ...       ...   \n",
       "std 1 both 250 0  1.466978   1.885895  0.806211   4.133137  1.383483   \n",
       "           252 0  1.181127   3.111311  4.560856   4.636047  1.240575   \n",
       "           253 0       NaN   1.223574  2.515740   1.392171  2.494542   \n",
       "           261 0       NaN   1.020650       NaN        NaN  2.157698   \n",
       "           266 0  2.045055        NaN       NaN        NaN  0.000000   \n",
       "\n",
       "                         5          6         7          8          9   ...  \\\n",
       "com 0 0.0  11  1  65.971561  64.214033       NaN  64.980755  64.662929  ...   \n",
       "           27  0   5.117560   5.538741       NaN   5.976406   4.997046  ...   \n",
       "               1  35.064032  35.377318       NaN  35.366250  34.591945  ...   \n",
       "               3  95.509412  95.559673       NaN  95.051706  95.533977  ...   \n",
       "           35  1  64.698416  63.835138       NaN  64.276967  64.714602  ...   \n",
       "...                     ...        ...       ...        ...        ...  ...   \n",
       "std 1 both 250 0   4.649427        NaN  1.528081   5.252907   4.913636  ...   \n",
       "           252 0   2.919026   4.698907  2.942864   3.721627   3.266674  ...   \n",
       "           253 0   0.672115   2.089307  2.496435   1.370531   1.208229  ...   \n",
       "           261 0   3.305098   1.317893  2.189779   2.498938   2.912386  ...   \n",
       "           266 0        NaN        NaN  0.475801   1.940475   1.443316  ...   \n",
       "\n",
       "                         37         38  39         40  41         42  43  \\\n",
       "com 0 0.0  11  1  65.748516  63.739881 NaN  65.602258 NaN  67.009501 NaN   \n",
       "           27  0   6.251680   5.856127 NaN   5.336370 NaN   5.628703 NaN   \n",
       "               1  35.123117  34.728253 NaN  34.548300 NaN  35.106779 NaN   \n",
       "               3  95.481599  95.081130 NaN  95.515651 NaN  95.459171 NaN   \n",
       "           35  1  63.354701  64.687697 NaN  64.107422 NaN  64.756677 NaN   \n",
       "...                     ...        ...  ..        ...  ..        ...  ..   \n",
       "std 1 both 250 0        NaN        NaN NaN        NaN NaN        NaN NaN   \n",
       "           252 0        NaN        NaN NaN        NaN NaN        NaN NaN   \n",
       "           253 0        NaN        NaN NaN        NaN NaN        NaN NaN   \n",
       "           261 0        NaN        NaN NaN        NaN NaN        NaN NaN   \n",
       "           266 0        NaN        NaN NaN        NaN NaN        NaN NaN   \n",
       "\n",
       "                         44         45  46  \n",
       "com 0 0.0  11  1  67.297138  64.169418 NaN  \n",
       "           27  0   5.198469   5.364516 NaN  \n",
       "               1  35.183013  34.758014 NaN  \n",
       "               3  95.700294  95.310948 NaN  \n",
       "           35  1  64.404977  64.365064 NaN  \n",
       "...                     ...        ...  ..  \n",
       "std 1 both 250 0        NaN        NaN NaN  \n",
       "           252 0        NaN        NaN NaN  \n",
       "           253 0        NaN        NaN NaN  \n",
       "           261 0        NaN        NaN NaN  \n",
       "           266 0        NaN        NaN NaN  \n",
       "\n",
       "[4025 rows x 47 columns]"
      ]
     },
     "execution_count": 99,
     "metadata": {},
     "output_type": "execute_result"
    }
   ],
   "source": [
    "pf_res['params_recombined']"
   ]
  },
  {
   "cell_type": "code",
   "execution_count": 95,
   "id": "906ba334",
   "metadata": {
    "scrolled": true
   },
   "outputs": [
    {
     "data": {
      "text/plain": [
       "dict_keys(['pval', 'best_n', 'X_pwc', 'X_raw', 'X_pwc_norm', 'changes_df', 'var_res', 'corr', 'p_corr'])"
      ]
     },
     "execution_count": 95,
     "metadata": {},
     "output_type": "execute_result"
    }
   ],
   "source": [
    "res.keys()"
   ]
  },
  {
   "cell_type": "code",
   "execution_count": 92,
   "id": "e3563354",
   "metadata": {},
   "outputs": [
    {
     "name": "stdout",
     "output_type": "stream",
     "text": [
      "INFO: Pandarallel will run on 40 workers.\n",
      "INFO: Pandarallel will use standard multiprocessing data transfer (pipe) to transfer data between the main process and workers.\n"
     ]
    },
    {
     "data": {
      "application/vnd.jupyter.widget-view+json": {
       "model_id": "e5fd7107726a46538e6b74dbfda77bea",
       "version_major": 2,
       "version_minor": 0
      },
      "text/plain": [
       "VBox(children=(HBox(children=(IntProgress(value=0, description='0.00%', max=6), Label(value='0 / 6'))), HBox(c…"
      ]
     },
     "metadata": {},
     "output_type": "display_data"
    },
    {
     "name": "stdout",
     "output_type": "stream",
     "text": [
      "INFO: Pandarallel will run on 40 workers.\n",
      "INFO: Pandarallel will use standard multiprocessing data transfer (pipe) to transfer data between the main process and workers.\n"
     ]
    },
    {
     "data": {
      "application/vnd.jupyter.widget-view+json": {
       "model_id": "12fb42e7b5ad4db1b732a9e573e6bdd4",
       "version_major": 2,
       "version_minor": 0
      },
      "text/plain": [
       "VBox(children=(HBox(children=(IntProgress(value=0, description='0.00%', max=6), Label(value='0 / 6'))), HBox(c…"
      ]
     },
     "metadata": {},
     "output_type": "display_data"
    },
    {
     "name": "stdout",
     "output_type": "stream",
     "text": [
      "INFO: Pandarallel will run on 40 workers.\n",
      "INFO: Pandarallel will use standard multiprocessing data transfer (pipe) to transfer data between the main process and workers.\n"
     ]
    },
    {
     "data": {
      "application/vnd.jupyter.widget-view+json": {
       "model_id": "242641b17142426cbec79ebe7eb25e83",
       "version_major": 2,
       "version_minor": 0
      },
      "text/plain": [
       "VBox(children=(HBox(children=(IntProgress(value=0, description='0.00%', max=5), Label(value='0 / 5'))), HBox(c…"
      ]
     },
     "metadata": {},
     "output_type": "display_data"
    },
    {
     "name": "stdout",
     "output_type": "stream",
     "text": [
      "INFO: Pandarallel will run on 40 workers.\n",
      "INFO: Pandarallel will use standard multiprocessing data transfer (pipe) to transfer data between the main process and workers.\n"
     ]
    },
    {
     "data": {
      "application/vnd.jupyter.widget-view+json": {
       "model_id": "6fbcdebc36e14967bb17f502bac48153",
       "version_major": 2,
       "version_minor": 0
      },
      "text/plain": [
       "VBox(children=(HBox(children=(IntProgress(value=0, description='0.00%', max=5), Label(value='0 / 5'))), HBox(c…"
      ]
     },
     "metadata": {},
     "output_type": "display_data"
    },
    {
     "name": "stdout",
     "output_type": "stream",
     "text": [
      "INFO: Pandarallel will run on 40 workers.\n",
      "INFO: Pandarallel will use standard multiprocessing data transfer (pipe) to transfer data between the main process and workers.\n"
     ]
    },
    {
     "data": {
      "application/vnd.jupyter.widget-view+json": {
       "model_id": "3ad6af3e442645469513b46e87eee1f3",
       "version_major": 2,
       "version_minor": 0
      },
      "text/plain": [
       "VBox(children=(HBox(children=(IntProgress(value=0, description='0.00%', max=2), Label(value='0 / 2'))), HBox(c…"
      ]
     },
     "metadata": {},
     "output_type": "display_data"
    },
    {
     "name": "stdout",
     "output_type": "stream",
     "text": [
      "INFO: Pandarallel will run on 40 workers.\n",
      "INFO: Pandarallel will use standard multiprocessing data transfer (pipe) to transfer data between the main process and workers.\n"
     ]
    },
    {
     "data": {
      "application/vnd.jupyter.widget-view+json": {
       "model_id": "10362946d11c4dee8dd253d5881a9e52",
       "version_major": 2,
       "version_minor": 0
      },
      "text/plain": [
       "VBox(children=(HBox(children=(IntProgress(value=0, description='0.00%', max=2), Label(value='0 / 2'))), HBox(c…"
      ]
     },
     "metadata": {},
     "output_type": "display_data"
    },
    {
     "name": "stdout",
     "output_type": "stream",
     "text": [
      "INFO: Pandarallel will run on 40 workers.\n",
      "INFO: Pandarallel will use standard multiprocessing data transfer (pipe) to transfer data between the main process and workers.\n"
     ]
    },
    {
     "data": {
      "application/vnd.jupyter.widget-view+json": {
       "model_id": "bdf1213bd0b34f239bff97306dd68d21",
       "version_major": 2,
       "version_minor": 0
      },
      "text/plain": [
       "VBox(children=(HBox(children=(IntProgress(value=0, description='0.00%', max=5), Label(value='0 / 5'))), HBox(c…"
      ]
     },
     "metadata": {},
     "output_type": "display_data"
    },
    {
     "name": "stdout",
     "output_type": "stream",
     "text": [
      "INFO: Pandarallel will run on 40 workers.\n",
      "INFO: Pandarallel will use standard multiprocessing data transfer (pipe) to transfer data between the main process and workers.\n"
     ]
    },
    {
     "data": {
      "application/vnd.jupyter.widget-view+json": {
       "model_id": "b13bd28247164f778dd4d7acf2ff3030",
       "version_major": 2,
       "version_minor": 0
      },
      "text/plain": [
       "VBox(children=(HBox(children=(IntProgress(value=0, description='0.00%', max=5), Label(value='0 / 5'))), HBox(c…"
      ]
     },
     "metadata": {},
     "output_type": "display_data"
    },
    {
     "name": "stdout",
     "output_type": "stream",
     "text": [
      "INFO: Pandarallel will run on 40 workers.\n",
      "INFO: Pandarallel will use standard multiprocessing data transfer (pipe) to transfer data between the main process and workers.\n"
     ]
    },
    {
     "data": {
      "application/vnd.jupyter.widget-view+json": {
       "model_id": "719253090342461cabacf5cd4a3d77f9",
       "version_major": 2,
       "version_minor": 0
      },
      "text/plain": [
       "VBox(children=(HBox(children=(IntProgress(value=0, description='0.00%', max=4), Label(value='0 / 4'))), HBox(c…"
      ]
     },
     "metadata": {},
     "output_type": "display_data"
    },
    {
     "name": "stdout",
     "output_type": "stream",
     "text": [
      "INFO: Pandarallel will run on 40 workers.\n",
      "INFO: Pandarallel will use standard multiprocessing data transfer (pipe) to transfer data between the main process and workers.\n"
     ]
    },
    {
     "data": {
      "application/vnd.jupyter.widget-view+json": {
       "model_id": "c174c8645b3c489982315cfdd4ddbb84",
       "version_major": 2,
       "version_minor": 0
      },
      "text/plain": [
       "VBox(children=(HBox(children=(IntProgress(value=0, description='0.00%', max=4), Label(value='0 / 4'))), HBox(c…"
      ]
     },
     "metadata": {},
     "output_type": "display_data"
    },
    {
     "name": "stdout",
     "output_type": "stream",
     "text": [
      "INFO: Pandarallel will run on 40 workers.\n",
      "INFO: Pandarallel will use standard multiprocessing data transfer (pipe) to transfer data between the main process and workers.\n"
     ]
    },
    {
     "data": {
      "application/vnd.jupyter.widget-view+json": {
       "model_id": "8116c33ee63744958b9efee9ade9cff2",
       "version_major": 2,
       "version_minor": 0
      },
      "text/plain": [
       "VBox(children=(HBox(children=(IntProgress(value=0, description='0.00%', max=1), Label(value='0 / 1'))), HBox(c…"
      ]
     },
     "metadata": {},
     "output_type": "display_data"
    },
    {
     "name": "stdout",
     "output_type": "stream",
     "text": [
      "INFO: Pandarallel will run on 40 workers.\n",
      "INFO: Pandarallel will use standard multiprocessing data transfer (pipe) to transfer data between the main process and workers.\n"
     ]
    },
    {
     "data": {
      "application/vnd.jupyter.widget-view+json": {
       "model_id": "77bf9f0d163f4ba8886905b219f0c598",
       "version_major": 2,
       "version_minor": 0
      },
      "text/plain": [
       "VBox(children=(HBox(children=(IntProgress(value=0, description='0.00%', max=1), Label(value='0 / 1'))), HBox(c…"
      ]
     },
     "metadata": {},
     "output_type": "display_data"
    }
   ],
   "source": [
    "reload(tcp)\n",
    "res = tcp.detect_switch_all_steps(X,n_shuffle=10,n_change_pts_max_MAX=2)"
   ]
  },
  {
   "cell_type": "code",
   "execution_count": null,
   "id": "d28c7703",
   "metadata": {},
   "outputs": [],
   "source": []
  },
  {
   "cell_type": "code",
   "execution_count": 122,
   "id": "9beb6fcd",
   "metadata": {},
   "outputs": [
    {
     "ename": "ValueError",
     "evalue": "All arrays must be of the same length",
     "output_type": "error",
     "traceback": [
      "\u001b[0;31m---------------------------------------------------------------------------\u001b[0m",
      "\u001b[0;31mValueError\u001b[0m                                Traceback (most recent call last)",
      "Input \u001b[0;32mIn [122]\u001b[0m, in \u001b[0;36m<cell line: 1>\u001b[0;34m()\u001b[0m\n\u001b[0;32m----> 1\u001b[0m \u001b[43mpd\u001b[49m\u001b[38;5;241;43m.\u001b[39;49m\u001b[43mDataFrame\u001b[49m\u001b[43m(\u001b[49m\u001b[43mcp_d\u001b[49m\u001b[43m)\u001b[49m\n",
      "File \u001b[0;32m~/ceph/envs/jax/lib/python3.9/site-packages/pandas/core/frame.py:636\u001b[0m, in \u001b[0;36mDataFrame.__init__\u001b[0;34m(self, data, index, columns, dtype, copy)\u001b[0m\n\u001b[1;32m    630\u001b[0m     mgr \u001b[38;5;241m=\u001b[39m \u001b[38;5;28mself\u001b[39m\u001b[38;5;241m.\u001b[39m_init_mgr(\n\u001b[1;32m    631\u001b[0m         data, axes\u001b[38;5;241m=\u001b[39m{\u001b[38;5;124m\"\u001b[39m\u001b[38;5;124mindex\u001b[39m\u001b[38;5;124m\"\u001b[39m: index, \u001b[38;5;124m\"\u001b[39m\u001b[38;5;124mcolumns\u001b[39m\u001b[38;5;124m\"\u001b[39m: columns}, dtype\u001b[38;5;241m=\u001b[39mdtype, copy\u001b[38;5;241m=\u001b[39mcopy\n\u001b[1;32m    632\u001b[0m     )\n\u001b[1;32m    634\u001b[0m \u001b[38;5;28;01melif\u001b[39;00m \u001b[38;5;28misinstance\u001b[39m(data, \u001b[38;5;28mdict\u001b[39m):\n\u001b[1;32m    635\u001b[0m     \u001b[38;5;66;03m# GH#38939 de facto copy defaults to False only in non-dict cases\u001b[39;00m\n\u001b[0;32m--> 636\u001b[0m     mgr \u001b[38;5;241m=\u001b[39m \u001b[43mdict_to_mgr\u001b[49m\u001b[43m(\u001b[49m\u001b[43mdata\u001b[49m\u001b[43m,\u001b[49m\u001b[43m \u001b[49m\u001b[43mindex\u001b[49m\u001b[43m,\u001b[49m\u001b[43m \u001b[49m\u001b[43mcolumns\u001b[49m\u001b[43m,\u001b[49m\u001b[43m \u001b[49m\u001b[43mdtype\u001b[49m\u001b[38;5;241;43m=\u001b[39;49m\u001b[43mdtype\u001b[49m\u001b[43m,\u001b[49m\u001b[43m \u001b[49m\u001b[43mcopy\u001b[49m\u001b[38;5;241;43m=\u001b[39;49m\u001b[43mcopy\u001b[49m\u001b[43m,\u001b[49m\u001b[43m \u001b[49m\u001b[43mtyp\u001b[49m\u001b[38;5;241;43m=\u001b[39;49m\u001b[43mmanager\u001b[49m\u001b[43m)\u001b[49m\n\u001b[1;32m    637\u001b[0m \u001b[38;5;28;01melif\u001b[39;00m \u001b[38;5;28misinstance\u001b[39m(data, ma\u001b[38;5;241m.\u001b[39mMaskedArray):\n\u001b[1;32m    638\u001b[0m     \u001b[38;5;28;01mimport\u001b[39;00m \u001b[38;5;21;01mnumpy\u001b[39;00m\u001b[38;5;21;01m.\u001b[39;00m\u001b[38;5;21;01mma\u001b[39;00m\u001b[38;5;21;01m.\u001b[39;00m\u001b[38;5;21;01mmrecords\u001b[39;00m \u001b[38;5;28;01mas\u001b[39;00m \u001b[38;5;21;01mmrecords\u001b[39;00m\n",
      "File \u001b[0;32m~/ceph/envs/jax/lib/python3.9/site-packages/pandas/core/internals/construction.py:502\u001b[0m, in \u001b[0;36mdict_to_mgr\u001b[0;34m(data, index, columns, dtype, typ, copy)\u001b[0m\n\u001b[1;32m    494\u001b[0m     arrays \u001b[38;5;241m=\u001b[39m [\n\u001b[1;32m    495\u001b[0m         x\n\u001b[1;32m    496\u001b[0m         \u001b[38;5;28;01mif\u001b[39;00m \u001b[38;5;129;01mnot\u001b[39;00m \u001b[38;5;28mhasattr\u001b[39m(x, \u001b[38;5;124m\"\u001b[39m\u001b[38;5;124mdtype\u001b[39m\u001b[38;5;124m\"\u001b[39m) \u001b[38;5;129;01mor\u001b[39;00m \u001b[38;5;129;01mnot\u001b[39;00m \u001b[38;5;28misinstance\u001b[39m(x\u001b[38;5;241m.\u001b[39mdtype, ExtensionDtype)\n\u001b[1;32m    497\u001b[0m         \u001b[38;5;28;01melse\u001b[39;00m x\u001b[38;5;241m.\u001b[39mcopy()\n\u001b[1;32m    498\u001b[0m         \u001b[38;5;28;01mfor\u001b[39;00m x \u001b[38;5;129;01min\u001b[39;00m arrays\n\u001b[1;32m    499\u001b[0m     ]\n\u001b[1;32m    500\u001b[0m     \u001b[38;5;66;03m# TODO: can we get rid of the dt64tz special case above?\u001b[39;00m\n\u001b[0;32m--> 502\u001b[0m \u001b[38;5;28;01mreturn\u001b[39;00m \u001b[43marrays_to_mgr\u001b[49m\u001b[43m(\u001b[49m\u001b[43marrays\u001b[49m\u001b[43m,\u001b[49m\u001b[43m \u001b[49m\u001b[43mcolumns\u001b[49m\u001b[43m,\u001b[49m\u001b[43m \u001b[49m\u001b[43mindex\u001b[49m\u001b[43m,\u001b[49m\u001b[43m \u001b[49m\u001b[43mdtype\u001b[49m\u001b[38;5;241;43m=\u001b[39;49m\u001b[43mdtype\u001b[49m\u001b[43m,\u001b[49m\u001b[43m \u001b[49m\u001b[43mtyp\u001b[49m\u001b[38;5;241;43m=\u001b[39;49m\u001b[43mtyp\u001b[49m\u001b[43m,\u001b[49m\u001b[43m \u001b[49m\u001b[43mconsolidate\u001b[49m\u001b[38;5;241;43m=\u001b[39;49m\u001b[43mcopy\u001b[49m\u001b[43m)\u001b[49m\n",
      "File \u001b[0;32m~/ceph/envs/jax/lib/python3.9/site-packages/pandas/core/internals/construction.py:120\u001b[0m, in \u001b[0;36marrays_to_mgr\u001b[0;34m(arrays, columns, index, dtype, verify_integrity, typ, consolidate)\u001b[0m\n\u001b[1;32m    117\u001b[0m \u001b[38;5;28;01mif\u001b[39;00m verify_integrity:\n\u001b[1;32m    118\u001b[0m     \u001b[38;5;66;03m# figure out the index, if necessary\u001b[39;00m\n\u001b[1;32m    119\u001b[0m     \u001b[38;5;28;01mif\u001b[39;00m index \u001b[38;5;129;01mis\u001b[39;00m \u001b[38;5;28;01mNone\u001b[39;00m:\n\u001b[0;32m--> 120\u001b[0m         index \u001b[38;5;241m=\u001b[39m \u001b[43m_extract_index\u001b[49m\u001b[43m(\u001b[49m\u001b[43marrays\u001b[49m\u001b[43m)\u001b[49m\n\u001b[1;32m    121\u001b[0m     \u001b[38;5;28;01melse\u001b[39;00m:\n\u001b[1;32m    122\u001b[0m         index \u001b[38;5;241m=\u001b[39m ensure_index(index)\n",
      "File \u001b[0;32m~/ceph/envs/jax/lib/python3.9/site-packages/pandas/core/internals/construction.py:674\u001b[0m, in \u001b[0;36m_extract_index\u001b[0;34m(data)\u001b[0m\n\u001b[1;32m    672\u001b[0m lengths \u001b[38;5;241m=\u001b[39m \u001b[38;5;28mlist\u001b[39m(\u001b[38;5;28mset\u001b[39m(raw_lengths))\n\u001b[1;32m    673\u001b[0m \u001b[38;5;28;01mif\u001b[39;00m \u001b[38;5;28mlen\u001b[39m(lengths) \u001b[38;5;241m>\u001b[39m \u001b[38;5;241m1\u001b[39m:\n\u001b[0;32m--> 674\u001b[0m     \u001b[38;5;28;01mraise\u001b[39;00m \u001b[38;5;167;01mValueError\u001b[39;00m(\u001b[38;5;124m\"\u001b[39m\u001b[38;5;124mAll arrays must be of the same length\u001b[39m\u001b[38;5;124m\"\u001b[39m)\n\u001b[1;32m    676\u001b[0m \u001b[38;5;28;01mif\u001b[39;00m have_dicts:\n\u001b[1;32m    677\u001b[0m     \u001b[38;5;28;01mraise\u001b[39;00m \u001b[38;5;167;01mValueError\u001b[39;00m(\n\u001b[1;32m    678\u001b[0m         \u001b[38;5;124m\"\u001b[39m\u001b[38;5;124mMixing dicts with non-Series may lead to ambiguous ordering.\u001b[39m\u001b[38;5;124m\"\u001b[39m\n\u001b[1;32m    679\u001b[0m     )\n",
      "\u001b[0;31mValueError\u001b[0m: All arrays must be of the same length"
     ]
    }
   ],
   "source": [
    "pd.DataFrame(cp_d)"
   ]
  },
  {
   "cell_type": "code",
   "execution_count": 99,
   "id": "ee54c33a",
   "metadata": {
    "scrolled": true
   },
   "outputs": [
    {
     "data": {
      "text/plain": [
       "[<matplotlib.lines.Line2D at 0x1554a62cbe20>]"
      ]
     },
     "execution_count": 99,
     "metadata": {},
     "output_type": "execute_result"
    },
    {
     "data": {
      "image/png": "[encoded data removed]",
      "text/plain": [
       "<Figure size 432x288 with 1 Axes>"
      ]
     },
     "metadata": {
      "needs_background": "light"
     },
     "output_type": "display_data"
    }
   ],
   "source": [
    "plt.plot(signal.values)"
   ]
  },
  {
   "cell_type": "code",
   "execution_count": 115,
   "id": "abcdeed9",
   "metadata": {},
   "outputs": [
    {
     "data": {
      "text/plain": [
       "Int64Index([42], dtype='int64')"
      ]
     },
     "execution_count": 115,
     "metadata": {},
     "output_type": "execute_result"
    }
   ],
   "source": [
    "reload(cpa)\n",
    "signal = X.iloc[0].dropna()\n",
    "n=1\n",
    "cpa.get_change_points_one_field(signal,n,trial_index=signal.index,model_type='dyn',cost='l2')"
   ]
  },
  {
   "cell_type": "code",
   "execution_count": 110,
   "id": "ee5d8571",
   "metadata": {},
   "outputs": [
    {
     "data": {
      "text/plain": [
       "Int64Index([ 1,  3,  5,  6,  8,  9, 11, 12, 15, 17, 18, 20, 22, 23, 25, 27, 29,\n",
       "            31, 33, 34, 35, 37, 38, 40, 42, 44, 45],\n",
       "           dtype='int64')"
      ]
     },
     "execution_count": 110,
     "metadata": {},
     "output_type": "execute_result"
    }
   ],
   "source": [
    "signal.index"
   ]
  },
  {
   "cell_type": "code",
   "execution_count": null,
   "id": "04b9969a",
   "metadata": {},
   "outputs": [],
   "source": []
  },
  {
   "cell_type": "code",
   "execution_count": null,
   "id": "9740bd7b",
   "metadata": {},
   "outputs": [],
   "source": [
    "# get change df, X_pwc, error"
   ]
  },
  {
   "cell_type": "code",
   "execution_count": 82,
   "id": "f0aa9601",
   "metadata": {},
   "outputs": [
    {
     "data": {
      "text/plain": [
       "0  0.0   11   1    1\n",
       "         27   0    1\n",
       "              1    1\n",
       "              3    1\n",
       "         35   1    1\n",
       "                  ..\n",
       "1  both  250  0    0\n",
       "         252  0    1\n",
       "         253  0    1\n",
       "         261  0    0\n",
       "         266  0    0\n",
       "Length: 805, dtype: int64"
      ]
     },
     "execution_count": 82,
     "metadata": {},
     "output_type": "execute_result"
    }
   ],
   "source": [
    "best_n"
   ]
  },
  {
   "cell_type": "code",
   "execution_count": 83,
   "id": "52117fec",
   "metadata": {},
   "outputs": [
    {
     "data": {
      "text/html": [
       "<div>\n",
       "<style scoped>\n",
       "    .dataframe tbody tr th:only-of-type {\n",
       "        vertical-align: middle;\n",
       "    }\n",
       "\n",
       "    .dataframe tbody tr th {\n",
       "        vertical-align: top;\n",
       "    }\n",
       "\n",
       "    .dataframe thead th {\n",
       "        text-align: right;\n",
       "    }\n",
       "</style>\n",
       "<table border=\"1\" class=\"dataframe\">\n",
       "  <thead>\n",
       "    <tr style=\"text-align: right;\">\n",
       "      <th></th>\n",
       "      <th></th>\n",
       "      <th></th>\n",
       "      <th></th>\n",
       "      <th>1</th>\n",
       "      <th>2</th>\n",
       "      <th>3</th>\n",
       "      <th>4</th>\n",
       "    </tr>\n",
       "  </thead>\n",
       "  <tbody>\n",
       "    <tr>\n",
       "      <th rowspan=\"5\" valign=\"top\">0</th>\n",
       "      <th rowspan=\"5\" valign=\"top\">0.0</th>\n",
       "      <th>11</th>\n",
       "      <th>1</th>\n",
       "      <td>0.0</td>\n",
       "      <td>0.1</td>\n",
       "      <td>0.0</td>\n",
       "      <td>0.1</td>\n",
       "    </tr>\n",
       "    <tr>\n",
       "      <th rowspan=\"3\" valign=\"top\">27</th>\n",
       "      <th>0</th>\n",
       "      <td>0.0</td>\n",
       "      <td>1.0</td>\n",
       "      <td>0.7</td>\n",
       "      <td>0.9</td>\n",
       "    </tr>\n",
       "    <tr>\n",
       "      <th>1</th>\n",
       "      <td>0.0</td>\n",
       "      <td>0.4</td>\n",
       "      <td>0.7</td>\n",
       "      <td>1.0</td>\n",
       "    </tr>\n",
       "    <tr>\n",
       "      <th>3</th>\n",
       "      <td>0.0</td>\n",
       "      <td>0.2</td>\n",
       "      <td>0.4</td>\n",
       "      <td>0.8</td>\n",
       "    </tr>\n",
       "    <tr>\n",
       "      <th>35</th>\n",
       "      <th>1</th>\n",
       "      <td>0.0</td>\n",
       "      <td>0.0</td>\n",
       "      <td>0.0</td>\n",
       "      <td>0.0</td>\n",
       "    </tr>\n",
       "    <tr>\n",
       "      <th>...</th>\n",
       "      <th>...</th>\n",
       "      <th>...</th>\n",
       "      <th>...</th>\n",
       "      <td>...</td>\n",
       "      <td>...</td>\n",
       "      <td>...</td>\n",
       "      <td>...</td>\n",
       "    </tr>\n",
       "    <tr>\n",
       "      <th rowspan=\"5\" valign=\"top\">1</th>\n",
       "      <th rowspan=\"5\" valign=\"top\">both</th>\n",
       "      <th>250</th>\n",
       "      <th>0</th>\n",
       "      <td>0.3</td>\n",
       "      <td>1.0</td>\n",
       "      <td>1.0</td>\n",
       "      <td>1.0</td>\n",
       "    </tr>\n",
       "    <tr>\n",
       "      <th>252</th>\n",
       "      <th>0</th>\n",
       "      <td>0.0</td>\n",
       "      <td>0.0</td>\n",
       "      <td>0.0</td>\n",
       "      <td>0.0</td>\n",
       "    </tr>\n",
       "    <tr>\n",
       "      <th>253</th>\n",
       "      <th>0</th>\n",
       "      <td>0.0</td>\n",
       "      <td>0.0</td>\n",
       "      <td>0.0</td>\n",
       "      <td>0.0</td>\n",
       "    </tr>\n",
       "    <tr>\n",
       "      <th>261</th>\n",
       "      <th>0</th>\n",
       "      <td>0.3</td>\n",
       "      <td>0.3</td>\n",
       "      <td>0.6</td>\n",
       "      <td>1.0</td>\n",
       "    </tr>\n",
       "    <tr>\n",
       "      <th>266</th>\n",
       "      <th>0</th>\n",
       "      <td>0.1</td>\n",
       "      <td>0.2</td>\n",
       "      <td>0.1</td>\n",
       "      <td>0.3</td>\n",
       "    </tr>\n",
       "  </tbody>\n",
       "</table>\n",
       "<p>805 rows × 4 columns</p>\n",
       "</div>"
      ],
      "text/plain": [
       "                1    2    3    4\n",
       "0 0.0  11  1  0.0  0.1  0.0  0.1\n",
       "       27  0  0.0  1.0  0.7  0.9\n",
       "           1  0.0  0.4  0.7  1.0\n",
       "           3  0.0  0.2  0.4  0.8\n",
       "       35  1  0.0  0.0  0.0  0.0\n",
       "...           ...  ...  ...  ...\n",
       "1 both 250 0  0.3  1.0  1.0  1.0\n",
       "       252 0  0.0  0.0  0.0  0.0\n",
       "       253 0  0.0  0.0  0.0  0.0\n",
       "       261 0  0.3  0.3  0.6  1.0\n",
       "       266 0  0.1  0.2  0.1  0.3\n",
       "\n",
       "[805 rows x 4 columns]"
      ]
     },
     "execution_count": 83,
     "metadata": {},
     "output_type": "execute_result"
    }
   ],
   "source": [
    "res"
   ]
  },
  {
   "cell_type": "code",
   "execution_count": 33,
   "id": "01171b21",
   "metadata": {},
   "outputs": [
    {
     "data": {
      "text/plain": [
       "11   0    0.085\n",
       "35   0    0.235\n",
       "51   0    0.000\n",
       "54   0    0.170\n",
       "57   0    0.000\n",
       "62   0    0.100\n",
       "63   0    0.205\n",
       "67   0    0.005\n",
       "73   0    0.000\n",
       "78   0    0.330\n",
       "80   0    0.435\n",
       "83   0    0.000\n",
       "86   0    0.015\n",
       "93   0    0.420\n",
       "105  0    0.000\n",
       "107  0    0.000\n",
       "111  0    0.155\n",
       "112  0    0.295\n",
       "113  0    0.130\n",
       "114  0    0.145\n",
       "118  0    0.370\n",
       "119  0    0.190\n",
       "130  0    0.115\n",
       "143  0    0.050\n",
       "147  0    0.000\n",
       "151  0    0.015\n",
       "154  0    0.100\n",
       "155  0    0.005\n",
       "157  0    0.000\n",
       "158  0    0.885\n",
       "159  0    0.385\n",
       "162  0    0.025\n",
       "167  0    0.205\n",
       "168  0    0.055\n",
       "173  0    0.725\n",
       "180  0    0.005\n",
       "193  0    0.055\n",
       "201  0    0.150\n",
       "209  0    0.005\n",
       "212  0    0.560\n",
       "215  0    0.645\n",
       "253  0    0.265\n",
       "254  0    0.195\n",
       "255  1    0.000\n",
       "264  0    0.075\n",
       "265  0    0.190\n",
       "266  0    0.720\n",
       "268  0    0.865\n",
       "270  0    0.115\n",
       "dtype: float64"
      ]
     },
     "execution_count": 33,
     "metadata": {},
     "output_type": "execute_result"
    }
   ],
   "source": [
    "res.loc[0,'both']"
   ]
  },
  {
   "cell_type": "code",
   "execution_count": null,
   "id": "03982377",
   "metadata": {},
   "outputs": [],
   "source": []
  }
 ],
 "metadata": {
  "kernelspec": {
   "display_name": "jax",
   "language": "python",
   "name": "jax"
  },
  "language_info": {
   "codemirror_mode": {
    "name": "ipython",
    "version": 3
   },
   "file_extension": ".py",
   "mimetype": "text/x-python",
   "name": "python",
   "nbconvert_exporter": "python",
   "pygments_lexer": "ipython3",
   "version": "3.9.16"
  }
 },
 "nbformat": 4,
 "nbformat_minor": 5
}
