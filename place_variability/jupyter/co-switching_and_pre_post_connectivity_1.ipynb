{
 "cells": [
  {
   "cell_type": "code",
   "execution_count": 11,
   "id": "d0a35eaa",
   "metadata": {},
   "outputs": [
    {
     "name": "stdout",
     "output_type": "stream",
     "text": [
      "67 sessions!\n"
     ]
    }
   ],
   "source": [
    "import numpy as np\n",
    "import scipy\n",
    "from scipy.ndimage import gaussian_filter1d\n",
    "import sklearn\n",
    "from sklearn.decomposition import NMF\n",
    "from sklearn.cluster import KMeans\n",
    "from sklearn.mixture import GaussianMixture,BayesianGaussianMixture\n",
    "\n",
    "import pandas as pd\n",
    "\n",
    "import matplotlib.pyplot as plt\n",
    "import matplotlib as mpl\n",
    "mpl.rcParams['image.cmap'] = 'Greys'\n",
    "%matplotlib inline\n",
    "import seaborn as sns\n",
    "\n",
    "import sys,os,pdb,copy,pickle\n",
    "from importlib import reload\n",
    "import pynapple as nap\n",
    "\n",
    "sys.path.append('/mnt/home/szheng/projects/seq_detection2/code')\n",
    "sys.path.append('/mnt/home/szheng/projects/util_code')\n",
    "sys.path.append('/mnt/home/szheng/projects/nmf_analysis')\n",
    "sys.path.append('/mnt/home/szheng/projects/nmf_analysis/scripts')\n",
    "sys.path.append('/mnt/home/szheng/projects/cluster_spikes')\n",
    "import data_prep_new as dpn\n",
    "import place_cell_analysis as pa\n",
    "import plot_helper as ph\n",
    "import preprocess as prep\n",
    "import nmf_analysis as na\n",
    "import nmf_plot as nmfp\n",
    "reload(na)\n",
    "\n",
    "import raster_new as rn\n",
    "import data_prep_pyn as dpp\n",
    "import database\n",
    "db = database.db\n",
    "\n",
    "import change_point_analysis as cpa\n",
    "import change_point_plot as cpp\n",
    "\n",
    "import place_field_analysis as pf\n",
    "import pingouin as pg\n",
    "import trial_correlates as tc\n",
    "import tqdm\n",
    "import misc\n",
    "\n",
    "import switch_analysis_one_session as saos\n",
    "reload(saos)\n",
    "\n",
    "reload(misc)\n",
    "\n",
    "from collections import OrderedDict\n",
    "\n",
    "from scipy.spatial.distance import pdist, squareform, dice"
   ]
  },
  {
   "cell_type": "code",
   "execution_count": 2,
   "id": "4121e17a",
   "metadata": {},
   "outputs": [],
   "source": [
    "db_sorted = db.query('owner==\"roman\"').sort_values('n_pyr_putative',ascending=False)\n",
    "data_dir_full = db_sorted['data_dir_full'][0]"
   ]
  },
  {
   "cell_type": "code",
   "execution_count": 3,
   "id": "996ca136",
   "metadata": {},
   "outputs": [
    {
     "name": "stderr",
     "output_type": "stream",
     "text": [
      "  1%|▏         | 1/67 [00:00<00:09,  6.87it/s]"
     ]
    },
    {
     "name": "stdout",
     "output_type": "stream",
     "text": [
      "/mnt/home/szheng/ceph/ad/roman_data/e13/e13_26m1/e13_26m1_210913/py_data/place_field_avg_and_trial_vthresh.p exists; loading---\n"
     ]
    },
    {
     "name": "stderr",
     "output_type": "stream",
     "text": [
      "  4%|▍         | 3/67 [00:00<00:12,  5.00it/s]"
     ]
    },
    {
     "name": "stdout",
     "output_type": "stream",
     "text": [
      "/mnt/home/szheng/ceph/ad/roman_data/e15/e15_13f1/e15_13f1_220117/py_data/place_field_avg_and_trial_vthresh.p exists; loading---\n",
      "/mnt/home/szheng/ceph/ad/roman_data/e15/e15_13f1/e15_13f1_220118/py_data/place_field_avg_and_trial_vthresh.p exists; loading---\n"
     ]
    },
    {
     "name": "stderr",
     "output_type": "stream",
     "text": [
      "  7%|▋         | 5/67 [00:01<00:12,  4.92it/s]"
     ]
    },
    {
     "name": "stdout",
     "output_type": "stream",
     "text": [
      "/mnt/home/szheng/ceph/ad/roman_data/e15/e15_13f1/e15_13f1_220119/py_data/place_field_avg_and_trial_vthresh.p exists; loading---\n",
      "/mnt/home/szheng/ceph/ad/roman_data/e15/e15_13f1/e15_13f1_220120/py_data/place_field_avg_and_trial_vthresh.p exists; loading---\n"
     ]
    },
    {
     "name": "stderr",
     "output_type": "stream",
     "text": [
      " 13%|█▎        | 9/67 [00:01<00:06,  9.24it/s]"
     ]
    },
    {
     "name": "stdout",
     "output_type": "stream",
     "text": [
      "/mnt/home/szheng/ceph/ad/roman_data/e13/e13_26m1/e13_26m1_211019/py_data/place_field_avg_and_trial_vthresh.p exists; loading---\n",
      "/mnt/home/szheng/ceph/ad/roman_data/e13/e13_16f1/e13_16f1_210328/py_data/place_field_avg_and_trial_vthresh.p exists; loading---\n",
      "/mnt/home/szheng/ceph/ad/roman_data/e13/e13_26m1/e13_26m1_211116/py_data/place_field_avg_and_trial_vthresh.p exists; loading---\n",
      "/mnt/home/szheng/ceph/ad/roman_data/e16/e16_3m2/e16_3m2_211213/py_data/place_field_avg_and_trial_vthresh.p exists; loading---\n"
     ]
    },
    {
     "name": "stderr",
     "output_type": "stream",
     "text": [
      "\r",
      " 16%|█▋        | 11/67 [00:01<00:05, 10.71it/s]"
     ]
    },
    {
     "name": "stdout",
     "output_type": "stream",
     "text": [
      "/mnt/home/szheng/ceph/ad/roman_data/e16/e16_3m1/e16_3m1_210111/py_data/place_field_avg_and_trial_vthresh.p exists; loading---\n",
      "/mnt/home/szheng/ceph/ad/roman_data/e16/e16_3m2/e16_3m2_211212/py_data/place_field_avg_and_trial_vthresh.p exists; loading---\n",
      "/mnt/home/szheng/ceph/ad/roman_data/e16/e16_3m2/e16_3m2_211211/py_data/place_field_avg_and_trial_vthresh.p exists; loading---\n"
     ]
    },
    {
     "name": "stderr",
     "output_type": "stream",
     "text": [
      " 24%|██▍       | 16/67 [00:01<00:03, 14.29it/s]"
     ]
    },
    {
     "name": "stdout",
     "output_type": "stream",
     "text": [
      "/mnt/home/szheng/ceph/ad/roman_data/e16/e16_3m1/e16_3m1_210203/py_data/place_field_avg_and_trial_vthresh.p exists; loading---\n",
      "/mnt/home/szheng/ceph/ad/roman_data/e16/e16_3m2/e16_3m2_211210/py_data/place_field_avg_and_trial_vthresh.p exists; loading---\n",
      "/mnt/home/szheng/ceph/ad/roman_data/e13/e13_26m1/e13_26m1_211119/py_data/place_field_avg_and_trial_vthresh.p exists; loading---\n",
      "/mnt/home/szheng/ceph/ad/roman_data/e13/e13_26m1/e13_26m1_211124/py_data/place_field_avg_and_trial_vthresh.p exists; loading---\n"
     ]
    },
    {
     "name": "stderr",
     "output_type": "stream",
     "text": [
      " 34%|███▍      | 23/67 [00:02<00:02, 15.02it/s]"
     ]
    },
    {
     "name": "stdout",
     "output_type": "stream",
     "text": [
      "/mnt/home/szheng/ceph/ad/roman_data/e16/e16_3m1/e16_3m1_210201/py_data/place_field_avg_and_trial_vthresh.p exists; loading---\n",
      "/mnt/home/szheng/ceph/ad/roman_data/e13/e13_16f1/e13_16f1_210331/py_data/place_field_avg_and_trial_vthresh.p exists; loading---\n",
      "/mnt/home/szheng/ceph/ad/roman_data/e16/e16_3m1/e16_3m1_210119/py_data/place_field_avg_and_trial_vthresh.p exists; loading---\n",
      "/mnt/home/szheng/ceph/ad/roman_data/e13/e13_16f1/e13_16f1_210302/py_data/place_field_avg_and_trial_vthresh.p exists; loading---\n",
      "/mnt/home/szheng/ceph/ad/roman_data/e13/e13_16f1/e13_16f1_210317/py_data/place_field_avg_and_trial_vthresh.p exists; loading---\n"
     ]
    },
    {
     "name": "stderr",
     "output_type": "stream",
     "text": [
      " 42%|████▏     | 28/67 [00:02<00:02, 18.62it/s]"
     ]
    },
    {
     "name": "stdout",
     "output_type": "stream",
     "text": [
      "/mnt/home/szheng/ceph/ad/roman_data/e13/e13_16f1/e13_16f1_210312/py_data/place_field_avg_and_trial_vthresh.p exists; loading---\n",
      "/mnt/home/szheng/ceph/ad/roman_data/e15/e15_9f1/e15_9f1_200809/py_data/place_field_avg_and_trial_vthresh.p exists; loading---\n",
      "/mnt/home/szheng/ceph/ad/roman_data/e15/e15_10m1/e15_10m1_200809/py_data/place_field_avg_and_trial_vthresh.p exists; loading---\n",
      "/mnt/home/szheng/ceph/ad/roman_data/e15/e15_10m1/e15_10m1_200812/py_data/place_field_avg_and_trial_vthresh.p exists; loading---\n",
      "/mnt/home/szheng/ceph/ad/roman_data/e13/e13_16f1/e13_16f1_210314/py_data/place_field_avg_and_trial_vthresh.p exists; loading---\n"
     ]
    },
    {
     "name": "stderr",
     "output_type": "stream",
     "text": [
      "\r",
      " 46%|████▋     | 31/67 [00:02<00:01, 20.06it/s]"
     ]
    },
    {
     "name": "stdout",
     "output_type": "stream",
     "text": [
      "/mnt/home/szheng/ceph/ad/roman_data/e15/e15_9f1/e15_9f1_200729/py_data/place_field_avg_and_trial_vthresh.p exists; loading---\n",
      "/mnt/home/szheng/ceph/ad/roman_data/e13/e13_16f1/e13_16f1_210319/py_data/place_field_avg_and_trial_vthresh.p exists; loading---\n",
      "/mnt/home/szheng/ceph/ad/roman_data/e13/e13_16f1/e13_16f1_210315/py_data/place_field_avg_and_trial_vthresh.p exists; loading---\n",
      "/mnt/home/szheng/ceph/ad/roman_data/e13/e13_16f1/e13_16f1_210322/py_data/place_field_avg_and_trial_vthresh.p exists; loading---\n"
     ]
    },
    {
     "name": "stderr",
     "output_type": "stream",
     "text": [
      " 58%|█████▊    | 39/67 [00:02<00:01, 23.18it/s]"
     ]
    },
    {
     "name": "stdout",
     "output_type": "stream",
     "text": [
      "/mnt/home/szheng/ceph/ad/roman_data/e16/e16_1f1/e16_1f1_201002/py_data/place_field_avg_and_trial_vthresh.p exists; loading---\n",
      "/mnt/home/szheng/ceph/ad/roman_data/e15/e15_10m1/e15_10m1_200723/py_data/place_field_avg_and_trial_vthresh.p exists; loading---\n",
      "/mnt/home/szheng/ceph/ad/roman_data/e16/e16_1f1/e16_1f1_201004/py_data/place_field_avg_and_trial_vthresh.p exists; loading---\n",
      "/mnt/home/szheng/ceph/ad/roman_data/e15/e15_10m1/e15_10m1_200716/py_data/place_field_avg_and_trial_vthresh.p exists; loading---\n",
      "/mnt/home/szheng/ceph/ad/roman_data/e16/e16_1f1/e16_1f1_200920/py_data/place_field_avg_and_trial_vthresh.p exists; loading---\n",
      "/mnt/home/szheng/ceph/ad/roman_data/e15/e15_9f1/e15_9f1_200723/py_data/place_field_avg_and_trial_vthresh.p exists; loading---\n"
     ]
    },
    {
     "name": "stderr",
     "output_type": "stream",
     "text": [
      " 67%|██████▋   | 45/67 [00:03<00:01, 17.35it/s]"
     ]
    },
    {
     "name": "stdout",
     "output_type": "stream",
     "text": [
      "/mnt/home/szheng/ceph/ad/roman_data/e14/e14_2m3/e14_2m3_201129/py_data/place_field_avg_and_trial_vthresh.p exists; loading---\n",
      "/mnt/home/szheng/ceph/ad/roman_data/e14/e14_2m3/e14_2m3_201125/py_data/place_field_avg_and_trial_vthresh.p exists; loading---\n",
      "/mnt/home/szheng/ceph/ad/roman_data/e16/e16_2m1/e16_2m1_201129/py_data/place_field_avg_and_trial_vthresh.p exists; loading---\n",
      "/mnt/home/szheng/ceph/ad/roman_data/e16/e16_2m1/e16_2m1_201206/py_data/place_field_avg_and_trial_vthresh.p exists; loading---\n",
      "/mnt/home/szheng/ceph/ad/roman_data/e16/e16_1f1/e16_1f1_200917/py_data/place_field_avg_and_trial_vthresh.p exists; loading---\n",
      "/mnt/home/szheng/ceph/ad/roman_data/e16/e16_1f1/e16_1f1_200918/py_data/place_field_avg_and_trial_vthresh.p exists; loading---\n"
     ]
    },
    {
     "name": "stderr",
     "output_type": "stream",
     "text": [
      " 78%|███████▊  | 52/67 [00:03<00:00, 23.54it/s]"
     ]
    },
    {
     "name": "stdout",
     "output_type": "stream",
     "text": [
      "/mnt/home/szheng/ceph/ad/roman_data/e16/e16_1f1/e16_1f1_200919/py_data/place_field_avg_and_trial_vthresh.p exists; loading---\n",
      "/mnt/home/szheng/ceph/ad/roman_data/e15/e15_10m1/e15_10m1_200719/py_data/place_field_avg_and_trial_vthresh.p exists; loading---\n",
      "/mnt/home/szheng/ceph/ad/roman_data/e14/e14_2m3/e14_2m3_201208/py_data/place_field_avg_and_trial_vthresh.p exists; loading---\n",
      "/mnt/home/szheng/ceph/ad/roman_data/e14/e14_2m3/e14_2m3_201206/py_data/place_field_avg_and_trial_vthresh.p exists; loading---\n",
      "/mnt/home/szheng/ceph/ad/roman_data/e16/e16_1f1/e16_1f1_200923/py_data/place_field_avg_and_trial_vthresh.p exists; loading---\n",
      "/mnt/home/szheng/ceph/ad/roman_data/e15/e15_9f1/e15_9f1_200720/py_data/place_field_avg_and_trial_vthresh.p exists; loading---\n"
     ]
    },
    {
     "name": "stderr",
     "output_type": "stream",
     "text": [
      "\r",
      " 84%|████████▎ | 56/67 [00:03<00:00, 26.54it/s]"
     ]
    },
    {
     "name": "stdout",
     "output_type": "stream",
     "text": [
      "/mnt/home/szheng/ceph/ad/roman_data/e16/e16_2m1/e16_2m1_201121/py_data/place_field_avg_and_trial_vthresh.p exists; loading---\n",
      "/mnt/home/szheng/ceph/ad/roman_data/e16/e16_1f1/e16_1f1_201001/py_data/place_field_avg_and_trial_vthresh.p exists; loading---\n",
      "/mnt/home/szheng/ceph/ad/roman_data/e15/e15_9f1/e15_9f1_200717/py_data/place_field_avg_and_trial_vthresh.p exists; loading---\n"
     ]
    },
    {
     "name": "stderr",
     "output_type": "stream",
     "text": [
      " 94%|█████████▍| 63/67 [00:04<00:00, 15.56it/s]"
     ]
    },
    {
     "name": "stdout",
     "output_type": "stream",
     "text": [
      "/mnt/home/szheng/ceph/ad/roman_data/e15/e15_9f1/e15_9f1_200715/py_data/place_field_avg_and_trial_vthresh.p exists; loading---\n",
      "/mnt/home/szheng/ceph/ad/roman_data/e14/e14_2m3/e14_2m3_201121/py_data/place_field_avg_and_trial_vthresh.p exists; loading---\n"
     ]
    },
    {
     "name": "stderr",
     "output_type": "stream",
     "text": [
      "100%|██████████| 67/67 [00:04<00:00, 14.78it/s]"
     ]
    },
    {
     "name": "stdout",
     "output_type": "stream",
     "text": [
      "/mnt/home/szheng/ceph/ad/roman_data/e16/e16_1f1/e16_1f1_200823/py_data/place_field_avg_and_trial_vthresh.p exists; loading---\n",
      "/mnt/home/szheng/ceph/ad/roman_data/e16/e16_1f1/e16_1f1_200824/py_data/place_field_avg_and_trial_vthresh.p exists; loading---\n",
      "CPU times: user 694 ms, sys: 121 ms, total: 816 ms\n",
      "Wall time: 4.55 s\n"
     ]
    },
    {
     "name": "stderr",
     "output_type": "stream",
     "text": [
      "\n"
     ]
    }
   ],
   "source": [
    "%%time\n",
    "reload(pf)\n",
    "place_field_res_l = OrderedDict()\n",
    "for ii in tqdm.tqdm(range(len(db_sorted['data_dir_full']))):\n",
    "    ddf = db_sorted['data_dir_full'][ii]\n",
    "    pf_res =pf.field_detection_both_avg_trial_wrapper(ddf, dosave=True,force_reload=False,nbins = 100, \n",
    "                                        save_fn = 'place_field_avg_and_trial_vthresh.p', \n",
    "                                        shuffle_fn='fr_map_null_trialtype_vthresh.p',\n",
    "                                        smth_in_bin=2.5, speed_thresh=1.,speed_key='v',load_only=True\n",
    "                                        )\n",
    "    ani = db_sorted.iloc[ii]['animal_name.1']\n",
    "    sess = db_sorted.iloc[ii]['sess_name']\n",
    "    place_field_res_l[ani,sess] = pf_res\n",
    "    "
   ]
  },
  {
   "cell_type": "code",
   "execution_count": 4,
   "id": "716fdf08",
   "metadata": {},
   "outputs": [
    {
     "name": "stderr",
     "output_type": "stream",
     "text": [
      "/tmp/ipykernel_46800/3306167154.py:12: FutureWarning: The behavior of indexing on a MultiIndex with a nested sequence of labels is deprecated and will change in a future version. `series.loc[label, sequence]` will raise if any members of 'sequence' or not present in the index's second level. To retain the old behavior, use `series.index.isin(sequence, level=1)`\n",
      "  switch_detection_res_allsess[detection][key] = switch_detection_res_allsess[detection][key].loc[(slice(None),sess_selected.values),:]\n",
      "/tmp/ipykernel_46800/3306167154.py:12: FutureWarning: The behavior of indexing on a MultiIndex with a nested sequence of labels is deprecated and will change in a future version. `series.loc[label, sequence]` will raise if any members of 'sequence' or not present in the index's second level. To retain the old behavior, use `series.index.isin(sequence, level=1)`\n",
      "  switch_detection_res_allsess[detection][key] = switch_detection_res_allsess[detection][key].loc[(slice(None),sess_selected.values),:]\n",
      "/tmp/ipykernel_46800/3306167154.py:12: FutureWarning: The behavior of indexing on a MultiIndex with a nested sequence of labels is deprecated and will change in a future version. `series.loc[label, sequence]` will raise if any members of 'sequence' or not present in the index's second level. To retain the old behavior, use `series.index.isin(sequence, level=1)`\n",
      "  switch_detection_res_allsess[detection][key] = switch_detection_res_allsess[detection][key].loc[(slice(None),sess_selected.values),:]\n"
     ]
    }
   ],
   "source": [
    "# load switch detection result\n",
    "res_to_save_data_detection_l = pickle.load(open(os.path.join('/mnt/home/szheng/ceph/place_variability/data','switch_res_allromsess_highrepeats_swmag0dot4.p'),'rb'))\n",
    "\n",
    "sess_selected = db_sorted.loc[db_sorted['n_pyr_putative'] >= 50,'sess_name']\n",
    "\n",
    "switch_detection_res_allsess = {}\n",
    "# for detection in ['avg','trial_filter']:\n",
    "for detection in ['avg']:\n",
    "    switch_detection_res_allsess[detection]={}\n",
    "    for key in ['sig','cdf','changes_df']:\n",
    "        switch_detection_res_allsess[detection][key] = pd.concat({k:val[detection][key] if val is not None else None for k,val in res_to_save_data_detection_l.items()},axis=0)\n",
    "        switch_detection_res_allsess[detection][key] = switch_detection_res_allsess[detection][key].loc[(slice(None),sess_selected.values),:]\n",
    "        \n",
    "    switch_detection_res_allsess[detection]['sig_pos'] = switch_detection_res_allsess[detection]['sig'] * (switch_detection_res_allsess[detection]['cdf'] > 0.95)\n",
    "    \n",
    "    \n"
   ]
  },
  {
   "cell_type": "code",
   "execution_count": 5,
   "id": "7e482568",
   "metadata": {},
   "outputs": [
    {
     "name": "stdout",
     "output_type": "stream",
     "text": [
      "load *SessionPulses.Events.mat failed\n"
     ]
    }
   ],
   "source": [
    "# load data\n",
    "mat_to_return=prep.load_stuff(data_dir_full,sessionPulses = '*SessionPulses.Events.mat',filtered='*thetaFiltered*.mat')\n",
    "# sessionPulses=mat_to_return['sessionPulses']\n",
    "filtered = mat_to_return['filtered']\n",
    "behavior=mat_to_return['behavior']\n",
    "ripples = mat_to_return['ripples']\n",
    "\n",
    "\n",
    "prep_res = dpp.load_spk_beh_df(data_dir_full,force_reload=False,extra_load={})\n",
    "spk_beh_df=prep_res['spk_beh_df']\n",
    "cell_cols_d = prep_res['cell_cols_d']\n",
    "beh_df = prep_res['beh_df'].as_dataframe()\n",
    "beh_df_d,beh_df=dpp.group_into_trialtype(beh_df)\n",
    "spike_trains = prep_res['spike_trains']"
   ]
  },
  {
   "cell_type": "code",
   "execution_count": 6,
   "id": "6f36ed26",
   "metadata": {},
   "outputs": [],
   "source": [
    "ripples = mat_to_return['ripples']\n",
    "ripple_events = ripples\n",
    "\n",
    "cell_metrics=mat_to_return.cell_metrics\n",
    "mergepoints = mat_to_return.mergepoints\n",
    "\n",
    "cell_type_mask=mat_to_return['cell_type_mask']"
   ]
  },
  {
   "cell_type": "markdown",
   "id": "3b235b8d",
   "metadata": {},
   "source": [
    "# ripple cofiring"
   ]
  },
  {
   "cell_type": "code",
   "execution_count": 7,
   "id": "962b3c6a",
   "metadata": {},
   "outputs": [
    {
     "name": "stdout",
     "output_type": "stream",
     "text": [
      "CPU times: user 1min 10s, sys: 3.08 s, total: 1min 13s\n",
      "Wall time: 1min 13s\n"
     ]
    }
   ],
   "source": [
    "%%time\n",
    "spike_times = cell_metrics.spikes.times\n",
    "ripple_events_timestamps = ripple_events.timestamps\n",
    "\n",
    "\n",
    "participation_mask_l_d_epochs=[]\n",
    "ripple_time_ints_l_d_epochs=[]\n",
    "for selected_interval in mergepoints.timestamps:\n",
    "# selected_interval = mergepoints.timestamps[0]\n",
    "    spike_times_in_ripple_l_d,mask_l_d, ripple_time_ints_l_d = {},{},{}\n",
    "    for k,win in zip(['ripple_only','extended'],[None,[-0.2,0.1]]):\n",
    "        spike_times_in_ripple_l_d[k], mask_l_d[k], ripple_time_ints_l_d[k] = prep.get_spike_times_in_ripple_l(spike_times,ripple_events_timestamps,selected_interval,ripple_window_extension=win,cell_type_mask=cell_type_mask)\n",
    "        mask_l_d[k] = np.array(mask_l_d[k])\n",
    "\n",
    "\n",
    "    rank_l_d,participation_mask_l_d = {},{}\n",
    "    for k,stirl in spike_times_in_ripple_l_d.items():\n",
    "        rank_l_d[k],participation_mask_l_d[k] = prep.get_first_spike_rank_all_ripples(stirl)\n",
    "    participation_mask_l_d_epochs.append(participation_mask_l_d)\n",
    "    ripple_time_ints_l_d_epochs.append(ripple_time_ints_l_d)"
   ]
  },
  {
   "cell_type": "code",
   "execution_count": 12,
   "id": "7b005b34",
   "metadata": {},
   "outputs": [
    {
     "name": "stderr",
     "output_type": "stream",
     "text": [
      "/mnt/home/szheng/ceph/envs/jax/lib/python3.9/site-packages/scipy/spatial/distance.py:1424: RuntimeWarning: invalid value encountered in true_divide\n",
      "  return float((ntf + nft) / np.array(2.0 * ntt + ntf + nft))\n",
      "/mnt/home/szheng/ceph/envs/jax/lib/python3.9/site-packages/scipy/spatial/distance.py:1424: RuntimeWarning: invalid value encountered in true_divide\n",
      "  return float((ntf + nft) / np.array(2.0 * ntt + ntf + nft))\n"
     ]
    }
   ],
   "source": [
    "sim_df_l = []\n",
    "for participation_mask_l_d in participation_mask_l_d_epochs:\n",
    "    dist = pdist(participation_mask_l_d['ripple_only'].T,metric=dice)\n",
    "    sim = 1 - squareform(dist)\n",
    "    sim_df = pd.DataFrame(sim,index=cell_cols_d['pyr'].astype(int),columns=cell_cols_d['pyr'].astype(int))\n",
    "    sim_df_l.append(sim_df)"
   ]
  },
  {
   "cell_type": "code",
   "execution_count": 44,
   "id": "0c268cf8",
   "metadata": {},
   "outputs": [
    {
     "data": {
      "text/html": [
       "<div>\n",
       "<style scoped>\n",
       "    .dataframe tbody tr th:only-of-type {\n",
       "        vertical-align: middle;\n",
       "    }\n",
       "\n",
       "    .dataframe tbody tr th {\n",
       "        vertical-align: top;\n",
       "    }\n",
       "\n",
       "    .dataframe thead th {\n",
       "        text-align: right;\n",
       "    }\n",
       "</style>\n",
       "<table border=\"1\" class=\"dataframe\">\n",
       "  <thead>\n",
       "    <tr style=\"text-align: right;\">\n",
       "      <th></th>\n",
       "      <th>1</th>\n",
       "      <th>2</th>\n",
       "      <th>3</th>\n",
       "      <th>27</th>\n",
       "      <th>29</th>\n",
       "      <th>30</th>\n",
       "      <th>31</th>\n",
       "      <th>32</th>\n",
       "      <th>33</th>\n",
       "      <th>34</th>\n",
       "      <th>...</th>\n",
       "      <th>471</th>\n",
       "      <th>472</th>\n",
       "      <th>473</th>\n",
       "      <th>474</th>\n",
       "      <th>475</th>\n",
       "      <th>476</th>\n",
       "      <th>477</th>\n",
       "      <th>478</th>\n",
       "      <th>479</th>\n",
       "      <th>480</th>\n",
       "    </tr>\n",
       "  </thead>\n",
       "  <tbody>\n",
       "    <tr>\n",
       "      <th>1</th>\n",
       "      <td>1.000000</td>\n",
       "      <td>0.050633</td>\n",
       "      <td>0.000000</td>\n",
       "      <td>0.060837</td>\n",
       "      <td>0.042076</td>\n",
       "      <td>0.027211</td>\n",
       "      <td>0.040146</td>\n",
       "      <td>0.054217</td>\n",
       "      <td>0.040541</td>\n",
       "      <td>0.045161</td>\n",
       "      <td>...</td>\n",
       "      <td>0.000000</td>\n",
       "      <td>0.000000</td>\n",
       "      <td>0.101266</td>\n",
       "      <td>0.044118</td>\n",
       "      <td>0.054054</td>\n",
       "      <td>0.149533</td>\n",
       "      <td>0.000000</td>\n",
       "      <td>0.048387</td>\n",
       "      <td>0.046243</td>\n",
       "      <td>0.050505</td>\n",
       "    </tr>\n",
       "    <tr>\n",
       "      <th>2</th>\n",
       "      <td>0.050633</td>\n",
       "      <td>1.000000</td>\n",
       "      <td>0.046512</td>\n",
       "      <td>0.036217</td>\n",
       "      <td>0.020468</td>\n",
       "      <td>0.024272</td>\n",
       "      <td>0.030829</td>\n",
       "      <td>0.033003</td>\n",
       "      <td>0.014210</td>\n",
       "      <td>0.042705</td>\n",
       "      <td>...</td>\n",
       "      <td>0.031250</td>\n",
       "      <td>0.000000</td>\n",
       "      <td>0.080000</td>\n",
       "      <td>0.018692</td>\n",
       "      <td>0.088889</td>\n",
       "      <td>0.076923</td>\n",
       "      <td>0.000000</td>\n",
       "      <td>0.084211</td>\n",
       "      <td>0.013889</td>\n",
       "      <td>0.010899</td>\n",
       "    </tr>\n",
       "    <tr>\n",
       "      <th>3</th>\n",
       "      <td>0.000000</td>\n",
       "      <td>0.046512</td>\n",
       "      <td>1.000000</td>\n",
       "      <td>0.032653</td>\n",
       "      <td>0.017725</td>\n",
       "      <td>0.004938</td>\n",
       "      <td>0.023438</td>\n",
       "      <td>0.013514</td>\n",
       "      <td>0.021583</td>\n",
       "      <td>0.029197</td>\n",
       "      <td>...</td>\n",
       "      <td>0.000000</td>\n",
       "      <td>0.043478</td>\n",
       "      <td>0.093023</td>\n",
       "      <td>0.000000</td>\n",
       "      <td>0.052632</td>\n",
       "      <td>0.056338</td>\n",
       "      <td>0.000000</td>\n",
       "      <td>0.022727</td>\n",
       "      <td>0.029197</td>\n",
       "      <td>0.016667</td>\n",
       "    </tr>\n",
       "    <tr>\n",
       "      <th>27</th>\n",
       "      <td>0.060837</td>\n",
       "      <td>0.036217</td>\n",
       "      <td>0.032653</td>\n",
       "      <td>1.000000</td>\n",
       "      <td>0.311229</td>\n",
       "      <td>0.244470</td>\n",
       "      <td>0.262940</td>\n",
       "      <td>0.208000</td>\n",
       "      <td>0.295050</td>\n",
       "      <td>0.203297</td>\n",
       "      <td>...</td>\n",
       "      <td>0.039139</td>\n",
       "      <td>0.032000</td>\n",
       "      <td>0.036217</td>\n",
       "      <td>0.061372</td>\n",
       "      <td>0.028455</td>\n",
       "      <td>0.057143</td>\n",
       "      <td>0.016632</td>\n",
       "      <td>0.059041</td>\n",
       "      <td>0.118443</td>\n",
       "      <td>0.235872</td>\n",
       "    </tr>\n",
       "    <tr>\n",
       "      <th>29</th>\n",
       "      <td>0.042076</td>\n",
       "      <td>0.020468</td>\n",
       "      <td>0.017725</td>\n",
       "      <td>0.311229</td>\n",
       "      <td>1.000000</td>\n",
       "      <td>0.340344</td>\n",
       "      <td>0.444059</td>\n",
       "      <td>0.226254</td>\n",
       "      <td>0.335840</td>\n",
       "      <td>0.242623</td>\n",
       "      <td>...</td>\n",
       "      <td>0.020057</td>\n",
       "      <td>0.017467</td>\n",
       "      <td>0.011696</td>\n",
       "      <td>0.099865</td>\n",
       "      <td>0.017673</td>\n",
       "      <td>0.056180</td>\n",
       "      <td>0.005988</td>\n",
       "      <td>0.043896</td>\n",
       "      <td>0.120823</td>\n",
       "      <td>0.369630</td>\n",
       "    </tr>\n",
       "    <tr>\n",
       "      <th>...</th>\n",
       "      <td>...</td>\n",
       "      <td>...</td>\n",
       "      <td>...</td>\n",
       "      <td>...</td>\n",
       "      <td>...</td>\n",
       "      <td>...</td>\n",
       "      <td>...</td>\n",
       "      <td>...</td>\n",
       "      <td>...</td>\n",
       "      <td>...</td>\n",
       "      <td>...</td>\n",
       "      <td>...</td>\n",
       "      <td>...</td>\n",
       "      <td>...</td>\n",
       "      <td>...</td>\n",
       "      <td>...</td>\n",
       "      <td>...</td>\n",
       "      <td>...</td>\n",
       "      <td>...</td>\n",
       "      <td>...</td>\n",
       "      <td>...</td>\n",
       "    </tr>\n",
       "    <tr>\n",
       "      <th>476</th>\n",
       "      <td>0.149533</td>\n",
       "      <td>0.076923</td>\n",
       "      <td>0.056338</td>\n",
       "      <td>0.057143</td>\n",
       "      <td>0.056180</td>\n",
       "      <td>0.059091</td>\n",
       "      <td>0.040219</td>\n",
       "      <td>0.036254</td>\n",
       "      <td>0.037225</td>\n",
       "      <td>0.090615</td>\n",
       "      <td>...</td>\n",
       "      <td>0.043478</td>\n",
       "      <td>0.024691</td>\n",
       "      <td>0.051282</td>\n",
       "      <td>0.014815</td>\n",
       "      <td>0.136986</td>\n",
       "      <td>1.000000</td>\n",
       "      <td>0.000000</td>\n",
       "      <td>0.032520</td>\n",
       "      <td>0.000000</td>\n",
       "      <td>0.040506</td>\n",
       "    </tr>\n",
       "    <tr>\n",
       "      <th>477</th>\n",
       "      <td>0.000000</td>\n",
       "      <td>0.000000</td>\n",
       "      <td>0.000000</td>\n",
       "      <td>0.016632</td>\n",
       "      <td>0.005988</td>\n",
       "      <td>0.005051</td>\n",
       "      <td>0.007952</td>\n",
       "      <td>0.000000</td>\n",
       "      <td>0.010969</td>\n",
       "      <td>0.022642</td>\n",
       "      <td>...</td>\n",
       "      <td>0.125000</td>\n",
       "      <td>0.054054</td>\n",
       "      <td>0.000000</td>\n",
       "      <td>0.000000</td>\n",
       "      <td>0.000000</td>\n",
       "      <td>0.000000</td>\n",
       "      <td>1.000000</td>\n",
       "      <td>0.025316</td>\n",
       "      <td>0.000000</td>\n",
       "      <td>0.011396</td>\n",
       "    </tr>\n",
       "    <tr>\n",
       "      <th>478</th>\n",
       "      <td>0.048387</td>\n",
       "      <td>0.084211</td>\n",
       "      <td>0.022727</td>\n",
       "      <td>0.059041</td>\n",
       "      <td>0.043896</td>\n",
       "      <td>0.043764</td>\n",
       "      <td>0.049645</td>\n",
       "      <td>0.040230</td>\n",
       "      <td>0.036184</td>\n",
       "      <td>0.092025</td>\n",
       "      <td>...</td>\n",
       "      <td>0.073394</td>\n",
       "      <td>0.040816</td>\n",
       "      <td>0.105263</td>\n",
       "      <td>0.065789</td>\n",
       "      <td>0.066667</td>\n",
       "      <td>0.032520</td>\n",
       "      <td>0.025316</td>\n",
       "      <td>1.000000</td>\n",
       "      <td>0.010582</td>\n",
       "      <td>0.067961</td>\n",
       "    </tr>\n",
       "    <tr>\n",
       "      <th>479</th>\n",
       "      <td>0.046243</td>\n",
       "      <td>0.013889</td>\n",
       "      <td>0.029197</td>\n",
       "      <td>0.118443</td>\n",
       "      <td>0.120823</td>\n",
       "      <td>0.150198</td>\n",
       "      <td>0.091354</td>\n",
       "      <td>0.125945</td>\n",
       "      <td>0.085236</td>\n",
       "      <td>0.064000</td>\n",
       "      <td>...</td>\n",
       "      <td>0.012658</td>\n",
       "      <td>0.000000</td>\n",
       "      <td>0.000000</td>\n",
       "      <td>0.049751</td>\n",
       "      <td>0.000000</td>\n",
       "      <td>0.000000</td>\n",
       "      <td>0.000000</td>\n",
       "      <td>0.010582</td>\n",
       "      <td>1.000000</td>\n",
       "      <td>0.104121</td>\n",
       "    </tr>\n",
       "    <tr>\n",
       "      <th>480</th>\n",
       "      <td>0.050505</td>\n",
       "      <td>0.010899</td>\n",
       "      <td>0.016667</td>\n",
       "      <td>0.235872</td>\n",
       "      <td>0.369630</td>\n",
       "      <td>0.285322</td>\n",
       "      <td>0.399522</td>\n",
       "      <td>0.138710</td>\n",
       "      <td>0.229545</td>\n",
       "      <td>0.183946</td>\n",
       "      <td>...</td>\n",
       "      <td>0.062992</td>\n",
       "      <td>0.016216</td>\n",
       "      <td>0.005450</td>\n",
       "      <td>0.141509</td>\n",
       "      <td>0.011050</td>\n",
       "      <td>0.040506</td>\n",
       "      <td>0.011396</td>\n",
       "      <td>0.067961</td>\n",
       "      <td>0.104121</td>\n",
       "      <td>1.000000</td>\n",
       "    </tr>\n",
       "  </tbody>\n",
       "</table>\n",
       "<p>422 rows × 422 columns</p>\n",
       "</div>"
      ],
      "text/plain": [
       "          1         2         3         27        29        30        31   \\\n",
       "1    1.000000  0.050633  0.000000  0.060837  0.042076  0.027211  0.040146   \n",
       "2    0.050633  1.000000  0.046512  0.036217  0.020468  0.024272  0.030829   \n",
       "3    0.000000  0.046512  1.000000  0.032653  0.017725  0.004938  0.023438   \n",
       "27   0.060837  0.036217  0.032653  1.000000  0.311229  0.244470  0.262940   \n",
       "29   0.042076  0.020468  0.017725  0.311229  1.000000  0.340344  0.444059   \n",
       "..        ...       ...       ...       ...       ...       ...       ...   \n",
       "476  0.149533  0.076923  0.056338  0.057143  0.056180  0.059091  0.040219   \n",
       "477  0.000000  0.000000  0.000000  0.016632  0.005988  0.005051  0.007952   \n",
       "478  0.048387  0.084211  0.022727  0.059041  0.043896  0.043764  0.049645   \n",
       "479  0.046243  0.013889  0.029197  0.118443  0.120823  0.150198  0.091354   \n",
       "480  0.050505  0.010899  0.016667  0.235872  0.369630  0.285322  0.399522   \n",
       "\n",
       "          32        33        34   ...       471       472       473  \\\n",
       "1    0.054217  0.040541  0.045161  ...  0.000000  0.000000  0.101266   \n",
       "2    0.033003  0.014210  0.042705  ...  0.031250  0.000000  0.080000   \n",
       "3    0.013514  0.021583  0.029197  ...  0.000000  0.043478  0.093023   \n",
       "27   0.208000  0.295050  0.203297  ...  0.039139  0.032000  0.036217   \n",
       "29   0.226254  0.335840  0.242623  ...  0.020057  0.017467  0.011696   \n",
       "..        ...       ...       ...  ...       ...       ...       ...   \n",
       "476  0.036254  0.037225  0.090615  ...  0.043478  0.024691  0.051282   \n",
       "477  0.000000  0.010969  0.022642  ...  0.125000  0.054054  0.000000   \n",
       "478  0.040230  0.036184  0.092025  ...  0.073394  0.040816  0.105263   \n",
       "479  0.125945  0.085236  0.064000  ...  0.012658  0.000000  0.000000   \n",
       "480  0.138710  0.229545  0.183946  ...  0.062992  0.016216  0.005450   \n",
       "\n",
       "          474       475       476       477       478       479       480  \n",
       "1    0.044118  0.054054  0.149533  0.000000  0.048387  0.046243  0.050505  \n",
       "2    0.018692  0.088889  0.076923  0.000000  0.084211  0.013889  0.010899  \n",
       "3    0.000000  0.052632  0.056338  0.000000  0.022727  0.029197  0.016667  \n",
       "27   0.061372  0.028455  0.057143  0.016632  0.059041  0.118443  0.235872  \n",
       "29   0.099865  0.017673  0.056180  0.005988  0.043896  0.120823  0.369630  \n",
       "..        ...       ...       ...       ...       ...       ...       ...  \n",
       "476  0.014815  0.136986  1.000000  0.000000  0.032520  0.000000  0.040506  \n",
       "477  0.000000  0.000000  0.000000  1.000000  0.025316  0.000000  0.011396  \n",
       "478  0.065789  0.066667  0.032520  0.025316  1.000000  0.010582  0.067961  \n",
       "479  0.049751  0.000000  0.000000  0.000000  0.010582  1.000000  0.104121  \n",
       "480  0.141509  0.011050  0.040506  0.011396  0.067961  0.104121  1.000000  \n",
       "\n",
       "[422 rows x 422 columns]"
      ]
     },
     "execution_count": 44,
     "metadata": {},
     "output_type": "execute_result"
    }
   ],
   "source": [
    "sim_df_l[0]"
   ]
  },
  {
   "cell_type": "code",
   "execution_count": 6,
   "id": "3d053253",
   "metadata": {},
   "outputs": [],
   "source": [
    "ii=0\n",
    "import glob\n",
    "data_dir_full = db_sorted['data_dir_full'][ii]\n",
    "cell_metrics=glob.glob(os.path.join(data_dir_full,'*cell_metrics.cellinfo.mat'))[0]\n",
    "cell_metrics = dpn.loadmat_full(cell_metrics,'cell_metrics')"
   ]
  },
  {
   "cell_type": "code",
   "execution_count": 7,
   "id": "5ba83d8f",
   "metadata": {},
   "outputs": [
    {
     "data": {
      "text/html": [
       "<div>\n",
       "<style scoped>\n",
       "    .dataframe tbody tr th:only-of-type {\n",
       "        vertical-align: middle;\n",
       "    }\n",
       "\n",
       "    .dataframe tbody tr th {\n",
       "        vertical-align: top;\n",
       "    }\n",
       "\n",
       "    .dataframe thead th {\n",
       "        text-align: right;\n",
       "    }\n",
       "</style>\n",
       "<table border=\"1\" class=\"dataframe\">\n",
       "  <thead>\n",
       "    <tr style=\"text-align: right;\">\n",
       "      <th></th>\n",
       "      <th></th>\n",
       "      <th></th>\n",
       "      <th></th>\n",
       "      <th></th>\n",
       "      <th></th>\n",
       "      <th></th>\n",
       "      <th></th>\n",
       "      <th></th>\n",
       "      <th>0</th>\n",
       "      <th>1</th>\n",
       "      <th>2</th>\n",
       "      <th>3</th>\n",
       "      <th>4</th>\n",
       "      <th>5</th>\n",
       "      <th>6</th>\n",
       "      <th>7</th>\n",
       "      <th>8</th>\n",
       "      <th>9</th>\n",
       "      <th>...</th>\n",
       "      <th>27</th>\n",
       "      <th>28</th>\n",
       "      <th>29</th>\n",
       "      <th>30</th>\n",
       "      <th>31</th>\n",
       "      <th>32</th>\n",
       "      <th>33</th>\n",
       "      <th>34</th>\n",
       "      <th>35</th>\n",
       "      <th>36</th>\n",
       "    </tr>\n",
       "  </thead>\n",
       "  <tbody>\n",
       "    <tr>\n",
       "      <th rowspan=\"5\" valign=\"top\">e13_26m1</th>\n",
       "      <th rowspan=\"5\" valign=\"top\">e13_26m1_210913</th>\n",
       "      <th rowspan=\"5\" valign=\"top\">0</th>\n",
       "      <th rowspan=\"5\" valign=\"top\">0</th>\n",
       "      <th rowspan=\"5\" valign=\"top\">raw</th>\n",
       "      <th rowspan=\"5\" valign=\"top\">switch_magnitude</th>\n",
       "      <th rowspan=\"5\" valign=\"top\">0.4</th>\n",
       "      <th>3</th>\n",
       "      <th>0</th>\n",
       "      <td>0</td>\n",
       "      <td>1</td>\n",
       "      <td>0</td>\n",
       "      <td>0</td>\n",
       "      <td>0</td>\n",
       "      <td>0</td>\n",
       "      <td>0.0</td>\n",
       "      <td>0.0</td>\n",
       "      <td>0.0</td>\n",
       "      <td>0.0</td>\n",
       "      <td>...</td>\n",
       "      <td>0.0</td>\n",
       "      <td>0.0</td>\n",
       "      <td>0.0</td>\n",
       "      <td>0.0</td>\n",
       "      <td>0.0</td>\n",
       "      <td>0.0</td>\n",
       "      <td>NaN</td>\n",
       "      <td>NaN</td>\n",
       "      <td>NaN</td>\n",
       "      <td>NaN</td>\n",
       "    </tr>\n",
       "    <tr>\n",
       "      <th>27</th>\n",
       "      <th>0</th>\n",
       "      <td>0</td>\n",
       "      <td>0</td>\n",
       "      <td>0</td>\n",
       "      <td>0</td>\n",
       "      <td>0</td>\n",
       "      <td>0</td>\n",
       "      <td>0.0</td>\n",
       "      <td>0.0</td>\n",
       "      <td>0.0</td>\n",
       "      <td>0.0</td>\n",
       "      <td>...</td>\n",
       "      <td>0.0</td>\n",
       "      <td>0.0</td>\n",
       "      <td>0.0</td>\n",
       "      <td>0.0</td>\n",
       "      <td>0.0</td>\n",
       "      <td>0.0</td>\n",
       "      <td>NaN</td>\n",
       "      <td>NaN</td>\n",
       "      <td>NaN</td>\n",
       "      <td>NaN</td>\n",
       "    </tr>\n",
       "    <tr>\n",
       "      <th rowspan=\"3\" valign=\"top\">29</th>\n",
       "      <th>0</th>\n",
       "      <td>0</td>\n",
       "      <td>0</td>\n",
       "      <td>0</td>\n",
       "      <td>0</td>\n",
       "      <td>0</td>\n",
       "      <td>1</td>\n",
       "      <td>0.0</td>\n",
       "      <td>0.0</td>\n",
       "      <td>0.0</td>\n",
       "      <td>0.0</td>\n",
       "      <td>...</td>\n",
       "      <td>0.0</td>\n",
       "      <td>0.0</td>\n",
       "      <td>0.0</td>\n",
       "      <td>0.0</td>\n",
       "      <td>0.0</td>\n",
       "      <td>0.0</td>\n",
       "      <td>NaN</td>\n",
       "      <td>NaN</td>\n",
       "      <td>NaN</td>\n",
       "      <td>NaN</td>\n",
       "    </tr>\n",
       "    <tr>\n",
       "      <th>1</th>\n",
       "      <td>0</td>\n",
       "      <td>0</td>\n",
       "      <td>1</td>\n",
       "      <td>0</td>\n",
       "      <td>-1</td>\n",
       "      <td>0</td>\n",
       "      <td>0.0</td>\n",
       "      <td>0.0</td>\n",
       "      <td>0.0</td>\n",
       "      <td>0.0</td>\n",
       "      <td>...</td>\n",
       "      <td>0.0</td>\n",
       "      <td>0.0</td>\n",
       "      <td>0.0</td>\n",
       "      <td>0.0</td>\n",
       "      <td>0.0</td>\n",
       "      <td>0.0</td>\n",
       "      <td>NaN</td>\n",
       "      <td>NaN</td>\n",
       "      <td>NaN</td>\n",
       "      <td>NaN</td>\n",
       "    </tr>\n",
       "    <tr>\n",
       "      <th>2</th>\n",
       "      <td>0</td>\n",
       "      <td>1</td>\n",
       "      <td>0</td>\n",
       "      <td>0</td>\n",
       "      <td>0</td>\n",
       "      <td>0</td>\n",
       "      <td>0.0</td>\n",
       "      <td>0.0</td>\n",
       "      <td>0.0</td>\n",
       "      <td>0.0</td>\n",
       "      <td>...</td>\n",
       "      <td>0.0</td>\n",
       "      <td>0.0</td>\n",
       "      <td>0.0</td>\n",
       "      <td>0.0</td>\n",
       "      <td>0.0</td>\n",
       "      <td>0.0</td>\n",
       "      <td>NaN</td>\n",
       "      <td>NaN</td>\n",
       "      <td>NaN</td>\n",
       "      <td>NaN</td>\n",
       "    </tr>\n",
       "    <tr>\n",
       "      <th>...</th>\n",
       "      <th>...</th>\n",
       "      <th>...</th>\n",
       "      <th>...</th>\n",
       "      <th>...</th>\n",
       "      <th>...</th>\n",
       "      <th>...</th>\n",
       "      <th>...</th>\n",
       "      <th>...</th>\n",
       "      <td>...</td>\n",
       "      <td>...</td>\n",
       "      <td>...</td>\n",
       "      <td>...</td>\n",
       "      <td>...</td>\n",
       "      <td>...</td>\n",
       "      <td>...</td>\n",
       "      <td>...</td>\n",
       "      <td>...</td>\n",
       "      <td>...</td>\n",
       "      <td>...</td>\n",
       "      <td>...</td>\n",
       "      <td>...</td>\n",
       "      <td>...</td>\n",
       "      <td>...</td>\n",
       "      <td>...</td>\n",
       "      <td>...</td>\n",
       "      <td>...</td>\n",
       "      <td>...</td>\n",
       "      <td>...</td>\n",
       "      <td>...</td>\n",
       "    </tr>\n",
       "    <tr>\n",
       "      <th rowspan=\"5\" valign=\"top\">e16_1f1</th>\n",
       "      <th rowspan=\"5\" valign=\"top\">e16_1f1_200923</th>\n",
       "      <th rowspan=\"5\" valign=\"top\">0</th>\n",
       "      <th rowspan=\"5\" valign=\"top\">1</th>\n",
       "      <th rowspan=\"5\" valign=\"top\">0.3</th>\n",
       "      <th rowspan=\"5\" valign=\"top\">switch_magnitude</th>\n",
       "      <th rowspan=\"5\" valign=\"top\">0.4</th>\n",
       "      <th>50</th>\n",
       "      <th>2</th>\n",
       "      <td>0</td>\n",
       "      <td>0</td>\n",
       "      <td>0</td>\n",
       "      <td>1</td>\n",
       "      <td>0</td>\n",
       "      <td>-1</td>\n",
       "      <td>0.0</td>\n",
       "      <td>0.0</td>\n",
       "      <td>0.0</td>\n",
       "      <td>NaN</td>\n",
       "      <td>...</td>\n",
       "      <td>NaN</td>\n",
       "      <td>NaN</td>\n",
       "      <td>NaN</td>\n",
       "      <td>NaN</td>\n",
       "      <td>NaN</td>\n",
       "      <td>NaN</td>\n",
       "      <td>NaN</td>\n",
       "      <td>NaN</td>\n",
       "      <td>NaN</td>\n",
       "      <td>NaN</td>\n",
       "    </tr>\n",
       "    <tr>\n",
       "      <th>60</th>\n",
       "      <th>0</th>\n",
       "      <td>0</td>\n",
       "      <td>0</td>\n",
       "      <td>1</td>\n",
       "      <td>0</td>\n",
       "      <td>0</td>\n",
       "      <td>0</td>\n",
       "      <td>0.0</td>\n",
       "      <td>0.0</td>\n",
       "      <td>0.0</td>\n",
       "      <td>NaN</td>\n",
       "      <td>...</td>\n",
       "      <td>NaN</td>\n",
       "      <td>NaN</td>\n",
       "      <td>NaN</td>\n",
       "      <td>NaN</td>\n",
       "      <td>NaN</td>\n",
       "      <td>NaN</td>\n",
       "      <td>NaN</td>\n",
       "      <td>NaN</td>\n",
       "      <td>NaN</td>\n",
       "      <td>NaN</td>\n",
       "    </tr>\n",
       "    <tr>\n",
       "      <th>61</th>\n",
       "      <th>1</th>\n",
       "      <td>0</td>\n",
       "      <td>0</td>\n",
       "      <td>0</td>\n",
       "      <td>0</td>\n",
       "      <td>0</td>\n",
       "      <td>0</td>\n",
       "      <td>0.0</td>\n",
       "      <td>0.0</td>\n",
       "      <td>0.0</td>\n",
       "      <td>NaN</td>\n",
       "      <td>...</td>\n",
       "      <td>NaN</td>\n",
       "      <td>NaN</td>\n",
       "      <td>NaN</td>\n",
       "      <td>NaN</td>\n",
       "      <td>NaN</td>\n",
       "      <td>NaN</td>\n",
       "      <td>NaN</td>\n",
       "      <td>NaN</td>\n",
       "      <td>NaN</td>\n",
       "      <td>NaN</td>\n",
       "    </tr>\n",
       "    <tr>\n",
       "      <th rowspan=\"2\" valign=\"top\">63</th>\n",
       "      <th>0</th>\n",
       "      <td>0</td>\n",
       "      <td>1</td>\n",
       "      <td>0</td>\n",
       "      <td>0</td>\n",
       "      <td>0</td>\n",
       "      <td>0</td>\n",
       "      <td>0.0</td>\n",
       "      <td>-1.0</td>\n",
       "      <td>0.0</td>\n",
       "      <td>NaN</td>\n",
       "      <td>...</td>\n",
       "      <td>NaN</td>\n",
       "      <td>NaN</td>\n",
       "      <td>NaN</td>\n",
       "      <td>NaN</td>\n",
       "      <td>NaN</td>\n",
       "      <td>NaN</td>\n",
       "      <td>NaN</td>\n",
       "      <td>NaN</td>\n",
       "      <td>NaN</td>\n",
       "      <td>NaN</td>\n",
       "    </tr>\n",
       "    <tr>\n",
       "      <th>1</th>\n",
       "      <td>0</td>\n",
       "      <td>0</td>\n",
       "      <td>0</td>\n",
       "      <td>0</td>\n",
       "      <td>0</td>\n",
       "      <td>0</td>\n",
       "      <td>0.0</td>\n",
       "      <td>-1.0</td>\n",
       "      <td>0.0</td>\n",
       "      <td>NaN</td>\n",
       "      <td>...</td>\n",
       "      <td>NaN</td>\n",
       "      <td>NaN</td>\n",
       "      <td>NaN</td>\n",
       "      <td>NaN</td>\n",
       "      <td>NaN</td>\n",
       "      <td>NaN</td>\n",
       "      <td>NaN</td>\n",
       "      <td>NaN</td>\n",
       "      <td>NaN</td>\n",
       "      <td>NaN</td>\n",
       "    </tr>\n",
       "  </tbody>\n",
       "</table>\n",
       "<p>24614 rows × 37 columns</p>\n",
       "</div>"
      ],
      "text/plain": [
       "                                                            0   1   2   3   \\\n",
       "e13_26m1 e13_26m1_210913 0 0 raw switch_magnitude 0.4 3  0   0   1   0   0   \n",
       "                                                      27 0   0   0   0   0   \n",
       "                                                      29 0   0   0   0   0   \n",
       "                                                         1   0   0   1   0   \n",
       "                                                         2   0   1   0   0   \n",
       "...                                                         ..  ..  ..  ..   \n",
       "e16_1f1  e16_1f1_200923  0 1 0.3 switch_magnitude 0.4 50 2   0   0   0   1   \n",
       "                                                      60 0   0   0   1   0   \n",
       "                                                      61 1   0   0   0   0   \n",
       "                                                      63 0   0   1   0   0   \n",
       "                                                         1   0   0   0   0   \n",
       "\n",
       "                                                            4   5    6    7   \\\n",
       "e13_26m1 e13_26m1_210913 0 0 raw switch_magnitude 0.4 3  0   0   0  0.0  0.0   \n",
       "                                                      27 0   0   0  0.0  0.0   \n",
       "                                                      29 0   0   1  0.0  0.0   \n",
       "                                                         1  -1   0  0.0  0.0   \n",
       "                                                         2   0   0  0.0  0.0   \n",
       "...                                                         ..  ..  ...  ...   \n",
       "e16_1f1  e16_1f1_200923  0 1 0.3 switch_magnitude 0.4 50 2   0  -1  0.0  0.0   \n",
       "                                                      60 0   0   0  0.0  0.0   \n",
       "                                                      61 1   0   0  0.0  0.0   \n",
       "                                                      63 0   0   0  0.0 -1.0   \n",
       "                                                         1   0   0  0.0 -1.0   \n",
       "\n",
       "                                                             8    9   ...  \\\n",
       "e13_26m1 e13_26m1_210913 0 0 raw switch_magnitude 0.4 3  0  0.0  0.0  ...   \n",
       "                                                      27 0  0.0  0.0  ...   \n",
       "                                                      29 0  0.0  0.0  ...   \n",
       "                                                         1  0.0  0.0  ...   \n",
       "                                                         2  0.0  0.0  ...   \n",
       "...                                                         ...  ...  ...   \n",
       "e16_1f1  e16_1f1_200923  0 1 0.3 switch_magnitude 0.4 50 2  0.0  NaN  ...   \n",
       "                                                      60 0  0.0  NaN  ...   \n",
       "                                                      61 1  0.0  NaN  ...   \n",
       "                                                      63 0  0.0  NaN  ...   \n",
       "                                                         1  0.0  NaN  ...   \n",
       "\n",
       "                                                             27   28   29  \\\n",
       "e13_26m1 e13_26m1_210913 0 0 raw switch_magnitude 0.4 3  0  0.0  0.0  0.0   \n",
       "                                                      27 0  0.0  0.0  0.0   \n",
       "                                                      29 0  0.0  0.0  0.0   \n",
       "                                                         1  0.0  0.0  0.0   \n",
       "                                                         2  0.0  0.0  0.0   \n",
       "...                                                         ...  ...  ...   \n",
       "e16_1f1  e16_1f1_200923  0 1 0.3 switch_magnitude 0.4 50 2  NaN  NaN  NaN   \n",
       "                                                      60 0  NaN  NaN  NaN   \n",
       "                                                      61 1  NaN  NaN  NaN   \n",
       "                                                      63 0  NaN  NaN  NaN   \n",
       "                                                         1  NaN  NaN  NaN   \n",
       "\n",
       "                                                             30   31   32  33  \\\n",
       "e13_26m1 e13_26m1_210913 0 0 raw switch_magnitude 0.4 3  0  0.0  0.0  0.0 NaN   \n",
       "                                                      27 0  0.0  0.0  0.0 NaN   \n",
       "                                                      29 0  0.0  0.0  0.0 NaN   \n",
       "                                                         1  0.0  0.0  0.0 NaN   \n",
       "                                                         2  0.0  0.0  0.0 NaN   \n",
       "...                                                         ...  ...  ...  ..   \n",
       "e16_1f1  e16_1f1_200923  0 1 0.3 switch_magnitude 0.4 50 2  NaN  NaN  NaN NaN   \n",
       "                                                      60 0  NaN  NaN  NaN NaN   \n",
       "                                                      61 1  NaN  NaN  NaN NaN   \n",
       "                                                      63 0  NaN  NaN  NaN NaN   \n",
       "                                                         1  NaN  NaN  NaN NaN   \n",
       "\n",
       "                                                            34  35  36  \n",
       "e13_26m1 e13_26m1_210913 0 0 raw switch_magnitude 0.4 3  0 NaN NaN NaN  \n",
       "                                                      27 0 NaN NaN NaN  \n",
       "                                                      29 0 NaN NaN NaN  \n",
       "                                                         1 NaN NaN NaN  \n",
       "                                                         2 NaN NaN NaN  \n",
       "...                                                         ..  ..  ..  \n",
       "e16_1f1  e16_1f1_200923  0 1 0.3 switch_magnitude 0.4 50 2 NaN NaN NaN  \n",
       "                                                      60 0 NaN NaN NaN  \n",
       "                                                      61 1 NaN NaN NaN  \n",
       "                                                      63 0 NaN NaN NaN  \n",
       "                                                         1 NaN NaN NaN  \n",
       "\n",
       "[24614 rows x 37 columns]"
      ]
     },
     "execution_count": 7,
     "metadata": {},
     "output_type": "execute_result"
    }
   ],
   "source": [
    "switch_detection_res_allsess[detection]['changes_df']"
   ]
  },
  {
   "cell_type": "code",
   "execution_count": 45,
   "id": "4959472a",
   "metadata": {},
   "outputs": [
    {
     "data": {
      "text/plain": [
       "<module 'change_point_analysis' from '/mnt/home/szheng/projects/nmf_analysis/change_point_analysis.py'>"
      ]
     },
     "execution_count": 45,
     "metadata": {},
     "output_type": "execute_result"
    }
   ],
   "source": [
    "reload(cpa)"
   ]
  },
  {
   "cell_type": "code",
   "execution_count": 27,
   "id": "ca85f7fa",
   "metadata": {},
   "outputs": [
    {
     "name": "stderr",
     "output_type": "stream",
     "text": [
      "/tmp/ipykernel_46800/978203729.py:13: PerformanceWarning: indexing past lexsort depth may impact performance.\n",
      "  changes_df = switch_detection_res_allsess[detection]['changes_df'].loc[one_ind]\n"
     ]
    }
   ],
   "source": [
    "ani = 'e13_26m1'\n",
    "sess='e13_26m1_210913'\n",
    "task_ind,trial_type=(0,0)\n",
    "onoff_outer_d = {}\n",
    "changes_shuffle_d = {}\n",
    "\n",
    "fr_df = place_field_res_l[ani,sess]['avg']['params'][task_ind,trial_type].loc['fr_mean']\n",
    "fr_df_shuffle = cpa.gen_circular_shuffle(fr_df,500)\n",
    "fr_corr = fr_df.T.corr()\n",
    "\n",
    "for sw_type in ['raw',0.3]:\n",
    "    one_ind =(ani,sess,task_ind,trial_type,sw_type,'switch_magnitude',0.4)\n",
    "    changes_df = switch_detection_res_allsess[detection]['changes_df'].loc[one_ind]\n",
    "    \n",
    "    # inds_d = cpa.get_inds_switch_sametrial_sorted(changes_df)\n",
    "    changes_shuffle_d[sw_type] = cpa.gen_circular_shuffle(changes_df.dropna(axis=1),500)\n",
    "    \n",
    "    \n",
    "    \n",
    "    _,_,_,_,_,onoff_outer=cpa.get_shared_onoff(changes_df,return_outer=True)\n",
    "    onoff_outer_d[sw_type] = onoff_outer"
   ]
  },
  {
   "cell_type": "code",
   "execution_count": 131,
   "id": "7645df07",
   "metadata": {},
   "outputs": [],
   "source": [
    "def reduce_get_triu_flatten_base(mat,mask = None):\n",
    "    '''\n",
    "    reduce multi field to one field using the max (similarity) value\n",
    "    then get the upper tri elements, flattened\n",
    "    mask: see get_onoff_outer_reduced_flatten\n",
    "    '''\n",
    "    mat_reduced = mat.groupby(level=0).max().groupby(level=0,axis=1).max() # reduce multi field to one field using the max (similarity) value\n",
    "    neurons_left = mat_reduced.index\n",
    "    mat_val = mat_reduced.values\n",
    "    \n",
    "    mat_triu_inds = np.triu_indices(mat_val.shape[0],1)\n",
    "    flattened = mat_val[mat_triu_inds]\n",
    "    \n",
    "    if mask is not None:\n",
    "        mask_reduced = mask.groupby(level=0).max().groupby(level=0,axis=1).max() \n",
    "        mask_flattened =  mask_reduced.values[mat_triu_inds]\n",
    "        flattened_masked = flattened[np.logical_not(mask_flattened)]\n",
    "        return flattened_masked,neurons_left,flattened,mask_flattened\n",
    "    else:\n",
    "        return flattened,neurons_left\n",
    "\n",
    "def reduce_get_triu_flatten(mat,mask=None):\n",
    "    '''\n",
    "    '''\n",
    "    if mask is None:\n",
    "        return reduce_get_triu_flatten_base(mat,mask = None)\n",
    "    else:\n",
    "        flattened_masked,neurons_left,flattened,mask_flattenereduce_get_triu_flatten_base(mat,mask = None)\n",
    "        return flattened, neurons_left\n",
    "    \n",
    "    "
   ]
  },
  {
   "cell_type": "code",
   "execution_count": 123,
   "id": "48669397",
   "metadata": {},
   "outputs": [],
   "source": [
    "def get_onoff_outer_reduced_flatten(changes_df,mask=None):\n",
    "    '''\n",
    "    mask: mask out pairs that are too close, 1 to mask out 0 to keep; first try conservative: if two fields are two close, then the two neurons are eliminated\n",
    "    '''\n",
    "    _,_,_,_,_,onoff_outer = cpa.get_shared_onoff(changes_df,return_outer=True)\n",
    "    onoff_outer_reduced_flatten_d = {}\n",
    "    for k in onoff_outer.keys():\n",
    "#         outer_reduced_one = onoff_outer[k].groupby(level=0).max().groupby(level=0,axis=1).max() # reduce multi fields in the same neuron using OR\n",
    "\n",
    "#         neurons_left = outer_reduced_one.index # should be the same across on off\n",
    "#         triu_inds = np.triu_indices(neurons_left.shape[0],1)\n",
    "#         onoff_outer_reduced_flatten=outer_reduced_one.values[triu_inds]\n",
    "        \n",
    "        onoff_outer_reduced_flatten,neurons_left = reduce_get_triu_flatten(onoff_outer[k],mask = mask)\n",
    "        \n",
    "        \n",
    "        onoff_outer_reduced_flatten_d[k] = onoff_outer_reduced_flatten\n",
    "    return onoff_outer_reduced_flatten_d,neurons_left\n",
    "    \n",
    "    \n",
    "    \n",
    "    \n",
    "    \n",
    "    "
   ]
  },
  {
   "cell_type": "code",
   "execution_count": 75,
   "id": "fe446330",
   "metadata": {},
   "outputs": [],
   "source": [
    "neurons_left_old= neurons_left"
   ]
  },
  {
   "cell_type": "code",
   "execution_count": 76,
   "id": "9cabb2b5",
   "metadata": {},
   "outputs": [],
   "source": [
    "_,neurons_left = get_onoff_outer_reduced_flatten(cs)"
   ]
  },
  {
   "cell_type": "code",
   "execution_count": 53,
   "id": "31fca357",
   "metadata": {},
   "outputs": [],
   "source": [
    "onoff_outer_reduced_flatten_d_l = []\n",
    "# sw_type = 'raw'\n",
    "sw_type = 0.3\n",
    "for cs in changes_shuffle_d[sw_type]:\n",
    "    onoff_outer_reduced_flatten_d,neurons_left = get_onoff_outer_reduced_flatten(cs)\n",
    "    onoff_outer_reduced_flatten_d_l.append(onoff_outer_reduced_flatten_d)"
   ]
  },
  {
   "cell_type": "code",
   "execution_count": 85,
   "id": "50f7b21a",
   "metadata": {},
   "outputs": [],
   "source": [
    "fr_corr_flat,_ = reduce_get_triu_flatten(fr_corr)\n",
    "fr_corr_flat_l = []\n",
    "for frs in fr_df_shuffle:\n",
    "    fr_shuffle_corr = frs.T.corr()\n",
    "    fr_corr_flat,_ = reduce_get_triu_flatten(fr_shuffle_corr)\n",
    "    fr_corr_flat_l.append(fr_corr_flat)"
   ]
  },
  {
   "cell_type": "code",
   "execution_count": 55,
   "id": "deafdd8b",
   "metadata": {},
   "outputs": [],
   "source": [
    "onoff = 1\n",
    "onoff_outer_reduced_flatten_d_onoff = {onoff:\n",
    "                                       [onoff_outer_reduced_flatten_d[onoff] for onoff_outer_reduced_flatten_d in onoff_outer_reduced_flatten_d_l]\n",
    "                                       for onoff in [1,-1]\n",
    "                                      }\n",
    "onoff_outer_reduced_flatten_d_1 = onoff_outer_reduced_flatten_d_onoff[onoff]\n",
    "\n"
   ]
  },
  {
   "cell_type": "code",
   "execution_count": 56,
   "id": "b60ba42b",
   "metadata": {},
   "outputs": [
    {
     "name": "stderr",
     "output_type": "stream",
     "text": [
      "/tmp/ipykernel_46800/844809307.py:4: PerformanceWarning: indexing past lexsort depth may impact performance.\n",
      "  changes_df = switch_detection_res_allsess[detection]['changes_df'].loc[one_ind]\n"
     ]
    }
   ],
   "source": [
    "# one_ind = ('e13_26m1','e13_26m1_210913',0,0,sw_type,'switch_magnitude',0.4)\n",
    "one_ind =(ani,sess,task_ind,trial_type,sw_type,'switch_magnitude',0.4)\n",
    "\n",
    "changes_df = switch_detection_res_allsess[detection]['changes_df'].loc[one_ind]\n",
    "onoff_outer_reduced_flatten_d_data,neurons_left = get_onoff_outer_reduced_flatten(changes_df.dropna(axis=1))\n",
    "a=onoff_outer_reduced_flatten_d_data[onoff]\n",
    "\n",
    "# b = sim_df_l[1].loc[neurons_left,neurons_left].values[upper_triu_inds]\n",
    "# b = sim_df_l[1].fillna(0).loc[neurons_left,neurons_left].values[upper_triu_inds]\n",
    "b_l = [reduce_get_triu_flatten(sim_df.fillna(0).loc[neurons_left,neurons_left].values)[0] for sim_df in sim_df_l]\n",
    "\n",
    "\n",
    "r_null_l = []\n",
    "r_data_l = []\n",
    "for b in b_l:\n",
    "    r_null=np.array([scipy.stats.spearmanr(b,oorfd) for oorfd in onoff_outer_reduced_flatten_d_1])\n",
    "    r_data = scipy.stats.spearmanr(b,a)\n",
    "    \n",
    "    r_null_l.append(r_null)\n",
    "    r_data_l.append(r_data)"
   ]
  },
  {
   "cell_type": "code",
   "execution_count": 57,
   "id": "1292ac3e",
   "metadata": {
    "scrolled": false
   },
   "outputs": [
    {
     "data": {
      "image/png": "[encoded data removed]",
      "text/plain": [
       "<Figure size 432x288 with 1 Axes>"
      ]
     },
     "metadata": {
      "needs_background": "light"
     },
     "output_type": "display_data"
    },
    {
     "data": {
      "image/png": "[encoded data removed]",
      "text/plain": [
       "<Figure size 432x288 with 1 Axes>"
      ]
     },
     "metadata": {
      "needs_background": "light"
     },
     "output_type": "display_data"
    },
    {
     "data": {
      "image/png": "[encoded data removed]",
      "text/plain": [
       "<Figure size 432x288 with 1 Axes>"
      ]
     },
     "metadata": {
      "needs_background": "light"
     },
     "output_type": "display_data"
    }
   ],
   "source": [
    "for r_null,r_data in zip(r_null_l,r_data_l):\n",
    "    ph.plot_shuffle_data_dist_with_thresh(r_null[:,0],r_data[0],alpha=0.05,fig=None,ax=None,lw=4)\n",
    "    plt.xlim(0,0.07)\n"
   ]
  },
  {
   "cell_type": "code",
   "execution_count": 89,
   "id": "73807113",
   "metadata": {
    "scrolled": true
   },
   "outputs": [
    {
     "data": {
      "image/png": "[encoded data removed]",
      "text/plain": [
       "<Figure size 432x288 with 1 Axes>"
      ]
     },
     "metadata": {
      "needs_background": "light"
     },
     "output_type": "display_data"
    },
    {
     "data": {
      "image/png": "[encoded data removed]",
      "text/plain": [
       "<Figure size 432x288 with 1 Axes>"
      ]
     },
     "metadata": {
      "needs_background": "light"
     },
     "output_type": "display_data"
    },
    {
     "data": {
      "image/png": "[encoded data removed]",
      "text/plain": [
       "<Figure size 432x288 with 1 Axes>"
      ]
     },
     "metadata": {
      "needs_background": "light"
     },
     "output_type": "display_data"
    }
   ],
   "source": [
    "# using correlation on firing rate by trial\n",
    "r_null_l = []\n",
    "r_data_l = []\n",
    "for b in b_l:\n",
    "    a = fr_corr_flat\n",
    "    r_null=np.array([scipy.stats.spearmanr(b,ff) for ff in fr_corr_flat_l])\n",
    "    r_data = scipy.stats.spearmanr(b,a)\n",
    "    \n",
    "    r_null_l.append(r_null)\n",
    "    r_data_l.append(r_data)\n",
    "\n",
    "for r_null,r_data in zip(r_null_l,r_data_l):\n",
    "    ph.plot_shuffle_data_dist_with_thresh(r_null[:,0],r_data[0],alpha=0.05,fig=None,ax=None,lw=4)\n",
    "#     plt.xlim(0,0.07)\n"
   ]
  },
  {
   "cell_type": "code",
   "execution_count": 118,
   "id": "5dee3deb",
   "metadata": {},
   "outputs": [],
   "source": [
    "# excluding closeby fields\n",
    "\n",
    "com_dist_thresh = 2 \n",
    "com_all_fields=place_field_res_l[ani,sess]['avg']['all_fields'][task_ind,trial_type]['com']\n",
    "dist_thresh_mask = np.abs(np.subtract.outer(com_all_fields.values,com_all_fields.values)) < com_dist_thresh\n",
    "dist_thresh_mask = pd.DataFrame(dist_thresh_mask,index=com_all_fields.index,columns=com_all_fields.index)\n",
    "# reduce_get_triu_flatten(fr_corr,mask=dist_thresh_mask)"
   ]
  },
  {
   "cell_type": "code",
   "execution_count": 124,
   "id": "ef28407c",
   "metadata": {},
   "outputs": [],
   "source": [
    "onoff_outer_reduced_flatten_d_l = []\n",
    "# sw_type = 'raw'\n",
    "sw_type = 0.3\n",
    "for cs in changes_shuffle_d[sw_type]:\n",
    "    onoff_outer_reduced_flatten_d,neurons_left = get_onoff_outer_reduced_flatten(cs,mask=dist_thresh_mask)\n",
    "    onoff_outer_reduced_flatten_d_l.append(onoff_outer_reduced_flatten_d)\n",
    "onoff = 1\n",
    "onoff_outer_reduced_flatten_d_onoff = {onoff:\n",
    "                                       [onoff_outer_reduced_flatten_d[onoff] for onoff_outer_reduced_flatten_d in onoff_outer_reduced_flatten_d_l]\n",
    "                                       for onoff in [1,-1]\n",
    "                                      }\n",
    "onoff_outer_reduced_flatten_d_1 = onoff_outer_reduced_flatten_d_onoff[onoff]\n",
    "\n"
   ]
  },
  {
   "cell_type": "code",
   "execution_count": 144,
   "id": "8136f050",
   "metadata": {},
   "outputs": [
    {
     "data": {
      "text/plain": [
       "<module 'change_point_rsa' from '/mnt/home/szheng/projects/nmf_analysis/change_point_rsa.py'>"
      ]
     },
     "execution_count": 144,
     "metadata": {},
     "output_type": "execute_result"
    }
   ],
   "source": [
    "import change_point_rsa as cpr\n",
    "reload(cpr)"
   ]
  },
  {
   "cell_type": "code",
   "execution_count": 145,
   "id": "c5024598",
   "metadata": {},
   "outputs": [],
   "source": [
    "onoff_outer_reduced_flatten_d,neurons_left,flattened_no_mask,mask_flattened = cpr.get_onoff_outer_reduced_flatten(changes_df,mask=mask)\n",
    "\n",
    "\n",
    "b_l = []\n",
    "for sim_df in sim_df_l:\n",
    "    ripple_sim_flattened_masked, _,ripple_sim_flattened, _ = cpr.reduce_get_triu_flatten(sim_df.fillna(0).loc[neurons_left,neurons_left],mask=mask)\n",
    "    b_l.append(ripple_sim_flattened[mask_flattened])                                                                                 \n",
    "\n",
    "cs_flat_l = []\n",
    "onoff = 1\n",
    "for cs in changes_shuffle_d[0.3]:\n",
    "    cs_flattened_ma, _,cs_flattened, ma_flat = cpr.get_onoff_outer_reduced_flatten(cs,mask=mask)\n",
    "    cs_flat_l.append(cs_flattened[onoff][ma_flat])\n",
    "    \n",
    "    \n",
    "    \n",
    "    "
   ]
  },
  {
   "cell_type": "code",
   "execution_count": 167,
   "id": "6cef1334",
   "metadata": {},
   "outputs": [
    {
     "data": {
      "image/png": "[encoded data removed]",
      "text/plain": [
       "<Figure size 432x288 with 1 Axes>"
      ]
     },
     "metadata": {
      "needs_background": "light"
     },
     "output_type": "display_data"
    },
    {
     "data": {
      "image/png": "[encoded data removed]",
      "text/plain": [
       "<Figure size 432x288 with 1 Axes>"
      ]
     },
     "metadata": {
      "needs_background": "light"
     },
     "output_type": "display_data"
    },
    {
     "data": {
      "image/png": "[encoded data removed]",
      "text/plain": [
       "<Figure size 432x288 with 1 Axes>"
      ]
     },
     "metadata": {
      "needs_background": "light"
     },
     "output_type": "display_data"
    }
   ],
   "source": [
    "r_null_l = []\n",
    "r_data_l = []\n",
    "for b in b_l:\n",
    "    a = flattened_no_mask[1][mask_flattened]\n",
    "    r_null=np.array([scipy.stats.spearmanr(b,csf) for csf in cs_flat_l])\n",
    "    r_data = scipy.stats.spearmanr(b,a)\n",
    "    \n",
    "    r_null_l.append(r_null)\n",
    "    r_data_l.append(r_data)\n",
    "\n",
    "for r_null,r_data in zip(r_null_l,r_data_l):\n",
    "    ph.plot_shuffle_data_dist_with_thresh(r_null[:,0],r_data[0],alpha=0.05,fig=None,ax=None,lw=4)\n",
    "#     plt.xlim(0,0.07)\n"
   ]
  },
  {
   "cell_type": "code",
   "execution_count": 170,
   "id": "763c3e20",
   "metadata": {},
   "outputs": [
    {
     "data": {
      "text/plain": [
       "array([ 0.16300497, -0.21217791,  0.27771664, ..., -0.34755568,\n",
       "        0.36554203, -0.31111826])"
      ]
     },
     "execution_count": 170,
     "metadata": {},
     "output_type": "execute_result"
    }
   ],
   "source": [
    "fr_corr_flat[mask_flattened]"
   ]
  },
  {
   "cell_type": "code",
   "execution_count": 172,
   "id": "4ef396e3",
   "metadata": {},
   "outputs": [
    {
     "ename": "NameError",
     "evalue": "name 'fr_corr_l' is not defined",
     "output_type": "error",
     "traceback": [
      "\u001b[0;31m---------------------------------------------------------------------------\u001b[0m",
      "\u001b[0;31mNameError\u001b[0m                                 Traceback (most recent call last)",
      "Input \u001b[0;32mIn [172]\u001b[0m, in \u001b[0;36m<cell line: 1>\u001b[0;34m()\u001b[0m\n\u001b[0;32m----> 1\u001b[0m \u001b[43mfr_corr_l\u001b[49m\n",
      "\u001b[0;31mNameError\u001b[0m: name 'fr_corr_l' is not defined"
     ]
    }
   ],
   "source": [
    "fr_corr_flat_l"
   ]
  },
  {
   "cell_type": "code",
   "execution_count": 173,
   "id": "144cf097",
   "metadata": {},
   "outputs": [
    {
     "data": {
      "image/png": "[encoded data removed]",
      "text/plain": [
       "<Figure size 432x288 with 1 Axes>"
      ]
     },
     "metadata": {
      "needs_background": "light"
     },
     "output_type": "display_data"
    },
    {
     "data": {
      "image/png": "[encoded data removed]",
      "text/plain": [
       "<Figure size 432x288 with 1 Axes>"
      ]
     },
     "metadata": {
      "needs_background": "light"
     },
     "output_type": "display_data"
    },
    {
     "data": {
      "image/png": "[encoded data removed]",
      "text/plain": [
       "<Figure size 432x288 with 1 Axes>"
      ]
     },
     "metadata": {
      "needs_background": "light"
     },
     "output_type": "display_data"
    }
   ],
   "source": [
    "# close field only, raw correlation\n",
    "r_null_l = []\n",
    "r_data_l = []\n",
    "for b in b_l:\n",
    "    a = fr_corr_flat[mask_flattened]\n",
    "    r_null=np.array([scipy.stats.spearmanr(b,fc[mask_flattened]) for fc in fr_corr_flat_l])\n",
    "    r_data = scipy.stats.spearmanr(b,a)\n",
    "    \n",
    "    r_null_l.append(r_null)\n",
    "    r_data_l.append(r_data)\n",
    "\n",
    "for r_null,r_data in zip(r_null_l,r_data_l):\n",
    "    ph.plot_shuffle_data_dist_with_thresh(r_null[:,0],r_data[0],alpha=0.05,fig=None,ax=None,lw=4)\n",
    "#     plt.xlim(0,0.07)\n"
   ]
  },
  {
   "cell_type": "code",
   "execution_count": 166,
   "id": "0d6eea7e",
   "metadata": {},
   "outputs": [
    {
     "data": {
      "text/plain": [
       "(2739,)"
      ]
     },
     "execution_count": 166,
     "metadata": {},
     "output_type": "execute_result"
    }
   ],
   "source": []
  },
  {
   "cell_type": "code",
   "execution_count": 153,
   "id": "9755e730",
   "metadata": {
    "scrolled": false
   },
   "outputs": [
    {
     "data": {
      "text/plain": [
       "SpearmanrResult(correlation=0.055429326608028746, pvalue=0.003709946568269972)"
      ]
     },
     "execution_count": 153,
     "metadata": {},
     "output_type": "execute_result"
    }
   ],
   "source": [
    "scipy.stats.spearmanr(b_l[2],flattened_no_mask[1][mask_flattened])"
   ]
  },
  {
   "cell_type": "code",
   "execution_count": 154,
   "id": "12a01881",
   "metadata": {
    "scrolled": false
   },
   "outputs": [
    {
     "data": {
      "text/html": [
       "<div>\n",
       "<style scoped>\n",
       "    .dataframe tbody tr th:only-of-type {\n",
       "        vertical-align: middle;\n",
       "    }\n",
       "\n",
       "    .dataframe tbody tr th {\n",
       "        vertical-align: top;\n",
       "    }\n",
       "\n",
       "    .dataframe thead tr th {\n",
       "        text-align: left;\n",
       "    }\n",
       "\n",
       "    .dataframe thead tr:last-of-type th {\n",
       "        text-align: right;\n",
       "    }\n",
       "</style>\n",
       "<table border=\"1\" class=\"dataframe\">\n",
       "  <thead>\n",
       "    <tr>\n",
       "      <th></th>\n",
       "      <th></th>\n",
       "      <th>3</th>\n",
       "      <th>27</th>\n",
       "      <th colspan=\"3\" halign=\"left\">29</th>\n",
       "      <th>30</th>\n",
       "      <th>31</th>\n",
       "      <th>32</th>\n",
       "      <th>33</th>\n",
       "      <th>34</th>\n",
       "      <th>...</th>\n",
       "      <th>454</th>\n",
       "      <th>455</th>\n",
       "      <th>456</th>\n",
       "      <th>462</th>\n",
       "      <th colspan=\"2\" halign=\"left\">463</th>\n",
       "      <th>465</th>\n",
       "      <th>475</th>\n",
       "      <th>476</th>\n",
       "      <th>480</th>\n",
       "    </tr>\n",
       "    <tr>\n",
       "      <th></th>\n",
       "      <th>field_index</th>\n",
       "      <th>0</th>\n",
       "      <th>0</th>\n",
       "      <th>0</th>\n",
       "      <th>1</th>\n",
       "      <th>2</th>\n",
       "      <th>0</th>\n",
       "      <th>0</th>\n",
       "      <th>1</th>\n",
       "      <th>0</th>\n",
       "      <th>0</th>\n",
       "      <th>...</th>\n",
       "      <th>0</th>\n",
       "      <th>0</th>\n",
       "      <th>0</th>\n",
       "      <th>0</th>\n",
       "      <th>0</th>\n",
       "      <th>1</th>\n",
       "      <th>0</th>\n",
       "      <th>0</th>\n",
       "      <th>0</th>\n",
       "      <th>0</th>\n",
       "    </tr>\n",
       "    <tr>\n",
       "      <th></th>\n",
       "      <th>field_index</th>\n",
       "      <th></th>\n",
       "      <th></th>\n",
       "      <th></th>\n",
       "      <th></th>\n",
       "      <th></th>\n",
       "      <th></th>\n",
       "      <th></th>\n",
       "      <th></th>\n",
       "      <th></th>\n",
       "      <th></th>\n",
       "      <th></th>\n",
       "      <th></th>\n",
       "      <th></th>\n",
       "      <th></th>\n",
       "      <th></th>\n",
       "      <th></th>\n",
       "      <th></th>\n",
       "      <th></th>\n",
       "      <th></th>\n",
       "      <th></th>\n",
       "      <th></th>\n",
       "    </tr>\n",
       "  </thead>\n",
       "  <tbody>\n",
       "    <tr>\n",
       "      <th>3</th>\n",
       "      <th>0</th>\n",
       "      <td>True</td>\n",
       "      <td>False</td>\n",
       "      <td>False</td>\n",
       "      <td>False</td>\n",
       "      <td>False</td>\n",
       "      <td>False</td>\n",
       "      <td>False</td>\n",
       "      <td>False</td>\n",
       "      <td>False</td>\n",
       "      <td>False</td>\n",
       "      <td>...</td>\n",
       "      <td>False</td>\n",
       "      <td>False</td>\n",
       "      <td>False</td>\n",
       "      <td>False</td>\n",
       "      <td>False</td>\n",
       "      <td>False</td>\n",
       "      <td>False</td>\n",
       "      <td>True</td>\n",
       "      <td>True</td>\n",
       "      <td>False</td>\n",
       "    </tr>\n",
       "    <tr>\n",
       "      <th>27</th>\n",
       "      <th>0</th>\n",
       "      <td>False</td>\n",
       "      <td>True</td>\n",
       "      <td>False</td>\n",
       "      <td>False</td>\n",
       "      <td>False</td>\n",
       "      <td>False</td>\n",
       "      <td>False</td>\n",
       "      <td>False</td>\n",
       "      <td>False</td>\n",
       "      <td>False</td>\n",
       "      <td>...</td>\n",
       "      <td>False</td>\n",
       "      <td>False</td>\n",
       "      <td>False</td>\n",
       "      <td>False</td>\n",
       "      <td>False</td>\n",
       "      <td>False</td>\n",
       "      <td>False</td>\n",
       "      <td>False</td>\n",
       "      <td>False</td>\n",
       "      <td>False</td>\n",
       "    </tr>\n",
       "    <tr>\n",
       "      <th rowspan=\"3\" valign=\"top\">29</th>\n",
       "      <th>0</th>\n",
       "      <td>False</td>\n",
       "      <td>False</td>\n",
       "      <td>True</td>\n",
       "      <td>False</td>\n",
       "      <td>False</td>\n",
       "      <td>False</td>\n",
       "      <td>False</td>\n",
       "      <td>False</td>\n",
       "      <td>False</td>\n",
       "      <td>False</td>\n",
       "      <td>...</td>\n",
       "      <td>False</td>\n",
       "      <td>True</td>\n",
       "      <td>False</td>\n",
       "      <td>False</td>\n",
       "      <td>False</td>\n",
       "      <td>False</td>\n",
       "      <td>False</td>\n",
       "      <td>False</td>\n",
       "      <td>False</td>\n",
       "      <td>False</td>\n",
       "    </tr>\n",
       "    <tr>\n",
       "      <th>1</th>\n",
       "      <td>False</td>\n",
       "      <td>False</td>\n",
       "      <td>False</td>\n",
       "      <td>True</td>\n",
       "      <td>False</td>\n",
       "      <td>False</td>\n",
       "      <td>False</td>\n",
       "      <td>False</td>\n",
       "      <td>True</td>\n",
       "      <td>False</td>\n",
       "      <td>...</td>\n",
       "      <td>False</td>\n",
       "      <td>False</td>\n",
       "      <td>False</td>\n",
       "      <td>False</td>\n",
       "      <td>False</td>\n",
       "      <td>False</td>\n",
       "      <td>False</td>\n",
       "      <td>False</td>\n",
       "      <td>False</td>\n",
       "      <td>False</td>\n",
       "    </tr>\n",
       "    <tr>\n",
       "      <th>2</th>\n",
       "      <td>False</td>\n",
       "      <td>False</td>\n",
       "      <td>False</td>\n",
       "      <td>False</td>\n",
       "      <td>True</td>\n",
       "      <td>False</td>\n",
       "      <td>False</td>\n",
       "      <td>True</td>\n",
       "      <td>False</td>\n",
       "      <td>False</td>\n",
       "      <td>...</td>\n",
       "      <td>False</td>\n",
       "      <td>False</td>\n",
       "      <td>False</td>\n",
       "      <td>False</td>\n",
       "      <td>False</td>\n",
       "      <td>False</td>\n",
       "      <td>False</td>\n",
       "      <td>False</td>\n",
       "      <td>False</td>\n",
       "      <td>False</td>\n",
       "    </tr>\n",
       "    <tr>\n",
       "      <th>...</th>\n",
       "      <th>...</th>\n",
       "      <td>...</td>\n",
       "      <td>...</td>\n",
       "      <td>...</td>\n",
       "      <td>...</td>\n",
       "      <td>...</td>\n",
       "      <td>...</td>\n",
       "      <td>...</td>\n",
       "      <td>...</td>\n",
       "      <td>...</td>\n",
       "      <td>...</td>\n",
       "      <td>...</td>\n",
       "      <td>...</td>\n",
       "      <td>...</td>\n",
       "      <td>...</td>\n",
       "      <td>...</td>\n",
       "      <td>...</td>\n",
       "      <td>...</td>\n",
       "      <td>...</td>\n",
       "      <td>...</td>\n",
       "      <td>...</td>\n",
       "      <td>...</td>\n",
       "    </tr>\n",
       "    <tr>\n",
       "      <th>463</th>\n",
       "      <th>1</th>\n",
       "      <td>False</td>\n",
       "      <td>False</td>\n",
       "      <td>False</td>\n",
       "      <td>False</td>\n",
       "      <td>False</td>\n",
       "      <td>False</td>\n",
       "      <td>False</td>\n",
       "      <td>False</td>\n",
       "      <td>False</td>\n",
       "      <td>False</td>\n",
       "      <td>...</td>\n",
       "      <td>False</td>\n",
       "      <td>False</td>\n",
       "      <td>False</td>\n",
       "      <td>False</td>\n",
       "      <td>False</td>\n",
       "      <td>True</td>\n",
       "      <td>False</td>\n",
       "      <td>False</td>\n",
       "      <td>False</td>\n",
       "      <td>False</td>\n",
       "    </tr>\n",
       "    <tr>\n",
       "      <th>465</th>\n",
       "      <th>0</th>\n",
       "      <td>False</td>\n",
       "      <td>False</td>\n",
       "      <td>False</td>\n",
       "      <td>False</td>\n",
       "      <td>False</td>\n",
       "      <td>False</td>\n",
       "      <td>False</td>\n",
       "      <td>False</td>\n",
       "      <td>False</td>\n",
       "      <td>False</td>\n",
       "      <td>...</td>\n",
       "      <td>False</td>\n",
       "      <td>False</td>\n",
       "      <td>False</td>\n",
       "      <td>True</td>\n",
       "      <td>False</td>\n",
       "      <td>False</td>\n",
       "      <td>True</td>\n",
       "      <td>False</td>\n",
       "      <td>False</td>\n",
       "      <td>False</td>\n",
       "    </tr>\n",
       "    <tr>\n",
       "      <th>475</th>\n",
       "      <th>0</th>\n",
       "      <td>True</td>\n",
       "      <td>False</td>\n",
       "      <td>False</td>\n",
       "      <td>False</td>\n",
       "      <td>False</td>\n",
       "      <td>False</td>\n",
       "      <td>False</td>\n",
       "      <td>False</td>\n",
       "      <td>False</td>\n",
       "      <td>False</td>\n",
       "      <td>...</td>\n",
       "      <td>False</td>\n",
       "      <td>False</td>\n",
       "      <td>False</td>\n",
       "      <td>False</td>\n",
       "      <td>False</td>\n",
       "      <td>False</td>\n",
       "      <td>False</td>\n",
       "      <td>True</td>\n",
       "      <td>True</td>\n",
       "      <td>False</td>\n",
       "    </tr>\n",
       "    <tr>\n",
       "      <th>476</th>\n",
       "      <th>0</th>\n",
       "      <td>True</td>\n",
       "      <td>False</td>\n",
       "      <td>False</td>\n",
       "      <td>False</td>\n",
       "      <td>False</td>\n",
       "      <td>False</td>\n",
       "      <td>False</td>\n",
       "      <td>False</td>\n",
       "      <td>False</td>\n",
       "      <td>False</td>\n",
       "      <td>...</td>\n",
       "      <td>False</td>\n",
       "      <td>False</td>\n",
       "      <td>False</td>\n",
       "      <td>False</td>\n",
       "      <td>False</td>\n",
       "      <td>False</td>\n",
       "      <td>False</td>\n",
       "      <td>True</td>\n",
       "      <td>True</td>\n",
       "      <td>False</td>\n",
       "    </tr>\n",
       "    <tr>\n",
       "      <th>480</th>\n",
       "      <th>0</th>\n",
       "      <td>False</td>\n",
       "      <td>False</td>\n",
       "      <td>False</td>\n",
       "      <td>False</td>\n",
       "      <td>False</td>\n",
       "      <td>False</td>\n",
       "      <td>True</td>\n",
       "      <td>False</td>\n",
       "      <td>False</td>\n",
       "      <td>False</td>\n",
       "      <td>...</td>\n",
       "      <td>False</td>\n",
       "      <td>False</td>\n",
       "      <td>False</td>\n",
       "      <td>False</td>\n",
       "      <td>False</td>\n",
       "      <td>False</td>\n",
       "      <td>False</td>\n",
       "      <td>False</td>\n",
       "      <td>False</td>\n",
       "      <td>True</td>\n",
       "    </tr>\n",
       "  </tbody>\n",
       "</table>\n",
       "<p>386 rows × 386 columns</p>\n",
       "</div>"
      ],
      "text/plain": [
       "                   3      27     29                   30     31     32   \\\n",
       "field_index          0      0      0      1      2      0      0      1   \n",
       "    field_index                                                           \n",
       "3   0             True  False  False  False  False  False  False  False   \n",
       "27  0            False   True  False  False  False  False  False  False   \n",
       "29  0            False  False   True  False  False  False  False  False   \n",
       "    1            False  False  False   True  False  False  False  False   \n",
       "    2            False  False  False  False   True  False  False   True   \n",
       "...                ...    ...    ...    ...    ...    ...    ...    ...   \n",
       "463 1            False  False  False  False  False  False  False  False   \n",
       "465 0            False  False  False  False  False  False  False  False   \n",
       "475 0             True  False  False  False  False  False  False  False   \n",
       "476 0             True  False  False  False  False  False  False  False   \n",
       "480 0            False  False  False  False  False  False   True  False   \n",
       "\n",
       "                   33     34   ...    454    455    456    462    463         \\\n",
       "field_index          0      0  ...      0      0      0      0      0      1   \n",
       "    field_index                ...                                             \n",
       "3   0            False  False  ...  False  False  False  False  False  False   \n",
       "27  0            False  False  ...  False  False  False  False  False  False   \n",
       "29  0            False  False  ...  False   True  False  False  False  False   \n",
       "    1             True  False  ...  False  False  False  False  False  False   \n",
       "    2            False  False  ...  False  False  False  False  False  False   \n",
       "...                ...    ...  ...    ...    ...    ...    ...    ...    ...   \n",
       "463 1            False  False  ...  False  False  False  False  False   True   \n",
       "465 0            False  False  ...  False  False  False   True  False  False   \n",
       "475 0            False  False  ...  False  False  False  False  False  False   \n",
       "476 0            False  False  ...  False  False  False  False  False  False   \n",
       "480 0            False  False  ...  False  False  False  False  False  False   \n",
       "\n",
       "                   465    475    476    480  \n",
       "field_index          0      0      0      0  \n",
       "    field_index                              \n",
       "3   0            False   True   True  False  \n",
       "27  0            False  False  False  False  \n",
       "29  0            False  False  False  False  \n",
       "    1            False  False  False  False  \n",
       "    2            False  False  False  False  \n",
       "...                ...    ...    ...    ...  \n",
       "463 1            False  False  False  False  \n",
       "465 0             True  False  False  False  \n",
       "475 0            False   True   True  False  \n",
       "476 0            False   True   True  False  \n",
       "480 0            False  False  False   True  \n",
       "\n",
       "[386 rows x 386 columns]"
      ]
     },
     "execution_count": 154,
     "metadata": {},
     "output_type": "execute_result"
    }
   ],
   "source": [
    "mask"
   ]
  },
  {
   "cell_type": "code",
   "execution_count": 140,
   "id": "b31ba964",
   "metadata": {
    "scrolled": true
   },
   "outputs": [
    {
     "ename": "IndexError",
     "evalue": "boolean index did not match indexed array along dimension 0; dimension is 31714 but corresponding boolean dimension is 34453",
     "output_type": "error",
     "traceback": [
      "\u001b[0;31m---------------------------------------------------------------------------\u001b[0m",
      "\u001b[0;31mIndexError\u001b[0m                                Traceback (most recent call last)",
      "Input \u001b[0;32mIn [140]\u001b[0m, in \u001b[0;36m<cell line: 1>\u001b[0;34m()\u001b[0m\n\u001b[0;32m----> 1\u001b[0m \u001b[43mb\u001b[49m\u001b[43m[\u001b[49m\u001b[43mmask_flattened\u001b[49m\u001b[43m]\u001b[49m\n",
      "\u001b[0;31mIndexError\u001b[0m: boolean index did not match indexed array along dimension 0; dimension is 31714 but corresponding boolean dimension is 34453"
     ]
    }
   ],
   "source": [
    "b[mask_flattened]"
   ]
  },
  {
   "cell_type": "code",
   "execution_count": 130,
   "id": "2855ec05",
   "metadata": {},
   "outputs": [
    {
     "data": {
      "text/html": [
       "<div>\n",
       "<style scoped>\n",
       "    .dataframe tbody tr th:only-of-type {\n",
       "        vertical-align: middle;\n",
       "    }\n",
       "\n",
       "    .dataframe tbody tr th {\n",
       "        vertical-align: top;\n",
       "    }\n",
       "\n",
       "    .dataframe thead tr th {\n",
       "        text-align: left;\n",
       "    }\n",
       "\n",
       "    .dataframe thead tr:last-of-type th {\n",
       "        text-align: right;\n",
       "    }\n",
       "</style>\n",
       "<table border=\"1\" class=\"dataframe\">\n",
       "  <thead>\n",
       "    <tr>\n",
       "      <th></th>\n",
       "      <th></th>\n",
       "      <th>3</th>\n",
       "      <th>27</th>\n",
       "      <th colspan=\"3\" halign=\"left\">29</th>\n",
       "      <th>30</th>\n",
       "      <th>31</th>\n",
       "      <th>32</th>\n",
       "      <th>33</th>\n",
       "      <th>34</th>\n",
       "      <th>...</th>\n",
       "      <th>454</th>\n",
       "      <th>455</th>\n",
       "      <th>456</th>\n",
       "      <th>462</th>\n",
       "      <th colspan=\"2\" halign=\"left\">463</th>\n",
       "      <th>465</th>\n",
       "      <th>475</th>\n",
       "      <th>476</th>\n",
       "      <th>480</th>\n",
       "    </tr>\n",
       "    <tr>\n",
       "      <th></th>\n",
       "      <th>field_index</th>\n",
       "      <th>0</th>\n",
       "      <th>0</th>\n",
       "      <th>0</th>\n",
       "      <th>1</th>\n",
       "      <th>2</th>\n",
       "      <th>0</th>\n",
       "      <th>0</th>\n",
       "      <th>1</th>\n",
       "      <th>0</th>\n",
       "      <th>0</th>\n",
       "      <th>...</th>\n",
       "      <th>0</th>\n",
       "      <th>0</th>\n",
       "      <th>0</th>\n",
       "      <th>0</th>\n",
       "      <th>0</th>\n",
       "      <th>1</th>\n",
       "      <th>0</th>\n",
       "      <th>0</th>\n",
       "      <th>0</th>\n",
       "      <th>0</th>\n",
       "    </tr>\n",
       "    <tr>\n",
       "      <th></th>\n",
       "      <th>field_index</th>\n",
       "      <th></th>\n",
       "      <th></th>\n",
       "      <th></th>\n",
       "      <th></th>\n",
       "      <th></th>\n",
       "      <th></th>\n",
       "      <th></th>\n",
       "      <th></th>\n",
       "      <th></th>\n",
       "      <th></th>\n",
       "      <th></th>\n",
       "      <th></th>\n",
       "      <th></th>\n",
       "      <th></th>\n",
       "      <th></th>\n",
       "      <th></th>\n",
       "      <th></th>\n",
       "      <th></th>\n",
       "      <th></th>\n",
       "      <th></th>\n",
       "      <th></th>\n",
       "    </tr>\n",
       "  </thead>\n",
       "  <tbody>\n",
       "    <tr>\n",
       "      <th>3</th>\n",
       "      <th>0</th>\n",
       "      <td>True</td>\n",
       "      <td>False</td>\n",
       "      <td>False</td>\n",
       "      <td>False</td>\n",
       "      <td>False</td>\n",
       "      <td>False</td>\n",
       "      <td>False</td>\n",
       "      <td>False</td>\n",
       "      <td>False</td>\n",
       "      <td>False</td>\n",
       "      <td>...</td>\n",
       "      <td>False</td>\n",
       "      <td>False</td>\n",
       "      <td>False</td>\n",
       "      <td>False</td>\n",
       "      <td>False</td>\n",
       "      <td>False</td>\n",
       "      <td>False</td>\n",
       "      <td>True</td>\n",
       "      <td>True</td>\n",
       "      <td>False</td>\n",
       "    </tr>\n",
       "    <tr>\n",
       "      <th>27</th>\n",
       "      <th>0</th>\n",
       "      <td>False</td>\n",
       "      <td>True</td>\n",
       "      <td>False</td>\n",
       "      <td>False</td>\n",
       "      <td>False</td>\n",
       "      <td>False</td>\n",
       "      <td>False</td>\n",
       "      <td>False</td>\n",
       "      <td>False</td>\n",
       "      <td>False</td>\n",
       "      <td>...</td>\n",
       "      <td>False</td>\n",
       "      <td>False</td>\n",
       "      <td>False</td>\n",
       "      <td>False</td>\n",
       "      <td>False</td>\n",
       "      <td>False</td>\n",
       "      <td>False</td>\n",
       "      <td>False</td>\n",
       "      <td>False</td>\n",
       "      <td>False</td>\n",
       "    </tr>\n",
       "    <tr>\n",
       "      <th rowspan=\"3\" valign=\"top\">29</th>\n",
       "      <th>0</th>\n",
       "      <td>False</td>\n",
       "      <td>False</td>\n",
       "      <td>True</td>\n",
       "      <td>False</td>\n",
       "      <td>False</td>\n",
       "      <td>False</td>\n",
       "      <td>False</td>\n",
       "      <td>False</td>\n",
       "      <td>False</td>\n",
       "      <td>False</td>\n",
       "      <td>...</td>\n",
       "      <td>False</td>\n",
       "      <td>True</td>\n",
       "      <td>False</td>\n",
       "      <td>False</td>\n",
       "      <td>False</td>\n",
       "      <td>False</td>\n",
       "      <td>False</td>\n",
       "      <td>False</td>\n",
       "      <td>False</td>\n",
       "      <td>False</td>\n",
       "    </tr>\n",
       "    <tr>\n",
       "      <th>1</th>\n",
       "      <td>False</td>\n",
       "      <td>False</td>\n",
       "      <td>False</td>\n",
       "      <td>True</td>\n",
       "      <td>False</td>\n",
       "      <td>False</td>\n",
       "      <td>False</td>\n",
       "      <td>False</td>\n",
       "      <td>True</td>\n",
       "      <td>False</td>\n",
       "      <td>...</td>\n",
       "      <td>False</td>\n",
       "      <td>False</td>\n",
       "      <td>False</td>\n",
       "      <td>False</td>\n",
       "      <td>False</td>\n",
       "      <td>False</td>\n",
       "      <td>False</td>\n",
       "      <td>False</td>\n",
       "      <td>False</td>\n",
       "      <td>False</td>\n",
       "    </tr>\n",
       "    <tr>\n",
       "      <th>2</th>\n",
       "      <td>False</td>\n",
       "      <td>False</td>\n",
       "      <td>False</td>\n",
       "      <td>False</td>\n",
       "      <td>True</td>\n",
       "      <td>False</td>\n",
       "      <td>False</td>\n",
       "      <td>True</td>\n",
       "      <td>False</td>\n",
       "      <td>False</td>\n",
       "      <td>...</td>\n",
       "      <td>False</td>\n",
       "      <td>False</td>\n",
       "      <td>False</td>\n",
       "      <td>False</td>\n",
       "      <td>False</td>\n",
       "      <td>False</td>\n",
       "      <td>False</td>\n",
       "      <td>False</td>\n",
       "      <td>False</td>\n",
       "      <td>False</td>\n",
       "    </tr>\n",
       "    <tr>\n",
       "      <th>...</th>\n",
       "      <th>...</th>\n",
       "      <td>...</td>\n",
       "      <td>...</td>\n",
       "      <td>...</td>\n",
       "      <td>...</td>\n",
       "      <td>...</td>\n",
       "      <td>...</td>\n",
       "      <td>...</td>\n",
       "      <td>...</td>\n",
       "      <td>...</td>\n",
       "      <td>...</td>\n",
       "      <td>...</td>\n",
       "      <td>...</td>\n",
       "      <td>...</td>\n",
       "      <td>...</td>\n",
       "      <td>...</td>\n",
       "      <td>...</td>\n",
       "      <td>...</td>\n",
       "      <td>...</td>\n",
       "      <td>...</td>\n",
       "      <td>...</td>\n",
       "      <td>...</td>\n",
       "    </tr>\n",
       "    <tr>\n",
       "      <th>463</th>\n",
       "      <th>1</th>\n",
       "      <td>False</td>\n",
       "      <td>False</td>\n",
       "      <td>False</td>\n",
       "      <td>False</td>\n",
       "      <td>False</td>\n",
       "      <td>False</td>\n",
       "      <td>False</td>\n",
       "      <td>False</td>\n",
       "      <td>False</td>\n",
       "      <td>False</td>\n",
       "      <td>...</td>\n",
       "      <td>False</td>\n",
       "      <td>False</td>\n",
       "      <td>False</td>\n",
       "      <td>False</td>\n",
       "      <td>False</td>\n",
       "      <td>True</td>\n",
       "      <td>False</td>\n",
       "      <td>False</td>\n",
       "      <td>False</td>\n",
       "      <td>False</td>\n",
       "    </tr>\n",
       "    <tr>\n",
       "      <th>465</th>\n",
       "      <th>0</th>\n",
       "      <td>False</td>\n",
       "      <td>False</td>\n",
       "      <td>False</td>\n",
       "      <td>False</td>\n",
       "      <td>False</td>\n",
       "      <td>False</td>\n",
       "      <td>False</td>\n",
       "      <td>False</td>\n",
       "      <td>False</td>\n",
       "      <td>False</td>\n",
       "      <td>...</td>\n",
       "      <td>False</td>\n",
       "      <td>False</td>\n",
       "      <td>False</td>\n",
       "      <td>True</td>\n",
       "      <td>False</td>\n",
       "      <td>False</td>\n",
       "      <td>True</td>\n",
       "      <td>False</td>\n",
       "      <td>False</td>\n",
       "      <td>False</td>\n",
       "    </tr>\n",
       "    <tr>\n",
       "      <th>475</th>\n",
       "      <th>0</th>\n",
       "      <td>True</td>\n",
       "      <td>False</td>\n",
       "      <td>False</td>\n",
       "      <td>False</td>\n",
       "      <td>False</td>\n",
       "      <td>False</td>\n",
       "      <td>False</td>\n",
       "      <td>False</td>\n",
       "      <td>False</td>\n",
       "      <td>False</td>\n",
       "      <td>...</td>\n",
       "      <td>False</td>\n",
       "      <td>False</td>\n",
       "      <td>False</td>\n",
       "      <td>False</td>\n",
       "      <td>False</td>\n",
       "      <td>False</td>\n",
       "      <td>False</td>\n",
       "      <td>True</td>\n",
       "      <td>True</td>\n",
       "      <td>False</td>\n",
       "    </tr>\n",
       "    <tr>\n",
       "      <th>476</th>\n",
       "      <th>0</th>\n",
       "      <td>True</td>\n",
       "      <td>False</td>\n",
       "      <td>False</td>\n",
       "      <td>False</td>\n",
       "      <td>False</td>\n",
       "      <td>False</td>\n",
       "      <td>False</td>\n",
       "      <td>False</td>\n",
       "      <td>False</td>\n",
       "      <td>False</td>\n",
       "      <td>...</td>\n",
       "      <td>False</td>\n",
       "      <td>False</td>\n",
       "      <td>False</td>\n",
       "      <td>False</td>\n",
       "      <td>False</td>\n",
       "      <td>False</td>\n",
       "      <td>False</td>\n",
       "      <td>True</td>\n",
       "      <td>True</td>\n",
       "      <td>False</td>\n",
       "    </tr>\n",
       "    <tr>\n",
       "      <th>480</th>\n",
       "      <th>0</th>\n",
       "      <td>False</td>\n",
       "      <td>False</td>\n",
       "      <td>False</td>\n",
       "      <td>False</td>\n",
       "      <td>False</td>\n",
       "      <td>False</td>\n",
       "      <td>True</td>\n",
       "      <td>False</td>\n",
       "      <td>False</td>\n",
       "      <td>False</td>\n",
       "      <td>...</td>\n",
       "      <td>False</td>\n",
       "      <td>False</td>\n",
       "      <td>False</td>\n",
       "      <td>False</td>\n",
       "      <td>False</td>\n",
       "      <td>False</td>\n",
       "      <td>False</td>\n",
       "      <td>False</td>\n",
       "      <td>False</td>\n",
       "      <td>True</td>\n",
       "    </tr>\n",
       "  </tbody>\n",
       "</table>\n",
       "<p>386 rows × 386 columns</p>\n",
       "</div>"
      ],
      "text/plain": [
       "                   3      27     29                   30     31     32   \\\n",
       "field_index          0      0      0      1      2      0      0      1   \n",
       "    field_index                                                           \n",
       "3   0             True  False  False  False  False  False  False  False   \n",
       "27  0            False   True  False  False  False  False  False  False   \n",
       "29  0            False  False   True  False  False  False  False  False   \n",
       "    1            False  False  False   True  False  False  False  False   \n",
       "    2            False  False  False  False   True  False  False   True   \n",
       "...                ...    ...    ...    ...    ...    ...    ...    ...   \n",
       "463 1            False  False  False  False  False  False  False  False   \n",
       "465 0            False  False  False  False  False  False  False  False   \n",
       "475 0             True  False  False  False  False  False  False  False   \n",
       "476 0             True  False  False  False  False  False  False  False   \n",
       "480 0            False  False  False  False  False  False   True  False   \n",
       "\n",
       "                   33     34   ...    454    455    456    462    463         \\\n",
       "field_index          0      0  ...      0      0      0      0      0      1   \n",
       "    field_index                ...                                             \n",
       "3   0            False  False  ...  False  False  False  False  False  False   \n",
       "27  0            False  False  ...  False  False  False  False  False  False   \n",
       "29  0            False  False  ...  False   True  False  False  False  False   \n",
       "    1             True  False  ...  False  False  False  False  False  False   \n",
       "    2            False  False  ...  False  False  False  False  False  False   \n",
       "...                ...    ...  ...    ...    ...    ...    ...    ...    ...   \n",
       "463 1            False  False  ...  False  False  False  False  False   True   \n",
       "465 0            False  False  ...  False  False  False   True  False  False   \n",
       "475 0            False  False  ...  False  False  False  False  False  False   \n",
       "476 0            False  False  ...  False  False  False  False  False  False   \n",
       "480 0            False  False  ...  False  False  False  False  False  False   \n",
       "\n",
       "                   465    475    476    480  \n",
       "field_index          0      0      0      0  \n",
       "    field_index                              \n",
       "3   0            False   True   True  False  \n",
       "27  0            False  False  False  False  \n",
       "29  0            False  False  False  False  \n",
       "    1            False  False  False  False  \n",
       "    2            False  False  False  False  \n",
       "...                ...    ...    ...    ...  \n",
       "463 1            False  False  False  False  \n",
       "465 0             True  False  False  False  \n",
       "475 0            False   True   True  False  \n",
       "476 0            False   True   True  False  \n",
       "480 0            False  False  False   True  \n",
       "\n",
       "[386 rows x 386 columns]"
      ]
     },
     "execution_count": 130,
     "metadata": {},
     "output_type": "execute_result"
    }
   ],
   "source": [
    "mask"
   ]
  },
  {
   "cell_type": "code",
   "execution_count": 128,
   "id": "f215f199",
   "metadata": {},
   "outputs": [
    {
     "name": "stderr",
     "output_type": "stream",
     "text": [
      "/tmp/ipykernel_46800/54878470.py:5: PerformanceWarning: indexing past lexsort depth may impact performance.\n",
      "  changes_df = switch_detection_res_allsess[detection]['changes_df'].loc[one_ind]\n"
     ]
    }
   ],
   "source": [
    "mask = dist_thresh_mask\n",
    "# one_ind = ('e13_26m1','e13_26m1_210913',0,0,sw_type,'switch_magnitude',0.4)\n",
    "one_ind =(ani,sess,task_ind,trial_type,sw_type,'switch_magnitude',0.4)\n",
    "\n",
    "changes_df = switch_detection_res_allsess[detection]['changes_df'].loc[one_ind]\n",
    "onoff_outer_reduced_flatten_d_data,neurons_left = get_onoff_outer_reduced_flatten(changes_df.dropna(axis=1),mask=mask)\n",
    "a=onoff_outer_reduced_flatten_d_data[onoff]\n",
    "\n",
    "# b = sim_df_l[1].loc[neurons_left,neurons_left].values[upper_triu_inds]\n",
    "# b = sim_df_l[1].fillna(0).loc[neurons_left,neurons_left].values[upper_triu_inds]\n",
    "b_l = [reduce_get_triu_flatten(sim_df.fillna(0).loc[neurons_left,neurons_left],mask=mask)[0] for sim_df in sim_df_l]\n",
    "\n",
    "\n",
    "r_null_l = []\n",
    "r_data_l = []\n",
    "for b in b_l:\n",
    "    r_null=np.array([scipy.stats.spearmanr(b,oorfd) for oorfd in onoff_outer_reduced_flatten_d_1])\n",
    "    r_data = scipy.stats.spearmanr(b,a)\n",
    "    \n",
    "    r_null_l.append(r_null)\n",
    "    r_data_l.append(r_data)"
   ]
  },
  {
   "cell_type": "code",
   "execution_count": 129,
   "id": "3f6eae04",
   "metadata": {},
   "outputs": [
    {
     "data": {
      "image/png": "[encoded data removed]",
      "text/plain": [
       "<Figure size 432x288 with 1 Axes>"
      ]
     },
     "metadata": {
      "needs_background": "light"
     },
     "output_type": "display_data"
    },
    {
     "data": {
      "image/png": "[encoded data removed]",
      "text/plain": [
       "<Figure size 432x288 with 1 Axes>"
      ]
     },
     "metadata": {
      "needs_background": "light"
     },
     "output_type": "display_data"
    },
    {
     "data": {
      "image/png": "[encoded data removed]",
      "text/plain": [
       "<Figure size 432x288 with 1 Axes>"
      ]
     },
     "metadata": {
      "needs_background": "light"
     },
     "output_type": "display_data"
    }
   ],
   "source": [
    "for r_null,r_data in zip(r_null_l,r_data_l):\n",
    "    ph.plot_shuffle_data_dist_with_thresh(r_null[:,0],r_data[0],alpha=0.05,fig=None,ax=None,lw=4)\n"
   ]
  },
  {
   "cell_type": "code",
   "execution_count": null,
   "id": "e5db5b23",
   "metadata": {},
   "outputs": [],
   "source": []
  },
  {
   "cell_type": "code",
   "execution_count": 106,
   "id": "a56cb103",
   "metadata": {
    "scrolled": true
   },
   "outputs": [
    {
     "data": {
      "text/plain": [
       "array([False, False, False, ..., False, False, False])"
      ]
     },
     "execution_count": 106,
     "metadata": {},
     "output_type": "execute_result"
    }
   ],
   "source": [
    "get_onoff_outer_reduced_flatten(changes_df.dropna(axis=1))[1]"
   ]
  },
  {
   "cell_type": "code",
   "execution_count": null,
   "id": "ac06bae6",
   "metadata": {},
   "outputs": [],
   "source": []
  },
  {
   "cell_type": "code",
   "execution_count": 53,
   "id": "0be79e76",
   "metadata": {},
   "outputs": [],
   "source": [
    "outer_reduced_one = onoff_outer_d[0.3][1].groupby(level=0).any().groupby(level=0,axis=1).any()"
   ]
  },
  {
   "cell_type": "code",
   "execution_count": 66,
   "id": "28db9b4a",
   "metadata": {},
   "outputs": [],
   "source": [
    "neurons_left = outer_reduced_one.index"
   ]
  },
  {
   "cell_type": "code",
   "execution_count": 71,
   "id": "dfd0de9a",
   "metadata": {},
   "outputs": [],
   "source": [
    "upper_triu_inds = np.triu_indices(neurons_left.shape[0],1)"
   ]
  },
  {
   "cell_type": "code",
   "execution_count": 74,
   "id": "873f2daa",
   "metadata": {},
   "outputs": [],
   "source": [
    "a=outer_reduced_one.values[upper_triu_inds]"
   ]
  },
  {
   "cell_type": "code",
   "execution_count": 75,
   "id": "485c98de",
   "metadata": {},
   "outputs": [],
   "source": [
    "b=sim_df_l[0].loc[neurons_left,neurons_left].values[upper_triu_inds]"
   ]
  },
  {
   "cell_type": "code",
   "execution_count": 77,
   "id": "7efe7b98",
   "metadata": {},
   "outputs": [
    {
     "data": {
      "text/plain": [
       "SpearmanrResult(correlation=0.013912319827687855, pvalue=0.009812454823304858)"
      ]
     },
     "execution_count": 77,
     "metadata": {},
     "output_type": "execute_result"
    }
   ],
   "source": [
    "scipy.stats.spearmanr(a,b)"
   ]
  },
  {
   "cell_type": "code",
   "execution_count": 85,
   "id": "756f1f17",
   "metadata": {},
   "outputs": [
    {
     "data": {
      "text/plain": [
       "SpearmanrResult(correlation=-0.002545550393954663, pvalue=0.6365867466260751)"
      ]
     },
     "execution_count": 85,
     "metadata": {},
     "output_type": "execute_result"
    }
   ],
   "source": [
    "scipy.stats.spearmanr(np.random.permutation(a),b)"
   ]
  },
  {
   "cell_type": "code",
   "execution_count": 86,
   "id": "7426d736",
   "metadata": {},
   "outputs": [
    {
     "data": {
      "text/plain": [
       "array([False, False, False, ..., False, False, False])"
      ]
     },
     "execution_count": 86,
     "metadata": {},
     "output_type": "execute_result"
    }
   ],
   "source": [
    "a"
   ]
  },
  {
   "cell_type": "code",
   "execution_count": null,
   "id": "ebb984c0",
   "metadata": {},
   "outputs": [],
   "source": []
  },
  {
   "cell_type": "code",
   "execution_count": 35,
   "id": "d27b9161",
   "metadata": {},
   "outputs": [],
   "source": [
    "from scipy.spatial.distance import pdist, dice, squareform"
   ]
  },
  {
   "cell_type": "code",
   "execution_count": 37,
   "id": "3394f3a0",
   "metadata": {},
   "outputs": [
    {
     "data": {
      "text/plain": [
       "0.9092702169625246"
      ]
     },
     "execution_count": 37,
     "metadata": {},
     "output_type": "execute_result"
    }
   ],
   "source": [
    "dice(np.triu(onoff_outer_d['raw'][1],1).flatten(),np.triu(onoff_outer_d[0.3][1],1).flatten())"
   ]
  },
  {
   "cell_type": "code",
   "execution_count": null,
   "id": "ccc6e615",
   "metadata": {},
   "outputs": [],
   "source": []
  },
  {
   "cell_type": "code",
   "execution_count": 12,
   "id": "8b934539",
   "metadata": {},
   "outputs": [
    {
     "data": {
      "text/html": [
       "<div>\n",
       "<style scoped>\n",
       "    .dataframe tbody tr th:only-of-type {\n",
       "        vertical-align: middle;\n",
       "    }\n",
       "\n",
       "    .dataframe tbody tr th {\n",
       "        vertical-align: top;\n",
       "    }\n",
       "\n",
       "    .dataframe thead th {\n",
       "        text-align: right;\n",
       "    }\n",
       "</style>\n",
       "<table border=\"1\" class=\"dataframe\">\n",
       "  <thead>\n",
       "    <tr style=\"text-align: right;\">\n",
       "      <th></th>\n",
       "      <th></th>\n",
       "      <th>0</th>\n",
       "      <th>1</th>\n",
       "      <th>2</th>\n",
       "      <th>3</th>\n",
       "      <th>4</th>\n",
       "      <th>5</th>\n",
       "      <th>6</th>\n",
       "      <th>7</th>\n",
       "      <th>8</th>\n",
       "      <th>9</th>\n",
       "      <th>...</th>\n",
       "      <th>27</th>\n",
       "      <th>28</th>\n",
       "      <th>29</th>\n",
       "      <th>30</th>\n",
       "      <th>31</th>\n",
       "      <th>32</th>\n",
       "      <th>33</th>\n",
       "      <th>34</th>\n",
       "      <th>35</th>\n",
       "      <th>36</th>\n",
       "    </tr>\n",
       "  </thead>\n",
       "  <tbody>\n",
       "    <tr>\n",
       "      <th>3</th>\n",
       "      <th>0</th>\n",
       "      <td>0</td>\n",
       "      <td>1</td>\n",
       "      <td>0</td>\n",
       "      <td>0</td>\n",
       "      <td>0</td>\n",
       "      <td>0</td>\n",
       "      <td>0.0</td>\n",
       "      <td>0.0</td>\n",
       "      <td>0.0</td>\n",
       "      <td>0.0</td>\n",
       "      <td>...</td>\n",
       "      <td>0.0</td>\n",
       "      <td>0.0</td>\n",
       "      <td>0.0</td>\n",
       "      <td>0.0</td>\n",
       "      <td>0.0</td>\n",
       "      <td>0.0</td>\n",
       "      <td>NaN</td>\n",
       "      <td>NaN</td>\n",
       "      <td>NaN</td>\n",
       "      <td>NaN</td>\n",
       "    </tr>\n",
       "    <tr>\n",
       "      <th>27</th>\n",
       "      <th>0</th>\n",
       "      <td>0</td>\n",
       "      <td>0</td>\n",
       "      <td>0</td>\n",
       "      <td>0</td>\n",
       "      <td>0</td>\n",
       "      <td>0</td>\n",
       "      <td>0.0</td>\n",
       "      <td>0.0</td>\n",
       "      <td>0.0</td>\n",
       "      <td>0.0</td>\n",
       "      <td>...</td>\n",
       "      <td>0.0</td>\n",
       "      <td>0.0</td>\n",
       "      <td>0.0</td>\n",
       "      <td>0.0</td>\n",
       "      <td>0.0</td>\n",
       "      <td>0.0</td>\n",
       "      <td>NaN</td>\n",
       "      <td>NaN</td>\n",
       "      <td>NaN</td>\n",
       "      <td>NaN</td>\n",
       "    </tr>\n",
       "    <tr>\n",
       "      <th rowspan=\"3\" valign=\"top\">29</th>\n",
       "      <th>0</th>\n",
       "      <td>0</td>\n",
       "      <td>0</td>\n",
       "      <td>0</td>\n",
       "      <td>0</td>\n",
       "      <td>0</td>\n",
       "      <td>1</td>\n",
       "      <td>0.0</td>\n",
       "      <td>0.0</td>\n",
       "      <td>0.0</td>\n",
       "      <td>0.0</td>\n",
       "      <td>...</td>\n",
       "      <td>0.0</td>\n",
       "      <td>0.0</td>\n",
       "      <td>0.0</td>\n",
       "      <td>0.0</td>\n",
       "      <td>0.0</td>\n",
       "      <td>0.0</td>\n",
       "      <td>NaN</td>\n",
       "      <td>NaN</td>\n",
       "      <td>NaN</td>\n",
       "      <td>NaN</td>\n",
       "    </tr>\n",
       "    <tr>\n",
       "      <th>1</th>\n",
       "      <td>0</td>\n",
       "      <td>0</td>\n",
       "      <td>1</td>\n",
       "      <td>0</td>\n",
       "      <td>-1</td>\n",
       "      <td>0</td>\n",
       "      <td>0.0</td>\n",
       "      <td>0.0</td>\n",
       "      <td>0.0</td>\n",
       "      <td>0.0</td>\n",
       "      <td>...</td>\n",
       "      <td>0.0</td>\n",
       "      <td>0.0</td>\n",
       "      <td>0.0</td>\n",
       "      <td>0.0</td>\n",
       "      <td>0.0</td>\n",
       "      <td>0.0</td>\n",
       "      <td>NaN</td>\n",
       "      <td>NaN</td>\n",
       "      <td>NaN</td>\n",
       "      <td>NaN</td>\n",
       "    </tr>\n",
       "    <tr>\n",
       "      <th>2</th>\n",
       "      <td>0</td>\n",
       "      <td>1</td>\n",
       "      <td>0</td>\n",
       "      <td>0</td>\n",
       "      <td>0</td>\n",
       "      <td>0</td>\n",
       "      <td>0.0</td>\n",
       "      <td>0.0</td>\n",
       "      <td>0.0</td>\n",
       "      <td>0.0</td>\n",
       "      <td>...</td>\n",
       "      <td>0.0</td>\n",
       "      <td>0.0</td>\n",
       "      <td>0.0</td>\n",
       "      <td>0.0</td>\n",
       "      <td>0.0</td>\n",
       "      <td>0.0</td>\n",
       "      <td>NaN</td>\n",
       "      <td>NaN</td>\n",
       "      <td>NaN</td>\n",
       "      <td>NaN</td>\n",
       "    </tr>\n",
       "    <tr>\n",
       "      <th>...</th>\n",
       "      <th>...</th>\n",
       "      <td>...</td>\n",
       "      <td>...</td>\n",
       "      <td>...</td>\n",
       "      <td>...</td>\n",
       "      <td>...</td>\n",
       "      <td>...</td>\n",
       "      <td>...</td>\n",
       "      <td>...</td>\n",
       "      <td>...</td>\n",
       "      <td>...</td>\n",
       "      <td>...</td>\n",
       "      <td>...</td>\n",
       "      <td>...</td>\n",
       "      <td>...</td>\n",
       "      <td>...</td>\n",
       "      <td>...</td>\n",
       "      <td>...</td>\n",
       "      <td>...</td>\n",
       "      <td>...</td>\n",
       "      <td>...</td>\n",
       "      <td>...</td>\n",
       "    </tr>\n",
       "    <tr>\n",
       "      <th>463</th>\n",
       "      <th>1</th>\n",
       "      <td>0</td>\n",
       "      <td>-1</td>\n",
       "      <td>0</td>\n",
       "      <td>-1</td>\n",
       "      <td>1</td>\n",
       "      <td>0</td>\n",
       "      <td>0.0</td>\n",
       "      <td>0.0</td>\n",
       "      <td>0.0</td>\n",
       "      <td>0.0</td>\n",
       "      <td>...</td>\n",
       "      <td>0.0</td>\n",
       "      <td>0.0</td>\n",
       "      <td>0.0</td>\n",
       "      <td>-1.0</td>\n",
       "      <td>0.0</td>\n",
       "      <td>1.0</td>\n",
       "      <td>NaN</td>\n",
       "      <td>NaN</td>\n",
       "      <td>NaN</td>\n",
       "      <td>NaN</td>\n",
       "    </tr>\n",
       "    <tr>\n",
       "      <th>465</th>\n",
       "      <th>0</th>\n",
       "      <td>0</td>\n",
       "      <td>0</td>\n",
       "      <td>0</td>\n",
       "      <td>0</td>\n",
       "      <td>0</td>\n",
       "      <td>0</td>\n",
       "      <td>0.0</td>\n",
       "      <td>0.0</td>\n",
       "      <td>0.0</td>\n",
       "      <td>0.0</td>\n",
       "      <td>...</td>\n",
       "      <td>0.0</td>\n",
       "      <td>0.0</td>\n",
       "      <td>0.0</td>\n",
       "      <td>0.0</td>\n",
       "      <td>1.0</td>\n",
       "      <td>-1.0</td>\n",
       "      <td>NaN</td>\n",
       "      <td>NaN</td>\n",
       "      <td>NaN</td>\n",
       "      <td>NaN</td>\n",
       "    </tr>\n",
       "    <tr>\n",
       "      <th>475</th>\n",
       "      <th>0</th>\n",
       "      <td>0</td>\n",
       "      <td>-1</td>\n",
       "      <td>0</td>\n",
       "      <td>0</td>\n",
       "      <td>0</td>\n",
       "      <td>0</td>\n",
       "      <td>0.0</td>\n",
       "      <td>0.0</td>\n",
       "      <td>0.0</td>\n",
       "      <td>0.0</td>\n",
       "      <td>...</td>\n",
       "      <td>0.0</td>\n",
       "      <td>0.0</td>\n",
       "      <td>0.0</td>\n",
       "      <td>0.0</td>\n",
       "      <td>0.0</td>\n",
       "      <td>0.0</td>\n",
       "      <td>NaN</td>\n",
       "      <td>NaN</td>\n",
       "      <td>NaN</td>\n",
       "      <td>NaN</td>\n",
       "    </tr>\n",
       "    <tr>\n",
       "      <th>476</th>\n",
       "      <th>0</th>\n",
       "      <td>0</td>\n",
       "      <td>-1</td>\n",
       "      <td>0</td>\n",
       "      <td>0</td>\n",
       "      <td>0</td>\n",
       "      <td>0</td>\n",
       "      <td>0.0</td>\n",
       "      <td>0.0</td>\n",
       "      <td>0.0</td>\n",
       "      <td>0.0</td>\n",
       "      <td>...</td>\n",
       "      <td>0.0</td>\n",
       "      <td>0.0</td>\n",
       "      <td>0.0</td>\n",
       "      <td>0.0</td>\n",
       "      <td>0.0</td>\n",
       "      <td>0.0</td>\n",
       "      <td>NaN</td>\n",
       "      <td>NaN</td>\n",
       "      <td>NaN</td>\n",
       "      <td>NaN</td>\n",
       "    </tr>\n",
       "    <tr>\n",
       "      <th>480</th>\n",
       "      <th>0</th>\n",
       "      <td>0</td>\n",
       "      <td>0</td>\n",
       "      <td>-1</td>\n",
       "      <td>0</td>\n",
       "      <td>0</td>\n",
       "      <td>0</td>\n",
       "      <td>0.0</td>\n",
       "      <td>0.0</td>\n",
       "      <td>0.0</td>\n",
       "      <td>0.0</td>\n",
       "      <td>...</td>\n",
       "      <td>0.0</td>\n",
       "      <td>0.0</td>\n",
       "      <td>1.0</td>\n",
       "      <td>0.0</td>\n",
       "      <td>0.0</td>\n",
       "      <td>0.0</td>\n",
       "      <td>NaN</td>\n",
       "      <td>NaN</td>\n",
       "      <td>NaN</td>\n",
       "      <td>NaN</td>\n",
       "    </tr>\n",
       "  </tbody>\n",
       "</table>\n",
       "<p>386 rows × 37 columns</p>\n",
       "</div>"
      ],
      "text/plain": [
       "       0   1   2   3   4   5    6    7    8    9   ...   27   28   29   30  \\\n",
       "3   0   0   1   0   0   0   0  0.0  0.0  0.0  0.0  ...  0.0  0.0  0.0  0.0   \n",
       "27  0   0   0   0   0   0   0  0.0  0.0  0.0  0.0  ...  0.0  0.0  0.0  0.0   \n",
       "29  0   0   0   0   0   0   1  0.0  0.0  0.0  0.0  ...  0.0  0.0  0.0  0.0   \n",
       "    1   0   0   1   0  -1   0  0.0  0.0  0.0  0.0  ...  0.0  0.0  0.0  0.0   \n",
       "    2   0   1   0   0   0   0  0.0  0.0  0.0  0.0  ...  0.0  0.0  0.0  0.0   \n",
       "...    ..  ..  ..  ..  ..  ..  ...  ...  ...  ...  ...  ...  ...  ...  ...   \n",
       "463 1   0  -1   0  -1   1   0  0.0  0.0  0.0  0.0  ...  0.0  0.0  0.0 -1.0   \n",
       "465 0   0   0   0   0   0   0  0.0  0.0  0.0  0.0  ...  0.0  0.0  0.0  0.0   \n",
       "475 0   0  -1   0   0   0   0  0.0  0.0  0.0  0.0  ...  0.0  0.0  0.0  0.0   \n",
       "476 0   0  -1   0   0   0   0  0.0  0.0  0.0  0.0  ...  0.0  0.0  0.0  0.0   \n",
       "480 0   0   0  -1   0   0   0  0.0  0.0  0.0  0.0  ...  0.0  0.0  1.0  0.0   \n",
       "\n",
       "        31   32  33  34  35  36  \n",
       "3   0  0.0  0.0 NaN NaN NaN NaN  \n",
       "27  0  0.0  0.0 NaN NaN NaN NaN  \n",
       "29  0  0.0  0.0 NaN NaN NaN NaN  \n",
       "    1  0.0  0.0 NaN NaN NaN NaN  \n",
       "    2  0.0  0.0 NaN NaN NaN NaN  \n",
       "...    ...  ...  ..  ..  ..  ..  \n",
       "463 1  0.0  1.0 NaN NaN NaN NaN  \n",
       "465 0  1.0 -1.0 NaN NaN NaN NaN  \n",
       "475 0  0.0  0.0 NaN NaN NaN NaN  \n",
       "476 0  0.0  0.0 NaN NaN NaN NaN  \n",
       "480 0  0.0  0.0 NaN NaN NaN NaN  \n",
       "\n",
       "[386 rows x 37 columns]"
      ]
     },
     "execution_count": 12,
     "metadata": {},
     "output_type": "execute_result"
    }
   ],
   "source": [
    "changes_df"
   ]
  },
  {
   "cell_type": "code",
   "execution_count": 21,
   "id": "14e36805",
   "metadata": {},
   "outputs": [
    {
     "data": {
      "text/plain": [
       "3      6\n",
       "29     5\n",
       "35     2\n",
       "45     3\n",
       "46     6\n",
       "57     1\n",
       "120    6\n",
       "140    6\n",
       "169    4\n",
       "176    7\n",
       "177    3\n",
       "186    1\n",
       "208    1\n",
       "217    1\n",
       "227    5\n",
       "231    7\n",
       "233    1\n",
       "245    3\n",
       "262    6\n",
       "265    1\n",
       "268    6\n",
       "269    6\n",
       "284    3\n",
       "290    6\n",
       "301    6\n",
       "313    7\n",
       "427    2\n",
       "dtype: int64"
      ]
     },
     "execution_count": 21,
     "metadata": {},
     "output_type": "execute_result"
    }
   ],
   "source": [
    "shankid = pd.Series(cell_metrics['shankID'].astype(int),index=cell_metrics['UID'].astype(int))"
   ]
  },
  {
   "cell_type": "code",
   "execution_count": 28,
   "id": "39b95fb5",
   "metadata": {},
   "outputs": [],
   "source": [
    "all_place_cells = np.array([x[0] for x in changes_df.index])"
   ]
  },
  {
   "cell_type": "code",
   "execution_count": 30,
   "id": "8e0c300e",
   "metadata": {},
   "outputs": [
    {
     "data": {
      "text/plain": [
       "(array([41., 51., 60.,  0., 44., 49.,  0., 77., 35., 29.]),\n",
       " array([1. , 1.7, 2.4, 3.1, 3.8, 4.5, 5.2, 5.9, 6.6, 7.3, 8. ]),\n",
       " <BarContainer object of 10 artists>)"
      ]
     },
     "execution_count": 30,
     "metadata": {},
     "output_type": "execute_result"
    },
    {
     "data": {
      "image/png": "[encoded data removed]",
      "text/plain": [
       "<Figure size 432x288 with 1 Axes>"
      ]
     },
     "metadata": {
      "needs_background": "light"
     },
     "output_type": "display_data"
    }
   ],
   "source": [
    "%matplotlib inline\n",
    "plt.hist(shankid.loc[all_place_cells])"
   ]
  },
  {
   "cell_type": "code",
   "execution_count": 36,
   "id": "bfad8305",
   "metadata": {},
   "outputs": [
    {
     "data": {
      "text/plain": [
       "(array([2., 6., 3., 0., 7., 2., 0., 7., 2., 2.]),\n",
       " array([1. , 1.7, 2.4, 3.1, 3.8, 4.5, 5.2, 5.9, 6.6, 7.3, 8. ]),\n",
       " <BarContainer object of 10 artists>)"
      ]
     },
     "execution_count": 36,
     "metadata": {},
     "output_type": "execute_result"
    },
    {
     "data": {
      "image/png": "[encoded data removed]",
      "text/plain": [
       "<Figure size 432x288 with 1 Axes>"
      ]
     },
     "metadata": {
      "needs_background": "light"
     },
     "output_type": "display_data"
    }
   ],
   "source": [
    "inds_one = inds_d.loc[1,4].apply(lambda x:x[0])\n",
    "shankid.loc[inds_one]\n",
    "plt.hist(shankid.loc[inds_one])"
   ]
  },
  {
   "cell_type": "code",
   "execution_count": 66,
   "id": "d4c8a853",
   "metadata": {},
   "outputs": [],
   "source": [
    "import scipy.stats as ss\n",
    "from scipy.stats import wasserstein_distance\n"
   ]
  },
  {
   "cell_type": "code",
   "execution_count": 67,
   "id": "9d48c391",
   "metadata": {},
   "outputs": [
    {
     "data": {
      "text/plain": [
       "0.23107136887848906"
      ]
     },
     "execution_count": 67,
     "metadata": {},
     "output_type": "execute_result"
    }
   ],
   "source": [
    "wasserstein_distance(shankid.loc[inds_one],shankid.loc[all_place_cells])"
   ]
  },
  {
   "cell_type": "code",
   "execution_count": 70,
   "id": "e4a87d5e",
   "metadata": {},
   "outputs": [],
   "source": [
    "n_sw_one_trial = len(inds_one)"
   ]
  },
  {
   "cell_type": "code",
   "execution_count": 75,
   "id": "a1356ec7",
   "metadata": {},
   "outputs": [
    {
     "data": {
      "text/plain": [
       "(array([17., 24., 24.,  8., 13.,  7.,  2.,  2.,  2.,  1.]),\n",
       " array([0.13279291, 0.22326592, 0.31373893, 0.40421193, 0.49468494,\n",
       "        0.58515795, 0.67563095, 0.76610396, 0.85657697, 0.94704997,\n",
       "        1.03752298]),\n",
       " <BarContainer object of 10 artists>)"
      ]
     },
     "execution_count": 75,
     "metadata": {},
     "output_type": "execute_result"
    },
    {
     "data": {
      "image/png": "[encoded data removed]",
      "text/plain": [
       "<Figure size 432x288 with 1 Axes>"
      ]
     },
     "metadata": {
      "needs_background": "light"
     },
     "output_type": "display_data"
    }
   ],
   "source": [
    "n_shuffle=100\n",
    "d_l = []\n",
    "for i in range(n_shuffle):\n",
    "    inds_shuffled = np.random.permutation(all_place_cells)[:n_sw_one_trial]\n",
    "    d = wasserstein_distance(shankid.loc[inds_shuffled],shankid.loc[all_place_cells])\n",
    "    d_l.append(d)\n",
    "plt.hist(d_l)"
   ]
  },
  {
   "cell_type": "code",
   "execution_count": 59,
   "id": "7cb7010b",
   "metadata": {},
   "outputs": [],
   "source": [
    "shankid_selected=shankid.loc[inds_one]\n",
    "same_trial_same_shank = shankid_selected.loc[(shankid_selected==4)].index"
   ]
  },
  {
   "cell_type": "code",
   "execution_count": 62,
   "id": "69dfbd1c",
   "metadata": {},
   "outputs": [],
   "source": [
    "com_df_one = place_field_res_l['e13_26m1','e13_26m1_210913']['avg']['all_fields'][0,0]['com']"
   ]
  },
  {
   "cell_type": "code",
   "execution_count": 65,
   "id": "dcff9ce3",
   "metadata": {
    "scrolled": false
   },
   "outputs": [
    {
     "data": {
      "text/plain": [
       "     field_index\n",
       "59   0              13\n",
       "100  0              68\n",
       "148  0              72\n",
       "206  0              58\n",
       "280  0              16\n",
       "312  0               9\n",
       "385  0               9\n",
       "Name: com, dtype: object"
      ]
     },
     "execution_count": 65,
     "metadata": {},
     "output_type": "execute_result"
    }
   ],
   "source": [
    "com_df_one.loc[(same_trial_same_shank,slice(None))]"
   ]
  },
  {
   "cell_type": "code",
   "execution_count": null,
   "id": "3b350d6a",
   "metadata": {},
   "outputs": [],
   "source": []
  },
  {
   "cell_type": "code",
   "execution_count": 7,
   "id": "f076c210",
   "metadata": {
    "scrolled": true
   },
   "outputs": [
    {
     "data": {
      "text/plain": [
       "array([8., 4., 6., 5., 1., 4., 4., 8., 7., 8., 5., 6., 1., 5., 7., 3., 8.,\n",
       "       5., 3., 4., 7., 6., 3., 3., 1., 2., 6., 8., 5., 2., 7., 8., 8., 5.,\n",
       "       2., 5., 8., 5., 6., 3., 7., 5., 2., 7., 3., 6., 7., 2., 1., 5., 2.,\n",
       "       1., 8., 4., 5., 2., 1., 4., 4., 2., 5., 7., 2., 4., 1., 3., 3., 2.,\n",
       "       7., 1., 3., 3., 6., 4., 4., 8., 2., 1., 6., 6., 4., 5., 5., 6., 7.,\n",
       "       7., 5., 7., 1., 7., 6., 7., 4., 2., 8., 4., 7., 3., 7., 4., 8., 3.,\n",
       "       3., 8., 1., 4., 1., 1., 6., 8., 7., 6., 8., 2., 3., 5., 2., 4., 8.,\n",
       "       6., 6., 5., 3., 3., 5., 6., 6., 3., 5., 2., 5., 3., 3., 6., 8., 5.,\n",
       "       3., 6., 8., 6., 3., 1., 8., 2., 6., 1., 8., 4., 4., 7., 8., 6., 3.,\n",
       "       6., 2., 5., 1., 5., 7., 8., 6., 4., 3., 5., 3., 2., 8., 3., 4., 5.,\n",
       "       6., 7., 5., 6., 3., 7., 3., 1., 4., 4., 2., 3., 6., 7., 5., 1., 8.,\n",
       "       6., 4., 7., 2., 7., 6., 1., 6., 7., 3., 3., 4., 6., 2., 3., 1., 8.,\n",
       "       2., 4., 5., 1., 6., 5., 6., 5., 6., 6., 8., 2., 1., 2., 5., 1., 1.,\n",
       "       5., 1., 2., 5., 1., 5., 4., 2., 2., 7., 1., 1., 8., 5., 5., 6., 5.,\n",
       "       5., 8., 3., 1., 1., 3., 3., 4., 8., 6., 1., 3., 6., 1., 7., 7., 4.,\n",
       "       6., 6., 2., 2., 5., 8., 6., 4., 5., 1., 5., 3., 6., 6., 6., 4., 3.,\n",
       "       5., 3., 3., 4., 5., 7., 6., 4., 8., 5., 1., 3., 3., 6., 1., 2., 5.,\n",
       "       6., 4., 1., 2., 1., 2., 7., 3., 1., 6., 3., 6., 5., 5., 3., 5., 6.,\n",
       "       1., 4., 3., 1., 7., 4., 7., 2., 8., 6., 4., 2., 3., 6., 1., 5., 8.,\n",
       "       5., 3., 7., 3., 4., 8., 3., 2., 8., 3., 4., 2., 6., 7., 1., 1., 3.,\n",
       "       2., 7., 3., 1., 1., 5., 1., 6., 3., 3., 3., 2., 3., 2., 8., 3., 2.,\n",
       "       5., 4., 5., 5., 4., 5., 1., 1., 4., 4., 5., 4., 4., 6., 5., 2., 4.,\n",
       "       5., 3., 6., 4., 5., 4., 6., 6., 2., 6., 4., 1., 8., 4., 5., 6., 3.,\n",
       "       2., 5., 6., 3., 1., 7., 2., 6., 8., 1., 4., 2., 7., 3., 7., 1., 6.,\n",
       "       2., 6., 8., 6., 4., 6., 3., 4., 7., 7., 4., 3., 5., 3., 4., 3., 1.,\n",
       "       7., 2., 1., 3., 3., 7., 7., 5., 6., 6., 8., 3., 4., 6., 3., 7., 4.,\n",
       "       1., 4., 3., 4., 4., 6., 6., 3., 6., 1., 6., 6., 6., 3., 6., 3., 5.,\n",
       "       5., 5., 6., 2., 2., 6., 3., 1., 5., 3., 2., 2., 3., 3., 8., 3., 7.,\n",
       "       5., 4., 2., 3., 5., 3.])"
      ]
     },
     "execution_count": 7,
     "metadata": {},
     "output_type": "execute_result"
    }
   ],
   "source": [
    "cell_metrics['shankID']"
   ]
  },
  {
   "cell_type": "code",
   "execution_count": null,
   "id": "09256865",
   "metadata": {},
   "outputs": [],
   "source": []
  }
 ],
 "metadata": {
  "kernelspec": {
   "display_name": "jax",
   "language": "python",
   "name": "jax"
  },
  "language_info": {
   "codemirror_mode": {
    "name": "ipython",
    "version": 3
   },
   "file_extension": ".py",
   "mimetype": "text/x-python",
   "name": "python",
   "nbconvert_exporter": "python",
   "pygments_lexer": "ipython3",
   "version": "3.9.13"
  }
 },
 "nbformat": 4,
 "nbformat_minor": 5
}
