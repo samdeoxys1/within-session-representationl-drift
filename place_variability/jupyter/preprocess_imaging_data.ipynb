{
 "cells": [
  {
   "cell_type": "code",
   "execution_count": 1,
   "id": "069b162a",
   "metadata": {},
   "outputs": [
    {
     "name": "stdout",
     "output_type": "stream",
     "text": [
      "67 sessions!\n",
      "67 sessions!\n"
     ]
    }
   ],
   "source": [
    "import numpy as np\n",
    "import scipy\n",
    "import sklearn\n",
    "from sklearn.decomposition import NMF\n",
    "from sklearn.cluster import KMeans\n",
    "from sklearn.mixture import GaussianMixture,BayesianGaussianMixture\n",
    "\n",
    "import pandas as pd\n",
    "\n",
    "import matplotlib.pyplot as plt\n",
    "import matplotlib as mpl\n",
    "mpl.rcParams['image.cmap'] = 'Greys'\n",
    "\n",
    "import seaborn as sns\n",
    "\n",
    "import sys,os,pdb,copy,pickle\n",
    "from importlib import reload\n",
    "import pynapple as nap\n",
    "\n",
    "sys.path.append('/mnt/home/szheng/projects/seq_detection2/code')\n",
    "sys.path.append('/mnt/home/szheng/projects/util_code')\n",
    "sys.path.append('/mnt/home/szheng/projects/nmf_analysis')\n",
    "sys.path.append('/mnt/home/szheng/projects/nmf_analysis/scripts')\n",
    "sys.path.append('/mnt/home/szheng/projects/cluster_spikes')\n",
    "sys.path.append('/mnt/home/szheng/projects/place_variability/code')\n",
    "import data_prep_new as dpn\n",
    "import place_cell_analysis as pa\n",
    "import plot_helper as ph\n",
    "import preprocess as prep\n",
    "import nmf_analysis as na\n",
    "import nmf_plot as nmfp\n",
    "reload(na)\n",
    "\n",
    "import raster_new as rn\n",
    "import data_prep_pyn as dpp\n",
    "import database\n",
    "db = database.db\n",
    "\n",
    "import change_point_analysis as cpa\n",
    "import change_point_plot as cpp\n",
    "\n",
    "import place_field_analysis as pf\n",
    "\n",
    "import switch_analysis_one_session as saos\n",
    "reload(saos)\n",
    "\n",
    "import process_central_arm as pca \n",
    "import change_point_analysis_central_arm_seperate as cpacas\n",
    "\n",
    "import misc\n",
    "reload(misc)\n",
    "from misc import get_nth_key, get_nth_val\n",
    "\n",
    "import plot_ratemap_sequence as prs"
   ]
  },
  {
   "cell_type": "code",
   "execution_count": 2,
   "id": "17dce94b",
   "metadata": {},
   "outputs": [
    {
     "name": "stderr",
     "output_type": "stream",
     "text": [
      "/mnt/home/szheng/ceph/envs/jax/lib/python3.9/site-packages/outdated/utils.py:14: OutdatedPackageWarning: The package pingouin is out of date. Your version is 0.5.2, the latest is 0.5.3.\n",
      "Set the environment variable OUTDATED_IGNORE=1 to disable these warnings.\n",
      "  return warn(\n"
     ]
    }
   ],
   "source": [
    "import h5py\n",
    "sys.path.append('/mnt/home/szheng/projects/place_variability/code/thomas_18_data')\n",
    "import prep_thomas_data as ptd\n",
    "import prep_thomas_one_region as ptor\n",
    "reload(ptor)\n",
    "thomas_dir_base = \"/mnt/home/szheng/ceph/ad/thomas_data/180301_DG_CA3_CA1\"\n",
    "import fr_map_thomas_all_sess as fmtas\n",
    "import netrep\n",
    "reload(database)\n",
    "thomas_db=database.get_thomas_180301_DG_CA3_CA1_db(dosave=True)"
   ]
  },
  {
   "cell_type": "code",
   "execution_count": 3,
   "id": "bd1f5b8d",
   "metadata": {},
   "outputs": [],
   "source": [
    "fn_full = '/mnt/home/szheng/ceph/ad/thomas_data/180301_DG_CA3_CA1.h5'\n",
    "\n",
    "f = h5py.File(fn_full, 'r')"
   ]
  },
  {
   "cell_type": "code",
   "execution_count": 10,
   "id": "9e3c7cd3",
   "metadata": {},
   "outputs": [],
   "source": [
    "sys.path.append('/mnt/home/szheng/projects/place_variability/code/thomas_18_data')\n",
    "import prep_thomas_data as ptd\n",
    "reload(ptd)\n",
    "exp_ind= 0\n",
    "sess_ind=0\n",
    "region='CA1'\n",
    "prep_res = ptd.prep_one_category_within_one_exp(f,exp_ind,sess_ind,region=region)\n",
    "\n"
   ]
  },
  {
   "cell_type": "code",
   "execution_count": 13,
   "id": "01cba98b",
   "metadata": {},
   "outputs": [
    {
     "name": "stdout",
     "output_type": "stream",
     "text": [
      "CPU times: user 12.3 s, sys: 222 ms, total: 12.6 s\n",
      "Wall time: 12.6 s\n"
     ]
    },
    {
     "name": "stderr",
     "output_type": "stream",
     "text": [
      "/mnt/home/szheng/projects/place_variability/code/prep_thomas_data.py:144: SettingWithCopyWarning: \n",
      "A value is trying to be set on a copy of a slice from a DataFrame.\n",
      "Try using .loc[row_indexer,col_indexer] = value instead\n",
      "\n",
      "See the caveats in the documentation: https://pandas.pydata.org/pandas-docs/stable/user_guide/indexing.html#returning-a-view-versus-a-copy\n",
      "  spk_beh_df_one_trial['trial'] = trial_index\n",
      "/mnt/home/szheng/projects/place_variability/code/prep_thomas_data.py:144: SettingWithCopyWarning: \n",
      "A value is trying to be set on a copy of a slice from a DataFrame.\n",
      "Try using .loc[row_indexer,col_indexer] = value instead\n",
      "\n",
      "See the caveats in the documentation: https://pandas.pydata.org/pandas-docs/stable/user_guide/indexing.html#returning-a-view-versus-a-copy\n",
      "  spk_beh_df_one_trial['trial'] = trial_index\n",
      "/mnt/home/szheng/projects/place_variability/code/prep_thomas_data.py:144: SettingWithCopyWarning: \n",
      "A value is trying to be set on a copy of a slice from a DataFrame.\n",
      "Try using .loc[row_indexer,col_indexer] = value instead\n",
      "\n",
      "See the caveats in the documentation: https://pandas.pydata.org/pandas-docs/stable/user_guide/indexing.html#returning-a-view-versus-a-copy\n",
      "  spk_beh_df_one_trial['trial'] = trial_index\n",
      "/mnt/home/szheng/projects/place_variability/code/prep_thomas_data.py:144: SettingWithCopyWarning: \n",
      "A value is trying to be set on a copy of a slice from a DataFrame.\n",
      "Try using .loc[row_indexer,col_indexer] = value instead\n",
      "\n",
      "See the caveats in the documentation: https://pandas.pydata.org/pandas-docs/stable/user_guide/indexing.html#returning-a-view-versus-a-copy\n",
      "  spk_beh_df_one_trial['trial'] = trial_index\n",
      "/mnt/home/szheng/projects/place_variability/code/prep_thomas_data.py:144: SettingWithCopyWarning: \n",
      "A value is trying to be set on a copy of a slice from a DataFrame.\n",
      "Try using .loc[row_indexer,col_indexer] = value instead\n",
      "\n",
      "See the caveats in the documentation: https://pandas.pydata.org/pandas-docs/stable/user_guide/indexing.html#returning-a-view-versus-a-copy\n",
      "  spk_beh_df_one_trial['trial'] = trial_index\n",
      "/mnt/home/szheng/projects/place_variability/code/prep_thomas_data.py:144: SettingWithCopyWarning: \n",
      "A value is trying to be set on a copy of a slice from a DataFrame.\n",
      "Try using .loc[row_indexer,col_indexer] = value instead\n",
      "\n",
      "See the caveats in the documentation: https://pandas.pydata.org/pandas-docs/stable/user_guide/indexing.html#returning-a-view-versus-a-copy\n",
      "  spk_beh_df_one_trial['trial'] = trial_index\n",
      "/mnt/home/szheng/projects/place_variability/code/prep_thomas_data.py:144: SettingWithCopyWarning: \n",
      "A value is trying to be set on a copy of a slice from a DataFrame.\n",
      "Try using .loc[row_indexer,col_indexer] = value instead\n",
      "\n",
      "See the caveats in the documentation: https://pandas.pydata.org/pandas-docs/stable/user_guide/indexing.html#returning-a-view-versus-a-copy\n",
      "  spk_beh_df_one_trial['trial'] = trial_index\n",
      "/mnt/home/szheng/projects/place_variability/code/prep_thomas_data.py:144: SettingWithCopyWarning: \n",
      "A value is trying to be set on a copy of a slice from a DataFrame.\n",
      "Try using .loc[row_indexer,col_indexer] = value instead\n",
      "\n",
      "See the caveats in the documentation: https://pandas.pydata.org/pandas-docs/stable/user_guide/indexing.html#returning-a-view-versus-a-copy\n",
      "  spk_beh_df_one_trial['trial'] = trial_index\n",
      "/mnt/home/szheng/projects/place_variability/code/prep_thomas_data.py:144: SettingWithCopyWarning: \n",
      "A value is trying to be set on a copy of a slice from a DataFrame.\n",
      "Try using .loc[row_indexer,col_indexer] = value instead\n",
      "\n",
      "See the caveats in the documentation: https://pandas.pydata.org/pandas-docs/stable/user_guide/indexing.html#returning-a-view-versus-a-copy\n",
      "  spk_beh_df_one_trial['trial'] = trial_index\n",
      "/mnt/home/szheng/projects/place_variability/code/prep_thomas_data.py:144: SettingWithCopyWarning: \n",
      "A value is trying to be set on a copy of a slice from a DataFrame.\n",
      "Try using .loc[row_indexer,col_indexer] = value instead\n",
      "\n",
      "See the caveats in the documentation: https://pandas.pydata.org/pandas-docs/stable/user_guide/indexing.html#returning-a-view-versus-a-copy\n",
      "  spk_beh_df_one_trial['trial'] = trial_index\n",
      "/mnt/home/szheng/projects/place_variability/code/prep_thomas_data.py:144: SettingWithCopyWarning: \n",
      "A value is trying to be set on a copy of a slice from a DataFrame.\n",
      "Try using .loc[row_indexer,col_indexer] = value instead\n",
      "\n",
      "See the caveats in the documentation: https://pandas.pydata.org/pandas-docs/stable/user_guide/indexing.html#returning-a-view-versus-a-copy\n",
      "  spk_beh_df_one_trial['trial'] = trial_index\n",
      "/mnt/home/szheng/projects/place_variability/code/prep_thomas_data.py:144: SettingWithCopyWarning: \n",
      "A value is trying to be set on a copy of a slice from a DataFrame.\n",
      "Try using .loc[row_indexer,col_indexer] = value instead\n",
      "\n",
      "See the caveats in the documentation: https://pandas.pydata.org/pandas-docs/stable/user_guide/indexing.html#returning-a-view-versus-a-copy\n",
      "  spk_beh_df_one_trial['trial'] = trial_index\n",
      "/mnt/home/szheng/projects/place_variability/code/prep_thomas_data.py:144: SettingWithCopyWarning: \n",
      "A value is trying to be set on a copy of a slice from a DataFrame.\n",
      "Try using .loc[row_indexer,col_indexer] = value instead\n",
      "\n",
      "See the caveats in the documentation: https://pandas.pydata.org/pandas-docs/stable/user_guide/indexing.html#returning-a-view-versus-a-copy\n",
      "  spk_beh_df_one_trial['trial'] = trial_index\n",
      "/mnt/home/szheng/projects/place_variability/code/prep_thomas_data.py:144: SettingWithCopyWarning: \n",
      "A value is trying to be set on a copy of a slice from a DataFrame.\n",
      "Try using .loc[row_indexer,col_indexer] = value instead\n",
      "\n",
      "See the caveats in the documentation: https://pandas.pydata.org/pandas-docs/stable/user_guide/indexing.html#returning-a-view-versus-a-copy\n",
      "  spk_beh_df_one_trial['trial'] = trial_index\n",
      "/mnt/home/szheng/projects/place_variability/code/prep_thomas_data.py:144: SettingWithCopyWarning: \n",
      "A value is trying to be set on a copy of a slice from a DataFrame.\n",
      "Try using .loc[row_indexer,col_indexer] = value instead\n",
      "\n",
      "See the caveats in the documentation: https://pandas.pydata.org/pandas-docs/stable/user_guide/indexing.html#returning-a-view-versus-a-copy\n",
      "  spk_beh_df_one_trial['trial'] = trial_index\n",
      "/mnt/home/szheng/projects/place_variability/code/prep_thomas_data.py:144: SettingWithCopyWarning: \n",
      "A value is trying to be set on a copy of a slice from a DataFrame.\n",
      "Try using .loc[row_indexer,col_indexer] = value instead\n",
      "\n",
      "See the caveats in the documentation: https://pandas.pydata.org/pandas-docs/stable/user_guide/indexing.html#returning-a-view-versus-a-copy\n",
      "  spk_beh_df_one_trial['trial'] = trial_index\n",
      "/mnt/home/szheng/projects/place_variability/code/prep_thomas_data.py:144: SettingWithCopyWarning: \n",
      "A value is trying to be set on a copy of a slice from a DataFrame.\n",
      "Try using .loc[row_indexer,col_indexer] = value instead\n",
      "\n",
      "See the caveats in the documentation: https://pandas.pydata.org/pandas-docs/stable/user_guide/indexing.html#returning-a-view-versus-a-copy\n",
      "  spk_beh_df_one_trial['trial'] = trial_index\n",
      "/mnt/home/szheng/projects/place_variability/code/prep_thomas_data.py:144: SettingWithCopyWarning: \n",
      "A value is trying to be set on a copy of a slice from a DataFrame.\n",
      "Try using .loc[row_indexer,col_indexer] = value instead\n",
      "\n",
      "See the caveats in the documentation: https://pandas.pydata.org/pandas-docs/stable/user_guide/indexing.html#returning-a-view-versus-a-copy\n",
      "  spk_beh_df_one_trial['trial'] = trial_index\n",
      "/mnt/home/szheng/projects/place_variability/code/prep_thomas_data.py:144: SettingWithCopyWarning: \n",
      "A value is trying to be set on a copy of a slice from a DataFrame.\n",
      "Try using .loc[row_indexer,col_indexer] = value instead\n",
      "\n",
      "See the caveats in the documentation: https://pandas.pydata.org/pandas-docs/stable/user_guide/indexing.html#returning-a-view-versus-a-copy\n",
      "  spk_beh_df_one_trial['trial'] = trial_index\n",
      "/mnt/home/szheng/projects/place_variability/code/prep_thomas_data.py:144: SettingWithCopyWarning: \n",
      "A value is trying to be set on a copy of a slice from a DataFrame.\n",
      "Try using .loc[row_indexer,col_indexer] = value instead\n",
      "\n",
      "See the caveats in the documentation: https://pandas.pydata.org/pandas-docs/stable/user_guide/indexing.html#returning-a-view-versus-a-copy\n",
      "  spk_beh_df_one_trial['trial'] = trial_index\n",
      "/mnt/home/szheng/projects/place_variability/code/prep_thomas_data.py:144: SettingWithCopyWarning: \n",
      "A value is trying to be set on a copy of a slice from a DataFrame.\n",
      "Try using .loc[row_indexer,col_indexer] = value instead\n",
      "\n",
      "See the caveats in the documentation: https://pandas.pydata.org/pandas-docs/stable/user_guide/indexing.html#returning-a-view-versus-a-copy\n",
      "  spk_beh_df_one_trial['trial'] = trial_index\n",
      "/mnt/home/szheng/projects/place_variability/code/prep_thomas_data.py:144: SettingWithCopyWarning: \n",
      "A value is trying to be set on a copy of a slice from a DataFrame.\n",
      "Try using .loc[row_indexer,col_indexer] = value instead\n",
      "\n",
      "See the caveats in the documentation: https://pandas.pydata.org/pandas-docs/stable/user_guide/indexing.html#returning-a-view-versus-a-copy\n",
      "  spk_beh_df_one_trial['trial'] = trial_index\n",
      "/mnt/home/szheng/projects/place_variability/code/prep_thomas_data.py:144: SettingWithCopyWarning: \n",
      "A value is trying to be set on a copy of a slice from a DataFrame.\n",
      "Try using .loc[row_indexer,col_indexer] = value instead\n",
      "\n",
      "See the caveats in the documentation: https://pandas.pydata.org/pandas-docs/stable/user_guide/indexing.html#returning-a-view-versus-a-copy\n",
      "  spk_beh_df_one_trial['trial'] = trial_index\n",
      "/mnt/home/szheng/projects/place_variability/code/prep_thomas_data.py:144: SettingWithCopyWarning: \n",
      "A value is trying to be set on a copy of a slice from a DataFrame.\n",
      "Try using .loc[row_indexer,col_indexer] = value instead\n",
      "\n",
      "See the caveats in the documentation: https://pandas.pydata.org/pandas-docs/stable/user_guide/indexing.html#returning-a-view-versus-a-copy\n",
      "  spk_beh_df_one_trial['trial'] = trial_index\n",
      "/mnt/home/szheng/projects/place_variability/code/prep_thomas_data.py:144: SettingWithCopyWarning: \n",
      "A value is trying to be set on a copy of a slice from a DataFrame.\n",
      "Try using .loc[row_indexer,col_indexer] = value instead\n",
      "\n",
      "See the caveats in the documentation: https://pandas.pydata.org/pandas-docs/stable/user_guide/indexing.html#returning-a-view-versus-a-copy\n",
      "  spk_beh_df_one_trial['trial'] = trial_index\n",
      "/mnt/home/szheng/projects/place_variability/code/prep_thomas_data.py:144: SettingWithCopyWarning: \n",
      "A value is trying to be set on a copy of a slice from a DataFrame.\n",
      "Try using .loc[row_indexer,col_indexer] = value instead\n",
      "\n",
      "See the caveats in the documentation: https://pandas.pydata.org/pandas-docs/stable/user_guide/indexing.html#returning-a-view-versus-a-copy\n",
      "  spk_beh_df_one_trial['trial'] = trial_index\n",
      "/mnt/home/szheng/projects/place_variability/code/prep_thomas_data.py:144: SettingWithCopyWarning: \n",
      "A value is trying to be set on a copy of a slice from a DataFrame.\n",
      "Try using .loc[row_indexer,col_indexer] = value instead\n",
      "\n",
      "See the caveats in the documentation: https://pandas.pydata.org/pandas-docs/stable/user_guide/indexing.html#returning-a-view-versus-a-copy\n",
      "  spk_beh_df_one_trial['trial'] = trial_index\n",
      "/mnt/home/szheng/projects/place_variability/code/prep_thomas_data.py:144: SettingWithCopyWarning: \n",
      "A value is trying to be set on a copy of a slice from a DataFrame.\n",
      "Try using .loc[row_indexer,col_indexer] = value instead\n",
      "\n",
      "See the caveats in the documentation: https://pandas.pydata.org/pandas-docs/stable/user_guide/indexing.html#returning-a-view-versus-a-copy\n",
      "  spk_beh_df_one_trial['trial'] = trial_index\n",
      "/mnt/home/szheng/projects/place_variability/code/prep_thomas_data.py:144: SettingWithCopyWarning: \n",
      "A value is trying to be set on a copy of a slice from a DataFrame.\n",
      "Try using .loc[row_indexer,col_indexer] = value instead\n",
      "\n",
      "See the caveats in the documentation: https://pandas.pydata.org/pandas-docs/stable/user_guide/indexing.html#returning-a-view-versus-a-copy\n",
      "  spk_beh_df_one_trial['trial'] = trial_index\n",
      "/mnt/home/szheng/projects/place_variability/code/prep_thomas_data.py:144: SettingWithCopyWarning: \n",
      "A value is trying to be set on a copy of a slice from a DataFrame.\n",
      "Try using .loc[row_indexer,col_indexer] = value instead\n",
      "\n",
      "See the caveats in the documentation: https://pandas.pydata.org/pandas-docs/stable/user_guide/indexing.html#returning-a-view-versus-a-copy\n",
      "  spk_beh_df_one_trial['trial'] = trial_index\n",
      "/mnt/home/szheng/projects/place_variability/code/prep_thomas_data.py:144: SettingWithCopyWarning: \n",
      "A value is trying to be set on a copy of a slice from a DataFrame.\n",
      "Try using .loc[row_indexer,col_indexer] = value instead\n",
      "\n",
      "See the caveats in the documentation: https://pandas.pydata.org/pandas-docs/stable/user_guide/indexing.html#returning-a-view-versus-a-copy\n",
      "  spk_beh_df_one_trial['trial'] = trial_index\n",
      "/mnt/home/szheng/projects/place_variability/code/prep_thomas_data.py:144: SettingWithCopyWarning: \n",
      "A value is trying to be set on a copy of a slice from a DataFrame.\n",
      "Try using .loc[row_indexer,col_indexer] = value instead\n",
      "\n",
      "See the caveats in the documentation: https://pandas.pydata.org/pandas-docs/stable/user_guide/indexing.html#returning-a-view-versus-a-copy\n",
      "  spk_beh_df_one_trial['trial'] = trial_index\n",
      "/mnt/home/szheng/projects/place_variability/code/prep_thomas_data.py:144: SettingWithCopyWarning: \n",
      "A value is trying to be set on a copy of a slice from a DataFrame.\n",
      "Try using .loc[row_indexer,col_indexer] = value instead\n",
      "\n",
      "See the caveats in the documentation: https://pandas.pydata.org/pandas-docs/stable/user_guide/indexing.html#returning-a-view-versus-a-copy\n",
      "  spk_beh_df_one_trial['trial'] = trial_index\n",
      "/mnt/home/szheng/projects/place_variability/code/prep_thomas_data.py:144: SettingWithCopyWarning: \n",
      "A value is trying to be set on a copy of a slice from a DataFrame.\n",
      "Try using .loc[row_indexer,col_indexer] = value instead\n",
      "\n",
      "See the caveats in the documentation: https://pandas.pydata.org/pandas-docs/stable/user_guide/indexing.html#returning-a-view-versus-a-copy\n",
      "  spk_beh_df_one_trial['trial'] = trial_index\n",
      "/mnt/home/szheng/projects/place_variability/code/prep_thomas_data.py:144: SettingWithCopyWarning: \n",
      "A value is trying to be set on a copy of a slice from a DataFrame.\n",
      "Try using .loc[row_indexer,col_indexer] = value instead\n",
      "\n",
      "See the caveats in the documentation: https://pandas.pydata.org/pandas-docs/stable/user_guide/indexing.html#returning-a-view-versus-a-copy\n",
      "  spk_beh_df_one_trial['trial'] = trial_index\n",
      "/mnt/home/szheng/projects/place_variability/code/prep_thomas_data.py:144: SettingWithCopyWarning: \n",
      "A value is trying to be set on a copy of a slice from a DataFrame.\n",
      "Try using .loc[row_indexer,col_indexer] = value instead\n",
      "\n",
      "See the caveats in the documentation: https://pandas.pydata.org/pandas-docs/stable/user_guide/indexing.html#returning-a-view-versus-a-copy\n",
      "  spk_beh_df_one_trial['trial'] = trial_index\n",
      "/mnt/home/szheng/projects/place_variability/code/prep_thomas_data.py:144: SettingWithCopyWarning: \n",
      "A value is trying to be set on a copy of a slice from a DataFrame.\n",
      "Try using .loc[row_indexer,col_indexer] = value instead\n",
      "\n",
      "See the caveats in the documentation: https://pandas.pydata.org/pandas-docs/stable/user_guide/indexing.html#returning-a-view-versus-a-copy\n",
      "  spk_beh_df_one_trial['trial'] = trial_index\n",
      "/mnt/home/szheng/projects/place_variability/code/prep_thomas_data.py:144: SettingWithCopyWarning: \n",
      "A value is trying to be set on a copy of a slice from a DataFrame.\n",
      "Try using .loc[row_indexer,col_indexer] = value instead\n",
      "\n",
      "See the caveats in the documentation: https://pandas.pydata.org/pandas-docs/stable/user_guide/indexing.html#returning-a-view-versus-a-copy\n",
      "  spk_beh_df_one_trial['trial'] = trial_index\n",
      "/mnt/home/szheng/projects/place_variability/code/prep_thomas_data.py:144: SettingWithCopyWarning: \n",
      "A value is trying to be set on a copy of a slice from a DataFrame.\n",
      "Try using .loc[row_indexer,col_indexer] = value instead\n",
      "\n",
      "See the caveats in the documentation: https://pandas.pydata.org/pandas-docs/stable/user_guide/indexing.html#returning-a-view-versus-a-copy\n",
      "  spk_beh_df_one_trial['trial'] = trial_index\n"
     ]
    }
   ],
   "source": [
    "%%time\n",
    "reload(ptd)\n",
    "exp_ind = 0\n",
    "day_ind = 0\n",
    "prep_res = ptd.prep_one_day_within_one_exp(f,exp_ind,day_ind,region='CA1')"
   ]
  },
  {
   "cell_type": "code",
   "execution_count": 24,
   "id": "bcaad192",
   "metadata": {},
   "outputs": [],
   "source": [
    "spk_beh_df = prep_res['spk_beh_df']\n",
    "spk_beh_df,_=dpp.add_lin_binned(spk_beh_df,bin_size=0.025,nbins=None)\n",
    "prep_res['spk_beh_df'] = spk_beh_df"
   ]
  },
  {
   "cell_type": "code",
   "execution_count": 23,
   "id": "eb10b080",
   "metadata": {
    "scrolled": true
   },
   "outputs": [
    {
     "data": {
      "text/html": [
       "<div>\n",
       "<style scoped>\n",
       "    .dataframe tbody tr th:only-of-type {\n",
       "        vertical-align: middle;\n",
       "    }\n",
       "\n",
       "    .dataframe tbody tr th {\n",
       "        vertical-align: top;\n",
       "    }\n",
       "\n",
       "    .dataframe thead th {\n",
       "        text-align: right;\n",
       "    }\n",
       "</style>\n",
       "<table border=\"1\" class=\"dataframe\">\n",
       "  <thead>\n",
       "    <tr style=\"text-align: right;\">\n",
       "      <th></th>\n",
       "      <th>0</th>\n",
       "      <th>1</th>\n",
       "      <th>2</th>\n",
       "      <th>3</th>\n",
       "      <th>4</th>\n",
       "      <th>5</th>\n",
       "      <th>6</th>\n",
       "      <th>7</th>\n",
       "      <th>8</th>\n",
       "      <th>9</th>\n",
       "      <th>...</th>\n",
       "      <th>572</th>\n",
       "      <th>573</th>\n",
       "      <th>lin</th>\n",
       "      <th>directed_locomotion</th>\n",
       "      <th>index_within</th>\n",
       "      <th>isnovel</th>\n",
       "      <th>trial_type</th>\n",
       "      <th>task_index</th>\n",
       "      <th>trial</th>\n",
       "      <th>lin_binned</th>\n",
       "    </tr>\n",
       "  </thead>\n",
       "  <tbody>\n",
       "    <tr>\n",
       "      <th>0</th>\n",
       "      <td>0.0</td>\n",
       "      <td>-0.0</td>\n",
       "      <td>0.0</td>\n",
       "      <td>0.0</td>\n",
       "      <td>-0.0</td>\n",
       "      <td>-0.0</td>\n",
       "      <td>0.0</td>\n",
       "      <td>-0.0</td>\n",
       "      <td>0.0</td>\n",
       "      <td>0.0</td>\n",
       "      <td>...</td>\n",
       "      <td>0.0</td>\n",
       "      <td>0.000000</td>\n",
       "      <td>0.17435</td>\n",
       "      <td>0.0</td>\n",
       "      <td>0</td>\n",
       "      <td>0</td>\n",
       "      <td>0</td>\n",
       "      <td>0</td>\n",
       "      <td>0</td>\n",
       "      <td>6</td>\n",
       "    </tr>\n",
       "    <tr>\n",
       "      <th>1</th>\n",
       "      <td>0.0</td>\n",
       "      <td>0.0</td>\n",
       "      <td>0.0</td>\n",
       "      <td>0.0</td>\n",
       "      <td>-0.0</td>\n",
       "      <td>-0.0</td>\n",
       "      <td>0.0</td>\n",
       "      <td>0.0</td>\n",
       "      <td>-0.0</td>\n",
       "      <td>-0.0</td>\n",
       "      <td>...</td>\n",
       "      <td>-0.0</td>\n",
       "      <td>0.210490</td>\n",
       "      <td>0.18449</td>\n",
       "      <td>1.0</td>\n",
       "      <td>0</td>\n",
       "      <td>0</td>\n",
       "      <td>0</td>\n",
       "      <td>0</td>\n",
       "      <td>0</td>\n",
       "      <td>7</td>\n",
       "    </tr>\n",
       "    <tr>\n",
       "      <th>2</th>\n",
       "      <td>0.0</td>\n",
       "      <td>0.0</td>\n",
       "      <td>0.0</td>\n",
       "      <td>0.0</td>\n",
       "      <td>-0.0</td>\n",
       "      <td>-0.0</td>\n",
       "      <td>0.0</td>\n",
       "      <td>-0.0</td>\n",
       "      <td>0.0</td>\n",
       "      <td>0.0</td>\n",
       "      <td>...</td>\n",
       "      <td>0.0</td>\n",
       "      <td>0.180620</td>\n",
       "      <td>0.19731</td>\n",
       "      <td>1.0</td>\n",
       "      <td>0</td>\n",
       "      <td>0</td>\n",
       "      <td>0</td>\n",
       "      <td>0</td>\n",
       "      <td>0</td>\n",
       "      <td>7</td>\n",
       "    </tr>\n",
       "    <tr>\n",
       "      <th>3</th>\n",
       "      <td>0.0</td>\n",
       "      <td>-0.0</td>\n",
       "      <td>0.0</td>\n",
       "      <td>0.0</td>\n",
       "      <td>0.0</td>\n",
       "      <td>-0.0</td>\n",
       "      <td>0.0</td>\n",
       "      <td>0.0</td>\n",
       "      <td>-0.0</td>\n",
       "      <td>0.0</td>\n",
       "      <td>...</td>\n",
       "      <td>0.0</td>\n",
       "      <td>-0.025865</td>\n",
       "      <td>0.20475</td>\n",
       "      <td>1.0</td>\n",
       "      <td>0</td>\n",
       "      <td>0</td>\n",
       "      <td>0</td>\n",
       "      <td>0</td>\n",
       "      <td>0</td>\n",
       "      <td>7</td>\n",
       "    </tr>\n",
       "    <tr>\n",
       "      <th>4</th>\n",
       "      <td>0.0</td>\n",
       "      <td>-0.0</td>\n",
       "      <td>-0.0</td>\n",
       "      <td>-0.0</td>\n",
       "      <td>0.0</td>\n",
       "      <td>-0.0</td>\n",
       "      <td>0.0</td>\n",
       "      <td>-0.0</td>\n",
       "      <td>-0.0</td>\n",
       "      <td>0.0</td>\n",
       "      <td>...</td>\n",
       "      <td>0.0</td>\n",
       "      <td>0.087240</td>\n",
       "      <td>0.21136</td>\n",
       "      <td>1.0</td>\n",
       "      <td>0</td>\n",
       "      <td>0</td>\n",
       "      <td>0</td>\n",
       "      <td>0</td>\n",
       "      <td>0</td>\n",
       "      <td>8</td>\n",
       "    </tr>\n",
       "    <tr>\n",
       "      <th>...</th>\n",
       "      <td>...</td>\n",
       "      <td>...</td>\n",
       "      <td>...</td>\n",
       "      <td>...</td>\n",
       "      <td>...</td>\n",
       "      <td>...</td>\n",
       "      <td>...</td>\n",
       "      <td>...</td>\n",
       "      <td>...</td>\n",
       "      <td>...</td>\n",
       "      <td>...</td>\n",
       "      <td>...</td>\n",
       "      <td>...</td>\n",
       "      <td>...</td>\n",
       "      <td>...</td>\n",
       "      <td>...</td>\n",
       "      <td>...</td>\n",
       "      <td>...</td>\n",
       "      <td>...</td>\n",
       "      <td>...</td>\n",
       "      <td>...</td>\n",
       "    </tr>\n",
       "    <tr>\n",
       "      <th>6289</th>\n",
       "      <td>0.0</td>\n",
       "      <td>0.0</td>\n",
       "      <td>0.0</td>\n",
       "      <td>0.0</td>\n",
       "      <td>0.0</td>\n",
       "      <td>0.0</td>\n",
       "      <td>0.0</td>\n",
       "      <td>0.0</td>\n",
       "      <td>0.0</td>\n",
       "      <td>0.0</td>\n",
       "      <td>...</td>\n",
       "      <td>0.0</td>\n",
       "      <td>-0.000000</td>\n",
       "      <td>2.04240</td>\n",
       "      <td>1.0</td>\n",
       "      <td>10</td>\n",
       "      <td>1</td>\n",
       "      <td>1</td>\n",
       "      <td>0</td>\n",
       "      <td>38</td>\n",
       "      <td>81</td>\n",
       "    </tr>\n",
       "    <tr>\n",
       "      <th>6290</th>\n",
       "      <td>0.0</td>\n",
       "      <td>0.0</td>\n",
       "      <td>-0.0</td>\n",
       "      <td>-0.0</td>\n",
       "      <td>0.0</td>\n",
       "      <td>0.0</td>\n",
       "      <td>0.0</td>\n",
       "      <td>-0.0</td>\n",
       "      <td>0.0</td>\n",
       "      <td>0.0</td>\n",
       "      <td>...</td>\n",
       "      <td>0.0</td>\n",
       "      <td>0.000000</td>\n",
       "      <td>2.04260</td>\n",
       "      <td>1.0</td>\n",
       "      <td>10</td>\n",
       "      <td>1</td>\n",
       "      <td>1</td>\n",
       "      <td>0</td>\n",
       "      <td>38</td>\n",
       "      <td>81</td>\n",
       "    </tr>\n",
       "    <tr>\n",
       "      <th>6291</th>\n",
       "      <td>0.0</td>\n",
       "      <td>-0.0</td>\n",
       "      <td>0.0</td>\n",
       "      <td>-0.0</td>\n",
       "      <td>-0.0</td>\n",
       "      <td>-0.0</td>\n",
       "      <td>0.0</td>\n",
       "      <td>0.0</td>\n",
       "      <td>0.0</td>\n",
       "      <td>-0.0</td>\n",
       "      <td>...</td>\n",
       "      <td>0.0</td>\n",
       "      <td>0.000000</td>\n",
       "      <td>2.04320</td>\n",
       "      <td>1.0</td>\n",
       "      <td>10</td>\n",
       "      <td>1</td>\n",
       "      <td>1</td>\n",
       "      <td>0</td>\n",
       "      <td>38</td>\n",
       "      <td>81</td>\n",
       "    </tr>\n",
       "    <tr>\n",
       "      <th>6292</th>\n",
       "      <td>0.0</td>\n",
       "      <td>0.0</td>\n",
       "      <td>0.0</td>\n",
       "      <td>-0.0</td>\n",
       "      <td>0.0</td>\n",
       "      <td>-0.0</td>\n",
       "      <td>0.0</td>\n",
       "      <td>-0.0</td>\n",
       "      <td>0.0</td>\n",
       "      <td>0.0</td>\n",
       "      <td>...</td>\n",
       "      <td>-0.0</td>\n",
       "      <td>-0.000000</td>\n",
       "      <td>2.05880</td>\n",
       "      <td>1.0</td>\n",
       "      <td>10</td>\n",
       "      <td>1</td>\n",
       "      <td>1</td>\n",
       "      <td>0</td>\n",
       "      <td>38</td>\n",
       "      <td>82</td>\n",
       "    </tr>\n",
       "    <tr>\n",
       "      <th>6293</th>\n",
       "      <td>0.0</td>\n",
       "      <td>0.0</td>\n",
       "      <td>-0.0</td>\n",
       "      <td>0.0</td>\n",
       "      <td>0.0</td>\n",
       "      <td>-0.0</td>\n",
       "      <td>-0.0</td>\n",
       "      <td>0.0</td>\n",
       "      <td>0.0</td>\n",
       "      <td>0.0</td>\n",
       "      <td>...</td>\n",
       "      <td>0.0</td>\n",
       "      <td>0.000000</td>\n",
       "      <td>2.15180</td>\n",
       "      <td>1.0</td>\n",
       "      <td>10</td>\n",
       "      <td>1</td>\n",
       "      <td>1</td>\n",
       "      <td>0</td>\n",
       "      <td>38</td>\n",
       "      <td>85</td>\n",
       "    </tr>\n",
       "  </tbody>\n",
       "</table>\n",
       "<p>6294 rows × 582 columns</p>\n",
       "</div>"
      ],
      "text/plain": [
       "        0    1    2    3    4    5    6    7    8    9  ...  572       573  \\\n",
       "0     0.0 -0.0  0.0  0.0 -0.0 -0.0  0.0 -0.0  0.0  0.0  ...  0.0  0.000000   \n",
       "1     0.0  0.0  0.0  0.0 -0.0 -0.0  0.0  0.0 -0.0 -0.0  ... -0.0  0.210490   \n",
       "2     0.0  0.0  0.0  0.0 -0.0 -0.0  0.0 -0.0  0.0  0.0  ...  0.0  0.180620   \n",
       "3     0.0 -0.0  0.0  0.0  0.0 -0.0  0.0  0.0 -0.0  0.0  ...  0.0 -0.025865   \n",
       "4     0.0 -0.0 -0.0 -0.0  0.0 -0.0  0.0 -0.0 -0.0  0.0  ...  0.0  0.087240   \n",
       "...   ...  ...  ...  ...  ...  ...  ...  ...  ...  ...  ...  ...       ...   \n",
       "6289  0.0  0.0  0.0  0.0  0.0  0.0  0.0  0.0  0.0  0.0  ...  0.0 -0.000000   \n",
       "6290  0.0  0.0 -0.0 -0.0  0.0  0.0  0.0 -0.0  0.0  0.0  ...  0.0  0.000000   \n",
       "6291  0.0 -0.0  0.0 -0.0 -0.0 -0.0  0.0  0.0  0.0 -0.0  ...  0.0  0.000000   \n",
       "6292  0.0  0.0  0.0 -0.0  0.0 -0.0  0.0 -0.0  0.0  0.0  ... -0.0 -0.000000   \n",
       "6293  0.0  0.0 -0.0  0.0  0.0 -0.0 -0.0  0.0  0.0  0.0  ...  0.0  0.000000   \n",
       "\n",
       "          lin  directed_locomotion  index_within  isnovel  trial_type  \\\n",
       "0     0.17435                  0.0             0        0           0   \n",
       "1     0.18449                  1.0             0        0           0   \n",
       "2     0.19731                  1.0             0        0           0   \n",
       "3     0.20475                  1.0             0        0           0   \n",
       "4     0.21136                  1.0             0        0           0   \n",
       "...       ...                  ...           ...      ...         ...   \n",
       "6289  2.04240                  1.0            10        1           1   \n",
       "6290  2.04260                  1.0            10        1           1   \n",
       "6291  2.04320                  1.0            10        1           1   \n",
       "6292  2.05880                  1.0            10        1           1   \n",
       "6293  2.15180                  1.0            10        1           1   \n",
       "\n",
       "      task_index  trial  lin_binned  \n",
       "0              0      0           6  \n",
       "1              0      0           7  \n",
       "2              0      0           7  \n",
       "3              0      0           7  \n",
       "4              0      0           8  \n",
       "...          ...    ...         ...  \n",
       "6289           0     38          81  \n",
       "6290           0     38          81  \n",
       "6291           0     38          81  \n",
       "6292           0     38          82  \n",
       "6293           0     38          85  \n",
       "\n",
       "[6294 rows x 582 columns]"
      ]
     },
     "execution_count": 23,
     "metadata": {},
     "output_type": "execute_result"
    }
   ],
   "source": [
    "spk_beh_df"
   ]
  },
  {
   "cell_type": "code",
   "execution_count": 18,
   "id": "92854d65",
   "metadata": {},
   "outputs": [],
   "source": [
    "import fr_map_one_session as fmos\n",
    "reload(fmos)"
   ]
  },
  {
   "cell_type": "code",
   "execution_count": 25,
   "id": "94df739c",
   "metadata": {},
   "outputs": [
    {
     "data": {
      "text/plain": [
       "0        6\n",
       "1        7\n",
       "2        7\n",
       "3        7\n",
       "4        8\n",
       "        ..\n",
       "6289    81\n",
       "6290    81\n",
       "6291    81\n",
       "6292    82\n",
       "6293    85\n",
       "Name: lin_binned, Length: 6294, dtype: int64"
      ]
     },
     "execution_count": 25,
     "metadata": {},
     "output_type": "execute_result"
    }
   ],
   "source": [
    "spk_beh_df['lin_binned']"
   ]
  },
  {
   "cell_type": "code",
   "execution_count": 29,
   "id": "47eb6259",
   "metadata": {},
   "outputs": [
    {
     "data": {
      "text/plain": [
       "<module 'fr_map_one_session' from '/mnt/home/szheng/projects/place_variability/code/fr_map_one_session.py'>"
      ]
     },
     "execution_count": 29,
     "metadata": {},
     "output_type": "execute_result"
    }
   ],
   "source": [
    "reload(fmos)"
   ]
  },
  {
   "cell_type": "code",
   "execution_count": 30,
   "id": "ef81a517",
   "metadata": {
    "scrolled": true
   },
   "outputs": [
    {
     "name": "stdout",
     "output_type": "stream",
     "text": [
      "cant format into a dataframe\n",
      "cant format into a dataframe\n"
     ]
    }
   ],
   "source": [
    "fr_map_res=fmos.analyze_data(prep_res,gauss_width=1.)"
   ]
  },
  {
   "cell_type": "code",
   "execution_count": 61,
   "id": "c4233313",
   "metadata": {},
   "outputs": [
    {
     "data": {
      "text/html": [
       "<div>\n",
       "<style scoped>\n",
       "    .dataframe tbody tr th:only-of-type {\n",
       "        vertical-align: middle;\n",
       "    }\n",
       "\n",
       "    .dataframe tbody tr th {\n",
       "        vertical-align: top;\n",
       "    }\n",
       "\n",
       "    .dataframe thead th {\n",
       "        text-align: right;\n",
       "    }\n",
       "</style>\n",
       "<table border=\"1\" class=\"dataframe\">\n",
       "  <thead>\n",
       "    <tr style=\"text-align: right;\">\n",
       "      <th></th>\n",
       "      <th>lin_binned</th>\n",
       "      <th>0</th>\n",
       "      <th>1</th>\n",
       "      <th>2</th>\n",
       "      <th>3</th>\n",
       "      <th>4</th>\n",
       "      <th>5</th>\n",
       "      <th>6</th>\n",
       "      <th>7</th>\n",
       "      <th>8</th>\n",
       "      <th>9</th>\n",
       "      <th>...</th>\n",
       "      <th>75</th>\n",
       "      <th>76</th>\n",
       "      <th>77</th>\n",
       "      <th>78</th>\n",
       "      <th>79</th>\n",
       "      <th>80</th>\n",
       "      <th>81</th>\n",
       "      <th>82</th>\n",
       "      <th>83</th>\n",
       "      <th>84</th>\n",
       "    </tr>\n",
       "  </thead>\n",
       "  <tbody>\n",
       "    <tr>\n",
       "      <th rowspan=\"5\" valign=\"top\">0</th>\n",
       "      <th>0</th>\n",
       "      <td>0.012415</td>\n",
       "      <td>0.013016</td>\n",
       "      <td>0.031023</td>\n",
       "      <td>0.092830</td>\n",
       "      <td>0.123229</td>\n",
       "      <td>0.158371</td>\n",
       "      <td>0.172602</td>\n",
       "      <td>0.133197</td>\n",
       "      <td>0.093335</td>\n",
       "      <td>0.070708</td>\n",
       "      <td>...</td>\n",
       "      <td>0.000004</td>\n",
       "      <td>0.000120</td>\n",
       "      <td>0.001428</td>\n",
       "      <td>6.883664e-03</td>\n",
       "      <td>1.466908e-02</td>\n",
       "      <td>0.014492</td>\n",
       "      <td>0.011724</td>\n",
       "      <td>1.037619e-02</td>\n",
       "      <td>8.815505e-03</td>\n",
       "      <td>0.007690</td>\n",
       "    </tr>\n",
       "    <tr>\n",
       "      <th>1</th>\n",
       "      <td>0.073457</td>\n",
       "      <td>0.072836</td>\n",
       "      <td>0.077191</td>\n",
       "      <td>0.084063</td>\n",
       "      <td>0.079486</td>\n",
       "      <td>0.070511</td>\n",
       "      <td>0.066594</td>\n",
       "      <td>0.080855</td>\n",
       "      <td>0.128005</td>\n",
       "      <td>0.190351</td>\n",
       "      <td>...</td>\n",
       "      <td>0.003746</td>\n",
       "      <td>0.001912</td>\n",
       "      <td>0.000129</td>\n",
       "      <td>8.394653e-06</td>\n",
       "      <td>2.478075e-07</td>\n",
       "      <td>0.000000</td>\n",
       "      <td>0.000000</td>\n",
       "      <td>0.000000e+00</td>\n",
       "      <td>0.000000e+00</td>\n",
       "      <td>0.000000</td>\n",
       "    </tr>\n",
       "    <tr>\n",
       "      <th>2</th>\n",
       "      <td>0.029974</td>\n",
       "      <td>0.031992</td>\n",
       "      <td>0.038182</td>\n",
       "      <td>0.051829</td>\n",
       "      <td>0.060912</td>\n",
       "      <td>0.043135</td>\n",
       "      <td>0.037604</td>\n",
       "      <td>0.035524</td>\n",
       "      <td>0.037366</td>\n",
       "      <td>0.032646</td>\n",
       "      <td>...</td>\n",
       "      <td>0.053756</td>\n",
       "      <td>0.051392</td>\n",
       "      <td>0.045730</td>\n",
       "      <td>4.733129e-02</td>\n",
       "      <td>3.129700e-02</td>\n",
       "      <td>0.019067</td>\n",
       "      <td>0.010810</td>\n",
       "      <td>6.635146e-03</td>\n",
       "      <td>3.896696e-03</td>\n",
       "      <td>0.002206</td>\n",
       "    </tr>\n",
       "    <tr>\n",
       "      <th>3</th>\n",
       "      <td>0.045303</td>\n",
       "      <td>0.037970</td>\n",
       "      <td>0.027193</td>\n",
       "      <td>0.015754</td>\n",
       "      <td>0.012007</td>\n",
       "      <td>0.009355</td>\n",
       "      <td>0.007371</td>\n",
       "      <td>0.006906</td>\n",
       "      <td>0.007121</td>\n",
       "      <td>0.006694</td>\n",
       "      <td>...</td>\n",
       "      <td>0.056846</td>\n",
       "      <td>0.037966</td>\n",
       "      <td>0.026704</td>\n",
       "      <td>2.426735e-02</td>\n",
       "      <td>-2.147511e-04</td>\n",
       "      <td>-0.000047</td>\n",
       "      <td>-0.000003</td>\n",
       "      <td>-1.097373e-07</td>\n",
       "      <td>0.000000e+00</td>\n",
       "      <td>0.000000</td>\n",
       "    </tr>\n",
       "    <tr>\n",
       "      <th>4</th>\n",
       "      <td>0.004116</td>\n",
       "      <td>0.004075</td>\n",
       "      <td>0.004006</td>\n",
       "      <td>0.003832</td>\n",
       "      <td>0.019181</td>\n",
       "      <td>0.060639</td>\n",
       "      <td>0.067754</td>\n",
       "      <td>0.078230</td>\n",
       "      <td>0.091800</td>\n",
       "      <td>0.109086</td>\n",
       "      <td>...</td>\n",
       "      <td>-0.000206</td>\n",
       "      <td>-0.000039</td>\n",
       "      <td>-0.000003</td>\n",
       "      <td>-7.658810e-08</td>\n",
       "      <td>0.000000e+00</td>\n",
       "      <td>0.000000</td>\n",
       "      <td>0.000000</td>\n",
       "      <td>0.000000e+00</td>\n",
       "      <td>0.000000e+00</td>\n",
       "      <td>0.000000</td>\n",
       "    </tr>\n",
       "    <tr>\n",
       "      <th>...</th>\n",
       "      <th>...</th>\n",
       "      <td>...</td>\n",
       "      <td>...</td>\n",
       "      <td>...</td>\n",
       "      <td>...</td>\n",
       "      <td>...</td>\n",
       "      <td>...</td>\n",
       "      <td>...</td>\n",
       "      <td>...</td>\n",
       "      <td>...</td>\n",
       "      <td>...</td>\n",
       "      <td>...</td>\n",
       "      <td>...</td>\n",
       "      <td>...</td>\n",
       "      <td>...</td>\n",
       "      <td>...</td>\n",
       "      <td>...</td>\n",
       "      <td>...</td>\n",
       "      <td>...</td>\n",
       "      <td>...</td>\n",
       "      <td>...</td>\n",
       "      <td>...</td>\n",
       "    </tr>\n",
       "    <tr>\n",
       "      <th rowspan=\"5\" valign=\"top\">1</th>\n",
       "      <th>569</th>\n",
       "      <td>0.000000</td>\n",
       "      <td>0.000007</td>\n",
       "      <td>0.001206</td>\n",
       "      <td>0.037561</td>\n",
       "      <td>0.043392</td>\n",
       "      <td>0.037092</td>\n",
       "      <td>0.026769</td>\n",
       "      <td>0.016500</td>\n",
       "      <td>0.008290</td>\n",
       "      <td>0.001026</td>\n",
       "      <td>...</td>\n",
       "      <td>0.058500</td>\n",
       "      <td>0.034146</td>\n",
       "      <td>0.017101</td>\n",
       "      <td>2.936009e-03</td>\n",
       "      <td>-2.708846e-03</td>\n",
       "      <td>-0.001158</td>\n",
       "      <td>-0.000133</td>\n",
       "      <td>-8.292432e-06</td>\n",
       "      <td>-3.953094e-07</td>\n",
       "      <td>0.000000</td>\n",
       "    </tr>\n",
       "    <tr>\n",
       "      <th>570</th>\n",
       "      <td>0.000000</td>\n",
       "      <td>0.000000</td>\n",
       "      <td>0.000000</td>\n",
       "      <td>0.000000</td>\n",
       "      <td>0.000000</td>\n",
       "      <td>0.000000</td>\n",
       "      <td>0.000000</td>\n",
       "      <td>0.000000</td>\n",
       "      <td>0.000000</td>\n",
       "      <td>0.000000</td>\n",
       "      <td>...</td>\n",
       "      <td>0.000000</td>\n",
       "      <td>0.000000</td>\n",
       "      <td>0.000000</td>\n",
       "      <td>0.000000e+00</td>\n",
       "      <td>0.000000e+00</td>\n",
       "      <td>0.000000</td>\n",
       "      <td>0.000000</td>\n",
       "      <td>0.000000e+00</td>\n",
       "      <td>0.000000e+00</td>\n",
       "      <td>0.000000</td>\n",
       "    </tr>\n",
       "    <tr>\n",
       "      <th>571</th>\n",
       "      <td>0.000000</td>\n",
       "      <td>0.000000</td>\n",
       "      <td>0.000000</td>\n",
       "      <td>0.000000</td>\n",
       "      <td>0.000000</td>\n",
       "      <td>0.000000</td>\n",
       "      <td>0.000000</td>\n",
       "      <td>0.000000</td>\n",
       "      <td>0.000015</td>\n",
       "      <td>0.000529</td>\n",
       "      <td>...</td>\n",
       "      <td>0.000000</td>\n",
       "      <td>0.000000</td>\n",
       "      <td>0.000000</td>\n",
       "      <td>0.000000e+00</td>\n",
       "      <td>0.000000e+00</td>\n",
       "      <td>0.000000</td>\n",
       "      <td>0.000000</td>\n",
       "      <td>0.000000e+00</td>\n",
       "      <td>0.000000e+00</td>\n",
       "      <td>0.000000</td>\n",
       "    </tr>\n",
       "    <tr>\n",
       "      <th>572</th>\n",
       "      <td>0.000000</td>\n",
       "      <td>0.000000</td>\n",
       "      <td>0.000000</td>\n",
       "      <td>0.000000</td>\n",
       "      <td>0.000000</td>\n",
       "      <td>0.000000</td>\n",
       "      <td>0.000000</td>\n",
       "      <td>0.000000</td>\n",
       "      <td>0.000000</td>\n",
       "      <td>0.000000</td>\n",
       "      <td>...</td>\n",
       "      <td>0.000000</td>\n",
       "      <td>0.000000</td>\n",
       "      <td>0.000000</td>\n",
       "      <td>0.000000e+00</td>\n",
       "      <td>0.000000e+00</td>\n",
       "      <td>0.000000</td>\n",
       "      <td>0.000000</td>\n",
       "      <td>0.000000e+00</td>\n",
       "      <td>0.000000e+00</td>\n",
       "      <td>0.000000</td>\n",
       "    </tr>\n",
       "    <tr>\n",
       "      <th>573</th>\n",
       "      <td>0.025207</td>\n",
       "      <td>0.024781</td>\n",
       "      <td>0.018563</td>\n",
       "      <td>0.009594</td>\n",
       "      <td>0.005087</td>\n",
       "      <td>0.002357</td>\n",
       "      <td>0.001598</td>\n",
       "      <td>0.000855</td>\n",
       "      <td>0.000265</td>\n",
       "      <td>0.000027</td>\n",
       "      <td>...</td>\n",
       "      <td>0.000000</td>\n",
       "      <td>0.000000</td>\n",
       "      <td>0.000000</td>\n",
       "      <td>0.000000e+00</td>\n",
       "      <td>0.000000e+00</td>\n",
       "      <td>0.000000</td>\n",
       "      <td>0.000000</td>\n",
       "      <td>0.000000e+00</td>\n",
       "      <td>0.000000e+00</td>\n",
       "      <td>0.000000</td>\n",
       "    </tr>\n",
       "  </tbody>\n",
       "</table>\n",
       "<p>1148 rows × 85 columns</p>\n",
       "</div>"
      ],
      "text/plain": [
       "lin_binned        0         1         2         3         4         5   \\\n",
       "0 0         0.012415  0.013016  0.031023  0.092830  0.123229  0.158371   \n",
       "  1         0.073457  0.072836  0.077191  0.084063  0.079486  0.070511   \n",
       "  2         0.029974  0.031992  0.038182  0.051829  0.060912  0.043135   \n",
       "  3         0.045303  0.037970  0.027193  0.015754  0.012007  0.009355   \n",
       "  4         0.004116  0.004075  0.004006  0.003832  0.019181  0.060639   \n",
       "...              ...       ...       ...       ...       ...       ...   \n",
       "1 569       0.000000  0.000007  0.001206  0.037561  0.043392  0.037092   \n",
       "  570       0.000000  0.000000  0.000000  0.000000  0.000000  0.000000   \n",
       "  571       0.000000  0.000000  0.000000  0.000000  0.000000  0.000000   \n",
       "  572       0.000000  0.000000  0.000000  0.000000  0.000000  0.000000   \n",
       "  573       0.025207  0.024781  0.018563  0.009594  0.005087  0.002357   \n",
       "\n",
       "lin_binned        6         7         8         9   ...        75        76  \\\n",
       "0 0         0.172602  0.133197  0.093335  0.070708  ...  0.000004  0.000120   \n",
       "  1         0.066594  0.080855  0.128005  0.190351  ...  0.003746  0.001912   \n",
       "  2         0.037604  0.035524  0.037366  0.032646  ...  0.053756  0.051392   \n",
       "  3         0.007371  0.006906  0.007121  0.006694  ...  0.056846  0.037966   \n",
       "  4         0.067754  0.078230  0.091800  0.109086  ... -0.000206 -0.000039   \n",
       "...              ...       ...       ...       ...  ...       ...       ...   \n",
       "1 569       0.026769  0.016500  0.008290  0.001026  ...  0.058500  0.034146   \n",
       "  570       0.000000  0.000000  0.000000  0.000000  ...  0.000000  0.000000   \n",
       "  571       0.000000  0.000000  0.000015  0.000529  ...  0.000000  0.000000   \n",
       "  572       0.000000  0.000000  0.000000  0.000000  ...  0.000000  0.000000   \n",
       "  573       0.001598  0.000855  0.000265  0.000027  ...  0.000000  0.000000   \n",
       "\n",
       "lin_binned        77            78            79        80        81  \\\n",
       "0 0         0.001428  6.883664e-03  1.466908e-02  0.014492  0.011724   \n",
       "  1         0.000129  8.394653e-06  2.478075e-07  0.000000  0.000000   \n",
       "  2         0.045730  4.733129e-02  3.129700e-02  0.019067  0.010810   \n",
       "  3         0.026704  2.426735e-02 -2.147511e-04 -0.000047 -0.000003   \n",
       "  4        -0.000003 -7.658810e-08  0.000000e+00  0.000000  0.000000   \n",
       "...              ...           ...           ...       ...       ...   \n",
       "1 569       0.017101  2.936009e-03 -2.708846e-03 -0.001158 -0.000133   \n",
       "  570       0.000000  0.000000e+00  0.000000e+00  0.000000  0.000000   \n",
       "  571       0.000000  0.000000e+00  0.000000e+00  0.000000  0.000000   \n",
       "  572       0.000000  0.000000e+00  0.000000e+00  0.000000  0.000000   \n",
       "  573       0.000000  0.000000e+00  0.000000e+00  0.000000  0.000000   \n",
       "\n",
       "lin_binned            82            83        84  \n",
       "0 0         1.037619e-02  8.815505e-03  0.007690  \n",
       "  1         0.000000e+00  0.000000e+00  0.000000  \n",
       "  2         6.635146e-03  3.896696e-03  0.002206  \n",
       "  3        -1.097373e-07  0.000000e+00  0.000000  \n",
       "  4         0.000000e+00  0.000000e+00  0.000000  \n",
       "...                  ...           ...       ...  \n",
       "1 569      -8.292432e-06 -3.953094e-07  0.000000  \n",
       "  570       0.000000e+00  0.000000e+00  0.000000  \n",
       "  571       0.000000e+00  0.000000e+00  0.000000  \n",
       "  572       0.000000e+00  0.000000e+00  0.000000  \n",
       "  573       0.000000e+00  0.000000e+00  0.000000  \n",
       "\n",
       "[1148 rows x 85 columns]"
      ]
     },
     "execution_count": 61,
     "metadata": {},
     "output_type": "execute_result"
    }
   ],
   "source": [
    "fr_map_res['fr_map']"
   ]
  },
  {
   "cell_type": "code",
   "execution_count": null,
   "id": "2a8b3e13",
   "metadata": {},
   "outputs": [],
   "source": [
    "spk_beh_df['task'] = 'virtualLinearThomas'"
   ]
  },
  {
   "cell_type": "code",
   "execution_count": 38,
   "id": "5e5334f4",
   "metadata": {},
   "outputs": [],
   "source": [
    "spk_beh_df['trial_type'] = spk_beh_df['isnovel']"
   ]
  },
  {
   "cell_type": "code",
   "execution_count": 39,
   "id": "c3f046a8",
   "metadata": {},
   "outputs": [
    {
     "data": {
      "text/plain": [
       "0       0\n",
       "1       0\n",
       "2       0\n",
       "3       0\n",
       "4       0\n",
       "       ..\n",
       "6289    1\n",
       "6290    1\n",
       "6291    1\n",
       "6292    1\n",
       "6293    1\n",
       "Name: trial_type, Length: 6294, dtype: int64"
      ]
     },
     "execution_count": 39,
     "metadata": {},
     "output_type": "execute_result"
    }
   ],
   "source": [
    "spk_beh_df['trial_type']"
   ]
  },
  {
   "cell_type": "code",
   "execution_count": 73,
   "id": "2a913140",
   "metadata": {},
   "outputs": [],
   "source": [
    "ddf=thomas_db.iloc[0]['data_dir_full']"
   ]
  },
  {
   "cell_type": "code",
   "execution_count": 74,
   "id": "5a0e95d4",
   "metadata": {
    "scrolled": true
   },
   "outputs": [
    {
     "data": {
      "text/plain": [
       "'/mnt/home/szheng/ceph/ad/thomas_data/180301_DG_CA3_CA1/DG/exp_7/day_0'"
      ]
     },
     "execution_count": 74,
     "metadata": {},
     "output_type": "execute_result"
    }
   ],
   "source": [
    "ddf"
   ]
  },
  {
   "cell_type": "code",
   "execution_count": 82,
   "id": "220dcadf",
   "metadata": {},
   "outputs": [
    {
     "data": {
      "text/plain": [
       "<module 'database' from '/mnt/home/szheng/projects/util_code/database.py'>"
      ]
     },
     "execution_count": 82,
     "metadata": {},
     "output_type": "execute_result"
    }
   ],
   "source": [
    "sys.path.append('/mnt/home/szheng/projects/place_variability/code/thomas_18_data/')\n",
    "import fr_map_thomas_all_sess as fmtas\n",
    "reload(fmtas)\n",
    "reload(pa)\n",
    "reload(database)"
   ]
  },
  {
   "cell_type": "code",
   "execution_count": 79,
   "id": "75ccaaff",
   "metadata": {},
   "outputs": [
    {
     "name": "stdout",
     "output_type": "stream",
     "text": [
      "cant format into a dataframe\n",
      "cant format into a dataframe\n",
      "saved at /mnt/home/szheng/ceph/ad/thomas_data/180301_DG_CA3_CA1/DG/exp_7/day_0/fr_map.p\n"
     ]
    }
   ],
   "source": [
    "fr_map_one = fmtas.get_fr_map_one_day(ddf,force_reload=False,load_only=False,dosave=True)"
   ]
  },
  {
   "cell_type": "code",
   "execution_count": 101,
   "id": "d3bb8ae3",
   "metadata": {},
   "outputs": [
    {
     "name": "stdout",
     "output_type": "stream",
     "text": [
      "cant format into a dataframe\n",
      "cant format into a dataframe\n",
      "saved at /mnt/home/szheng/ceph/ad/thomas_data/180301_DG_CA3_CA1/DG/exp_7/day_0/fr_map.p\n",
      "cant format into a dataframe\n",
      "cant format into a dataframe\n",
      "saved at /mnt/home/szheng/ceph/ad/thomas_data/180301_DG_CA3_CA1/DG/exp_7/day_1/fr_map.p\n",
      "cant format into a dataframe\n",
      "cant format into a dataframe\n",
      "saved at /mnt/home/szheng/ceph/ad/thomas_data/180301_DG_CA3_CA1/DG/exp_1/day_0/fr_map.p\n",
      "cant format into a dataframe\n",
      "cant format into a dataframe\n",
      "saved at /mnt/home/szheng/ceph/ad/thomas_data/180301_DG_CA3_CA1/DG/exp_1/day_1/fr_map.p\n",
      "cant format into a dataframe\n",
      "cant format into a dataframe\n",
      "saved at /mnt/home/szheng/ceph/ad/thomas_data/180301_DG_CA3_CA1/DG/exp_9/day_0/fr_map.p\n",
      "cant format into a dataframe\n",
      "cant format into a dataframe\n",
      "saved at /mnt/home/szheng/ceph/ad/thomas_data/180301_DG_CA3_CA1/DG/exp_9/day_1/fr_map.p\n",
      "cant format into a dataframe\n",
      "cant format into a dataframe\n",
      "saved at /mnt/home/szheng/ceph/ad/thomas_data/180301_DG_CA3_CA1/DG/exp_0/day_0/fr_map.p\n",
      "cant format into a dataframe\n",
      "cant format into a dataframe\n",
      "saved at /mnt/home/szheng/ceph/ad/thomas_data/180301_DG_CA3_CA1/DG/exp_0/day_1/fr_map.p\n",
      "cant format into a dataframe\n",
      "cant format into a dataframe\n",
      "saved at /mnt/home/szheng/ceph/ad/thomas_data/180301_DG_CA3_CA1/DG/exp_6/day_0/fr_map.p\n",
      "cant format into a dataframe\n",
      "cant format into a dataframe\n",
      "saved at /mnt/home/szheng/ceph/ad/thomas_data/180301_DG_CA3_CA1/DG/exp_6/day_1/fr_map.p\n",
      "cant format into a dataframe\n",
      "cant format into a dataframe\n",
      "saved at /mnt/home/szheng/ceph/ad/thomas_data/180301_DG_CA3_CA1/DG/exp_5/day_0/fr_map.p\n",
      "cant format into a dataframe\n",
      "cant format into a dataframe\n",
      "saved at /mnt/home/szheng/ceph/ad/thomas_data/180301_DG_CA3_CA1/DG/exp_5/day_1/fr_map.p\n",
      "cant format into a dataframe\n",
      "cant format into a dataframe\n",
      "saved at /mnt/home/szheng/ceph/ad/thomas_data/180301_DG_CA3_CA1/DG/exp_3/day_0/fr_map.p\n",
      "cant format into a dataframe\n",
      "cant format into a dataframe\n",
      "saved at /mnt/home/szheng/ceph/ad/thomas_data/180301_DG_CA3_CA1/DG/exp_3/day_1/fr_map.p\n",
      "cant format into a dataframe\n",
      "cant format into a dataframe\n",
      "saved at /mnt/home/szheng/ceph/ad/thomas_data/180301_DG_CA3_CA1/DG/exp_8/day_0/fr_map.p\n",
      "cant format into a dataframe\n",
      "cant format into a dataframe\n",
      "saved at /mnt/home/szheng/ceph/ad/thomas_data/180301_DG_CA3_CA1/DG/exp_8/day_1/fr_map.p\n",
      "cant format into a dataframe\n",
      "cant format into a dataframe\n",
      "saved at /mnt/home/szheng/ceph/ad/thomas_data/180301_DG_CA3_CA1/DG/exp_10/day_0/fr_map.p\n",
      "cant format into a dataframe\n",
      "cant format into a dataframe\n",
      "saved at /mnt/home/szheng/ceph/ad/thomas_data/180301_DG_CA3_CA1/DG/exp_10/day_1/fr_map.p\n",
      "cant format into a dataframe\n",
      "cant format into a dataframe\n",
      "saved at /mnt/home/szheng/ceph/ad/thomas_data/180301_DG_CA3_CA1/DG/exp_4/day_0/fr_map.p\n",
      "cant format into a dataframe\n",
      "cant format into a dataframe\n",
      "saved at /mnt/home/szheng/ceph/ad/thomas_data/180301_DG_CA3_CA1/DG/exp_4/day_1/fr_map.p\n",
      "cant format into a dataframe\n",
      "cant format into a dataframe\n",
      "saved at /mnt/home/szheng/ceph/ad/thomas_data/180301_DG_CA3_CA1/DG/exp_11/day_3/fr_map.p\n",
      "cant format into a dataframe\n",
      "cant format into a dataframe\n",
      "saved at /mnt/home/szheng/ceph/ad/thomas_data/180301_DG_CA3_CA1/DG/exp_11/day_4/fr_map.p\n",
      "cant format into a dataframe\n",
      "cant format into a dataframe\n",
      "saved at /mnt/home/szheng/ceph/ad/thomas_data/180301_DG_CA3_CA1/DG/exp_11/day_2/fr_map.p\n",
      "cant format into a dataframe\n",
      "cant format into a dataframe\n",
      "saved at /mnt/home/szheng/ceph/ad/thomas_data/180301_DG_CA3_CA1/DG/exp_11/day_0/fr_map.p\n",
      "cant format into a dataframe\n",
      "cant format into a dataframe\n",
      "saved at /mnt/home/szheng/ceph/ad/thomas_data/180301_DG_CA3_CA1/DG/exp_11/day_1/fr_map.p\n",
      "cant format into a dataframe\n",
      "cant format into a dataframe\n",
      "saved at /mnt/home/szheng/ceph/ad/thomas_data/180301_DG_CA3_CA1/CA3/exp_1/day_0/fr_map.p\n",
      "cant format into a dataframe\n",
      "cant format into a dataframe\n",
      "saved at /mnt/home/szheng/ceph/ad/thomas_data/180301_DG_CA3_CA1/CA3/exp_1/day_1/fr_map.p\n",
      "cant format into a dataframe\n",
      "cant format into a dataframe\n",
      "saved at /mnt/home/szheng/ceph/ad/thomas_data/180301_DG_CA3_CA1/CA3/exp_0/day_3/fr_map.p\n",
      "cant format into a dataframe\n",
      "cant format into a dataframe\n",
      "saved at /mnt/home/szheng/ceph/ad/thomas_data/180301_DG_CA3_CA1/CA3/exp_0/day_4/fr_map.p\n",
      "cant format into a dataframe\n",
      "cant format into a dataframe\n",
      "saved at /mnt/home/szheng/ceph/ad/thomas_data/180301_DG_CA3_CA1/CA3/exp_0/day_2/fr_map.p\n",
      "cant format into a dataframe\n",
      "cant format into a dataframe\n",
      "saved at /mnt/home/szheng/ceph/ad/thomas_data/180301_DG_CA3_CA1/CA3/exp_0/day_0/fr_map.p\n",
      "cant format into a dataframe\n",
      "cant format into a dataframe\n",
      "saved at /mnt/home/szheng/ceph/ad/thomas_data/180301_DG_CA3_CA1/CA3/exp_0/day_1/fr_map.p\n",
      "cant format into a dataframe\n",
      "cant format into a dataframe\n",
      "saved at /mnt/home/szheng/ceph/ad/thomas_data/180301_DG_CA3_CA1/CA3/exp_6/day_0/fr_map.p\n",
      "cant format into a dataframe\n",
      "cant format into a dataframe\n",
      "saved at /mnt/home/szheng/ceph/ad/thomas_data/180301_DG_CA3_CA1/CA3/exp_6/day_1/fr_map.p\n",
      "cant format into a dataframe\n",
      "cant format into a dataframe\n",
      "saved at /mnt/home/szheng/ceph/ad/thomas_data/180301_DG_CA3_CA1/CA3/exp_5/day_0/fr_map.p\n",
      "cant format into a dataframe\n",
      "cant format into a dataframe\n",
      "saved at /mnt/home/szheng/ceph/ad/thomas_data/180301_DG_CA3_CA1/CA3/exp_5/day_1/fr_map.p\n",
      "cant format into a dataframe\n",
      "cant format into a dataframe\n",
      "saved at /mnt/home/szheng/ceph/ad/thomas_data/180301_DG_CA3_CA1/CA3/exp_3/day_0/fr_map.p\n",
      "cant format into a dataframe\n",
      "cant format into a dataframe\n",
      "saved at /mnt/home/szheng/ceph/ad/thomas_data/180301_DG_CA3_CA1/CA3/exp_3/day_1/fr_map.p\n",
      "cant format into a dataframe\n",
      "cant format into a dataframe\n",
      "saved at /mnt/home/szheng/ceph/ad/thomas_data/180301_DG_CA3_CA1/CA3/exp_4/day_0/fr_map.p\n",
      "cant format into a dataframe\n",
      "cant format into a dataframe\n",
      "saved at /mnt/home/szheng/ceph/ad/thomas_data/180301_DG_CA3_CA1/CA3/exp_4/day_1/fr_map.p\n",
      "cant format into a dataframe\n",
      "cant format into a dataframe\n",
      "saved at /mnt/home/szheng/ceph/ad/thomas_data/180301_DG_CA3_CA1/CA1/exp_12/day_3/fr_map.p\n",
      "cant format into a dataframe\n",
      "cant format into a dataframe\n",
      "saved at /mnt/home/szheng/ceph/ad/thomas_data/180301_DG_CA3_CA1/CA1/exp_12/day_4/fr_map.p\n",
      "cant format into a dataframe\n",
      "cant format into a dataframe\n",
      "saved at /mnt/home/szheng/ceph/ad/thomas_data/180301_DG_CA3_CA1/CA1/exp_12/day_2/fr_map.p\n",
      "cant format into a dataframe\n",
      "cant format into a dataframe\n",
      "saved at /mnt/home/szheng/ceph/ad/thomas_data/180301_DG_CA3_CA1/CA1/exp_12/day_0/fr_map.p\n",
      "cant format into a dataframe\n",
      "cant format into a dataframe\n",
      "saved at /mnt/home/szheng/ceph/ad/thomas_data/180301_DG_CA3_CA1/CA1/exp_12/day_1/fr_map.p\n",
      "cant format into a dataframe\n",
      "cant format into a dataframe\n",
      "saved at /mnt/home/szheng/ceph/ad/thomas_data/180301_DG_CA3_CA1/CA1/exp_7/day_2/fr_map.p\n",
      "cant format into a dataframe\n",
      "cant format into a dataframe\n",
      "saved at /mnt/home/szheng/ceph/ad/thomas_data/180301_DG_CA3_CA1/CA1/exp_7/day_0/fr_map.p\n",
      "cant format into a dataframe\n",
      "cant format into a dataframe\n",
      "saved at /mnt/home/szheng/ceph/ad/thomas_data/180301_DG_CA3_CA1/CA1/exp_7/day_1/fr_map.p\n",
      "cant format into a dataframe\n",
      "cant format into a dataframe\n",
      "saved at /mnt/home/szheng/ceph/ad/thomas_data/180301_DG_CA3_CA1/CA1/exp_1/day_0/fr_map.p\n",
      "cant format into a dataframe\n",
      "cant format into a dataframe\n",
      "saved at /mnt/home/szheng/ceph/ad/thomas_data/180301_DG_CA3_CA1/CA1/exp_1/day_1/fr_map.p\n",
      "cant format into a dataframe\n",
      "cant format into a dataframe\n",
      "saved at /mnt/home/szheng/ceph/ad/thomas_data/180301_DG_CA3_CA1/CA1/exp_9/day_0/fr_map.p\n",
      "cant format into a dataframe\n",
      "cant format into a dataframe\n",
      "saved at /mnt/home/szheng/ceph/ad/thomas_data/180301_DG_CA3_CA1/CA1/exp_9/day_1/fr_map.p\n",
      "cant format into a dataframe\n",
      "cant format into a dataframe\n",
      "saved at /mnt/home/szheng/ceph/ad/thomas_data/180301_DG_CA3_CA1/CA1/exp_0/day_3/fr_map.p\n",
      "cant format into a dataframe\n",
      "cant format into a dataframe\n",
      "saved at /mnt/home/szheng/ceph/ad/thomas_data/180301_DG_CA3_CA1/CA1/exp_0/day_2/fr_map.p\n",
      "cant format into a dataframe\n",
      "cant format into a dataframe\n",
      "saved at /mnt/home/szheng/ceph/ad/thomas_data/180301_DG_CA3_CA1/CA1/exp_0/day_0/fr_map.p\n",
      "cant format into a dataframe\n",
      "cant format into a dataframe\n",
      "saved at /mnt/home/szheng/ceph/ad/thomas_data/180301_DG_CA3_CA1/CA1/exp_0/day_1/fr_map.p\n"
     ]
    },
    {
     "name": "stdout",
     "output_type": "stream",
     "text": [
      "cant format into a dataframe\n",
      "cant format into a dataframe\n",
      "saved at /mnt/home/szheng/ceph/ad/thomas_data/180301_DG_CA3_CA1/CA1/exp_6/day_0/fr_map.p\n",
      "cant format into a dataframe\n",
      "cant format into a dataframe\n",
      "saved at /mnt/home/szheng/ceph/ad/thomas_data/180301_DG_CA3_CA1/CA1/exp_6/day_1/fr_map.p\n",
      "cant format into a dataframe\n",
      "cant format into a dataframe\n",
      "saved at /mnt/home/szheng/ceph/ad/thomas_data/180301_DG_CA3_CA1/CA1/exp_5/day_0/fr_map.p\n",
      "cant format into a dataframe\n",
      "cant format into a dataframe\n",
      "saved at /mnt/home/szheng/ceph/ad/thomas_data/180301_DG_CA3_CA1/CA1/exp_5/day_1/fr_map.p\n",
      "cant format into a dataframe\n",
      "cant format into a dataframe\n",
      "saved at /mnt/home/szheng/ceph/ad/thomas_data/180301_DG_CA3_CA1/CA1/exp_3/day_0/fr_map.p\n",
      "cant format into a dataframe\n",
      "cant format into a dataframe\n",
      "saved at /mnt/home/szheng/ceph/ad/thomas_data/180301_DG_CA3_CA1/CA1/exp_3/day_1/fr_map.p\n",
      "cant format into a dataframe\n",
      "cant format into a dataframe\n",
      "saved at /mnt/home/szheng/ceph/ad/thomas_data/180301_DG_CA3_CA1/CA1/exp_8/day_2/fr_map.p\n",
      "cant format into a dataframe\n",
      "cant format into a dataframe\n",
      "saved at /mnt/home/szheng/ceph/ad/thomas_data/180301_DG_CA3_CA1/CA1/exp_8/day_0/fr_map.p\n",
      "cant format into a dataframe\n",
      "cant format into a dataframe\n",
      "saved at /mnt/home/szheng/ceph/ad/thomas_data/180301_DG_CA3_CA1/CA1/exp_8/day_1/fr_map.p\n",
      "cant format into a dataframe\n",
      "cant format into a dataframe\n",
      "saved at /mnt/home/szheng/ceph/ad/thomas_data/180301_DG_CA3_CA1/CA1/exp_10/day_3/fr_map.p\n",
      "cant format into a dataframe\n",
      "cant format into a dataframe\n",
      "saved at /mnt/home/szheng/ceph/ad/thomas_data/180301_DG_CA3_CA1/CA1/exp_10/day_4/fr_map.p\n",
      "cant format into a dataframe\n",
      "cant format into a dataframe\n",
      "saved at /mnt/home/szheng/ceph/ad/thomas_data/180301_DG_CA3_CA1/CA1/exp_10/day_2/fr_map.p\n",
      "cant format into a dataframe\n",
      "cant format into a dataframe\n",
      "saved at /mnt/home/szheng/ceph/ad/thomas_data/180301_DG_CA3_CA1/CA1/exp_10/day_0/fr_map.p\n",
      "cant format into a dataframe\n",
      "cant format into a dataframe\n",
      "saved at /mnt/home/szheng/ceph/ad/thomas_data/180301_DG_CA3_CA1/CA1/exp_10/day_1/fr_map.p\n",
      "cant format into a dataframe\n",
      "cant format into a dataframe\n",
      "saved at /mnt/home/szheng/ceph/ad/thomas_data/180301_DG_CA3_CA1/CA1/exp_13/day_3/fr_map.p\n",
      "cant format into a dataframe\n",
      "cant format into a dataframe\n",
      "saved at /mnt/home/szheng/ceph/ad/thomas_data/180301_DG_CA3_CA1/CA1/exp_13/day_4/fr_map.p\n",
      "cant format into a dataframe\n",
      "cant format into a dataframe\n",
      "saved at /mnt/home/szheng/ceph/ad/thomas_data/180301_DG_CA3_CA1/CA1/exp_13/day_2/fr_map.p\n",
      "cant format into a dataframe\n",
      "cant format into a dataframe\n",
      "saved at /mnt/home/szheng/ceph/ad/thomas_data/180301_DG_CA3_CA1/CA1/exp_13/day_0/fr_map.p\n",
      "cant format into a dataframe\n",
      "cant format into a dataframe\n",
      "saved at /mnt/home/szheng/ceph/ad/thomas_data/180301_DG_CA3_CA1/CA1/exp_13/day_1/fr_map.p\n",
      "cant format into a dataframe\n",
      "cant format into a dataframe\n",
      "saved at /mnt/home/szheng/ceph/ad/thomas_data/180301_DG_CA3_CA1/CA1/exp_4/day_0/fr_map.p\n",
      "cant format into a dataframe\n",
      "cant format into a dataframe\n",
      "saved at /mnt/home/szheng/ceph/ad/thomas_data/180301_DG_CA3_CA1/CA1/exp_4/day_1/fr_map.p\n",
      "cant format into a dataframe\n",
      "cant format into a dataframe\n",
      "saved at /mnt/home/szheng/ceph/ad/thomas_data/180301_DG_CA3_CA1/CA1/exp_11/day_3/fr_map.p\n",
      "cant format into a dataframe\n",
      "cant format into a dataframe\n",
      "saved at /mnt/home/szheng/ceph/ad/thomas_data/180301_DG_CA3_CA1/CA1/exp_11/day_4/fr_map.p\n",
      "cant format into a dataframe\n",
      "cant format into a dataframe\n",
      "saved at /mnt/home/szheng/ceph/ad/thomas_data/180301_DG_CA3_CA1/CA1/exp_11/day_2/fr_map.p\n",
      "cant format into a dataframe\n",
      "cant format into a dataframe\n",
      "saved at /mnt/home/szheng/ceph/ad/thomas_data/180301_DG_CA3_CA1/CA1/exp_11/day_0/fr_map.p\n",
      "cant format into a dataframe\n",
      "cant format into a dataframe\n",
      "saved at /mnt/home/szheng/ceph/ad/thomas_data/180301_DG_CA3_CA1/CA1/exp_11/day_1/fr_map.p\n",
      "cant format into a dataframe\n",
      "cant format into a dataframe\n",
      "saved at /mnt/home/szheng/ceph/ad/thomas_data/180301_DG_CA3_CA1/CA1/exp_14/day_3/fr_map.p\n",
      "cant format into a dataframe\n",
      "cant format into a dataframe\n",
      "saved at /mnt/home/szheng/ceph/ad/thomas_data/180301_DG_CA3_CA1/CA1/exp_14/day_4/fr_map.p\n",
      "cant format into a dataframe\n",
      "cant format into a dataframe\n",
      "saved at /mnt/home/szheng/ceph/ad/thomas_data/180301_DG_CA3_CA1/CA1/exp_14/day_2/fr_map.p\n",
      "cant format into a dataframe\n",
      "cant format into a dataframe\n",
      "saved at /mnt/home/szheng/ceph/ad/thomas_data/180301_DG_CA3_CA1/CA1/exp_14/day_0/fr_map.p\n",
      "cant format into a dataframe\n",
      "cant format into a dataframe\n",
      "saved at /mnt/home/szheng/ceph/ad/thomas_data/180301_DG_CA3_CA1/CA1/exp_14/day_1/fr_map.p\n",
      "saved at /mnt/home/szheng/ceph/ad/thomas_data/180301_DG_CA3_CA1/fr_map_all.p\n",
      "CPU times: user 44.7 s, sys: 6.1 s, total: 50.8 s\n",
      "Wall time: 1min 27s\n"
     ]
    }
   ],
   "source": [
    "%%time\n",
    "reload(fmtas)\n",
    "fr_map_res_all = fmtas.main(force_reload=True,load_only=False,dosave=True,bin_size=0.05,gauss_width=0.1)"
   ]
  },
  {
   "cell_type": "markdown",
   "id": "12e3966e",
   "metadata": {},
   "source": [
    "# try embedding of the sessions"
   ]
  },
  {
   "cell_type": "code",
   "execution_count": 56,
   "id": "11fdf077",
   "metadata": {},
   "outputs": [],
   "source": [
    "from scipy.spatial.distance import cdist,pdist,squareform"
   ]
  },
  {
   "cell_type": "code",
   "execution_count": 9,
   "id": "829e24f3",
   "metadata": {},
   "outputs": [
    {
     "name": "stdout",
     "output_type": "stream",
     "text": [
      "/mnt/home/szheng/ceph/ad/thomas_data/180301_DG_CA3_CA1/fr_map_all.p exists; loading---\n",
      "CPU times: user 650 ms, sys: 3.4 s, total: 4.05 s\n",
      "Wall time: 4.05 s\n"
     ]
    }
   ],
   "source": [
    "%%time\n",
    "fr_map_res_all = fmtas.main(force_reload=False,load_only=True,dosave=True)"
   ]
  },
  {
   "cell_type": "code",
   "execution_count": 11,
   "id": "83cdd172",
   "metadata": {
    "scrolled": false
   },
   "outputs": [
    {
     "name": "stderr",
     "output_type": "stream",
     "text": [
      "/tmp/ipykernel_614291/2013469220.py:1: PerformanceWarning: indexing past lexsort depth may impact performance.\n",
      "  fr_map_one_exp = fr_map_res_all['fr_map_all'].loc['CA1',0]\n"
     ]
    }
   ],
   "source": [
    "fr_map_one_exp = fr_map_res_all['fr_map_all'].loc['CA1',0]"
   ]
  },
  {
   "cell_type": "code",
   "execution_count": 51,
   "id": "80e96bda",
   "metadata": {},
   "outputs": [],
   "source": [
    "from netrep.metrics import LinearMetric,GaussianStochasticMetric\n",
    "\n",
    "# Rotationally invariant metric (fully regularized).\n",
    "proc_metric = LinearMetric(alpha=1.0, center_columns=True,zero_pad=True)\n",
    "gauss_metric = GaussianStochasticMetric(alpha=1)"
   ]
  },
  {
   "cell_type": "code",
   "execution_count": 45,
   "id": "04f7ca8c",
   "metadata": {},
   "outputs": [],
   "source": [
    "k_l = []\n",
    "val_l = []\n",
    "val_flatten_l = []\n",
    "val_max_norm_l = []\n",
    "val_max_norm_flatten_l = []\n",
    "common_ind = range(5,180)\n",
    "comparison_sc = 0.5\n",
    "for k,val in fr_map_one_exp.groupby(level=(0,1)):\n",
    "    k_l.append(k)\n",
    "    val = val[common_ind].fillna(0)\n",
    "    total_max = val.max().max()\n",
    "    val_max_norm = val / np.maximum(np.max(val.values,axis=1,keepdims=True),total_max*comparison_sc)\n",
    "    val_max_norm_l.append(val_max_norm)\n",
    "    val_l.append(val)\n",
    "    val_flatten_l.append(val.values.flatten())\n",
    "    val_max_norm_flatten_l.append(val_max_norm.values.flatten())\n",
    "val_flatten_l=np.array(val_flatten_l)\n",
    "val_max_norm_flatten_l = np.array(val_max_norm_flatten_l)\n",
    "k_l =np.array(k_l)\n"
   ]
  },
  {
   "cell_type": "code",
   "execution_count": 60,
   "id": "67f63d03",
   "metadata": {},
   "outputs": [],
   "source": [
    "fr_map_all = fr_map_res_all['fr_map_all']"
   ]
  },
  {
   "cell_type": "code",
   "execution_count": 63,
   "id": "ffc6027c",
   "metadata": {},
   "outputs": [],
   "source": [
    "exp_ind = 0\n",
    "fr_map_all_sub = fr_map_all.loc[(slice(None),exp_ind,slice(None),slice(None)),:]"
   ]
  },
  {
   "cell_type": "code",
   "execution_count": 78,
   "id": "b9c14fd9",
   "metadata": {},
   "outputs": [
    {
     "name": "stderr",
     "output_type": "stream",
     "text": [
      "/tmp/ipykernel_614291/1407447170.py:22: VisibleDeprecationWarning: Creating an ndarray from ragged nested sequences (which is a list-or-tuple of lists-or-tuples-or ndarrays with different lengths or shapes) is deprecated. If you meant to do this, you must specify 'dtype=object' when creating the ndarray.\n",
      "  val_flatten_l=np.array(val_flatten_l)\n",
      "/tmp/ipykernel_614291/1407447170.py:23: VisibleDeprecationWarning: Creating an ndarray from ragged nested sequences (which is a list-or-tuple of lists-or-tuples-or ndarrays with different lengths or shapes) is deprecated. If you meant to do this, you must specify 'dtype=object' when creating the ndarray.\n",
      "  val_max_norm_flatten_l = np.array(val_max_norm_flatten_l)\n"
     ]
    }
   ],
   "source": [
    "gpb = fr_map_all_sub.groupby(level=(0,1,2,3))\n",
    "\n",
    "k_l = []\n",
    "val_l = []\n",
    "val_flatten_l = []\n",
    "val_max_norm_l = []\n",
    "val_max_norm_flatten_l = []\n",
    "common_ind = range(0,40)\n",
    "comparison_sc = 0.5\n",
    "for k,val in gpb:\n",
    "    k_l.append(k)\n",
    "    val = val[common_ind].fillna(0)\n",
    "    not_all_0 = val.sum(axis=1)!=0\n",
    "    val = val.loc[not_all_0]\n",
    "    \n",
    "    total_max = val.max().max()\n",
    "    val_max_norm = val / np.maximum(np.max(val.values,axis=1,keepdims=True),total_max*comparison_sc)\n",
    "    val_max_norm_l.append(val_max_norm.T)\n",
    "    val_l.append(val.T)\n",
    "    val_flatten_l.append(val.values.flatten())\n",
    "    val_max_norm_flatten_l.append(val_max_norm.values.flatten())\n",
    "val_flatten_l=np.array(val_flatten_l)\n",
    "val_max_norm_flatten_l = np.array(val_max_norm_flatten_l)\n",
    "k_l =np.array(k_l)\n",
    "\n",
    "\n"
   ]
  },
  {
   "cell_type": "code",
   "execution_count": 15,
   "id": "3a3d2a7c",
   "metadata": {},
   "outputs": [],
   "source": [
    "#euc dist\n",
    "euc_dist = squareform(pdist(val_flatten_l))\n",
    "euc_dist_max_norm = squareform(pdist(val_max_norm_flatten_l))\n",
    "corr_dist = squareform(pdist(val_flatten_l,'correlation'))\n",
    "corr_dist_max_norm = squareform(pdist(val_max_norm_flatten_l,'correlation'))\n",
    "cos_dist =squareform(pdist(val_flatten_l,'cosine'))\n",
    "cos_dist_max_norm =squareform(pdist(val_max_norm_flatten_l,'cosine'))"
   ]
  },
  {
   "cell_type": "code",
   "execution_count": 77,
   "id": "2612efad",
   "metadata": {},
   "outputs": [
    {
     "data": {
      "text/plain": [
       "21"
      ]
     },
     "execution_count": 77,
     "metadata": {},
     "output_type": "execute_result"
    }
   ],
   "source": [
    "(val_l[2].sum(axis=0)==0).sum()"
   ]
  },
  {
   "cell_type": "code",
   "execution_count": 79,
   "id": "d9eee0de",
   "metadata": {},
   "outputs": [
    {
     "name": "stdout",
     "output_type": "stream",
     "text": [
      "Parallelizing 210 distance calculations with 40 processes.\n"
     ]
    },
    {
     "name": "stderr",
     "output_type": "stream",
     "text": [
      "Computing distances: 100%|██████████| 210/210 [00:24<00:00,  8.64it/s]\n"
     ]
    }
   ],
   "source": [
    "# shape\n",
    "proc_dist, _ = proc_metric.pairwise_distances(val_l,verbose=True)\n",
    "# proc_dist_max_norm, _ = proc_metric.pairwise_distances(val_max_norm_l,verbose=True)"
   ]
  },
  {
   "cell_type": "code",
   "execution_count": 84,
   "id": "1fb13627",
   "metadata": {},
   "outputs": [],
   "source": [
    "k_l = pd.DataFrame(k_l,columns=['region','exp_ind','day_ind','isnovel'])\n",
    "mds_res_proc = fit_mds(proc_dist,k_l)"
   ]
  },
  {
   "cell_type": "code",
   "execution_count": 17,
   "id": "abf4cba3",
   "metadata": {},
   "outputs": [],
   "source": [
    "all_dist_d = {\n",
    "    'euc':euc_dist,\n",
    "    'euc_max_norm':euc_dist_max_norm,\n",
    "    'corr':corr_dist,\n",
    "    'corr_max_norm':corr_dist_max_norm,\n",
    "    'cos':cos_dist,\n",
    "    'cos_max_norm':cos_dist_max_norm\n",
    "}"
   ]
  },
  {
   "cell_type": "code",
   "execution_count": 38,
   "id": "ee9d5a39",
   "metadata": {},
   "outputs": [],
   "source": [
    "all_dist_d['proc'] = proc_dist\n",
    "all_dist_d['proc_max_norm'] = proc_dist_max_norm"
   ]
  },
  {
   "cell_type": "code",
   "execution_count": 18,
   "id": "7faddfb4",
   "metadata": {},
   "outputs": [],
   "source": [
    "from sklearn.manifold import MDS"
   ]
  },
  {
   "cell_type": "code",
   "execution_count": 82,
   "id": "f9af6306",
   "metadata": {},
   "outputs": [],
   "source": [
    "def fit_mds(dist_mat,label_l):\n",
    "    mds=MDS(n_components=2,dissimilarity=\"precomputed\")\n",
    "    coord = mds.fit_transform(dist_mat)\n",
    "    mds_res = pd.DataFrame(coord)\n",
    "    if isinstance(label_l,pd.DataFrame):\n",
    "        mds_res = pd.concat([mds_res,label_l],axis=1)\n",
    "    else:\n",
    "        mds_res['day_ind'] =label_l[:,0]\n",
    "        mds_res['isnovel'] =label_l[:,1]\n",
    "    return mds_res\n",
    "    "
   ]
  },
  {
   "cell_type": "code",
   "execution_count": 83,
   "id": "1ca41171",
   "metadata": {},
   "outputs": [],
   "source": [
    "mds_res_d = {}\n",
    "for k,dist_mat in all_dist_d.items():\n",
    "    mds_res = fit_mds(dist_mat,k_l)\n",
    "    mds_res_d[k] = mds_res"
   ]
  },
  {
   "cell_type": "code",
   "execution_count": 100,
   "id": "17c92f18",
   "metadata": {},
   "outputs": [
    {
     "name": "stderr",
     "output_type": "stream",
     "text": [
      "/tmp/ipykernel_614291/3398844109.py:1: PerformanceWarning: indexing past lexsort depth may impact performance.\n",
      "  fr_map_all.loc['DG',0,0,0]\n"
     ]
    },
    {
     "data": {
      "text/html": [
       "<div>\n",
       "<style scoped>\n",
       "    .dataframe tbody tr th:only-of-type {\n",
       "        vertical-align: middle;\n",
       "    }\n",
       "\n",
       "    .dataframe tbody tr th {\n",
       "        vertical-align: top;\n",
       "    }\n",
       "\n",
       "    .dataframe thead th {\n",
       "        text-align: right;\n",
       "    }\n",
       "</style>\n",
       "<table border=\"1\" class=\"dataframe\">\n",
       "  <thead>\n",
       "    <tr style=\"text-align: right;\">\n",
       "      <th>lin_binned</th>\n",
       "      <th>0</th>\n",
       "      <th>1</th>\n",
       "      <th>2</th>\n",
       "      <th>3</th>\n",
       "      <th>4</th>\n",
       "      <th>5</th>\n",
       "      <th>6</th>\n",
       "      <th>7</th>\n",
       "      <th>8</th>\n",
       "      <th>9</th>\n",
       "      <th>...</th>\n",
       "      <th>32</th>\n",
       "      <th>33</th>\n",
       "      <th>34</th>\n",
       "      <th>35</th>\n",
       "      <th>36</th>\n",
       "      <th>37</th>\n",
       "      <th>38</th>\n",
       "      <th>39</th>\n",
       "      <th>40</th>\n",
       "      <th>41</th>\n",
       "    </tr>\n",
       "  </thead>\n",
       "  <tbody>\n",
       "    <tr>\n",
       "      <th>0</th>\n",
       "      <td>0.003094</td>\n",
       "      <td>0.000000</td>\n",
       "      <td>0.114855</td>\n",
       "      <td>0.166313</td>\n",
       "      <td>0.084213</td>\n",
       "      <td>0.032331</td>\n",
       "      <td>0.056138</td>\n",
       "      <td>0.054180</td>\n",
       "      <td>0.036762</td>\n",
       "      <td>0.014948</td>\n",
       "      <td>...</td>\n",
       "      <td>0.000000</td>\n",
       "      <td>0.000000</td>\n",
       "      <td>0.000000</td>\n",
       "      <td>0.000000</td>\n",
       "      <td>0.000000</td>\n",
       "      <td>0.000000</td>\n",
       "      <td>0.000000</td>\n",
       "      <td>0.013219</td>\n",
       "      <td>0.012246</td>\n",
       "      <td>0.0</td>\n",
       "    </tr>\n",
       "    <tr>\n",
       "      <th>1</th>\n",
       "      <td>0.073613</td>\n",
       "      <td>0.079002</td>\n",
       "      <td>0.075243</td>\n",
       "      <td>0.064607</td>\n",
       "      <td>0.154960</td>\n",
       "      <td>0.251628</td>\n",
       "      <td>0.185033</td>\n",
       "      <td>0.202394</td>\n",
       "      <td>0.134465</td>\n",
       "      <td>0.176715</td>\n",
       "      <td>...</td>\n",
       "      <td>0.001377</td>\n",
       "      <td>0.043360</td>\n",
       "      <td>0.114719</td>\n",
       "      <td>0.061634</td>\n",
       "      <td>0.012496</td>\n",
       "      <td>0.003380</td>\n",
       "      <td>0.000000</td>\n",
       "      <td>0.000000</td>\n",
       "      <td>0.000000</td>\n",
       "      <td>0.0</td>\n",
       "    </tr>\n",
       "    <tr>\n",
       "      <th>2</th>\n",
       "      <td>0.031192</td>\n",
       "      <td>0.000000</td>\n",
       "      <td>0.047661</td>\n",
       "      <td>0.033417</td>\n",
       "      <td>0.033629</td>\n",
       "      <td>0.023535</td>\n",
       "      <td>0.008766</td>\n",
       "      <td>0.000000</td>\n",
       "      <td>0.000000</td>\n",
       "      <td>0.000000</td>\n",
       "      <td>...</td>\n",
       "      <td>0.000000</td>\n",
       "      <td>0.000000</td>\n",
       "      <td>0.000000</td>\n",
       "      <td>0.000000</td>\n",
       "      <td>0.023376</td>\n",
       "      <td>0.061832</td>\n",
       "      <td>0.026692</td>\n",
       "      <td>0.040982</td>\n",
       "      <td>0.012092</td>\n",
       "      <td>0.0</td>\n",
       "    </tr>\n",
       "    <tr>\n",
       "      <th>3</th>\n",
       "      <td>0.040462</td>\n",
       "      <td>0.000000</td>\n",
       "      <td>0.011170</td>\n",
       "      <td>0.005031</td>\n",
       "      <td>0.007193</td>\n",
       "      <td>0.003025</td>\n",
       "      <td>0.009826</td>\n",
       "      <td>0.009125</td>\n",
       "      <td>0.040199</td>\n",
       "      <td>0.016434</td>\n",
       "      <td>...</td>\n",
       "      <td>0.088968</td>\n",
       "      <td>0.079920</td>\n",
       "      <td>0.040577</td>\n",
       "      <td>0.012572</td>\n",
       "      <td>0.039481</td>\n",
       "      <td>0.078108</td>\n",
       "      <td>0.003006</td>\n",
       "      <td>-0.000357</td>\n",
       "      <td>0.000000</td>\n",
       "      <td>0.0</td>\n",
       "    </tr>\n",
       "    <tr>\n",
       "      <th>4</th>\n",
       "      <td>0.000000</td>\n",
       "      <td>0.000000</td>\n",
       "      <td>0.003087</td>\n",
       "      <td>0.009661</td>\n",
       "      <td>0.082080</td>\n",
       "      <td>0.104851</td>\n",
       "      <td>0.044969</td>\n",
       "      <td>0.034616</td>\n",
       "      <td>0.074107</td>\n",
       "      <td>0.031790</td>\n",
       "      <td>...</td>\n",
       "      <td>0.047931</td>\n",
       "      <td>0.127385</td>\n",
       "      <td>0.072943</td>\n",
       "      <td>0.016741</td>\n",
       "      <td>0.002377</td>\n",
       "      <td>-0.000248</td>\n",
       "      <td>0.000000</td>\n",
       "      <td>0.000000</td>\n",
       "      <td>0.000000</td>\n",
       "      <td>0.0</td>\n",
       "    </tr>\n",
       "    <tr>\n",
       "      <th>...</th>\n",
       "      <td>...</td>\n",
       "      <td>...</td>\n",
       "      <td>...</td>\n",
       "      <td>...</td>\n",
       "      <td>...</td>\n",
       "      <td>...</td>\n",
       "      <td>...</td>\n",
       "      <td>...</td>\n",
       "      <td>...</td>\n",
       "      <td>...</td>\n",
       "      <td>...</td>\n",
       "      <td>...</td>\n",
       "      <td>...</td>\n",
       "      <td>...</td>\n",
       "      <td>...</td>\n",
       "      <td>...</td>\n",
       "      <td>...</td>\n",
       "      <td>...</td>\n",
       "      <td>...</td>\n",
       "      <td>...</td>\n",
       "      <td>...</td>\n",
       "    </tr>\n",
       "    <tr>\n",
       "      <th>569</th>\n",
       "      <td>0.000000</td>\n",
       "      <td>0.000000</td>\n",
       "      <td>0.013323</td>\n",
       "      <td>0.011818</td>\n",
       "      <td>0.001427</td>\n",
       "      <td>0.000247</td>\n",
       "      <td>0.000000</td>\n",
       "      <td>0.000000</td>\n",
       "      <td>0.000000</td>\n",
       "      <td>0.007396</td>\n",
       "      <td>...</td>\n",
       "      <td>0.000000</td>\n",
       "      <td>0.000000</td>\n",
       "      <td>0.020095</td>\n",
       "      <td>0.064939</td>\n",
       "      <td>0.043539</td>\n",
       "      <td>0.003355</td>\n",
       "      <td>-0.000372</td>\n",
       "      <td>0.000000</td>\n",
       "      <td>0.000000</td>\n",
       "      <td>0.0</td>\n",
       "    </tr>\n",
       "    <tr>\n",
       "      <th>570</th>\n",
       "      <td>0.000000</td>\n",
       "      <td>0.000000</td>\n",
       "      <td>0.000000</td>\n",
       "      <td>0.000000</td>\n",
       "      <td>0.000000</td>\n",
       "      <td>0.000000</td>\n",
       "      <td>0.000000</td>\n",
       "      <td>0.000000</td>\n",
       "      <td>0.000000</td>\n",
       "      <td>0.000000</td>\n",
       "      <td>...</td>\n",
       "      <td>0.000000</td>\n",
       "      <td>0.000000</td>\n",
       "      <td>0.000000</td>\n",
       "      <td>0.000000</td>\n",
       "      <td>0.000000</td>\n",
       "      <td>0.000000</td>\n",
       "      <td>0.000000</td>\n",
       "      <td>0.000000</td>\n",
       "      <td>0.000000</td>\n",
       "      <td>0.0</td>\n",
       "    </tr>\n",
       "    <tr>\n",
       "      <th>571</th>\n",
       "      <td>0.000000</td>\n",
       "      <td>0.000000</td>\n",
       "      <td>0.008816</td>\n",
       "      <td>0.004459</td>\n",
       "      <td>-0.000734</td>\n",
       "      <td>0.000000</td>\n",
       "      <td>0.005849</td>\n",
       "      <td>0.000000</td>\n",
       "      <td>0.000000</td>\n",
       "      <td>0.000000</td>\n",
       "      <td>...</td>\n",
       "      <td>0.000000</td>\n",
       "      <td>0.000000</td>\n",
       "      <td>0.000000</td>\n",
       "      <td>0.000000</td>\n",
       "      <td>0.000000</td>\n",
       "      <td>0.000000</td>\n",
       "      <td>0.000000</td>\n",
       "      <td>0.000000</td>\n",
       "      <td>0.000000</td>\n",
       "      <td>0.0</td>\n",
       "    </tr>\n",
       "    <tr>\n",
       "      <th>572</th>\n",
       "      <td>0.000756</td>\n",
       "      <td>0.000000</td>\n",
       "      <td>0.007751</td>\n",
       "      <td>0.001473</td>\n",
       "      <td>0.001242</td>\n",
       "      <td>0.000000</td>\n",
       "      <td>0.000000</td>\n",
       "      <td>0.000000</td>\n",
       "      <td>0.000000</td>\n",
       "      <td>0.000000</td>\n",
       "      <td>...</td>\n",
       "      <td>0.000000</td>\n",
       "      <td>0.000000</td>\n",
       "      <td>0.000000</td>\n",
       "      <td>0.000000</td>\n",
       "      <td>0.008809</td>\n",
       "      <td>0.001294</td>\n",
       "      <td>0.000000</td>\n",
       "      <td>0.000000</td>\n",
       "      <td>0.000000</td>\n",
       "      <td>0.0</td>\n",
       "    </tr>\n",
       "    <tr>\n",
       "      <th>573</th>\n",
       "      <td>0.000813</td>\n",
       "      <td>0.000000</td>\n",
       "      <td>0.012983</td>\n",
       "      <td>0.027222</td>\n",
       "      <td>0.009449</td>\n",
       "      <td>0.001522</td>\n",
       "      <td>0.004725</td>\n",
       "      <td>0.008218</td>\n",
       "      <td>0.000000</td>\n",
       "      <td>0.000000</td>\n",
       "      <td>...</td>\n",
       "      <td>0.000000</td>\n",
       "      <td>0.000000</td>\n",
       "      <td>0.005038</td>\n",
       "      <td>0.000000</td>\n",
       "      <td>0.000000</td>\n",
       "      <td>0.000000</td>\n",
       "      <td>0.000000</td>\n",
       "      <td>0.000000</td>\n",
       "      <td>0.002150</td>\n",
       "      <td>0.0</td>\n",
       "    </tr>\n",
       "  </tbody>\n",
       "</table>\n",
       "<p>574 rows × 42 columns</p>\n",
       "</div>"
      ],
      "text/plain": [
       "lin_binned        0         1         2         3         4         5   \\\n",
       "0           0.003094  0.000000  0.114855  0.166313  0.084213  0.032331   \n",
       "1           0.073613  0.079002  0.075243  0.064607  0.154960  0.251628   \n",
       "2           0.031192  0.000000  0.047661  0.033417  0.033629  0.023535   \n",
       "3           0.040462  0.000000  0.011170  0.005031  0.007193  0.003025   \n",
       "4           0.000000  0.000000  0.003087  0.009661  0.082080  0.104851   \n",
       "..               ...       ...       ...       ...       ...       ...   \n",
       "569         0.000000  0.000000  0.013323  0.011818  0.001427  0.000247   \n",
       "570         0.000000  0.000000  0.000000  0.000000  0.000000  0.000000   \n",
       "571         0.000000  0.000000  0.008816  0.004459 -0.000734  0.000000   \n",
       "572         0.000756  0.000000  0.007751  0.001473  0.001242  0.000000   \n",
       "573         0.000813  0.000000  0.012983  0.027222  0.009449  0.001522   \n",
       "\n",
       "lin_binned        6         7         8         9   ...        32        33  \\\n",
       "0           0.056138  0.054180  0.036762  0.014948  ...  0.000000  0.000000   \n",
       "1           0.185033  0.202394  0.134465  0.176715  ...  0.001377  0.043360   \n",
       "2           0.008766  0.000000  0.000000  0.000000  ...  0.000000  0.000000   \n",
       "3           0.009826  0.009125  0.040199  0.016434  ...  0.088968  0.079920   \n",
       "4           0.044969  0.034616  0.074107  0.031790  ...  0.047931  0.127385   \n",
       "..               ...       ...       ...       ...  ...       ...       ...   \n",
       "569         0.000000  0.000000  0.000000  0.007396  ...  0.000000  0.000000   \n",
       "570         0.000000  0.000000  0.000000  0.000000  ...  0.000000  0.000000   \n",
       "571         0.005849  0.000000  0.000000  0.000000  ...  0.000000  0.000000   \n",
       "572         0.000000  0.000000  0.000000  0.000000  ...  0.000000  0.000000   \n",
       "573         0.004725  0.008218  0.000000  0.000000  ...  0.000000  0.000000   \n",
       "\n",
       "lin_binned        34        35        36        37        38        39  \\\n",
       "0           0.000000  0.000000  0.000000  0.000000  0.000000  0.013219   \n",
       "1           0.114719  0.061634  0.012496  0.003380  0.000000  0.000000   \n",
       "2           0.000000  0.000000  0.023376  0.061832  0.026692  0.040982   \n",
       "3           0.040577  0.012572  0.039481  0.078108  0.003006 -0.000357   \n",
       "4           0.072943  0.016741  0.002377 -0.000248  0.000000  0.000000   \n",
       "..               ...       ...       ...       ...       ...       ...   \n",
       "569         0.020095  0.064939  0.043539  0.003355 -0.000372  0.000000   \n",
       "570         0.000000  0.000000  0.000000  0.000000  0.000000  0.000000   \n",
       "571         0.000000  0.000000  0.000000  0.000000  0.000000  0.000000   \n",
       "572         0.000000  0.000000  0.008809  0.001294  0.000000  0.000000   \n",
       "573         0.005038  0.000000  0.000000  0.000000  0.000000  0.000000   \n",
       "\n",
       "lin_binned        40   41  \n",
       "0           0.012246  0.0  \n",
       "1           0.000000  0.0  \n",
       "2           0.012092  0.0  \n",
       "3           0.000000  0.0  \n",
       "4           0.000000  0.0  \n",
       "..               ...  ...  \n",
       "569         0.000000  0.0  \n",
       "570         0.000000  0.0  \n",
       "571         0.000000  0.0  \n",
       "572         0.000000  0.0  \n",
       "573         0.002150  0.0  \n",
       "\n",
       "[574 rows x 42 columns]"
      ]
     },
     "execution_count": 100,
     "metadata": {},
     "output_type": "execute_result"
    }
   ],
   "source": [
    "fr_map_all.loc['DG',0,0,0]"
   ]
  },
  {
   "cell_type": "code",
   "execution_count": 99,
   "id": "69c1d7ed",
   "metadata": {},
   "outputs": [
    {
     "name": "stderr",
     "output_type": "stream",
     "text": [
      "/tmp/ipykernel_614291/4010058574.py:1: PerformanceWarning: indexing past lexsort depth may impact performance.\n",
      "  fr_map_all.loc['CA1',0,0,0]\n"
     ]
    },
    {
     "data": {
      "text/html": [
       "<div>\n",
       "<style scoped>\n",
       "    .dataframe tbody tr th:only-of-type {\n",
       "        vertical-align: middle;\n",
       "    }\n",
       "\n",
       "    .dataframe tbody tr th {\n",
       "        vertical-align: top;\n",
       "    }\n",
       "\n",
       "    .dataframe thead th {\n",
       "        text-align: right;\n",
       "    }\n",
       "</style>\n",
       "<table border=\"1\" class=\"dataframe\">\n",
       "  <thead>\n",
       "    <tr style=\"text-align: right;\">\n",
       "      <th>lin_binned</th>\n",
       "      <th>0</th>\n",
       "      <th>1</th>\n",
       "      <th>2</th>\n",
       "      <th>3</th>\n",
       "      <th>4</th>\n",
       "      <th>5</th>\n",
       "      <th>6</th>\n",
       "      <th>7</th>\n",
       "      <th>8</th>\n",
       "      <th>9</th>\n",
       "      <th>...</th>\n",
       "      <th>32</th>\n",
       "      <th>33</th>\n",
       "      <th>34</th>\n",
       "      <th>35</th>\n",
       "      <th>36</th>\n",
       "      <th>37</th>\n",
       "      <th>38</th>\n",
       "      <th>39</th>\n",
       "      <th>40</th>\n",
       "      <th>41</th>\n",
       "    </tr>\n",
       "  </thead>\n",
       "  <tbody>\n",
       "    <tr>\n",
       "      <th>0</th>\n",
       "      <td>0.003094</td>\n",
       "      <td>0.000000</td>\n",
       "      <td>0.114855</td>\n",
       "      <td>0.166313</td>\n",
       "      <td>0.084213</td>\n",
       "      <td>0.032331</td>\n",
       "      <td>0.056138</td>\n",
       "      <td>0.054180</td>\n",
       "      <td>0.036762</td>\n",
       "      <td>0.014948</td>\n",
       "      <td>...</td>\n",
       "      <td>0.000000</td>\n",
       "      <td>0.000000</td>\n",
       "      <td>0.000000</td>\n",
       "      <td>0.000000</td>\n",
       "      <td>0.000000</td>\n",
       "      <td>0.000000</td>\n",
       "      <td>0.000000</td>\n",
       "      <td>0.013219</td>\n",
       "      <td>0.012246</td>\n",
       "      <td>0.0</td>\n",
       "    </tr>\n",
       "    <tr>\n",
       "      <th>1</th>\n",
       "      <td>0.073613</td>\n",
       "      <td>0.079002</td>\n",
       "      <td>0.075243</td>\n",
       "      <td>0.064607</td>\n",
       "      <td>0.154960</td>\n",
       "      <td>0.251628</td>\n",
       "      <td>0.185033</td>\n",
       "      <td>0.202394</td>\n",
       "      <td>0.134465</td>\n",
       "      <td>0.176715</td>\n",
       "      <td>...</td>\n",
       "      <td>0.001377</td>\n",
       "      <td>0.043360</td>\n",
       "      <td>0.114719</td>\n",
       "      <td>0.061634</td>\n",
       "      <td>0.012496</td>\n",
       "      <td>0.003380</td>\n",
       "      <td>0.000000</td>\n",
       "      <td>0.000000</td>\n",
       "      <td>0.000000</td>\n",
       "      <td>0.0</td>\n",
       "    </tr>\n",
       "    <tr>\n",
       "      <th>2</th>\n",
       "      <td>0.031192</td>\n",
       "      <td>0.000000</td>\n",
       "      <td>0.047661</td>\n",
       "      <td>0.033417</td>\n",
       "      <td>0.033629</td>\n",
       "      <td>0.023535</td>\n",
       "      <td>0.008766</td>\n",
       "      <td>0.000000</td>\n",
       "      <td>0.000000</td>\n",
       "      <td>0.000000</td>\n",
       "      <td>...</td>\n",
       "      <td>0.000000</td>\n",
       "      <td>0.000000</td>\n",
       "      <td>0.000000</td>\n",
       "      <td>0.000000</td>\n",
       "      <td>0.023376</td>\n",
       "      <td>0.061832</td>\n",
       "      <td>0.026692</td>\n",
       "      <td>0.040982</td>\n",
       "      <td>0.012092</td>\n",
       "      <td>0.0</td>\n",
       "    </tr>\n",
       "    <tr>\n",
       "      <th>3</th>\n",
       "      <td>0.040462</td>\n",
       "      <td>0.000000</td>\n",
       "      <td>0.011170</td>\n",
       "      <td>0.005031</td>\n",
       "      <td>0.007193</td>\n",
       "      <td>0.003025</td>\n",
       "      <td>0.009826</td>\n",
       "      <td>0.009125</td>\n",
       "      <td>0.040199</td>\n",
       "      <td>0.016434</td>\n",
       "      <td>...</td>\n",
       "      <td>0.088968</td>\n",
       "      <td>0.079920</td>\n",
       "      <td>0.040577</td>\n",
       "      <td>0.012572</td>\n",
       "      <td>0.039481</td>\n",
       "      <td>0.078108</td>\n",
       "      <td>0.003006</td>\n",
       "      <td>-0.000357</td>\n",
       "      <td>0.000000</td>\n",
       "      <td>0.0</td>\n",
       "    </tr>\n",
       "    <tr>\n",
       "      <th>4</th>\n",
       "      <td>0.000000</td>\n",
       "      <td>0.000000</td>\n",
       "      <td>0.003087</td>\n",
       "      <td>0.009661</td>\n",
       "      <td>0.082080</td>\n",
       "      <td>0.104851</td>\n",
       "      <td>0.044969</td>\n",
       "      <td>0.034616</td>\n",
       "      <td>0.074107</td>\n",
       "      <td>0.031790</td>\n",
       "      <td>...</td>\n",
       "      <td>0.047931</td>\n",
       "      <td>0.127385</td>\n",
       "      <td>0.072943</td>\n",
       "      <td>0.016741</td>\n",
       "      <td>0.002377</td>\n",
       "      <td>-0.000248</td>\n",
       "      <td>0.000000</td>\n",
       "      <td>0.000000</td>\n",
       "      <td>0.000000</td>\n",
       "      <td>0.0</td>\n",
       "    </tr>\n",
       "    <tr>\n",
       "      <th>...</th>\n",
       "      <td>...</td>\n",
       "      <td>...</td>\n",
       "      <td>...</td>\n",
       "      <td>...</td>\n",
       "      <td>...</td>\n",
       "      <td>...</td>\n",
       "      <td>...</td>\n",
       "      <td>...</td>\n",
       "      <td>...</td>\n",
       "      <td>...</td>\n",
       "      <td>...</td>\n",
       "      <td>...</td>\n",
       "      <td>...</td>\n",
       "      <td>...</td>\n",
       "      <td>...</td>\n",
       "      <td>...</td>\n",
       "      <td>...</td>\n",
       "      <td>...</td>\n",
       "      <td>...</td>\n",
       "      <td>...</td>\n",
       "      <td>...</td>\n",
       "    </tr>\n",
       "    <tr>\n",
       "      <th>569</th>\n",
       "      <td>0.000000</td>\n",
       "      <td>0.000000</td>\n",
       "      <td>0.013323</td>\n",
       "      <td>0.011818</td>\n",
       "      <td>0.001427</td>\n",
       "      <td>0.000247</td>\n",
       "      <td>0.000000</td>\n",
       "      <td>0.000000</td>\n",
       "      <td>0.000000</td>\n",
       "      <td>0.007396</td>\n",
       "      <td>...</td>\n",
       "      <td>0.000000</td>\n",
       "      <td>0.000000</td>\n",
       "      <td>0.020095</td>\n",
       "      <td>0.064939</td>\n",
       "      <td>0.043539</td>\n",
       "      <td>0.003355</td>\n",
       "      <td>-0.000372</td>\n",
       "      <td>0.000000</td>\n",
       "      <td>0.000000</td>\n",
       "      <td>0.0</td>\n",
       "    </tr>\n",
       "    <tr>\n",
       "      <th>570</th>\n",
       "      <td>0.000000</td>\n",
       "      <td>0.000000</td>\n",
       "      <td>0.000000</td>\n",
       "      <td>0.000000</td>\n",
       "      <td>0.000000</td>\n",
       "      <td>0.000000</td>\n",
       "      <td>0.000000</td>\n",
       "      <td>0.000000</td>\n",
       "      <td>0.000000</td>\n",
       "      <td>0.000000</td>\n",
       "      <td>...</td>\n",
       "      <td>0.000000</td>\n",
       "      <td>0.000000</td>\n",
       "      <td>0.000000</td>\n",
       "      <td>0.000000</td>\n",
       "      <td>0.000000</td>\n",
       "      <td>0.000000</td>\n",
       "      <td>0.000000</td>\n",
       "      <td>0.000000</td>\n",
       "      <td>0.000000</td>\n",
       "      <td>0.0</td>\n",
       "    </tr>\n",
       "    <tr>\n",
       "      <th>571</th>\n",
       "      <td>0.000000</td>\n",
       "      <td>0.000000</td>\n",
       "      <td>0.008816</td>\n",
       "      <td>0.004459</td>\n",
       "      <td>-0.000734</td>\n",
       "      <td>0.000000</td>\n",
       "      <td>0.005849</td>\n",
       "      <td>0.000000</td>\n",
       "      <td>0.000000</td>\n",
       "      <td>0.000000</td>\n",
       "      <td>...</td>\n",
       "      <td>0.000000</td>\n",
       "      <td>0.000000</td>\n",
       "      <td>0.000000</td>\n",
       "      <td>0.000000</td>\n",
       "      <td>0.000000</td>\n",
       "      <td>0.000000</td>\n",
       "      <td>0.000000</td>\n",
       "      <td>0.000000</td>\n",
       "      <td>0.000000</td>\n",
       "      <td>0.0</td>\n",
       "    </tr>\n",
       "    <tr>\n",
       "      <th>572</th>\n",
       "      <td>0.000756</td>\n",
       "      <td>0.000000</td>\n",
       "      <td>0.007751</td>\n",
       "      <td>0.001473</td>\n",
       "      <td>0.001242</td>\n",
       "      <td>0.000000</td>\n",
       "      <td>0.000000</td>\n",
       "      <td>0.000000</td>\n",
       "      <td>0.000000</td>\n",
       "      <td>0.000000</td>\n",
       "      <td>...</td>\n",
       "      <td>0.000000</td>\n",
       "      <td>0.000000</td>\n",
       "      <td>0.000000</td>\n",
       "      <td>0.000000</td>\n",
       "      <td>0.008809</td>\n",
       "      <td>0.001294</td>\n",
       "      <td>0.000000</td>\n",
       "      <td>0.000000</td>\n",
       "      <td>0.000000</td>\n",
       "      <td>0.0</td>\n",
       "    </tr>\n",
       "    <tr>\n",
       "      <th>573</th>\n",
       "      <td>0.000813</td>\n",
       "      <td>0.000000</td>\n",
       "      <td>0.012983</td>\n",
       "      <td>0.027222</td>\n",
       "      <td>0.009449</td>\n",
       "      <td>0.001522</td>\n",
       "      <td>0.004725</td>\n",
       "      <td>0.008218</td>\n",
       "      <td>0.000000</td>\n",
       "      <td>0.000000</td>\n",
       "      <td>...</td>\n",
       "      <td>0.000000</td>\n",
       "      <td>0.000000</td>\n",
       "      <td>0.005038</td>\n",
       "      <td>0.000000</td>\n",
       "      <td>0.000000</td>\n",
       "      <td>0.000000</td>\n",
       "      <td>0.000000</td>\n",
       "      <td>0.000000</td>\n",
       "      <td>0.002150</td>\n",
       "      <td>0.0</td>\n",
       "    </tr>\n",
       "  </tbody>\n",
       "</table>\n",
       "<p>574 rows × 42 columns</p>\n",
       "</div>"
      ],
      "text/plain": [
       "lin_binned        0         1         2         3         4         5   \\\n",
       "0           0.003094  0.000000  0.114855  0.166313  0.084213  0.032331   \n",
       "1           0.073613  0.079002  0.075243  0.064607  0.154960  0.251628   \n",
       "2           0.031192  0.000000  0.047661  0.033417  0.033629  0.023535   \n",
       "3           0.040462  0.000000  0.011170  0.005031  0.007193  0.003025   \n",
       "4           0.000000  0.000000  0.003087  0.009661  0.082080  0.104851   \n",
       "..               ...       ...       ...       ...       ...       ...   \n",
       "569         0.000000  0.000000  0.013323  0.011818  0.001427  0.000247   \n",
       "570         0.000000  0.000000  0.000000  0.000000  0.000000  0.000000   \n",
       "571         0.000000  0.000000  0.008816  0.004459 -0.000734  0.000000   \n",
       "572         0.000756  0.000000  0.007751  0.001473  0.001242  0.000000   \n",
       "573         0.000813  0.000000  0.012983  0.027222  0.009449  0.001522   \n",
       "\n",
       "lin_binned        6         7         8         9   ...        32        33  \\\n",
       "0           0.056138  0.054180  0.036762  0.014948  ...  0.000000  0.000000   \n",
       "1           0.185033  0.202394  0.134465  0.176715  ...  0.001377  0.043360   \n",
       "2           0.008766  0.000000  0.000000  0.000000  ...  0.000000  0.000000   \n",
       "3           0.009826  0.009125  0.040199  0.016434  ...  0.088968  0.079920   \n",
       "4           0.044969  0.034616  0.074107  0.031790  ...  0.047931  0.127385   \n",
       "..               ...       ...       ...       ...  ...       ...       ...   \n",
       "569         0.000000  0.000000  0.000000  0.007396  ...  0.000000  0.000000   \n",
       "570         0.000000  0.000000  0.000000  0.000000  ...  0.000000  0.000000   \n",
       "571         0.005849  0.000000  0.000000  0.000000  ...  0.000000  0.000000   \n",
       "572         0.000000  0.000000  0.000000  0.000000  ...  0.000000  0.000000   \n",
       "573         0.004725  0.008218  0.000000  0.000000  ...  0.000000  0.000000   \n",
       "\n",
       "lin_binned        34        35        36        37        38        39  \\\n",
       "0           0.000000  0.000000  0.000000  0.000000  0.000000  0.013219   \n",
       "1           0.114719  0.061634  0.012496  0.003380  0.000000  0.000000   \n",
       "2           0.000000  0.000000  0.023376  0.061832  0.026692  0.040982   \n",
       "3           0.040577  0.012572  0.039481  0.078108  0.003006 -0.000357   \n",
       "4           0.072943  0.016741  0.002377 -0.000248  0.000000  0.000000   \n",
       "..               ...       ...       ...       ...       ...       ...   \n",
       "569         0.020095  0.064939  0.043539  0.003355 -0.000372  0.000000   \n",
       "570         0.000000  0.000000  0.000000  0.000000  0.000000  0.000000   \n",
       "571         0.000000  0.000000  0.000000  0.000000  0.000000  0.000000   \n",
       "572         0.000000  0.000000  0.008809  0.001294  0.000000  0.000000   \n",
       "573         0.005038  0.000000  0.000000  0.000000  0.000000  0.000000   \n",
       "\n",
       "lin_binned        40   41  \n",
       "0           0.012246  0.0  \n",
       "1           0.000000  0.0  \n",
       "2           0.012092  0.0  \n",
       "3           0.000000  0.0  \n",
       "4           0.000000  0.0  \n",
       "..               ...  ...  \n",
       "569         0.000000  0.0  \n",
       "570         0.000000  0.0  \n",
       "571         0.000000  0.0  \n",
       "572         0.000000  0.0  \n",
       "573         0.002150  0.0  \n",
       "\n",
       "[574 rows x 42 columns]"
      ]
     },
     "execution_count": 99,
     "metadata": {},
     "output_type": "execute_result"
    }
   ],
   "source": [
    "fr_map_all.loc['CA1',0,0,0]"
   ]
  },
  {
   "cell_type": "code",
   "execution_count": 94,
   "id": "878d59af",
   "metadata": {
    "scrolled": true
   },
   "outputs": [
    {
     "data": {
      "text/plain": [
       "<matplotlib.legend.Legend at 0x15542ffe1af0>"
      ]
     },
     "execution_count": 94,
     "metadata": {},
     "output_type": "execute_result"
    },
    {
     "data": {
      "image/png": "[encoded data removed]",
      "text/plain": [
       "<Figure size 432x288 with 1 Axes>"
      ]
     },
     "metadata": {
      "needs_background": "light"
     },
     "output_type": "display_data"
    }
   ],
   "source": [
    "ax=sns.scatterplot(data=mds_res_proc,x=0,y=1,hue='day_ind',style='region')\n",
    "ax.legend(bbox_to_anchor=[1,1.05])"
   ]
  },
  {
   "cell_type": "code",
   "execution_count": 90,
   "id": "1cf94298",
   "metadata": {},
   "outputs": [
    {
     "data": {
      "text/plain": [
       "<matplotlib.legend.Legend at 0x155430567fa0>"
      ]
     },
     "execution_count": 90,
     "metadata": {},
     "output_type": "execute_result"
    },
    {
     "data": {
      "image/png": "[encoded data removed]",
      "text/plain": [
       "<Figure size 432x288 with 1 Axes>"
      ]
     },
     "metadata": {
      "needs_background": "light"
     },
     "output_type": "display_data"
    }
   ],
   "source": [
    "ax=sns.scatterplot(data=mds_res_proc,x=0,y=1,hue='isnovel',style='region')\n",
    "ax.legend(bbox_to_anchor=[1,1.05])"
   ]
  },
  {
   "cell_type": "code",
   "execution_count": 40,
   "id": "335a83de",
   "metadata": {},
   "outputs": [
    {
     "data": {
      "image/png": "[encoded data removed]",
      "text/plain": [
       "<Figure size 1728x576 with 8 Axes>"
      ]
     },
     "metadata": {
      "needs_background": "light"
     },
     "output_type": "display_data"
    }
   ],
   "source": [
    "nplots = len(mds_res_d)\n",
    "fig,axs=ph.subplots_wrapper(nplots)\n",
    "for ii,(k,mds_res) in enumerate(mds_res_d.items()):\n",
    "    ax=axs.ravel()[ii]\n",
    "    sns.scatterplot(data=mds_res,x=0,y=1,hue='isnovel',ax=ax)\n",
    "    ax.set_title(k)\n",
    "plt.tight_layout()"
   ]
  },
  {
   "cell_type": "code",
   "execution_count": 41,
   "id": "972a1167",
   "metadata": {},
   "outputs": [
    {
     "data": {
      "image/png": "[encoded data removed]",
      "text/plain": [
       "<Figure size 1728x576 with 8 Axes>"
      ]
     },
     "metadata": {
      "needs_background": "light"
     },
     "output_type": "display_data"
    }
   ],
   "source": [
    "nplots = len(mds_res_d)\n",
    "fig,axs=ph.subplots_wrapper(nplots)\n",
    "for ii,(k,mds_res) in enumerate(mds_res_d.items()):\n",
    "    ax=axs.ravel()[ii]\n",
    "    sns.scatterplot(data=mds_res,x=0,y=1,hue='day_ind',ax=ax,palette='vlag')\n",
    "    ax.set_title(k)\n",
    "plt.tight_layout()"
   ]
  },
  {
   "cell_type": "code",
   "execution_count": 149,
   "id": "09119be3",
   "metadata": {},
   "outputs": [],
   "source": [
    "mds=MDS(n_components=2,dissimilarity=\"precomputed\")"
   ]
  },
  {
   "cell_type": "code",
   "execution_count": 151,
   "id": "f188a5d5",
   "metadata": {},
   "outputs": [],
   "source": [
    "coord = mds.fit_transform(dist_mat)"
   ]
  },
  {
   "cell_type": "code",
   "execution_count": 152,
   "id": "0c969de6",
   "metadata": {},
   "outputs": [],
   "source": [
    "mds_res = pd.DataFrame(coord)"
   ]
  },
  {
   "cell_type": "code",
   "execution_count": 158,
   "id": "8b603cdc",
   "metadata": {},
   "outputs": [],
   "source": [
    "mds_res['day_ind'] =k_l[:,0]\n",
    "mds_res['isnovel'] =k_l[:,1]"
   ]
  },
  {
   "cell_type": "code",
   "execution_count": 164,
   "id": "63210153",
   "metadata": {},
   "outputs": [
    {
     "data": {
      "text/plain": [
       "<Axes: xlabel='0', ylabel='1'>"
      ]
     },
     "execution_count": 164,
     "metadata": {},
     "output_type": "execute_result"
    },
    {
     "data": {
      "image/png": "[encoded data removed]",
      "text/plain": [
       "<Figure size 432x288 with 1 Axes>"
      ]
     },
     "metadata": {
      "needs_background": "light"
     },
     "output_type": "display_data"
    }
   ],
   "source": [
    "sns.scatterplot(data=mds_res,x=0,y=1,hue='isnovel')"
   ]
  },
  {
   "cell_type": "code",
   "execution_count": 168,
   "id": "d9b339bb",
   "metadata": {},
   "outputs": [
    {
     "data": {
      "text/plain": [
       "<Axes: xlabel='0', ylabel='1'>"
      ]
     },
     "execution_count": 168,
     "metadata": {},
     "output_type": "execute_result"
    },
    {
     "data": {
      "image/png": "[encoded data removed]",
      "text/plain": [
       "<Figure size 432x288 with 1 Axes>"
      ]
     },
     "metadata": {
      "needs_background": "light"
     },
     "output_type": "display_data"
    }
   ],
   "source": [
    "sns.scatterplot(data=mds_res,x=0,y=1,hue='day_ind',palette='vlag')"
   ]
  },
  {
   "cell_type": "code",
   "execution_count": 167,
   "id": "ae9b54c3",
   "metadata": {},
   "outputs": [
    {
     "data": {
      "text/html": [
       "<div>\n",
       "<style scoped>\n",
       "    .dataframe tbody tr th:only-of-type {\n",
       "        vertical-align: middle;\n",
       "    }\n",
       "\n",
       "    .dataframe tbody tr th {\n",
       "        vertical-align: top;\n",
       "    }\n",
       "\n",
       "    .dataframe thead th {\n",
       "        text-align: right;\n",
       "    }\n",
       "</style>\n",
       "<table border=\"1\" class=\"dataframe\">\n",
       "  <thead>\n",
       "    <tr style=\"text-align: right;\">\n",
       "      <th></th>\n",
       "      <th></th>\n",
       "      <th>lin_binned</th>\n",
       "      <th>5</th>\n",
       "      <th>6</th>\n",
       "      <th>7</th>\n",
       "      <th>8</th>\n",
       "      <th>9</th>\n",
       "      <th>10</th>\n",
       "      <th>11</th>\n",
       "      <th>12</th>\n",
       "      <th>13</th>\n",
       "      <th>14</th>\n",
       "      <th>...</th>\n",
       "      <th>170</th>\n",
       "      <th>171</th>\n",
       "      <th>172</th>\n",
       "      <th>173</th>\n",
       "      <th>174</th>\n",
       "      <th>175</th>\n",
       "      <th>176</th>\n",
       "      <th>177</th>\n",
       "      <th>178</th>\n",
       "      <th>179</th>\n",
       "    </tr>\n",
       "  </thead>\n",
       "  <tbody>\n",
       "    <tr>\n",
       "      <th rowspan=\"11\" valign=\"top\">3</th>\n",
       "      <th rowspan=\"11\" valign=\"top\">1</th>\n",
       "      <th>0</th>\n",
       "      <td>0.000000</td>\n",
       "      <td>0.000000</td>\n",
       "      <td>0.000000</td>\n",
       "      <td>0.000000</td>\n",
       "      <td>0.000000</td>\n",
       "      <td>0.000000</td>\n",
       "      <td>0.000000</td>\n",
       "      <td>0.000080</td>\n",
       "      <td>0.000193</td>\n",
       "      <td>0.000410</td>\n",
       "      <td>...</td>\n",
       "      <td>0.049445</td>\n",
       "      <td>0.043342</td>\n",
       "      <td>0.038266</td>\n",
       "      <td>0.034103</td>\n",
       "      <td>0.030841</td>\n",
       "      <td>0.028206</td>\n",
       "      <td>0.025639</td>\n",
       "      <td>0.022659</td>\n",
       "      <td>0.019100</td>\n",
       "      <td>0.015206</td>\n",
       "    </tr>\n",
       "    <tr>\n",
       "      <th>1</th>\n",
       "      <td>0.013021</td>\n",
       "      <td>0.021040</td>\n",
       "      <td>0.024911</td>\n",
       "      <td>0.025706</td>\n",
       "      <td>0.025116</td>\n",
       "      <td>0.023827</td>\n",
       "      <td>0.022152</td>\n",
       "      <td>0.020293</td>\n",
       "      <td>0.018344</td>\n",
       "      <td>0.016303</td>\n",
       "      <td>...</td>\n",
       "      <td>0.000000</td>\n",
       "      <td>0.000000</td>\n",
       "      <td>0.000000</td>\n",
       "      <td>0.000000</td>\n",
       "      <td>0.000000</td>\n",
       "      <td>0.000000</td>\n",
       "      <td>0.000000</td>\n",
       "      <td>0.000000</td>\n",
       "      <td>0.000000</td>\n",
       "      <td>0.000000</td>\n",
       "    </tr>\n",
       "    <tr>\n",
       "      <th>2</th>\n",
       "      <td>0.044328</td>\n",
       "      <td>0.072798</td>\n",
       "      <td>0.087748</td>\n",
       "      <td>0.095246</td>\n",
       "      <td>0.104861</td>\n",
       "      <td>0.143818</td>\n",
       "      <td>0.174329</td>\n",
       "      <td>0.181919</td>\n",
       "      <td>0.186913</td>\n",
       "      <td>0.187726</td>\n",
       "      <td>...</td>\n",
       "      <td>0.000040</td>\n",
       "      <td>0.000154</td>\n",
       "      <td>0.000516</td>\n",
       "      <td>0.001487</td>\n",
       "      <td>0.003646</td>\n",
       "      <td>0.007549</td>\n",
       "      <td>0.013162</td>\n",
       "      <td>0.019517</td>\n",
       "      <td>0.025573</td>\n",
       "      <td>0.031444</td>\n",
       "    </tr>\n",
       "    <tr>\n",
       "      <th>3</th>\n",
       "      <td>0.000000</td>\n",
       "      <td>0.000000</td>\n",
       "      <td>0.000000</td>\n",
       "      <td>0.000000</td>\n",
       "      <td>0.000000</td>\n",
       "      <td>0.000000</td>\n",
       "      <td>0.000000</td>\n",
       "      <td>0.000000</td>\n",
       "      <td>0.000000</td>\n",
       "      <td>0.000000</td>\n",
       "      <td>...</td>\n",
       "      <td>0.003215</td>\n",
       "      <td>0.005958</td>\n",
       "      <td>0.009650</td>\n",
       "      <td>0.013542</td>\n",
       "      <td>0.016314</td>\n",
       "      <td>0.016771</td>\n",
       "      <td>0.014640</td>\n",
       "      <td>0.010904</td>\n",
       "      <td>0.007136</td>\n",
       "      <td>0.004318</td>\n",
       "    </tr>\n",
       "    <tr>\n",
       "      <th>4</th>\n",
       "      <td>0.086193</td>\n",
       "      <td>0.082958</td>\n",
       "      <td>0.081285</td>\n",
       "      <td>0.078339</td>\n",
       "      <td>0.064998</td>\n",
       "      <td>0.044757</td>\n",
       "      <td>0.026667</td>\n",
       "      <td>0.023132</td>\n",
       "      <td>0.018360</td>\n",
       "      <td>0.013329</td>\n",
       "      <td>...</td>\n",
       "      <td>0.008428</td>\n",
       "      <td>0.005980</td>\n",
       "      <td>0.004042</td>\n",
       "      <td>0.002633</td>\n",
       "      <td>0.001652</td>\n",
       "      <td>0.000981</td>\n",
       "      <td>0.000536</td>\n",
       "      <td>0.000261</td>\n",
       "      <td>0.000116</td>\n",
       "      <td>0.000068</td>\n",
       "    </tr>\n",
       "    <tr>\n",
       "      <th>...</th>\n",
       "      <td>...</td>\n",
       "      <td>...</td>\n",
       "      <td>...</td>\n",
       "      <td>...</td>\n",
       "      <td>...</td>\n",
       "      <td>...</td>\n",
       "      <td>...</td>\n",
       "      <td>...</td>\n",
       "      <td>...</td>\n",
       "      <td>...</td>\n",
       "      <td>...</td>\n",
       "      <td>...</td>\n",
       "      <td>...</td>\n",
       "      <td>...</td>\n",
       "      <td>...</td>\n",
       "      <td>...</td>\n",
       "      <td>...</td>\n",
       "      <td>...</td>\n",
       "      <td>...</td>\n",
       "      <td>...</td>\n",
       "      <td>...</td>\n",
       "    </tr>\n",
       "    <tr>\n",
       "      <th>569</th>\n",
       "      <td>0.000000</td>\n",
       "      <td>0.000000</td>\n",
       "      <td>0.000000</td>\n",
       "      <td>0.000000</td>\n",
       "      <td>0.000000</td>\n",
       "      <td>0.000000</td>\n",
       "      <td>0.000000</td>\n",
       "      <td>0.000000</td>\n",
       "      <td>0.000000</td>\n",
       "      <td>0.000000</td>\n",
       "      <td>...</td>\n",
       "      <td>0.000000</td>\n",
       "      <td>0.000000</td>\n",
       "      <td>0.000000</td>\n",
       "      <td>0.000000</td>\n",
       "      <td>0.000000</td>\n",
       "      <td>0.000000</td>\n",
       "      <td>0.000000</td>\n",
       "      <td>0.000000</td>\n",
       "      <td>0.000000</td>\n",
       "      <td>0.000000</td>\n",
       "    </tr>\n",
       "    <tr>\n",
       "      <th>570</th>\n",
       "      <td>0.000000</td>\n",
       "      <td>0.000000</td>\n",
       "      <td>0.000000</td>\n",
       "      <td>0.000000</td>\n",
       "      <td>0.000000</td>\n",
       "      <td>0.000000</td>\n",
       "      <td>0.000000</td>\n",
       "      <td>0.000000</td>\n",
       "      <td>0.000000</td>\n",
       "      <td>0.000000</td>\n",
       "      <td>...</td>\n",
       "      <td>0.000000</td>\n",
       "      <td>0.000000</td>\n",
       "      <td>0.000000</td>\n",
       "      <td>0.000000</td>\n",
       "      <td>0.000000</td>\n",
       "      <td>0.000000</td>\n",
       "      <td>0.000000</td>\n",
       "      <td>0.000000</td>\n",
       "      <td>0.000000</td>\n",
       "      <td>0.000000</td>\n",
       "    </tr>\n",
       "    <tr>\n",
       "      <th>571</th>\n",
       "      <td>0.000000</td>\n",
       "      <td>0.000000</td>\n",
       "      <td>0.000000</td>\n",
       "      <td>0.000000</td>\n",
       "      <td>0.000000</td>\n",
       "      <td>0.000000</td>\n",
       "      <td>0.000000</td>\n",
       "      <td>0.000000</td>\n",
       "      <td>0.000000</td>\n",
       "      <td>0.000000</td>\n",
       "      <td>...</td>\n",
       "      <td>0.000000</td>\n",
       "      <td>0.000000</td>\n",
       "      <td>0.000000</td>\n",
       "      <td>0.000000</td>\n",
       "      <td>0.000000</td>\n",
       "      <td>0.000000</td>\n",
       "      <td>0.000000</td>\n",
       "      <td>0.000000</td>\n",
       "      <td>0.000000</td>\n",
       "      <td>0.000000</td>\n",
       "    </tr>\n",
       "    <tr>\n",
       "      <th>572</th>\n",
       "      <td>0.000000</td>\n",
       "      <td>0.000000</td>\n",
       "      <td>0.000000</td>\n",
       "      <td>0.000000</td>\n",
       "      <td>0.000000</td>\n",
       "      <td>0.000000</td>\n",
       "      <td>0.000000</td>\n",
       "      <td>0.000000</td>\n",
       "      <td>0.000000</td>\n",
       "      <td>0.000000</td>\n",
       "      <td>...</td>\n",
       "      <td>0.000000</td>\n",
       "      <td>0.000000</td>\n",
       "      <td>0.000000</td>\n",
       "      <td>0.000000</td>\n",
       "      <td>0.000000</td>\n",
       "      <td>0.000000</td>\n",
       "      <td>0.000000</td>\n",
       "      <td>0.000000</td>\n",
       "      <td>0.000000</td>\n",
       "      <td>0.000000</td>\n",
       "    </tr>\n",
       "    <tr>\n",
       "      <th>573</th>\n",
       "      <td>0.000000</td>\n",
       "      <td>0.000000</td>\n",
       "      <td>0.000000</td>\n",
       "      <td>0.000000</td>\n",
       "      <td>0.000000</td>\n",
       "      <td>0.000000</td>\n",
       "      <td>0.000000</td>\n",
       "      <td>0.000004</td>\n",
       "      <td>0.000019</td>\n",
       "      <td>0.000078</td>\n",
       "      <td>...</td>\n",
       "      <td>0.000000</td>\n",
       "      <td>0.000000</td>\n",
       "      <td>0.000000</td>\n",
       "      <td>0.000000</td>\n",
       "      <td>0.000000</td>\n",
       "      <td>0.000000</td>\n",
       "      <td>0.000000</td>\n",
       "      <td>0.000000</td>\n",
       "      <td>0.000000</td>\n",
       "      <td>0.000000</td>\n",
       "    </tr>\n",
       "  </tbody>\n",
       "</table>\n",
       "<p>574 rows × 175 columns</p>\n",
       "</div>"
      ],
      "text/plain": [
       "lin_binned       5         6         7         8         9         10   \\\n",
       "3 1 0       0.000000  0.000000  0.000000  0.000000  0.000000  0.000000   \n",
       "    1       0.013021  0.021040  0.024911  0.025706  0.025116  0.023827   \n",
       "    2       0.044328  0.072798  0.087748  0.095246  0.104861  0.143818   \n",
       "    3       0.000000  0.000000  0.000000  0.000000  0.000000  0.000000   \n",
       "    4       0.086193  0.082958  0.081285  0.078339  0.064998  0.044757   \n",
       "...              ...       ...       ...       ...       ...       ...   \n",
       "    569     0.000000  0.000000  0.000000  0.000000  0.000000  0.000000   \n",
       "    570     0.000000  0.000000  0.000000  0.000000  0.000000  0.000000   \n",
       "    571     0.000000  0.000000  0.000000  0.000000  0.000000  0.000000   \n",
       "    572     0.000000  0.000000  0.000000  0.000000  0.000000  0.000000   \n",
       "    573     0.000000  0.000000  0.000000  0.000000  0.000000  0.000000   \n",
       "\n",
       "lin_binned       11        12        13        14   ...       170       171  \\\n",
       "3 1 0       0.000000  0.000080  0.000193  0.000410  ...  0.049445  0.043342   \n",
       "    1       0.022152  0.020293  0.018344  0.016303  ...  0.000000  0.000000   \n",
       "    2       0.174329  0.181919  0.186913  0.187726  ...  0.000040  0.000154   \n",
       "    3       0.000000  0.000000  0.000000  0.000000  ...  0.003215  0.005958   \n",
       "    4       0.026667  0.023132  0.018360  0.013329  ...  0.008428  0.005980   \n",
       "...              ...       ...       ...       ...  ...       ...       ...   \n",
       "    569     0.000000  0.000000  0.000000  0.000000  ...  0.000000  0.000000   \n",
       "    570     0.000000  0.000000  0.000000  0.000000  ...  0.000000  0.000000   \n",
       "    571     0.000000  0.000000  0.000000  0.000000  ...  0.000000  0.000000   \n",
       "    572     0.000000  0.000000  0.000000  0.000000  ...  0.000000  0.000000   \n",
       "    573     0.000000  0.000004  0.000019  0.000078  ...  0.000000  0.000000   \n",
       "\n",
       "lin_binned       172       173       174       175       176       177  \\\n",
       "3 1 0       0.038266  0.034103  0.030841  0.028206  0.025639  0.022659   \n",
       "    1       0.000000  0.000000  0.000000  0.000000  0.000000  0.000000   \n",
       "    2       0.000516  0.001487  0.003646  0.007549  0.013162  0.019517   \n",
       "    3       0.009650  0.013542  0.016314  0.016771  0.014640  0.010904   \n",
       "    4       0.004042  0.002633  0.001652  0.000981  0.000536  0.000261   \n",
       "...              ...       ...       ...       ...       ...       ...   \n",
       "    569     0.000000  0.000000  0.000000  0.000000  0.000000  0.000000   \n",
       "    570     0.000000  0.000000  0.000000  0.000000  0.000000  0.000000   \n",
       "    571     0.000000  0.000000  0.000000  0.000000  0.000000  0.000000   \n",
       "    572     0.000000  0.000000  0.000000  0.000000  0.000000  0.000000   \n",
       "    573     0.000000  0.000000  0.000000  0.000000  0.000000  0.000000   \n",
       "\n",
       "lin_binned       178       179  \n",
       "3 1 0       0.019100  0.015206  \n",
       "    1       0.000000  0.000000  \n",
       "    2       0.025573  0.031444  \n",
       "    3       0.007136  0.004318  \n",
       "    4       0.000116  0.000068  \n",
       "...              ...       ...  \n",
       "    569     0.000000  0.000000  \n",
       "    570     0.000000  0.000000  \n",
       "    571     0.000000  0.000000  \n",
       "    572     0.000000  0.000000  \n",
       "    573     0.000000  0.000000  \n",
       "\n",
       "[574 rows x 175 columns]"
      ]
     },
     "execution_count": 167,
     "metadata": {},
     "output_type": "execute_result"
    }
   ],
   "source": [
    "val"
   ]
  },
  {
   "cell_type": "code",
   "execution_count": null,
   "id": "ad796617",
   "metadata": {},
   "outputs": [],
   "source": []
  },
  {
   "cell_type": "code",
   "execution_count": 94,
   "id": "4f7e910e",
   "metadata": {
    "scrolled": true
   },
   "outputs": [
    {
     "name": "stderr",
     "output_type": "stream",
     "text": [
      "/tmp/ipykernel_534366/1792248439.py:1: PerformanceWarning: indexing past lexsort depth may impact performance.\n",
      "  data=fr_map_res_all['fr_map_all'].loc['CA1',0,0,0]\n"
     ]
    },
    {
     "data": {
      "text/plain": [
       "(<Figure size 432x288 with 1 Axes>,\n",
       " <Axes: >,\n",
       " Int64Index([527,  21, 282,  85, 491, 139, 358, 275, 365, 408,\n",
       "             ...\n",
       "             372, 417, 515, 132, 374, 494, 118, 521, 330, 453],\n",
       "            dtype='int64', length=574))"
      ]
     },
     "execution_count": 94,
     "metadata": {},
     "output_type": "execute_result"
    },
    {
     "data": {
      "image/png": "[encoded data removed]",
      "text/plain": [
       "<Figure size 432x288 with 1 Axes>"
      ]
     },
     "metadata": {
      "needs_background": "light"
     },
     "output_type": "display_data"
    }
   ],
   "source": [
    "data=fr_map_res_all['fr_map_all'].loc['CA1',0,0,0]\n",
    "prs.plot_population_sequence(data)"
   ]
  },
  {
   "cell_type": "code",
   "execution_count": 18,
   "id": "d344980a",
   "metadata": {},
   "outputs": [],
   "source": [
    "cell_cols_mask = np.array([isinstance(x,int) for x in prep_res['spk_beh_df'].columns])\n",
    "cell_cols = prep_res['spk_beh_df'].columns[cell_cols_mask]"
   ]
  },
  {
   "cell_type": "code",
   "execution_count": 63,
   "id": "14e8a17f",
   "metadata": {
    "scrolled": true
   },
   "outputs": [
    {
     "data": {
      "text/plain": [
       "<matplotlib.image.AxesImage at 0x1554f46a2be0>"
      ]
     },
     "execution_count": 63,
     "metadata": {},
     "output_type": "execute_result"
    },
    {
     "data": {
      "image/png": "[encoded data removed]",
      "text/plain": [
       "<Figure size 432x288 with 2 Axes>"
      ]
     },
     "metadata": {
      "needs_background": "light"
     },
     "output_type": "display_data"
    }
   ],
   "source": [
    "fig,axs=plt.subplots(2,1,sharex=True)\n",
    "uid = 66\n",
    "pf_ma = place_field_all_cells[uid]\n",
    "ax=axs[0]\n",
    "ax.plot(pf_ma)\n",
    "ax=axs[1]\n",
    "ax.imshow(dfoy_alltrials_all_cells[uid].T,aspect='auto')"
   ]
  },
  {
   "cell_type": "code",
   "execution_count": 265,
   "id": "36c6c237",
   "metadata": {},
   "outputs": [],
   "source": []
  },
  {
   "cell_type": "code",
   "execution_count": 266,
   "id": "6058f125",
   "metadata": {},
   "outputs": [
    {
     "data": {
      "text/plain": [
       "array([0.012157, 0.012138, 0.012152, ..., 0.011046, 0.011091, 0.01107 ])"
      ]
     },
     "execution_count": 266,
     "metadata": {},
     "output_type": "execute_result"
    }
   ],
   "source": [
    "lin_alltrials"
   ]
  },
  {
   "cell_type": "code",
   "execution_count": 242,
   "id": "984c31b3",
   "metadata": {},
   "outputs": [
    {
     "data": {
      "text/plain": [
       "[<matplotlib.lines.Line2D at 0x1554f4564100>]"
      ]
     },
     "execution_count": 242,
     "metadata": {},
     "output_type": "execute_result"
    },
    {
     "data": {
      "image/png": "[encoded data removed]",
      "text/plain": [
       "<Figure size 432x288 with 1 Axes>"
      ]
     },
     "metadata": {
      "needs_background": "light"
     },
     "output_type": "display_data"
    }
   ],
   "source": [
    "plt.plot(dfot_alltrials_all_cells[0]*transientmask_alltrials_all_cells[0])"
   ]
  },
  {
   "cell_type": "code",
   "execution_count": 243,
   "id": "542d6ddf",
   "metadata": {},
   "outputs": [
    {
     "data": {
      "text/plain": [
       "array([[ 0.,  0.,  0., ..., -0., -0., -0.],\n",
       "       [-0.,  0.,  0., ...,  0.,  0.,  0.],\n",
       "       [ 0.,  0., -0., ..., -0.,  0., -0.],\n",
       "       ...,\n",
       "       [-0., -0., -0., ..., -0., -0.,  0.],\n",
       "       [-0., -0., -0., ..., -0., -0., -0.],\n",
       "       [ 0., -0.,  0., ...,  0.,  0., -0.]])"
      ]
     },
     "execution_count": 243,
     "metadata": {},
     "output_type": "execute_result"
    }
   ],
   "source": [
    "dfot_alltrials_all_cells[ind_sorted]*transientmask_alltrials_all_cells[ind_sorted]"
   ]
  },
  {
   "cell_type": "code",
   "execution_count": 270,
   "id": "5b0ef337",
   "metadata": {},
   "outputs": [
    {
     "data": {
      "text/plain": [
       "(4499,)"
      ]
     },
     "execution_count": 270,
     "metadata": {},
     "output_type": "execute_result"
    }
   ],
   "source": [
    "lin_alltrials.shape"
   ]
  },
  {
   "cell_type": "code",
   "execution_count": 269,
   "id": "b610db6d",
   "metadata": {},
   "outputs": [
    {
     "data": {
      "text/plain": [
       "<matplotlib.image.AxesImage at 0x1554e6bd13d0>"
      ]
     },
     "execution_count": 269,
     "metadata": {},
     "output_type": "execute_result"
    },
    {
     "data": {
      "image/png": "[encoded data removed]",
      "text/plain": [
       "<Figure size 720x288 with 2 Axes>"
      ]
     },
     "metadata": {
      "needs_background": "light"
     },
     "output_type": "display_data"
    }
   ],
   "source": [
    "fig,axs=plt.subplots(2,1,figsize=(10,4),sharex=True)\n",
    "ax=axs[0]\n",
    "ax.plot(lin_alltrials)\n",
    "ax=axs[1]\n",
    "dfot_alltrials_all_cells_sorted_masked=dfot_alltrials_all_cells[ind_sorted]*transientmask_alltrials_all_cells[ind_sorted]\n",
    "\n",
    "ax.imshow(dfot_alltrials_all_cells_sorted_masked,aspect='auto',vmax=0.6)"
   ]
  },
  {
   "cell_type": "code",
   "execution_count": 231,
   "id": "a2a44004",
   "metadata": {},
   "outputs": [
    {
     "data": {
      "text/plain": [
       "(4499, 1)"
      ]
     },
     "execution_count": 231,
     "metadata": {},
     "output_type": "execute_result"
    }
   ],
   "source": [
    "dfot_alltrials.shape"
   ]
  },
  {
   "cell_type": "code",
   "execution_count": 221,
   "id": "833b2ab9",
   "metadata": {},
   "outputs": [],
   "source": [
    "pop_ratemap=np.nanmean(dfoy_alltrials_all_cells,axis=-1)"
   ]
  },
  {
   "cell_type": "code",
   "execution_count": 216,
   "id": "c1ab66e7",
   "metadata": {},
   "outputs": [],
   "source": [
    "import plot_ratemap_sequence as prs"
   ]
  },
  {
   "cell_type": "code",
   "execution_count": 225,
   "id": "bec76a8e",
   "metadata": {},
   "outputs": [
    {
     "data": {
      "image/png": "[encoded data removed]",
      "text/plain": [
       "<Figure size 432x288 with 1 Axes>"
      ]
     },
     "metadata": {
      "needs_background": "light"
     },
     "output_type": "display_data"
    }
   ],
   "source": [
    "pop_ratemap = pd.DataFrame(pop_ratemap)\n",
    "fig,ax,ind_sorted=prs.plot_population_sequence(pop_ratemap)"
   ]
  },
  {
   "cell_type": "code",
   "execution_count": 228,
   "id": "cfae0c25",
   "metadata": {},
   "outputs": [
    {
     "data": {
      "text/plain": [
       "<matplotlib.image.AxesImage at 0x1554f53c5370>"
      ]
     },
     "execution_count": 228,
     "metadata": {},
     "output_type": "execute_result"
    },
    {
     "data": {
      "image/png": "[encoded data removed]",
      "text/plain": [
       "<Figure size 432x288 with 1 Axes>"
      ]
     },
     "metadata": {
      "needs_background": "light"
     },
     "output_type": "display_data"
    }
   ],
   "source": [
    "plt.imshow(onehot_placefield_all_cells[ind_sorted],aspect='auto')"
   ]
  },
  {
   "cell_type": "code",
   "execution_count": 211,
   "id": "0fe23f9b",
   "metadata": {
    "scrolled": true
   },
   "outputs": [
    {
     "data": {
      "text/plain": [
       "[<matplotlib.lines.Line2D at 0x1554f68ab490>]"
      ]
     },
     "execution_count": 211,
     "metadata": {},
     "output_type": "execute_result"
    },
    {
     "data": {
      "image/png": "[encoded data removed]",
      "text/plain": [
       "<Figure size 432x288 with 1 Axes>"
      ]
     },
     "metadata": {
      "needs_background": "light"
     },
     "output_type": "display_data"
    }
   ],
   "source": [
    "plt.plot(np.squeeze(one_cell_cat['placefield']))"
   ]
  },
  {
   "cell_type": "code",
   "execution_count": 212,
   "id": "46145e55",
   "metadata": {},
   "outputs": [
    {
     "data": {
      "text/plain": [
       "<matplotlib.image.AxesImage at 0x1554f6875b80>"
      ]
     },
     "execution_count": 212,
     "metadata": {},
     "output_type": "execute_result"
    },
    {
     "data": {
      "image/png": "[encoded data removed]",
      "text/plain": [
       "<Figure size 432x288 with 1 Axes>"
      ]
     },
     "metadata": {
      "needs_background": "light"
     },
     "output_type": "display_data"
    }
   ],
   "source": [
    "plt.imshow(dfoy_alltrials,aspect='auto')"
   ]
  },
  {
   "cell_type": "code",
   "execution_count": 13,
   "id": "519de6ad",
   "metadata": {},
   "outputs": [
    {
     "data": {
      "text/plain": [
       "(1, 40)"
      ]
     },
     "execution_count": 13,
     "metadata": {},
     "output_type": "execute_result"
    }
   ],
   "source": [
    "f[one_cell_cat['dFoY'][0,0]]"
   ]
  },
  {
   "cell_type": "code",
   "execution_count": null,
   "id": "c7b1bac7",
   "metadata": {},
   "outputs": [],
   "source": []
  },
  {
   "cell_type": "code",
   "execution_count": 37,
   "id": "fc4564e7",
   "metadata": {},
   "outputs": [],
   "source": [
    "sess_ind = 0\n",
    "one_sess=f[one_exp['metadata']['categories'][sess_ind,0]]"
   ]
  },
  {
   "cell_type": "code",
   "execution_count": 39,
   "id": "b900d2b5",
   "metadata": {},
   "outputs": [
    {
     "data": {
      "text/plain": [
       "<KeysViewHDF5 ['PV', 'acquisition_rate', 'filename', 'ft', 'licks', 'moving', 'pupil_area', 'rewardpoints', 'rewardzone', 'tforms', 'x', 'y']>"
      ]
     },
     "execution_count": 39,
     "metadata": {},
     "output_type": "execute_result"
    }
   ],
   "source": [
    "one_sess.keys()"
   ]
  },
  {
   "cell_type": "code",
   "execution_count": 70,
   "id": "dece85bd",
   "metadata": {},
   "outputs": [],
   "source": [
    "traj_one_sess = one_sess['y']\n",
    "trial_ind=0\n",
    "\n",
    "traj_one_trial = np.squeeze(f[traj_one_sess[trial_ind,0]])\n"
   ]
  },
  {
   "cell_type": "code",
   "execution_count": 71,
   "id": "e85899a9",
   "metadata": {},
   "outputs": [
    {
     "data": {
      "text/plain": [
       "[<matplotlib.lines.Line2D at 0x1554f7c10880>]"
      ]
     },
     "execution_count": 71,
     "metadata": {},
     "output_type": "execute_result"
    },
    {
     "data": {
      "image/png": "[encoded data removed]",
      "text/plain": [
       "<Figure size 432x288 with 1 Axes>"
      ]
     },
     "metadata": {
      "needs_background": "light"
     },
     "output_type": "display_data"
    }
   ],
   "source": [
    "plt.plot(traj_one_trial)"
   ]
  },
  {
   "cell_type": "code",
   "execution_count": 6,
   "id": "ff61e721",
   "metadata": {},
   "outputs": [],
   "source": [
    "sth=f[f['data']['CA1'][1][0]]"
   ]
  },
  {
   "cell_type": "code",
   "execution_count": 7,
   "id": "def0dc98",
   "metadata": {},
   "outputs": [],
   "source": [
    "within_cell=f[sth['cells'][0][0]]"
   ]
  },
  {
   "cell_type": "code",
   "execution_count": 8,
   "id": "bd520327",
   "metadata": {},
   "outputs": [],
   "source": [
    "dfot=f[f[within_cell['categories'][0][0]]['dFoT'][0,0]]"
   ]
  },
  {
   "cell_type": "code",
   "execution_count": 12,
   "id": "8d7d39b9",
   "metadata": {},
   "outputs": [
    {
     "data": {
      "text/plain": [
       "[<matplotlib.lines.Line2D at 0x1554fcd7fe20>]"
      ]
     },
     "execution_count": 12,
     "metadata": {},
     "output_type": "execute_result"
    },
    {
     "data": {
      "image/png": "[encoded data removed]",
      "text/plain": [
       "<Figure size 432x288 with 1 Axes>"
      ]
     },
     "metadata": {
      "needs_background": "light"
     },
     "output_type": "display_data"
    }
   ],
   "source": [
    "plt.plot(dfot)"
   ]
  },
  {
   "cell_type": "code",
   "execution_count": 74,
   "id": "fd5238df",
   "metadata": {},
   "outputs": [
    {
     "ename": "NameError",
     "evalue": "name 'CA1' is not defined",
     "output_type": "error",
     "traceback": [
      "\u001b[0;31m---------------------------------------------------------------------------\u001b[0m",
      "\u001b[0;31mNameError\u001b[0m                                 Traceback (most recent call last)",
      "Input \u001b[0;32mIn [74]\u001b[0m, in \u001b[0;36m<cell line: 1>\u001b[0;34m()\u001b[0m\n\u001b[0;32m----> 1\u001b[0m \u001b[43mCA1\u001b[49m\n",
      "\u001b[0;31mNameError\u001b[0m: name 'CA1' is not defined"
     ]
    }
   ],
   "source": []
  },
  {
   "cell_type": "code",
   "execution_count": null,
   "id": "9cfb5cc4",
   "metadata": {},
   "outputs": [],
   "source": []
  }
 ],
 "metadata": {
  "kernelspec": {
   "display_name": "jax",
   "language": "python",
   "name": "jax"
  },
  "language_info": {
   "codemirror_mode": {
    "name": "ipython",
    "version": 3
   },
   "file_extension": ".py",
   "mimetype": "text/x-python",
   "name": "python",
   "nbconvert_exporter": "python",
   "pygments_lexer": "ipython3",
   "version": "3.9.16"
  }
 },
 "nbformat": 4,
 "nbformat_minor": 5
}
