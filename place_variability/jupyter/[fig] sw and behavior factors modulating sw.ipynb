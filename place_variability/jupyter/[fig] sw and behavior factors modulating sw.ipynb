{
 "cells": [
  {
   "cell_type": "code",
   "execution_count": 1,
   "id": "1373aa08",
   "metadata": {},
   "outputs": [
    {
     "name": "stdout",
     "output_type": "stream",
     "text": [
      "67 sessions!\n",
      "67 sessions!\n"
     ]
    }
   ],
   "source": [
    "import numpy as np\n",
    "import scipy\n",
    "import sklearn\n",
    "from sklearn.decomposition import NMF\n",
    "from sklearn.cluster import KMeans\n",
    "from sklearn.mixture import GaussianMixture,BayesianGaussianMixture\n",
    "\n",
    "import pandas as pd\n",
    "\n",
    "import matplotlib.pyplot as plt\n",
    "import matplotlib as mpl\n",
    "mpl.rcParams['image.cmap'] = 'Greys'\n",
    "mpl.rcParams['axes.spines.right'] = False\n",
    "mpl.rcParams['axes.spines.top'] = False\n",
    "\n",
    "import seaborn as sns\n",
    "\n",
    "import sys,os,pdb,copy,pickle\n",
    "from importlib import reload\n",
    "# import pynapple as nap\n",
    "\n",
    "sys.path.append('/mnt/home/szheng/projects/seq_detection2/code')\n",
    "sys.path.append('/mnt/home/szheng/projects/util_code')\n",
    "sys.path.append('/mnt/home/szheng/projects/nmf_analysis')\n",
    "sys.path.append('/mnt/home/szheng/projects/nmf_analysis/scripts')\n",
    "sys.path.append('/mnt/home/szheng/projects/cluster_spikes')\n",
    "sys.path.append('/mnt/home/szheng/projects/place_variability/code')\n",
    "import data_prep_new as dpn\n",
    "import place_cell_analysis as pa\n",
    "import plot_helper as ph\n",
    "import preprocess as prep\n",
    "import nmf_analysis as na\n",
    "import nmf_plot as nmfp\n",
    "reload(na)\n",
    "\n",
    "import raster_new as rn\n",
    "import data_prep_pyn as dpp\n",
    "\n",
    "\n",
    "import change_point_analysis as cpa\n",
    "import change_point_plot as cpp\n",
    "\n",
    "import place_field_analysis as pf\n",
    "\n",
    "import switch_analysis_one_session as saos\n",
    "reload(saos)\n",
    "\n",
    "import process_central_arm as pca \n",
    "import change_point_analysis_central_arm_seperate as cpacas\n",
    "\n",
    "import misc\n",
    "reload(misc)\n",
    "from misc import get_nth_key, get_nth_val"
   ]
  },
  {
   "cell_type": "code",
   "execution_count": 2,
   "id": "28364388",
   "metadata": {},
   "outputs": [],
   "source": [
    "figdir = '/mnt/home/szheng/ceph/place_variability/fig/paper/figure_beh'\n",
    "misc.get_or_create_subdir(figdir)\n",
    "data_dir = '/mnt/home/szheng/ceph/place_variability/data/paper'"
   ]
  },
  {
   "cell_type": "code",
   "execution_count": 3,
   "id": "56f3173b",
   "metadata": {},
   "outputs": [],
   "source": [
    "import matplotlib\n",
    "matplotlib.rcParams['svg.fonttype'] = 'none'"
   ]
  },
  {
   "cell_type": "code",
   "execution_count": 4,
   "id": "12fd88a4",
   "metadata": {},
   "outputs": [
    {
     "name": "stderr",
     "output_type": "stream",
     "text": [
      "/mnt/home/szheng/ceph/envs/jax/lib/python3.9/site-packages/outdated/utils.py:14: OutdatedPackageWarning: The package pingouin is out of date. Your version is 0.5.2, the latest is 0.5.4.\n",
      "Set the environment variable OUTDATED_IGNORE=1 to disable these warnings.\n",
      "  return warn(\n"
     ]
    }
   ],
   "source": [
    "import database\n",
    "db = database.db\n",
    "\n",
    "subdb = db.query('owner==\"roman\"').sort_values('n_pyr_putative',ascending=False)\n",
    "subdb = subdb.query('ntrials>=20&n_neurons>=50')\n",
    "to_exclude_sess = ['e16_3m2_211211']\n",
    "subdb=subdb.loc[~subdb['sess_name'].isin(to_exclude_sess)]\n",
    "\n",
    "\n",
    "import pf_recombine_central as pfrc\n",
    "import fr_map_one_session as fmos\n",
    "import switch_detection_one_session as sdos\n",
    "import get_all_switch_add_metrics as gasam\n",
    "\n",
    "import preprocess_one_session as prepos"
   ]
  },
  {
   "cell_type": "code",
   "execution_count": 5,
   "id": "938769f7",
   "metadata": {},
   "outputs": [
    {
     "name": "stdout",
     "output_type": "stream",
     "text": [
      "CPU times: user 8.57 s, sys: 4.92 s, total: 13.5 s\n",
      "Wall time: 48.2 s\n"
     ]
    }
   ],
   "source": [
    "%%time\n",
    "pyr_ind_all = {}\n",
    "int_ind_all = {}\n",
    "cell_cols_d_all = {}\n",
    "\n",
    "for ind,row in subdb.iterrows():\n",
    "    data_dir_full = row['data_dir_full']\n",
    "    ani = ind[0]\n",
    "    sess = row['sess_name']\n",
    "    \n",
    "    res=dpp.load_spk_beh_df(data_dir_full,load_only=True)\n",
    "    if res is not None:\n",
    "        pyr_ind_all[ani,sess]=res['cell_cols_d']['pyr']\n",
    "        int_ind_all[ani,sess]=res['cell_cols_d']['int']\n",
    "        cell_cols_d_all[ani,sess] = res['cell_cols_d']\n",
    "celltype_ind_all = {'pyr':pyr_ind_all,'int':int_ind_all}"
   ]
  },
  {
   "cell_type": "code",
   "execution_count": 6,
   "id": "3a92a273",
   "metadata": {},
   "outputs": [],
   "source": [
    "def get_ei_var_spk_beh_df(spk_beh_df,cell_cols_d):\n",
    "    pyr_df = spk_beh_df[cell_cols_d['pyr']]\n",
    "    int_df = spk_beh_df[cell_cols_d['int']]\n",
    "    res_df={}\n",
    "    res_df['E_mean'] = pyr_df.mean(axis=1)\n",
    "    res_df['I_mean'] = int_df.mean(axis=1)\n",
    "    res_df['E/I_mean'] = res_df['E_mean'] / res_df['I_mean']\n",
    "    res_df['E_frac_active'] = (pyr_df>0).mean(axis=1)\n",
    "    res_df['I_frac_active'] = (int_df>0).mean(axis=1)\n",
    "    eps = 1e-10\n",
    "    res_df['E/I_frac_active'] = res_df['E_frac_active']/(res_df['I_frac_active']+eps)\n",
    "    res_df = pd.concat(res_df,axis=1)\n",
    "    \n",
    "    return res_df"
   ]
  },
  {
   "cell_type": "code",
   "execution_count": 7,
   "id": "07de9900",
   "metadata": {},
   "outputs": [],
   "source": [
    "def get_ei_var_spk_beh_df_all(spk_beh_df_all,cell_cols_d_all):\n",
    "    ei_res_df_all = []\n",
    "    for k,sbd in spk_beh_df_all.groupby(level=(0,1)):\n",
    "        ei_res_df=get_ei_var_spk_beh_df(sbd,cell_cols_d_all[k])\n",
    "        ei_res_df_all.append(ei_res_df)\n",
    "    ei_res_df_all  = pd.concat(ei_res_df_all,axis=0)\n",
    "    return ei_res_df_all"
   ]
  },
  {
   "cell_type": "code",
   "execution_count": 81,
   "id": "821e51f9",
   "metadata": {},
   "outputs": [
    {
     "data": {
      "text/html": [
       "<div>\n",
       "<style scoped>\n",
       "    .dataframe tbody tr th:only-of-type {\n",
       "        vertical-align: middle;\n",
       "    }\n",
       "\n",
       "    .dataframe tbody tr th {\n",
       "        vertical-align: top;\n",
       "    }\n",
       "\n",
       "    .dataframe thead th {\n",
       "        text-align: right;\n",
       "    }\n",
       "</style>\n",
       "<table border=\"1\" class=\"dataframe\">\n",
       "  <thead>\n",
       "    <tr style=\"text-align: right;\">\n",
       "      <th></th>\n",
       "      <th></th>\n",
       "      <th></th>\n",
       "      <th></th>\n",
       "      <th></th>\n",
       "      <th></th>\n",
       "      <th>start</th>\n",
       "      <th>end</th>\n",
       "      <th>com</th>\n",
       "      <th>peak</th>\n",
       "      <th>fr_peak</th>\n",
       "      <th>fr_mean</th>\n",
       "      <th>other_field_index</th>\n",
       "    </tr>\n",
       "    <tr>\n",
       "      <th></th>\n",
       "      <th></th>\n",
       "      <th></th>\n",
       "      <th></th>\n",
       "      <th></th>\n",
       "      <th>field_index</th>\n",
       "      <th></th>\n",
       "      <th></th>\n",
       "      <th></th>\n",
       "      <th></th>\n",
       "      <th></th>\n",
       "      <th></th>\n",
       "      <th></th>\n",
       "    </tr>\n",
       "  </thead>\n",
       "  <tbody>\n",
       "    <tr>\n",
       "      <th rowspan=\"5\" valign=\"top\">e13_26m1</th>\n",
       "      <th rowspan=\"5\" valign=\"top\">e13_26m1_210913</th>\n",
       "      <th rowspan=\"5\" valign=\"top\">0</th>\n",
       "      <th rowspan=\"5\" valign=\"top\">0.0</th>\n",
       "      <th>3</th>\n",
       "      <th>0</th>\n",
       "      <td>24</td>\n",
       "      <td>40</td>\n",
       "      <td>32</td>\n",
       "      <td>32</td>\n",
       "      <td>2.327171</td>\n",
       "      <td>1.246869</td>\n",
       "      <td>NaN</td>\n",
       "    </tr>\n",
       "    <tr>\n",
       "      <th>27</th>\n",
       "      <th>0</th>\n",
       "      <td>0</td>\n",
       "      <td>30</td>\n",
       "      <td>15</td>\n",
       "      <td>15</td>\n",
       "      <td>27.438358</td>\n",
       "      <td>21.794745</td>\n",
       "      <td>NaN</td>\n",
       "    </tr>\n",
       "    <tr>\n",
       "      <th rowspan=\"3\" valign=\"top\">29</th>\n",
       "      <th>0</th>\n",
       "      <td>2</td>\n",
       "      <td>9</td>\n",
       "      <td>5</td>\n",
       "      <td>6</td>\n",
       "      <td>5.685168</td>\n",
       "      <td>5.262314</td>\n",
       "      <td>NaN</td>\n",
       "    </tr>\n",
       "    <tr>\n",
       "      <th>1</th>\n",
       "      <td>20</td>\n",
       "      <td>38</td>\n",
       "      <td>29</td>\n",
       "      <td>30</td>\n",
       "      <td>22.52481</td>\n",
       "      <td>14.049665</td>\n",
       "      <td>NaN</td>\n",
       "    </tr>\n",
       "    <tr>\n",
       "      <th>2</th>\n",
       "      <td>69</td>\n",
       "      <td>85</td>\n",
       "      <td>77</td>\n",
       "      <td>78</td>\n",
       "      <td>13.938965</td>\n",
       "      <td>9.956611</td>\n",
       "      <td>NaN</td>\n",
       "    </tr>\n",
       "    <tr>\n",
       "      <th>...</th>\n",
       "      <th>...</th>\n",
       "      <th>...</th>\n",
       "      <th>...</th>\n",
       "      <th>...</th>\n",
       "      <th>...</th>\n",
       "      <td>...</td>\n",
       "      <td>...</td>\n",
       "      <td>...</td>\n",
       "      <td>...</td>\n",
       "      <td>...</td>\n",
       "      <td>...</td>\n",
       "      <td>...</td>\n",
       "    </tr>\n",
       "    <tr>\n",
       "      <th rowspan=\"5\" valign=\"top\">e14_2m3</th>\n",
       "      <th rowspan=\"5\" valign=\"top\">e14_2m3_201118</th>\n",
       "      <th rowspan=\"5\" valign=\"top\">0</th>\n",
       "      <th rowspan=\"5\" valign=\"top\">both</th>\n",
       "      <th>30</th>\n",
       "      <th>0</th>\n",
       "      <td>6</td>\n",
       "      <td>23</td>\n",
       "      <td>14</td>\n",
       "      <td>13</td>\n",
       "      <td>6.647433</td>\n",
       "      <td>4.711355</td>\n",
       "      <td>0.0</td>\n",
       "    </tr>\n",
       "    <tr>\n",
       "      <th>32</th>\n",
       "      <th>0</th>\n",
       "      <td>5</td>\n",
       "      <td>26</td>\n",
       "      <td>15</td>\n",
       "      <td>18</td>\n",
       "      <td>7.859794</td>\n",
       "      <td>6.384746</td>\n",
       "      <td>0.0</td>\n",
       "    </tr>\n",
       "    <tr>\n",
       "      <th>38</th>\n",
       "      <th>0</th>\n",
       "      <td>0</td>\n",
       "      <td>7</td>\n",
       "      <td>2</td>\n",
       "      <td>0</td>\n",
       "      <td>5.592037</td>\n",
       "      <td>3.799054</td>\n",
       "      <td>0.0</td>\n",
       "    </tr>\n",
       "    <tr>\n",
       "      <th>47</th>\n",
       "      <th>0</th>\n",
       "      <td>4</td>\n",
       "      <td>10</td>\n",
       "      <td>7</td>\n",
       "      <td>7</td>\n",
       "      <td>3.72037</td>\n",
       "      <td>3.481984</td>\n",
       "      <td>0.0</td>\n",
       "    </tr>\n",
       "    <tr>\n",
       "      <th>53</th>\n",
       "      <th>0</th>\n",
       "      <td>0</td>\n",
       "      <td>6</td>\n",
       "      <td>2</td>\n",
       "      <td>4</td>\n",
       "      <td>2.114954</td>\n",
       "      <td>2.088343</td>\n",
       "      <td>0.0</td>\n",
       "    </tr>\n",
       "  </tbody>\n",
       "</table>\n",
       "<p>14438 rows × 7 columns</p>\n",
       "</div>"
      ],
      "text/plain": [
       "                                               start end com peak    fr_peak  \\\n",
       "                                   field_index                                 \n",
       "e13_26m1 e13_26m1_210913 0 0.0  3  0              24  40  32   32   2.327171   \n",
       "                                27 0               0  30  15   15  27.438358   \n",
       "                                29 0               2   9   5    6   5.685168   \n",
       "                                   1              20  38  29   30   22.52481   \n",
       "                                   2              69  85  77   78  13.938965   \n",
       "...                                              ...  ..  ..  ...        ...   \n",
       "e14_2m3  e14_2m3_201118  0 both 30 0               6  23  14   13   6.647433   \n",
       "                                32 0               5  26  15   18   7.859794   \n",
       "                                38 0               0   7   2    0   5.592037   \n",
       "                                47 0               4  10   7    7    3.72037   \n",
       "                                53 0               0   6   2    4   2.114954   \n",
       "\n",
       "                                                  fr_mean  other_field_index  \n",
       "                                   field_index                                \n",
       "e13_26m1 e13_26m1_210913 0 0.0  3  0             1.246869                NaN  \n",
       "                                27 0            21.794745                NaN  \n",
       "                                29 0             5.262314                NaN  \n",
       "                                   1            14.049665                NaN  \n",
       "                                   2             9.956611                NaN  \n",
       "...                                                   ...                ...  \n",
       "e14_2m3  e14_2m3_201118  0 both 30 0             4.711355                0.0  \n",
       "                                32 0             6.384746                0.0  \n",
       "                                38 0             3.799054                0.0  \n",
       "                                47 0             3.481984                0.0  \n",
       "                                53 0             2.088343                0.0  \n",
       "\n",
       "[14438 rows x 7 columns]"
      ]
     },
     "execution_count": 81,
     "metadata": {},
     "output_type": "execute_result"
    }
   ],
   "source": [
    "all_fields_recombined_all"
   ]
  },
  {
   "cell_type": "code",
   "execution_count": 8,
   "id": "47a64c3f",
   "metadata": {},
   "outputs": [],
   "source": [
    "fn = 'prepped_data_agg.p'\n",
    "fn_full = os.path.join(data_dir,fn)\n",
    "prepped_data_agg = pickle.load(open(fn_full,'rb'))\n",
    "\n",
    "all_fields_recombined_all = prepped_data_agg['all_fields_recombined_all']\n",
    "pf_params_recombined_all=  prepped_data_agg['pf_params_recombined_all']\n",
    "fr_map_trial_df_all= prepped_data_agg['fr_map_trial_df_all']\n",
    "occu_map_all = prepped_data_agg['occu_map_all']\n",
    "fr_map_all = prepped_data_agg['fr_map_all']\n",
    "\n",
    "pval_all = prepped_data_agg['pval_all']\n",
    "X_pwc_all = prepped_data_agg['X_pwc_all']\n",
    "X_raw_all = prepped_data_agg['X_raw_all']\n",
    "changes_df_all = prepped_data_agg['changes_df_all']\n",
    "var_res_all_test = prepped_data_agg['var_res_all']\n",
    "# corr_all = prepped_data_agg['corr_all']\n",
    "all_sw_d_all = prepped_data_agg['all_sw_d_all']\n",
    "all_sw_with_metrics_d_all = prepped_data_agg['all_sw_with_metrics_d_all']\n",
    "best_n_all_test = prepped_data_agg['best_n_all']\n",
    "spk_beh_df_all = prepped_data_agg['spk_beh_df_all']\n",
    "\n",
    "best_n_all=prepped_data_agg['best_n_all']\n",
    "\n",
    "ntrials_per_tt=fr_map_trial_df_all.groupby(level=(0,1,2,3)).apply(lambda x:x.dropna(axis=1,how='all').shape[1])\n",
    "ntrials_mask = ntrials_per_tt.groupby(level=(0,1,2)).apply(lambda x:(x>=7).all()) \n",
    "\n"
   ]
  },
  {
   "cell_type": "code",
   "execution_count": 12,
   "id": "13191f21",
   "metadata": {},
   "outputs": [
    {
     "name": "stdout",
     "output_type": "stream",
     "text": [
      "CPU times: user 14.9 s, sys: 7.13 s, total: 22 s\n",
      "Wall time: 22 s\n"
     ]
    }
   ],
   "source": [
    "%%time\n",
    "ei_res_df_all = []\n",
    "for k,sbd in spk_beh_df_all.groupby(level=(0,1)):\n",
    "    ei_res_df=get_ei_var_spk_beh_df(sbd,cell_cols_d_all[k])\n",
    "    ei_res_df_all.append(ei_res_df)\n",
    "ei_res_df_all  = pd.concat(ei_res_df_all,axis=0)"
   ]
  },
  {
   "cell_type": "code",
   "execution_count": 9,
   "id": "45fc525d",
   "metadata": {},
   "outputs": [],
   "source": [
    "var_res_all_test['fit_var_ratio_1cp'] = pval_all[1]['exp_var_ratio']\n",
    "var_res_all_test['fit_var_ratio_div_sh_1cp'] = pval_all[1]['exp_var_ratio'] / pval_all[1]['exp_var_ratio_sh_med']\n"
   ]
  },
  {
   "cell_type": "code",
   "execution_count": 10,
   "id": "744e5789",
   "metadata": {},
   "outputs": [
    {
     "data": {
      "text/plain": [
       "<module 'variability_axis' from '/mnt/home/szheng/projects/place_variability/code/variability_axis.py'>"
      ]
     },
     "execution_count": 10,
     "metadata": {},
     "output_type": "execute_result"
    }
   ],
   "source": [
    "import variability_axis as va\n",
    "reload(va)"
   ]
  },
  {
   "cell_type": "code",
   "execution_count": 11,
   "id": "375de1ea",
   "metadata": {},
   "outputs": [],
   "source": [
    "savefn_full = os.path.join(data_dir,'per_field_metrics_shtest_with_1cp.p')\n",
    "# pickle.dump(per_field_metrics_all,open(savefn_full,'wb'))\n",
    "per_field_metrics_all=pickle.load(open(savefn_full,'rb'))"
   ]
  },
  {
   "cell_type": "markdown",
   "id": "5e008197",
   "metadata": {},
   "source": [
    "# prep data"
   ]
  },
  {
   "cell_type": "code",
   "execution_count": 12,
   "id": "e553680c",
   "metadata": {},
   "outputs": [
    {
     "data": {
      "text/plain": [
       "<module 'behavior_and_switching' from '/mnt/home/szheng/projects/place_variability/code/behavior_and_switching.py'>"
      ]
     },
     "execution_count": 12,
     "metadata": {},
     "output_type": "execute_result"
    }
   ],
   "source": [
    "import behavior_and_switching as bas\n",
    "reload(bas)"
   ]
  },
  {
   "cell_type": "code",
   "execution_count": 13,
   "id": "d0e3061f",
   "metadata": {},
   "outputs": [],
   "source": [
    "trial_index_to_index_within_df_all = prepped_data_agg['trial_index_to_index_within_df_all']\n"
   ]
  },
  {
   "cell_type": "code",
   "execution_count": null,
   "id": "d3bc34c5",
   "metadata": {},
   "outputs": [],
   "source": [
    "# n_field_per_pos_one_tt_per_trial_all=bas.get_n_fied_per_pos_per_trial_all(all_fields_recombined_all,trial_index_to_index_within_df_all,\n",
    "#                                      var_bin_d={'lin_binned':np.array([0,15,74,111,185,202,222])/2.2},\n",
    "#                                         combine_first_last_section=True,\n",
    "#                                      pf_key = 'peak'\n",
    "#                                     )"
   ]
  },
  {
   "cell_type": "code",
   "execution_count": 22,
   "id": "e9edbfbb",
   "metadata": {},
   "outputs": [],
   "source": [
    "# var_per_trial_pos_all_re_nfield=var_per_trial_pos_all.set_index(['trial','lin_binned_cat'],append=True)\n",
    "# var_per_trial_pos_all_re_nfield['n_field']  = n_field_per_pos_one_tt_per_trial_all.droplevel(3)\n"
   ]
  },
  {
   "cell_type": "code",
   "execution_count": 14,
   "id": "091aab9b",
   "metadata": {
    "scrolled": true
   },
   "outputs": [
    {
     "name": "stderr",
     "output_type": "stream",
     "text": [
      "/mnt/home/szheng/projects/place_variability/code/behavior_and_switching.py:14: SettingWithCopyWarning: \n",
      "A value is trying to be set on a copy of a slice from a DataFrame.\n",
      "Try using .loc[row_indexer,col_indexer] = value instead\n",
      "\n",
      "See the caveats in the documentation: https://pandas.pydata.org/pandas-docs/stable/user_guide/indexing.html#returning-a-view-versus-a-copy\n",
      "  df[k_cat] = pd.cut(df[k],val,retbins=False,labels=False,include_lowest=True)\n",
      "/mnt/home/szheng/projects/place_variability/code/behavior_and_switching.py:111: PerformanceWarning: indexing past lexsort depth may impact performance.\n",
      "  if 'both' in all_fields_recombined_all.loc[(ani,sess,ti),:].index.get_level_values(0):\n",
      "/mnt/home/szheng/projects/place_variability/code/behavior_and_switching.py:111: PerformanceWarning: indexing past lexsort depth may impact performance.\n",
      "  if 'both' in all_fields_recombined_all.loc[(ani,sess,ti),:].index.get_level_values(0):\n",
      "/mnt/home/szheng/projects/place_variability/code/behavior_and_switching.py:111: PerformanceWarning: indexing past lexsort depth may impact performance.\n",
      "  if 'both' in all_fields_recombined_all.loc[(ani,sess,ti),:].index.get_level_values(0):\n",
      "/mnt/home/szheng/projects/place_variability/code/behavior_and_switching.py:111: PerformanceWarning: indexing past lexsort depth may impact performance.\n",
      "  if 'both' in all_fields_recombined_all.loc[(ani,sess,ti),:].index.get_level_values(0):\n",
      "/mnt/home/szheng/projects/place_variability/code/behavior_and_switching.py:111: PerformanceWarning: indexing past lexsort depth may impact performance.\n",
      "  if 'both' in all_fields_recombined_all.loc[(ani,sess,ti),:].index.get_level_values(0):\n",
      "/mnt/home/szheng/projects/place_variability/code/behavior_and_switching.py:111: PerformanceWarning: indexing past lexsort depth may impact performance.\n",
      "  if 'both' in all_fields_recombined_all.loc[(ani,sess,ti),:].index.get_level_values(0):\n",
      "/mnt/home/szheng/projects/place_variability/code/behavior_and_switching.py:111: PerformanceWarning: indexing past lexsort depth may impact performance.\n",
      "  if 'both' in all_fields_recombined_all.loc[(ani,sess,ti),:].index.get_level_values(0):\n",
      "/mnt/home/szheng/projects/place_variability/code/behavior_and_switching.py:111: PerformanceWarning: indexing past lexsort depth may impact performance.\n",
      "  if 'both' in all_fields_recombined_all.loc[(ani,sess,ti),:].index.get_level_values(0):\n",
      "/mnt/home/szheng/projects/place_variability/code/behavior_and_switching.py:111: PerformanceWarning: indexing past lexsort depth may impact performance.\n",
      "  if 'both' in all_fields_recombined_all.loc[(ani,sess,ti),:].index.get_level_values(0):\n",
      "/mnt/home/szheng/projects/place_variability/code/behavior_and_switching.py:111: PerformanceWarning: indexing past lexsort depth may impact performance.\n",
      "  if 'both' in all_fields_recombined_all.loc[(ani,sess,ti),:].index.get_level_values(0):\n",
      "/mnt/home/szheng/projects/place_variability/code/behavior_and_switching.py:111: PerformanceWarning: indexing past lexsort depth may impact performance.\n",
      "  if 'both' in all_fields_recombined_all.loc[(ani,sess,ti),:].index.get_level_values(0):\n",
      "/mnt/home/szheng/projects/place_variability/code/behavior_and_switching.py:111: PerformanceWarning: indexing past lexsort depth may impact performance.\n",
      "  if 'both' in all_fields_recombined_all.loc[(ani,sess,ti),:].index.get_level_values(0):\n",
      "/mnt/home/szheng/projects/place_variability/code/behavior_and_switching.py:111: PerformanceWarning: indexing past lexsort depth may impact performance.\n",
      "  if 'both' in all_fields_recombined_all.loc[(ani,sess,ti),:].index.get_level_values(0):\n",
      "/mnt/home/szheng/projects/place_variability/code/behavior_and_switching.py:111: PerformanceWarning: indexing past lexsort depth may impact performance.\n",
      "  if 'both' in all_fields_recombined_all.loc[(ani,sess,ti),:].index.get_level_values(0):\n",
      "/mnt/home/szheng/projects/place_variability/code/behavior_and_switching.py:111: PerformanceWarning: indexing past lexsort depth may impact performance.\n",
      "  if 'both' in all_fields_recombined_all.loc[(ani,sess,ti),:].index.get_level_values(0):\n",
      "/mnt/home/szheng/projects/place_variability/code/behavior_and_switching.py:111: PerformanceWarning: indexing past lexsort depth may impact performance.\n",
      "  if 'both' in all_fields_recombined_all.loc[(ani,sess,ti),:].index.get_level_values(0):\n",
      "/mnt/home/szheng/projects/place_variability/code/behavior_and_switching.py:111: PerformanceWarning: indexing past lexsort depth may impact performance.\n",
      "  if 'both' in all_fields_recombined_all.loc[(ani,sess,ti),:].index.get_level_values(0):\n",
      "/mnt/home/szheng/projects/place_variability/code/behavior_and_switching.py:111: PerformanceWarning: indexing past lexsort depth may impact performance.\n",
      "  if 'both' in all_fields_recombined_all.loc[(ani,sess,ti),:].index.get_level_values(0):\n",
      "/mnt/home/szheng/projects/place_variability/code/behavior_and_switching.py:111: PerformanceWarning: indexing past lexsort depth may impact performance.\n",
      "  if 'both' in all_fields_recombined_all.loc[(ani,sess,ti),:].index.get_level_values(0):\n",
      "/mnt/home/szheng/projects/place_variability/code/behavior_and_switching.py:111: PerformanceWarning: indexing past lexsort depth may impact performance.\n",
      "  if 'both' in all_fields_recombined_all.loc[(ani,sess,ti),:].index.get_level_values(0):\n",
      "/mnt/home/szheng/projects/place_variability/code/behavior_and_switching.py:111: PerformanceWarning: indexing past lexsort depth may impact performance.\n",
      "  if 'both' in all_fields_recombined_all.loc[(ani,sess,ti),:].index.get_level_values(0):\n",
      "/mnt/home/szheng/projects/place_variability/code/behavior_and_switching.py:111: PerformanceWarning: indexing past lexsort depth may impact performance.\n",
      "  if 'both' in all_fields_recombined_all.loc[(ani,sess,ti),:].index.get_level_values(0):\n",
      "/mnt/home/szheng/projects/place_variability/code/behavior_and_switching.py:111: PerformanceWarning: indexing past lexsort depth may impact performance.\n",
      "  if 'both' in all_fields_recombined_all.loc[(ani,sess,ti),:].index.get_level_values(0):\n",
      "/mnt/home/szheng/projects/place_variability/code/behavior_and_switching.py:111: PerformanceWarning: indexing past lexsort depth may impact performance.\n",
      "  if 'both' in all_fields_recombined_all.loc[(ani,sess,ti),:].index.get_level_values(0):\n",
      "/mnt/home/szheng/projects/place_variability/code/behavior_and_switching.py:111: PerformanceWarning: indexing past lexsort depth may impact performance.\n",
      "  if 'both' in all_fields_recombined_all.loc[(ani,sess,ti),:].index.get_level_values(0):\n",
      "/mnt/home/szheng/projects/place_variability/code/behavior_and_switching.py:111: PerformanceWarning: indexing past lexsort depth may impact performance.\n",
      "  if 'both' in all_fields_recombined_all.loc[(ani,sess,ti),:].index.get_level_values(0):\n",
      "/mnt/home/szheng/projects/place_variability/code/behavior_and_switching.py:111: PerformanceWarning: indexing past lexsort depth may impact performance.\n",
      "  if 'both' in all_fields_recombined_all.loc[(ani,sess,ti),:].index.get_level_values(0):\n",
      "/mnt/home/szheng/projects/place_variability/code/behavior_and_switching.py:111: PerformanceWarning: indexing past lexsort depth may impact performance.\n",
      "  if 'both' in all_fields_recombined_all.loc[(ani,sess,ti),:].index.get_level_values(0):\n",
      "/mnt/home/szheng/projects/place_variability/code/behavior_and_switching.py:111: PerformanceWarning: indexing past lexsort depth may impact performance.\n",
      "  if 'both' in all_fields_recombined_all.loc[(ani,sess,ti),:].index.get_level_values(0):\n",
      "/mnt/home/szheng/projects/place_variability/code/behavior_and_switching.py:111: PerformanceWarning: indexing past lexsort depth may impact performance.\n",
      "  if 'both' in all_fields_recombined_all.loc[(ani,sess,ti),:].index.get_level_values(0):\n",
      "/mnt/home/szheng/projects/place_variability/code/behavior_and_switching.py:111: PerformanceWarning: indexing past lexsort depth may impact performance.\n",
      "  if 'both' in all_fields_recombined_all.loc[(ani,sess,ti),:].index.get_level_values(0):\n",
      "/mnt/home/szheng/projects/place_variability/code/behavior_and_switching.py:111: PerformanceWarning: indexing past lexsort depth may impact performance.\n",
      "  if 'both' in all_fields_recombined_all.loc[(ani,sess,ti),:].index.get_level_values(0):\n",
      "/mnt/home/szheng/projects/place_variability/code/behavior_and_switching.py:111: PerformanceWarning: indexing past lexsort depth may impact performance.\n",
      "  if 'both' in all_fields_recombined_all.loc[(ani,sess,ti),:].index.get_level_values(0):\n",
      "/mnt/home/szheng/projects/place_variability/code/behavior_and_switching.py:111: PerformanceWarning: indexing past lexsort depth may impact performance.\n",
      "  if 'both' in all_fields_recombined_all.loc[(ani,sess,ti),:].index.get_level_values(0):\n",
      "/mnt/home/szheng/projects/place_variability/code/behavior_and_switching.py:111: PerformanceWarning: indexing past lexsort depth may impact performance.\n",
      "  if 'both' in all_fields_recombined_all.loc[(ani,sess,ti),:].index.get_level_values(0):\n",
      "/mnt/home/szheng/projects/place_variability/code/behavior_and_switching.py:111: PerformanceWarning: indexing past lexsort depth may impact performance.\n",
      "  if 'both' in all_fields_recombined_all.loc[(ani,sess,ti),:].index.get_level_values(0):\n"
     ]
    },
    {
     "name": "stderr",
     "output_type": "stream",
     "text": [
      "/mnt/home/szheng/projects/place_variability/code/behavior_and_switching.py:111: PerformanceWarning: indexing past lexsort depth may impact performance.\n",
      "  if 'both' in all_fields_recombined_all.loc[(ani,sess,ti),:].index.get_level_values(0):\n",
      "/mnt/home/szheng/projects/place_variability/code/behavior_and_switching.py:111: PerformanceWarning: indexing past lexsort depth may impact performance.\n",
      "  if 'both' in all_fields_recombined_all.loc[(ani,sess,ti),:].index.get_level_values(0):\n",
      "/mnt/home/szheng/projects/place_variability/code/behavior_and_switching.py:111: PerformanceWarning: indexing past lexsort depth may impact performance.\n",
      "  if 'both' in all_fields_recombined_all.loc[(ani,sess,ti),:].index.get_level_values(0):\n",
      "/mnt/home/szheng/projects/place_variability/code/behavior_and_switching.py:111: PerformanceWarning: indexing past lexsort depth may impact performance.\n",
      "  if 'both' in all_fields_recombined_all.loc[(ani,sess,ti),:].index.get_level_values(0):\n",
      "/mnt/home/szheng/projects/place_variability/code/behavior_and_switching.py:111: PerformanceWarning: indexing past lexsort depth may impact performance.\n",
      "  if 'both' in all_fields_recombined_all.loc[(ani,sess,ti),:].index.get_level_values(0):\n",
      "/mnt/home/szheng/projects/place_variability/code/behavior_and_switching.py:111: PerformanceWarning: indexing past lexsort depth may impact performance.\n",
      "  if 'both' in all_fields_recombined_all.loc[(ani,sess,ti),:].index.get_level_values(0):\n",
      "/mnt/home/szheng/projects/place_variability/code/behavior_and_switching.py:111: PerformanceWarning: indexing past lexsort depth may impact performance.\n",
      "  if 'both' in all_fields_recombined_all.loc[(ani,sess,ti),:].index.get_level_values(0):\n",
      "/mnt/home/szheng/projects/place_variability/code/behavior_and_switching.py:111: PerformanceWarning: indexing past lexsort depth may impact performance.\n",
      "  if 'both' in all_fields_recombined_all.loc[(ani,sess,ti),:].index.get_level_values(0):\n",
      "/mnt/home/szheng/projects/place_variability/code/behavior_and_switching.py:111: PerformanceWarning: indexing past lexsort depth may impact performance.\n",
      "  if 'both' in all_fields_recombined_all.loc[(ani,sess,ti),:].index.get_level_values(0):\n",
      "/mnt/home/szheng/projects/place_variability/code/behavior_and_switching.py:111: PerformanceWarning: indexing past lexsort depth may impact performance.\n",
      "  if 'both' in all_fields_recombined_all.loc[(ani,sess,ti),:].index.get_level_values(0):\n",
      "/mnt/home/szheng/projects/place_variability/code/behavior_and_switching.py:111: PerformanceWarning: indexing past lexsort depth may impact performance.\n",
      "  if 'both' in all_fields_recombined_all.loc[(ani,sess,ti),:].index.get_level_values(0):\n",
      "/mnt/home/szheng/projects/place_variability/code/behavior_and_switching.py:111: PerformanceWarning: indexing past lexsort depth may impact performance.\n",
      "  if 'both' in all_fields_recombined_all.loc[(ani,sess,ti),:].index.get_level_values(0):\n",
      "/mnt/home/szheng/projects/place_variability/code/behavior_and_switching.py:111: PerformanceWarning: indexing past lexsort depth may impact performance.\n",
      "  if 'both' in all_fields_recombined_all.loc[(ani,sess,ti),:].index.get_level_values(0):\n",
      "/mnt/home/szheng/projects/place_variability/code/behavior_and_switching.py:111: PerformanceWarning: indexing past lexsort depth may impact performance.\n",
      "  if 'both' in all_fields_recombined_all.loc[(ani,sess,ti),:].index.get_level_values(0):\n",
      "/mnt/home/szheng/projects/place_variability/code/behavior_and_switching.py:111: PerformanceWarning: indexing past lexsort depth may impact performance.\n",
      "  if 'both' in all_fields_recombined_all.loc[(ani,sess,ti),:].index.get_level_values(0):\n",
      "/mnt/home/szheng/projects/place_variability/code/behavior_and_switching.py:111: PerformanceWarning: indexing past lexsort depth may impact performance.\n",
      "  if 'both' in all_fields_recombined_all.loc[(ani,sess,ti),:].index.get_level_values(0):\n",
      "/mnt/home/szheng/projects/place_variability/code/behavior_and_switching.py:111: PerformanceWarning: indexing past lexsort depth may impact performance.\n",
      "  if 'both' in all_fields_recombined_all.loc[(ani,sess,ti),:].index.get_level_values(0):\n",
      "/mnt/home/szheng/projects/place_variability/code/behavior_and_switching.py:111: PerformanceWarning: indexing past lexsort depth may impact performance.\n",
      "  if 'both' in all_fields_recombined_all.loc[(ani,sess,ti),:].index.get_level_values(0):\n",
      "/mnt/home/szheng/projects/place_variability/code/behavior_and_switching.py:111: PerformanceWarning: indexing past lexsort depth may impact performance.\n",
      "  if 'both' in all_fields_recombined_all.loc[(ani,sess,ti),:].index.get_level_values(0):\n",
      "/mnt/home/szheng/projects/place_variability/code/behavior_and_switching.py:111: PerformanceWarning: indexing past lexsort depth may impact performance.\n",
      "  if 'both' in all_fields_recombined_all.loc[(ani,sess,ti),:].index.get_level_values(0):\n",
      "/mnt/home/szheng/projects/place_variability/code/behavior_and_switching.py:111: PerformanceWarning: indexing past lexsort depth may impact performance.\n",
      "  if 'both' in all_fields_recombined_all.loc[(ani,sess,ti),:].index.get_level_values(0):\n",
      "/mnt/home/szheng/projects/place_variability/code/behavior_and_switching.py:111: PerformanceWarning: indexing past lexsort depth may impact performance.\n",
      "  if 'both' in all_fields_recombined_all.loc[(ani,sess,ti),:].index.get_level_values(0):\n",
      "/mnt/home/szheng/projects/place_variability/code/behavior_and_switching.py:111: PerformanceWarning: indexing past lexsort depth may impact performance.\n",
      "  if 'both' in all_fields_recombined_all.loc[(ani,sess,ti),:].index.get_level_values(0):\n",
      "/mnt/home/szheng/projects/place_variability/code/behavior_and_switching.py:111: PerformanceWarning: indexing past lexsort depth may impact performance.\n",
      "  if 'both' in all_fields_recombined_all.loc[(ani,sess,ti),:].index.get_level_values(0):\n",
      "/mnt/home/szheng/projects/place_variability/code/behavior_and_switching.py:111: PerformanceWarning: indexing past lexsort depth may impact performance.\n",
      "  if 'both' in all_fields_recombined_all.loc[(ani,sess,ti),:].index.get_level_values(0):\n",
      "/mnt/home/szheng/projects/place_variability/code/behavior_and_switching.py:111: PerformanceWarning: indexing past lexsort depth may impact performance.\n",
      "  if 'both' in all_fields_recombined_all.loc[(ani,sess,ti),:].index.get_level_values(0):\n",
      "/mnt/home/szheng/projects/place_variability/code/behavior_and_switching.py:111: PerformanceWarning: indexing past lexsort depth may impact performance.\n",
      "  if 'both' in all_fields_recombined_all.loc[(ani,sess,ti),:].index.get_level_values(0):\n",
      "/mnt/home/szheng/projects/place_variability/code/behavior_and_switching.py:111: PerformanceWarning: indexing past lexsort depth may impact performance.\n",
      "  if 'both' in all_fields_recombined_all.loc[(ani,sess,ti),:].index.get_level_values(0):\n",
      "/mnt/home/szheng/projects/place_variability/code/behavior_and_switching.py:111: PerformanceWarning: indexing past lexsort depth may impact performance.\n",
      "  if 'both' in all_fields_recombined_all.loc[(ani,sess,ti),:].index.get_level_values(0):\n",
      "/mnt/home/szheng/projects/place_variability/code/behavior_and_switching.py:111: PerformanceWarning: indexing past lexsort depth may impact performance.\n",
      "  if 'both' in all_fields_recombined_all.loc[(ani,sess,ti),:].index.get_level_values(0):\n",
      "/mnt/home/szheng/projects/place_variability/code/behavior_and_switching.py:111: PerformanceWarning: indexing past lexsort depth may impact performance.\n",
      "  if 'both' in all_fields_recombined_all.loc[(ani,sess,ti),:].index.get_level_values(0):\n",
      "/mnt/home/szheng/projects/place_variability/code/behavior_and_switching.py:111: PerformanceWarning: indexing past lexsort depth may impact performance.\n",
      "  if 'both' in all_fields_recombined_all.loc[(ani,sess,ti),:].index.get_level_values(0):\n",
      "/mnt/home/szheng/projects/place_variability/code/behavior_and_switching.py:111: PerformanceWarning: indexing past lexsort depth may impact performance.\n",
      "  if 'both' in all_fields_recombined_all.loc[(ani,sess,ti),:].index.get_level_values(0):\n",
      "/mnt/home/szheng/projects/place_variability/code/behavior_and_switching.py:111: PerformanceWarning: indexing past lexsort depth may impact performance.\n",
      "  if 'both' in all_fields_recombined_all.loc[(ani,sess,ti),:].index.get_level_values(0):\n",
      "/mnt/home/szheng/projects/place_variability/code/behavior_and_switching.py:111: PerformanceWarning: indexing past lexsort depth may impact performance.\n",
      "  if 'both' in all_fields_recombined_all.loc[(ani,sess,ti),:].index.get_level_values(0):\n",
      "/mnt/home/szheng/projects/place_variability/code/behavior_and_switching.py:111: PerformanceWarning: indexing past lexsort depth may impact performance.\n",
      "  if 'both' in all_fields_recombined_all.loc[(ani,sess,ti),:].index.get_level_values(0):\n"
     ]
    },
    {
     "name": "stderr",
     "output_type": "stream",
     "text": [
      "/mnt/home/szheng/projects/place_variability/code/behavior_and_switching.py:111: PerformanceWarning: indexing past lexsort depth may impact performance.\n",
      "  if 'both' in all_fields_recombined_all.loc[(ani,sess,ti),:].index.get_level_values(0):\n",
      "/mnt/home/szheng/projects/place_variability/code/behavior_and_switching.py:111: PerformanceWarning: indexing past lexsort depth may impact performance.\n",
      "  if 'both' in all_fields_recombined_all.loc[(ani,sess,ti),:].index.get_level_values(0):\n",
      "/mnt/home/szheng/projects/place_variability/code/behavior_and_switching.py:111: PerformanceWarning: indexing past lexsort depth may impact performance.\n",
      "  if 'both' in all_fields_recombined_all.loc[(ani,sess,ti),:].index.get_level_values(0):\n",
      "/mnt/home/szheng/projects/place_variability/code/behavior_and_switching.py:111: PerformanceWarning: indexing past lexsort depth may impact performance.\n",
      "  if 'both' in all_fields_recombined_all.loc[(ani,sess,ti),:].index.get_level_values(0):\n",
      "/mnt/home/szheng/projects/place_variability/code/behavior_and_switching.py:111: PerformanceWarning: indexing past lexsort depth may impact performance.\n",
      "  if 'both' in all_fields_recombined_all.loc[(ani,sess,ti),:].index.get_level_values(0):\n",
      "/mnt/home/szheng/projects/place_variability/code/behavior_and_switching.py:111: PerformanceWarning: indexing past lexsort depth may impact performance.\n",
      "  if 'both' in all_fields_recombined_all.loc[(ani,sess,ti),:].index.get_level_values(0):\n",
      "/mnt/home/szheng/projects/place_variability/code/behavior_and_switching.py:111: PerformanceWarning: indexing past lexsort depth may impact performance.\n",
      "  if 'both' in all_fields_recombined_all.loc[(ani,sess,ti),:].index.get_level_values(0):\n",
      "/mnt/home/szheng/projects/place_variability/code/behavior_and_switching.py:111: PerformanceWarning: indexing past lexsort depth may impact performance.\n",
      "  if 'both' in all_fields_recombined_all.loc[(ani,sess,ti),:].index.get_level_values(0):\n",
      "/mnt/home/szheng/projects/place_variability/code/behavior_and_switching.py:111: PerformanceWarning: indexing past lexsort depth may impact performance.\n",
      "  if 'both' in all_fields_recombined_all.loc[(ani,sess,ti),:].index.get_level_values(0):\n",
      "/mnt/home/szheng/projects/place_variability/code/behavior_and_switching.py:111: PerformanceWarning: indexing past lexsort depth may impact performance.\n",
      "  if 'both' in all_fields_recombined_all.loc[(ani,sess,ti),:].index.get_level_values(0):\n",
      "/mnt/home/szheng/projects/place_variability/code/behavior_and_switching.py:111: PerformanceWarning: indexing past lexsort depth may impact performance.\n",
      "  if 'both' in all_fields_recombined_all.loc[(ani,sess,ti),:].index.get_level_values(0):\n",
      "/mnt/home/szheng/projects/place_variability/code/behavior_and_switching.py:111: PerformanceWarning: indexing past lexsort depth may impact performance.\n",
      "  if 'both' in all_fields_recombined_all.loc[(ani,sess,ti),:].index.get_level_values(0):\n",
      "/mnt/home/szheng/projects/place_variability/code/behavior_and_switching.py:111: PerformanceWarning: indexing past lexsort depth may impact performance.\n",
      "  if 'both' in all_fields_recombined_all.loc[(ani,sess,ti),:].index.get_level_values(0):\n",
      "/mnt/home/szheng/projects/place_variability/code/behavior_and_switching.py:111: PerformanceWarning: indexing past lexsort depth may impact performance.\n",
      "  if 'both' in all_fields_recombined_all.loc[(ani,sess,ti),:].index.get_level_values(0):\n",
      "/mnt/home/szheng/projects/place_variability/code/behavior_and_switching.py:111: PerformanceWarning: indexing past lexsort depth may impact performance.\n",
      "  if 'both' in all_fields_recombined_all.loc[(ani,sess,ti),:].index.get_level_values(0):\n",
      "/mnt/home/szheng/projects/place_variability/code/behavior_and_switching.py:111: PerformanceWarning: indexing past lexsort depth may impact performance.\n",
      "  if 'both' in all_fields_recombined_all.loc[(ani,sess,ti),:].index.get_level_values(0):\n",
      "/mnt/home/szheng/projects/place_variability/code/behavior_and_switching.py:111: PerformanceWarning: indexing past lexsort depth may impact performance.\n",
      "  if 'both' in all_fields_recombined_all.loc[(ani,sess,ti),:].index.get_level_values(0):\n",
      "/mnt/home/szheng/projects/place_variability/code/behavior_and_switching.py:111: PerformanceWarning: indexing past lexsort depth may impact performance.\n",
      "  if 'both' in all_fields_recombined_all.loc[(ani,sess,ti),:].index.get_level_values(0):\n",
      "/mnt/home/szheng/projects/place_variability/code/behavior_and_switching.py:111: PerformanceWarning: indexing past lexsort depth may impact performance.\n",
      "  if 'both' in all_fields_recombined_all.loc[(ani,sess,ti),:].index.get_level_values(0):\n",
      "/mnt/home/szheng/projects/place_variability/code/behavior_and_switching.py:111: PerformanceWarning: indexing past lexsort depth may impact performance.\n",
      "  if 'both' in all_fields_recombined_all.loc[(ani,sess,ti),:].index.get_level_values(0):\n"
     ]
    }
   ],
   "source": [
    "import behavior_and_switching as bas\n",
    "reload(bas)\n",
    "\n",
    "var_per_trial_pos_all = bas.prep_regression(spk_beh_df_all,all_fields_recombined_all,all_sw_d_all,trial_index_to_index_within_df_all,cell_cols_d_all=cell_cols_d_all,\n",
    "                                                            var_bin_d={'lin_binned':np.array([0,15,74,111,185,202,222])/2.2},    \n",
    "                                                            combine_first_last_section=True)\n",
    "\n"
   ]
  },
  {
   "cell_type": "code",
   "execution_count": 41,
   "id": "76fa5bdc",
   "metadata": {},
   "outputs": [],
   "source": [
    "# # check n field assignment correct\n",
    "# gpb=n_field_per_pos_one_tt_per_trial_all.groupby(level=(0,1,2,3,4))\n",
    "# for k,val in gpb:\n",
    "#     ani,sess,ti,tt,trial_ind=k\n",
    "\n",
    "# var_per_trial_pos_all.loc[ani,sess,ti].query('trial==@trial_ind')[['trial','lin_binned_cat','n_field']]"
   ]
  },
  {
   "cell_type": "code",
   "execution_count": 149,
   "id": "5aba92b0",
   "metadata": {
    "scrolled": false
   },
   "outputs": [
    {
     "data": {
      "text/plain": [
       "<module 'behavior_and_switching' from '/mnt/home/szheng/projects/place_variability/code/behavior_and_switching.py'>"
      ]
     },
     "execution_count": 149,
     "metadata": {},
     "output_type": "execute_result"
    }
   ],
   "source": [
    "reload(bas)"
   ]
  },
  {
   "cell_type": "code",
   "execution_count": 147,
   "id": "18d7f736",
   "metadata": {},
   "outputs": [
    {
     "name": "stdout",
     "output_type": "stream",
     "text": [
      "CPU times: user 6.5 s, sys: 1.76 s, total: 8.26 s\n",
      "Wall time: 8.25 s\n"
     ]
    }
   ],
   "source": [
    "# %%time\n",
    "# correct_df_all = bas.get_correct_df_all(spk_beh_df_all,ti=0) "
   ]
  },
  {
   "cell_type": "markdown",
   "id": "9c2bdf5b",
   "metadata": {},
   "source": [
    "##### left right trial averaged\n",
    "count sw, per trial; sum across trials"
   ]
  },
  {
   "cell_type": "code",
   "execution_count": 18,
   "id": "8cc9707b",
   "metadata": {},
   "outputs": [],
   "source": [
    "y_key =  'sw_on'\n",
    "y_key_l = ['sw_on','sw_off']\n",
    "# n_sw_per_pos=var_per_trial_pos_all.set_index('lin_binned_cat',append=True).groupby(level=(0,1,2,3))[y_key_l].sum()\n",
    "n_sw_per_pos = var_per_trial_pos_all.groupby(level=(0,1,2)).apply(lambda x:x.groupby('lin_binned_cat',group_keys=False)[y_key_l].sum())\n",
    "\n",
    "n_field_per_pos=var_per_trial_pos_all.groupby(level=(0,1,2)).apply(lambda x:x.groupby('lin_binned_cat',group_keys=False)['n_field'].mean()).stack()\n",
    "\n",
    "# n_field_per_pos=var_per_trial_pos_all.set_index('lin_binned_cat',append=True).groupby(level=(0,1,2,3))['n_field'].mean()\n",
    "\n",
    "n_field_per_pos = pd.DataFrame(n_field_per_pos.values,index=n_field_per_pos.index,columns=['n_field'])\n",
    "\n",
    "var_per_pos = pd.concat([n_sw_per_pos,n_field_per_pos],axis=1)\n",
    "\n",
    "var_per_pos=var_per_pos.reset_index('lin_binned_cat')\n",
    "var_per_pos['lin_binned_cat'] = var_per_pos['lin_binned_cat'].astype('category')"
   ]
  },
  {
   "cell_type": "code",
   "execution_count": 19,
   "id": "d97ec82c",
   "metadata": {},
   "outputs": [],
   "source": [
    "# normalize by n field\n",
    "for y_key in y_key_l:\n",
    "    var_per_pos[f'{y_key}_div_n_field'] = var_per_pos[y_key] / var_per_pos['n_field']\n",
    "#     var_per_trial_pos_all[f'{y_key}_div_n_field'] = var_per_trial_pos_all[y_key] / var_per_trial_pos_all['n_field']"
   ]
  },
  {
   "cell_type": "markdown",
   "id": "0eea0241",
   "metadata": {},
   "source": [
    "# spatial agg"
   ]
  },
  {
   "cell_type": "code",
   "execution_count": 63,
   "id": "0d0d5592",
   "metadata": {},
   "outputs": [
    {
     "data": {
      "text/plain": [
       "<module 'behavior_and_switching_plot' from '/mnt/home/szheng/projects/place_variability/code/behavior_and_switching_plot.py'>"
      ]
     },
     "execution_count": 63,
     "metadata": {},
     "output_type": "execute_result"
    }
   ],
   "source": [
    "import behavior_and_switching_plot as basp\n",
    "reload(basp)"
   ]
  },
  {
   "cell_type": "code",
   "execution_count": 25,
   "id": "1041596d",
   "metadata": {},
   "outputs": [],
   "source": [
    "# sns.set_context('paper')\n",
    "sns.reset_orig()"
   ]
  },
  {
   "cell_type": "code",
   "execution_count": 64,
   "id": "67eda6ef",
   "metadata": {},
   "outputs": [],
   "source": [
    "segment_names =['delay zone','central','T','return side','return pre delay zone']"
   ]
  },
  {
   "cell_type": "code",
   "execution_count": 119,
   "id": "33687a38",
   "metadata": {},
   "outputs": [
    {
     "data": {
      "text/plain": [
       "<module 'behavior_and_switching_plot' from '/mnt/home/szheng/projects/place_variability/code/behavior_and_switching_plot.py'>"
      ]
     },
     "execution_count": 119,
     "metadata": {},
     "output_type": "execute_result"
    }
   ],
   "source": [
    "reload(basp)"
   ]
  },
  {
   "cell_type": "code",
   "execution_count": 152,
   "id": "35c9d1dd",
   "metadata": {},
   "outputs": [
    {
     "data": {
      "text/plain": [
       "46"
      ]
     },
     "execution_count": 152,
     "metadata": {},
     "output_type": "execute_result"
    }
   ],
   "source": [
    "var_per_pos.index.get_level_values(1).nunique()"
   ]
  },
  {
   "cell_type": "code",
   "execution_count": 236,
   "id": "a275f4e2",
   "metadata": {},
   "outputs": [
    {
     "data": {
      "image/png": "[encoded data removed]",
      "text/plain": [
       "<Figure size 144x72 with 1 Axes>"
      ]
     },
     "metadata": {
      "needs_background": "light"
     },
     "output_type": "display_data"
    },
    {
     "data": {
      "image/png": "[encoded data removed]",
      "text/plain": [
       "<Figure size 144x72 with 1 Axes>"
      ]
     },
     "metadata": {
      "needs_background": "light"
     },
     "output_type": "display_data"
    }
   ],
   "source": [
    "for onoff in ['on','off']:\n",
    "    fig,ax=plt.subplots(figsize=(2,1))\n",
    "    sns.lineplot(data=var_per_pos.reset_index(drop=True),x='lin_binned_cat',y=f'sw_{onoff}_div_n_field',ax=ax)\n",
    "    ax.set_ylabel(f'Num. switch-{onoff}\\n/ Num. fields')\n",
    "    ax.set_xticks(np.arange(len(segment_names)))\n",
    "    ax.set_xticklabels(segment_names,rotation=90)\n",
    "    ax.set_xlabel('')\n",
    "    figfn = f'n_sw_{onoff}_div_n_field_vs_pos'\n",
    "    ph.save_given_name(fig,figfn,figdir)"
   ]
  },
  {
   "cell_type": "code",
   "execution_count": 225,
   "id": "328b8cd5",
   "metadata": {},
   "outputs": [
    {
     "data": {
      "image/png": "[encoded data removed]",
      "text/plain": [
       "<Figure size 180x86.4 with 1 Axes>"
      ]
     },
     "metadata": {
      "needs_background": "light"
     },
     "output_type": "display_data"
    },
    {
     "data": {
      "image/png": "[encoded data removed]",
      "text/plain": [
       "<Figure size 180x86.4 with 1 Axes>"
      ]
     },
     "metadata": {
      "needs_background": "light"
     },
     "output_type": "display_data"
    }
   ],
   "source": [
    "# this one seems uninformative, not using\n",
    "x_key='n_field'\n",
    "for onoff in ['on','off']:\n",
    "    y_key=f'sw_{onoff}'\n",
    "    hue='lin_binned_cat'\n",
    "    fig,ax=basp.plot_scatter_with_slope(var_per_pos,x_key,y_key,hue,legend_text=segment_names,figsize=(2.5,1.2))\n",
    "    ax.set_ylabel(f'Num. switch-{onoff.upper()}')\n",
    "    ax.set_xlabel('Num. fields')\n",
    "    for fmt in ['svg','png']:\n",
    "        fn=f'{y_key}_vs_{x_key}.{fmt}'\n",
    "#         fig.savefig(os.path.join(figdir,fn))"
   ]
  },
  {
   "cell_type": "markdown",
   "id": "1b9adbb7",
   "metadata": {},
   "source": [
    "# relationship with prev correct"
   ]
  },
  {
   "cell_type": "code",
   "execution_count": 51,
   "id": "4257f319",
   "metadata": {},
   "outputs": [],
   "source": [
    "correct_df_all = bas.get_correct_df_all(spk_beh_df_all,ti=0)"
   ]
  },
  {
   "cell_type": "code",
   "execution_count": 100,
   "id": "41afc1c1",
   "metadata": {},
   "outputs": [],
   "source": [
    "var_per_trial_all = var_per_trial_pos_all.set_index('trial',append='True').groupby(level=(0,1,2,3))[['sw_on','sw_off','sw_on_div_n_field','sw_off_div_n_field']].sum()\n",
    "\n"
   ]
  },
  {
   "cell_type": "code",
   "execution_count": 108,
   "id": "b8d97d42",
   "metadata": {},
   "outputs": [],
   "source": [
    "correct_key_l = [k for k in var_per_trial_pos_all.columns if 'correct' in k]\n",
    "correct_df_all = var_per_trial_pos_all.set_index('trial',append='True').groupby(level=(0,1,2,3))[correct_key_l].apply(lambda x:x.mode(axis=0).iloc[0])"
   ]
  },
  {
   "cell_type": "code",
   "execution_count": 110,
   "id": "7434b7b1",
   "metadata": {},
   "outputs": [],
   "source": [
    "ind=var_per_trial_all.index.intersection(correct_df_all.index)\n",
    "var_per_trial_all_with_correct = pd.concat([var_per_trial_all.loc[ind],correct_df_all.loc[ind]],axis=1)"
   ]
  },
  {
   "cell_type": "code",
   "execution_count": 111,
   "id": "6e9ce4e7",
   "metadata": {},
   "outputs": [],
   "source": [
    "corr_res=var_per_trial_all_with_correct.groupby(level=0).apply(lambda x:(x.rcorr()))\n",
    "\n"
   ]
  },
  {
   "cell_type": "code",
   "execution_count": 125,
   "id": "08535d3d",
   "metadata": {},
   "outputs": [
    {
     "name": "stdout",
     "output_type": "stream",
     "text": [
      "e16_3m2\n"
     ]
    },
    {
     "data": {
      "text/html": [
       "<div>\n",
       "<style scoped>\n",
       "    .dataframe tbody tr th:only-of-type {\n",
       "        vertical-align: middle;\n",
       "    }\n",
       "\n",
       "    .dataframe tbody tr th {\n",
       "        vertical-align: top;\n",
       "    }\n",
       "\n",
       "    .dataframe thead th {\n",
       "        text-align: right;\n",
       "    }\n",
       "</style>\n",
       "<table border=\"1\" class=\"dataframe\">\n",
       "  <thead>\n",
       "    <tr style=\"text-align: right;\">\n",
       "      <th></th>\n",
       "      <th>sw_on</th>\n",
       "      <th>sw_off</th>\n",
       "      <th>sw_on_div_n_field</th>\n",
       "      <th>sw_off_div_n_field</th>\n",
       "      <th>correct</th>\n",
       "      <th>correct_prev</th>\n",
       "      <th>correct_prev_trialwithin</th>\n",
       "      <th>correct_prev_seperate</th>\n",
       "    </tr>\n",
       "  </thead>\n",
       "  <tbody>\n",
       "    <tr>\n",
       "      <th>sw_on</th>\n",
       "      <td>-</td>\n",
       "      <td></td>\n",
       "      <td>***</td>\n",
       "      <td></td>\n",
       "      <td></td>\n",
       "      <td></td>\n",
       "      <td></td>\n",
       "      <td></td>\n",
       "    </tr>\n",
       "    <tr>\n",
       "      <th>sw_off</th>\n",
       "      <td>0.116</td>\n",
       "      <td>-</td>\n",
       "      <td></td>\n",
       "      <td>***</td>\n",
       "      <td></td>\n",
       "      <td></td>\n",
       "      <td></td>\n",
       "      <td></td>\n",
       "    </tr>\n",
       "    <tr>\n",
       "      <th>sw_on_div_n_field</th>\n",
       "      <td>0.941</td>\n",
       "      <td>0.154</td>\n",
       "      <td>-</td>\n",
       "      <td></td>\n",
       "      <td></td>\n",
       "      <td></td>\n",
       "      <td></td>\n",
       "      <td></td>\n",
       "    </tr>\n",
       "    <tr>\n",
       "      <th>sw_off_div_n_field</th>\n",
       "      <td>0.088</td>\n",
       "      <td>0.951</td>\n",
       "      <td>0.124</td>\n",
       "      <td>-</td>\n",
       "      <td></td>\n",
       "      <td></td>\n",
       "      <td></td>\n",
       "      <td></td>\n",
       "    </tr>\n",
       "    <tr>\n",
       "      <th>correct</th>\n",
       "      <td>0.08</td>\n",
       "      <td>0.018</td>\n",
       "      <td>0.007</td>\n",
       "      <td>-0.026</td>\n",
       "      <td>-</td>\n",
       "      <td></td>\n",
       "      <td></td>\n",
       "      <td></td>\n",
       "    </tr>\n",
       "    <tr>\n",
       "      <th>correct_prev</th>\n",
       "      <td>-0.193</td>\n",
       "      <td>-0.174</td>\n",
       "      <td>-0.214</td>\n",
       "      <td>-0.15</td>\n",
       "      <td>-0.03</td>\n",
       "      <td>-</td>\n",
       "      <td></td>\n",
       "      <td></td>\n",
       "    </tr>\n",
       "    <tr>\n",
       "      <th>correct_prev_trialwithin</th>\n",
       "      <td>-0.049</td>\n",
       "      <td>-0.007</td>\n",
       "      <td>-0.067</td>\n",
       "      <td>0.045</td>\n",
       "      <td>0.012</td>\n",
       "      <td>0.142</td>\n",
       "      <td>-</td>\n",
       "      <td>***</td>\n",
       "    </tr>\n",
       "    <tr>\n",
       "      <th>correct_prev_seperate</th>\n",
       "      <td>-0.041</td>\n",
       "      <td>-0.001</td>\n",
       "      <td>-0.057</td>\n",
       "      <td>0.049</td>\n",
       "      <td>-0.011</td>\n",
       "      <td>0.183</td>\n",
       "      <td>1.0</td>\n",
       "      <td>-</td>\n",
       "    </tr>\n",
       "  </tbody>\n",
       "</table>\n",
       "</div>"
      ],
      "text/plain": [
       "                           sw_on  sw_off sw_on_div_n_field sw_off_div_n_field  \\\n",
       "sw_on                          -                       ***                      \n",
       "sw_off                     0.116       -                                  ***   \n",
       "sw_on_div_n_field          0.941   0.154                 -                      \n",
       "sw_off_div_n_field         0.088   0.951             0.124                  -   \n",
       "correct                     0.08   0.018             0.007             -0.026   \n",
       "correct_prev              -0.193  -0.174            -0.214              -0.15   \n",
       "correct_prev_trialwithin  -0.049  -0.007            -0.067              0.045   \n",
       "correct_prev_seperate     -0.041  -0.001            -0.057              0.049   \n",
       "\n",
       "                         correct correct_prev correct_prev_trialwithin  \\\n",
       "sw_on                                                                    \n",
       "sw_off                                                                   \n",
       "sw_on_div_n_field                                                        \n",
       "sw_off_div_n_field                                                       \n",
       "correct                        -                                         \n",
       "correct_prev               -0.03            -                            \n",
       "correct_prev_trialwithin   0.012        0.142                        -   \n",
       "correct_prev_seperate     -0.011        0.183                      1.0   \n",
       "\n",
       "                         correct_prev_seperate  \n",
       "sw_on                                           \n",
       "sw_off                                          \n",
       "sw_on_div_n_field                               \n",
       "sw_off_div_n_field                              \n",
       "correct                                         \n",
       "correct_prev                                    \n",
       "correct_prev_trialwithin                   ***  \n",
       "correct_prev_seperate                        -  "
      ]
     },
     "execution_count": 125,
     "metadata": {},
     "output_type": "execute_result"
    }
   ],
   "source": [
    "ani = corr_res.index.get_level_values(0).unique()[10]\n",
    "print(ani)\n",
    "corr_res.loc[ani]"
   ]
  },
  {
   "cell_type": "code",
   "execution_count": 59,
   "id": "eb713162",
   "metadata": {},
   "outputs": [
    {
     "data": {
      "text/plain": [
       "<Axes: xlabel='sw_on', ylabel='correct_prev_trialwithin'>"
      ]
     },
     "execution_count": 59,
     "metadata": {},
     "output_type": "execute_result"
    },
    {
     "data": {
      "image/png": "[encoded data removed]",
      "text/plain": [
       "<Figure size 432x288 with 1 Axes>"
      ]
     },
     "metadata": {
      "needs_background": "light"
     },
     "output_type": "display_data"
    }
   ],
   "source": [
    "sns.regplot(data=var_per_trial_all_with_correct,x='sw_on',y='correct_prev_trialwithin')"
   ]
  },
  {
   "cell_type": "markdown",
   "id": "cd12df44",
   "metadata": {},
   "source": [
    "# glm"
   ]
  },
  {
   "cell_type": "code",
   "execution_count": 12,
   "id": "4a93e5a1",
   "metadata": {},
   "outputs": [],
   "source": [
    "import statsmodels.api as sm\n",
    "import statsmodels.formula.api as smf\n",
    "from statannotations.Annotator import Annotator\n",
    "from statsmodels.genmod.bayes_mixed_glm import PoissonBayesMixedGLM\n",
    "import re"
   ]
  },
  {
   "cell_type": "code",
   "execution_count": 13,
   "id": "e1dd9b00",
   "metadata": {},
   "outputs": [
    {
     "ename": "NameError",
     "evalue": "name 'var_per_trial_pos_all' is not defined",
     "output_type": "error",
     "traceback": [
      "\u001b[0;31m---------------------------------------------------------------------------\u001b[0m",
      "\u001b[0;31mNameError\u001b[0m                                 Traceback (most recent call last)",
      "Input \u001b[0;32mIn [13]\u001b[0m, in \u001b[0;36m<cell line: 1>\u001b[0;34m()\u001b[0m\n\u001b[0;32m----> 1\u001b[0m var_per_trial_pos_all[\u001b[38;5;124m'\u001b[39m\u001b[38;5;124mspeed_cat\u001b[39m\u001b[38;5;124m'\u001b[39m]\u001b[38;5;241m=\u001b[39mpd\u001b[38;5;241m.\u001b[39mcut(\u001b[43mvar_per_trial_pos_all\u001b[49m[\u001b[38;5;124m'\u001b[39m\u001b[38;5;124mspeed_gauss_mean\u001b[39m\u001b[38;5;124m'\u001b[39m],[\u001b[38;5;241m1\u001b[39m,\u001b[38;5;241m5\u001b[39m,\u001b[38;5;241m10\u001b[39m,\u001b[38;5;241m15\u001b[39m,\u001b[38;5;241m20\u001b[39m],labels\u001b[38;5;241m=\u001b[39m\u001b[38;5;28;01mFalse\u001b[39;00m)\n",
      "\u001b[0;31mNameError\u001b[0m: name 'var_per_trial_pos_all' is not defined"
     ]
    }
   ],
   "source": [
    "var_per_trial_pos_all['speed_cat']=pd.cut(var_per_trial_pos_all['speed_gauss_mean'],[1,5,10,15,20],labels=False)"
   ]
  },
  {
   "cell_type": "code",
   "execution_count": 228,
   "id": "ce9185c9",
   "metadata": {},
   "outputs": [
    {
     "name": "stdout",
     "output_type": "stream",
     "text": [
      "e13_26m1\n"
     ]
    }
   ],
   "source": [
    "X = var_per_trial_pos_all.dropna(axis=0)\n",
    "# X=X.loc[X.index.get_level_values(0)!='e13_16f1']\n",
    "\n",
    "ani_l = var_per_trial_pos_all['animal'].unique()\n",
    "ii=1\n",
    "ani=ani_l[ii]\n",
    "print(ani)\n",
    "# print(ani)\n",
    "# X=X.loc[ani]"
   ]
  },
  {
   "cell_type": "code",
   "execution_count": 229,
   "id": "a9fb3c5c",
   "metadata": {},
   "outputs": [
    {
     "data": {
      "text/html": [
       "<div>\n",
       "<style scoped>\n",
       "    .dataframe tbody tr th:only-of-type {\n",
       "        vertical-align: middle;\n",
       "    }\n",
       "\n",
       "    .dataframe tbody tr th {\n",
       "        vertical-align: top;\n",
       "    }\n",
       "\n",
       "    .dataframe thead th {\n",
       "        text-align: right;\n",
       "    }\n",
       "</style>\n",
       "<table border=\"1\" class=\"dataframe\">\n",
       "  <thead>\n",
       "    <tr style=\"text-align: right;\">\n",
       "      <th></th>\n",
       "      <th>sw_on_div_n_field</th>\n",
       "      <th>E_mean</th>\n",
       "      <th>I_mean</th>\n",
       "      <th>trial_z</th>\n",
       "      <th>speed_z</th>\n",
       "    </tr>\n",
       "  </thead>\n",
       "  <tbody>\n",
       "    <tr>\n",
       "      <th>sw_on_div_n_field</th>\n",
       "      <td>-</td>\n",
       "      <td>0.122</td>\n",
       "      <td>0.032</td>\n",
       "      <td>-0.106</td>\n",
       "      <td>0.035</td>\n",
       "    </tr>\n",
       "    <tr>\n",
       "      <th>E_mean</th>\n",
       "      <td>**</td>\n",
       "      <td>-</td>\n",
       "      <td>***</td>\n",
       "      <td>***</td>\n",
       "      <td>***</td>\n",
       "    </tr>\n",
       "    <tr>\n",
       "      <th>I_mean</th>\n",
       "      <td></td>\n",
       "      <td>-0.138</td>\n",
       "      <td>-</td>\n",
       "      <td></td>\n",
       "      <td>***</td>\n",
       "    </tr>\n",
       "    <tr>\n",
       "      <th>trial_z</th>\n",
       "      <td>**</td>\n",
       "      <td>0.152</td>\n",
       "      <td>0.0</td>\n",
       "      <td>-</td>\n",
       "      <td>0.106</td>\n",
       "    </tr>\n",
       "    <tr>\n",
       "      <th>speed_z</th>\n",
       "      <td></td>\n",
       "      <td>0.264</td>\n",
       "      <td>0.129</td>\n",
       "      <td>**</td>\n",
       "      <td>-</td>\n",
       "    </tr>\n",
       "  </tbody>\n",
       "</table>\n",
       "</div>"
      ],
      "text/plain": [
       "                  sw_on_div_n_field  E_mean I_mean trial_z speed_z\n",
       "sw_on_div_n_field                 -   0.122  0.032  -0.106   0.035\n",
       "E_mean                           **       -    ***     ***     ***\n",
       "I_mean                               -0.138      -             ***\n",
       "trial_z                          **   0.152    0.0       -   0.106\n",
       "speed_z                               0.264  0.129      **       -"
      ]
     },
     "execution_count": 229,
     "metadata": {},
     "output_type": "execute_result"
    }
   ],
   "source": [
    "k_l=['sw_on_div_n_field','E_mean','I_mean','trial_z','speed_z']\n",
    "X.loc[ani].rcorr().loc[k_l,k_l]\n",
    "# X.loc[ani].pcorr().loc[k_l,k_l]"
   ]
  },
  {
   "cell_type": "code",
   "execution_count": 230,
   "id": "ee27f757",
   "metadata": {},
   "outputs": [],
   "source": [
    "y_key='sw_on'#'sw_off'#\n",
    "formula=f\"{y_key}~C(animal)+C(lin_binned_cat)+n_field+trial_z+speed_z+speed_cv_z+correct+correct_prev_seperate\"\n",
    "# formula=f\"{y_key}~C(animal)+C(lin_binned_cat)+n_field+trial_z+speed_z+speed_cv_z+correct_prev_seperate+E_mean+I_mean+E_I_mean\"\n",
    "# formula=f\"{y_key}~C(animal)+C(lin_binned_cat)+n_field+trial_z+C(speed_cat)+speed_cv_z+correct_prev_seperate\"\n",
    "# formula=f\"{y_key}~C(animal)+C(lin_binned_cat)+n_field+trial_z+speed_z+speed_std_z+correct_prev_seperate\"\n",
    "# formula=f\"{y_key}~C(animal)+C(lin_binned_cat)+n_field+trial_z+speed_z+correct_prev_trialwithin\"\n",
    "model=smf.glm(formula=formula,data=X,family=sm.families.Poisson(sm.families.links.Log()))\n",
    "res=model.fit()"
   ]
  },
  {
   "cell_type": "code",
   "execution_count": 71,
   "id": "e7024a7c",
   "metadata": {},
   "outputs": [
    {
     "data": {
      "text/html": [
       "<table class=\"simpletable\">\n",
       "<caption>Generalized Linear Model Regression Results</caption>\n",
       "<tr>\n",
       "  <th>Dep. Variable:</th>         <td>sw_on</td>      <th>  No. Observations:  </th>  <td>  5131</td> \n",
       "</tr>\n",
       "<tr>\n",
       "  <th>Model:</th>                  <td>GLM</td>       <th>  Df Residuals:      </th>  <td>  5110</td> \n",
       "</tr>\n",
       "<tr>\n",
       "  <th>Model Family:</th>         <td>Poisson</td>     <th>  Df Model:          </th>  <td>    20</td> \n",
       "</tr>\n",
       "<tr>\n",
       "  <th>Link Function:</th>          <td>Log</td>       <th>  Scale:             </th> <td>  1.0000</td>\n",
       "</tr>\n",
       "<tr>\n",
       "  <th>Method:</th>                <td>IRLS</td>       <th>  Log-Likelihood:    </th> <td> -3554.3</td>\n",
       "</tr>\n",
       "<tr>\n",
       "  <th>Date:</th>            <td>Wed, 10 Jan 2024</td> <th>  Deviance:          </th> <td>  4343.0</td>\n",
       "</tr>\n",
       "<tr>\n",
       "  <th>Time:</th>                <td>02:04:27</td>     <th>  Pearson chi2:      </th> <td>6.01e+03</td>\n",
       "</tr>\n",
       "<tr>\n",
       "  <th>No. Iterations:</th>          <td>6</td>        <th>  Pseudo R-squ. (CS):</th>  <td>0.1909</td> \n",
       "</tr>\n",
       "<tr>\n",
       "  <th>Covariance Type:</th>     <td>nonrobust</td>    <th>                     </th>     <td> </td>   \n",
       "</tr>\n",
       "</table>\n",
       "<table class=\"simpletable\">\n",
       "<tr>\n",
       "             <td></td>               <th>coef</th>     <th>std err</th>      <th>z</th>      <th>P>|z|</th>  <th>[0.025</th>    <th>0.975]</th>  \n",
       "</tr>\n",
       "<tr>\n",
       "  <th>Intercept</th>              <td>   -1.2163</td> <td>    0.109</td> <td>  -11.183</td> <td> 0.000</td> <td>   -1.429</td> <td>   -1.003</td>\n",
       "</tr>\n",
       "<tr>\n",
       "  <th>C(animal)[T.e13_26m1]</th>  <td>    0.0800</td> <td>    0.092</td> <td>    0.865</td> <td> 0.387</td> <td>   -0.101</td> <td>    0.261</td>\n",
       "</tr>\n",
       "<tr>\n",
       "  <th>C(animal)[T.e14_2m2]</th>   <td>   -0.3361</td> <td>    0.170</td> <td>   -1.977</td> <td> 0.048</td> <td>   -0.669</td> <td>   -0.003</td>\n",
       "</tr>\n",
       "<tr>\n",
       "  <th>C(animal)[T.e14_2m3]</th>   <td>   -0.9252</td> <td>    0.126</td> <td>   -7.354</td> <td> 0.000</td> <td>   -1.172</td> <td>   -0.679</td>\n",
       "</tr>\n",
       "<tr>\n",
       "  <th>C(animal)[T.e15_10m1]</th>  <td>   -0.4482</td> <td>    0.154</td> <td>   -2.913</td> <td> 0.004</td> <td>   -0.750</td> <td>   -0.147</td>\n",
       "</tr>\n",
       "<tr>\n",
       "  <th>C(animal)[T.e15_13f1]</th>  <td>    0.4400</td> <td>    0.096</td> <td>    4.579</td> <td> 0.000</td> <td>    0.252</td> <td>    0.628</td>\n",
       "</tr>\n",
       "<tr>\n",
       "  <th>C(animal)[T.e15_9f1]</th>   <td>   -0.6783</td> <td>    0.124</td> <td>   -5.480</td> <td> 0.000</td> <td>   -0.921</td> <td>   -0.436</td>\n",
       "</tr>\n",
       "<tr>\n",
       "  <th>C(animal)[T.e16_1f1]</th>   <td>   -1.0575</td> <td>    0.156</td> <td>   -6.786</td> <td> 0.000</td> <td>   -1.363</td> <td>   -0.752</td>\n",
       "</tr>\n",
       "<tr>\n",
       "  <th>C(animal)[T.e16_2m1]</th>   <td>   -1.3381</td> <td>    0.384</td> <td>   -3.488</td> <td> 0.000</td> <td>   -2.090</td> <td>   -0.586</td>\n",
       "</tr>\n",
       "<tr>\n",
       "  <th>C(animal)[T.e16_3m1]</th>   <td>   -0.1416</td> <td>    0.115</td> <td>   -1.230</td> <td> 0.219</td> <td>   -0.367</td> <td>    0.084</td>\n",
       "</tr>\n",
       "<tr>\n",
       "  <th>C(animal)[T.e16_3m2]</th>   <td>    0.1372</td> <td>    0.104</td> <td>    1.321</td> <td> 0.187</td> <td>   -0.066</td> <td>    0.341</td>\n",
       "</tr>\n",
       "<tr>\n",
       "  <th>C(lin_binned_cat)[T.1]</th> <td>   -0.2531</td> <td>    0.102</td> <td>   -2.489</td> <td> 0.013</td> <td>   -0.452</td> <td>   -0.054</td>\n",
       "</tr>\n",
       "<tr>\n",
       "  <th>C(lin_binned_cat)[T.2]</th> <td>    0.0631</td> <td>    0.084</td> <td>    0.754</td> <td> 0.451</td> <td>   -0.101</td> <td>    0.227</td>\n",
       "</tr>\n",
       "<tr>\n",
       "  <th>C(lin_binned_cat)[T.3]</th> <td>    0.3079</td> <td>    0.094</td> <td>    3.279</td> <td> 0.001</td> <td>    0.124</td> <td>    0.492</td>\n",
       "</tr>\n",
       "<tr>\n",
       "  <th>C(lin_binned_cat)[T.4]</th> <td>   -0.7021</td> <td>    0.106</td> <td>   -6.592</td> <td> 0.000</td> <td>   -0.911</td> <td>   -0.493</td>\n",
       "</tr>\n",
       "<tr>\n",
       "  <th>n_field</th>                <td>    0.0096</td> <td>    0.001</td> <td>    6.625</td> <td> 0.000</td> <td>    0.007</td> <td>    0.012</td>\n",
       "</tr>\n",
       "<tr>\n",
       "  <th>trial_z</th>                <td>   -0.1571</td> <td>    0.028</td> <td>   -5.616</td> <td> 0.000</td> <td>   -0.212</td> <td>   -0.102</td>\n",
       "</tr>\n",
       "<tr>\n",
       "  <th>speed_z</th>                <td>    0.1336</td> <td>    0.038</td> <td>    3.560</td> <td> 0.000</td> <td>    0.060</td> <td>    0.207</td>\n",
       "</tr>\n",
       "<tr>\n",
       "  <th>speed_cv_z</th>             <td>   -0.0162</td> <td>    0.035</td> <td>   -0.470</td> <td> 0.639</td> <td>   -0.084</td> <td>    0.052</td>\n",
       "</tr>\n",
       "<tr>\n",
       "  <th>correct</th>                <td>   -0.0083</td> <td>    0.061</td> <td>   -0.135</td> <td> 0.893</td> <td>   -0.129</td> <td>    0.112</td>\n",
       "</tr>\n",
       "<tr>\n",
       "  <th>correct_prev_seperate</th>  <td>   -0.0069</td> <td>    0.062</td> <td>   -0.111</td> <td> 0.912</td> <td>   -0.128</td> <td>    0.114</td>\n",
       "</tr>\n",
       "</table>"
      ],
      "text/plain": [
       "<class 'statsmodels.iolib.summary.Summary'>\n",
       "\"\"\"\n",
       "                 Generalized Linear Model Regression Results                  \n",
       "==============================================================================\n",
       "Dep. Variable:                  sw_on   No. Observations:                 5131\n",
       "Model:                            GLM   Df Residuals:                     5110\n",
       "Model Family:                 Poisson   Df Model:                           20\n",
       "Link Function:                    Log   Scale:                          1.0000\n",
       "Method:                          IRLS   Log-Likelihood:                -3554.3\n",
       "Date:                Wed, 10 Jan 2024   Deviance:                       4343.0\n",
       "Time:                        02:04:27   Pearson chi2:                 6.01e+03\n",
       "No. Iterations:                     6   Pseudo R-squ. (CS):             0.1909\n",
       "Covariance Type:            nonrobust                                         \n",
       "==========================================================================================\n",
       "                             coef    std err          z      P>|z|      [0.025      0.975]\n",
       "------------------------------------------------------------------------------------------\n",
       "Intercept                 -1.2163      0.109    -11.183      0.000      -1.429      -1.003\n",
       "C(animal)[T.e13_26m1]      0.0800      0.092      0.865      0.387      -0.101       0.261\n",
       "C(animal)[T.e14_2m2]      -0.3361      0.170     -1.977      0.048      -0.669      -0.003\n",
       "C(animal)[T.e14_2m3]      -0.9252      0.126     -7.354      0.000      -1.172      -0.679\n",
       "C(animal)[T.e15_10m1]     -0.4482      0.154     -2.913      0.004      -0.750      -0.147\n",
       "C(animal)[T.e15_13f1]      0.4400      0.096      4.579      0.000       0.252       0.628\n",
       "C(animal)[T.e15_9f1]      -0.6783      0.124     -5.480      0.000      -0.921      -0.436\n",
       "C(animal)[T.e16_1f1]      -1.0575      0.156     -6.786      0.000      -1.363      -0.752\n",
       "C(animal)[T.e16_2m1]      -1.3381      0.384     -3.488      0.000      -2.090      -0.586\n",
       "C(animal)[T.e16_3m1]      -0.1416      0.115     -1.230      0.219      -0.367       0.084\n",
       "C(animal)[T.e16_3m2]       0.1372      0.104      1.321      0.187      -0.066       0.341\n",
       "C(lin_binned_cat)[T.1]    -0.2531      0.102     -2.489      0.013      -0.452      -0.054\n",
       "C(lin_binned_cat)[T.2]     0.0631      0.084      0.754      0.451      -0.101       0.227\n",
       "C(lin_binned_cat)[T.3]     0.3079      0.094      3.279      0.001       0.124       0.492\n",
       "C(lin_binned_cat)[T.4]    -0.7021      0.106     -6.592      0.000      -0.911      -0.493\n",
       "n_field                    0.0096      0.001      6.625      0.000       0.007       0.012\n",
       "trial_z                   -0.1571      0.028     -5.616      0.000      -0.212      -0.102\n",
       "speed_z                    0.1336      0.038      3.560      0.000       0.060       0.207\n",
       "speed_cv_z                -0.0162      0.035     -0.470      0.639      -0.084       0.052\n",
       "correct                   -0.0083      0.061     -0.135      0.893      -0.129       0.112\n",
       "correct_prev_seperate     -0.0069      0.062     -0.111      0.912      -0.128       0.114\n",
       "==========================================================================================\n",
       "\"\"\""
      ]
     },
     "execution_count": 71,
     "metadata": {},
     "output_type": "execute_result"
    }
   ],
   "source": [
    "res.summary()"
   ]
  },
  {
   "cell_type": "code",
   "execution_count": 597,
   "id": "c128a010",
   "metadata": {},
   "outputs": [
    {
     "data": {
      "text/plain": [
       "<module 'behavior_and_switching_plot' from '/mnt/home/szheng/projects/place_variability/code/behavior_and_switching_plot.py'>"
      ]
     },
     "execution_count": 597,
     "metadata": {},
     "output_type": "execute_result"
    }
   ],
   "source": [
    "reload(basp)"
   ]
  },
  {
   "cell_type": "code",
   "execution_count": 76,
   "id": "f41caf11",
   "metadata": {},
   "outputs": [
    {
     "data": {
      "text/html": [
       "<div>\n",
       "<style scoped>\n",
       "    .dataframe tbody tr th:only-of-type {\n",
       "        vertical-align: middle;\n",
       "    }\n",
       "\n",
       "    .dataframe tbody tr th {\n",
       "        vertical-align: top;\n",
       "    }\n",
       "\n",
       "    .dataframe thead th {\n",
       "        text-align: right;\n",
       "    }\n",
       "</style>\n",
       "<table border=\"1\" class=\"dataframe\">\n",
       "  <thead>\n",
       "    <tr style=\"text-align: right;\">\n",
       "      <th></th>\n",
       "      <th>coef</th>\n",
       "      <th>std err</th>\n",
       "      <th>z</th>\n",
       "      <th>P&gt;|z|</th>\n",
       "      <th>Conf. Int. Low</th>\n",
       "      <th>Conf. Int. Upp.</th>\n",
       "      <th>pvalue-hs</th>\n",
       "      <th>reject-hs</th>\n",
       "    </tr>\n",
       "  </thead>\n",
       "  <tbody>\n",
       "    <tr>\n",
       "      <th>1-0</th>\n",
       "      <td>-0.117779</td>\n",
       "      <td>0.123332</td>\n",
       "      <td>-0.954973</td>\n",
       "      <td>3.395911e-01</td>\n",
       "      <td>-0.359506</td>\n",
       "      <td>0.123948</td>\n",
       "      <td>0.711969</td>\n",
       "      <td>False</td>\n",
       "    </tr>\n",
       "    <tr>\n",
       "      <th>2-0</th>\n",
       "      <td>-0.202997</td>\n",
       "      <td>0.099986</td>\n",
       "      <td>-2.030260</td>\n",
       "      <td>4.233015e-02</td>\n",
       "      <td>-0.398965</td>\n",
       "      <td>-0.007029</td>\n",
       "      <td>0.194475</td>\n",
       "      <td>False</td>\n",
       "    </tr>\n",
       "    <tr>\n",
       "      <th>3-0</th>\n",
       "      <td>-0.289819</td>\n",
       "      <td>0.115995</td>\n",
       "      <td>-2.498543</td>\n",
       "      <td>1.247050e-02</td>\n",
       "      <td>-0.517165</td>\n",
       "      <td>-0.062473</td>\n",
       "      <td>0.084095</td>\n",
       "      <td>False</td>\n",
       "    </tr>\n",
       "    <tr>\n",
       "      <th>4-0</th>\n",
       "      <td>-0.626237</td>\n",
       "      <td>0.125139</td>\n",
       "      <td>-5.004345</td>\n",
       "      <td>5.605229e-07</td>\n",
       "      <td>-0.871505</td>\n",
       "      <td>-0.380970</td>\n",
       "      <td>0.000006</td>\n",
       "      <td>True</td>\n",
       "    </tr>\n",
       "    <tr>\n",
       "      <th>2-1</th>\n",
       "      <td>-0.085217</td>\n",
       "      <td>0.111418</td>\n",
       "      <td>-0.764844</td>\n",
       "      <td>4.443646e-01</td>\n",
       "      <td>-0.303593</td>\n",
       "      <td>0.133158</td>\n",
       "      <td>0.711969</td>\n",
       "      <td>False</td>\n",
       "    </tr>\n",
       "    <tr>\n",
       "      <th>3-1</th>\n",
       "      <td>-0.172040</td>\n",
       "      <td>0.116550</td>\n",
       "      <td>-1.476097</td>\n",
       "      <td>1.399177e-01</td>\n",
       "      <td>-0.400475</td>\n",
       "      <td>0.056395</td>\n",
       "      <td>0.452783</td>\n",
       "      <td>False</td>\n",
       "    </tr>\n",
       "    <tr>\n",
       "      <th>4-1</th>\n",
       "      <td>-0.508458</td>\n",
       "      <td>0.146647</td>\n",
       "      <td>-3.467234</td>\n",
       "      <td>5.258448e-04</td>\n",
       "      <td>-0.795880</td>\n",
       "      <td>-0.221036</td>\n",
       "      <td>0.004723</td>\n",
       "      <td>True</td>\n",
       "    </tr>\n",
       "    <tr>\n",
       "      <th>3-2</th>\n",
       "      <td>-0.086822</td>\n",
       "      <td>0.094548</td>\n",
       "      <td>-0.918288</td>\n",
       "      <td>3.584683e-01</td>\n",
       "      <td>-0.272134</td>\n",
       "      <td>0.098489</td>\n",
       "      <td>0.711969</td>\n",
       "      <td>False</td>\n",
       "    </tr>\n",
       "    <tr>\n",
       "      <th>4-2</th>\n",
       "      <td>-0.423241</td>\n",
       "      <td>0.130414</td>\n",
       "      <td>-3.245352</td>\n",
       "      <td>1.173056e-03</td>\n",
       "      <td>-0.678848</td>\n",
       "      <td>-0.167633</td>\n",
       "      <td>0.009346</td>\n",
       "      <td>True</td>\n",
       "    </tr>\n",
       "    <tr>\n",
       "      <th>4-3</th>\n",
       "      <td>-0.336418</td>\n",
       "      <td>0.147399</td>\n",
       "      <td>-2.282372</td>\n",
       "      <td>2.246740e-02</td>\n",
       "      <td>-0.625314</td>\n",
       "      <td>-0.047522</td>\n",
       "      <td>0.127456</td>\n",
       "      <td>False</td>\n",
       "    </tr>\n",
       "  </tbody>\n",
       "</table>\n",
       "</div>"
      ],
      "text/plain": [
       "         coef   std err         z         P>|z|  Conf. Int. Low  \\\n",
       "1-0 -0.117779  0.123332 -0.954973  3.395911e-01       -0.359506   \n",
       "2-0 -0.202997  0.099986 -2.030260  4.233015e-02       -0.398965   \n",
       "3-0 -0.289819  0.115995 -2.498543  1.247050e-02       -0.517165   \n",
       "4-0 -0.626237  0.125139 -5.004345  5.605229e-07       -0.871505   \n",
       "2-1 -0.085217  0.111418 -0.764844  4.443646e-01       -0.303593   \n",
       "3-1 -0.172040  0.116550 -1.476097  1.399177e-01       -0.400475   \n",
       "4-1 -0.508458  0.146647 -3.467234  5.258448e-04       -0.795880   \n",
       "3-2 -0.086822  0.094548 -0.918288  3.584683e-01       -0.272134   \n",
       "4-2 -0.423241  0.130414 -3.245352  1.173056e-03       -0.678848   \n",
       "4-3 -0.336418  0.147399 -2.282372  2.246740e-02       -0.625314   \n",
       "\n",
       "     Conf. Int. Upp.  pvalue-hs  reject-hs  \n",
       "1-0         0.123948   0.711969      False  \n",
       "2-0        -0.007029   0.194475      False  \n",
       "3-0        -0.062473   0.084095      False  \n",
       "4-0        -0.380970   0.000006       True  \n",
       "2-1         0.133158   0.711969      False  \n",
       "3-1         0.056395   0.452783      False  \n",
       "4-1        -0.221036   0.004723       True  \n",
       "3-2         0.098489   0.711969      False  \n",
       "4-2        -0.167633   0.009346       True  \n",
       "4-3        -0.047522   0.127456      False  "
      ]
     },
     "execution_count": 76,
     "metadata": {},
     "output_type": "execute_result"
    }
   ],
   "source": [
    "ttest_res"
   ]
  },
  {
   "cell_type": "code",
   "execution_count": 11,
   "id": "166f8343",
   "metadata": {},
   "outputs": [
    {
     "ename": "NameError",
     "evalue": "name 'smf' is not defined",
     "output_type": "error",
     "traceback": [
      "\u001b[0;31m---------------------------------------------------------------------------\u001b[0m",
      "\u001b[0;31mNameError\u001b[0m                                 Traceback (most recent call last)",
      "Input \u001b[0;32mIn [11]\u001b[0m, in \u001b[0;36m<cell line: 5>\u001b[0;34m()\u001b[0m\n\u001b[1;32m      5\u001b[0m \u001b[38;5;28;01mfor\u001b[39;00m y_key,annot_pairs \u001b[38;5;129;01min\u001b[39;00m \u001b[38;5;28mzip\u001b[39m([\u001b[38;5;124m'\u001b[39m\u001b[38;5;124msw_on\u001b[39m\u001b[38;5;124m'\u001b[39m,\u001b[38;5;124m'\u001b[39m\u001b[38;5;124msw_off\u001b[39m\u001b[38;5;124m'\u001b[39m],annot_pairs_l):\n\u001b[1;32m      6\u001b[0m \u001b[38;5;66;03m# y_key ='sw_on'\u001b[39;00m\n\u001b[1;32m      7\u001b[0m \u001b[38;5;66;03m#     formula=f\"{y_key}~C(animal)+C(lin_binned_cat)+n_field+trial_z+speed_z\"\u001b[39;00m\n\u001b[1;32m      8\u001b[0m     formula\u001b[38;5;241m=\u001b[39m\u001b[38;5;124mf\u001b[39m\u001b[38;5;124m\"\u001b[39m\u001b[38;5;132;01m{\u001b[39;00my_key\u001b[38;5;132;01m}\u001b[39;00m\u001b[38;5;124m~C(lin_binned_cat)+n_field\u001b[39m\u001b[38;5;124m\"\u001b[39m\n\u001b[0;32m----> 9\u001b[0m     model\u001b[38;5;241m=\u001b[39m\u001b[43msmf\u001b[49m\u001b[38;5;241m.\u001b[39mglm(formula\u001b[38;5;241m=\u001b[39mformula,data\u001b[38;5;241m=\u001b[39mX,family\u001b[38;5;241m=\u001b[39msm\u001b[38;5;241m.\u001b[39mfamilies\u001b[38;5;241m.\u001b[39mPoisson(sm\u001b[38;5;241m.\u001b[39mfamilies\u001b[38;5;241m.\u001b[39mlinks\u001b[38;5;241m.\u001b[39mLog()))\n\u001b[1;32m     10\u001b[0m     res\u001b[38;5;241m=\u001b[39mmodel\u001b[38;5;241m.\u001b[39mfit()\n\u001b[1;32m     11\u001b[0m     \u001b[38;5;28mprint\u001b[39m(res\u001b[38;5;241m.\u001b[39msummary())\n",
      "\u001b[0;31mNameError\u001b[0m: name 'smf' is not defined"
     ]
    }
   ],
   "source": [
    "annot_pairs_l = [['2-1','3-2','4-1'],['2-1','3-2','4-3','3-1','4-1','4-2']]\n",
    "do_save_fig = False\n",
    "figsize=(1.5,2)\n",
    "figsize_narrow=(1,2)\n",
    "for y_key,annot_pairs in zip(['sw_on','sw_off'],annot_pairs_l):\n",
    "# y_key ='sw_on'\n",
    "#     formula=f\"{y_key}~C(animal)+C(lin_binned_cat)+n_field+trial_z+speed_z\"\n",
    "    formula=f\"{y_key}~C(lin_binned_cat)+n_field\"\n",
    "    model=smf.glm(formula=formula,data=X,family=sm.families.Poisson(sm.families.links.Log()))\n",
    "    res=model.fit()\n",
    "    print(res.summary())\n",
    "    res_df=misc.summarize_statsmodels(res,drop_intercept=False)\n",
    "    table_fn =f'{y_key}_regress_coef.csv'\n",
    "    res_df.to_csv(os.path.join(figdir,table_fn))\n",
    "    \n",
    "    \n",
    "    fitted_par = res.tvalues\n",
    "\n",
    "    ma =np.logical_not(fitted_par.index.str.contains('animal') | fitted_par.index.str.contains('Intercept'))\n",
    "    val=fitted_par.loc[ma]\n",
    "    annot_data=val.to_frame().reset_index().reset_index().rename({'level_0':'ind','index':'regressor',0:'weight'},axis=1)\n",
    "\n",
    "    ttest_res=res.t_test_pairwise('C(lin_binned_cat)').result_frame\n",
    "    print(ttest_res)\n",
    "    # ttest_res=ttest_res.loc[['2-1','3-2','4-1']]\n",
    "    ttest_res=ttest_res.loc[annot_pairs]\n",
    "    table_fn =f'{y_key}_regress_pos_ttest.csv'\n",
    "    ttest_res.to_csv(os.path.join(figdir,table_fn))\n",
    "    \n",
    "\n",
    "\n",
    "    pairs=np.array([[int(i) for i in s.split('-')] for s in ttest_res.index])\n",
    "    pairs = pairs - 1\n",
    "\n",
    "    pos_ma=annot_data['regressor'].str.contains('lin')\n",
    "    annot_data_pos = annot_data.loc[pos_ma]\n",
    "    annot_data_non_pos = annot_data.loc[~pos_ma]\n",
    "\n",
    "    fig,ax=plt.subplots(figsize=figsize_narrow)\n",
    "    ncolors = len(segment_names)\n",
    "    colors = [f'C{i}' for i in np.arange(ncolors)]\n",
    "    colors = colors[1:]\n",
    "    # ax=sns.barplot(x='ind',y='weight',data=annot_data_pos,color='C0',yerr=1.96,ax=ax)\n",
    "    ax=sns.barplot(x='ind',y='weight',data=annot_data_pos,palette=colors,yerr=1.96,ax=ax)\n",
    "    ax.axhline(0,color='k')\n",
    "    pvalues = ttest_res['pvalue-hs']\n",
    "    annotator = Annotator(ax, pairs, data=annot_data_pos,x='ind',y='weight')\n",
    "    annotator.set_pvalues_and_annotate(pvalues)\n",
    "\n",
    "    xticklabels=basp.refine_tick_labels(annot_data_pos['regressor'],lin_cat_map=None)\n",
    "    ax.set_xticklabels(xticklabels,rotation=90)\n",
    "    ax.set(xlabel=None,ylabel='Regresssion coef. (z)\\nrelative to Delay Zone')\n",
    "    \n",
    "    fn=f'{y_key}_regress_coef_bar_spatial.svg'\n",
    "    if do_save_fig:\n",
    "        fig.savefig(os.path.join(figdir,fn),bbox_inches='tight')\n",
    "\n",
    "    fig,ax=plt.subplots(figsize=figsize)\n",
    "    ax=sns.barplot(x='ind',y='weight',data=annot_data_non_pos,color='grey',yerr=1.96,ax=ax)\n",
    "    ax.axhline(0,color='k')\n",
    "    xticklabels=basp.refine_tick_labels(annot_data_non_pos['regressor'],lin_cat_map=None)\n",
    "    ax.set_xticklabels(xticklabels,rotation=90)\n",
    "    ax.set(xlabel=None,ylabel='Regresssion coef. (z)')\n",
    "\n",
    "    fn=f'{y_key}_regress_coef_bar_non_spatial.svg'\n",
    "    if do_save_fig:\n",
    "        fig.savefig(os.path.join(figdir,fn),bbox_inches='tight')\n"
   ]
  },
  {
   "cell_type": "code",
   "execution_count": 285,
   "id": "395f4e33",
   "metadata": {
    "scrolled": false
   },
   "outputs": [
    {
     "name": "stdout",
     "output_type": "stream",
     "text": [
      "                 Generalized Linear Model Regression Results                  \n",
      "==============================================================================\n",
      "Dep. Variable:                  sw_on   No. Observations:                 4526\n",
      "Model:                            GLM   Df Residuals:                     4505\n",
      "Model Family:                 Poisson   Df Model:                           20\n",
      "Link Function:                    Log   Scale:                          1.0000\n",
      "Method:                          IRLS   Log-Likelihood:                -3125.7\n",
      "Date:                Wed, 10 Jan 2024   Deviance:                       3809.1\n",
      "Time:                        20:16:30   Pearson chi2:                 5.28e+03\n",
      "No. Iterations:                     6   Pseudo R-squ. (CS):             0.1949\n",
      "Covariance Type:            nonrobust                                         \n",
      "==========================================================================================\n",
      "                             coef    std err          z      P>|z|      [0.025      0.975]\n",
      "------------------------------------------------------------------------------------------\n",
      "Intercept                 -1.2007      0.113    -10.644      0.000      -1.422      -0.980\n",
      "C(animal)[T.e13_26m1]      0.0719      0.097      0.739      0.460      -0.119       0.263\n",
      "C(animal)[T.e14_2m2]      -0.3041      0.171     -1.776      0.076      -0.640       0.032\n",
      "C(animal)[T.e14_2m3]      -0.9704      0.147     -6.594      0.000      -1.259      -0.682\n",
      "C(animal)[T.e15_10m1]     -0.4431      0.168     -2.636      0.008      -0.773      -0.114\n",
      "C(animal)[T.e15_13f1]      0.3928      0.100      3.909      0.000       0.196       0.590\n",
      "C(animal)[T.e15_9f1]      -0.6010      0.127     -4.745      0.000      -0.849      -0.353\n",
      "C(animal)[T.e16_1f1]      -1.1005      0.171     -6.422      0.000      -1.436      -0.765\n",
      "C(animal)[T.e16_2m1]      -1.3294      0.384     -3.460      0.001      -2.082      -0.576\n",
      "C(animal)[T.e16_3m1]      -0.1962      0.121     -1.626      0.104      -0.433       0.040\n",
      "C(animal)[T.e16_3m2]       0.1251      0.108      1.162      0.245      -0.086       0.336\n",
      "C(lin_binned_cat)[T.1]    -0.1969      0.110     -1.791      0.073      -0.413       0.019\n",
      "C(lin_binned_cat)[T.2]     0.0625      0.086      0.731      0.465      -0.105       0.230\n",
      "C(lin_binned_cat)[T.3]     0.2902      0.097      2.980      0.003       0.099       0.481\n",
      "C(lin_binned_cat)[T.4]    -0.7580      0.115     -6.611      0.000      -0.983      -0.533\n",
      "n_field                    0.0102      0.002      6.701      0.000       0.007       0.013\n",
      "trial_z                   -0.1350      0.030     -4.527      0.000      -0.193      -0.077\n",
      "speed_z                    0.1227      0.058      2.122      0.034       0.009       0.236\n",
      "speed_cv_z                -0.0203      0.037     -0.552      0.581      -0.092       0.052\n",
      "correct                   -0.0286      0.064     -0.447      0.655      -0.154       0.097\n",
      "correct_prev_seperate     -0.0186      0.065     -0.286      0.775      -0.146       0.109\n",
      "==========================================================================================\n",
      "         coef   std err         z         P>|z|  Conf. Int. Low  \\\n",
      "1-0 -0.196942  0.109991 -1.790523  7.336988e-02       -0.412520   \n",
      "2-0  0.062533  0.085523  0.731176  4.646715e-01       -0.105090   \n",
      "3-0  0.290199  0.097387  2.979861  2.883792e-03        0.099324   \n",
      "4-0 -0.757991  0.114652 -6.611253  3.810803e-11       -0.982704   \n",
      "2-1  0.259474  0.096286  2.694840  7.042240e-03        0.070758   \n",
      "3-1  0.487141  0.099670  4.887530  1.021087e-06        0.291791   \n",
      "4-1 -0.561049  0.133744 -4.194947  2.729357e-05       -0.823183   \n",
      "3-2  0.227666  0.074171  3.069481  2.144313e-03        0.082294   \n",
      "4-2 -0.820524  0.115642 -7.095348  1.290262e-12       -1.047179   \n",
      "4-3 -1.048190  0.128255 -8.172671  3.016352e-16       -1.299566   \n",
      "\n",
      "     Conf. Int. Upp.     pvalue-hs  reject-hs  \n",
      "1-0         0.018637  1.413566e-01      False  \n",
      "2-0         0.230156  4.646715e-01      False  \n",
      "3-0         0.481074  1.148536e-02       True  \n",
      "4-0        -0.533278  3.048643e-10       True  \n",
      "2-1         0.448191  2.097829e-02       True  \n",
      "3-1         0.682490  7.147586e-06       True  \n",
      "4-1        -0.298916  1.637503e-04       True  \n",
      "3-2         0.373039  1.067569e-02       True  \n",
      "4-2        -0.593869  1.161236e-11       True  \n",
      "4-3        -0.796814  3.016352e-15       True  \n",
      "p-value annotation legend:\n",
      "      ns: p <= 1.00e+00\n",
      "       *: 1.00e-02 < p <= 5.00e-02\n",
      "      **: 1.00e-03 < p <= 1.00e-02\n",
      "     ***: 1.00e-04 < p <= 1.00e-03\n",
      "    ****: p <= 1.00e-04\n",
      "\n",
      "0 vs. 1: Custom statistical test, P_val:2.098e-02\n",
      "1 vs. 2: Custom statistical test, P_val:1.068e-02\n",
      "0 vs. 3: Custom statistical test, P_val:1.638e-04\n",
      "                 Generalized Linear Model Regression Results                  \n",
      "==============================================================================\n",
      "Dep. Variable:                 sw_off   No. Observations:                 4526\n",
      "Model:                            GLM   Df Residuals:                     4505\n",
      "Model Family:                 Poisson   Df Model:                           20\n",
      "Link Function:                    Log   Scale:                          1.0000\n",
      "Method:                          IRLS   Log-Likelihood:                -2441.3\n",
      "Date:                Wed, 10 Jan 2024   Deviance:                       3187.9\n",
      "Time:                        20:16:30   Pearson chi2:                 5.65e+03\n",
      "No. Iterations:                     6   Pseudo R-squ. (CS):             0.1408\n",
      "Covariance Type:            nonrobust                                         \n",
      "==========================================================================================\n",
      "                             coef    std err          z      P>|z|      [0.025      0.975]\n",
      "------------------------------------------------------------------------------------------\n",
      "Intercept                 -2.0204      0.146    -13.844      0.000      -2.306      -1.734\n",
      "C(animal)[T.e13_26m1]      0.3088      0.123      2.510      0.012       0.068       0.550\n",
      "C(animal)[T.e14_2m2]       0.0345      0.209      0.165      0.869      -0.375       0.444\n",
      "C(animal)[T.e14_2m3]      -0.5204      0.175     -2.972      0.003      -0.864      -0.177\n",
      "C(animal)[T.e15_10m1]     -0.4454      0.236     -1.886      0.059      -0.908       0.017\n",
      "C(animal)[T.e15_13f1]      0.0556      0.133      0.420      0.675      -0.204       0.315\n",
      "C(animal)[T.e15_9f1]      -0.2443      0.156     -1.569      0.117      -0.550       0.061\n",
      "C(animal)[T.e16_1f1]      -0.4637      0.191     -2.426      0.015      -0.838      -0.089\n",
      "C(animal)[T.e16_2m1]      -1.1434      0.508     -2.249      0.025      -2.140      -0.147\n",
      "C(animal)[T.e16_3m1]      -0.0207      0.154     -0.135      0.893      -0.322       0.280\n",
      "C(animal)[T.e16_3m2]       0.6747      0.125      5.376      0.000       0.429       0.921\n",
      "C(lin_binned_cat)[T.1]    -0.0097      0.127     -0.077      0.939      -0.258       0.239\n",
      "C(lin_binned_cat)[T.2]    -0.2157      0.102     -2.123      0.034      -0.415      -0.017\n",
      "C(lin_binned_cat)[T.3]    -0.3202      0.119     -2.685      0.007      -0.554      -0.086\n",
      "C(lin_binned_cat)[T.4]    -0.6530      0.130     -5.020      0.000      -0.908      -0.398\n",
      "n_field                    0.0163      0.002      9.084      0.000       0.013       0.020\n",
      "trial_z                   -0.3524      0.037     -9.485      0.000      -0.425      -0.280\n",
      "speed_z                   -0.1240      0.073     -1.688      0.091      -0.268       0.020\n",
      "speed_cv_z                -0.0054      0.046     -0.117      0.907      -0.095       0.084\n",
      "correct                    0.1135      0.083      1.369      0.171      -0.049       0.276\n",
      "correct_prev_seperate      0.0358      0.082      0.434      0.664      -0.126       0.197\n",
      "==========================================================================================\n",
      "         coef   std err         z         P>|z|  Conf. Int. Low  \\\n",
      "1-0 -0.009727  0.126718 -0.076763  9.388121e-01       -0.258089   \n",
      "2-0 -0.215724  0.101631 -2.122615  3.378617e-02       -0.414917   \n",
      "3-0 -0.320228  0.119282 -2.684625  7.261129e-03       -0.554016   \n",
      "4-0 -0.652963  0.130066 -5.020244  5.160594e-07       -0.907888   \n",
      "2-1 -0.205997  0.113675 -1.812160  6.996150e-02       -0.428795   \n",
      "3-1 -0.310501  0.120925 -2.567705  1.023742e-02       -0.547510   \n",
      "4-1 -0.643236  0.154808 -4.155047  3.252212e-05       -0.946655   \n",
      "3-2 -0.104504  0.095959 -1.089045  2.761341e-01       -0.292580   \n",
      "4-2 -0.437239  0.134464 -3.251720  1.147088e-03       -0.700784   \n",
      "4-3 -0.332735  0.152054 -2.188276  2.864947e-02       -0.630755   \n",
      "\n",
      "     Conf. Int. Upp.  pvalue-hs  reject-hs  \n",
      "1-0         0.238635   0.938812      False  \n",
      "2-0        -0.016530   0.135271      False  \n",
      "3-0        -0.086439   0.049734       True  \n",
      "4-0        -0.398038   0.000005       True  \n",
      "2-1         0.016802   0.195543      False  \n",
      "3-1        -0.073491   0.059874      False  \n",
      "4-1        -0.339817   0.000293       True  \n",
      "3-2         0.083573   0.476018      False  \n",
      "4-2        -0.173695   0.009140       True  \n",
      "4-3        -0.034716   0.135271      False  \n",
      "p-value annotation legend:\n",
      "      ns: p <= 1.00e+00\n",
      "       *: 1.00e-02 < p <= 5.00e-02\n",
      "      **: 1.00e-03 < p <= 1.00e-02\n",
      "     ***: 1.00e-04 < p <= 1.00e-03\n",
      "    ****: p <= 1.00e-04\n",
      "\n",
      "0 vs. 1: Custom statistical test, P_val:1.955e-01\n",
      "1 vs. 2: Custom statistical test, P_val:4.760e-01\n",
      "2 vs. 3: Custom statistical test, P_val:1.353e-01\n",
      "0 vs. 2: Custom statistical test, P_val:5.987e-02\n",
      "1 vs. 3: Custom statistical test, P_val:9.140e-03\n",
      "0 vs. 3: Custom statistical test, P_val:2.927e-04\n"
     ]
    },
    {
     "data": {
      "image/png": "[encoded data removed]",
      "text/plain": [
       "<Figure size 72x144 with 1 Axes>"
      ]
     },
     "metadata": {
      "needs_background": "light"
     },
     "output_type": "display_data"
    },
    {
     "data": {
      "image/png": "[encoded data removed]",
      "text/plain": [
       "<Figure size 108x144 with 1 Axes>"
      ]
     },
     "metadata": {
      "needs_background": "light"
     },
     "output_type": "display_data"
    },
    {
     "data": {
      "image/png": "[encoded data removed]",
      "text/plain": [
       "<Figure size 72x144 with 1 Axes>"
      ]
     },
     "metadata": {
      "needs_background": "light"
     },
     "output_type": "display_data"
    },
    {
     "data": {
      "image/png": "[encoded data removed]",
      "text/plain": [
       "<Figure size 108x144 with 1 Axes>"
      ]
     },
     "metadata": {
      "needs_background": "light"
     },
     "output_type": "display_data"
    }
   ],
   "source": [
    "annot_pairs_l = [['2-1','3-2','4-1'],['2-1','3-2','4-3','3-1','4-1','4-2']]\n",
    "do_save_fig = True\n",
    "figsize=(1.5,2)\n",
    "figsize_narrow=(1,2)\n",
    "for y_key,annot_pairs in zip(['sw_on','sw_off'],annot_pairs_l):\n",
    "# y_key ='sw_on'\n",
    "#     formula=f\"{y_key}~C(animal)+C(lin_binned_cat)+n_field+trial_z+speed_z\"\n",
    "    formula=f\"{y_key}~C(animal)+C(lin_binned_cat)+n_field+trial_z+speed_z+speed_cv_z+correct+correct_prev_seperate\"\n",
    "    model=smf.glm(formula=formula,data=X,family=sm.families.Poisson(sm.families.links.Log()))\n",
    "    res=model.fit()\n",
    "    print(res.summary())\n",
    "    res_df=misc.summarize_statsmodels(res,drop_intercept=False)\n",
    "    table_fn =f'{y_key}_regress_coef.csv'\n",
    "    res_df.to_csv(os.path.join(figdir,table_fn))\n",
    "    \n",
    "    \n",
    "    fitted_par = res.tvalues\n",
    "\n",
    "    ma =np.logical_not(fitted_par.index.str.contains('animal') | fitted_par.index.str.contains('Intercept'))\n",
    "    val=fitted_par.loc[ma]\n",
    "    annot_data=val.to_frame().reset_index().reset_index().rename({'level_0':'ind','index':'regressor',0:'weight'},axis=1)\n",
    "\n",
    "    ttest_res=res.t_test_pairwise('C(lin_binned_cat)').result_frame\n",
    "    print(ttest_res)\n",
    "    # ttest_res=ttest_res.loc[['2-1','3-2','4-1']]\n",
    "    ttest_res=ttest_res.loc[annot_pairs]\n",
    "    table_fn =f'{y_key}_regress_pos_ttest.csv'\n",
    "    ttest_res.to_csv(os.path.join(figdir,table_fn))\n",
    "    \n",
    "\n",
    "\n",
    "    pairs=np.array([[int(i) for i in s.split('-')] for s in ttest_res.index])\n",
    "    pairs = pairs - 1\n",
    "\n",
    "    pos_ma=annot_data['regressor'].str.contains('lin')\n",
    "    annot_data_pos = annot_data.loc[pos_ma]\n",
    "    annot_data_non_pos = annot_data.loc[~pos_ma]\n",
    "\n",
    "    fig,ax=plt.subplots(figsize=figsize_narrow)\n",
    "    ncolors = len(segment_names)\n",
    "    colors = [f'C{i}' for i in np.arange(ncolors)]\n",
    "    colors = colors[1:]\n",
    "    # ax=sns.barplot(x='ind',y='weight',data=annot_data_pos,color='C0',yerr=1.96,ax=ax)\n",
    "    ax=sns.barplot(x='ind',y='weight',data=annot_data_pos,palette=colors,yerr=1.96,ax=ax)\n",
    "    ax.axhline(0,color='k')\n",
    "    pvalues = ttest_res['pvalue-hs']\n",
    "    annotator = Annotator(ax, pairs, data=annot_data_pos,x='ind',y='weight')\n",
    "    annotator.set_pvalues_and_annotate(pvalues)\n",
    "\n",
    "    xticklabels=basp.refine_tick_labels(annot_data_pos['regressor'],lin_cat_map=None)\n",
    "    ax.set_xticklabels(xticklabels,rotation=90)\n",
    "    ax.set(xlabel=None,ylabel='Regresssion coef. (z)\\nrelative to Delay Zone')\n",
    "    \n",
    "    fn=f'{y_key}_regress_coef_bar_spatial.svg'\n",
    "    if do_save_fig:\n",
    "        fig.savefig(os.path.join(figdir,fn),bbox_inches='tight')\n",
    "\n",
    "    fig,ax=plt.subplots(figsize=figsize)\n",
    "    ax=sns.barplot(x='ind',y='weight',data=annot_data_non_pos,color='grey',yerr=1.96,ax=ax)\n",
    "    ax.axhline(0,color='k')\n",
    "    xticklabels=basp.refine_tick_labels(annot_data_non_pos['regressor'],lin_cat_map=None)\n",
    "    ax.set_xticklabels(xticklabels,rotation=90)\n",
    "    ax.set(xlabel=None,ylabel='Regresssion coef. (z)')\n",
    "\n",
    "    fn=f'{y_key}_regress_coef_bar_non_spatial.svg'\n",
    "    if do_save_fig:\n",
    "        fig.savefig(os.path.join(figdir,fn),bbox_inches='tight')\n"
   ]
  },
  {
   "cell_type": "markdown",
   "id": "2831cbfe",
   "metadata": {},
   "source": [
    "# regression selection"
   ]
  },
  {
   "cell_type": "code",
   "execution_count": 232,
   "id": "41cca9c5",
   "metadata": {},
   "outputs": [],
   "source": [
    "reload(bas)\n",
    "key_l = np.array(['animal','lin_binned_cat','n_field','trial_z','speed_z','speed_cv_z','correct','correct_prev_seperate'])\n",
    "# cat_l = np.array([True,True,False,False,False,False,False])\n",
    "cat_l = np.array([True,True,False,False,False,False,True,True])\n",
    "# combo_l = [[0,1,2,3,4,5],[0,1,2,3,4],[0,1,2,3],[0,1,2],[0,1,3],[0,2,3],[0,1],[0,2]]#None#[[0,1,2,3,4],[0,1,2,3],[1,2,4],[1,2],[1]]\n",
    "nkey = len(key_l)\n",
    "combo_l=[np.arange(nkey)]\n",
    "for i in range(nkey):\n",
    "    combo=np.concatenate([np.arange(i),np.arange(i+1,nkey)])\n",
    "    combo_l.append(combo)\n",
    "\n",
    "# combo_l = [[0,1,2,3,4],[0,1,2,3],[0,1,2,4],[0,1,3,4],[0,2,3,4],[1,2,3,4]]\n",
    "# formula_shorthand = ['Full','w/o Speed','w/o Trial','w/o N field','w/o Position','w/o Animal']\n",
    "formula_shorthand = ['Full','w/o Animal','w/o Position','w/o N field','w/o Trial','w/o Speed','w/o Speed CV','w/o Correct','w/o Correct Prev. Trial']\n",
    "y_key = 'sw_on'\n",
    "formula_l=bas.build_formula_multiple(key_l,cat_l,y_key,combo_l=combo_l)\n"
   ]
  },
  {
   "cell_type": "code",
   "execution_count": 233,
   "id": "e523c435",
   "metadata": {},
   "outputs": [
    {
     "name": "stdout",
     "output_type": "stream",
     "text": [
      "CPU times: user 3min 52s, sys: 2.71 s, total: 3min 55s\n",
      "Wall time: 59.3 s\n"
     ]
    }
   ],
   "source": [
    "%%time\n",
    "reload(bas)\n",
    "X = var_per_trial_pos_all.dropna(axis=0)\n",
    "sc_l_all_l_d = {}\n",
    "for y_key in ['sw_on','sw_off']:\n",
    "    formula_l=bas.build_formula_multiple(key_l,cat_l,y_key,combo_l=combo_l)\n",
    "\n",
    "    n_splits = 5\n",
    "    n_repeats = 10\n",
    "    sc_l_all_l = []\n",
    "    # X = var_per_trial_pos_all.loc[ani_l]\n",
    "#     X = var_per_trial_pos_all\n",
    "    for n in range(n_repeats):\n",
    "        sc_l_all,res_all=bas.cv_poisson_glm_multi_formula(X,formula_l,n_splits=n_splits,random_state=n)\n",
    "        sc_l_all_l.append(np.median(sc_l_all,axis=1))\n",
    "    if formula_shorthand is not None:\n",
    "        index=formula_shorthand\n",
    "    else:\n",
    "        index=formula_l\n",
    "    sc_l_all_l = pd.DataFrame(np.array(sc_l_all_l).T,index=index)\n",
    "    sc_l_all_l_d[y_key] = sc_l_all_l\n",
    "# sc_multirep_median=np.median(np.array(sc_l_all_l),axis=0)\n",
    "# score_df=pd.Series(sc_multirep_median,index=formula_l)\n",
    "sc_l_all_l_d=pd.concat(sc_l_all_l_d,axis=0)"
   ]
  },
  {
   "cell_type": "code",
   "execution_count": 262,
   "id": "0e45b8c0",
   "metadata": {},
   "outputs": [
    {
     "data": {
      "text/plain": [
       "WilcoxonResult(statistic=138.0, pvalue=0.11525630950927734)"
      ]
     },
     "execution_count": 262,
     "metadata": {},
     "output_type": "execute_result"
    }
   ],
   "source": [
    "# scipy.stats.wilcoxon(sc_l_all_l_d.loc['sw_on','Full'],sc_l_all_l_d.loc['sw_on','w/o Trial'],alternative='greater')\n",
    "# # scipy.stats.wilcoxon(sc_l_all_l_d.loc['sw_on','Full'],sc_l_all_l_d.loc['sw_on','w/o Correct'],alternative='greater')\n",
    "\n"
   ]
  },
  {
   "cell_type": "code",
   "execution_count": 264,
   "id": "25883bd4",
   "metadata": {},
   "outputs": [
    {
     "data": {
      "text/plain": [
       "0.20413742788375197"
      ]
     },
     "execution_count": 264,
     "metadata": {},
     "output_type": "execute_result"
    }
   ],
   "source": [
    "# key = 'w/o Trial'#'w/o Position'#\n",
    "# xx=sc_l_all_l_d.loc['sw_on','Full'] - sc_l_all_l_d.loc['sw_on',key]\n",
    "# xx.mean() / xx.std()"
   ]
  },
  {
   "cell_type": "code",
   "execution_count": 284,
   "id": "5f1de611",
   "metadata": {},
   "outputs": [
    {
     "data": {
      "image/png": "[encoded data removed]",
      "text/plain": [
       "<Figure size 144x108 with 1 Axes>"
      ]
     },
     "metadata": {
      "needs_background": "light"
     },
     "output_type": "display_data"
    },
    {
     "data": {
      "image/png": "[encoded data removed]",
      "text/plain": [
       "<Figure size 144x108 with 1 Axes>"
      ]
     },
     "metadata": {
      "needs_background": "light"
     },
     "output_type": "display_data"
    }
   ],
   "source": [
    "y_key = 'sw_on'\n",
    "formula_shorthand_nofull = [x for x in formula_shorthand if x!='Full']\n",
    "for onoff_str in ['on','off']:\n",
    "    y_key = f'sw_{onoff_str}'\n",
    "    \n",
    "    diff=sc_l_all_l_d.loc[y_key].loc[formula_shorthand_nofull]-sc_l_all_l_d.loc[y_key,'Full']\n",
    "    eff_sz = diff.mean(axis=1) / diff.std(axis=1)\n",
    "    \n",
    "    toplot = diff\n",
    "    fig,ax=plt.subplots(figsize=(2,1.5))\n",
    "    ax=sns.boxplot(data=toplot.T,color='grey',ax=ax,medianprops=dict(color=\"pink\",linewidth=3))\n",
    "    ax=sns.stripplot(data=toplot.T,color='k',ax=ax)\n",
    "    # toplot.plot(legend=False,linestyle=':',color='k',ax=ax)\n",
    "    ax.set(ylabel='Drop in Explained Deviance\\nrelative to Full')\n",
    "    xticklabels=ax.get_xticklabels()\n",
    "    ax.set_xticklabels(xticklabels,fontsize=10,rotation=90)\n",
    "    ax.set_title(f'Switch {onoff_str.upper()}')\n",
    "    ax.axhline(0,c='k',linestyle='--')\n",
    "#     fn=f'held_out_d2_vs_model_{y_key}.svg'\n",
    "    fn=f'held_out_d2_decrease_vs_model_{y_key}.svg'\n",
    "    fig.savefig(os.path.join(figdir,fn),bbox_inches='tight')\n",
    "    sns.despine()"
   ]
  },
  {
   "cell_type": "markdown",
   "id": "c051f066",
   "metadata": {},
   "source": [
    "# behavior variability, EI, arm difference"
   ]
  },
  {
   "cell_type": "code",
   "execution_count": 613,
   "id": "8263f602",
   "metadata": {},
   "outputs": [
    {
     "data": {
      "text/html": [
       "<div>\n",
       "<style scoped>\n",
       "    .dataframe tbody tr th:only-of-type {\n",
       "        vertical-align: middle;\n",
       "    }\n",
       "\n",
       "    .dataframe tbody tr th {\n",
       "        vertical-align: top;\n",
       "    }\n",
       "\n",
       "    .dataframe thead th {\n",
       "        text-align: right;\n",
       "    }\n",
       "</style>\n",
       "<table border=\"1\" class=\"dataframe\">\n",
       "  <thead>\n",
       "    <tr style=\"text-align: right;\">\n",
       "      <th></th>\n",
       "      <th></th>\n",
       "      <th></th>\n",
       "      <th>trial</th>\n",
       "      <th>lin_binned_cat</th>\n",
       "      <th>speed_gauss_mean</th>\n",
       "      <th>speed_gauss_std</th>\n",
       "      <th>speed_gauss_cv</th>\n",
       "      <th>E_mean</th>\n",
       "      <th>I_mean</th>\n",
       "      <th>E_I_mean</th>\n",
       "      <th>E_frac_active</th>\n",
       "      <th>I_frac_active</th>\n",
       "      <th>...</th>\n",
       "      <th>speed_std_z</th>\n",
       "      <th>speed_cv_z</th>\n",
       "      <th>trial_z</th>\n",
       "      <th>sw_on_div_n_field</th>\n",
       "      <th>sw_off_div_n_field</th>\n",
       "      <th>correct</th>\n",
       "      <th>correct_prev</th>\n",
       "      <th>correct_prev_trialwithin</th>\n",
       "      <th>correct_prev_seperate</th>\n",
       "      <th>speed_cat</th>\n",
       "    </tr>\n",
       "    <tr>\n",
       "      <th></th>\n",
       "      <th></th>\n",
       "      <th>task_index</th>\n",
       "      <th></th>\n",
       "      <th></th>\n",
       "      <th></th>\n",
       "      <th></th>\n",
       "      <th></th>\n",
       "      <th></th>\n",
       "      <th></th>\n",
       "      <th></th>\n",
       "      <th></th>\n",
       "      <th></th>\n",
       "      <th></th>\n",
       "      <th></th>\n",
       "      <th></th>\n",
       "      <th></th>\n",
       "      <th></th>\n",
       "      <th></th>\n",
       "      <th></th>\n",
       "      <th></th>\n",
       "      <th></th>\n",
       "      <th></th>\n",
       "      <th></th>\n",
       "    </tr>\n",
       "  </thead>\n",
       "  <tbody>\n",
       "    <tr>\n",
       "      <th rowspan=\"5\" valign=\"top\">e13_16f1</th>\n",
       "      <th rowspan=\"5\" valign=\"top\">e13_16f1_210302</th>\n",
       "      <th>0</th>\n",
       "      <td>4.0</td>\n",
       "      <td>0</td>\n",
       "      <td>3.651214</td>\n",
       "      <td>2.375648</td>\n",
       "      <td>0.650646</td>\n",
       "      <td>0.055191</td>\n",
       "      <td>0.580113</td>\n",
       "      <td>0.095139</td>\n",
       "      <td>0.043246</td>\n",
       "      <td>0.372702</td>\n",
       "      <td>...</td>\n",
       "      <td>-0.872559</td>\n",
       "      <td>-0.140729</td>\n",
       "      <td>-1.024544</td>\n",
       "      <td>0.000000</td>\n",
       "      <td>0.014286</td>\n",
       "      <td>1.0</td>\n",
       "      <td>0.0</td>\n",
       "      <td>0.0</td>\n",
       "      <td>0.0</td>\n",
       "      <td>0.0</td>\n",
       "    </tr>\n",
       "    <tr>\n",
       "      <th>0</th>\n",
       "      <td>4.0</td>\n",
       "      <td>1</td>\n",
       "      <td>6.243967</td>\n",
       "      <td>2.603304</td>\n",
       "      <td>0.416931</td>\n",
       "      <td>0.051918</td>\n",
       "      <td>0.596400</td>\n",
       "      <td>0.087053</td>\n",
       "      <td>0.041898</td>\n",
       "      <td>0.417151</td>\n",
       "      <td>...</td>\n",
       "      <td>-0.724355</td>\n",
       "      <td>-1.105512</td>\n",
       "      <td>-1.024544</td>\n",
       "      <td>0.020833</td>\n",
       "      <td>0.000000</td>\n",
       "      <td>1.0</td>\n",
       "      <td>0.0</td>\n",
       "      <td>0.0</td>\n",
       "      <td>0.0</td>\n",
       "      <td>1.0</td>\n",
       "    </tr>\n",
       "    <tr>\n",
       "      <th>0</th>\n",
       "      <td>4.0</td>\n",
       "      <td>2</td>\n",
       "      <td>5.085595</td>\n",
       "      <td>2.413563</td>\n",
       "      <td>0.474588</td>\n",
       "      <td>0.057441</td>\n",
       "      <td>0.606739</td>\n",
       "      <td>0.094672</td>\n",
       "      <td>0.045784</td>\n",
       "      <td>0.402213</td>\n",
       "      <td>...</td>\n",
       "      <td>-0.847877</td>\n",
       "      <td>-0.867502</td>\n",
       "      <td>-1.024544</td>\n",
       "      <td>0.034884</td>\n",
       "      <td>0.000000</td>\n",
       "      <td>1.0</td>\n",
       "      <td>0.0</td>\n",
       "      <td>0.0</td>\n",
       "      <td>0.0</td>\n",
       "      <td>1.0</td>\n",
       "    </tr>\n",
       "    <tr>\n",
       "      <th>0</th>\n",
       "      <td>4.0</td>\n",
       "      <td>3</td>\n",
       "      <td>3.995462</td>\n",
       "      <td>2.598270</td>\n",
       "      <td>0.650305</td>\n",
       "      <td>0.066086</td>\n",
       "      <td>0.556405</td>\n",
       "      <td>0.118774</td>\n",
       "      <td>0.051693</td>\n",
       "      <td>0.375494</td>\n",
       "      <td>...</td>\n",
       "      <td>-0.727632</td>\n",
       "      <td>-0.142135</td>\n",
       "      <td>-1.024544</td>\n",
       "      <td>0.010638</td>\n",
       "      <td>0.000000</td>\n",
       "      <td>1.0</td>\n",
       "      <td>0.0</td>\n",
       "      <td>0.0</td>\n",
       "      <td>0.0</td>\n",
       "      <td>0.0</td>\n",
       "    </tr>\n",
       "    <tr>\n",
       "      <th>0</th>\n",
       "      <td>4.0</td>\n",
       "      <td>4</td>\n",
       "      <td>3.700580</td>\n",
       "      <td>2.746139</td>\n",
       "      <td>0.742083</td>\n",
       "      <td>0.049795</td>\n",
       "      <td>0.516396</td>\n",
       "      <td>0.096428</td>\n",
       "      <td>0.039290</td>\n",
       "      <td>0.354149</td>\n",
       "      <td>...</td>\n",
       "      <td>-0.631370</td>\n",
       "      <td>0.236727</td>\n",
       "      <td>-1.024544</td>\n",
       "      <td>0.038462</td>\n",
       "      <td>0.038462</td>\n",
       "      <td>1.0</td>\n",
       "      <td>0.0</td>\n",
       "      <td>0.0</td>\n",
       "      <td>0.0</td>\n",
       "      <td>0.0</td>\n",
       "    </tr>\n",
       "    <tr>\n",
       "      <th>...</th>\n",
       "      <th>...</th>\n",
       "      <th>...</th>\n",
       "      <td>...</td>\n",
       "      <td>...</td>\n",
       "      <td>...</td>\n",
       "      <td>...</td>\n",
       "      <td>...</td>\n",
       "      <td>...</td>\n",
       "      <td>...</td>\n",
       "      <td>...</td>\n",
       "      <td>...</td>\n",
       "      <td>...</td>\n",
       "      <td>...</td>\n",
       "      <td>...</td>\n",
       "      <td>...</td>\n",
       "      <td>...</td>\n",
       "      <td>...</td>\n",
       "      <td>...</td>\n",
       "      <td>...</td>\n",
       "      <td>...</td>\n",
       "      <td>...</td>\n",
       "      <td>...</td>\n",
       "      <td>...</td>\n",
       "    </tr>\n",
       "    <tr>\n",
       "      <th rowspan=\"5\" valign=\"top\">e16_3m2</th>\n",
       "      <th rowspan=\"5\" valign=\"top\">e16_3m2_211213</th>\n",
       "      <th>0</th>\n",
       "      <td>26.0</td>\n",
       "      <td>0</td>\n",
       "      <td>6.034539</td>\n",
       "      <td>3.024823</td>\n",
       "      <td>0.501252</td>\n",
       "      <td>0.047608</td>\n",
       "      <td>0.526035</td>\n",
       "      <td>0.090503</td>\n",
       "      <td>0.038811</td>\n",
       "      <td>0.328228</td>\n",
       "      <td>...</td>\n",
       "      <td>-0.722304</td>\n",
       "      <td>-0.042382</td>\n",
       "      <td>1.669046</td>\n",
       "      <td>0.000000</td>\n",
       "      <td>0.000000</td>\n",
       "      <td>1.0</td>\n",
       "      <td>1.0</td>\n",
       "      <td>0.0</td>\n",
       "      <td>1.0</td>\n",
       "      <td>1.0</td>\n",
       "    </tr>\n",
       "    <tr>\n",
       "      <th>0</th>\n",
       "      <td>26.0</td>\n",
       "      <td>1</td>\n",
       "      <td>7.388164</td>\n",
       "      <td>4.082589</td>\n",
       "      <td>0.552585</td>\n",
       "      <td>0.033361</td>\n",
       "      <td>0.463909</td>\n",
       "      <td>0.071912</td>\n",
       "      <td>0.026962</td>\n",
       "      <td>0.299064</td>\n",
       "      <td>...</td>\n",
       "      <td>-0.047922</td>\n",
       "      <td>0.209533</td>\n",
       "      <td>1.669046</td>\n",
       "      <td>0.000000</td>\n",
       "      <td>0.000000</td>\n",
       "      <td>1.0</td>\n",
       "      <td>1.0</td>\n",
       "      <td>0.0</td>\n",
       "      <td>1.0</td>\n",
       "      <td>1.0</td>\n",
       "    </tr>\n",
       "    <tr>\n",
       "      <th>0</th>\n",
       "      <td>26.0</td>\n",
       "      <td>2</td>\n",
       "      <td>10.247094</td>\n",
       "      <td>4.266651</td>\n",
       "      <td>0.416377</td>\n",
       "      <td>0.042358</td>\n",
       "      <td>0.487945</td>\n",
       "      <td>0.086809</td>\n",
       "      <td>0.034729</td>\n",
       "      <td>0.300988</td>\n",
       "      <td>...</td>\n",
       "      <td>0.069428</td>\n",
       "      <td>-0.458899</td>\n",
       "      <td>1.669046</td>\n",
       "      <td>0.000000</td>\n",
       "      <td>0.000000</td>\n",
       "      <td>1.0</td>\n",
       "      <td>1.0</td>\n",
       "      <td>0.0</td>\n",
       "      <td>0.0</td>\n",
       "      <td>2.0</td>\n",
       "    </tr>\n",
       "    <tr>\n",
       "      <th>0</th>\n",
       "      <td>26.0</td>\n",
       "      <td>3</td>\n",
       "      <td>5.821348</td>\n",
       "      <td>4.098061</td>\n",
       "      <td>0.703971</td>\n",
       "      <td>0.042085</td>\n",
       "      <td>0.445787</td>\n",
       "      <td>0.094406</td>\n",
       "      <td>0.033039</td>\n",
       "      <td>0.285683</td>\n",
       "      <td>...</td>\n",
       "      <td>-0.038058</td>\n",
       "      <td>0.952447</td>\n",
       "      <td>1.669046</td>\n",
       "      <td>0.000000</td>\n",
       "      <td>0.000000</td>\n",
       "      <td>1.0</td>\n",
       "      <td>1.0</td>\n",
       "      <td>0.0</td>\n",
       "      <td>0.0</td>\n",
       "      <td>1.0</td>\n",
       "    </tr>\n",
       "    <tr>\n",
       "      <th>0</th>\n",
       "      <td>26.0</td>\n",
       "      <td>4</td>\n",
       "      <td>6.402528</td>\n",
       "      <td>3.723784</td>\n",
       "      <td>0.581611</td>\n",
       "      <td>0.056497</td>\n",
       "      <td>0.575984</td>\n",
       "      <td>0.098087</td>\n",
       "      <td>0.045417</td>\n",
       "      <td>0.360583</td>\n",
       "      <td>...</td>\n",
       "      <td>-0.276679</td>\n",
       "      <td>0.351977</td>\n",
       "      <td>1.669046</td>\n",
       "      <td>0.000000</td>\n",
       "      <td>0.000000</td>\n",
       "      <td>1.0</td>\n",
       "      <td>1.0</td>\n",
       "      <td>0.0</td>\n",
       "      <td>0.0</td>\n",
       "      <td>1.0</td>\n",
       "    </tr>\n",
       "  </tbody>\n",
       "</table>\n",
       "<p>5330 rows × 28 columns</p>\n",
       "</div>"
      ],
      "text/plain": [
       "                                     trial  lin_binned_cat  speed_gauss_mean  \\\n",
       "                         task_index                                            \n",
       "e13_16f1 e13_16f1_210302 0             4.0               0          3.651214   \n",
       "                         0             4.0               1          6.243967   \n",
       "                         0             4.0               2          5.085595   \n",
       "                         0             4.0               3          3.995462   \n",
       "                         0             4.0               4          3.700580   \n",
       "...                                    ...             ...               ...   \n",
       "e16_3m2  e16_3m2_211213  0            26.0               0          6.034539   \n",
       "                         0            26.0               1          7.388164   \n",
       "                         0            26.0               2         10.247094   \n",
       "                         0            26.0               3          5.821348   \n",
       "                         0            26.0               4          6.402528   \n",
       "\n",
       "                                     speed_gauss_std  speed_gauss_cv  \\\n",
       "                         task_index                                    \n",
       "e13_16f1 e13_16f1_210302 0                  2.375648        0.650646   \n",
       "                         0                  2.603304        0.416931   \n",
       "                         0                  2.413563        0.474588   \n",
       "                         0                  2.598270        0.650305   \n",
       "                         0                  2.746139        0.742083   \n",
       "...                                              ...             ...   \n",
       "e16_3m2  e16_3m2_211213  0                  3.024823        0.501252   \n",
       "                         0                  4.082589        0.552585   \n",
       "                         0                  4.266651        0.416377   \n",
       "                         0                  4.098061        0.703971   \n",
       "                         0                  3.723784        0.581611   \n",
       "\n",
       "                                       E_mean    I_mean  E_I_mean  \\\n",
       "                         task_index                                 \n",
       "e13_16f1 e13_16f1_210302 0           0.055191  0.580113  0.095139   \n",
       "                         0           0.051918  0.596400  0.087053   \n",
       "                         0           0.057441  0.606739  0.094672   \n",
       "                         0           0.066086  0.556405  0.118774   \n",
       "                         0           0.049795  0.516396  0.096428   \n",
       "...                                       ...       ...       ...   \n",
       "e16_3m2  e16_3m2_211213  0           0.047608  0.526035  0.090503   \n",
       "                         0           0.033361  0.463909  0.071912   \n",
       "                         0           0.042358  0.487945  0.086809   \n",
       "                         0           0.042085  0.445787  0.094406   \n",
       "                         0           0.056497  0.575984  0.098087   \n",
       "\n",
       "                                     E_frac_active  I_frac_active  ...  \\\n",
       "                         task_index                                ...   \n",
       "e13_16f1 e13_16f1_210302 0                0.043246       0.372702  ...   \n",
       "                         0                0.041898       0.417151  ...   \n",
       "                         0                0.045784       0.402213  ...   \n",
       "                         0                0.051693       0.375494  ...   \n",
       "                         0                0.039290       0.354149  ...   \n",
       "...                                            ...            ...  ...   \n",
       "e16_3m2  e16_3m2_211213  0                0.038811       0.328228  ...   \n",
       "                         0                0.026962       0.299064  ...   \n",
       "                         0                0.034729       0.300988  ...   \n",
       "                         0                0.033039       0.285683  ...   \n",
       "                         0                0.045417       0.360583  ...   \n",
       "\n",
       "                                     speed_std_z  speed_cv_z   trial_z  \\\n",
       "                         task_index                                      \n",
       "e13_16f1 e13_16f1_210302 0             -0.872559   -0.140729 -1.024544   \n",
       "                         0             -0.724355   -1.105512 -1.024544   \n",
       "                         0             -0.847877   -0.867502 -1.024544   \n",
       "                         0             -0.727632   -0.142135 -1.024544   \n",
       "                         0             -0.631370    0.236727 -1.024544   \n",
       "...                                          ...         ...       ...   \n",
       "e16_3m2  e16_3m2_211213  0             -0.722304   -0.042382  1.669046   \n",
       "                         0             -0.047922    0.209533  1.669046   \n",
       "                         0              0.069428   -0.458899  1.669046   \n",
       "                         0             -0.038058    0.952447  1.669046   \n",
       "                         0             -0.276679    0.351977  1.669046   \n",
       "\n",
       "                                     sw_on_div_n_field  sw_off_div_n_field  \\\n",
       "                         task_index                                          \n",
       "e13_16f1 e13_16f1_210302 0                    0.000000            0.014286   \n",
       "                         0                    0.020833            0.000000   \n",
       "                         0                    0.034884            0.000000   \n",
       "                         0                    0.010638            0.000000   \n",
       "                         0                    0.038462            0.038462   \n",
       "...                                                ...                 ...   \n",
       "e16_3m2  e16_3m2_211213  0                    0.000000            0.000000   \n",
       "                         0                    0.000000            0.000000   \n",
       "                         0                    0.000000            0.000000   \n",
       "                         0                    0.000000            0.000000   \n",
       "                         0                    0.000000            0.000000   \n",
       "\n",
       "                                    correct correct_prev  \\\n",
       "                         task_index                        \n",
       "e13_16f1 e13_16f1_210302 0              1.0          0.0   \n",
       "                         0              1.0          0.0   \n",
       "                         0              1.0          0.0   \n",
       "                         0              1.0          0.0   \n",
       "                         0              1.0          0.0   \n",
       "...                                     ...          ...   \n",
       "e16_3m2  e16_3m2_211213  0              1.0          1.0   \n",
       "                         0              1.0          1.0   \n",
       "                         0              1.0          1.0   \n",
       "                         0              1.0          1.0   \n",
       "                         0              1.0          1.0   \n",
       "\n",
       "                                     correct_prev_trialwithin  \\\n",
       "                         task_index                             \n",
       "e13_16f1 e13_16f1_210302 0                                0.0   \n",
       "                         0                                0.0   \n",
       "                         0                                0.0   \n",
       "                         0                                0.0   \n",
       "                         0                                0.0   \n",
       "...                                                       ...   \n",
       "e16_3m2  e16_3m2_211213  0                                0.0   \n",
       "                         0                                0.0   \n",
       "                         0                                0.0   \n",
       "                         0                                0.0   \n",
       "                         0                                0.0   \n",
       "\n",
       "                                     correct_prev_seperate  speed_cat  \n",
       "                         task_index                                    \n",
       "e13_16f1 e13_16f1_210302 0                             0.0        0.0  \n",
       "                         0                             0.0        1.0  \n",
       "                         0                             0.0        1.0  \n",
       "                         0                             0.0        0.0  \n",
       "                         0                             0.0        0.0  \n",
       "...                                                    ...        ...  \n",
       "e16_3m2  e16_3m2_211213  0                             1.0        1.0  \n",
       "                         0                             1.0        1.0  \n",
       "                         0                             0.0        2.0  \n",
       "                         0                             0.0        1.0  \n",
       "                         0                             0.0        1.0  \n",
       "\n",
       "[5330 rows x 28 columns]"
      ]
     },
     "execution_count": 613,
     "metadata": {},
     "output_type": "execute_result"
    }
   ],
   "source": [
    "var_per_trial_pos_all"
   ]
  },
  {
   "cell_type": "code",
   "execution_count": 18,
   "id": "ad6af31c",
   "metadata": {},
   "outputs": [
    {
     "name": "stderr",
     "output_type": "stream",
     "text": [
      "/mnt/home/szheng/projects/place_variability/code/behavior_and_switching.py:14: SettingWithCopyWarning: \n",
      "A value is trying to be set on a copy of a slice from a DataFrame.\n",
      "Try using .loc[row_indexer,col_indexer] = value instead\n",
      "\n",
      "See the caveats in the documentation: https://pandas.pydata.org/pandas-docs/stable/user_guide/indexing.html#returning-a-view-versus-a-copy\n",
      "  df[k_cat] = pd.cut(df[k],val,retbins=False,labels=False,include_lowest=True)\n"
     ]
    }
   ],
   "source": [
    "beh_var_l = ['task_index','trial_type','trial','time','lin','lin_binned','speed_gauss','v_gauss','off_track_event','pause_event','directed_locomotion']\n",
    "beh_df_all = spk_beh_df_all[beh_var_l]\n",
    "task_index = 0\n",
    "# filter df, only keep task_index==0, and directed_locomotion\n",
    "beh_df_all_fam = beh_df_all.query('(task_index==@task_index)')\n",
    "\n",
    "# assign categorical variables\n",
    "var_bin_d_default = {'lin_binned':np.array([0,15,74,111,185,202,222])/2.2}\n",
    "var_bin_d = var_bin_d_default\n",
    "lin_binned_cat_max = len(var_bin_d['lin_binned'])-2\n",
    "beh_df_all_fam = bas.get_categorical_var(beh_df_all_fam,var_bin_d)\n",
    "\n",
    "combine_first_last_section = True\n",
    "# update lin cat, combine two home region\n",
    "if combine_first_last_section:\n",
    "    beh_df_all_fam.loc[beh_df_all_fam['lin_binned_cat']==lin_binned_cat_max,'lin_binned_cat'] = 0"
   ]
  },
  {
   "cell_type": "code",
   "execution_count": 19,
   "id": "f9291603",
   "metadata": {},
   "outputs": [],
   "source": [
    "gpb=beh_df_all_fam.set_index(['lin_binned_cat','trial'],append=True).groupby(level=(0,1,3,4))\n",
    "\n",
    "speed_per_pos_trial = pd.concat({'mean':gpb['speed_gauss'].mean(),'std':gpb['speed_gauss'].std()},axis=1)\n",
    "islocomotion_per_pos_trial = pd.concat({'mean':gpb['directed_locomotion'].mean(),'std':gpb['directed_locomotion'].std()},axis=1)"
   ]
  },
  {
   "cell_type": "code",
   "execution_count": 20,
   "id": "cb5395c4",
   "metadata": {},
   "outputs": [],
   "source": [
    "speed_per_pos_trial['cv'] = speed_per_pos_trial['mean'] / speed_per_pos_trial['std']"
   ]
  },
  {
   "cell_type": "code",
   "execution_count": 21,
   "id": "0f0b78e1",
   "metadata": {},
   "outputs": [],
   "source": [
    "speed_per_pos_trial['islocomotion'] = islocomotion_per_pos_trial['mean']"
   ]
  },
  {
   "cell_type": "code",
   "execution_count": 633,
   "id": "3e24f20e",
   "metadata": {},
   "outputs": [],
   "source": [
    "# def entropy(x):\n",
    "#     eps=1e-10\n",
    "#     return -np.sum(x*np.log(x+eps))\n",
    "# event_l = ['off_track_event','pause_event','directed_locomotion']\n",
    "# beh_entropy_all={}\n",
    "# for k,val in gpb:\n",
    "#     beh_entropy_all[k]=entropy(val[event_l].mean(axis=0))\n",
    "# beh_entropy_all = pd.Series(beh_entropy_all,name='entropy')"
   ]
  },
  {
   "cell_type": "code",
   "execution_count": 643,
   "id": "6a90634d",
   "metadata": {},
   "outputs": [
    {
     "data": {
      "text/html": [
       "<div>\n",
       "<style scoped>\n",
       "    .dataframe tbody tr th:only-of-type {\n",
       "        vertical-align: middle;\n",
       "    }\n",
       "\n",
       "    .dataframe tbody tr th {\n",
       "        vertical-align: top;\n",
       "    }\n",
       "\n",
       "    .dataframe thead th {\n",
       "        text-align: right;\n",
       "    }\n",
       "</style>\n",
       "<table border=\"1\" class=\"dataframe\">\n",
       "  <thead>\n",
       "    <tr style=\"text-align: right;\">\n",
       "      <th></th>\n",
       "      <th>lin_binned_cat</th>\n",
       "      <th>mean</th>\n",
       "      <th>std</th>\n",
       "      <th>cv</th>\n",
       "      <th>islocomoation</th>\n",
       "    </tr>\n",
       "  </thead>\n",
       "  <tbody>\n",
       "    <tr>\n",
       "      <th>0</th>\n",
       "      <td>0</td>\n",
       "      <td>4.890157</td>\n",
       "      <td>3.911690</td>\n",
       "      <td>1.237336</td>\n",
       "      <td>0.669461</td>\n",
       "    </tr>\n",
       "    <tr>\n",
       "      <th>1</th>\n",
       "      <td>1</td>\n",
       "      <td>5.120462</td>\n",
       "      <td>4.345772</td>\n",
       "      <td>1.193917</td>\n",
       "      <td>0.559095</td>\n",
       "    </tr>\n",
       "    <tr>\n",
       "      <th>2</th>\n",
       "      <td>2</td>\n",
       "      <td>3.032771</td>\n",
       "      <td>2.976955</td>\n",
       "      <td>0.967621</td>\n",
       "      <td>0.355333</td>\n",
       "    </tr>\n",
       "    <tr>\n",
       "      <th>3</th>\n",
       "      <td>3</td>\n",
       "      <td>2.684940</td>\n",
       "      <td>3.251131</td>\n",
       "      <td>0.838942</td>\n",
       "      <td>0.351839</td>\n",
       "    </tr>\n",
       "    <tr>\n",
       "      <th>4</th>\n",
       "      <td>4</td>\n",
       "      <td>6.053197</td>\n",
       "      <td>2.820134</td>\n",
       "      <td>2.691213</td>\n",
       "      <td>0.643225</td>\n",
       "    </tr>\n",
       "    <tr>\n",
       "      <th>...</th>\n",
       "      <td>...</td>\n",
       "      <td>...</td>\n",
       "      <td>...</td>\n",
       "      <td>...</td>\n",
       "      <td>...</td>\n",
       "    </tr>\n",
       "    <tr>\n",
       "      <th>225</th>\n",
       "      <td>0</td>\n",
       "      <td>5.521009</td>\n",
       "      <td>3.999872</td>\n",
       "      <td>1.446534</td>\n",
       "      <td>0.682390</td>\n",
       "    </tr>\n",
       "    <tr>\n",
       "      <th>226</th>\n",
       "      <td>1</td>\n",
       "      <td>12.026857</td>\n",
       "      <td>5.490977</td>\n",
       "      <td>2.486678</td>\n",
       "      <td>0.868718</td>\n",
       "    </tr>\n",
       "    <tr>\n",
       "      <th>227</th>\n",
       "      <td>2</td>\n",
       "      <td>4.565371</td>\n",
       "      <td>3.953689</td>\n",
       "      <td>1.151821</td>\n",
       "      <td>0.467746</td>\n",
       "    </tr>\n",
       "    <tr>\n",
       "      <th>228</th>\n",
       "      <td>3</td>\n",
       "      <td>5.573224</td>\n",
       "      <td>4.748973</td>\n",
       "      <td>1.171260</td>\n",
       "      <td>0.538348</td>\n",
       "    </tr>\n",
       "    <tr>\n",
       "      <th>229</th>\n",
       "      <td>4</td>\n",
       "      <td>8.870216</td>\n",
       "      <td>2.476018</td>\n",
       "      <td>5.008177</td>\n",
       "      <td>0.801985</td>\n",
       "    </tr>\n",
       "  </tbody>\n",
       "</table>\n",
       "<p>230 rows × 5 columns</p>\n",
       "</div>"
      ],
      "text/plain": [
       "     lin_binned_cat       mean       std        cv  islocomoation\n",
       "0                 0   4.890157  3.911690  1.237336       0.669461\n",
       "1                 1   5.120462  4.345772  1.193917       0.559095\n",
       "2                 2   3.032771  2.976955  0.967621       0.355333\n",
       "3                 3   2.684940  3.251131  0.838942       0.351839\n",
       "4                 4   6.053197  2.820134  2.691213       0.643225\n",
       "..              ...        ...       ...       ...            ...\n",
       "225               0   5.521009  3.999872  1.446534       0.682390\n",
       "226               1  12.026857  5.490977  2.486678       0.868718\n",
       "227               2   4.565371  3.953689  1.151821       0.467746\n",
       "228               3   5.573224  4.748973  1.171260       0.538348\n",
       "229               4   8.870216  2.476018  5.008177       0.801985\n",
       "\n",
       "[230 rows x 5 columns]"
      ]
     },
     "execution_count": 643,
     "metadata": {},
     "output_type": "execute_result"
    }
   ],
   "source": [
    "toplot"
   ]
  },
  {
   "cell_type": "code",
   "execution_count": 656,
   "id": "81373b62",
   "metadata": {},
   "outputs": [],
   "source": [
    "segment_names =['delay zone','central','T','return side','return pre delay zone']"
   ]
  },
  {
   "cell_type": "code",
   "execution_count": 22,
   "id": "42b9d2d2",
   "metadata": {},
   "outputs": [],
   "source": [
    "toplot = speed_per_pos_trial.groupby(level=(0,1,2)).mean().reset_index(level=2).reset_index(drop=True)"
   ]
  },
  {
   "cell_type": "code",
   "execution_count": 25,
   "id": "9af14381",
   "metadata": {},
   "outputs": [
    {
     "data": {
      "text/html": [
       "<div>\n",
       "<style scoped>\n",
       "    .dataframe tbody tr th:only-of-type {\n",
       "        vertical-align: middle;\n",
       "    }\n",
       "\n",
       "    .dataframe tbody tr th {\n",
       "        vertical-align: top;\n",
       "    }\n",
       "\n",
       "    .dataframe thead th {\n",
       "        text-align: right;\n",
       "    }\n",
       "</style>\n",
       "<table border=\"1\" class=\"dataframe\">\n",
       "  <thead>\n",
       "    <tr style=\"text-align: right;\">\n",
       "      <th></th>\n",
       "      <th></th>\n",
       "      <th></th>\n",
       "      <th>mean</th>\n",
       "      <th>std</th>\n",
       "      <th>cv</th>\n",
       "      <th>islocomotion</th>\n",
       "    </tr>\n",
       "    <tr>\n",
       "      <th></th>\n",
       "      <th></th>\n",
       "      <th>lin_binned_cat</th>\n",
       "      <th></th>\n",
       "      <th></th>\n",
       "      <th></th>\n",
       "      <th></th>\n",
       "    </tr>\n",
       "  </thead>\n",
       "  <tbody>\n",
       "    <tr>\n",
       "      <th rowspan=\"5\" valign=\"top\">e13_16f1</th>\n",
       "      <th rowspan=\"5\" valign=\"top\">e13_16f1_210302</th>\n",
       "      <th>0</th>\n",
       "      <td>4.890157</td>\n",
       "      <td>3.911690</td>\n",
       "      <td>1.237336</td>\n",
       "      <td>0.669461</td>\n",
       "    </tr>\n",
       "    <tr>\n",
       "      <th>1</th>\n",
       "      <td>5.120462</td>\n",
       "      <td>4.345772</td>\n",
       "      <td>1.193917</td>\n",
       "      <td>0.559095</td>\n",
       "    </tr>\n",
       "    <tr>\n",
       "      <th>2</th>\n",
       "      <td>3.032771</td>\n",
       "      <td>2.976955</td>\n",
       "      <td>0.967621</td>\n",
       "      <td>0.355333</td>\n",
       "    </tr>\n",
       "    <tr>\n",
       "      <th>3</th>\n",
       "      <td>2.684940</td>\n",
       "      <td>3.251131</td>\n",
       "      <td>0.838942</td>\n",
       "      <td>0.351839</td>\n",
       "    </tr>\n",
       "    <tr>\n",
       "      <th>4</th>\n",
       "      <td>6.053197</td>\n",
       "      <td>2.820134</td>\n",
       "      <td>2.691213</td>\n",
       "      <td>0.643225</td>\n",
       "    </tr>\n",
       "  </tbody>\n",
       "</table>\n",
       "</div>"
      ],
      "text/plain": [
       "                                             mean       std        cv  \\\n",
       "                         lin_binned_cat                                 \n",
       "e13_16f1 e13_16f1_210302 0               4.890157  3.911690  1.237336   \n",
       "                         1               5.120462  4.345772  1.193917   \n",
       "                         2               3.032771  2.976955  0.967621   \n",
       "                         3               2.684940  3.251131  0.838942   \n",
       "                         4               6.053197  2.820134  2.691213   \n",
       "\n",
       "                                         islocomotion  \n",
       "                         lin_binned_cat                \n",
       "e13_16f1 e13_16f1_210302 0                   0.669461  \n",
       "                         1                   0.559095  \n",
       "                         2                   0.355333  \n",
       "                         3                   0.351839  \n",
       "                         4                   0.643225  "
      ]
     },
     "execution_count": 25,
     "metadata": {},
     "output_type": "execute_result"
    }
   ],
   "source": [
    "speed_per_pos_trial.groupby(level=(0,1,2)).mean().loc[(slice(None),'e13_16f1_210302'),:]"
   ]
  },
  {
   "cell_type": "code",
   "execution_count": 114,
   "id": "43d2900e",
   "metadata": {
    "scrolled": true
   },
   "outputs": [
    {
     "data": {
      "image/png": "[encoded data removed]",
      "text/plain": [
       "<Figure size 144x432 with 4 Axes>"
      ]
     },
     "metadata": {
      "needs_background": "light"
     },
     "output_type": "display_data"
    }
   ],
   "source": [
    "# this analysis no filter beforehand!\n",
    "toplot = speed_per_pos_trial.groupby(level=(0,1,2)).mean().reset_index(level=2).reset_index(drop=True)\n",
    "\n",
    "k_l = ['mean','std','cv','islocomotion']\n",
    "# k_l = ['E_mean','I_mean','E_I_mean']\n",
    "nplots=len(k_l)\n",
    "fig,axs=plt.subplots(nplots,1,figsize=(2,1.5*nplots),sharex=True)\n",
    "for ii,y in enumerate(k_l):\n",
    "    ax=axs[ii]\n",
    "    ax=sns.lineplot(data=toplot,x='lin_binned_cat',y=y,ax=ax)  \n",
    "    ax.set_xlabel(\"\")\n",
    "    ax.set_xticks(np.arange(len(segment_names)))\n",
    "    ax.set_xticklabels(segment_names,rotation=90)\n",
    "plt.tight_layout()\n",
    "\n",
    "figfn='speed_var_vs_arm'\n",
    "ph.save_given_name(fig,figfn,figdir=figdir)"
   ]
  },
  {
   "cell_type": "code",
   "execution_count": 116,
   "id": "c5aa68b7",
   "metadata": {
    "scrolled": false
   },
   "outputs": [
    {
     "data": {
      "image/png": "[encoded data removed]",
      "text/plain": [
       "<Figure size 144x648 with 6 Axes>"
      ]
     },
     "metadata": {
      "needs_background": "light"
     },
     "output_type": "display_data"
    }
   ],
   "source": [
    "# for firing related analysis, there is behavioral filter!\n",
    "var_per_pos = var_per_trial_pos_all.set_index(['lin_binned_cat'],append=True).groupby(level=(0,1,3)).mean()\n",
    "toplot=var_per_pos.reset_index(level=2).reset_index(drop=True)\n",
    "k_l = ['E_mean','I_mean','E_I_mean','E_frac_active','I_frac_active','E_I_frac_active']\n",
    "nplots=len(k_l)\n",
    "fig,axs=plt.subplots(nplots,1,figsize=(2,1.5*nplots),sharex=True)\n",
    "for ii,y in enumerate(k_l):\n",
    "    ax=axs[ii]\n",
    "    ax=sns.lineplot(data=toplot,x='lin_binned_cat',y=y,ax=ax)  \n",
    "    ax.set_xlabel(\"\")\n",
    "    ax.set_xticks(np.arange(len(segment_names)))\n",
    "    ax.set_xticklabels(segment_names,rotation=90)\n",
    "plt.tight_layout()\n",
    "figfn='ei_vs_arm'\n",
    "ph.save_given_name(fig,figfn,figdir=figdir)"
   ]
  },
  {
   "cell_type": "markdown",
   "id": "1c50d8c4",
   "metadata": {},
   "source": [
    "# spatial within animal"
   ]
  },
  {
   "cell_type": "code",
   "execution_count": 17,
   "id": "c183f7e3",
   "metadata": {},
   "outputs": [
    {
     "data": {
      "text/plain": [
       "<module 'plot_helper' from '/mnt/home/szheng/projects/util_code/plot_helper.py'>"
      ]
     },
     "execution_count": 17,
     "metadata": {},
     "output_type": "execute_result"
    }
   ],
   "source": [
    "reload(ph)"
   ]
  },
  {
   "cell_type": "code",
   "execution_count": 235,
   "id": "1c942925",
   "metadata": {
    "scrolled": false
   },
   "outputs": [
    {
     "data": {
      "image/png": "[encoded data removed]",
      "text/plain": [
       "<Figure size 576x288 with 12 Axes>"
      ]
     },
     "metadata": {
      "needs_background": "light"
     },
     "output_type": "display_data"
    },
    {
     "data": {
      "image/png": "[encoded data removed]",
      "text/plain": [
       "<Figure size 576x288 with 12 Axes>"
      ]
     },
     "metadata": {
      "needs_background": "light"
     },
     "output_type": "display_data"
    }
   ],
   "source": [
    "# y_key = 'sw_on'\n",
    "matplotlib.rcParams['font.size']=10\n",
    "for y_key in ['sw_on','sw_off']:\n",
    "    ani_sorted=var_per_pos.groupby(level=0)[y_key].mean().sort_values(ascending=False).index\n",
    "\n",
    "    gpb=var_per_pos.groupby(level=0)\n",
    "    nplots=len(gpb)\n",
    "    fig,axs=ph.subplots_wrapper(nplots,figsize=(8,4),sharex=True)\n",
    "    for ax in axs.ravel():\n",
    "        ax.set_axis_off()\n",
    "    # for ii,(ani,val) in enumerate(gpb):\n",
    "    for ii, ani in enumerate(ani_sorted):\n",
    "        val = gpb.get_group(ani)\n",
    "        ax=axs.ravel()[ii]\n",
    "        ax.set_axis_on()\n",
    "        sns.lineplot(data=val.reset_index(),x='lin_binned_cat',y=f'{y_key}_div_n_field',ax=ax,hue='level_1',legend=None)\n",
    "        ax.set_title(ani)\n",
    "        ax.set_ylabel('')\n",
    "        ax.set_xlabel('')\n",
    "        ax.set_xticks([0,1,2,3,4])\n",
    "        ax.set_xticklabels(['Delay','Central','T','Return side','Return pre delay'],rotation=90)\n",
    "    fig.supylabel(f'N {y_key} / N Field')\n",
    "    plt.tight_layout()\n",
    "\n",
    "    fn = f'{y_key}_div_n_field_vs_lin_binned_cat_all_ani'\n",
    "    ph.save_given_name(fig,fn,figdir)\n",
    "#     fig.savefig(os.path.join(figdir,fn),bbox_inches='tight')\n",
    "matplotlib.rcParams['font.size']=10"
   ]
  },
  {
   "cell_type": "markdown",
   "id": "40a77753",
   "metadata": {},
   "source": [
    "# vs trial"
   ]
  },
  {
   "cell_type": "code",
   "execution_count": 269,
   "id": "b9c454b5",
   "metadata": {},
   "outputs": [
    {
     "data": {
      "text/plain": [
       "<module 'behavior_and_switching' from '/mnt/home/szheng/projects/place_variability/code/behavior_and_switching.py'>"
      ]
     },
     "execution_count": 269,
     "metadata": {},
     "output_type": "execute_result"
    }
   ],
   "source": [
    "reload(bas)"
   ]
  },
  {
   "cell_type": "code",
   "execution_count": 270,
   "id": "558d374e",
   "metadata": {
    "scrolled": true
   },
   "outputs": [
    {
     "name": "stderr",
     "output_type": "stream",
     "text": [
      "/mnt/home/szheng/projects/place_variability/code/behavior_and_switching.py:14: SettingWithCopyWarning: \n",
      "A value is trying to be set on a copy of a slice from a DataFrame.\n",
      "Try using .loc[row_indexer,col_indexer] = value instead\n",
      "\n",
      "See the caveats in the documentation: https://pandas.pydata.org/pandas-docs/stable/user_guide/indexing.html#returning-a-view-versus-a-copy\n",
      "  df[k_cat] = pd.cut(df[k],val,retbins=False,labels=False,include_lowest=True)\n",
      "/mnt/home/szheng/projects/place_variability/code/behavior_and_switching.py:111: PerformanceWarning: indexing past lexsort depth may impact performance.\n",
      "  if 'both' in all_fields_recombined_all.loc[(ani,sess,ti),:].index.get_level_values(0):\n",
      "/mnt/home/szheng/projects/place_variability/code/behavior_and_switching.py:111: PerformanceWarning: indexing past lexsort depth may impact performance.\n",
      "  if 'both' in all_fields_recombined_all.loc[(ani,sess,ti),:].index.get_level_values(0):\n",
      "/mnt/home/szheng/projects/place_variability/code/behavior_and_switching.py:111: PerformanceWarning: indexing past lexsort depth may impact performance.\n",
      "  if 'both' in all_fields_recombined_all.loc[(ani,sess,ti),:].index.get_level_values(0):\n",
      "/mnt/home/szheng/projects/place_variability/code/behavior_and_switching.py:115: PerformanceWarning: indexing past lexsort depth may impact performance.\n",
      "  pf_loc=all_fields_recombined_all.loc[(ani,sess,ti,tt_l),:][pos_key]\n",
      "/mnt/home/szheng/projects/place_variability/code/behavior_and_switching.py:111: PerformanceWarning: indexing past lexsort depth may impact performance.\n",
      "  if 'both' in all_fields_recombined_all.loc[(ani,sess,ti),:].index.get_level_values(0):\n",
      "/mnt/home/szheng/projects/place_variability/code/behavior_and_switching.py:115: PerformanceWarning: indexing past lexsort depth may impact performance.\n",
      "  pf_loc=all_fields_recombined_all.loc[(ani,sess,ti,tt_l),:][pos_key]\n",
      "/mnt/home/szheng/projects/place_variability/code/behavior_and_switching.py:111: PerformanceWarning: indexing past lexsort depth may impact performance.\n",
      "  if 'both' in all_fields_recombined_all.loc[(ani,sess,ti),:].index.get_level_values(0):\n",
      "/mnt/home/szheng/projects/place_variability/code/behavior_and_switching.py:115: PerformanceWarning: indexing past lexsort depth may impact performance.\n",
      "  pf_loc=all_fields_recombined_all.loc[(ani,sess,ti,tt_l),:][pos_key]\n",
      "/mnt/home/szheng/projects/place_variability/code/behavior_and_switching.py:111: PerformanceWarning: indexing past lexsort depth may impact performance.\n",
      "  if 'both' in all_fields_recombined_all.loc[(ani,sess,ti),:].index.get_level_values(0):\n",
      "/mnt/home/szheng/projects/place_variability/code/behavior_and_switching.py:115: PerformanceWarning: indexing past lexsort depth may impact performance.\n",
      "  pf_loc=all_fields_recombined_all.loc[(ani,sess,ti,tt_l),:][pos_key]\n",
      "/mnt/home/szheng/projects/place_variability/code/behavior_and_switching.py:111: PerformanceWarning: indexing past lexsort depth may impact performance.\n",
      "  if 'both' in all_fields_recombined_all.loc[(ani,sess,ti),:].index.get_level_values(0):\n",
      "/mnt/home/szheng/projects/place_variability/code/behavior_and_switching.py:115: PerformanceWarning: indexing past lexsort depth may impact performance.\n",
      "  pf_loc=all_fields_recombined_all.loc[(ani,sess,ti,tt_l),:][pos_key]\n",
      "/mnt/home/szheng/projects/place_variability/code/behavior_and_switching.py:111: PerformanceWarning: indexing past lexsort depth may impact performance.\n",
      "  if 'both' in all_fields_recombined_all.loc[(ani,sess,ti),:].index.get_level_values(0):\n",
      "/mnt/home/szheng/projects/place_variability/code/behavior_and_switching.py:115: PerformanceWarning: indexing past lexsort depth may impact performance.\n",
      "  pf_loc=all_fields_recombined_all.loc[(ani,sess,ti,tt_l),:][pos_key]\n",
      "/mnt/home/szheng/projects/place_variability/code/behavior_and_switching.py:111: PerformanceWarning: indexing past lexsort depth may impact performance.\n",
      "  if 'both' in all_fields_recombined_all.loc[(ani,sess,ti),:].index.get_level_values(0):\n",
      "/mnt/home/szheng/projects/place_variability/code/behavior_and_switching.py:111: PerformanceWarning: indexing past lexsort depth may impact performance.\n",
      "  if 'both' in all_fields_recombined_all.loc[(ani,sess,ti),:].index.get_level_values(0):\n",
      "/mnt/home/szheng/projects/place_variability/code/behavior_and_switching.py:111: PerformanceWarning: indexing past lexsort depth may impact performance.\n",
      "  if 'both' in all_fields_recombined_all.loc[(ani,sess,ti),:].index.get_level_values(0):\n",
      "/mnt/home/szheng/projects/place_variability/code/behavior_and_switching.py:115: PerformanceWarning: indexing past lexsort depth may impact performance.\n",
      "  pf_loc=all_fields_recombined_all.loc[(ani,sess,ti,tt_l),:][pos_key]\n",
      "/mnt/home/szheng/projects/place_variability/code/behavior_and_switching.py:111: PerformanceWarning: indexing past lexsort depth may impact performance.\n",
      "  if 'both' in all_fields_recombined_all.loc[(ani,sess,ti),:].index.get_level_values(0):\n",
      "/mnt/home/szheng/projects/place_variability/code/behavior_and_switching.py:115: PerformanceWarning: indexing past lexsort depth may impact performance.\n",
      "  pf_loc=all_fields_recombined_all.loc[(ani,sess,ti,tt_l),:][pos_key]\n",
      "/mnt/home/szheng/projects/place_variability/code/behavior_and_switching.py:111: PerformanceWarning: indexing past lexsort depth may impact performance.\n",
      "  if 'both' in all_fields_recombined_all.loc[(ani,sess,ti),:].index.get_level_values(0):\n",
      "/mnt/home/szheng/projects/place_variability/code/behavior_and_switching.py:115: PerformanceWarning: indexing past lexsort depth may impact performance.\n",
      "  pf_loc=all_fields_recombined_all.loc[(ani,sess,ti,tt_l),:][pos_key]\n",
      "/mnt/home/szheng/projects/place_variability/code/behavior_and_switching.py:111: PerformanceWarning: indexing past lexsort depth may impact performance.\n",
      "  if 'both' in all_fields_recombined_all.loc[(ani,sess,ti),:].index.get_level_values(0):\n",
      "/mnt/home/szheng/projects/place_variability/code/behavior_and_switching.py:115: PerformanceWarning: indexing past lexsort depth may impact performance.\n",
      "  pf_loc=all_fields_recombined_all.loc[(ani,sess,ti,tt_l),:][pos_key]\n",
      "/mnt/home/szheng/projects/place_variability/code/behavior_and_switching.py:111: PerformanceWarning: indexing past lexsort depth may impact performance.\n",
      "  if 'both' in all_fields_recombined_all.loc[(ani,sess,ti),:].index.get_level_values(0):\n",
      "/mnt/home/szheng/projects/place_variability/code/behavior_and_switching.py:111: PerformanceWarning: indexing past lexsort depth may impact performance.\n",
      "  if 'both' in all_fields_recombined_all.loc[(ani,sess,ti),:].index.get_level_values(0):\n"
     ]
    }
   ],
   "source": [
    "# y_key_l = ['sw_on','sw_off','sw_on_div_n_field','sw_off_div_n_field','n_field']\n",
    "# var_per_trial=var_per_trial_pos_all.groupby(level=(0,1,2)).apply(lambda x:x.groupby('trial')[y_key_l].sum())\n",
    "# to_add= var_per_trial_pos_all.groupby(level=(0,1,2)).apply(lambda x:x.groupby('trial')[['trial_z','speed_z']].mean())\n",
    "# var_per_trial =pd.concat([var_per_trial ,to_add],axis=1)\n",
    "\n",
    "var_per_trial = bas.agg_within_trial(var_per_trial_pos_all)\n",
    "# var per trial pos for NOVEL!\n",
    "reload(bas)\n",
    "# var_bin_d = {'lin_binned':np.array([0,15,44.5,74,92.5,111,148,185,202,222])/2.2} # doesn't really matter here since we only look at trial here, but kept for testing if it actually doesn't matter\n",
    "var_bin_d = {'lin_binned':np.array([0,15,74,111,185,222])/2.2} # doesn't really matter here since we only look at trial here, but kept for testing if it actually doesn't matter\n",
    "var_per_trial_pos_all_novel=bas.prep_regression(spk_beh_df_all,all_fields_recombined_all,all_sw_d_all,trial_index_to_index_within_df_all,task_index=1,var_bin_d=var_bin_d)\n",
    "\n",
    "\n",
    "reload(bas)\n",
    "var_per_trial_novel = bas.agg_within_trial(var_per_trial_pos_all_novel)"
   ]
  },
  {
   "cell_type": "code",
   "execution_count": 271,
   "id": "47c9994d",
   "metadata": {
    "scrolled": false
   },
   "outputs": [
    {
     "data": {
      "text/plain": [
       "(1029, 7)"
      ]
     },
     "execution_count": 271,
     "metadata": {},
     "output_type": "execute_result"
    }
   ],
   "source": [
    "var_per_trial.shape"
   ]
  },
  {
   "cell_type": "code",
   "execution_count": 272,
   "id": "017af14c",
   "metadata": {},
   "outputs": [
    {
     "data": {
      "text/plain": [
       "(281, 7)"
      ]
     },
     "execution_count": 272,
     "metadata": {},
     "output_type": "execute_result"
    }
   ],
   "source": [
    "var_per_trial_novel.shape"
   ]
  },
  {
   "cell_type": "code",
   "execution_count": 35,
   "id": "18b35013",
   "metadata": {},
   "outputs": [
    {
     "data": {
      "text/plain": [
       "<module 'plot_helper' from '/mnt/home/szheng/projects/util_code/plot_helper.py'>"
      ]
     },
     "execution_count": 35,
     "metadata": {},
     "output_type": "execute_result"
    }
   ],
   "source": [
    "reload(ph)"
   ]
  },
  {
   "cell_type": "code",
   "execution_count": 275,
   "id": "79601bb0",
   "metadata": {
    "scrolled": false
   },
   "outputs": [
    {
     "name": "stdout",
     "output_type": "stream",
     "text": [
      "sw_on_div_n_field\n",
      "familiar\n",
      "r=-0.15\n",
      "p=1.3e-06\n",
      "sw_on_div_n_field\n",
      "novel\n",
      "r=-0.23\n",
      "p=1.3e-04\n",
      "sw_off_div_n_field\n",
      "familiar\n",
      "r=-0.20\n",
      "p=3.3e-11\n",
      "sw_off_div_n_field\n",
      "novel\n",
      "r=-0.18\n",
      "p=2.7e-03\n",
      "speed_z\n",
      "familiar\n",
      "r=0.01\n",
      "p=7.2e-01\n",
      "speed_z\n",
      "novel\n",
      "r=-0.02\n",
      "p=7.8e-01\n"
     ]
    },
    {
     "data": {
      "image/png": "[encoded data removed]",
      "text/plain": [
       "<Figure size 100.8x86.4 with 1 Axes>"
      ]
     },
     "metadata": {
      "needs_background": "light"
     },
     "output_type": "display_data"
    },
    {
     "data": {
      "image/png": "[encoded data removed]",
      "text/plain": [
       "<Figure size 100.8x86.4 with 1 Axes>"
      ]
     },
     "metadata": {
      "needs_background": "light"
     },
     "output_type": "display_data"
    },
    {
     "data": {
      "image/png": "[encoded data removed]",
      "text/plain": [
       "<Figure size 100.8x86.4 with 1 Axes>"
      ]
     },
     "metadata": {
      "needs_background": "light"
     },
     "output_type": "display_data"
    }
   ],
   "source": [
    "# for y_key in ['sw_on','sw_off']:\n",
    "xlabel = 'Trial (z-scored)'\n",
    "ylabel_l=['Num. switching ON \\n/ Num. fields','Num. switching OFF \\n/ Num. fields','Speed (z-scored)']\n",
    "\n",
    "for ii,y_key in enumerate(['sw_on_div_n_field','sw_off_div_n_field','speed_z']):\n",
    "    fig,ax=plt.subplots(figsize=(1.4,1.2))\n",
    "    for jj,(toplot,label) in enumerate(zip([var_per_trial,var_per_trial_novel],['familiar','novel'])):\n",
    "        toplot = toplot.fillna(0)\n",
    "        ax=sns.regplot(data=toplot,x='trial_z',y=y_key,line_kws={'linewidth':2},scatter_kws={'s':0.1},ax=ax,label=label)\n",
    "        ylabel = ylabel_l[ii]\n",
    "        ax.set(ylabel=ylabel,xlabel=xlabel)\n",
    "\n",
    "        rho,pval=scipy.stats.spearmanr(toplot['trial_z'],toplot[y_key])\n",
    "        print(y_key)\n",
    "        print(label)\n",
    "        star=ph.star_map(pval)\n",
    "        r_str=f'r={rho:.02f}\\np={pval:.01e}'\n",
    "        print(r_str)\n",
    "        ax.annotate(star,xy=(0.6,0.6+0.2*jj),xycoords='axes fraction',color=f'C{jj}')\n",
    "        sns.despine()\n",
    "    if ii==0:\n",
    "        ax.legend(markerscale=20,bbox_to_anchor=[1.05,1])\n",
    "    if ii<=1:\n",
    "        ax.set_ylim([0,0.1])\n",
    "\n",
    "    fn = f'{y_key}_vs_trial_z_fam_novel'\n",
    "    ph.save_given_name(fig,fn,figdir)\n",
    "#     fig.savefig(os.path.join(figdir,fn),bbox_inches='tight')\n",
    "\n",
    "\n"
   ]
  },
  {
   "cell_type": "markdown",
   "id": "41b682bb",
   "metadata": {},
   "source": [
    "# switch vs speed "
   ]
  },
  {
   "cell_type": "code",
   "execution_count": 281,
   "id": "828c22e4",
   "metadata": {},
   "outputs": [
    {
     "data": {
      "image/png": "[encoded data removed]",
      "text/plain": [
       "<Figure size 720x144 with 5 Axes>"
      ]
     },
     "metadata": {
      "needs_background": "light"
     },
     "output_type": "display_data"
    },
    {
     "data": {
      "image/png": "[encoded data removed]",
      "text/plain": [
       "<Figure size 720x144 with 5 Axes>"
      ]
     },
     "metadata": {
      "needs_background": "light"
     },
     "output_type": "display_data"
    }
   ],
   "source": [
    "gpb=var_per_trial_pos_all.groupby('lin_binned_cat')\n",
    "\n",
    "for onoff_str in ['on','off']:\n",
    "# onoff_str = 'on'\n",
    "    fig,axs=plt.subplots(1,5,figsize=(2*5,2))\n",
    "    for ii,(k,val) in enumerate(gpb):\n",
    "        ax=axs.ravel()[ii]\n",
    "        val = val.fillna(0)\n",
    "        sns.regplot(data=val,x='speed_gauss_mean',y=f'sw_{onoff_str}_div_n_field',ax=ax,scatter_kws={'s':0.5}) # show actual speed, compute rho using z scored within session?\n",
    "    #     rho,pval=scipy.stats.pearsonr(val['speed_z'],val['sw_on_div_n_field'])\n",
    "        rho,pval=scipy.stats.spearmanr(val['speed_z'],val['sw_on_div_n_field'])\n",
    "        r_str=f'r={rho:.02f}\\np={pval:.02f}'\n",
    "        ax.annotate(r_str,xy=(0.7,0.7),xycoords='axes fraction')\n",
    "        ax.set_title(segment_names[ii])\n",
    "        ax.set_ylabel(f'Num. Switch {onoff_str.upper()} \\n/ Num. fields')\n",
    "        ax.set(xlabel='Speed (cm/s)')\n",
    "    plt.tight_layout()\n",
    "\n",
    "    fn = f'sw_{onoff_str}_div_n_field_vs_speed_seperate_lin_binned_cat'\n",
    "    ph.save_given_name(fig,fn,figdir)\n",
    "#     fig.savefig(os.path.join(figdir,fn),bbox_inches='tight')"
   ]
  },
  {
   "cell_type": "markdown",
   "id": "5b1b34e6",
   "metadata": {},
   "source": [
    "# funny behavior map"
   ]
  },
  {
   "cell_type": "code",
   "execution_count": 286,
   "id": "8f4e6539",
   "metadata": {
    "scrolled": true
   },
   "outputs": [
    {
     "name": "stderr",
     "output_type": "stream",
     "text": [
      "/tmp/ipykernel_1216702/3871266608.py:11: PerformanceWarning: indexing past lexsort depth may impact performance.\n",
      "  data = spk_beh_df_all.loc[k].query('task_index==@task_index')\n",
      "/mnt/home/szheng/ceph/envs/jax/lib/python3.9/site-packages/scipy/interpolate/_interpolate.py:698: RuntimeWarning: divide by zero encountered in true_divide\n",
      "  slope = (y_hi - y_lo) / (x_hi - x_lo)[:, None]\n",
      "/tmp/ipykernel_1216702/3871266608.py:11: PerformanceWarning: indexing past lexsort depth may impact performance.\n",
      "  data = spk_beh_df_all.loc[k].query('task_index==@task_index')\n",
      "/tmp/ipykernel_1216702/3871266608.py:11: PerformanceWarning: indexing past lexsort depth may impact performance.\n",
      "  data = spk_beh_df_all.loc[k].query('task_index==@task_index')\n",
      "/tmp/ipykernel_1216702/3871266608.py:11: PerformanceWarning: indexing past lexsort depth may impact performance.\n",
      "  data = spk_beh_df_all.loc[k].query('task_index==@task_index')\n",
      "/mnt/home/szheng/ceph/envs/jax/lib/python3.9/site-packages/scipy/interpolate/_interpolate.py:698: RuntimeWarning: divide by zero encountered in true_divide\n",
      "  slope = (y_hi - y_lo) / (x_hi - x_lo)[:, None]\n",
      "/tmp/ipykernel_1216702/3871266608.py:11: PerformanceWarning: indexing past lexsort depth may impact performance.\n",
      "  data = spk_beh_df_all.loc[k].query('task_index==@task_index')\n",
      "/tmp/ipykernel_1216702/3871266608.py:11: PerformanceWarning: indexing past lexsort depth may impact performance.\n",
      "  data = spk_beh_df_all.loc[k].query('task_index==@task_index')\n",
      "/mnt/home/szheng/ceph/envs/jax/lib/python3.9/site-packages/scipy/interpolate/_interpolate.py:698: RuntimeWarning: divide by zero encountered in true_divide\n",
      "  slope = (y_hi - y_lo) / (x_hi - x_lo)[:, None]\n",
      "/tmp/ipykernel_1216702/3871266608.py:11: PerformanceWarning: indexing past lexsort depth may impact performance.\n",
      "  data = spk_beh_df_all.loc[k].query('task_index==@task_index')\n",
      "/tmp/ipykernel_1216702/3871266608.py:11: PerformanceWarning: indexing past lexsort depth may impact performance.\n",
      "  data = spk_beh_df_all.loc[k].query('task_index==@task_index')\n",
      "/tmp/ipykernel_1216702/3871266608.py:11: PerformanceWarning: indexing past lexsort depth may impact performance.\n",
      "  data = spk_beh_df_all.loc[k].query('task_index==@task_index')\n",
      "/mnt/home/szheng/ceph/envs/jax/lib/python3.9/site-packages/scipy/interpolate/_interpolate.py:698: RuntimeWarning: divide by zero encountered in true_divide\n",
      "  slope = (y_hi - y_lo) / (x_hi - x_lo)[:, None]\n",
      "/tmp/ipykernel_1216702/3871266608.py:11: PerformanceWarning: indexing past lexsort depth may impact performance.\n",
      "  data = spk_beh_df_all.loc[k].query('task_index==@task_index')\n",
      "/tmp/ipykernel_1216702/3871266608.py:11: PerformanceWarning: indexing past lexsort depth may impact performance.\n",
      "  data = spk_beh_df_all.loc[k].query('task_index==@task_index')\n",
      "/tmp/ipykernel_1216702/3871266608.py:11: PerformanceWarning: indexing past lexsort depth may impact performance.\n",
      "  data = spk_beh_df_all.loc[k].query('task_index==@task_index')\n",
      "/mnt/home/szheng/ceph/envs/jax/lib/python3.9/site-packages/scipy/interpolate/_interpolate.py:698: RuntimeWarning: divide by zero encountered in true_divide\n",
      "  slope = (y_hi - y_lo) / (x_hi - x_lo)[:, None]\n",
      "/tmp/ipykernel_1216702/3871266608.py:11: PerformanceWarning: indexing past lexsort depth may impact performance.\n",
      "  data = spk_beh_df_all.loc[k].query('task_index==@task_index')\n",
      "/tmp/ipykernel_1216702/3871266608.py:11: PerformanceWarning: indexing past lexsort depth may impact performance.\n",
      "  data = spk_beh_df_all.loc[k].query('task_index==@task_index')\n",
      "/mnt/home/szheng/ceph/envs/jax/lib/python3.9/site-packages/scipy/interpolate/_interpolate.py:698: RuntimeWarning: divide by zero encountered in true_divide\n",
      "  slope = (y_hi - y_lo) / (x_hi - x_lo)[:, None]\n",
      "/tmp/ipykernel_1216702/3871266608.py:11: PerformanceWarning: indexing past lexsort depth may impact performance.\n",
      "  data = spk_beh_df_all.loc[k].query('task_index==@task_index')\n",
      "/mnt/home/szheng/ceph/envs/jax/lib/python3.9/site-packages/scipy/interpolate/_interpolate.py:698: RuntimeWarning: divide by zero encountered in true_divide\n",
      "  slope = (y_hi - y_lo) / (x_hi - x_lo)[:, None]\n",
      "/tmp/ipykernel_1216702/3871266608.py:11: PerformanceWarning: indexing past lexsort depth may impact performance.\n",
      "  data = spk_beh_df_all.loc[k].query('task_index==@task_index')\n",
      "/tmp/ipykernel_1216702/3871266608.py:11: PerformanceWarning: indexing past lexsort depth may impact performance.\n",
      "  data = spk_beh_df_all.loc[k].query('task_index==@task_index')\n",
      "/mnt/home/szheng/ceph/envs/jax/lib/python3.9/site-packages/scipy/interpolate/_interpolate.py:698: RuntimeWarning: divide by zero encountered in true_divide\n",
      "  slope = (y_hi - y_lo) / (x_hi - x_lo)[:, None]\n",
      "/mnt/home/szheng/ceph/envs/jax/lib/python3.9/site-packages/scipy/interpolate/_interpolate.py:698: RuntimeWarning: divide by zero encountered in true_divide\n",
      "  slope = (y_hi - y_lo) / (x_hi - x_lo)[:, None]\n",
      "/tmp/ipykernel_1216702/3871266608.py:11: PerformanceWarning: indexing past lexsort depth may impact performance.\n",
      "  data = spk_beh_df_all.loc[k].query('task_index==@task_index')\n",
      "/mnt/home/szheng/ceph/envs/jax/lib/python3.9/site-packages/scipy/interpolate/_interpolate.py:698: RuntimeWarning: divide by zero encountered in true_divide\n",
      "  slope = (y_hi - y_lo) / (x_hi - x_lo)[:, None]\n",
      "/tmp/ipykernel_1216702/3871266608.py:11: PerformanceWarning: indexing past lexsort depth may impact performance.\n",
      "  data = spk_beh_df_all.loc[k].query('task_index==@task_index')\n",
      "/tmp/ipykernel_1216702/3871266608.py:11: PerformanceWarning: indexing past lexsort depth may impact performance.\n",
      "  data = spk_beh_df_all.loc[k].query('task_index==@task_index')\n",
      "/tmp/ipykernel_1216702/3871266608.py:11: PerformanceWarning: indexing past lexsort depth may impact performance.\n",
      "  data = spk_beh_df_all.loc[k].query('task_index==@task_index')\n",
      "/tmp/ipykernel_1216702/3871266608.py:11: PerformanceWarning: indexing past lexsort depth may impact performance.\n",
      "  data = spk_beh_df_all.loc[k].query('task_index==@task_index')\n",
      "/tmp/ipykernel_1216702/3871266608.py:11: PerformanceWarning: indexing past lexsort depth may impact performance.\n",
      "  data = spk_beh_df_all.loc[k].query('task_index==@task_index')\n",
      "/tmp/ipykernel_1216702/3871266608.py:11: PerformanceWarning: indexing past lexsort depth may impact performance.\n",
      "  data = spk_beh_df_all.loc[k].query('task_index==@task_index')\n",
      "/tmp/ipykernel_1216702/3871266608.py:11: PerformanceWarning: indexing past lexsort depth may impact performance.\n",
      "  data = spk_beh_df_all.loc[k].query('task_index==@task_index')\n",
      "/tmp/ipykernel_1216702/3871266608.py:11: PerformanceWarning: indexing past lexsort depth may impact performance.\n",
      "  data = spk_beh_df_all.loc[k].query('task_index==@task_index')\n",
      "/tmp/ipykernel_1216702/3871266608.py:11: PerformanceWarning: indexing past lexsort depth may impact performance.\n",
      "  data = spk_beh_df_all.loc[k].query('task_index==@task_index')\n",
      "/mnt/home/szheng/ceph/envs/jax/lib/python3.9/site-packages/scipy/interpolate/_interpolate.py:698: RuntimeWarning: divide by zero encountered in true_divide\n",
      "  slope = (y_hi - y_lo) / (x_hi - x_lo)[:, None]\n",
      "/tmp/ipykernel_1216702/3871266608.py:11: PerformanceWarning: indexing past lexsort depth may impact performance.\n",
      "  data = spk_beh_df_all.loc[k].query('task_index==@task_index')\n",
      "/mnt/home/szheng/ceph/envs/jax/lib/python3.9/site-packages/scipy/interpolate/_interpolate.py:698: RuntimeWarning: divide by zero encountered in true_divide\n",
      "  slope = (y_hi - y_lo) / (x_hi - x_lo)[:, None]\n",
      "/tmp/ipykernel_1216702/3871266608.py:11: PerformanceWarning: indexing past lexsort depth may impact performance.\n",
      "  data = spk_beh_df_all.loc[k].query('task_index==@task_index')\n",
      "/mnt/home/szheng/ceph/envs/jax/lib/python3.9/site-packages/scipy/interpolate/_interpolate.py:698: RuntimeWarning: divide by zero encountered in true_divide\n",
      "  slope = (y_hi - y_lo) / (x_hi - x_lo)[:, None]\n",
      "/tmp/ipykernel_1216702/3871266608.py:11: PerformanceWarning: indexing past lexsort depth may impact performance.\n",
      "  data = spk_beh_df_all.loc[k].query('task_index==@task_index')\n",
      "/tmp/ipykernel_1216702/3871266608.py:11: PerformanceWarning: indexing past lexsort depth may impact performance.\n",
      "  data = spk_beh_df_all.loc[k].query('task_index==@task_index')\n",
      "/tmp/ipykernel_1216702/3871266608.py:11: PerformanceWarning: indexing past lexsort depth may impact performance.\n",
      "  data = spk_beh_df_all.loc[k].query('task_index==@task_index')\n",
      "/tmp/ipykernel_1216702/3871266608.py:11: PerformanceWarning: indexing past lexsort depth may impact performance.\n",
      "  data = spk_beh_df_all.loc[k].query('task_index==@task_index')\n"
     ]
    },
    {
     "name": "stderr",
     "output_type": "stream",
     "text": [
      "/mnt/home/szheng/ceph/envs/jax/lib/python3.9/site-packages/scipy/interpolate/_interpolate.py:698: RuntimeWarning: divide by zero encountered in true_divide\n",
      "  slope = (y_hi - y_lo) / (x_hi - x_lo)[:, None]\n",
      "/tmp/ipykernel_1216702/3871266608.py:11: PerformanceWarning: indexing past lexsort depth may impact performance.\n",
      "  data = spk_beh_df_all.loc[k].query('task_index==@task_index')\n",
      "/tmp/ipykernel_1216702/3871266608.py:11: PerformanceWarning: indexing past lexsort depth may impact performance.\n",
      "  data = spk_beh_df_all.loc[k].query('task_index==@task_index')\n",
      "/tmp/ipykernel_1216702/3871266608.py:11: PerformanceWarning: indexing past lexsort depth may impact performance.\n",
      "  data = spk_beh_df_all.loc[k].query('task_index==@task_index')\n",
      "/tmp/ipykernel_1216702/3871266608.py:11: PerformanceWarning: indexing past lexsort depth may impact performance.\n",
      "  data = spk_beh_df_all.loc[k].query('task_index==@task_index')\n",
      "/tmp/ipykernel_1216702/3871266608.py:11: PerformanceWarning: indexing past lexsort depth may impact performance.\n",
      "  data = spk_beh_df_all.loc[k].query('task_index==@task_index')\n",
      "/tmp/ipykernel_1216702/3871266608.py:11: PerformanceWarning: indexing past lexsort depth may impact performance.\n",
      "  data = spk_beh_df_all.loc[k].query('task_index==@task_index')\n",
      "/tmp/ipykernel_1216702/3871266608.py:11: PerformanceWarning: indexing past lexsort depth may impact performance.\n",
      "  data = spk_beh_df_all.loc[k].query('task_index==@task_index')\n",
      "/tmp/ipykernel_1216702/3871266608.py:11: PerformanceWarning: indexing past lexsort depth may impact performance.\n",
      "  data = spk_beh_df_all.loc[k].query('task_index==@task_index')\n",
      "/tmp/ipykernel_1216702/3871266608.py:11: PerformanceWarning: indexing past lexsort depth may impact performance.\n",
      "  data = spk_beh_df_all.loc[k].query('task_index==@task_index')\n",
      "/tmp/ipykernel_1216702/3871266608.py:11: PerformanceWarning: indexing past lexsort depth may impact performance.\n",
      "  data = spk_beh_df_all.loc[k].query('task_index==@task_index')\n",
      "/tmp/ipykernel_1216702/3871266608.py:11: PerformanceWarning: indexing past lexsort depth may impact performance.\n",
      "  data = spk_beh_df_all.loc[k].query('task_index==@task_index')\n",
      "/mnt/home/szheng/ceph/envs/jax/lib/python3.9/site-packages/scipy/interpolate/_interpolate.py:698: RuntimeWarning: divide by zero encountered in true_divide\n",
      "  slope = (y_hi - y_lo) / (x_hi - x_lo)[:, None]\n",
      "/tmp/ipykernel_1216702/3871266608.py:11: PerformanceWarning: indexing past lexsort depth may impact performance.\n",
      "  data = spk_beh_df_all.loc[k].query('task_index==@task_index')\n",
      "/mnt/home/szheng/ceph/envs/jax/lib/python3.9/site-packages/scipy/interpolate/_interpolate.py:698: RuntimeWarning: divide by zero encountered in true_divide\n",
      "  slope = (y_hi - y_lo) / (x_hi - x_lo)[:, None]\n",
      "/mnt/home/szheng/ceph/envs/jax/lib/python3.9/site-packages/scipy/interpolate/_interpolate.py:698: RuntimeWarning: divide by zero encountered in true_divide\n",
      "  slope = (y_hi - y_lo) / (x_hi - x_lo)[:, None]\n",
      "/tmp/ipykernel_1216702/3871266608.py:11: PerformanceWarning: indexing past lexsort depth may impact performance.\n",
      "  data = spk_beh_df_all.loc[k].query('task_index==@task_index')\n"
     ]
    }
   ],
   "source": [
    "# get the x y for all switches, one location counted once per trial\n",
    "from scipy.interpolate import interp1d\n",
    "\n",
    "task_index=0\n",
    "all_sw_d_all_fam = all_sw_d_all.loc[(slice(None),slice(None),task_index)]\n",
    "all_sw_gpb = all_sw_d_all_fam.groupby(level=(0,1))\n",
    "\n",
    "\n",
    "all_sw_xy_d_all = {}\n",
    "for k,all_sw_sub in all_sw_gpb:\n",
    "    data = spk_beh_df_all.loc[k].query('task_index==@task_index')\n",
    "    lin_to_xy_trial =data.groupby('trial').apply(lambda x:interp1d(x['lin_binned'].values,x[['x','y']].values,axis=0,fill_value='extrapolate'))\n",
    "    gpb =  all_sw_sub.groupby('trial_index')\n",
    "    all_sw_xy_d = {}\n",
    "    for onoff in [1,-1]:\n",
    "        all_sw_xy = []\n",
    "        for tr, val in gpb:\n",
    "            lin_one_trial = np.unique(val.query('switch==@onoff')['field_pos'].values)\n",
    "            if len(lin_one_trial)>0:\n",
    "                xy = lin_to_xy_trial.loc[tr](lin_one_trial+0.00001)\n",
    "                all_sw_xy.extend(xy)\n",
    "        all_sw_xy_d[onoff] = pd.DataFrame(np.array(all_sw_xy),columns=['x','y'])\n",
    "    all_sw_xy_d = pd.concat(all_sw_xy_d,axis=1)\n",
    "    all_sw_xy_d_all[k] =all_sw_xy_d \n",
    "all_sw_xy_d_all = pd.concat(all_sw_xy_d_all,axis=0)\n",
    "            "
   ]
  },
  {
   "cell_type": "code",
   "execution_count": 287,
   "id": "f385bd34",
   "metadata": {},
   "outputs": [],
   "source": [
    "reload(bas)\n",
    "import behavior_analysis as ba\n",
    "reload(ba)\n",
    "\n",
    "\n",
    "# get headscan positions!!!\n",
    "# only keep one per trial & position\n",
    "beh_cols = spk_beh_df_all.columns.str.isnumeric()==False\n",
    "beh_df_all = spk_beh_df_all.loc[:,beh_cols]\n",
    "\n",
    "beh_df_all_fam = beh_df_all.query('task_index==0')\n",
    "headscan_info_all=ba.get_event_start_info_all_sess(beh_df_all_fam,event_key='off_track_event',drop_multiple=True)"
   ]
  },
  {
   "cell_type": "code",
   "execution_count": 294,
   "id": "cc63295c",
   "metadata": {},
   "outputs": [
    {
     "name": "stderr",
     "output_type": "stream",
     "text": [
      "/tmp/ipykernel_1216702/2822768486.py:4: PerformanceWarning: indexing past lexsort depth may impact performance.\n",
      "  data= spk_beh_df_all.loc[ani,sess].query('task_index==@task_index')\n"
     ]
    },
    {
     "data": {
      "image/png": "[encoded data removed]",
      "text/plain": [
       "<Figure size 144x72 with 1 Axes>"
      ]
     },
     "metadata": {
      "needs_background": "light"
     },
     "output_type": "display_data"
    }
   ],
   "source": [
    "\n",
    "fig,ax=plt.subplots(figsize=(2,1))\n",
    "ani,sess = 'e13_26m1','e13_26m1_210913'\n",
    "task_index = 0\n",
    "data= spk_beh_df_all.loc[ani,sess].query('task_index==@task_index')\n",
    "# data= spk_beh_df_all.query('task_index==@task_index') # use this is slow!!\n",
    "ax.plot(data['x'].values[::10],data['y'].values[::10],c='grey',alpha=0.1)\n",
    "\n",
    "c_l = ['g','b']\n",
    "onoff_str_d = {1:'switch ON',-1:'switch OFF'}\n",
    "for onoff,c in zip([1,-1],c_l):\n",
    "    ax.scatter(all_sw_xy_d_all[onoff,'x'],all_sw_xy_d_all[onoff,'y'],marker='o',c=c,s=0.1,label=onoff_str_d[onoff])\n",
    "ax.scatter(headscan_info_all['x'],headscan_info_all['y'],marker='o',c='r',s=0.1,label='headscan')\n",
    "plt.axis('off')\n",
    "legend = ax.legend(markerscale=10,bbox_to_anchor=[1.05,1])\n",
    "\n",
    "fn = 'switch_and_headscan_on_maze_small'\n",
    "# fn_full = os.path.join(figdir,fn)\n",
    "ph.save_given_name(fig,fn,figdir,dpi=900)\n",
    "# fig.savefig(fn_full,bbox_inches='tight')"
   ]
  },
  {
   "cell_type": "markdown",
   "id": "829cf2fd",
   "metadata": {},
   "source": [
    "# quantifying ratio of switching and headscan"
   ]
  },
  {
   "cell_type": "code",
   "execution_count": 295,
   "id": "0aae5833",
   "metadata": {},
   "outputs": [],
   "source": [
    "segment_edges=np.array([0,15,74,111,185,202,222])/2.2\n",
    "# segment_names =['home','central','T','return side','return pre home','home']\n",
    "segment_names =['delay zone','central','T','return side','return pre delay zone','delay zone']\n"
   ]
  },
  {
   "cell_type": "code",
   "execution_count": 297,
   "id": "e45c89fa",
   "metadata": {},
   "outputs": [
    {
     "data": {
      "image/png": "[encoded data removed]",
      "text/plain": [
       "<Figure size 216x216 with 5 Axes>"
      ]
     },
     "metadata": {
      "needs_background": "light"
     },
     "output_type": "display_data"
    },
    {
     "data": {
      "image/png": "[encoded data removed]",
      "text/plain": [
       "<Figure size 216x216 with 5 Axes>"
      ]
     },
     "metadata": {
      "needs_background": "light"
     },
     "output_type": "display_data"
    }
   ],
   "source": [
    "from scipy.ndimage import gaussian_filter1d\n",
    "from brokenaxes import brokenaxes\n",
    "from matplotlib.gridspec import GridSpec\n",
    "lin_binned_bins = np.arange(-0.5,100.5,1.)\n",
    "\n",
    "headscan_pos = headscan_info_all['lin_binned'].values\n",
    "headscan_ct,_ = np.histogram(headscan_pos,bins=lin_binned_bins)\n",
    "headscan_ct_smth = gaussian_filter1d(headscan_ct.astype(float),1)\n",
    "sw_count_div_headscan_count_d = {}\n",
    "sw_count_per_bin_d = {}\n",
    "\n",
    "fs=10\n",
    "onoff_str_d = {1:'ON',-1:'OFF'}\n",
    "c_l = ['g','b']\n",
    "for ii,(onoff,c) in enumerate(zip([1,-1],c_l)):\n",
    "    \n",
    "    fig = plt.figure(figsize=(3,3))\n",
    "    sps_l,sps,sps_c = GridSpec(3,1,height_ratios=[2,2,0.1])\n",
    "    ax = bax = brokenaxes(ylims=((0, 50), (240, 245)), hspace=.2,subplot_spec=sps)\n",
    "    axl = fig.add_subplot(sps_l)\n",
    "    cax = fig.add_subplot(sps_c)\n",
    "    \n",
    "    pos = all_sw_d_all_fam.query('switch==@onoff')['field_pos']\n",
    "    ct,_ = np.histogram(pos,bins=lin_binned_bins)\n",
    "    ct_smth = gaussian_filter1d(ct.astype(float),1)\n",
    "    sw_count_per_bin_d[onoff] = ct\n",
    "    sw_count_div_headscan_count_d[onoff] = ct_smth / headscan_ct_smth\n",
    "\n",
    "    ax.hist(pos,bins=lin_binned_bins,color=c,alpha=0.2,label='switch')\n",
    "    ax.hist(headscan_pos,bins=lin_binned_bins,color='r',alpha=0.2,label='headscan')\n",
    "    ax.set_ylabel('Num. trials',fontsize=fs)\n",
    "    ax.axs[1].set_xlabel('Pos. bin',fontsize=fs)    \n",
    "    \n",
    "    axl.plot(sw_count_div_headscan_count_d[onoff],color='k',label='ratio')\n",
    "    axl.set_yticks(range(1,7,2))\n",
    "    axl.set_ylabel('Ratio\\nswitch / headscan',fontsize=fs)\n",
    "    axl.set_title(onoff_str_d[onoff],fontsize=fs)\n",
    "    pos1=axl.get_position()\n",
    "    axl.set_position([pos1.x0,pos1.y0+0.07,pos1.width,pos1.height])\n",
    "    \n",
    "    ax.legend(loc='upper left')\n",
    "    \n",
    "    ax=cax\n",
    "    n_segments = len(np.unique(segment_names)) # first and last the same\n",
    "    for ii,(st,ed) in enumerate(zip(segment_edges[:-1],segment_edges[1:])):    \n",
    "        ii=ii%n_segments\n",
    "        ax.axvspan(st,ed,facecolor=f'C{ii}')\n",
    "    ax.axis('off')\n",
    "    pos1=ax.get_position()\n",
    "    ax.set_position([pos1.x0,pos1.y0-0.1,pos1.width,pos1.height])\n",
    "\n",
    "    fn = f'switch_div_headscan_n_trials_vs_lin_binned_{onoff}'\n",
    "    ph.save_given_name(fig,fn,figdir)\n",
    "#     fn_full=os.path.join(figdir,fn)\n",
    "#     fig.savefig(fn_full,bbox_inches='tight')\n"
   ]
  },
  {
   "cell_type": "code",
   "execution_count": 308,
   "id": "1f652998",
   "metadata": {},
   "outputs": [
    {
     "name": "stderr",
     "output_type": "stream",
     "text": [
      "/tmp/ipykernel_1216702/1327229917.py:4: PerformanceWarning: indexing past lexsort depth may impact performance.\n",
      "  data= spk_beh_df_all.loc[ani,sess].query('task_index==@task_index')\n"
     ]
    },
    {
     "data": {
      "image/png": "[encoded data removed]",
      "text/plain": [
       "<Figure size 144x93.6 with 1 Axes>"
      ]
     },
     "metadata": {
      "needs_background": "light"
     },
     "output_type": "display_data"
    }
   ],
   "source": [
    "# maze schematic\n",
    "ani,sess = 'e13_26m1','e13_26m1_210913'\n",
    "task_index = 0\n",
    "data= spk_beh_df_all.loc[ani,sess].query('task_index==@task_index')\n",
    "# data= spk_beh_df_all.query('task_index==@task_index') # use this is slow!!\n",
    "n_segments = len(np.unique(segment_names)) # first and last the same\n",
    "fig,ax=plt.subplots(figsize=(2,1.3))\n",
    "for ii,(st,ed) in enumerate(zip(segment_edges[:-1],segment_edges[1:])):    \n",
    "    ii=ii%n_segments\n",
    "    ma = (data['lin_binned']>=st)&(data['lin_binned']<ed)\n",
    "    ax.scatter(data.loc[ma]['x'].values[::10],data.loc[ma]['y'].values[::10],c=f'C{ii}',alpha=1)\n",
    "ax.legend(segment_names[:-1],bbox_to_anchor=[1.05,1.2])\n",
    "ax.axis('off')\n",
    "\n",
    "fn = 'maze_arm_colored.svg'\n",
    "# fn_full = os.path.join(figdir,fn)\n",
    "# fig.savefig(fn_full,bbox_inches='tight')\n",
    "ph.save_given_name(fig,fn,figdir,dpi=900)"
   ]
  },
  {
   "cell_type": "markdown",
   "id": "3b9ccbd1",
   "metadata": {},
   "source": [
    "# plot headscan"
   ]
  },
  {
   "cell_type": "code",
   "execution_count": 309,
   "id": "aa8206a2",
   "metadata": {},
   "outputs": [
    {
     "name": "stdout",
     "output_type": "stream",
     "text": [
      "load *SessionPulses.Events.mat failed\n"
     ]
    }
   ],
   "source": [
    "data_dir_full = '/mnt/home/szheng/ceph/ad/roman_data/e15/e15_13f1/e15_13f1_220117/'\n",
    "# data_dir_full = db.query('owner==\"roman\"').sort_values('n_pyr_putative',ascending=False)['data_dir_full'][0] #0\n",
    "# data_dir_full = db.query('owner==\"roman\"').sort_values('n_pyr_putative',ascending=False)['data_dir_full'][19] #0\n",
    "\n",
    "# data_dir_full = db.query('sess_name==\"e15_13f1_220119\"')['data_dir_full'][0]\n",
    "# data_dir_full = db.query('sess_name==\"e15_13f1_220120\"')['data_dir_full'][0]\n",
    "# data_dir_full = db.query('sess_name==\"IZ33_580um_210315_sess9\"')['data_dir_full'][0]\n",
    "# data_dir_full = db.query('sess_name==\"e15_10m1_200727\"')['data_dir_full'][0]\n",
    "\n",
    "\n",
    "\n",
    "# load data\n",
    "mat_to_return=prep.load_stuff(data_dir_full,sessionPulses='*SessionPulses.Events.mat')\n",
    "# sessionPulses=mat_to_return['sessionPulses']\n",
    "# filtered = mat_to_return['filtered']\n",
    "behavior=mat_to_return['behavior']\n",
    "# ripples = mat_to_return['ripples']\n",
    "# cell_metrics = mat_to_return['cell_metrics']\n",
    "\n",
    "prep_res = dpp.load_spk_beh_df(data_dir_full,force_reload=False,extra_load={})\n",
    "# prep_res = dpp.load_spk_beh_df(data_dir_full,force_reload=True,extra_load=dict(sessionPulses='*SessionPulses.Events.mat',filtered='*thetaFiltered.lfp.mat'))\n",
    "spk_beh_df=prep_res['spk_beh_df']\n",
    "_,spk_beh_df = dpp.group_into_trialtype(spk_beh_df)\n",
    "# spk_beh_df,_=dpp.add_lin_binned(spk_beh_df,nbins=100)\n",
    "spk_beh_df,_=dpp.add_lin_binned(spk_beh_df,bin_size=2.2,nbins=None)\n",
    "cell_cols_d = prep_res['cell_cols_d']\n",
    "beh_df = prep_res['beh_df']\n",
    "beh_df_d,beh_df=dpp.group_into_trialtype(beh_df)\n",
    "spike_trains = prep_res['spike_trains']\n"
   ]
  },
  {
   "cell_type": "code",
   "execution_count": 310,
   "id": "dbfebcad",
   "metadata": {},
   "outputs": [
    {
     "name": "stderr",
     "output_type": "stream",
     "text": [
      "/mnt/home/szheng/ceph/envs/jax/lib/python3.9/site-packages/scipy/interpolate/_interpolate.py:698: RuntimeWarning: divide by zero encountered in true_divide\n",
      "  slope = (y_hi - y_lo) / (x_hi - x_lo)[:, None]\n",
      "/mnt/home/szheng/ceph/envs/jax/lib/python3.9/site-packages/scipy/interpolate/_interpolate.py:698: RuntimeWarning: divide by zero encountered in true_divide\n",
      "  slope = (y_hi - y_lo) / (x_hi - x_lo)[:, None]\n",
      "/mnt/home/szheng/ceph/envs/jax/lib/python3.9/site-packages/scipy/interpolate/_interpolate.py:698: RuntimeWarning: divide by zero encountered in true_divide\n",
      "  slope = (y_hi - y_lo) / (x_hi - x_lo)[:, None]\n",
      "/mnt/home/szheng/ceph/envs/jax/lib/python3.9/site-packages/scipy/interpolate/_interpolate.py:698: RuntimeWarning: divide by zero encountered in true_divide\n",
      "  slope = (y_hi - y_lo) / (x_hi - x_lo)[:, None]\n"
     ]
    }
   ],
   "source": [
    "reload(dpp)\n",
    "beh_df=dpp.get_multi_maze_behavior_df(behavior)\n",
    "beh_df = beh_df.reset_index()"
   ]
  },
  {
   "cell_type": "code",
   "execution_count": 311,
   "id": "51fcb813",
   "metadata": {},
   "outputs": [
    {
     "name": "stderr",
     "output_type": "stream",
     "text": [
      "/mnt/home/szheng/ceph/envs/jax/lib/python3.9/site-packages/scipy/interpolate/_interpolate.py:698: RuntimeWarning: divide by zero encountered in true_divide\n",
      "  slope = (y_hi - y_lo) / (x_hi - x_lo)[:, None]\n",
      "/mnt/home/szheng/ceph/envs/jax/lib/python3.9/site-packages/scipy/interpolate/_interpolate.py:698: RuntimeWarning: divide by zero encountered in true_divide\n",
      "  slope = (y_hi - y_lo) / (x_hi - x_lo)[:, None]\n"
     ]
    }
   ],
   "source": [
    "import behavior_analysis as ba\n",
    "reload(ba)\n",
    "beh_df = ba.detect_offtrack_event(beh_df,find_turns_kws={},off_track_thresh = 4.,\n",
    "            on_track_thresh = 1,edges_merge_time=0.4,st_ed_dist_thresh = 20.)\n",
    "\n",
    "\n",
    "beh_df = ba.detect_speed_related_event(beh_df,exclude_key_l=['off_track_event'],\n",
    "                        speed_key='speed_gauss',speed_thresh=1.,\n",
    "                        compare_type='<=',\n",
    "                        edges_merge_time = None,\n",
    "                        event_key = 'pause_event',\n",
    "                        )\n",
    "\n",
    "beh_df = ba.detect_speed_related_event(beh_df,exclude_key_l=['off_track_event','pause_event'],\n",
    "                        speed_key='v_gauss',speed_thresh=1.,\n",
    "                        compare_type='>',\n",
    "                        edges_merge_time = None,\n",
    "                        event_key = 'directed_locomotion',\n",
    "                        )\n",
    "\n",
    "beh_df = ba.detect_speed_related_event(beh_df,exclude_key_l=['off_track_event','pause_event','directed_locomotion'],\n",
    "                        speed_key='speed_gauss',speed_thresh=[1,5],\n",
    "                        compare_type='between',\n",
    "                        edges_merge_time = None,\n",
    "                        event_key = 'low_speed',\n",
    "                        )"
   ]
  },
  {
   "cell_type": "code",
   "execution_count": 324,
   "id": "9f91cb48",
   "metadata": {},
   "outputs": [
    {
     "data": {
      "image/png": "[encoded data removed]",
      "text/plain": [
       "<Figure size 144x72 with 2 Axes>"
      ]
     },
     "metadata": {
      "needs_background": "light"
     },
     "output_type": "display_data"
    }
   ],
   "source": [
    "import behavior_analysis as ba\n",
    "reload(ba)\n",
    "beh_df_sub = beh_df.query('task_index==0')\n",
    "# ax = axs.ravel()[ii]\n",
    "tr=6\n",
    "one_chunk = beh_df_sub.query('trial==@tr')\n",
    "# colors =  one_chunk['pause_event'].astype(int) * 1 + one_chunk['low_speed'].astype(int) * 2 +  \\\n",
    "#         one_chunk['directed_locomotion'].astype(int) * 3 + one_chunk['off_track_event'].astype(int)  * 4\n",
    "\n",
    "colors = one_chunk['directed_locomotion'].astype(int) * 1 + one_chunk['off_track_event'].astype(int)  * 2\n",
    "\n",
    "\n",
    "fig,ax,cbar=ba.plot_one_headscan(beh_df_sub,one_chunk,colors=colors,cmin=0,cmax=2,color_discrete=True,\n",
    "                        cbar_tick_labels=['','other','forward locomotion','headscan'],fig=None,ax=None,\n",
    "                                 figsize=(2,1)\n",
    "                       )\n",
    "cbar.ax.tick_params(labelsize=10)\n",
    "ax.axis('off')\n",
    "figfn = 'headscan_schematic'\n",
    "ph.save_given_name(fig,figfn,figdir=figdir,dpi=900)"
   ]
  },
  {
   "cell_type": "code",
   "execution_count": null,
   "id": "f9cf75d5",
   "metadata": {},
   "outputs": [],
   "source": []
  }
 ],
 "metadata": {
  "kernelspec": {
   "display_name": "jax",
   "language": "python",
   "name": "jax"
  },
  "language_info": {
   "codemirror_mode": {
    "name": "ipython",
    "version": 3
   },
   "file_extension": ".py",
   "mimetype": "text/x-python",
   "name": "python",
   "nbconvert_exporter": "python",
   "pygments_lexer": "ipython3",
   "version": "3.9.16"
  }
 },
 "nbformat": 4,
 "nbformat_minor": 5
}
