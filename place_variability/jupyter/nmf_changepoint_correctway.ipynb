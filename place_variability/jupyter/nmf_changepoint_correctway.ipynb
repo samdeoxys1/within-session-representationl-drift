{
 "cells": [
  {
   "cell_type": "code",
   "execution_count": 1,
   "id": "aa0ddd7a",
   "metadata": {},
   "outputs": [],
   "source": [
    "import sys,os,pickle,pdb,copy,itertools\n",
    "import numpy as np\n",
    "import pandas as pd\n",
    "import matplotlib.pyplot as plt\n",
    "import ruptures as rpt\n",
    "import scipy\n",
    "import sklearn\n",
    "\n",
    "from sklearn.decomposition import NMF"
   ]
  },
  {
   "cell_type": "code",
   "execution_count": 305,
   "id": "f605d332",
   "metadata": {
    "scrolled": true
   },
   "outputs": [
    {
     "data": {
      "text/plain": [
       "[array([[6.75837195],\n",
       "        [6.83849138],\n",
       "        [6.82084289],\n",
       "        [6.86306357],\n",
       "        [6.8259491 ],\n",
       "        [6.7247538 ],\n",
       "        [6.76071678],\n",
       "        [6.66642076],\n",
       "        [6.88494615],\n",
       "        [7.10140578],\n",
       "        [6.59080386],\n",
       "        [6.80260274],\n",
       "        [6.64421445],\n",
       "        [6.76169527],\n",
       "        [7.98613017],\n",
       "        [8.23874393],\n",
       "        [8.09250257],\n",
       "        [8.13378203],\n",
       "        [8.33517624],\n",
       "        [8.08318563],\n",
       "        [8.05522572],\n",
       "        [8.27686921],\n",
       "        [8.10684254],\n",
       "        [7.95037876],\n",
       "        [8.01730752],\n",
       "        [7.9860687 ],\n",
       "        [8.00300318],\n",
       "        [8.11859099],\n",
       "        [8.15409074],\n",
       "        [8.03908362]]),\n",
       " array([[3.43215043],\n",
       "        [3.26446574],\n",
       "        [3.28601461],\n",
       "        [3.35643068],\n",
       "        [3.29963902],\n",
       "        [3.31150314],\n",
       "        [3.30736266],\n",
       "        [3.32702586],\n",
       "        [3.13991577],\n",
       "        [3.24465796],\n",
       "        [3.52058858],\n",
       "        [3.25430995],\n",
       "        [3.26072163],\n",
       "        [3.31423109],\n",
       "        [5.72918499],\n",
       "        [5.61697816],\n",
       "        [5.52451978],\n",
       "        [5.82190869],\n",
       "        [5.6679996 ],\n",
       "        [5.55741712],\n",
       "        [5.59041859],\n",
       "        [5.57354105],\n",
       "        [5.74004941],\n",
       "        [5.758076  ],\n",
       "        [5.61728389],\n",
       "        [5.75160738],\n",
       "        [5.78041343],\n",
       "        [5.89324093],\n",
       "        [5.80588477],\n",
       "        [5.68969506]])]"
      ]
     },
     "execution_count": 305,
     "metadata": {},
     "output_type": "execute_result"
    }
   ],
   "source": [
    "signal_l"
   ]
  },
  {
   "cell_type": "code",
   "execution_count": null,
   "id": "be80df62",
   "metadata": {},
   "outputs": [],
   "source": []
  },
  {
   "cell_type": "code",
   "execution_count": 311,
   "id": "021cd98e",
   "metadata": {},
   "outputs": [
    {
     "data": {
      "text/plain": [
       "(30, 2, 1)"
      ]
     },
     "execution_count": 311,
     "metadata": {},
     "output_type": "execute_result"
    }
   ],
   "source": [
    "signal.shape"
   ]
  },
  {
   "cell_type": "code",
   "execution_count": 14,
   "id": "b5a78eb2",
   "metadata": {},
   "outputs": [
    {
     "data": {
      "image/png": "[encoded data removed]",
      "text/plain": [
       "<Figure size 720x288 with 2 Axes>"
      ]
     },
     "metadata": {
      "needs_background": "light"
     },
     "output_type": "display_data"
    }
   ],
   "source": [
    "n = 30\n",
    "dim = 2\n",
    "sigma = 1\n",
    "n_bkps=1\n",
    "signal_l=[]\n",
    "for d in range(dim):\n",
    "    signal,bkps = rpt.pw_constant(n,1,n_bkps,noise_std=sigma,seed=d+20)\n",
    "    signal = np.abs(signal)\n",
    "    signal_l.append(signal)\n",
    "signal = np.concatenate(signal_l,axis=1)\n",
    "signal[5:,1] = 1\n",
    "h_true = signal.T\n",
    "rpt.display(signal,bkps)\n",
    "\n",
    "n_neurons = 50\n",
    "w_true = np.abs(np.random.normal(size=(n_neurons,2)))\n",
    "# w_true[:int(n_neurons//2),0] = w_true[:int(n_neurons//2),0]*2\n",
    "# w_true[int(n_neurons//2):,1] = w_true[int(n_neurons//2):,1]+1\n",
    "r1 = w_true.dot(h_true)\n",
    "X=copy.copy(r1)\n"
   ]
  },
  {
   "cell_type": "code",
   "execution_count": 7,
   "id": "05d54b01",
   "metadata": {},
   "outputs": [],
   "source": [
    "from ruptures.base import BaseCost"
   ]
  },
  {
   "cell_type": "code",
   "execution_count": 121,
   "id": "8f0a7158",
   "metadata": {},
   "outputs": [
    {
     "data": {
      "text/plain": [
       "<module 'nmf_cpd' from '/mnt/home/szheng/projects/place_variability/../nmf_analysis/nmf_cpd.py'>"
      ]
     },
     "execution_count": 121,
     "metadata": {},
     "output_type": "execute_result"
    }
   ],
   "source": [
    "sys.path.append('../nmf_analysis')\n",
    "import nmf_cpd as nc\n",
    "from importlib import reload\n",
    "reload(nc)"
   ]
  },
  {
   "cell_type": "code",
   "execution_count": 126,
   "id": "a4f053b3",
   "metadata": {
    "scrolled": true
   },
   "outputs": [],
   "source": [
    "# w_init,h_init = nc.random_init(X,2)\n",
    "w_init,h_init=None,None\n",
    "wfit,hfit,bkps_l,err_tot_l=nc.nmf_pwc_h_fit(X,2,n_bkps=2,max_iters_outer=100,max_iters_rank1=4,tol=1e-5,w_init=w_init,h_init=h_init)\n",
    "\n"
   ]
  },
  {
   "cell_type": "code",
   "execution_count": 127,
   "id": "d84987b4",
   "metadata": {
    "scrolled": true
   },
   "outputs": [
    {
     "data": {
      "text/plain": [
       "[1111.9745154771285,\n",
       " 1064.600482932338,\n",
       " 1059.0812789970269,\n",
       " 1057.730197068644,\n",
       " 1057.4045746892987,\n",
       " 1057.3256809917261,\n",
       " 1057.305491538311,\n",
       " 1057.299233400984]"
      ]
     },
     "execution_count": 127,
     "metadata": {},
     "output_type": "execute_result"
    }
   ],
   "source": [
    "err_tot_l"
   ]
  },
  {
   "cell_type": "code",
   "execution_count": 112,
   "id": "2fd35b52",
   "metadata": {
    "collapsed": true
   },
   "outputs": [
    {
     "data": {
      "text/plain": [
       "[1509.645436424996,\n",
       " 1494.4650328579871,\n",
       " 1491.082035316557,\n",
       " 1490.1972929531414,\n",
       " 1489.9594203673846,\n",
       " 1489.8867485661283,\n",
       " 1489.8562105716696,\n",
       " 1489.8367200135165,\n",
       " 1489.820464860939,\n",
       " 1489.8054760779219,\n",
       " 1489.7912447391495]"
      ]
     },
     "execution_count": 112,
     "metadata": {},
     "output_type": "execute_result"
    }
   ],
   "source": [
    "err_tot_l"
   ]
  },
  {
   "cell_type": "code",
   "execution_count": 107,
   "id": "0ca83dcd",
   "metadata": {},
   "outputs": [],
   "source": [
    "w_ = wfit\n",
    "h_ = hfit\n",
    "c= 1\n",
    "r1 = nc.leave_one_out_residual(X,w_,h_,c)\n",
    "w1 = w_[:,[c]]\n",
    "h1 = h_[[c],:]\n",
    "# w1,h1,bkps,err_l=nc.rank1_pwc_h_fit(r1, n_bkps=1, w_init=w1, h_init=h1,tol=1e-10,max_iters=1)"
   ]
  },
  {
   "cell_type": "code",
   "execution_count": 44,
   "id": "603fa01c",
   "metadata": {},
   "outputs": [
    {
     "data": {
      "text/plain": [
       "(array([[5.65982915, 5.65982915, 5.65982915, 5.65982915, 5.65982915,\n",
       "         5.65982915, 5.65982915, 5.65982915, 5.65982915, 5.65982915,\n",
       "         5.65982915, 5.65982915, 5.65982915, 5.65982915, 5.65982915,\n",
       "         5.65982915, 5.65982915, 5.65982915, 5.65982915, 5.65982915,\n",
       "         5.65982915, 5.65982915, 5.65982915, 5.65982915, 5.65982915,\n",
       "         5.65982915, 5.65982915, 5.65982915, 6.02561139, 6.02561139]]),\n",
       " array([ 0, 28, 30]))"
      ]
     },
     "execution_count": 44,
     "metadata": {},
     "output_type": "execute_result"
    }
   ],
   "source": [
    "h1=nc.rank1_pwc_h_update_h_full(r1,w1,n_bkps)\n",
    "h1"
   ]
  },
  {
   "cell_type": "code",
   "execution_count": 46,
   "id": "1d2d6e9a",
   "metadata": {},
   "outputs": [],
   "source": [
    "algo = rpt.Dynp(model=\"\", min_size=2, jump=1,custom_cost=nc.nmf_cost(w1)).fit((r1.T))\n",
    "my_bkps = algo.predict(n_bkps=n_bkps)\n",
    "bkps = np.insert(my_bkps,0,0)\n",
    "# h1 = rank1_pwc_h_update_h_given_bkps(r1,w1,bkps)"
   ]
  },
  {
   "cell_type": "code",
   "execution_count": 54,
   "id": "80d88b38",
   "metadata": {},
   "outputs": [
    {
     "data": {
      "text/plain": [
       "52.27000291828544"
      ]
     },
     "execution_count": 54,
     "metadata": {},
     "output_type": "execute_result"
    }
   ],
   "source": [
    "algo.cost.error(0,28)+algo.cost.error(28,30)"
   ]
  },
  {
   "cell_type": "code",
   "execution_count": 56,
   "id": "da6abab5",
   "metadata": {},
   "outputs": [
    {
     "data": {
      "text/plain": [
       "58.90375928684584"
      ]
     },
     "execution_count": 56,
     "metadata": {},
     "output_type": "execute_result"
    }
   ],
   "source": [
    "algo.cost.error(0,14)+algo.cost.error(14,30)"
   ]
  },
  {
   "cell_type": "code",
   "execution_count": 58,
   "id": "8199277f",
   "metadata": {},
   "outputs": [
    {
     "data": {
      "text/plain": [
       "array([ 0, 14, 30])"
      ]
     },
     "execution_count": 58,
     "metadata": {},
     "output_type": "execute_result"
    }
   ],
   "source": [
    "algo = rpt.Dynp(model=\"l2\", min_size=2, jump=1).fit(h_true[0,:])\n",
    "my_bkps = algo.predict(n_bkps=n_bkps)\n",
    "bkps = np.insert(my_bkps,0,0)\n",
    "bkps\n",
    "# h1 = rank1_pwc_h_update_h_given_bkps(r1,w1,bkps)"
   ]
  },
  {
   "cell_type": "code",
   "execution_count": 59,
   "id": "8e6e4b44",
   "metadata": {},
   "outputs": [
    {
     "data": {
      "text/plain": [
       "array([ 0, 14, 30])"
      ]
     },
     "execution_count": 59,
     "metadata": {},
     "output_type": "execute_result"
    }
   ],
   "source": [
    "algo = rpt.Dynp(model=\"l2\", min_size=2, jump=1).fit(r1.T)\n",
    "my_bkps = algo.predict(n_bkps=n_bkps)\n",
    "bkps = np.insert(my_bkps,0,0)\n",
    "bkps\n",
    "# h1 = rank1_pwc_h_update_h_given_bkps(r1,w1,bkps)"
   ]
  },
  {
   "cell_type": "code",
   "execution_count": 60,
   "id": "575a5ae8",
   "metadata": {},
   "outputs": [
    {
     "data": {
      "text/plain": [
       "1730.5533638409754"
      ]
     },
     "execution_count": 60,
     "metadata": {},
     "output_type": "execute_result"
    }
   ],
   "source": [
    "algo.cost.error(0,14)+algo.cost.error(14,30)"
   ]
  },
  {
   "cell_type": "code",
   "execution_count": 64,
   "id": "6773ae92",
   "metadata": {},
   "outputs": [
    {
     "data": {
      "text/plain": [
       "25.98572111298793"
      ]
     },
     "execution_count": 64,
     "metadata": {},
     "output_type": "execute_result"
    }
   ],
   "source": [
    "h_true[0][:14].var()*len(h_true[0][:14])+h_true[0][14:].var()*len(h_true[0][14:])"
   ]
  },
  {
   "cell_type": "code",
   "execution_count": 65,
   "id": "fc11531f",
   "metadata": {},
   "outputs": [
    {
     "data": {
      "text/plain": [
       "59.86280336206858"
      ]
     },
     "execution_count": 65,
     "metadata": {},
     "output_type": "execute_result"
    }
   ],
   "source": [
    "c=28\n",
    "h_true[0][:c].var()*len(h_true[0][:c])+h_true[0][c:].var()*len(h_true[0][c:])"
   ]
  },
  {
   "cell_type": "code",
   "execution_count": 88,
   "id": "fd7793d0",
   "metadata": {},
   "outputs": [
    {
     "data": {
      "text/plain": [
       "67.43840556990327"
      ]
     },
     "execution_count": 88,
     "metadata": {},
     "output_type": "execute_result"
    }
   ],
   "source": [
    "c=14\n",
    "np.linalg.norm(r1[:,:c]-h_true[0][:c].mean()*wfit[:,[1]]) + np.linalg.norm(r1[:,c:]-h_true[0][c:].mean()*wfit[:,[1]])"
   ]
  },
  {
   "cell_type": "code",
   "execution_count": 94,
   "id": "29caca05",
   "metadata": {},
   "outputs": [
    {
     "data": {
      "text/plain": [
       "41.65406121624464"
      ]
     },
     "execution_count": 94,
     "metadata": {},
     "output_type": "execute_result"
    }
   ],
   "source": [
    "h_updated=np.concatenate([nc.rank1_constant_h_update_h(r1[:,:c],wfit[:,[1]]),nc.rank1_constant_h_update_h(r1[:,c:],wfit[:,[1]])],axis=1)\n",
    "np.linalg.norm(r1-wfit[:,[1]].dot(h_updated))"
   ]
  },
  {
   "cell_type": "code",
   "execution_count": 95,
   "id": "8a38d0cf",
   "metadata": {},
   "outputs": [
    {
     "data": {
      "text/plain": [
       "58.90375928684584"
      ]
     },
     "execution_count": 95,
     "metadata": {},
     "output_type": "execute_result"
    }
   ],
   "source": [
    "np.linalg.norm(r1[:,:c]-wfit[:,[1]].dot(h_updated[:,:c])) + np.linalg.norm(r1[:,c:]-wfit[:,[1]].dot(h_updated[:,c:]))\n",
    "\n"
   ]
  },
  {
   "cell_type": "code",
   "execution_count": null,
   "id": "bfb97326",
   "metadata": {},
   "outputs": [],
   "source": []
  },
  {
   "cell_type": "code",
   "execution_count": 128,
   "id": "8aea9b07",
   "metadata": {
    "scrolled": true
   },
   "outputs": [
    {
     "data": {
      "text/plain": [
       "[<matplotlib.lines.Line2D at 0x1554f3c48340>,\n",
       " <matplotlib.lines.Line2D at 0x1554f3c483a0>]"
      ]
     },
     "execution_count": 128,
     "metadata": {},
     "output_type": "execute_result"
    },
    {
     "data": {
      "image/png": "[encoded data removed]",
      "text/plain": [
       "<Figure size 432x288 with 4 Axes>"
      ]
     },
     "metadata": {
      "needs_background": "light"
     },
     "output_type": "display_data"
    }
   ],
   "source": [
    "fig,axs=plt.subplots(2,2)\n",
    "axs[0,0].plot(wfit)\n",
    "axs[0,1].plot(hfit.T)\n",
    "\n",
    "axs[1,0].plot(w_true)\n",
    "axs[1,1].plot(h_true.T)"
   ]
  },
  {
   "cell_type": "code",
   "execution_count": 125,
   "id": "8d36abb9",
   "metadata": {},
   "outputs": [
    {
     "data": {
      "text/plain": [
       "<matplotlib.image.AxesImage at 0x1554f3dd8370>"
      ]
     },
     "execution_count": 125,
     "metadata": {},
     "output_type": "execute_result"
    },
    {
     "data": {
      "image/png": "[encoded data removed]",
      "text/plain": [
       "<Figure size 432x288 with 2 Axes>"
      ]
     },
     "metadata": {
      "needs_background": "light"
     },
     "output_type": "display_data"
    }
   ],
   "source": [
    "fig,axs=plt.subplots(1,2)\n",
    "axs[0].imshow(wfit.dot(hfit))\n",
    "axs[1].imshow(X)"
   ]
  },
  {
   "cell_type": "code",
   "execution_count": null,
   "id": "528c5d2a",
   "metadata": {},
   "outputs": [],
   "source": []
  }
 ],
 "metadata": {
  "kernelspec": {
   "display_name": "jax",
   "language": "python",
   "name": "jax"
  },
  "language_info": {
   "codemirror_mode": {
    "name": "ipython",
    "version": 3
   },
   "file_extension": ".py",
   "mimetype": "text/x-python",
   "name": "python",
   "nbconvert_exporter": "python",
   "pygments_lexer": "ipython3",
   "version": "3.9.13"
  }
 },
 "nbformat": 4,
 "nbformat_minor": 5
}
